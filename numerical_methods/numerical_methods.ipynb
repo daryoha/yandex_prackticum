{
 "cells": [
  {
   "cell_type": "markdown",
   "metadata": {},
   "source": [
    "<div style=\"border:solid Chocolate 2px; padding: 40px\">\n",
    "\n",
    "<b>Дарья, привет!👋</b>\n",
    "\n",
    "Меня зовут Сайдаш Мифтахов, я буду ревьюером твоего проекта. Ты можешь обращаться ко мне на \"ты\"😏 Надеюсь, тебя также не смутит, если я буду обращаться к тебе на \"ты\", но если это неудобно, обязательно скажи об этом!\n",
    "\n",
    "Я вижу, что ты проделал большую работу, она выполнена на хорошем уровне 😊 Давай улучшим ее, пройдя классическую процедуру ревью. Как это будет устроено:\n",
    "- Увидев у тебя неточность, в первый раз я лишь укажу на ее наличие и дам тебе возможность самому найти и исправить ее. \n",
    "- При этом, я буду оставлять советы и подсказки по необходимости, ведь моя цель - помочь тебе успешно завершить проект  \n",
    "- На реальной работе твой руководитель будет поступать также, и я пытаюсь подготовить тебя именно к работе датасаентистом.🤓\n",
    "\n",
    "    \n",
    "При проверке работ я делаю комментарии, обозначенные <font color='green'>зеленым</font>, <font color='gold'>желтым</font> и <font color='red'>красным</font> цветами, например:\n",
    "\n",
    "<div class=\"alert alert-success\">\n",
    "<b>✅ Комментарий ревьюера </b> <a class=\"tocSkip\"> </a>\n",
    "\n",
    "<b>Все отлично!👍:</b> \n",
    "В случае, если решение на отдельном шаге является полностью правильным.\n",
    "</div>\n",
    "\n",
    "<div class=\"alert alert-warning\">\n",
    "<b>🔁 Комментарий ревьюера </b> <a class=\"tocSkip\"> </a>\n",
    "    \n",
    "<b>Некоторые замечания и рекомендации💡:</b> В случае, когда решение на отдельном шаге станет еще лучше, если внести небольшие коррективы.\n",
    "</div>\n",
    "\n",
    "<div class=\"alert alert-block alert-danger\">\n",
    "<b>❌ Комментарий ревьюера </b> <a class=\"tocSkip\"> </a>\n",
    "    \n",
    "<b>На доработку🤔:</b>\n",
    " В случае, когда решение на отдельном шаге требует существенной переработки и внесения правок. Напоминаю, что проект не может быть принят с первого раза, если ревью содержит комментарии, рекомендующие доработать шаги.\n",
    "</div>\n",
    "\n",
    "Пожалуйста, не удаляй мои комментарии, они будут особенно полезны для нашей работы в случае повторной проверки проекта. \n",
    "\n",
    "Ты также можешь реагировать на мои комментарии своими, выделяя их синим (или другими цветами) и наиболее понравившимся тебе способом оформления, но явно  отличающимся от моих комментариев. Это нужно, чтобы не создавалась путаница😉 \n",
    "    \n",
    "Можешь использовать следующий шаблон:"
   ]
  },
  {
   "cell_type": "markdown",
   "metadata": {},
   "source": [
    "<div class=\"alert alert-info\"> \n",
    "<b>ℹ️ Комментарий студента: </b> \n",
    "    \n",
    "Пример комментария. \n",
    "</div>"
   ]
  },
  {
   "cell_type": "markdown",
   "metadata": {},
   "source": [
    "# Определение стоимости автомобилей"
   ]
  },
  {
   "cell_type": "code",
   "execution_count": null,
   "metadata": {},
   "outputs": [],
   "source": []
  },
  {
   "cell_type": "markdown",
   "metadata": {},
   "source": [
    "Сервис по продаже автомобилей с пробегом «Не бит, не крашен» разрабатывает приложение для привлечения новых клиентов. В нём можно быстро узнать рыночную стоимость своего автомобиля. В вашем распоряжении исторические данные: технические характеристики, комплектации и цены автомобилей. Вам нужно построить модель для определения стоимости. \n",
    "\n",
    "Заказчику важны:\n",
    "\n",
    "- качество предсказания;\n",
    "- скорость предсказания;\n",
    "- время обучения."
   ]
  },
  {
   "cell_type": "markdown",
   "metadata": {},
   "source": [
    "<div class=\"alert alert-success\">\n",
    "<b>✅ Комментарий ревьюера </b> <a class=\"tocSkip\"> </a>\n",
    "👍 Лаконичное введение!\n",
    "</div>"
   ]
  },
  {
   "cell_type": "markdown",
   "metadata": {},
   "source": [
    "## Подготовка данных"
   ]
  },
  {
   "cell_type": "code",
   "execution_count": 1,
   "metadata": {},
   "outputs": [],
   "source": [
    "# импортирование библиотек\n",
    "import pandas as pd\n",
    "import matplotlib.pyplot as plt\n",
    "\n",
    "import time\n",
    "\n",
    "from lightgbm import LGBMRegressor\n",
    "from lightgbm import LGBMModel\n",
    "\n",
    "from sklearn.ensemble import RandomForestRegressor\n",
    "from sklearn.linear_model import LinearRegression\n",
    "from sklearn.metrics import mean_squared_error\n",
    "from sklearn.model_selection import train_test_split\n",
    "from sklearn.tree import DecisionTreeRegressor"
   ]
  },
  {
   "cell_type": "markdown",
   "metadata": {},
   "source": [
    "<div class=\"alert alert-success\">\n",
    "<b>✅ Комментарий ревьюера </b> <a class=\"tocSkip\"> </a>\n",
    "\n",
    "👍\n",
    "</div>"
   ]
  },
  {
   "cell_type": "code",
   "execution_count": 2,
   "metadata": {
    "scrolled": true
   },
   "outputs": [
    {
     "data": {
      "text/html": [
       "<div>\n",
       "<style scoped>\n",
       "    .dataframe tbody tr th:only-of-type {\n",
       "        vertical-align: middle;\n",
       "    }\n",
       "\n",
       "    .dataframe tbody tr th {\n",
       "        vertical-align: top;\n",
       "    }\n",
       "\n",
       "    .dataframe thead th {\n",
       "        text-align: right;\n",
       "    }\n",
       "</style>\n",
       "<table border=\"1\" class=\"dataframe\">\n",
       "  <thead>\n",
       "    <tr style=\"text-align: right;\">\n",
       "      <th></th>\n",
       "      <th>DateCrawled</th>\n",
       "      <th>Price</th>\n",
       "      <th>VehicleType</th>\n",
       "      <th>RegistrationYear</th>\n",
       "      <th>Gearbox</th>\n",
       "      <th>Power</th>\n",
       "      <th>Model</th>\n",
       "      <th>Kilometer</th>\n",
       "      <th>RegistrationMonth</th>\n",
       "      <th>FuelType</th>\n",
       "      <th>Brand</th>\n",
       "      <th>NotRepaired</th>\n",
       "      <th>DateCreated</th>\n",
       "      <th>NumberOfPictures</th>\n",
       "      <th>PostalCode</th>\n",
       "      <th>LastSeen</th>\n",
       "    </tr>\n",
       "  </thead>\n",
       "  <tbody>\n",
       "    <tr>\n",
       "      <th>0</th>\n",
       "      <td>2016-03-24 11:52:17</td>\n",
       "      <td>480</td>\n",
       "      <td>NaN</td>\n",
       "      <td>1993</td>\n",
       "      <td>manual</td>\n",
       "      <td>0</td>\n",
       "      <td>golf</td>\n",
       "      <td>150000</td>\n",
       "      <td>0</td>\n",
       "      <td>petrol</td>\n",
       "      <td>volkswagen</td>\n",
       "      <td>NaN</td>\n",
       "      <td>2016-03-24 00:00:00</td>\n",
       "      <td>0</td>\n",
       "      <td>70435</td>\n",
       "      <td>2016-04-07 03:16:57</td>\n",
       "    </tr>\n",
       "    <tr>\n",
       "      <th>1</th>\n",
       "      <td>2016-03-24 10:58:45</td>\n",
       "      <td>18300</td>\n",
       "      <td>coupe</td>\n",
       "      <td>2011</td>\n",
       "      <td>manual</td>\n",
       "      <td>190</td>\n",
       "      <td>NaN</td>\n",
       "      <td>125000</td>\n",
       "      <td>5</td>\n",
       "      <td>gasoline</td>\n",
       "      <td>audi</td>\n",
       "      <td>yes</td>\n",
       "      <td>2016-03-24 00:00:00</td>\n",
       "      <td>0</td>\n",
       "      <td>66954</td>\n",
       "      <td>2016-04-07 01:46:50</td>\n",
       "    </tr>\n",
       "    <tr>\n",
       "      <th>2</th>\n",
       "      <td>2016-03-14 12:52:21</td>\n",
       "      <td>9800</td>\n",
       "      <td>suv</td>\n",
       "      <td>2004</td>\n",
       "      <td>auto</td>\n",
       "      <td>163</td>\n",
       "      <td>grand</td>\n",
       "      <td>125000</td>\n",
       "      <td>8</td>\n",
       "      <td>gasoline</td>\n",
       "      <td>jeep</td>\n",
       "      <td>NaN</td>\n",
       "      <td>2016-03-14 00:00:00</td>\n",
       "      <td>0</td>\n",
       "      <td>90480</td>\n",
       "      <td>2016-04-05 12:47:46</td>\n",
       "    </tr>\n",
       "    <tr>\n",
       "      <th>3</th>\n",
       "      <td>2016-03-17 16:54:04</td>\n",
       "      <td>1500</td>\n",
       "      <td>small</td>\n",
       "      <td>2001</td>\n",
       "      <td>manual</td>\n",
       "      <td>75</td>\n",
       "      <td>golf</td>\n",
       "      <td>150000</td>\n",
       "      <td>6</td>\n",
       "      <td>petrol</td>\n",
       "      <td>volkswagen</td>\n",
       "      <td>no</td>\n",
       "      <td>2016-03-17 00:00:00</td>\n",
       "      <td>0</td>\n",
       "      <td>91074</td>\n",
       "      <td>2016-03-17 17:40:17</td>\n",
       "    </tr>\n",
       "    <tr>\n",
       "      <th>4</th>\n",
       "      <td>2016-03-31 17:25:20</td>\n",
       "      <td>3600</td>\n",
       "      <td>small</td>\n",
       "      <td>2008</td>\n",
       "      <td>manual</td>\n",
       "      <td>69</td>\n",
       "      <td>fabia</td>\n",
       "      <td>90000</td>\n",
       "      <td>7</td>\n",
       "      <td>gasoline</td>\n",
       "      <td>skoda</td>\n",
       "      <td>no</td>\n",
       "      <td>2016-03-31 00:00:00</td>\n",
       "      <td>0</td>\n",
       "      <td>60437</td>\n",
       "      <td>2016-04-06 10:17:21</td>\n",
       "    </tr>\n",
       "    <tr>\n",
       "      <th>5</th>\n",
       "      <td>2016-04-04 17:36:23</td>\n",
       "      <td>650</td>\n",
       "      <td>sedan</td>\n",
       "      <td>1995</td>\n",
       "      <td>manual</td>\n",
       "      <td>102</td>\n",
       "      <td>3er</td>\n",
       "      <td>150000</td>\n",
       "      <td>10</td>\n",
       "      <td>petrol</td>\n",
       "      <td>bmw</td>\n",
       "      <td>yes</td>\n",
       "      <td>2016-04-04 00:00:00</td>\n",
       "      <td>0</td>\n",
       "      <td>33775</td>\n",
       "      <td>2016-04-06 19:17:07</td>\n",
       "    </tr>\n",
       "    <tr>\n",
       "      <th>6</th>\n",
       "      <td>2016-04-01 20:48:51</td>\n",
       "      <td>2200</td>\n",
       "      <td>convertible</td>\n",
       "      <td>2004</td>\n",
       "      <td>manual</td>\n",
       "      <td>109</td>\n",
       "      <td>2_reihe</td>\n",
       "      <td>150000</td>\n",
       "      <td>8</td>\n",
       "      <td>petrol</td>\n",
       "      <td>peugeot</td>\n",
       "      <td>no</td>\n",
       "      <td>2016-04-01 00:00:00</td>\n",
       "      <td>0</td>\n",
       "      <td>67112</td>\n",
       "      <td>2016-04-05 18:18:39</td>\n",
       "    </tr>\n",
       "    <tr>\n",
       "      <th>7</th>\n",
       "      <td>2016-03-21 18:54:38</td>\n",
       "      <td>0</td>\n",
       "      <td>sedan</td>\n",
       "      <td>1980</td>\n",
       "      <td>manual</td>\n",
       "      <td>50</td>\n",
       "      <td>other</td>\n",
       "      <td>40000</td>\n",
       "      <td>7</td>\n",
       "      <td>petrol</td>\n",
       "      <td>volkswagen</td>\n",
       "      <td>no</td>\n",
       "      <td>2016-03-21 00:00:00</td>\n",
       "      <td>0</td>\n",
       "      <td>19348</td>\n",
       "      <td>2016-03-25 16:47:58</td>\n",
       "    </tr>\n",
       "    <tr>\n",
       "      <th>8</th>\n",
       "      <td>2016-04-04 23:42:13</td>\n",
       "      <td>14500</td>\n",
       "      <td>bus</td>\n",
       "      <td>2014</td>\n",
       "      <td>manual</td>\n",
       "      <td>125</td>\n",
       "      <td>c_max</td>\n",
       "      <td>30000</td>\n",
       "      <td>8</td>\n",
       "      <td>petrol</td>\n",
       "      <td>ford</td>\n",
       "      <td>NaN</td>\n",
       "      <td>2016-04-04 00:00:00</td>\n",
       "      <td>0</td>\n",
       "      <td>94505</td>\n",
       "      <td>2016-04-04 23:42:13</td>\n",
       "    </tr>\n",
       "    <tr>\n",
       "      <th>9</th>\n",
       "      <td>2016-03-17 10:53:50</td>\n",
       "      <td>999</td>\n",
       "      <td>small</td>\n",
       "      <td>1998</td>\n",
       "      <td>manual</td>\n",
       "      <td>101</td>\n",
       "      <td>golf</td>\n",
       "      <td>150000</td>\n",
       "      <td>0</td>\n",
       "      <td>NaN</td>\n",
       "      <td>volkswagen</td>\n",
       "      <td>NaN</td>\n",
       "      <td>2016-03-17 00:00:00</td>\n",
       "      <td>0</td>\n",
       "      <td>27472</td>\n",
       "      <td>2016-03-31 17:17:06</td>\n",
       "    </tr>\n",
       "  </tbody>\n",
       "</table>\n",
       "</div>"
      ],
      "text/plain": [
       "           DateCrawled  Price  VehicleType  RegistrationYear Gearbox  Power  \\\n",
       "0  2016-03-24 11:52:17    480          NaN              1993  manual      0   \n",
       "1  2016-03-24 10:58:45  18300        coupe              2011  manual    190   \n",
       "2  2016-03-14 12:52:21   9800          suv              2004    auto    163   \n",
       "3  2016-03-17 16:54:04   1500        small              2001  manual     75   \n",
       "4  2016-03-31 17:25:20   3600        small              2008  manual     69   \n",
       "5  2016-04-04 17:36:23    650        sedan              1995  manual    102   \n",
       "6  2016-04-01 20:48:51   2200  convertible              2004  manual    109   \n",
       "7  2016-03-21 18:54:38      0        sedan              1980  manual     50   \n",
       "8  2016-04-04 23:42:13  14500          bus              2014  manual    125   \n",
       "9  2016-03-17 10:53:50    999        small              1998  manual    101   \n",
       "\n",
       "     Model  Kilometer  RegistrationMonth  FuelType       Brand NotRepaired  \\\n",
       "0     golf     150000                  0    petrol  volkswagen         NaN   \n",
       "1      NaN     125000                  5  gasoline        audi         yes   \n",
       "2    grand     125000                  8  gasoline        jeep         NaN   \n",
       "3     golf     150000                  6    petrol  volkswagen          no   \n",
       "4    fabia      90000                  7  gasoline       skoda          no   \n",
       "5      3er     150000                 10    petrol         bmw         yes   \n",
       "6  2_reihe     150000                  8    petrol     peugeot          no   \n",
       "7    other      40000                  7    petrol  volkswagen          no   \n",
       "8    c_max      30000                  8    petrol        ford         NaN   \n",
       "9     golf     150000                  0       NaN  volkswagen         NaN   \n",
       "\n",
       "           DateCreated  NumberOfPictures  PostalCode             LastSeen  \n",
       "0  2016-03-24 00:00:00                 0       70435  2016-04-07 03:16:57  \n",
       "1  2016-03-24 00:00:00                 0       66954  2016-04-07 01:46:50  \n",
       "2  2016-03-14 00:00:00                 0       90480  2016-04-05 12:47:46  \n",
       "3  2016-03-17 00:00:00                 0       91074  2016-03-17 17:40:17  \n",
       "4  2016-03-31 00:00:00                 0       60437  2016-04-06 10:17:21  \n",
       "5  2016-04-04 00:00:00                 0       33775  2016-04-06 19:17:07  \n",
       "6  2016-04-01 00:00:00                 0       67112  2016-04-05 18:18:39  \n",
       "7  2016-03-21 00:00:00                 0       19348  2016-03-25 16:47:58  \n",
       "8  2016-04-04 00:00:00                 0       94505  2016-04-04 23:42:13  \n",
       "9  2016-03-17 00:00:00                 0       27472  2016-03-31 17:17:06  "
      ]
     },
     "execution_count": 2,
     "metadata": {},
     "output_type": "execute_result"
    }
   ],
   "source": [
    "# чтение данных из файла\n",
    "data = pd.read_csv('/datasets/autos.csv')\n",
    "# просмотр первых десяти строчек в датафрейме \n",
    "data.head(10)"
   ]
  },
  {
   "cell_type": "code",
   "execution_count": 3,
   "metadata": {},
   "outputs": [
    {
     "name": "stdout",
     "output_type": "stream",
     "text": [
      "<class 'pandas.core.frame.DataFrame'>\n",
      "RangeIndex: 354369 entries, 0 to 354368\n",
      "Data columns (total 16 columns):\n",
      " #   Column             Non-Null Count   Dtype \n",
      "---  ------             --------------   ----- \n",
      " 0   DateCrawled        354369 non-null  object\n",
      " 1   Price              354369 non-null  int64 \n",
      " 2   VehicleType        316879 non-null  object\n",
      " 3   RegistrationYear   354369 non-null  int64 \n",
      " 4   Gearbox            334536 non-null  object\n",
      " 5   Power              354369 non-null  int64 \n",
      " 6   Model              334664 non-null  object\n",
      " 7   Kilometer          354369 non-null  int64 \n",
      " 8   RegistrationMonth  354369 non-null  int64 \n",
      " 9   FuelType           321474 non-null  object\n",
      " 10  Brand              354369 non-null  object\n",
      " 11  NotRepaired        283215 non-null  object\n",
      " 12  DateCreated        354369 non-null  object\n",
      " 13  NumberOfPictures   354369 non-null  int64 \n",
      " 14  PostalCode         354369 non-null  int64 \n",
      " 15  LastSeen           354369 non-null  object\n",
      "dtypes: int64(7), object(9)\n",
      "memory usage: 43.3+ MB\n"
     ]
    }
   ],
   "source": [
    "# вывод информации о датафрейме\n",
    "data.info()"
   ]
  },
  {
   "cell_type": "code",
   "execution_count": 4,
   "metadata": {},
   "outputs": [],
   "source": [
    "data['DateCrawled'] = pd.to_datetime(data['DateCrawled'], format='%Y-%m-%d %H:%M:%S')\n",
    "data['DateCreated'] = pd.to_datetime(data['DateCreated'], format='%Y-%m-%d %H:%M:%S')"
   ]
  },
  {
   "cell_type": "markdown",
   "metadata": {},
   "source": [
    "<div class=\"alert alert-success\">\n",
    "<b>✅ Комментарий ревьюера </b> <a class=\"tocSkip\"> </a>\n",
    "\n",
    "👍\n",
    "</div>"
   ]
  },
  {
   "cell_type": "markdown",
   "metadata": {},
   "source": [
    "Все столбцы приведены к подходящему типу и названы подходяще. "
   ]
  },
  {
   "cell_type": "code",
   "execution_count": 5,
   "metadata": {},
   "outputs": [
    {
     "data": {
      "text/plain": [
       "DateCrawled              0\n",
       "Price                    0\n",
       "VehicleType          37490\n",
       "RegistrationYear         0\n",
       "Gearbox              19833\n",
       "Power                    0\n",
       "Model                19705\n",
       "Kilometer                0\n",
       "RegistrationMonth        0\n",
       "FuelType             32895\n",
       "Brand                    0\n",
       "NotRepaired          71154\n",
       "DateCreated              0\n",
       "NumberOfPictures         0\n",
       "PostalCode               0\n",
       "LastSeen                 0\n",
       "dtype: int64"
      ]
     },
     "execution_count": 5,
     "metadata": {},
     "output_type": "execute_result"
    }
   ],
   "source": [
    "data.isna().sum()"
   ]
  },
  {
   "cell_type": "markdown",
   "metadata": {},
   "source": [
    "В данных есть пропуски. Столбцы с пропусками отвечают за модели машин и различные характеристики, заданные словестно. Нецелеобразно и невозможно заполнить эти пропуски медианой или средним значением. Поэтому заполню их значением 'Unknown'"
   ]
  },
  {
   "cell_type": "markdown",
   "metadata": {},
   "source": [
    "<div class=\"alert alert-warning\">\n",
    "<b>🔁 Комментарий ревьюера </b> <a class=\"tocSkip\"> </a>\n",
    "    \n",
    "Можно погрузиться в анализ колонок c пропущенными значениями и подумать над стратегиями заполнения. Как вариант, можно заполнять не `unknown`, а что еще лучше, заполнять на основе имеющихся данных. Условно, vehicle_type на основе этого же значения для других машин такой же марки и модели, и т.д. (можно придумать подобные логичные эвристики)\n",
    "    \n",
    "Я бы не назвал это ошибкой - все сделано правильно и достаточно безопасно. Но все же потенциал для улучшения есть\n",
    "</div>"
   ]
  },
  {
   "cell_type": "markdown",
   "metadata": {},
   "source": [
    "<div class=\"alert alert-info\"> \n",
    "<b>ℹ️ Комментарий студентки: </b> \n",
    "Я тоже об этом думала, но придумала, как это реализовать, чтобы это еще и работало быстро. Буду рада подсказке. \n",
    "</div>"
   ]
  },
  {
   "cell_type": "markdown",
   "metadata": {},
   "source": [
    "<div class=\"alert alert-warning\">\n",
    "<b>🔁 Комментарий ревьюера v2</b> <a class=\"tocSkip\"> </a>\n",
    "\n",
    "Давай я тебе приведу пример заполнения для другой колонки (причем заполнение здесь модой, то есть самым частотным значением), и ты попробуешь разобраться, как применить это к текущим колонкам\n",
    "    \n",
    "`df['power'] = df['power'].fillna(df.groupby(['brand', 'model', 'registration_year'])['power']\n",
    "                                    .transform(lambda x: x.mode()[0] if not x.mode().empty else np.nan))`\n",
    "    \n",
    "    \n",
    "</div>"
   ]
  },
  {
   "cell_type": "code",
   "execution_count": 6,
   "metadata": {},
   "outputs": [
    {
     "data": {
      "text/html": [
       "<div>\n",
       "<style scoped>\n",
       "    .dataframe tbody tr th:only-of-type {\n",
       "        vertical-align: middle;\n",
       "    }\n",
       "\n",
       "    .dataframe tbody tr th {\n",
       "        vertical-align: top;\n",
       "    }\n",
       "\n",
       "    .dataframe thead th {\n",
       "        text-align: right;\n",
       "    }\n",
       "</style>\n",
       "<table border=\"1\" class=\"dataframe\">\n",
       "  <thead>\n",
       "    <tr style=\"text-align: right;\">\n",
       "      <th></th>\n",
       "      <th>DateCrawled</th>\n",
       "      <th>Price</th>\n",
       "      <th>VehicleType</th>\n",
       "      <th>RegistrationYear</th>\n",
       "      <th>Gearbox</th>\n",
       "      <th>Power</th>\n",
       "      <th>Model</th>\n",
       "      <th>Kilometer</th>\n",
       "      <th>RegistrationMonth</th>\n",
       "      <th>FuelType</th>\n",
       "      <th>Brand</th>\n",
       "      <th>NotRepaired</th>\n",
       "      <th>DateCreated</th>\n",
       "      <th>NumberOfPictures</th>\n",
       "      <th>PostalCode</th>\n",
       "      <th>LastSeen</th>\n",
       "    </tr>\n",
       "  </thead>\n",
       "  <tbody>\n",
       "    <tr>\n",
       "      <th>0</th>\n",
       "      <td>2016-03-24 11:52:17</td>\n",
       "      <td>480</td>\n",
       "      <td>unknown</td>\n",
       "      <td>1993</td>\n",
       "      <td>manual</td>\n",
       "      <td>0</td>\n",
       "      <td>golf</td>\n",
       "      <td>150000</td>\n",
       "      <td>0</td>\n",
       "      <td>petrol</td>\n",
       "      <td>volkswagen</td>\n",
       "      <td>unknown</td>\n",
       "      <td>2016-03-24</td>\n",
       "      <td>0</td>\n",
       "      <td>70435</td>\n",
       "      <td>2016-04-07 03:16:57</td>\n",
       "    </tr>\n",
       "    <tr>\n",
       "      <th>1</th>\n",
       "      <td>2016-03-24 10:58:45</td>\n",
       "      <td>18300</td>\n",
       "      <td>coupe</td>\n",
       "      <td>2011</td>\n",
       "      <td>manual</td>\n",
       "      <td>190</td>\n",
       "      <td>unknown</td>\n",
       "      <td>125000</td>\n",
       "      <td>5</td>\n",
       "      <td>gasoline</td>\n",
       "      <td>audi</td>\n",
       "      <td>yes</td>\n",
       "      <td>2016-03-24</td>\n",
       "      <td>0</td>\n",
       "      <td>66954</td>\n",
       "      <td>2016-04-07 01:46:50</td>\n",
       "    </tr>\n",
       "    <tr>\n",
       "      <th>2</th>\n",
       "      <td>2016-03-14 12:52:21</td>\n",
       "      <td>9800</td>\n",
       "      <td>suv</td>\n",
       "      <td>2004</td>\n",
       "      <td>auto</td>\n",
       "      <td>163</td>\n",
       "      <td>grand</td>\n",
       "      <td>125000</td>\n",
       "      <td>8</td>\n",
       "      <td>gasoline</td>\n",
       "      <td>jeep</td>\n",
       "      <td>unknown</td>\n",
       "      <td>2016-03-14</td>\n",
       "      <td>0</td>\n",
       "      <td>90480</td>\n",
       "      <td>2016-04-05 12:47:46</td>\n",
       "    </tr>\n",
       "    <tr>\n",
       "      <th>3</th>\n",
       "      <td>2016-03-17 16:54:04</td>\n",
       "      <td>1500</td>\n",
       "      <td>small</td>\n",
       "      <td>2001</td>\n",
       "      <td>manual</td>\n",
       "      <td>75</td>\n",
       "      <td>golf</td>\n",
       "      <td>150000</td>\n",
       "      <td>6</td>\n",
       "      <td>petrol</td>\n",
       "      <td>volkswagen</td>\n",
       "      <td>no</td>\n",
       "      <td>2016-03-17</td>\n",
       "      <td>0</td>\n",
       "      <td>91074</td>\n",
       "      <td>2016-03-17 17:40:17</td>\n",
       "    </tr>\n",
       "    <tr>\n",
       "      <th>4</th>\n",
       "      <td>2016-03-31 17:25:20</td>\n",
       "      <td>3600</td>\n",
       "      <td>small</td>\n",
       "      <td>2008</td>\n",
       "      <td>manual</td>\n",
       "      <td>69</td>\n",
       "      <td>fabia</td>\n",
       "      <td>90000</td>\n",
       "      <td>7</td>\n",
       "      <td>gasoline</td>\n",
       "      <td>skoda</td>\n",
       "      <td>no</td>\n",
       "      <td>2016-03-31</td>\n",
       "      <td>0</td>\n",
       "      <td>60437</td>\n",
       "      <td>2016-04-06 10:17:21</td>\n",
       "    </tr>\n",
       "    <tr>\n",
       "      <th>...</th>\n",
       "      <td>...</td>\n",
       "      <td>...</td>\n",
       "      <td>...</td>\n",
       "      <td>...</td>\n",
       "      <td>...</td>\n",
       "      <td>...</td>\n",
       "      <td>...</td>\n",
       "      <td>...</td>\n",
       "      <td>...</td>\n",
       "      <td>...</td>\n",
       "      <td>...</td>\n",
       "      <td>...</td>\n",
       "      <td>...</td>\n",
       "      <td>...</td>\n",
       "      <td>...</td>\n",
       "      <td>...</td>\n",
       "    </tr>\n",
       "    <tr>\n",
       "      <th>354364</th>\n",
       "      <td>2016-03-21 09:50:58</td>\n",
       "      <td>0</td>\n",
       "      <td>unknown</td>\n",
       "      <td>2005</td>\n",
       "      <td>manual</td>\n",
       "      <td>0</td>\n",
       "      <td>colt</td>\n",
       "      <td>150000</td>\n",
       "      <td>7</td>\n",
       "      <td>petrol</td>\n",
       "      <td>mitsubishi</td>\n",
       "      <td>yes</td>\n",
       "      <td>2016-03-21</td>\n",
       "      <td>0</td>\n",
       "      <td>2694</td>\n",
       "      <td>2016-03-21 10:42:49</td>\n",
       "    </tr>\n",
       "    <tr>\n",
       "      <th>354365</th>\n",
       "      <td>2016-03-14 17:48:27</td>\n",
       "      <td>2200</td>\n",
       "      <td>unknown</td>\n",
       "      <td>2005</td>\n",
       "      <td>unknown</td>\n",
       "      <td>0</td>\n",
       "      <td>unknown</td>\n",
       "      <td>20000</td>\n",
       "      <td>1</td>\n",
       "      <td>unknown</td>\n",
       "      <td>sonstige_autos</td>\n",
       "      <td>unknown</td>\n",
       "      <td>2016-03-14</td>\n",
       "      <td>0</td>\n",
       "      <td>39576</td>\n",
       "      <td>2016-04-06 00:46:52</td>\n",
       "    </tr>\n",
       "    <tr>\n",
       "      <th>354366</th>\n",
       "      <td>2016-03-05 19:56:21</td>\n",
       "      <td>1199</td>\n",
       "      <td>convertible</td>\n",
       "      <td>2000</td>\n",
       "      <td>auto</td>\n",
       "      <td>101</td>\n",
       "      <td>fortwo</td>\n",
       "      <td>125000</td>\n",
       "      <td>3</td>\n",
       "      <td>petrol</td>\n",
       "      <td>smart</td>\n",
       "      <td>no</td>\n",
       "      <td>2016-03-05</td>\n",
       "      <td>0</td>\n",
       "      <td>26135</td>\n",
       "      <td>2016-03-11 18:17:12</td>\n",
       "    </tr>\n",
       "    <tr>\n",
       "      <th>354367</th>\n",
       "      <td>2016-03-19 18:57:12</td>\n",
       "      <td>9200</td>\n",
       "      <td>bus</td>\n",
       "      <td>1996</td>\n",
       "      <td>manual</td>\n",
       "      <td>102</td>\n",
       "      <td>transporter</td>\n",
       "      <td>150000</td>\n",
       "      <td>3</td>\n",
       "      <td>gasoline</td>\n",
       "      <td>volkswagen</td>\n",
       "      <td>no</td>\n",
       "      <td>2016-03-19</td>\n",
       "      <td>0</td>\n",
       "      <td>87439</td>\n",
       "      <td>2016-04-07 07:15:26</td>\n",
       "    </tr>\n",
       "    <tr>\n",
       "      <th>354368</th>\n",
       "      <td>2016-03-20 19:41:08</td>\n",
       "      <td>3400</td>\n",
       "      <td>wagon</td>\n",
       "      <td>2002</td>\n",
       "      <td>manual</td>\n",
       "      <td>100</td>\n",
       "      <td>golf</td>\n",
       "      <td>150000</td>\n",
       "      <td>6</td>\n",
       "      <td>gasoline</td>\n",
       "      <td>volkswagen</td>\n",
       "      <td>unknown</td>\n",
       "      <td>2016-03-20</td>\n",
       "      <td>0</td>\n",
       "      <td>40764</td>\n",
       "      <td>2016-03-24 12:45:21</td>\n",
       "    </tr>\n",
       "  </tbody>\n",
       "</table>\n",
       "<p>354369 rows × 16 columns</p>\n",
       "</div>"
      ],
      "text/plain": [
       "               DateCrawled  Price  VehicleType  RegistrationYear  Gearbox  \\\n",
       "0      2016-03-24 11:52:17    480      unknown              1993   manual   \n",
       "1      2016-03-24 10:58:45  18300        coupe              2011   manual   \n",
       "2      2016-03-14 12:52:21   9800          suv              2004     auto   \n",
       "3      2016-03-17 16:54:04   1500        small              2001   manual   \n",
       "4      2016-03-31 17:25:20   3600        small              2008   manual   \n",
       "...                    ...    ...          ...               ...      ...   \n",
       "354364 2016-03-21 09:50:58      0      unknown              2005   manual   \n",
       "354365 2016-03-14 17:48:27   2200      unknown              2005  unknown   \n",
       "354366 2016-03-05 19:56:21   1199  convertible              2000     auto   \n",
       "354367 2016-03-19 18:57:12   9200          bus              1996   manual   \n",
       "354368 2016-03-20 19:41:08   3400        wagon              2002   manual   \n",
       "\n",
       "        Power        Model  Kilometer  RegistrationMonth  FuelType  \\\n",
       "0           0         golf     150000                  0    petrol   \n",
       "1         190      unknown     125000                  5  gasoline   \n",
       "2         163        grand     125000                  8  gasoline   \n",
       "3          75         golf     150000                  6    petrol   \n",
       "4          69        fabia      90000                  7  gasoline   \n",
       "...       ...          ...        ...                ...       ...   \n",
       "354364      0         colt     150000                  7    petrol   \n",
       "354365      0      unknown      20000                  1   unknown   \n",
       "354366    101       fortwo     125000                  3    petrol   \n",
       "354367    102  transporter     150000                  3  gasoline   \n",
       "354368    100         golf     150000                  6  gasoline   \n",
       "\n",
       "                 Brand NotRepaired DateCreated  NumberOfPictures  PostalCode  \\\n",
       "0           volkswagen     unknown  2016-03-24                 0       70435   \n",
       "1                 audi         yes  2016-03-24                 0       66954   \n",
       "2                 jeep     unknown  2016-03-14                 0       90480   \n",
       "3           volkswagen          no  2016-03-17                 0       91074   \n",
       "4                skoda          no  2016-03-31                 0       60437   \n",
       "...                ...         ...         ...               ...         ...   \n",
       "354364      mitsubishi         yes  2016-03-21                 0        2694   \n",
       "354365  sonstige_autos     unknown  2016-03-14                 0       39576   \n",
       "354366           smart          no  2016-03-05                 0       26135   \n",
       "354367      volkswagen          no  2016-03-19                 0       87439   \n",
       "354368      volkswagen     unknown  2016-03-20                 0       40764   \n",
       "\n",
       "                   LastSeen  \n",
       "0       2016-04-07 03:16:57  \n",
       "1       2016-04-07 01:46:50  \n",
       "2       2016-04-05 12:47:46  \n",
       "3       2016-03-17 17:40:17  \n",
       "4       2016-04-06 10:17:21  \n",
       "...                     ...  \n",
       "354364  2016-03-21 10:42:49  \n",
       "354365  2016-04-06 00:46:52  \n",
       "354366  2016-03-11 18:17:12  \n",
       "354367  2016-04-07 07:15:26  \n",
       "354368  2016-03-24 12:45:21  \n",
       "\n",
       "[354369 rows x 16 columns]"
      ]
     },
     "execution_count": 6,
     "metadata": {},
     "output_type": "execute_result"
    }
   ],
   "source": [
    "data.fillna('unknown')"
   ]
  },
  {
   "cell_type": "code",
   "execution_count": 7,
   "metadata": {},
   "outputs": [
    {
     "data": {
      "text/html": [
       "<div>\n",
       "<style scoped>\n",
       "    .dataframe tbody tr th:only-of-type {\n",
       "        vertical-align: middle;\n",
       "    }\n",
       "\n",
       "    .dataframe tbody tr th {\n",
       "        vertical-align: top;\n",
       "    }\n",
       "\n",
       "    .dataframe thead th {\n",
       "        text-align: right;\n",
       "    }\n",
       "</style>\n",
       "<table border=\"1\" class=\"dataframe\">\n",
       "  <thead>\n",
       "    <tr style=\"text-align: right;\">\n",
       "      <th></th>\n",
       "      <th>Price</th>\n",
       "      <th>RegistrationYear</th>\n",
       "      <th>Power</th>\n",
       "      <th>Kilometer</th>\n",
       "      <th>RegistrationMonth</th>\n",
       "      <th>NumberOfPictures</th>\n",
       "      <th>PostalCode</th>\n",
       "    </tr>\n",
       "  </thead>\n",
       "  <tbody>\n",
       "    <tr>\n",
       "      <th>count</th>\n",
       "      <td>354369.000000</td>\n",
       "      <td>354369.000000</td>\n",
       "      <td>354369.000000</td>\n",
       "      <td>354369.000000</td>\n",
       "      <td>354369.000000</td>\n",
       "      <td>354369.0</td>\n",
       "      <td>354369.000000</td>\n",
       "    </tr>\n",
       "    <tr>\n",
       "      <th>mean</th>\n",
       "      <td>4416.656776</td>\n",
       "      <td>2004.234448</td>\n",
       "      <td>110.094337</td>\n",
       "      <td>128211.172535</td>\n",
       "      <td>5.714645</td>\n",
       "      <td>0.0</td>\n",
       "      <td>50508.689087</td>\n",
       "    </tr>\n",
       "    <tr>\n",
       "      <th>std</th>\n",
       "      <td>4514.158514</td>\n",
       "      <td>90.227958</td>\n",
       "      <td>189.850405</td>\n",
       "      <td>37905.341530</td>\n",
       "      <td>3.726421</td>\n",
       "      <td>0.0</td>\n",
       "      <td>25783.096248</td>\n",
       "    </tr>\n",
       "    <tr>\n",
       "      <th>min</th>\n",
       "      <td>0.000000</td>\n",
       "      <td>1000.000000</td>\n",
       "      <td>0.000000</td>\n",
       "      <td>5000.000000</td>\n",
       "      <td>0.000000</td>\n",
       "      <td>0.0</td>\n",
       "      <td>1067.000000</td>\n",
       "    </tr>\n",
       "    <tr>\n",
       "      <th>25%</th>\n",
       "      <td>1050.000000</td>\n",
       "      <td>1999.000000</td>\n",
       "      <td>69.000000</td>\n",
       "      <td>125000.000000</td>\n",
       "      <td>3.000000</td>\n",
       "      <td>0.0</td>\n",
       "      <td>30165.000000</td>\n",
       "    </tr>\n",
       "    <tr>\n",
       "      <th>50%</th>\n",
       "      <td>2700.000000</td>\n",
       "      <td>2003.000000</td>\n",
       "      <td>105.000000</td>\n",
       "      <td>150000.000000</td>\n",
       "      <td>6.000000</td>\n",
       "      <td>0.0</td>\n",
       "      <td>49413.000000</td>\n",
       "    </tr>\n",
       "    <tr>\n",
       "      <th>75%</th>\n",
       "      <td>6400.000000</td>\n",
       "      <td>2008.000000</td>\n",
       "      <td>143.000000</td>\n",
       "      <td>150000.000000</td>\n",
       "      <td>9.000000</td>\n",
       "      <td>0.0</td>\n",
       "      <td>71083.000000</td>\n",
       "    </tr>\n",
       "    <tr>\n",
       "      <th>max</th>\n",
       "      <td>20000.000000</td>\n",
       "      <td>9999.000000</td>\n",
       "      <td>20000.000000</td>\n",
       "      <td>150000.000000</td>\n",
       "      <td>12.000000</td>\n",
       "      <td>0.0</td>\n",
       "      <td>99998.000000</td>\n",
       "    </tr>\n",
       "  </tbody>\n",
       "</table>\n",
       "</div>"
      ],
      "text/plain": [
       "               Price  RegistrationYear          Power      Kilometer  \\\n",
       "count  354369.000000     354369.000000  354369.000000  354369.000000   \n",
       "mean     4416.656776       2004.234448     110.094337  128211.172535   \n",
       "std      4514.158514         90.227958     189.850405   37905.341530   \n",
       "min         0.000000       1000.000000       0.000000    5000.000000   \n",
       "25%      1050.000000       1999.000000      69.000000  125000.000000   \n",
       "50%      2700.000000       2003.000000     105.000000  150000.000000   \n",
       "75%      6400.000000       2008.000000     143.000000  150000.000000   \n",
       "max     20000.000000       9999.000000   20000.000000  150000.000000   \n",
       "\n",
       "       RegistrationMonth  NumberOfPictures     PostalCode  \n",
       "count      354369.000000          354369.0  354369.000000  \n",
       "mean            5.714645               0.0   50508.689087  \n",
       "std             3.726421               0.0   25783.096248  \n",
       "min             0.000000               0.0    1067.000000  \n",
       "25%             3.000000               0.0   30165.000000  \n",
       "50%             6.000000               0.0   49413.000000  \n",
       "75%             9.000000               0.0   71083.000000  \n",
       "max            12.000000               0.0   99998.000000  "
      ]
     },
     "execution_count": 7,
     "metadata": {},
     "output_type": "execute_result"
    }
   ],
   "source": [
    "data.describe()"
   ]
  },
  {
   "cell_type": "markdown",
   "metadata": {},
   "source": [
    "В данных легко заметить неправильные значения, например, в столбце RegistrationYear максимальное значение составляет 9999, но такого года не может быть, а минимальное значение - 1000, такого года регистрации тоже не может быть. Это выбросы в данных. Также в столбцах RegistrationMonth, Price и Power есть нулевые значения, которых быть не должно."
   ]
  },
  {
   "cell_type": "code",
   "execution_count": 8,
   "metadata": {},
   "outputs": [],
   "source": [
    "data = data[data['Power']>0]\n",
    "data = data[data['RegistrationMonth']>0]\n",
    "data = data[data['Price']>0]"
   ]
  },
  {
   "cell_type": "markdown",
   "metadata": {},
   "source": [
    "Рассмотрим отрезки распределения значений столбца RegistrationYear. Машину изобрели в 1806, поэтому начнем рассматривать с 1800 года."
   ]
  },
  {
   "cell_type": "code",
   "execution_count": 9,
   "metadata": {},
   "outputs": [
    {
     "data": {
      "image/png": "[encoded data removed]",
      "text/plain": [
       "<Figure size 432x288 with 1 Axes>"
      ]
     },
     "metadata": {
      "needs_background": "light"
     },
     "output_type": "display_data"
    }
   ],
   "source": [
    "data['RegistrationYear'].hist(bins=30, log=True, range=(1800, 1850));"
   ]
  },
  {
   "cell_type": "code",
   "execution_count": 10,
   "metadata": {},
   "outputs": [
    {
     "data": {
      "image/png": "[encoded data removed]",
      "text/plain": [
       "<Figure size 432x288 with 1 Axes>"
      ]
     },
     "metadata": {
      "needs_background": "light"
     },
     "output_type": "display_data"
    }
   ],
   "source": [
    "data['RegistrationYear'].hist(bins=30, log=True, range=(1860, 1910));"
   ]
  },
  {
   "cell_type": "code",
   "execution_count": 11,
   "metadata": {},
   "outputs": [
    {
     "data": {
      "image/png": "[encoded data removed]",
      "text/plain": [
       "<Figure size 432x288 with 1 Axes>"
      ]
     },
     "metadata": {
      "needs_background": "light"
     },
     "output_type": "display_data"
    }
   ],
   "source": [
    "data['RegistrationYear'].hist(bins=30, log=True, range=(1910, 1950));"
   ]
  },
  {
   "cell_type": "markdown",
   "metadata": {},
   "source": [
    "Выбросы в данных заканчиваются где-то между 1925 и 1930. Рассмотрим этот отрезок ближе"
   ]
  },
  {
   "cell_type": "code",
   "execution_count": 12,
   "metadata": {},
   "outputs": [
    {
     "data": {
      "image/png": "[encoded data removed]",
      "text/plain": [
       "<Figure size 432x288 with 1 Axes>"
      ]
     },
     "metadata": {
      "needs_background": "light"
     },
     "output_type": "display_data"
    }
   ],
   "source": [
    "data['RegistrationYear'].hist(bins=30, log=True, range=(1925, 1935));"
   ]
  },
  {
   "cell_type": "markdown",
   "metadata": {},
   "source": [
    "Выбросы в данных заканчиваются в 1929 году"
   ]
  },
  {
   "cell_type": "code",
   "execution_count": 13,
   "metadata": {},
   "outputs": [
    {
     "data": {
      "image/png": "[encoded data removed]",
      "text/plain": [
       "<Figure size 432x288 with 1 Axes>"
      ]
     },
     "metadata": {
      "needs_background": "light"
     },
     "output_type": "display_data"
    }
   ],
   "source": [
    "data['RegistrationYear'].hist(bins=30, log=True, range=(1950, 2000));"
   ]
  },
  {
   "cell_type": "code",
   "execution_count": 14,
   "metadata": {},
   "outputs": [
    {
     "data": {
      "image/png": "[encoded data removed]",
      "text/plain": [
       "<Figure size 432x288 with 1 Axes>"
      ]
     },
     "metadata": {
      "needs_background": "light"
     },
     "output_type": "display_data"
    }
   ],
   "source": [
    "data['RegistrationYear'].hist(bins=30, log=True, range=(2000, 2015));"
   ]
  },
  {
   "cell_type": "code",
   "execution_count": 15,
   "metadata": {},
   "outputs": [
    {
     "data": {
      "image/png": "[encoded data removed]",
      "text/plain": [
       "<Figure size 432x288 with 1 Axes>"
      ]
     },
     "metadata": {
      "needs_background": "light"
     },
     "output_type": "display_data"
    }
   ],
   "source": [
    "data['RegistrationYear'].hist(bins=30, log=True, range=(2015, 2025));"
   ]
  },
  {
   "cell_type": "markdown",
   "metadata": {},
   "source": [
    "Выбросы в данных начинаются с 2019"
   ]
  },
  {
   "cell_type": "code",
   "execution_count": 16,
   "metadata": {
    "scrolled": true
   },
   "outputs": [
    {
     "data": {
      "text/html": [
       "<div>\n",
       "<style scoped>\n",
       "    .dataframe tbody tr th:only-of-type {\n",
       "        vertical-align: middle;\n",
       "    }\n",
       "\n",
       "    .dataframe tbody tr th {\n",
       "        vertical-align: top;\n",
       "    }\n",
       "\n",
       "    .dataframe thead th {\n",
       "        text-align: right;\n",
       "    }\n",
       "</style>\n",
       "<table border=\"1\" class=\"dataframe\">\n",
       "  <thead>\n",
       "    <tr style=\"text-align: right;\">\n",
       "      <th></th>\n",
       "      <th>Price</th>\n",
       "      <th>RegistrationYear</th>\n",
       "      <th>Power</th>\n",
       "      <th>Kilometer</th>\n",
       "      <th>RegistrationMonth</th>\n",
       "      <th>NumberOfPictures</th>\n",
       "      <th>PostalCode</th>\n",
       "    </tr>\n",
       "  </thead>\n",
       "  <tbody>\n",
       "    <tr>\n",
       "      <th>count</th>\n",
       "      <td>287095.000000</td>\n",
       "      <td>287095.000000</td>\n",
       "      <td>287095.000000</td>\n",
       "      <td>287095.000000</td>\n",
       "      <td>287095.000000</td>\n",
       "      <td>287095.0</td>\n",
       "      <td>287095.000000</td>\n",
       "    </tr>\n",
       "    <tr>\n",
       "      <th>mean</th>\n",
       "      <td>4977.268608</td>\n",
       "      <td>2003.392689</td>\n",
       "      <td>124.456880</td>\n",
       "      <td>127945.296853</td>\n",
       "      <td>6.380912</td>\n",
       "      <td>0.0</td>\n",
       "      <td>51305.403138</td>\n",
       "    </tr>\n",
       "    <tr>\n",
       "      <th>std</th>\n",
       "      <td>4630.526600</td>\n",
       "      <td>6.780767</td>\n",
       "      <td>183.607337</td>\n",
       "      <td>36828.861560</td>\n",
       "      <td>3.347597</td>\n",
       "      <td>0.0</td>\n",
       "      <td>25740.558467</td>\n",
       "    </tr>\n",
       "    <tr>\n",
       "      <th>min</th>\n",
       "      <td>1.000000</td>\n",
       "      <td>1929.000000</td>\n",
       "      <td>1.000000</td>\n",
       "      <td>5000.000000</td>\n",
       "      <td>1.000000</td>\n",
       "      <td>0.0</td>\n",
       "      <td>1067.000000</td>\n",
       "    </tr>\n",
       "    <tr>\n",
       "      <th>25%</th>\n",
       "      <td>1450.000000</td>\n",
       "      <td>1999.000000</td>\n",
       "      <td>77.000000</td>\n",
       "      <td>125000.000000</td>\n",
       "      <td>4.000000</td>\n",
       "      <td>0.0</td>\n",
       "      <td>31008.000000</td>\n",
       "    </tr>\n",
       "    <tr>\n",
       "      <th>50%</th>\n",
       "      <td>3300.000000</td>\n",
       "      <td>2004.000000</td>\n",
       "      <td>113.000000</td>\n",
       "      <td>150000.000000</td>\n",
       "      <td>6.000000</td>\n",
       "      <td>0.0</td>\n",
       "      <td>50354.000000</td>\n",
       "    </tr>\n",
       "    <tr>\n",
       "      <th>75%</th>\n",
       "      <td>7199.000000</td>\n",
       "      <td>2008.000000</td>\n",
       "      <td>150.000000</td>\n",
       "      <td>150000.000000</td>\n",
       "      <td>9.000000</td>\n",
       "      <td>0.0</td>\n",
       "      <td>72116.000000</td>\n",
       "    </tr>\n",
       "    <tr>\n",
       "      <th>max</th>\n",
       "      <td>20000.000000</td>\n",
       "      <td>2019.000000</td>\n",
       "      <td>20000.000000</td>\n",
       "      <td>150000.000000</td>\n",
       "      <td>12.000000</td>\n",
       "      <td>0.0</td>\n",
       "      <td>99998.000000</td>\n",
       "    </tr>\n",
       "  </tbody>\n",
       "</table>\n",
       "</div>"
      ],
      "text/plain": [
       "               Price  RegistrationYear          Power      Kilometer  \\\n",
       "count  287095.000000     287095.000000  287095.000000  287095.000000   \n",
       "mean     4977.268608       2003.392689     124.456880  127945.296853   \n",
       "std      4630.526600          6.780767     183.607337   36828.861560   \n",
       "min         1.000000       1929.000000       1.000000    5000.000000   \n",
       "25%      1450.000000       1999.000000      77.000000  125000.000000   \n",
       "50%      3300.000000       2004.000000     113.000000  150000.000000   \n",
       "75%      7199.000000       2008.000000     150.000000  150000.000000   \n",
       "max     20000.000000       2019.000000   20000.000000  150000.000000   \n",
       "\n",
       "       RegistrationMonth  NumberOfPictures     PostalCode  \n",
       "count      287095.000000          287095.0  287095.000000  \n",
       "mean            6.380912               0.0   51305.403138  \n",
       "std             3.347597               0.0   25740.558467  \n",
       "min             1.000000               0.0    1067.000000  \n",
       "25%             4.000000               0.0   31008.000000  \n",
       "50%             6.000000               0.0   50354.000000  \n",
       "75%             9.000000               0.0   72116.000000  \n",
       "max            12.000000               0.0   99998.000000  "
      ]
     },
     "execution_count": 16,
     "metadata": {},
     "output_type": "execute_result"
    }
   ],
   "source": [
    "data = data[data['RegistrationYear']>1928]\n",
    "data = data[data['RegistrationYear']<2020]\n",
    "data.describe()"
   ]
  },
  {
   "cell_type": "markdown",
   "metadata": {},
   "source": [
    "<div class=\"alert alert-block alert-danger\">\n",
    "<b>❌ Комментарий ревьюера </b> <a class=\"tocSkip\"> </a>\n",
    "    \n",
    "Наблюдение с выбросами очень верное! Но остается пара вопросов:\n",
    "    \n",
    "1. Почему выбросы по годам ограничиваются именно 1806 и 2022 годами? Хотелось бы получить более подробное описание критериев выбора и их валидацию (например, 2022-й ли год действительно является \"текущим\" годом в датасете?).\n",
    "2. Вижу в таблице нулевые значения Цены  и Мощности автомобиля, а также странные значения месяца от 0 до 12 (13 значений, а не 12). Что насчет них? Возможно, стоит обратить внимание и на эти выбросы\n",
    "</div>"
   ]
  },
  {
   "cell_type": "markdown",
   "metadata": {},
   "source": [
    "<div class=\"alert alert-info\"> \n",
    "<b>ℹ️ Комментарий студентки: </b> \n",
    "Исправила\n",
    "</div>"
   ]
  },
  {
   "cell_type": "markdown",
   "metadata": {},
   "source": [
    "<div class=\"alert alert-warning\">\n",
    "<b>🔁 Комментарий ревьюера v2</b> <a class=\"tocSkip\"> </a>\n",
    "\n",
    "На самом деле датасет актуален на 2016-й год, это можно было заметить, проанализировав колонку dataCrawled, например. Помарка некритична, но все же впредь советую уделять больше внимания первичному анализу и валидации данных    \n",
    "</div>"
   ]
  },
  {
   "cell_type": "markdown",
   "metadata": {},
   "source": [
    "Также заметим, что столбец NumberOfPictures полностью заполнен нулями, кажется, что в базе данных какой-то сбой, нужно сказать об этом коллегам"
   ]
  },
  {
   "cell_type": "markdown",
   "metadata": {},
   "source": [
    "<div class=\"alert alert-success\">\n",
    "<b>✅ Комментарий ревьюера </b> <a class=\"tocSkip\"> </a>\n",
    "\n",
    "👍\n",
    "</div>"
   ]
  },
  {
   "cell_type": "code",
   "execution_count": 17,
   "metadata": {},
   "outputs": [
    {
     "data": {
      "text/html": [
       "<div>\n",
       "<style scoped>\n",
       "    .dataframe tbody tr th:only-of-type {\n",
       "        vertical-align: middle;\n",
       "    }\n",
       "\n",
       "    .dataframe tbody tr th {\n",
       "        vertical-align: top;\n",
       "    }\n",
       "\n",
       "    .dataframe thead th {\n",
       "        text-align: right;\n",
       "    }\n",
       "</style>\n",
       "<table border=\"1\" class=\"dataframe\">\n",
       "  <thead>\n",
       "    <tr style=\"text-align: right;\">\n",
       "      <th></th>\n",
       "      <th>Price</th>\n",
       "      <th>RegistrationYear</th>\n",
       "      <th>Power</th>\n",
       "      <th>Kilometer</th>\n",
       "      <th>RegistrationMonth</th>\n",
       "      <th>NumberOfPictures</th>\n",
       "      <th>PostalCode</th>\n",
       "    </tr>\n",
       "  </thead>\n",
       "  <tbody>\n",
       "    <tr>\n",
       "      <th>Price</th>\n",
       "      <td>1.000000</td>\n",
       "      <td>0.441050</td>\n",
       "      <td>0.144141</td>\n",
       "      <td>-0.392156</td>\n",
       "      <td>0.013137</td>\n",
       "      <td>NaN</td>\n",
       "      <td>0.063491</td>\n",
       "    </tr>\n",
       "    <tr>\n",
       "      <th>RegistrationYear</th>\n",
       "      <td>0.441050</td>\n",
       "      <td>1.000000</td>\n",
       "      <td>0.031427</td>\n",
       "      <td>-0.276201</td>\n",
       "      <td>0.005668</td>\n",
       "      <td>NaN</td>\n",
       "      <td>0.018273</td>\n",
       "    </tr>\n",
       "    <tr>\n",
       "      <th>Power</th>\n",
       "      <td>0.144141</td>\n",
       "      <td>0.031427</td>\n",
       "      <td>1.000000</td>\n",
       "      <td>0.027780</td>\n",
       "      <td>0.008470</td>\n",
       "      <td>NaN</td>\n",
       "      <td>0.011029</td>\n",
       "    </tr>\n",
       "    <tr>\n",
       "      <th>Kilometer</th>\n",
       "      <td>-0.392156</td>\n",
       "      <td>-0.276201</td>\n",
       "      <td>0.027780</td>\n",
       "      <td>1.000000</td>\n",
       "      <td>0.006688</td>\n",
       "      <td>NaN</td>\n",
       "      <td>-0.010713</td>\n",
       "    </tr>\n",
       "    <tr>\n",
       "      <th>RegistrationMonth</th>\n",
       "      <td>0.013137</td>\n",
       "      <td>0.005668</td>\n",
       "      <td>0.008470</td>\n",
       "      <td>0.006688</td>\n",
       "      <td>1.000000</td>\n",
       "      <td>NaN</td>\n",
       "      <td>-0.007839</td>\n",
       "    </tr>\n",
       "    <tr>\n",
       "      <th>NumberOfPictures</th>\n",
       "      <td>NaN</td>\n",
       "      <td>NaN</td>\n",
       "      <td>NaN</td>\n",
       "      <td>NaN</td>\n",
       "      <td>NaN</td>\n",
       "      <td>NaN</td>\n",
       "      <td>NaN</td>\n",
       "    </tr>\n",
       "    <tr>\n",
       "      <th>PostalCode</th>\n",
       "      <td>0.063491</td>\n",
       "      <td>0.018273</td>\n",
       "      <td>0.011029</td>\n",
       "      <td>-0.010713</td>\n",
       "      <td>-0.007839</td>\n",
       "      <td>NaN</td>\n",
       "      <td>1.000000</td>\n",
       "    </tr>\n",
       "  </tbody>\n",
       "</table>\n",
       "</div>"
      ],
      "text/plain": [
       "                      Price  RegistrationYear     Power  Kilometer  \\\n",
       "Price              1.000000          0.441050  0.144141  -0.392156   \n",
       "RegistrationYear   0.441050          1.000000  0.031427  -0.276201   \n",
       "Power              0.144141          0.031427  1.000000   0.027780   \n",
       "Kilometer         -0.392156         -0.276201  0.027780   1.000000   \n",
       "RegistrationMonth  0.013137          0.005668  0.008470   0.006688   \n",
       "NumberOfPictures        NaN               NaN       NaN        NaN   \n",
       "PostalCode         0.063491          0.018273  0.011029  -0.010713   \n",
       "\n",
       "                   RegistrationMonth  NumberOfPictures  PostalCode  \n",
       "Price                       0.013137               NaN    0.063491  \n",
       "RegistrationYear            0.005668               NaN    0.018273  \n",
       "Power                       0.008470               NaN    0.011029  \n",
       "Kilometer                   0.006688               NaN   -0.010713  \n",
       "RegistrationMonth           1.000000               NaN   -0.007839  \n",
       "NumberOfPictures                 NaN               NaN         NaN  \n",
       "PostalCode                 -0.007839               NaN    1.000000  "
      ]
     },
     "execution_count": 17,
     "metadata": {},
     "output_type": "execute_result"
    }
   ],
   "source": [
    "data.corr()"
   ]
  },
  {
   "cell_type": "code",
   "execution_count": 18,
   "metadata": {},
   "outputs": [
    {
     "name": "stdout",
     "output_type": "stream",
     "text": [
      "4\n"
     ]
    }
   ],
   "source": [
    "# подсчёт явных дубликатов\n",
    "print(data.duplicated().sum())"
   ]
  },
  {
   "cell_type": "code",
   "execution_count": 19,
   "metadata": {},
   "outputs": [
    {
     "name": "stdout",
     "output_type": "stream",
     "text": [
      "0\n"
     ]
    }
   ],
   "source": [
    "# удаление дубликатов\n",
    "data = data.drop_duplicates(keep='first')\n",
    "# повторный подсчёт явных дубликатов\n",
    "print(data.duplicated().sum())"
   ]
  },
  {
   "cell_type": "markdown",
   "metadata": {},
   "source": [
    "<div class=\"alert alert-success\">\n",
    "<b>✅ Комментарий ревьюера </b> <a class=\"tocSkip\"> </a>\n",
    "\n",
    "👍\n",
    "</div>"
   ]
  },
  {
   "cell_type": "code",
   "execution_count": 20,
   "metadata": {
    "scrolled": true
   },
   "outputs": [
    {
     "data": {
      "text/html": [
       "<div>\n",
       "<style scoped>\n",
       "    .dataframe tbody tr th:only-of-type {\n",
       "        vertical-align: middle;\n",
       "    }\n",
       "\n",
       "    .dataframe tbody tr th {\n",
       "        vertical-align: top;\n",
       "    }\n",
       "\n",
       "    .dataframe thead th {\n",
       "        text-align: right;\n",
       "    }\n",
       "</style>\n",
       "<table border=\"1\" class=\"dataframe\">\n",
       "  <thead>\n",
       "    <tr style=\"text-align: right;\">\n",
       "      <th></th>\n",
       "      <th>DateCrawled</th>\n",
       "      <th>Price</th>\n",
       "      <th>VehicleType</th>\n",
       "      <th>RegistrationYear</th>\n",
       "      <th>Gearbox</th>\n",
       "      <th>Power</th>\n",
       "      <th>Model</th>\n",
       "      <th>Kilometer</th>\n",
       "      <th>RegistrationMonth</th>\n",
       "      <th>FuelType</th>\n",
       "      <th>Brand</th>\n",
       "      <th>NotRepaired</th>\n",
       "      <th>DateCreated</th>\n",
       "      <th>NumberOfPictures</th>\n",
       "      <th>PostalCode</th>\n",
       "      <th>LastSeen</th>\n",
       "    </tr>\n",
       "  </thead>\n",
       "  <tbody>\n",
       "    <tr>\n",
       "      <th>1</th>\n",
       "      <td>2016-03-24 10:58:45</td>\n",
       "      <td>18300</td>\n",
       "      <td>coupe</td>\n",
       "      <td>2011</td>\n",
       "      <td>manual</td>\n",
       "      <td>190</td>\n",
       "      <td>NaN</td>\n",
       "      <td>125000</td>\n",
       "      <td>5</td>\n",
       "      <td>gasoline</td>\n",
       "      <td>audi</td>\n",
       "      <td>yes</td>\n",
       "      <td>2016-03-24</td>\n",
       "      <td>0</td>\n",
       "      <td>66954</td>\n",
       "      <td>2016-04-07 01:46:50</td>\n",
       "    </tr>\n",
       "    <tr>\n",
       "      <th>2</th>\n",
       "      <td>2016-03-14 12:52:21</td>\n",
       "      <td>9800</td>\n",
       "      <td>suv</td>\n",
       "      <td>2004</td>\n",
       "      <td>auto</td>\n",
       "      <td>163</td>\n",
       "      <td>grand</td>\n",
       "      <td>125000</td>\n",
       "      <td>8</td>\n",
       "      <td>gasoline</td>\n",
       "      <td>jeep</td>\n",
       "      <td>NaN</td>\n",
       "      <td>2016-03-14</td>\n",
       "      <td>0</td>\n",
       "      <td>90480</td>\n",
       "      <td>2016-04-05 12:47:46</td>\n",
       "    </tr>\n",
       "    <tr>\n",
       "      <th>3</th>\n",
       "      <td>2016-03-17 16:54:04</td>\n",
       "      <td>1500</td>\n",
       "      <td>small</td>\n",
       "      <td>2001</td>\n",
       "      <td>manual</td>\n",
       "      <td>75</td>\n",
       "      <td>golf</td>\n",
       "      <td>150000</td>\n",
       "      <td>6</td>\n",
       "      <td>petrol</td>\n",
       "      <td>volkswagen</td>\n",
       "      <td>no</td>\n",
       "      <td>2016-03-17</td>\n",
       "      <td>0</td>\n",
       "      <td>91074</td>\n",
       "      <td>2016-03-17 17:40:17</td>\n",
       "    </tr>\n",
       "    <tr>\n",
       "      <th>4</th>\n",
       "      <td>2016-03-31 17:25:20</td>\n",
       "      <td>3600</td>\n",
       "      <td>small</td>\n",
       "      <td>2008</td>\n",
       "      <td>manual</td>\n",
       "      <td>69</td>\n",
       "      <td>fabia</td>\n",
       "      <td>90000</td>\n",
       "      <td>7</td>\n",
       "      <td>gasoline</td>\n",
       "      <td>skoda</td>\n",
       "      <td>no</td>\n",
       "      <td>2016-03-31</td>\n",
       "      <td>0</td>\n",
       "      <td>60437</td>\n",
       "      <td>2016-04-06 10:17:21</td>\n",
       "    </tr>\n",
       "    <tr>\n",
       "      <th>5</th>\n",
       "      <td>2016-04-04 17:36:23</td>\n",
       "      <td>650</td>\n",
       "      <td>sedan</td>\n",
       "      <td>1995</td>\n",
       "      <td>manual</td>\n",
       "      <td>102</td>\n",
       "      <td>3er</td>\n",
       "      <td>150000</td>\n",
       "      <td>10</td>\n",
       "      <td>petrol</td>\n",
       "      <td>bmw</td>\n",
       "      <td>yes</td>\n",
       "      <td>2016-04-04</td>\n",
       "      <td>0</td>\n",
       "      <td>33775</td>\n",
       "      <td>2016-04-06 19:17:07</td>\n",
       "    </tr>\n",
       "    <tr>\n",
       "      <th>...</th>\n",
       "      <td>...</td>\n",
       "      <td>...</td>\n",
       "      <td>...</td>\n",
       "      <td>...</td>\n",
       "      <td>...</td>\n",
       "      <td>...</td>\n",
       "      <td>...</td>\n",
       "      <td>...</td>\n",
       "      <td>...</td>\n",
       "      <td>...</td>\n",
       "      <td>...</td>\n",
       "      <td>...</td>\n",
       "      <td>...</td>\n",
       "      <td>...</td>\n",
       "      <td>...</td>\n",
       "      <td>...</td>\n",
       "    </tr>\n",
       "    <tr>\n",
       "      <th>354361</th>\n",
       "      <td>2016-03-09 13:37:43</td>\n",
       "      <td>5250</td>\n",
       "      <td>NaN</td>\n",
       "      <td>2016</td>\n",
       "      <td>auto</td>\n",
       "      <td>150</td>\n",
       "      <td>159</td>\n",
       "      <td>150000</td>\n",
       "      <td>12</td>\n",
       "      <td>NaN</td>\n",
       "      <td>alfa_romeo</td>\n",
       "      <td>no</td>\n",
       "      <td>2016-03-09</td>\n",
       "      <td>0</td>\n",
       "      <td>51371</td>\n",
       "      <td>2016-03-13 01:44:13</td>\n",
       "    </tr>\n",
       "    <tr>\n",
       "      <th>354362</th>\n",
       "      <td>2016-03-19 19:53:49</td>\n",
       "      <td>3200</td>\n",
       "      <td>sedan</td>\n",
       "      <td>2004</td>\n",
       "      <td>manual</td>\n",
       "      <td>225</td>\n",
       "      <td>leon</td>\n",
       "      <td>150000</td>\n",
       "      <td>5</td>\n",
       "      <td>petrol</td>\n",
       "      <td>seat</td>\n",
       "      <td>yes</td>\n",
       "      <td>2016-03-19</td>\n",
       "      <td>0</td>\n",
       "      <td>96465</td>\n",
       "      <td>2016-03-19 20:44:43</td>\n",
       "    </tr>\n",
       "    <tr>\n",
       "      <th>354366</th>\n",
       "      <td>2016-03-05 19:56:21</td>\n",
       "      <td>1199</td>\n",
       "      <td>convertible</td>\n",
       "      <td>2000</td>\n",
       "      <td>auto</td>\n",
       "      <td>101</td>\n",
       "      <td>fortwo</td>\n",
       "      <td>125000</td>\n",
       "      <td>3</td>\n",
       "      <td>petrol</td>\n",
       "      <td>smart</td>\n",
       "      <td>no</td>\n",
       "      <td>2016-03-05</td>\n",
       "      <td>0</td>\n",
       "      <td>26135</td>\n",
       "      <td>2016-03-11 18:17:12</td>\n",
       "    </tr>\n",
       "    <tr>\n",
       "      <th>354367</th>\n",
       "      <td>2016-03-19 18:57:12</td>\n",
       "      <td>9200</td>\n",
       "      <td>bus</td>\n",
       "      <td>1996</td>\n",
       "      <td>manual</td>\n",
       "      <td>102</td>\n",
       "      <td>transporter</td>\n",
       "      <td>150000</td>\n",
       "      <td>3</td>\n",
       "      <td>gasoline</td>\n",
       "      <td>volkswagen</td>\n",
       "      <td>no</td>\n",
       "      <td>2016-03-19</td>\n",
       "      <td>0</td>\n",
       "      <td>87439</td>\n",
       "      <td>2016-04-07 07:15:26</td>\n",
       "    </tr>\n",
       "    <tr>\n",
       "      <th>354368</th>\n",
       "      <td>2016-03-20 19:41:08</td>\n",
       "      <td>3400</td>\n",
       "      <td>wagon</td>\n",
       "      <td>2002</td>\n",
       "      <td>manual</td>\n",
       "      <td>100</td>\n",
       "      <td>golf</td>\n",
       "      <td>150000</td>\n",
       "      <td>6</td>\n",
       "      <td>gasoline</td>\n",
       "      <td>volkswagen</td>\n",
       "      <td>NaN</td>\n",
       "      <td>2016-03-20</td>\n",
       "      <td>0</td>\n",
       "      <td>40764</td>\n",
       "      <td>2016-03-24 12:45:21</td>\n",
       "    </tr>\n",
       "  </tbody>\n",
       "</table>\n",
       "<p>287091 rows × 16 columns</p>\n",
       "</div>"
      ],
      "text/plain": [
       "               DateCrawled  Price  VehicleType  RegistrationYear Gearbox  \\\n",
       "1      2016-03-24 10:58:45  18300        coupe              2011  manual   \n",
       "2      2016-03-14 12:52:21   9800          suv              2004    auto   \n",
       "3      2016-03-17 16:54:04   1500        small              2001  manual   \n",
       "4      2016-03-31 17:25:20   3600        small              2008  manual   \n",
       "5      2016-04-04 17:36:23    650        sedan              1995  manual   \n",
       "...                    ...    ...          ...               ...     ...   \n",
       "354361 2016-03-09 13:37:43   5250          NaN              2016    auto   \n",
       "354362 2016-03-19 19:53:49   3200        sedan              2004  manual   \n",
       "354366 2016-03-05 19:56:21   1199  convertible              2000    auto   \n",
       "354367 2016-03-19 18:57:12   9200          bus              1996  manual   \n",
       "354368 2016-03-20 19:41:08   3400        wagon              2002  manual   \n",
       "\n",
       "        Power        Model  Kilometer  RegistrationMonth  FuelType  \\\n",
       "1         190          NaN     125000                  5  gasoline   \n",
       "2         163        grand     125000                  8  gasoline   \n",
       "3          75         golf     150000                  6    petrol   \n",
       "4          69        fabia      90000                  7  gasoline   \n",
       "5         102          3er     150000                 10    petrol   \n",
       "...       ...          ...        ...                ...       ...   \n",
       "354361    150          159     150000                 12       NaN   \n",
       "354362    225         leon     150000                  5    petrol   \n",
       "354366    101       fortwo     125000                  3    petrol   \n",
       "354367    102  transporter     150000                  3  gasoline   \n",
       "354368    100         golf     150000                  6  gasoline   \n",
       "\n",
       "             Brand NotRepaired DateCreated  NumberOfPictures  PostalCode  \\\n",
       "1             audi         yes  2016-03-24                 0       66954   \n",
       "2             jeep         NaN  2016-03-14                 0       90480   \n",
       "3       volkswagen          no  2016-03-17                 0       91074   \n",
       "4            skoda          no  2016-03-31                 0       60437   \n",
       "5              bmw         yes  2016-04-04                 0       33775   \n",
       "...            ...         ...         ...               ...         ...   \n",
       "354361  alfa_romeo          no  2016-03-09                 0       51371   \n",
       "354362        seat         yes  2016-03-19                 0       96465   \n",
       "354366       smart          no  2016-03-05                 0       26135   \n",
       "354367  volkswagen          no  2016-03-19                 0       87439   \n",
       "354368  volkswagen         NaN  2016-03-20                 0       40764   \n",
       "\n",
       "                   LastSeen  \n",
       "1       2016-04-07 01:46:50  \n",
       "2       2016-04-05 12:47:46  \n",
       "3       2016-03-17 17:40:17  \n",
       "4       2016-04-06 10:17:21  \n",
       "5       2016-04-06 19:17:07  \n",
       "...                     ...  \n",
       "354361  2016-03-13 01:44:13  \n",
       "354362  2016-03-19 20:44:43  \n",
       "354366  2016-03-11 18:17:12  \n",
       "354367  2016-04-07 07:15:26  \n",
       "354368  2016-03-24 12:45:21  \n",
       "\n",
       "[287091 rows x 16 columns]"
      ]
     },
     "execution_count": 20,
     "metadata": {},
     "output_type": "execute_result"
    }
   ],
   "source": [
    "data"
   ]
  },
  {
   "cell_type": "code",
   "execution_count": 21,
   "metadata": {},
   "outputs": [
    {
     "data": {
      "text/html": [
       "<div>\n",
       "<style scoped>\n",
       "    .dataframe tbody tr th:only-of-type {\n",
       "        vertical-align: middle;\n",
       "    }\n",
       "\n",
       "    .dataframe tbody tr th {\n",
       "        vertical-align: top;\n",
       "    }\n",
       "\n",
       "    .dataframe thead th {\n",
       "        text-align: right;\n",
       "    }\n",
       "</style>\n",
       "<table border=\"1\" class=\"dataframe\">\n",
       "  <thead>\n",
       "    <tr style=\"text-align: right;\">\n",
       "      <th></th>\n",
       "      <th>Price</th>\n",
       "      <th>RegistrationYear</th>\n",
       "      <th>Power</th>\n",
       "      <th>Kilometer</th>\n",
       "      <th>RegistrationMonth</th>\n",
       "      <th>NumberOfPictures</th>\n",
       "      <th>PostalCode</th>\n",
       "    </tr>\n",
       "  </thead>\n",
       "  <tbody>\n",
       "    <tr>\n",
       "      <th>Price</th>\n",
       "      <td>1.000000</td>\n",
       "      <td>0.441048</td>\n",
       "      <td>0.144142</td>\n",
       "      <td>-0.392167</td>\n",
       "      <td>0.013134</td>\n",
       "      <td>NaN</td>\n",
       "      <td>0.063496</td>\n",
       "    </tr>\n",
       "    <tr>\n",
       "      <th>RegistrationYear</th>\n",
       "      <td>0.441048</td>\n",
       "      <td>1.000000</td>\n",
       "      <td>0.031428</td>\n",
       "      <td>-0.276212</td>\n",
       "      <td>0.005667</td>\n",
       "      <td>NaN</td>\n",
       "      <td>0.018276</td>\n",
       "    </tr>\n",
       "    <tr>\n",
       "      <th>Power</th>\n",
       "      <td>0.144142</td>\n",
       "      <td>0.031428</td>\n",
       "      <td>1.000000</td>\n",
       "      <td>0.027785</td>\n",
       "      <td>0.008468</td>\n",
       "      <td>NaN</td>\n",
       "      <td>0.011026</td>\n",
       "    </tr>\n",
       "    <tr>\n",
       "      <th>Kilometer</th>\n",
       "      <td>-0.392167</td>\n",
       "      <td>-0.276212</td>\n",
       "      <td>0.027785</td>\n",
       "      <td>1.000000</td>\n",
       "      <td>0.006693</td>\n",
       "      <td>NaN</td>\n",
       "      <td>-0.010698</td>\n",
       "    </tr>\n",
       "    <tr>\n",
       "      <th>RegistrationMonth</th>\n",
       "      <td>0.013134</td>\n",
       "      <td>0.005667</td>\n",
       "      <td>0.008468</td>\n",
       "      <td>0.006693</td>\n",
       "      <td>1.000000</td>\n",
       "      <td>NaN</td>\n",
       "      <td>-0.007836</td>\n",
       "    </tr>\n",
       "    <tr>\n",
       "      <th>NumberOfPictures</th>\n",
       "      <td>NaN</td>\n",
       "      <td>NaN</td>\n",
       "      <td>NaN</td>\n",
       "      <td>NaN</td>\n",
       "      <td>NaN</td>\n",
       "      <td>NaN</td>\n",
       "      <td>NaN</td>\n",
       "    </tr>\n",
       "    <tr>\n",
       "      <th>PostalCode</th>\n",
       "      <td>0.063496</td>\n",
       "      <td>0.018276</td>\n",
       "      <td>0.011026</td>\n",
       "      <td>-0.010698</td>\n",
       "      <td>-0.007836</td>\n",
       "      <td>NaN</td>\n",
       "      <td>1.000000</td>\n",
       "    </tr>\n",
       "  </tbody>\n",
       "</table>\n",
       "</div>"
      ],
      "text/plain": [
       "                      Price  RegistrationYear     Power  Kilometer  \\\n",
       "Price              1.000000          0.441048  0.144142  -0.392167   \n",
       "RegistrationYear   0.441048          1.000000  0.031428  -0.276212   \n",
       "Power              0.144142          0.031428  1.000000   0.027785   \n",
       "Kilometer         -0.392167         -0.276212  0.027785   1.000000   \n",
       "RegistrationMonth  0.013134          0.005667  0.008468   0.006693   \n",
       "NumberOfPictures        NaN               NaN       NaN        NaN   \n",
       "PostalCode         0.063496          0.018276  0.011026  -0.010698   \n",
       "\n",
       "                   RegistrationMonth  NumberOfPictures  PostalCode  \n",
       "Price                       0.013134               NaN    0.063496  \n",
       "RegistrationYear            0.005667               NaN    0.018276  \n",
       "Power                       0.008468               NaN    0.011026  \n",
       "Kilometer                   0.006693               NaN   -0.010698  \n",
       "RegistrationMonth           1.000000               NaN   -0.007836  \n",
       "NumberOfPictures                 NaN               NaN         NaN  \n",
       "PostalCode                 -0.007836               NaN    1.000000  "
      ]
     },
     "execution_count": 21,
     "metadata": {},
     "output_type": "execute_result"
    }
   ],
   "source": [
    "data.corr()"
   ]
  },
  {
   "cell_type": "markdown",
   "metadata": {},
   "source": [
    "<div class=\"alert alert-success\">\n",
    "<b>✅ Комментарий ревьюера </b> <a class=\"tocSkip\"> </a>\n",
    "\n",
    "👍\n",
    "</div>"
   ]
  },
  {
   "cell_type": "markdown",
   "metadata": {},
   "source": [
    "## Обучение моделей"
   ]
  },
  {
   "cell_type": "code",
   "execution_count": 22,
   "metadata": {},
   "outputs": [],
   "source": [
    "data_for_learning = data.loc[:, ['Price', 'RegistrationYear', 'Power', 'Kilometer', \n",
    "                              'RegistrationMonth', 'PostalCode']]"
   ]
  },
  {
   "cell_type": "markdown",
   "metadata": {},
   "source": [
    "<div class=\"alert alert-warning\">\n",
    "<b>🔁 Комментарий ревьюера </b> <a class=\"tocSkip\"> </a>\n",
    "    \n",
    "Уже выяснили что NumberOfPictures состоит из одних нулей. Предлагаю убрать их из моделирования, т.к. от них никакой ценности не будет\n",
    "</div>"
   ]
  },
  {
   "cell_type": "markdown",
   "metadata": {},
   "source": [
    "<div class=\"alert alert-info\"> \n",
    "<b>ℹ️ Комментарий студентки: </b> \n",
    "Исправила\n",
    "</div>"
   ]
  },
  {
   "cell_type": "markdown",
   "metadata": {},
   "source": [
    "<div class=\"alert alert-success\">\n",
    "<b>✅ Комментарий ревьюера v2 </b> <a class=\"tocSkip\"> </a>\n",
    "👍 \n",
    "</div>"
   ]
  },
  {
   "cell_type": "code",
   "execution_count": 23,
   "metadata": {},
   "outputs": [],
   "source": [
    "# создание выборок\n",
    "features = data_for_learning.drop(['Price'], axis=1)\n",
    "target = data_for_learning['Price']\n",
    "\n",
    "features_train, features_valid, target_train, target_valid = train_test_split(\n",
    "    features, target, test_size=0.25, random_state=12345, shuffle=False)\n",
    "\n",
    "features_train, features_test, target_train, target_test = train_test_split(\n",
    "    features_train, target_train, test_size=0.2, random_state=12345, shuffle=False)"
   ]
  },
  {
   "cell_type": "markdown",
   "metadata": {},
   "source": [
    "<div class=\"alert alert-block alert-danger\">\n",
    "<b>❌ Комментарий ревьюера </b> <a class=\"tocSkip\"> </a>\n",
    "    \n",
    "В задании требуется оценить итоговую выбранную модель на тестовом наборе данных. Поэтому лучше разбить на 3 части: train-valid-test    \n",
    "</div>"
   ]
  },
  {
   "cell_type": "markdown",
   "metadata": {},
   "source": [
    "<div class=\"alert alert-info\"> \n",
    "<b>ℹ️ Комментарий студентки: </b> \n",
    "Исправила\n",
    "</div>"
   ]
  },
  {
   "cell_type": "markdown",
   "metadata": {},
   "source": [
    "<div class=\"alert alert-success\">\n",
    "<b>✅ Комментарий ревьюера v2 </b> <a class=\"tocSkip\"> </a>\n",
    "👍 \n",
    "</div>"
   ]
  },
  {
   "cell_type": "code",
   "execution_count": 24,
   "metadata": {},
   "outputs": [],
   "source": [
    "name_array = []\n",
    "rmse_array = []\n",
    "learning_time_array = []\n",
    "predicting_time_array = []"
   ]
  },
  {
   "cell_type": "markdown",
   "metadata": {},
   "source": [
    "### Регрессионное дерево решений"
   ]
  },
  {
   "cell_type": "code",
   "execution_count": 25,
   "metadata": {},
   "outputs": [
    {
     "name": "stdout",
     "output_type": "stream",
     "text": [
      "RMSE: 2689.8314112188386\n"
     ]
    }
   ],
   "source": [
    "model_tree = DecisionTreeRegressor(random_state=12345)\n",
    "model_tree.fit(features_train, target_train)\n",
    "predictions = model_tree.predict(features_valid)\n",
    "rmse = mean_squared_error(target_valid, predictions)**0.5\n",
    "print('RMSE:', rmse)"
   ]
  },
  {
   "cell_type": "code",
   "execution_count": 26,
   "metadata": {},
   "outputs": [
    {
     "name": "stdout",
     "output_type": "stream",
     "text": [
      "RMSE при глубине дерева 10: 2166.218539422193\n"
     ]
    }
   ],
   "source": [
    "min_rmse = rmse\n",
    "best_depth = 0\n",
    "for depth in range(1, 20):\n",
    "    model_tree = DecisionTreeRegressor(random_state=12345, max_depth=depth)\n",
    "    model_tree.fit(features_train, target_train)\n",
    "    predictions = model_tree.predict(features_valid)\n",
    "    rmse = mean_squared_error(target_valid, predictions)**0.5\n",
    "    if min_rmse > rmse:\n",
    "        min_rmse = rmse\n",
    "        best_depth = depth\n",
    "print('RMSE при глубине дерева {0}:'.format(best_depth), min_rmse)"
   ]
  },
  {
   "cell_type": "code",
   "execution_count": 27,
   "metadata": {},
   "outputs": [
    {
     "name": "stdout",
     "output_type": "stream",
     "text": [
      "Время обучения в секундах: 0.3866457939147949\n"
     ]
    }
   ],
   "source": [
    "start_time = time.time()\n",
    "model_tree = DecisionTreeRegressor(random_state=12345, max_depth=best_depth)\n",
    "model_tree.fit(features_train, target_train)\n",
    "learning_duration = time.time() - start_time\n",
    "print('Время обучения в секундах:', learning_duration)"
   ]
  },
  {
   "cell_type": "code",
   "execution_count": 28,
   "metadata": {},
   "outputs": [
    {
     "name": "stdout",
     "output_type": "stream",
     "text": [
      "Время предсказания в секундах: 0.01024317741394043\n"
     ]
    }
   ],
   "source": [
    "start_time = time.time()\n",
    "predictions = model_tree.predict(features_valid)\n",
    "predicting_duration = time.time() - start_time\n",
    "print('Время предсказания в секундах:', predicting_duration)"
   ]
  },
  {
   "cell_type": "code",
   "execution_count": 29,
   "metadata": {},
   "outputs": [
    {
     "name": "stdout",
     "output_type": "stream",
     "text": [
      "Лучший результат RMSE: 2166.218539422193\n"
     ]
    }
   ],
   "source": [
    "rmse = mean_squared_error(target_valid, predictions)**0.5\n",
    "print('Лучший результат RMSE:', rmse)"
   ]
  },
  {
   "cell_type": "code",
   "execution_count": 30,
   "metadata": {},
   "outputs": [],
   "source": [
    "name_array.append('TreeRegressor')\n",
    "rmse_array.append(rmse)\n",
    "learning_time_array.append(learning_duration)\n",
    "predicting_time_array.append(predicting_duration)"
   ]
  },
  {
   "cell_type": "markdown",
   "metadata": {},
   "source": [
    "<div class=\"alert alert-success\">\n",
    "<b>✅ Комментарий ревьюера </b> <a class=\"tocSkip\"> </a>\n",
    "\n",
    "Отличный пайплайн оценки модели и подбора гиперпараметров! Хорошая работа\n",
    "</div>"
   ]
  },
  {
   "cell_type": "markdown",
   "metadata": {},
   "source": [
    "### Регрессионный лес решений"
   ]
  },
  {
   "cell_type": "code",
   "execution_count": 31,
   "metadata": {},
   "outputs": [
    {
     "name": "stdout",
     "output_type": "stream",
     "text": [
      "RMSE: 2049.406449858792\n"
     ]
    }
   ],
   "source": [
    "model_forest = RandomForestRegressor(random_state=12345)\n",
    "model_forest.fit(features_train, target_train)\n",
    "predictions = model_forest.predict(features_valid)\n",
    "rmse = mean_squared_error(target_valid, predictions)**0.5\n",
    "print('RMSE:', rmse)"
   ]
  },
  {
   "cell_type": "code",
   "execution_count": 32,
   "metadata": {},
   "outputs": [
    {
     "name": "stdout",
     "output_type": "stream",
     "text": [
      "RMSE при количестве деревьев 10: 2049.406449858792\n"
     ]
    }
   ],
   "source": [
    "min_rmse = rmse\n",
    "best_n_estimators = 10\n",
    "for n in range(10, 100, 10):\n",
    "    model_forest = RandomForestRegressor(random_state=12345, n_estimators=n)\n",
    "    model_forest.fit(features_train, target_train)\n",
    "    predictions = model_forest.predict(features_valid)\n",
    "    rmse = mean_squared_error(target_valid, predictions)**0.5\n",
    "    if min_rmse > rmse:\n",
    "        min_rmse = rmse\n",
    "        best_n_estimators = n\n",
    "print('RMSE при количестве деревьев {0}:'.format(best_n_estimators), min_rmse)"
   ]
  },
  {
   "cell_type": "code",
   "execution_count": 33,
   "metadata": {},
   "outputs": [
    {
     "name": "stdout",
     "output_type": "stream",
     "text": [
      "Время обучения в секундах: 5.468171834945679\n"
     ]
    }
   ],
   "source": [
    "start_time = time.time()\n",
    "model_forest = RandomForestRegressor(random_state=12345, n_estimators=best_n_estimators)\n",
    "model_forest.fit(features_train, target_train)\n",
    "learning_duration = time.time() - start_time\n",
    "print('Время обучения в секундах:', learning_duration)"
   ]
  },
  {
   "cell_type": "code",
   "execution_count": 34,
   "metadata": {},
   "outputs": [
    {
     "name": "stdout",
     "output_type": "stream",
     "text": [
      "Время предсказания в секундах: 0.39183807373046875\n"
     ]
    }
   ],
   "source": [
    "start_time = time.time()\n",
    "predictions = model_forest.predict(features_valid)\n",
    "predicting_duration = time.time() - start_time\n",
    "print('Время предсказания в секундах:', predicting_duration)"
   ]
  },
  {
   "cell_type": "code",
   "execution_count": 35,
   "metadata": {},
   "outputs": [
    {
     "name": "stdout",
     "output_type": "stream",
     "text": [
      "Лучший результат RMSE: 2126.3196662523546\n"
     ]
    }
   ],
   "source": [
    "rmse = mean_squared_error(target_valid, predictions)**0.5\n",
    "print('Лучший результат RMSE:', rmse)"
   ]
  },
  {
   "cell_type": "code",
   "execution_count": 36,
   "metadata": {},
   "outputs": [],
   "source": [
    "name_array.append('ForestRegressor')\n",
    "rmse_array.append(rmse)\n",
    "learning_time_array.append(learning_duration)\n",
    "predicting_time_array.append(predicting_duration)"
   ]
  },
  {
   "cell_type": "markdown",
   "metadata": {},
   "source": [
    "<div class=\"alert alert-success\">\n",
    "<b>✅ Комментарий ревьюера </b> <a class=\"tocSkip\"> </a>\n",
    "\n",
    "👍\n",
    "</div>"
   ]
  },
  {
   "cell_type": "markdown",
   "metadata": {},
   "source": [
    "### Линейная регрессия"
   ]
  },
  {
   "cell_type": "code",
   "execution_count": 37,
   "metadata": {},
   "outputs": [
    {
     "name": "stdout",
     "output_type": "stream",
     "text": [
      "Время обучения в секундах: 0.022890806198120117\n"
     ]
    }
   ],
   "source": [
    "start_time = time.time()\n",
    "model_lin = LinearRegression()\n",
    "model_lin.fit(features_train, target_train)\n",
    "learning_duration = time.time() - start_time\n",
    "print('Время обучения в секундах:', learning_duration)"
   ]
  },
  {
   "cell_type": "code",
   "execution_count": 38,
   "metadata": {},
   "outputs": [
    {
     "name": "stdout",
     "output_type": "stream",
     "text": [
      "Время предсказания в секундах: 0.029950380325317383\n"
     ]
    }
   ],
   "source": [
    "start_time = time.time()\n",
    "predictions = model_lin.predict(features_valid)\n",
    "predicting_duration = time.time() - start_time\n",
    "print('Время предсказания в секундах:', predicting_duration)"
   ]
  },
  {
   "cell_type": "code",
   "execution_count": 39,
   "metadata": {},
   "outputs": [
    {
     "name": "stdout",
     "output_type": "stream",
     "text": [
      "RMSE: 3867.3675122576574\n"
     ]
    }
   ],
   "source": [
    "rmse = mean_squared_error(target_valid, predictions)**0.5\n",
    "print('RMSE:', rmse)"
   ]
  },
  {
   "cell_type": "code",
   "execution_count": 40,
   "metadata": {},
   "outputs": [],
   "source": [
    "name_array.append('LinearRegression')\n",
    "rmse_array.append(rmse)\n",
    "learning_time_array.append(learning_duration)\n",
    "predicting_time_array.append(predicting_duration)"
   ]
  },
  {
   "cell_type": "markdown",
   "metadata": {},
   "source": [
    "<div class=\"alert alert-success\">\n",
    "<b>✅ Комментарий ревьюера </b> <a class=\"tocSkip\"> </a>\n",
    "\n",
    "👍\n",
    "</div>"
   ]
  },
  {
   "cell_type": "markdown",
   "metadata": {},
   "source": [
    "### Градиентный бустинг регрессии"
   ]
  },
  {
   "cell_type": "code",
   "execution_count": 41,
   "metadata": {},
   "outputs": [
    {
     "ename": "KeyboardInterrupt",
     "evalue": "",
     "output_type": "error",
     "traceback": [
      "\u001b[0;31m---------------------------------------------------------------------------\u001b[0m",
      "\u001b[0;31mKeyboardInterrupt\u001b[0m                         Traceback (most recent call last)",
      "\u001b[0;32m/tmp/ipykernel_198/3599152465.py\u001b[0m in \u001b[0;36m<module>\u001b[0;34m\u001b[0m\n\u001b[1;32m      1\u001b[0m \u001b[0mstart_time\u001b[0m \u001b[0;34m=\u001b[0m \u001b[0mtime\u001b[0m\u001b[0;34m.\u001b[0m\u001b[0mtime\u001b[0m\u001b[0;34m(\u001b[0m\u001b[0;34m)\u001b[0m\u001b[0;34m\u001b[0m\u001b[0;34m\u001b[0m\u001b[0m\n\u001b[1;32m      2\u001b[0m \u001b[0mmodel_lgbm_regressor\u001b[0m \u001b[0;34m=\u001b[0m \u001b[0mLGBMRegressor\u001b[0m\u001b[0;34m(\u001b[0m\u001b[0;34m)\u001b[0m\u001b[0;34m\u001b[0m\u001b[0;34m\u001b[0m\u001b[0m\n\u001b[0;32m----> 3\u001b[0;31m \u001b[0mmodel_lgbm_regressor\u001b[0m\u001b[0;34m.\u001b[0m\u001b[0mfit\u001b[0m\u001b[0;34m(\u001b[0m\u001b[0mfeatures_train\u001b[0m\u001b[0;34m,\u001b[0m \u001b[0mtarget_train\u001b[0m\u001b[0;34m)\u001b[0m\u001b[0;34m\u001b[0m\u001b[0;34m\u001b[0m\u001b[0m\n\u001b[0m\u001b[1;32m      4\u001b[0m \u001b[0mlearning_duration\u001b[0m \u001b[0;34m=\u001b[0m \u001b[0mtime\u001b[0m\u001b[0;34m.\u001b[0m\u001b[0mtime\u001b[0m\u001b[0;34m(\u001b[0m\u001b[0;34m)\u001b[0m \u001b[0;34m-\u001b[0m \u001b[0mstart_time\u001b[0m\u001b[0;34m\u001b[0m\u001b[0;34m\u001b[0m\u001b[0m\n\u001b[1;32m      5\u001b[0m \u001b[0mprint\u001b[0m\u001b[0;34m(\u001b[0m\u001b[0;34m'Время обучения в секундах:'\u001b[0m\u001b[0;34m,\u001b[0m \u001b[0mlearning_duration\u001b[0m\u001b[0;34m)\u001b[0m\u001b[0;34m\u001b[0m\u001b[0;34m\u001b[0m\u001b[0m\n",
      "\u001b[0;32m/opt/conda/lib/python3.9/site-packages/lightgbm/sklearn.py\u001b[0m in \u001b[0;36mfit\u001b[0;34m(self, X, y, sample_weight, init_score, eval_set, eval_names, eval_sample_weight, eval_init_score, eval_metric, early_stopping_rounds, verbose, feature_name, categorical_feature, callbacks, init_model)\u001b[0m\n\u001b[1;32m    893\u001b[0m             callbacks=None, init_model=None):\n\u001b[1;32m    894\u001b[0m         \u001b[0;34m\"\"\"Docstring is inherited from the LGBMModel.\"\"\"\u001b[0m\u001b[0;34m\u001b[0m\u001b[0;34m\u001b[0m\u001b[0m\n\u001b[0;32m--> 895\u001b[0;31m         super().fit(X, y, sample_weight=sample_weight, init_score=init_score,\n\u001b[0m\u001b[1;32m    896\u001b[0m                     \u001b[0meval_set\u001b[0m\u001b[0;34m=\u001b[0m\u001b[0meval_set\u001b[0m\u001b[0;34m,\u001b[0m \u001b[0meval_names\u001b[0m\u001b[0;34m=\u001b[0m\u001b[0meval_names\u001b[0m\u001b[0;34m,\u001b[0m \u001b[0meval_sample_weight\u001b[0m\u001b[0;34m=\u001b[0m\u001b[0meval_sample_weight\u001b[0m\u001b[0;34m,\u001b[0m\u001b[0;34m\u001b[0m\u001b[0;34m\u001b[0m\u001b[0m\n\u001b[1;32m    897\u001b[0m                     \u001b[0meval_init_score\u001b[0m\u001b[0;34m=\u001b[0m\u001b[0meval_init_score\u001b[0m\u001b[0;34m,\u001b[0m \u001b[0meval_metric\u001b[0m\u001b[0;34m=\u001b[0m\u001b[0meval_metric\u001b[0m\u001b[0;34m,\u001b[0m\u001b[0;34m\u001b[0m\u001b[0;34m\u001b[0m\u001b[0m\n",
      "\u001b[0;32m/opt/conda/lib/python3.9/site-packages/lightgbm/sklearn.py\u001b[0m in \u001b[0;36mfit\u001b[0;34m(self, X, y, sample_weight, init_score, group, eval_set, eval_names, eval_sample_weight, eval_class_weight, eval_init_score, eval_group, eval_metric, early_stopping_rounds, verbose, feature_name, categorical_feature, callbacks, init_model)\u001b[0m\n\u001b[1;32m    746\u001b[0m         \u001b[0mcallbacks\u001b[0m\u001b[0;34m.\u001b[0m\u001b[0mappend\u001b[0m\u001b[0;34m(\u001b[0m\u001b[0mrecord_evaluation\u001b[0m\u001b[0;34m(\u001b[0m\u001b[0mevals_result\u001b[0m\u001b[0;34m)\u001b[0m\u001b[0;34m)\u001b[0m\u001b[0;34m\u001b[0m\u001b[0;34m\u001b[0m\u001b[0m\n\u001b[1;32m    747\u001b[0m \u001b[0;34m\u001b[0m\u001b[0m\n\u001b[0;32m--> 748\u001b[0;31m         self._Booster = train(\n\u001b[0m\u001b[1;32m    749\u001b[0m             \u001b[0mparams\u001b[0m\u001b[0;34m=\u001b[0m\u001b[0mparams\u001b[0m\u001b[0;34m,\u001b[0m\u001b[0;34m\u001b[0m\u001b[0;34m\u001b[0m\u001b[0m\n\u001b[1;32m    750\u001b[0m             \u001b[0mtrain_set\u001b[0m\u001b[0;34m=\u001b[0m\u001b[0mtrain_set\u001b[0m\u001b[0;34m,\u001b[0m\u001b[0;34m\u001b[0m\u001b[0;34m\u001b[0m\u001b[0m\n",
      "\u001b[0;32m/opt/conda/lib/python3.9/site-packages/lightgbm/engine.py\u001b[0m in \u001b[0;36mtrain\u001b[0;34m(params, train_set, num_boost_round, valid_sets, valid_names, fobj, feval, init_model, feature_name, categorical_feature, early_stopping_rounds, evals_result, verbose_eval, learning_rates, keep_training_booster, callbacks)\u001b[0m\n\u001b[1;32m    290\u001b[0m                                     evaluation_result_list=None))\n\u001b[1;32m    291\u001b[0m \u001b[0;34m\u001b[0m\u001b[0m\n\u001b[0;32m--> 292\u001b[0;31m         \u001b[0mbooster\u001b[0m\u001b[0;34m.\u001b[0m\u001b[0mupdate\u001b[0m\u001b[0;34m(\u001b[0m\u001b[0mfobj\u001b[0m\u001b[0;34m=\u001b[0m\u001b[0mfobj\u001b[0m\u001b[0;34m)\u001b[0m\u001b[0;34m\u001b[0m\u001b[0;34m\u001b[0m\u001b[0m\n\u001b[0m\u001b[1;32m    293\u001b[0m \u001b[0;34m\u001b[0m\u001b[0m\n\u001b[1;32m    294\u001b[0m         \u001b[0mevaluation_result_list\u001b[0m \u001b[0;34m=\u001b[0m \u001b[0;34m[\u001b[0m\u001b[0;34m]\u001b[0m\u001b[0;34m\u001b[0m\u001b[0;34m\u001b[0m\u001b[0m\n",
      "\u001b[0;32m/opt/conda/lib/python3.9/site-packages/lightgbm/basic.py\u001b[0m in \u001b[0;36mupdate\u001b[0;34m(self, train_set, fobj)\u001b[0m\n\u001b[1;32m   3019\u001b[0m             \u001b[0;32mif\u001b[0m \u001b[0mself\u001b[0m\u001b[0;34m.\u001b[0m\u001b[0m__set_objective_to_none\u001b[0m\u001b[0;34m:\u001b[0m\u001b[0;34m\u001b[0m\u001b[0;34m\u001b[0m\u001b[0m\n\u001b[1;32m   3020\u001b[0m                 \u001b[0;32mraise\u001b[0m \u001b[0mLightGBMError\u001b[0m\u001b[0;34m(\u001b[0m\u001b[0;34m'Cannot update due to null objective function.'\u001b[0m\u001b[0;34m)\u001b[0m\u001b[0;34m\u001b[0m\u001b[0;34m\u001b[0m\u001b[0m\n\u001b[0;32m-> 3021\u001b[0;31m             _safe_call(_LIB.LGBM_BoosterUpdateOneIter(\n\u001b[0m\u001b[1;32m   3022\u001b[0m                 \u001b[0mself\u001b[0m\u001b[0;34m.\u001b[0m\u001b[0mhandle\u001b[0m\u001b[0;34m,\u001b[0m\u001b[0;34m\u001b[0m\u001b[0;34m\u001b[0m\u001b[0m\n\u001b[1;32m   3023\u001b[0m                 ctypes.byref(is_finished)))\n",
      "\u001b[0;31mKeyboardInterrupt\u001b[0m: "
     ]
    }
   ],
   "source": [
    "start_time = time.time()\n",
    "model_lgbm_regressor = LGBMRegressor()\n",
    "model_lgbm_regressor.fit(features_train, target_train)\n",
    "learning_duration = time.time() - start_time\n",
    "print('Время обучения в секундах:', learning_duration)"
   ]
  },
  {
   "cell_type": "code",
   "execution_count": null,
   "metadata": {},
   "outputs": [],
   "source": [
    "start_time = time.time()\n",
    "predictions = model_lgbm_regressor.predict(features_valid)\n",
    "predicting_duration = time.time() - start_time\n",
    "print('Время предсказания в секундах:', predicting_duration)"
   ]
  },
  {
   "cell_type": "code",
   "execution_count": null,
   "metadata": {},
   "outputs": [],
   "source": [
    "rmse = mean_squared_error(target_valid, predictions)**0.5\n",
    "print('RMSE:', rmse)"
   ]
  },
  {
   "cell_type": "code",
   "execution_count": null,
   "metadata": {},
   "outputs": [],
   "source": [
    "name_array.append('LGBMRegressor')\n",
    "rmse_array.append(rmse)\n",
    "learning_time_array.append(learning_duration)\n",
    "predicting_time_array.append(predicting_duration)"
   ]
  },
  {
   "cell_type": "markdown",
   "metadata": {},
   "source": [
    "<div class=\"alert alert-success\">\n",
    "<b>✅ Комментарий ревьюера </b> <a class=\"tocSkip\"> </a>\n",
    "\n",
    "👍\n",
    "</div>"
   ]
  },
  {
   "cell_type": "markdown",
   "metadata": {},
   "source": [
    "## Анализ моделей"
   ]
  },
  {
   "cell_type": "code",
   "execution_count": null,
   "metadata": {},
   "outputs": [],
   "source": [
    "comparison_df = pd.DataFrame({\"Type\":pd.Series(name_array), \n",
    "                              \"RMSE\":pd.Series(rmse_array), \n",
    "                              \"Learning time\":pd.Series(learning_time_array), \n",
    "                              \"Predicting time\":pd.Series(predicting_time_array)})\n",
    "comparison_df.sort_values(by='RMSE')"
   ]
  },
  {
   "cell_type": "markdown",
   "metadata": {},
   "source": [
    "Самые маленькие среднеквадратические ошибки у моделей регрессии с градиентным бустинг и регрессивного леса."
   ]
  },
  {
   "cell_type": "code",
   "execution_count": null,
   "metadata": {},
   "outputs": [],
   "source": [
    "comparison_df.sort_values(by='Learning time')"
   ]
  },
  {
   "cell_type": "markdown",
   "metadata": {},
   "source": [
    "Быстрей всех обучается линейная регрессия. Дольше всех обучается модель регрессии с градиентным бустингом."
   ]
  },
  {
   "cell_type": "code",
   "execution_count": null,
   "metadata": {},
   "outputs": [],
   "source": [
    "comparison_df.sort_values(by='Predicting time')"
   ]
  },
  {
   "cell_type": "markdown",
   "metadata": {},
   "source": [
    "Быстрей всех делает предсказание TreeRegressor. Медленней всех регрессии с градиентным бустингом."
   ]
  },
  {
   "cell_type": "markdown",
   "metadata": {},
   "source": [
    "<div class=\"alert alert-success\">\n",
    "<b>✅ Комментарий ревьюера </b> <a class=\"tocSkip\"> </a>\n",
    "\n",
    "Отличные и наглядные выводы\n",
    "</div>"
   ]
  },
  {
   "cell_type": "markdown",
   "metadata": {},
   "source": [
    "Я считаю, что лучшей моделью является регрессионый лес, у него высокие показатели по всем трем параметрам. Протестируем ее на тестовых данных."
   ]
  },
  {
   "cell_type": "code",
   "execution_count": 42,
   "metadata": {},
   "outputs": [
    {
     "name": "stdout",
     "output_type": "stream",
     "text": [
      "RMSE: 2099.2459352717483\n"
     ]
    }
   ],
   "source": [
    "predictions = model_forest.predict(features_test)\n",
    "rmse = mean_squared_error(target_test, predictions)**0.5\n",
    "print('RMSE:', rmse)"
   ]
  },
  {
   "cell_type": "markdown",
   "metadata": {},
   "source": [
    "## Вывод"
   ]
  },
  {
   "cell_type": "markdown",
   "metadata": {},
   "source": [
    "Я провела анализ и предобработку данных. Обнаружила выбросы и пропуски данных, но также успешно их устранила. Создала и протестировала четыре модели: регрессивное дерево решений, регрессивный лес, линейная регрессия, градиентный бустинг регрессии. Хотя меньше всего ошибок допускала модель регрессии с градиентным бустингом, я считаю, что лучшей моделью является регрессионый лес, так как модель регрессии с градиентным бустингом непозволительно долго обучается. "
   ]
  },
  {
   "cell_type": "markdown",
   "metadata": {},
   "source": [
    "<div class=\"alert alert-success\">\n",
    "<b>✅ Комментарий ревьюера </b> <a class=\"tocSkip\"> </a>\n",
    "\n",
    "👍\n",
    "</div>"
   ]
  },
  {
   "cell_type": "markdown",
   "metadata": {},
   "source": [
    "## Чек-лист проверки"
   ]
  },
  {
   "cell_type": "markdown",
   "metadata": {},
   "source": [
    "Поставьте 'x' в выполненных пунктах. Далее нажмите Shift+Enter."
   ]
  },
  {
   "cell_type": "markdown",
   "metadata": {},
   "source": [
    "- [x]  Jupyter Notebook открыт\n",
    "- [x]  Весь код выполняется без ошибок\n",
    "- [x]  Ячейки с кодом расположены в порядке исполнения\n",
    "- [x]  Выполнена загрузка и подготовка данных\n",
    "- [x]  Выполнено обучение моделей\n",
    "- [x]  Есть анализ скорости работы и качества моделей"
   ]
  },
  {
   "cell_type": "markdown",
   "metadata": {},
   "source": [
    "<h2>Заключение ревьювера: </h2> <a class=\"tocSkip\"></a>\n",
    "\n",
    "Дарья, у тебя хорошая работа, видно, что ты приложила немало усилий. Понимаю, что тебе хочется поскорее ее закрыть. Осталось совсем немного, чтобы доделать работу по основным критериям зачета 😊\n",
    "\n",
    "<div class=\"alert alert-block alert-success\">\n",
    "Общее впечатление о проекте хорошее. Ты показала глубину анализа при работе с данными и их подготовке. Очень важно приземлять данные к реальному миру, что ты и сделала в этой работе. Общий каркас проекта построен верно! Молодец! Отдельно хочу отметить твой выстроенный пайплайн для оценки качества и скорости модели! Мало кто с первой попытки удачно с ней справляется. Хорошая работа!\n",
    "</div>\n",
    "\n",
    "<div class=\"alert alert-block alert-danger\">\n",
    "Большинство из отмеченного красным является не ошибкой, а запросом к углублению анализа. Я постарался пояснить все требования для принятия проекта в самих блоках. Уверен, у тебя все получится!\n",
    "\n",
    "Для наглядности упомяну моменты, которые нужно будет поправить:\n",
    "- Углубиться в предобработку данных и еще раз провалидировать данные, особенно в части фильтрация неправдоподобных значений года выпуска\n",
    "- Разбиение датасета на train, validation, test\n",
    "\n",
    "Более детальные комментарии оставил в красных блоках, и наводку по ним я, надеюсь, дал. Если будут проблемы, можешь смело обращаться к своим наставникам.\n",
    "</div>\n",
    "    \n",
    "<div class=\"alert alert-block alert-warning\">\n",
    "В желтых блоках я постарался дать советы по улучшению текущего решения, и поделился лучшими практиками. Будет очень хорошо их поправить, чтобы закрепить эти знания. Благо, они все должны занять очень немного времени.\n",
    "</div>\n",
    "\n",
    "В заключение, я предлагаю провести еще одну итерацию ревью для улучшения решения. \n",
    "\n",
    "Буду ждать твое решение. Ты уже проделала огромную работу, и осталась пара шагов для успешного завершения проекта. Успехов!"
   ]
  },
  {
   "cell_type": "markdown",
   "metadata": {},
   "source": [
    "<h2>Заключение ревьювера v2: </h2> <a class=\"tocSkip\"></a>\n",
    "\n",
    "Дарья, отличная работа. Основные помарки ты исправила - молодец! Проект принят!\n",
    "\n",
    "Успехов в будущих проектах!"
   ]
  },
  {
   "cell_type": "code",
   "execution_count": null,
   "metadata": {},
   "outputs": [],
   "source": []
  }
 ],
 "metadata": {
  "ExecuteTimeLog": [
   {
    "duration": 415,
    "start_time": "2022-05-23T18:22:42.169Z"
   },
   {
    "duration": 3178,
    "start_time": "2022-05-23T18:22:43.578Z"
   },
   {
    "duration": 159,
    "start_time": "2022-05-23T18:23:52.120Z"
   },
   {
    "duration": 92,
    "start_time": "2022-05-23T18:25:10.451Z"
   },
   {
    "duration": 82,
    "start_time": "2022-05-23T18:25:27.392Z"
   },
   {
    "duration": 422,
    "start_time": "2022-05-24T08:29:16.429Z"
   },
   {
    "duration": 2691,
    "start_time": "2022-05-24T08:29:16.853Z"
   },
   {
    "duration": 133,
    "start_time": "2022-05-24T08:29:19.546Z"
   },
   {
    "duration": 84,
    "start_time": "2022-05-24T08:29:19.680Z"
   },
   {
    "duration": 0,
    "start_time": "2022-05-24T08:29:19.765Z"
   },
   {
    "duration": 0,
    "start_time": "2022-05-24T08:29:19.767Z"
   },
   {
    "duration": 0,
    "start_time": "2022-05-24T08:29:19.768Z"
   },
   {
    "duration": 27,
    "start_time": "2022-05-24T08:29:50.503Z"
   },
   {
    "duration": 67,
    "start_time": "2022-05-24T08:30:54.069Z"
   },
   {
    "duration": 151,
    "start_time": "2022-05-24T08:30:58.374Z"
   },
   {
    "duration": 135,
    "start_time": "2022-05-24T08:34:52.395Z"
   },
   {
    "duration": 11,
    "start_time": "2022-05-24T08:50:09.270Z"
   },
   {
    "duration": 232,
    "start_time": "2022-05-24T08:50:39.672Z"
   },
   {
    "duration": 489,
    "start_time": "2022-05-24T08:50:54.185Z"
   },
   {
    "duration": 996,
    "start_time": "2022-05-24T08:50:54.679Z"
   },
   {
    "duration": 180,
    "start_time": "2022-05-24T08:50:55.677Z"
   },
   {
    "duration": 155,
    "start_time": "2022-05-24T08:50:55.863Z"
   },
   {
    "duration": 251,
    "start_time": "2022-05-24T08:50:56.020Z"
   },
   {
    "duration": 131,
    "start_time": "2022-05-24T08:50:56.274Z"
   },
   {
    "duration": 86,
    "start_time": "2022-05-24T08:50:56.407Z"
   },
   {
    "duration": 1017,
    "start_time": "2022-05-24T09:02:00.541Z"
   },
   {
    "duration": 177,
    "start_time": "2022-05-24T09:02:12.874Z"
   },
   {
    "duration": 93,
    "start_time": "2022-05-24T09:03:22.995Z"
   },
   {
    "duration": 22,
    "start_time": "2022-05-24T09:03:43.837Z"
   },
   {
    "duration": 3,
    "start_time": "2022-05-24T09:04:09.443Z"
   },
   {
    "duration": 10,
    "start_time": "2022-05-24T09:04:15.351Z"
   },
   {
    "duration": 3,
    "start_time": "2022-05-24T09:04:51.862Z"
   },
   {
    "duration": 3,
    "start_time": "2022-05-24T09:05:02.643Z"
   },
   {
    "duration": 9,
    "start_time": "2022-05-24T09:05:09.399Z"
   },
   {
    "duration": 20,
    "start_time": "2022-05-24T09:05:12.915Z"
   },
   {
    "duration": 3,
    "start_time": "2022-05-24T09:06:11.662Z"
   },
   {
    "duration": 11,
    "start_time": "2022-05-24T09:06:15.897Z"
   },
   {
    "duration": 7,
    "start_time": "2022-05-24T09:06:22.675Z"
   },
   {
    "duration": 286,
    "start_time": "2022-05-24T09:07:18.064Z"
   },
   {
    "duration": 177,
    "start_time": "2022-05-24T09:08:50.105Z"
   },
   {
    "duration": 0,
    "start_time": "2022-05-24T09:12:23.250Z"
   },
   {
    "duration": 3,
    "start_time": "2022-05-24T09:14:12.325Z"
   },
   {
    "duration": 4,
    "start_time": "2022-05-24T09:14:41.205Z"
   },
   {
    "duration": 8,
    "start_time": "2022-05-24T09:14:48.154Z"
   },
   {
    "duration": 0,
    "start_time": "2022-05-24T09:15:41.232Z"
   },
   {
    "duration": 18708,
    "start_time": "2022-05-24T09:15:45.637Z"
   },
   {
    "duration": 1347,
    "start_time": "2022-05-24T09:16:12.423Z"
   },
   {
    "duration": 8,
    "start_time": "2022-05-24T09:18:32.579Z"
   },
   {
    "duration": 8,
    "start_time": "2022-05-24T09:18:54.094Z"
   },
   {
    "duration": 658,
    "start_time": "2022-05-24T09:19:08.616Z"
   },
   {
    "duration": 310,
    "start_time": "2022-05-24T09:24:24.469Z"
   },
   {
    "duration": 14,
    "start_time": "2022-05-24T09:24:35.372Z"
   },
   {
    "duration": 12,
    "start_time": "2022-05-24T09:27:17.951Z"
   },
   {
    "duration": 307,
    "start_time": "2022-05-24T09:27:35.151Z"
   },
   {
    "duration": 113,
    "start_time": "2022-05-24T09:29:29.251Z"
   },
   {
    "duration": 253,
    "start_time": "2022-05-24T09:29:36.015Z"
   },
   {
    "duration": 470,
    "start_time": "2022-05-24T09:31:22.063Z"
   },
   {
    "duration": 1025,
    "start_time": "2022-05-24T09:31:39.652Z"
   },
   {
    "duration": 485,
    "start_time": "2022-05-24T09:41:09.288Z"
   },
   {
    "duration": 95,
    "start_time": "2022-05-24T09:45:13.872Z"
   },
   {
    "duration": 1364,
    "start_time": "2022-05-24T09:45:31.373Z"
   },
   {
    "duration": 1092,
    "start_time": "2022-05-24T09:45:32.742Z"
   },
   {
    "duration": 143,
    "start_time": "2022-05-24T09:45:33.837Z"
   },
   {
    "duration": 142,
    "start_time": "2022-05-24T09:45:33.982Z"
   },
   {
    "duration": 244,
    "start_time": "2022-05-24T09:45:34.126Z"
   },
   {
    "duration": 136,
    "start_time": "2022-05-24T09:45:34.372Z"
   },
   {
    "duration": 248,
    "start_time": "2022-05-24T09:45:34.509Z"
   },
   {
    "duration": 98,
    "start_time": "2022-05-24T09:45:34.759Z"
   },
   {
    "duration": 540,
    "start_time": "2022-05-24T09:45:34.859Z"
   },
   {
    "duration": 1166,
    "start_time": "2022-05-24T09:45:35.401Z"
   },
   {
    "duration": 192,
    "start_time": "2022-05-24T09:45:36.569Z"
   },
   {
    "duration": 0,
    "start_time": "2022-05-24T09:45:36.762Z"
   },
   {
    "duration": 27,
    "start_time": "2022-05-24T09:45:55.197Z"
   },
   {
    "duration": 43,
    "start_time": "2022-05-24T09:46:05.731Z"
   },
   {
    "duration": 38,
    "start_time": "2022-05-24T09:46:13.942Z"
   },
   {
    "duration": 72,
    "start_time": "2022-05-24T09:46:23.729Z"
   },
   {
    "duration": 42,
    "start_time": "2022-05-24T09:47:06.401Z"
   },
   {
    "duration": 5,
    "start_time": "2022-05-24T09:47:41.690Z"
   },
   {
    "duration": 83,
    "start_time": "2022-05-24T09:47:45.656Z"
   },
   {
    "duration": 173,
    "start_time": "2022-05-24T09:47:46.987Z"
   },
   {
    "duration": 106,
    "start_time": "2022-05-24T09:50:03.180Z"
   },
   {
    "duration": 101,
    "start_time": "2022-05-24T09:50:15.657Z"
   },
   {
    "duration": 161,
    "start_time": "2022-05-24T09:50:19.704Z"
   },
   {
    "duration": 82,
    "start_time": "2022-05-24T09:53:36.593Z"
   },
   {
    "duration": 133,
    "start_time": "2022-05-24T09:53:37.410Z"
   },
   {
    "duration": 64,
    "start_time": "2022-05-24T09:55:08.744Z"
   },
   {
    "duration": 507,
    "start_time": "2022-05-24T09:56:18.644Z"
   },
   {
    "duration": 278,
    "start_time": "2022-05-24T09:56:36.837Z"
   },
   {
    "duration": 294,
    "start_time": "2022-05-24T09:57:02.346Z"
   },
   {
    "duration": 8,
    "start_time": "2022-05-24T09:57:31.673Z"
   },
   {
    "duration": 23,
    "start_time": "2022-05-24T09:57:33.754Z"
   },
   {
    "duration": 1228,
    "start_time": "2022-05-24T09:57:36.790Z"
   },
   {
    "duration": 1152,
    "start_time": "2022-05-24T10:00:42.501Z"
   },
   {
    "duration": 10049,
    "start_time": "2022-05-24T10:02:54.766Z"
   },
   {
    "duration": 39,
    "start_time": "2022-05-24T10:03:49.604Z"
   },
   {
    "duration": 12758,
    "start_time": "2022-05-24T10:05:40.079Z"
   },
   {
    "duration": 13,
    "start_time": "2022-05-24T10:09:41.513Z"
   },
   {
    "duration": 1183,
    "start_time": "2022-05-24T10:09:59.341Z"
   },
   {
    "duration": 9962,
    "start_time": "2022-05-24T10:10:00.526Z"
   },
   {
    "duration": 4,
    "start_time": "2022-05-24T10:18:01.657Z"
   },
   {
    "duration": 60,
    "start_time": "2022-05-24T10:18:40.957Z"
   },
   {
    "duration": 2794,
    "start_time": "2022-05-24T10:18:47.325Z"
   },
   {
    "duration": 1186,
    "start_time": "2022-05-24T10:18:56.132Z"
   },
   {
    "duration": 2708,
    "start_time": "2022-05-24T10:18:57.323Z"
   },
   {
    "duration": 121,
    "start_time": "2022-05-24T10:19:00.032Z"
   },
   {
    "duration": 196,
    "start_time": "2022-05-24T10:19:00.154Z"
   },
   {
    "duration": 108,
    "start_time": "2022-05-24T10:19:00.353Z"
   },
   {
    "duration": 168,
    "start_time": "2022-05-24T10:19:00.462Z"
   },
   {
    "duration": 115,
    "start_time": "2022-05-24T10:19:00.631Z"
   },
   {
    "duration": 199,
    "start_time": "2022-05-24T10:19:00.748Z"
   },
   {
    "duration": 79,
    "start_time": "2022-05-24T10:19:00.949Z"
   },
   {
    "duration": 352,
    "start_time": "2022-05-24T10:19:01.030Z"
   },
   {
    "duration": 824,
    "start_time": "2022-05-24T10:19:01.384Z"
   },
   {
    "duration": 25,
    "start_time": "2022-05-24T10:19:02.210Z"
   },
   {
    "duration": 95,
    "start_time": "2022-05-24T10:19:02.237Z"
   },
   {
    "duration": 7,
    "start_time": "2022-05-24T10:19:02.334Z"
   },
   {
    "duration": 46,
    "start_time": "2022-05-24T10:19:02.342Z"
   },
   {
    "duration": 61,
    "start_time": "2022-05-24T10:19:33.972Z"
   },
   {
    "duration": 2977,
    "start_time": "2022-05-24T10:19:40.169Z"
   },
   {
    "duration": 2756,
    "start_time": "2022-05-24T10:19:43.149Z"
   },
   {
    "duration": 119,
    "start_time": "2022-05-24T10:19:45.907Z"
   },
   {
    "duration": 194,
    "start_time": "2022-05-24T10:19:46.028Z"
   },
   {
    "duration": 95,
    "start_time": "2022-05-24T10:19:46.224Z"
   },
   {
    "duration": 160,
    "start_time": "2022-05-24T10:19:46.326Z"
   },
   {
    "duration": 106,
    "start_time": "2022-05-24T10:19:46.488Z"
   },
   {
    "duration": 187,
    "start_time": "2022-05-24T10:19:46.595Z"
   },
   {
    "duration": 74,
    "start_time": "2022-05-24T10:19:46.784Z"
   },
   {
    "duration": 348,
    "start_time": "2022-05-24T10:19:46.859Z"
   },
   {
    "duration": 697,
    "start_time": "2022-05-24T10:19:47.209Z"
   },
   {
    "duration": 23,
    "start_time": "2022-05-24T10:19:47.911Z"
   },
   {
    "duration": 84,
    "start_time": "2022-05-24T10:19:47.936Z"
   },
   {
    "duration": 8,
    "start_time": "2022-05-24T10:19:48.022Z"
   },
   {
    "duration": 21,
    "start_time": "2022-05-24T10:19:48.031Z"
   },
   {
    "duration": 1207,
    "start_time": "2022-05-24T10:19:48.053Z"
   },
   {
    "duration": 9783,
    "start_time": "2022-05-24T10:19:49.261Z"
   },
   {
    "duration": 1233,
    "start_time": "2022-05-24T10:21:06.265Z"
   },
   {
    "duration": 10086,
    "start_time": "2022-05-24T10:21:07.499Z"
   },
   {
    "duration": 4,
    "start_time": "2022-05-24T10:22:10.567Z"
   },
   {
    "duration": 83224,
    "start_time": "2022-05-24T10:23:53.031Z"
   },
   {
    "duration": 392798,
    "start_time": "2022-05-24T10:28:06.555Z"
   },
   {
    "duration": 3,
    "start_time": "2022-05-24T10:37:26.264Z"
   },
   {
    "duration": 43,
    "start_time": "2022-05-24T10:37:29.787Z"
   },
   {
    "duration": 1530,
    "start_time": "2022-05-24T10:40:24.959Z"
   },
   {
    "duration": 2847,
    "start_time": "2022-05-24T10:40:26.491Z"
   },
   {
    "duration": 120,
    "start_time": "2022-05-24T10:40:29.340Z"
   },
   {
    "duration": 191,
    "start_time": "2022-05-24T10:40:29.462Z"
   },
   {
    "duration": 98,
    "start_time": "2022-05-24T10:40:29.655Z"
   },
   {
    "duration": 192,
    "start_time": "2022-05-24T10:40:29.755Z"
   },
   {
    "duration": 123,
    "start_time": "2022-05-24T10:40:29.949Z"
   },
   {
    "duration": 253,
    "start_time": "2022-05-24T10:40:30.074Z"
   },
   {
    "duration": 105,
    "start_time": "2022-05-24T10:40:30.330Z"
   },
   {
    "duration": 368,
    "start_time": "2022-05-24T10:40:30.439Z"
   },
   {
    "duration": 800,
    "start_time": "2022-05-24T10:40:30.811Z"
   },
   {
    "duration": 36,
    "start_time": "2022-05-24T10:40:31.613Z"
   },
   {
    "duration": 110,
    "start_time": "2022-05-24T10:40:31.654Z"
   },
   {
    "duration": 15,
    "start_time": "2022-05-24T10:40:31.766Z"
   },
   {
    "duration": 58,
    "start_time": "2022-05-24T10:40:31.784Z"
   },
   {
    "duration": 1404,
    "start_time": "2022-05-24T10:40:31.845Z"
   },
   {
    "duration": 10693,
    "start_time": "2022-05-24T10:40:33.251Z"
   },
   {
    "duration": 4,
    "start_time": "2022-05-24T10:40:43.946Z"
   },
   {
    "duration": 84840,
    "start_time": "2022-05-24T10:40:43.952Z"
   },
   {
    "duration": 0,
    "start_time": "2022-05-24T10:47:01.182Z"
   },
   {
    "duration": 0,
    "start_time": "2022-05-24T10:47:01.183Z"
   },
   {
    "duration": 0,
    "start_time": "2022-05-24T10:47:01.186Z"
   },
   {
    "duration": 14151,
    "start_time": "2022-05-24T10:47:03.655Z"
   },
   {
    "duration": 0,
    "start_time": "2022-05-24T10:47:17.812Z"
   },
   {
    "duration": 0,
    "start_time": "2022-05-24T10:47:17.814Z"
   },
   {
    "duration": 0,
    "start_time": "2022-05-24T10:47:17.815Z"
   },
   {
    "duration": 1397,
    "start_time": "2022-05-24T10:50:37.118Z"
   },
   {
    "duration": 126,
    "start_time": "2022-05-24T10:50:48.716Z"
   },
   {
    "duration": 1598,
    "start_time": "2022-05-24T10:51:01.089Z"
   },
   {
    "duration": 3471,
    "start_time": "2022-05-24T10:51:02.689Z"
   },
   {
    "duration": 149,
    "start_time": "2022-05-24T10:51:06.162Z"
   },
   {
    "duration": 217,
    "start_time": "2022-05-24T10:51:06.314Z"
   },
   {
    "duration": 123,
    "start_time": "2022-05-24T10:51:06.534Z"
   },
   {
    "duration": 208,
    "start_time": "2022-05-24T10:51:06.659Z"
   },
   {
    "duration": 124,
    "start_time": "2022-05-24T10:51:06.869Z"
   },
   {
    "duration": 237,
    "start_time": "2022-05-24T10:51:06.996Z"
   },
   {
    "duration": 129,
    "start_time": "2022-05-24T10:51:07.237Z"
   },
   {
    "duration": 499,
    "start_time": "2022-05-24T10:51:07.369Z"
   },
   {
    "duration": 849,
    "start_time": "2022-05-24T10:51:07.871Z"
   },
   {
    "duration": 28,
    "start_time": "2022-05-24T10:51:08.722Z"
   },
   {
    "duration": 97,
    "start_time": "2022-05-24T10:51:08.752Z"
   },
   {
    "duration": 8,
    "start_time": "2022-05-24T10:51:08.851Z"
   },
   {
    "duration": 41,
    "start_time": "2022-05-24T10:51:08.861Z"
   },
   {
    "duration": 1360,
    "start_time": "2022-05-24T10:51:08.904Z"
   },
   {
    "duration": 9381,
    "start_time": "2022-05-24T10:51:10.266Z"
   },
   {
    "duration": 0,
    "start_time": "2022-05-24T10:51:19.648Z"
   },
   {
    "duration": 0,
    "start_time": "2022-05-24T10:51:19.649Z"
   },
   {
    "duration": 0,
    "start_time": "2022-05-24T10:51:19.651Z"
   },
   {
    "duration": 0,
    "start_time": "2022-05-24T10:51:19.652Z"
   },
   {
    "duration": 0,
    "start_time": "2022-05-24T10:51:19.653Z"
   },
   {
    "duration": 0,
    "start_time": "2022-05-24T10:51:19.654Z"
   },
   {
    "duration": 312091,
    "start_time": "2022-05-24T10:51:25.729Z"
   },
   {
    "duration": 3,
    "start_time": "2022-05-24T11:00:29.105Z"
   },
   {
    "duration": 11,
    "start_time": "2022-05-24T11:02:36.548Z"
   },
   {
    "duration": 3,
    "start_time": "2022-05-24T11:02:44.921Z"
   },
   {
    "duration": 14,
    "start_time": "2022-05-24T11:03:34.253Z"
   },
   {
    "duration": 17,
    "start_time": "2022-05-24T11:03:52.414Z"
   },
   {
    "duration": 11,
    "start_time": "2022-05-24T11:05:05.096Z"
   },
   {
    "duration": 9968,
    "start_time": "2022-05-24T11:12:40.258Z"
   },
   {
    "duration": 46,
    "start_time": "2022-05-24T11:12:54.651Z"
   },
   {
    "duration": 1220,
    "start_time": "2022-05-24T11:15:12.633Z"
   },
   {
    "duration": 790,
    "start_time": "2022-05-24T11:15:13.854Z"
   },
   {
    "duration": 130,
    "start_time": "2022-05-24T11:15:14.646Z"
   },
   {
    "duration": 178,
    "start_time": "2022-05-24T11:15:14.777Z"
   },
   {
    "duration": 90,
    "start_time": "2022-05-24T11:15:14.957Z"
   },
   {
    "duration": 155,
    "start_time": "2022-05-24T11:15:15.049Z"
   },
   {
    "duration": 94,
    "start_time": "2022-05-24T11:15:15.205Z"
   },
   {
    "duration": 179,
    "start_time": "2022-05-24T11:15:15.301Z"
   },
   {
    "duration": 71,
    "start_time": "2022-05-24T11:15:15.481Z"
   },
   {
    "duration": 322,
    "start_time": "2022-05-24T11:15:15.554Z"
   },
   {
    "duration": 650,
    "start_time": "2022-05-24T11:15:15.877Z"
   },
   {
    "duration": 23,
    "start_time": "2022-05-24T11:15:16.528Z"
   },
   {
    "duration": 76,
    "start_time": "2022-05-24T11:15:16.553Z"
   },
   {
    "duration": 7,
    "start_time": "2022-05-24T11:15:16.631Z"
   },
   {
    "duration": 30,
    "start_time": "2022-05-24T11:15:16.639Z"
   },
   {
    "duration": 1200,
    "start_time": "2022-05-24T11:15:16.671Z"
   },
   {
    "duration": 9325,
    "start_time": "2022-05-24T11:15:17.873Z"
   },
   {
    "duration": 539,
    "start_time": "2022-05-24T11:15:27.199Z"
   },
   {
    "duration": 75348,
    "start_time": "2022-05-24T11:15:27.739Z"
   },
   {
    "duration": 342549,
    "start_time": "2022-05-24T11:16:43.088Z"
   },
   {
    "duration": 223,
    "start_time": "2022-05-24T11:22:25.639Z"
   },
   {
    "duration": 49,
    "start_time": "2022-05-24T11:22:25.864Z"
   },
   {
    "duration": 4705,
    "start_time": "2022-05-24T11:22:25.915Z"
   },
   {
    "duration": 11,
    "start_time": "2022-05-24T11:22:30.622Z"
   },
   {
    "duration": 343924,
    "start_time": "2022-05-24T11:29:18.230Z"
   },
   {
    "duration": 68458,
    "start_time": "2022-05-24T11:35:02.156Z"
   },
   {
    "duration": 0,
    "start_time": "2022-05-24T11:36:10.744Z"
   },
   {
    "duration": 9,
    "start_time": "2022-05-24T11:36:43.094Z"
   },
   {
    "duration": 3,
    "start_time": "2022-05-24T11:36:47.328Z"
   },
   {
    "duration": 3,
    "start_time": "2022-05-24T11:36:50.077Z"
   },
   {
    "duration": 3,
    "start_time": "2022-05-24T11:37:16.793Z"
   },
   {
    "duration": 4,
    "start_time": "2022-05-24T11:37:21.530Z"
   },
   {
    "duration": 2,
    "start_time": "2022-05-24T11:37:24.062Z"
   },
   {
    "duration": 3,
    "start_time": "2022-05-24T11:38:00.980Z"
   },
   {
    "duration": 3,
    "start_time": "2022-05-24T11:38:04.111Z"
   },
   {
    "duration": 3,
    "start_time": "2022-05-24T11:38:08.709Z"
   },
   {
    "duration": 3,
    "start_time": "2022-05-24T11:38:34.894Z"
   },
   {
    "duration": 3,
    "start_time": "2022-05-24T11:39:10.927Z"
   },
   {
    "duration": 4,
    "start_time": "2022-05-24T11:43:22.687Z"
   },
   {
    "duration": 12,
    "start_time": "2022-05-24T11:43:28.065Z"
   },
   {
    "duration": 11,
    "start_time": "2022-05-24T11:43:41.754Z"
   },
   {
    "duration": 9,
    "start_time": "2022-05-24T11:43:52.972Z"
   },
   {
    "duration": 9,
    "start_time": "2022-05-24T11:44:10.858Z"
   },
   {
    "duration": 1232,
    "start_time": "2022-05-24T11:44:35.526Z"
   },
   {
    "duration": 898,
    "start_time": "2022-05-24T11:44:36.760Z"
   },
   {
    "duration": 142,
    "start_time": "2022-05-24T11:44:37.661Z"
   },
   {
    "duration": 193,
    "start_time": "2022-05-24T11:44:37.812Z"
   },
   {
    "duration": 118,
    "start_time": "2022-05-24T11:44:38.007Z"
   },
   {
    "duration": 155,
    "start_time": "2022-05-24T11:44:38.127Z"
   },
   {
    "duration": 111,
    "start_time": "2022-05-24T11:44:38.283Z"
   },
   {
    "duration": 192,
    "start_time": "2022-05-24T11:44:38.396Z"
   },
   {
    "duration": 76,
    "start_time": "2022-05-24T11:44:38.589Z"
   },
   {
    "duration": 337,
    "start_time": "2022-05-24T11:44:38.666Z"
   },
   {
    "duration": 734,
    "start_time": "2022-05-24T11:44:39.005Z"
   },
   {
    "duration": 23,
    "start_time": "2022-05-24T11:44:39.741Z"
   },
   {
    "duration": 86,
    "start_time": "2022-05-24T11:44:39.767Z"
   },
   {
    "duration": 9,
    "start_time": "2022-05-24T11:44:39.859Z"
   },
   {
    "duration": 24,
    "start_time": "2022-05-24T11:44:39.870Z"
   },
   {
    "duration": 2,
    "start_time": "2022-05-24T11:44:39.896Z"
   },
   {
    "duration": 1243,
    "start_time": "2022-05-24T11:44:39.899Z"
   },
   {
    "duration": 9883,
    "start_time": "2022-05-24T11:44:41.143Z"
   },
   {
    "duration": 604,
    "start_time": "2022-05-24T11:44:51.028Z"
   },
   {
    "duration": 3,
    "start_time": "2022-05-24T11:44:51.634Z"
   },
   {
    "duration": 80425,
    "start_time": "2022-05-24T11:44:51.639Z"
   },
   {
    "duration": 360438,
    "start_time": "2022-05-24T11:46:12.065Z"
   },
   {
    "duration": 7938,
    "start_time": "2022-05-24T11:52:12.505Z"
   },
   {
    "duration": 2,
    "start_time": "2022-05-24T11:52:20.445Z"
   },
   {
    "duration": 75,
    "start_time": "2022-05-24T11:52:20.449Z"
   },
   {
    "duration": 4,
    "start_time": "2022-05-24T11:52:20.613Z"
   },
   {
    "duration": 324658,
    "start_time": "2022-05-24T11:52:20.620Z"
   },
   {
    "duration": 2,
    "start_time": "2022-05-24T11:57:45.280Z"
   },
   {
    "duration": 40,
    "start_time": "2022-05-24T11:57:45.284Z"
   },
   {
    "duration": 10,
    "start_time": "2022-05-24T11:57:45.326Z"
   },
   {
    "duration": 38,
    "start_time": "2022-05-24T11:58:56.514Z"
   },
   {
    "duration": 4,
    "start_time": "2022-05-24T11:59:00.998Z"
   },
   {
    "duration": 40,
    "start_time": "2022-05-24T11:59:05.051Z"
   },
   {
    "duration": 31,
    "start_time": "2022-05-24T11:59:12.807Z"
   },
   {
    "duration": 10,
    "start_time": "2022-05-24T11:59:25.531Z"
   },
   {
    "duration": 586,
    "start_time": "2022-05-24T11:59:34.899Z"
   },
   {
    "duration": 528,
    "start_time": "2022-05-24T12:01:08.797Z"
   },
   {
    "duration": 1418,
    "start_time": "2022-05-24T12:03:26.886Z"
   },
   {
    "duration": 880,
    "start_time": "2022-05-24T12:03:28.305Z"
   },
   {
    "duration": 131,
    "start_time": "2022-05-24T12:03:29.187Z"
   },
   {
    "duration": 192,
    "start_time": "2022-05-24T12:03:29.320Z"
   },
   {
    "duration": 104,
    "start_time": "2022-05-24T12:03:29.515Z"
   },
   {
    "duration": 173,
    "start_time": "2022-05-24T12:03:29.621Z"
   },
   {
    "duration": 103,
    "start_time": "2022-05-24T12:03:29.796Z"
   },
   {
    "duration": 184,
    "start_time": "2022-05-24T12:03:29.911Z"
   },
   {
    "duration": 73,
    "start_time": "2022-05-24T12:03:30.097Z"
   },
   {
    "duration": 359,
    "start_time": "2022-05-24T12:03:30.172Z"
   },
   {
    "duration": 677,
    "start_time": "2022-05-24T12:03:30.533Z"
   },
   {
    "duration": 25,
    "start_time": "2022-05-24T12:03:31.212Z"
   },
   {
    "duration": 85,
    "start_time": "2022-05-24T12:03:31.239Z"
   },
   {
    "duration": 7,
    "start_time": "2022-05-24T12:03:31.327Z"
   },
   {
    "duration": 56,
    "start_time": "2022-05-24T12:03:31.336Z"
   },
   {
    "duration": 24,
    "start_time": "2022-05-24T12:03:31.394Z"
   },
   {
    "duration": 1339,
    "start_time": "2022-05-24T12:03:31.420Z"
   },
   {
    "duration": 9795,
    "start_time": "2022-05-24T12:03:32.761Z"
   },
   {
    "duration": 542,
    "start_time": "2022-05-24T12:03:42.558Z"
   },
   {
    "duration": 3,
    "start_time": "2022-05-24T12:03:43.102Z"
   },
   {
    "duration": 77714,
    "start_time": "2022-05-24T12:03:43.112Z"
   },
   {
    "duration": 69209,
    "start_time": "2022-05-24T12:05:00.827Z"
   },
   {
    "duration": 0,
    "start_time": "2022-05-24T12:06:10.038Z"
   },
   {
    "duration": 0,
    "start_time": "2022-05-24T12:06:10.039Z"
   },
   {
    "duration": 0,
    "start_time": "2022-05-24T12:06:10.040Z"
   },
   {
    "duration": 0,
    "start_time": "2022-05-24T12:06:10.041Z"
   },
   {
    "duration": 0,
    "start_time": "2022-05-24T12:06:10.042Z"
   },
   {
    "duration": 0,
    "start_time": "2022-05-24T12:06:10.043Z"
   },
   {
    "duration": 0,
    "start_time": "2022-05-24T12:06:10.044Z"
   },
   {
    "duration": 0,
    "start_time": "2022-05-24T12:06:10.045Z"
   },
   {
    "duration": 514,
    "start_time": "2022-05-24T12:09:29.730Z"
   },
   {
    "duration": 17,
    "start_time": "2022-05-24T12:09:31.489Z"
   },
   {
    "duration": 5,
    "start_time": "2022-05-24T12:09:33.331Z"
   },
   {
    "duration": 1360,
    "start_time": "2022-05-24T12:14:36.317Z"
   },
   {
    "duration": 942,
    "start_time": "2022-05-24T12:14:37.679Z"
   },
   {
    "duration": 141,
    "start_time": "2022-05-24T12:14:38.622Z"
   },
   {
    "duration": 213,
    "start_time": "2022-05-24T12:14:38.765Z"
   },
   {
    "duration": 108,
    "start_time": "2022-05-24T12:14:38.980Z"
   },
   {
    "duration": 181,
    "start_time": "2022-05-24T12:14:39.089Z"
   },
   {
    "duration": 108,
    "start_time": "2022-05-24T12:14:39.271Z"
   },
   {
    "duration": 203,
    "start_time": "2022-05-24T12:14:39.381Z"
   },
   {
    "duration": 80,
    "start_time": "2022-05-24T12:14:39.587Z"
   },
   {
    "duration": 347,
    "start_time": "2022-05-24T12:14:39.670Z"
   },
   {
    "duration": 688,
    "start_time": "2022-05-24T12:14:40.019Z"
   },
   {
    "duration": 22,
    "start_time": "2022-05-24T12:14:40.712Z"
   },
   {
    "duration": 80,
    "start_time": "2022-05-24T12:14:40.736Z"
   },
   {
    "duration": 8,
    "start_time": "2022-05-24T12:14:40.817Z"
   },
   {
    "duration": 26,
    "start_time": "2022-05-24T12:14:40.826Z"
   },
   {
    "duration": 3,
    "start_time": "2022-05-24T12:14:40.854Z"
   },
   {
    "duration": 1272,
    "start_time": "2022-05-24T12:14:40.858Z"
   },
   {
    "duration": 9826,
    "start_time": "2022-05-24T12:14:42.132Z"
   },
   {
    "duration": 519,
    "start_time": "2022-05-24T12:14:51.960Z"
   },
   {
    "duration": 13,
    "start_time": "2022-05-24T12:14:52.481Z"
   },
   {
    "duration": 16,
    "start_time": "2022-05-24T12:14:52.496Z"
   },
   {
    "duration": 3,
    "start_time": "2022-05-24T12:14:52.513Z"
   },
   {
    "duration": 78044,
    "start_time": "2022-05-24T12:14:52.518Z"
   },
   {
    "duration": 350839,
    "start_time": "2022-05-24T12:16:10.564Z"
   },
   {
    "duration": 7536,
    "start_time": "2022-05-24T12:22:01.405Z"
   },
   {
    "duration": 507,
    "start_time": "2022-05-24T12:22:08.943Z"
   },
   {
    "duration": 8,
    "start_time": "2022-05-24T12:22:09.452Z"
   },
   {
    "duration": 4,
    "start_time": "2022-05-24T12:22:09.464Z"
   },
   {
    "duration": 55,
    "start_time": "2022-05-24T12:22:09.470Z"
   },
   {
    "duration": 187,
    "start_time": "2022-05-24T12:22:09.527Z"
   },
   {
    "duration": 6,
    "start_time": "2022-05-24T12:22:09.716Z"
   },
   {
    "duration": 6,
    "start_time": "2022-05-24T12:22:09.724Z"
   },
   {
    "duration": 354887,
    "start_time": "2022-05-24T12:22:09.731Z"
   },
   {
    "duration": 608,
    "start_time": "2022-05-24T12:28:04.619Z"
   },
   {
    "duration": 4,
    "start_time": "2022-05-24T12:28:05.229Z"
   },
   {
    "duration": 16,
    "start_time": "2022-05-24T12:28:05.235Z"
   },
   {
    "duration": 140,
    "start_time": "2022-05-24T12:28:05.253Z"
   },
   {
    "duration": 0,
    "start_time": "2022-05-24T12:28:05.394Z"
   },
   {
    "duration": 12,
    "start_time": "2022-05-24T12:28:11.355Z"
   },
   {
    "duration": 3,
    "start_time": "2022-05-24T12:29:59.283Z"
   },
   {
    "duration": 18,
    "start_time": "2022-05-24T12:30:02.871Z"
   },
   {
    "duration": 509,
    "start_time": "2022-05-24T12:30:12.026Z"
   },
   {
    "duration": 5,
    "start_time": "2022-05-24T12:30:17.202Z"
   },
   {
    "duration": 3,
    "start_time": "2022-05-24T12:30:17.854Z"
   },
   {
    "duration": 11,
    "start_time": "2022-05-24T12:30:21.925Z"
   },
   {
    "duration": 3,
    "start_time": "2022-05-24T12:30:49.349Z"
   },
   {
    "duration": 6,
    "start_time": "2022-05-24T12:30:57.315Z"
   },
   {
    "duration": 9,
    "start_time": "2022-05-24T12:31:25.028Z"
   },
   {
    "duration": 3,
    "start_time": "2022-05-24T12:32:09.051Z"
   },
   {
    "duration": 529,
    "start_time": "2022-05-24T12:32:12.694Z"
   },
   {
    "duration": 13,
    "start_time": "2022-05-24T12:32:13.967Z"
   },
   {
    "duration": 5,
    "start_time": "2022-05-24T12:32:15.059Z"
   },
   {
    "duration": 3,
    "start_time": "2022-05-24T12:32:16.071Z"
   },
   {
    "duration": 7323,
    "start_time": "2022-05-24T12:32:23.530Z"
   },
   {
    "duration": 556,
    "start_time": "2022-05-24T12:32:30.855Z"
   },
   {
    "duration": 5,
    "start_time": "2022-05-24T12:32:31.414Z"
   },
   {
    "duration": 28,
    "start_time": "2022-05-24T12:32:31.422Z"
   },
   {
    "duration": 80,
    "start_time": "2022-05-24T12:32:31.453Z"
   },
   {
    "duration": 179,
    "start_time": "2022-05-24T12:32:31.537Z"
   },
   {
    "duration": 46,
    "start_time": "2022-05-24T12:32:31.721Z"
   },
   {
    "duration": 563,
    "start_time": "2022-05-24T12:32:35.750Z"
   },
   {
    "duration": 3,
    "start_time": "2022-05-24T12:32:58.191Z"
   },
   {
    "duration": 610,
    "start_time": "2022-05-24T12:33:03.233Z"
   },
   {
    "duration": 15,
    "start_time": "2022-05-24T12:33:03.845Z"
   },
   {
    "duration": 6,
    "start_time": "2022-05-24T12:33:04.706Z"
   },
   {
    "duration": 2,
    "start_time": "2022-05-24T12:33:05.555Z"
   },
   {
    "duration": 7222,
    "start_time": "2022-05-24T12:33:09.502Z"
   },
   {
    "duration": 517,
    "start_time": "2022-05-24T12:33:16.726Z"
   },
   {
    "duration": 5,
    "start_time": "2022-05-24T12:33:17.245Z"
   },
   {
    "duration": 8,
    "start_time": "2022-05-24T12:33:17.253Z"
   },
   {
    "duration": 56,
    "start_time": "2022-05-24T12:33:17.263Z"
   },
   {
    "duration": 93,
    "start_time": "2022-05-24T12:33:17.321Z"
   },
   {
    "duration": 102,
    "start_time": "2022-05-24T12:33:17.416Z"
   },
   {
    "duration": 3,
    "start_time": "2022-05-24T12:33:17.520Z"
   },
   {
    "duration": 302764,
    "start_time": "2022-05-24T12:33:20.256Z"
   },
   {
    "duration": 609,
    "start_time": "2022-05-24T12:38:23.022Z"
   },
   {
    "duration": 5,
    "start_time": "2022-05-24T12:38:23.633Z"
   },
   {
    "duration": 9,
    "start_time": "2022-05-24T12:38:23.640Z"
   },
   {
    "duration": 68,
    "start_time": "2022-05-24T12:38:23.651Z"
   },
   {
    "duration": 9,
    "start_time": "2022-05-24T12:39:33.627Z"
   },
   {
    "duration": 12,
    "start_time": "2022-05-24T12:39:34.708Z"
   },
   {
    "duration": 11,
    "start_time": "2022-05-24T12:50:17.569Z"
   },
   {
    "duration": 3,
    "start_time": "2022-05-24T12:50:28.448Z"
   },
   {
    "duration": 11,
    "start_time": "2022-05-24T12:50:33.267Z"
   },
   {
    "duration": 35,
    "start_time": "2022-05-24T21:42:25.442Z"
   },
   {
    "duration": 1477,
    "start_time": "2022-05-24T21:44:48.464Z"
   },
   {
    "duration": 2065,
    "start_time": "2022-05-24T21:44:49.943Z"
   },
   {
    "duration": 315,
    "start_time": "2022-05-24T21:44:52.010Z"
   },
   {
    "duration": 212,
    "start_time": "2022-05-24T21:44:52.328Z"
   },
   {
    "duration": 118,
    "start_time": "2022-05-24T21:44:52.542Z"
   },
   {
    "duration": 172,
    "start_time": "2022-05-24T21:44:52.663Z"
   },
   {
    "duration": 110,
    "start_time": "2022-05-24T21:44:52.837Z"
   },
   {
    "duration": 230,
    "start_time": "2022-05-24T21:44:52.948Z"
   },
   {
    "duration": 197,
    "start_time": "2022-05-24T21:44:53.180Z"
   },
   {
    "duration": 64,
    "start_time": "2022-05-24T21:44:53.380Z"
   },
   {
    "duration": 360,
    "start_time": "2022-05-24T21:44:53.446Z"
   },
   {
    "duration": 699,
    "start_time": "2022-05-24T21:44:53.808Z"
   },
   {
    "duration": 22,
    "start_time": "2022-05-24T21:44:54.509Z"
   },
   {
    "duration": 76,
    "start_time": "2022-05-24T21:44:54.532Z"
   },
   {
    "duration": 8,
    "start_time": "2022-05-24T21:44:54.610Z"
   },
   {
    "duration": 39,
    "start_time": "2022-05-24T21:44:54.620Z"
   },
   {
    "duration": 3,
    "start_time": "2022-05-24T21:44:54.660Z"
   },
   {
    "duration": 1175,
    "start_time": "2022-05-24T21:44:54.665Z"
   },
   {
    "duration": 9816,
    "start_time": "2022-05-24T21:44:55.842Z"
   },
   {
    "duration": 574,
    "start_time": "2022-05-24T21:45:05.660Z"
   },
   {
    "duration": 23,
    "start_time": "2022-05-24T21:45:06.236Z"
   },
   {
    "duration": 6,
    "start_time": "2022-05-24T21:45:06.261Z"
   },
   {
    "duration": 5,
    "start_time": "2022-05-24T21:45:06.269Z"
   },
   {
    "duration": 77888,
    "start_time": "2022-05-24T21:45:06.276Z"
   },
   {
    "duration": 315570,
    "start_time": "2022-05-24T21:46:24.166Z"
   },
   {
    "duration": 0,
    "start_time": "2022-05-24T21:51:39.738Z"
   },
   {
    "duration": 0,
    "start_time": "2022-05-24T21:51:39.739Z"
   },
   {
    "duration": 0,
    "start_time": "2022-05-24T21:51:39.740Z"
   },
   {
    "duration": 0,
    "start_time": "2022-05-24T21:51:39.741Z"
   },
   {
    "duration": 0,
    "start_time": "2022-05-24T21:51:39.742Z"
   },
   {
    "duration": 0,
    "start_time": "2022-05-24T21:51:39.743Z"
   },
   {
    "duration": 0,
    "start_time": "2022-05-24T21:51:39.760Z"
   },
   {
    "duration": 0,
    "start_time": "2022-05-24T21:51:39.761Z"
   },
   {
    "duration": 0,
    "start_time": "2022-05-24T21:51:39.762Z"
   },
   {
    "duration": 0,
    "start_time": "2022-05-24T21:51:39.763Z"
   },
   {
    "duration": 0,
    "start_time": "2022-05-24T21:51:39.764Z"
   },
   {
    "duration": 1,
    "start_time": "2022-05-24T21:51:39.764Z"
   },
   {
    "duration": 0,
    "start_time": "2022-05-24T21:51:39.765Z"
   },
   {
    "duration": 0,
    "start_time": "2022-05-24T21:51:39.766Z"
   },
   {
    "duration": 0,
    "start_time": "2022-05-24T21:51:39.769Z"
   },
   {
    "duration": 1191,
    "start_time": "2022-05-24T21:51:43.105Z"
   },
   {
    "duration": 844,
    "start_time": "2022-05-24T21:51:44.298Z"
   },
   {
    "duration": 144,
    "start_time": "2022-05-24T21:51:45.143Z"
   },
   {
    "duration": 297,
    "start_time": "2022-05-24T21:51:45.289Z"
   },
   {
    "duration": 212,
    "start_time": "2022-05-24T21:51:45.589Z"
   },
   {
    "duration": 385,
    "start_time": "2022-05-24T21:51:45.802Z"
   },
   {
    "duration": 213,
    "start_time": "2022-05-24T21:51:46.188Z"
   },
   {
    "duration": 371,
    "start_time": "2022-05-24T21:51:46.403Z"
   },
   {
    "duration": 391,
    "start_time": "2022-05-24T21:51:46.776Z"
   },
   {
    "duration": 171,
    "start_time": "2022-05-24T21:51:47.169Z"
   },
   {
    "duration": 91,
    "start_time": "2022-05-24T21:51:47.342Z"
   },
   {
    "duration": 353,
    "start_time": "2022-05-24T21:51:47.435Z"
   },
   {
    "duration": 663,
    "start_time": "2022-05-24T21:51:47.790Z"
   },
   {
    "duration": 26,
    "start_time": "2022-05-24T21:51:48.460Z"
   },
   {
    "duration": 86,
    "start_time": "2022-05-24T21:51:48.488Z"
   },
   {
    "duration": 8,
    "start_time": "2022-05-24T21:51:48.575Z"
   },
   {
    "duration": 18,
    "start_time": "2022-05-24T21:51:48.585Z"
   },
   {
    "duration": 3,
    "start_time": "2022-05-24T21:51:48.605Z"
   },
   {
    "duration": 1211,
    "start_time": "2022-05-24T21:51:48.610Z"
   },
   {
    "duration": 8953,
    "start_time": "2022-05-24T21:51:49.823Z"
   },
   {
    "duration": 0,
    "start_time": "2022-05-24T21:51:58.778Z"
   },
   {
    "duration": 0,
    "start_time": "2022-05-24T21:51:58.780Z"
   },
   {
    "duration": 0,
    "start_time": "2022-05-24T21:51:58.781Z"
   },
   {
    "duration": 0,
    "start_time": "2022-05-24T21:51:58.782Z"
   },
   {
    "duration": 0,
    "start_time": "2022-05-24T21:51:58.784Z"
   },
   {
    "duration": 0,
    "start_time": "2022-05-24T21:51:58.785Z"
   },
   {
    "duration": 0,
    "start_time": "2022-05-24T21:51:58.786Z"
   },
   {
    "duration": 0,
    "start_time": "2022-05-24T21:51:58.787Z"
   },
   {
    "duration": 0,
    "start_time": "2022-05-24T21:51:58.789Z"
   },
   {
    "duration": 0,
    "start_time": "2022-05-24T21:51:58.790Z"
   },
   {
    "duration": 0,
    "start_time": "2022-05-24T21:51:58.792Z"
   },
   {
    "duration": 0,
    "start_time": "2022-05-24T21:51:58.793Z"
   },
   {
    "duration": 0,
    "start_time": "2022-05-24T21:51:58.794Z"
   },
   {
    "duration": 0,
    "start_time": "2022-05-24T21:51:58.795Z"
   },
   {
    "duration": 0,
    "start_time": "2022-05-24T21:51:58.797Z"
   },
   {
    "duration": 0,
    "start_time": "2022-05-24T21:51:58.798Z"
   },
   {
    "duration": 0,
    "start_time": "2022-05-24T21:51:58.799Z"
   },
   {
    "duration": 0,
    "start_time": "2022-05-24T21:51:58.800Z"
   },
   {
    "duration": 0,
    "start_time": "2022-05-24T21:51:58.802Z"
   },
   {
    "duration": 0,
    "start_time": "2022-05-24T21:51:58.803Z"
   },
   {
    "duration": 0,
    "start_time": "2022-05-24T21:51:58.805Z"
   },
   {
    "duration": 4,
    "start_time": "2022-05-24T21:52:44.100Z"
   },
   {
    "duration": 794,
    "start_time": "2022-05-24T21:52:45.211Z"
   },
   {
    "duration": 144,
    "start_time": "2022-05-24T21:52:47.136Z"
   },
   {
    "duration": 160,
    "start_time": "2022-05-24T21:52:47.332Z"
   },
   {
    "duration": 101,
    "start_time": "2022-05-24T21:52:47.907Z"
   },
   {
    "duration": 163,
    "start_time": "2022-05-24T21:52:48.730Z"
   },
   {
    "duration": 94,
    "start_time": "2022-05-24T21:52:48.944Z"
   },
   {
    "duration": 1373,
    "start_time": "2022-05-24T21:52:50.906Z"
   },
   {
    "duration": 235,
    "start_time": "2022-05-24T21:54:22.191Z"
   },
   {
    "duration": 138,
    "start_time": "2022-05-24T21:54:50.805Z"
   },
   {
    "duration": 124,
    "start_time": "2022-05-24T21:54:58.722Z"
   },
   {
    "duration": 129,
    "start_time": "2022-05-24T21:55:14.698Z"
   },
   {
    "duration": 150,
    "start_time": "2022-05-24T21:55:27.585Z"
   },
   {
    "duration": 136,
    "start_time": "2022-05-24T21:56:16.990Z"
   },
   {
    "duration": 687,
    "start_time": "2022-05-24T21:57:10.571Z"
   },
   {
    "duration": 514,
    "start_time": "2022-05-24T21:57:23.788Z"
   },
   {
    "duration": 394,
    "start_time": "2022-05-24T21:57:46.319Z"
   },
   {
    "duration": 260,
    "start_time": "2022-05-24T21:58:08.780Z"
   },
   {
    "duration": 454,
    "start_time": "2022-05-24T21:59:30.849Z"
   },
   {
    "duration": 273,
    "start_time": "2022-05-24T21:59:47.737Z"
   },
   {
    "duration": 447,
    "start_time": "2022-05-24T21:59:56.625Z"
   },
   {
    "duration": 263,
    "start_time": "2022-05-24T22:00:33.771Z"
   },
   {
    "duration": 265,
    "start_time": "2022-05-24T22:00:48.214Z"
   },
   {
    "duration": 256,
    "start_time": "2022-05-24T22:00:58.170Z"
   },
   {
    "duration": 399,
    "start_time": "2022-05-24T22:01:41.395Z"
   },
   {
    "duration": 255,
    "start_time": "2022-05-24T22:01:57.598Z"
   },
   {
    "duration": 241,
    "start_time": "2022-05-24T22:02:14.198Z"
   },
   {
    "duration": 267,
    "start_time": "2022-05-24T22:02:45.247Z"
   },
   {
    "duration": 442,
    "start_time": "2022-05-24T22:03:22.083Z"
   },
   {
    "duration": 645,
    "start_time": "2022-05-24T22:03:36.997Z"
   },
   {
    "duration": 305,
    "start_time": "2022-05-24T22:03:46.778Z"
   },
   {
    "duration": 311,
    "start_time": "2022-05-24T22:04:01.579Z"
   },
   {
    "duration": 239,
    "start_time": "2022-05-24T22:04:39.949Z"
   },
   {
    "duration": 244,
    "start_time": "2022-05-24T22:04:50.375Z"
   },
   {
    "duration": 292,
    "start_time": "2022-05-24T22:04:56.723Z"
   },
   {
    "duration": 346,
    "start_time": "2022-05-24T22:05:07.345Z"
   },
   {
    "duration": 246,
    "start_time": "2022-05-24T22:05:15.580Z"
   },
   {
    "duration": 326,
    "start_time": "2022-05-24T22:05:20.309Z"
   },
   {
    "duration": 90,
    "start_time": "2022-05-24T22:11:00.032Z"
   },
   {
    "duration": 141,
    "start_time": "2022-05-24T22:11:00.777Z"
   },
   {
    "duration": 283,
    "start_time": "2022-05-24T22:15:04.145Z"
   },
   {
    "duration": 1383,
    "start_time": "2022-05-24T22:15:19.440Z"
   },
   {
    "duration": 969,
    "start_time": "2022-05-24T22:15:20.825Z"
   },
   {
    "duration": 145,
    "start_time": "2022-05-24T22:15:21.796Z"
   },
   {
    "duration": 298,
    "start_time": "2022-05-24T22:15:21.944Z"
   },
   {
    "duration": 178,
    "start_time": "2022-05-24T22:15:22.245Z"
   },
   {
    "duration": 285,
    "start_time": "2022-05-24T22:15:22.426Z"
   },
   {
    "duration": 135,
    "start_time": "2022-05-24T22:15:22.717Z"
   },
   {
    "duration": 135,
    "start_time": "2022-05-24T22:15:22.854Z"
   },
   {
    "duration": 679,
    "start_time": "2022-05-24T22:15:22.995Z"
   },
   {
    "duration": 406,
    "start_time": "2022-05-24T22:15:23.681Z"
   },
   {
    "duration": 165,
    "start_time": "2022-05-24T22:15:24.091Z"
   },
   {
    "duration": 172,
    "start_time": "2022-05-24T22:15:24.257Z"
   },
   {
    "duration": 82,
    "start_time": "2022-05-24T22:15:24.431Z"
   },
   {
    "duration": 370,
    "start_time": "2022-05-24T22:15:24.517Z"
   },
   {
    "duration": 722,
    "start_time": "2022-05-24T22:15:24.890Z"
   },
   {
    "duration": 47,
    "start_time": "2022-05-24T22:15:25.614Z"
   },
   {
    "duration": 92,
    "start_time": "2022-05-24T22:15:25.663Z"
   },
   {
    "duration": 13,
    "start_time": "2022-05-24T22:15:25.757Z"
   },
   {
    "duration": 63,
    "start_time": "2022-05-24T22:15:25.778Z"
   },
   {
    "duration": 17,
    "start_time": "2022-05-24T22:15:25.843Z"
   },
   {
    "duration": 1174,
    "start_time": "2022-05-24T22:15:25.866Z"
   },
   {
    "duration": 8801,
    "start_time": "2022-05-24T22:15:27.042Z"
   },
   {
    "duration": 625,
    "start_time": "2022-05-24T22:15:35.845Z"
   },
   {
    "duration": 15,
    "start_time": "2022-05-24T22:15:36.477Z"
   },
   {
    "duration": 26,
    "start_time": "2022-05-24T22:15:36.494Z"
   },
   {
    "duration": 19,
    "start_time": "2022-05-24T22:15:36.522Z"
   },
   {
    "duration": 58183,
    "start_time": "2022-05-24T22:15:36.543Z"
   },
   {
    "duration": 0,
    "start_time": "2022-05-24T22:16:34.728Z"
   },
   {
    "duration": 0,
    "start_time": "2022-05-24T22:16:34.730Z"
   },
   {
    "duration": 0,
    "start_time": "2022-05-24T22:16:34.731Z"
   },
   {
    "duration": 1,
    "start_time": "2022-05-24T22:16:34.732Z"
   },
   {
    "duration": 0,
    "start_time": "2022-05-24T22:16:34.734Z"
   },
   {
    "duration": 0,
    "start_time": "2022-05-24T22:16:34.735Z"
   },
   {
    "duration": 0,
    "start_time": "2022-05-24T22:16:34.736Z"
   },
   {
    "duration": 0,
    "start_time": "2022-05-24T22:16:34.737Z"
   },
   {
    "duration": 0,
    "start_time": "2022-05-24T22:16:34.738Z"
   },
   {
    "duration": 0,
    "start_time": "2022-05-24T22:16:34.761Z"
   },
   {
    "duration": 1,
    "start_time": "2022-05-24T22:16:34.761Z"
   },
   {
    "duration": 0,
    "start_time": "2022-05-24T22:16:34.762Z"
   },
   {
    "duration": 0,
    "start_time": "2022-05-24T22:16:34.763Z"
   },
   {
    "duration": 0,
    "start_time": "2022-05-24T22:16:34.765Z"
   },
   {
    "duration": 0,
    "start_time": "2022-05-24T22:16:34.766Z"
   },
   {
    "duration": 0,
    "start_time": "2022-05-24T22:16:34.768Z"
   },
   {
    "duration": 0,
    "start_time": "2022-05-24T22:16:34.769Z"
   },
   {
    "duration": 3,
    "start_time": "2022-05-24T22:16:37.875Z"
   },
   {
    "duration": 826,
    "start_time": "2022-05-24T22:16:38.651Z"
   },
   {
    "duration": 154,
    "start_time": "2022-05-24T22:16:39.479Z"
   },
   {
    "duration": 162,
    "start_time": "2022-05-24T22:16:39.913Z"
   },
   {
    "duration": 100,
    "start_time": "2022-05-24T22:16:41.583Z"
   },
   {
    "duration": 145,
    "start_time": "2022-05-24T22:16:43.967Z"
   },
   {
    "duration": 98,
    "start_time": "2022-05-24T22:16:44.473Z"
   },
   {
    "duration": 75,
    "start_time": "2022-05-24T22:16:47.429Z"
   },
   {
    "duration": 341,
    "start_time": "2022-05-24T22:16:49.179Z"
   },
   {
    "duration": 245,
    "start_time": "2022-05-24T22:16:56.315Z"
   },
   {
    "duration": 394,
    "start_time": "2022-05-24T22:17:06.194Z"
   },
   {
    "duration": 234,
    "start_time": "2022-05-24T22:17:16.198Z"
   },
   {
    "duration": 321,
    "start_time": "2022-05-24T22:17:58.541Z"
   },
   {
    "duration": 395,
    "start_time": "2022-05-24T22:18:18.606Z"
   },
   {
    "duration": 311,
    "start_time": "2022-05-24T22:18:37.696Z"
   },
   {
    "duration": 284,
    "start_time": "2022-05-24T22:18:51.789Z"
   },
   {
    "duration": 333,
    "start_time": "2022-05-24T22:19:47.597Z"
   },
   {
    "duration": 411,
    "start_time": "2022-05-24T22:20:44.606Z"
   },
   {
    "duration": 310,
    "start_time": "2022-05-24T22:21:12.573Z"
   },
   {
    "duration": 476,
    "start_time": "2022-05-24T22:21:22.327Z"
   },
   {
    "duration": 300,
    "start_time": "2022-05-24T22:22:33.475Z"
   },
   {
    "duration": 142,
    "start_time": "2022-05-24T22:24:24.230Z"
   },
   {
    "duration": 94,
    "start_time": "2022-05-24T22:26:06.972Z"
   },
   {
    "duration": 10,
    "start_time": "2022-05-24T22:47:45.520Z"
   },
   {
    "duration": 1359,
    "start_time": "2022-05-24T22:47:53.519Z"
   },
   {
    "duration": 1000,
    "start_time": "2022-05-24T22:47:54.884Z"
   },
   {
    "duration": 178,
    "start_time": "2022-05-24T22:47:55.886Z"
   },
   {
    "duration": 204,
    "start_time": "2022-05-24T22:47:56.080Z"
   },
   {
    "duration": 127,
    "start_time": "2022-05-24T22:47:56.290Z"
   },
   {
    "duration": 204,
    "start_time": "2022-05-24T22:47:56.420Z"
   },
   {
    "duration": 124,
    "start_time": "2022-05-24T22:47:56.625Z"
   },
   {
    "duration": 139,
    "start_time": "2022-05-24T22:47:56.751Z"
   },
   {
    "duration": 470,
    "start_time": "2022-05-24T22:47:56.892Z"
   },
   {
    "duration": 422,
    "start_time": "2022-05-24T22:47:57.365Z"
   },
   {
    "duration": 623,
    "start_time": "2022-05-24T22:47:57.789Z"
   },
   {
    "duration": 443,
    "start_time": "2022-05-24T22:47:58.414Z"
   },
   {
    "duration": 549,
    "start_time": "2022-05-24T22:47:58.867Z"
   },
   {
    "duration": 362,
    "start_time": "2022-05-24T22:47:59.418Z"
   },
   {
    "duration": 399,
    "start_time": "2022-05-24T22:47:59.785Z"
   },
   {
    "duration": 165,
    "start_time": "2022-05-24T22:48:00.188Z"
   },
   {
    "duration": 80,
    "start_time": "2022-05-24T22:48:00.356Z"
   },
   {
    "duration": 412,
    "start_time": "2022-05-24T22:48:00.438Z"
   },
   {
    "duration": 765,
    "start_time": "2022-05-24T22:48:00.852Z"
   },
   {
    "duration": 71,
    "start_time": "2022-05-24T22:48:01.619Z"
   },
   {
    "duration": 93,
    "start_time": "2022-05-24T22:48:01.699Z"
   },
   {
    "duration": 24,
    "start_time": "2022-05-24T22:48:01.794Z"
   },
   {
    "duration": 28,
    "start_time": "2022-05-24T22:48:01.820Z"
   },
   {
    "duration": 48,
    "start_time": "2022-05-24T22:48:01.850Z"
   },
   {
    "duration": 917,
    "start_time": "2022-05-24T22:48:01.900Z"
   },
   {
    "duration": 7568,
    "start_time": "2022-05-24T22:48:02.819Z"
   },
   {
    "duration": 410,
    "start_time": "2022-05-24T22:48:10.390Z"
   },
   {
    "duration": 14,
    "start_time": "2022-05-24T22:48:10.810Z"
   },
   {
    "duration": 7,
    "start_time": "2022-05-24T22:48:10.826Z"
   },
   {
    "duration": 8,
    "start_time": "2022-05-24T22:48:10.835Z"
   },
   {
    "duration": 58129,
    "start_time": "2022-05-24T22:48:10.845Z"
   },
   {
    "duration": 263686,
    "start_time": "2022-05-24T22:49:08.976Z"
   },
   {
    "duration": 5472,
    "start_time": "2022-05-24T22:53:32.675Z"
   },
   {
    "duration": 395,
    "start_time": "2022-05-24T22:53:38.150Z"
   },
   {
    "duration": 4,
    "start_time": "2022-05-24T22:53:38.547Z"
   },
   {
    "duration": 15,
    "start_time": "2022-05-24T22:53:38.567Z"
   },
   {
    "duration": 43,
    "start_time": "2022-05-24T22:53:38.591Z"
   },
   {
    "duration": 54,
    "start_time": "2022-05-24T22:53:38.635Z"
   },
   {
    "duration": 80,
    "start_time": "2022-05-24T22:53:38.694Z"
   },
   {
    "duration": 34,
    "start_time": "2022-05-24T22:53:38.778Z"
   },
   {
    "duration": 116631,
    "start_time": "2022-05-24T22:53:38.814Z"
   },
   {
    "duration": 0,
    "start_time": "2022-05-24T22:55:35.447Z"
   },
   {
    "duration": 0,
    "start_time": "2022-05-24T22:55:35.448Z"
   },
   {
    "duration": 0,
    "start_time": "2022-05-24T22:55:35.450Z"
   },
   {
    "duration": 0,
    "start_time": "2022-05-24T22:55:35.460Z"
   },
   {
    "duration": 0,
    "start_time": "2022-05-24T22:55:35.462Z"
   },
   {
    "duration": 0,
    "start_time": "2022-05-24T22:55:35.467Z"
   },
   {
    "duration": 0,
    "start_time": "2022-05-24T22:55:35.468Z"
   },
   {
    "duration": 256,
    "start_time": "2022-05-24T22:55:40.744Z"
   }
  ],
  "kernelspec": {
   "display_name": "Python 3 (ipykernel)",
   "language": "python",
   "name": "python3"
  },
  "language_info": {
   "codemirror_mode": {
    "name": "ipython",
    "version": 3
   },
   "file_extension": ".py",
   "mimetype": "text/x-python",
   "name": "python",
   "nbconvert_exporter": "python",
   "pygments_lexer": "ipython3",
   "version": "3.9.5"
  },
  "toc": {
   "base_numbering": 1,
   "nav_menu": {},
   "number_sections": true,
   "sideBar": true,
   "skip_h1_title": true,
   "title_cell": "Table of Contents",
   "title_sidebar": "Contents",
   "toc_cell": false,
   "toc_position": {
    "height": "calc(100% - 180px)",
    "left": "10px",
    "top": "150px",
    "width": "318.391px"
   },
   "toc_section_display": true,
   "toc_window_display": true
  }
 },
 "nbformat": 4,
 "nbformat_minor": 2
}
