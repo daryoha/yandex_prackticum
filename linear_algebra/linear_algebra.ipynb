{
 "cells": [
  {
   "cell_type": "markdown",
   "metadata": {},
   "source": [
    "<h1> Комментарий ревьюера </h1>\n",
    "\n",
    "Привет, Дарья!\n",
    "Меня зовут Виктория Ильина, и я буду проверять твой проект. Предлагаю общаться на \"ты\", но если тебе будет не комфортно, обязательно сообщи и мы перейдем на \"вы\". \n",
    "\n",
    "Моя основная цель - не указать на совершённые тобой ошибки, а поделиться своим опытом и помочь тебе стать специалистом по Data Science. Ты уже проделала большую работу над проектом, но давай сделаем его ещё лучше. Ниже ты найдёшь мои комментарии - пожалуйста, не перемещай, не изменяй и не удаляй их. Я буду использовать различные цвета, чтобы было легче воспринимать мои комментарии:\n",
    "\n",
    "<div class=\"alert alert-block alert-danger\">\n",
    "<b>Комментарий ревьюера❌:</b> Так выделены самые важные замечания. Без их отработки проект не будет принят.\n",
    "</div>\n",
    "\n",
    "<div class=\"alert alert-block alert-warning\">\n",
    "<b>Комментарий ревьюера🤔:</b> Так выделены небольшие замечания. Одно-два таких замечания в проекте допустимы, но если их будет больше - тебе будет необходимо внести исправления. Однако, если перед нами стоит цель не просто сдать проект и забыть, а приобрести новые знания и успешно применять их в будущем, я бы всё-таки рекомендовала тебе прорабатывать эти недочёты.\n",
    "</div>\n",
    "    \n",
    "<div class=\"alert alert-block alert-success\">\n",
    "<b>Комментарий ревьюера👍:</b> Так я выделю все остальные комментарии.\n",
    "</div>\n",
    "    \n",
    "Давай работать над проектом в диалоге: если ты что-то меняешь в проекте или отвечаешь на мои комментарии - пиши об этом. Мне будет легче отследить изменения, если ты выделишь свои комментарии:\n",
    "\n",
    "<div class=\"alert alert-block alert-info\">\n",
    "<b>Комментарий студента:</b> Например, вот так.\n",
    "</div>\n",
    "\n",
    "Давай посмотрим, что получилось!"
   ]
  },
  {
   "cell_type": "markdown",
   "metadata": {
    "toc": true
   },
   "source": [
    "<h1>Содержание<span class=\"tocSkip\"></span></h1>\n",
    "<div class=\"toc\"><ul class=\"toc-item\"><li><span><a href=\"#Загрузка-данных\" data-toc-modified-id=\"Загрузка-данных-1\"><span class=\"toc-item-num\">1&nbsp;&nbsp;</span>Загрузка данных</a></span></li><li><span><a href=\"#Умножение-матриц\" data-toc-modified-id=\"Умножение-матриц-2\"><span class=\"toc-item-num\">2&nbsp;&nbsp;</span>Умножение матриц</a></span></li><li><span><a href=\"#Алгоритм-преобразования\" data-toc-modified-id=\"Алгоритм-преобразования-3\"><span class=\"toc-item-num\">3&nbsp;&nbsp;</span>Алгоритм преобразования</a></span></li><li><span><a href=\"#Проверка-алгоритма\" data-toc-modified-id=\"Проверка-алгоритма-4\"><span class=\"toc-item-num\">4&nbsp;&nbsp;</span>Проверка алгоритма</a></span><ul class=\"toc-item\"><li><span><a href=\"#Создание-обратимой-матрицы\" data-toc-modified-id=\"Создание-обратимой-матрицы-4.1\"><span class=\"toc-item-num\">4.1&nbsp;&nbsp;</span>Создание обратимой матрицы</a></span></li><li><span><a href=\"#Модель-на-исходных-данных\" data-toc-modified-id=\"Модель-на-исходных-данных-4.2\"><span class=\"toc-item-num\">4.2&nbsp;&nbsp;</span>Модель на исходных данных</a></span></li><li><span><a href=\"#Модель-на-преобразованных-данных\" data-toc-modified-id=\"Модель-на-преобразованных-данных-4.3\"><span class=\"toc-item-num\">4.3&nbsp;&nbsp;</span>Модель на преобразованных данных</a></span></li></ul></li><li><span><a href=\"#Вывод\" data-toc-modified-id=\"Вывод-5\"><span class=\"toc-item-num\">5&nbsp;&nbsp;</span>Вывод</a></span></li><li><span><a href=\"#Чек-лист-проверки\" data-toc-modified-id=\"Чек-лист-проверки-6\"><span class=\"toc-item-num\">6&nbsp;&nbsp;</span>Чек-лист проверки</a></span></li></ul></div>"
   ]
  },
  {
   "cell_type": "markdown",
   "metadata": {},
   "source": [
    "# Защита персональных данных клиентов"
   ]
  },
  {
   "cell_type": "markdown",
   "metadata": {},
   "source": [
    "Вам нужно защитить данные клиентов страховой компании «Хоть потоп». Разработайте такой метод преобразования данных, чтобы по ним было сложно восстановить персональную информацию. Обоснуйте корректность его работы.\n",
    "\n",
    "Нужно защитить данные, чтобы при преобразовании качество моделей машинного обучения не ухудшилось. Подбирать наилучшую модель не требуется."
   ]
  },
  {
   "cell_type": "markdown",
   "metadata": {},
   "source": [
    "## Загрузка данных"
   ]
  },
  {
   "cell_type": "code",
   "execution_count": 1,
   "metadata": {},
   "outputs": [],
   "source": [
    "# импортирование библиотек\n",
    "import pandas as pd\n",
    "import numpy as np\n",
    "from sklearn.model_selection import train_test_split\n",
    "from sklearn.metrics import r2_score\n",
    "from sklearn.linear_model import LinearRegression"
   ]
  },
  {
   "cell_type": "code",
   "execution_count": 2,
   "metadata": {},
   "outputs": [
    {
     "data": {
      "text/html": [
       "<div>\n",
       "<style scoped>\n",
       "    .dataframe tbody tr th:only-of-type {\n",
       "        vertical-align: middle;\n",
       "    }\n",
       "\n",
       "    .dataframe tbody tr th {\n",
       "        vertical-align: top;\n",
       "    }\n",
       "\n",
       "    .dataframe thead th {\n",
       "        text-align: right;\n",
       "    }\n",
       "</style>\n",
       "<table border=\"1\" class=\"dataframe\">\n",
       "  <thead>\n",
       "    <tr style=\"text-align: right;\">\n",
       "      <th></th>\n",
       "      <th>Пол</th>\n",
       "      <th>Возраст</th>\n",
       "      <th>Зарплата</th>\n",
       "      <th>Члены семьи</th>\n",
       "      <th>Страховые выплаты</th>\n",
       "    </tr>\n",
       "  </thead>\n",
       "  <tbody>\n",
       "    <tr>\n",
       "      <th>0</th>\n",
       "      <td>1</td>\n",
       "      <td>41.0</td>\n",
       "      <td>49600.0</td>\n",
       "      <td>1</td>\n",
       "      <td>0</td>\n",
       "    </tr>\n",
       "    <tr>\n",
       "      <th>1</th>\n",
       "      <td>0</td>\n",
       "      <td>46.0</td>\n",
       "      <td>38000.0</td>\n",
       "      <td>1</td>\n",
       "      <td>1</td>\n",
       "    </tr>\n",
       "    <tr>\n",
       "      <th>2</th>\n",
       "      <td>0</td>\n",
       "      <td>29.0</td>\n",
       "      <td>21000.0</td>\n",
       "      <td>0</td>\n",
       "      <td>0</td>\n",
       "    </tr>\n",
       "    <tr>\n",
       "      <th>3</th>\n",
       "      <td>0</td>\n",
       "      <td>21.0</td>\n",
       "      <td>41700.0</td>\n",
       "      <td>2</td>\n",
       "      <td>0</td>\n",
       "    </tr>\n",
       "    <tr>\n",
       "      <th>4</th>\n",
       "      <td>1</td>\n",
       "      <td>28.0</td>\n",
       "      <td>26100.0</td>\n",
       "      <td>0</td>\n",
       "      <td>0</td>\n",
       "    </tr>\n",
       "    <tr>\n",
       "      <th>5</th>\n",
       "      <td>1</td>\n",
       "      <td>43.0</td>\n",
       "      <td>41000.0</td>\n",
       "      <td>2</td>\n",
       "      <td>1</td>\n",
       "    </tr>\n",
       "    <tr>\n",
       "      <th>6</th>\n",
       "      <td>1</td>\n",
       "      <td>39.0</td>\n",
       "      <td>39700.0</td>\n",
       "      <td>2</td>\n",
       "      <td>0</td>\n",
       "    </tr>\n",
       "    <tr>\n",
       "      <th>7</th>\n",
       "      <td>1</td>\n",
       "      <td>25.0</td>\n",
       "      <td>38600.0</td>\n",
       "      <td>4</td>\n",
       "      <td>0</td>\n",
       "    </tr>\n",
       "    <tr>\n",
       "      <th>8</th>\n",
       "      <td>1</td>\n",
       "      <td>36.0</td>\n",
       "      <td>49700.0</td>\n",
       "      <td>1</td>\n",
       "      <td>0</td>\n",
       "    </tr>\n",
       "    <tr>\n",
       "      <th>9</th>\n",
       "      <td>1</td>\n",
       "      <td>32.0</td>\n",
       "      <td>51700.0</td>\n",
       "      <td>1</td>\n",
       "      <td>0</td>\n",
       "    </tr>\n",
       "  </tbody>\n",
       "</table>\n",
       "</div>"
      ],
      "text/plain": [
       "   Пол  Возраст  Зарплата  Члены семьи  Страховые выплаты\n",
       "0    1     41.0   49600.0            1                  0\n",
       "1    0     46.0   38000.0            1                  1\n",
       "2    0     29.0   21000.0            0                  0\n",
       "3    0     21.0   41700.0            2                  0\n",
       "4    1     28.0   26100.0            0                  0\n",
       "5    1     43.0   41000.0            2                  1\n",
       "6    1     39.0   39700.0            2                  0\n",
       "7    1     25.0   38600.0            4                  0\n",
       "8    1     36.0   49700.0            1                  0\n",
       "9    1     32.0   51700.0            1                  0"
      ]
     },
     "execution_count": 2,
     "metadata": {},
     "output_type": "execute_result"
    }
   ],
   "source": [
    "# чтение данных из файла\n",
    "data = pd.read_csv('/datasets/insurance.csv')\n",
    "# просмотр первых десяти строчек в таблице \n",
    "data.head(10)"
   ]
  },
  {
   "cell_type": "code",
   "execution_count": 3,
   "metadata": {},
   "outputs": [
    {
     "name": "stdout",
     "output_type": "stream",
     "text": [
      "<class 'pandas.core.frame.DataFrame'>\n",
      "RangeIndex: 5000 entries, 0 to 4999\n",
      "Data columns (total 5 columns):\n",
      " #   Column             Non-Null Count  Dtype  \n",
      "---  ------             --------------  -----  \n",
      " 0   Пол                5000 non-null   int64  \n",
      " 1   Возраст            5000 non-null   float64\n",
      " 2   Зарплата           5000 non-null   float64\n",
      " 3   Члены семьи        5000 non-null   int64  \n",
      " 4   Страховые выплаты  5000 non-null   int64  \n",
      "dtypes: float64(2), int64(3)\n",
      "memory usage: 195.4 KB\n"
     ]
    }
   ],
   "source": [
    "# вывод информации о таблице\n",
    "data.info()"
   ]
  },
  {
   "cell_type": "code",
   "execution_count": 4,
   "metadata": {},
   "outputs": [
    {
     "data": {
      "text/html": [
       "<div>\n",
       "<style scoped>\n",
       "    .dataframe tbody tr th:only-of-type {\n",
       "        vertical-align: middle;\n",
       "    }\n",
       "\n",
       "    .dataframe tbody tr th {\n",
       "        vertical-align: top;\n",
       "    }\n",
       "\n",
       "    .dataframe thead th {\n",
       "        text-align: right;\n",
       "    }\n",
       "</style>\n",
       "<table border=\"1\" class=\"dataframe\">\n",
       "  <thead>\n",
       "    <tr style=\"text-align: right;\">\n",
       "      <th></th>\n",
       "      <th>Пол</th>\n",
       "      <th>Возраст</th>\n",
       "      <th>Зарплата</th>\n",
       "      <th>Члены семьи</th>\n",
       "      <th>Страховые выплаты</th>\n",
       "    </tr>\n",
       "  </thead>\n",
       "  <tbody>\n",
       "    <tr>\n",
       "      <th>count</th>\n",
       "      <td>5000.000000</td>\n",
       "      <td>5000.000000</td>\n",
       "      <td>5000.000000</td>\n",
       "      <td>5000.000000</td>\n",
       "      <td>5000.000000</td>\n",
       "    </tr>\n",
       "    <tr>\n",
       "      <th>mean</th>\n",
       "      <td>0.499000</td>\n",
       "      <td>30.952800</td>\n",
       "      <td>39916.360000</td>\n",
       "      <td>1.194200</td>\n",
       "      <td>0.148000</td>\n",
       "    </tr>\n",
       "    <tr>\n",
       "      <th>std</th>\n",
       "      <td>0.500049</td>\n",
       "      <td>8.440807</td>\n",
       "      <td>9900.083569</td>\n",
       "      <td>1.091387</td>\n",
       "      <td>0.463183</td>\n",
       "    </tr>\n",
       "    <tr>\n",
       "      <th>min</th>\n",
       "      <td>0.000000</td>\n",
       "      <td>18.000000</td>\n",
       "      <td>5300.000000</td>\n",
       "      <td>0.000000</td>\n",
       "      <td>0.000000</td>\n",
       "    </tr>\n",
       "    <tr>\n",
       "      <th>25%</th>\n",
       "      <td>0.000000</td>\n",
       "      <td>24.000000</td>\n",
       "      <td>33300.000000</td>\n",
       "      <td>0.000000</td>\n",
       "      <td>0.000000</td>\n",
       "    </tr>\n",
       "    <tr>\n",
       "      <th>50%</th>\n",
       "      <td>0.000000</td>\n",
       "      <td>30.000000</td>\n",
       "      <td>40200.000000</td>\n",
       "      <td>1.000000</td>\n",
       "      <td>0.000000</td>\n",
       "    </tr>\n",
       "    <tr>\n",
       "      <th>75%</th>\n",
       "      <td>1.000000</td>\n",
       "      <td>37.000000</td>\n",
       "      <td>46600.000000</td>\n",
       "      <td>2.000000</td>\n",
       "      <td>0.000000</td>\n",
       "    </tr>\n",
       "    <tr>\n",
       "      <th>max</th>\n",
       "      <td>1.000000</td>\n",
       "      <td>65.000000</td>\n",
       "      <td>79000.000000</td>\n",
       "      <td>6.000000</td>\n",
       "      <td>5.000000</td>\n",
       "    </tr>\n",
       "  </tbody>\n",
       "</table>\n",
       "</div>"
      ],
      "text/plain": [
       "               Пол      Возраст      Зарплата  Члены семьи  Страховые выплаты\n",
       "count  5000.000000  5000.000000   5000.000000  5000.000000        5000.000000\n",
       "mean      0.499000    30.952800  39916.360000     1.194200           0.148000\n",
       "std       0.500049     8.440807   9900.083569     1.091387           0.463183\n",
       "min       0.000000    18.000000   5300.000000     0.000000           0.000000\n",
       "25%       0.000000    24.000000  33300.000000     0.000000           0.000000\n",
       "50%       0.000000    30.000000  40200.000000     1.000000           0.000000\n",
       "75%       1.000000    37.000000  46600.000000     2.000000           0.000000\n",
       "max       1.000000    65.000000  79000.000000     6.000000           5.000000"
      ]
     },
     "execution_count": 4,
     "metadata": {},
     "output_type": "execute_result"
    }
   ],
   "source": [
    "data.describe()"
   ]
  },
  {
   "cell_type": "code",
   "execution_count": 25,
   "metadata": {},
   "outputs": [
    {
     "data": {
      "text/html": [
       "<div>\n",
       "<style scoped>\n",
       "    .dataframe tbody tr th:only-of-type {\n",
       "        vertical-align: middle;\n",
       "    }\n",
       "\n",
       "    .dataframe tbody tr th {\n",
       "        vertical-align: top;\n",
       "    }\n",
       "\n",
       "    .dataframe thead th {\n",
       "        text-align: right;\n",
       "    }\n",
       "</style>\n",
       "<table border=\"1\" class=\"dataframe\">\n",
       "  <thead>\n",
       "    <tr style=\"text-align: right;\">\n",
       "      <th></th>\n",
       "      <th>Пол</th>\n",
       "      <th>Возраст</th>\n",
       "      <th>Зарплата</th>\n",
       "      <th>Члены семьи</th>\n",
       "      <th>Страховые выплаты</th>\n",
       "    </tr>\n",
       "  </thead>\n",
       "  <tbody>\n",
       "    <tr>\n",
       "      <th>Пол</th>\n",
       "      <td>1.000000</td>\n",
       "      <td>0.001953</td>\n",
       "      <td>0.015456</td>\n",
       "      <td>-0.007315</td>\n",
       "      <td>0.011565</td>\n",
       "    </tr>\n",
       "    <tr>\n",
       "      <th>Возраст</th>\n",
       "      <td>0.001953</td>\n",
       "      <td>1.000000</td>\n",
       "      <td>-0.017386</td>\n",
       "      <td>-0.009064</td>\n",
       "      <td>0.654964</td>\n",
       "    </tr>\n",
       "    <tr>\n",
       "      <th>Зарплата</th>\n",
       "      <td>0.015456</td>\n",
       "      <td>-0.017386</td>\n",
       "      <td>1.000000</td>\n",
       "      <td>-0.031687</td>\n",
       "      <td>-0.013123</td>\n",
       "    </tr>\n",
       "    <tr>\n",
       "      <th>Члены семьи</th>\n",
       "      <td>-0.007315</td>\n",
       "      <td>-0.009064</td>\n",
       "      <td>-0.031687</td>\n",
       "      <td>1.000000</td>\n",
       "      <td>-0.039303</td>\n",
       "    </tr>\n",
       "    <tr>\n",
       "      <th>Страховые выплаты</th>\n",
       "      <td>0.011565</td>\n",
       "      <td>0.654964</td>\n",
       "      <td>-0.013123</td>\n",
       "      <td>-0.039303</td>\n",
       "      <td>1.000000</td>\n",
       "    </tr>\n",
       "  </tbody>\n",
       "</table>\n",
       "</div>"
      ],
      "text/plain": [
       "                        Пол   Возраст  Зарплата  Члены семьи  \\\n",
       "Пол                1.000000  0.001953  0.015456    -0.007315   \n",
       "Возраст            0.001953  1.000000 -0.017386    -0.009064   \n",
       "Зарплата           0.015456 -0.017386  1.000000    -0.031687   \n",
       "Члены семьи       -0.007315 -0.009064 -0.031687     1.000000   \n",
       "Страховые выплаты  0.011565  0.654964 -0.013123    -0.039303   \n",
       "\n",
       "                   Страховые выплаты  \n",
       "Пол                         0.011565  \n",
       "Возраст                     0.654964  \n",
       "Зарплата                   -0.013123  \n",
       "Члены семьи                -0.039303  \n",
       "Страховые выплаты           1.000000  "
      ]
     },
     "execution_count": 25,
     "metadata": {},
     "output_type": "execute_result"
    }
   ],
   "source": [
    "data.corr()"
   ]
  },
  {
   "cell_type": "code",
   "execution_count": 5,
   "metadata": {},
   "outputs": [],
   "source": [
    "# смена типа данных в столбце возраст и зарплата\n",
    "data['Возраст'] = data['Возраст'].astype(int)\n",
    "data['Зарплата'] = data['Зарплата'].astype(int)"
   ]
  },
  {
   "cell_type": "code",
   "execution_count": 6,
   "metadata": {},
   "outputs": [
    {
     "name": "stdout",
     "output_type": "stream",
     "text": [
      "153\n"
     ]
    }
   ],
   "source": [
    "# подсчёт явных дубликатов\n",
    "print(data.duplicated().sum())"
   ]
  },
  {
   "cell_type": "code",
   "execution_count": 7,
   "metadata": {},
   "outputs": [
    {
     "name": "stdout",
     "output_type": "stream",
     "text": [
      "0\n"
     ]
    }
   ],
   "source": [
    "# удаление дубликатов\n",
    "data = data.drop_duplicates(keep='first')\n",
    "# повторный подсчёт явных дубликатов\n",
    "print(data.duplicated().sum())"
   ]
  },
  {
   "cell_type": "markdown",
   "metadata": {},
   "source": [
    "Данные состоят из четырех категорий (столбцов). Они были приведены мною к типу int. Явные дубликаты были удалены, неявных нет. Пропусков в данных нет. "
   ]
  },
  {
   "cell_type": "markdown",
   "metadata": {},
   "source": [
    "<div class=\"alert alert-block alert-success\">\n",
    "<b>Комментарий ревьюера👍:</b> Отлично!\n",
    "    \n",
    "Этого не было в требованиях к проекту, просто дополнительно по EDA:\n",
    "    \n",
    "Если использовать функцию describe(), то можно увидеть, что в таблице данных компании соблюден почти идеальный баланс между мужчинами и женщинами. Средний возраст застрахованного составляет около 31 года, при этом медиана составляет 30. Границы возраста застрахованных приводят к выводу, что компания не занимается страхованием лиц, чей возраст составляет менее 18 и старше 65 лет. Также интересно взглянуть на уровень заработной платы застрахованных - медиана составляет чуть более 40 000 рублей. В целом, в компании скорее представлен средний экономический класс, чем слишком бедные или слишком богатые граждане. \n",
    "    \n",
    "Дополнительно можно было бы посмотреть корреляцию. Возраст и количество страховых выплат клиенту за последние 5 лет имеют корреляцию 0.651. Вероятно, для компании есть взаимосвязь: чем старше застрахованное лицо, тем более вероятно он потребует страховку чаще, следовательно, несёт в себе больше рисков для предприятия.\n",
    "</div>\n"
   ]
  },
  {
   "cell_type": "markdown",
   "metadata": {},
   "source": [
    "<div class=\"alert alert-block alert-info\">\n",
    "<b>Комментарий студентки:</b> Поняла, добавила.\n",
    "</div>"
   ]
  },
  {
   "cell_type": "markdown",
   "metadata": {},
   "source": [
    "## Умножение матриц"
   ]
  },
  {
   "cell_type": "markdown",
   "metadata": {},
   "source": [
    "В этом задании вы можете записывать формулы в *Jupyter Notebook.*\n",
    "\n",
    "Чтобы записать формулу внутри текста, окружите её символами доллара \\\\$; если снаружи —  двойными символами \\\\$\\\\$. Эти формулы записываются на языке вёрстки *LaTeX.* \n",
    "\n",
    "Для примера мы записали формулы линейной регрессии. Можете их скопировать и отредактировать, чтобы решить задачу.\n",
    "\n",
    "Работать в *LaTeX* необязательно."
   ]
  },
  {
   "cell_type": "markdown",
   "metadata": {},
   "source": [
    "Обозначения:\n",
    "\n",
    "- $X$ — матрица признаков (нулевой столбец состоит из единиц)\n",
    "\n",
    "- $y$ — вектор целевого признака\n",
    "\n",
    "- $P$ — матрица, на которую умножаются признаки\n",
    "\n",
    "- $w$ — вектор весов линейной регрессии (нулевой элемент равен сдвигу)"
   ]
  },
  {
   "cell_type": "markdown",
   "metadata": {},
   "source": [
    "Предсказания:\n",
    "\n",
    "$$\n",
    "a = Xw\n",
    "$$\n",
    "\n",
    "Задача обучения:\n",
    "\n",
    "$$\n",
    "w = \\arg\\min_w MSE(Xw, y)\n",
    "$$\n",
    "\n",
    "Формула обучения:\n",
    "\n",
    "$$\n",
    "w = (X^T X)^{-1} X^T y\n",
    "$$"
   ]
  },
  {
   "cell_type": "markdown",
   "metadata": {},
   "source": [
    "**Ответ:** Не изменится\n",
    "\n",
    "**Обоснование:** \n",
    "\n",
    "**Для матрицы X:**\n",
    "\n",
    "$$\n",
    "a = Xw\n",
    "$$\n",
    "\n",
    "$$\n",
    "w = (X^T X)^{-1} X^T y\n",
    "$$\n",
    "\n",
    "**Для матрицы XP:**\n",
    "\n",
    "$$\n",
    "a_1 = XPw_1\n",
    "$$\n",
    "\n",
    "$$\n",
    "w_1 = ((XP)^T XP)^{-1} (XP)^T y\n",
    "$$\n",
    "\n",
    "Применим свойтсво\n",
    "\n",
    "$$\n",
    "(AB)^T = B^T A^T\n",
    "$$\n",
    "\n",
    "$$\n",
    "w_1 = (P^T X^T XP)^{-1} P^T X^T y\n",
    "$$\n",
    "\n",
    "Применим свойтсво\n",
    "\n",
    "$$\n",
    "(AB)^{-1} = B^{-1} A^{-1}\n",
    "$$\n",
    "\n",
    "$$\n",
    "w_1 = P^{-1} (X^T X)^{-1} (P^T)^{-1} P^T X^T y\n",
    "$$\n",
    "\n",
    "$$\n",
    "w_1 = P^{-1} (X^T X)^{-1} X^T y\n",
    "$$\n",
    "\n",
    "Подставим\n",
    "\n",
    "$$\n",
    "a_1 = XPP^{-1} (X^T X)^{-1} X^T y\n",
    "$$\n",
    "\n",
    "$$\n",
    "a_1 = X(X^T X)^{-1} X^T y\n",
    "$$\n",
    "\n",
    "$$\n",
    "a_1 = a\n",
    "$$"
   ]
  },
  {
   "cell_type": "markdown",
   "metadata": {},
   "source": [
    "\n",
    "<div class=\"alert alert-block alert-warning\">\n",
    "<b>Комментарий ревьюера🤔:</b> Абсолютно верно, молодец, что не раскрыла $(X^T X)^{-1}$, так как для неквадратных матриц $X$ и $X^T$ обратных матриц не существует. Единственная придирка, чтобы w1 выглядело как $w_1$ нужно добавить нижнее подчеркивание =)\n",
    "</div>"
   ]
  },
  {
   "cell_type": "markdown",
   "metadata": {},
   "source": [
    "<div class=\"alert alert-block alert-info\">\n",
    "<b>Комментарий студентки:</b> Не знала, подправила.\n",
    "</div>"
   ]
  },
  {
   "cell_type": "markdown",
   "metadata": {},
   "source": [
    "## Алгоритм преобразования"
   ]
  },
  {
   "cell_type": "markdown",
   "metadata": {},
   "source": [
    "**Алгоритм**\n",
    "\n",
    "Признаки можно умножить на рандомно созданную обратимую матрицу. Таким образом данные будут отличны от исходных."
   ]
  },
  {
   "cell_type": "markdown",
   "metadata": {},
   "source": [
    "**Обоснование**\n",
    "\n",
    "Подобрать обратимую матрицу будет крайне сложно, так как она заполнена случайными числами. Но мы, зная обратимую матрицу, сможем найти ей парную и восстановить исходные данные."
   ]
  },
  {
   "cell_type": "markdown",
   "metadata": {},
   "source": [
    "## Проверка алгоритма"
   ]
  },
  {
   "cell_type": "markdown",
   "metadata": {},
   "source": [
    "### Создание обратимой матрицы"
   ]
  },
  {
   "cell_type": "code",
   "execution_count": 8,
   "metadata": {},
   "outputs": [
    {
     "data": {
      "text/plain": [
       "array([[0., 0., 0., 0., 0.],\n",
       "       [0., 0., 0., 0., 0.],\n",
       "       [0., 0., 0., 0., 0.],\n",
       "       [0., 0., 0., 0., 0.],\n",
       "       [0., 0., 0., 0., 0.]])"
      ]
     },
     "execution_count": 8,
     "metadata": {},
     "output_type": "execute_result"
    }
   ],
   "source": [
    "# создание пустой матрицы подходящей по размеру к признакам для умножения\n",
    "random_array = np.zeros((data.shape[1], data.shape[1]))\n",
    "random_array"
   ]
  },
  {
   "cell_type": "code",
   "execution_count": 9,
   "metadata": {},
   "outputs": [
    {
     "data": {
      "text/plain": [
       "array([[0., 0., 0., 0., 0.],\n",
       "       [1., 0., 0., 0., 0.],\n",
       "       [0., 0., 0., 0., 0.],\n",
       "       [0., 0., 0., 0., 0.],\n",
       "       [0., 0., 0., 0., 0.]])"
      ]
     },
     "execution_count": 9,
     "metadata": {},
     "output_type": "execute_result"
    }
   ],
   "source": [
    "# заполнение матрицы\n",
    "random_array[:, 0] = np.random.randint(2, size=(data.shape[1]))\n",
    "random_array"
   ]
  },
  {
   "cell_type": "code",
   "execution_count": 10,
   "metadata": {},
   "outputs": [
    {
     "name": "stdout",
     "output_type": "stream",
     "text": [
      "18\n",
      "65\n"
     ]
    },
    {
     "data": {
      "text/plain": [
       "array([[ 0., 47.,  0.,  0.,  0.],\n",
       "       [ 1., 41.,  0.,  0.,  0.],\n",
       "       [ 0., 30.,  0.,  0.,  0.],\n",
       "       [ 0., 18.,  0.,  0.,  0.],\n",
       "       [ 0., 57.,  0.,  0.,  0.]])"
      ]
     },
     "execution_count": 10,
     "metadata": {},
     "output_type": "execute_result"
    }
   ],
   "source": [
    "print(data['Возраст'].min())\n",
    "print(data['Возраст'].max())\n",
    "random_array[:, 1] = np.random.randint(18, 66, size=(data.shape[1]))\n",
    "random_array"
   ]
  },
  {
   "cell_type": "code",
   "execution_count": 11,
   "metadata": {},
   "outputs": [
    {
     "name": "stdout",
     "output_type": "stream",
     "text": [
      "5300\n",
      "79000\n"
     ]
    },
    {
     "data": {
      "text/plain": [
       "array([[0.0000e+00, 4.7000e+01, 7.0212e+04, 0.0000e+00, 0.0000e+00],\n",
       "       [1.0000e+00, 4.1000e+01, 6.0186e+04, 0.0000e+00, 0.0000e+00],\n",
       "       [0.0000e+00, 3.0000e+01, 4.3779e+04, 0.0000e+00, 0.0000e+00],\n",
       "       [0.0000e+00, 1.8000e+01, 5.6803e+04, 0.0000e+00, 0.0000e+00],\n",
       "       [0.0000e+00, 5.7000e+01, 7.3142e+04, 0.0000e+00, 0.0000e+00]])"
      ]
     },
     "execution_count": 11,
     "metadata": {},
     "output_type": "execute_result"
    }
   ],
   "source": [
    "print(data['Зарплата'].min())\n",
    "print(data['Зарплата'].max())\n",
    "random_array[:, 2] = np.random.randint(5300, 79001, size=(data.shape[1]))\n",
    "random_array"
   ]
  },
  {
   "cell_type": "code",
   "execution_count": 12,
   "metadata": {},
   "outputs": [
    {
     "name": "stdout",
     "output_type": "stream",
     "text": [
      "0\n",
      "6\n"
     ]
    },
    {
     "data": {
      "text/plain": [
       "array([[0.0000e+00, 4.7000e+01, 7.0212e+04, 3.0000e+00, 0.0000e+00],\n",
       "       [1.0000e+00, 4.1000e+01, 6.0186e+04, 3.0000e+00, 0.0000e+00],\n",
       "       [0.0000e+00, 3.0000e+01, 4.3779e+04, 2.0000e+00, 0.0000e+00],\n",
       "       [0.0000e+00, 1.8000e+01, 5.6803e+04, 4.0000e+00, 0.0000e+00],\n",
       "       [0.0000e+00, 5.7000e+01, 7.3142e+04, 2.0000e+00, 0.0000e+00]])"
      ]
     },
     "execution_count": 12,
     "metadata": {},
     "output_type": "execute_result"
    }
   ],
   "source": [
    "print(data['Члены семьи'].min())\n",
    "print(data['Члены семьи'].max())\n",
    "random_array[:, 3] = np.random.randint(7, size=(data.shape[1]))\n",
    "random_array"
   ]
  },
  {
   "cell_type": "code",
   "execution_count": 13,
   "metadata": {},
   "outputs": [
    {
     "name": "stdout",
     "output_type": "stream",
     "text": [
      "0\n",
      "5\n"
     ]
    },
    {
     "data": {
      "text/plain": [
       "array([[0.0000e+00, 4.7000e+01, 7.0212e+04, 3.0000e+00, 3.0000e+00],\n",
       "       [1.0000e+00, 4.1000e+01, 6.0186e+04, 3.0000e+00, 4.0000e+00],\n",
       "       [0.0000e+00, 3.0000e+01, 4.3779e+04, 2.0000e+00, 2.0000e+00],\n",
       "       [0.0000e+00, 1.8000e+01, 5.6803e+04, 4.0000e+00, 2.0000e+00],\n",
       "       [0.0000e+00, 5.7000e+01, 7.3142e+04, 2.0000e+00, 3.0000e+00]])"
      ]
     },
     "execution_count": 13,
     "metadata": {},
     "output_type": "execute_result"
    }
   ],
   "source": [
    "print(data['Страховые выплаты'].min())\n",
    "print(data['Страховые выплаты'].max())\n",
    "random_array[:, 4] = np.random.randint(6, size=(data.shape[1]))\n",
    "random_array"
   ]
  },
  {
   "cell_type": "code",
   "execution_count": 14,
   "metadata": {},
   "outputs": [
    {
     "data": {
      "text/html": [
       "<div>\n",
       "<style scoped>\n",
       "    .dataframe tbody tr th:only-of-type {\n",
       "        vertical-align: middle;\n",
       "    }\n",
       "\n",
       "    .dataframe tbody tr th {\n",
       "        vertical-align: top;\n",
       "    }\n",
       "\n",
       "    .dataframe thead th {\n",
       "        text-align: right;\n",
       "    }\n",
       "</style>\n",
       "<table border=\"1\" class=\"dataframe\">\n",
       "  <thead>\n",
       "    <tr style=\"text-align: right;\">\n",
       "      <th></th>\n",
       "      <th>Пол</th>\n",
       "      <th>Возраст</th>\n",
       "      <th>Зарплата</th>\n",
       "      <th>Члены семьи</th>\n",
       "      <th>Страховые выплаты</th>\n",
       "    </tr>\n",
       "  </thead>\n",
       "  <tbody>\n",
       "    <tr>\n",
       "      <th>0</th>\n",
       "      <td>41</td>\n",
       "      <td>1489746</td>\n",
       "      <td>2174033041</td>\n",
       "      <td>99330</td>\n",
       "      <td>99369</td>\n",
       "    </tr>\n",
       "    <tr>\n",
       "      <th>1</th>\n",
       "      <td>46</td>\n",
       "      <td>1141961</td>\n",
       "      <td>1666500501</td>\n",
       "      <td>76144</td>\n",
       "      <td>76189</td>\n",
       "    </tr>\n",
       "    <tr>\n",
       "      <th>2</th>\n",
       "      <td>29</td>\n",
       "      <td>631189</td>\n",
       "      <td>921104394</td>\n",
       "      <td>42087</td>\n",
       "      <td>42116</td>\n",
       "    </tr>\n",
       "    <tr>\n",
       "      <th>3</th>\n",
       "      <td>21</td>\n",
       "      <td>1251897</td>\n",
       "      <td>1826961812</td>\n",
       "      <td>83471</td>\n",
       "      <td>83488</td>\n",
       "    </tr>\n",
       "    <tr>\n",
       "      <th>4</th>\n",
       "      <td>28</td>\n",
       "      <td>784195</td>\n",
       "      <td>1144387320</td>\n",
       "      <td>52287</td>\n",
       "      <td>52315</td>\n",
       "    </tr>\n",
       "    <tr>\n",
       "      <th>...</th>\n",
       "      <td>...</td>\n",
       "      <td>...</td>\n",
       "      <td>...</td>\n",
       "      <td>...</td>\n",
       "      <td>...</td>\n",
       "    </tr>\n",
       "    <tr>\n",
       "      <th>4842</th>\n",
       "      <td>28</td>\n",
       "      <td>1072184</td>\n",
       "      <td>1564709114</td>\n",
       "      <td>71492</td>\n",
       "      <td>71516</td>\n",
       "    </tr>\n",
       "    <tr>\n",
       "      <th>4843</th>\n",
       "      <td>34</td>\n",
       "      <td>1573412</td>\n",
       "      <td>2296122727</td>\n",
       "      <td>104906</td>\n",
       "      <td>104938</td>\n",
       "    </tr>\n",
       "    <tr>\n",
       "      <th>4844</th>\n",
       "      <td>20</td>\n",
       "      <td>1017856</td>\n",
       "      <td>1485425426</td>\n",
       "      <td>67868</td>\n",
       "      <td>67884</td>\n",
       "    </tr>\n",
       "    <tr>\n",
       "      <th>4845</th>\n",
       "      <td>22</td>\n",
       "      <td>982003</td>\n",
       "      <td>1433138013</td>\n",
       "      <td>65481</td>\n",
       "      <td>65497</td>\n",
       "    </tr>\n",
       "    <tr>\n",
       "      <th>4846</th>\n",
       "      <td>28</td>\n",
       "      <td>1219213</td>\n",
       "      <td>1779239623</td>\n",
       "      <td>81291</td>\n",
       "      <td>81317</td>\n",
       "    </tr>\n",
       "  </tbody>\n",
       "</table>\n",
       "<p>4847 rows × 5 columns</p>\n",
       "</div>"
      ],
      "text/plain": [
       "      Пол  Возраст    Зарплата  Члены семьи  Страховые выплаты\n",
       "0      41  1489746  2174033041        99330              99369\n",
       "1      46  1141961  1666500501        76144              76189\n",
       "2      29   631189   921104394        42087              42116\n",
       "3      21  1251897  1826961812        83471              83488\n",
       "4      28   784195  1144387320        52287              52315\n",
       "...   ...      ...         ...          ...                ...\n",
       "4842   28  1072184  1564709114        71492              71516\n",
       "4843   34  1573412  2296122727       104906             104938\n",
       "4844   20  1017856  1485425426        67868              67884\n",
       "4845   22   982003  1433138013        65481              65497\n",
       "4846   28  1219213  1779239623        81291              81317\n",
       "\n",
       "[4847 rows x 5 columns]"
      ]
     },
     "execution_count": 14,
     "metadata": {},
     "output_type": "execute_result"
    }
   ],
   "source": [
    "# преобразование признаков\n",
    "encrypted_data = np.array(data) @ random_array\n",
    "encrypted_data = encrypted_data.round()\n",
    "encrypted_data = encrypted_data.astype(int)\n",
    "encrypted_data = pd.DataFrame(encrypted_data, columns=data.columns)\n",
    "encrypted_data"
   ]
  },
  {
   "cell_type": "code",
   "execution_count": 15,
   "metadata": {},
   "outputs": [
    {
     "data": {
      "text/html": [
       "<div>\n",
       "<style scoped>\n",
       "    .dataframe tbody tr th:only-of-type {\n",
       "        vertical-align: middle;\n",
       "    }\n",
       "\n",
       "    .dataframe tbody tr th {\n",
       "        vertical-align: top;\n",
       "    }\n",
       "\n",
       "    .dataframe thead th {\n",
       "        text-align: right;\n",
       "    }\n",
       "</style>\n",
       "<table border=\"1\" class=\"dataframe\">\n",
       "  <thead>\n",
       "    <tr style=\"text-align: right;\">\n",
       "      <th></th>\n",
       "      <th>Пол</th>\n",
       "      <th>Возраст</th>\n",
       "      <th>Зарплата</th>\n",
       "      <th>Члены семьи</th>\n",
       "      <th>Страховые выплаты</th>\n",
       "    </tr>\n",
       "  </thead>\n",
       "  <tbody>\n",
       "    <tr>\n",
       "      <th>0</th>\n",
       "      <td>1</td>\n",
       "      <td>41</td>\n",
       "      <td>49600</td>\n",
       "      <td>1</td>\n",
       "      <td>0</td>\n",
       "    </tr>\n",
       "    <tr>\n",
       "      <th>1</th>\n",
       "      <td>0</td>\n",
       "      <td>46</td>\n",
       "      <td>38000</td>\n",
       "      <td>1</td>\n",
       "      <td>1</td>\n",
       "    </tr>\n",
       "    <tr>\n",
       "      <th>2</th>\n",
       "      <td>0</td>\n",
       "      <td>29</td>\n",
       "      <td>21000</td>\n",
       "      <td>0</td>\n",
       "      <td>0</td>\n",
       "    </tr>\n",
       "    <tr>\n",
       "      <th>3</th>\n",
       "      <td>0</td>\n",
       "      <td>21</td>\n",
       "      <td>41700</td>\n",
       "      <td>2</td>\n",
       "      <td>0</td>\n",
       "    </tr>\n",
       "    <tr>\n",
       "      <th>4</th>\n",
       "      <td>1</td>\n",
       "      <td>28</td>\n",
       "      <td>26100</td>\n",
       "      <td>0</td>\n",
       "      <td>0</td>\n",
       "    </tr>\n",
       "    <tr>\n",
       "      <th>...</th>\n",
       "      <td>...</td>\n",
       "      <td>...</td>\n",
       "      <td>...</td>\n",
       "      <td>...</td>\n",
       "      <td>...</td>\n",
       "    </tr>\n",
       "    <tr>\n",
       "      <th>4842</th>\n",
       "      <td>0</td>\n",
       "      <td>28</td>\n",
       "      <td>35700</td>\n",
       "      <td>2</td>\n",
       "      <td>0</td>\n",
       "    </tr>\n",
       "    <tr>\n",
       "      <th>4843</th>\n",
       "      <td>0</td>\n",
       "      <td>34</td>\n",
       "      <td>52400</td>\n",
       "      <td>1</td>\n",
       "      <td>0</td>\n",
       "    </tr>\n",
       "    <tr>\n",
       "      <th>4844</th>\n",
       "      <td>0</td>\n",
       "      <td>20</td>\n",
       "      <td>33900</td>\n",
       "      <td>2</td>\n",
       "      <td>0</td>\n",
       "    </tr>\n",
       "    <tr>\n",
       "      <th>4845</th>\n",
       "      <td>1</td>\n",
       "      <td>22</td>\n",
       "      <td>32700</td>\n",
       "      <td>3</td>\n",
       "      <td>0</td>\n",
       "    </tr>\n",
       "    <tr>\n",
       "      <th>4846</th>\n",
       "      <td>1</td>\n",
       "      <td>28</td>\n",
       "      <td>40600</td>\n",
       "      <td>1</td>\n",
       "      <td>0</td>\n",
       "    </tr>\n",
       "  </tbody>\n",
       "</table>\n",
       "<p>4847 rows × 5 columns</p>\n",
       "</div>"
      ],
      "text/plain": [
       "      Пол  Возраст  Зарплата  Члены семьи  Страховые выплаты\n",
       "0       1       41     49600            1                  0\n",
       "1       0       46     38000            1                  1\n",
       "2       0       29     21000            0                  0\n",
       "3       0       21     41700            2                  0\n",
       "4       1       28     26100            0                  0\n",
       "...   ...      ...       ...          ...                ...\n",
       "4842    0       28     35700            2                  0\n",
       "4843    0       34     52400            1                  0\n",
       "4844    0       20     33900            2                  0\n",
       "4845    1       22     32700            3                  0\n",
       "4846    1       28     40600            1                  0\n",
       "\n",
       "[4847 rows x 5 columns]"
      ]
     },
     "execution_count": 15,
     "metadata": {},
     "output_type": "execute_result"
    }
   ],
   "source": [
    "# восстановление признаков \n",
    "decrypted_data = np.array(encrypted_data) @ np.linalg.inv(random_array)\n",
    "decrypted_data = pd.DataFrame(decrypted_data, columns=data.columns)\n",
    "decrypted_data = decrypted_data.round()\n",
    "decrypted_data = decrypted_data.astype(int)\n",
    "decrypted_data"
   ]
  },
  {
   "cell_type": "code",
   "execution_count": 16,
   "metadata": {},
   "outputs": [
    {
     "data": {
      "text/html": [
       "<div>\n",
       "<style scoped>\n",
       "    .dataframe tbody tr th:only-of-type {\n",
       "        vertical-align: middle;\n",
       "    }\n",
       "\n",
       "    .dataframe tbody tr th {\n",
       "        vertical-align: top;\n",
       "    }\n",
       "\n",
       "    .dataframe thead th {\n",
       "        text-align: right;\n",
       "    }\n",
       "</style>\n",
       "<table border=\"1\" class=\"dataframe\">\n",
       "  <thead>\n",
       "    <tr style=\"text-align: right;\">\n",
       "      <th></th>\n",
       "      <th>Пол</th>\n",
       "      <th>Возраст</th>\n",
       "      <th>Зарплата</th>\n",
       "      <th>Члены семьи</th>\n",
       "      <th>Страховые выплаты</th>\n",
       "    </tr>\n",
       "  </thead>\n",
       "  <tbody>\n",
       "    <tr>\n",
       "      <th>0</th>\n",
       "      <td>1</td>\n",
       "      <td>41</td>\n",
       "      <td>49600</td>\n",
       "      <td>1</td>\n",
       "      <td>0</td>\n",
       "    </tr>\n",
       "    <tr>\n",
       "      <th>1</th>\n",
       "      <td>0</td>\n",
       "      <td>46</td>\n",
       "      <td>38000</td>\n",
       "      <td>1</td>\n",
       "      <td>1</td>\n",
       "    </tr>\n",
       "    <tr>\n",
       "      <th>2</th>\n",
       "      <td>0</td>\n",
       "      <td>29</td>\n",
       "      <td>21000</td>\n",
       "      <td>0</td>\n",
       "      <td>0</td>\n",
       "    </tr>\n",
       "    <tr>\n",
       "      <th>3</th>\n",
       "      <td>0</td>\n",
       "      <td>21</td>\n",
       "      <td>41700</td>\n",
       "      <td>2</td>\n",
       "      <td>0</td>\n",
       "    </tr>\n",
       "    <tr>\n",
       "      <th>4</th>\n",
       "      <td>1</td>\n",
       "      <td>28</td>\n",
       "      <td>26100</td>\n",
       "      <td>0</td>\n",
       "      <td>0</td>\n",
       "    </tr>\n",
       "    <tr>\n",
       "      <th>...</th>\n",
       "      <td>...</td>\n",
       "      <td>...</td>\n",
       "      <td>...</td>\n",
       "      <td>...</td>\n",
       "      <td>...</td>\n",
       "    </tr>\n",
       "    <tr>\n",
       "      <th>4995</th>\n",
       "      <td>0</td>\n",
       "      <td>28</td>\n",
       "      <td>35700</td>\n",
       "      <td>2</td>\n",
       "      <td>0</td>\n",
       "    </tr>\n",
       "    <tr>\n",
       "      <th>4996</th>\n",
       "      <td>0</td>\n",
       "      <td>34</td>\n",
       "      <td>52400</td>\n",
       "      <td>1</td>\n",
       "      <td>0</td>\n",
       "    </tr>\n",
       "    <tr>\n",
       "      <th>4997</th>\n",
       "      <td>0</td>\n",
       "      <td>20</td>\n",
       "      <td>33900</td>\n",
       "      <td>2</td>\n",
       "      <td>0</td>\n",
       "    </tr>\n",
       "    <tr>\n",
       "      <th>4998</th>\n",
       "      <td>1</td>\n",
       "      <td>22</td>\n",
       "      <td>32700</td>\n",
       "      <td>3</td>\n",
       "      <td>0</td>\n",
       "    </tr>\n",
       "    <tr>\n",
       "      <th>4999</th>\n",
       "      <td>1</td>\n",
       "      <td>28</td>\n",
       "      <td>40600</td>\n",
       "      <td>1</td>\n",
       "      <td>0</td>\n",
       "    </tr>\n",
       "  </tbody>\n",
       "</table>\n",
       "<p>4847 rows × 5 columns</p>\n",
       "</div>"
      ],
      "text/plain": [
       "      Пол  Возраст  Зарплата  Члены семьи  Страховые выплаты\n",
       "0       1       41     49600            1                  0\n",
       "1       0       46     38000            1                  1\n",
       "2       0       29     21000            0                  0\n",
       "3       0       21     41700            2                  0\n",
       "4       1       28     26100            0                  0\n",
       "...   ...      ...       ...          ...                ...\n",
       "4995    0       28     35700            2                  0\n",
       "4996    0       34     52400            1                  0\n",
       "4997    0       20     33900            2                  0\n",
       "4998    1       22     32700            3                  0\n",
       "4999    1       28     40600            1                  0\n",
       "\n",
       "[4847 rows x 5 columns]"
      ]
     },
     "execution_count": 16,
     "metadata": {},
     "output_type": "execute_result"
    }
   ],
   "source": [
    "data"
   ]
  },
  {
   "cell_type": "markdown",
   "metadata": {},
   "source": [
    "Приобразование признаков сделано и проверено, что можно восстановить исходные признаки"
   ]
  },
  {
   "cell_type": "markdown",
   "metadata": {},
   "source": [
    "### Модель на исходных данных"
   ]
  },
  {
   "cell_type": "code",
   "execution_count": 17,
   "metadata": {},
   "outputs": [],
   "source": [
    "# создание выборок\n",
    "features = data.drop(['Страховые выплаты'], axis=1)\n",
    "target = data['Страховые выплаты']"
   ]
  },
  {
   "cell_type": "code",
   "execution_count": 18,
   "metadata": {},
   "outputs": [
    {
     "name": "stdout",
     "output_type": "stream",
     "text": [
      "Метрика R2 модели: 0.4302010046633359\n"
     ]
    }
   ],
   "source": [
    "# создание модели\n",
    "model = LinearRegression()\n",
    "# обучение модели\n",
    "model.fit(features, target)\n",
    "# предсказания модели\n",
    "predictions = model.predict(features)\n",
    "# оценивание модели\n",
    "print('Метрика R2 модели:', r2_score(target, predictions))"
   ]
  },
  {
   "cell_type": "markdown",
   "metadata": {},
   "source": [
    "### Модель на преобразованных данных"
   ]
  },
  {
   "cell_type": "code",
   "execution_count": 19,
   "metadata": {},
   "outputs": [],
   "source": [
    "# создание выборок\n",
    "encrypted_features = encrypted_data.drop(['Страховые выплаты'], axis=1)\n",
    "encrypted_target = encrypted_data['Страховые выплаты']"
   ]
  },
  {
   "cell_type": "code",
   "execution_count": 20,
   "metadata": {},
   "outputs": [
    {
     "name": "stdout",
     "output_type": "stream",
     "text": [
      "Метрика R2 модели: 0.9999999999999937\n"
     ]
    }
   ],
   "source": [
    "# создание модели\n",
    "model = LinearRegression()\n",
    "# обучение модели\n",
    "model.fit(encrypted_features, encrypted_target)\n",
    "# предсказания модели\n",
    "predictions = model.predict(encrypted_features)\n",
    "# оценивание модели\n",
    "print('Метрика R2 модели:', r2_score(encrypted_target, predictions))"
   ]
  },
  {
   "cell_type": "markdown",
   "metadata": {},
   "source": [
    "Я не понимаю, где ошибка, что модель начала выдавать такие результаты."
   ]
  },
  {
   "cell_type": "markdown",
   "metadata": {},
   "source": [
    "<div class=\"alert alert-block alert-warning\">\n",
    "<b>Комментарий ревьюера🤔:</b> Мне кажется ты очень сильно перемудрила в части 4.1, всё можно сделать гораздо проще, смотри ниже =)\n",
    "</div>"
   ]
  },
  {
   "cell_type": "markdown",
   "metadata": {},
   "source": [
    "<div class=\"alert alert-block alert-info\">\n",
    "<b>Комментарий студентки:</b> Все понятно, кроме почему не надо умножать целевой признак на обратимую матрицу?\n",
    "</div>"
   ]
  },
  {
   "cell_type": "markdown",
   "metadata": {},
   "source": [
    "<div class=\"alert alert-block alert-success\">\n",
    "<b>Комментарий ревьюера V.2👍:</b> Я тебе в слак скинула картинку посмотри почему =)\n",
    "</div>"
   ]
  },
  {
   "cell_type": "code",
   "execution_count": 21,
   "metadata": {},
   "outputs": [],
   "source": [
    "#KОД РЕВЬЮЕРА\n",
    "# создаем матрицу перехода\n",
    "np.random.seed(0)\n",
    "n, m = data.shape\n",
    "matrix = np.random.rand(m-1, m-1)\n",
    "\n",
    "# создание выборок\n",
    "features = data.drop(['Страховые выплаты'], axis=1)\n",
    "target = data['Страховые выплаты']\n",
    "\n",
    "# делим выборки на трейн и тест\n",
    "X_train, X_test, y_train, y_test = train_test_split( features, target, random_state = 42)\n",
    "\n",
    "# кодируем признаки в трейне и тесте\n",
    "X_train_encoded = X_train @ matrix\n",
    "X_test_encoded = X_test @ matrix"
   ]
  },
  {
   "cell_type": "code",
   "execution_count": 22,
   "metadata": {},
   "outputs": [
    {
     "name": "stdout",
     "output_type": "stream",
     "text": [
      "0.44346331080942536\n"
     ]
    }
   ],
   "source": [
    "#KОД РЕВЬЮЕРА\n",
    "# строим линейную регрессию для незакодированных признаков\n",
    "model = LinearRegression().fit(X_train, y_train)\n",
    "predictions = model.predict(X_test)\n",
    "print(r2_score(y_test, predictions))"
   ]
  },
  {
   "cell_type": "code",
   "execution_count": 23,
   "metadata": {},
   "outputs": [
    {
     "name": "stdout",
     "output_type": "stream",
     "text": [
      "0.4434633108088576\n"
     ]
    }
   ],
   "source": [
    "#KОД РЕВЬЮЕРА\n",
    "# строим линейную регрессию для закодированных признаков\n",
    "model = LinearRegression().fit(X_train_encoded, y_train)\n",
    "predictions = model.predict(X_test_encoded)\n",
    "print(r2_score(y_test, predictions))"
   ]
  },
  {
   "cell_type": "markdown",
   "metadata": {},
   "source": [
    "## Вывод"
   ]
  },
  {
   "cell_type": "markdown",
   "metadata": {},
   "source": [
    "Мною были исследованы данные клиентов страховой компании. Над ними я провела предобработку. \n",
    "\n",
    "Был найден алгоритм преобразования данных в целях защиты данных клиентов. Этим алгоритмом является умножение исходных данных, представленный в виде матрицы, на обратимую матрицу, заполненную случайнями числами. Таким образом данные будут отличны от исходных. Подобрать обратимую матрицу будет крайне сложно, так как она заполнена случайными числами. Но мы, зная обратимую матрицу, сможем найти ей парную и восстановить исходные данные. Математически было доказано, что качество модели не ухудшится. На практике это тоже было опробовано: обучила дваждый модель на исходных и приобразованных данных. Качество модели не изменилось. "
   ]
  },
  {
   "cell_type": "markdown",
   "metadata": {},
   "source": [
    "## Чек-лист проверки"
   ]
  },
  {
   "cell_type": "markdown",
   "metadata": {},
   "source": [
    "Поставьте 'x' в выполненных пунктах. Далее нажмите Shift+Enter."
   ]
  },
  {
   "cell_type": "markdown",
   "metadata": {},
   "source": [
    "- [x]  Jupyter Notebook открыт\n",
    "- [ ]  Весь код выполняется без ошибок\n",
    "- [ ]  Ячейки с кодом расположены в порядке исполнения\n",
    "- [ ]  Выполнен шаг 1: данные загружены\n",
    "- [ ]  Выполнен шаг 2: получен ответ на вопрос об умножении матриц\n",
    "    - [ ]  Указан правильный вариант ответа\n",
    "    - [ ]  Вариант обоснован\n",
    "- [ ]  Выполнен шаг 3: предложен алгоритм преобразования\n",
    "    - [ ]  Алгоритм описан\n",
    "    - [ ]  Алгоритм обоснован\n",
    "- [ ]  Выполнен шаг 4: алгоритм проверен\n",
    "    - [ ]  Алгоритм реализован\n",
    "    - [ ]  Проведено сравнение качества моделей до и после преобразования"
   ]
  },
  {
   "cell_type": "markdown",
   "metadata": {},
   "source": [
    "<div class=\"alert alert-block alert-warning\">\n",
    "<b>Комментарий ревьюера🤔:</b> Спасибо тебе за проделанную работу, ты немного перемудрила в блоке 4, посмотри, пожалуйста, моё решение и добавь вывод. До скорой встречи =)\n",
    "</div>"
   ]
  },
  {
   "cell_type": "markdown",
   "metadata": {},
   "source": [
    "<div class=\"alert alert-block alert-success\">\n",
    "<b>Комментарий ревьюера V.2👍:</b> \n",
    "\n",
    "Обзоры по применению криптографии в машинном обучении: https://arxiv.org/pdf/1902.04109.pdf, https://www.researchgate.net/publication/342746786_Some_Applications_of_Machine_Learning_in_Cryptography\n",
    "   \n",
    "Примеры использования линейной алгебры в машинном обучении:\n",
    "https://machinelearningmastery.com/examples-of-linear-algebra-in-machine-learning/\n",
    "    \n",
    "Для чего нужна математика в машинном обучении?\n",
    "https://proglib.io/p/dlya-chego-nuzhen-matematicheskiy-analiz-v-mashinnom-obuchenii-2021-02-15\n",
    "\n",
    "Большая статья по векторам:\n",
    "https://neptune.ai/blog/understanding-vectors-from-a-machine-learning-perspective  \n",
    "    \n",
    "Удачи в будущих проектах и работе =)\n",
    "    \n",
    "</div>\n"
   ]
  }
 ],
 "metadata": {
  "ExecuteTimeLog": [
   {
    "duration": 466,
    "start_time": "2022-04-16T16:51:46.317Z"
   },
   {
    "duration": 37,
    "start_time": "2022-04-16T16:51:47.385Z"
   },
   {
    "duration": 16,
    "start_time": "2022-04-16T16:52:41.170Z"
   },
   {
    "duration": 36,
    "start_time": "2022-04-16T16:54:40.597Z"
   },
   {
    "duration": 28,
    "start_time": "2022-04-16T16:54:49.417Z"
   },
   {
    "duration": 16,
    "start_time": "2022-04-16T16:55:03.237Z"
   },
   {
    "duration": 32,
    "start_time": "2022-04-16T16:55:24.309Z"
   },
   {
    "duration": 26,
    "start_time": "2022-04-16T16:55:34.822Z"
   },
   {
    "duration": 8,
    "start_time": "2022-04-16T16:56:10.982Z"
   },
   {
    "duration": 106,
    "start_time": "2022-04-16T17:11:06.412Z"
   },
   {
    "duration": 15,
    "start_time": "2022-04-16T17:11:41.668Z"
   },
   {
    "duration": 18,
    "start_time": "2022-04-16T17:12:16.122Z"
   },
   {
    "duration": 22,
    "start_time": "2022-04-16T17:12:30.588Z"
   },
   {
    "duration": 6,
    "start_time": "2022-04-16T17:13:54.600Z"
   },
   {
    "duration": 13,
    "start_time": "2022-04-16T17:14:05.480Z"
   },
   {
    "duration": 45,
    "start_time": "2022-04-17T08:40:57.473Z"
   },
   {
    "duration": 412,
    "start_time": "2022-04-17T08:41:01.935Z"
   },
   {
    "duration": 28,
    "start_time": "2022-04-17T08:41:02.349Z"
   },
   {
    "duration": 10,
    "start_time": "2022-04-17T08:41:02.379Z"
   },
   {
    "duration": 6,
    "start_time": "2022-04-17T08:41:02.391Z"
   },
   {
    "duration": 66,
    "start_time": "2022-04-17T08:41:02.398Z"
   },
   {
    "duration": 0,
    "start_time": "2022-04-17T08:41:02.465Z"
   },
   {
    "duration": 0,
    "start_time": "2022-04-17T08:41:02.466Z"
   },
   {
    "duration": 5,
    "start_time": "2022-04-17T08:41:48.472Z"
   },
   {
    "duration": 6,
    "start_time": "2022-04-17T08:42:02.696Z"
   },
   {
    "duration": 424,
    "start_time": "2022-04-17T08:42:03.512Z"
   },
   {
    "duration": 9,
    "start_time": "2022-04-17T08:42:12.257Z"
   },
   {
    "duration": 716,
    "start_time": "2022-04-17T09:03:22.173Z"
   },
   {
    "duration": 45,
    "start_time": "2022-04-17T09:06:43.554Z"
   },
   {
    "duration": 13,
    "start_time": "2022-04-17T09:07:06.671Z"
   },
   {
    "duration": 10,
    "start_time": "2022-04-17T09:07:20.647Z"
   },
   {
    "duration": 3,
    "start_time": "2022-04-17T09:07:44.767Z"
   },
   {
    "duration": 11,
    "start_time": "2022-04-17T09:07:49.396Z"
   },
   {
    "duration": 6,
    "start_time": "2022-04-17T09:08:06.948Z"
   },
   {
    "duration": 2,
    "start_time": "2022-04-17T09:10:04.467Z"
   },
   {
    "duration": 17,
    "start_time": "2022-04-17T09:10:37.641Z"
   },
   {
    "duration": 6,
    "start_time": "2022-04-17T09:11:25.508Z"
   },
   {
    "duration": 8,
    "start_time": "2022-04-17T09:11:26.158Z"
   },
   {
    "duration": 3,
    "start_time": "2022-04-17T09:14:43.277Z"
   },
   {
    "duration": 110,
    "start_time": "2022-04-17T09:15:22.444Z"
   },
   {
    "duration": 116,
    "start_time": "2022-04-17T09:15:55.606Z"
   },
   {
    "duration": 4,
    "start_time": "2022-04-17T14:11:43.033Z"
   },
   {
    "duration": 4,
    "start_time": "2022-04-17T14:11:49.204Z"
   },
   {
    "duration": 3,
    "start_time": "2022-04-17T14:11:58.561Z"
   },
   {
    "duration": 5,
    "start_time": "2022-04-17T14:12:01.979Z"
   },
   {
    "duration": 4,
    "start_time": "2022-04-17T14:12:07.983Z"
   },
   {
    "duration": 3,
    "start_time": "2022-04-17T14:14:49.159Z"
   },
   {
    "duration": 5,
    "start_time": "2022-04-17T14:14:53.774Z"
   },
   {
    "duration": 5,
    "start_time": "2022-04-17T14:15:42.163Z"
   },
   {
    "duration": 1070,
    "start_time": "2022-04-17T14:16:08.333Z"
   },
   {
    "duration": 23,
    "start_time": "2022-04-17T14:16:09.405Z"
   },
   {
    "duration": 11,
    "start_time": "2022-04-17T14:16:09.429Z"
   },
   {
    "duration": 16,
    "start_time": "2022-04-17T14:16:09.442Z"
   },
   {
    "duration": 18,
    "start_time": "2022-04-17T14:16:09.460Z"
   },
   {
    "duration": 7,
    "start_time": "2022-04-17T14:16:09.479Z"
   },
   {
    "duration": 7,
    "start_time": "2022-04-17T14:16:09.487Z"
   },
   {
    "duration": 5,
    "start_time": "2022-04-17T14:16:09.496Z"
   },
   {
    "duration": 9,
    "start_time": "2022-04-17T14:16:09.502Z"
   },
   {
    "duration": 4,
    "start_time": "2022-04-17T14:16:09.512Z"
   },
   {
    "duration": 7,
    "start_time": "2022-04-17T14:16:09.517Z"
   },
   {
    "duration": 89,
    "start_time": "2022-04-17T14:16:48.243Z"
   },
   {
    "duration": 9,
    "start_time": "2022-04-17T14:17:04.328Z"
   },
   {
    "duration": 9,
    "start_time": "2022-04-17T14:17:21.210Z"
   },
   {
    "duration": 5,
    "start_time": "2022-04-17T14:17:31.710Z"
   },
   {
    "duration": 4,
    "start_time": "2022-04-17T14:19:47.552Z"
   },
   {
    "duration": 6,
    "start_time": "2022-04-17T14:20:15.779Z"
   },
   {
    "duration": 7,
    "start_time": "2022-04-17T14:20:39.617Z"
   },
   {
    "duration": 7,
    "start_time": "2022-04-17T14:20:45.423Z"
   },
   {
    "duration": 8,
    "start_time": "2022-04-17T14:25:39.515Z"
   },
   {
    "duration": 4,
    "start_time": "2022-04-17T14:25:51.899Z"
   },
   {
    "duration": 5,
    "start_time": "2022-04-17T14:26:09.601Z"
   },
   {
    "duration": 10,
    "start_time": "2022-04-17T14:26:20.845Z"
   },
   {
    "duration": 10,
    "start_time": "2022-04-17T14:26:33.605Z"
   },
   {
    "duration": 4,
    "start_time": "2022-04-17T14:27:03.258Z"
   },
   {
    "duration": 4,
    "start_time": "2022-04-17T14:27:04.079Z"
   },
   {
    "duration": 10,
    "start_time": "2022-04-17T14:27:08.017Z"
   },
   {
    "duration": 5,
    "start_time": "2022-04-17T14:27:14.094Z"
   },
   {
    "duration": 4,
    "start_time": "2022-04-17T14:28:13.509Z"
   },
   {
    "duration": 6,
    "start_time": "2022-04-17T14:28:21.204Z"
   },
   {
    "duration": 6,
    "start_time": "2022-04-17T14:29:03.242Z"
   },
   {
    "duration": 1729,
    "start_time": "2022-04-17T14:29:46.875Z"
   },
   {
    "duration": 6,
    "start_time": "2022-04-17T14:31:08.147Z"
   },
   {
    "duration": 6,
    "start_time": "2022-04-17T14:31:28.146Z"
   },
   {
    "duration": 5,
    "start_time": "2022-04-17T14:31:46.823Z"
   },
   {
    "duration": 4,
    "start_time": "2022-04-17T14:31:47.635Z"
   },
   {
    "duration": 5,
    "start_time": "2022-04-17T14:31:48.400Z"
   },
   {
    "duration": 6,
    "start_time": "2022-04-17T14:31:49.735Z"
   },
   {
    "duration": 7,
    "start_time": "2022-04-17T14:32:47.923Z"
   },
   {
    "duration": 5,
    "start_time": "2022-04-17T14:32:57.779Z"
   },
   {
    "duration": 6,
    "start_time": "2022-04-17T14:33:20.561Z"
   },
   {
    "duration": 6,
    "start_time": "2022-04-17T14:33:41.793Z"
   },
   {
    "duration": 6,
    "start_time": "2022-04-17T14:33:53.875Z"
   },
   {
    "duration": 8,
    "start_time": "2022-04-17T14:34:50.169Z"
   },
   {
    "duration": 8,
    "start_time": "2022-04-17T14:35:03.409Z"
   },
   {
    "duration": 4,
    "start_time": "2022-04-17T14:36:28.430Z"
   },
   {
    "duration": 9,
    "start_time": "2022-04-17T14:36:30.351Z"
   },
   {
    "duration": 4,
    "start_time": "2022-04-17T14:36:42.203Z"
   },
   {
    "duration": 6,
    "start_time": "2022-04-17T14:36:56.341Z"
   },
   {
    "duration": 5,
    "start_time": "2022-04-17T14:36:59.140Z"
   },
   {
    "duration": 6,
    "start_time": "2022-04-17T14:37:01.616Z"
   },
   {
    "duration": 6,
    "start_time": "2022-04-17T14:37:10.286Z"
   },
   {
    "duration": 7,
    "start_time": "2022-04-17T14:37:16.040Z"
   },
   {
    "duration": 5,
    "start_time": "2022-04-17T14:39:06.066Z"
   },
   {
    "duration": 3,
    "start_time": "2022-04-17T14:39:29.664Z"
   },
   {
    "duration": 13,
    "start_time": "2022-04-17T14:39:34.680Z"
   },
   {
    "duration": 13,
    "start_time": "2022-04-17T14:39:47.481Z"
   },
   {
    "duration": 122,
    "start_time": "2022-04-17T14:41:00.837Z"
   },
   {
    "duration": 63,
    "start_time": "2022-04-17T14:41:21.287Z"
   },
   {
    "duration": 519,
    "start_time": "2022-04-17T14:42:21.234Z"
   },
   {
    "duration": 12,
    "start_time": "2022-04-17T14:44:58.193Z"
   },
   {
    "duration": 68,
    "start_time": "2022-04-17T14:45:59.381Z"
   },
   {
    "duration": 6,
    "start_time": "2022-04-17T14:46:29.948Z"
   },
   {
    "duration": 15,
    "start_time": "2022-04-17T14:46:45.491Z"
   },
   {
    "duration": 5,
    "start_time": "2022-04-17T14:50:25.191Z"
   },
   {
    "duration": 14,
    "start_time": "2022-04-17T14:51:06.876Z"
   },
   {
    "duration": 13,
    "start_time": "2022-04-17T14:51:22.411Z"
   },
   {
    "duration": 15,
    "start_time": "2022-04-17T14:51:50.991Z"
   },
   {
    "duration": 13,
    "start_time": "2022-04-17T14:52:01.921Z"
   },
   {
    "duration": 13,
    "start_time": "2022-04-17T14:52:40.119Z"
   },
   {
    "duration": 14,
    "start_time": "2022-04-17T14:52:48.803Z"
   },
   {
    "duration": 16,
    "start_time": "2022-04-17T14:53:57.955Z"
   },
   {
    "duration": 6,
    "start_time": "2022-04-17T14:54:47.067Z"
   },
   {
    "duration": 7,
    "start_time": "2022-04-17T14:54:48.664Z"
   },
   {
    "duration": 1075,
    "start_time": "2022-04-17T14:55:19.440Z"
   },
   {
    "duration": 24,
    "start_time": "2022-04-17T14:55:20.517Z"
   },
   {
    "duration": 11,
    "start_time": "2022-04-17T14:55:20.542Z"
   },
   {
    "duration": 5,
    "start_time": "2022-04-17T14:55:20.554Z"
   },
   {
    "duration": 5,
    "start_time": "2022-04-17T14:55:20.561Z"
   },
   {
    "duration": 5,
    "start_time": "2022-04-17T14:55:20.568Z"
   },
   {
    "duration": 7,
    "start_time": "2022-04-17T14:55:20.574Z"
   },
   {
    "duration": 5,
    "start_time": "2022-04-17T14:55:20.582Z"
   },
   {
    "duration": 9,
    "start_time": "2022-04-17T14:55:20.588Z"
   },
   {
    "duration": 4,
    "start_time": "2022-04-17T14:55:20.599Z"
   },
   {
    "duration": 5,
    "start_time": "2022-04-17T14:55:20.605Z"
   },
   {
    "duration": 8,
    "start_time": "2022-04-17T14:55:20.648Z"
   },
   {
    "duration": 10,
    "start_time": "2022-04-17T14:55:20.657Z"
   },
   {
    "duration": 11,
    "start_time": "2022-04-17T14:55:20.670Z"
   },
   {
    "duration": 7,
    "start_time": "2022-04-17T14:55:20.683Z"
   },
   {
    "duration": 18,
    "start_time": "2022-04-17T14:55:20.691Z"
   },
   {
    "duration": 49,
    "start_time": "2022-04-17T14:55:20.711Z"
   },
   {
    "duration": 90,
    "start_time": "2022-04-17T14:55:20.762Z"
   },
   {
    "duration": 8,
    "start_time": "2022-04-17T14:55:20.854Z"
   },
   {
    "duration": 997,
    "start_time": "2022-04-17T14:56:42.483Z"
   },
   {
    "duration": 24,
    "start_time": "2022-04-17T14:56:43.481Z"
   },
   {
    "duration": 11,
    "start_time": "2022-04-17T14:56:43.507Z"
   },
   {
    "duration": 5,
    "start_time": "2022-04-17T14:56:43.520Z"
   },
   {
    "duration": 20,
    "start_time": "2022-04-17T14:56:43.528Z"
   },
   {
    "duration": 6,
    "start_time": "2022-04-17T14:56:43.549Z"
   },
   {
    "duration": 7,
    "start_time": "2022-04-17T14:56:43.556Z"
   },
   {
    "duration": 3,
    "start_time": "2022-04-17T14:56:43.565Z"
   },
   {
    "duration": 8,
    "start_time": "2022-04-17T14:56:43.570Z"
   },
   {
    "duration": 9,
    "start_time": "2022-04-17T14:56:43.580Z"
   },
   {
    "duration": 7,
    "start_time": "2022-04-17T14:56:43.648Z"
   },
   {
    "duration": 93,
    "start_time": "2022-04-17T14:56:43.657Z"
   },
   {
    "duration": 7,
    "start_time": "2022-04-17T14:56:43.752Z"
   },
   {
    "duration": 6,
    "start_time": "2022-04-17T14:56:43.761Z"
   },
   {
    "duration": 5,
    "start_time": "2022-04-17T14:56:43.769Z"
   },
   {
    "duration": 7,
    "start_time": "2022-04-17T14:56:43.776Z"
   },
   {
    "duration": 14,
    "start_time": "2022-04-17T14:56:43.784Z"
   },
   {
    "duration": 59,
    "start_time": "2022-04-17T14:56:43.800Z"
   },
   {
    "duration": 90,
    "start_time": "2022-04-17T14:56:43.862Z"
   },
   {
    "duration": 8,
    "start_time": "2022-04-17T14:56:43.954Z"
   },
   {
    "duration": 12,
    "start_time": "2022-04-17T14:58:41.115Z"
   },
   {
    "duration": 4,
    "start_time": "2022-04-17T14:58:59.224Z"
   },
   {
    "duration": 7,
    "start_time": "2022-04-17T14:58:59.731Z"
   },
   {
    "duration": 1130,
    "start_time": "2022-04-17T14:59:08.970Z"
   },
   {
    "duration": 28,
    "start_time": "2022-04-17T14:59:10.102Z"
   },
   {
    "duration": 15,
    "start_time": "2022-04-17T14:59:10.132Z"
   },
   {
    "duration": 7,
    "start_time": "2022-04-17T14:59:10.150Z"
   },
   {
    "duration": 7,
    "start_time": "2022-04-17T14:59:10.158Z"
   },
   {
    "duration": 6,
    "start_time": "2022-04-17T14:59:10.167Z"
   },
   {
    "duration": 10,
    "start_time": "2022-04-17T14:59:10.175Z"
   },
   {
    "duration": 5,
    "start_time": "2022-04-17T14:59:10.187Z"
   },
   {
    "duration": 58,
    "start_time": "2022-04-17T14:59:10.194Z"
   },
   {
    "duration": 6,
    "start_time": "2022-04-17T14:59:10.254Z"
   },
   {
    "duration": 92,
    "start_time": "2022-04-17T14:59:10.261Z"
   },
   {
    "duration": 9,
    "start_time": "2022-04-17T14:59:10.355Z"
   },
   {
    "duration": 7,
    "start_time": "2022-04-17T14:59:10.365Z"
   },
   {
    "duration": 7,
    "start_time": "2022-04-17T14:59:10.373Z"
   },
   {
    "duration": 11,
    "start_time": "2022-04-17T14:59:10.381Z"
   },
   {
    "duration": 26,
    "start_time": "2022-04-17T14:59:10.393Z"
   },
   {
    "duration": 39,
    "start_time": "2022-04-17T14:59:10.420Z"
   },
   {
    "duration": 88,
    "start_time": "2022-04-17T14:59:10.461Z"
   },
   {
    "duration": 107,
    "start_time": "2022-04-17T14:59:10.550Z"
   },
   {
    "duration": 9,
    "start_time": "2022-04-17T15:00:18.758Z"
   },
   {
    "duration": 4,
    "start_time": "2022-04-17T15:00:36.647Z"
   },
   {
    "duration": 17,
    "start_time": "2022-04-17T15:00:37.355Z"
   },
   {
    "duration": 1364,
    "start_time": "2022-04-17T19:30:17.178Z"
   },
   {
    "duration": 95,
    "start_time": "2022-04-17T19:30:18.544Z"
   },
   {
    "duration": 17,
    "start_time": "2022-04-17T19:30:18.641Z"
   },
   {
    "duration": 6,
    "start_time": "2022-04-17T19:30:18.661Z"
   },
   {
    "duration": 17,
    "start_time": "2022-04-17T19:30:18.670Z"
   },
   {
    "duration": 6,
    "start_time": "2022-04-17T19:30:18.689Z"
   },
   {
    "duration": 35,
    "start_time": "2022-04-17T19:30:18.697Z"
   },
   {
    "duration": 4,
    "start_time": "2022-04-17T19:30:18.736Z"
   },
   {
    "duration": 24,
    "start_time": "2022-04-17T19:30:18.743Z"
   },
   {
    "duration": 61,
    "start_time": "2022-04-17T19:30:18.781Z"
   },
   {
    "duration": 20,
    "start_time": "2022-04-17T19:30:18.849Z"
   },
   {
    "duration": 12,
    "start_time": "2022-04-17T19:30:18.923Z"
   },
   {
    "duration": 34,
    "start_time": "2022-04-17T19:30:18.943Z"
   },
   {
    "duration": 8,
    "start_time": "2022-04-17T19:30:18.980Z"
   },
   {
    "duration": 7,
    "start_time": "2022-04-17T19:30:18.989Z"
   },
   {
    "duration": 11,
    "start_time": "2022-04-17T19:30:18.998Z"
   },
   {
    "duration": 65,
    "start_time": "2022-04-17T19:30:19.011Z"
   },
   {
    "duration": 53,
    "start_time": "2022-04-17T19:30:19.081Z"
   },
   {
    "duration": 102,
    "start_time": "2022-04-17T19:30:19.142Z"
   },
   {
    "duration": 75,
    "start_time": "2022-04-17T19:36:35.454Z"
   },
   {
    "duration": 5,
    "start_time": "2022-04-17T19:36:37.774Z"
   },
   {
    "duration": 34,
    "start_time": "2022-04-17T19:37:30.840Z"
   },
   {
    "duration": 5,
    "start_time": "2022-04-17T19:37:31.866Z"
   },
   {
    "duration": 67,
    "start_time": "2022-04-17T19:41:39.662Z"
   },
   {
    "duration": 108,
    "start_time": "2022-04-17T19:42:16.432Z"
   },
   {
    "duration": 15,
    "start_time": "2022-04-17T19:42:26.460Z"
   },
   {
    "duration": 4,
    "start_time": "2022-04-17T19:42:29.884Z"
   },
   {
    "duration": 16,
    "start_time": "2022-04-17T19:42:33.752Z"
   },
   {
    "duration": 5,
    "start_time": "2022-04-17T19:42:50.270Z"
   },
   {
    "duration": 1427,
    "start_time": "2022-04-17T19:46:44.138Z"
   },
   {
    "duration": 41,
    "start_time": "2022-04-17T19:46:45.571Z"
   },
   {
    "duration": 26,
    "start_time": "2022-04-17T19:46:45.613Z"
   },
   {
    "duration": 7,
    "start_time": "2022-04-17T19:46:45.646Z"
   },
   {
    "duration": 12,
    "start_time": "2022-04-17T19:46:45.656Z"
   },
   {
    "duration": 9,
    "start_time": "2022-04-17T19:46:45.671Z"
   },
   {
    "duration": 10,
    "start_time": "2022-04-17T19:46:45.687Z"
   },
   {
    "duration": 4,
    "start_time": "2022-04-17T19:46:45.700Z"
   },
   {
    "duration": 132,
    "start_time": "2022-04-17T19:46:45.706Z"
   },
   {
    "duration": 14,
    "start_time": "2022-04-17T19:46:45.845Z"
   },
   {
    "duration": 16,
    "start_time": "2022-04-17T19:46:45.925Z"
   },
   {
    "duration": 14,
    "start_time": "2022-04-17T19:46:45.943Z"
   },
   {
    "duration": 16,
    "start_time": "2022-04-17T19:46:45.959Z"
   },
   {
    "duration": 7,
    "start_time": "2022-04-17T19:46:45.977Z"
   },
   {
    "duration": 6,
    "start_time": "2022-04-17T19:46:45.986Z"
   },
   {
    "duration": 7,
    "start_time": "2022-04-17T19:46:45.993Z"
   },
   {
    "duration": 35,
    "start_time": "2022-04-17T19:46:46.001Z"
   },
   {
    "duration": 38,
    "start_time": "2022-04-17T19:46:46.040Z"
   },
   {
    "duration": 46,
    "start_time": "2022-04-17T19:46:46.082Z"
   },
   {
    "duration": 124,
    "start_time": "2022-04-17T19:46:46.137Z"
   },
   {
    "duration": 56,
    "start_time": "2022-04-17T19:46:46.279Z"
   },
   {
    "duration": 13,
    "start_time": "2022-04-17T19:50:14.892Z"
   },
   {
    "duration": 17,
    "start_time": "2022-04-17T19:52:12.674Z"
   },
   {
    "duration": 14,
    "start_time": "2022-04-17T19:52:46.083Z"
   },
   {
    "duration": 4,
    "start_time": "2022-04-17T19:52:50.707Z"
   },
   {
    "duration": 33,
    "start_time": "2022-04-17T19:52:51.328Z"
   },
   {
    "duration": 11,
    "start_time": "2022-04-17T19:53:49.465Z"
   },
   {
    "duration": 3,
    "start_time": "2022-04-17T20:05:46.443Z"
   },
   {
    "duration": 28,
    "start_time": "2022-04-17T20:05:47.053Z"
   },
   {
    "duration": 5,
    "start_time": "2022-04-17T21:18:19.719Z"
   },
   {
    "duration": 19,
    "start_time": "2022-04-17T21:18:21.140Z"
   },
   {
    "duration": 5,
    "start_time": "2022-04-17T21:18:22.646Z"
   },
   {
    "duration": 12,
    "start_time": "2022-04-17T21:18:23.320Z"
   },
   {
    "duration": 1190,
    "start_time": "2022-04-17T21:18:28.733Z"
   },
   {
    "duration": 29,
    "start_time": "2022-04-17T21:18:29.925Z"
   },
   {
    "duration": 10,
    "start_time": "2022-04-17T21:18:29.955Z"
   },
   {
    "duration": 8,
    "start_time": "2022-04-17T21:18:29.966Z"
   },
   {
    "duration": 6,
    "start_time": "2022-04-17T21:18:29.976Z"
   },
   {
    "duration": 9,
    "start_time": "2022-04-17T21:18:29.984Z"
   },
   {
    "duration": 5,
    "start_time": "2022-04-17T21:18:29.994Z"
   },
   {
    "duration": 23,
    "start_time": "2022-04-17T21:18:30.000Z"
   },
   {
    "duration": 8,
    "start_time": "2022-04-17T21:18:30.025Z"
   },
   {
    "duration": 17,
    "start_time": "2022-04-17T21:18:30.034Z"
   },
   {
    "duration": 13,
    "start_time": "2022-04-17T21:18:30.052Z"
   },
   {
    "duration": 17,
    "start_time": "2022-04-17T21:18:30.066Z"
   },
   {
    "duration": 20,
    "start_time": "2022-04-17T21:18:30.085Z"
   },
   {
    "duration": 29,
    "start_time": "2022-04-17T21:18:30.108Z"
   },
   {
    "duration": 86,
    "start_time": "2022-04-17T21:18:30.138Z"
   },
   {
    "duration": 115,
    "start_time": "2022-04-17T21:18:30.226Z"
   },
   {
    "duration": 91,
    "start_time": "2022-04-17T21:18:30.343Z"
   },
   {
    "duration": 123,
    "start_time": "2022-04-17T21:18:30.437Z"
   },
   {
    "duration": 6,
    "start_time": "2022-04-17T21:19:32.145Z"
   },
   {
    "duration": 14,
    "start_time": "2022-04-17T21:19:32.936Z"
   },
   {
    "duration": 9,
    "start_time": "2022-04-17T21:21:09.219Z"
   },
   {
    "duration": 1273,
    "start_time": "2022-04-17T21:21:53.950Z"
   },
   {
    "duration": 32,
    "start_time": "2022-04-17T21:21:55.225Z"
   },
   {
    "duration": 12,
    "start_time": "2022-04-17T21:21:55.259Z"
   },
   {
    "duration": 5,
    "start_time": "2022-04-17T21:21:55.274Z"
   },
   {
    "duration": 7,
    "start_time": "2022-04-17T21:21:55.281Z"
   },
   {
    "duration": 7,
    "start_time": "2022-04-17T21:21:55.290Z"
   },
   {
    "duration": 24,
    "start_time": "2022-04-17T21:21:55.299Z"
   },
   {
    "duration": 7,
    "start_time": "2022-04-17T21:21:55.325Z"
   },
   {
    "duration": 6,
    "start_time": "2022-04-17T21:21:55.334Z"
   },
   {
    "duration": 6,
    "start_time": "2022-04-17T21:21:55.343Z"
   },
   {
    "duration": 8,
    "start_time": "2022-04-17T21:21:55.350Z"
   },
   {
    "duration": 12,
    "start_time": "2022-04-17T21:21:55.360Z"
   },
   {
    "duration": 54,
    "start_time": "2022-04-17T21:21:55.374Z"
   },
   {
    "duration": 95,
    "start_time": "2022-04-17T21:21:55.429Z"
   },
   {
    "duration": 98,
    "start_time": "2022-04-17T21:21:55.526Z"
   },
   {
    "duration": 4,
    "start_time": "2022-04-17T21:21:55.626Z"
   },
   {
    "duration": 12,
    "start_time": "2022-04-17T21:21:55.632Z"
   },
   {
    "duration": 5,
    "start_time": "2022-04-17T21:21:55.647Z"
   },
   {
    "duration": 13,
    "start_time": "2022-04-17T21:21:55.724Z"
   },
   {
    "duration": 6,
    "start_time": "2022-04-17T21:21:55.824Z"
   },
   {
    "duration": 92,
    "start_time": "2022-04-17T21:21:55.833Z"
   },
   {
    "duration": 1502,
    "start_time": "2022-04-17T21:23:02.486Z"
   },
   {
    "duration": 44,
    "start_time": "2022-04-17T21:23:03.990Z"
   },
   {
    "duration": 13,
    "start_time": "2022-04-17T21:23:04.036Z"
   },
   {
    "duration": 14,
    "start_time": "2022-04-17T21:23:04.051Z"
   },
   {
    "duration": 10,
    "start_time": "2022-04-17T21:23:04.068Z"
   },
   {
    "duration": 9,
    "start_time": "2022-04-17T21:23:04.080Z"
   },
   {
    "duration": 5,
    "start_time": "2022-04-17T21:23:04.091Z"
   },
   {
    "duration": 26,
    "start_time": "2022-04-17T21:23:04.098Z"
   },
   {
    "duration": 8,
    "start_time": "2022-04-17T21:23:04.126Z"
   },
   {
    "duration": 7,
    "start_time": "2022-04-17T21:23:04.136Z"
   },
   {
    "duration": 8,
    "start_time": "2022-04-17T21:23:04.145Z"
   },
   {
    "duration": 10,
    "start_time": "2022-04-17T21:23:04.154Z"
   },
   {
    "duration": 19,
    "start_time": "2022-04-17T21:23:04.166Z"
   },
   {
    "duration": 47,
    "start_time": "2022-04-17T21:23:04.188Z"
   },
   {
    "duration": 15,
    "start_time": "2022-04-17T21:23:04.322Z"
   },
   {
    "duration": 4,
    "start_time": "2022-04-17T21:23:04.424Z"
   },
   {
    "duration": 95,
    "start_time": "2022-04-17T21:23:04.430Z"
   },
   {
    "duration": 8,
    "start_time": "2022-04-17T21:23:04.527Z"
   },
   {
    "duration": 10,
    "start_time": "2022-04-17T21:23:04.623Z"
   },
   {
    "duration": 6,
    "start_time": "2022-04-17T21:23:04.635Z"
   },
   {
    "duration": 13,
    "start_time": "2022-04-17T21:23:04.724Z"
   },
   {
    "duration": 1203,
    "start_time": "2022-04-17T21:26:54.397Z"
   },
   {
    "duration": 30,
    "start_time": "2022-04-17T21:26:55.602Z"
   },
   {
    "duration": 11,
    "start_time": "2022-04-17T21:26:55.634Z"
   },
   {
    "duration": 4,
    "start_time": "2022-04-17T21:26:55.646Z"
   },
   {
    "duration": 5,
    "start_time": "2022-04-17T21:26:55.652Z"
   },
   {
    "duration": 10,
    "start_time": "2022-04-17T21:26:55.658Z"
   },
   {
    "duration": 3,
    "start_time": "2022-04-17T21:26:55.670Z"
   },
   {
    "duration": 4,
    "start_time": "2022-04-17T21:26:55.675Z"
   },
   {
    "duration": 42,
    "start_time": "2022-04-17T21:26:55.681Z"
   },
   {
    "duration": 6,
    "start_time": "2022-04-17T21:26:55.725Z"
   },
   {
    "duration": 6,
    "start_time": "2022-04-17T21:26:55.732Z"
   },
   {
    "duration": 7,
    "start_time": "2022-04-17T21:26:55.740Z"
   },
   {
    "duration": 15,
    "start_time": "2022-04-17T21:26:55.749Z"
   },
   {
    "duration": 307,
    "start_time": "2022-04-17T21:26:55.767Z"
   },
   {
    "duration": 0,
    "start_time": "2022-04-17T21:26:56.075Z"
   },
   {
    "duration": 0,
    "start_time": "2022-04-17T21:26:56.076Z"
   },
   {
    "duration": 0,
    "start_time": "2022-04-17T21:26:56.077Z"
   },
   {
    "duration": 0,
    "start_time": "2022-04-17T21:26:56.078Z"
   },
   {
    "duration": 0,
    "start_time": "2022-04-17T21:26:56.079Z"
   },
   {
    "duration": 0,
    "start_time": "2022-04-17T21:26:56.080Z"
   },
   {
    "duration": 0,
    "start_time": "2022-04-17T21:26:56.080Z"
   },
   {
    "duration": 206,
    "start_time": "2022-04-17T21:27:47.958Z"
   },
   {
    "duration": 11,
    "start_time": "2022-04-17T21:30:34.111Z"
   },
   {
    "duration": 1234,
    "start_time": "2022-04-17T21:31:46.244Z"
   },
   {
    "duration": 38,
    "start_time": "2022-04-17T21:31:47.480Z"
   },
   {
    "duration": 13,
    "start_time": "2022-04-17T21:31:47.519Z"
   },
   {
    "duration": 5,
    "start_time": "2022-04-17T21:31:47.534Z"
   },
   {
    "duration": 5,
    "start_time": "2022-04-17T21:31:47.542Z"
   },
   {
    "duration": 7,
    "start_time": "2022-04-17T21:31:47.549Z"
   },
   {
    "duration": 4,
    "start_time": "2022-04-17T21:31:47.558Z"
   },
   {
    "duration": 4,
    "start_time": "2022-04-17T21:31:47.563Z"
   },
   {
    "duration": 10,
    "start_time": "2022-04-17T21:31:47.569Z"
   },
   {
    "duration": 47,
    "start_time": "2022-04-17T21:31:47.580Z"
   },
   {
    "duration": 6,
    "start_time": "2022-04-17T21:31:47.629Z"
   },
   {
    "duration": 9,
    "start_time": "2022-04-17T21:31:47.637Z"
   },
   {
    "duration": 15,
    "start_time": "2022-04-17T21:31:47.648Z"
   },
   {
    "duration": 10,
    "start_time": "2022-04-17T21:31:47.666Z"
   },
   {
    "duration": 368,
    "start_time": "2022-04-17T21:31:47.678Z"
   },
   {
    "duration": 0,
    "start_time": "2022-04-17T21:31:48.049Z"
   },
   {
    "duration": 0,
    "start_time": "2022-04-17T21:31:48.050Z"
   },
   {
    "duration": 0,
    "start_time": "2022-04-17T21:31:48.052Z"
   },
   {
    "duration": 0,
    "start_time": "2022-04-17T21:31:48.053Z"
   },
   {
    "duration": 0,
    "start_time": "2022-04-17T21:31:48.055Z"
   },
   {
    "duration": 0,
    "start_time": "2022-04-17T21:31:48.057Z"
   },
   {
    "duration": 0,
    "start_time": "2022-04-17T21:31:48.058Z"
   },
   {
    "duration": 1498,
    "start_time": "2022-04-17T21:33:28.940Z"
   },
   {
    "duration": 33,
    "start_time": "2022-04-17T21:33:30.440Z"
   },
   {
    "duration": 14,
    "start_time": "2022-04-17T21:33:30.475Z"
   },
   {
    "duration": 5,
    "start_time": "2022-04-17T21:33:30.492Z"
   },
   {
    "duration": 23,
    "start_time": "2022-04-17T21:33:30.499Z"
   },
   {
    "duration": 10,
    "start_time": "2022-04-17T21:33:30.525Z"
   },
   {
    "duration": 6,
    "start_time": "2022-04-17T21:33:30.537Z"
   },
   {
    "duration": 15,
    "start_time": "2022-04-17T21:33:30.545Z"
   },
   {
    "duration": 11,
    "start_time": "2022-04-17T21:33:30.562Z"
   },
   {
    "duration": 21,
    "start_time": "2022-04-17T21:33:30.575Z"
   },
   {
    "duration": 27,
    "start_time": "2022-04-17T21:33:30.597Z"
   },
   {
    "duration": 6,
    "start_time": "2022-04-17T21:33:30.626Z"
   },
   {
    "duration": 16,
    "start_time": "2022-04-17T21:33:30.634Z"
   },
   {
    "duration": 19,
    "start_time": "2022-04-17T21:33:30.653Z"
   },
   {
    "duration": 51,
    "start_time": "2022-04-17T21:33:30.674Z"
   },
   {
    "duration": 95,
    "start_time": "2022-04-17T21:33:30.729Z"
   },
   {
    "duration": 5,
    "start_time": "2022-04-17T21:33:30.827Z"
   },
   {
    "duration": 17,
    "start_time": "2022-04-17T21:33:30.834Z"
   },
   {
    "duration": 5,
    "start_time": "2022-04-17T21:33:30.853Z"
   },
   {
    "duration": 97,
    "start_time": "2022-04-17T21:33:30.926Z"
   },
   {
    "duration": 5,
    "start_time": "2022-04-17T21:33:31.026Z"
   },
   {
    "duration": 100,
    "start_time": "2022-04-17T21:33:31.033Z"
   },
   {
    "duration": 1240,
    "start_time": "2022-04-17T21:35:41.558Z"
   },
   {
    "duration": 33,
    "start_time": "2022-04-17T21:35:42.800Z"
   },
   {
    "duration": 12,
    "start_time": "2022-04-17T21:35:42.835Z"
   },
   {
    "duration": 6,
    "start_time": "2022-04-17T21:35:42.849Z"
   },
   {
    "duration": 6,
    "start_time": "2022-04-17T21:35:42.858Z"
   },
   {
    "duration": 10,
    "start_time": "2022-04-17T21:35:42.867Z"
   },
   {
    "duration": 6,
    "start_time": "2022-04-17T21:35:42.879Z"
   },
   {
    "duration": 37,
    "start_time": "2022-04-17T21:35:42.887Z"
   },
   {
    "duration": 7,
    "start_time": "2022-04-17T21:35:42.926Z"
   },
   {
    "duration": 7,
    "start_time": "2022-04-17T21:35:42.935Z"
   },
   {
    "duration": 8,
    "start_time": "2022-04-17T21:35:42.944Z"
   },
   {
    "duration": 10,
    "start_time": "2022-04-17T21:35:42.954Z"
   },
   {
    "duration": 57,
    "start_time": "2022-04-17T21:35:42.966Z"
   },
   {
    "duration": 10,
    "start_time": "2022-04-17T21:35:43.026Z"
   },
   {
    "duration": 93,
    "start_time": "2022-04-17T21:35:43.038Z"
   },
   {
    "duration": 97,
    "start_time": "2022-04-17T21:35:43.133Z"
   },
   {
    "duration": 4,
    "start_time": "2022-04-17T21:35:43.231Z"
   },
   {
    "duration": 87,
    "start_time": "2022-04-17T21:35:43.237Z"
   },
   {
    "duration": 5,
    "start_time": "2022-04-17T21:35:43.326Z"
   },
   {
    "duration": 103,
    "start_time": "2022-04-17T21:35:43.333Z"
   },
   {
    "duration": 85,
    "start_time": "2022-04-17T21:35:43.438Z"
   },
   {
    "duration": 103,
    "start_time": "2022-04-17T21:35:43.526Z"
   },
   {
    "duration": 1210,
    "start_time": "2022-04-17T21:39:26.230Z"
   },
   {
    "duration": 29,
    "start_time": "2022-04-17T21:39:27.442Z"
   },
   {
    "duration": 10,
    "start_time": "2022-04-17T21:39:27.473Z"
   },
   {
    "duration": 4,
    "start_time": "2022-04-17T21:39:27.485Z"
   },
   {
    "duration": 13,
    "start_time": "2022-04-17T21:39:27.491Z"
   },
   {
    "duration": 6,
    "start_time": "2022-04-17T21:39:27.506Z"
   },
   {
    "duration": 9,
    "start_time": "2022-04-17T21:39:27.514Z"
   },
   {
    "duration": 5,
    "start_time": "2022-04-17T21:39:27.524Z"
   },
   {
    "duration": 6,
    "start_time": "2022-04-17T21:39:27.530Z"
   },
   {
    "duration": 9,
    "start_time": "2022-04-17T21:39:27.538Z"
   },
   {
    "duration": 9,
    "start_time": "2022-04-17T21:39:27.548Z"
   },
   {
    "duration": 9,
    "start_time": "2022-04-17T21:39:27.559Z"
   },
   {
    "duration": 17,
    "start_time": "2022-04-17T21:39:27.569Z"
   },
   {
    "duration": 33,
    "start_time": "2022-04-17T21:39:27.589Z"
   },
   {
    "duration": 15,
    "start_time": "2022-04-17T21:39:27.624Z"
   },
   {
    "duration": 87,
    "start_time": "2022-04-17T21:39:27.641Z"
   },
   {
    "duration": 6,
    "start_time": "2022-04-17T21:39:27.730Z"
   },
   {
    "duration": 12,
    "start_time": "2022-04-17T21:39:27.823Z"
   },
   {
    "duration": 86,
    "start_time": "2022-04-17T21:39:27.837Z"
   },
   {
    "duration": 98,
    "start_time": "2022-04-17T21:39:27.926Z"
   },
   {
    "duration": 5,
    "start_time": "2022-04-17T21:39:28.026Z"
   },
   {
    "duration": 14,
    "start_time": "2022-04-17T21:39:28.123Z"
   },
   {
    "duration": 1291,
    "start_time": "2022-04-18T17:18:04.370Z"
   },
   {
    "duration": 27,
    "start_time": "2022-04-18T17:18:05.663Z"
   },
   {
    "duration": 11,
    "start_time": "2022-04-18T17:18:05.692Z"
   },
   {
    "duration": 5,
    "start_time": "2022-04-18T17:18:05.706Z"
   },
   {
    "duration": 10,
    "start_time": "2022-04-18T17:18:05.713Z"
   },
   {
    "duration": 10,
    "start_time": "2022-04-18T17:18:05.725Z"
   },
   {
    "duration": 9,
    "start_time": "2022-04-18T17:18:05.737Z"
   },
   {
    "duration": 14,
    "start_time": "2022-04-18T17:18:05.748Z"
   },
   {
    "duration": 30,
    "start_time": "2022-04-18T17:18:05.764Z"
   },
   {
    "duration": 10,
    "start_time": "2022-04-18T17:18:05.799Z"
   },
   {
    "duration": 8,
    "start_time": "2022-04-18T17:18:05.811Z"
   },
   {
    "duration": 10,
    "start_time": "2022-04-18T17:18:05.821Z"
   },
   {
    "duration": 16,
    "start_time": "2022-04-18T17:18:05.833Z"
   },
   {
    "duration": 14,
    "start_time": "2022-04-18T17:18:05.893Z"
   },
   {
    "duration": 19,
    "start_time": "2022-04-18T17:18:05.909Z"
   },
   {
    "duration": 11,
    "start_time": "2022-04-18T17:18:05.993Z"
   },
   {
    "duration": 96,
    "start_time": "2022-04-18T17:18:06.007Z"
   },
   {
    "duration": 88,
    "start_time": "2022-04-18T17:18:06.105Z"
   },
   {
    "duration": 112,
    "start_time": "2022-04-18T17:18:06.195Z"
   },
   {
    "duration": 15,
    "start_time": "2022-04-18T17:18:06.309Z"
   },
   {
    "duration": 175,
    "start_time": "2022-04-18T17:18:06.326Z"
   },
   {
    "duration": 15,
    "start_time": "2022-04-18T17:18:06.503Z"
   },
   {
    "duration": 4,
    "start_time": "2022-04-18T17:18:06.519Z"
   },
   {
    "duration": 24,
    "start_time": "2022-04-18T17:18:06.525Z"
   },
   {
    "duration": 4,
    "start_time": "2022-04-18T17:18:20.231Z"
   },
   {
    "duration": 9,
    "start_time": "2022-04-18T17:18:22.343Z"
   },
   {
    "duration": 4,
    "start_time": "2022-04-18T17:21:27.556Z"
   },
   {
    "duration": 11,
    "start_time": "2022-04-18T17:21:28.534Z"
   },
   {
    "duration": 10,
    "start_time": "2022-04-18T17:21:31.465Z"
   },
   {
    "duration": 10,
    "start_time": "2022-04-18T17:21:42.406Z"
   },
   {
    "duration": 10,
    "start_time": "2022-04-18T17:22:01.823Z"
   },
   {
    "duration": 16,
    "start_time": "2022-04-18T17:24:06.870Z"
   },
   {
    "duration": 11,
    "start_time": "2022-04-18T17:24:21.827Z"
   },
   {
    "duration": 11,
    "start_time": "2022-04-18T17:25:02.269Z"
   },
   {
    "duration": 1262,
    "start_time": "2022-04-18T17:28:25.281Z"
   },
   {
    "duration": 27,
    "start_time": "2022-04-18T17:28:26.545Z"
   },
   {
    "duration": 12,
    "start_time": "2022-04-18T17:28:26.574Z"
   },
   {
    "duration": 7,
    "start_time": "2022-04-18T17:28:26.593Z"
   },
   {
    "duration": 12,
    "start_time": "2022-04-18T17:28:26.602Z"
   },
   {
    "duration": 16,
    "start_time": "2022-04-18T17:28:26.616Z"
   },
   {
    "duration": 8,
    "start_time": "2022-04-18T17:28:26.634Z"
   },
   {
    "duration": 16,
    "start_time": "2022-04-18T17:28:26.645Z"
   },
   {
    "duration": 29,
    "start_time": "2022-04-18T17:28:26.663Z"
   },
   {
    "duration": 9,
    "start_time": "2022-04-18T17:28:26.696Z"
   },
   {
    "duration": 14,
    "start_time": "2022-04-18T17:28:26.707Z"
   },
   {
    "duration": 16,
    "start_time": "2022-04-18T17:28:26.723Z"
   },
   {
    "duration": 24,
    "start_time": "2022-04-18T17:28:26.741Z"
   },
   {
    "duration": 125,
    "start_time": "2022-04-18T17:28:26.767Z"
   },
   {
    "duration": 13,
    "start_time": "2022-04-18T17:28:26.895Z"
   },
   {
    "duration": 83,
    "start_time": "2022-04-18T17:28:26.910Z"
   },
   {
    "duration": 99,
    "start_time": "2022-04-18T17:28:26.995Z"
   },
   {
    "duration": 95,
    "start_time": "2022-04-18T17:28:27.098Z"
   },
   {
    "duration": 20,
    "start_time": "2022-04-18T17:28:27.195Z"
   },
   {
    "duration": 176,
    "start_time": "2022-04-18T17:28:27.218Z"
   },
   {
    "duration": 10,
    "start_time": "2022-04-18T17:28:27.396Z"
   },
   {
    "duration": 5,
    "start_time": "2022-04-18T17:36:13.916Z"
   },
   {
    "duration": 10,
    "start_time": "2022-04-18T17:36:15.455Z"
   },
   {
    "duration": 4,
    "start_time": "2022-04-18T17:36:20.473Z"
   },
   {
    "duration": 10,
    "start_time": "2022-04-18T17:36:21.356Z"
   },
   {
    "duration": 1258,
    "start_time": "2022-04-18T17:41:23.607Z"
   },
   {
    "duration": 29,
    "start_time": "2022-04-18T17:41:24.867Z"
   },
   {
    "duration": 13,
    "start_time": "2022-04-18T17:41:24.900Z"
   },
   {
    "duration": 4,
    "start_time": "2022-04-18T17:41:24.915Z"
   },
   {
    "duration": 7,
    "start_time": "2022-04-18T17:41:24.921Z"
   },
   {
    "duration": 9,
    "start_time": "2022-04-18T17:41:24.929Z"
   },
   {
    "duration": 5,
    "start_time": "2022-04-18T17:41:24.939Z"
   },
   {
    "duration": 49,
    "start_time": "2022-04-18T17:41:24.945Z"
   },
   {
    "duration": 7,
    "start_time": "2022-04-18T17:41:24.997Z"
   },
   {
    "duration": 8,
    "start_time": "2022-04-18T17:41:25.005Z"
   },
   {
    "duration": 8,
    "start_time": "2022-04-18T17:41:25.014Z"
   },
   {
    "duration": 14,
    "start_time": "2022-04-18T17:41:25.024Z"
   },
   {
    "duration": 55,
    "start_time": "2022-04-18T17:41:25.040Z"
   },
   {
    "duration": 18,
    "start_time": "2022-04-18T17:41:25.097Z"
   },
   {
    "duration": 101,
    "start_time": "2022-04-18T17:41:25.194Z"
   },
   {
    "duration": 5,
    "start_time": "2022-04-18T17:41:25.297Z"
   },
   {
    "duration": 91,
    "start_time": "2022-04-18T17:41:25.304Z"
   },
   {
    "duration": 98,
    "start_time": "2022-04-18T17:41:25.397Z"
   },
   {
    "duration": 12,
    "start_time": "2022-04-18T17:41:25.497Z"
   },
   {
    "duration": 15,
    "start_time": "2022-04-18T17:42:08.599Z"
   },
   {
    "duration": 18,
    "start_time": "2022-04-18T17:42:12.225Z"
   },
   {
    "duration": 70,
    "start_time": "2022-04-18T17:44:00.424Z"
   },
   {
    "duration": 105,
    "start_time": "2022-04-18T17:44:27.189Z"
   },
   {
    "duration": 102,
    "start_time": "2022-04-18T17:45:41.495Z"
   },
   {
    "duration": 86,
    "start_time": "2022-04-18T17:46:12.107Z"
   },
   {
    "duration": 20,
    "start_time": "2022-04-18T17:47:31.193Z"
   },
   {
    "duration": 4,
    "start_time": "2022-04-18T17:47:57.901Z"
   },
   {
    "duration": 21,
    "start_time": "2022-04-18T17:47:58.684Z"
   },
   {
    "duration": 1274,
    "start_time": "2022-04-18T17:48:35.564Z"
   },
   {
    "duration": 27,
    "start_time": "2022-04-18T17:48:36.840Z"
   },
   {
    "duration": 11,
    "start_time": "2022-04-18T17:48:36.869Z"
   },
   {
    "duration": 12,
    "start_time": "2022-04-18T17:48:36.882Z"
   },
   {
    "duration": 5,
    "start_time": "2022-04-18T17:48:36.896Z"
   },
   {
    "duration": 12,
    "start_time": "2022-04-18T17:48:36.903Z"
   },
   {
    "duration": 8,
    "start_time": "2022-04-18T17:48:36.916Z"
   },
   {
    "duration": 8,
    "start_time": "2022-04-18T17:48:36.926Z"
   },
   {
    "duration": 12,
    "start_time": "2022-04-18T17:48:36.935Z"
   },
   {
    "duration": 15,
    "start_time": "2022-04-18T17:48:36.949Z"
   },
   {
    "duration": 30,
    "start_time": "2022-04-18T17:48:36.965Z"
   },
   {
    "duration": 7,
    "start_time": "2022-04-18T17:48:36.997Z"
   },
   {
    "duration": 22,
    "start_time": "2022-04-18T17:48:37.006Z"
   },
   {
    "duration": 163,
    "start_time": "2022-04-18T17:48:37.030Z"
   },
   {
    "duration": 10,
    "start_time": "2022-04-18T17:48:37.195Z"
   },
   {
    "duration": 8,
    "start_time": "2022-04-18T17:48:37.208Z"
   },
   {
    "duration": 79,
    "start_time": "2022-04-18T17:48:37.218Z"
   },
   {
    "duration": 94,
    "start_time": "2022-04-18T17:48:37.299Z"
   },
   {
    "duration": 13,
    "start_time": "2022-04-18T17:48:37.395Z"
   },
   {
    "duration": 15,
    "start_time": "2022-04-18T17:49:54.299Z"
   },
   {
    "duration": 96,
    "start_time": "2022-04-18T17:50:11.298Z"
   },
   {
    "duration": 18,
    "start_time": "2022-04-18T17:50:51.809Z"
   },
   {
    "duration": 15,
    "start_time": "2022-04-18T17:51:19.257Z"
   },
   {
    "duration": 16,
    "start_time": "2022-04-18T17:54:37.457Z"
   },
   {
    "duration": 12,
    "start_time": "2022-04-18T17:56:33.125Z"
   },
   {
    "duration": 18,
    "start_time": "2022-04-18T17:56:39.878Z"
   },
   {
    "duration": 4,
    "start_time": "2022-04-18T17:56:45.439Z"
   },
   {
    "duration": 9,
    "start_time": "2022-04-18T17:56:45.991Z"
   },
   {
    "duration": 5,
    "start_time": "2022-04-18T17:56:47.567Z"
   },
   {
    "duration": 9,
    "start_time": "2022-04-18T17:56:48.254Z"
   },
   {
    "duration": 11,
    "start_time": "2022-04-18T18:01:34.098Z"
   },
   {
    "duration": 10,
    "start_time": "2022-04-18T18:01:36.670Z"
   },
   {
    "duration": 4,
    "start_time": "2022-04-18T18:01:52.952Z"
   },
   {
    "duration": 13,
    "start_time": "2022-04-18T18:01:53.406Z"
   },
   {
    "duration": 3,
    "start_time": "2022-04-18T18:01:54.673Z"
   },
   {
    "duration": 17,
    "start_time": "2022-04-18T18:01:55.463Z"
   },
   {
    "duration": 4,
    "start_time": "2022-04-18T18:02:09.296Z"
   },
   {
    "duration": 12,
    "start_time": "2022-04-18T18:02:09.719Z"
   },
   {
    "duration": 4,
    "start_time": "2022-04-18T18:02:11.186Z"
   },
   {
    "duration": 13,
    "start_time": "2022-04-18T18:02:11.786Z"
   },
   {
    "duration": 14,
    "start_time": "2022-04-18T18:02:24.685Z"
   },
   {
    "duration": 6757,
    "start_time": "2022-04-18T18:43:49.344Z"
   },
   {
    "duration": 105,
    "start_time": "2022-04-18T18:43:56.103Z"
   },
   {
    "duration": 12,
    "start_time": "2022-04-18T18:43:56.211Z"
   },
   {
    "duration": 27,
    "start_time": "2022-04-18T18:43:56.227Z"
   },
   {
    "duration": 54,
    "start_time": "2022-04-18T18:43:56.257Z"
   },
   {
    "duration": 18,
    "start_time": "2022-04-18T18:43:56.313Z"
   },
   {
    "duration": 57,
    "start_time": "2022-04-18T18:43:56.332Z"
   },
   {
    "duration": 13,
    "start_time": "2022-04-18T18:43:56.392Z"
   },
   {
    "duration": 8,
    "start_time": "2022-04-18T18:43:56.408Z"
   },
   {
    "duration": 12,
    "start_time": "2022-04-18T18:43:56.418Z"
   },
   {
    "duration": 67,
    "start_time": "2022-04-18T18:43:56.433Z"
   },
   {
    "duration": 13,
    "start_time": "2022-04-18T18:43:56.502Z"
   },
   {
    "duration": 21,
    "start_time": "2022-04-18T18:43:56.517Z"
   },
   {
    "duration": 128,
    "start_time": "2022-04-18T18:43:56.543Z"
   },
   {
    "duration": 108,
    "start_time": "2022-04-18T18:43:56.675Z"
   },
   {
    "duration": 23,
    "start_time": "2022-04-18T18:43:56.788Z"
   },
   {
    "duration": 130,
    "start_time": "2022-04-18T18:43:56.813Z"
   },
   {
    "duration": 31,
    "start_time": "2022-04-18T18:43:56.959Z"
   },
   {
    "duration": 102,
    "start_time": "2022-04-18T18:43:57.004Z"
   },
   {
    "duration": 37,
    "start_time": "2022-04-18T18:44:16.227Z"
   },
   {
    "duration": 39,
    "start_time": "2022-04-18T18:44:35.046Z"
   },
   {
    "duration": 1233,
    "start_time": "2022-04-19T13:52:50.341Z"
   },
   {
    "duration": 29,
    "start_time": "2022-04-19T13:52:51.576Z"
   },
   {
    "duration": 11,
    "start_time": "2022-04-19T13:52:51.607Z"
   },
   {
    "duration": 5,
    "start_time": "2022-04-19T13:52:51.620Z"
   },
   {
    "duration": 6,
    "start_time": "2022-04-19T13:52:51.626Z"
   },
   {
    "duration": 9,
    "start_time": "2022-04-19T13:52:51.647Z"
   },
   {
    "duration": 4,
    "start_time": "2022-04-19T13:52:51.658Z"
   },
   {
    "duration": 8,
    "start_time": "2022-04-19T13:52:51.664Z"
   },
   {
    "duration": 8,
    "start_time": "2022-04-19T13:52:51.674Z"
   },
   {
    "duration": 5,
    "start_time": "2022-04-19T13:52:51.685Z"
   },
   {
    "duration": 7,
    "start_time": "2022-04-19T13:52:51.692Z"
   },
   {
    "duration": 9,
    "start_time": "2022-04-19T13:52:51.700Z"
   },
   {
    "duration": 46,
    "start_time": "2022-04-19T13:52:51.710Z"
   },
   {
    "duration": 17,
    "start_time": "2022-04-19T13:52:51.757Z"
   },
   {
    "duration": 12,
    "start_time": "2022-04-19T13:52:51.848Z"
   },
   {
    "duration": 5,
    "start_time": "2022-04-19T13:52:51.947Z"
   },
   {
    "duration": 10,
    "start_time": "2022-04-19T13:52:51.954Z"
   },
   {
    "duration": 185,
    "start_time": "2022-04-19T13:52:51.965Z"
   },
   {
    "duration": 11,
    "start_time": "2022-04-19T13:52:52.151Z"
   },
   {
    "duration": 270,
    "start_time": "2022-04-19T13:52:52.164Z"
   },
   {
    "duration": 0,
    "start_time": "2022-04-19T13:52:52.435Z"
   },
   {
    "duration": 0,
    "start_time": "2022-04-19T13:52:52.436Z"
   },
   {
    "duration": 6,
    "start_time": "2022-04-19T13:53:09.644Z"
   },
   {
    "duration": 12,
    "start_time": "2022-04-19T13:53:12.260Z"
   },
   {
    "duration": 8,
    "start_time": "2022-04-19T13:53:34.499Z"
   },
   {
    "duration": 8,
    "start_time": "2022-04-19T13:53:39.733Z"
   },
   {
    "duration": 9,
    "start_time": "2022-04-19T13:55:18.760Z"
   },
   {
    "duration": 9,
    "start_time": "2022-04-19T13:55:20.363Z"
   },
   {
    "duration": 8,
    "start_time": "2022-04-19T13:55:22.284Z"
   },
   {
    "duration": 8,
    "start_time": "2022-04-19T14:00:32.757Z"
   },
   {
    "duration": 10,
    "start_time": "2022-04-19T14:00:34.506Z"
   },
   {
    "duration": 8,
    "start_time": "2022-04-19T14:00:39.582Z"
   },
   {
    "duration": 7,
    "start_time": "2022-04-19T14:00:44.756Z"
   },
   {
    "duration": 41,
    "start_time": "2022-04-20T07:34:40.009Z"
   },
   {
    "duration": 1141,
    "start_time": "2022-04-20T07:34:45.285Z"
   },
   {
    "duration": 29,
    "start_time": "2022-04-20T07:34:46.429Z"
   },
   {
    "duration": 11,
    "start_time": "2022-04-20T07:34:46.459Z"
   },
   {
    "duration": 21,
    "start_time": "2022-04-20T07:34:46.472Z"
   },
   {
    "duration": 4,
    "start_time": "2022-04-20T07:34:46.495Z"
   },
   {
    "duration": 8,
    "start_time": "2022-04-20T07:34:46.500Z"
   },
   {
    "duration": 20,
    "start_time": "2022-04-20T07:34:46.509Z"
   },
   {
    "duration": 4,
    "start_time": "2022-04-20T07:34:46.531Z"
   },
   {
    "duration": 6,
    "start_time": "2022-04-20T07:34:46.537Z"
   },
   {
    "duration": 10,
    "start_time": "2022-04-20T07:34:46.545Z"
   },
   {
    "duration": 11,
    "start_time": "2022-04-20T07:34:46.556Z"
   },
   {
    "duration": 7,
    "start_time": "2022-04-20T07:34:46.568Z"
   },
   {
    "duration": 6,
    "start_time": "2022-04-20T07:34:46.577Z"
   },
   {
    "duration": 45,
    "start_time": "2022-04-20T07:34:46.585Z"
   },
   {
    "duration": 15,
    "start_time": "2022-04-20T07:34:46.631Z"
   },
   {
    "duration": 83,
    "start_time": "2022-04-20T07:34:46.648Z"
   },
   {
    "duration": 91,
    "start_time": "2022-04-20T07:34:46.733Z"
   },
   {
    "duration": 16,
    "start_time": "2022-04-20T07:34:46.826Z"
   },
   {
    "duration": 4,
    "start_time": "2022-04-20T07:34:46.925Z"
   },
   {
    "duration": 103,
    "start_time": "2022-04-20T07:34:46.931Z"
   },
   {
    "duration": 93,
    "start_time": "2022-04-20T07:34:47.036Z"
   },
   {
    "duration": 105,
    "start_time": "2022-04-20T07:34:47.131Z"
   },
   {
    "duration": 8,
    "start_time": "2022-04-20T07:34:47.238Z"
   },
   {
    "duration": 127,
    "start_time": "2022-04-20T07:37:12.667Z"
   },
   {
    "duration": 11,
    "start_time": "2022-04-20T07:44:27.895Z"
   }
  ],
  "kernelspec": {
   "display_name": "Python 3 (ipykernel)",
   "language": "python",
   "name": "python3"
  },
  "language_info": {
   "codemirror_mode": {
    "name": "ipython",
    "version": 3
   },
   "file_extension": ".py",
   "mimetype": "text/x-python",
   "name": "python",
   "nbconvert_exporter": "python",
   "pygments_lexer": "ipython3",
   "version": "3.9.5"
  },
  "toc": {
   "base_numbering": 1,
   "nav_menu": {},
   "number_sections": true,
   "sideBar": true,
   "skip_h1_title": true,
   "title_cell": "Содержание",
   "title_sidebar": "Contents",
   "toc_cell": true,
   "toc_position": {
    "height": "calc(100% - 180px)",
    "left": "10px",
    "top": "150px",
    "width": "318.391px"
   },
   "toc_section_display": true,
   "toc_window_display": true
  }
 },
 "nbformat": 4,
 "nbformat_minor": 2
}
