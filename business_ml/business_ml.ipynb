{
 "cells": [
  {
   "cell_type": "markdown",
   "metadata": {},
   "source": [
    "Привет! меня зовут Люман Аблаев. Сегодня я проверю твой проект.\n",
    "<br> Дальнейшее общение будет происходить на \"ты\" если это не вызывает никаких проблем.\n",
    "<br> Желательно реагировать на каждый мой комментарий ('исправил', 'не понятно как исправить ошибку', ...)\n",
    "<br> Пожалуйста, не удаляй комментарии ревьюера, так как они повышают качество повторного ревью.\n",
    "\n",
    "Комментарии будут в <font color='green'>зеленой</font>, <font color='blue'>синей</font> или <font color='red'>красной</font> рамках:\n",
    "\n",
    "<div class=\"alert alert-block alert-success\">\n",
    "<b>Успех:</b> Если все сделано отлично\n",
    "</div>\n",
    "\n",
    "<div class=\"alert alert-block alert-info\">\n",
    "<b>Совет: </b> Если можно немного улучшить\n",
    "</div>\n",
    "\n",
    "<div class=\"alert alert-block alert-danger\">\n",
    "<b>Ошибка:</b> Если требуются исправления. Работа не может быть принята с красными комментариями.\n",
    "</div>\n",
    "\n",
    "\n",
    "<font color='orange' style='font-size:24px; font-weight:bold'>Общее впечатление</font>\n",
    "* Спасибо за качественную работу, было интересно ее проверять\n",
    "- Можно было бы поработать над оформлением еще немного и избежать дублирования кода\n",
    "- Я оставил некоторые советы надеюсь они будут полезными или интересными.\n",
    "- Техника бутстрап применилась корректно, было проведено тщательное исследование.\n",
    "* Есть небольшие недочеты, но думаю ты быстро и легко это поправишь.\n",
    "- Жду обновленную работу\n"
   ]
  },
  {
   "cell_type": "markdown",
   "metadata": {},
   "source": [
    "<font color='orange' style='font-size:24px; font-weight:bold'>Общее впечатление[2]</font>\n",
    "* Спасибо за оперативность\n",
    "- Приятно видеть фидбек на комментарии.\n",
    "- Недочеты исправлены - работа полностью корректна\n",
    "- Рад был быть полезен. Удачи в дальнейшем обучении!"
   ]
  },
  {
   "cell_type": "markdown",
   "metadata": {},
   "source": [
    "# Выбор локации для скважины"
   ]
  },
  {
   "cell_type": "markdown",
   "metadata": {},
   "source": [
    "Допустим, вы работаете в добывающей компании «ГлавРосГосНефть». Нужно решить, где бурить новую скважину.\n",
    "\n",
    "Вам предоставлены пробы нефти в трёх регионах: в каждом 10 000 месторождений, где измерили качество нефти и объём её запасов. Постройте модель машинного обучения, которая поможет определить регион, где добыча принесёт наибольшую прибыль. Проанализируйте возможную прибыль и риски техникой *Bootstrap.*\n",
    "\n",
    "Шаги для выбора локации:\n",
    "\n",
    "- В избранном регионе ищут месторождения, для каждого определяют значения признаков;\n",
    "- Строят модель и оценивают объём запасов;\n",
    "- Выбирают месторождения с самым высокими оценками значений. Количество месторождений зависит от бюджета компании и стоимости разработки одной скважины;\n",
    "- Прибыль равна суммарной прибыли отобранных месторождений."
   ]
  },
  {
   "cell_type": "markdown",
   "metadata": {},
   "source": [
    "## Загрузка и подготовка данных"
   ]
  },
  {
   "cell_type": "code",
   "execution_count": 1,
   "metadata": {},
   "outputs": [],
   "source": [
    "# импортирование библиотек\n",
    "import pandas as pd\n",
    "import numpy as np\n",
    "from sklearn.model_selection import train_test_split\n",
    "from sklearn.linear_model import LinearRegression\n",
    "from sklearn.metrics import mean_squared_error\n",
    "# инициализация рандомайзера\n",
    "state = np.random.RandomState(12345)"
   ]
  },
  {
   "cell_type": "markdown",
   "metadata": {},
   "source": [
    "<div class=\"alert alert-block alert-success\">\n",
    "<b>Успех:</b> Импорты и описание на месте\n",
    "    \n",
    "  \n",
    "</div>\n"
   ]
  },
  {
   "cell_type": "markdown",
   "metadata": {},
   "source": [
    "### Датасет 0"
   ]
  },
  {
   "cell_type": "code",
   "execution_count": 2,
   "metadata": {},
   "outputs": [
    {
     "data": {
      "text/html": [
       "<div>\n",
       "<style scoped>\n",
       "    .dataframe tbody tr th:only-of-type {\n",
       "        vertical-align: middle;\n",
       "    }\n",
       "\n",
       "    .dataframe tbody tr th {\n",
       "        vertical-align: top;\n",
       "    }\n",
       "\n",
       "    .dataframe thead th {\n",
       "        text-align: right;\n",
       "    }\n",
       "</style>\n",
       "<table border=\"1\" class=\"dataframe\">\n",
       "  <thead>\n",
       "    <tr style=\"text-align: right;\">\n",
       "      <th></th>\n",
       "      <th>id</th>\n",
       "      <th>f0</th>\n",
       "      <th>f1</th>\n",
       "      <th>f2</th>\n",
       "      <th>product</th>\n",
       "    </tr>\n",
       "  </thead>\n",
       "  <tbody>\n",
       "    <tr>\n",
       "      <th>0</th>\n",
       "      <td>txEyH</td>\n",
       "      <td>0.705745</td>\n",
       "      <td>-0.497823</td>\n",
       "      <td>1.221170</td>\n",
       "      <td>105.280062</td>\n",
       "    </tr>\n",
       "    <tr>\n",
       "      <th>1</th>\n",
       "      <td>2acmU</td>\n",
       "      <td>1.334711</td>\n",
       "      <td>-0.340164</td>\n",
       "      <td>4.365080</td>\n",
       "      <td>73.037750</td>\n",
       "    </tr>\n",
       "    <tr>\n",
       "      <th>2</th>\n",
       "      <td>409Wp</td>\n",
       "      <td>1.022732</td>\n",
       "      <td>0.151990</td>\n",
       "      <td>1.419926</td>\n",
       "      <td>85.265647</td>\n",
       "    </tr>\n",
       "    <tr>\n",
       "      <th>3</th>\n",
       "      <td>iJLyR</td>\n",
       "      <td>-0.032172</td>\n",
       "      <td>0.139033</td>\n",
       "      <td>2.978566</td>\n",
       "      <td>168.620776</td>\n",
       "    </tr>\n",
       "    <tr>\n",
       "      <th>4</th>\n",
       "      <td>Xdl7t</td>\n",
       "      <td>1.988431</td>\n",
       "      <td>0.155413</td>\n",
       "      <td>4.751769</td>\n",
       "      <td>154.036647</td>\n",
       "    </tr>\n",
       "  </tbody>\n",
       "</table>\n",
       "</div>"
      ],
      "text/plain": [
       "      id        f0        f1        f2     product\n",
       "0  txEyH  0.705745 -0.497823  1.221170  105.280062\n",
       "1  2acmU  1.334711 -0.340164  4.365080   73.037750\n",
       "2  409Wp  1.022732  0.151990  1.419926   85.265647\n",
       "3  iJLyR -0.032172  0.139033  2.978566  168.620776\n",
       "4  Xdl7t  1.988431  0.155413  4.751769  154.036647"
      ]
     },
     "metadata": {},
     "output_type": "display_data"
    },
    {
     "data": {
      "text/html": [
       "<div>\n",
       "<style scoped>\n",
       "    .dataframe tbody tr th:only-of-type {\n",
       "        vertical-align: middle;\n",
       "    }\n",
       "\n",
       "    .dataframe tbody tr th {\n",
       "        vertical-align: top;\n",
       "    }\n",
       "\n",
       "    .dataframe thead th {\n",
       "        text-align: right;\n",
       "    }\n",
       "</style>\n",
       "<table border=\"1\" class=\"dataframe\">\n",
       "  <thead>\n",
       "    <tr style=\"text-align: right;\">\n",
       "      <th></th>\n",
       "      <th>id</th>\n",
       "      <th>f0</th>\n",
       "      <th>f1</th>\n",
       "      <th>f2</th>\n",
       "      <th>product</th>\n",
       "    </tr>\n",
       "  </thead>\n",
       "  <tbody>\n",
       "    <tr>\n",
       "      <th>99995</th>\n",
       "      <td>DLsed</td>\n",
       "      <td>0.971957</td>\n",
       "      <td>0.370953</td>\n",
       "      <td>6.075346</td>\n",
       "      <td>110.744026</td>\n",
       "    </tr>\n",
       "    <tr>\n",
       "      <th>99996</th>\n",
       "      <td>QKivN</td>\n",
       "      <td>1.392429</td>\n",
       "      <td>-0.382606</td>\n",
       "      <td>1.273912</td>\n",
       "      <td>122.346843</td>\n",
       "    </tr>\n",
       "    <tr>\n",
       "      <th>99997</th>\n",
       "      <td>3rnvd</td>\n",
       "      <td>1.029585</td>\n",
       "      <td>0.018787</td>\n",
       "      <td>-1.348308</td>\n",
       "      <td>64.375443</td>\n",
       "    </tr>\n",
       "    <tr>\n",
       "      <th>99998</th>\n",
       "      <td>7kl59</td>\n",
       "      <td>0.998163</td>\n",
       "      <td>-0.528582</td>\n",
       "      <td>1.583869</td>\n",
       "      <td>74.040764</td>\n",
       "    </tr>\n",
       "    <tr>\n",
       "      <th>99999</th>\n",
       "      <td>1CWhH</td>\n",
       "      <td>1.764754</td>\n",
       "      <td>-0.266417</td>\n",
       "      <td>5.722849</td>\n",
       "      <td>149.633246</td>\n",
       "    </tr>\n",
       "  </tbody>\n",
       "</table>\n",
       "</div>"
      ],
      "text/plain": [
       "          id        f0        f1        f2     product\n",
       "99995  DLsed  0.971957  0.370953  6.075346  110.744026\n",
       "99996  QKivN  1.392429 -0.382606  1.273912  122.346843\n",
       "99997  3rnvd  1.029585  0.018787 -1.348308   64.375443\n",
       "99998  7kl59  0.998163 -0.528582  1.583869   74.040764\n",
       "99999  1CWhH  1.764754 -0.266417  5.722849  149.633246"
      ]
     },
     "metadata": {},
     "output_type": "display_data"
    }
   ],
   "source": [
    "data_0 = pd.read_csv('/datasets/geo_data_0.csv')\n",
    "# просмотр первых и последних десяти строчек в таблице \n",
    "display(data_0.head(5))\n",
    "display(data_0.tail(5))"
   ]
  },
  {
   "cell_type": "code",
   "execution_count": 3,
   "metadata": {
    "scrolled": true
   },
   "outputs": [
    {
     "name": "stdout",
     "output_type": "stream",
     "text": [
      "<class 'pandas.core.frame.DataFrame'>\n",
      "RangeIndex: 100000 entries, 0 to 99999\n",
      "Data columns (total 5 columns):\n",
      " #   Column   Non-Null Count   Dtype  \n",
      "---  ------   --------------   -----  \n",
      " 0   id       100000 non-null  object \n",
      " 1   f0       100000 non-null  float64\n",
      " 2   f1       100000 non-null  float64\n",
      " 3   f2       100000 non-null  float64\n",
      " 4   product  100000 non-null  float64\n",
      "dtypes: float64(4), object(1)\n",
      "memory usage: 3.8+ MB\n"
     ]
    }
   ],
   "source": [
    "# вывод информации о data_0\n",
    "data_0.info()"
   ]
  },
  {
   "cell_type": "markdown",
   "metadata": {},
   "source": [
    "### Датасет 1"
   ]
  },
  {
   "cell_type": "code",
   "execution_count": 4,
   "metadata": {},
   "outputs": [
    {
     "data": {
      "text/html": [
       "<div>\n",
       "<style scoped>\n",
       "    .dataframe tbody tr th:only-of-type {\n",
       "        vertical-align: middle;\n",
       "    }\n",
       "\n",
       "    .dataframe tbody tr th {\n",
       "        vertical-align: top;\n",
       "    }\n",
       "\n",
       "    .dataframe thead th {\n",
       "        text-align: right;\n",
       "    }\n",
       "</style>\n",
       "<table border=\"1\" class=\"dataframe\">\n",
       "  <thead>\n",
       "    <tr style=\"text-align: right;\">\n",
       "      <th></th>\n",
       "      <th>id</th>\n",
       "      <th>f0</th>\n",
       "      <th>f1</th>\n",
       "      <th>f2</th>\n",
       "      <th>product</th>\n",
       "    </tr>\n",
       "  </thead>\n",
       "  <tbody>\n",
       "    <tr>\n",
       "      <th>0</th>\n",
       "      <td>kBEdx</td>\n",
       "      <td>-15.001348</td>\n",
       "      <td>-8.276000</td>\n",
       "      <td>-0.005876</td>\n",
       "      <td>3.179103</td>\n",
       "    </tr>\n",
       "    <tr>\n",
       "      <th>1</th>\n",
       "      <td>62mP7</td>\n",
       "      <td>14.272088</td>\n",
       "      <td>-3.475083</td>\n",
       "      <td>0.999183</td>\n",
       "      <td>26.953261</td>\n",
       "    </tr>\n",
       "    <tr>\n",
       "      <th>2</th>\n",
       "      <td>vyE1P</td>\n",
       "      <td>6.263187</td>\n",
       "      <td>-5.948386</td>\n",
       "      <td>5.001160</td>\n",
       "      <td>134.766305</td>\n",
       "    </tr>\n",
       "    <tr>\n",
       "      <th>3</th>\n",
       "      <td>KcrkZ</td>\n",
       "      <td>-13.081196</td>\n",
       "      <td>-11.506057</td>\n",
       "      <td>4.999415</td>\n",
       "      <td>137.945408</td>\n",
       "    </tr>\n",
       "    <tr>\n",
       "      <th>4</th>\n",
       "      <td>AHL4O</td>\n",
       "      <td>12.702195</td>\n",
       "      <td>-8.147433</td>\n",
       "      <td>5.004363</td>\n",
       "      <td>134.766305</td>\n",
       "    </tr>\n",
       "  </tbody>\n",
       "</table>\n",
       "</div>"
      ],
      "text/plain": [
       "      id         f0         f1        f2     product\n",
       "0  kBEdx -15.001348  -8.276000 -0.005876    3.179103\n",
       "1  62mP7  14.272088  -3.475083  0.999183   26.953261\n",
       "2  vyE1P   6.263187  -5.948386  5.001160  134.766305\n",
       "3  KcrkZ -13.081196 -11.506057  4.999415  137.945408\n",
       "4  AHL4O  12.702195  -8.147433  5.004363  134.766305"
      ]
     },
     "metadata": {},
     "output_type": "display_data"
    },
    {
     "data": {
      "text/html": [
       "<div>\n",
       "<style scoped>\n",
       "    .dataframe tbody tr th:only-of-type {\n",
       "        vertical-align: middle;\n",
       "    }\n",
       "\n",
       "    .dataframe tbody tr th {\n",
       "        vertical-align: top;\n",
       "    }\n",
       "\n",
       "    .dataframe thead th {\n",
       "        text-align: right;\n",
       "    }\n",
       "</style>\n",
       "<table border=\"1\" class=\"dataframe\">\n",
       "  <thead>\n",
       "    <tr style=\"text-align: right;\">\n",
       "      <th></th>\n",
       "      <th>id</th>\n",
       "      <th>f0</th>\n",
       "      <th>f1</th>\n",
       "      <th>f2</th>\n",
       "      <th>product</th>\n",
       "    </tr>\n",
       "  </thead>\n",
       "  <tbody>\n",
       "    <tr>\n",
       "      <th>99995</th>\n",
       "      <td>QywKC</td>\n",
       "      <td>9.535637</td>\n",
       "      <td>-6.878139</td>\n",
       "      <td>1.998296</td>\n",
       "      <td>53.906522</td>\n",
       "    </tr>\n",
       "    <tr>\n",
       "      <th>99996</th>\n",
       "      <td>ptvty</td>\n",
       "      <td>-10.160631</td>\n",
       "      <td>-12.558096</td>\n",
       "      <td>5.005581</td>\n",
       "      <td>137.945408</td>\n",
       "    </tr>\n",
       "    <tr>\n",
       "      <th>99997</th>\n",
       "      <td>09gWa</td>\n",
       "      <td>-7.378891</td>\n",
       "      <td>-3.084104</td>\n",
       "      <td>4.998651</td>\n",
       "      <td>137.945408</td>\n",
       "    </tr>\n",
       "    <tr>\n",
       "      <th>99998</th>\n",
       "      <td>rqwUm</td>\n",
       "      <td>0.665714</td>\n",
       "      <td>-6.152593</td>\n",
       "      <td>1.000146</td>\n",
       "      <td>30.132364</td>\n",
       "    </tr>\n",
       "    <tr>\n",
       "      <th>99999</th>\n",
       "      <td>relB0</td>\n",
       "      <td>-3.426139</td>\n",
       "      <td>-7.794274</td>\n",
       "      <td>-0.003299</td>\n",
       "      <td>3.179103</td>\n",
       "    </tr>\n",
       "  </tbody>\n",
       "</table>\n",
       "</div>"
      ],
      "text/plain": [
       "          id         f0         f1        f2     product\n",
       "99995  QywKC   9.535637  -6.878139  1.998296   53.906522\n",
       "99996  ptvty -10.160631 -12.558096  5.005581  137.945408\n",
       "99997  09gWa  -7.378891  -3.084104  4.998651  137.945408\n",
       "99998  rqwUm   0.665714  -6.152593  1.000146   30.132364\n",
       "99999  relB0  -3.426139  -7.794274 -0.003299    3.179103"
      ]
     },
     "metadata": {},
     "output_type": "display_data"
    }
   ],
   "source": [
    "data_1 = pd.read_csv('/datasets/geo_data_1.csv')\n",
    "# просмотр первых и последних десяти строчек в таблице \n",
    "display(data_1.head(5))\n",
    "display(data_1.tail(5))"
   ]
  },
  {
   "cell_type": "code",
   "execution_count": 5,
   "metadata": {
    "scrolled": true
   },
   "outputs": [
    {
     "name": "stdout",
     "output_type": "stream",
     "text": [
      "<class 'pandas.core.frame.DataFrame'>\n",
      "RangeIndex: 100000 entries, 0 to 99999\n",
      "Data columns (total 5 columns):\n",
      " #   Column   Non-Null Count   Dtype  \n",
      "---  ------   --------------   -----  \n",
      " 0   id       100000 non-null  object \n",
      " 1   f0       100000 non-null  float64\n",
      " 2   f1       100000 non-null  float64\n",
      " 3   f2       100000 non-null  float64\n",
      " 4   product  100000 non-null  float64\n",
      "dtypes: float64(4), object(1)\n",
      "memory usage: 3.8+ MB\n"
     ]
    }
   ],
   "source": [
    "# вывод информации о data_1\n",
    "data_1.info()"
   ]
  },
  {
   "cell_type": "markdown",
   "metadata": {},
   "source": [
    "### Датасет 2"
   ]
  },
  {
   "cell_type": "code",
   "execution_count": 6,
   "metadata": {},
   "outputs": [
    {
     "data": {
      "text/html": [
       "<div>\n",
       "<style scoped>\n",
       "    .dataframe tbody tr th:only-of-type {\n",
       "        vertical-align: middle;\n",
       "    }\n",
       "\n",
       "    .dataframe tbody tr th {\n",
       "        vertical-align: top;\n",
       "    }\n",
       "\n",
       "    .dataframe thead th {\n",
       "        text-align: right;\n",
       "    }\n",
       "</style>\n",
       "<table border=\"1\" class=\"dataframe\">\n",
       "  <thead>\n",
       "    <tr style=\"text-align: right;\">\n",
       "      <th></th>\n",
       "      <th>id</th>\n",
       "      <th>f0</th>\n",
       "      <th>f1</th>\n",
       "      <th>f2</th>\n",
       "      <th>product</th>\n",
       "    </tr>\n",
       "  </thead>\n",
       "  <tbody>\n",
       "    <tr>\n",
       "      <th>0</th>\n",
       "      <td>fwXo0</td>\n",
       "      <td>-1.146987</td>\n",
       "      <td>0.963328</td>\n",
       "      <td>-0.828965</td>\n",
       "      <td>27.758673</td>\n",
       "    </tr>\n",
       "    <tr>\n",
       "      <th>1</th>\n",
       "      <td>WJtFt</td>\n",
       "      <td>0.262778</td>\n",
       "      <td>0.269839</td>\n",
       "      <td>-2.530187</td>\n",
       "      <td>56.069697</td>\n",
       "    </tr>\n",
       "    <tr>\n",
       "      <th>2</th>\n",
       "      <td>ovLUW</td>\n",
       "      <td>0.194587</td>\n",
       "      <td>0.289035</td>\n",
       "      <td>-5.586433</td>\n",
       "      <td>62.871910</td>\n",
       "    </tr>\n",
       "    <tr>\n",
       "      <th>3</th>\n",
       "      <td>q6cA6</td>\n",
       "      <td>2.236060</td>\n",
       "      <td>-0.553760</td>\n",
       "      <td>0.930038</td>\n",
       "      <td>114.572842</td>\n",
       "    </tr>\n",
       "    <tr>\n",
       "      <th>4</th>\n",
       "      <td>WPMUX</td>\n",
       "      <td>-0.515993</td>\n",
       "      <td>1.716266</td>\n",
       "      <td>5.899011</td>\n",
       "      <td>149.600746</td>\n",
       "    </tr>\n",
       "  </tbody>\n",
       "</table>\n",
       "</div>"
      ],
      "text/plain": [
       "      id        f0        f1        f2     product\n",
       "0  fwXo0 -1.146987  0.963328 -0.828965   27.758673\n",
       "1  WJtFt  0.262778  0.269839 -2.530187   56.069697\n",
       "2  ovLUW  0.194587  0.289035 -5.586433   62.871910\n",
       "3  q6cA6  2.236060 -0.553760  0.930038  114.572842\n",
       "4  WPMUX -0.515993  1.716266  5.899011  149.600746"
      ]
     },
     "metadata": {},
     "output_type": "display_data"
    },
    {
     "data": {
      "text/html": [
       "<div>\n",
       "<style scoped>\n",
       "    .dataframe tbody tr th:only-of-type {\n",
       "        vertical-align: middle;\n",
       "    }\n",
       "\n",
       "    .dataframe tbody tr th {\n",
       "        vertical-align: top;\n",
       "    }\n",
       "\n",
       "    .dataframe thead th {\n",
       "        text-align: right;\n",
       "    }\n",
       "</style>\n",
       "<table border=\"1\" class=\"dataframe\">\n",
       "  <thead>\n",
       "    <tr style=\"text-align: right;\">\n",
       "      <th></th>\n",
       "      <th>id</th>\n",
       "      <th>f0</th>\n",
       "      <th>f1</th>\n",
       "      <th>f2</th>\n",
       "      <th>product</th>\n",
       "    </tr>\n",
       "  </thead>\n",
       "  <tbody>\n",
       "    <tr>\n",
       "      <th>99995</th>\n",
       "      <td>4GxBu</td>\n",
       "      <td>-1.777037</td>\n",
       "      <td>1.125220</td>\n",
       "      <td>6.263374</td>\n",
       "      <td>172.327046</td>\n",
       "    </tr>\n",
       "    <tr>\n",
       "      <th>99996</th>\n",
       "      <td>YKFjq</td>\n",
       "      <td>-1.261523</td>\n",
       "      <td>-0.894828</td>\n",
       "      <td>2.524545</td>\n",
       "      <td>138.748846</td>\n",
       "    </tr>\n",
       "    <tr>\n",
       "      <th>99997</th>\n",
       "      <td>tKPY3</td>\n",
       "      <td>-1.199934</td>\n",
       "      <td>-2.957637</td>\n",
       "      <td>5.219411</td>\n",
       "      <td>157.080080</td>\n",
       "    </tr>\n",
       "    <tr>\n",
       "      <th>99998</th>\n",
       "      <td>nmxp2</td>\n",
       "      <td>-2.419896</td>\n",
       "      <td>2.417221</td>\n",
       "      <td>-5.548444</td>\n",
       "      <td>51.795253</td>\n",
       "    </tr>\n",
       "    <tr>\n",
       "      <th>99999</th>\n",
       "      <td>V9kWn</td>\n",
       "      <td>-2.551421</td>\n",
       "      <td>-2.025625</td>\n",
       "      <td>6.090891</td>\n",
       "      <td>102.775767</td>\n",
       "    </tr>\n",
       "  </tbody>\n",
       "</table>\n",
       "</div>"
      ],
      "text/plain": [
       "          id        f0        f1        f2     product\n",
       "99995  4GxBu -1.777037  1.125220  6.263374  172.327046\n",
       "99996  YKFjq -1.261523 -0.894828  2.524545  138.748846\n",
       "99997  tKPY3 -1.199934 -2.957637  5.219411  157.080080\n",
       "99998  nmxp2 -2.419896  2.417221 -5.548444   51.795253\n",
       "99999  V9kWn -2.551421 -2.025625  6.090891  102.775767"
      ]
     },
     "metadata": {},
     "output_type": "display_data"
    }
   ],
   "source": [
    "data_2 = pd.read_csv('/datasets/geo_data_2.csv')\n",
    "# просмотр первых и последних десяти строчек в таблице \n",
    "display(data_2.head(5))\n",
    "display(data_2.tail(5))"
   ]
  },
  {
   "cell_type": "code",
   "execution_count": 7,
   "metadata": {},
   "outputs": [
    {
     "name": "stdout",
     "output_type": "stream",
     "text": [
      "<class 'pandas.core.frame.DataFrame'>\n",
      "RangeIndex: 100000 entries, 0 to 99999\n",
      "Data columns (total 5 columns):\n",
      " #   Column   Non-Null Count   Dtype  \n",
      "---  ------   --------------   -----  \n",
      " 0   id       100000 non-null  object \n",
      " 1   f0       100000 non-null  float64\n",
      " 2   f1       100000 non-null  float64\n",
      " 3   f2       100000 non-null  float64\n",
      " 4   product  100000 non-null  float64\n",
      "dtypes: float64(4), object(1)\n",
      "memory usage: 3.8+ MB\n"
     ]
    }
   ],
   "source": [
    "# вывод информации о data_2\n",
    "data_2.info()"
   ]
  },
  {
   "cell_type": "markdown",
   "metadata": {},
   "source": [
    "Названия столбцов даны корректно. Пропусков в данных нет. Типы данных приведены верно. "
   ]
  },
  {
   "cell_type": "markdown",
   "metadata": {},
   "source": [
    "<div class=\"alert alert-block alert-success\">\n",
    "<b>Успех:</b> Данные осмотрены корректно\n",
    "    \n",
    "  \n",
    "</div>\n",
    "<div class=\"alert alert-block alert-info\">\n",
    "<b>Совет </b>  Советую обратить внимание на библиотеки sweetviz и pandas_profiling помогут в проведении более тщательного EDA анализа. Исследовательский анализ можно делать и с помощью ручного вызова функций дефолтных библиотек. Данные библиотеки хороши для максимизации комфорта презентации результатов анализа бизнес-пользователям. \n",
    "    \n",
    "Очень просты в использоовании, на вход кладется датафрейм: pandas_profiling.ProfileReport(df) <br> P.S. Советую пробовал окально, на платформе будут проблемы\n",
    "    \n",
    "</div>"
   ]
  },
  {
   "cell_type": "markdown",
   "metadata": {},
   "source": [
    "<div class=\"alert alert-warning\">\n",
    "<b>Комментарий студентки:</b>\n",
    "    Посмотрю, спасибо !"
   ]
  },
  {
   "cell_type": "markdown",
   "metadata": {},
   "source": [
    "## Обучение и проверка модели"
   ]
  },
  {
   "cell_type": "markdown",
   "metadata": {},
   "source": [
    "### Модель для датасета 0"
   ]
  },
  {
   "cell_type": "code",
   "execution_count": 8,
   "metadata": {},
   "outputs": [],
   "source": [
    "# создание выборок\n",
    "features = data_0.drop(['product', 'id'], axis=1)\n",
    "target = data_0['product']\n",
    "\n",
    "features_train_0, features_valid_0, target_train_0, target_valid_0 = train_test_split(\n",
    "    features, target, test_size=0.25, random_state=12345\n",
    ")"
   ]
  },
  {
   "cell_type": "code",
   "execution_count": 9,
   "metadata": {},
   "outputs": [],
   "source": [
    "# создание и обучение модели для нулевого региона\n",
    "model_0 = LinearRegression()\n",
    "model_0.fit(features_train_0, target_train_0)\n",
    "\n",
    "predictions_0 = model_0.predict(features_valid_0)"
   ]
  },
  {
   "cell_type": "code",
   "execution_count": 10,
   "metadata": {},
   "outputs": [
    {
     "name": "stdout",
     "output_type": "stream",
     "text": [
      "Средний запас предсказанного сырья: 92.59256778438035\n",
      "RMSE: 37.5794217150813\n"
     ]
    }
   ],
   "source": [
    "print('Средний запас предсказанного сырья:', predictions_0.mean())\n",
    "\n",
    "mse_0 = mean_squared_error(target_valid_0, predictions_0)\n",
    "print('RMSE:', mse_0**0.5)"
   ]
  },
  {
   "cell_type": "markdown",
   "metadata": {},
   "source": [
    "### Модель для датасета 1"
   ]
  },
  {
   "cell_type": "code",
   "execution_count": 11,
   "metadata": {},
   "outputs": [],
   "source": [
    "# создание выборок\n",
    "features = data_1.drop(['product', 'id'], axis=1)\n",
    "target = data_1['product']\n",
    "\n",
    "features_train_1, features_valid_1, target_train_1, target_valid_1 = train_test_split(\n",
    "    features, target, test_size=0.25, random_state=12345\n",
    ")"
   ]
  },
  {
   "cell_type": "code",
   "execution_count": 12,
   "metadata": {},
   "outputs": [],
   "source": [
    "# создание и обучение модели для первого региона\n",
    "model_1 = LinearRegression()\n",
    "model_1.fit(features_train_1, target_train_1)\n",
    "\n",
    "predictions_1 = model_1.predict(features_valid_1)"
   ]
  },
  {
   "cell_type": "code",
   "execution_count": 13,
   "metadata": {},
   "outputs": [
    {
     "name": "stdout",
     "output_type": "stream",
     "text": [
      "Средний запас предсказанного сырья: 68.728546895446\n",
      "RMSE: 0.893099286775617\n"
     ]
    }
   ],
   "source": [
    "print('Средний запас предсказанного сырья:', predictions_1.mean())\n",
    "\n",
    "mse_1 = mean_squared_error(target_valid_1, predictions_1)\n",
    "print('RMSE:', mse_1**0.5)"
   ]
  },
  {
   "cell_type": "markdown",
   "metadata": {},
   "source": [
    "### Модель для датасета 2"
   ]
  },
  {
   "cell_type": "code",
   "execution_count": 14,
   "metadata": {},
   "outputs": [],
   "source": [
    "# создание выборок\n",
    "features = data_2.drop(['product', 'id'], axis=1)\n",
    "target = data_2['product']\n",
    "\n",
    "features_train_2, features_valid_2, target_train_2, target_valid_2 = train_test_split(\n",
    "    features, target, test_size=0.25, random_state=12345\n",
    ")"
   ]
  },
  {
   "cell_type": "code",
   "execution_count": 15,
   "metadata": {},
   "outputs": [],
   "source": [
    "# создание и обучение модели для второго региона\n",
    "model_2 = LinearRegression()\n",
    "model_2.fit(features_train_2, target_train_2)\n",
    "\n",
    "predictions_2 = model_2.predict(features_valid_2)"
   ]
  },
  {
   "cell_type": "code",
   "execution_count": 16,
   "metadata": {},
   "outputs": [
    {
     "name": "stdout",
     "output_type": "stream",
     "text": [
      "Средний запас предсказанного сырья: 94.96504596800489\n",
      "RMSE: 40.02970873393434\n"
     ]
    }
   ],
   "source": [
    "print('Средний запас предсказанного сырья:', predictions_2.mean())\n",
    "\n",
    "mse_2 = mean_squared_error(target_valid_2, predictions_2)\n",
    "print('RMSE:', mse_2**0.5)"
   ]
  },
  {
   "cell_type": "markdown",
   "metadata": {},
   "source": [
    "Лучше всего обучилась модель для региона 1. Самые высокие средние запасы продукта в регионе 2."
   ]
  },
  {
   "cell_type": "markdown",
   "metadata": {},
   "source": [
    "<div class=\"alert alert-block alert-success\">\n",
    "<b>Успех:</b> Шаг проделан хорошо, все нужные метрики посчитаны корректно. \n",
    "</div>\n",
    "<div class=\"alert alert-block alert-info\">\n",
    "    \n",
    "<b>совет:</b> Здесь можно было бы использовать циклы/фуннкции и избежать дублирования кода\n",
    "  \n",
    "</div>"
   ]
  },
  {
   "cell_type": "markdown",
   "metadata": {},
   "source": [
    "## Подготовка к расчёту прибыли"
   ]
  },
  {
   "cell_type": "code",
   "execution_count": 17,
   "metadata": {},
   "outputs": [],
   "source": [
    "# создание датафреймов с предсказанным и реальным объемом по трем регионам\n",
    "barrels_0 = pd.DataFrame(data=predictions_0, columns=['predicted_amount_barrels'])\n",
    "barrels_0['real_amount_barrels'] = target_valid_0.reset_index(drop=True)\n",
    "\n",
    "barrels_1 = pd.DataFrame(data=predictions_1, columns=['predicted_amount_barrels'])\n",
    "barrels_1['real_amount_barrels'] = target_valid_1.reset_index(drop=True)\n",
    "\n",
    "barrels_2 = pd.DataFrame(data=predictions_2, columns=['predicted_amount_barrels'])\n",
    "barrels_2['real_amount_barrels'] = target_valid_2.reset_index(drop=True)"
   ]
  },
  {
   "cell_type": "code",
   "execution_count": 18,
   "metadata": {},
   "outputs": [
    {
     "name": "stdout",
     "output_type": "stream",
     "text": [
      "Достаточный объём сырья для безубыточной разработки новой скважины: 22222.222222222223\n",
      "\n",
      "Средний предсказанный запас в регионе 0: 18518.51355687607\n",
      "Средний предсказанный запас в регионе 1: 13745.7093790892\n",
      "Средний предсказанный запас в регионе 2: 18993.009193600978\n",
      "\n",
      "Средний запас в регионе 0: 18415.719348165854\n",
      "Средний запас в регионе 1: 13744.627204871995\n",
      "Средний запас в регионе 2: 18976.846561770875\n"
     ]
    }
   ],
   "source": [
    "# бюджет на разработку скважин в регионе\n",
    "budget = 10**10\n",
    "# доход с каждой единицы продукта\n",
    "income_per_unit = 450000\n",
    "\n",
    "min_amount_barrel = budget/income_per_unit\n",
    "\n",
    "amount_of_barrels_0 = predictions_0.mean() * 200\n",
    "amount_of_barrels_1 = predictions_1.mean() * 200\n",
    "amount_of_barrels_2 = predictions_2.mean() * 200\n",
    "\n",
    "print('Достаточный объём сырья для безубыточной разработки новой скважины:', min_amount_barrel)\n",
    "print()\n",
    "print('Средний предсказанный запас в регионе 0:', amount_of_barrels_0)\n",
    "print('Средний предсказанный запас в регионе 1:', amount_of_barrels_1)\n",
    "print('Средний предсказанный запас в регионе 2:', amount_of_barrels_2)\n",
    "print()\n",
    "print('Средний запас в регионе 0:', target_valid_0.mean() * 200)\n",
    "print('Средний запас в регионе 1:', target_valid_1.mean() * 200)\n",
    "print('Средний запас в регионе 2:', target_valid_2.mean() * 200)"
   ]
  },
  {
   "cell_type": "markdown",
   "metadata": {},
   "source": [
    "Модель очень точно предсказала объемы продукта. Самые большие средние запасы продукта находятся в регионе 2. Однако средние запасы во всех трех регионах ниже, чем достаточный объем для безубыточный разработки скважен, следовательно, однозначно есть риск убыли. "
   ]
  },
  {
   "cell_type": "markdown",
   "metadata": {},
   "source": [
    "<div class=\"alert alert-block alert-info\">\n",
    "    \n",
    "<b>Совет:</b> Чтобы посчитать значение для безубыточной разработки новой скважины, еще нужно разделить на кол-во скважин (200). Но так как ты потом корректно сравниваешь это со средним запасом, то это синий комментарий\n",
    "  \n",
    "</div>"
   ]
  },
  {
   "cell_type": "markdown",
   "metadata": {},
   "source": [
    "## Расчёт прибыли и рисков "
   ]
  },
  {
   "cell_type": "code",
   "execution_count": 19,
   "metadata": {},
   "outputs": [],
   "source": [
    "# функция подсчета прибыли\n",
    "def count_income(target, predictions):\n",
    "    # отбор двухста лучших точек\n",
    "    best_barrels = predictions.sort_values(ascending=False).head(200)\n",
    "    # сумма их целевого признака\n",
    "    amount = target[best_barrels.index].sum()\n",
    "    # чистый доход\n",
    "    income = income_per_unit * amount - budget\n",
    "    return income"
   ]
  },
  {
   "cell_type": "markdown",
   "metadata": {},
   "source": [
    "<div class=\"alert alert-block alert-success\">\n",
    "<b>Успех:</b> Ф-ция прибыли определена верно\n",
    "    \n",
    "  \n",
    "</div>\n"
   ]
  },
  {
   "cell_type": "code",
   "execution_count": 20,
   "metadata": {},
   "outputs": [],
   "source": [
    "# функция бутстрапа\n",
    "def bootstrap(data): \n",
    "    values = []\n",
    "    for i in range(1000):\n",
    "        subsample_target = data['real_amount_barrels'].sample(n=500, replace=True, random_state=state)\n",
    "        subsample_predictions = data['predicted_amount_barrels'][subsample_target.index]\n",
    "        value = count_income(subsample_target, subsample_predictions)\n",
    "        values.append(value)\n",
    "    values = pd.Series(values)\n",
    "    return values"
   ]
  },
  {
   "cell_type": "markdown",
   "metadata": {},
   "source": [
    "<div class=\"alert alert-block alert-success\">\n",
    "<b>Успех:</b> С бутстрапом тоже все в порядке\n",
    "    \n",
    "  \n",
    "</div>\n"
   ]
  },
  {
   "cell_type": "code",
   "execution_count": 21,
   "metadata": {},
   "outputs": [],
   "source": [
    "# функция вычисления риска убыли\n",
    "# def count_risk(values):\n",
    "    # count = 0 \n",
    "    # for i in values:\n",
    "        # if i < 0:\n",
    "            # count+=1\n",
    "    # return count/(len(values))"
   ]
  },
  {
   "cell_type": "markdown",
   "metadata": {},
   "source": [
    "<div class=\"alert alert-block alert-info\">\n",
    "    \n",
    "<b>Совет:</b> Риски также можно считать лаконично в 1 строку : `(values < 0).mean()`\n",
    "    \n",
    "  \n",
    "</div>"
   ]
  },
  {
   "cell_type": "markdown",
   "metadata": {},
   "source": [
    "<div class=\"alert alert-warning\">\n",
    "<b>Комментарий студентки:</b>\n",
    "    Исправила"
   ]
  },
  {
   "cell_type": "code",
   "execution_count": 22,
   "metadata": {},
   "outputs": [],
   "source": [
    "def calculations(values):\n",
    "    print('Средняя прибыль:', values.mean())\n",
    "    print('95%-й доверительный интервал:', 'от', format(values.quantile(.025), '.3f'), 'до',\n",
    "      format(values.quantile(.975), '.3f'))\n",
    "    print('Риск убытков:', (values < 0).mean() * 100, '%')\n",
    "    print()\n",
    "    print('Распределение прибыли:')\n",
    "    values.hist()"
   ]
  },
  {
   "cell_type": "markdown",
   "metadata": {},
   "source": [
    "### Вычисления для датасета 0"
   ]
  },
  {
   "cell_type": "code",
   "execution_count": 23,
   "metadata": {},
   "outputs": [],
   "source": [
    "values_0 = bootstrap(barrels_0)"
   ]
  },
  {
   "cell_type": "code",
   "execution_count": 24,
   "metadata": {},
   "outputs": [
    {
     "name": "stdout",
     "output_type": "stream",
     "text": [
      "Средняя прибыль: 600735244.2611653\n",
      "95%-й доверительный интервал: от 12948331.135 до 1231163605.791\n",
      "Риск убытков: 2.0 %\n",
      "\n",
      "Распределение прибыли:\n"
     ]
    },
    {
     "data": {
      "image/png": "[encoded data removed]",
      "text/plain": [
       "<Figure size 432x288 with 1 Axes>"
      ]
     },
     "metadata": {
      "needs_background": "light"
     },
     "output_type": "display_data"
    }
   ],
   "source": [
    "calculations(values_0)"
   ]
  },
  {
   "cell_type": "markdown",
   "metadata": {},
   "source": [
    "Средняя прибыль составляет примерно 600 миллионов. 95%-й доверительный интервал от 1 миллиона 290 тысяч до 1 миллиарда 230 миллионов.  Риск убытков невелик - 2%. "
   ]
  },
  {
   "cell_type": "markdown",
   "metadata": {},
   "source": [
    "### Вычисления для датасета 1"
   ]
  },
  {
   "cell_type": "code",
   "execution_count": 25,
   "metadata": {},
   "outputs": [],
   "source": [
    "values_1 = bootstrap(barrels_1)"
   ]
  },
  {
   "cell_type": "code",
   "execution_count": 26,
   "metadata": {},
   "outputs": [
    {
     "name": "stdout",
     "output_type": "stream",
     "text": [
      "Средняя прибыль: 663958995.2601906\n",
      "95%-й доверительный интервал: от 206476361.252 до 1191197684.749\n",
      "Риск убытков: 0.1 %\n",
      "\n",
      "Распределение прибыли:\n"
     ]
    },
    {
     "data": {
      "image/png": "[encoded data removed]",
      "text/plain": [
       "<Figure size 432x288 with 1 Axes>"
      ]
     },
     "metadata": {
      "needs_background": "light"
     },
     "output_type": "display_data"
    }
   ],
   "source": [
    "calculations(values_1)"
   ]
  },
  {
   "cell_type": "markdown",
   "metadata": {},
   "source": [
    "Средняя прибыль составляет примерно 660 миллионов. 95%-й доверительный интервал от 206 миллионов до 1 миллиарда 120 миллионов. Риск убытков мал - 0.1%. "
   ]
  },
  {
   "cell_type": "markdown",
   "metadata": {},
   "source": [
    "### Вычисления для датасета 2"
   ]
  },
  {
   "cell_type": "code",
   "execution_count": 27,
   "metadata": {},
   "outputs": [],
   "source": [
    "values_2 = bootstrap(barrels_2)"
   ]
  },
  {
   "cell_type": "code",
   "execution_count": 28,
   "metadata": {},
   "outputs": [
    {
     "name": "stdout",
     "output_type": "stream",
     "text": [
      "Средняя прибыль: 597381047.9005232\n",
      "95%-й доверительный интервал: от 1734929.531 до 1246217960.165\n",
      "Риск убытков: 2.5 %\n",
      "\n",
      "Распределение прибыли:\n"
     ]
    },
    {
     "data": {
      "image/png": "[encoded data removed]",
      "text/plain": [
       "<Figure size 432x288 with 1 Axes>"
      ]
     },
     "metadata": {
      "needs_background": "light"
     },
     "output_type": "display_data"
    }
   ],
   "source": [
    "calculations(values_2)"
   ]
  },
  {
   "cell_type": "markdown",
   "metadata": {},
   "source": [
    "Средняя прибыль составляет примерно 597 миллионов. 95%-й доверительный интервал от 1 миллиона 734 тысяч 1 миллиард 245 миллионов. Риск убытков большой - 2.5%."
   ]
  },
  {
   "cell_type": "markdown",
   "metadata": {},
   "source": [
    "<div class=\"alert alert-block alert-danger\">\n",
    "    \n",
    "<b>Ошибка:</b> 95% дов интервал, это 0.025 и. 0.975 квантили\n",
    "    \n",
    "  \n",
    "</div>"
   ]
  },
  {
   "cell_type": "markdown",
   "metadata": {},
   "source": [
    "<div class=\"alert alert-block alert-info\">\n",
    "    \n",
    "<b>совет:</b> Здесь бы тоже не помешали функции/циклы для лаконичности\n",
    "    \n",
    "  \n",
    "</div>"
   ]
  },
  {
   "cell_type": "markdown",
   "metadata": {},
   "source": [
    "<div class=\"alert alert-warning\">\n",
    "<b>Комментарий студентки:</b>\n",
    "    Исправила"
   ]
  },
  {
   "cell_type": "markdown",
   "metadata": {},
   "source": [
    "## Вывод"
   ]
  },
  {
   "cell_type": "markdown",
   "metadata": {},
   "source": [
    "Мною было создано три модели, предсказывающие объем в каждом отдельном регионе. Согласно предсказаниям самые большие объемы продукта находятся в регионе 2, что и подтверждается исходными данными. Сравнивая средние запасы по региону с достаточным объемом продукта для безубытосной разработки, мы видим, что средние запасы ниже, следовательно, риск убыли будет всегда. \n",
    "\n",
    "Самый маленький риск убытков в регионе 1: 0.1%. Самая большая средняя прибыль тоже в регионе 1: 660 миллионов. Но доверительный интервал больше у региона 0: 1 миллиард 135 миллионов. Тем не менее лучший вариант для разработки - это регион 1."
   ]
  },
  {
   "cell_type": "markdown",
   "metadata": {},
   "source": [
    "<div class=\"alert alert-block alert-success\">\n",
    "<b>Успех:</b> Отлично! Проведено детальное исследование и тобою был выбран правильный регион, поздравляю! Не забудь обновить его, если потребуется\n",
    "     \n",
    "  \n",
    "</div>"
   ]
  },
  {
   "cell_type": "markdown",
   "metadata": {},
   "source": [
    "## Чек-лист готовности проекта"
   ]
  },
  {
   "cell_type": "markdown",
   "metadata": {},
   "source": [
    "Поставьте 'x' в выполненных пунктах. Далее нажмите Shift+Enter."
   ]
  },
  {
   "cell_type": "markdown",
   "metadata": {},
   "source": [
    "- [x]  Jupyter Notebook открыт\n",
    "- [x]  Весь код выполняется без ошибок\n",
    "- [x]  Ячейки с кодом расположены в порядке исполнения\n",
    "- [x]  Выполнен шаг 1: данные подготовлены\n",
    "- [x]  Выполнен шаг 2: модели обучены и проверены\n",
    "    - [x]  Данные корректно разбиты на обучающую и валидационную выборки\n",
    "    - [x]  Модели обучены, предсказания сделаны\n",
    "    - [x]  Предсказания и правильные ответы на валидационной выборке сохранены\n",
    "    - [x]  На экране напечатаны результаты\n",
    "    - [x]  Сделаны выводы\n",
    "- [x]  Выполнен шаг 3: проведена подготовка к расчёту прибыли\n",
    "    - [x]  Для всех ключевых значений созданы константы Python\n",
    "    - [x]  Посчитано минимальное среднее количество продукта в месторождениях региона, достаточное для разработки\n",
    "    - [x]  По предыдущему пункту сделаны выводы\n",
    "    - [x]  Написана функция расчёта прибыли\n",
    "- [ ]  Выполнен шаг 4: посчитаны риски и прибыль\n",
    "    - [x]  Проведена процедура *Bootstrap*\n",
    "    - [x]  Все параметры бутстрепа соответствуют условию\n",
    "    - [x]  Найдены все нужные величины\n",
    "    - [x]  Предложен регион для разработки месторождения\n",
    "    - [x]  Выбор региона обоснован"
   ]
  },
  {
   "cell_type": "code",
   "execution_count": null,
   "metadata": {},
   "outputs": [],
   "source": []
  }
 ],
 "metadata": {
  "ExecuteTimeLog": [
   {
    "duration": 436,
    "start_time": "2022-03-17T10:34:15.941Z"
   },
   {
    "duration": 549,
    "start_time": "2022-03-17T10:34:17.310Z"
   },
   {
    "duration": 155,
    "start_time": "2022-03-17T10:34:36.043Z"
   },
   {
    "duration": 172,
    "start_time": "2022-03-17T10:34:42.328Z"
   },
   {
    "duration": 164,
    "start_time": "2022-03-17T10:34:45.207Z"
   },
   {
    "duration": 16,
    "start_time": "2022-03-17T10:35:28.156Z"
   },
   {
    "duration": 22,
    "start_time": "2022-03-17T10:35:37.177Z"
   },
   {
    "duration": 18,
    "start_time": "2022-03-17T10:35:45.744Z"
   },
   {
    "duration": 12,
    "start_time": "2022-03-17T10:39:55.244Z"
   },
   {
    "duration": 950,
    "start_time": "2022-03-17T10:40:13.576Z"
   },
   {
    "duration": 30,
    "start_time": "2022-03-17T10:40:18.321Z"
   },
   {
    "duration": 23,
    "start_time": "2022-03-17T10:40:59.644Z"
   },
   {
    "duration": 78,
    "start_time": "2022-03-17T10:44:03.445Z"
   },
   {
    "duration": 19,
    "start_time": "2022-03-17T10:44:21.799Z"
   },
   {
    "duration": 20,
    "start_time": "2022-03-17T10:44:23.987Z"
   },
   {
    "duration": 27,
    "start_time": "2022-03-17T10:45:16.263Z"
   },
   {
    "duration": 13,
    "start_time": "2022-03-17T10:45:34.484Z"
   },
   {
    "duration": 18,
    "start_time": "2022-03-17T10:45:46.972Z"
   },
   {
    "duration": 1351,
    "start_time": "2022-03-17T10:45:59.225Z"
   },
   {
    "duration": 192,
    "start_time": "2022-03-17T10:46:00.578Z"
   },
   {
    "duration": 18,
    "start_time": "2022-03-17T10:46:00.772Z"
   },
   {
    "duration": 176,
    "start_time": "2022-03-17T10:46:00.792Z"
   },
   {
    "duration": 17,
    "start_time": "2022-03-17T10:46:00.970Z"
   },
   {
    "duration": 183,
    "start_time": "2022-03-17T10:46:00.989Z"
   },
   {
    "duration": 17,
    "start_time": "2022-03-17T10:46:01.174Z"
   },
   {
    "duration": 47,
    "start_time": "2022-03-17T10:46:01.193Z"
   },
   {
    "duration": 153,
    "start_time": "2022-03-17T10:46:01.242Z"
   },
   {
    "duration": 1307,
    "start_time": "2022-03-17T10:47:40.515Z"
   },
   {
    "duration": 174,
    "start_time": "2022-03-17T10:47:41.824Z"
   },
   {
    "duration": 31,
    "start_time": "2022-03-17T10:47:42.002Z"
   },
   {
    "duration": 151,
    "start_time": "2022-03-17T10:47:42.036Z"
   },
   {
    "duration": 17,
    "start_time": "2022-03-17T10:47:42.189Z"
   },
   {
    "duration": 192,
    "start_time": "2022-03-17T10:47:42.208Z"
   },
   {
    "duration": 30,
    "start_time": "2022-03-17T10:47:42.402Z"
   },
   {
    "duration": 25,
    "start_time": "2022-03-17T10:47:42.436Z"
   },
   {
    "duration": 131,
    "start_time": "2022-03-17T10:47:42.463Z"
   },
   {
    "duration": 25,
    "start_time": "2022-03-17T10:47:52.447Z"
   },
   {
    "duration": 3,
    "start_time": "2022-03-17T10:50:00.166Z"
   },
   {
    "duration": 12,
    "start_time": "2022-03-17T10:51:10.869Z"
   },
   {
    "duration": 5,
    "start_time": "2022-03-17T10:51:17.713Z"
   },
   {
    "duration": 22,
    "start_time": "2022-03-17T10:53:22.958Z"
   },
   {
    "duration": 22,
    "start_time": "2022-03-17T10:53:24.097Z"
   },
   {
    "duration": 7,
    "start_time": "2022-03-17T10:53:24.834Z"
   },
   {
    "duration": 20,
    "start_time": "2022-03-17T10:53:25.975Z"
   },
   {
    "duration": 79,
    "start_time": "2022-03-17T10:53:26.959Z"
   },
   {
    "duration": 6,
    "start_time": "2022-03-17T10:53:27.829Z"
   },
   {
    "duration": 6,
    "start_time": "2022-03-17T11:06:47.357Z"
   },
   {
    "duration": 7,
    "start_time": "2022-03-17T11:08:14.011Z"
   },
   {
    "duration": 3,
    "start_time": "2022-03-17T11:11:15.573Z"
   },
   {
    "duration": 7,
    "start_time": "2022-03-17T11:11:16.544Z"
   },
   {
    "duration": 6,
    "start_time": "2022-03-17T11:12:21.292Z"
   },
   {
    "duration": 6,
    "start_time": "2022-03-17T11:12:31.867Z"
   },
   {
    "duration": 46,
    "start_time": "2022-03-18T18:55:38.312Z"
   },
   {
    "duration": 1109,
    "start_time": "2022-03-18T18:55:47.315Z"
   },
   {
    "duration": 208,
    "start_time": "2022-03-18T18:55:48.426Z"
   },
   {
    "duration": 16,
    "start_time": "2022-03-18T18:55:48.636Z"
   },
   {
    "duration": 171,
    "start_time": "2022-03-18T18:55:48.654Z"
   },
   {
    "duration": 19,
    "start_time": "2022-03-18T18:55:48.833Z"
   },
   {
    "duration": 190,
    "start_time": "2022-03-18T18:55:48.853Z"
   },
   {
    "duration": 21,
    "start_time": "2022-03-18T18:55:49.045Z"
   },
   {
    "duration": 21,
    "start_time": "2022-03-18T18:55:49.068Z"
   },
   {
    "duration": 49,
    "start_time": "2022-03-18T18:55:49.090Z"
   },
   {
    "duration": 92,
    "start_time": "2022-03-18T18:55:49.142Z"
   },
   {
    "duration": 19,
    "start_time": "2022-03-18T18:55:49.236Z"
   },
   {
    "duration": 79,
    "start_time": "2022-03-18T18:55:49.257Z"
   },
   {
    "duration": 94,
    "start_time": "2022-03-18T18:55:49.339Z"
   },
   {
    "duration": 31,
    "start_time": "2022-03-18T18:55:49.437Z"
   },
   {
    "duration": 69,
    "start_time": "2022-03-18T18:55:49.470Z"
   },
   {
    "duration": 93,
    "start_time": "2022-03-18T18:55:49.541Z"
   },
   {
    "duration": 5,
    "start_time": "2022-03-18T18:55:49.636Z"
   },
   {
    "duration": 10,
    "start_time": "2022-03-18T18:55:49.642Z"
   },
   {
    "duration": 143,
    "start_time": "2022-03-18T18:55:49.654Z"
   },
   {
    "duration": 0,
    "start_time": "2022-03-18T18:55:49.799Z"
   },
   {
    "duration": 10,
    "start_time": "2022-03-18T18:56:14.118Z"
   },
   {
    "duration": 4,
    "start_time": "2022-03-18T18:56:40.767Z"
   },
   {
    "duration": 6,
    "start_time": "2022-03-18T18:56:45.272Z"
   },
   {
    "duration": 10,
    "start_time": "2022-03-18T18:57:18.663Z"
   },
   {
    "duration": 8,
    "start_time": "2022-03-18T18:57:31.956Z"
   },
   {
    "duration": 8,
    "start_time": "2022-03-18T18:57:37.244Z"
   },
   {
    "duration": 6,
    "start_time": "2022-03-18T18:57:48.738Z"
   },
   {
    "duration": 12,
    "start_time": "2022-03-18T18:58:14.004Z"
   },
   {
    "duration": 3,
    "start_time": "2022-03-18T18:58:23.647Z"
   },
   {
    "duration": 5,
    "start_time": "2022-03-18T18:58:25.456Z"
   },
   {
    "duration": 11,
    "start_time": "2022-03-18T18:58:27.057Z"
   },
   {
    "duration": 31,
    "start_time": "2022-03-18T19:01:20.816Z"
   },
   {
    "duration": 107,
    "start_time": "2022-03-18T19:01:40.427Z"
   },
   {
    "duration": 94,
    "start_time": "2022-03-18T19:03:52.061Z"
   },
   {
    "duration": 30,
    "start_time": "2022-03-18T19:04:07.931Z"
   },
   {
    "duration": 49,
    "start_time": "2022-03-18T19:05:13.785Z"
   },
   {
    "duration": 105,
    "start_time": "2022-03-18T19:05:26.230Z"
   },
   {
    "duration": 24,
    "start_time": "2022-03-18T19:05:35.557Z"
   },
   {
    "duration": 47,
    "start_time": "2022-03-18T19:06:25.565Z"
   },
   {
    "duration": 1167,
    "start_time": "2022-03-18T19:06:32.047Z"
   },
   {
    "duration": 241,
    "start_time": "2022-03-18T19:06:33.216Z"
   },
   {
    "duration": 14,
    "start_time": "2022-03-18T19:06:33.459Z"
   },
   {
    "duration": 131,
    "start_time": "2022-03-18T19:06:33.475Z"
   },
   {
    "duration": 29,
    "start_time": "2022-03-18T19:06:33.608Z"
   },
   {
    "duration": 154,
    "start_time": "2022-03-18T19:06:33.639Z"
   },
   {
    "duration": 14,
    "start_time": "2022-03-18T19:06:33.794Z"
   },
   {
    "duration": 15,
    "start_time": "2022-03-18T19:06:33.809Z"
   },
   {
    "duration": 271,
    "start_time": "2022-03-18T19:06:33.842Z"
   },
   {
    "duration": 0,
    "start_time": "2022-03-18T19:06:34.115Z"
   },
   {
    "duration": 0,
    "start_time": "2022-03-18T19:06:34.116Z"
   },
   {
    "duration": 0,
    "start_time": "2022-03-18T19:06:34.118Z"
   },
   {
    "duration": 0,
    "start_time": "2022-03-18T19:06:34.118Z"
   },
   {
    "duration": 0,
    "start_time": "2022-03-18T19:06:34.138Z"
   },
   {
    "duration": 0,
    "start_time": "2022-03-18T19:06:34.140Z"
   },
   {
    "duration": 0,
    "start_time": "2022-03-18T19:06:34.142Z"
   },
   {
    "duration": 0,
    "start_time": "2022-03-18T19:06:34.143Z"
   },
   {
    "duration": 0,
    "start_time": "2022-03-18T19:06:34.144Z"
   },
   {
    "duration": 0,
    "start_time": "2022-03-18T19:06:34.146Z"
   },
   {
    "duration": 0,
    "start_time": "2022-03-18T19:06:34.147Z"
   },
   {
    "duration": 151,
    "start_time": "2022-03-18T19:07:18.983Z"
   },
   {
    "duration": 23,
    "start_time": "2022-03-18T19:07:59.106Z"
   },
   {
    "duration": 8,
    "start_time": "2022-03-18T19:12:13.388Z"
   },
   {
    "duration": 1305,
    "start_time": "2022-03-18T19:12:32.987Z"
   },
   {
    "duration": 144,
    "start_time": "2022-03-18T19:12:34.295Z"
   },
   {
    "duration": 13,
    "start_time": "2022-03-18T19:12:34.441Z"
   },
   {
    "duration": 134,
    "start_time": "2022-03-18T19:12:34.457Z"
   },
   {
    "duration": 19,
    "start_time": "2022-03-18T19:12:34.593Z"
   },
   {
    "duration": 145,
    "start_time": "2022-03-18T19:12:34.614Z"
   },
   {
    "duration": 13,
    "start_time": "2022-03-18T19:12:34.761Z"
   },
   {
    "duration": 14,
    "start_time": "2022-03-18T19:12:34.775Z"
   },
   {
    "duration": 50,
    "start_time": "2022-03-18T19:12:34.791Z"
   },
   {
    "duration": 92,
    "start_time": "2022-03-18T19:12:34.843Z"
   },
   {
    "duration": 19,
    "start_time": "2022-03-18T19:12:34.936Z"
   },
   {
    "duration": 176,
    "start_time": "2022-03-18T19:12:34.957Z"
   },
   {
    "duration": 5,
    "start_time": "2022-03-18T19:12:35.134Z"
   },
   {
    "duration": 27,
    "start_time": "2022-03-18T19:12:35.140Z"
   },
   {
    "duration": 66,
    "start_time": "2022-03-18T19:12:35.168Z"
   },
   {
    "duration": 6,
    "start_time": "2022-03-18T19:12:35.238Z"
   },
   {
    "duration": 145,
    "start_time": "2022-03-18T19:12:35.333Z"
   },
   {
    "duration": 0,
    "start_time": "2022-03-18T19:12:35.534Z"
   },
   {
    "duration": 0,
    "start_time": "2022-03-18T19:12:35.535Z"
   },
   {
    "duration": 0,
    "start_time": "2022-03-18T19:12:35.537Z"
   },
   {
    "duration": 13,
    "start_time": "2022-03-18T19:13:11.122Z"
   },
   {
    "duration": 12,
    "start_time": "2022-03-18T19:13:19.164Z"
   },
   {
    "duration": 10,
    "start_time": "2022-03-18T19:13:31.041Z"
   },
   {
    "duration": 13,
    "start_time": "2022-03-18T19:13:37.480Z"
   },
   {
    "duration": 10,
    "start_time": "2022-03-18T19:15:51.706Z"
   },
   {
    "duration": 7,
    "start_time": "2022-03-18T19:16:25.524Z"
   },
   {
    "duration": 11,
    "start_time": "2022-03-18T19:16:55.464Z"
   },
   {
    "duration": 11,
    "start_time": "2022-03-18T19:17:04.987Z"
   },
   {
    "duration": 5,
    "start_time": "2022-03-18T19:17:05.620Z"
   },
   {
    "duration": 9,
    "start_time": "2022-03-18T19:17:11.526Z"
   },
   {
    "duration": 13,
    "start_time": "2022-03-18T19:17:53.118Z"
   },
   {
    "duration": 11,
    "start_time": "2022-03-18T19:18:17.224Z"
   },
   {
    "duration": 4,
    "start_time": "2022-03-18T19:18:18.033Z"
   },
   {
    "duration": 10,
    "start_time": "2022-03-18T19:18:19.757Z"
   },
   {
    "duration": 14,
    "start_time": "2022-03-18T19:18:27.050Z"
   },
   {
    "duration": 4,
    "start_time": "2022-03-18T19:31:07.414Z"
   },
   {
    "duration": 3,
    "start_time": "2022-03-18T19:32:00.777Z"
   },
   {
    "duration": 7,
    "start_time": "2022-03-18T19:32:01.635Z"
   },
   {
    "duration": 2,
    "start_time": "2022-03-18T19:32:40.161Z"
   },
   {
    "duration": 7,
    "start_time": "2022-03-18T19:32:41.022Z"
   },
   {
    "duration": 3,
    "start_time": "2022-03-18T19:32:54.669Z"
   },
   {
    "duration": 9,
    "start_time": "2022-03-18T19:32:55.208Z"
   },
   {
    "duration": 3,
    "start_time": "2022-03-18T19:33:23.318Z"
   },
   {
    "duration": 6,
    "start_time": "2022-03-18T19:33:41.698Z"
   },
   {
    "duration": 3,
    "start_time": "2022-03-18T19:33:48.788Z"
   },
   {
    "duration": 7,
    "start_time": "2022-03-18T19:33:49.735Z"
   },
   {
    "duration": 13,
    "start_time": "2022-03-18T19:34:58.719Z"
   },
   {
    "duration": 50,
    "start_time": "2022-03-21T19:24:31.602Z"
   },
   {
    "duration": 1457,
    "start_time": "2022-03-21T19:24:37.497Z"
   },
   {
    "duration": 618,
    "start_time": "2022-03-21T19:24:38.957Z"
   },
   {
    "duration": 67,
    "start_time": "2022-03-21T19:24:39.577Z"
   },
   {
    "duration": 236,
    "start_time": "2022-03-21T19:24:39.646Z"
   },
   {
    "duration": 15,
    "start_time": "2022-03-21T19:24:39.884Z"
   },
   {
    "duration": 303,
    "start_time": "2022-03-21T19:24:39.901Z"
   },
   {
    "duration": 45,
    "start_time": "2022-03-21T19:24:40.211Z"
   },
   {
    "duration": 22,
    "start_time": "2022-03-21T19:24:40.258Z"
   },
   {
    "duration": 55,
    "start_time": "2022-03-21T19:24:40.282Z"
   },
   {
    "duration": 98,
    "start_time": "2022-03-21T19:24:40.340Z"
   },
   {
    "duration": 34,
    "start_time": "2022-03-21T19:24:40.439Z"
   },
   {
    "duration": 158,
    "start_time": "2022-03-21T19:24:40.475Z"
   },
   {
    "duration": 6,
    "start_time": "2022-03-21T19:24:40.635Z"
   },
   {
    "duration": 27,
    "start_time": "2022-03-21T19:24:40.645Z"
   },
   {
    "duration": 31,
    "start_time": "2022-03-21T19:24:40.734Z"
   },
   {
    "duration": 72,
    "start_time": "2022-03-21T19:24:40.768Z"
   },
   {
    "duration": 103,
    "start_time": "2022-03-21T19:24:40.844Z"
   },
   {
    "duration": 8,
    "start_time": "2022-03-21T19:24:40.950Z"
   },
   {
    "duration": 30,
    "start_time": "2022-03-21T19:24:40.959Z"
   },
   {
    "duration": 4,
    "start_time": "2022-03-21T19:24:40.992Z"
   },
   {
    "duration": 35,
    "start_time": "2022-03-21T19:24:40.998Z"
   },
   {
    "duration": 3,
    "start_time": "2022-03-21T19:27:50.465Z"
   },
   {
    "duration": 13,
    "start_time": "2022-03-21T19:27:51.189Z"
   },
   {
    "duration": 4,
    "start_time": "2022-03-21T19:34:04.110Z"
   },
   {
    "duration": 89,
    "start_time": "2022-03-21T20:20:05.338Z"
   },
   {
    "duration": 3,
    "start_time": "2022-03-21T20:20:09.952Z"
   },
   {
    "duration": 4,
    "start_time": "2022-03-21T20:20:10.528Z"
   },
   {
    "duration": 19892,
    "start_time": "2022-03-21T20:20:11.131Z"
   },
   {
    "duration": 6284,
    "start_time": "2022-03-21T20:23:37.576Z"
   },
   {
    "duration": 58837,
    "start_time": "2022-03-21T20:24:29.641Z"
   },
   {
    "duration": 9147,
    "start_time": "2022-03-21T20:30:08.331Z"
   },
   {
    "duration": 2334,
    "start_time": "2022-03-21T20:33:06.992Z"
   },
   {
    "duration": 18,
    "start_time": "2022-03-21T20:33:41.491Z"
   },
   {
    "duration": 15,
    "start_time": "2022-03-21T20:35:45.034Z"
   },
   {
    "duration": 14,
    "start_time": "2022-03-21T20:36:51.976Z"
   },
   {
    "duration": 12,
    "start_time": "2022-03-21T20:37:03.841Z"
   },
   {
    "duration": 12,
    "start_time": "2022-03-21T20:37:20.033Z"
   },
   {
    "duration": 21,
    "start_time": "2022-03-21T20:37:58.960Z"
   },
   {
    "duration": 18,
    "start_time": "2022-03-21T20:38:55.357Z"
   },
   {
    "duration": 8,
    "start_time": "2022-03-21T20:39:21.904Z"
   },
   {
    "duration": 5,
    "start_time": "2022-03-21T20:39:24.815Z"
   },
   {
    "duration": 3,
    "start_time": "2022-03-21T20:39:26.813Z"
   },
   {
    "duration": 4,
    "start_time": "2022-03-21T20:39:27.545Z"
   },
   {
    "duration": 6885,
    "start_time": "2022-03-21T20:39:28.464Z"
   },
   {
    "duration": 4,
    "start_time": "2022-03-21T20:45:59.367Z"
   },
   {
    "duration": 4461,
    "start_time": "2022-03-21T20:46:03.508Z"
   },
   {
    "duration": 7,
    "start_time": "2022-03-21T20:46:20.981Z"
   },
   {
    "duration": 4538,
    "start_time": "2022-03-21T20:46:21.625Z"
   },
   {
    "duration": 3,
    "start_time": "2022-03-21T20:47:53.912Z"
   },
   {
    "duration": 4,
    "start_time": "2022-03-21T20:52:45.935Z"
   },
   {
    "duration": 4391,
    "start_time": "2022-03-21T20:52:48.602Z"
   },
   {
    "duration": 3,
    "start_time": "2022-03-21T20:53:43.136Z"
   },
   {
    "duration": 5,
    "start_time": "2022-03-21T20:53:43.638Z"
   },
   {
    "duration": 5586,
    "start_time": "2022-03-21T20:53:44.267Z"
   },
   {
    "duration": 6,
    "start_time": "2022-03-21T20:54:03.522Z"
   },
   {
    "duration": 5879,
    "start_time": "2022-03-21T20:54:04.078Z"
   },
   {
    "duration": 3,
    "start_time": "2022-03-21T20:54:41.914Z"
   },
   {
    "duration": 4,
    "start_time": "2022-03-21T20:54:43.047Z"
   },
   {
    "duration": 4069,
    "start_time": "2022-03-21T20:54:43.451Z"
   },
   {
    "duration": 132,
    "start_time": "2022-03-21T21:15:32.918Z"
   },
   {
    "duration": 4249,
    "start_time": "2022-03-21T21:15:43.526Z"
   },
   {
    "duration": 4213,
    "start_time": "2022-03-21T21:16:07.273Z"
   },
   {
    "duration": 4173,
    "start_time": "2022-03-21T21:16:11.488Z"
   },
   {
    "duration": 139,
    "start_time": "2022-03-21T21:17:19.885Z"
   },
   {
    "duration": 117,
    "start_time": "2022-03-21T21:17:36.355Z"
   },
   {
    "duration": 122,
    "start_time": "2022-03-21T21:18:15.751Z"
   },
   {
    "duration": 126,
    "start_time": "2022-03-21T21:18:44.974Z"
   },
   {
    "duration": 122,
    "start_time": "2022-03-21T21:19:42.799Z"
   },
   {
    "duration": 128,
    "start_time": "2022-03-21T21:20:00.437Z"
   },
   {
    "duration": 120,
    "start_time": "2022-03-21T21:23:21.970Z"
   },
   {
    "duration": 153,
    "start_time": "2022-03-21T21:26:51.458Z"
   },
   {
    "duration": 12,
    "start_time": "2022-03-21T21:29:52.093Z"
   },
   {
    "duration": 3,
    "start_time": "2022-03-21T21:29:54.018Z"
   },
   {
    "duration": 117,
    "start_time": "2022-03-21T21:29:54.474Z"
   },
   {
    "duration": 1146,
    "start_time": "2022-03-21T21:30:29.457Z"
   },
   {
    "duration": 150,
    "start_time": "2022-03-21T21:30:30.605Z"
   },
   {
    "duration": 14,
    "start_time": "2022-03-21T21:30:30.757Z"
   },
   {
    "duration": 137,
    "start_time": "2022-03-21T21:30:30.773Z"
   },
   {
    "duration": 27,
    "start_time": "2022-03-21T21:30:30.911Z"
   },
   {
    "duration": 138,
    "start_time": "2022-03-21T21:30:30.939Z"
   },
   {
    "duration": 14,
    "start_time": "2022-03-21T21:30:31.079Z"
   },
   {
    "duration": 17,
    "start_time": "2022-03-21T21:30:31.094Z"
   },
   {
    "duration": 119,
    "start_time": "2022-03-21T21:30:31.113Z"
   },
   {
    "duration": 100,
    "start_time": "2022-03-21T21:30:31.237Z"
   },
   {
    "duration": 26,
    "start_time": "2022-03-21T21:30:31.339Z"
   },
   {
    "duration": 21,
    "start_time": "2022-03-21T21:30:31.367Z"
   },
   {
    "duration": 149,
    "start_time": "2022-03-21T21:30:31.391Z"
   },
   {
    "duration": 21,
    "start_time": "2022-03-21T21:30:31.542Z"
   },
   {
    "duration": 13,
    "start_time": "2022-03-21T21:30:31.565Z"
   },
   {
    "duration": 55,
    "start_time": "2022-03-21T21:30:31.580Z"
   },
   {
    "duration": 100,
    "start_time": "2022-03-21T21:30:31.637Z"
   },
   {
    "duration": 7,
    "start_time": "2022-03-21T21:30:31.739Z"
   },
   {
    "duration": 9,
    "start_time": "2022-03-21T21:30:31.747Z"
   },
   {
    "duration": 8,
    "start_time": "2022-03-21T21:30:31.757Z"
   },
   {
    "duration": 4885,
    "start_time": "2022-03-21T21:30:31.767Z"
   },
   {
    "duration": 3,
    "start_time": "2022-03-21T21:30:36.654Z"
   },
   {
    "duration": 402,
    "start_time": "2022-03-21T21:30:36.659Z"
   },
   {
    "duration": 4121,
    "start_time": "2022-03-21T21:30:37.063Z"
   },
   {
    "duration": 4067,
    "start_time": "2022-03-21T21:30:41.186Z"
   },
   {
    "duration": 129,
    "start_time": "2022-03-21T21:31:07.308Z"
   },
   {
    "duration": 124,
    "start_time": "2022-03-21T21:31:21.644Z"
   },
   {
    "duration": 110,
    "start_time": "2022-03-21T21:31:43.624Z"
   },
   {
    "duration": 111,
    "start_time": "2022-03-21T21:32:09.404Z"
   },
   {
    "duration": 3,
    "start_time": "2022-03-21T21:34:58.526Z"
   },
   {
    "duration": 209,
    "start_time": "2022-03-21T21:34:59.163Z"
   },
   {
    "duration": 5,
    "start_time": "2022-03-21T22:01:26.715Z"
   },
   {
    "duration": 1108,
    "start_time": "2022-03-21T22:01:44.689Z"
   },
   {
    "duration": 134,
    "start_time": "2022-03-21T22:01:45.800Z"
   },
   {
    "duration": 15,
    "start_time": "2022-03-21T22:01:45.937Z"
   },
   {
    "duration": 147,
    "start_time": "2022-03-21T22:01:45.954Z"
   },
   {
    "duration": 30,
    "start_time": "2022-03-21T22:01:46.103Z"
   },
   {
    "duration": 136,
    "start_time": "2022-03-21T22:01:46.134Z"
   },
   {
    "duration": 13,
    "start_time": "2022-03-21T22:01:46.272Z"
   },
   {
    "duration": 16,
    "start_time": "2022-03-21T22:01:46.286Z"
   },
   {
    "duration": 43,
    "start_time": "2022-03-21T22:01:46.303Z"
   },
   {
    "duration": 89,
    "start_time": "2022-03-21T22:01:46.348Z"
   },
   {
    "duration": 109,
    "start_time": "2022-03-21T22:01:46.439Z"
   },
   {
    "duration": 13,
    "start_time": "2022-03-21T22:01:46.550Z"
   },
   {
    "duration": 7,
    "start_time": "2022-03-21T22:01:46.632Z"
   },
   {
    "duration": 111,
    "start_time": "2022-03-21T22:01:46.641Z"
   },
   {
    "duration": 13,
    "start_time": "2022-03-21T22:01:46.754Z"
   },
   {
    "duration": 6,
    "start_time": "2022-03-21T22:01:46.833Z"
   },
   {
    "duration": 99,
    "start_time": "2022-03-21T22:01:46.842Z"
   },
   {
    "duration": 5,
    "start_time": "2022-03-21T22:01:46.943Z"
   },
   {
    "duration": 4,
    "start_time": "2022-03-21T22:01:46.949Z"
   },
   {
    "duration": 8,
    "start_time": "2022-03-21T22:01:46.955Z"
   },
   {
    "duration": 4696,
    "start_time": "2022-03-21T22:01:46.965Z"
   },
   {
    "duration": 4,
    "start_time": "2022-03-21T22:01:51.662Z"
   },
   {
    "duration": 397,
    "start_time": "2022-03-21T22:01:51.668Z"
   },
   {
    "duration": 3963,
    "start_time": "2022-03-21T22:01:52.067Z"
   },
   {
    "duration": 114,
    "start_time": "2022-03-21T22:01:56.033Z"
   },
   {
    "duration": 4002,
    "start_time": "2022-03-21T22:01:56.148Z"
   },
   {
    "duration": 135,
    "start_time": "2022-03-21T22:02:00.151Z"
   },
   {
    "duration": 49,
    "start_time": "2022-03-22T09:00:09.989Z"
   },
   {
    "duration": 1126,
    "start_time": "2022-03-22T09:00:15.029Z"
   },
   {
    "duration": 286,
    "start_time": "2022-03-22T09:00:16.157Z"
   },
   {
    "duration": 68,
    "start_time": "2022-03-22T09:00:16.444Z"
   },
   {
    "duration": 231,
    "start_time": "2022-03-22T09:00:16.514Z"
   },
   {
    "duration": 67,
    "start_time": "2022-03-22T09:00:16.747Z"
   },
   {
    "duration": 237,
    "start_time": "2022-03-22T09:00:16.815Z"
   },
   {
    "duration": 63,
    "start_time": "2022-03-22T09:00:17.054Z"
   },
   {
    "duration": 15,
    "start_time": "2022-03-22T09:00:17.119Z"
   },
   {
    "duration": 75,
    "start_time": "2022-03-22T09:00:17.135Z"
   },
   {
    "duration": 5,
    "start_time": "2022-03-22T09:00:17.308Z"
   },
   {
    "duration": 52,
    "start_time": "2022-03-22T09:00:17.315Z"
   },
   {
    "duration": 100,
    "start_time": "2022-03-22T09:00:17.409Z"
   },
   {
    "duration": 98,
    "start_time": "2022-03-22T09:00:17.513Z"
   },
   {
    "duration": 18,
    "start_time": "2022-03-22T09:00:17.613Z"
   },
   {
    "duration": 80,
    "start_time": "2022-03-22T09:00:17.633Z"
   },
   {
    "duration": 94,
    "start_time": "2022-03-22T09:00:17.716Z"
   },
   {
    "duration": 23,
    "start_time": "2022-03-22T09:00:17.812Z"
   },
   {
    "duration": 7,
    "start_time": "2022-03-22T09:00:17.837Z"
   },
   {
    "duration": 9,
    "start_time": "2022-03-22T09:00:17.846Z"
   },
   {
    "duration": 51,
    "start_time": "2022-03-22T09:00:17.857Z"
   },
   {
    "duration": 4,
    "start_time": "2022-03-22T09:00:17.910Z"
   },
   {
    "duration": 4341,
    "start_time": "2022-03-22T09:00:17.915Z"
   },
   {
    "duration": 609,
    "start_time": "2022-03-22T09:00:22.258Z"
   },
   {
    "duration": 3,
    "start_time": "2022-03-22T09:00:22.869Z"
   },
   {
    "duration": 4191,
    "start_time": "2022-03-22T09:00:22.874Z"
   },
   {
    "duration": 154,
    "start_time": "2022-03-22T09:00:27.067Z"
   },
   {
    "duration": 4228,
    "start_time": "2022-03-22T09:00:27.223Z"
   },
   {
    "duration": 136,
    "start_time": "2022-03-22T09:00:31.455Z"
   },
   {
    "duration": 3,
    "start_time": "2022-03-22T09:02:26.017Z"
   },
   {
    "duration": 5095,
    "start_time": "2022-03-22T09:02:37.262Z"
   },
   {
    "duration": 4,
    "start_time": "2022-03-22T09:05:46.265Z"
   },
   {
    "duration": 4,
    "start_time": "2022-03-22T09:05:47.056Z"
   },
   {
    "duration": 3,
    "start_time": "2022-03-22T09:05:48.014Z"
   },
   {
    "duration": 124,
    "start_time": "2022-03-22T09:05:49.265Z"
   },
   {
    "duration": 3,
    "start_time": "2022-03-22T09:05:58.378Z"
   },
   {
    "duration": 4,
    "start_time": "2022-03-22T09:05:59.166Z"
   },
   {
    "duration": 3,
    "start_time": "2022-03-22T09:05:59.757Z"
   },
   {
    "duration": 5110,
    "start_time": "2022-03-22T09:06:00.908Z"
   },
   {
    "duration": 125,
    "start_time": "2022-03-22T09:06:10.430Z"
   },
   {
    "duration": 3,
    "start_time": "2022-03-22T09:07:02.439Z"
   },
   {
    "duration": 3,
    "start_time": "2022-03-22T09:07:02.997Z"
   },
   {
    "duration": 3,
    "start_time": "2022-03-22T09:07:03.474Z"
   },
   {
    "duration": 4149,
    "start_time": "2022-03-22T09:07:04.482Z"
   },
   {
    "duration": 149,
    "start_time": "2022-03-22T09:07:08.633Z"
   },
   {
    "duration": 7,
    "start_time": "2022-03-22T09:10:25.194Z"
   },
   {
    "duration": 3,
    "start_time": "2022-03-22T09:10:26.424Z"
   },
   {
    "duration": 5,
    "start_time": "2022-03-22T09:10:27.047Z"
   },
   {
    "duration": 3,
    "start_time": "2022-03-22T09:10:27.949Z"
   },
   {
    "duration": 4201,
    "start_time": "2022-03-22T09:10:28.960Z"
   },
   {
    "duration": 145,
    "start_time": "2022-03-22T09:10:33.163Z"
   },
   {
    "duration": 4,
    "start_time": "2022-03-22T09:12:10.229Z"
   },
   {
    "duration": 3,
    "start_time": "2022-03-22T09:12:11.008Z"
   },
   {
    "duration": 927,
    "start_time": "2022-03-22T09:12:12.067Z"
   },
   {
    "duration": 4,
    "start_time": "2022-03-22T09:12:32.992Z"
   },
   {
    "duration": 3,
    "start_time": "2022-03-22T09:12:33.453Z"
   },
   {
    "duration": 936,
    "start_time": "2022-03-22T09:12:34.586Z"
   },
   {
    "duration": 207,
    "start_time": "2022-03-22T09:12:37.405Z"
   },
   {
    "duration": 3,
    "start_time": "2022-03-22T09:12:44.354Z"
   },
   {
    "duration": 4,
    "start_time": "2022-03-22T09:13:41.490Z"
   },
   {
    "duration": 4,
    "start_time": "2022-03-22T09:13:42.042Z"
   },
   {
    "duration": 1037,
    "start_time": "2022-03-22T09:13:43.160Z"
   },
   {
    "duration": 127,
    "start_time": "2022-03-22T09:13:44.997Z"
   },
   {
    "duration": 1111,
    "start_time": "2022-03-22T09:15:20.406Z"
   },
   {
    "duration": 129,
    "start_time": "2022-03-22T09:15:22.805Z"
   },
   {
    "duration": 1085,
    "start_time": "2022-03-22T09:15:25.751Z"
   },
   {
    "duration": 133,
    "start_time": "2022-03-22T09:15:27.575Z"
   },
   {
    "duration": 129,
    "start_time": "2022-03-22T09:24:14.119Z"
   },
   {
    "duration": 131,
    "start_time": "2022-03-22T09:24:24.240Z"
   },
   {
    "duration": 132,
    "start_time": "2022-03-22T09:24:52.492Z"
   },
   {
    "duration": 135,
    "start_time": "2022-03-22T09:25:04.537Z"
   },
   {
    "duration": 137,
    "start_time": "2022-03-22T09:25:20.533Z"
   },
   {
    "duration": 126,
    "start_time": "2022-03-22T09:25:58.346Z"
   },
   {
    "duration": 132,
    "start_time": "2022-03-22T09:26:11.064Z"
   },
   {
    "duration": 216,
    "start_time": "2022-03-22T09:26:16.502Z"
   },
   {
    "duration": 130,
    "start_time": "2022-03-22T09:26:21.367Z"
   },
   {
    "duration": 5,
    "start_time": "2022-03-22T09:37:44.102Z"
   },
   {
    "duration": 32,
    "start_time": "2022-03-22T09:52:57.982Z"
   },
   {
    "duration": 4,
    "start_time": "2022-03-22T09:53:05.756Z"
   },
   {
    "duration": 12,
    "start_time": "2022-03-22T09:53:28.332Z"
   },
   {
    "duration": 5,
    "start_time": "2022-03-22T09:53:30.322Z"
   },
   {
    "duration": 12,
    "start_time": "2022-03-22T09:53:32.524Z"
   },
   {
    "duration": 4,
    "start_time": "2022-03-22T09:53:33.472Z"
   },
   {
    "duration": 11,
    "start_time": "2022-03-22T09:53:55.741Z"
   },
   {
    "duration": 5,
    "start_time": "2022-03-22T09:53:56.251Z"
   },
   {
    "duration": 17,
    "start_time": "2022-03-22T09:54:03.062Z"
   },
   {
    "duration": 13,
    "start_time": "2022-03-22T09:54:03.507Z"
   },
   {
    "duration": 5,
    "start_time": "2022-03-22T09:54:03.939Z"
   },
   {
    "duration": 6,
    "start_time": "2022-03-22T09:56:25.898Z"
   },
   {
    "duration": 9,
    "start_time": "2022-03-22T09:57:20.379Z"
   },
   {
    "duration": 9,
    "start_time": "2022-03-22T09:57:35.654Z"
   },
   {
    "duration": 5,
    "start_time": "2022-03-22T10:09:12.197Z"
   },
   {
    "duration": 2855,
    "start_time": "2022-03-22T10:12:46.989Z"
   },
   {
    "duration": 157,
    "start_time": "2022-03-22T10:12:49.846Z"
   },
   {
    "duration": 16,
    "start_time": "2022-03-22T10:12:50.004Z"
   },
   {
    "duration": 149,
    "start_time": "2022-03-22T10:12:50.022Z"
   },
   {
    "duration": 46,
    "start_time": "2022-03-22T10:12:50.173Z"
   },
   {
    "duration": 136,
    "start_time": "2022-03-22T10:12:50.221Z"
   },
   {
    "duration": 13,
    "start_time": "2022-03-22T10:12:50.359Z"
   },
   {
    "duration": 36,
    "start_time": "2022-03-22T10:12:50.374Z"
   },
   {
    "duration": 17,
    "start_time": "2022-03-22T10:12:50.411Z"
   },
   {
    "duration": 177,
    "start_time": "2022-03-22T10:12:50.432Z"
   },
   {
    "duration": 17,
    "start_time": "2022-03-22T10:12:50.610Z"
   },
   {
    "duration": 13,
    "start_time": "2022-03-22T10:12:50.629Z"
   },
   {
    "duration": 66,
    "start_time": "2022-03-22T10:12:50.645Z"
   },
   {
    "duration": 108,
    "start_time": "2022-03-22T10:12:50.713Z"
   },
   {
    "duration": 15,
    "start_time": "2022-03-22T10:12:50.822Z"
   },
   {
    "duration": 73,
    "start_time": "2022-03-22T10:12:50.840Z"
   },
   {
    "duration": 99,
    "start_time": "2022-03-22T10:12:50.916Z"
   },
   {
    "duration": 9,
    "start_time": "2022-03-22T10:12:51.017Z"
   },
   {
    "duration": 5,
    "start_time": "2022-03-22T10:12:51.028Z"
   },
   {
    "duration": 6,
    "start_time": "2022-03-22T10:12:51.035Z"
   },
   {
    "duration": 4,
    "start_time": "2022-03-22T10:12:51.043Z"
   },
   {
    "duration": 1103,
    "start_time": "2022-03-22T10:12:51.049Z"
   },
   {
    "duration": 376,
    "start_time": "2022-03-22T10:12:52.153Z"
   },
   {
    "duration": 1083,
    "start_time": "2022-03-22T10:12:52.531Z"
   },
   {
    "duration": 150,
    "start_time": "2022-03-22T10:12:53.615Z"
   },
   {
    "duration": 1051,
    "start_time": "2022-03-22T10:12:53.766Z"
   },
   {
    "duration": 121,
    "start_time": "2022-03-22T10:12:54.819Z"
   },
   {
    "duration": 1147,
    "start_time": "2022-03-22T11:15:59.620Z"
   },
   {
    "duration": 144,
    "start_time": "2022-03-22T11:16:00.769Z"
   },
   {
    "duration": 15,
    "start_time": "2022-03-22T11:16:00.914Z"
   },
   {
    "duration": 142,
    "start_time": "2022-03-22T11:16:00.931Z"
   },
   {
    "duration": 14,
    "start_time": "2022-03-22T11:16:01.075Z"
   },
   {
    "duration": 143,
    "start_time": "2022-03-22T11:16:01.090Z"
   },
   {
    "duration": 13,
    "start_time": "2022-03-22T11:16:01.235Z"
   },
   {
    "duration": 19,
    "start_time": "2022-03-22T11:16:01.250Z"
   },
   {
    "duration": 40,
    "start_time": "2022-03-22T11:16:01.271Z"
   },
   {
    "duration": 99,
    "start_time": "2022-03-22T11:16:01.316Z"
   },
   {
    "duration": 17,
    "start_time": "2022-03-22T11:16:01.416Z"
   },
   {
    "duration": 74,
    "start_time": "2022-03-22T11:16:01.435Z"
   },
   {
    "duration": 6,
    "start_time": "2022-03-22T11:16:01.511Z"
   },
   {
    "duration": 110,
    "start_time": "2022-03-22T11:16:01.519Z"
   },
   {
    "duration": 22,
    "start_time": "2022-03-22T11:16:01.631Z"
   },
   {
    "duration": 8,
    "start_time": "2022-03-22T11:16:01.710Z"
   },
   {
    "duration": 16,
    "start_time": "2022-03-22T11:16:01.809Z"
   },
   {
    "duration": 18,
    "start_time": "2022-03-22T11:16:01.827Z"
   },
   {
    "duration": 7,
    "start_time": "2022-03-22T11:16:01.846Z"
   },
   {
    "duration": 18,
    "start_time": "2022-03-22T11:16:01.855Z"
   },
   {
    "duration": 14,
    "start_time": "2022-03-22T11:16:01.874Z"
   },
   {
    "duration": 1108,
    "start_time": "2022-03-22T11:16:01.890Z"
   },
   {
    "duration": 554,
    "start_time": "2022-03-22T11:16:03.000Z"
   },
   {
    "duration": 1102,
    "start_time": "2022-03-22T11:16:03.556Z"
   },
   {
    "duration": 151,
    "start_time": "2022-03-22T11:16:04.660Z"
   },
   {
    "duration": 1096,
    "start_time": "2022-03-22T11:16:04.812Z"
   },
   {
    "duration": 129,
    "start_time": "2022-03-22T11:16:05.910Z"
   },
   {
    "duration": 6,
    "start_time": "2022-03-22T11:17:59.790Z"
   },
   {
    "duration": 7,
    "start_time": "2022-03-22T11:18:11.101Z"
   },
   {
    "duration": 5,
    "start_time": "2022-03-22T11:18:16.106Z"
   },
   {
    "duration": 4,
    "start_time": "2022-03-22T11:18:17.501Z"
   },
   {
    "duration": 5,
    "start_time": "2022-03-22T11:18:26.351Z"
   },
   {
    "duration": 5,
    "start_time": "2022-03-22T11:18:32.779Z"
   },
   {
    "duration": 4,
    "start_time": "2022-03-22T11:18:43.771Z"
   },
   {
    "duration": 5,
    "start_time": "2022-03-22T11:18:47.865Z"
   },
   {
    "duration": 70,
    "start_time": "2022-03-23T08:53:16.641Z"
   },
   {
    "duration": 1425,
    "start_time": "2022-03-23T08:53:21.688Z"
   },
   {
    "duration": 179,
    "start_time": "2022-03-23T08:53:23.115Z"
   },
   {
    "duration": 20,
    "start_time": "2022-03-23T08:53:23.296Z"
   },
   {
    "duration": 168,
    "start_time": "2022-03-23T08:53:23.319Z"
   },
   {
    "duration": 19,
    "start_time": "2022-03-23T08:53:23.490Z"
   },
   {
    "duration": 175,
    "start_time": "2022-03-23T08:53:23.511Z"
   },
   {
    "duration": 21,
    "start_time": "2022-03-23T08:53:23.688Z"
   },
   {
    "duration": 16,
    "start_time": "2022-03-23T08:53:23.711Z"
   },
   {
    "duration": 54,
    "start_time": "2022-03-23T08:53:23.729Z"
   },
   {
    "duration": 83,
    "start_time": "2022-03-23T08:53:23.788Z"
   },
   {
    "duration": 116,
    "start_time": "2022-03-23T08:53:23.874Z"
   },
   {
    "duration": 17,
    "start_time": "2022-03-23T08:53:23.993Z"
   },
   {
    "duration": 57,
    "start_time": "2022-03-23T08:53:24.013Z"
   },
   {
    "duration": 110,
    "start_time": "2022-03-23T08:53:24.074Z"
   },
   {
    "duration": 16,
    "start_time": "2022-03-23T08:53:24.186Z"
   },
   {
    "duration": 65,
    "start_time": "2022-03-23T08:53:24.205Z"
   },
   {
    "duration": 108,
    "start_time": "2022-03-23T08:53:24.273Z"
   },
   {
    "duration": 13,
    "start_time": "2022-03-23T08:53:24.383Z"
   },
   {
    "duration": 4,
    "start_time": "2022-03-23T08:53:24.398Z"
   },
   {
    "duration": 63,
    "start_time": "2022-03-23T08:53:24.405Z"
   },
   {
    "duration": 8,
    "start_time": "2022-03-23T08:53:24.470Z"
   },
   {
    "duration": 2874,
    "start_time": "2022-03-23T08:53:24.480Z"
   },
   {
    "duration": 791,
    "start_time": "2022-03-23T08:53:27.356Z"
   },
   {
    "duration": 1596,
    "start_time": "2022-03-23T08:53:28.150Z"
   },
   {
    "duration": 234,
    "start_time": "2022-03-23T08:53:29.749Z"
   },
   {
    "duration": 1624,
    "start_time": "2022-03-23T08:53:29.985Z"
   },
   {
    "duration": 194,
    "start_time": "2022-03-23T08:53:31.611Z"
   },
   {
    "duration": 106,
    "start_time": "2022-03-23T08:55:08.183Z"
   },
   {
    "duration": 173,
    "start_time": "2022-03-23T08:55:36.340Z"
   },
   {
    "duration": 195,
    "start_time": "2022-03-23T08:55:58.490Z"
   },
   {
    "duration": 169,
    "start_time": "2022-03-23T08:56:27.017Z"
   },
   {
    "duration": 269,
    "start_time": "2022-03-23T08:56:53.998Z"
   },
   {
    "duration": 193,
    "start_time": "2022-03-23T08:57:12.155Z"
   },
   {
    "duration": 5,
    "start_time": "2022-03-23T08:58:33.501Z"
   },
   {
    "duration": 1597,
    "start_time": "2022-03-23T08:58:34.226Z"
   },
   {
    "duration": 207,
    "start_time": "2022-03-23T08:58:35.826Z"
   },
   {
    "duration": 201,
    "start_time": "2022-03-23T08:58:58.350Z"
   },
   {
    "duration": 199,
    "start_time": "2022-03-23T08:59:25.115Z"
   },
   {
    "duration": 1604,
    "start_time": "2022-03-23T08:59:38.176Z"
   },
   {
    "duration": 202,
    "start_time": "2022-03-23T08:59:39.783Z"
   },
   {
    "duration": 6,
    "start_time": "2022-03-23T09:00:34.705Z"
   },
   {
    "duration": 210,
    "start_time": "2022-03-23T09:00:38.635Z"
   },
   {
    "duration": 87,
    "start_time": "2022-03-23T09:02:40.852Z"
   },
   {
    "duration": 1497,
    "start_time": "2022-03-23T09:05:45.931Z"
   },
   {
    "duration": 181,
    "start_time": "2022-03-23T09:05:47.431Z"
   },
   {
    "duration": 22,
    "start_time": "2022-03-23T09:05:47.615Z"
   },
   {
    "duration": 177,
    "start_time": "2022-03-23T09:05:47.639Z"
   },
   {
    "duration": 18,
    "start_time": "2022-03-23T09:05:47.818Z"
   },
   {
    "duration": 189,
    "start_time": "2022-03-23T09:05:47.838Z"
   },
   {
    "duration": 19,
    "start_time": "2022-03-23T09:05:48.029Z"
   },
   {
    "duration": 31,
    "start_time": "2022-03-23T09:05:48.050Z"
   },
   {
    "duration": 86,
    "start_time": "2022-03-23T09:05:48.083Z"
   },
   {
    "duration": 97,
    "start_time": "2022-03-23T09:05:48.175Z"
   },
   {
    "duration": 18,
    "start_time": "2022-03-23T09:05:48.274Z"
   },
   {
    "duration": 74,
    "start_time": "2022-03-23T09:05:48.294Z"
   },
   {
    "duration": 97,
    "start_time": "2022-03-23T09:05:48.371Z"
   },
   {
    "duration": 20,
    "start_time": "2022-03-23T09:05:48.470Z"
   },
   {
    "duration": 20,
    "start_time": "2022-03-23T09:05:48.493Z"
   },
   {
    "duration": 98,
    "start_time": "2022-03-23T09:05:48.570Z"
   },
   {
    "duration": 10,
    "start_time": "2022-03-23T09:05:48.670Z"
   },
   {
    "duration": 14,
    "start_time": "2022-03-23T09:05:48.682Z"
   },
   {
    "duration": 4,
    "start_time": "2022-03-23T09:05:48.698Z"
   },
   {
    "duration": 8,
    "start_time": "2022-03-23T09:05:48.704Z"
   },
   {
    "duration": 6,
    "start_time": "2022-03-23T09:05:48.714Z"
   },
   {
    "duration": 50,
    "start_time": "2022-03-23T09:05:48.721Z"
   },
   {
    "duration": 1668,
    "start_time": "2022-03-23T09:05:48.773Z"
   },
   {
    "duration": 591,
    "start_time": "2022-03-23T09:05:50.444Z"
   },
   {
    "duration": 1652,
    "start_time": "2022-03-23T09:05:51.037Z"
   },
   {
    "duration": 216,
    "start_time": "2022-03-23T09:05:52.691Z"
   },
   {
    "duration": 1683,
    "start_time": "2022-03-23T09:05:52.910Z"
   },
   {
    "duration": 198,
    "start_time": "2022-03-23T09:05:54.597Z"
   }
  ],
  "kernelspec": {
   "display_name": "Python 3 (ipykernel)",
   "language": "python",
   "name": "python3"
  },
  "language_info": {
   "codemirror_mode": {
    "name": "ipython",
    "version": 3
   },
   "file_extension": ".py",
   "mimetype": "text/x-python",
   "name": "python",
   "nbconvert_exporter": "python",
   "pygments_lexer": "ipython3",
   "version": "3.9.5"
  },
  "toc": {
   "base_numbering": 1,
   "nav_menu": {},
   "number_sections": true,
   "sideBar": true,
   "skip_h1_title": true,
   "title_cell": "Table of Contents",
   "title_sidebar": "Contents",
   "toc_cell": false,
   "toc_position": {
    "height": "calc(100% - 180px)",
    "left": "10px",
    "top": "150px",
    "width": "318.398px"
   },
   "toc_section_display": true,
   "toc_window_display": true
  }
 },
 "nbformat": 4,
 "nbformat_minor": 2
}
