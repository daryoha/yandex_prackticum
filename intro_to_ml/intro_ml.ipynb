{
 "cells": [
  {
   "cell_type": "markdown",
   "metadata": {},
   "source": [
    "Привет, меня зовут Артем Хуршудов. Сегодня я проверю твой проект.\n",
    "<br> Дальнейшее общение будет происходить на \"ты\" если это не вызывает никаких проблем.\n",
    "<br> Желательно реагировать на каждый мой комментарий ('исправил', 'не понятно как исправить ошибку', ...)\n",
    "<br> Пожалуйста, не удаляй комментарии ревьюера, так как они повышают качество повторного ревью.\n",
    "\n",
    "Комментарии будут в <font color='green'>зеленой</font>, <font color='blue'>синей</font> или <font color='red'>красной</font> рамках:\n",
    "\n",
    "<div class=\"alert alert-block alert-success\">\n",
    "<b>Успех:</b> Если все сделано отлично\n",
    "</div>\n",
    "\n",
    "<div class=\"alert alert-block alert-info\">\n",
    "<b>Совет: </b> Если можно немного улучшить\n",
    "</div>\n",
    "\n",
    "<div class=\"alert alert-block alert-danger\">\n",
    "<b>Ошибка:</b> Если требуются исправления. Работа не может быть принята с красными комментариями.\n",
    "</div>\n",
    "\n",
    "-------------------\n",
    "\n",
    "Будет очень хорошо, если ты будешь помечать свои действия следующим образом:\n",
    "<div class=\"alert alert-block alert-warning\">\n",
    "<b>Комментарий студента:</b> ...\n",
    "</div>\n",
    "\n",
    "<div class=\"alert alert-block alert-warning\">\n",
    "<b>Изменения:</b> Были внесены следующие изменения ...\n",
    "</div>\n",
    "\n",
    "#### <font color='orange'>Полезные ссылки:</font>\n",
    "* Могу предложить обратить внимание на вот этот теоритический курс лекци: https://www.youtube.com/watch?v=SZkrxWhI5qM&list=PLJOzdkh8T5krxc4HsHbB8g8f0hu7973fK\n",
    "\n",
    "### <font color='orange'>Общее впечатление</font>\n",
    "* Большое спасибо за проделанную работу. Видно, что приложено много усилий.\n",
    "* Отлично, что правильно использованы train/valid/test наборы.\n",
    "* Над этим проектом нужно будет еще немного поработать. Однако, изменения не должны занять много времени.\n",
    "* В работе я оставил несколько советов. Буду рад, если ты учтешь их.\n",
    "* С радостью отвечу на твои вопросы, если они есть. Лучше всего их собрать в следующей ячейке. Жду новую версию проекта."
   ]
  },
  {
   "cell_type": "markdown",
   "metadata": {},
   "source": [
    "### <font color='orange'>Общее впечатление (ревью 2)</font>\n",
    "* После исправлений проект улучшился и теперь он может быть зачтен.\n",
    "* Для удобства все новые комментарии обозначены фразой \"ревью 2\".\n",
    "* Удачи в дальнейшем обучении и следующих работах!"
   ]
  },
  {
   "cell_type": "markdown",
   "metadata": {},
   "source": [
    "# Рекомендация тарифов"
   ]
  },
  {
   "cell_type": "markdown",
   "metadata": {},
   "source": [
    "В вашем распоряжении данные о поведении клиентов, которые уже перешли на эти тарифы (из проекта курса «Статистический анализ данных»). Нужно построить модель для задачи классификации, которая выберет подходящий тариф. Предобработка данных не понадобится — вы её уже сделали.\n",
    "\n",
    "Постройте модель с максимально большим значением *accuracy*. Чтобы сдать проект успешно, нужно довести долю правильных ответов по крайней мере до 0.75. Проверьте *accuracy* на тестовой выборке самостоятельно."
   ]
  },
  {
   "cell_type": "markdown",
   "metadata": {},
   "source": [
    "## Откройте и изучите файл"
   ]
  },
  {
   "cell_type": "code",
   "execution_count": 31,
   "metadata": {},
   "outputs": [],
   "source": [
    "# импортирование библиотек\n",
    "import pandas as pd\n",
    "from sklearn.model_selection import train_test_split\n",
    "from sklearn.tree import DecisionTreeClassifier\n",
    "from sklearn.ensemble import RandomForestClassifier\n",
    "from sklearn.linear_model import LogisticRegression\n",
    "from sklearn.metrics import mean_squared_error\n",
    "from sklearn.metrics import accuracy_score\n",
    "from sklearn.metrics import precision_score"
   ]
  },
  {
   "cell_type": "markdown",
   "metadata": {},
   "source": [
    "<div class=\"alert alert-block alert-success\">\n",
    "<b>Успех:</b> Отлично, что все импорты собраны в первой ячейке ноутбука! Если у того, кто будет запускать твой ноутбук будут отсутствовать некоторые библиотеки, то он это увидит сразу, а не в процессе!\n",
    "</div>"
   ]
  },
  {
   "cell_type": "code",
   "execution_count": 2,
   "metadata": {
    "scrolled": false
   },
   "outputs": [
    {
     "data": {
      "text/html": [
       "<div>\n",
       "<style scoped>\n",
       "    .dataframe tbody tr th:only-of-type {\n",
       "        vertical-align: middle;\n",
       "    }\n",
       "\n",
       "    .dataframe tbody tr th {\n",
       "        vertical-align: top;\n",
       "    }\n",
       "\n",
       "    .dataframe thead th {\n",
       "        text-align: right;\n",
       "    }\n",
       "</style>\n",
       "<table border=\"1\" class=\"dataframe\">\n",
       "  <thead>\n",
       "    <tr style=\"text-align: right;\">\n",
       "      <th></th>\n",
       "      <th>calls</th>\n",
       "      <th>minutes</th>\n",
       "      <th>messages</th>\n",
       "      <th>mb_used</th>\n",
       "      <th>is_ultra</th>\n",
       "    </tr>\n",
       "  </thead>\n",
       "  <tbody>\n",
       "    <tr>\n",
       "      <td>0</td>\n",
       "      <td>40.0</td>\n",
       "      <td>311.90</td>\n",
       "      <td>83.0</td>\n",
       "      <td>19915.42</td>\n",
       "      <td>0</td>\n",
       "    </tr>\n",
       "    <tr>\n",
       "      <td>1</td>\n",
       "      <td>85.0</td>\n",
       "      <td>516.75</td>\n",
       "      <td>56.0</td>\n",
       "      <td>22696.96</td>\n",
       "      <td>0</td>\n",
       "    </tr>\n",
       "    <tr>\n",
       "      <td>2</td>\n",
       "      <td>77.0</td>\n",
       "      <td>467.66</td>\n",
       "      <td>86.0</td>\n",
       "      <td>21060.45</td>\n",
       "      <td>0</td>\n",
       "    </tr>\n",
       "    <tr>\n",
       "      <td>3</td>\n",
       "      <td>106.0</td>\n",
       "      <td>745.53</td>\n",
       "      <td>81.0</td>\n",
       "      <td>8437.39</td>\n",
       "      <td>1</td>\n",
       "    </tr>\n",
       "    <tr>\n",
       "      <td>4</td>\n",
       "      <td>66.0</td>\n",
       "      <td>418.74</td>\n",
       "      <td>1.0</td>\n",
       "      <td>14502.75</td>\n",
       "      <td>0</td>\n",
       "    </tr>\n",
       "    <tr>\n",
       "      <td>5</td>\n",
       "      <td>58.0</td>\n",
       "      <td>344.56</td>\n",
       "      <td>21.0</td>\n",
       "      <td>15823.37</td>\n",
       "      <td>0</td>\n",
       "    </tr>\n",
       "    <tr>\n",
       "      <td>6</td>\n",
       "      <td>57.0</td>\n",
       "      <td>431.64</td>\n",
       "      <td>20.0</td>\n",
       "      <td>3738.90</td>\n",
       "      <td>1</td>\n",
       "    </tr>\n",
       "    <tr>\n",
       "      <td>7</td>\n",
       "      <td>15.0</td>\n",
       "      <td>132.40</td>\n",
       "      <td>6.0</td>\n",
       "      <td>21911.60</td>\n",
       "      <td>0</td>\n",
       "    </tr>\n",
       "    <tr>\n",
       "      <td>8</td>\n",
       "      <td>7.0</td>\n",
       "      <td>43.39</td>\n",
       "      <td>3.0</td>\n",
       "      <td>2538.67</td>\n",
       "      <td>1</td>\n",
       "    </tr>\n",
       "    <tr>\n",
       "      <td>9</td>\n",
       "      <td>90.0</td>\n",
       "      <td>665.41</td>\n",
       "      <td>38.0</td>\n",
       "      <td>17358.61</td>\n",
       "      <td>0</td>\n",
       "    </tr>\n",
       "  </tbody>\n",
       "</table>\n",
       "</div>"
      ],
      "text/plain": [
       "   calls  minutes  messages   mb_used  is_ultra\n",
       "0   40.0   311.90      83.0  19915.42         0\n",
       "1   85.0   516.75      56.0  22696.96         0\n",
       "2   77.0   467.66      86.0  21060.45         0\n",
       "3  106.0   745.53      81.0   8437.39         1\n",
       "4   66.0   418.74       1.0  14502.75         0\n",
       "5   58.0   344.56      21.0  15823.37         0\n",
       "6   57.0   431.64      20.0   3738.90         1\n",
       "7   15.0   132.40       6.0  21911.60         0\n",
       "8    7.0    43.39       3.0   2538.67         1\n",
       "9   90.0   665.41      38.0  17358.61         0"
      ]
     },
     "metadata": {},
     "output_type": "display_data"
    },
    {
     "data": {
      "text/html": [
       "<div>\n",
       "<style scoped>\n",
       "    .dataframe tbody tr th:only-of-type {\n",
       "        vertical-align: middle;\n",
       "    }\n",
       "\n",
       "    .dataframe tbody tr th {\n",
       "        vertical-align: top;\n",
       "    }\n",
       "\n",
       "    .dataframe thead th {\n",
       "        text-align: right;\n",
       "    }\n",
       "</style>\n",
       "<table border=\"1\" class=\"dataframe\">\n",
       "  <thead>\n",
       "    <tr style=\"text-align: right;\">\n",
       "      <th></th>\n",
       "      <th>calls</th>\n",
       "      <th>minutes</th>\n",
       "      <th>messages</th>\n",
       "      <th>mb_used</th>\n",
       "      <th>is_ultra</th>\n",
       "    </tr>\n",
       "  </thead>\n",
       "  <tbody>\n",
       "    <tr>\n",
       "      <td>3204</td>\n",
       "      <td>86.0</td>\n",
       "      <td>658.66</td>\n",
       "      <td>47.0</td>\n",
       "      <td>14153.10</td>\n",
       "      <td>0</td>\n",
       "    </tr>\n",
       "    <tr>\n",
       "      <td>3205</td>\n",
       "      <td>59.0</td>\n",
       "      <td>412.81</td>\n",
       "      <td>16.0</td>\n",
       "      <td>14105.03</td>\n",
       "      <td>0</td>\n",
       "    </tr>\n",
       "    <tr>\n",
       "      <td>3206</td>\n",
       "      <td>76.0</td>\n",
       "      <td>586.51</td>\n",
       "      <td>54.0</td>\n",
       "      <td>14345.74</td>\n",
       "      <td>0</td>\n",
       "    </tr>\n",
       "    <tr>\n",
       "      <td>3207</td>\n",
       "      <td>17.0</td>\n",
       "      <td>92.39</td>\n",
       "      <td>2.0</td>\n",
       "      <td>4299.25</td>\n",
       "      <td>0</td>\n",
       "    </tr>\n",
       "    <tr>\n",
       "      <td>3208</td>\n",
       "      <td>164.0</td>\n",
       "      <td>1016.98</td>\n",
       "      <td>71.0</td>\n",
       "      <td>17787.52</td>\n",
       "      <td>1</td>\n",
       "    </tr>\n",
       "    <tr>\n",
       "      <td>3209</td>\n",
       "      <td>122.0</td>\n",
       "      <td>910.98</td>\n",
       "      <td>20.0</td>\n",
       "      <td>35124.90</td>\n",
       "      <td>1</td>\n",
       "    </tr>\n",
       "    <tr>\n",
       "      <td>3210</td>\n",
       "      <td>25.0</td>\n",
       "      <td>190.36</td>\n",
       "      <td>0.0</td>\n",
       "      <td>3275.61</td>\n",
       "      <td>0</td>\n",
       "    </tr>\n",
       "    <tr>\n",
       "      <td>3211</td>\n",
       "      <td>97.0</td>\n",
       "      <td>634.44</td>\n",
       "      <td>70.0</td>\n",
       "      <td>13974.06</td>\n",
       "      <td>0</td>\n",
       "    </tr>\n",
       "    <tr>\n",
       "      <td>3212</td>\n",
       "      <td>64.0</td>\n",
       "      <td>462.32</td>\n",
       "      <td>90.0</td>\n",
       "      <td>31239.78</td>\n",
       "      <td>0</td>\n",
       "    </tr>\n",
       "    <tr>\n",
       "      <td>3213</td>\n",
       "      <td>80.0</td>\n",
       "      <td>566.09</td>\n",
       "      <td>6.0</td>\n",
       "      <td>29480.52</td>\n",
       "      <td>1</td>\n",
       "    </tr>\n",
       "  </tbody>\n",
       "</table>\n",
       "</div>"
      ],
      "text/plain": [
       "      calls  minutes  messages   mb_used  is_ultra\n",
       "3204   86.0   658.66      47.0  14153.10         0\n",
       "3205   59.0   412.81      16.0  14105.03         0\n",
       "3206   76.0   586.51      54.0  14345.74         0\n",
       "3207   17.0    92.39       2.0   4299.25         0\n",
       "3208  164.0  1016.98      71.0  17787.52         1\n",
       "3209  122.0   910.98      20.0  35124.90         1\n",
       "3210   25.0   190.36       0.0   3275.61         0\n",
       "3211   97.0   634.44      70.0  13974.06         0\n",
       "3212   64.0   462.32      90.0  31239.78         0\n",
       "3213   80.0   566.09       6.0  29480.52         1"
      ]
     },
     "metadata": {},
     "output_type": "display_data"
    }
   ],
   "source": [
    "data = pd.read_csv('/datasets/users_behavior.csv')\n",
    "# просмотр первых и последних десяти строчек в таблице \n",
    "display(data.head(10))\n",
    "display(data.tail(10))"
   ]
  },
  {
   "cell_type": "code",
   "execution_count": 3,
   "metadata": {},
   "outputs": [
    {
     "name": "stdout",
     "output_type": "stream",
     "text": [
      "<class 'pandas.core.frame.DataFrame'>\n",
      "RangeIndex: 3214 entries, 0 to 3213\n",
      "Data columns (total 5 columns):\n",
      "calls       3214 non-null float64\n",
      "minutes     3214 non-null float64\n",
      "messages    3214 non-null float64\n",
      "mb_used     3214 non-null float64\n",
      "is_ultra    3214 non-null int64\n",
      "dtypes: float64(4), int64(1)\n",
      "memory usage: 125.7 KB\n"
     ]
    }
   ],
   "source": [
    "# вывод информации о data\n",
    "data.info()"
   ]
  },
  {
   "cell_type": "code",
   "execution_count": 4,
   "metadata": {},
   "outputs": [
    {
     "data": {
      "text/plain": [
       "['calls', 'minutes', 'messages', 'mb_used', 'is_ultra']"
      ]
     },
     "metadata": {},
     "output_type": "display_data"
    }
   ],
   "source": [
    "# проверим правильно ли записаны названия столбцов таблицы data\n",
    "display(data.columns.to_list())"
   ]
  },
  {
   "cell_type": "markdown",
   "metadata": {},
   "source": [
    "С данными все в порядке."
   ]
  },
  {
   "cell_type": "markdown",
   "metadata": {},
   "source": [
    "<div class=\"alert alert-block alert-success\">\n",
    "<b>Успех:</b> Данные загружены корректно, первичный осмотр проведен.\n",
    "</div>"
   ]
  },
  {
   "cell_type": "markdown",
   "metadata": {},
   "source": [
    "## Разбейте данные на выборки"
   ]
  },
  {
   "cell_type": "code",
   "execution_count": 16,
   "metadata": {},
   "outputs": [
    {
     "name": "stdout",
     "output_type": "stream",
     "text": [
      "Обучающая выборка:\n",
      "<class 'pandas.core.frame.DataFrame'>\n",
      "Int64Index: 2056 entries, 2388 to 510\n",
      "Data columns (total 4 columns):\n",
      "calls       2056 non-null float64\n",
      "minutes     2056 non-null float64\n",
      "messages    2056 non-null float64\n",
      "mb_used     2056 non-null float64\n",
      "dtypes: float64(4)\n",
      "memory usage: 80.3 KB\n",
      "\n",
      "Валидационная выборка:\n",
      "<class 'pandas.core.frame.DataFrame'>\n",
      "Int64Index: 643 entries, 1415 to 1196\n",
      "Data columns (total 4 columns):\n",
      "calls       643 non-null float64\n",
      "minutes     643 non-null float64\n",
      "messages    643 non-null float64\n",
      "mb_used     643 non-null float64\n",
      "dtypes: float64(4)\n",
      "memory usage: 25.1 KB\n",
      "\n",
      "Тестовая выборка:\n",
      "<class 'pandas.core.frame.DataFrame'>\n",
      "Int64Index: 515 entries, 2699 to 773\n",
      "Data columns (total 4 columns):\n",
      "calls       515 non-null float64\n",
      "minutes     515 non-null float64\n",
      "messages    515 non-null float64\n",
      "mb_used     515 non-null float64\n",
      "dtypes: float64(4)\n",
      "memory usage: 20.1 KB\n",
      "\n"
     ]
    }
   ],
   "source": [
    "features = data.drop(['is_ultra'], axis=1)\n",
    "target = data['is_ultra']\n",
    "\n",
    "features_train, features_valid, target_train, target_valid = train_test_split(\n",
    "    features, target, test_size=0.2, random_state=12345\n",
    ")\n",
    "\n",
    "features_train, features_test, target_train, target_test = train_test_split(\n",
    "    features_train, target_train, test_size=0.2, random_state=12345\n",
    ")\n",
    "\n",
    "print('Обучающая выборка:')\n",
    "features_train.info()\n",
    "target_train.size\n",
    "print()\n",
    "\n",
    "print('Валидационная выборка:')\n",
    "features_valid.info()\n",
    "target_valid.size\n",
    "print()\n",
    "\n",
    "print('Тестовая выборка:')\n",
    "features_test.info()\n",
    "target_test.size\n",
    "print()"
   ]
  },
  {
   "cell_type": "markdown",
   "metadata": {},
   "source": [
    "Разбила данные в отношении 3:1:1"
   ]
  },
  {
   "cell_type": "markdown",
   "metadata": {},
   "source": [
    "<div class=\"alert alert-block alert-success\">\n",
    "<b>Успех:</b> Разбиение было сделано правильно.\n",
    "</div>\n",
    "\n",
    "<div class=\"alert alert-block alert-info\">\n",
    "<b>Совет: </b> Желательно было напечатать размеры полученных наборов. Иногда, это помогает избежать ошибок. Кстати, сейчас у тебя разбиение не 3:1:1.\n",
    "</div>"
   ]
  },
  {
   "cell_type": "markdown",
   "metadata": {},
   "source": [
    "<div class=\"alert alert-block alert-warning\">\n",
    "<b>Комментарий студентки:</b> Я поняла, почему у меня не 3:1:1, но не знаю, как это испрвить\n",
    "</div>"
   ]
  },
  {
   "cell_type": "markdown",
   "metadata": {},
   "source": [
    "<div class=\"alert alert-block alert-info\">\n",
    "<b>Совет (ревью 2): </b> Сделать так:\n",
    "</div>"
   ]
  },
  {
   "cell_type": "code",
   "execution_count": null,
   "metadata": {},
   "outputs": [],
   "source": [
    "features_train, features_test, target_train, target_test = train_test_split(\n",
    "    features_train, target_train, test_size=0.25, random_state=12345\n",
    ")"
   ]
  },
  {
   "cell_type": "markdown",
   "metadata": {},
   "source": [
    "## Исследуйте модели"
   ]
  },
  {
   "cell_type": "markdown",
   "metadata": {},
   "source": [
    "### Дерево решений"
   ]
  },
  {
   "cell_type": "code",
   "execution_count": 17,
   "metadata": {},
   "outputs": [
    {
     "name": "stdout",
     "output_type": "stream",
     "text": [
      "Доля правильных ответов: 0.7309486780715396\n"
     ]
    }
   ],
   "source": [
    "model_tree = DecisionTreeClassifier(random_state=12345)\n",
    "model_tree.fit(features_train, target_train)\n",
    "\n",
    "predictions_valid = model_tree.predict(features_valid)\n",
    "accuracy_valid = accuracy_score(target_valid, predictions_valid)\n",
    "print('Доля правильных ответов:', accuracy_valid)"
   ]
  },
  {
   "cell_type": "code",
   "execution_count": 19,
   "metadata": {},
   "outputs": [
    {
     "name": "stdout",
     "output_type": "stream",
     "text": [
      "RMSE наилучшей модели на валидационной выборке: 0.7916018662519441 Глубина дерева: 7\n"
     ]
    }
   ],
   "source": [
    "best_model = None\n",
    "best_accuracy = 0\n",
    "best_depth = 0\n",
    "for i in range(1,11):\n",
    "    model_tree = DecisionTreeClassifier(random_state=12345, max_depth=i)\n",
    "    model_tree.fit(features_train, target_train)\n",
    "\n",
    "    predictions_valid = model_tree.predict(features_valid)\n",
    "    accuracy_valid = accuracy_score(target_valid, predictions_valid)\n",
    "    \n",
    "    if accuracy_valid > best_accuracy:\n",
    "        best_model = model_tree\n",
    "        best_accuracy = accuracy_valid\n",
    "        best_depth = i\n",
    "        \n",
    "print(\"Доля правильных ответов:\", best_accuracy, \"Глубина дерева:\", best_depth)"
   ]
  },
  {
   "cell_type": "markdown",
   "metadata": {},
   "source": [
    "<div class=\"alert alert-block alert-danger\">\n",
    "<b>Ошибка:</b> В данном случае мы решаем задачу классификации, а метрика RMSE для регрессии. Пожалуйста, используй accuracy.\n",
    "</div>"
   ]
  },
  {
   "cell_type": "markdown",
   "metadata": {},
   "source": [
    "<div class=\"alert alert-block alert-warning\">\n",
    "<b>Комментарий студентки:</b> Исправила\n",
    "</div>"
   ]
  },
  {
   "cell_type": "markdown",
   "metadata": {},
   "source": [
    "<div class=\"alert alert-block alert-success\">\n",
    "<b>Успех (ревью 2):</b> ОК, только, кажется, что ты запустил не финальную версию кода.\n",
    "</div>"
   ]
  },
  {
   "cell_type": "code",
   "execution_count": 21,
   "metadata": {},
   "outputs": [
    {
     "name": "stdout",
     "output_type": "stream",
     "text": [
      "RMSE наилучшей модели на валидационной выборке: 0.7931570762052877 Минимальное число объектов в узле дерева: 3\n"
     ]
    }
   ],
   "source": [
    "best_model = None\n",
    "best_accuracy = 0\n",
    "best_samples = 0.0\n",
    "for i in range(2, 10):\n",
    "    model_tree = DecisionTreeClassifier(random_state=12345, max_depth=7, min_samples_split=i)\n",
    "    model_tree.fit(features_train, target_train)\n",
    "\n",
    "    predictions_valid = model_tree.predict(features_valid)\n",
    "    accuracy_valid = accuracy_score(target_valid, predictions_valid)\n",
    "    \n",
    "    if accuracy_valid > best_accuracy:\n",
    "        best_model = model_tree\n",
    "        best_accuracy = accuracy_valid\n",
    "        best_samples = i\n",
    "        \n",
    "print(\"Доля правильных ответов:\", best_accuracy, \"Минимальное число объектов в узле дерева:\", best_samples)"
   ]
  },
  {
   "cell_type": "code",
   "execution_count": 23,
   "metadata": {},
   "outputs": [
    {
     "name": "stdout",
     "output_type": "stream",
     "text": [
      "RMSE наилучшей модели на валидационной выборке: 0.7978227060653188 Минимальное число объектов в последнем узле дерева: 11\n"
     ]
    }
   ],
   "source": [
    "best_model = None\n",
    "best_accuracy = 0\n",
    "best_samples = 0.0\n",
    "for i in range(2, 20):\n",
    "    model_tree = DecisionTreeClassifier(random_state=12345, max_depth=7, min_samples_split=3, min_samples_leaf=i)\n",
    "    model_tree.fit(features_train, target_train)\n",
    "\n",
    "    predictions_valid = model_tree.predict(features_valid)\n",
    "    accuracy_valid = accuracy_score(target_valid, predictions_valid)\n",
    "    \n",
    "    if accuracy_valid > best_accuracy:\n",
    "        best_model = model_tree\n",
    "        best_accuracy = accuracy_valid\n",
    "        best_samples = i\n",
    "        \n",
    "print(\"Доля правильных ответов на валидационной выборке:\", best_accuracy, \n",
    "      \"Минимальное число объектов в последнем узле дерева:\", best_samples)"
   ]
  },
  {
   "cell_type": "markdown",
   "metadata": {},
   "source": [
    "Наилучшая модель имеет гиперпараметры: глубина = 7, минимальное число объектов в узле дерева = 3, минимальное число объектов в узле дерева = 11"
   ]
  },
  {
   "cell_type": "markdown",
   "metadata": {},
   "source": [
    "<div class=\"alert alert-block alert-info\">\n",
    "<b>Совет: </b> Несколько разных параметров можно подбирать совместно цикл в цикле.\n",
    "</div>"
   ]
  },
  {
   "cell_type": "markdown",
   "metadata": {},
   "source": [
    "### Случайный лес"
   ]
  },
  {
   "cell_type": "code",
   "execution_count": 24,
   "metadata": {},
   "outputs": [
    {
     "name": "stdout",
     "output_type": "stream",
     "text": [
      "RMSE наилучшей модели на валидационной выборке: 0.7838258164852255 Количесвто деревьев: 14\n"
     ]
    }
   ],
   "source": [
    "best_model = None\n",
    "best_accuracy = 0\n",
    "best_amount = 0\n",
    "for i in range(1,21):\n",
    "    model_forest = RandomForestClassifier(random_state=12345, n_estimators=i)\n",
    "    model_forest.fit(features_train, target_train)\n",
    "\n",
    "    predictions_valid = model_forest.predict(features_valid)\n",
    "    accuracy_valid = accuracy_score(target_valid, predictions_valid)\n",
    "    \n",
    "    if accuracy_valid > best_accuracy:\n",
    "        best_model = model_tree\n",
    "        best_accuracy = accuracy_valid\n",
    "        best_amount = i\n",
    "        \n",
    "print(\"Доля правильных ответов на валидационной выборке:\", best_accuracy, \"Количесвто деревьев:\", best_amount)"
   ]
  },
  {
   "cell_type": "code",
   "execution_count": 26,
   "metadata": {},
   "outputs": [
    {
     "name": "stdout",
     "output_type": "stream",
     "text": [
      "RMSE наилучшей модели на валидационной выборке: 0.80248833592535 Глубина деревьев: 8\n"
     ]
    }
   ],
   "source": [
    "best_model = None\n",
    "best_accuracy = 0\n",
    "best_depth = 0\n",
    "for i in range(1,21):\n",
    "    model_forest = RandomForestClassifier(random_state=12345, n_estimators=14, max_depth=i)\n",
    "    model_forest.fit(features_train, target_train)\n",
    "\n",
    "    predictions_valid = model_forest.predict(features_valid)\n",
    "    accuracy_valid = accuracy_score(target_valid, predictions_valid)\n",
    "    \n",
    "    if accuracy_valid > best_accuracy:\n",
    "        best_model = model_tree\n",
    "        best_accuracy = accuracy_valid\n",
    "        best_depth = i\n",
    "        \n",
    "print(\"Доля правильных ответов наилучшей модели на валидационной выборке:\", best_accuracy, \"Глубина деревьев:\", best_depth)"
   ]
  },
  {
   "cell_type": "code",
   "execution_count": 27,
   "metadata": {},
   "outputs": [
    {
     "name": "stdout",
     "output_type": "stream",
     "text": [
      "RMSE наилучшей модели на валидационной выборке: 0.7993779160186625 Минимальное число объектов в узле дерева: 6\n"
     ]
    }
   ],
   "source": [
    "best_model = None\n",
    "best_accuracy = 0\n",
    "best_samples = 0.0\n",
    "for i in range(2, 20):\n",
    "    model_forest = RandomForestClassifier(random_state=12345, n_estimators=8, max_depth=8, min_samples_split=i)\n",
    "    model_forest.fit(features_train, target_train)\n",
    "\n",
    "    predictions_valid = model_forest.predict(features_valid)\n",
    "    accuracy_valid = accuracy_score(target_valid, predictions_valid)\n",
    "    \n",
    "    if accuracy_valid > best_accuracy:\n",
    "        best_model = model_forest\n",
    "        best_accuracy = accuracy_valid\n",
    "        best_samples = i\n",
    "        \n",
    "print(\"Доля правильных ответов наилучшей модели на валидационной выборке:\", \n",
    "      best_accuracy, \"Минимальное число объектов в узле дерева:\", best_samples)"
   ]
  },
  {
   "cell_type": "code",
   "execution_count": 28,
   "metadata": {},
   "outputs": [
    {
     "name": "stdout",
     "output_type": "stream",
     "text": [
      "Доля правильных ответов наилучшей модели на валидационной выборке: 0.8009331259720062 Минимальное число объектов в последнем узле дерева: 4\n"
     ]
    }
   ],
   "source": [
    "best_model = None\n",
    "best_accuracy = 0\n",
    "best_samples = 0.0\n",
    "for i in range(2, 20):\n",
    "    model_forest = RandomForestClassifier(random_state=12345, n_estimators=8, max_depth=8, \n",
    "                                          min_samples_split=6, min_samples_leaf=i)\n",
    "    model_forest.fit(features_train, target_train)\n",
    "\n",
    "    predictions_valid = model_forest.predict(features_valid)\n",
    "    accuracy_valid = accuracy_score(target_valid, predictions_valid)\n",
    "    \n",
    "    if accuracy_valid > best_accuracy:\n",
    "        best_model = model_forest\n",
    "        best_accuracy = accuracy_valid\n",
    "        best_samples = i\n",
    "        \n",
    "print(\"Доля правильных ответов наилучшей модели на валидационной выборке:\", best_accuracy, \n",
    "      \"Минимальное число объектов в последнем узле дерева:\", best_samples)"
   ]
  },
  {
   "cell_type": "markdown",
   "metadata": {},
   "source": [
    "Наилучшая модель имеет гиперпараметры: количесвто деревьев = 8, глубина = 8, минимальное число объектов в узле дерева = 6, минимальное число объектов в узле дерева = 4"
   ]
  },
  {
   "cell_type": "markdown",
   "metadata": {},
   "source": [
    "### Логическая регрессия"
   ]
  },
  {
   "cell_type": "code",
   "execution_count": null,
   "metadata": {},
   "outputs": [],
   "source": [
    "model_log = LogisticRegression(random_state=12345, solver='lbfgs')\n",
    "model_log.fit(features_train, target_train)\n",
    "\n",
    "predictions_valid = model_log.predict(features_valid)\n",
    "rmse_valid = mean_squared_error(target_valid, predictions_valid) ** 0.5\n",
    "print('Корень среднеквадратичного отклонения валидационной выборки:', rmse_valid)"
   ]
  },
  {
   "cell_type": "markdown",
   "metadata": {},
   "source": [
    "<div class=\"alert alert-block alert-success\">\n",
    "<b>Успех:</b> Молодец, что попробовала несколько разных моделей в этом шаге!\n",
    "</div>"
   ]
  },
  {
   "cell_type": "markdown",
   "metadata": {},
   "source": [
    "## Проверьте модель на тестовой выборке"
   ]
  },
  {
   "cell_type": "code",
   "execution_count": 32,
   "metadata": {},
   "outputs": [
    {
     "name": "stdout",
     "output_type": "stream",
     "text": [
      "Точность модели: 0.75\n"
     ]
    }
   ],
   "source": [
    "best_model_tree = DecisionTreeClassifier(random_state=12345, max_depth=7, min_samples_split=3, min_samples_leaf=11)\n",
    "best_model_tree.fit(features_train, target_train)\n",
    "\n",
    "predictions_test = best_model_tree.predict(features_test)\n",
    "precision = precision_score(target_test, predictions_test)\n",
    "print('Точность модели:', precision)"
   ]
  },
  {
   "cell_type": "code",
   "execution_count": 33,
   "metadata": {},
   "outputs": [
    {
     "name": "stdout",
     "output_type": "stream",
     "text": [
      "Точность модели: 0.7692307692307693\n"
     ]
    }
   ],
   "source": [
    "best_model_log = LogisticRegression(random_state=12345, solver='lbfgs')\n",
    "best_model_log.fit(features_train, target_train)\n",
    "\n",
    "predictions_test = best_model_log.predict(features_test)\n",
    "precision = precision_score(target_test, predictions_test)\n",
    "print('Точность модели:', precision)"
   ]
  },
  {
   "cell_type": "code",
   "execution_count": 34,
   "metadata": {},
   "outputs": [
    {
     "name": "stdout",
     "output_type": "stream",
     "text": [
      "Точность модели: 0.7777777777777778\n"
     ]
    }
   ],
   "source": [
    "best_model_forest = RandomForestClassifier(random_state=12345, n_estimators=8, max_depth=8, \n",
    "                                          min_samples_split=6, min_samples_leaf=4)\n",
    "best_model_forest.fit(features_train, target_train)\n",
    "\n",
    "predictions_test = best_model_forest.predict(features_test)\n",
    "precision = precision_score(target_test, predictions_test)\n",
    "print('Точность модели:', precision)"
   ]
  },
  {
   "cell_type": "markdown",
   "metadata": {},
   "source": [
    "В данном случае лучшая модель - случайный лес"
   ]
  },
  {
   "cell_type": "markdown",
   "metadata": {},
   "source": [
    "<div class=\"alert alert-block alert-danger\">\n",
    "<b>Ошибка:</b> На этапе тестирования нужно измерить только точность.\n",
    "</div>"
   ]
  },
  {
   "cell_type": "markdown",
   "metadata": {},
   "source": [
    "<div class=\"alert alert-block alert-warning\">\n",
    "<b>Комментарий студентки:</b> Исправила\n",
    "</div>"
   ]
  },
  {
   "cell_type": "markdown",
   "metadata": {},
   "source": [
    "<div class=\"alert alert-block alert-success\">\n",
    "<b>Успех (ревью 2):</b> Отлично!\n",
    "</div>"
   ]
  },
  {
   "cell_type": "markdown",
   "metadata": {},
   "source": [
    "## (бонус) Проверьте модели на адекватность"
   ]
  },
  {
   "cell_type": "markdown",
   "metadata": {},
   "source": [
    "<div class=\"alert alert-block alert-info\">\n",
    "<b>Совет: </b> Под проверкой на адекватность обычно понимают сравнение с какой-то глупой моделью (например, константной, то есть той, которая всегда выдает одно число). Подумай, какие числа имеет смысл предсказывать в этой задаче, посчитай точность для каждого из этих чисел. Попробуй объяснить полученные результаты.\n",
    "    <br> Проверку на адекватность лучше всего реализовывать с помощью <a href=\"https://scikit-learn.org/stable/modules/generated/sklearn.dummy.DummyClassifier.html\"> DummyClassifier </a>. \n",
    "    <br> Точность правильной константной модели должна быть равна доли бОльшего класса.\n",
    "</div>\n"
   ]
  },
  {
   "cell_type": "markdown",
   "metadata": {},
   "source": [
    "<div class=\"alert alert-block alert-warning\">\n",
    "<b>Комментарий студентки:</b> Не очень понимаю, какие числа выбрать\n",
    "</div>"
   ]
  },
  {
   "cell_type": "markdown",
   "metadata": {},
   "source": [
    "<div class=\"alert alert-block alert-info\">\n",
    "<b>Совет (ревью 2): </b> Имеет смысл выбирать только 0 и 1, так как это наши классы. Остальные числа будут всегда давать значение равное нулю. Также, можно просто применить стратегию most_frequent и тогда будет выбран наиболее часто встречающийся класс.\n",
    "</div>"
   ]
  },
  {
   "cell_type": "markdown",
   "metadata": {},
   "source": [
    "<div class=\"alert alert-block alert-info\">\n",
    "<b>Совет: </b> Не забывай про финальный вывод в конце проекта.\n",
    "</div>\n"
   ]
  },
  {
   "cell_type": "markdown",
   "metadata": {},
   "source": [
    "<div class=\"alert alert-block alert-warning\">\n",
    "<b>Комментарий студентки:</b> Написала вывод\n",
    "</div>"
   ]
  },
  {
   "cell_type": "markdown",
   "metadata": {},
   "source": [
    "## Вывод"
   ]
  },
  {
   "cell_type": "markdown",
   "metadata": {},
   "source": [
    "Я протестировала несколько разных моделей с разными гиперпараметрами, чтобы выяснить самую подходящую для решения данной задачи. Лучшую точность продемонстрировала модель \"Случайный лес\" с гиперпараметрами: количесвто деревьев = 8, глубина = 8, минимальное число объектов в узле дерева = 6, минимальное число объектов в узле дерева = 4"
   ]
  },
  {
   "cell_type": "markdown",
   "metadata": {},
   "source": [
    "<div class=\"alert alert-block alert-success\">\n",
    "<b>Успех (ревью 2):</b> Спасибо!\n",
    "</div>"
   ]
  },
  {
   "cell_type": "markdown",
   "metadata": {},
   "source": [
    "## Чек-лист готовности проекта"
   ]
  },
  {
   "cell_type": "markdown",
   "metadata": {},
   "source": [
    "Поставьте 'x' в выполненных пунктах. Далее нажмите Shift+Enter."
   ]
  },
  {
   "cell_type": "markdown",
   "metadata": {},
   "source": [
    "- [x] Jupyter Notebook открыт\n",
    "- [x] Весь код исполняется без ошибок\n",
    "- [x] Ячейки с кодом расположены в порядке исполнения\n",
    "- [x] Выполнено задание 1: данные загружены и изучены\n",
    "- [x] Выполнено задание 2: данные разбиты на три выборки\n",
    "- [x] Выполнено задание 3: проведено исследование моделей\n",
    "    - [x] Рассмотрено больше одной модели\n",
    "    - [x] Рассмотрено хотя бы 3 значения гипепараметров для какой-нибудь модели\n",
    "    - [x] Написаны выводы по результатам исследования\n",
    "- [x] Выполнено задание 3: Проведено тестирование\n",
    "- [x] Удалось достичь accuracy не меньше 0.75\n"
   ]
  }
 ],
 "metadata": {
  "ExecuteTimeLog": [
   {
    "duration": 605,
    "start_time": "2022-01-30T12:45:46.931Z"
   },
   {
    "duration": 43,
    "start_time": "2022-01-30T12:45:48.155Z"
   },
   {
    "duration": 342,
    "start_time": "2022-01-30T13:35:11.882Z"
   },
   {
    "duration": 330,
    "start_time": "2022-01-30T13:35:29.534Z"
   },
   {
    "duration": 260,
    "start_time": "2022-01-30T13:35:39.933Z"
   },
   {
    "duration": 466,
    "start_time": "2022-01-30T13:35:59.868Z"
   },
   {
    "duration": 383,
    "start_time": "2022-01-30T13:36:02.426Z"
   },
   {
    "duration": 254,
    "start_time": "2022-01-30T13:36:45.010Z"
   },
   {
    "duration": 9,
    "start_time": "2022-01-30T13:38:56.355Z"
   },
   {
    "duration": 32,
    "start_time": "2022-01-30T13:41:05.940Z"
   },
   {
    "duration": 285,
    "start_time": "2022-01-30T13:52:10.895Z"
   },
   {
    "duration": 282,
    "start_time": "2022-01-30T13:53:01.261Z"
   },
   {
    "duration": 1183,
    "start_time": "2022-01-30T13:53:07.473Z"
   },
   {
    "duration": 42,
    "start_time": "2022-01-30T13:53:08.658Z"
   },
   {
    "duration": 11,
    "start_time": "2022-01-30T13:53:08.702Z"
   },
   {
    "duration": 34,
    "start_time": "2022-01-30T13:53:08.715Z"
   },
   {
    "duration": 21,
    "start_time": "2022-01-30T13:53:21.632Z"
   },
   {
    "duration": 19,
    "start_time": "2022-01-30T13:53:42.134Z"
   },
   {
    "duration": 18,
    "start_time": "2022-01-30T13:54:19.419Z"
   },
   {
    "duration": 71,
    "start_time": "2022-01-30T13:56:20.405Z"
   },
   {
    "duration": 202,
    "start_time": "2022-01-30T13:56:46.020Z"
   },
   {
    "duration": 178,
    "start_time": "2022-01-30T13:57:10.529Z"
   },
   {
    "duration": 82,
    "start_time": "2022-01-30T13:58:08.035Z"
   },
   {
    "duration": 121,
    "start_time": "2022-01-30T13:58:17.719Z"
   },
   {
    "duration": 70,
    "start_time": "2022-01-30T13:58:34.756Z"
   },
   {
    "duration": 11,
    "start_time": "2022-01-30T14:01:06.562Z"
   },
   {
    "duration": 18,
    "start_time": "2022-01-30T14:02:36.214Z"
   },
   {
    "duration": 17,
    "start_time": "2022-01-30T14:02:37.070Z"
   },
   {
    "duration": 54,
    "start_time": "2022-01-30T14:03:34.728Z"
   },
   {
    "duration": 235,
    "start_time": "2022-01-30T14:04:57.349Z"
   },
   {
    "duration": 1023,
    "start_time": "2022-01-30T14:05:20.615Z"
   },
   {
    "duration": 975,
    "start_time": "2022-01-30T14:05:57.964Z"
   },
   {
    "duration": 4,
    "start_time": "2022-01-30T14:07:10.903Z"
   },
   {
    "duration": 406,
    "start_time": "2022-01-30T14:10:38.730Z"
   },
   {
    "duration": 15,
    "start_time": "2022-01-30T14:11:19.657Z"
   },
   {
    "duration": 14,
    "start_time": "2022-01-30T14:11:40.088Z"
   },
   {
    "duration": 15,
    "start_time": "2022-01-30T14:12:07.420Z"
   },
   {
    "duration": 33,
    "start_time": "2022-01-30T14:13:26.514Z"
   },
   {
    "duration": 36,
    "start_time": "2022-01-30T14:13:34.921Z"
   },
   {
    "duration": 307,
    "start_time": "2022-01-30T14:17:35.973Z"
   },
   {
    "duration": 60,
    "start_time": "2022-01-30T14:17:48.274Z"
   },
   {
    "duration": 951,
    "start_time": "2022-01-30T14:18:41.094Z"
   },
   {
    "duration": 1109,
    "start_time": "2022-01-30T14:18:50.179Z"
   },
   {
    "duration": 933,
    "start_time": "2022-01-30T14:19:19.249Z"
   },
   {
    "duration": 262,
    "start_time": "2022-01-30T14:22:38.023Z"
   },
   {
    "duration": 313,
    "start_time": "2022-01-30T14:23:08.323Z"
   },
   {
    "duration": 260,
    "start_time": "2022-01-30T14:23:17.929Z"
   },
   {
    "duration": 276,
    "start_time": "2022-01-30T14:23:29.577Z"
   },
   {
    "duration": 262,
    "start_time": "2022-01-30T14:24:03.344Z"
   },
   {
    "duration": 13,
    "start_time": "2022-01-30T14:25:05.612Z"
   },
   {
    "duration": 322,
    "start_time": "2022-01-30T14:25:57.052Z"
   },
   {
    "duration": 62,
    "start_time": "2022-01-30T14:26:06.839Z"
   },
   {
    "duration": 62,
    "start_time": "2022-01-30T14:26:59.286Z"
   },
   {
    "duration": 120,
    "start_time": "2022-01-30T14:28:02.802Z"
   },
   {
    "duration": 121,
    "start_time": "2022-01-30T14:28:29.996Z"
   },
   {
    "duration": 86,
    "start_time": "2022-01-30T14:28:38.263Z"
   },
   {
    "duration": 13,
    "start_time": "2022-01-30T14:28:59.928Z"
   },
   {
    "duration": 16,
    "start_time": "2022-01-30T14:29:10.705Z"
   },
   {
    "duration": 16,
    "start_time": "2022-01-30T14:29:18.484Z"
   },
   {
    "duration": 577,
    "start_time": "2022-01-30T14:38:15.642Z"
   },
   {
    "duration": 240,
    "start_time": "2022-01-30T14:39:32.327Z"
   },
   {
    "duration": 461,
    "start_time": "2022-01-30T14:39:57.369Z"
   },
   {
    "duration": 452,
    "start_time": "2022-01-30T14:40:19.905Z"
   },
   {
    "duration": 511,
    "start_time": "2022-01-30T14:40:45.806Z"
   },
   {
    "duration": 700,
    "start_time": "2022-01-30T14:40:59.642Z"
   },
   {
    "duration": 1207,
    "start_time": "2022-01-30T14:41:11.603Z"
   },
   {
    "duration": 1204,
    "start_time": "2022-01-30T14:41:27.983Z"
   },
   {
    "duration": 1190,
    "start_time": "2022-01-30T14:41:44.490Z"
   },
   {
    "duration": 17,
    "start_time": "2022-01-30T14:42:02.435Z"
   },
   {
    "duration": 17,
    "start_time": "2022-01-30T14:42:04.657Z"
   },
   {
    "duration": 944,
    "start_time": "2022-01-30T14:42:32.630Z"
   },
   {
    "duration": 1012,
    "start_time": "2022-01-30T14:42:37.740Z"
   },
   {
    "duration": 480,
    "start_time": "2022-01-30T14:42:46.331Z"
   },
   {
    "duration": 474,
    "start_time": "2022-01-30T14:43:06.196Z"
   },
   {
    "duration": 347,
    "start_time": "2022-01-30T16:11:45.431Z"
   },
   {
    "duration": 1367,
    "start_time": "2022-01-30T16:11:55.701Z"
   },
   {
    "duration": 45,
    "start_time": "2022-01-30T16:11:57.071Z"
   },
   {
    "duration": 17,
    "start_time": "2022-01-30T16:11:57.119Z"
   },
   {
    "duration": 22,
    "start_time": "2022-01-30T16:11:57.140Z"
   },
   {
    "duration": 117,
    "start_time": "2022-01-30T16:11:57.164Z"
   },
   {
    "duration": 89,
    "start_time": "2022-01-30T16:11:57.283Z"
   },
   {
    "duration": 177,
    "start_time": "2022-01-30T16:11:57.375Z"
   },
   {
    "duration": 1323,
    "start_time": "2022-01-30T16:11:57.557Z"
   },
   {
    "duration": 1389,
    "start_time": "2022-01-30T16:11:58.883Z"
   },
   {
    "duration": 724,
    "start_time": "2022-01-30T16:12:00.275Z"
   },
   {
    "duration": 734,
    "start_time": "2022-01-30T16:12:01.002Z"
   },
   {
    "duration": 46,
    "start_time": "2022-01-30T16:12:01.739Z"
   },
   {
    "duration": 219,
    "start_time": "2022-01-30T16:12:01.788Z"
   },
   {
    "duration": 22,
    "start_time": "2022-01-30T16:12:32.102Z"
   },
   {
    "duration": 36,
    "start_time": "2022-01-30T16:12:47.072Z"
   },
   {
    "duration": 37,
    "start_time": "2022-01-30T16:12:52.666Z"
   },
   {
    "duration": 44,
    "start_time": "2022-01-30T16:13:43.370Z"
   },
   {
    "duration": 45,
    "start_time": "2022-01-30T16:13:54.324Z"
   },
   {
    "duration": 381,
    "start_time": "2022-01-30T16:19:42.490Z"
   },
   {
    "duration": 45,
    "start_time": "2022-01-30T16:19:55.003Z"
   },
   {
    "duration": 15,
    "start_time": "2022-01-30T16:22:18.240Z"
   },
   {
    "duration": 54,
    "start_time": "2022-01-30T16:23:21.958Z"
   },
   {
    "duration": 58,
    "start_time": "2022-01-30T16:23:22.721Z"
   },
   {
    "duration": 19,
    "start_time": "2022-01-30T16:26:39.388Z"
   },
   {
    "duration": 48,
    "start_time": "2022-01-30T16:26:40.985Z"
   },
   {
    "duration": 48,
    "start_time": "2022-01-30T16:26:44.808Z"
   },
   {
    "duration": 5,
    "start_time": "2022-01-30T16:31:45.616Z"
   },
   {
    "duration": 20,
    "start_time": "2022-01-30T16:33:56.705Z"
   },
   {
    "duration": 51,
    "start_time": "2022-01-30T16:34:10.908Z"
   },
   {
    "duration": 49,
    "start_time": "2022-01-30T16:34:12.024Z"
   },
   {
    "duration": 9,
    "start_time": "2022-01-30T16:38:21.823Z"
   },
   {
    "duration": 5,
    "start_time": "2022-01-30T16:38:39.696Z"
   },
   {
    "duration": 377,
    "start_time": "2022-01-31T12:56:16.674Z"
   },
   {
    "duration": 1025,
    "start_time": "2022-01-31T12:56:25.324Z"
   },
   {
    "duration": 37,
    "start_time": "2022-01-31T12:56:26.350Z"
   },
   {
    "duration": 6,
    "start_time": "2022-01-31T12:56:26.388Z"
   },
   {
    "duration": 4,
    "start_time": "2022-01-31T12:56:26.395Z"
   },
   {
    "duration": 506,
    "start_time": "2022-01-31T12:56:26.400Z"
   },
   {
    "duration": -48,
    "start_time": "2022-01-31T12:56:26.955Z"
   },
   {
    "duration": -48,
    "start_time": "2022-01-31T12:56:26.956Z"
   },
   {
    "duration": -49,
    "start_time": "2022-01-31T12:56:26.958Z"
   },
   {
    "duration": -49,
    "start_time": "2022-01-31T12:56:26.960Z"
   },
   {
    "duration": -50,
    "start_time": "2022-01-31T12:56:26.962Z"
   },
   {
    "duration": -50,
    "start_time": "2022-01-31T12:56:26.963Z"
   },
   {
    "duration": -50,
    "start_time": "2022-01-31T12:56:26.964Z"
   },
   {
    "duration": -51,
    "start_time": "2022-01-31T12:56:26.966Z"
   },
   {
    "duration": -52,
    "start_time": "2022-01-31T12:56:26.968Z"
   },
   {
    "duration": -52,
    "start_time": "2022-01-31T12:56:26.969Z"
   },
   {
    "duration": -53,
    "start_time": "2022-01-31T12:56:26.971Z"
   },
   {
    "duration": -54,
    "start_time": "2022-01-31T12:56:26.972Z"
   },
   {
    "duration": 22,
    "start_time": "2022-01-31T12:57:11.582Z"
   },
   {
    "duration": 328,
    "start_time": "2022-01-31T12:57:32.573Z"
   },
   {
    "duration": 10,
    "start_time": "2022-01-31T12:58:06.146Z"
   },
   {
    "duration": 564,
    "start_time": "2022-01-31T12:58:49.312Z"
   },
   {
    "duration": 323,
    "start_time": "2022-01-31T12:59:35.184Z"
   },
   {
    "duration": 386,
    "start_time": "2022-01-31T13:00:19.088Z"
   },
   {
    "duration": 400,
    "start_time": "2022-01-31T13:01:01.114Z"
   },
   {
    "duration": 320,
    "start_time": "2022-01-31T13:01:10.367Z"
   },
   {
    "duration": 11,
    "start_time": "2022-01-31T13:01:25.993Z"
   },
   {
    "duration": 17,
    "start_time": "2022-01-31T13:02:12.760Z"
   },
   {
    "duration": 15,
    "start_time": "2022-01-31T13:02:24.941Z"
   },
   {
    "duration": 14,
    "start_time": "2022-01-31T13:08:48.585Z"
   },
   {
    "duration": 370,
    "start_time": "2022-01-31T13:08:50.088Z"
   },
   {
    "duration": 52,
    "start_time": "2022-01-31T13:09:00.723Z"
   },
   {
    "duration": 48,
    "start_time": "2022-01-31T13:10:20.703Z"
   },
   {
    "duration": 47,
    "start_time": "2022-01-31T13:10:32.046Z"
   },
   {
    "duration": 96,
    "start_time": "2022-01-31T13:11:13.621Z"
   },
   {
    "duration": 98,
    "start_time": "2022-01-31T13:12:05.025Z"
   },
   {
    "duration": 805,
    "start_time": "2022-01-31T13:13:01.469Z"
   },
   {
    "duration": 1133,
    "start_time": "2022-01-31T13:13:40.492Z"
   },
   {
    "duration": 770,
    "start_time": "2022-01-31T13:13:47.959Z"
   },
   {
    "duration": 439,
    "start_time": "2022-01-31T13:14:36.855Z"
   },
   {
    "duration": 387,
    "start_time": "2022-01-31T13:17:12.527Z"
   },
   {
    "duration": 449,
    "start_time": "2022-01-31T13:19:32.714Z"
   },
   {
    "duration": 458,
    "start_time": "2022-01-31T13:20:00.909Z"
   },
   {
    "duration": 3,
    "start_time": "2022-01-31T13:20:10.166Z"
   },
   {
    "duration": 11,
    "start_time": "2022-01-31T13:20:18.755Z"
   },
   {
    "duration": 32,
    "start_time": "2022-01-31T13:20:53.753Z"
   },
   {
    "duration": 29,
    "start_time": "2022-01-31T13:20:54.750Z"
   }
  ],
  "kernelspec": {
   "display_name": "Python 3 (ipykernel)",
   "language": "python",
   "name": "python3"
  },
  "language_info": {
   "codemirror_mode": {
    "name": "ipython",
    "version": 3
   },
   "file_extension": ".py",
   "mimetype": "text/x-python",
   "name": "python",
   "nbconvert_exporter": "python",
   "pygments_lexer": "ipython3",
   "version": "3.9.5"
  },
  "toc": {
   "base_numbering": 1,
   "nav_menu": {},
   "number_sections": true,
   "sideBar": true,
   "skip_h1_title": true,
   "title_cell": "Table of Contents",
   "title_sidebar": "Contents",
   "toc_cell": false,
   "toc_position": {},
   "toc_section_display": true,
   "toc_window_display": true
  }
 },
 "nbformat": 4,
 "nbformat_minor": 2
}
