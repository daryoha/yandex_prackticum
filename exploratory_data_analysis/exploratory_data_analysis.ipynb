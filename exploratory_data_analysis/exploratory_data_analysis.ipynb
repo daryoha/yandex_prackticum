{
 "cells": [
  {
   "cell_type": "markdown",
   "metadata": {},
   "source": [
    "<div style=\"border:solid lightblue 3px; padding: 20px\">\n",
    "<b>Дарья, привет!</b>\n",
    "\n",
    "Меня зовут Виталий Мехоношин, и я буду проверять твой проект. Предлагаю общаться на «ты» 😉\n",
    "\n",
    "Моя основная цель — не указать на совершенные тобою ошибки, а поделиться своим опытом и помочь тебе стать аналитиком данных. Тобой проделана большая работа над проектом, давай сделаем его еще лучше. Ниже ты найдешь мои комментарии. Есть несколько правил:<br>\n",
    "- <b>Пожалуйста, не перемещай, не изменяй и не удаляй комментарии.</b>\n",
    "- У комментариев могут быть приписки <b>V2, V3</b> и т.д., которые соответствуют версии проверки. \n",
    "- Еще обрати внимание на цветовую разметку:\n",
    "\n",
    "<div class=\"alert alert-danger\">\n",
    "<b>❌ Комментарий ревьюера:</b> \n",
    "Комментарии такого цвета необходимо исправить, без их отработки проект не будет принят. \n",
    "</div>\n",
    "\n",
    "<div class=\"alert alert-warning\">\n",
    "<b>⚠️ Комментарий ревьюера:</b> \n",
    "На комментарии такого цвета нужно обязательно обратить внимание. Их не должно быть много.\n",
    "</div>\n",
    "\n",
    "<div class=\"alert alert-success\">\n",
    "<b>✅ Комментарий ревьюера:</b> \n",
    "Комментарии такого цвета будут содержать лайфхаки, которые смогут улучшить твой верный код, их необязательно исправлять.\n",
    "</div>\n",
    "\n",
    "Предлагаю работать над проектом в диалоге: если ты хочешь ответить на мои комментарии — пиши об этом. Мне будет легче отследить изменения, если ты выделишь свои комментарии вот так:\n",
    "<div class=\"alert alert-info\"> <b>Комментарий студента:</b> Например, вот так.</div>\n",
    "\n",
    "Всё это поможет выполнить повторную проверку твоего проекта оперативнее."
   ]
  },
  {
   "cell_type": "markdown",
   "metadata": {},
   "source": [
    "<div style=\"border:solid lightblue 3px; padding: 20px\">\n",
    "<b>Общий комментарий ревьюера:</b>\n",
    "\n",
    "У тебя хорошая работа, все пункты выполнены качественно. Есть небольшие комментарии, их увидишь на желтом фоне, над ними желательно поработать. В остальном все супер. Можешь так же задать какие-нибудь вопросы, буду ждать твоих исправлений😊\n",
    "</div>="
   ]
  },
  {
   "cell_type": "markdown",
   "metadata": {
    "toc": true
   },
   "source": [
    "<h1>Содержание<span class=\"tocSkip\"></span></h1>\n",
    "<div class=\"toc\"><ul class=\"toc-item\"><li><span><a href=\"#Изучение-данных-из-файла\" data-toc-modified-id=\"Изучение-данных-из-файла-1\"><span class=\"toc-item-num\">1&nbsp;&nbsp;</span>Изучение данных из файла</a></span><ul class=\"toc-item\"><li><span><a href=\"#Вывод\" data-toc-modified-id=\"Вывод-1.1\"><span class=\"toc-item-num\">1.1&nbsp;&nbsp;</span>Вывод</a></span></li></ul></li><li><span><a href=\"#Предобработка-данных\" data-toc-modified-id=\"Предобработка-данных-2\"><span class=\"toc-item-num\">2&nbsp;&nbsp;</span>Предобработка данных</a></span><ul class=\"toc-item\"><li><span><a href=\"#Названия-столбцов\" data-toc-modified-id=\"Названия-столбцов-2.1\"><span class=\"toc-item-num\">2.1&nbsp;&nbsp;</span>Названия столбцов</a></span></li><li><span><a href=\"#Обработка-пропусков-в-данных\" data-toc-modified-id=\"Обработка-пропусков-в-данных-2.2\"><span class=\"toc-item-num\">2.2&nbsp;&nbsp;</span>Обработка пропусков в данных</a></span></li><li><span><a href=\"#Изменение-типов-данных\" data-toc-modified-id=\"Изменение-типов-данных-2.3\"><span class=\"toc-item-num\">2.3&nbsp;&nbsp;</span>Изменение типов данных</a></span></li></ul></li><li><span><a href=\"#Расчёты-и-добавление-результатов-в-таблицу\" data-toc-modified-id=\"Расчёты-и-добавление-результатов-в-таблицу-3\"><span class=\"toc-item-num\">3&nbsp;&nbsp;</span>Расчёты и добавление результатов в таблицу</a></span></li><li><span><a href=\"#Исследовательский-анализ-данных\" data-toc-modified-id=\"Исследовательский-анализ-данных-4\"><span class=\"toc-item-num\">4&nbsp;&nbsp;</span>Исследовательский анализ данных</a></span><ul class=\"toc-item\"><li><span><a href=\"#Гистограмма-для-площади\" data-toc-modified-id=\"Гистограмма-для-площади-4.1\"><span class=\"toc-item-num\">4.1&nbsp;&nbsp;</span>Гистограмма для площади</a></span></li><li><span><a href=\"#Гистограмма-для-цены\" data-toc-modified-id=\"Гистограмма-для-цены-4.2\"><span class=\"toc-item-num\">4.2&nbsp;&nbsp;</span>Гистограмма для цены</a></span></li><li><span><a href=\"#Гистограмма-для-числа-комнат\" data-toc-modified-id=\"Гистограмма-для-числа-комнат-4.3\"><span class=\"toc-item-num\">4.3&nbsp;&nbsp;</span>Гистограмма для числа комнат</a></span></li><li><span><a href=\"#Гистограмма-для-высоты-потолков\" data-toc-modified-id=\"Гистограмма-для-высоты-потолков-4.4\"><span class=\"toc-item-num\">4.4&nbsp;&nbsp;</span>Гистограмма для высоты потолков</a></span></li><li><span><a href=\"#Изучение-время-продажи-квартиры\" data-toc-modified-id=\"Изучение-время-продажи-квартиры-4.5\"><span class=\"toc-item-num\">4.5&nbsp;&nbsp;</span>Изучение время продажи квартиры</a></span></li><li><span><a href=\"#Влияние-различных-факторов-на-стоимость-квартиры\" data-toc-modified-id=\"Влияние-различных-факторов-на-стоимость-квартиры-4.6\"><span class=\"toc-item-num\">4.6&nbsp;&nbsp;</span>Влияние различных факторов на стоимость квартиры</a></span></li><li><span><a href=\"#10-населенных-пунктов-с-объявлениями\" data-toc-modified-id=\"10-населенных-пунктов-с-объявлениями-4.7\"><span class=\"toc-item-num\">4.7&nbsp;&nbsp;</span>10 населенных пунктов с объявлениями</a></span></li><li><span><a href=\"#Центр-Санкт-Петербурга\" data-toc-modified-id=\"Центр-Санкт-Петербурга-4.8\"><span class=\"toc-item-num\">4.8&nbsp;&nbsp;</span>Центр Санкт-Петербурга</a></span></li><li><span><a href=\"#Квартиры-в-центре-Санкт-Петербурга\" data-toc-modified-id=\"Квартиры-в-центре-Санкт-Петербурга-4.9\"><span class=\"toc-item-num\">4.9&nbsp;&nbsp;</span>Квартиры в центре Санкт-Петербурга</a></span></li></ul></li><li><span><a href=\"#Общий-вывод\" data-toc-modified-id=\"Общий-вывод-5\"><span class=\"toc-item-num\">5&nbsp;&nbsp;</span>Общий вывод</a></span></li><li><span><a href=\"#Чек-лист-готовности-проекта\" data-toc-modified-id=\"Чек-лист-готовности-проекта-6\"><span class=\"toc-item-num\">6&nbsp;&nbsp;</span>Чек-лист готовности проекта</a></span></li></ul></div>"
   ]
  },
  {
   "cell_type": "markdown",
   "metadata": {},
   "source": [
    "# Исследование объявлений о продаже квартир\n",
    "\n",
    "В вашем распоряжении данные сервиса Яндекс.Недвижимость — архив объявлений о продаже квартир в Санкт-Петербурге и соседних населённых пунктах за несколько лет. Нужно научиться определять рыночную стоимость объектов недвижимости. Ваша задача — установить параметры. Это позволит построить автоматизированную систему: она отследит аномалии и мошенническую деятельность. \n",
    "\n",
    "По каждой квартире на продажу доступны два вида данных. Первые вписаны пользователем, вторые получены автоматически на основе картографических данных. Например, расстояние до центра, аэропорта, ближайшего парка и водоёма. "
   ]
  },
  {
   "cell_type": "markdown",
   "metadata": {},
   "source": [
    "## Изучение данных из файла"
   ]
  },
  {
   "cell_type": "code",
   "execution_count": 1,
   "metadata": {
    "scrolled": false
   },
   "outputs": [
    {
     "data": {
      "text/html": [
       "<div>\n",
       "<style scoped>\n",
       "    .dataframe tbody tr th:only-of-type {\n",
       "        vertical-align: middle;\n",
       "    }\n",
       "\n",
       "    .dataframe tbody tr th {\n",
       "        vertical-align: top;\n",
       "    }\n",
       "\n",
       "    .dataframe thead th {\n",
       "        text-align: right;\n",
       "    }\n",
       "</style>\n",
       "<table border=\"1\" class=\"dataframe\">\n",
       "  <thead>\n",
       "    <tr style=\"text-align: right;\">\n",
       "      <th></th>\n",
       "      <th>total_images</th>\n",
       "      <th>last_price</th>\n",
       "      <th>total_area</th>\n",
       "      <th>first_day_exposition</th>\n",
       "      <th>rooms</th>\n",
       "      <th>ceiling_height</th>\n",
       "      <th>floors_total</th>\n",
       "      <th>living_area</th>\n",
       "      <th>floor</th>\n",
       "      <th>is_apartment</th>\n",
       "      <th>...</th>\n",
       "      <th>kitchen_area</th>\n",
       "      <th>balcony</th>\n",
       "      <th>locality_name</th>\n",
       "      <th>airports_nearest</th>\n",
       "      <th>cityCenters_nearest</th>\n",
       "      <th>parks_around3000</th>\n",
       "      <th>parks_nearest</th>\n",
       "      <th>ponds_around3000</th>\n",
       "      <th>ponds_nearest</th>\n",
       "      <th>days_exposition</th>\n",
       "    </tr>\n",
       "  </thead>\n",
       "  <tbody>\n",
       "    <tr>\n",
       "      <td>0</td>\n",
       "      <td>20</td>\n",
       "      <td>13000000.0</td>\n",
       "      <td>108.00</td>\n",
       "      <td>2019-03-07T00:00:00</td>\n",
       "      <td>3</td>\n",
       "      <td>2.70</td>\n",
       "      <td>16.0</td>\n",
       "      <td>51.00</td>\n",
       "      <td>8</td>\n",
       "      <td>NaN</td>\n",
       "      <td>...</td>\n",
       "      <td>25.00</td>\n",
       "      <td>NaN</td>\n",
       "      <td>Санкт-Петербург</td>\n",
       "      <td>18863.0</td>\n",
       "      <td>16028.0</td>\n",
       "      <td>1.0</td>\n",
       "      <td>482.0</td>\n",
       "      <td>2.0</td>\n",
       "      <td>755.0</td>\n",
       "      <td>NaN</td>\n",
       "    </tr>\n",
       "    <tr>\n",
       "      <td>1</td>\n",
       "      <td>7</td>\n",
       "      <td>3350000.0</td>\n",
       "      <td>40.40</td>\n",
       "      <td>2018-12-04T00:00:00</td>\n",
       "      <td>1</td>\n",
       "      <td>NaN</td>\n",
       "      <td>11.0</td>\n",
       "      <td>18.60</td>\n",
       "      <td>1</td>\n",
       "      <td>NaN</td>\n",
       "      <td>...</td>\n",
       "      <td>11.00</td>\n",
       "      <td>2.0</td>\n",
       "      <td>посёлок Шушары</td>\n",
       "      <td>12817.0</td>\n",
       "      <td>18603.0</td>\n",
       "      <td>0.0</td>\n",
       "      <td>NaN</td>\n",
       "      <td>0.0</td>\n",
       "      <td>NaN</td>\n",
       "      <td>81.0</td>\n",
       "    </tr>\n",
       "    <tr>\n",
       "      <td>2</td>\n",
       "      <td>10</td>\n",
       "      <td>5196000.0</td>\n",
       "      <td>56.00</td>\n",
       "      <td>2015-08-20T00:00:00</td>\n",
       "      <td>2</td>\n",
       "      <td>NaN</td>\n",
       "      <td>5.0</td>\n",
       "      <td>34.30</td>\n",
       "      <td>4</td>\n",
       "      <td>NaN</td>\n",
       "      <td>...</td>\n",
       "      <td>8.30</td>\n",
       "      <td>0.0</td>\n",
       "      <td>Санкт-Петербург</td>\n",
       "      <td>21741.0</td>\n",
       "      <td>13933.0</td>\n",
       "      <td>1.0</td>\n",
       "      <td>90.0</td>\n",
       "      <td>2.0</td>\n",
       "      <td>574.0</td>\n",
       "      <td>558.0</td>\n",
       "    </tr>\n",
       "    <tr>\n",
       "      <td>3</td>\n",
       "      <td>0</td>\n",
       "      <td>64900000.0</td>\n",
       "      <td>159.00</td>\n",
       "      <td>2015-07-24T00:00:00</td>\n",
       "      <td>3</td>\n",
       "      <td>NaN</td>\n",
       "      <td>14.0</td>\n",
       "      <td>NaN</td>\n",
       "      <td>9</td>\n",
       "      <td>NaN</td>\n",
       "      <td>...</td>\n",
       "      <td>NaN</td>\n",
       "      <td>0.0</td>\n",
       "      <td>Санкт-Петербург</td>\n",
       "      <td>28098.0</td>\n",
       "      <td>6800.0</td>\n",
       "      <td>2.0</td>\n",
       "      <td>84.0</td>\n",
       "      <td>3.0</td>\n",
       "      <td>234.0</td>\n",
       "      <td>424.0</td>\n",
       "    </tr>\n",
       "    <tr>\n",
       "      <td>4</td>\n",
       "      <td>2</td>\n",
       "      <td>10000000.0</td>\n",
       "      <td>100.00</td>\n",
       "      <td>2018-06-19T00:00:00</td>\n",
       "      <td>2</td>\n",
       "      <td>3.03</td>\n",
       "      <td>14.0</td>\n",
       "      <td>32.00</td>\n",
       "      <td>13</td>\n",
       "      <td>NaN</td>\n",
       "      <td>...</td>\n",
       "      <td>41.00</td>\n",
       "      <td>NaN</td>\n",
       "      <td>Санкт-Петербург</td>\n",
       "      <td>31856.0</td>\n",
       "      <td>8098.0</td>\n",
       "      <td>2.0</td>\n",
       "      <td>112.0</td>\n",
       "      <td>1.0</td>\n",
       "      <td>48.0</td>\n",
       "      <td>121.0</td>\n",
       "    </tr>\n",
       "    <tr>\n",
       "      <td>5</td>\n",
       "      <td>10</td>\n",
       "      <td>2890000.0</td>\n",
       "      <td>30.40</td>\n",
       "      <td>2018-09-10T00:00:00</td>\n",
       "      <td>1</td>\n",
       "      <td>NaN</td>\n",
       "      <td>12.0</td>\n",
       "      <td>14.40</td>\n",
       "      <td>5</td>\n",
       "      <td>NaN</td>\n",
       "      <td>...</td>\n",
       "      <td>9.10</td>\n",
       "      <td>NaN</td>\n",
       "      <td>городской посёлок Янино-1</td>\n",
       "      <td>NaN</td>\n",
       "      <td>NaN</td>\n",
       "      <td>NaN</td>\n",
       "      <td>NaN</td>\n",
       "      <td>NaN</td>\n",
       "      <td>NaN</td>\n",
       "      <td>55.0</td>\n",
       "    </tr>\n",
       "    <tr>\n",
       "      <td>6</td>\n",
       "      <td>6</td>\n",
       "      <td>3700000.0</td>\n",
       "      <td>37.30</td>\n",
       "      <td>2017-11-02T00:00:00</td>\n",
       "      <td>1</td>\n",
       "      <td>NaN</td>\n",
       "      <td>26.0</td>\n",
       "      <td>10.60</td>\n",
       "      <td>6</td>\n",
       "      <td>NaN</td>\n",
       "      <td>...</td>\n",
       "      <td>14.40</td>\n",
       "      <td>1.0</td>\n",
       "      <td>посёлок Парголово</td>\n",
       "      <td>52996.0</td>\n",
       "      <td>19143.0</td>\n",
       "      <td>0.0</td>\n",
       "      <td>NaN</td>\n",
       "      <td>0.0</td>\n",
       "      <td>NaN</td>\n",
       "      <td>155.0</td>\n",
       "    </tr>\n",
       "    <tr>\n",
       "      <td>7</td>\n",
       "      <td>5</td>\n",
       "      <td>7915000.0</td>\n",
       "      <td>71.60</td>\n",
       "      <td>2019-04-18T00:00:00</td>\n",
       "      <td>2</td>\n",
       "      <td>NaN</td>\n",
       "      <td>24.0</td>\n",
       "      <td>NaN</td>\n",
       "      <td>22</td>\n",
       "      <td>NaN</td>\n",
       "      <td>...</td>\n",
       "      <td>18.90</td>\n",
       "      <td>2.0</td>\n",
       "      <td>Санкт-Петербург</td>\n",
       "      <td>23982.0</td>\n",
       "      <td>11634.0</td>\n",
       "      <td>0.0</td>\n",
       "      <td>NaN</td>\n",
       "      <td>0.0</td>\n",
       "      <td>NaN</td>\n",
       "      <td>NaN</td>\n",
       "    </tr>\n",
       "    <tr>\n",
       "      <td>8</td>\n",
       "      <td>20</td>\n",
       "      <td>2900000.0</td>\n",
       "      <td>33.16</td>\n",
       "      <td>2018-05-23T00:00:00</td>\n",
       "      <td>1</td>\n",
       "      <td>NaN</td>\n",
       "      <td>27.0</td>\n",
       "      <td>15.43</td>\n",
       "      <td>26</td>\n",
       "      <td>NaN</td>\n",
       "      <td>...</td>\n",
       "      <td>8.81</td>\n",
       "      <td>NaN</td>\n",
       "      <td>посёлок Мурино</td>\n",
       "      <td>NaN</td>\n",
       "      <td>NaN</td>\n",
       "      <td>NaN</td>\n",
       "      <td>NaN</td>\n",
       "      <td>NaN</td>\n",
       "      <td>NaN</td>\n",
       "      <td>189.0</td>\n",
       "    </tr>\n",
       "    <tr>\n",
       "      <td>9</td>\n",
       "      <td>18</td>\n",
       "      <td>5400000.0</td>\n",
       "      <td>61.00</td>\n",
       "      <td>2017-02-26T00:00:00</td>\n",
       "      <td>3</td>\n",
       "      <td>2.50</td>\n",
       "      <td>9.0</td>\n",
       "      <td>43.60</td>\n",
       "      <td>7</td>\n",
       "      <td>NaN</td>\n",
       "      <td>...</td>\n",
       "      <td>6.50</td>\n",
       "      <td>2.0</td>\n",
       "      <td>Санкт-Петербург</td>\n",
       "      <td>50898.0</td>\n",
       "      <td>15008.0</td>\n",
       "      <td>0.0</td>\n",
       "      <td>NaN</td>\n",
       "      <td>0.0</td>\n",
       "      <td>NaN</td>\n",
       "      <td>289.0</td>\n",
       "    </tr>\n",
       "  </tbody>\n",
       "</table>\n",
       "<p>10 rows × 22 columns</p>\n",
       "</div>"
      ],
      "text/plain": [
       "   total_images  last_price  total_area first_day_exposition  rooms  \\\n",
       "0            20  13000000.0      108.00  2019-03-07T00:00:00      3   \n",
       "1             7   3350000.0       40.40  2018-12-04T00:00:00      1   \n",
       "2            10   5196000.0       56.00  2015-08-20T00:00:00      2   \n",
       "3             0  64900000.0      159.00  2015-07-24T00:00:00      3   \n",
       "4             2  10000000.0      100.00  2018-06-19T00:00:00      2   \n",
       "5            10   2890000.0       30.40  2018-09-10T00:00:00      1   \n",
       "6             6   3700000.0       37.30  2017-11-02T00:00:00      1   \n",
       "7             5   7915000.0       71.60  2019-04-18T00:00:00      2   \n",
       "8            20   2900000.0       33.16  2018-05-23T00:00:00      1   \n",
       "9            18   5400000.0       61.00  2017-02-26T00:00:00      3   \n",
       "\n",
       "   ceiling_height  floors_total  living_area  floor is_apartment  ...  \\\n",
       "0            2.70          16.0        51.00      8          NaN  ...   \n",
       "1             NaN          11.0        18.60      1          NaN  ...   \n",
       "2             NaN           5.0        34.30      4          NaN  ...   \n",
       "3             NaN          14.0          NaN      9          NaN  ...   \n",
       "4            3.03          14.0        32.00     13          NaN  ...   \n",
       "5             NaN          12.0        14.40      5          NaN  ...   \n",
       "6             NaN          26.0        10.60      6          NaN  ...   \n",
       "7             NaN          24.0          NaN     22          NaN  ...   \n",
       "8             NaN          27.0        15.43     26          NaN  ...   \n",
       "9            2.50           9.0        43.60      7          NaN  ...   \n",
       "\n",
       "   kitchen_area  balcony              locality_name  airports_nearest  \\\n",
       "0         25.00      NaN            Санкт-Петербург           18863.0   \n",
       "1         11.00      2.0             посёлок Шушары           12817.0   \n",
       "2          8.30      0.0            Санкт-Петербург           21741.0   \n",
       "3           NaN      0.0            Санкт-Петербург           28098.0   \n",
       "4         41.00      NaN            Санкт-Петербург           31856.0   \n",
       "5          9.10      NaN  городской посёлок Янино-1               NaN   \n",
       "6         14.40      1.0          посёлок Парголово           52996.0   \n",
       "7         18.90      2.0            Санкт-Петербург           23982.0   \n",
       "8          8.81      NaN             посёлок Мурино               NaN   \n",
       "9          6.50      2.0            Санкт-Петербург           50898.0   \n",
       "\n",
       "  cityCenters_nearest  parks_around3000  parks_nearest  ponds_around3000  \\\n",
       "0             16028.0               1.0          482.0               2.0   \n",
       "1             18603.0               0.0            NaN               0.0   \n",
       "2             13933.0               1.0           90.0               2.0   \n",
       "3              6800.0               2.0           84.0               3.0   \n",
       "4              8098.0               2.0          112.0               1.0   \n",
       "5                 NaN               NaN            NaN               NaN   \n",
       "6             19143.0               0.0            NaN               0.0   \n",
       "7             11634.0               0.0            NaN               0.0   \n",
       "8                 NaN               NaN            NaN               NaN   \n",
       "9             15008.0               0.0            NaN               0.0   \n",
       "\n",
       "   ponds_nearest  days_exposition  \n",
       "0          755.0              NaN  \n",
       "1            NaN             81.0  \n",
       "2          574.0            558.0  \n",
       "3          234.0            424.0  \n",
       "4           48.0            121.0  \n",
       "5            NaN             55.0  \n",
       "6            NaN            155.0  \n",
       "7            NaN              NaN  \n",
       "8            NaN            189.0  \n",
       "9            NaN            289.0  \n",
       "\n",
       "[10 rows x 22 columns]"
      ]
     },
     "metadata": {},
     "output_type": "display_data"
    }
   ],
   "source": [
    "import pandas as pd\n",
    "data = pd.read_csv('/datasets/real_estate_data.csv', sep='\\t')\n",
    "# просмотр первых десяти строчек в таблице data\n",
    "display(data.head(10))"
   ]
  },
  {
   "cell_type": "code",
   "execution_count": 2,
   "metadata": {},
   "outputs": [
    {
     "name": "stdout",
     "output_type": "stream",
     "text": [
      "<class 'pandas.core.frame.DataFrame'>\n",
      "RangeIndex: 23699 entries, 0 to 23698\n",
      "Data columns (total 22 columns):\n",
      "total_images            23699 non-null int64\n",
      "last_price              23699 non-null float64\n",
      "total_area              23699 non-null float64\n",
      "first_day_exposition    23699 non-null object\n",
      "rooms                   23699 non-null int64\n",
      "ceiling_height          14504 non-null float64\n",
      "floors_total            23613 non-null float64\n",
      "living_area             21796 non-null float64\n",
      "floor                   23699 non-null int64\n",
      "is_apartment            2775 non-null object\n",
      "studio                  23699 non-null bool\n",
      "open_plan               23699 non-null bool\n",
      "kitchen_area            21421 non-null float64\n",
      "balcony                 12180 non-null float64\n",
      "locality_name           23650 non-null object\n",
      "airports_nearest        18157 non-null float64\n",
      "cityCenters_nearest     18180 non-null float64\n",
      "parks_around3000        18181 non-null float64\n",
      "parks_nearest           8079 non-null float64\n",
      "ponds_around3000        18181 non-null float64\n",
      "ponds_nearest           9110 non-null float64\n",
      "days_exposition         20518 non-null float64\n",
      "dtypes: bool(2), float64(14), int64(3), object(3)\n",
      "memory usage: 3.7+ MB\n"
     ]
    }
   ],
   "source": [
    "# получение общей информации о данных в таблице data\n",
    "data.info()"
   ]
  },
  {
   "cell_type": "markdown",
   "metadata": {},
   "source": [
    "### Вывод"
   ]
  },
  {
   "cell_type": "markdown",
   "metadata": {},
   "source": [
    "Первое, что бросается в глаза - это большое количество пропусков в данных. Также в столбце first_day_exposition все время равно 0:00."
   ]
  },
  {
   "cell_type": "markdown",
   "metadata": {},
   "source": [
    "<div class=\"alert alert-success\">\n",
    "<b>✅ Комментарий ревьюера:</b> \n",
    "\n",
    "Хороший первый взгляд на данные. Могу еще добавлять метод `describe` при первичной оценке.\n",
    "</div>"
   ]
  },
  {
   "cell_type": "markdown",
   "metadata": {},
   "source": [
    "## Предобработка данных"
   ]
  },
  {
   "cell_type": "markdown",
   "metadata": {},
   "source": [
    "### Названия столбцов"
   ]
  },
  {
   "cell_type": "code",
   "execution_count": 3,
   "metadata": {
    "scrolled": false
   },
   "outputs": [
    {
     "data": {
      "text/plain": [
       "['total_images',\n",
       " 'last_price',\n",
       " 'total_area',\n",
       " 'first_day_exposition',\n",
       " 'rooms',\n",
       " 'ceiling_height',\n",
       " 'floors_total',\n",
       " 'living_area',\n",
       " 'floor',\n",
       " 'is_apartment',\n",
       " 'studio',\n",
       " 'open_plan',\n",
       " 'kitchen_area',\n",
       " 'balcony',\n",
       " 'locality_name',\n",
       " 'airports_nearest',\n",
       " 'cityCenters_nearest',\n",
       " 'parks_around3000',\n",
       " 'parks_nearest',\n",
       " 'ponds_around3000',\n",
       " 'ponds_nearest',\n",
       " 'days_exposition']"
      ]
     },
     "metadata": {},
     "output_type": "display_data"
    }
   ],
   "source": [
    "# проверим правильно ли записаны названия столбцов таблицы data\n",
    "display(data.columns.to_list())"
   ]
  },
  {
   "cell_type": "markdown",
   "metadata": {},
   "source": [
    "<div class=\"alert alert-success\">\n",
    "<b>✅ Комментарий ревьюера:</b> \n",
    "\n",
    "В данном случае необязательно пользоваться `display`\n",
    "</div>"
   ]
  },
  {
   "cell_type": "code",
   "execution_count": 4,
   "metadata": {},
   "outputs": [],
   "source": [
    "# переименуем неправильно названные столбцы\n",
    "data = data.rename(columns={'cityCenters_nearest':'city_centers_nearest', \n",
    "                            'parks_around3000':'parks_around_3000',\n",
    "                            'ponds_around3000':'ponds_around_3000'})"
   ]
  },
  {
   "cell_type": "markdown",
   "metadata": {},
   "source": [
    "В названии трех столбцов были ошибки, которые я исправила"
   ]
  },
  {
   "cell_type": "markdown",
   "metadata": {},
   "source": [
    "### Обработка пропусков в данных"
   ]
  },
  {
   "cell_type": "code",
   "execution_count": 5,
   "metadata": {},
   "outputs": [
    {
     "data": {
      "text/plain": [
       "total_images                0\n",
       "last_price                  0\n",
       "total_area                  0\n",
       "first_day_exposition        0\n",
       "rooms                       0\n",
       "ceiling_height           9195\n",
       "floors_total               86\n",
       "living_area              1903\n",
       "floor                       0\n",
       "is_apartment            20924\n",
       "studio                      0\n",
       "open_plan                   0\n",
       "kitchen_area             2278\n",
       "balcony                 11519\n",
       "locality_name              49\n",
       "airports_nearest         5542\n",
       "city_centers_nearest     5519\n",
       "parks_around_3000        5518\n",
       "parks_nearest           15620\n",
       "ponds_around_3000        5518\n",
       "ponds_nearest           14589\n",
       "days_exposition          3181\n",
       "dtype: int64"
      ]
     },
     "metadata": {},
     "output_type": "display_data"
    }
   ],
   "source": [
    "# подсчёт пропусков\n",
    "display(data.isna().sum())"
   ]
  },
  {
   "cell_type": "markdown",
   "metadata": {},
   "source": [
    "Мной были обнаружены пропуски в данных в ceiling_height, floors_total, living_area, is_apartment, kitchen_area, balcony, locality_name, airports_nearest, city_centers_nearest, parks_around_3000, parks_nearest, ponds_around_3000, ponds_nearest, days_exposition"
   ]
  },
  {
   "cell_type": "markdown",
   "metadata": {},
   "source": [
    "Можем предположить, что пропуски данных в графах balcony, parks_around_3000, ponds_around_3000 означают, что у квартиры нет балконов и рядом нет парка и пруда, значит, можно заменить на 0. "
   ]
  },
  {
   "cell_type": "code",
   "execution_count": 6,
   "metadata": {},
   "outputs": [],
   "source": [
    "data['balcony'] = data['balcony'].fillna(0)\n",
    "data['parks_around_3000'] = data['parks_around_3000'].fillna(0)\n",
    "data['ponds_around_3000'] = data['ponds_around_3000'].fillna(0)"
   ]
  },
  {
   "cell_type": "markdown",
   "metadata": {},
   "source": [
    "В столбце locality_name заменим пропуски на 'unknown', стоит обратить внимание своих коллег и коллежанок на эти объявления, так как это крайне странно выставлять недвижимость без адреса местонахождения, это могут быть мошенические объявления. Тоже самое сделаем с столбцом floors_total, эти пропуски случилось либо потому что постройка одноэтажная, либо просто арендодатели забыли указать."
   ]
  },
  {
   "cell_type": "code",
   "execution_count": 7,
   "metadata": {
    "scrolled": false
   },
   "outputs": [],
   "source": [
    "data['locality_name'] = data['locality_name'].fillna('unknown')\n",
    "data['floors_total'] = data['floors_total'].fillna('unknown')"
   ]
  },
  {
   "cell_type": "markdown",
   "metadata": {},
   "source": [
    "<div class=\"alert alert-success\">\n",
    "<b>✅ Комментарий ревьюера:</b> \n",
    "\n",
    "C  заполнением согласен, рассуждения логичны.\n",
    "</div>"
   ]
  },
  {
   "cell_type": "markdown",
   "metadata": {},
   "source": [
    "В столбце days_exposition пропуски заменим на 0, пропуски в данных появились, потому что на момент взятия данных объявление еще не было снято."
   ]
  },
  {
   "cell_type": "code",
   "execution_count": 8,
   "metadata": {},
   "outputs": [],
   "source": [
    "data['days_exposition'] = data['days_exposition'].fillna(0)"
   ]
  },
  {
   "cell_type": "markdown",
   "metadata": {},
   "source": [
    "<div class=\"alert alert-success\">\n",
    "<b>✅ Комментарий ревьюера:</b> \n",
    "\n",
    "Главное потом не забыть про этот ноль.\n",
    "</div>"
   ]
  },
  {
   "cell_type": "markdown",
   "metadata": {},
   "source": [
    "Столбцы is_apartment и studio взаимоисключающие, так как в данном случае жилье бывает два типа квартира, студия или свободная планировка."
   ]
  },
  {
   "cell_type": "code",
   "execution_count": 9,
   "metadata": {
    "scrolled": false
   },
   "outputs": [],
   "source": [
    "data['is_apartment'] = data.loc[(data['studio']==False) & (data['open_plan']==False), 'is_apartment'].fillna(True)"
   ]
  },
  {
   "cell_type": "markdown",
   "metadata": {},
   "source": [
    "Оставшиеся пропуски в данных заменим на False, так как они остались потому что в графах studio или open_plan стоит True."
   ]
  },
  {
   "cell_type": "code",
   "execution_count": 10,
   "metadata": {
    "scrolled": false
   },
   "outputs": [],
   "source": [
    "data['is_apartment'] = data['is_apartment'].fillna(False)"
   ]
  },
  {
   "cell_type": "markdown",
   "metadata": {},
   "source": [
    "В столбцах parks_nearest, ponds_nearest, airports_nearest интуитивно хочется заменить на ноль, но это может сказаться на результатах исследования, поэтому заменим на медианное значение в это населенном пункте. Тоже самое проделаем и со столбцом city_centers_nearest. "
   ]
  },
  {
   "cell_type": "code",
   "execution_count": 11,
   "metadata": {
    "scrolled": true
   },
   "outputs": [],
   "source": [
    "# начнем с parks_nearest\n",
    "data_grouped = data.groupby('locality_name')['parks_nearest'].mean()\n",
    "\n",
    "def func_for_parks(row):\n",
    "    if pd.isna(row['parks_nearest']):\n",
    "        return data_grouped.loc[row['locality_name']]\n",
    "    return row['parks_nearest']\n",
    "\n",
    "data['parks_nearest'] = data.apply(func_for_parks, axis=1)"
   ]
  },
  {
   "cell_type": "code",
   "execution_count": 12,
   "metadata": {},
   "outputs": [],
   "source": [
    "# для ponds_nearest\n",
    "data_grouped = data.groupby('locality_name')['ponds_nearest'].mean()\n",
    "\n",
    "def func_for_ponds(row):\n",
    "    if pd.isna(row['ponds_nearest']):\n",
    "        return data_grouped.loc[row['locality_name']]\n",
    "    return row['ponds_nearest']\n",
    "\n",
    "data['ponds_nearest'] = data.apply(func_for_ponds, axis=1)"
   ]
  },
  {
   "cell_type": "code",
   "execution_count": 13,
   "metadata": {},
   "outputs": [],
   "source": [
    "# для airports_nearest\n",
    "data_grouped = data.groupby('locality_name')['airports_nearest'].mean()\n",
    "\n",
    "def func_for_airports(row):\n",
    "    if pd.isna(row['airports_nearest']):\n",
    "        return data_grouped.loc[row['locality_name']]\n",
    "    return row['airports_nearest']\n",
    "\n",
    "data['parks_nearest'] = data.apply(func_for_airports, axis=1)"
   ]
  },
  {
   "cell_type": "code",
   "execution_count": 14,
   "metadata": {},
   "outputs": [],
   "source": [
    "# для city_centers_nearest\n",
    "data_grouped = data.groupby('locality_name')['city_centers_nearest'].mean()\n",
    "\n",
    "def func_for_city_centers(row):\n",
    "    if pd.isna(row['city_centers_nearest']):\n",
    "        return data_grouped.loc[row['locality_name']]\n",
    "    return row['city_centers_nearest']\n",
    "\n",
    "data['city_centers_nearest'] = data.apply(func_for_city_centers, axis=1)"
   ]
  },
  {
   "cell_type": "markdown",
   "metadata": {},
   "source": [
    "<div class=\"alert alert-success\">\n",
    "<b>✅ Комментарий ревьюера:</b> \n",
    "\n",
    "Хорошо, что оптимизируешь свою работу с помощью функций, только они у тебя практически одинаковые, меняется только параметр. Дак используй его, чтобы создать только одну функцию - она будет принимать этот параметр.\n",
    "</div>"
   ]
  },
  {
   "cell_type": "markdown",
   "metadata": {},
   "source": [
    "<div class=\"alert alert-info\">\n",
    "\n",
    "**Комментарий студентки**\n",
    "    \n",
    "Мне тоже такая идея сразу пришла в голову, но я не очень поняла как передавать в apply еще один аргумент (название столбца). Я хотела сделать цикл, который ходит по списку из нужных мне столбцов и применяет общюю функцию</div>"
   ]
  },
  {
   "cell_type": "markdown",
   "metadata": {},
   "source": [
    "<div class=\"alert alert-success\">\n",
    "<b>✅ Комментарий ревьюера V2:</b> \n",
    "\n",
    "Попробуй вот так `data['city_centers_nearest'] = data.apply(lambda row: func_for_city_centers(row, param) , axis=1)`\n",
    "</div>"
   ]
  },
  {
   "cell_type": "markdown",
   "metadata": {},
   "source": [
    "К сожалению, пропуски в данных все еще остались, полагаю, это случилось из-за того, что некоторая недвижимость имеет уникальное значение в locality_name, поэтому если у нее в столбцах parks_nearest, ponds_nearest, airports_nearest, city_centers_nearest Nan, то невозможно посчитать медиану, а значит и невозможно заполнить пропуски. Так как таких пропусков достаточно много, то заменю их на 0. "
   ]
  },
  {
   "cell_type": "code",
   "execution_count": 15,
   "metadata": {},
   "outputs": [],
   "source": [
    "data['parks_nearest'] = data['parks_nearest'].fillna(0)\n",
    "data['ponds_nearest'] = data['ponds_nearest'].fillna(0)\n",
    "data['airports_nearest'] = data['airports_nearest'].fillna(0)\n",
    "data['city_centers_nearest'] = data['city_centers_nearest'].fillna(0)"
   ]
  },
  {
   "cell_type": "markdown",
   "metadata": {},
   "source": [
    "<div class=\"alert alert-warning\">\n",
    "<b>⚠️ Комментарий ревьюера:</b> \n",
    "\n",
    "Не совсем согласен, т.к. расстояния вряд ли предсказуемы, лучше оставить их как есть.\n",
    "</div>"
   ]
  },
  {
   "cell_type": "markdown",
   "metadata": {},
   "source": [
    "<div class=\"alert alert-info\">\n",
    "\n",
    "**Комментарий студентки**\n",
    "    \n",
    "То есть можно просто оставить NaN? Я просто в принципе стремилась все пропуски убрать. Можешь, пожалуйста, поподробней объяснить, а то в пропусках я себя чувствую неуверенно, я не особо понимаю когда и можно ли оставить, когда можно на 0, когда можно выкинуть и прочее</div>"
   ]
  },
  {
   "cell_type": "markdown",
   "metadata": {},
   "source": [
    "<div class=\"alert alert-success\">\n",
    "<b>✅ Комментарий ревьюера V2:</b> \n",
    "\n",
    "В описании проекта обрати внимание на пункт 2 шаг 1. Обрабатывать необязательно все параметры, т.к. им может просто не подойти подходящей замены. Взять расстояния, которые ты заполнила, данные не предсказуемы, тем более расстояния, а заполнение нулями исказит данные, то есть окажется так, что квартира располагается в пруду или водоеме - это не гуд. Другое дело, если тебе нужно поработать с типами в данных и нужно привести столбец обязательно к `int` как вариант, тогда можешь заполнить их какой-нибудь заглушкой, но не забывать про нее при подсчете стат.характеристик.\n",
    "</div>"
   ]
  },
  {
   "cell_type": "markdown",
   "metadata": {},
   "source": [
    "Пропуски в столбцах kitchen_area и living_area можно заполнить вычев из общей площади остальную и кухонную площадь, соотвесвенно."
   ]
  },
  {
   "cell_type": "code",
   "execution_count": 16,
   "metadata": {
    "scrolled": false
   },
   "outputs": [],
   "source": [
    "data['kitchen_area'] = data['kitchen_area'].fillna(data['total_area'] - data['living_area'])\n",
    "data['living_area'] = data['living_area'].fillna(data['total_area'] - data['kitchen_area'])"
   ]
  },
  {
   "cell_type": "markdown",
   "metadata": {},
   "source": [
    "<div class=\"alert alert-success\">\n",
    "<b>✅ Комментарий ревьюера:</b> \n",
    "\n",
    "Тут согласен, молодец, что используешь зависимость общей площади, жилой и кухни.\n",
    "</div>"
   ]
  },
  {
   "cell_type": "markdown",
   "metadata": {},
   "source": [
    "Но все еще пропуски остались в этих столбцах, это случилось из-за того, что в обоих столбцах kitchen_area и living_area NaN, если мы впишем 0, то это может повлиять на конечный результат, поэтому придется их отбросить"
   ]
  },
  {
   "cell_type": "code",
   "execution_count": 17,
   "metadata": {},
   "outputs": [],
   "source": [
    "data = data.dropna(subset=['living_area','kitchen_area'])"
   ]
  },
  {
   "cell_type": "markdown",
   "metadata": {},
   "source": [
    "В столбце ceiling_height заменим пропуски на медианное значение"
   ]
  },
  {
   "cell_type": "code",
   "execution_count": 18,
   "metadata": {},
   "outputs": [],
   "source": [
    "data['ceiling_height'] = data.fillna(data['ceiling_height'].mean())"
   ]
  },
  {
   "cell_type": "markdown",
   "metadata": {},
   "source": [
    "<div class=\"alert alert-success\">\n",
    "<b>✅ Комментарий ревьюера:</b> \n",
    "\n",
    "Супер, диапазон параметра достаточно узкий, среднее либо медиана отлично подойдет.\n",
    "</div>"
   ]
  },
  {
   "cell_type": "code",
   "execution_count": 19,
   "metadata": {
    "scrolled": false
   },
   "outputs": [
    {
     "data": {
      "text/plain": [
       "total_images            0\n",
       "last_price              0\n",
       "total_area              0\n",
       "first_day_exposition    0\n",
       "rooms                   0\n",
       "ceiling_height          0\n",
       "floors_total            0\n",
       "living_area             0\n",
       "floor                   0\n",
       "is_apartment            0\n",
       "studio                  0\n",
       "open_plan               0\n",
       "kitchen_area            0\n",
       "balcony                 0\n",
       "locality_name           0\n",
       "airports_nearest        0\n",
       "city_centers_nearest    0\n",
       "parks_around_3000       0\n",
       "parks_nearest           0\n",
       "ponds_around_3000       0\n",
       "ponds_nearest           0\n",
       "days_exposition         0\n",
       "dtype: int64"
      ]
     },
     "metadata": {},
     "output_type": "display_data"
    }
   ],
   "source": [
    "# проверка, что пропусков больше нет\n",
    "display(data.isna().sum())"
   ]
  },
  {
   "cell_type": "markdown",
   "metadata": {},
   "source": [
    "### Изменение типов данных"
   ]
  },
  {
   "cell_type": "markdown",
   "metadata": {},
   "source": [
    "Столбцы 'last_price', 'balcony', 'airports_nearest', 'city_centers_nearest', 'parks_around_3000', 'parks_nearest', 'ponds_around_3000', 'ponds_nearest' имеют тип float, но в них хранятся число типа int, поэтому смело можно преобразовать в int."
   ]
  },
  {
   "cell_type": "code",
   "execution_count": 20,
   "metadata": {
    "scrolled": false
   },
   "outputs": [],
   "source": [
    "# столбцы, значения которых нужно перевести в int64\n",
    "columns = ['last_price', 'balcony', 'airports_nearest', 'city_centers_nearest', \n",
    "           'parks_around_3000', 'parks_nearest', 'ponds_around_3000', 'ponds_nearest']\n",
    "# перевод значений в int64\n",
    "for column in columns:\n",
    "    data[column] = data[column].astype('int')"
   ]
  },
  {
   "cell_type": "markdown",
   "metadata": {},
   "source": [
    "Переведем столбец first_day_exposition из str в формат datetime"
   ]
  },
  {
   "cell_type": "code",
   "execution_count": 21,
   "metadata": {},
   "outputs": [],
   "source": [
    "data['first_day_exposition'] = pd.to_datetime(data['first_day_exposition'], format='%Y%m%dT%H:%M:%S')"
   ]
  },
  {
   "cell_type": "markdown",
   "metadata": {},
   "source": [
    "<div class=\"alert alert-success\">\n",
    "<b>✅ Комментарий ревьюера:</b> \n",
    "\n",
    "Работа над типами произведена корректно.\n",
    "</div>"
   ]
  },
  {
   "cell_type": "markdown",
   "metadata": {},
   "source": [
    "## Расчёты и добавление результатов в таблицу"
   ]
  },
  {
   "cell_type": "markdown",
   "metadata": {},
   "source": [
    "Посчитаем цену за квадратный метр"
   ]
  },
  {
   "cell_type": "code",
   "execution_count": 22,
   "metadata": {},
   "outputs": [],
   "source": [
    "data['price_for_meter'] = data['last_price']/data['total_area']"
   ]
  },
  {
   "cell_type": "markdown",
   "metadata": {},
   "source": [
    "Выделим в отдельный столбец день недели, месяц и год публикации объявления"
   ]
  },
  {
   "cell_type": "code",
   "execution_count": 23,
   "metadata": {},
   "outputs": [],
   "source": [
    "# создадим столбцы и присвоим им значения\n",
    "data['weekday_exposition'] = data['first_day_exposition'].dt.weekday\n",
    "data['day_exposition'] = data['first_day_exposition'].dt.day\n",
    "data['month_exposition'] = data['first_day_exposition'].dt.month\n",
    "data['year_exposition'] = data['first_day_exposition'].dt.year"
   ]
  },
  {
   "cell_type": "markdown",
   "metadata": {},
   "source": [
    "Категоризируем данные по этажам: первый, последний и другой"
   ]
  },
  {
   "cell_type": "code",
   "execution_count": 24,
   "metadata": {},
   "outputs": [],
   "source": [
    "# функция для категоризации по этажам\n",
    "def floor_group(row):\n",
    "    floor = row['floor']\n",
    "    total_floors = row['floors_total']\n",
    "    if floor == 1:\n",
    "        return 'первый'\n",
    "    elif floor == total_floors:\n",
    "        return 'последний'\n",
    "    else:\n",
    "        return 'другой'"
   ]
  },
  {
   "cell_type": "code",
   "execution_count": 25,
   "metadata": {},
   "outputs": [],
   "source": [
    "# применение функции ко всем значениям в таблице путем передавания строки\n",
    "data['floor_group'] = data.apply(floor_group, axis=1)"
   ]
  },
  {
   "cell_type": "markdown",
   "metadata": {},
   "source": [
    "Вычислим соотношение жилой и общей площади, а также отношение площади кухни к общей"
   ]
  },
  {
   "cell_type": "code",
   "execution_count": 26,
   "metadata": {},
   "outputs": [],
   "source": [
    "data['ratio_living_total'] = data['living_area']/data['total_area']\n",
    "data['ratio_kitchen_total'] = data['kitchen_area']/data['total_area']"
   ]
  },
  {
   "cell_type": "code",
   "execution_count": 27,
   "metadata": {},
   "outputs": [
    {
     "data": {
      "text/html": [
       "<div>\n",
       "<style scoped>\n",
       "    .dataframe tbody tr th:only-of-type {\n",
       "        vertical-align: middle;\n",
       "    }\n",
       "\n",
       "    .dataframe tbody tr th {\n",
       "        vertical-align: top;\n",
       "    }\n",
       "\n",
       "    .dataframe thead th {\n",
       "        text-align: right;\n",
       "    }\n",
       "</style>\n",
       "<table border=\"1\" class=\"dataframe\">\n",
       "  <thead>\n",
       "    <tr style=\"text-align: right;\">\n",
       "      <th></th>\n",
       "      <th>total_images</th>\n",
       "      <th>last_price</th>\n",
       "      <th>total_area</th>\n",
       "      <th>first_day_exposition</th>\n",
       "      <th>rooms</th>\n",
       "      <th>ceiling_height</th>\n",
       "      <th>floors_total</th>\n",
       "      <th>living_area</th>\n",
       "      <th>floor</th>\n",
       "      <th>is_apartment</th>\n",
       "      <th>...</th>\n",
       "      <th>ponds_nearest</th>\n",
       "      <th>days_exposition</th>\n",
       "      <th>price_for_meter</th>\n",
       "      <th>weekday_exposition</th>\n",
       "      <th>day_exposition</th>\n",
       "      <th>month_exposition</th>\n",
       "      <th>year_exposition</th>\n",
       "      <th>floor_group</th>\n",
       "      <th>ratio_living_total</th>\n",
       "      <th>ratio_kitchen_total</th>\n",
       "    </tr>\n",
       "  </thead>\n",
       "  <tbody>\n",
       "    <tr>\n",
       "      <td>0</td>\n",
       "      <td>20</td>\n",
       "      <td>13000000</td>\n",
       "      <td>108.00</td>\n",
       "      <td>2019-03-07</td>\n",
       "      <td>3</td>\n",
       "      <td>20</td>\n",
       "      <td>16</td>\n",
       "      <td>51.00</td>\n",
       "      <td>8</td>\n",
       "      <td>True</td>\n",
       "      <td>...</td>\n",
       "      <td>755</td>\n",
       "      <td>0.0</td>\n",
       "      <td>120370.370370</td>\n",
       "      <td>3</td>\n",
       "      <td>7</td>\n",
       "      <td>3</td>\n",
       "      <td>2019</td>\n",
       "      <td>другой</td>\n",
       "      <td>0.472222</td>\n",
       "      <td>0.231481</td>\n",
       "    </tr>\n",
       "    <tr>\n",
       "      <td>1</td>\n",
       "      <td>7</td>\n",
       "      <td>3350000</td>\n",
       "      <td>40.40</td>\n",
       "      <td>2018-12-04</td>\n",
       "      <td>1</td>\n",
       "      <td>7</td>\n",
       "      <td>11</td>\n",
       "      <td>18.60</td>\n",
       "      <td>1</td>\n",
       "      <td>True</td>\n",
       "      <td>...</td>\n",
       "      <td>573</td>\n",
       "      <td>81.0</td>\n",
       "      <td>82920.792079</td>\n",
       "      <td>1</td>\n",
       "      <td>4</td>\n",
       "      <td>12</td>\n",
       "      <td>2018</td>\n",
       "      <td>первый</td>\n",
       "      <td>0.460396</td>\n",
       "      <td>0.272277</td>\n",
       "    </tr>\n",
       "    <tr>\n",
       "      <td>2</td>\n",
       "      <td>10</td>\n",
       "      <td>5196000</td>\n",
       "      <td>56.00</td>\n",
       "      <td>2015-08-20</td>\n",
       "      <td>2</td>\n",
       "      <td>10</td>\n",
       "      <td>5</td>\n",
       "      <td>34.30</td>\n",
       "      <td>4</td>\n",
       "      <td>True</td>\n",
       "      <td>...</td>\n",
       "      <td>574</td>\n",
       "      <td>558.0</td>\n",
       "      <td>92785.714286</td>\n",
       "      <td>3</td>\n",
       "      <td>20</td>\n",
       "      <td>8</td>\n",
       "      <td>2015</td>\n",
       "      <td>другой</td>\n",
       "      <td>0.612500</td>\n",
       "      <td>0.148214</td>\n",
       "    </tr>\n",
       "    <tr>\n",
       "      <td>4</td>\n",
       "      <td>2</td>\n",
       "      <td>10000000</td>\n",
       "      <td>100.00</td>\n",
       "      <td>2018-06-19</td>\n",
       "      <td>2</td>\n",
       "      <td>2</td>\n",
       "      <td>14</td>\n",
       "      <td>32.00</td>\n",
       "      <td>13</td>\n",
       "      <td>True</td>\n",
       "      <td>...</td>\n",
       "      <td>48</td>\n",
       "      <td>121.0</td>\n",
       "      <td>100000.000000</td>\n",
       "      <td>1</td>\n",
       "      <td>19</td>\n",
       "      <td>6</td>\n",
       "      <td>2018</td>\n",
       "      <td>другой</td>\n",
       "      <td>0.320000</td>\n",
       "      <td>0.410000</td>\n",
       "    </tr>\n",
       "    <tr>\n",
       "      <td>5</td>\n",
       "      <td>10</td>\n",
       "      <td>2890000</td>\n",
       "      <td>30.40</td>\n",
       "      <td>2018-09-10</td>\n",
       "      <td>1</td>\n",
       "      <td>10</td>\n",
       "      <td>12</td>\n",
       "      <td>14.40</td>\n",
       "      <td>5</td>\n",
       "      <td>True</td>\n",
       "      <td>...</td>\n",
       "      <td>0</td>\n",
       "      <td>55.0</td>\n",
       "      <td>95065.789474</td>\n",
       "      <td>0</td>\n",
       "      <td>10</td>\n",
       "      <td>9</td>\n",
       "      <td>2018</td>\n",
       "      <td>другой</td>\n",
       "      <td>0.473684</td>\n",
       "      <td>0.299342</td>\n",
       "    </tr>\n",
       "    <tr>\n",
       "      <td>6</td>\n",
       "      <td>6</td>\n",
       "      <td>3700000</td>\n",
       "      <td>37.30</td>\n",
       "      <td>2017-11-02</td>\n",
       "      <td>1</td>\n",
       "      <td>6</td>\n",
       "      <td>26</td>\n",
       "      <td>10.60</td>\n",
       "      <td>6</td>\n",
       "      <td>True</td>\n",
       "      <td>...</td>\n",
       "      <td>598</td>\n",
       "      <td>155.0</td>\n",
       "      <td>99195.710456</td>\n",
       "      <td>3</td>\n",
       "      <td>2</td>\n",
       "      <td>11</td>\n",
       "      <td>2017</td>\n",
       "      <td>другой</td>\n",
       "      <td>0.284182</td>\n",
       "      <td>0.386059</td>\n",
       "    </tr>\n",
       "    <tr>\n",
       "      <td>7</td>\n",
       "      <td>5</td>\n",
       "      <td>7915000</td>\n",
       "      <td>71.60</td>\n",
       "      <td>2019-04-18</td>\n",
       "      <td>2</td>\n",
       "      <td>5</td>\n",
       "      <td>24</td>\n",
       "      <td>52.70</td>\n",
       "      <td>22</td>\n",
       "      <td>True</td>\n",
       "      <td>...</td>\n",
       "      <td>520</td>\n",
       "      <td>0.0</td>\n",
       "      <td>110544.692737</td>\n",
       "      <td>3</td>\n",
       "      <td>18</td>\n",
       "      <td>4</td>\n",
       "      <td>2019</td>\n",
       "      <td>другой</td>\n",
       "      <td>0.736034</td>\n",
       "      <td>0.263966</td>\n",
       "    </tr>\n",
       "    <tr>\n",
       "      <td>8</td>\n",
       "      <td>20</td>\n",
       "      <td>2900000</td>\n",
       "      <td>33.16</td>\n",
       "      <td>2018-05-23</td>\n",
       "      <td>1</td>\n",
       "      <td>20</td>\n",
       "      <td>27</td>\n",
       "      <td>15.43</td>\n",
       "      <td>26</td>\n",
       "      <td>True</td>\n",
       "      <td>...</td>\n",
       "      <td>0</td>\n",
       "      <td>189.0</td>\n",
       "      <td>87454.764777</td>\n",
       "      <td>2</td>\n",
       "      <td>23</td>\n",
       "      <td>5</td>\n",
       "      <td>2018</td>\n",
       "      <td>другой</td>\n",
       "      <td>0.465320</td>\n",
       "      <td>0.265682</td>\n",
       "    </tr>\n",
       "    <tr>\n",
       "      <td>9</td>\n",
       "      <td>18</td>\n",
       "      <td>5400000</td>\n",
       "      <td>61.00</td>\n",
       "      <td>2017-02-26</td>\n",
       "      <td>3</td>\n",
       "      <td>18</td>\n",
       "      <td>9</td>\n",
       "      <td>43.60</td>\n",
       "      <td>7</td>\n",
       "      <td>True</td>\n",
       "      <td>...</td>\n",
       "      <td>520</td>\n",
       "      <td>289.0</td>\n",
       "      <td>88524.590164</td>\n",
       "      <td>6</td>\n",
       "      <td>26</td>\n",
       "      <td>2</td>\n",
       "      <td>2017</td>\n",
       "      <td>другой</td>\n",
       "      <td>0.714754</td>\n",
       "      <td>0.106557</td>\n",
       "    </tr>\n",
       "    <tr>\n",
       "      <td>10</td>\n",
       "      <td>5</td>\n",
       "      <td>5050000</td>\n",
       "      <td>39.60</td>\n",
       "      <td>2017-11-16</td>\n",
       "      <td>1</td>\n",
       "      <td>5</td>\n",
       "      <td>12</td>\n",
       "      <td>20.30</td>\n",
       "      <td>3</td>\n",
       "      <td>True</td>\n",
       "      <td>...</td>\n",
       "      <td>553</td>\n",
       "      <td>137.0</td>\n",
       "      <td>127525.252525</td>\n",
       "      <td>3</td>\n",
       "      <td>16</td>\n",
       "      <td>11</td>\n",
       "      <td>2017</td>\n",
       "      <td>другой</td>\n",
       "      <td>0.512626</td>\n",
       "      <td>0.214646</td>\n",
       "    </tr>\n",
       "  </tbody>\n",
       "</table>\n",
       "<p>10 rows × 30 columns</p>\n",
       "</div>"
      ],
      "text/plain": [
       "    total_images  last_price  total_area first_day_exposition  rooms  \\\n",
       "0             20    13000000      108.00           2019-03-07      3   \n",
       "1              7     3350000       40.40           2018-12-04      1   \n",
       "2             10     5196000       56.00           2015-08-20      2   \n",
       "4              2    10000000      100.00           2018-06-19      2   \n",
       "5             10     2890000       30.40           2018-09-10      1   \n",
       "6              6     3700000       37.30           2017-11-02      1   \n",
       "7              5     7915000       71.60           2019-04-18      2   \n",
       "8             20     2900000       33.16           2018-05-23      1   \n",
       "9             18     5400000       61.00           2017-02-26      3   \n",
       "10             5     5050000       39.60           2017-11-16      1   \n",
       "\n",
       "   ceiling_height floors_total  living_area  floor  is_apartment  ...  \\\n",
       "0              20           16        51.00      8          True  ...   \n",
       "1               7           11        18.60      1          True  ...   \n",
       "2              10            5        34.30      4          True  ...   \n",
       "4               2           14        32.00     13          True  ...   \n",
       "5              10           12        14.40      5          True  ...   \n",
       "6               6           26        10.60      6          True  ...   \n",
       "7               5           24        52.70     22          True  ...   \n",
       "8              20           27        15.43     26          True  ...   \n",
       "9              18            9        43.60      7          True  ...   \n",
       "10              5           12        20.30      3          True  ...   \n",
       "\n",
       "    ponds_nearest  days_exposition  price_for_meter  weekday_exposition  \\\n",
       "0             755              0.0    120370.370370                   3   \n",
       "1             573             81.0     82920.792079                   1   \n",
       "2             574            558.0     92785.714286                   3   \n",
       "4              48            121.0    100000.000000                   1   \n",
       "5               0             55.0     95065.789474                   0   \n",
       "6             598            155.0     99195.710456                   3   \n",
       "7             520              0.0    110544.692737                   3   \n",
       "8               0            189.0     87454.764777                   2   \n",
       "9             520            289.0     88524.590164                   6   \n",
       "10            553            137.0    127525.252525                   3   \n",
       "\n",
       "   day_exposition  month_exposition  year_exposition  floor_group  \\\n",
       "0               7                 3             2019       другой   \n",
       "1               4                12             2018       первый   \n",
       "2              20                 8             2015       другой   \n",
       "4              19                 6             2018       другой   \n",
       "5              10                 9             2018       другой   \n",
       "6               2                11             2017       другой   \n",
       "7              18                 4             2019       другой   \n",
       "8              23                 5             2018       другой   \n",
       "9              26                 2             2017       другой   \n",
       "10             16                11             2017       другой   \n",
       "\n",
       "    ratio_living_total  ratio_kitchen_total  \n",
       "0             0.472222             0.231481  \n",
       "1             0.460396             0.272277  \n",
       "2             0.612500             0.148214  \n",
       "4             0.320000             0.410000  \n",
       "5             0.473684             0.299342  \n",
       "6             0.284182             0.386059  \n",
       "7             0.736034             0.263966  \n",
       "8             0.465320             0.265682  \n",
       "9             0.714754             0.106557  \n",
       "10            0.512626             0.214646  \n",
       "\n",
       "[10 rows x 30 columns]"
      ]
     },
     "metadata": {},
     "output_type": "display_data"
    }
   ],
   "source": [
    "# проверим выводом таблицы\n",
    "display(data.head(10))"
   ]
  },
  {
   "cell_type": "markdown",
   "metadata": {},
   "source": [
    "<div class=\"alert alert-success\">\n",
    "<b>✅ Комментарий ревьюера:</b> \n",
    "\n",
    "Все расчеты сделаны корректно, молодец. Так же с катеоризацией согласен.\n",
    "</div>"
   ]
  },
  {
   "cell_type": "markdown",
   "metadata": {},
   "source": [
    "## Исследовательский анализ данных"
   ]
  },
  {
   "cell_type": "markdown",
   "metadata": {},
   "source": [
    "### Гистограмма для площади"
   ]
  },
  {
   "cell_type": "code",
   "execution_count": 28,
   "metadata": {
    "scrolled": true
   },
   "outputs": [
    {
     "data": {
      "text/plain": [
       "<matplotlib.axes._subplots.AxesSubplot at 0x7f6eac69da10>"
      ]
     },
     "execution_count": 28,
     "metadata": {},
     "output_type": "execute_result"
    },
    {
     "data": {
      "image/png": "[encoded data removed]",
      "text/plain": [
       "<Figure size 432x288 with 1 Axes>"
      ]
     },
     "metadata": {
      "needs_background": "light"
     },
     "output_type": "display_data"
    }
   ],
   "source": [
    "data.plot(kind='hist', y='total_area', bins=20, grid=True, label='площадь')"
   ]
  },
  {
   "cell_type": "markdown",
   "metadata": {},
   "source": [
    "Большая часть квартир имеют площадь 50 метров. Реже всего - больше 170 метров."
   ]
  },
  {
   "cell_type": "markdown",
   "metadata": {},
   "source": [
    "### Гистограмма для цены"
   ]
  },
  {
   "cell_type": "code",
   "execution_count": 70,
   "metadata": {},
   "outputs": [
    {
     "data": {
      "text/plain": [
       "<matplotlib.axes._subplots.AxesSubplot at 0x7f6ea277f9d0>"
      ]
     },
     "execution_count": 70,
     "metadata": {},
     "output_type": "execute_result"
    },
    {
     "data": {
      "image/png": "[encoded data removed]",
      "text/plain": [
       "<Figure size 432x288 with 1 Axes>"
      ]
     },
     "metadata": {
      "needs_background": "light"
     },
     "output_type": "display_data"
    }
   ],
   "source": [
    "data.plot(kind='hist', y='last_price',bins=30, grid=True, label='цена')"
   ]
  },
  {
   "cell_type": "markdown",
   "metadata": {},
   "source": [
    "Я не знаю, что с этим мне сделать"
   ]
  },
  {
   "cell_type": "markdown",
   "metadata": {},
   "source": [
    "### Гистограмма для числа комнат"
   ]
  },
  {
   "cell_type": "code",
   "execution_count": 30,
   "metadata": {
    "scrolled": true
   },
   "outputs": [
    {
     "data": {
      "text/plain": [
       "<matplotlib.axes._subplots.AxesSubplot at 0x7f6eaca1fc90>"
      ]
     },
     "execution_count": 30,
     "metadata": {},
     "output_type": "execute_result"
    },
    {
     "data": {
      "image/png": "[encoded data removed]",
      "text/plain": [
       "<Figure size 432x288 with 1 Axes>"
      ]
     },
     "metadata": {
      "needs_background": "light"
     },
     "output_type": "display_data"
    }
   ],
   "source": [
    "data.plot(kind='hist', y='rooms', bins=20, grid=True, label='число комнат')"
   ]
  },
  {
   "cell_type": "markdown",
   "metadata": {},
   "source": [
    "Самые частовстречаемые квартиры - это квартиры с двумя комнатами. Самые редкие - с 6 и более комнатами. "
   ]
  },
  {
   "cell_type": "markdown",
   "metadata": {},
   "source": [
    "### Гистограмма для высоты потолков"
   ]
  },
  {
   "cell_type": "code",
   "execution_count": 31,
   "metadata": {},
   "outputs": [
    {
     "data": {
      "text/plain": [
       "<matplotlib.axes._subplots.AxesSubplot at 0x7f6eac8b3c10>"
      ]
     },
     "execution_count": 31,
     "metadata": {},
     "output_type": "execute_result"
    },
    {
     "data": {
      "image/png": "[encoded data removed]",
      "text/plain": [
       "<Figure size 432x288 with 1 Axes>"
      ]
     },
     "metadata": {
      "needs_background": "light"
     },
     "output_type": "display_data"
    }
   ],
   "source": [
    "data.plot(kind='hist', y='ceiling_height', bins=20, grid=True, label='высота потолков')"
   ]
  },
  {
   "cell_type": "markdown",
   "metadata": {},
   "source": [
    "Удивительно, но самой частой выостой потолка оказалось 12-метровые потолки. Привычные 2-метровые потолки по частоте занимают среднюю позицию. Самые редкие 18-метровые. "
   ]
  },
  {
   "cell_type": "markdown",
   "metadata": {},
   "source": [
    "### Изучение время продажи квартиры"
   ]
  },
  {
   "cell_type": "code",
   "execution_count": 32,
   "metadata": {},
   "outputs": [
    {
     "data": {
      "text/plain": [
       "<matplotlib.axes._subplots.AxesSubplot at 0x7f6eac8019d0>"
      ]
     },
     "execution_count": 32,
     "metadata": {},
     "output_type": "execute_result"
    },
    {
     "data": {
      "image/png": "[encoded data removed]",
      "text/plain": [
       "<Figure size 432x288 with 1 Axes>"
      ]
     },
     "metadata": {
      "needs_background": "light"
     },
     "output_type": "display_data"
    }
   ],
   "source": [
    "# построим график\n",
    "# так как 0 в это столбце отвечает за то, что квартира еще не продалась, \n",
    "# то уберем эти значения с графика для удобства\n",
    "data.plot(kind='hist', y='days_exposition', bins=20, grid=True, range=(1,1500),label='время продажи квартиры')"
   ]
  },
  {
   "cell_type": "markdown",
   "metadata": {},
   "source": [
    "Большая часть квартир были проданы меньше чем за 100 дней. Крайне редки случаи, когда квартиры продавались больше 600 дней. "
   ]
  },
  {
   "cell_type": "code",
   "execution_count": 33,
   "metadata": {},
   "outputs": [
    {
     "name": "stdout",
     "output_type": "stream",
     "text": [
      "Среднее значение: 159.30254103890263\n",
      "Медиана: 77.0\n"
     ]
    }
   ],
   "source": [
    "days_exposition_mean = data['days_exposition'].mean()\n",
    "print('Среднее значение:', days_exposition_mean)\n",
    "days_exposition_median = data['days_exposition'].median()\n",
    "print('Медиана:', days_exposition_median)"
   ]
  },
  {
   "cell_type": "markdown",
   "metadata": {},
   "source": [
    "<div class=\"alert alert-success\">\n",
    "<b>✅ Комментарий ревьюера:</b> \n",
    "\n",
    "Гистограммы построены верно\n",
    "</div>"
   ]
  },
  {
   "cell_type": "markdown",
   "metadata": {},
   "source": [
    "**Промежуточный вывод**"
   ]
  },
  {
   "cell_type": "markdown",
   "metadata": {},
   "source": [
    "Чаще всего квартира продается в промежутке от 1 до 100, это видно из гистограммы. Полагаю, можно считать, что продажи прошли быстро, если квартира продалась меньше чем за 74 дня, а долго, если продалась больше чем за 156 дней."
   ]
  },
  {
   "cell_type": "code",
   "execution_count": 34,
   "metadata": {},
   "outputs": [
    {
     "data": {
      "text/plain": [
       "<matplotlib.axes._subplots.AxesSubplot at 0x7f6eac657b50>"
      ]
     },
     "execution_count": 34,
     "metadata": {},
     "output_type": "execute_result"
    },
    {
     "data": {
      "image/png": "[encoded data removed]",
      "text/plain": [
       "<Figure size 432x288 with 1 Axes>"
      ]
     },
     "metadata": {
      "needs_background": "light"
     },
     "output_type": "display_data"
    }
   ],
   "source": [
    "days_exposition_column = data.query('days_exposition <= 800')\n",
    "days_exposition_column.plot(kind='hist',y='days_exposition', bins=20, grid=True, range=(1,1500),label='время продажи квартиры')"
   ]
  },
  {
   "cell_type": "markdown",
   "metadata": {},
   "source": [
    "Я не вижу никаких особенностей при убирании редких и выбивающихся значений"
   ]
  },
  {
   "cell_type": "markdown",
   "metadata": {},
   "source": [
    "<div class=\"alert alert-warning\">\n",
    "<b>⚠️ Комментарий ревьюера:</b> \n",
    "\n",
    "Не нашел выводов по построенным гистограммам.\n",
    "</div>"
   ]
  },
  {
   "cell_type": "markdown",
   "metadata": {},
   "source": [
    "<div class=\"alert alert-info\">\n",
    "\n",
    "**Комментарий студентки**\n",
    "    \n",
    "Я добавила выводы. Кроме одной, я не знаю как анализировать ее, там один столбик и вроде так явно быть не должно. И не понимаю про особенности.</div>"
   ]
  },
  {
   "cell_type": "markdown",
   "metadata": {},
   "source": [
    "### Влияние различных факторов на стоимость квартиры"
   ]
  },
  {
   "cell_type": "markdown",
   "metadata": {},
   "source": [
    "**Зависимость цены от площади**"
   ]
  },
  {
   "cell_type": "code",
   "execution_count": 35,
   "metadata": {
    "scrolled": true
   },
   "outputs": [
    {
     "data": {
      "text/plain": [
       "<matplotlib.axes._subplots.AxesSubplot at 0x7f6eac4f61d0>"
      ]
     },
     "execution_count": 35,
     "metadata": {},
     "output_type": "execute_result"
    },
    {
     "data": {
      "image/png": "[encoded data removed]",
      "text/plain": [
       "<Figure size 432x288 with 1 Axes>"
      ]
     },
     "metadata": {
      "needs_background": "light"
     },
     "output_type": "display_data"
    }
   ],
   "source": [
    "data.plot(x='last_price', y='total_area', kind='scatter', grid=True)"
   ]
  },
  {
   "cell_type": "markdown",
   "metadata": {},
   "source": [
    "Определенно есть прямая зависимость, чем больше площадь, тем больше и цена"
   ]
  },
  {
   "cell_type": "markdown",
   "metadata": {},
   "source": [
    "**Зависисмость цены от количества комнат**"
   ]
  },
  {
   "cell_type": "code",
   "execution_count": 36,
   "metadata": {
    "scrolled": true
   },
   "outputs": [
    {
     "data": {
      "text/plain": [
       "<matplotlib.axes._subplots.AxesSubplot at 0x7f6eac3a2450>"
      ]
     },
     "execution_count": 36,
     "metadata": {},
     "output_type": "execute_result"
    },
    {
     "data": {
      "image/png": "[encoded data removed]",
      "text/plain": [
       "<Figure size 432x288 with 1 Axes>"
      ]
     },
     "metadata": {
      "needs_background": "light"
     },
     "output_type": "display_data"
    }
   ],
   "source": [
    "data.plot(x='last_price', y='rooms', kind='scatter', grid=True) "
   ]
  },
  {
   "cell_type": "markdown",
   "metadata": {},
   "source": [
    "С ростом количества комнат растет и цена, правда достигнув отметки в 7 комнат идет на убыль, это связано либо со вбросами в данные, либо с недостатком данных. "
   ]
  },
  {
   "cell_type": "markdown",
   "metadata": {},
   "source": [
    "**Зависимость цены от близости до центра города**"
   ]
  },
  {
   "cell_type": "code",
   "execution_count": 37,
   "metadata": {},
   "outputs": [
    {
     "data": {
      "text/plain": [
       "<matplotlib.axes._subplots.AxesSubplot at 0x7f6eac3347d0>"
      ]
     },
     "execution_count": 37,
     "metadata": {},
     "output_type": "execute_result"
    },
    {
     "data": {
      "image/png": "[encoded data removed]",
      "text/plain": [
       "<Figure size 432x288 with 1 Axes>"
      ]
     },
     "metadata": {
      "needs_background": "light"
     },
     "output_type": "display_data"
    }
   ],
   "source": [
    "data.plot(x='last_price', y='city_centers_nearest', kind='scatter', grid=True) "
   ]
  },
  {
   "cell_type": "markdown",
   "metadata": {},
   "source": [
    "Из-за большого количества точек сложно что-либо увидеть, построим вместо диаграммы рассеяния ячеичную"
   ]
  },
  {
   "cell_type": "code",
   "execution_count": 38,
   "metadata": {
    "scrolled": false
   },
   "outputs": [
    {
     "data": {
      "text/plain": [
       "<matplotlib.axes._subplots.AxesSubplot at 0x7f6eac33bf50>"
      ]
     },
     "execution_count": 38,
     "metadata": {},
     "output_type": "execute_result"
    },
    {
     "data": {
      "image/png": "[encoded data removed]",
      "text/plain": [
       "<Figure size 432x288 with 2 Axes>"
      ]
     },
     "metadata": {
      "needs_background": "light"
     },
     "output_type": "display_data"
    }
   ],
   "source": [
    "data.plot(x='last_price', y='city_centers_nearest', kind='hexbin', gridsize=10, sharex=False) "
   ]
  },
  {
   "cell_type": "markdown",
   "metadata": {},
   "source": [
    "Прослеживается обратная зависимость (с ростом дальности от центра цена падает), но также видно, что цена остается низкой примерно при всех значениях дальности, опять-таки, считаю, что на это повлияли другие факторы. "
   ]
  },
  {
   "cell_type": "markdown",
   "metadata": {},
   "source": [
    "<div class=\"alert alert-success\">\n",
    "<b>✅ Комментарий ревьюера:</b> \n",
    "\n",
    "Зависимости описаны корректно, визуализация хорошая.\n",
    "</div>"
   ]
  },
  {
   "cell_type": "markdown",
   "metadata": {},
   "source": [
    "**Зависимость цены от этажа**"
   ]
  },
  {
   "cell_type": "code",
   "execution_count": 39,
   "metadata": {
    "scrolled": true
   },
   "outputs": [
    {
     "data": {
      "text/plain": [
       "<matplotlib.axes._subplots.AxesSubplot at 0x7f6eabea9c50>"
      ]
     },
     "execution_count": 39,
     "metadata": {},
     "output_type": "execute_result"
    },
    {
     "data": {
      "image/png": "[encoded data removed]",
      "text/plain": [
       "<Figure size 432x288 with 1 Axes>"
      ]
     },
     "metadata": {
      "needs_background": "light"
     },
     "output_type": "display_data"
    }
   ],
   "source": [
    "# я не очень понимаю как реализовать зависимость от первого, последнего и другого этажей\n",
    "data.plot(x='last_price', y='floor', kind='scatter', grid=True) "
   ]
  },
  {
   "cell_type": "markdown",
   "metadata": {},
   "source": [
    "Прослеживается обратная зависимость (чем больше этаж, тем меньше цена)"
   ]
  },
  {
   "cell_type": "markdown",
   "metadata": {},
   "source": [
    "**Зависимость цены от дня выставления на продажу**"
   ]
  },
  {
   "cell_type": "code",
   "execution_count": 40,
   "metadata": {},
   "outputs": [
    {
     "data": {
      "text/plain": [
       "<matplotlib.axes._subplots.AxesSubplot at 0x7f6eabe22190>"
      ]
     },
     "execution_count": 40,
     "metadata": {},
     "output_type": "execute_result"
    },
    {
     "data": {
      "image/png": "[encoded data removed]",
      "text/plain": [
       "<Figure size 432x288 with 1 Axes>"
      ]
     },
     "metadata": {
      "needs_background": "light"
     },
     "output_type": "display_data"
    }
   ],
   "source": [
    "data.plot(x='last_price', y='day_exposition', kind='scatter', grid=True) "
   ]
  },
  {
   "cell_type": "markdown",
   "metadata": {},
   "source": [
    "Зависимости нет"
   ]
  },
  {
   "cell_type": "markdown",
   "metadata": {},
   "source": [
    "**Зависимость цены от месяца выставления на продажу**"
   ]
  },
  {
   "cell_type": "code",
   "execution_count": 41,
   "metadata": {},
   "outputs": [
    {
     "data": {
      "text/plain": [
       "<matplotlib.axes._subplots.AxesSubplot at 0x7f6ea34645d0>"
      ]
     },
     "execution_count": 41,
     "metadata": {},
     "output_type": "execute_result"
    },
    {
     "data": {
      "image/png": "[encoded data removed]",
      "text/plain": [
       "<Figure size 432x288 with 1 Axes>"
      ]
     },
     "metadata": {
      "needs_background": "light"
     },
     "output_type": "display_data"
    }
   ],
   "source": [
    "data.plot(x='last_price', y='month_exposition', kind='scatter', grid=True) "
   ]
  },
  {
   "cell_type": "markdown",
   "metadata": {},
   "source": [
    "Зависимости нет"
   ]
  },
  {
   "cell_type": "markdown",
   "metadata": {},
   "source": [
    "**Зависимость цены от года выставления на продажу**"
   ]
  },
  {
   "cell_type": "code",
   "execution_count": 42,
   "metadata": {},
   "outputs": [
    {
     "data": {
      "text/plain": [
       "<matplotlib.axes._subplots.AxesSubplot at 0x7f6ea3446e50>"
      ]
     },
     "execution_count": 42,
     "metadata": {},
     "output_type": "execute_result"
    },
    {
     "data": {
      "image/png": "[encoded data removed]",
      "text/plain": [
       "<Figure size 432x288 with 1 Axes>"
      ]
     },
     "metadata": {
      "needs_background": "light"
     },
     "output_type": "display_data"
    }
   ],
   "source": [
    "data.plot(x='last_price', y='year_exposition', kind='scatter', grid=True)"
   ]
  },
  {
   "cell_type": "markdown",
   "metadata": {},
   "source": [
    "Сложно сказать, прослеживается легкий рост цены, а затем небольшой спад, полагаю на это может влиять инфляция"
   ]
  },
  {
   "cell_type": "markdown",
   "metadata": {},
   "source": [
    "<div class=\"alert alert-success\">\n",
    "<b>✅ Комментарий ревьюера:</b> \n",
    "\n",
    "Отлично, оценки сделаны корректно\n",
    "    \n",
    "</div>"
   ]
  },
  {
   "cell_type": "markdown",
   "metadata": {},
   "source": [
    "### 10 населенных пунктов с объявлениями"
   ]
  },
  {
   "cell_type": "code",
   "execution_count": 43,
   "metadata": {},
   "outputs": [
    {
     "data": {
      "text/plain": [
       "Санкт-Петербург      14852\n",
       "посёлок Мурино         481\n",
       "посёлок Шушары         409\n",
       "Всеволожск             371\n",
       "Пушкин                 346\n",
       "Колпино                328\n",
       "посёлок Парголово      302\n",
       "Гатчина                296\n",
       "деревня Кудрово        267\n",
       "Выборг                 204\n",
       "Name: locality_name, dtype: int64"
      ]
     },
     "execution_count": 43,
     "metadata": {},
     "output_type": "execute_result"
    }
   ],
   "source": [
    "# вывод 10 населенных пунктов с самым большим количеством объявлений\n",
    "data['locality_name'].value_counts().head(10)"
   ]
  },
  {
   "cell_type": "code",
   "execution_count": 44,
   "metadata": {},
   "outputs": [
    {
     "name": "stdout",
     "output_type": "stream",
     "text": [
      "Санкт-Петербург: 114469.4472247186\n",
      "посёлок Мурино: 86188.41064391228\n",
      "посёлок Шушары: 78899.82270097597\n",
      "Всеволожск: 68880.13102328715\n",
      "Пушкин: 103384.83637787869\n",
      "Колпино: 75344.0963448335\n",
      "посёлок Парголово: 90381.7472163572\n",
      "Гатчина: 68684.40133555017\n",
      "деревня Кудрово: 92606.42704394321\n",
      "Выборг: 58242.714226148055\n"
     ]
    }
   ],
   "source": [
    "# Рассчитаем\n",
    "print('Санкт-Петербург:', data.query('locality_name == \"Санкт-Петербург\"')['price_for_meter'].mean())\n",
    "print('посёлок Мурино:', data.query('locality_name == \"посёлок Мурино\"')['price_for_meter'].mean())\n",
    "print('посёлок Шушары:', data.query('locality_name == \"посёлок Шушары\"')['price_for_meter'].mean())\n",
    "print('Всеволожск:', data.query('locality_name == \"Всеволожск\"')['price_for_meter'].mean())\n",
    "print('Пушкин:', data.query('locality_name == \"Пушкин\"')['price_for_meter'].mean())\n",
    "print('Колпино:', data.query('locality_name == \"Колпино\"')['price_for_meter'].mean())\n",
    "print('посёлок Парголово:', data.query('locality_name == \"посёлок Парголово\"')['price_for_meter'].mean())\n",
    "print('Гатчина:', data.query('locality_name == \"Гатчина\"')['price_for_meter'].mean())\n",
    "print('деревня Кудрово:', data.query('locality_name == \"деревня Кудрово\"')['price_for_meter'].mean())\n",
    "print('Выборг:', data.query('locality_name == \"Выборг\"')['price_for_meter'].mean())"
   ]
  },
  {
   "cell_type": "markdown",
   "metadata": {},
   "source": [
    "Самая высокая средняя стоимость в Санкт_Петербурге, а самая низкая - в Выборге"
   ]
  },
  {
   "cell_type": "markdown",
   "metadata": {},
   "source": [
    "<div class=\"alert alert-success\">\n",
    "<b>✅ Комментарий ревьюера:</b> \n",
    "\n",
    "Супер, расчеты верны.\n",
    "    \n",
    "</div>"
   ]
  },
  {
   "cell_type": "markdown",
   "metadata": {},
   "source": [
    "### Центр Санкт-Петербурга"
   ]
  },
  {
   "cell_type": "code",
   "execution_count": 45,
   "metadata": {},
   "outputs": [
    {
     "data": {
      "text/html": [
       "<div>\n",
       "<style scoped>\n",
       "    .dataframe tbody tr th:only-of-type {\n",
       "        vertical-align: middle;\n",
       "    }\n",
       "\n",
       "    .dataframe tbody tr th {\n",
       "        vertical-align: top;\n",
       "    }\n",
       "\n",
       "    .dataframe thead th {\n",
       "        text-align: right;\n",
       "    }\n",
       "</style>\n",
       "<table border=\"1\" class=\"dataframe\">\n",
       "  <thead>\n",
       "    <tr style=\"text-align: right;\">\n",
       "      <th></th>\n",
       "      <th>index</th>\n",
       "      <th>total_images</th>\n",
       "      <th>last_price</th>\n",
       "      <th>total_area</th>\n",
       "      <th>first_day_exposition</th>\n",
       "      <th>rooms</th>\n",
       "      <th>ceiling_height</th>\n",
       "      <th>floors_total</th>\n",
       "      <th>living_area</th>\n",
       "      <th>floor</th>\n",
       "      <th>...</th>\n",
       "      <th>days_exposition</th>\n",
       "      <th>price_for_meter</th>\n",
       "      <th>weekday_exposition</th>\n",
       "      <th>day_exposition</th>\n",
       "      <th>month_exposition</th>\n",
       "      <th>year_exposition</th>\n",
       "      <th>floor_group</th>\n",
       "      <th>ratio_living_total</th>\n",
       "      <th>ratio_kitchen_total</th>\n",
       "      <th>to_center_kilometers</th>\n",
       "    </tr>\n",
       "  </thead>\n",
       "  <tbody>\n",
       "    <tr>\n",
       "      <td>0</td>\n",
       "      <td>0</td>\n",
       "      <td>20</td>\n",
       "      <td>13000000</td>\n",
       "      <td>108.00</td>\n",
       "      <td>2019-03-07</td>\n",
       "      <td>3</td>\n",
       "      <td>20</td>\n",
       "      <td>16</td>\n",
       "      <td>51.00</td>\n",
       "      <td>8</td>\n",
       "      <td>...</td>\n",
       "      <td>0.0</td>\n",
       "      <td>120370.370370</td>\n",
       "      <td>3</td>\n",
       "      <td>7</td>\n",
       "      <td>3</td>\n",
       "      <td>2019</td>\n",
       "      <td>другой</td>\n",
       "      <td>0.472222</td>\n",
       "      <td>0.231481</td>\n",
       "      <td>16</td>\n",
       "    </tr>\n",
       "    <tr>\n",
       "      <td>1</td>\n",
       "      <td>2</td>\n",
       "      <td>10</td>\n",
       "      <td>5196000</td>\n",
       "      <td>56.00</td>\n",
       "      <td>2015-08-20</td>\n",
       "      <td>2</td>\n",
       "      <td>10</td>\n",
       "      <td>5</td>\n",
       "      <td>34.30</td>\n",
       "      <td>4</td>\n",
       "      <td>...</td>\n",
       "      <td>558.0</td>\n",
       "      <td>92785.714286</td>\n",
       "      <td>3</td>\n",
       "      <td>20</td>\n",
       "      <td>8</td>\n",
       "      <td>2015</td>\n",
       "      <td>другой</td>\n",
       "      <td>0.612500</td>\n",
       "      <td>0.148214</td>\n",
       "      <td>14</td>\n",
       "    </tr>\n",
       "    <tr>\n",
       "      <td>2</td>\n",
       "      <td>4</td>\n",
       "      <td>2</td>\n",
       "      <td>10000000</td>\n",
       "      <td>100.00</td>\n",
       "      <td>2018-06-19</td>\n",
       "      <td>2</td>\n",
       "      <td>2</td>\n",
       "      <td>14</td>\n",
       "      <td>32.00</td>\n",
       "      <td>13</td>\n",
       "      <td>...</td>\n",
       "      <td>121.0</td>\n",
       "      <td>100000.000000</td>\n",
       "      <td>1</td>\n",
       "      <td>19</td>\n",
       "      <td>6</td>\n",
       "      <td>2018</td>\n",
       "      <td>другой</td>\n",
       "      <td>0.320000</td>\n",
       "      <td>0.410000</td>\n",
       "      <td>8</td>\n",
       "    </tr>\n",
       "    <tr>\n",
       "      <td>3</td>\n",
       "      <td>7</td>\n",
       "      <td>5</td>\n",
       "      <td>7915000</td>\n",
       "      <td>71.60</td>\n",
       "      <td>2019-04-18</td>\n",
       "      <td>2</td>\n",
       "      <td>5</td>\n",
       "      <td>24</td>\n",
       "      <td>52.70</td>\n",
       "      <td>22</td>\n",
       "      <td>...</td>\n",
       "      <td>0.0</td>\n",
       "      <td>110544.692737</td>\n",
       "      <td>3</td>\n",
       "      <td>18</td>\n",
       "      <td>4</td>\n",
       "      <td>2019</td>\n",
       "      <td>другой</td>\n",
       "      <td>0.736034</td>\n",
       "      <td>0.263966</td>\n",
       "      <td>12</td>\n",
       "    </tr>\n",
       "    <tr>\n",
       "      <td>4</td>\n",
       "      <td>9</td>\n",
       "      <td>18</td>\n",
       "      <td>5400000</td>\n",
       "      <td>61.00</td>\n",
       "      <td>2017-02-26</td>\n",
       "      <td>3</td>\n",
       "      <td>18</td>\n",
       "      <td>9</td>\n",
       "      <td>43.60</td>\n",
       "      <td>7</td>\n",
       "      <td>...</td>\n",
       "      <td>289.0</td>\n",
       "      <td>88524.590164</td>\n",
       "      <td>6</td>\n",
       "      <td>26</td>\n",
       "      <td>2</td>\n",
       "      <td>2017</td>\n",
       "      <td>другой</td>\n",
       "      <td>0.714754</td>\n",
       "      <td>0.106557</td>\n",
       "      <td>15</td>\n",
       "    </tr>\n",
       "    <tr>\n",
       "      <td>...</td>\n",
       "      <td>...</td>\n",
       "      <td>...</td>\n",
       "      <td>...</td>\n",
       "      <td>...</td>\n",
       "      <td>...</td>\n",
       "      <td>...</td>\n",
       "      <td>...</td>\n",
       "      <td>...</td>\n",
       "      <td>...</td>\n",
       "      <td>...</td>\n",
       "      <td>...</td>\n",
       "      <td>...</td>\n",
       "      <td>...</td>\n",
       "      <td>...</td>\n",
       "      <td>...</td>\n",
       "      <td>...</td>\n",
       "      <td>...</td>\n",
       "      <td>...</td>\n",
       "      <td>...</td>\n",
       "      <td>...</td>\n",
       "      <td>...</td>\n",
       "    </tr>\n",
       "    <tr>\n",
       "      <td>14847</td>\n",
       "      <td>23689</td>\n",
       "      <td>13</td>\n",
       "      <td>3550000</td>\n",
       "      <td>35.30</td>\n",
       "      <td>2018-02-28</td>\n",
       "      <td>1</td>\n",
       "      <td>13</td>\n",
       "      <td>15</td>\n",
       "      <td>16.30</td>\n",
       "      <td>4</td>\n",
       "      <td>...</td>\n",
       "      <td>29.0</td>\n",
       "      <td>100566.572238</td>\n",
       "      <td>2</td>\n",
       "      <td>28</td>\n",
       "      <td>2</td>\n",
       "      <td>2018</td>\n",
       "      <td>другой</td>\n",
       "      <td>0.461756</td>\n",
       "      <td>0.257790</td>\n",
       "      <td>16</td>\n",
       "    </tr>\n",
       "    <tr>\n",
       "      <td>14848</td>\n",
       "      <td>23690</td>\n",
       "      <td>3</td>\n",
       "      <td>5500000</td>\n",
       "      <td>52.00</td>\n",
       "      <td>2018-07-19</td>\n",
       "      <td>2</td>\n",
       "      <td>3</td>\n",
       "      <td>5</td>\n",
       "      <td>31.00</td>\n",
       "      <td>2</td>\n",
       "      <td>...</td>\n",
       "      <td>15.0</td>\n",
       "      <td>105769.230769</td>\n",
       "      <td>3</td>\n",
       "      <td>19</td>\n",
       "      <td>7</td>\n",
       "      <td>2018</td>\n",
       "      <td>другой</td>\n",
       "      <td>0.596154</td>\n",
       "      <td>0.115385</td>\n",
       "      <td>6</td>\n",
       "    </tr>\n",
       "    <tr>\n",
       "      <td>14849</td>\n",
       "      <td>23691</td>\n",
       "      <td>11</td>\n",
       "      <td>9470000</td>\n",
       "      <td>72.90</td>\n",
       "      <td>2016-10-13</td>\n",
       "      <td>2</td>\n",
       "      <td>11</td>\n",
       "      <td>25</td>\n",
       "      <td>40.30</td>\n",
       "      <td>7</td>\n",
       "      <td>...</td>\n",
       "      <td>519.0</td>\n",
       "      <td>129903.978052</td>\n",
       "      <td>3</td>\n",
       "      <td>13</td>\n",
       "      <td>10</td>\n",
       "      <td>2016</td>\n",
       "      <td>другой</td>\n",
       "      <td>0.552812</td>\n",
       "      <td>0.145405</td>\n",
       "      <td>4</td>\n",
       "    </tr>\n",
       "    <tr>\n",
       "      <td>14850</td>\n",
       "      <td>23694</td>\n",
       "      <td>9</td>\n",
       "      <td>9700000</td>\n",
       "      <td>133.81</td>\n",
       "      <td>2017-03-21</td>\n",
       "      <td>3</td>\n",
       "      <td>9</td>\n",
       "      <td>5</td>\n",
       "      <td>73.30</td>\n",
       "      <td>3</td>\n",
       "      <td>...</td>\n",
       "      <td>0.0</td>\n",
       "      <td>72490.845228</td>\n",
       "      <td>1</td>\n",
       "      <td>21</td>\n",
       "      <td>3</td>\n",
       "      <td>2017</td>\n",
       "      <td>другой</td>\n",
       "      <td>0.547792</td>\n",
       "      <td>0.103356</td>\n",
       "      <td>4</td>\n",
       "    </tr>\n",
       "    <tr>\n",
       "      <td>14851</td>\n",
       "      <td>23697</td>\n",
       "      <td>13</td>\n",
       "      <td>11475000</td>\n",
       "      <td>76.75</td>\n",
       "      <td>2017-03-28</td>\n",
       "      <td>2</td>\n",
       "      <td>13</td>\n",
       "      <td>17</td>\n",
       "      <td>53.45</td>\n",
       "      <td>12</td>\n",
       "      <td>...</td>\n",
       "      <td>602.0</td>\n",
       "      <td>149511.400651</td>\n",
       "      <td>1</td>\n",
       "      <td>28</td>\n",
       "      <td>3</td>\n",
       "      <td>2017</td>\n",
       "      <td>другой</td>\n",
       "      <td>0.696417</td>\n",
       "      <td>0.303583</td>\n",
       "      <td>10</td>\n",
       "    </tr>\n",
       "  </tbody>\n",
       "</table>\n",
       "<p>14852 rows × 32 columns</p>\n",
       "</div>"
      ],
      "text/plain": [
       "       index  total_images  last_price  total_area first_day_exposition  \\\n",
       "0          0            20    13000000      108.00           2019-03-07   \n",
       "1          2            10     5196000       56.00           2015-08-20   \n",
       "2          4             2    10000000      100.00           2018-06-19   \n",
       "3          7             5     7915000       71.60           2019-04-18   \n",
       "4          9            18     5400000       61.00           2017-02-26   \n",
       "...      ...           ...         ...         ...                  ...   \n",
       "14847  23689            13     3550000       35.30           2018-02-28   \n",
       "14848  23690             3     5500000       52.00           2018-07-19   \n",
       "14849  23691            11     9470000       72.90           2016-10-13   \n",
       "14850  23694             9     9700000      133.81           2017-03-21   \n",
       "14851  23697            13    11475000       76.75           2017-03-28   \n",
       "\n",
       "       rooms ceiling_height floors_total  living_area  floor  ...  \\\n",
       "0          3             20           16        51.00      8  ...   \n",
       "1          2             10            5        34.30      4  ...   \n",
       "2          2              2           14        32.00     13  ...   \n",
       "3          2              5           24        52.70     22  ...   \n",
       "4          3             18            9        43.60      7  ...   \n",
       "...      ...            ...          ...          ...    ...  ...   \n",
       "14847      1             13           15        16.30      4  ...   \n",
       "14848      2              3            5        31.00      2  ...   \n",
       "14849      2             11           25        40.30      7  ...   \n",
       "14850      3              9            5        73.30      3  ...   \n",
       "14851      2             13           17        53.45     12  ...   \n",
       "\n",
       "       days_exposition  price_for_meter  weekday_exposition  day_exposition  \\\n",
       "0                  0.0    120370.370370                   3               7   \n",
       "1                558.0     92785.714286                   3              20   \n",
       "2                121.0    100000.000000                   1              19   \n",
       "3                  0.0    110544.692737                   3              18   \n",
       "4                289.0     88524.590164                   6              26   \n",
       "...                ...              ...                 ...             ...   \n",
       "14847             29.0    100566.572238                   2              28   \n",
       "14848             15.0    105769.230769                   3              19   \n",
       "14849            519.0    129903.978052                   3              13   \n",
       "14850              0.0     72490.845228                   1              21   \n",
       "14851            602.0    149511.400651                   1              28   \n",
       "\n",
       "       month_exposition year_exposition  floor_group  ratio_living_total  \\\n",
       "0                     3            2019       другой            0.472222   \n",
       "1                     8            2015       другой            0.612500   \n",
       "2                     6            2018       другой            0.320000   \n",
       "3                     4            2019       другой            0.736034   \n",
       "4                     2            2017       другой            0.714754   \n",
       "...                 ...             ...          ...                 ...   \n",
       "14847                 2            2018       другой            0.461756   \n",
       "14848                 7            2018       другой            0.596154   \n",
       "14849                10            2016       другой            0.552812   \n",
       "14850                 3            2017       другой            0.547792   \n",
       "14851                 3            2017       другой            0.696417   \n",
       "\n",
       "       ratio_kitchen_total  to_center_kilometers  \n",
       "0                 0.231481                    16  \n",
       "1                 0.148214                    14  \n",
       "2                 0.410000                     8  \n",
       "3                 0.263966                    12  \n",
       "4                 0.106557                    15  \n",
       "...                    ...                   ...  \n",
       "14847             0.257790                    16  \n",
       "14848             0.115385                     6  \n",
       "14849             0.145405                     4  \n",
       "14850             0.103356                     4  \n",
       "14851             0.303583                    10  \n",
       "\n",
       "[14852 rows x 32 columns]"
      ]
     },
     "metadata": {},
     "output_type": "display_data"
    }
   ],
   "source": [
    "data_spb = data.query('locality_name == \"Санкт-Петербург\"').reset_index()\n",
    "data_spb['to_center_kilometers'] = round(data_spb['city_centers_nearest'] / 1000)\n",
    "data_spb['to_center_kilometers'] = data_spb['to_center_kilometers'].astype('int')\n",
    "display(data_spb)"
   ]
  },
  {
   "cell_type": "code",
   "execution_count": 46,
   "metadata": {},
   "outputs": [],
   "source": [
    "# посчитаем среднюю цену для каждого километра\n",
    "data_spb_grouped = data_spb.groupby('to_center_kilometers')['last_price'].mean()\n",
    "\n",
    "def func_for_price_per_km(row):\n",
    "    if pd.isna(row['last_price']):\n",
    "        return data_spb_grouped.loc[row['to_center_kilometers']]\n",
    "    return row['last_price']\n",
    "\n",
    "data_spb['price_per_km'] = data_spb.apply(func_for_price_per_km, axis=1)"
   ]
  },
  {
   "cell_type": "code",
   "execution_count": 47,
   "metadata": {},
   "outputs": [
    {
     "data": {
      "text/html": [
       "<div>\n",
       "<style scoped>\n",
       "    .dataframe tbody tr th:only-of-type {\n",
       "        vertical-align: middle;\n",
       "    }\n",
       "\n",
       "    .dataframe tbody tr th {\n",
       "        vertical-align: top;\n",
       "    }\n",
       "\n",
       "    .dataframe thead th {\n",
       "        text-align: right;\n",
       "    }\n",
       "</style>\n",
       "<table border=\"1\" class=\"dataframe\">\n",
       "  <thead>\n",
       "    <tr style=\"text-align: right;\">\n",
       "      <th></th>\n",
       "      <th>index</th>\n",
       "      <th>total_images</th>\n",
       "      <th>last_price</th>\n",
       "      <th>total_area</th>\n",
       "      <th>first_day_exposition</th>\n",
       "      <th>rooms</th>\n",
       "      <th>ceiling_height</th>\n",
       "      <th>floors_total</th>\n",
       "      <th>living_area</th>\n",
       "      <th>floor</th>\n",
       "      <th>...</th>\n",
       "      <th>price_for_meter</th>\n",
       "      <th>weekday_exposition</th>\n",
       "      <th>day_exposition</th>\n",
       "      <th>month_exposition</th>\n",
       "      <th>year_exposition</th>\n",
       "      <th>floor_group</th>\n",
       "      <th>ratio_living_total</th>\n",
       "      <th>ratio_kitchen_total</th>\n",
       "      <th>to_center_kilometers</th>\n",
       "      <th>price_per_km</th>\n",
       "    </tr>\n",
       "  </thead>\n",
       "  <tbody>\n",
       "    <tr>\n",
       "      <td>0</td>\n",
       "      <td>0</td>\n",
       "      <td>20</td>\n",
       "      <td>13000000</td>\n",
       "      <td>108.00</td>\n",
       "      <td>2019-03-07</td>\n",
       "      <td>3</td>\n",
       "      <td>20</td>\n",
       "      <td>16</td>\n",
       "      <td>51.00</td>\n",
       "      <td>8</td>\n",
       "      <td>...</td>\n",
       "      <td>120370.370370</td>\n",
       "      <td>3</td>\n",
       "      <td>7</td>\n",
       "      <td>3</td>\n",
       "      <td>2019</td>\n",
       "      <td>другой</td>\n",
       "      <td>0.472222</td>\n",
       "      <td>0.231481</td>\n",
       "      <td>16</td>\n",
       "      <td>13000000</td>\n",
       "    </tr>\n",
       "    <tr>\n",
       "      <td>1</td>\n",
       "      <td>2</td>\n",
       "      <td>10</td>\n",
       "      <td>5196000</td>\n",
       "      <td>56.00</td>\n",
       "      <td>2015-08-20</td>\n",
       "      <td>2</td>\n",
       "      <td>10</td>\n",
       "      <td>5</td>\n",
       "      <td>34.30</td>\n",
       "      <td>4</td>\n",
       "      <td>...</td>\n",
       "      <td>92785.714286</td>\n",
       "      <td>3</td>\n",
       "      <td>20</td>\n",
       "      <td>8</td>\n",
       "      <td>2015</td>\n",
       "      <td>другой</td>\n",
       "      <td>0.612500</td>\n",
       "      <td>0.148214</td>\n",
       "      <td>14</td>\n",
       "      <td>5196000</td>\n",
       "    </tr>\n",
       "    <tr>\n",
       "      <td>2</td>\n",
       "      <td>4</td>\n",
       "      <td>2</td>\n",
       "      <td>10000000</td>\n",
       "      <td>100.00</td>\n",
       "      <td>2018-06-19</td>\n",
       "      <td>2</td>\n",
       "      <td>2</td>\n",
       "      <td>14</td>\n",
       "      <td>32.00</td>\n",
       "      <td>13</td>\n",
       "      <td>...</td>\n",
       "      <td>100000.000000</td>\n",
       "      <td>1</td>\n",
       "      <td>19</td>\n",
       "      <td>6</td>\n",
       "      <td>2018</td>\n",
       "      <td>другой</td>\n",
       "      <td>0.320000</td>\n",
       "      <td>0.410000</td>\n",
       "      <td>8</td>\n",
       "      <td>10000000</td>\n",
       "    </tr>\n",
       "    <tr>\n",
       "      <td>3</td>\n",
       "      <td>7</td>\n",
       "      <td>5</td>\n",
       "      <td>7915000</td>\n",
       "      <td>71.60</td>\n",
       "      <td>2019-04-18</td>\n",
       "      <td>2</td>\n",
       "      <td>5</td>\n",
       "      <td>24</td>\n",
       "      <td>52.70</td>\n",
       "      <td>22</td>\n",
       "      <td>...</td>\n",
       "      <td>110544.692737</td>\n",
       "      <td>3</td>\n",
       "      <td>18</td>\n",
       "      <td>4</td>\n",
       "      <td>2019</td>\n",
       "      <td>другой</td>\n",
       "      <td>0.736034</td>\n",
       "      <td>0.263966</td>\n",
       "      <td>12</td>\n",
       "      <td>7915000</td>\n",
       "    </tr>\n",
       "    <tr>\n",
       "      <td>4</td>\n",
       "      <td>9</td>\n",
       "      <td>18</td>\n",
       "      <td>5400000</td>\n",
       "      <td>61.00</td>\n",
       "      <td>2017-02-26</td>\n",
       "      <td>3</td>\n",
       "      <td>18</td>\n",
       "      <td>9</td>\n",
       "      <td>43.60</td>\n",
       "      <td>7</td>\n",
       "      <td>...</td>\n",
       "      <td>88524.590164</td>\n",
       "      <td>6</td>\n",
       "      <td>26</td>\n",
       "      <td>2</td>\n",
       "      <td>2017</td>\n",
       "      <td>другой</td>\n",
       "      <td>0.714754</td>\n",
       "      <td>0.106557</td>\n",
       "      <td>15</td>\n",
       "      <td>5400000</td>\n",
       "    </tr>\n",
       "    <tr>\n",
       "      <td>...</td>\n",
       "      <td>...</td>\n",
       "      <td>...</td>\n",
       "      <td>...</td>\n",
       "      <td>...</td>\n",
       "      <td>...</td>\n",
       "      <td>...</td>\n",
       "      <td>...</td>\n",
       "      <td>...</td>\n",
       "      <td>...</td>\n",
       "      <td>...</td>\n",
       "      <td>...</td>\n",
       "      <td>...</td>\n",
       "      <td>...</td>\n",
       "      <td>...</td>\n",
       "      <td>...</td>\n",
       "      <td>...</td>\n",
       "      <td>...</td>\n",
       "      <td>...</td>\n",
       "      <td>...</td>\n",
       "      <td>...</td>\n",
       "      <td>...</td>\n",
       "    </tr>\n",
       "    <tr>\n",
       "      <td>14847</td>\n",
       "      <td>23689</td>\n",
       "      <td>13</td>\n",
       "      <td>3550000</td>\n",
       "      <td>35.30</td>\n",
       "      <td>2018-02-28</td>\n",
       "      <td>1</td>\n",
       "      <td>13</td>\n",
       "      <td>15</td>\n",
       "      <td>16.30</td>\n",
       "      <td>4</td>\n",
       "      <td>...</td>\n",
       "      <td>100566.572238</td>\n",
       "      <td>2</td>\n",
       "      <td>28</td>\n",
       "      <td>2</td>\n",
       "      <td>2018</td>\n",
       "      <td>другой</td>\n",
       "      <td>0.461756</td>\n",
       "      <td>0.257790</td>\n",
       "      <td>16</td>\n",
       "      <td>3550000</td>\n",
       "    </tr>\n",
       "    <tr>\n",
       "      <td>14848</td>\n",
       "      <td>23690</td>\n",
       "      <td>3</td>\n",
       "      <td>5500000</td>\n",
       "      <td>52.00</td>\n",
       "      <td>2018-07-19</td>\n",
       "      <td>2</td>\n",
       "      <td>3</td>\n",
       "      <td>5</td>\n",
       "      <td>31.00</td>\n",
       "      <td>2</td>\n",
       "      <td>...</td>\n",
       "      <td>105769.230769</td>\n",
       "      <td>3</td>\n",
       "      <td>19</td>\n",
       "      <td>7</td>\n",
       "      <td>2018</td>\n",
       "      <td>другой</td>\n",
       "      <td>0.596154</td>\n",
       "      <td>0.115385</td>\n",
       "      <td>6</td>\n",
       "      <td>5500000</td>\n",
       "    </tr>\n",
       "    <tr>\n",
       "      <td>14849</td>\n",
       "      <td>23691</td>\n",
       "      <td>11</td>\n",
       "      <td>9470000</td>\n",
       "      <td>72.90</td>\n",
       "      <td>2016-10-13</td>\n",
       "      <td>2</td>\n",
       "      <td>11</td>\n",
       "      <td>25</td>\n",
       "      <td>40.30</td>\n",
       "      <td>7</td>\n",
       "      <td>...</td>\n",
       "      <td>129903.978052</td>\n",
       "      <td>3</td>\n",
       "      <td>13</td>\n",
       "      <td>10</td>\n",
       "      <td>2016</td>\n",
       "      <td>другой</td>\n",
       "      <td>0.552812</td>\n",
       "      <td>0.145405</td>\n",
       "      <td>4</td>\n",
       "      <td>9470000</td>\n",
       "    </tr>\n",
       "    <tr>\n",
       "      <td>14850</td>\n",
       "      <td>23694</td>\n",
       "      <td>9</td>\n",
       "      <td>9700000</td>\n",
       "      <td>133.81</td>\n",
       "      <td>2017-03-21</td>\n",
       "      <td>3</td>\n",
       "      <td>9</td>\n",
       "      <td>5</td>\n",
       "      <td>73.30</td>\n",
       "      <td>3</td>\n",
       "      <td>...</td>\n",
       "      <td>72490.845228</td>\n",
       "      <td>1</td>\n",
       "      <td>21</td>\n",
       "      <td>3</td>\n",
       "      <td>2017</td>\n",
       "      <td>другой</td>\n",
       "      <td>0.547792</td>\n",
       "      <td>0.103356</td>\n",
       "      <td>4</td>\n",
       "      <td>9700000</td>\n",
       "    </tr>\n",
       "    <tr>\n",
       "      <td>14851</td>\n",
       "      <td>23697</td>\n",
       "      <td>13</td>\n",
       "      <td>11475000</td>\n",
       "      <td>76.75</td>\n",
       "      <td>2017-03-28</td>\n",
       "      <td>2</td>\n",
       "      <td>13</td>\n",
       "      <td>17</td>\n",
       "      <td>53.45</td>\n",
       "      <td>12</td>\n",
       "      <td>...</td>\n",
       "      <td>149511.400651</td>\n",
       "      <td>1</td>\n",
       "      <td>28</td>\n",
       "      <td>3</td>\n",
       "      <td>2017</td>\n",
       "      <td>другой</td>\n",
       "      <td>0.696417</td>\n",
       "      <td>0.303583</td>\n",
       "      <td>10</td>\n",
       "      <td>11475000</td>\n",
       "    </tr>\n",
       "  </tbody>\n",
       "</table>\n",
       "<p>14852 rows × 33 columns</p>\n",
       "</div>"
      ],
      "text/plain": [
       "       index  total_images  last_price  total_area first_day_exposition  \\\n",
       "0          0            20    13000000      108.00           2019-03-07   \n",
       "1          2            10     5196000       56.00           2015-08-20   \n",
       "2          4             2    10000000      100.00           2018-06-19   \n",
       "3          7             5     7915000       71.60           2019-04-18   \n",
       "4          9            18     5400000       61.00           2017-02-26   \n",
       "...      ...           ...         ...         ...                  ...   \n",
       "14847  23689            13     3550000       35.30           2018-02-28   \n",
       "14848  23690             3     5500000       52.00           2018-07-19   \n",
       "14849  23691            11     9470000       72.90           2016-10-13   \n",
       "14850  23694             9     9700000      133.81           2017-03-21   \n",
       "14851  23697            13    11475000       76.75           2017-03-28   \n",
       "\n",
       "       rooms ceiling_height floors_total  living_area  floor  ...  \\\n",
       "0          3             20           16        51.00      8  ...   \n",
       "1          2             10            5        34.30      4  ...   \n",
       "2          2              2           14        32.00     13  ...   \n",
       "3          2              5           24        52.70     22  ...   \n",
       "4          3             18            9        43.60      7  ...   \n",
       "...      ...            ...          ...          ...    ...  ...   \n",
       "14847      1             13           15        16.30      4  ...   \n",
       "14848      2              3            5        31.00      2  ...   \n",
       "14849      2             11           25        40.30      7  ...   \n",
       "14850      3              9            5        73.30      3  ...   \n",
       "14851      2             13           17        53.45     12  ...   \n",
       "\n",
       "       price_for_meter  weekday_exposition  day_exposition  month_exposition  \\\n",
       "0        120370.370370                   3               7                 3   \n",
       "1         92785.714286                   3              20                 8   \n",
       "2        100000.000000                   1              19                 6   \n",
       "3        110544.692737                   3              18                 4   \n",
       "4         88524.590164                   6              26                 2   \n",
       "...                ...                 ...             ...               ...   \n",
       "14847    100566.572238                   2              28                 2   \n",
       "14848    105769.230769                   3              19                 7   \n",
       "14849    129903.978052                   3              13                10   \n",
       "14850     72490.845228                   1              21                 3   \n",
       "14851    149511.400651                   1              28                 3   \n",
       "\n",
       "       year_exposition floor_group  ratio_living_total  ratio_kitchen_total  \\\n",
       "0                 2019      другой            0.472222             0.231481   \n",
       "1                 2015      другой            0.612500             0.148214   \n",
       "2                 2018      другой            0.320000             0.410000   \n",
       "3                 2019      другой            0.736034             0.263966   \n",
       "4                 2017      другой            0.714754             0.106557   \n",
       "...                ...         ...                 ...                  ...   \n",
       "14847             2018      другой            0.461756             0.257790   \n",
       "14848             2018      другой            0.596154             0.115385   \n",
       "14849             2016      другой            0.552812             0.145405   \n",
       "14850             2017      другой            0.547792             0.103356   \n",
       "14851             2017      другой            0.696417             0.303583   \n",
       "\n",
       "       to_center_kilometers  price_per_km  \n",
       "0                        16      13000000  \n",
       "1                        14       5196000  \n",
       "2                         8      10000000  \n",
       "3                        12       7915000  \n",
       "4                        15       5400000  \n",
       "...                     ...           ...  \n",
       "14847                    16       3550000  \n",
       "14848                     6       5500000  \n",
       "14849                     4       9470000  \n",
       "14850                     4       9700000  \n",
       "14851                    10      11475000  \n",
       "\n",
       "[14852 rows x 33 columns]"
      ]
     },
     "metadata": {},
     "output_type": "display_data"
    }
   ],
   "source": [
    "# проверим\n",
    "display(data_spb)"
   ]
  },
  {
   "cell_type": "code",
   "execution_count": 48,
   "metadata": {},
   "outputs": [
    {
     "data": {
      "text/plain": [
       "<matplotlib.axes._subplots.AxesSubplot at 0x7f6ea33afe50>"
      ]
     },
     "execution_count": 48,
     "metadata": {},
     "output_type": "execute_result"
    },
    {
     "data": {
      "image/png": "[encoded data removed]",
      "text/plain": [
       "<Figure size 432x288 with 1 Axes>"
      ]
     },
     "metadata": {
      "needs_background": "light"
     },
     "output_type": "display_data"
    }
   ],
   "source": [
    "data_spb.plot(x='to_center_kilometers', y='price_per_km', kind='scatter', grid=True)"
   ]
  },
  {
   "cell_type": "markdown",
   "metadata": {},
   "source": [
    "До 7 км (включительно) цены высокие и только растут, а после 7 км цены резко уменьшаются. То есть центральная зона от 0 до 7 км включительно."
   ]
  },
  {
   "cell_type": "markdown",
   "metadata": {},
   "source": [
    "<div class=\"alert alert-warning\">\n",
    "<b>⚠️ Комментарий ревьюера:</b> \n",
    "\n",
    "Отлично, все расчеты верны, график сделан верно. Только тип графика немного не тот, лучше использовать линейный с точками на каждом км. Так же тебе нужна зона, после которого начинается резкий спад. Обрати внимание на 6-7 км.\n",
    "</div>"
   ]
  },
  {
   "cell_type": "markdown",
   "metadata": {},
   "source": [
    "<div class=\"alert alert-info\">\n",
    "\n",
    "**Комментарий студентки**\n",
    "    \n",
    "Про 6-7 километр поняла. А вот про какой график не особо. Вроде такого не было еще в курсе или я забыла. </div>"
   ]
  },
  {
   "cell_type": "markdown",
   "metadata": {},
   "source": [
    "<div class=\"alert alert-success\">\n",
    "<b>✅ Комментарий ревьюера V2:</b> \n",
    "\n",
    "Изучи типы графиков.\n",
    "</div>"
   ]
  },
  {
   "cell_type": "markdown",
   "metadata": {},
   "source": [
    "### Квартиры в центре Санкт-Петербурга"
   ]
  },
  {
   "cell_type": "code",
   "execution_count": 72,
   "metadata": {
    "scrolled": false
   },
   "outputs": [
    {
     "data": {
      "text/html": [
       "<div>\n",
       "<style scoped>\n",
       "    .dataframe tbody tr th:only-of-type {\n",
       "        vertical-align: middle;\n",
       "    }\n",
       "\n",
       "    .dataframe tbody tr th {\n",
       "        vertical-align: top;\n",
       "    }\n",
       "\n",
       "    .dataframe thead th {\n",
       "        text-align: right;\n",
       "    }\n",
       "</style>\n",
       "<table border=\"1\" class=\"dataframe\">\n",
       "  <thead>\n",
       "    <tr style=\"text-align: right;\">\n",
       "      <th></th>\n",
       "      <th>level_0</th>\n",
       "      <th>index</th>\n",
       "      <th>total_images</th>\n",
       "      <th>last_price</th>\n",
       "      <th>total_area</th>\n",
       "      <th>first_day_exposition</th>\n",
       "      <th>rooms</th>\n",
       "      <th>ceiling_height</th>\n",
       "      <th>floors_total</th>\n",
       "      <th>living_area</th>\n",
       "      <th>...</th>\n",
       "      <th>price_for_meter</th>\n",
       "      <th>weekday_exposition</th>\n",
       "      <th>day_exposition</th>\n",
       "      <th>month_exposition</th>\n",
       "      <th>year_exposition</th>\n",
       "      <th>floor_group</th>\n",
       "      <th>ratio_living_total</th>\n",
       "      <th>ratio_kitchen_total</th>\n",
       "      <th>to_center_kilometers</th>\n",
       "      <th>price_per_km</th>\n",
       "    </tr>\n",
       "  </thead>\n",
       "  <tbody>\n",
       "    <tr>\n",
       "      <td>0</td>\n",
       "      <td>13</td>\n",
       "      <td>24</td>\n",
       "      <td>8</td>\n",
       "      <td>6500000</td>\n",
       "      <td>97.20</td>\n",
       "      <td>2015-10-31</td>\n",
       "      <td>2</td>\n",
       "      <td>8</td>\n",
       "      <td>3</td>\n",
       "      <td>46.5</td>\n",
       "      <td>...</td>\n",
       "      <td>66872.427984</td>\n",
       "      <td>5</td>\n",
       "      <td>31</td>\n",
       "      <td>10</td>\n",
       "      <td>2015</td>\n",
       "      <td>первый</td>\n",
       "      <td>0.478395</td>\n",
       "      <td>0.201646</td>\n",
       "      <td>2</td>\n",
       "      <td>6500000</td>\n",
       "    </tr>\n",
       "    <tr>\n",
       "      <td>1</td>\n",
       "      <td>21</td>\n",
       "      <td>35</td>\n",
       "      <td>6</td>\n",
       "      <td>15500000</td>\n",
       "      <td>149.00</td>\n",
       "      <td>2017-06-26</td>\n",
       "      <td>5</td>\n",
       "      <td>6</td>\n",
       "      <td>5</td>\n",
       "      <td>104.0</td>\n",
       "      <td>...</td>\n",
       "      <td>104026.845638</td>\n",
       "      <td>0</td>\n",
       "      <td>26</td>\n",
       "      <td>6</td>\n",
       "      <td>2017</td>\n",
       "      <td>другой</td>\n",
       "      <td>0.697987</td>\n",
       "      <td>0.114094</td>\n",
       "      <td>4</td>\n",
       "      <td>15500000</td>\n",
       "    </tr>\n",
       "    <tr>\n",
       "      <td>2</td>\n",
       "      <td>30</td>\n",
       "      <td>51</td>\n",
       "      <td>7</td>\n",
       "      <td>45000000</td>\n",
       "      <td>161.00</td>\n",
       "      <td>2017-10-17</td>\n",
       "      <td>3</td>\n",
       "      <td>7</td>\n",
       "      <td>8</td>\n",
       "      <td>38.0</td>\n",
       "      <td>...</td>\n",
       "      <td>279503.105590</td>\n",
       "      <td>1</td>\n",
       "      <td>17</td>\n",
       "      <td>10</td>\n",
       "      <td>2017</td>\n",
       "      <td>другой</td>\n",
       "      <td>0.236025</td>\n",
       "      <td>0.310559</td>\n",
       "      <td>7</td>\n",
       "      <td>45000000</td>\n",
       "    </tr>\n",
       "    <tr>\n",
       "      <td>3</td>\n",
       "      <td>31</td>\n",
       "      <td>52</td>\n",
       "      <td>20</td>\n",
       "      <td>11795000</td>\n",
       "      <td>136.00</td>\n",
       "      <td>2017-09-22</td>\n",
       "      <td>6</td>\n",
       "      <td>20</td>\n",
       "      <td>2</td>\n",
       "      <td>94.0</td>\n",
       "      <td>...</td>\n",
       "      <td>86727.941176</td>\n",
       "      <td>4</td>\n",
       "      <td>22</td>\n",
       "      <td>9</td>\n",
       "      <td>2017</td>\n",
       "      <td>последний</td>\n",
       "      <td>0.691176</td>\n",
       "      <td>0.080882</td>\n",
       "      <td>7</td>\n",
       "      <td>11795000</td>\n",
       "    </tr>\n",
       "    <tr>\n",
       "      <td>4</td>\n",
       "      <td>36</td>\n",
       "      <td>61</td>\n",
       "      <td>18</td>\n",
       "      <td>7990000</td>\n",
       "      <td>74.00</td>\n",
       "      <td>2017-08-24</td>\n",
       "      <td>2</td>\n",
       "      <td>18</td>\n",
       "      <td>4</td>\n",
       "      <td>43.0</td>\n",
       "      <td>...</td>\n",
       "      <td>107972.972973</td>\n",
       "      <td>3</td>\n",
       "      <td>24</td>\n",
       "      <td>8</td>\n",
       "      <td>2017</td>\n",
       "      <td>последний</td>\n",
       "      <td>0.581081</td>\n",
       "      <td>0.270270</td>\n",
       "      <td>4</td>\n",
       "      <td>7990000</td>\n",
       "    </tr>\n",
       "    <tr>\n",
       "      <td>...</td>\n",
       "      <td>...</td>\n",
       "      <td>...</td>\n",
       "      <td>...</td>\n",
       "      <td>...</td>\n",
       "      <td>...</td>\n",
       "      <td>...</td>\n",
       "      <td>...</td>\n",
       "      <td>...</td>\n",
       "      <td>...</td>\n",
       "      <td>...</td>\n",
       "      <td>...</td>\n",
       "      <td>...</td>\n",
       "      <td>...</td>\n",
       "      <td>...</td>\n",
       "      <td>...</td>\n",
       "      <td>...</td>\n",
       "      <td>...</td>\n",
       "      <td>...</td>\n",
       "      <td>...</td>\n",
       "      <td>...</td>\n",
       "      <td>...</td>\n",
       "    </tr>\n",
       "    <tr>\n",
       "      <td>3295</td>\n",
       "      <td>14833</td>\n",
       "      <td>23665</td>\n",
       "      <td>11</td>\n",
       "      <td>4250000</td>\n",
       "      <td>47.00</td>\n",
       "      <td>2016-05-20</td>\n",
       "      <td>1</td>\n",
       "      <td>11</td>\n",
       "      <td>6</td>\n",
       "      <td>18.2</td>\n",
       "      <td>...</td>\n",
       "      <td>90425.531915</td>\n",
       "      <td>4</td>\n",
       "      <td>20</td>\n",
       "      <td>5</td>\n",
       "      <td>2016</td>\n",
       "      <td>первый</td>\n",
       "      <td>0.387234</td>\n",
       "      <td>0.310638</td>\n",
       "      <td>5</td>\n",
       "      <td>4250000</td>\n",
       "    </tr>\n",
       "    <tr>\n",
       "      <td>3296</td>\n",
       "      <td>14842</td>\n",
       "      <td>23681</td>\n",
       "      <td>13</td>\n",
       "      <td>5250000</td>\n",
       "      <td>43.00</td>\n",
       "      <td>2018-05-11</td>\n",
       "      <td>2</td>\n",
       "      <td>13</td>\n",
       "      <td>5</td>\n",
       "      <td>29.0</td>\n",
       "      <td>...</td>\n",
       "      <td>122093.023256</td>\n",
       "      <td>4</td>\n",
       "      <td>11</td>\n",
       "      <td>5</td>\n",
       "      <td>2018</td>\n",
       "      <td>другой</td>\n",
       "      <td>0.674419</td>\n",
       "      <td>0.139535</td>\n",
       "      <td>7</td>\n",
       "      <td>5250000</td>\n",
       "    </tr>\n",
       "    <tr>\n",
       "      <td>3297</td>\n",
       "      <td>14848</td>\n",
       "      <td>23690</td>\n",
       "      <td>3</td>\n",
       "      <td>5500000</td>\n",
       "      <td>52.00</td>\n",
       "      <td>2018-07-19</td>\n",
       "      <td>2</td>\n",
       "      <td>3</td>\n",
       "      <td>5</td>\n",
       "      <td>31.0</td>\n",
       "      <td>...</td>\n",
       "      <td>105769.230769</td>\n",
       "      <td>3</td>\n",
       "      <td>19</td>\n",
       "      <td>7</td>\n",
       "      <td>2018</td>\n",
       "      <td>другой</td>\n",
       "      <td>0.596154</td>\n",
       "      <td>0.115385</td>\n",
       "      <td>6</td>\n",
       "      <td>5500000</td>\n",
       "    </tr>\n",
       "    <tr>\n",
       "      <td>3298</td>\n",
       "      <td>14849</td>\n",
       "      <td>23691</td>\n",
       "      <td>11</td>\n",
       "      <td>9470000</td>\n",
       "      <td>72.90</td>\n",
       "      <td>2016-10-13</td>\n",
       "      <td>2</td>\n",
       "      <td>11</td>\n",
       "      <td>25</td>\n",
       "      <td>40.3</td>\n",
       "      <td>...</td>\n",
       "      <td>129903.978052</td>\n",
       "      <td>3</td>\n",
       "      <td>13</td>\n",
       "      <td>10</td>\n",
       "      <td>2016</td>\n",
       "      <td>другой</td>\n",
       "      <td>0.552812</td>\n",
       "      <td>0.145405</td>\n",
       "      <td>4</td>\n",
       "      <td>9470000</td>\n",
       "    </tr>\n",
       "    <tr>\n",
       "      <td>3299</td>\n",
       "      <td>14850</td>\n",
       "      <td>23694</td>\n",
       "      <td>9</td>\n",
       "      <td>9700000</td>\n",
       "      <td>133.81</td>\n",
       "      <td>2017-03-21</td>\n",
       "      <td>3</td>\n",
       "      <td>9</td>\n",
       "      <td>5</td>\n",
       "      <td>73.3</td>\n",
       "      <td>...</td>\n",
       "      <td>72490.845228</td>\n",
       "      <td>1</td>\n",
       "      <td>21</td>\n",
       "      <td>3</td>\n",
       "      <td>2017</td>\n",
       "      <td>другой</td>\n",
       "      <td>0.547792</td>\n",
       "      <td>0.103356</td>\n",
       "      <td>4</td>\n",
       "      <td>9700000</td>\n",
       "    </tr>\n",
       "  </tbody>\n",
       "</table>\n",
       "<p>3300 rows × 34 columns</p>\n",
       "</div>"
      ],
      "text/plain": [
       "      level_0  index  total_images  last_price  total_area  \\\n",
       "0          13     24             8     6500000       97.20   \n",
       "1          21     35             6    15500000      149.00   \n",
       "2          30     51             7    45000000      161.00   \n",
       "3          31     52            20    11795000      136.00   \n",
       "4          36     61            18     7990000       74.00   \n",
       "...       ...    ...           ...         ...         ...   \n",
       "3295    14833  23665            11     4250000       47.00   \n",
       "3296    14842  23681            13     5250000       43.00   \n",
       "3297    14848  23690             3     5500000       52.00   \n",
       "3298    14849  23691            11     9470000       72.90   \n",
       "3299    14850  23694             9     9700000      133.81   \n",
       "\n",
       "     first_day_exposition  rooms ceiling_height floors_total  living_area  \\\n",
       "0              2015-10-31      2              8            3         46.5   \n",
       "1              2017-06-26      5              6            5        104.0   \n",
       "2              2017-10-17      3              7            8         38.0   \n",
       "3              2017-09-22      6             20            2         94.0   \n",
       "4              2017-08-24      2             18            4         43.0   \n",
       "...                   ...    ...            ...          ...          ...   \n",
       "3295           2016-05-20      1             11            6         18.2   \n",
       "3296           2018-05-11      2             13            5         29.0   \n",
       "3297           2018-07-19      2              3            5         31.0   \n",
       "3298           2016-10-13      2             11           25         40.3   \n",
       "3299           2017-03-21      3              9            5         73.3   \n",
       "\n",
       "      ...  price_for_meter  weekday_exposition  day_exposition  \\\n",
       "0     ...     66872.427984                   5              31   \n",
       "1     ...    104026.845638                   0              26   \n",
       "2     ...    279503.105590                   1              17   \n",
       "3     ...     86727.941176                   4              22   \n",
       "4     ...    107972.972973                   3              24   \n",
       "...   ...              ...                 ...             ...   \n",
       "3295  ...     90425.531915                   4              20   \n",
       "3296  ...    122093.023256                   4              11   \n",
       "3297  ...    105769.230769                   3              19   \n",
       "3298  ...    129903.978052                   3              13   \n",
       "3299  ...     72490.845228                   1              21   \n",
       "\n",
       "      month_exposition  year_exposition  floor_group ratio_living_total  \\\n",
       "0                   10             2015       первый           0.478395   \n",
       "1                    6             2017       другой           0.697987   \n",
       "2                   10             2017       другой           0.236025   \n",
       "3                    9             2017    последний           0.691176   \n",
       "4                    8             2017    последний           0.581081   \n",
       "...                ...              ...          ...                ...   \n",
       "3295                 5             2016       первый           0.387234   \n",
       "3296                 5             2018       другой           0.674419   \n",
       "3297                 7             2018       другой           0.596154   \n",
       "3298                10             2016       другой           0.552812   \n",
       "3299                 3             2017       другой           0.547792   \n",
       "\n",
       "      ratio_kitchen_total  to_center_kilometers  price_per_km  \n",
       "0                0.201646                     2       6500000  \n",
       "1                0.114094                     4      15500000  \n",
       "2                0.310559                     7      45000000  \n",
       "3                0.080882                     7      11795000  \n",
       "4                0.270270                     4       7990000  \n",
       "...                   ...                   ...           ...  \n",
       "3295             0.310638                     5       4250000  \n",
       "3296             0.139535                     7       5250000  \n",
       "3297             0.115385                     6       5500000  \n",
       "3298             0.145405                     4       9470000  \n",
       "3299             0.103356                     4       9700000  \n",
       "\n",
       "[3300 rows x 34 columns]"
      ]
     },
     "metadata": {},
     "output_type": "display_data"
    }
   ],
   "source": [
    "# создадим таблицу только с квартирами в центре санкт-петербурга\n",
    "data_spb_center = data_spb.query('to_center_kilometers <= 7').reset_index()\n",
    "display(data_spb_center)"
   ]
  },
  {
   "cell_type": "code",
   "execution_count": 73,
   "metadata": {},
   "outputs": [
    {
     "data": {
      "text/plain": [
       "<matplotlib.axes._subplots.AxesSubplot at 0x7f6ea0bf1d50>"
      ]
     },
     "execution_count": 73,
     "metadata": {},
     "output_type": "execute_result"
    },
    {
     "data": {
      "image/png": "[encoded data removed]",
      "text/plain": [
       "<Figure size 432x288 with 1 Axes>"
      ]
     },
     "metadata": {
      "needs_background": "light"
     },
     "output_type": "display_data"
    }
   ],
   "source": [
    "data_spb_center.plot(kind='hist', y='total_area', bins=20, grid=True, label='площадь')"
   ]
  },
  {
   "cell_type": "code",
   "execution_count": 74,
   "metadata": {},
   "outputs": [
    {
     "data": {
      "text/plain": [
       "<matplotlib.axes._subplots.AxesSubplot at 0x7f6ea0b1cb10>"
      ]
     },
     "execution_count": 74,
     "metadata": {},
     "output_type": "execute_result"
    },
    {
     "data": {
      "image/png": "[encoded data removed]",
      "text/plain": [
       "<Figure size 432x288 with 1 Axes>"
      ]
     },
     "metadata": {
      "needs_background": "light"
     },
     "output_type": "display_data"
    }
   ],
   "source": [
    "data_spb_center.plot(kind='hist', y='last_price', bins=20, grid=True, label='цена')"
   ]
  },
  {
   "cell_type": "code",
   "execution_count": 75,
   "metadata": {},
   "outputs": [
    {
     "data": {
      "text/plain": [
       "<matplotlib.axes._subplots.AxesSubplot at 0x7f6ea0ace4d0>"
      ]
     },
     "execution_count": 75,
     "metadata": {},
     "output_type": "execute_result"
    },
    {
     "data": {
      "image/png": "[encoded data removed]",
      "text/plain": [
       "<Figure size 432x288 with 1 Axes>"
      ]
     },
     "metadata": {
      "needs_background": "light"
     },
     "output_type": "display_data"
    }
   ],
   "source": [
    "data_spb_center.plot(kind='hist', y='rooms', bins=20, grid=True, label='число комнат')"
   ]
  },
  {
   "cell_type": "code",
   "execution_count": 76,
   "metadata": {},
   "outputs": [
    {
     "data": {
      "text/plain": [
       "<matplotlib.axes._subplots.AxesSubplot at 0x7f6ea09db950>"
      ]
     },
     "execution_count": 76,
     "metadata": {},
     "output_type": "execute_result"
    },
    {
     "data": {
      "image/png": "[encoded data removed]",
      "text/plain": [
       "<Figure size 432x288 with 1 Axes>"
      ]
     },
     "metadata": {
      "needs_background": "light"
     },
     "output_type": "display_data"
    }
   ],
   "source": [
    "data_spb_center.plot(kind='hist', y='ceiling_height', bins=20, grid=True, label='высота потолка')"
   ]
  },
  {
   "cell_type": "code",
   "execution_count": 77,
   "metadata": {},
   "outputs": [
    {
     "data": {
      "text/plain": [
       "<matplotlib.axes._subplots.AxesSubplot at 0x7f6ea0930c50>"
      ]
     },
     "execution_count": 77,
     "metadata": {},
     "output_type": "execute_result"
    },
    {
     "data": {
      "image/png": "[encoded data removed]",
      "text/plain": [
       "<Figure size 432x288 with 1 Axes>"
      ]
     },
     "metadata": {
      "needs_background": "light"
     },
     "output_type": "display_data"
    }
   ],
   "source": [
    "data_spb_center.plot(x='last_price', y='rooms', kind='scatter', grid=True)"
   ]
  },
  {
   "cell_type": "markdown",
   "metadata": {},
   "source": [
    "Прослеживается прямая зависимость цены от количества комнат. Правда от 6 комнат цена вновь уменьшается и потом становится неявной, но вероятно это вбросы в данных, вряд ли в реальном мире возможно, чтобы цена за квартиру с семью комнатами была примерно равна цене за 2 комнатную квартиру."
   ]
  },
  {
   "cell_type": "code",
   "execution_count": 78,
   "metadata": {},
   "outputs": [
    {
     "data": {
      "text/plain": [
       "<matplotlib.axes._subplots.AxesSubplot at 0x7f6ea08a7410>"
      ]
     },
     "execution_count": 78,
     "metadata": {},
     "output_type": "execute_result"
    },
    {
     "data": {
      "image/png": "[encoded data removed]",
      "text/plain": [
       "<Figure size 432x288 with 1 Axes>"
      ]
     },
     "metadata": {
      "needs_background": "light"
     },
     "output_type": "display_data"
    }
   ],
   "source": [
    "data_spb_center.plot(x='last_price', y='floor', kind='scatter', grid=True)"
   ]
  },
  {
   "cell_type": "markdown",
   "metadata": {},
   "source": [
    "Прослеживается обратная зависимость, чем выше этаж, тем меньше цена, однако в самом начале (этажи 1 - 3) цена низкая, она поднимается, достигая пика в значении 5 и уже тогда идет на убыль, это обусловлено, что люди не любят жить слишком низко из-за того, что в квартиру легко проникнуть ворам."
   ]
  },
  {
   "cell_type": "code",
   "execution_count": 79,
   "metadata": {},
   "outputs": [
    {
     "data": {
      "text/plain": [
       "<matplotlib.axes._subplots.AxesSubplot at 0x7f6ea09c74d0>"
      ]
     },
     "execution_count": 79,
     "metadata": {},
     "output_type": "execute_result"
    },
    {
     "data": {
      "image/png": "[encoded data removed]",
      "text/plain": [
       "<Figure size 432x288 with 1 Axes>"
      ]
     },
     "metadata": {
      "needs_background": "light"
     },
     "output_type": "display_data"
    }
   ],
   "source": [
    "data_spb_center.plot(x='last_price', y='to_center_kilometers', kind='scatter', grid=True)"
   ]
  },
  {
   "cell_type": "markdown",
   "metadata": {},
   "source": [
    "Зависимости не обнаружено, но примечательно, что цена растет, но, дойдя до отметки в 5 км, начинает падать. "
   ]
  },
  {
   "cell_type": "code",
   "execution_count": 80,
   "metadata": {},
   "outputs": [
    {
     "data": {
      "text/plain": [
       "<matplotlib.axes._subplots.AxesSubplot at 0x7f6ea07a67d0>"
      ]
     },
     "execution_count": 80,
     "metadata": {},
     "output_type": "execute_result"
    },
    {
     "data": {
      "image/png": "[encoded data removed]",
      "text/plain": [
       "<Figure size 432x288 with 1 Axes>"
      ]
     },
     "metadata": {
      "needs_background": "light"
     },
     "output_type": "display_data"
    }
   ],
   "source": [
    "data_spb_center.plot(x='last_price', y='days_exposition', kind='scatter', grid=True)"
   ]
  },
  {
   "cell_type": "markdown",
   "metadata": {},
   "source": [
    "Ярко выражена обратная зависимость, чем меньше дней продается квартира, тем выше цена. Полагаю, это обусловлено тем, что продавцы снижают цену, если квартира долго не продается."
   ]
  },
  {
   "cell_type": "markdown",
   "metadata": {},
   "source": [
    "<div class=\"alert alert-success\">\n",
    "<b>✅ Комментарий ревьюера:</b> \n",
    "\n",
    "С оценкой центральной зоны согласен.\n",
    "    \n",
    "</div>"
   ]
  },
  {
   "cell_type": "markdown",
   "metadata": {},
   "source": [
    "## Общий вывод"
   ]
  },
  {
   "cell_type": "markdown",
   "metadata": {},
   "source": [
    "Как и в других локациях, в центре Санкт-Петербурга чем ближе к центру находится недвижимость, тем выше цена. Зависимость цены от этажа и количества комнат схожа и в Санкт-Петербурге, и в других регионах. Хотя в Санкт-Петербурге есть зависимость от даты выставления на продажу, в других регионах ее нет. "
   ]
  },
  {
   "cell_type": "markdown",
   "metadata": {},
   "source": [
    "<div class=\"alert alert-success\">\n",
    "<b>✅ Комментарий ревьюера:</b> \n",
    "\n",
    "Общий вывод принят.\n",
    "    \n",
    "    \n",
    "</div>"
   ]
  },
  {
   "cell_type": "markdown",
   "metadata": {},
   "source": [
    "## Чек-лист готовности проекта\n",
    "\n",
    "Поставьте 'x' в выполненных пунктах. Далее нажмите Shift+Enter."
   ]
  },
  {
   "cell_type": "markdown",
   "metadata": {},
   "source": [
    "- [x]  открыт файл\n",
    "- [x]  файлы изучены (выведены первые строки, метод info())\n",
    "- [x]  определены пропущенные значения\n",
    "- [x]  заполнены пропущенные значения\n",
    "- [x]  есть пояснение, какие пропущенные значения обнаружены\n",
    "- [x]  изменены типы данных\n",
    "- [x]  есть пояснение, в каких столбцах изменены типы и почему\n",
    "- [x]  посчитано и добавлено в таблицу: цена квадратного метра\n",
    "- [x]  посчитано и добавлено в таблицу: день недели, месяц и год публикации объявления\n",
    "- [x]  посчитано и добавлено в таблицу: этаж квартиры; варианты — первый, последний, другой\n",
    "- [x]  посчитано и добавлено в таблицу: соотношение жилой и общей площади, а также отношение площади кухни к общей\n",
    "- [x]  изучены следующие параметры: площадь, цена, число комнат, высота потолков\n",
    "- [x]  построены гистограммы для каждого параметра\n",
    "- [x]  выполнено задание: \"Изучите время продажи квартиры. Постройте гистограмму. Посчитайте среднее и медиану. Опишите, сколько обычно занимает продажа. Когда можно считать, что продажи прошли очень быстро, а когда необычно долго?\"\n",
    "- [x]  выполнено задание: \"Уберите редкие и выбивающиеся значения. Опишите, какие особенности обнаружили.\"\n",
    "- [x]  выполнено задание: \"Какие факторы больше всего влияют на стоимость квартиры? Изучите, зависит ли цена от квадратного метра, числа комнат, этажа (первого или последнего), удалённости от центра. Также изучите зависимость от даты размещения: дня недели, месяца и года. \"Выберите 10 населённых пунктов с наибольшим числом объявлений. Посчитайте среднюю цену квадратного метра в этих населённых пунктах. Выделите населённые пункты с самой высокой и низкой стоимостью жилья. Эти данные можно найти по имени в столбце '*locality_name'*. \"\n",
    "- [x]  выполнено задание: \"Изучите предложения квартир: для каждой квартиры есть информация о расстоянии до центра. Выделите квартиры в Санкт-Петербурге (*'locality_name'*). Ваша задача — выяснить, какая область входит в центр. Создайте столбец с расстоянием до центра в километрах: округлите до целых значений. После этого посчитайте среднюю цену для каждого километра. Постройте график: он должен показывать, как цена зависит от удалённости от центра. Определите границу, где график сильно меняется — это и будет центральная зона. \"\n",
    "- [x]  выполнено задание: \"Выделите сегмент квартир в центре. Проанализируйте эту территорию и изучите следующие параметры: площадь, цена, число комнат, высота потолков. Также выделите факторы, которые влияют на стоимость квартиры (число комнат, этаж, удалённость от центра, дата размещения объявления). Сделайте выводы. Отличаются ли они от общих выводов по всему городу?\"\n",
    "- [x]  в каждом этапе есть выводы\n",
    "- [x]  есть общий вывод"
   ]
  }
 ],
 "metadata": {
  "ExecuteTimeLog": [
   {
    "duration": 661,
    "start_time": "2021-11-19T07:36:59.495Z"
   },
   {
    "duration": 60,
    "start_time": "2021-11-19T07:38:01.003Z"
   },
   {
    "duration": 100,
    "start_time": "2021-11-19T07:38:22.758Z"
   },
   {
    "duration": 680,
    "start_time": "2021-11-19T07:39:01.257Z"
   },
   {
    "duration": 87,
    "start_time": "2021-11-19T07:39:22.148Z"
   },
   {
    "duration": 66,
    "start_time": "2021-11-19T07:39:35.098Z"
   },
   {
    "duration": 64,
    "start_time": "2021-11-19T07:39:59.350Z"
   },
   {
    "duration": 59,
    "start_time": "2021-11-19T07:40:10.205Z"
   },
   {
    "duration": 91,
    "start_time": "2021-11-19T07:45:49.649Z"
   },
   {
    "duration": 64,
    "start_time": "2021-11-19T07:46:08.083Z"
   },
   {
    "duration": 92,
    "start_time": "2021-11-19T07:46:14.177Z"
   },
   {
    "duration": 11,
    "start_time": "2021-11-19T08:10:46.848Z"
   },
   {
    "duration": 4,
    "start_time": "2021-11-19T08:12:05.166Z"
   },
   {
    "duration": 8,
    "start_time": "2021-11-19T08:21:27.674Z"
   },
   {
    "duration": 10,
    "start_time": "2021-11-19T08:24:14.105Z"
   },
   {
    "duration": 10,
    "start_time": "2021-11-19T08:24:34.718Z"
   },
   {
    "duration": 12,
    "start_time": "2021-11-19T08:28:56.391Z"
   },
   {
    "duration": 481,
    "start_time": "2021-11-19T16:19:02.486Z"
   },
   {
    "duration": 981,
    "start_time": "2021-11-19T16:19:08.007Z"
   },
   {
    "duration": 10,
    "start_time": "2021-11-19T16:19:08.991Z"
   },
   {
    "duration": 8603,
    "start_time": "2021-11-19T16:23:58.814Z"
   },
   {
    "duration": 120,
    "start_time": "2021-11-19T16:45:59.497Z"
   },
   {
    "duration": 118,
    "start_time": "2021-11-19T16:46:08.424Z"
   },
   {
    "duration": 139,
    "start_time": "2021-11-19T16:47:16.833Z"
   },
   {
    "duration": 125,
    "start_time": "2021-11-19T16:48:32.506Z"
   },
   {
    "duration": 127,
    "start_time": "2021-11-19T16:48:51.078Z"
   },
   {
    "duration": 117,
    "start_time": "2021-11-19T16:51:19.687Z"
   },
   {
    "duration": 117,
    "start_time": "2021-11-19T16:52:15.569Z"
   },
   {
    "duration": 17,
    "start_time": "2021-11-19T16:52:16.520Z"
   },
   {
    "duration": 6,
    "start_time": "2021-11-19T16:52:19.186Z"
   },
   {
    "duration": 9,
    "start_time": "2021-11-19T16:52:19.897Z"
   },
   {
    "duration": 12,
    "start_time": "2021-11-19T16:52:21.219Z"
   },
   {
    "duration": 11,
    "start_time": "2021-11-19T16:52:23.761Z"
   },
   {
    "duration": 12,
    "start_time": "2021-11-19T16:52:50.804Z"
   },
   {
    "duration": 9,
    "start_time": "2021-11-19T17:10:45.266Z"
   },
   {
    "duration": 352,
    "start_time": "2021-11-19T17:13:05.421Z"
   },
   {
    "duration": 36,
    "start_time": "2021-11-19T17:13:11.689Z"
   },
   {
    "duration": 333,
    "start_time": "2021-11-19T17:13:46.324Z"
   },
   {
    "duration": 12,
    "start_time": "2021-11-19T17:14:28.379Z"
   },
   {
    "duration": 11,
    "start_time": "2021-11-19T17:16:05.122Z"
   },
   {
    "duration": 8,
    "start_time": "2021-11-19T17:18:34.084Z"
   },
   {
    "duration": 11,
    "start_time": "2021-11-19T17:19:53.296Z"
   },
   {
    "duration": 130,
    "start_time": "2021-11-19T17:27:52.876Z"
   },
   {
    "duration": 9352,
    "start_time": "2021-11-19T17:31:22.216Z"
   },
   {
    "duration": 8639,
    "start_time": "2021-11-19T17:32:53.672Z"
   },
   {
    "duration": 8424,
    "start_time": "2021-11-19T17:35:40.467Z"
   },
   {
    "duration": 9874,
    "start_time": "2021-11-19T17:36:00.102Z"
   },
   {
    "duration": 11,
    "start_time": "2021-11-19T17:38:28.292Z"
   },
   {
    "duration": 7846,
    "start_time": "2021-11-19T17:39:28.291Z"
   },
   {
    "duration": 8048,
    "start_time": "2021-11-19T17:39:44.716Z"
   },
   {
    "duration": 8979,
    "start_time": "2021-11-19T17:40:08.276Z"
   },
   {
    "duration": 8875,
    "start_time": "2021-11-19T17:40:41.690Z"
   },
   {
    "duration": 9057,
    "start_time": "2021-11-19T17:41:03.475Z"
   },
   {
    "duration": 983,
    "start_time": "2021-11-19T17:41:33.976Z"
   },
   {
    "duration": 16,
    "start_time": "2021-11-19T17:41:34.962Z"
   },
   {
    "duration": 6,
    "start_time": "2021-11-19T17:41:36.983Z"
   },
   {
    "duration": 11,
    "start_time": "2021-11-19T17:41:37.655Z"
   },
   {
    "duration": 12,
    "start_time": "2021-11-19T17:41:38.720Z"
   },
   {
    "duration": 7,
    "start_time": "2021-11-19T17:41:40.128Z"
   },
   {
    "duration": 10,
    "start_time": "2021-11-19T17:41:41.177Z"
   },
   {
    "duration": 9570,
    "start_time": "2021-11-19T17:41:42.260Z"
   },
   {
    "duration": 8545,
    "start_time": "2021-11-19T17:42:17.028Z"
   },
   {
    "duration": 8201,
    "start_time": "2021-11-19T17:42:36.150Z"
   },
   {
    "duration": 8567,
    "start_time": "2021-11-19T17:43:32.910Z"
   },
   {
    "duration": 8533,
    "start_time": "2021-11-19T17:48:32.624Z"
   },
   {
    "duration": 18,
    "start_time": "2021-11-19T17:57:44.578Z"
   },
   {
    "duration": 24,
    "start_time": "2021-11-19T17:58:03.311Z"
   },
   {
    "duration": 25,
    "start_time": "2021-11-19T17:58:24.573Z"
   },
   {
    "duration": 330,
    "start_time": "2021-11-19T18:05:48.968Z"
   },
   {
    "duration": 19,
    "start_time": "2021-11-19T18:05:58.179Z"
   },
   {
    "duration": 9630,
    "start_time": "2021-11-19T18:05:59.256Z"
   },
   {
    "duration": 8962,
    "start_time": "2021-11-19T18:08:08.248Z"
   },
   {
    "duration": 10362,
    "start_time": "2021-11-19T18:12:55.862Z"
   },
   {
    "duration": 17,
    "start_time": "2021-11-19T18:13:21.665Z"
   },
   {
    "duration": 11767,
    "start_time": "2021-11-19T18:13:22.759Z"
   },
   {
    "duration": 108,
    "start_time": "2021-11-19T18:20:41.458Z"
   },
   {
    "duration": 8724,
    "start_time": "2021-11-19T18:20:50.073Z"
   },
   {
    "duration": 471,
    "start_time": "2021-11-19T18:23:22.083Z"
   },
   {
    "duration": 120,
    "start_time": "2021-11-19T18:23:27.001Z"
   },
   {
    "duration": 12,
    "start_time": "2021-11-19T18:23:34.045Z"
   },
   {
    "duration": 22,
    "start_time": "2021-11-19T18:23:53.197Z"
   },
   {
    "duration": 138,
    "start_time": "2021-11-19T18:34:40.821Z"
   },
   {
    "duration": 5,
    "start_time": "2021-11-19T18:34:46.489Z"
   },
   {
    "duration": 12,
    "start_time": "2021-11-19T18:34:49.452Z"
   },
   {
    "duration": 4,
    "start_time": "2021-11-19T18:37:51.156Z"
   },
   {
    "duration": 10,
    "start_time": "2021-11-19T18:37:52.288Z"
   },
   {
    "duration": 361,
    "start_time": "2021-11-19T18:39:37.079Z"
   },
   {
    "duration": 16,
    "start_time": "2021-11-19T18:39:44.806Z"
   },
   {
    "duration": 9,
    "start_time": "2021-11-19T18:40:43.775Z"
   },
   {
    "duration": 8452,
    "start_time": "2021-11-19T18:40:44.995Z"
   },
   {
    "duration": -111,
    "start_time": "2021-11-19T18:40:53.561Z"
   },
   {
    "duration": -111,
    "start_time": "2021-11-19T18:40:53.563Z"
   },
   {
    "duration": -111,
    "start_time": "2021-11-19T18:40:53.564Z"
   },
   {
    "duration": 16,
    "start_time": "2021-11-19T18:40:58.743Z"
   },
   {
    "duration": 6,
    "start_time": "2021-11-19T18:40:59.372Z"
   },
   {
    "duration": 13,
    "start_time": "2021-11-19T18:40:59.988Z"
   },
   {
    "duration": 6,
    "start_time": "2021-11-19T18:41:16.526Z"
   },
   {
    "duration": 11,
    "start_time": "2021-11-19T18:41:25.237Z"
   },
   {
    "duration": 4,
    "start_time": "2021-11-19T18:43:12.200Z"
   },
   {
    "duration": 325,
    "start_time": "2021-11-19T18:48:51.983Z"
   },
   {
    "duration": 97,
    "start_time": "2021-11-19T18:49:13.068Z"
   },
   {
    "duration": 11,
    "start_time": "2021-11-19T18:49:14.960Z"
   },
   {
    "duration": 6,
    "start_time": "2021-11-19T18:49:41.412Z"
   },
   {
    "duration": 12,
    "start_time": "2021-11-19T18:49:42.018Z"
   },
   {
    "duration": 8,
    "start_time": "2021-11-19T18:50:15.511Z"
   },
   {
    "duration": 10,
    "start_time": "2021-11-19T18:50:15.940Z"
   },
   {
    "duration": 17,
    "start_time": "2021-11-19T18:51:20.077Z"
   },
   {
    "duration": 328,
    "start_time": "2021-11-19T18:51:20.473Z"
   },
   {
    "duration": 376,
    "start_time": "2021-11-19T18:51:50.747Z"
   },
   {
    "duration": 15,
    "start_time": "2021-11-19T18:52:04.386Z"
   },
   {
    "duration": 5,
    "start_time": "2021-11-19T18:52:04.934Z"
   },
   {
    "duration": 20,
    "start_time": "2021-11-19T18:53:24.767Z"
   },
   {
    "duration": 418,
    "start_time": "2021-11-19T18:59:51.934Z"
   },
   {
    "duration": 267,
    "start_time": "2021-11-19T19:01:37.926Z"
   },
   {
    "duration": 696,
    "start_time": "2021-11-19T19:01:45.273Z"
   },
   {
    "duration": 20,
    "start_time": "2021-11-19T19:01:59.304Z"
   },
   {
    "duration": 9,
    "start_time": "2021-11-19T19:02:19.608Z"
   },
   {
    "duration": 42,
    "start_time": "2021-11-19T19:03:47.158Z"
   },
   {
    "duration": 6,
    "start_time": "2021-11-19T19:06:56.550Z"
   },
   {
    "duration": 11,
    "start_time": "2021-11-19T19:06:58.305Z"
   },
   {
    "duration": 13,
    "start_time": "2021-11-19T19:08:53.214Z"
   },
   {
    "duration": 15,
    "start_time": "2021-11-19T19:08:57.308Z"
   },
   {
    "duration": 14,
    "start_time": "2021-11-19T19:09:25.421Z"
   },
   {
    "duration": 18,
    "start_time": "2021-11-19T19:09:25.778Z"
   },
   {
    "duration": 16,
    "start_time": "2021-11-19T19:16:16.307Z"
   },
   {
    "duration": 17,
    "start_time": "2021-11-19T19:16:20.915Z"
   },
   {
    "duration": 25,
    "start_time": "2021-11-19T19:16:35.523Z"
   },
   {
    "duration": 61,
    "start_time": "2021-11-19T19:17:27.548Z"
   },
   {
    "duration": 31,
    "start_time": "2021-11-19T19:17:28.422Z"
   },
   {
    "duration": 339,
    "start_time": "2021-11-19T19:17:40.786Z"
   },
   {
    "duration": 938,
    "start_time": "2021-11-19T19:18:13.519Z"
   },
   {
    "duration": 18,
    "start_time": "2021-11-19T19:18:15.459Z"
   },
   {
    "duration": 6,
    "start_time": "2021-11-19T19:18:17.640Z"
   },
   {
    "duration": 13,
    "start_time": "2021-11-19T19:18:18.152Z"
   },
   {
    "duration": 14,
    "start_time": "2021-11-19T19:18:18.941Z"
   },
   {
    "duration": 8,
    "start_time": "2021-11-19T19:18:20.038Z"
   },
   {
    "duration": 19,
    "start_time": "2021-11-19T19:18:21.062Z"
   },
   {
    "duration": 8729,
    "start_time": "2021-11-19T19:18:22.094Z"
   },
   {
    "duration": -72,
    "start_time": "2021-11-19T19:18:30.898Z"
   },
   {
    "duration": 12,
    "start_time": "2021-11-19T19:18:31.016Z"
   },
   {
    "duration": 14,
    "start_time": "2021-11-19T19:18:32.689Z"
   },
   {
    "duration": 73,
    "start_time": "2021-11-19T19:18:33.991Z"
   },
   {
    "duration": 30,
    "start_time": "2021-11-19T19:18:34.912Z"
   },
   {
    "duration": 20,
    "start_time": "2021-11-19T19:19:59.869Z"
   },
   {
    "duration": 41,
    "start_time": "2021-11-19T19:20:26.643Z"
   },
   {
    "duration": 79,
    "start_time": "2021-11-19T19:20:46.468Z"
   },
   {
    "duration": 341,
    "start_time": "2021-11-19T19:23:00.365Z"
   },
   {
    "duration": 350,
    "start_time": "2021-11-19T19:29:51.551Z"
   },
   {
    "duration": 116,
    "start_time": "2021-11-19T19:44:55.806Z"
   },
   {
    "duration": 113,
    "start_time": "2021-11-19T19:45:24.129Z"
   },
   {
    "duration": 117,
    "start_time": "2021-11-19T19:45:36.843Z"
   },
   {
    "duration": 330,
    "start_time": "2021-11-19T19:45:44.355Z"
   },
   {
    "duration": 349,
    "start_time": "2021-11-19T19:45:55.014Z"
   },
   {
    "duration": 358,
    "start_time": "2021-11-19T19:45:55.475Z"
   },
   {
    "duration": 392,
    "start_time": "2021-11-19T19:46:35.344Z"
   },
   {
    "duration": 359,
    "start_time": "2021-11-19T19:46:43.178Z"
   },
   {
    "duration": 395,
    "start_time": "2021-11-19T19:48:56.095Z"
   },
   {
    "duration": 20,
    "start_time": "2021-11-19T19:52:40.821Z"
   },
   {
    "duration": 885,
    "start_time": "2021-11-19T19:54:25.467Z"
   },
   {
    "duration": 105,
    "start_time": "2021-11-19T19:54:51.315Z"
   },
   {
    "duration": 6586,
    "start_time": "2021-11-19T19:54:56.084Z"
   },
   {
    "duration": 6374,
    "start_time": "2021-11-19T19:57:18.489Z"
   },
   {
    "duration": 4,
    "start_time": "2021-11-19T19:58:10.029Z"
   },
   {
    "duration": 19,
    "start_time": "2021-11-19T19:58:12.047Z"
   },
   {
    "duration": 6293,
    "start_time": "2021-11-19T19:58:12.484Z"
   },
   {
    "duration": 6831,
    "start_time": "2021-11-19T19:58:49.030Z"
   },
   {
    "duration": 112,
    "start_time": "2021-11-19T20:44:54.116Z"
   },
   {
    "duration": 9,
    "start_time": "2021-11-19T20:44:58.670Z"
   },
   {
    "duration": 5,
    "start_time": "2021-11-19T20:45:29.189Z"
   },
   {
    "duration": 40,
    "start_time": "2021-11-19T20:46:12.216Z"
   },
   {
    "duration": 338,
    "start_time": "2021-11-19T20:50:17.586Z"
   },
   {
    "duration": 2332,
    "start_time": "2021-11-19T20:50:24.374Z"
   },
   {
    "duration": 2326,
    "start_time": "2021-11-19T20:51:50.847Z"
   },
   {
    "duration": 13,
    "start_time": "2021-11-19T20:52:15.402Z"
   },
   {
    "duration": 40,
    "start_time": "2021-11-19T20:52:24.196Z"
   },
   {
    "duration": 344,
    "start_time": "2021-11-19T20:55:11.484Z"
   },
   {
    "duration": 64,
    "start_time": "2021-11-19T20:55:29.970Z"
   },
   {
    "duration": 53,
    "start_time": "2021-11-19T20:56:11.305Z"
   },
   {
    "duration": 53,
    "start_time": "2021-11-19T20:56:41.118Z"
   },
   {
    "duration": 256,
    "start_time": "2021-11-20T06:37:04.544Z"
   },
   {
    "duration": 589,
    "start_time": "2021-11-20T06:37:13.215Z"
   },
   {
    "duration": 9,
    "start_time": "2021-11-20T06:37:13.948Z"
   },
   {
    "duration": 4,
    "start_time": "2021-11-20T06:37:17.351Z"
   },
   {
    "duration": 8,
    "start_time": "2021-11-20T06:37:17.959Z"
   },
   {
    "duration": 8,
    "start_time": "2021-11-20T06:37:19.089Z"
   },
   {
    "duration": 4,
    "start_time": "2021-11-20T06:37:20.457Z"
   },
   {
    "duration": 11,
    "start_time": "2021-11-20T06:37:20.905Z"
   },
   {
    "duration": 9,
    "start_time": "2021-11-20T06:37:22.086Z"
   },
   {
    "duration": 12,
    "start_time": "2021-11-20T06:37:37.874Z"
   },
   {
    "duration": 4310,
    "start_time": "2021-11-20T06:37:38.511Z"
   },
   {
    "duration": 645,
    "start_time": "2021-11-20T06:44:40.687Z"
   },
   {
    "duration": 9,
    "start_time": "2021-11-20T06:44:48.407Z"
   },
   {
    "duration": 614,
    "start_time": "2021-11-20T06:45:32.288Z"
   },
   {
    "duration": 10,
    "start_time": "2021-11-20T06:45:33.279Z"
   },
   {
    "duration": 3,
    "start_time": "2021-11-20T06:45:35.210Z"
   },
   {
    "duration": 7,
    "start_time": "2021-11-20T06:45:35.727Z"
   },
   {
    "duration": 8,
    "start_time": "2021-11-20T06:45:40.132Z"
   },
   {
    "duration": 5,
    "start_time": "2021-11-20T06:45:40.141Z"
   },
   {
    "duration": 11,
    "start_time": "2021-11-20T06:45:40.147Z"
   },
   {
    "duration": 8,
    "start_time": "2021-11-20T06:45:40.159Z"
   },
   {
    "duration": 10,
    "start_time": "2021-11-20T06:45:41.327Z"
   },
   {
    "duration": 631,
    "start_time": "2021-11-20T06:45:42.063Z"
   },
   {
    "duration": 9,
    "start_time": "2021-11-20T06:45:43.615Z"
   },
   {
    "duration": 654,
    "start_time": "2021-11-20T06:47:50.354Z"
   },
   {
    "duration": 9,
    "start_time": "2021-11-20T06:47:51.009Z"
   },
   {
    "duration": 3,
    "start_time": "2021-11-20T06:47:52.987Z"
   },
   {
    "duration": 7,
    "start_time": "2021-11-20T06:47:53.559Z"
   },
   {
    "duration": 8,
    "start_time": "2021-11-20T06:47:54.673Z"
   },
   {
    "duration": 5,
    "start_time": "2021-11-20T06:47:56.120Z"
   },
   {
    "duration": 12,
    "start_time": "2021-11-20T06:47:57.169Z"
   },
   {
    "duration": 8,
    "start_time": "2021-11-20T06:47:57.984Z"
   },
   {
    "duration": 10,
    "start_time": "2021-11-20T06:47:59.497Z"
   },
   {
    "duration": 2,
    "start_time": "2021-11-20T06:48:00.320Z"
   },
   {
    "duration": 8,
    "start_time": "2021-11-20T06:48:01.419Z"
   },
   {
    "duration": 9,
    "start_time": "2021-11-20T06:48:02.463Z"
   },
   {
    "duration": 470,
    "start_time": "2021-11-20T06:51:49.064Z"
   },
   {
    "duration": 613,
    "start_time": "2021-11-20T06:51:50.220Z"
   },
   {
    "duration": 461,
    "start_time": "2021-11-20T06:51:51.444Z"
   },
   {
    "duration": 460,
    "start_time": "2021-11-20T06:51:52.509Z"
   },
   {
    "duration": 9,
    "start_time": "2021-11-20T06:51:53.802Z"
   },
   {
    "duration": 6,
    "start_time": "2021-11-20T06:59:06.706Z"
   },
   {
    "duration": 5,
    "start_time": "2021-11-20T06:59:53.422Z"
   },
   {
    "duration": 585,
    "start_time": "2021-11-20T07:00:13.125Z"
   },
   {
    "duration": 10,
    "start_time": "2021-11-20T07:00:14.360Z"
   },
   {
    "duration": 4,
    "start_time": "2021-11-20T07:00:16.435Z"
   },
   {
    "duration": 8,
    "start_time": "2021-11-20T07:00:16.800Z"
   },
   {
    "duration": 8,
    "start_time": "2021-11-20T07:00:17.341Z"
   },
   {
    "duration": 5,
    "start_time": "2021-11-20T07:00:18.087Z"
   },
   {
    "duration": 8,
    "start_time": "2021-11-20T07:00:18.576Z"
   },
   {
    "duration": 4,
    "start_time": "2021-11-20T07:00:19.032Z"
   },
   {
    "duration": 8,
    "start_time": "2021-11-20T07:00:19.732Z"
   },
   {
    "duration": 645,
    "start_time": "2021-11-20T07:00:20.689Z"
   },
   {
    "duration": 619,
    "start_time": "2021-11-20T07:00:21.382Z"
   },
   {
    "duration": 463,
    "start_time": "2021-11-20T07:00:22.028Z"
   },
   {
    "duration": 458,
    "start_time": "2021-11-20T07:00:22.694Z"
   },
   {
    "duration": 9,
    "start_time": "2021-11-20T07:00:23.292Z"
   },
   {
    "duration": 5,
    "start_time": "2021-11-20T07:00:24.383Z"
   },
   {
    "duration": 9,
    "start_time": "2021-11-20T07:00:25.190Z"
   },
   {
    "duration": 6,
    "start_time": "2021-11-20T07:00:26.038Z"
   },
   {
    "duration": 34,
    "start_time": "2021-11-20T07:00:26.830Z"
   },
   {
    "duration": 15,
    "start_time": "2021-11-20T07:00:27.380Z"
   },
   {
    "duration": 10,
    "start_time": "2021-11-20T07:00:28.519Z"
   },
   {
    "duration": 7,
    "start_time": "2021-11-20T07:00:34.592Z"
   },
   {
    "duration": 4,
    "start_time": "2021-11-20T07:00:36.580Z"
   },
   {
    "duration": 30,
    "start_time": "2021-11-20T07:00:38.036Z"
   },
   {
    "duration": 4,
    "start_time": "2021-11-20T07:00:49.450Z"
   },
   {
    "duration": 411,
    "start_time": "2021-11-20T07:00:50.150Z"
   },
   {
    "duration": 5,
    "start_time": "2021-11-20T07:00:51.713Z"
   },
   {
    "duration": 22,
    "start_time": "2021-11-20T07:01:05.695Z"
   },
   {
    "duration": 9,
    "start_time": "2021-11-20T07:02:38.986Z"
   },
   {
    "duration": 15,
    "start_time": "2021-11-20T07:02:49.030Z"
   },
   {
    "duration": 7,
    "start_time": "2021-11-20T07:03:10.559Z"
   },
   {
    "duration": 9,
    "start_time": "2021-11-20T07:03:17.840Z"
   },
   {
    "duration": 9,
    "start_time": "2021-11-20T07:03:44.344Z"
   },
   {
    "duration": 675,
    "start_time": "2021-11-20T07:03:53.289Z"
   },
   {
    "duration": 10,
    "start_time": "2021-11-20T07:03:53.966Z"
   },
   {
    "duration": 4,
    "start_time": "2021-11-20T07:03:54.651Z"
   },
   {
    "duration": 7,
    "start_time": "2021-11-20T07:03:54.831Z"
   },
   {
    "duration": 8,
    "start_time": "2021-11-20T07:03:55.148Z"
   },
   {
    "duration": 5,
    "start_time": "2021-11-20T07:03:55.755Z"
   },
   {
    "duration": 7,
    "start_time": "2021-11-20T07:03:56.157Z"
   },
   {
    "duration": 4,
    "start_time": "2021-11-20T07:03:56.563Z"
   },
   {
    "duration": 7,
    "start_time": "2021-11-20T07:03:56.970Z"
   },
   {
    "duration": 663,
    "start_time": "2021-11-20T07:03:57.395Z"
   },
   {
    "duration": 636,
    "start_time": "2021-11-20T07:03:58.060Z"
   },
   {
    "duration": 489,
    "start_time": "2021-11-20T07:03:58.698Z"
   },
   {
    "duration": 557,
    "start_time": "2021-11-20T07:03:59.189Z"
   },
   {
    "duration": 5,
    "start_time": "2021-11-20T07:03:59.747Z"
   },
   {
    "duration": 8,
    "start_time": "2021-11-20T07:03:59.754Z"
   },
   {
    "duration": 5,
    "start_time": "2021-11-20T07:04:00.757Z"
   },
   {
    "duration": 33,
    "start_time": "2021-11-20T07:04:01.756Z"
   },
   {
    "duration": 14,
    "start_time": "2021-11-20T07:04:02.324Z"
   },
   {
    "duration": 6,
    "start_time": "2021-11-20T07:04:33.506Z"
   },
   {
    "duration": 8,
    "start_time": "2021-11-20T07:04:35.823Z"
   },
   {
    "duration": 6,
    "start_time": "2021-11-20T07:05:14.093Z"
   },
   {
    "duration": 10,
    "start_time": "2021-11-20T07:05:18.943Z"
   },
   {
    "duration": 7,
    "start_time": "2021-11-20T07:06:58.055Z"
   },
   {
    "duration": 10,
    "start_time": "2021-11-20T07:07:01.418Z"
   },
   {
    "duration": 7,
    "start_time": "2021-11-20T07:08:01.781Z"
   },
   {
    "duration": 9,
    "start_time": "2021-11-20T07:08:05.677Z"
   },
   {
    "duration": 10,
    "start_time": "2021-11-20T07:11:33.105Z"
   },
   {
    "duration": 9,
    "start_time": "2021-11-20T07:11:38.500Z"
   },
   {
    "duration": 10,
    "start_time": "2021-11-20T07:12:07.781Z"
   },
   {
    "duration": 9,
    "start_time": "2021-11-20T07:12:15.537Z"
   },
   {
    "duration": 9,
    "start_time": "2021-11-20T07:12:36.422Z"
   },
   {
    "duration": 9,
    "start_time": "2021-11-20T07:12:37.451Z"
   },
   {
    "duration": 11,
    "start_time": "2021-11-20T07:12:52.611Z"
   },
   {
    "duration": 10,
    "start_time": "2021-11-20T07:12:53.525Z"
   },
   {
    "duration": 7,
    "start_time": "2021-11-20T07:13:02.463Z"
   },
   {
    "duration": 9,
    "start_time": "2021-11-20T07:13:05.543Z"
   },
   {
    "duration": 10,
    "start_time": "2021-11-20T07:14:03.302Z"
   },
   {
    "duration": 9,
    "start_time": "2021-11-20T07:14:04.312Z"
   },
   {
    "duration": 3,
    "start_time": "2021-11-20T07:15:07.246Z"
   },
   {
    "duration": 5,
    "start_time": "2021-11-20T07:15:19.519Z"
   },
   {
    "duration": 6,
    "start_time": "2021-11-20T07:15:20.909Z"
   },
   {
    "duration": 32,
    "start_time": "2021-11-20T07:15:22.573Z"
   },
   {
    "duration": 9,
    "start_time": "2021-11-20T07:15:23.390Z"
   },
   {
    "duration": 658,
    "start_time": "2021-11-20T07:18:34.062Z"
   },
   {
    "duration": 9,
    "start_time": "2021-11-20T07:18:34.722Z"
   },
   {
    "duration": 4,
    "start_time": "2021-11-20T07:18:37.293Z"
   },
   {
    "duration": 8,
    "start_time": "2021-11-20T07:18:37.801Z"
   },
   {
    "duration": 8,
    "start_time": "2021-11-20T07:18:39.025Z"
   },
   {
    "duration": 5,
    "start_time": "2021-11-20T07:18:40.292Z"
   },
   {
    "duration": 9,
    "start_time": "2021-11-20T07:18:41.151Z"
   },
   {
    "duration": 4,
    "start_time": "2021-11-20T07:18:41.988Z"
   },
   {
    "duration": 8,
    "start_time": "2021-11-20T07:18:43.186Z"
   },
   {
    "duration": 5,
    "start_time": "2021-11-20T07:18:44.151Z"
   },
   {
    "duration": 711,
    "start_time": "2021-11-20T07:18:45.143Z"
   },
   {
    "duration": 730,
    "start_time": "2021-11-20T07:18:45.856Z"
   },
   {
    "duration": 479,
    "start_time": "2021-11-20T07:18:46.588Z"
   },
   {
    "duration": 575,
    "start_time": "2021-11-20T07:18:47.069Z"
   },
   {
    "duration": 5,
    "start_time": "2021-11-20T07:18:48.215Z"
   },
   {
    "duration": 9,
    "start_time": "2021-11-20T07:18:49.160Z"
   },
   {
    "duration": 5,
    "start_time": "2021-11-20T07:18:50.048Z"
   },
   {
    "duration": 32,
    "start_time": "2021-11-20T07:18:50.805Z"
   },
   {
    "duration": 14,
    "start_time": "2021-11-20T07:18:51.140Z"
   },
   {
    "duration": 23,
    "start_time": "2021-11-20T07:19:57.768Z"
   },
   {
    "duration": 21,
    "start_time": "2021-11-20T07:20:27.057Z"
   },
   {
    "duration": 36,
    "start_time": "2021-11-20T07:21:22.847Z"
   },
   {
    "duration": 6,
    "start_time": "2021-11-20T07:21:54.965Z"
   },
   {
    "duration": 308,
    "start_time": "2021-11-20T07:30:56.263Z"
   },
   {
    "duration": 692,
    "start_time": "2021-11-20T07:31:11.940Z"
   },
   {
    "duration": 3,
    "start_time": "2021-11-20T07:33:13.107Z"
   },
   {
    "duration": 5960,
    "start_time": "2021-11-20T07:34:26.485Z"
   },
   {
    "duration": 2014,
    "start_time": "2021-11-20T07:34:44.394Z"
   },
   {
    "duration": 3,
    "start_time": "2021-11-20T07:36:32.484Z"
   },
   {
    "duration": 1165,
    "start_time": "2021-11-20T07:36:33.154Z"
   },
   {
    "duration": 262,
    "start_time": "2021-11-20T08:55:42.163Z"
   },
   {
    "duration": 788,
    "start_time": "2021-11-20T08:55:51.413Z"
   },
   {
    "duration": 160,
    "start_time": "2021-11-20T08:55:57.684Z"
   },
   {
    "duration": 285,
    "start_time": "2021-11-20T08:56:04.544Z"
   },
   {
    "duration": 305,
    "start_time": "2021-11-20T08:56:10.816Z"
   },
   {
    "duration": 192,
    "start_time": "2021-11-20T08:56:17.542Z"
   },
   {
    "duration": 227,
    "start_time": "2021-11-20T08:56:25.610Z"
   },
   {
    "duration": 184,
    "start_time": "2021-11-20T08:56:30.305Z"
   },
   {
    "duration": 91,
    "start_time": "2021-11-20T08:58:56.510Z"
   },
   {
    "duration": 184,
    "start_time": "2021-11-20T08:59:03.458Z"
   },
   {
    "duration": 181,
    "start_time": "2021-11-20T08:59:15.992Z"
   },
   {
    "duration": 235,
    "start_time": "2021-11-20T08:59:32.640Z"
   },
   {
    "duration": 185,
    "start_time": "2021-11-20T09:00:40.471Z"
   },
   {
    "duration": 191,
    "start_time": "2021-11-20T09:00:49.929Z"
   },
   {
    "duration": 185,
    "start_time": "2021-11-20T09:00:55.193Z"
   },
   {
    "duration": 168,
    "start_time": "2021-11-20T09:01:04.545Z"
   },
   {
    "duration": 162,
    "start_time": "2021-11-20T09:01:12.316Z"
   },
   {
    "duration": 227,
    "start_time": "2021-11-20T09:01:18.249Z"
   },
   {
    "duration": 179,
    "start_time": "2021-11-20T09:01:25.397Z"
   },
   {
    "duration": 207,
    "start_time": "2021-11-20T09:02:57.694Z"
   },
   {
    "duration": 316,
    "start_time": "2021-11-20T09:03:02.906Z"
   },
   {
    "duration": 241,
    "start_time": "2021-11-20T09:03:07.649Z"
   },
   {
    "duration": 157,
    "start_time": "2021-11-20T09:03:13.940Z"
   },
   {
    "duration": 182,
    "start_time": "2021-11-20T09:03:18.645Z"
   },
   {
    "duration": 200,
    "start_time": "2021-11-20T09:03:23.093Z"
   },
   {
    "duration": 169,
    "start_time": "2021-11-20T09:03:27.344Z"
   },
   {
    "duration": 179,
    "start_time": "2021-11-20T09:04:21.530Z"
   },
   {
    "duration": 154,
    "start_time": "2021-11-20T09:04:29.411Z"
   },
   {
    "duration": 183,
    "start_time": "2021-11-20T09:04:34.834Z"
   },
   {
    "duration": 175,
    "start_time": "2021-11-20T09:05:00.648Z"
   },
   {
    "duration": 185,
    "start_time": "2021-11-20T09:05:17.704Z"
   },
   {
    "duration": 197,
    "start_time": "2021-11-20T09:05:20.757Z"
   },
   {
    "duration": 206,
    "start_time": "2021-11-20T09:09:45.046Z"
   },
   {
    "duration": 188,
    "start_time": "2021-11-20T09:10:50.654Z"
   },
   {
    "duration": 278,
    "start_time": "2021-11-20T09:11:04.662Z"
   },
   {
    "duration": 187,
    "start_time": "2021-11-20T09:11:16.047Z"
   },
   {
    "duration": 190,
    "start_time": "2021-11-20T09:11:28.553Z"
   },
   {
    "duration": 9,
    "start_time": "2021-11-20T09:14:51.747Z"
   },
   {
    "duration": 226,
    "start_time": "2021-11-20T09:14:59.825Z"
   },
   {
    "duration": 5,
    "start_time": "2021-11-20T09:15:12.209Z"
   },
   {
    "duration": 7,
    "start_time": "2021-11-20T09:25:43.028Z"
   },
   {
    "duration": 40,
    "start_time": "2021-11-20T09:25:45.541Z"
   },
   {
    "duration": 10,
    "start_time": "2021-11-20T09:25:46.325Z"
   },
   {
    "duration": 604,
    "start_time": "2021-11-20T09:26:03.810Z"
   },
   {
    "duration": 9,
    "start_time": "2021-11-20T09:26:04.416Z"
   },
   {
    "duration": 3,
    "start_time": "2021-11-20T09:26:06.916Z"
   },
   {
    "duration": 8,
    "start_time": "2021-11-20T09:26:07.507Z"
   },
   {
    "duration": 8,
    "start_time": "2021-11-20T09:26:08.749Z"
   },
   {
    "duration": 5,
    "start_time": "2021-11-20T09:26:10.045Z"
   },
   {
    "duration": 8,
    "start_time": "2021-11-20T09:26:10.904Z"
   },
   {
    "duration": 4,
    "start_time": "2021-11-20T09:26:11.706Z"
   },
   {
    "duration": 8,
    "start_time": "2021-11-20T09:26:12.617Z"
   },
   {
    "duration": 5,
    "start_time": "2021-11-20T09:26:13.264Z"
   },
   {
    "duration": 761,
    "start_time": "2021-11-20T09:26:13.781Z"
   },
   {
    "duration": 644,
    "start_time": "2021-11-20T09:26:14.544Z"
   },
   {
    "duration": 480,
    "start_time": "2021-11-20T09:26:15.190Z"
   },
   {
    "duration": 477,
    "start_time": "2021-11-20T09:26:15.671Z"
   },
   {
    "duration": 5,
    "start_time": "2021-11-20T09:26:16.150Z"
   },
   {
    "duration": 8,
    "start_time": "2021-11-20T09:26:16.717Z"
   },
   {
    "duration": 7,
    "start_time": "2021-11-20T09:26:17.950Z"
   },
   {
    "duration": 33,
    "start_time": "2021-11-20T09:26:19.297Z"
   },
   {
    "duration": 14,
    "start_time": "2021-11-20T09:26:19.895Z"
   },
   {
    "duration": 60,
    "start_time": "2021-11-20T09:27:32.990Z"
   },
   {
    "duration": 16,
    "start_time": "2021-11-20T09:27:36.866Z"
   },
   {
    "duration": 42,
    "start_time": "2021-11-20T09:27:49.967Z"
   },
   {
    "duration": 44,
    "start_time": "2021-11-20T09:28:00.552Z"
   },
   {
    "duration": 9,
    "start_time": "2021-11-20T09:28:01.096Z"
   },
   {
    "duration": 42,
    "start_time": "2021-11-20T09:29:22.472Z"
   },
   {
    "duration": 11,
    "start_time": "2021-11-20T09:29:35.954Z"
   },
   {
    "duration": 41,
    "start_time": "2021-11-20T09:29:40.593Z"
   },
   {
    "duration": 11,
    "start_time": "2021-11-20T09:29:41.256Z"
   },
   {
    "duration": 10,
    "start_time": "2021-11-20T09:31:13.175Z"
   },
   {
    "duration": 39,
    "start_time": "2021-11-20T09:31:17.095Z"
   },
   {
    "duration": 11,
    "start_time": "2021-11-20T09:31:17.653Z"
   },
   {
    "duration": 77,
    "start_time": "2021-11-20T09:44:59.977Z"
   },
   {
    "duration": 6,
    "start_time": "2021-11-20T09:45:06.162Z"
   },
   {
    "duration": 4,
    "start_time": "2021-11-20T09:45:52.393Z"
   },
   {
    "duration": 4,
    "start_time": "2021-11-20T09:46:05.823Z"
   },
   {
    "duration": 280,
    "start_time": "2021-11-20T09:49:06.949Z"
   },
   {
    "duration": 1059,
    "start_time": "2021-11-20T09:50:02.643Z"
   },
   {
    "duration": 205,
    "start_time": "2021-11-20T09:50:21.356Z"
   },
   {
    "duration": 5425,
    "start_time": "2021-11-20T09:57:04.471Z"
   },
   {
    "duration": 471,
    "start_time": "2021-11-20T09:57:31.569Z"
   },
   {
    "duration": 648,
    "start_time": "2021-11-20T09:59:31.584Z"
   },
   {
    "duration": 9,
    "start_time": "2021-11-20T09:59:32.234Z"
   },
   {
    "duration": 4,
    "start_time": "2021-11-20T09:59:33.152Z"
   },
   {
    "duration": 8,
    "start_time": "2021-11-20T09:59:33.365Z"
   },
   {
    "duration": 7,
    "start_time": "2021-11-20T09:59:33.978Z"
   },
   {
    "duration": 5,
    "start_time": "2021-11-20T09:59:34.563Z"
   },
   {
    "duration": 8,
    "start_time": "2021-11-20T09:59:34.986Z"
   },
   {
    "duration": 4,
    "start_time": "2021-11-20T09:59:35.388Z"
   },
   {
    "duration": 8,
    "start_time": "2021-11-20T09:59:35.793Z"
   },
   {
    "duration": 5,
    "start_time": "2021-11-20T09:59:36.207Z"
   },
   {
    "duration": 670,
    "start_time": "2021-11-20T09:59:36.618Z"
   },
   {
    "duration": 637,
    "start_time": "2021-11-20T09:59:37.289Z"
   },
   {
    "duration": 488,
    "start_time": "2021-11-20T09:59:37.928Z"
   },
   {
    "duration": 478,
    "start_time": "2021-11-20T09:59:38.418Z"
   },
   {
    "duration": 5,
    "start_time": "2021-11-20T09:59:38.897Z"
   },
   {
    "duration": 9,
    "start_time": "2021-11-20T09:59:38.904Z"
   },
   {
    "duration": 8,
    "start_time": "2021-11-20T09:59:38.914Z"
   },
   {
    "duration": 30,
    "start_time": "2021-11-20T09:59:39.032Z"
   },
   {
    "duration": 14,
    "start_time": "2021-11-20T09:59:39.251Z"
   },
   {
    "duration": 8,
    "start_time": "2021-11-20T09:59:40.200Z"
   },
   {
    "duration": 9,
    "start_time": "2021-11-20T09:59:40.658Z"
   },
   {
    "duration": 4,
    "start_time": "2021-11-20T09:59:41.357Z"
   },
   {
    "duration": 14,
    "start_time": "2021-11-20T09:59:41.818Z"
   },
   {
    "duration": 3,
    "start_time": "2021-11-20T09:59:42.277Z"
   },
   {
    "duration": 399,
    "start_time": "2021-11-20T09:59:42.532Z"
   },
   {
    "duration": 5,
    "start_time": "2021-11-20T09:59:43.083Z"
   },
   {
    "duration": 21,
    "start_time": "2021-11-20T09:59:43.381Z"
   },
   {
    "duration": 254,
    "start_time": "2021-11-20T09:59:44.393Z"
   },
   {
    "duration": 218,
    "start_time": "2021-11-20T09:59:45.355Z"
   },
   {
    "duration": 198,
    "start_time": "2021-11-20T09:59:46.264Z"
   },
   {
    "duration": 203,
    "start_time": "2021-11-20T09:59:47.235Z"
   },
   {
    "duration": 207,
    "start_time": "2021-11-20T09:59:48.240Z"
   },
   {
    "duration": 5,
    "start_time": "2021-11-20T09:59:48.942Z"
   },
   {
    "duration": 207,
    "start_time": "2021-11-20T09:59:50.412Z"
   },
   {
    "duration": 491,
    "start_time": "2021-11-20T09:59:51.496Z"
   },
   {
    "duration": 463,
    "start_time": "2021-11-20T10:00:25.059Z"
   },
   {
    "duration": 454,
    "start_time": "2021-11-20T10:00:26.390Z"
   },
   {
    "duration": 289,
    "start_time": "2021-11-20T10:00:27.389Z"
   },
   {
    "duration": 455,
    "start_time": "2021-11-20T10:00:28.651Z"
   },
   {
    "duration": 442,
    "start_time": "2021-11-20T10:00:30.162Z"
   },
   {
    "duration": 448,
    "start_time": "2021-11-20T10:00:33.691Z"
   },
   {
    "duration": 496,
    "start_time": "2021-11-20T10:02:30.834Z"
   },
   {
    "duration": 481,
    "start_time": "2021-11-20T10:10:52.550Z"
   },
   {
    "duration": 335,
    "start_time": "2021-11-20T10:14:13.351Z"
   },
   {
    "duration": 332,
    "start_time": "2021-11-20T10:14:20.787Z"
   },
   {
    "duration": 335,
    "start_time": "2021-11-20T10:14:41.342Z"
   },
   {
    "duration": 340,
    "start_time": "2021-11-20T10:14:51.847Z"
   },
   {
    "duration": 451,
    "start_time": "2021-11-20T10:15:03.380Z"
   },
   {
    "duration": 570,
    "start_time": "2021-11-20T10:15:04.708Z"
   },
   {
    "duration": 444,
    "start_time": "2021-11-20T10:15:19.706Z"
   },
   {
    "duration": 333,
    "start_time": "2021-11-20T10:16:28.483Z"
   },
   {
    "duration": 690,
    "start_time": "2021-11-20T10:17:15.604Z"
   },
   {
    "duration": 69,
    "start_time": "2021-11-20T10:17:37.479Z"
   },
   {
    "duration": 335,
    "start_time": "2021-11-20T10:17:42.545Z"
   },
   {
    "duration": 244,
    "start_time": "2021-11-20T10:18:02.072Z"
   },
   {
    "duration": 244,
    "start_time": "2021-11-20T10:18:54.863Z"
   },
   {
    "duration": 481,
    "start_time": "2021-11-20T10:22:55.771Z"
   },
   {
    "duration": 478,
    "start_time": "2021-11-20T10:23:25.267Z"
   },
   {
    "duration": 305,
    "start_time": "2021-11-20T10:23:34.693Z"
   },
   {
    "duration": 258,
    "start_time": "2021-11-20T10:25:08.031Z"
   },
   {
    "duration": 463,
    "start_time": "2021-11-20T10:26:40.052Z"
   },
   {
    "duration": 237,
    "start_time": "2021-11-20T10:26:51.923Z"
   },
   {
    "duration": 248,
    "start_time": "2021-11-20T10:37:00.964Z"
   },
   {
    "duration": 325,
    "start_time": "2021-11-20T10:38:12.607Z"
   },
   {
    "duration": 7,
    "start_time": "2021-11-20T11:02:58.829Z"
   },
   {
    "duration": 8,
    "start_time": "2021-11-20T11:03:08.707Z"
   },
   {
    "duration": 232,
    "start_time": "2021-11-20T11:06:29.842Z"
   },
   {
    "duration": 7,
    "start_time": "2021-11-20T11:06:33.787Z"
   },
   {
    "duration": 4,
    "start_time": "2021-11-20T11:06:34.963Z"
   },
   {
    "duration": 7,
    "start_time": "2021-11-20T11:06:56.557Z"
   },
   {
    "duration": 7,
    "start_time": "2021-11-20T11:07:50.031Z"
   },
   {
    "duration": 9,
    "start_time": "2021-11-20T11:09:32.706Z"
   },
   {
    "duration": 8,
    "start_time": "2021-11-20T11:10:50.365Z"
   },
   {
    "duration": 8,
    "start_time": "2021-11-20T11:11:00.387Z"
   },
   {
    "duration": 33,
    "start_time": "2021-11-20T11:12:42.636Z"
   },
   {
    "duration": 220,
    "start_time": "2021-11-20T11:23:51.728Z"
   },
   {
    "duration": 7,
    "start_time": "2021-11-20T11:23:55.057Z"
   },
   {
    "duration": 5,
    "start_time": "2021-11-20T11:23:55.500Z"
   },
   {
    "duration": 4233,
    "start_time": "2021-11-20T11:24:29.975Z"
   },
   {
    "duration": 4,
    "start_time": "2021-11-20T11:24:47.882Z"
   },
   {
    "duration": 5821,
    "start_time": "2021-11-20T11:24:57.329Z"
   },
   {
    "duration": 4166,
    "start_time": "2021-11-20T11:25:15.901Z"
   },
   {
    "duration": 37,
    "start_time": "2021-11-20T11:26:21.470Z"
   },
   {
    "duration": 4167,
    "start_time": "2021-11-20T11:29:37.588Z"
   },
   {
    "duration": 4,
    "start_time": "2021-11-20T11:29:46.201Z"
   },
   {
    "duration": 4103,
    "start_time": "2021-11-20T11:30:50.057Z"
   },
   {
    "duration": 37,
    "start_time": "2021-11-20T11:37:50.082Z"
   },
   {
    "duration": 4,
    "start_time": "2021-11-20T11:39:16.392Z"
   },
   {
    "duration": 5,
    "start_time": "2021-11-20T11:39:25.506Z"
   },
   {
    "duration": 33,
    "start_time": "2021-11-20T11:39:33.669Z"
   },
   {
    "duration": 32,
    "start_time": "2021-11-20T11:39:45.185Z"
   },
   {
    "duration": 10,
    "start_time": "2021-11-20T11:43:23.694Z"
   },
   {
    "duration": 11,
    "start_time": "2021-11-20T11:44:44.086Z"
   },
   {
    "duration": 35,
    "start_time": "2021-11-20T11:44:53.803Z"
   },
   {
    "duration": 12,
    "start_time": "2021-11-20T11:46:13.018Z"
   },
   {
    "duration": 33,
    "start_time": "2021-11-20T11:46:14.281Z"
   },
   {
    "duration": 13,
    "start_time": "2021-11-20T11:46:29.780Z"
   },
   {
    "duration": 33,
    "start_time": "2021-11-20T11:46:30.659Z"
   },
   {
    "duration": 268,
    "start_time": "2021-11-20T11:55:45.944Z"
   },
   {
    "duration": 221,
    "start_time": "2021-11-20T11:56:13.484Z"
   },
   {
    "duration": 278,
    "start_time": "2021-11-20T11:57:03.340Z"
   },
   {
    "duration": 304,
    "start_time": "2021-11-20T11:57:11.156Z"
   },
   {
    "duration": 33,
    "start_time": "2021-11-20T11:58:03.066Z"
   },
   {
    "duration": 280,
    "start_time": "2021-11-20T11:58:04.780Z"
   },
   {
    "duration": 538,
    "start_time": "2021-11-20T12:05:26.773Z"
   },
   {
    "duration": 126195,
    "start_time": "2021-11-20T12:06:09.565Z"
   },
   {
    "duration": 577,
    "start_time": "2021-11-20T12:10:36.288Z"
   },
   {
    "duration": 330,
    "start_time": "2021-11-20T14:15:49.353Z"
   },
   {
    "duration": 34,
    "start_time": "2021-11-20T14:26:00.146Z"
   },
   {
    "duration": 364,
    "start_time": "2021-11-20T14:34:30.047Z"
   },
   {
    "duration": 356,
    "start_time": "2021-11-20T14:37:49.349Z"
   },
   {
    "duration": 361,
    "start_time": "2021-11-20T14:37:56.581Z"
   },
   {
    "duration": 328,
    "start_time": "2021-11-20T14:38:11.413Z"
   },
   {
    "duration": 361,
    "start_time": "2021-11-20T14:49:22.979Z"
   },
   {
    "duration": 620,
    "start_time": "2021-11-20T15:07:41.003Z"
   },
   {
    "duration": 11,
    "start_time": "2021-11-20T15:07:48.352Z"
   },
   {
    "duration": 4,
    "start_time": "2021-11-20T15:07:57.496Z"
   },
   {
    "duration": 8,
    "start_time": "2021-11-20T15:08:01.312Z"
   },
   {
    "duration": 8,
    "start_time": "2021-11-20T15:08:12.332Z"
   },
   {
    "duration": 5,
    "start_time": "2021-11-20T15:08:26.548Z"
   },
   {
    "duration": 4,
    "start_time": "2021-11-20T15:09:24.470Z"
   },
   {
    "duration": 8,
    "start_time": "2021-11-20T15:09:28.410Z"
   },
   {
    "duration": 4,
    "start_time": "2021-11-20T15:09:29.598Z"
   },
   {
    "duration": 8,
    "start_time": "2021-11-20T15:09:31.110Z"
   },
   {
    "duration": 7,
    "start_time": "2021-11-20T15:09:46.164Z"
   },
   {
    "duration": 1039,
    "start_time": "2021-11-20T15:09:47.463Z"
   },
   {
    "duration": 1009,
    "start_time": "2021-11-20T15:11:17.865Z"
   },
   {
    "duration": 475,
    "start_time": "2021-11-20T15:11:19.516Z"
   },
   {
    "duration": 476,
    "start_time": "2021-11-20T15:11:21.082Z"
   },
   {
    "duration": 5,
    "start_time": "2021-11-20T15:11:33.212Z"
   },
   {
    "duration": 9,
    "start_time": "2021-11-20T15:11:35.557Z"
   },
   {
    "duration": 8,
    "start_time": "2021-11-20T15:11:36.915Z"
   },
   {
    "duration": 28,
    "start_time": "2021-11-20T15:11:50.773Z"
   },
   {
    "duration": 14,
    "start_time": "2021-11-20T15:11:52.003Z"
   },
   {
    "duration": 8,
    "start_time": "2021-11-20T15:11:59.000Z"
   },
   {
    "duration": 9,
    "start_time": "2021-11-20T15:12:00.138Z"
   },
   {
    "duration": 4,
    "start_time": "2021-11-20T15:12:06.912Z"
   },
   {
    "duration": 14,
    "start_time": "2021-11-20T15:12:07.914Z"
   },
   {
    "duration": 3,
    "start_time": "2021-11-20T15:12:10.073Z"
   },
   {
    "duration": 408,
    "start_time": "2021-11-20T15:12:12.834Z"
   },
   {
    "duration": 4,
    "start_time": "2021-11-20T15:12:14.102Z"
   },
   {
    "duration": 20,
    "start_time": "2021-11-20T15:12:14.897Z"
   },
   {
    "duration": 241,
    "start_time": "2021-11-20T15:13:46.331Z"
   },
   {
    "duration": 269,
    "start_time": "2021-11-20T15:17:27.891Z"
   },
   {
    "duration": 631,
    "start_time": "2021-11-20T15:17:48.422Z"
   },
   {
    "duration": 9,
    "start_time": "2021-11-20T15:17:49.054Z"
   },
   {
    "duration": 3,
    "start_time": "2021-11-20T15:17:49.493Z"
   },
   {
    "duration": 8,
    "start_time": "2021-11-20T15:17:49.663Z"
   },
   {
    "duration": 7,
    "start_time": "2021-11-20T15:17:50.245Z"
   },
   {
    "duration": 6,
    "start_time": "2021-11-20T15:17:50.817Z"
   },
   {
    "duration": 7,
    "start_time": "2021-11-20T15:17:51.183Z"
   },
   {
    "duration": 4,
    "start_time": "2021-11-20T15:17:51.582Z"
   },
   {
    "duration": 8,
    "start_time": "2021-11-20T15:17:51.986Z"
   },
   {
    "duration": 6,
    "start_time": "2021-11-20T15:17:52.390Z"
   },
   {
    "duration": 689,
    "start_time": "2021-11-20T15:17:52.795Z"
   },
   {
    "duration": 742,
    "start_time": "2021-11-20T15:17:53.487Z"
   },
   {
    "duration": 598,
    "start_time": "2021-11-20T15:17:54.231Z"
   },
   {
    "duration": 489,
    "start_time": "2021-11-20T15:17:54.831Z"
   },
   {
    "duration": 6,
    "start_time": "2021-11-20T15:17:55.322Z"
   },
   {
    "duration": 10,
    "start_time": "2021-11-20T15:17:55.330Z"
   },
   {
    "duration": 10,
    "start_time": "2021-11-20T15:17:55.342Z"
   },
   {
    "duration": 45,
    "start_time": "2021-11-20T15:17:55.353Z"
   },
   {
    "duration": 14,
    "start_time": "2021-11-20T15:17:55.400Z"
   },
   {
    "duration": 9,
    "start_time": "2021-11-20T15:17:55.968Z"
   },
   {
    "duration": 9,
    "start_time": "2021-11-20T15:17:56.409Z"
   },
   {
    "duration": 5,
    "start_time": "2021-11-20T15:17:57.042Z"
   },
   {
    "duration": 15,
    "start_time": "2021-11-20T15:17:57.428Z"
   },
   {
    "duration": 5,
    "start_time": "2021-11-20T15:17:57.796Z"
   },
   {
    "duration": 397,
    "start_time": "2021-11-20T15:17:57.983Z"
   },
   {
    "duration": 5,
    "start_time": "2021-11-20T15:17:58.387Z"
   },
   {
    "duration": 21,
    "start_time": "2021-11-20T15:17:58.614Z"
   },
   {
    "duration": 301,
    "start_time": "2021-11-20T15:17:59.203Z"
   },
   {
    "duration": 207,
    "start_time": "2021-11-20T15:17:59.594Z"
   },
   {
    "duration": 204,
    "start_time": "2021-11-20T15:18:00.014Z"
   },
   {
    "duration": 196,
    "start_time": "2021-11-20T15:18:00.435Z"
   },
   {
    "duration": 198,
    "start_time": "2021-11-20T15:18:00.928Z"
   },
   {
    "duration": 6,
    "start_time": "2021-11-20T15:18:01.136Z"
   },
   {
    "duration": 216,
    "start_time": "2021-11-20T15:18:01.698Z"
   },
   {
    "duration": 458,
    "start_time": "2021-11-20T15:18:02.491Z"
   },
   {
    "duration": 469,
    "start_time": "2021-11-20T15:18:03.152Z"
   },
   {
    "duration": 452,
    "start_time": "2021-11-20T15:18:03.787Z"
   },
   {
    "duration": 249,
    "start_time": "2021-11-20T15:18:04.246Z"
   },
   {
    "duration": 544,
    "start_time": "2021-11-20T15:18:04.861Z"
   },
   {
    "duration": 538,
    "start_time": "2021-11-20T15:18:05.512Z"
   },
   {
    "duration": 492,
    "start_time": "2021-11-20T15:18:06.139Z"
   },
   {
    "duration": 454,
    "start_time": "2021-11-20T15:18:06.753Z"
   },
   {
    "duration": 7,
    "start_time": "2021-11-20T15:18:07.455Z"
   },
   {
    "duration": 43,
    "start_time": "2021-11-20T15:18:07.687Z"
   },
   {
    "duration": 56,
    "start_time": "2021-11-20T15:18:14.385Z"
   },
   {
    "duration": 444,
    "start_time": "2021-11-20T15:18:14.617Z"
   },
   {
    "duration": 55,
    "start_time": "2021-11-20T15:18:15.064Z"
   },
   {
    "duration": 489,
    "start_time": "2021-11-20T15:18:15.121Z"
   },
   {
    "duration": 47,
    "start_time": "2021-11-20T15:18:15.715Z"
   },
   {
    "duration": 274,
    "start_time": "2021-11-20T15:18:16.023Z"
   },
   {
    "duration": 312,
    "start_time": "2021-11-20T15:18:16.298Z"
   },
   {
    "duration": 239,
    "start_time": "2021-11-20T15:18:16.612Z"
   },
   {
    "duration": 274,
    "start_time": "2021-11-20T15:18:16.853Z"
   },
   {
    "duration": 481,
    "start_time": "2021-11-20T15:18:17.129Z"
   },
   {
    "duration": 445,
    "start_time": "2021-11-20T15:18:17.612Z"
   },
   {
    "duration": 549,
    "start_time": "2021-11-20T15:18:18.059Z"
   },
   {
    "duration": 363,
    "start_time": "2021-11-20T15:18:18.610Z"
   },
   {
    "duration": 194,
    "start_time": "2021-11-20T15:21:07.853Z"
   },
   {
    "duration": 201,
    "start_time": "2021-11-20T15:21:09.616Z"
   },
   {
    "duration": 187,
    "start_time": "2021-11-20T15:21:10.824Z"
   },
   {
    "duration": 186,
    "start_time": "2021-11-20T15:21:12.340Z"
   },
   {
    "duration": 1044,
    "start_time": "2021-11-20T17:16:21.576Z"
   },
   {
    "duration": 18,
    "start_time": "2021-11-20T17:16:22.624Z"
   },
   {
    "duration": 5,
    "start_time": "2021-11-20T17:16:22.645Z"
   },
   {
    "duration": 48,
    "start_time": "2021-11-20T17:16:22.654Z"
   },
   {
    "duration": 12,
    "start_time": "2021-11-20T17:16:22.705Z"
   },
   {
    "duration": 8,
    "start_time": "2021-11-20T17:16:22.721Z"
   },
   {
    "duration": 22,
    "start_time": "2021-11-20T17:16:22.735Z"
   },
   {
    "duration": 40,
    "start_time": "2021-11-20T17:16:22.761Z"
   },
   {
    "duration": 17,
    "start_time": "2021-11-20T17:16:22.806Z"
   },
   {
    "duration": 8,
    "start_time": "2021-11-20T17:16:22.826Z"
   },
   {
    "duration": 1393,
    "start_time": "2021-11-20T17:16:22.837Z"
   },
   {
    "duration": 1295,
    "start_time": "2021-11-20T17:16:24.233Z"
   },
   {
    "duration": 954,
    "start_time": "2021-11-20T17:16:25.530Z"
   },
   {
    "duration": 942,
    "start_time": "2021-11-20T17:16:26.487Z"
   },
   {
    "duration": 9,
    "start_time": "2021-11-20T17:16:27.431Z"
   },
   {
    "duration": 12,
    "start_time": "2021-11-20T17:16:27.443Z"
   },
   {
    "duration": 13,
    "start_time": "2021-11-20T17:16:27.458Z"
   },
   {
    "duration": 50,
    "start_time": "2021-11-20T17:16:27.501Z"
   },
   {
    "duration": 20,
    "start_time": "2021-11-20T17:16:27.554Z"
   },
   {
    "duration": 33,
    "start_time": "2021-11-20T17:16:27.576Z"
   },
   {
    "duration": 13,
    "start_time": "2021-11-20T17:16:27.612Z"
   },
   {
    "duration": 8,
    "start_time": "2021-11-20T17:16:27.627Z"
   },
   {
    "duration": 34,
    "start_time": "2021-11-20T17:16:27.637Z"
   },
   {
    "duration": 28,
    "start_time": "2021-11-20T17:16:27.673Z"
   },
   {
    "duration": 776,
    "start_time": "2021-11-20T17:16:27.703Z"
   },
   {
    "duration": 7,
    "start_time": "2021-11-20T17:16:28.481Z"
   },
   {
    "duration": 38,
    "start_time": "2021-11-20T17:16:28.503Z"
   },
   {
    "duration": 510,
    "start_time": "2021-11-20T17:16:28.544Z"
   },
   {
    "duration": 400,
    "start_time": "2021-11-20T17:16:29.056Z"
   },
   {
    "duration": 396,
    "start_time": "2021-11-20T17:16:29.458Z"
   },
   {
    "duration": 396,
    "start_time": "2021-11-20T17:16:29.856Z"
   },
   {
    "duration": 417,
    "start_time": "2021-11-20T17:16:30.255Z"
   },
   {
    "duration": 7,
    "start_time": "2021-11-20T17:16:30.674Z"
   },
   {
    "duration": 437,
    "start_time": "2021-11-20T17:16:30.684Z"
   },
   {
    "duration": 868,
    "start_time": "2021-11-20T17:16:31.124Z"
   },
   {
    "duration": 788,
    "start_time": "2021-11-20T17:16:31.995Z"
   },
   {
    "duration": 779,
    "start_time": "2021-11-20T17:16:32.785Z"
   },
   {
    "duration": 461,
    "start_time": "2021-11-20T17:16:33.567Z"
   },
   {
    "duration": 737,
    "start_time": "2021-11-20T17:16:34.031Z"
   },
   {
    "duration": 776,
    "start_time": "2021-11-20T17:16:34.771Z"
   },
   {
    "duration": 808,
    "start_time": "2021-11-20T17:16:35.550Z"
   },
   {
    "duration": 1052,
    "start_time": "2021-11-20T17:16:36.361Z"
   },
   {
    "duration": 10,
    "start_time": "2021-11-20T17:16:37.415Z"
   },
   {
    "duration": 77,
    "start_time": "2021-11-20T17:16:37.427Z"
   },
   {
    "duration": 68,
    "start_time": "2021-11-20T17:16:37.506Z"
   },
   {
    "duration": 633,
    "start_time": "2021-11-20T17:16:37.576Z"
   },
   {
    "duration": 56,
    "start_time": "2021-11-20T17:16:38.211Z"
   },
   {
    "duration": 935,
    "start_time": "2021-11-20T17:16:38.270Z"
   },
   {
    "duration": 97,
    "start_time": "2021-11-20T17:16:39.208Z"
   },
   {
    "duration": 476,
    "start_time": "2021-11-20T17:16:39.308Z"
   },
   {
    "duration": 396,
    "start_time": "2021-11-20T17:16:39.786Z"
   },
   {
    "duration": 379,
    "start_time": "2021-11-20T17:16:40.185Z"
   },
   {
    "duration": 378,
    "start_time": "2021-11-20T17:16:40.567Z"
   },
   {
    "duration": 555,
    "start_time": "2021-11-20T17:16:40.948Z"
   },
   {
    "duration": 509,
    "start_time": "2021-11-20T17:16:41.506Z"
   },
   {
    "duration": 794,
    "start_time": "2021-11-20T17:16:42.017Z"
   },
   {
    "duration": 534,
    "start_time": "2021-11-20T17:16:42.814Z"
   },
   {
    "duration": 331,
    "start_time": "2021-11-20T20:50:42.288Z"
   },
   {
    "duration": 959,
    "start_time": "2021-11-20T20:50:59.800Z"
   },
   {
    "duration": 18,
    "start_time": "2021-11-20T20:51:00.762Z"
   },
   {
    "duration": 6,
    "start_time": "2021-11-20T20:51:01.220Z"
   },
   {
    "duration": 12,
    "start_time": "2021-11-20T20:51:01.653Z"
   },
   {
    "duration": 14,
    "start_time": "2021-11-20T20:51:02.327Z"
   },
   {
    "duration": 8,
    "start_time": "2021-11-20T20:51:02.989Z"
   },
   {
    "duration": 15,
    "start_time": "2021-11-20T20:51:03.449Z"
   },
   {
    "duration": 5,
    "start_time": "2021-11-20T20:51:04.072Z"
   },
   {
    "duration": 13,
    "start_time": "2021-11-20T20:51:04.712Z"
   },
   {
    "duration": 9,
    "start_time": "2021-11-20T20:51:05.139Z"
   },
   {
    "duration": 1369,
    "start_time": "2021-11-20T20:51:05.598Z"
   },
   {
    "duration": 1303,
    "start_time": "2021-11-20T20:51:06.970Z"
   },
   {
    "duration": 945,
    "start_time": "2021-11-20T20:51:08.275Z"
   },
   {
    "duration": 915,
    "start_time": "2021-11-20T20:51:09.223Z"
   },
   {
    "duration": 8,
    "start_time": "2021-11-20T20:51:10.141Z"
   },
   {
    "duration": 13,
    "start_time": "2021-11-20T20:51:11.347Z"
   },
   {
    "duration": 13,
    "start_time": "2021-11-20T20:51:12.509Z"
   },
   {
    "duration": 44,
    "start_time": "2021-11-20T20:51:13.669Z"
   },
   {
    "duration": 21,
    "start_time": "2021-11-20T20:51:14.716Z"
   },
   {
    "duration": 13,
    "start_time": "2021-11-20T20:51:16.067Z"
   },
   {
    "duration": 13,
    "start_time": "2021-11-20T20:51:16.762Z"
   },
   {
    "duration": 7,
    "start_time": "2021-11-20T20:51:18.436Z"
   },
   {
    "duration": 23,
    "start_time": "2021-11-20T20:51:19.128Z"
   },
   {
    "duration": 4,
    "start_time": "2021-11-20T20:51:19.840Z"
   },
   {
    "duration": 747,
    "start_time": "2021-11-20T20:51:20.395Z"
   },
   {
    "duration": 8,
    "start_time": "2021-11-20T20:51:21.485Z"
   },
   {
    "duration": 39,
    "start_time": "2021-11-20T20:51:22.215Z"
   },
   {
    "duration": 463,
    "start_time": "2021-11-20T20:51:25.633Z"
   },
   {
    "duration": 372,
    "start_time": "2021-11-20T20:51:26.933Z"
   },
   {
    "duration": 396,
    "start_time": "2021-11-20T20:51:27.671Z"
   },
   {
    "duration": 394,
    "start_time": "2021-11-20T20:51:28.198Z"
   },
   {
    "duration": 398,
    "start_time": "2021-11-20T20:51:28.772Z"
   },
   {
    "duration": 9,
    "start_time": "2021-11-20T20:51:29.521Z"
   },
   {
    "duration": 405,
    "start_time": "2021-11-20T20:51:32.391Z"
   },
   {
    "duration": 749,
    "start_time": "2021-11-20T20:51:36.678Z"
   },
   {
    "duration": 755,
    "start_time": "2021-11-20T20:51:38.625Z"
   },
   {
    "duration": 766,
    "start_time": "2021-11-20T20:52:03.213Z"
   },
   {
    "duration": 458,
    "start_time": "2021-11-20T20:52:04.112Z"
   },
   {
    "duration": 731,
    "start_time": "2021-11-20T20:52:05.943Z"
   },
   {
    "duration": 709,
    "start_time": "2021-11-20T20:52:06.791Z"
   },
   {
    "duration": 815,
    "start_time": "2021-11-20T20:52:07.503Z"
   },
   {
    "duration": 711,
    "start_time": "2021-11-20T20:52:08.321Z"
   },
   {
    "duration": 11,
    "start_time": "2021-11-20T20:52:09.144Z"
   },
   {
    "duration": 55,
    "start_time": "2021-11-20T20:52:09.364Z"
   },
   {
    "duration": 71,
    "start_time": "2021-11-20T20:52:10.284Z"
   },
   {
    "duration": 530,
    "start_time": "2021-11-20T20:52:10.596Z"
   },
   {
    "duration": 63,
    "start_time": "2021-11-20T20:52:11.129Z"
   },
   {
    "duration": 675,
    "start_time": "2021-11-20T20:52:11.196Z"
   },
   {
    "duration": 843,
    "start_time": "2021-11-20T20:52:11.874Z"
   },
   {
    "duration": 72,
    "start_time": "2021-11-20T20:52:12.720Z"
   },
   {
    "duration": 374,
    "start_time": "2021-11-20T20:52:12.795Z"
   },
   {
    "duration": 400,
    "start_time": "2021-11-20T20:52:13.171Z"
   },
   {
    "duration": 397,
    "start_time": "2021-11-20T20:52:13.574Z"
   },
   {
    "duration": 393,
    "start_time": "2021-11-20T20:52:13.974Z"
   },
   {
    "duration": 535,
    "start_time": "2021-11-20T20:52:14.370Z"
   },
   {
    "duration": 665,
    "start_time": "2021-11-20T20:52:14.907Z"
   },
   {
    "duration": 555,
    "start_time": "2021-11-20T20:52:15.576Z"
   },
   {
    "duration": 565,
    "start_time": "2021-11-20T20:52:16.133Z"
   },
   {
    "duration": 129,
    "start_time": "2021-11-20T20:58:56.170Z"
   },
   {
    "duration": 11,
    "start_time": "2021-11-20T20:59:11.711Z"
   },
   {
    "duration": 164,
    "start_time": "2021-11-20T21:05:04.524Z"
   },
   {
    "duration": 406,
    "start_time": "2021-11-20T21:25:43.598Z"
   },
   {
    "duration": 1339,
    "start_time": "2021-11-20T21:25:49.389Z"
   },
   {
    "duration": 759,
    "start_time": "2021-11-20T21:26:00.872Z"
   },
   {
    "duration": 1748,
    "start_time": "2021-11-20T21:27:13.099Z"
   },
   {
    "duration": 676,
    "start_time": "2021-11-20T21:27:32.301Z"
   },
   {
    "duration": 301,
    "start_time": "2021-11-20T21:27:50.315Z"
   },
   {
    "duration": 797,
    "start_time": "2021-11-20T21:28:03.572Z"
   },
   {
    "duration": 336,
    "start_time": "2021-11-20T21:28:52.931Z"
   },
   {
    "duration": 441,
    "start_time": "2021-11-20T21:29:49.032Z"
   },
   {
    "duration": 55,
    "start_time": "2021-11-20T21:37:47.757Z"
   },
   {
    "duration": 58,
    "start_time": "2021-11-20T21:41:30.395Z"
   },
   {
    "duration": 566,
    "start_time": "2021-11-20T21:41:31.980Z"
   },
   {
    "duration": 374,
    "start_time": "2021-11-20T21:41:41.438Z"
   },
   {
    "duration": 360,
    "start_time": "2021-11-20T21:41:45.356Z"
   },
   {
    "duration": 466,
    "start_time": "2021-11-20T21:41:48.351Z"
   },
   {
    "duration": 455,
    "start_time": "2021-11-20T21:41:55.688Z"
   },
   {
    "duration": 446,
    "start_time": "2021-11-20T21:42:51.378Z"
   },
   {
    "duration": 489,
    "start_time": "2021-11-20T21:43:03.309Z"
   },
   {
    "duration": 466,
    "start_time": "2021-11-20T21:43:23.866Z"
   },
   {
    "duration": 872,
    "start_time": "2021-11-20T21:46:02.170Z"
   }
  ],
  "kernelspec": {
   "display_name": "Python 3 (ipykernel)",
   "language": "python",
   "name": "python3"
  },
  "language_info": {
   "codemirror_mode": {
    "name": "ipython",
    "version": 3
   },
   "file_extension": ".py",
   "mimetype": "text/x-python",
   "name": "python",
   "nbconvert_exporter": "python",
   "pygments_lexer": "ipython3",
   "version": "3.9.5"
  },
  "toc": {
   "base_numbering": 1,
   "nav_menu": {},
   "number_sections": true,
   "sideBar": true,
   "skip_h1_title": true,
   "title_cell": "Содержание",
   "title_sidebar": "Contents",
   "toc_cell": true,
   "toc_position": {
    "height": "calc(100% - 180px)",
    "left": "10px",
    "top": "150px",
    "width": "354px"
   },
   "toc_section_display": true,
   "toc_window_display": true
  }
 },
 "nbformat": 4,
 "nbformat_minor": 2
}
