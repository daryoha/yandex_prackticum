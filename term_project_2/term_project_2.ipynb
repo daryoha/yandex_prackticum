{
 "cells": [
  {
   "cell_type": "markdown",
   "metadata": {},
   "source": [
    "<font color='steelblue' size=5><b>Комментарий ревьюера</b></font>\n",
    "\n",
    "<font color='steelblue'>Привет, Дарья! Меня зовут Ольга Васильева, я буду проверять этот проект. Спасибо за проделанную работу! Предлагаю общаться на «ты».</font>\n",
    "\n",
    "<font color='steelblue'>Я буду использовать различные цвета и знаки, чтобы было удобнее воспринимать мои комментарии:</font>\n",
    "\n",
    "\n",
    "---\n",
    "\n",
    "\n",
    "<font color='steelblue'>синий текст - просто текст комментария</font>\n",
    "\n",
    "<font color='green'>✔️ и зеленый текст - все отлично</font>\n",
    "\n",
    "<font color='darkorange'>⚠️ и оранжевый текст - сделано все правильно, однако есть рекомендации, на что стоит обратить внимание</font>\n",
    "\n",
    "<font color='crimson'>❌ и красный текст - есть недочеты</font>\n",
    "\n",
    "---\n",
    "\n",
    "<font color='steelblue'>Пожалуйста, не удаляй мои комментарии в случае возврата работы, так будет проще разобраться, какие были недочеты, а также сразу увидеть исправленное. \n",
    "\n",
    "Ответы на мои комментарии лучше тоже помечать.\n",
    "Например, так: <b>Комментарий студента</b>\n",
    "\n",
    "<b>Давай смотреть, что получилось!</b></font>"
   ]
  },
  {
   "cell_type": "markdown",
   "metadata": {},
   "source": [
    "<font color='steelblue'>Комментарий ревьюера <b>v2</b>: так я буду помечать комментарии второй проверки.<br>\n",
    "</font>\n",
    "<font color='steelblue'>Комментарий ревьюера <b>v3</b>: так я буду помечать комментарии третьей проверки.<br>\n",
    "</font>\n",
    "<font color='steelblue'>Комментарий ревьюера <b>v4</b>: так я буду помечать комментарии четвёртой проверки.<br>\n",
    "</font>"
   ]
  },
  {
   "cell_type": "markdown",
   "metadata": {
    "toc": true
   },
   "source": [
    "<h1>Содержание<span class=\"tocSkip\"></span></h1>\n",
    "<div class=\"toc\"><ul class=\"toc-item\"><li><span><a href=\"#Подготовка-данных\" data-toc-modified-id=\"Подготовка-данных-1\"><span class=\"toc-item-num\">1&nbsp;&nbsp;</span>Подготовка данных</a></span><ul class=\"toc-item\"><li><span><a href=\"#Обучающая-выборка\" data-toc-modified-id=\"Обучающая-выборка-1.1\"><span class=\"toc-item-num\">1.1&nbsp;&nbsp;</span>Обучающая выборка</a></span></li><li><span><a href=\"#Тестовая-выборка\" data-toc-modified-id=\"Тестовая-выборка-1.2\"><span class=\"toc-item-num\">1.2&nbsp;&nbsp;</span>Тестовая выборка</a></span></li><li><span><a href=\"#Исходные-данные\" data-toc-modified-id=\"Исходные-данные-1.3\"><span class=\"toc-item-num\">1.3&nbsp;&nbsp;</span>Исходные данные</a></span></li><li><span><a href=\"#Проверка-рассчетов\" data-toc-modified-id=\"Проверка-рассчетов-1.4\"><span class=\"toc-item-num\">1.4&nbsp;&nbsp;</span>Проверка рассчетов</a></span></li><li><span><a href=\"#Анализ-признаков\" data-toc-modified-id=\"Анализ-признаков-1.5\"><span class=\"toc-item-num\">1.5&nbsp;&nbsp;</span>Анализ признаков</a></span></li><li><span><a href=\"#Предобработка-данных\" data-toc-modified-id=\"Предобработка-данных-1.6\"><span class=\"toc-item-num\">1.6&nbsp;&nbsp;</span>Предобработка данных</a></span></li></ul></li><li><span><a href=\"#Анализ-данных\" data-toc-modified-id=\"Анализ-данных-2\"><span class=\"toc-item-num\">2&nbsp;&nbsp;</span>Анализ данных</a></span><ul class=\"toc-item\"><li><span><a href=\"#Концентрация-металлов\" data-toc-modified-id=\"Концентрация-металлов-2.1\"><span class=\"toc-item-num\">2.1&nbsp;&nbsp;</span>Концентрация металлов</a></span></li><li><span><a href=\"#Распределение-размеров-гранул-сырья\" data-toc-modified-id=\"Распределение-размеров-гранул-сырья-2.2\"><span class=\"toc-item-num\">2.2&nbsp;&nbsp;</span>Распределение размеров гранул сырья</a></span></li><li><span><a href=\"#Суммарная-концентрация-веществ\" data-toc-modified-id=\"Суммарная-концентрация-веществ-2.3\"><span class=\"toc-item-num\">2.3&nbsp;&nbsp;</span>Суммарная концентрация веществ</a></span></li></ul></li><li><span><a href=\"#Модель\" data-toc-modified-id=\"Модель-3\"><span class=\"toc-item-num\">3&nbsp;&nbsp;</span>Модель</a></span><ul class=\"toc-item\"><li><span><a href=\"#Регресионное-дерево\" data-toc-modified-id=\"Регресионное-дерево-3.1\"><span class=\"toc-item-num\">3.1&nbsp;&nbsp;</span>Регресионное дерево</a></span><ul class=\"toc-item\"><li><span><a href=\"#Регресионное-дерево,-предсказывающее-rougher\" data-toc-modified-id=\"Регресионное-дерево,-предсказывающее-rougher-3.1.1\"><span class=\"toc-item-num\">3.1.1&nbsp;&nbsp;</span>Регресионное дерево, предсказывающее rougher</a></span></li><li><span><a href=\"#Регрессионное-дерево,-предсказывающее-final\" data-toc-modified-id=\"Регрессионное-дерево,-предсказывающее-final-3.1.2\"><span class=\"toc-item-num\">3.1.2&nbsp;&nbsp;</span>Регрессионное дерево, предсказывающее final</a></span></li><li><span><a href=\"#Итоговый-sMAPE\" data-toc-modified-id=\"Итоговый-sMAPE-3.1.3\"><span class=\"toc-item-num\">3.1.3&nbsp;&nbsp;</span>Итоговый sMAPE</a></span></li></ul></li><li><span><a href=\"#Регресcионный-лес\" data-toc-modified-id=\"Регресcионный-лес-3.2\"><span class=\"toc-item-num\">3.2&nbsp;&nbsp;</span>Регресcионный лес</a></span><ul class=\"toc-item\"><li><span><a href=\"#Регрессионный-лес,-предсказывающий-rougher\" data-toc-modified-id=\"Регрессионный-лес,-предсказывающий-rougher-3.2.1\"><span class=\"toc-item-num\">3.2.1&nbsp;&nbsp;</span>Регрессионный лес, предсказывающий rougher</a></span></li><li><span><a href=\"#Регрессионный-лес,-предсказывающий-final\" data-toc-modified-id=\"Регрессионный-лес,-предсказывающий-final-3.2.2\"><span class=\"toc-item-num\">3.2.2&nbsp;&nbsp;</span>Регрессионный лес, предсказывающий final</a></span></li><li><span><a href=\"#Итоговый-sMAPE\" data-toc-modified-id=\"Итоговый-sMAPE-3.2.3\"><span class=\"toc-item-num\">3.2.3&nbsp;&nbsp;</span>Итоговый sMAPE</a></span></li></ul></li><li><span><a href=\"#Линейная-регрессия\" data-toc-modified-id=\"Линейная-регрессия-3.3\"><span class=\"toc-item-num\">3.3&nbsp;&nbsp;</span>Линейная регрессия</a></span><ul class=\"toc-item\"><li><span><a href=\"#Линейная-регрессия,-предсказывающая-rougher\" data-toc-modified-id=\"Линейная-регрессия,-предсказывающая-rougher-3.3.1\"><span class=\"toc-item-num\">3.3.1&nbsp;&nbsp;</span>Линейная регрессия, предсказывающая rougher</a></span></li><li><span><a href=\"#Линейная-регрессия,-предсказывающая-final\" data-toc-modified-id=\"Линейная-регрессия,-предсказывающая-final-3.3.2\"><span class=\"toc-item-num\">3.3.2&nbsp;&nbsp;</span>Линейная регрессия, предсказывающая final</a></span></li><li><span><a href=\"#Итоговый-sMAPE\" data-toc-modified-id=\"Итоговый-sMAPE-3.3.3\"><span class=\"toc-item-num\">3.3.3&nbsp;&nbsp;</span>Итоговый sMAPE</a></span></li></ul></li><li><span><a href=\"#Лучшая-модель\" data-toc-modified-id=\"Лучшая-модель-3.4\"><span class=\"toc-item-num\">3.4&nbsp;&nbsp;</span>Лучшая модель</a></span></li></ul></li><li><span><a href=\"#Вывод\" data-toc-modified-id=\"Вывод-4\"><span class=\"toc-item-num\">4&nbsp;&nbsp;</span>Вывод</a></span></li><li><span><a href=\"#Чек-лист-готовности-проекта\" data-toc-modified-id=\"Чек-лист-готовности-проекта-5\"><span class=\"toc-item-num\">5&nbsp;&nbsp;</span>Чек-лист готовности проекта</a></span></li></ul></div>"
   ]
  },
  {
   "cell_type": "markdown",
   "metadata": {},
   "source": [
    "# Восстановление золота из руды"
   ]
  },
  {
   "cell_type": "markdown",
   "metadata": {},
   "source": [
    "Подготовьте прототип модели машинного обучения для «Цифры». Компания разрабатывает решения для эффективной работы промышленных предприятий.\n",
    "\n",
    "Модель должна предсказать коэффициент восстановления золота из золотосодержащей руды. Используйте данные с параметрами добычи и очистки. \n",
    "\n",
    "Модель поможет оптимизировать производство, чтобы не запускать предприятие с убыточными характеристиками.\n",
    "\n",
    "Вам нужно:\n",
    "\n",
    "1. Подготовить данные;\n",
    "2. Провести исследовательский анализ данных;\n",
    "3. Построить и обучить модель.\n",
    "\n",
    "Чтобы выполнить проект, обращайтесь к библиотекам *pandas*, *matplotlib* и *sklearn.* Вам поможет их документация."
   ]
  },
  {
   "cell_type": "markdown",
   "metadata": {},
   "source": [
    "## Подготовка данных"
   ]
  },
  {
   "cell_type": "code",
   "execution_count": 1,
   "metadata": {},
   "outputs": [],
   "source": [
    "# импортирование библиотек\n",
    "import pandas as pd\n",
    "import numpy as np\n",
    "import matplotlib as plt\n",
    "\n",
    "from sklearn.ensemble import RandomForestRegressor\n",
    "from sklearn.linear_model import LogisticRegression\n",
    "from sklearn.linear_model import LinearRegression\n",
    "from sklearn.metrics import make_scorer\n",
    "from sklearn.metrics import mean_absolute_error\n",
    "from sklearn.model_selection import cross_val_score\n",
    "from sklearn.model_selection import train_test_split\n",
    "from sklearn.tree import DecisionTreeRegressor"
   ]
  },
  {
   "cell_type": "markdown",
   "metadata": {},
   "source": [
    "<font color='steelblue'><b>Комментарий ревьюера: </b></font> ✔️ <br>\n",
    "<font color='green'>Здорово, что все импорты находятся в одной ячейке.<br>\n",
    "Если хочешь сделать ещё лучше, соблюдай стандарт PEP-8, в каждой группе отсортируй импорты в алфовитном порядке. Рекомендации PEP-8:<br> <br>\n",
    "    \n",
    "Импорты всегда помещаются в начале файла, сразу после комментариев к модулю и строк документации, и перед объявлением констант. <br> <br>\n",
    "\n",
    "Импорты должны быть сгруппированы в следующем порядке: <br>\n",
    "    \n",
    "импорты из стандартной библиотеки <br>\n",
    "импорты сторонних библиотек <br>\n",
    "импорты модулей текущего проекта <br>\n",
    "\n",
    "Вставляйте пустую строку между каждой группой импортов. <br>\n",
    "\n",
    "Ссылка для ознакомления: https://pythonworld.ru/osnovy/pep-8-rukovodstvo-po-napisaniyu-koda-na-python.html\n",
    "\n",
    "</font>"
   ]
  },
  {
   "cell_type": "markdown",
   "metadata": {},
   "source": [
    "<font color='steelblue'><b>Комментарий студентки:</b></font>\n",
    "Спасибо за совет! Подправила"
   ]
  },
  {
   "cell_type": "markdown",
   "metadata": {},
   "source": [
    "### Обучающая выборка"
   ]
  },
  {
   "cell_type": "code",
   "execution_count": 2,
   "metadata": {
    "scrolled": false
   },
   "outputs": [
    {
     "data": {
      "text/html": [
       "<div>\n",
       "<style scoped>\n",
       "    .dataframe tbody tr th:only-of-type {\n",
       "        vertical-align: middle;\n",
       "    }\n",
       "\n",
       "    .dataframe tbody tr th {\n",
       "        vertical-align: top;\n",
       "    }\n",
       "\n",
       "    .dataframe thead th {\n",
       "        text-align: right;\n",
       "    }\n",
       "</style>\n",
       "<table border=\"1\" class=\"dataframe\">\n",
       "  <thead>\n",
       "    <tr style=\"text-align: right;\">\n",
       "      <th></th>\n",
       "      <th>date</th>\n",
       "      <th>final.output.concentrate_ag</th>\n",
       "      <th>final.output.concentrate_pb</th>\n",
       "      <th>final.output.concentrate_sol</th>\n",
       "      <th>final.output.concentrate_au</th>\n",
       "      <th>final.output.recovery</th>\n",
       "      <th>final.output.tail_ag</th>\n",
       "      <th>final.output.tail_pb</th>\n",
       "      <th>final.output.tail_sol</th>\n",
       "      <th>final.output.tail_au</th>\n",
       "      <th>...</th>\n",
       "      <th>secondary_cleaner.state.floatbank4_a_air</th>\n",
       "      <th>secondary_cleaner.state.floatbank4_a_level</th>\n",
       "      <th>secondary_cleaner.state.floatbank4_b_air</th>\n",
       "      <th>secondary_cleaner.state.floatbank4_b_level</th>\n",
       "      <th>secondary_cleaner.state.floatbank5_a_air</th>\n",
       "      <th>secondary_cleaner.state.floatbank5_a_level</th>\n",
       "      <th>secondary_cleaner.state.floatbank5_b_air</th>\n",
       "      <th>secondary_cleaner.state.floatbank5_b_level</th>\n",
       "      <th>secondary_cleaner.state.floatbank6_a_air</th>\n",
       "      <th>secondary_cleaner.state.floatbank6_a_level</th>\n",
       "    </tr>\n",
       "  </thead>\n",
       "  <tbody>\n",
       "    <tr>\n",
       "      <th>0</th>\n",
       "      <td>2016-01-15 00:00:00</td>\n",
       "      <td>6.055403</td>\n",
       "      <td>9.889648</td>\n",
       "      <td>5.507324</td>\n",
       "      <td>42.192020</td>\n",
       "      <td>70.541216</td>\n",
       "      <td>10.411962</td>\n",
       "      <td>0.895447</td>\n",
       "      <td>16.904297</td>\n",
       "      <td>2.143149</td>\n",
       "      <td>...</td>\n",
       "      <td>14.016835</td>\n",
       "      <td>-502.488007</td>\n",
       "      <td>12.099931</td>\n",
       "      <td>-504.715942</td>\n",
       "      <td>9.925633</td>\n",
       "      <td>-498.310211</td>\n",
       "      <td>8.079666</td>\n",
       "      <td>-500.470978</td>\n",
       "      <td>14.151341</td>\n",
       "      <td>-605.841980</td>\n",
       "    </tr>\n",
       "    <tr>\n",
       "      <th>1</th>\n",
       "      <td>2016-01-15 01:00:00</td>\n",
       "      <td>6.029369</td>\n",
       "      <td>9.968944</td>\n",
       "      <td>5.257781</td>\n",
       "      <td>42.701629</td>\n",
       "      <td>69.266198</td>\n",
       "      <td>10.462676</td>\n",
       "      <td>0.927452</td>\n",
       "      <td>16.634514</td>\n",
       "      <td>2.224930</td>\n",
       "      <td>...</td>\n",
       "      <td>13.992281</td>\n",
       "      <td>-505.503262</td>\n",
       "      <td>11.950531</td>\n",
       "      <td>-501.331529</td>\n",
       "      <td>10.039245</td>\n",
       "      <td>-500.169983</td>\n",
       "      <td>7.984757</td>\n",
       "      <td>-500.582168</td>\n",
       "      <td>13.998353</td>\n",
       "      <td>-599.787184</td>\n",
       "    </tr>\n",
       "    <tr>\n",
       "      <th>2</th>\n",
       "      <td>2016-01-15 02:00:00</td>\n",
       "      <td>6.055926</td>\n",
       "      <td>10.213995</td>\n",
       "      <td>5.383759</td>\n",
       "      <td>42.657501</td>\n",
       "      <td>68.116445</td>\n",
       "      <td>10.507046</td>\n",
       "      <td>0.953716</td>\n",
       "      <td>16.208849</td>\n",
       "      <td>2.257889</td>\n",
       "      <td>...</td>\n",
       "      <td>14.015015</td>\n",
       "      <td>-502.520901</td>\n",
       "      <td>11.912783</td>\n",
       "      <td>-501.133383</td>\n",
       "      <td>10.070913</td>\n",
       "      <td>-500.129135</td>\n",
       "      <td>8.013877</td>\n",
       "      <td>-500.517572</td>\n",
       "      <td>14.028663</td>\n",
       "      <td>-601.427363</td>\n",
       "    </tr>\n",
       "    <tr>\n",
       "      <th>3</th>\n",
       "      <td>2016-01-15 03:00:00</td>\n",
       "      <td>6.047977</td>\n",
       "      <td>9.977019</td>\n",
       "      <td>4.858634</td>\n",
       "      <td>42.689819</td>\n",
       "      <td>68.347543</td>\n",
       "      <td>10.422762</td>\n",
       "      <td>0.883763</td>\n",
       "      <td>16.532835</td>\n",
       "      <td>2.146849</td>\n",
       "      <td>...</td>\n",
       "      <td>14.036510</td>\n",
       "      <td>-500.857308</td>\n",
       "      <td>11.999550</td>\n",
       "      <td>-501.193686</td>\n",
       "      <td>9.970366</td>\n",
       "      <td>-499.201640</td>\n",
       "      <td>7.977324</td>\n",
       "      <td>-500.255908</td>\n",
       "      <td>14.005551</td>\n",
       "      <td>-599.996129</td>\n",
       "    </tr>\n",
       "    <tr>\n",
       "      <th>4</th>\n",
       "      <td>2016-01-15 04:00:00</td>\n",
       "      <td>6.148599</td>\n",
       "      <td>10.142511</td>\n",
       "      <td>4.939416</td>\n",
       "      <td>42.774141</td>\n",
       "      <td>66.927016</td>\n",
       "      <td>10.360302</td>\n",
       "      <td>0.792826</td>\n",
       "      <td>16.525686</td>\n",
       "      <td>2.055292</td>\n",
       "      <td>...</td>\n",
       "      <td>14.027298</td>\n",
       "      <td>-499.838632</td>\n",
       "      <td>11.953070</td>\n",
       "      <td>-501.053894</td>\n",
       "      <td>9.925709</td>\n",
       "      <td>-501.686727</td>\n",
       "      <td>7.894242</td>\n",
       "      <td>-500.356035</td>\n",
       "      <td>13.996647</td>\n",
       "      <td>-601.496691</td>\n",
       "    </tr>\n",
       "  </tbody>\n",
       "</table>\n",
       "<p>5 rows × 87 columns</p>\n",
       "</div>"
      ],
      "text/plain": [
       "                  date  final.output.concentrate_ag  \\\n",
       "0  2016-01-15 00:00:00                     6.055403   \n",
       "1  2016-01-15 01:00:00                     6.029369   \n",
       "2  2016-01-15 02:00:00                     6.055926   \n",
       "3  2016-01-15 03:00:00                     6.047977   \n",
       "4  2016-01-15 04:00:00                     6.148599   \n",
       "\n",
       "   final.output.concentrate_pb  final.output.concentrate_sol  \\\n",
       "0                     9.889648                      5.507324   \n",
       "1                     9.968944                      5.257781   \n",
       "2                    10.213995                      5.383759   \n",
       "3                     9.977019                      4.858634   \n",
       "4                    10.142511                      4.939416   \n",
       "\n",
       "   final.output.concentrate_au  final.output.recovery  final.output.tail_ag  \\\n",
       "0                    42.192020              70.541216             10.411962   \n",
       "1                    42.701629              69.266198             10.462676   \n",
       "2                    42.657501              68.116445             10.507046   \n",
       "3                    42.689819              68.347543             10.422762   \n",
       "4                    42.774141              66.927016             10.360302   \n",
       "\n",
       "   final.output.tail_pb  final.output.tail_sol  final.output.tail_au  ...  \\\n",
       "0              0.895447              16.904297              2.143149  ...   \n",
       "1              0.927452              16.634514              2.224930  ...   \n",
       "2              0.953716              16.208849              2.257889  ...   \n",
       "3              0.883763              16.532835              2.146849  ...   \n",
       "4              0.792826              16.525686              2.055292  ...   \n",
       "\n",
       "   secondary_cleaner.state.floatbank4_a_air  \\\n",
       "0                                 14.016835   \n",
       "1                                 13.992281   \n",
       "2                                 14.015015   \n",
       "3                                 14.036510   \n",
       "4                                 14.027298   \n",
       "\n",
       "   secondary_cleaner.state.floatbank4_a_level  \\\n",
       "0                                 -502.488007   \n",
       "1                                 -505.503262   \n",
       "2                                 -502.520901   \n",
       "3                                 -500.857308   \n",
       "4                                 -499.838632   \n",
       "\n",
       "   secondary_cleaner.state.floatbank4_b_air  \\\n",
       "0                                 12.099931   \n",
       "1                                 11.950531   \n",
       "2                                 11.912783   \n",
       "3                                 11.999550   \n",
       "4                                 11.953070   \n",
       "\n",
       "   secondary_cleaner.state.floatbank4_b_level  \\\n",
       "0                                 -504.715942   \n",
       "1                                 -501.331529   \n",
       "2                                 -501.133383   \n",
       "3                                 -501.193686   \n",
       "4                                 -501.053894   \n",
       "\n",
       "   secondary_cleaner.state.floatbank5_a_air  \\\n",
       "0                                  9.925633   \n",
       "1                                 10.039245   \n",
       "2                                 10.070913   \n",
       "3                                  9.970366   \n",
       "4                                  9.925709   \n",
       "\n",
       "   secondary_cleaner.state.floatbank5_a_level  \\\n",
       "0                                 -498.310211   \n",
       "1                                 -500.169983   \n",
       "2                                 -500.129135   \n",
       "3                                 -499.201640   \n",
       "4                                 -501.686727   \n",
       "\n",
       "   secondary_cleaner.state.floatbank5_b_air  \\\n",
       "0                                  8.079666   \n",
       "1                                  7.984757   \n",
       "2                                  8.013877   \n",
       "3                                  7.977324   \n",
       "4                                  7.894242   \n",
       "\n",
       "   secondary_cleaner.state.floatbank5_b_level  \\\n",
       "0                                 -500.470978   \n",
       "1                                 -500.582168   \n",
       "2                                 -500.517572   \n",
       "3                                 -500.255908   \n",
       "4                                 -500.356035   \n",
       "\n",
       "   secondary_cleaner.state.floatbank6_a_air  \\\n",
       "0                                 14.151341   \n",
       "1                                 13.998353   \n",
       "2                                 14.028663   \n",
       "3                                 14.005551   \n",
       "4                                 13.996647   \n",
       "\n",
       "   secondary_cleaner.state.floatbank6_a_level  \n",
       "0                                 -605.841980  \n",
       "1                                 -599.787184  \n",
       "2                                 -601.427363  \n",
       "3                                 -599.996129  \n",
       "4                                 -601.496691  \n",
       "\n",
       "[5 rows x 87 columns]"
      ]
     },
     "metadata": {},
     "output_type": "display_data"
    }
   ],
   "source": [
    "# чтение данных из файла\n",
    "data_train = pd.read_csv('/datasets/gold_recovery_train_new.csv')\n",
    "# просмотр первых десяти строчек в таблице \n",
    "display(data_train.head(5))"
   ]
  },
  {
   "cell_type": "code",
   "execution_count": 3,
   "metadata": {
    "scrolled": false
   },
   "outputs": [
    {
     "name": "stdout",
     "output_type": "stream",
     "text": [
      "<class 'pandas.core.frame.DataFrame'>\n",
      "RangeIndex: 14149 entries, 0 to 14148\n",
      "Data columns (total 87 columns):\n",
      " #   Column                                              Non-Null Count  Dtype  \n",
      "---  ------                                              --------------  -----  \n",
      " 0   date                                                14149 non-null  object \n",
      " 1   final.output.concentrate_ag                         14148 non-null  float64\n",
      " 2   final.output.concentrate_pb                         14148 non-null  float64\n",
      " 3   final.output.concentrate_sol                        13938 non-null  float64\n",
      " 4   final.output.concentrate_au                         14149 non-null  float64\n",
      " 5   final.output.recovery                               14149 non-null  float64\n",
      " 6   final.output.tail_ag                                14149 non-null  float64\n",
      " 7   final.output.tail_pb                                14049 non-null  float64\n",
      " 8   final.output.tail_sol                               14144 non-null  float64\n",
      " 9   final.output.tail_au                                14149 non-null  float64\n",
      " 10  primary_cleaner.input.sulfate                       14129 non-null  float64\n",
      " 11  primary_cleaner.input.depressant                    14117 non-null  float64\n",
      " 12  primary_cleaner.input.feed_size                     14149 non-null  float64\n",
      " 13  primary_cleaner.input.xanthate                      14049 non-null  float64\n",
      " 14  primary_cleaner.output.concentrate_ag               14149 non-null  float64\n",
      " 15  primary_cleaner.output.concentrate_pb               14063 non-null  float64\n",
      " 16  primary_cleaner.output.concentrate_sol              13863 non-null  float64\n",
      " 17  primary_cleaner.output.concentrate_au               14149 non-null  float64\n",
      " 18  primary_cleaner.output.tail_ag                      14148 non-null  float64\n",
      " 19  primary_cleaner.output.tail_pb                      14134 non-null  float64\n",
      " 20  primary_cleaner.output.tail_sol                     14103 non-null  float64\n",
      " 21  primary_cleaner.output.tail_au                      14149 non-null  float64\n",
      " 22  primary_cleaner.state.floatbank8_a_air              14145 non-null  float64\n",
      " 23  primary_cleaner.state.floatbank8_a_level            14148 non-null  float64\n",
      " 24  primary_cleaner.state.floatbank8_b_air              14145 non-null  float64\n",
      " 25  primary_cleaner.state.floatbank8_b_level            14148 non-null  float64\n",
      " 26  primary_cleaner.state.floatbank8_c_air              14147 non-null  float64\n",
      " 27  primary_cleaner.state.floatbank8_c_level            14148 non-null  float64\n",
      " 28  primary_cleaner.state.floatbank8_d_air              14146 non-null  float64\n",
      " 29  primary_cleaner.state.floatbank8_d_level            14148 non-null  float64\n",
      " 30  rougher.calculation.sulfate_to_au_concentrate       14148 non-null  float64\n",
      " 31  rougher.calculation.floatbank10_sulfate_to_au_feed  14148 non-null  float64\n",
      " 32  rougher.calculation.floatbank11_sulfate_to_au_feed  14148 non-null  float64\n",
      " 33  rougher.calculation.au_pb_ratio                     14149 non-null  float64\n",
      " 34  rougher.input.feed_ag                               14149 non-null  float64\n",
      " 35  rougher.input.feed_pb                               14049 non-null  float64\n",
      " 36  rougher.input.feed_rate                             14141 non-null  float64\n",
      " 37  rougher.input.feed_size                             14005 non-null  float64\n",
      " 38  rougher.input.feed_sol                              14071 non-null  float64\n",
      " 39  rougher.input.feed_au                               14149 non-null  float64\n",
      " 40  rougher.input.floatbank10_sulfate                   14120 non-null  float64\n",
      " 41  rougher.input.floatbank10_xanthate                  14141 non-null  float64\n",
      " 42  rougher.input.floatbank11_sulfate                   14113 non-null  float64\n",
      " 43  rougher.input.floatbank11_xanthate                  13721 non-null  float64\n",
      " 44  rougher.output.concentrate_ag                       14149 non-null  float64\n",
      " 45  rougher.output.concentrate_pb                       14149 non-null  float64\n",
      " 46  rougher.output.concentrate_sol                      14127 non-null  float64\n",
      " 47  rougher.output.concentrate_au                       14149 non-null  float64\n",
      " 48  rougher.output.recovery                             14149 non-null  float64\n",
      " 49  rougher.output.tail_ag                              14148 non-null  float64\n",
      " 50  rougher.output.tail_pb                              14149 non-null  float64\n",
      " 51  rougher.output.tail_sol                             14149 non-null  float64\n",
      " 52  rougher.output.tail_au                              14149 non-null  float64\n",
      " 53  rougher.state.floatbank10_a_air                     14148 non-null  float64\n",
      " 54  rougher.state.floatbank10_a_level                   14148 non-null  float64\n",
      " 55  rougher.state.floatbank10_b_air                     14148 non-null  float64\n",
      " 56  rougher.state.floatbank10_b_level                   14148 non-null  float64\n",
      " 57  rougher.state.floatbank10_c_air                     14148 non-null  float64\n",
      " 58  rougher.state.floatbank10_c_level                   14148 non-null  float64\n",
      " 59  rougher.state.floatbank10_d_air                     14149 non-null  float64\n",
      " 60  rougher.state.floatbank10_d_level                   14149 non-null  float64\n",
      " 61  rougher.state.floatbank10_e_air                     13713 non-null  float64\n",
      " 62  rougher.state.floatbank10_e_level                   14149 non-null  float64\n",
      " 63  rougher.state.floatbank10_f_air                     14149 non-null  float64\n",
      " 64  rougher.state.floatbank10_f_level                   14149 non-null  float64\n",
      " 65  secondary_cleaner.output.tail_ag                    14147 non-null  float64\n",
      " 66  secondary_cleaner.output.tail_pb                    14139 non-null  float64\n",
      " 67  secondary_cleaner.output.tail_sol                   12544 non-null  float64\n",
      " 68  secondary_cleaner.output.tail_au                    14149 non-null  float64\n",
      " 69  secondary_cleaner.state.floatbank2_a_air            13932 non-null  float64\n",
      " 70  secondary_cleaner.state.floatbank2_a_level          14148 non-null  float64\n",
      " 71  secondary_cleaner.state.floatbank2_b_air            14128 non-null  float64\n",
      " 72  secondary_cleaner.state.floatbank2_b_level          14148 non-null  float64\n",
      " 73  secondary_cleaner.state.floatbank3_a_air            14145 non-null  float64\n",
      " 74  secondary_cleaner.state.floatbank3_a_level          14148 non-null  float64\n",
      " 75  secondary_cleaner.state.floatbank3_b_air            14148 non-null  float64\n",
      " 76  secondary_cleaner.state.floatbank3_b_level          14148 non-null  float64\n",
      " 77  secondary_cleaner.state.floatbank4_a_air            14143 non-null  float64\n",
      " 78  secondary_cleaner.state.floatbank4_a_level          14148 non-null  float64\n",
      " 79  secondary_cleaner.state.floatbank4_b_air            14148 non-null  float64\n",
      " 80  secondary_cleaner.state.floatbank4_b_level          14148 non-null  float64\n",
      " 81  secondary_cleaner.state.floatbank5_a_air            14148 non-null  float64\n",
      " 82  secondary_cleaner.state.floatbank5_a_level          14148 non-null  float64\n",
      " 83  secondary_cleaner.state.floatbank5_b_air            14148 non-null  float64\n",
      " 84  secondary_cleaner.state.floatbank5_b_level          14148 non-null  float64\n",
      " 85  secondary_cleaner.state.floatbank6_a_air            14147 non-null  float64\n",
      " 86  secondary_cleaner.state.floatbank6_a_level          14148 non-null  float64\n",
      "dtypes: float64(86), object(1)\n",
      "memory usage: 9.4+ MB\n"
     ]
    }
   ],
   "source": [
    "# вывод информации о data_0\n",
    "data_train.info()"
   ]
  },
  {
   "cell_type": "markdown",
   "metadata": {},
   "source": [
    "### Тестовая выборка"
   ]
  },
  {
   "cell_type": "code",
   "execution_count": 4,
   "metadata": {},
   "outputs": [
    {
     "data": {
      "text/html": [
       "<div>\n",
       "<style scoped>\n",
       "    .dataframe tbody tr th:only-of-type {\n",
       "        vertical-align: middle;\n",
       "    }\n",
       "\n",
       "    .dataframe tbody tr th {\n",
       "        vertical-align: top;\n",
       "    }\n",
       "\n",
       "    .dataframe thead th {\n",
       "        text-align: right;\n",
       "    }\n",
       "</style>\n",
       "<table border=\"1\" class=\"dataframe\">\n",
       "  <thead>\n",
       "    <tr style=\"text-align: right;\">\n",
       "      <th></th>\n",
       "      <th>date</th>\n",
       "      <th>primary_cleaner.input.sulfate</th>\n",
       "      <th>primary_cleaner.input.depressant</th>\n",
       "      <th>primary_cleaner.input.feed_size</th>\n",
       "      <th>primary_cleaner.input.xanthate</th>\n",
       "      <th>primary_cleaner.state.floatbank8_a_air</th>\n",
       "      <th>primary_cleaner.state.floatbank8_a_level</th>\n",
       "      <th>primary_cleaner.state.floatbank8_b_air</th>\n",
       "      <th>primary_cleaner.state.floatbank8_b_level</th>\n",
       "      <th>primary_cleaner.state.floatbank8_c_air</th>\n",
       "      <th>...</th>\n",
       "      <th>secondary_cleaner.state.floatbank4_a_air</th>\n",
       "      <th>secondary_cleaner.state.floatbank4_a_level</th>\n",
       "      <th>secondary_cleaner.state.floatbank4_b_air</th>\n",
       "      <th>secondary_cleaner.state.floatbank4_b_level</th>\n",
       "      <th>secondary_cleaner.state.floatbank5_a_air</th>\n",
       "      <th>secondary_cleaner.state.floatbank5_a_level</th>\n",
       "      <th>secondary_cleaner.state.floatbank5_b_air</th>\n",
       "      <th>secondary_cleaner.state.floatbank5_b_level</th>\n",
       "      <th>secondary_cleaner.state.floatbank6_a_air</th>\n",
       "      <th>secondary_cleaner.state.floatbank6_a_level</th>\n",
       "    </tr>\n",
       "  </thead>\n",
       "  <tbody>\n",
       "    <tr>\n",
       "      <th>0</th>\n",
       "      <td>2016-09-01 00:59:59</td>\n",
       "      <td>210.800909</td>\n",
       "      <td>14.993118</td>\n",
       "      <td>8.080000</td>\n",
       "      <td>1.005021</td>\n",
       "      <td>1398.981301</td>\n",
       "      <td>-500.225577</td>\n",
       "      <td>1399.144926</td>\n",
       "      <td>-499.919735</td>\n",
       "      <td>1400.102998</td>\n",
       "      <td>...</td>\n",
       "      <td>12.023554</td>\n",
       "      <td>-497.795834</td>\n",
       "      <td>8.016656</td>\n",
       "      <td>-501.289139</td>\n",
       "      <td>7.946562</td>\n",
       "      <td>-432.317850</td>\n",
       "      <td>4.872511</td>\n",
       "      <td>-500.037437</td>\n",
       "      <td>26.705889</td>\n",
       "      <td>-499.709414</td>\n",
       "    </tr>\n",
       "    <tr>\n",
       "      <th>1</th>\n",
       "      <td>2016-09-01 01:59:59</td>\n",
       "      <td>215.392455</td>\n",
       "      <td>14.987471</td>\n",
       "      <td>8.080000</td>\n",
       "      <td>0.990469</td>\n",
       "      <td>1398.777912</td>\n",
       "      <td>-500.057435</td>\n",
       "      <td>1398.055362</td>\n",
       "      <td>-499.778182</td>\n",
       "      <td>1396.151033</td>\n",
       "      <td>...</td>\n",
       "      <td>12.058140</td>\n",
       "      <td>-498.695773</td>\n",
       "      <td>8.130979</td>\n",
       "      <td>-499.634209</td>\n",
       "      <td>7.958270</td>\n",
       "      <td>-525.839648</td>\n",
       "      <td>4.878850</td>\n",
       "      <td>-500.162375</td>\n",
       "      <td>25.019940</td>\n",
       "      <td>-499.819438</td>\n",
       "    </tr>\n",
       "    <tr>\n",
       "      <th>2</th>\n",
       "      <td>2016-09-01 02:59:59</td>\n",
       "      <td>215.259946</td>\n",
       "      <td>12.884934</td>\n",
       "      <td>7.786667</td>\n",
       "      <td>0.996043</td>\n",
       "      <td>1398.493666</td>\n",
       "      <td>-500.868360</td>\n",
       "      <td>1398.860436</td>\n",
       "      <td>-499.764529</td>\n",
       "      <td>1398.075709</td>\n",
       "      <td>...</td>\n",
       "      <td>11.962366</td>\n",
       "      <td>-498.767484</td>\n",
       "      <td>8.096893</td>\n",
       "      <td>-500.827423</td>\n",
       "      <td>8.071056</td>\n",
       "      <td>-500.801673</td>\n",
       "      <td>4.905125</td>\n",
       "      <td>-499.828510</td>\n",
       "      <td>24.994862</td>\n",
       "      <td>-500.622559</td>\n",
       "    </tr>\n",
       "    <tr>\n",
       "      <th>3</th>\n",
       "      <td>2016-09-01 03:59:59</td>\n",
       "      <td>215.336236</td>\n",
       "      <td>12.006805</td>\n",
       "      <td>7.640000</td>\n",
       "      <td>0.863514</td>\n",
       "      <td>1399.618111</td>\n",
       "      <td>-498.863574</td>\n",
       "      <td>1397.440120</td>\n",
       "      <td>-499.211024</td>\n",
       "      <td>1400.129303</td>\n",
       "      <td>...</td>\n",
       "      <td>12.033091</td>\n",
       "      <td>-498.350935</td>\n",
       "      <td>8.074946</td>\n",
       "      <td>-499.474407</td>\n",
       "      <td>7.897085</td>\n",
       "      <td>-500.868509</td>\n",
       "      <td>4.931400</td>\n",
       "      <td>-499.963623</td>\n",
       "      <td>24.948919</td>\n",
       "      <td>-498.709987</td>\n",
       "    </tr>\n",
       "    <tr>\n",
       "      <th>4</th>\n",
       "      <td>2016-09-01 04:59:59</td>\n",
       "      <td>199.099327</td>\n",
       "      <td>10.682530</td>\n",
       "      <td>7.530000</td>\n",
       "      <td>0.805575</td>\n",
       "      <td>1401.268123</td>\n",
       "      <td>-500.808305</td>\n",
       "      <td>1398.128818</td>\n",
       "      <td>-499.504543</td>\n",
       "      <td>1402.172226</td>\n",
       "      <td>...</td>\n",
       "      <td>12.025367</td>\n",
       "      <td>-500.786497</td>\n",
       "      <td>8.054678</td>\n",
       "      <td>-500.397500</td>\n",
       "      <td>8.107890</td>\n",
       "      <td>-509.526725</td>\n",
       "      <td>4.957674</td>\n",
       "      <td>-500.360026</td>\n",
       "      <td>25.003331</td>\n",
       "      <td>-500.856333</td>\n",
       "    </tr>\n",
       "  </tbody>\n",
       "</table>\n",
       "<p>5 rows × 53 columns</p>\n",
       "</div>"
      ],
      "text/plain": [
       "                  date  primary_cleaner.input.sulfate  \\\n",
       "0  2016-09-01 00:59:59                     210.800909   \n",
       "1  2016-09-01 01:59:59                     215.392455   \n",
       "2  2016-09-01 02:59:59                     215.259946   \n",
       "3  2016-09-01 03:59:59                     215.336236   \n",
       "4  2016-09-01 04:59:59                     199.099327   \n",
       "\n",
       "   primary_cleaner.input.depressant  primary_cleaner.input.feed_size  \\\n",
       "0                         14.993118                         8.080000   \n",
       "1                         14.987471                         8.080000   \n",
       "2                         12.884934                         7.786667   \n",
       "3                         12.006805                         7.640000   \n",
       "4                         10.682530                         7.530000   \n",
       "\n",
       "   primary_cleaner.input.xanthate  primary_cleaner.state.floatbank8_a_air  \\\n",
       "0                        1.005021                             1398.981301   \n",
       "1                        0.990469                             1398.777912   \n",
       "2                        0.996043                             1398.493666   \n",
       "3                        0.863514                             1399.618111   \n",
       "4                        0.805575                             1401.268123   \n",
       "\n",
       "   primary_cleaner.state.floatbank8_a_level  \\\n",
       "0                               -500.225577   \n",
       "1                               -500.057435   \n",
       "2                               -500.868360   \n",
       "3                               -498.863574   \n",
       "4                               -500.808305   \n",
       "\n",
       "   primary_cleaner.state.floatbank8_b_air  \\\n",
       "0                             1399.144926   \n",
       "1                             1398.055362   \n",
       "2                             1398.860436   \n",
       "3                             1397.440120   \n",
       "4                             1398.128818   \n",
       "\n",
       "   primary_cleaner.state.floatbank8_b_level  \\\n",
       "0                               -499.919735   \n",
       "1                               -499.778182   \n",
       "2                               -499.764529   \n",
       "3                               -499.211024   \n",
       "4                               -499.504543   \n",
       "\n",
       "   primary_cleaner.state.floatbank8_c_air  ...  \\\n",
       "0                             1400.102998  ...   \n",
       "1                             1396.151033  ...   \n",
       "2                             1398.075709  ...   \n",
       "3                             1400.129303  ...   \n",
       "4                             1402.172226  ...   \n",
       "\n",
       "   secondary_cleaner.state.floatbank4_a_air  \\\n",
       "0                                 12.023554   \n",
       "1                                 12.058140   \n",
       "2                                 11.962366   \n",
       "3                                 12.033091   \n",
       "4                                 12.025367   \n",
       "\n",
       "   secondary_cleaner.state.floatbank4_a_level  \\\n",
       "0                                 -497.795834   \n",
       "1                                 -498.695773   \n",
       "2                                 -498.767484   \n",
       "3                                 -498.350935   \n",
       "4                                 -500.786497   \n",
       "\n",
       "   secondary_cleaner.state.floatbank4_b_air  \\\n",
       "0                                  8.016656   \n",
       "1                                  8.130979   \n",
       "2                                  8.096893   \n",
       "3                                  8.074946   \n",
       "4                                  8.054678   \n",
       "\n",
       "   secondary_cleaner.state.floatbank4_b_level  \\\n",
       "0                                 -501.289139   \n",
       "1                                 -499.634209   \n",
       "2                                 -500.827423   \n",
       "3                                 -499.474407   \n",
       "4                                 -500.397500   \n",
       "\n",
       "   secondary_cleaner.state.floatbank5_a_air  \\\n",
       "0                                  7.946562   \n",
       "1                                  7.958270   \n",
       "2                                  8.071056   \n",
       "3                                  7.897085   \n",
       "4                                  8.107890   \n",
       "\n",
       "   secondary_cleaner.state.floatbank5_a_level  \\\n",
       "0                                 -432.317850   \n",
       "1                                 -525.839648   \n",
       "2                                 -500.801673   \n",
       "3                                 -500.868509   \n",
       "4                                 -509.526725   \n",
       "\n",
       "   secondary_cleaner.state.floatbank5_b_air  \\\n",
       "0                                  4.872511   \n",
       "1                                  4.878850   \n",
       "2                                  4.905125   \n",
       "3                                  4.931400   \n",
       "4                                  4.957674   \n",
       "\n",
       "   secondary_cleaner.state.floatbank5_b_level  \\\n",
       "0                                 -500.037437   \n",
       "1                                 -500.162375   \n",
       "2                                 -499.828510   \n",
       "3                                 -499.963623   \n",
       "4                                 -500.360026   \n",
       "\n",
       "   secondary_cleaner.state.floatbank6_a_air  \\\n",
       "0                                 26.705889   \n",
       "1                                 25.019940   \n",
       "2                                 24.994862   \n",
       "3                                 24.948919   \n",
       "4                                 25.003331   \n",
       "\n",
       "   secondary_cleaner.state.floatbank6_a_level  \n",
       "0                                 -499.709414  \n",
       "1                                 -499.819438  \n",
       "2                                 -500.622559  \n",
       "3                                 -498.709987  \n",
       "4                                 -500.856333  \n",
       "\n",
       "[5 rows x 53 columns]"
      ]
     },
     "metadata": {},
     "output_type": "display_data"
    }
   ],
   "source": [
    "# чтение данных из файла\n",
    "data_test = pd.read_csv('/datasets/gold_recovery_test_new.csv')\n",
    "# просмотр первых десяти строчек в таблице \n",
    "display(data_test.head(5))"
   ]
  },
  {
   "cell_type": "code",
   "execution_count": 5,
   "metadata": {
    "scrolled": true
   },
   "outputs": [
    {
     "name": "stdout",
     "output_type": "stream",
     "text": [
      "<class 'pandas.core.frame.DataFrame'>\n",
      "RangeIndex: 5290 entries, 0 to 5289\n",
      "Data columns (total 53 columns):\n",
      " #   Column                                      Non-Null Count  Dtype  \n",
      "---  ------                                      --------------  -----  \n",
      " 0   date                                        5290 non-null   object \n",
      " 1   primary_cleaner.input.sulfate               5286 non-null   float64\n",
      " 2   primary_cleaner.input.depressant            5285 non-null   float64\n",
      " 3   primary_cleaner.input.feed_size             5290 non-null   float64\n",
      " 4   primary_cleaner.input.xanthate              5286 non-null   float64\n",
      " 5   primary_cleaner.state.floatbank8_a_air      5290 non-null   float64\n",
      " 6   primary_cleaner.state.floatbank8_a_level    5290 non-null   float64\n",
      " 7   primary_cleaner.state.floatbank8_b_air      5290 non-null   float64\n",
      " 8   primary_cleaner.state.floatbank8_b_level    5290 non-null   float64\n",
      " 9   primary_cleaner.state.floatbank8_c_air      5290 non-null   float64\n",
      " 10  primary_cleaner.state.floatbank8_c_level    5290 non-null   float64\n",
      " 11  primary_cleaner.state.floatbank8_d_air      5290 non-null   float64\n",
      " 12  primary_cleaner.state.floatbank8_d_level    5290 non-null   float64\n",
      " 13  rougher.input.feed_ag                       5290 non-null   float64\n",
      " 14  rougher.input.feed_pb                       5290 non-null   float64\n",
      " 15  rougher.input.feed_rate                     5287 non-null   float64\n",
      " 16  rougher.input.feed_size                     5289 non-null   float64\n",
      " 17  rougher.input.feed_sol                      5269 non-null   float64\n",
      " 18  rougher.input.feed_au                       5290 non-null   float64\n",
      " 19  rougher.input.floatbank10_sulfate           5285 non-null   float64\n",
      " 20  rougher.input.floatbank10_xanthate          5290 non-null   float64\n",
      " 21  rougher.input.floatbank11_sulfate           5282 non-null   float64\n",
      " 22  rougher.input.floatbank11_xanthate          5265 non-null   float64\n",
      " 23  rougher.state.floatbank10_a_air             5290 non-null   float64\n",
      " 24  rougher.state.floatbank10_a_level           5290 non-null   float64\n",
      " 25  rougher.state.floatbank10_b_air             5290 non-null   float64\n",
      " 26  rougher.state.floatbank10_b_level           5290 non-null   float64\n",
      " 27  rougher.state.floatbank10_c_air             5290 non-null   float64\n",
      " 28  rougher.state.floatbank10_c_level           5290 non-null   float64\n",
      " 29  rougher.state.floatbank10_d_air             5290 non-null   float64\n",
      " 30  rougher.state.floatbank10_d_level           5290 non-null   float64\n",
      " 31  rougher.state.floatbank10_e_air             5290 non-null   float64\n",
      " 32  rougher.state.floatbank10_e_level           5290 non-null   float64\n",
      " 33  rougher.state.floatbank10_f_air             5290 non-null   float64\n",
      " 34  rougher.state.floatbank10_f_level           5290 non-null   float64\n",
      " 35  secondary_cleaner.state.floatbank2_a_air    5287 non-null   float64\n",
      " 36  secondary_cleaner.state.floatbank2_a_level  5290 non-null   float64\n",
      " 37  secondary_cleaner.state.floatbank2_b_air    5288 non-null   float64\n",
      " 38  secondary_cleaner.state.floatbank2_b_level  5290 non-null   float64\n",
      " 39  secondary_cleaner.state.floatbank3_a_air    5281 non-null   float64\n",
      " 40  secondary_cleaner.state.floatbank3_a_level  5290 non-null   float64\n",
      " 41  secondary_cleaner.state.floatbank3_b_air    5290 non-null   float64\n",
      " 42  secondary_cleaner.state.floatbank3_b_level  5290 non-null   float64\n",
      " 43  secondary_cleaner.state.floatbank4_a_air    5290 non-null   float64\n",
      " 44  secondary_cleaner.state.floatbank4_a_level  5290 non-null   float64\n",
      " 45  secondary_cleaner.state.floatbank4_b_air    5290 non-null   float64\n",
      " 46  secondary_cleaner.state.floatbank4_b_level  5290 non-null   float64\n",
      " 47  secondary_cleaner.state.floatbank5_a_air    5290 non-null   float64\n",
      " 48  secondary_cleaner.state.floatbank5_a_level  5290 non-null   float64\n",
      " 49  secondary_cleaner.state.floatbank5_b_air    5290 non-null   float64\n",
      " 50  secondary_cleaner.state.floatbank5_b_level  5290 non-null   float64\n",
      " 51  secondary_cleaner.state.floatbank6_a_air    5290 non-null   float64\n",
      " 52  secondary_cleaner.state.floatbank6_a_level  5290 non-null   float64\n",
      "dtypes: float64(52), object(1)\n",
      "memory usage: 2.1+ MB\n"
     ]
    }
   ],
   "source": [
    "# вывод информации о data_test\n",
    "data_test.info()"
   ]
  },
  {
   "cell_type": "markdown",
   "metadata": {},
   "source": [
    "### Исходные данные"
   ]
  },
  {
   "cell_type": "code",
   "execution_count": 6,
   "metadata": {
    "scrolled": true
   },
   "outputs": [
    {
     "data": {
      "text/html": [
       "<div>\n",
       "<style scoped>\n",
       "    .dataframe tbody tr th:only-of-type {\n",
       "        vertical-align: middle;\n",
       "    }\n",
       "\n",
       "    .dataframe tbody tr th {\n",
       "        vertical-align: top;\n",
       "    }\n",
       "\n",
       "    .dataframe thead th {\n",
       "        text-align: right;\n",
       "    }\n",
       "</style>\n",
       "<table border=\"1\" class=\"dataframe\">\n",
       "  <thead>\n",
       "    <tr style=\"text-align: right;\">\n",
       "      <th></th>\n",
       "      <th>date</th>\n",
       "      <th>final.output.concentrate_ag</th>\n",
       "      <th>final.output.concentrate_pb</th>\n",
       "      <th>final.output.concentrate_sol</th>\n",
       "      <th>final.output.concentrate_au</th>\n",
       "      <th>final.output.recovery</th>\n",
       "      <th>final.output.tail_ag</th>\n",
       "      <th>final.output.tail_pb</th>\n",
       "      <th>final.output.tail_sol</th>\n",
       "      <th>final.output.tail_au</th>\n",
       "      <th>...</th>\n",
       "      <th>secondary_cleaner.state.floatbank4_a_air</th>\n",
       "      <th>secondary_cleaner.state.floatbank4_a_level</th>\n",
       "      <th>secondary_cleaner.state.floatbank4_b_air</th>\n",
       "      <th>secondary_cleaner.state.floatbank4_b_level</th>\n",
       "      <th>secondary_cleaner.state.floatbank5_a_air</th>\n",
       "      <th>secondary_cleaner.state.floatbank5_a_level</th>\n",
       "      <th>secondary_cleaner.state.floatbank5_b_air</th>\n",
       "      <th>secondary_cleaner.state.floatbank5_b_level</th>\n",
       "      <th>secondary_cleaner.state.floatbank6_a_air</th>\n",
       "      <th>secondary_cleaner.state.floatbank6_a_level</th>\n",
       "    </tr>\n",
       "  </thead>\n",
       "  <tbody>\n",
       "    <tr>\n",
       "      <th>0</th>\n",
       "      <td>2016-01-15 00:00:00</td>\n",
       "      <td>6.055403</td>\n",
       "      <td>9.889648</td>\n",
       "      <td>5.507324</td>\n",
       "      <td>42.192020</td>\n",
       "      <td>70.541216</td>\n",
       "      <td>10.411962</td>\n",
       "      <td>0.895447</td>\n",
       "      <td>16.904297</td>\n",
       "      <td>2.143149</td>\n",
       "      <td>...</td>\n",
       "      <td>14.016835</td>\n",
       "      <td>-502.488007</td>\n",
       "      <td>12.099931</td>\n",
       "      <td>-504.715942</td>\n",
       "      <td>9.925633</td>\n",
       "      <td>-498.310211</td>\n",
       "      <td>8.079666</td>\n",
       "      <td>-500.470978</td>\n",
       "      <td>14.151341</td>\n",
       "      <td>-605.841980</td>\n",
       "    </tr>\n",
       "    <tr>\n",
       "      <th>1</th>\n",
       "      <td>2016-01-15 01:00:00</td>\n",
       "      <td>6.029369</td>\n",
       "      <td>9.968944</td>\n",
       "      <td>5.257781</td>\n",
       "      <td>42.701629</td>\n",
       "      <td>69.266198</td>\n",
       "      <td>10.462676</td>\n",
       "      <td>0.927452</td>\n",
       "      <td>16.634514</td>\n",
       "      <td>2.224930</td>\n",
       "      <td>...</td>\n",
       "      <td>13.992281</td>\n",
       "      <td>-505.503262</td>\n",
       "      <td>11.950531</td>\n",
       "      <td>-501.331529</td>\n",
       "      <td>10.039245</td>\n",
       "      <td>-500.169983</td>\n",
       "      <td>7.984757</td>\n",
       "      <td>-500.582168</td>\n",
       "      <td>13.998353</td>\n",
       "      <td>-599.787184</td>\n",
       "    </tr>\n",
       "    <tr>\n",
       "      <th>2</th>\n",
       "      <td>2016-01-15 02:00:00</td>\n",
       "      <td>6.055926</td>\n",
       "      <td>10.213995</td>\n",
       "      <td>5.383759</td>\n",
       "      <td>42.657501</td>\n",
       "      <td>68.116445</td>\n",
       "      <td>10.507046</td>\n",
       "      <td>0.953716</td>\n",
       "      <td>16.208849</td>\n",
       "      <td>2.257889</td>\n",
       "      <td>...</td>\n",
       "      <td>14.015015</td>\n",
       "      <td>-502.520901</td>\n",
       "      <td>11.912783</td>\n",
       "      <td>-501.133383</td>\n",
       "      <td>10.070913</td>\n",
       "      <td>-500.129135</td>\n",
       "      <td>8.013877</td>\n",
       "      <td>-500.517572</td>\n",
       "      <td>14.028663</td>\n",
       "      <td>-601.427363</td>\n",
       "    </tr>\n",
       "    <tr>\n",
       "      <th>3</th>\n",
       "      <td>2016-01-15 03:00:00</td>\n",
       "      <td>6.047977</td>\n",
       "      <td>9.977019</td>\n",
       "      <td>4.858634</td>\n",
       "      <td>42.689819</td>\n",
       "      <td>68.347543</td>\n",
       "      <td>10.422762</td>\n",
       "      <td>0.883763</td>\n",
       "      <td>16.532835</td>\n",
       "      <td>2.146849</td>\n",
       "      <td>...</td>\n",
       "      <td>14.036510</td>\n",
       "      <td>-500.857308</td>\n",
       "      <td>11.999550</td>\n",
       "      <td>-501.193686</td>\n",
       "      <td>9.970366</td>\n",
       "      <td>-499.201640</td>\n",
       "      <td>7.977324</td>\n",
       "      <td>-500.255908</td>\n",
       "      <td>14.005551</td>\n",
       "      <td>-599.996129</td>\n",
       "    </tr>\n",
       "    <tr>\n",
       "      <th>4</th>\n",
       "      <td>2016-01-15 04:00:00</td>\n",
       "      <td>6.148599</td>\n",
       "      <td>10.142511</td>\n",
       "      <td>4.939416</td>\n",
       "      <td>42.774141</td>\n",
       "      <td>66.927016</td>\n",
       "      <td>10.360302</td>\n",
       "      <td>0.792826</td>\n",
       "      <td>16.525686</td>\n",
       "      <td>2.055292</td>\n",
       "      <td>...</td>\n",
       "      <td>14.027298</td>\n",
       "      <td>-499.838632</td>\n",
       "      <td>11.953070</td>\n",
       "      <td>-501.053894</td>\n",
       "      <td>9.925709</td>\n",
       "      <td>-501.686727</td>\n",
       "      <td>7.894242</td>\n",
       "      <td>-500.356035</td>\n",
       "      <td>13.996647</td>\n",
       "      <td>-601.496691</td>\n",
       "    </tr>\n",
       "  </tbody>\n",
       "</table>\n",
       "<p>5 rows × 87 columns</p>\n",
       "</div>"
      ],
      "text/plain": [
       "                  date  final.output.concentrate_ag  \\\n",
       "0  2016-01-15 00:00:00                     6.055403   \n",
       "1  2016-01-15 01:00:00                     6.029369   \n",
       "2  2016-01-15 02:00:00                     6.055926   \n",
       "3  2016-01-15 03:00:00                     6.047977   \n",
       "4  2016-01-15 04:00:00                     6.148599   \n",
       "\n",
       "   final.output.concentrate_pb  final.output.concentrate_sol  \\\n",
       "0                     9.889648                      5.507324   \n",
       "1                     9.968944                      5.257781   \n",
       "2                    10.213995                      5.383759   \n",
       "3                     9.977019                      4.858634   \n",
       "4                    10.142511                      4.939416   \n",
       "\n",
       "   final.output.concentrate_au  final.output.recovery  final.output.tail_ag  \\\n",
       "0                    42.192020              70.541216             10.411962   \n",
       "1                    42.701629              69.266198             10.462676   \n",
       "2                    42.657501              68.116445             10.507046   \n",
       "3                    42.689819              68.347543             10.422762   \n",
       "4                    42.774141              66.927016             10.360302   \n",
       "\n",
       "   final.output.tail_pb  final.output.tail_sol  final.output.tail_au  ...  \\\n",
       "0              0.895447              16.904297              2.143149  ...   \n",
       "1              0.927452              16.634514              2.224930  ...   \n",
       "2              0.953716              16.208849              2.257889  ...   \n",
       "3              0.883763              16.532835              2.146849  ...   \n",
       "4              0.792826              16.525686              2.055292  ...   \n",
       "\n",
       "   secondary_cleaner.state.floatbank4_a_air  \\\n",
       "0                                 14.016835   \n",
       "1                                 13.992281   \n",
       "2                                 14.015015   \n",
       "3                                 14.036510   \n",
       "4                                 14.027298   \n",
       "\n",
       "   secondary_cleaner.state.floatbank4_a_level  \\\n",
       "0                                 -502.488007   \n",
       "1                                 -505.503262   \n",
       "2                                 -502.520901   \n",
       "3                                 -500.857308   \n",
       "4                                 -499.838632   \n",
       "\n",
       "   secondary_cleaner.state.floatbank4_b_air  \\\n",
       "0                                 12.099931   \n",
       "1                                 11.950531   \n",
       "2                                 11.912783   \n",
       "3                                 11.999550   \n",
       "4                                 11.953070   \n",
       "\n",
       "   secondary_cleaner.state.floatbank4_b_level  \\\n",
       "0                                 -504.715942   \n",
       "1                                 -501.331529   \n",
       "2                                 -501.133383   \n",
       "3                                 -501.193686   \n",
       "4                                 -501.053894   \n",
       "\n",
       "   secondary_cleaner.state.floatbank5_a_air  \\\n",
       "0                                  9.925633   \n",
       "1                                 10.039245   \n",
       "2                                 10.070913   \n",
       "3                                  9.970366   \n",
       "4                                  9.925709   \n",
       "\n",
       "   secondary_cleaner.state.floatbank5_a_level  \\\n",
       "0                                 -498.310211   \n",
       "1                                 -500.169983   \n",
       "2                                 -500.129135   \n",
       "3                                 -499.201640   \n",
       "4                                 -501.686727   \n",
       "\n",
       "   secondary_cleaner.state.floatbank5_b_air  \\\n",
       "0                                  8.079666   \n",
       "1                                  7.984757   \n",
       "2                                  8.013877   \n",
       "3                                  7.977324   \n",
       "4                                  7.894242   \n",
       "\n",
       "   secondary_cleaner.state.floatbank5_b_level  \\\n",
       "0                                 -500.470978   \n",
       "1                                 -500.582168   \n",
       "2                                 -500.517572   \n",
       "3                                 -500.255908   \n",
       "4                                 -500.356035   \n",
       "\n",
       "   secondary_cleaner.state.floatbank6_a_air  \\\n",
       "0                                 14.151341   \n",
       "1                                 13.998353   \n",
       "2                                 14.028663   \n",
       "3                                 14.005551   \n",
       "4                                 13.996647   \n",
       "\n",
       "   secondary_cleaner.state.floatbank6_a_level  \n",
       "0                                 -605.841980  \n",
       "1                                 -599.787184  \n",
       "2                                 -601.427363  \n",
       "3                                 -599.996129  \n",
       "4                                 -601.496691  \n",
       "\n",
       "[5 rows x 87 columns]"
      ]
     },
     "metadata": {},
     "output_type": "display_data"
    }
   ],
   "source": [
    "# чтение данных из файла\n",
    "data_full = pd.read_csv('/datasets/gold_recovery_full_new.csv')\n",
    "# просмотр первых десяти строчек в таблице \n",
    "display(data_full.head(5))"
   ]
  },
  {
   "cell_type": "code",
   "execution_count": 7,
   "metadata": {},
   "outputs": [
    {
     "name": "stdout",
     "output_type": "stream",
     "text": [
      "<class 'pandas.core.frame.DataFrame'>\n",
      "RangeIndex: 19439 entries, 0 to 19438\n",
      "Data columns (total 87 columns):\n",
      " #   Column                                              Non-Null Count  Dtype  \n",
      "---  ------                                              --------------  -----  \n",
      " 0   date                                                19439 non-null  object \n",
      " 1   final.output.concentrate_ag                         19438 non-null  float64\n",
      " 2   final.output.concentrate_pb                         19438 non-null  float64\n",
      " 3   final.output.concentrate_sol                        19228 non-null  float64\n",
      " 4   final.output.concentrate_au                         19439 non-null  float64\n",
      " 5   final.output.recovery                               19439 non-null  float64\n",
      " 6   final.output.tail_ag                                19438 non-null  float64\n",
      " 7   final.output.tail_pb                                19338 non-null  float64\n",
      " 8   final.output.tail_sol                               19433 non-null  float64\n",
      " 9   final.output.tail_au                                19439 non-null  float64\n",
      " 10  primary_cleaner.input.sulfate                       19415 non-null  float64\n",
      " 11  primary_cleaner.input.depressant                    19402 non-null  float64\n",
      " 12  primary_cleaner.input.feed_size                     19439 non-null  float64\n",
      " 13  primary_cleaner.input.xanthate                      19335 non-null  float64\n",
      " 14  primary_cleaner.output.concentrate_ag               19439 non-null  float64\n",
      " 15  primary_cleaner.output.concentrate_pb               19323 non-null  float64\n",
      " 16  primary_cleaner.output.concentrate_sol              19069 non-null  float64\n",
      " 17  primary_cleaner.output.concentrate_au               19439 non-null  float64\n",
      " 18  primary_cleaner.output.tail_ag                      19435 non-null  float64\n",
      " 19  primary_cleaner.output.tail_pb                      19418 non-null  float64\n",
      " 20  primary_cleaner.output.tail_sol                     19377 non-null  float64\n",
      " 21  primary_cleaner.output.tail_au                      19439 non-null  float64\n",
      " 22  primary_cleaner.state.floatbank8_a_air              19435 non-null  float64\n",
      " 23  primary_cleaner.state.floatbank8_a_level            19438 non-null  float64\n",
      " 24  primary_cleaner.state.floatbank8_b_air              19435 non-null  float64\n",
      " 25  primary_cleaner.state.floatbank8_b_level            19438 non-null  float64\n",
      " 26  primary_cleaner.state.floatbank8_c_air              19437 non-null  float64\n",
      " 27  primary_cleaner.state.floatbank8_c_level            19438 non-null  float64\n",
      " 28  primary_cleaner.state.floatbank8_d_air              19436 non-null  float64\n",
      " 29  primary_cleaner.state.floatbank8_d_level            19438 non-null  float64\n",
      " 30  rougher.calculation.sulfate_to_au_concentrate       19437 non-null  float64\n",
      " 31  rougher.calculation.floatbank10_sulfate_to_au_feed  19437 non-null  float64\n",
      " 32  rougher.calculation.floatbank11_sulfate_to_au_feed  19437 non-null  float64\n",
      " 33  rougher.calculation.au_pb_ratio                     19439 non-null  float64\n",
      " 34  rougher.input.feed_ag                               19439 non-null  float64\n",
      " 35  rougher.input.feed_pb                               19339 non-null  float64\n",
      " 36  rougher.input.feed_rate                             19428 non-null  float64\n",
      " 37  rougher.input.feed_size                             19294 non-null  float64\n",
      " 38  rougher.input.feed_sol                              19340 non-null  float64\n",
      " 39  rougher.input.feed_au                               19439 non-null  float64\n",
      " 40  rougher.input.floatbank10_sulfate                   19405 non-null  float64\n",
      " 41  rougher.input.floatbank10_xanthate                  19431 non-null  float64\n",
      " 42  rougher.input.floatbank11_sulfate                   19395 non-null  float64\n",
      " 43  rougher.input.floatbank11_xanthate                  18986 non-null  float64\n",
      " 44  rougher.output.concentrate_ag                       19439 non-null  float64\n",
      " 45  rougher.output.concentrate_pb                       19439 non-null  float64\n",
      " 46  rougher.output.concentrate_sol                      19416 non-null  float64\n",
      " 47  rougher.output.concentrate_au                       19439 non-null  float64\n",
      " 48  rougher.output.recovery                             19439 non-null  float64\n",
      " 49  rougher.output.tail_ag                              19438 non-null  float64\n",
      " 50  rougher.output.tail_pb                              19439 non-null  float64\n",
      " 51  rougher.output.tail_sol                             19439 non-null  float64\n",
      " 52  rougher.output.tail_au                              19439 non-null  float64\n",
      " 53  rougher.state.floatbank10_a_air                     19438 non-null  float64\n",
      " 54  rougher.state.floatbank10_a_level                   19438 non-null  float64\n",
      " 55  rougher.state.floatbank10_b_air                     19438 non-null  float64\n",
      " 56  rougher.state.floatbank10_b_level                   19438 non-null  float64\n",
      " 57  rougher.state.floatbank10_c_air                     19438 non-null  float64\n",
      " 58  rougher.state.floatbank10_c_level                   19438 non-null  float64\n",
      " 59  rougher.state.floatbank10_d_air                     19439 non-null  float64\n",
      " 60  rougher.state.floatbank10_d_level                   19439 non-null  float64\n",
      " 61  rougher.state.floatbank10_e_air                     19003 non-null  float64\n",
      " 62  rougher.state.floatbank10_e_level                   19439 non-null  float64\n",
      " 63  rougher.state.floatbank10_f_air                     19439 non-null  float64\n",
      " 64  rougher.state.floatbank10_f_level                   19439 non-null  float64\n",
      " 65  secondary_cleaner.output.tail_ag                    19437 non-null  float64\n",
      " 66  secondary_cleaner.output.tail_pb                    19427 non-null  float64\n",
      " 67  secondary_cleaner.output.tail_sol                   17691 non-null  float64\n",
      " 68  secondary_cleaner.output.tail_au                    19439 non-null  float64\n",
      " 69  secondary_cleaner.state.floatbank2_a_air            19219 non-null  float64\n",
      " 70  secondary_cleaner.state.floatbank2_a_level          19438 non-null  float64\n",
      " 71  secondary_cleaner.state.floatbank2_b_air            19416 non-null  float64\n",
      " 72  secondary_cleaner.state.floatbank2_b_level          19438 non-null  float64\n",
      " 73  secondary_cleaner.state.floatbank3_a_air            19426 non-null  float64\n",
      " 74  secondary_cleaner.state.floatbank3_a_level          19438 non-null  float64\n",
      " 75  secondary_cleaner.state.floatbank3_b_air            19438 non-null  float64\n",
      " 76  secondary_cleaner.state.floatbank3_b_level          19438 non-null  float64\n",
      " 77  secondary_cleaner.state.floatbank4_a_air            19433 non-null  float64\n",
      " 78  secondary_cleaner.state.floatbank4_a_level          19438 non-null  float64\n",
      " 79  secondary_cleaner.state.floatbank4_b_air            19438 non-null  float64\n",
      " 80  secondary_cleaner.state.floatbank4_b_level          19438 non-null  float64\n",
      " 81  secondary_cleaner.state.floatbank5_a_air            19438 non-null  float64\n",
      " 82  secondary_cleaner.state.floatbank5_a_level          19438 non-null  float64\n",
      " 83  secondary_cleaner.state.floatbank5_b_air            19438 non-null  float64\n",
      " 84  secondary_cleaner.state.floatbank5_b_level          19438 non-null  float64\n",
      " 85  secondary_cleaner.state.floatbank6_a_air            19437 non-null  float64\n",
      " 86  secondary_cleaner.state.floatbank6_a_level          19438 non-null  float64\n",
      "dtypes: float64(86), object(1)\n",
      "memory usage: 12.9+ MB\n"
     ]
    }
   ],
   "source": [
    "# вывод информации о data_full\n",
    "data_full.info()"
   ]
  },
  {
   "cell_type": "markdown",
   "metadata": {},
   "source": [
    "В данных присутствуют столбцы с датой проведения работ и параметры на каждом этапе получения золота. Все столбцы названы правильно. Все столбцы, кроме date^ имеют вещественный тип. В данных есть пропуски. "
   ]
  },
  {
   "cell_type": "markdown",
   "metadata": {},
   "source": [
    "<font color='steelblue'><b>Комментарий ревьюера: </b></font> ✔️ <br>\n",
    "<font color='green'>Пути к файлам указаны верно, используются методв head() и info().</font>\n",
    "---\n",
    "<font color='steelblue'><b>Комментарий ревьюера: </b></font> ❌ <br>\n",
    "<font color='crimson'>Пожалуйста, напиши небольшой вывод о том, что удалось узнать о данных.</font><br>"
   ]
  },
  {
   "cell_type": "markdown",
   "metadata": {},
   "source": [
    "<font color='steelblue'><b>Комментарий студентки:</b></font>\n",
    "Написала"
   ]
  },
  {
   "cell_type": "markdown",
   "metadata": {},
   "source": [
    "<font color='steelblue'><b>Комментарий ревьюера v2: </b></font> ✔️ <br>\n",
    "<font color='green'>Хорошо.</font>"
   ]
  },
  {
   "cell_type": "markdown",
   "metadata": {},
   "source": [
    "### Проверка рассчетов"
   ]
  },
  {
   "cell_type": "code",
   "execution_count": 8,
   "metadata": {},
   "outputs": [
    {
     "name": "stdout",
     "output_type": "stream",
     "text": [
      "9.73512347450521e-15\n"
     ]
    }
   ],
   "source": [
    "# доля золота в концентрате после флотации/очистки\n",
    "c = data_train['rougher.output.concentrate_au']\n",
    "# доля золота в сырье/концентрате до флотации/очистки\n",
    "f = data_train['rougher.input.feed_au']\n",
    "# доля золота в отвальных хвостах после флотации/очистки\n",
    "t = data_train['rougher.output.tail_au']\n",
    "# рассчет эффективности\n",
    "counted_recovery = (c * (f - t)) / (f * (c - t)) * 100\n",
    "print(mean_absolute_error(counted_recovery, data_train['rougher.output.recovery']))"
   ]
  },
  {
   "cell_type": "markdown",
   "metadata": {},
   "source": [
    "<font color='steelblue'><b>Комментарий ревьюера: </b></font> ❌ <br>\n",
    "<font color='crimson'>Обрати внимание, что число в экспоненциальной форме. Действительно ли есть ошибка в рассчётах?</font><br>"
   ]
  },
  {
   "cell_type": "markdown",
   "metadata": {},
   "source": [
    "<font color='steelblue'><b>Комментарий студентки:</b></font>\n",
    "Ну раз ты спрашиваешь, то ошибки очевидно нет. Но я не очень понимаю, как это понять. "
   ]
  },
  {
   "cell_type": "markdown",
   "metadata": {},
   "source": [
    "<font color='steelblue'><b>Комментарий ревьюера v2: </b><br>\n",
    "9.73512347450521e-15 — это 0.00000000000000973512347450521<br>\n",
    "Ссылка для ознакомления: https://radioprog.ru/post/1097</font>"
   ]
  },
  {
   "cell_type": "markdown",
   "metadata": {},
   "source": [
    "<font color='steelblue'><b>Комментарий студентки:</b></font>\n",
    "Поняла, спасибо"
   ]
  },
  {
   "cell_type": "markdown",
   "metadata": {},
   "source": [
    "<font color='steelblue'><b>Комментарий ревьюера v3: </b></font> ✔️ <br>\n",
    "<font color='green'>👍🏼</font>"
   ]
  },
  {
   "cell_type": "code",
   "execution_count": 9,
   "metadata": {},
   "outputs": [],
   "source": [
    "# data_train['rougher.output.recovery'] = counted_recovery"
   ]
  },
  {
   "cell_type": "markdown",
   "metadata": {},
   "source": [
    "### Анализ признаков"
   ]
  },
  {
   "cell_type": "code",
   "execution_count": 10,
   "metadata": {
    "scrolled": false
   },
   "outputs": [],
   "source": [
    "# создание списков названия столбцов\n",
    "train_columns = data_train.columns.to_list()\n",
    "test_columns = data_test.columns.to_list()\n",
    "missed_columns = set(data_train.columns) - set(data_test.columns)"
   ]
  },
  {
   "cell_type": "code",
   "execution_count": 11,
   "metadata": {
    "scrolled": false
   },
   "outputs": [
    {
     "data": {
      "text/plain": [
       "{'final.output.concentrate_ag',\n",
       " 'final.output.concentrate_au',\n",
       " 'final.output.concentrate_pb',\n",
       " 'final.output.concentrate_sol',\n",
       " 'final.output.recovery',\n",
       " 'final.output.tail_ag',\n",
       " 'final.output.tail_au',\n",
       " 'final.output.tail_pb',\n",
       " 'final.output.tail_sol',\n",
       " 'primary_cleaner.output.concentrate_ag',\n",
       " 'primary_cleaner.output.concentrate_au',\n",
       " 'primary_cleaner.output.concentrate_pb',\n",
       " 'primary_cleaner.output.concentrate_sol',\n",
       " 'primary_cleaner.output.tail_ag',\n",
       " 'primary_cleaner.output.tail_au',\n",
       " 'primary_cleaner.output.tail_pb',\n",
       " 'primary_cleaner.output.tail_sol',\n",
       " 'rougher.calculation.au_pb_ratio',\n",
       " 'rougher.calculation.floatbank10_sulfate_to_au_feed',\n",
       " 'rougher.calculation.floatbank11_sulfate_to_au_feed',\n",
       " 'rougher.calculation.sulfate_to_au_concentrate',\n",
       " 'rougher.output.concentrate_ag',\n",
       " 'rougher.output.concentrate_au',\n",
       " 'rougher.output.concentrate_pb',\n",
       " 'rougher.output.concentrate_sol',\n",
       " 'rougher.output.recovery',\n",
       " 'rougher.output.tail_ag',\n",
       " 'rougher.output.tail_au',\n",
       " 'rougher.output.tail_pb',\n",
       " 'rougher.output.tail_sol',\n",
       " 'secondary_cleaner.output.tail_ag',\n",
       " 'secondary_cleaner.output.tail_au',\n",
       " 'secondary_cleaner.output.tail_pb',\n",
       " 'secondary_cleaner.output.tail_sol'}"
      ]
     },
     "metadata": {},
     "output_type": "display_data"
    }
   ],
   "source": [
    "display(missed_columns)"
   ]
  },
  {
   "cell_type": "markdown",
   "metadata": {},
   "source": [
    "<font color='steelblue'><b>Комментарий ревьюера: </b></font> ⚠️ <br>\n",
    "<font color='darkorange'>Пять предыдущих ячеек с ручным вводом можно написать в одну строку:<br>\n",
    "missed_columns = set(data_train.columns) - set(data_test.columns)\n",
    "</font>"
   ]
  },
  {
   "cell_type": "markdown",
   "metadata": {},
   "source": [
    "<font color='steelblue'><b>Комментарий студентки:</b></font>\n",
    "Я не знала, что так можно, а найти не получилось, так что мучилась так. Исправила"
   ]
  },
  {
   "cell_type": "markdown",
   "metadata": {},
   "source": [
    "<font color='steelblue'><b>Комментарий ревьюера v2: </b></font> ✔️ <br>\n",
    "<font color='green'>👍🏼</font>"
   ]
  },
  {
   "cell_type": "markdown",
   "metadata": {},
   "source": [
    "Все признаки отвечают за параметры продукта на выходе после каждого этапа обработки"
   ]
  },
  {
   "cell_type": "code",
   "execution_count": 12,
   "metadata": {},
   "outputs": [
    {
     "name": "stdout",
     "output_type": "stream",
     "text": [
      "<class 'pandas.core.frame.DataFrame'>\n",
      "RangeIndex: 14149 entries, 0 to 14148\n",
      "Data columns (total 34 columns):\n",
      " #   Column                                              Non-Null Count  Dtype  \n",
      "---  ------                                              --------------  -----  \n",
      " 0   primary_cleaner.output.concentrate_au               14149 non-null  float64\n",
      " 1   final.output.tail_sol                               14144 non-null  float64\n",
      " 2   rougher.calculation.au_pb_ratio                     14149 non-null  float64\n",
      " 3   rougher.output.concentrate_pb                       14149 non-null  float64\n",
      " 4   rougher.output.tail_pb                              14149 non-null  float64\n",
      " 5   primary_cleaner.output.tail_sol                     14103 non-null  float64\n",
      " 6   secondary_cleaner.output.tail_pb                    14139 non-null  float64\n",
      " 7   primary_cleaner.output.concentrate_pb               14063 non-null  float64\n",
      " 8   final.output.concentrate_au                         14149 non-null  float64\n",
      " 9   rougher.output.tail_au                              14149 non-null  float64\n",
      " 10  final.output.tail_pb                                14049 non-null  float64\n",
      " 11  primary_cleaner.output.tail_ag                      14148 non-null  float64\n",
      " 12  rougher.output.tail_sol                             14149 non-null  float64\n",
      " 13  rougher.calculation.floatbank11_sulfate_to_au_feed  14148 non-null  float64\n",
      " 14  final.output.recovery                               14149 non-null  float64\n",
      " 15  rougher.output.concentrate_au                       14149 non-null  float64\n",
      " 16  final.output.concentrate_ag                         14148 non-null  float64\n",
      " 17  primary_cleaner.output.tail_pb                      14134 non-null  float64\n",
      " 18  secondary_cleaner.output.tail_ag                    14147 non-null  float64\n",
      " 19  secondary_cleaner.output.tail_au                    14149 non-null  float64\n",
      " 20  rougher.output.recovery                             14149 non-null  float64\n",
      " 21  final.output.concentrate_sol                        13938 non-null  float64\n",
      " 22  final.output.tail_ag                                14149 non-null  float64\n",
      " 23  final.output.tail_au                                14149 non-null  float64\n",
      " 24  primary_cleaner.output.tail_au                      14149 non-null  float64\n",
      " 25  rougher.output.concentrate_ag                       14149 non-null  float64\n",
      " 26  rougher.output.tail_ag                              14148 non-null  float64\n",
      " 27  primary_cleaner.output.concentrate_sol              13863 non-null  float64\n",
      " 28  rougher.calculation.floatbank10_sulfate_to_au_feed  14148 non-null  float64\n",
      " 29  rougher.output.concentrate_sol                      14127 non-null  float64\n",
      " 30  secondary_cleaner.output.tail_sol                   12544 non-null  float64\n",
      " 31  primary_cleaner.output.concentrate_ag               14149 non-null  float64\n",
      " 32  final.output.concentrate_pb                         14148 non-null  float64\n",
      " 33  rougher.calculation.sulfate_to_au_concentrate       14148 non-null  float64\n",
      "dtypes: float64(34)\n",
      "memory usage: 3.7 MB\n"
     ]
    }
   ],
   "source": [
    "data_train[missed_columns].info()"
   ]
  },
  {
   "cell_type": "markdown",
   "metadata": {},
   "source": [
    "Все признаки типа float64"
   ]
  },
  {
   "cell_type": "markdown",
   "metadata": {},
   "source": [
    "### Предобработка данных"
   ]
  },
  {
   "cell_type": "code",
   "execution_count": 13,
   "metadata": {},
   "outputs": [
    {
     "data": {
      "text/plain": [
       "0       2016-01-15 00:00:00\n",
       "1       2016-01-15 01:00:00\n",
       "2       2016-01-15 02:00:00\n",
       "3       2016-01-15 03:00:00\n",
       "4       2016-01-15 04:00:00\n",
       "                ...        \n",
       "19434   2018-08-18 06:59:59\n",
       "19435   2018-08-18 07:59:59\n",
       "19436   2018-08-18 08:59:59\n",
       "19437   2018-08-18 09:59:59\n",
       "19438   2018-08-18 10:59:59\n",
       "Name: date, Length: 19439, dtype: datetime64[ns]"
      ]
     },
     "execution_count": 13,
     "metadata": {},
     "output_type": "execute_result"
    }
   ],
   "source": [
    "# смена типа на datetime\n",
    "pd.to_datetime(data_train['date'], format = '%Y-%m-%d %H:%M:%S')\n",
    "pd.to_datetime(data_test['date'], format = '%Y-%m-%d %H:%M:%S')\n",
    "pd.to_datetime(data_full['date'], format = '%Y-%m-%d %H:%M:%S')"
   ]
  },
  {
   "cell_type": "code",
   "execution_count": 14,
   "metadata": {
    "scrolled": false
   },
   "outputs": [
    {
     "data": {
      "text/plain": [
       "date                                            0\n",
       "final.output.concentrate_ag                     1\n",
       "final.output.concentrate_pb                     1\n",
       "final.output.concentrate_sol                  211\n",
       "final.output.concentrate_au                     0\n",
       "                                             ... \n",
       "secondary_cleaner.state.floatbank5_a_level      1\n",
       "secondary_cleaner.state.floatbank5_b_air        1\n",
       "secondary_cleaner.state.floatbank5_b_level      1\n",
       "secondary_cleaner.state.floatbank6_a_air        2\n",
       "secondary_cleaner.state.floatbank6_a_level      1\n",
       "Length: 87, dtype: int64"
      ]
     },
     "metadata": {},
     "output_type": "display_data"
    }
   ],
   "source": [
    "# подсчёт пропусков\n",
    "display(data_train.isna().sum())"
   ]
  },
  {
   "cell_type": "code",
   "execution_count": 15,
   "metadata": {},
   "outputs": [
    {
     "data": {
      "text/plain": [
       "date                                          0\n",
       "final.output.concentrate_ag                   0\n",
       "final.output.concentrate_pb                   0\n",
       "final.output.concentrate_sol                  0\n",
       "final.output.concentrate_au                   0\n",
       "                                             ..\n",
       "secondary_cleaner.state.floatbank5_a_level    0\n",
       "secondary_cleaner.state.floatbank5_b_air      0\n",
       "secondary_cleaner.state.floatbank5_b_level    0\n",
       "secondary_cleaner.state.floatbank6_a_air      0\n",
       "secondary_cleaner.state.floatbank6_a_level    0\n",
       "Length: 87, dtype: int64"
      ]
     },
     "metadata": {},
     "output_type": "display_data"
    }
   ],
   "source": [
    "# заполнение пропусов медианой \n",
    "# data_train = data_train.fillna(data_train.mean())\n",
    "data_train = data_train.ffill()\n",
    "# повторный подсчёт пропусков\n",
    "display(data_train.isna().sum())"
   ]
  },
  {
   "cell_type": "markdown",
   "metadata": {},
   "source": [
    "<font color='steelblue'><b>Комментарий ревьюера: </b></font> ⚠️ <br>\n",
    "<font color='darkorange'>Пропусков немного, пропусков в целевых признаках нет, лучше заполнить их предыдущими значениями используя метод ffill.</font>"
   ]
  },
  {
   "cell_type": "markdown",
   "metadata": {},
   "source": [
    "<font color='steelblue'><b>Комментарий студентки:</b></font>\n",
    "А почему так лучше сделать?"
   ]
  },
  {
   "cell_type": "markdown",
   "metadata": {},
   "source": [
    "<font color='steelblue'><b>Комментарий ревьюера v2: </b></font> ✔️ <br>\n",
    "<font color='green'>Хорошо.</font><br>\n",
    "<font color='steelblue'>Если есть очевидный способ заполнить пропуски, их нужно заполнить, а не удалять наблюдения. В данном случае все значения для каждой колонки идут в порядке появления по времени, поэтому заполнить пропуски предыдущими значениями — хорошая идея.</font>"
   ]
  },
  {
   "cell_type": "code",
   "execution_count": 16,
   "metadata": {},
   "outputs": [
    {
     "name": "stdout",
     "output_type": "stream",
     "text": [
      "0\n"
     ]
    }
   ],
   "source": [
    "# подсчёт явных дубликатов\n",
    "print(data_train.duplicated().sum())"
   ]
  },
  {
   "cell_type": "code",
   "execution_count": 17,
   "metadata": {},
   "outputs": [
    {
     "data": {
      "text/plain": [
       "date                                           0\n",
       "primary_cleaner.input.sulfate                  4\n",
       "primary_cleaner.input.depressant               5\n",
       "primary_cleaner.input.feed_size                0\n",
       "primary_cleaner.input.xanthate                 4\n",
       "primary_cleaner.state.floatbank8_a_air         0\n",
       "primary_cleaner.state.floatbank8_a_level       0\n",
       "primary_cleaner.state.floatbank8_b_air         0\n",
       "primary_cleaner.state.floatbank8_b_level       0\n",
       "primary_cleaner.state.floatbank8_c_air         0\n",
       "primary_cleaner.state.floatbank8_c_level       0\n",
       "primary_cleaner.state.floatbank8_d_air         0\n",
       "primary_cleaner.state.floatbank8_d_level       0\n",
       "rougher.input.feed_ag                          0\n",
       "rougher.input.feed_pb                          0\n",
       "rougher.input.feed_rate                        3\n",
       "rougher.input.feed_size                        1\n",
       "rougher.input.feed_sol                        21\n",
       "rougher.input.feed_au                          0\n",
       "rougher.input.floatbank10_sulfate              5\n",
       "rougher.input.floatbank10_xanthate             0\n",
       "rougher.input.floatbank11_sulfate              8\n",
       "rougher.input.floatbank11_xanthate            25\n",
       "rougher.state.floatbank10_a_air                0\n",
       "rougher.state.floatbank10_a_level              0\n",
       "rougher.state.floatbank10_b_air                0\n",
       "rougher.state.floatbank10_b_level              0\n",
       "rougher.state.floatbank10_c_air                0\n",
       "rougher.state.floatbank10_c_level              0\n",
       "rougher.state.floatbank10_d_air                0\n",
       "rougher.state.floatbank10_d_level              0\n",
       "rougher.state.floatbank10_e_air                0\n",
       "rougher.state.floatbank10_e_level              0\n",
       "rougher.state.floatbank10_f_air                0\n",
       "rougher.state.floatbank10_f_level              0\n",
       "secondary_cleaner.state.floatbank2_a_air       3\n",
       "secondary_cleaner.state.floatbank2_a_level     0\n",
       "secondary_cleaner.state.floatbank2_b_air       2\n",
       "secondary_cleaner.state.floatbank2_b_level     0\n",
       "secondary_cleaner.state.floatbank3_a_air       9\n",
       "secondary_cleaner.state.floatbank3_a_level     0\n",
       "secondary_cleaner.state.floatbank3_b_air       0\n",
       "secondary_cleaner.state.floatbank3_b_level     0\n",
       "secondary_cleaner.state.floatbank4_a_air       0\n",
       "secondary_cleaner.state.floatbank4_a_level     0\n",
       "secondary_cleaner.state.floatbank4_b_air       0\n",
       "secondary_cleaner.state.floatbank4_b_level     0\n",
       "secondary_cleaner.state.floatbank5_a_air       0\n",
       "secondary_cleaner.state.floatbank5_a_level     0\n",
       "secondary_cleaner.state.floatbank5_b_air       0\n",
       "secondary_cleaner.state.floatbank5_b_level     0\n",
       "secondary_cleaner.state.floatbank6_a_air       0\n",
       "secondary_cleaner.state.floatbank6_a_level     0\n",
       "dtype: int64"
      ]
     },
     "metadata": {},
     "output_type": "display_data"
    }
   ],
   "source": [
    "# подсчёт пропусков\n",
    "display(data_test.isna().sum())"
   ]
  },
  {
   "cell_type": "code",
   "execution_count": 18,
   "metadata": {
    "scrolled": true
   },
   "outputs": [
    {
     "data": {
      "text/plain": [
       "date                                          0\n",
       "primary_cleaner.input.sulfate                 0\n",
       "primary_cleaner.input.depressant              0\n",
       "primary_cleaner.input.feed_size               0\n",
       "primary_cleaner.input.xanthate                0\n",
       "primary_cleaner.state.floatbank8_a_air        0\n",
       "primary_cleaner.state.floatbank8_a_level      0\n",
       "primary_cleaner.state.floatbank8_b_air        0\n",
       "primary_cleaner.state.floatbank8_b_level      0\n",
       "primary_cleaner.state.floatbank8_c_air        0\n",
       "primary_cleaner.state.floatbank8_c_level      0\n",
       "primary_cleaner.state.floatbank8_d_air        0\n",
       "primary_cleaner.state.floatbank8_d_level      0\n",
       "rougher.input.feed_ag                         0\n",
       "rougher.input.feed_pb                         0\n",
       "rougher.input.feed_rate                       0\n",
       "rougher.input.feed_size                       0\n",
       "rougher.input.feed_sol                        0\n",
       "rougher.input.feed_au                         0\n",
       "rougher.input.floatbank10_sulfate             0\n",
       "rougher.input.floatbank10_xanthate            0\n",
       "rougher.input.floatbank11_sulfate             0\n",
       "rougher.input.floatbank11_xanthate            0\n",
       "rougher.state.floatbank10_a_air               0\n",
       "rougher.state.floatbank10_a_level             0\n",
       "rougher.state.floatbank10_b_air               0\n",
       "rougher.state.floatbank10_b_level             0\n",
       "rougher.state.floatbank10_c_air               0\n",
       "rougher.state.floatbank10_c_level             0\n",
       "rougher.state.floatbank10_d_air               0\n",
       "rougher.state.floatbank10_d_level             0\n",
       "rougher.state.floatbank10_e_air               0\n",
       "rougher.state.floatbank10_e_level             0\n",
       "rougher.state.floatbank10_f_air               0\n",
       "rougher.state.floatbank10_f_level             0\n",
       "secondary_cleaner.state.floatbank2_a_air      0\n",
       "secondary_cleaner.state.floatbank2_a_level    0\n",
       "secondary_cleaner.state.floatbank2_b_air      0\n",
       "secondary_cleaner.state.floatbank2_b_level    0\n",
       "secondary_cleaner.state.floatbank3_a_air      0\n",
       "secondary_cleaner.state.floatbank3_a_level    0\n",
       "secondary_cleaner.state.floatbank3_b_air      0\n",
       "secondary_cleaner.state.floatbank3_b_level    0\n",
       "secondary_cleaner.state.floatbank4_a_air      0\n",
       "secondary_cleaner.state.floatbank4_a_level    0\n",
       "secondary_cleaner.state.floatbank4_b_air      0\n",
       "secondary_cleaner.state.floatbank4_b_level    0\n",
       "secondary_cleaner.state.floatbank5_a_air      0\n",
       "secondary_cleaner.state.floatbank5_a_level    0\n",
       "secondary_cleaner.state.floatbank5_b_air      0\n",
       "secondary_cleaner.state.floatbank5_b_level    0\n",
       "secondary_cleaner.state.floatbank6_a_air      0\n",
       "secondary_cleaner.state.floatbank6_a_level    0\n",
       "dtype: int64"
      ]
     },
     "metadata": {},
     "output_type": "display_data"
    }
   ],
   "source": [
    "# заполнение пропусов медианой \n",
    "# data_test = data_test.fillna(data_train.mean())\n",
    "data_test = data_test.ffill()\n",
    "# подсчёт пропусков\n",
    "display(data_test.isna().sum())"
   ]
  },
  {
   "cell_type": "code",
   "execution_count": 19,
   "metadata": {},
   "outputs": [
    {
     "name": "stdout",
     "output_type": "stream",
     "text": [
      "0\n"
     ]
    }
   ],
   "source": [
    "# подсчёт явных дубликатов\n",
    "print(data_test.duplicated().sum())"
   ]
  },
  {
   "cell_type": "code",
   "execution_count": 20,
   "metadata": {},
   "outputs": [
    {
     "data": {
      "text/plain": [
       "date                                            0\n",
       "final.output.concentrate_ag                     1\n",
       "final.output.concentrate_pb                     1\n",
       "final.output.concentrate_sol                  211\n",
       "final.output.concentrate_au                     0\n",
       "                                             ... \n",
       "secondary_cleaner.state.floatbank5_a_level      1\n",
       "secondary_cleaner.state.floatbank5_b_air        1\n",
       "secondary_cleaner.state.floatbank5_b_level      1\n",
       "secondary_cleaner.state.floatbank6_a_air        2\n",
       "secondary_cleaner.state.floatbank6_a_level      1\n",
       "Length: 87, dtype: int64"
      ]
     },
     "metadata": {},
     "output_type": "display_data"
    }
   ],
   "source": [
    "# подсчёт пропусков\n",
    "display(data_full.isna().sum())"
   ]
  },
  {
   "cell_type": "code",
   "execution_count": 21,
   "metadata": {},
   "outputs": [
    {
     "data": {
      "text/plain": [
       "date                                          0\n",
       "final.output.concentrate_ag                   0\n",
       "final.output.concentrate_pb                   0\n",
       "final.output.concentrate_sol                  0\n",
       "final.output.concentrate_au                   0\n",
       "                                             ..\n",
       "secondary_cleaner.state.floatbank5_a_level    0\n",
       "secondary_cleaner.state.floatbank5_b_air      0\n",
       "secondary_cleaner.state.floatbank5_b_level    0\n",
       "secondary_cleaner.state.floatbank6_a_air      0\n",
       "secondary_cleaner.state.floatbank6_a_level    0\n",
       "Length: 87, dtype: int64"
      ]
     },
     "metadata": {},
     "output_type": "display_data"
    }
   ],
   "source": [
    "# заполнение пропусов медианой \n",
    "# data_test = data_test.fillna(data_train.mean())\n",
    "data_full = data_full.ffill()\n",
    "# подсчёт пропусков\n",
    "display(data_full.isna().sum())"
   ]
  },
  {
   "cell_type": "markdown",
   "metadata": {},
   "source": [
    "## Анализ данных"
   ]
  },
  {
   "cell_type": "markdown",
   "metadata": {},
   "source": [
    "### Концентрация металлов"
   ]
  },
  {
   "cell_type": "code",
   "execution_count": 22,
   "metadata": {},
   "outputs": [
    {
     "data": {
      "text/html": [
       "<div>\n",
       "<style scoped>\n",
       "    .dataframe tbody tr th:only-of-type {\n",
       "        vertical-align: middle;\n",
       "    }\n",
       "\n",
       "    .dataframe tbody tr th {\n",
       "        vertical-align: top;\n",
       "    }\n",
       "\n",
       "    .dataframe thead th {\n",
       "        text-align: right;\n",
       "    }\n",
       "</style>\n",
       "<table border=\"1\" class=\"dataframe\">\n",
       "  <thead>\n",
       "    <tr style=\"text-align: right;\">\n",
       "      <th></th>\n",
       "      <th>rougher.output.concentrate_ag</th>\n",
       "      <th>primary_cleaner.output.concentrate_ag</th>\n",
       "      <th>final.output.concentrate_ag</th>\n",
       "    </tr>\n",
       "  </thead>\n",
       "  <tbody>\n",
       "    <tr>\n",
       "      <th>0</th>\n",
       "      <td>11.500771</td>\n",
       "      <td>8.547551</td>\n",
       "      <td>6.055403</td>\n",
       "    </tr>\n",
       "    <tr>\n",
       "      <th>1</th>\n",
       "      <td>11.615865</td>\n",
       "      <td>8.558743</td>\n",
       "      <td>6.029369</td>\n",
       "    </tr>\n",
       "    <tr>\n",
       "      <th>2</th>\n",
       "      <td>11.695753</td>\n",
       "      <td>8.603505</td>\n",
       "      <td>6.055926</td>\n",
       "    </tr>\n",
       "    <tr>\n",
       "      <th>3</th>\n",
       "      <td>11.915047</td>\n",
       "      <td>7.221879</td>\n",
       "      <td>6.047977</td>\n",
       "    </tr>\n",
       "    <tr>\n",
       "      <th>4</th>\n",
       "      <td>12.411054</td>\n",
       "      <td>9.089428</td>\n",
       "      <td>6.148599</td>\n",
       "    </tr>\n",
       "    <tr>\n",
       "      <th>...</th>\n",
       "      <td>...</td>\n",
       "      <td>...</td>\n",
       "      <td>...</td>\n",
       "    </tr>\n",
       "    <tr>\n",
       "      <th>14144</th>\n",
       "      <td>11.124896</td>\n",
       "      <td>6.559174</td>\n",
       "      <td>3.224920</td>\n",
       "    </tr>\n",
       "    <tr>\n",
       "      <th>14145</th>\n",
       "      <td>11.425983</td>\n",
       "      <td>6.612376</td>\n",
       "      <td>3.195978</td>\n",
       "    </tr>\n",
       "    <tr>\n",
       "      <th>14146</th>\n",
       "      <td>8.523497</td>\n",
       "      <td>7.128896</td>\n",
       "      <td>3.109998</td>\n",
       "    </tr>\n",
       "    <tr>\n",
       "      <th>14147</th>\n",
       "      <td>11.658799</td>\n",
       "      <td>7.490444</td>\n",
       "      <td>3.367241</td>\n",
       "    </tr>\n",
       "    <tr>\n",
       "      <th>14148</th>\n",
       "      <td>11.959486</td>\n",
       "      <td>7.537584</td>\n",
       "      <td>3.598375</td>\n",
       "    </tr>\n",
       "  </tbody>\n",
       "</table>\n",
       "<p>14149 rows × 3 columns</p>\n",
       "</div>"
      ],
      "text/plain": [
       "       rougher.output.concentrate_ag  primary_cleaner.output.concentrate_ag  \\\n",
       "0                          11.500771                               8.547551   \n",
       "1                          11.615865                               8.558743   \n",
       "2                          11.695753                               8.603505   \n",
       "3                          11.915047                               7.221879   \n",
       "4                          12.411054                               9.089428   \n",
       "...                              ...                                    ...   \n",
       "14144                      11.124896                               6.559174   \n",
       "14145                      11.425983                               6.612376   \n",
       "14146                       8.523497                               7.128896   \n",
       "14147                      11.658799                               7.490444   \n",
       "14148                      11.959486                               7.537584   \n",
       "\n",
       "       final.output.concentrate_ag  \n",
       "0                         6.055403  \n",
       "1                         6.029369  \n",
       "2                         6.055926  \n",
       "3                         6.047977  \n",
       "4                         6.148599  \n",
       "...                            ...  \n",
       "14144                     3.224920  \n",
       "14145                     3.195978  \n",
       "14146                     3.109998  \n",
       "14147                     3.367241  \n",
       "14148                     3.598375  \n",
       "\n",
       "[14149 rows x 3 columns]"
      ]
     },
     "metadata": {},
     "output_type": "display_data"
    }
   ],
   "source": [
    "display(data_train.loc[:,['rougher.output.concentrate_ag', 'primary_cleaner.output.concentrate_ag', \n",
    "                   'final.output.concentrate_ag']])\n",
    "                   "
   ]
  },
  {
   "cell_type": "code",
   "execution_count": 23,
   "metadata": {},
   "outputs": [
    {
     "data": {
      "image/png": "[encoded data removed]",
      "text/plain": [
       "<Figure size 432x288 with 1 Axes>"
      ]
     },
     "metadata": {
      "needs_background": "light"
     },
     "output_type": "display_data"
    }
   ],
   "source": [
    "means_for_plot = pd.Series([data_train['rougher.output.concentrate_ag'].mean(), \n",
    "                  data_train['primary_cleaner.output.concentrate_ag'].mean(), \n",
    "                  data_train['final.output.concentrate_ag'].mean()])\n",
    "means_for_plot.plot(kind='bar');"
   ]
  },
  {
   "cell_type": "markdown",
   "metadata": {},
   "source": [
    "После каждого этапа обработки концентрация серебра в продукте падает."
   ]
  },
  {
   "cell_type": "code",
   "execution_count": 24,
   "metadata": {},
   "outputs": [
    {
     "data": {
      "text/html": [
       "<div>\n",
       "<style scoped>\n",
       "    .dataframe tbody tr th:only-of-type {\n",
       "        vertical-align: middle;\n",
       "    }\n",
       "\n",
       "    .dataframe tbody tr th {\n",
       "        vertical-align: top;\n",
       "    }\n",
       "\n",
       "    .dataframe thead th {\n",
       "        text-align: right;\n",
       "    }\n",
       "</style>\n",
       "<table border=\"1\" class=\"dataframe\">\n",
       "  <thead>\n",
       "    <tr style=\"text-align: right;\">\n",
       "      <th></th>\n",
       "      <th>rougher.output.concentrate_pb</th>\n",
       "      <th>primary_cleaner.output.concentrate_pb</th>\n",
       "      <th>final.output.concentrate_pb</th>\n",
       "    </tr>\n",
       "  </thead>\n",
       "  <tbody>\n",
       "    <tr>\n",
       "      <th>0</th>\n",
       "      <td>7.101074</td>\n",
       "      <td>10.389648</td>\n",
       "      <td>9.889648</td>\n",
       "    </tr>\n",
       "    <tr>\n",
       "      <th>1</th>\n",
       "      <td>7.278807</td>\n",
       "      <td>10.497069</td>\n",
       "      <td>9.968944</td>\n",
       "    </tr>\n",
       "    <tr>\n",
       "      <th>2</th>\n",
       "      <td>7.216833</td>\n",
       "      <td>10.354494</td>\n",
       "      <td>10.213995</td>\n",
       "    </tr>\n",
       "    <tr>\n",
       "      <th>3</th>\n",
       "      <td>7.175616</td>\n",
       "      <td>8.496563</td>\n",
       "      <td>9.977019</td>\n",
       "    </tr>\n",
       "    <tr>\n",
       "      <th>4</th>\n",
       "      <td>7.240205</td>\n",
       "      <td>9.986786</td>\n",
       "      <td>10.142511</td>\n",
       "    </tr>\n",
       "    <tr>\n",
       "      <th>...</th>\n",
       "      <td>...</td>\n",
       "      <td>...</td>\n",
       "      <td>...</td>\n",
       "    </tr>\n",
       "    <tr>\n",
       "      <th>14144</th>\n",
       "      <td>10.984003</td>\n",
       "      <td>12.445966</td>\n",
       "      <td>11.356233</td>\n",
       "    </tr>\n",
       "    <tr>\n",
       "      <th>14145</th>\n",
       "      <td>10.888213</td>\n",
       "      <td>12.623947</td>\n",
       "      <td>11.349355</td>\n",
       "    </tr>\n",
       "    <tr>\n",
       "      <th>14146</th>\n",
       "      <td>8.955135</td>\n",
       "      <td>12.633558</td>\n",
       "      <td>11.434366</td>\n",
       "    </tr>\n",
       "    <tr>\n",
       "      <th>14147</th>\n",
       "      <td>10.655377</td>\n",
       "      <td>12.012378</td>\n",
       "      <td>11.625587</td>\n",
       "    </tr>\n",
       "    <tr>\n",
       "      <th>14148</th>\n",
       "      <td>10.702148</td>\n",
       "      <td>11.650285</td>\n",
       "      <td>11.737832</td>\n",
       "    </tr>\n",
       "  </tbody>\n",
       "</table>\n",
       "<p>14149 rows × 3 columns</p>\n",
       "</div>"
      ],
      "text/plain": [
       "       rougher.output.concentrate_pb  primary_cleaner.output.concentrate_pb  \\\n",
       "0                           7.101074                              10.389648   \n",
       "1                           7.278807                              10.497069   \n",
       "2                           7.216833                              10.354494   \n",
       "3                           7.175616                               8.496563   \n",
       "4                           7.240205                               9.986786   \n",
       "...                              ...                                    ...   \n",
       "14144                      10.984003                              12.445966   \n",
       "14145                      10.888213                              12.623947   \n",
       "14146                       8.955135                              12.633558   \n",
       "14147                      10.655377                              12.012378   \n",
       "14148                      10.702148                              11.650285   \n",
       "\n",
       "       final.output.concentrate_pb  \n",
       "0                         9.889648  \n",
       "1                         9.968944  \n",
       "2                        10.213995  \n",
       "3                         9.977019  \n",
       "4                        10.142511  \n",
       "...                            ...  \n",
       "14144                    11.356233  \n",
       "14145                    11.349355  \n",
       "14146                    11.434366  \n",
       "14147                    11.625587  \n",
       "14148                    11.737832  \n",
       "\n",
       "[14149 rows x 3 columns]"
      ]
     },
     "metadata": {},
     "output_type": "display_data"
    }
   ],
   "source": [
    "display(data_train.loc[:,['rougher.output.concentrate_pb', 'primary_cleaner.output.concentrate_pb', \n",
    "                   'final.output.concentrate_pb']])"
   ]
  },
  {
   "cell_type": "code",
   "execution_count": 25,
   "metadata": {},
   "outputs": [
    {
     "data": {
      "image/png": "[encoded data removed]",
      "text/plain": [
       "<Figure size 432x288 with 1 Axes>"
      ]
     },
     "metadata": {
      "needs_background": "light"
     },
     "output_type": "display_data"
    }
   ],
   "source": [
    "means_for_plot = pd.Series([data_train['rougher.output.concentrate_pb'].mean(), \n",
    "                  data_train['primary_cleaner.output.concentrate_pb'].mean(), \n",
    "                  data_train['final.output.concentrate_pb'].mean()])\n",
    "means_for_plot.plot(kind='bar');"
   ]
  },
  {
   "cell_type": "markdown",
   "metadata": {},
   "source": [
    "После каждого этапа обработки концентрация серебра в продукте растет."
   ]
  },
  {
   "cell_type": "code",
   "execution_count": 26,
   "metadata": {},
   "outputs": [
    {
     "data": {
      "text/html": [
       "<div>\n",
       "<style scoped>\n",
       "    .dataframe tbody tr th:only-of-type {\n",
       "        vertical-align: middle;\n",
       "    }\n",
       "\n",
       "    .dataframe tbody tr th {\n",
       "        vertical-align: top;\n",
       "    }\n",
       "\n",
       "    .dataframe thead th {\n",
       "        text-align: right;\n",
       "    }\n",
       "</style>\n",
       "<table border=\"1\" class=\"dataframe\">\n",
       "  <thead>\n",
       "    <tr style=\"text-align: right;\">\n",
       "      <th></th>\n",
       "      <th>rougher.output.concentrate_au</th>\n",
       "      <th>primary_cleaner.output.concentrate_au</th>\n",
       "      <th>final.output.concentrate_au</th>\n",
       "    </tr>\n",
       "  </thead>\n",
       "  <tbody>\n",
       "    <tr>\n",
       "      <th>0</th>\n",
       "      <td>19.793808</td>\n",
       "      <td>34.174427</td>\n",
       "      <td>42.192020</td>\n",
       "    </tr>\n",
       "    <tr>\n",
       "      <th>1</th>\n",
       "      <td>20.050975</td>\n",
       "      <td>34.118526</td>\n",
       "      <td>42.701629</td>\n",
       "    </tr>\n",
       "    <tr>\n",
       "      <th>2</th>\n",
       "      <td>19.737170</td>\n",
       "      <td>33.969464</td>\n",
       "      <td>42.657501</td>\n",
       "    </tr>\n",
       "    <tr>\n",
       "      <th>3</th>\n",
       "      <td>19.320810</td>\n",
       "      <td>28.260743</td>\n",
       "      <td>42.689819</td>\n",
       "    </tr>\n",
       "    <tr>\n",
       "      <th>4</th>\n",
       "      <td>19.216101</td>\n",
       "      <td>33.044932</td>\n",
       "      <td>42.774141</td>\n",
       "    </tr>\n",
       "    <tr>\n",
       "      <th>...</th>\n",
       "      <td>...</td>\n",
       "      <td>...</td>\n",
       "      <td>...</td>\n",
       "    </tr>\n",
       "    <tr>\n",
       "      <th>14144</th>\n",
       "      <td>18.603550</td>\n",
       "      <td>32.940215</td>\n",
       "      <td>46.713954</td>\n",
       "    </tr>\n",
       "    <tr>\n",
       "      <th>14145</th>\n",
       "      <td>18.441436</td>\n",
       "      <td>32.925325</td>\n",
       "      <td>46.866780</td>\n",
       "    </tr>\n",
       "    <tr>\n",
       "      <th>14146</th>\n",
       "      <td>15.111231</td>\n",
       "      <td>31.856742</td>\n",
       "      <td>46.795691</td>\n",
       "    </tr>\n",
       "    <tr>\n",
       "      <th>14147</th>\n",
       "      <td>17.834772</td>\n",
       "      <td>30.770892</td>\n",
       "      <td>46.408188</td>\n",
       "    </tr>\n",
       "    <tr>\n",
       "      <th>14148</th>\n",
       "      <td>17.804134</td>\n",
       "      <td>30.356618</td>\n",
       "      <td>46.299438</td>\n",
       "    </tr>\n",
       "  </tbody>\n",
       "</table>\n",
       "<p>14149 rows × 3 columns</p>\n",
       "</div>"
      ],
      "text/plain": [
       "       rougher.output.concentrate_au  primary_cleaner.output.concentrate_au  \\\n",
       "0                          19.793808                              34.174427   \n",
       "1                          20.050975                              34.118526   \n",
       "2                          19.737170                              33.969464   \n",
       "3                          19.320810                              28.260743   \n",
       "4                          19.216101                              33.044932   \n",
       "...                              ...                                    ...   \n",
       "14144                      18.603550                              32.940215   \n",
       "14145                      18.441436                              32.925325   \n",
       "14146                      15.111231                              31.856742   \n",
       "14147                      17.834772                              30.770892   \n",
       "14148                      17.804134                              30.356618   \n",
       "\n",
       "       final.output.concentrate_au  \n",
       "0                        42.192020  \n",
       "1                        42.701629  \n",
       "2                        42.657501  \n",
       "3                        42.689819  \n",
       "4                        42.774141  \n",
       "...                            ...  \n",
       "14144                    46.713954  \n",
       "14145                    46.866780  \n",
       "14146                    46.795691  \n",
       "14147                    46.408188  \n",
       "14148                    46.299438  \n",
       "\n",
       "[14149 rows x 3 columns]"
      ]
     },
     "metadata": {},
     "output_type": "display_data"
    }
   ],
   "source": [
    "display(data_train.loc[:,['rougher.output.concentrate_au', 'primary_cleaner.output.concentrate_au', \n",
    "                   'final.output.concentrate_au']])"
   ]
  },
  {
   "cell_type": "code",
   "execution_count": 27,
   "metadata": {},
   "outputs": [
    {
     "data": {
      "image/png": "[encoded data removed]",
      "text/plain": [
       "<Figure size 432x288 with 1 Axes>"
      ]
     },
     "metadata": {
      "needs_background": "light"
     },
     "output_type": "display_data"
    }
   ],
   "source": [
    "means_for_plot = pd.Series([data_train['rougher.output.concentrate_au'].mean(), \n",
    "                  data_train['primary_cleaner.output.concentrate_au'].mean(), \n",
    "                  data_train['final.output.concentrate_au'].mean()])\n",
    "means_for_plot.plot(kind='bar');"
   ]
  },
  {
   "cell_type": "markdown",
   "metadata": {},
   "source": [
    "Концентрация золота после каждого этапа растет."
   ]
  },
  {
   "cell_type": "markdown",
   "metadata": {},
   "source": [
    "<font color='steelblue'><b>Комментарий ревьюера: </b></font> ⚠️ <br>\n",
    "<font color='darkorange'>Пожалуйста, визуализируй данные.</font>"
   ]
  },
  {
   "cell_type": "markdown",
   "metadata": {},
   "source": [
    "<font color='steelblue'><b>Комментарий студентки:</b></font>\n",
    "Добавила"
   ]
  },
  {
   "cell_type": "markdown",
   "metadata": {},
   "source": [
    "<font color='steelblue'><b>Комментарий ревьюера v2: </b></font> ✔️ <br>\n",
    "<font color='green'>Хорошо.</font><br>"
   ]
  },
  {
   "cell_type": "markdown",
   "metadata": {},
   "source": [
    "### Распределение размеров гранул сырья"
   ]
  },
  {
   "cell_type": "code",
   "execution_count": 28,
   "metadata": {},
   "outputs": [
    {
     "data": {
      "text/plain": [
       "<AxesSubplot:>"
      ]
     },
     "execution_count": 28,
     "metadata": {},
     "output_type": "execute_result"
    },
    {
     "data": {
      "image/png": "[encoded data removed]",
      "text/plain": [
       "<Figure size 432x288 with 1 Axes>"
      ]
     },
     "metadata": {
      "needs_background": "light"
     },
     "output_type": "display_data"
    }
   ],
   "source": [
    "data_train['rougher.input.feed_size'].hist(bins=30)"
   ]
  },
  {
   "cell_type": "code",
   "execution_count": 29,
   "metadata": {},
   "outputs": [
    {
     "data": {
      "text/plain": [
       "<AxesSubplot:>"
      ]
     },
     "execution_count": 29,
     "metadata": {},
     "output_type": "execute_result"
    },
    {
     "data": {
      "image/png": "[encoded data removed]",
      "text/plain": [
       "<Figure size 432x288 with 1 Axes>"
      ]
     },
     "metadata": {
      "needs_background": "light"
     },
     "output_type": "display_data"
    }
   ],
   "source": [
    "data_test['rougher.input.feed_size'].hist(bins=30)"
   ]
  },
  {
   "cell_type": "markdown",
   "metadata": {},
   "source": [
    "На этапе флотации размеры гранул сырья распределены одинаково"
   ]
  },
  {
   "cell_type": "code",
   "execution_count": 30,
   "metadata": {},
   "outputs": [
    {
     "data": {
      "text/plain": [
       "<AxesSubplot:>"
      ]
     },
     "execution_count": 30,
     "metadata": {},
     "output_type": "execute_result"
    },
    {
     "data": {
      "image/png": "[encoded data removed]",
      "text/plain": [
       "<Figure size 432x288 with 1 Axes>"
      ]
     },
     "metadata": {
      "needs_background": "light"
     },
     "output_type": "display_data"
    }
   ],
   "source": [
    "data_train['primary_cleaner.input.feed_size'].hist()"
   ]
  },
  {
   "cell_type": "code",
   "execution_count": 31,
   "metadata": {},
   "outputs": [
    {
     "data": {
      "text/plain": [
       "<AxesSubplot:>"
      ]
     },
     "execution_count": 31,
     "metadata": {},
     "output_type": "execute_result"
    },
    {
     "data": {
      "image/png": "[encoded data removed]",
      "text/plain": [
       "<Figure size 432x288 with 1 Axes>"
      ]
     },
     "metadata": {
      "needs_background": "light"
     },
     "output_type": "display_data"
    }
   ],
   "source": [
    "data_test['primary_cleaner.input.feed_size'].hist()"
   ]
  },
  {
   "cell_type": "markdown",
   "metadata": {},
   "source": [
    "На этапе первичной обработки размеры гранул сырья распределены одинаково"
   ]
  },
  {
   "cell_type": "markdown",
   "metadata": {},
   "source": [
    "<font color='steelblue'><b>Комментарий ревьюера: </b></font> ✔️ <br>\n",
    "<font color='green'>Хорошо. Есть небольшое смещение распределения от нормального в сторону увеличения гранул.</font>"
   ]
  },
  {
   "cell_type": "markdown",
   "metadata": {},
   "source": [
    "### Суммарная концентрация веществ"
   ]
  },
  {
   "cell_type": "code",
   "execution_count": 32,
   "metadata": {},
   "outputs": [
    {
     "data": {
      "text/html": [
       "<div>\n",
       "<style scoped>\n",
       "    .dataframe tbody tr th:only-of-type {\n",
       "        vertical-align: middle;\n",
       "    }\n",
       "\n",
       "    .dataframe tbody tr th {\n",
       "        vertical-align: top;\n",
       "    }\n",
       "\n",
       "    .dataframe thead th {\n",
       "        text-align: right;\n",
       "    }\n",
       "</style>\n",
       "<table border=\"1\" class=\"dataframe\">\n",
       "  <thead>\n",
       "    <tr style=\"text-align: right;\">\n",
       "      <th></th>\n",
       "      <th>concentration_rougher</th>\n",
       "      <th>concentration_primary</th>\n",
       "      <th>concentration_final</th>\n",
       "    </tr>\n",
       "  </thead>\n",
       "  <tbody>\n",
       "    <tr>\n",
       "      <th>0</th>\n",
       "      <td>66.424950</td>\n",
       "      <td>72.640924</td>\n",
       "      <td>63.644396</td>\n",
       "    </tr>\n",
       "    <tr>\n",
       "      <th>1</th>\n",
       "      <td>67.012710</td>\n",
       "      <td>72.543485</td>\n",
       "      <td>63.957723</td>\n",
       "    </tr>\n",
       "    <tr>\n",
       "      <th>2</th>\n",
       "      <td>66.103793</td>\n",
       "      <td>72.095042</td>\n",
       "      <td>64.311180</td>\n",
       "    </tr>\n",
       "    <tr>\n",
       "      <th>3</th>\n",
       "      <td>65.752751</td>\n",
       "      <td>59.957723</td>\n",
       "      <td>63.573449</td>\n",
       "    </tr>\n",
       "    <tr>\n",
       "      <th>4</th>\n",
       "      <td>65.908382</td>\n",
       "      <td>71.321010</td>\n",
       "      <td>64.004667</td>\n",
       "    </tr>\n",
       "    <tr>\n",
       "      <th>...</th>\n",
       "      <td>...</td>\n",
       "      <td>...</td>\n",
       "      <td>...</td>\n",
       "    </tr>\n",
       "    <tr>\n",
       "      <th>14144</th>\n",
       "      <td>70.781325</td>\n",
       "      <td>59.001692</td>\n",
       "      <td>68.098589</td>\n",
       "    </tr>\n",
       "    <tr>\n",
       "      <th>14145</th>\n",
       "      <td>70.539603</td>\n",
       "      <td>59.703912</td>\n",
       "      <td>68.274362</td>\n",
       "    </tr>\n",
       "    <tr>\n",
       "      <th>14146</th>\n",
       "      <td>55.376330</td>\n",
       "      <td>59.561096</td>\n",
       "      <td>68.226068</td>\n",
       "    </tr>\n",
       "    <tr>\n",
       "      <th>14147</th>\n",
       "      <td>69.201689</td>\n",
       "      <td>57.216686</td>\n",
       "      <td>68.200449</td>\n",
       "    </tr>\n",
       "    <tr>\n",
       "      <th>14148</th>\n",
       "      <td>69.544003</td>\n",
       "      <td>55.748041</td>\n",
       "      <td>68.353154</td>\n",
       "    </tr>\n",
       "  </tbody>\n",
       "</table>\n",
       "<p>14149 rows × 3 columns</p>\n",
       "</div>"
      ],
      "text/plain": [
       "       concentration_rougher  concentration_primary  concentration_final\n",
       "0                  66.424950              72.640924            63.644396\n",
       "1                  67.012710              72.543485            63.957723\n",
       "2                  66.103793              72.095042            64.311180\n",
       "3                  65.752751              59.957723            63.573449\n",
       "4                  65.908382              71.321010            64.004667\n",
       "...                      ...                    ...                  ...\n",
       "14144              70.781325              59.001692            68.098589\n",
       "14145              70.539603              59.703912            68.274362\n",
       "14146              55.376330              59.561096            68.226068\n",
       "14147              69.201689              57.216686            68.200449\n",
       "14148              69.544003              55.748041            68.353154\n",
       "\n",
       "[14149 rows x 3 columns]"
      ]
     },
     "execution_count": 32,
     "metadata": {},
     "output_type": "execute_result"
    }
   ],
   "source": [
    "concentration_rougher = ( \n",
    "    data_train['rougher.output.concentrate_au']\n",
    "    + data_train['rougher.output.concentrate_ag'] \n",
    "    + data_train['rougher.output.concentrate_pb'] \n",
    "    + data_train['rougher.output.concentrate_sol']\n",
    ")\n",
    "\n",
    "concentration = pd.DataFrame(data=concentration_rougher, columns=['concentration_rougher'])\n",
    "concentration['concentration_rougher'] = concentration_rougher\n",
    "\n",
    "concentration['concentration_primary'] = ( \n",
    "    data_train['primary_cleaner.output.concentrate_ag']\n",
    "    + data_train['primary_cleaner.output.concentrate_au'] \n",
    "    + data_train['primary_cleaner.output.concentrate_pb'] \n",
    "    + data_train['primary_cleaner.output.concentrate_sol']\n",
    ")\n",
    "\n",
    "concentration['concentration_final'] = ( \n",
    "    data_train['final.output.concentrate_ag']\n",
    "    + data_train['final.output.concentrate_au'] \n",
    "    + data_train['final.output.concentrate_pb'] \n",
    "    + data_train['final.output.concentrate_sol']\n",
    ")\n",
    "\n",
    "concentration"
   ]
  },
  {
   "cell_type": "code",
   "execution_count": 33,
   "metadata": {},
   "outputs": [
    {
     "data": {
      "image/png": "[encoded data removed]",
      "text/plain": [
       "<Figure size 432x288 with 1 Axes>"
      ]
     },
     "metadata": {
      "needs_background": "light"
     },
     "output_type": "display_data"
    }
   ],
   "source": [
    "concentration['concentration_rougher'].hist();"
   ]
  },
  {
   "cell_type": "code",
   "execution_count": 34,
   "metadata": {},
   "outputs": [],
   "source": [
    "concentration['concentration_rougher'] = concentration['concentration_rougher'].loc[\n",
    "    concentration['concentration_rougher'] > 10\n",
    "]"
   ]
  },
  {
   "cell_type": "code",
   "execution_count": 35,
   "metadata": {},
   "outputs": [
    {
     "data": {
      "image/png": "[encoded data removed]",
      "text/plain": [
       "<Figure size 432x288 with 1 Axes>"
      ]
     },
     "metadata": {
      "needs_background": "light"
     },
     "output_type": "display_data"
    }
   ],
   "source": [
    "concentration['concentration_rougher'].hist();"
   ]
  },
  {
   "cell_type": "code",
   "execution_count": 36,
   "metadata": {},
   "outputs": [
    {
     "data": {
      "image/png": "[encoded data removed]",
      "text/plain": [
       "<Figure size 432x288 with 1 Axes>"
      ]
     },
     "metadata": {
      "needs_background": "light"
     },
     "output_type": "display_data"
    }
   ],
   "source": [
    "concentration['concentration_primary'].hist();"
   ]
  },
  {
   "cell_type": "code",
   "execution_count": 37,
   "metadata": {},
   "outputs": [],
   "source": [
    "concentration['concentration_primary'] = concentration['concentration_primary'].loc[\n",
    "    concentration['concentration_primary'] > 10\n",
    "]"
   ]
  },
  {
   "cell_type": "code",
   "execution_count": 38,
   "metadata": {},
   "outputs": [
    {
     "data": {
      "image/png": "[encoded data removed]",
      "text/plain": [
       "<Figure size 432x288 with 1 Axes>"
      ]
     },
     "metadata": {
      "needs_background": "light"
     },
     "output_type": "display_data"
    }
   ],
   "source": [
    "concentration['concentration_primary'].hist();"
   ]
  },
  {
   "cell_type": "code",
   "execution_count": 39,
   "metadata": {},
   "outputs": [
    {
     "data": {
      "image/png": "[encoded data removed]",
      "text/plain": [
       "<Figure size 432x288 with 1 Axes>"
      ]
     },
     "metadata": {
      "needs_background": "light"
     },
     "output_type": "display_data"
    }
   ],
   "source": [
    "concentration['concentration_final'].hist();"
   ]
  },
  {
   "cell_type": "markdown",
   "metadata": {},
   "source": [
    "Суммарная концентрация всех веществ в продукте падает на втором этапе обработке, но в конце все же вырастает и становится примерно равным концентрации на начальном этапе. "
   ]
  },
  {
   "cell_type": "markdown",
   "metadata": {},
   "source": [
    "<font color='steelblue'><b>Комментарий ревьюера: </b></font> ⚠️ <br>\n",
    "<font color='darkorange'>Пожалуйста, визуализируй данные. Без визуализации ты упускаешь кое-что важное.</font>\n",
    "---\n",
    "<font color='steelblue'><b>Комментарий ревьюера: </b></font> ❌ <br>\n",
    "<font color='crimson'>Падает ошибка NameError.<br>\n",
    "Обрати внимание, что для каждого этапа берешь значения серебра 4 раза.</font><br>"
   ]
  },
  {
   "cell_type": "markdown",
   "metadata": {},
   "source": [
    "<font color='steelblue'><b>Комментарий студентки:</b></font>\n",
    "Исправила"
   ]
  },
  {
   "cell_type": "markdown",
   "metadata": {},
   "source": [
    "<font color='steelblue'><b>Комментарий ревьюера v2: </b></font> ❌ <br>\n",
    "<font color='crimson'>Стоит визуализировать не средние, а целиком распределения.<br>\n",
    "<font color='steelblue'>Подсказка: там есть выбросы, от которых стоит избавиться.</font><br>"
   ]
  },
  {
   "cell_type": "markdown",
   "metadata": {},
   "source": [
    "<font color='steelblue'><b>Комментарий студентки:</b></font>\n",
    "Поняла, исправила"
   ]
  },
  {
   "cell_type": "markdown",
   "metadata": {},
   "source": [
    "<font color='steelblue'><b>Комментарий ревьюера v3: </b></font> ✔️ <br>\n",
    "<font color='green'>Хорошо.</font>"
   ]
  },
  {
   "cell_type": "markdown",
   "metadata": {},
   "source": [
    "## Модель"
   ]
  },
  {
   "cell_type": "code",
   "execution_count": 40,
   "metadata": {},
   "outputs": [],
   "source": [
    "# функция для подсчета smape\n",
    "def count_smape(target, predictions):\n",
    "    target = target.reset_index(drop=True)\n",
    "    return np.mean((abs(target - predictions)) / ((abs(target) + abs(predictions)) / 2))"
   ]
  },
  {
   "cell_type": "markdown",
   "metadata": {},
   "source": [
    "<font color='steelblue'><b>Комментарий ревьюера: </b></font> ✔️ <br>\n",
    "<font color='green'>Хорошо.<br>\n",
    "Лучше назвать функцию calculate_smape, count — считать в смысле пересчитывать предметы, calculate — считать в смысле вычислять.<br>\n",
    "Тут можно обойтись без цикла:<br>\n",
    "def count_smape(target, predictions):<br>\n",
    "$\\;\\;\\;\\;$return np.mean((abs(target - predictions)) / ((abs(target) + abs(predictions)) / 2))</font>"
   ]
  },
  {
   "cell_type": "markdown",
   "metadata": {},
   "source": [
    "<font color='steelblue'><b>Комментарий ревьюера v2: </b><br>\n",
    "В знаменателе должен быть плюс, ошиблась в предыдущем комментарии, поправила в комментарии и коде, перезапустила блокнот. Прости, что запутала 😟</font>"
   ]
  },
  {
   "cell_type": "markdown",
   "metadata": {},
   "source": [
    "<font color='steelblue'><b>Комментарий студентки:</b></font>\n",
    "Ой да ничего страшного, это мне не стоило тупо копипастить 😅"
   ]
  },
  {
   "cell_type": "markdown",
   "metadata": {},
   "source": [
    "<font color='steelblue'><b>Комментарий ревьюера v3: </b><br>\n",
    "😉</font>"
   ]
  },
  {
   "cell_type": "code",
   "execution_count": 41,
   "metadata": {},
   "outputs": [],
   "source": [
    "# функция для подсчета итогового smape\n",
    "def count_final_smape(smape_1, smape_2):\n",
    "    return 0.25 * smape_1 + 0.75 * smape_2"
   ]
  },
  {
   "cell_type": "markdown",
   "metadata": {},
   "source": [
    "<font color='steelblue'><b>Комментарий ревьюера: </b></font> ✔️ <br>\n",
    "<font color='green'>Всё верно.</font>"
   ]
  },
  {
   "cell_type": "code",
   "execution_count": 42,
   "metadata": {},
   "outputs": [],
   "source": [
    "# создание выборок\n",
    "features = data_train.drop(missed_columns, axis=1)\n",
    "features = features.set_index('date')\n",
    "target_1 = data_train['rougher.output.recovery']\n",
    "target_2 = data_train['final.output.recovery']\n",
    "\n",
    "features_train_1, features_valid_1, target_train_1, target_valid_1 = train_test_split(\n",
    "    features, target_1, test_size=0.25, random_state=12345, shuffle=False\n",
    ")\n",
    "\n",
    "features_train_2, features_valid_2, target_train_2, target_valid_2 = train_test_split(\n",
    "    features, target_2, test_size=0.25, random_state=12345, shuffle=False\n",
    ")"
   ]
  },
  {
   "cell_type": "markdown",
   "metadata": {},
   "source": [
    "<font color='steelblue'><b>Комментарий ревьюера: </b></font> ⚠️ <br>\n",
    "<font color='darkorange'>Лучше не удалять date, а сделать колонку индексами, это понадобится позже.<br>\n",
    "Обрати внимание, что features_train_1 и features_train_2 — одно и то же, так же как и features_train_2, features_valid_2. Нет смысла создавать несколько абсолютно одинаковых датафреймов.</font>"
   ]
  },
  {
   "cell_type": "markdown",
   "metadata": {},
   "source": [
    "<font color='steelblue'><b>Комментарий студентки:</b></font>\n",
    "Исправила "
   ]
  },
  {
   "cell_type": "markdown",
   "metadata": {},
   "source": [
    "<font color='steelblue'><b>Комментарий ревьюера v2: </b></font> ✔️ <br>\n",
    "<font color='green'>Всё верно.</font>"
   ]
  },
  {
   "cell_type": "code",
   "execution_count": 43,
   "metadata": {},
   "outputs": [],
   "source": [
    "smape_scorer = make_scorer(count_smape, greater_is_better=False)"
   ]
  },
  {
   "cell_type": "markdown",
   "metadata": {},
   "source": [
    "### Регресионное дерево"
   ]
  },
  {
   "cell_type": "markdown",
   "metadata": {},
   "source": [
    "#### Регресионное дерево, предсказывающее rougher"
   ]
  },
  {
   "cell_type": "code",
   "execution_count": 44,
   "metadata": {},
   "outputs": [
    {
     "name": "stdout",
     "output_type": "stream",
     "text": [
      "Средняя оценка качества модели: 0.06069687114801279\n"
     ]
    }
   ],
   "source": [
    "# создание и обучение модели\n",
    "model_tree_1 = DecisionTreeRegressor(random_state=12345)\n",
    "model_tree_1.fit(features_train_1, target_train_1)\n",
    "# предсказания модели\n",
    "predictions_tree = model_tree_1.predict(features_valid_1)\n",
    "# подсчет smape для конкретной модели\n",
    "print('Средняя оценка качества модели:',\n",
    "      -1 * np.mean(cross_val_score(model_tree_1, features_valid_1, target_valid_1, scoring=smape_scorer, cv=5)))"
   ]
  },
  {
   "cell_type": "markdown",
   "metadata": {},
   "source": [
    "<font color='steelblue'><b>Комментарий ревьюера: </b></font> ✔️ <br>\n",
    "<font color='green'>Верно, что используешь тут тренировочную и валидационную выборки.</font>\n",
    "---\n",
    "<font color='steelblue'><b>Комментарий ревьюера: </b></font> ❌ <br>\n",
    "<font color='crimson'>Здесь и ниже make_scorer по дефолту greater_is_better=True, нужно указать, что greater_is_better=False, мы минимизируем, так как sMAPE — это ошибка.</font><br>\n",
    "<font color='steelblue'>Ссылка на документацию: https://scikit-learn.org/stable/modules/generated/sklearn.metrics.make_scorer.html</font><br>"
   ]
  },
  {
   "cell_type": "markdown",
   "metadata": {},
   "source": [
    "<font color='steelblue'><b>Комментарий студентки:</b></font>\n",
    "Исправила "
   ]
  },
  {
   "cell_type": "markdown",
   "metadata": {},
   "source": [
    "<font color='steelblue'><b>Комментарий ревьюера v2: </b></font> ✔️ <br>\n",
    "<font color='green'>Хорошо.</font>\n",
    "---\n",
    "<font color='steelblue'><b>Комментарий ревьюера v2: </b></font> ⚠️ <br>\n",
    "<font color='darkorange'>Создавать свой scorer для каждой можели не нужно.</font>"
   ]
  },
  {
   "cell_type": "markdown",
   "metadata": {},
   "source": [
    "<font color='steelblue'><b>Комментарий студентки:</b></font>\n",
    "Исправила "
   ]
  },
  {
   "cell_type": "markdown",
   "metadata": {},
   "source": [
    "<font color='steelblue'><b>Комментарий ревьюера v3: </b></font> ✔️ <br>\n",
    "<font color='green'>Хорошо.</font>"
   ]
  },
  {
   "cell_type": "code",
   "execution_count": 45,
   "metadata": {},
   "outputs": [
    {
     "name": "stdout",
     "output_type": "stream",
     "text": [
      "Глубина дерева: 1\n",
      "Средняя ошибка модели: 0.048595758544985\n",
      "Глубина дерева: 2\n",
      "Средняя ошибка модели: 0.04877337707109834\n",
      "Глубина дерева: 3\n",
      "Средняя ошибка модели: 0.050891085986734544\n",
      "Глубина дерева: 4\n",
      "Средняя ошибка модели: 0.05083320626638719\n",
      "Глубина дерева: 5\n",
      "Средняя ошибка модели: 0.05550293885917831\n",
      "Глубина дерева: 6\n",
      "Средняя ошибка модели: 0.057741022450729665\n",
      "Глубина дерева: 7\n",
      "Средняя ошибка модели: 0.05769986497267863\n",
      "Глубина дерева: 8\n",
      "Средняя ошибка модели: 0.05918591023247466\n",
      "Глубина дерева: 9\n",
      "Средняя ошибка модели: 0.058739074933796445\n",
      "Глубина дерева: 10\n",
      "Средняя ошибка модели: 0.05917546514661385\n"
     ]
    }
   ],
   "source": [
    "# подбор нужного значения параметра\n",
    "for depth in range(1, 11):\n",
    "    # создание и обучение модели\n",
    "    model_tree = DecisionTreeRegressor(random_state=12345, max_depth=depth)\n",
    "    model_tree.fit(features_train_1, target_train_1)\n",
    "    # подсчет smape для конкретной модели\n",
    "    print('Глубина дерева:', depth)\n",
    "    print('Средняя ошибка модели:', \n",
    "          -1 * np.mean(cross_val_score(model_tree, features_valid_1, target_valid_1, scoring=smape_scorer, cv=5)))"
   ]
  },
  {
   "cell_type": "markdown",
   "metadata": {},
   "source": [
    "<font color='steelblue'><b>Комментарий ревьюера v2: </b><br>\n",
    "Исправила знак в функции smape, теперь все значения отрицательные, это особенность реализации make_scorer. Просто умножай все полученне средние на -1:<br>\n",
    "-1 * np.mean(cross_val_score(model_tree, features_valid_1, target_valid_1, scoring=smape_tree, cv=5)))</font>"
   ]
  },
  {
   "cell_type": "markdown",
   "metadata": {},
   "source": [
    "Меньше ошибок допускает модель с глубиной 1"
   ]
  },
  {
   "cell_type": "markdown",
   "metadata": {},
   "source": [
    "<font color='steelblue'><b>Комментарий ревьюера: </b></font> ✔️ <br>\n",
    "<font color='green'>Здорово, что ищешь лучшие гиперпараметры.</font>"
   ]
  },
  {
   "cell_type": "markdown",
   "metadata": {},
   "source": [
    "<font color='steelblue'><b>Комментарий ревьюера v2: </b></font> ⚠️ <br>\n",
    "<font color='darkorange'>Пожалуйста, здесь и ниже выбери лучшую модель (значения поменялись после изменения знака в smape).</font>"
   ]
  },
  {
   "cell_type": "markdown",
   "metadata": {},
   "source": [
    "<font color='steelblue'><b>Комментарий ревьюера v3: </b></font> ❌ <br>\n",
    "<font color='crimson'>sMAPE — это ошибка, и чем она меньше, тем лучше. Пожалуйста, учти это здесь и ниже при выборе лучших моделей.</font><br>"
   ]
  },
  {
   "cell_type": "markdown",
   "metadata": {},
   "source": [
    "<font color='steelblue'><b>Комментарий студентки:</b></font>\n",
    "Исправила"
   ]
  },
  {
   "cell_type": "code",
   "execution_count": 46,
   "metadata": {},
   "outputs": [
    {
     "name": "stdout",
     "output_type": "stream",
     "text": [
      "sMAPE, предсказывающие rougher: 0.11139364477798323\n"
     ]
    }
   ],
   "source": [
    "# создание и обучение модели\n",
    "model_tree_1 = DecisionTreeRegressor(random_state=12345, max_depth=1)\n",
    "model_tree_1.fit(features_train_1, target_train_1)\n",
    "# предсказания модели\n",
    "predictions_tree = model_tree_1.predict(features_valid_1)\n",
    "# подсчет smape для конкретной модели\n",
    "smape_r = count_smape(target_valid_1, predictions_tree)\n",
    "print('sMAPE, предсказывающие rougher:', smape_r)"
   ]
  },
  {
   "cell_type": "markdown",
   "metadata": {},
   "source": [
    "<font color='steelblue'><b>Комментарий ревьюера: </b></font> ❌ <br>\n",
    "<font color='crimson'>Здесь и далее используется валидационная выборка, кросс-валидацию использовать не нужно. Рассчитай smape для predictions_tree и target_valid_1.</font><br>"
   ]
  },
  {
   "cell_type": "markdown",
   "metadata": {},
   "source": [
    "<font color='steelblue'><b>Комментарий студентки:</b></font>\n",
    "Исправила "
   ]
  },
  {
   "cell_type": "markdown",
   "metadata": {},
   "source": [
    "<font color='steelblue'><b>Комментарий ревьюера v2: </b></font> ✔️ <br>\n",
    "<font color='green'>Хоршо. Строка predictions_tree = model_tree_1.predict(features_valid_1) повторяется дважды.</font>"
   ]
  },
  {
   "cell_type": "markdown",
   "metadata": {},
   "source": [
    "#### Регрессионное дерево, предсказывающее final"
   ]
  },
  {
   "cell_type": "code",
   "execution_count": 47,
   "metadata": {},
   "outputs": [
    {
     "name": "stdout",
     "output_type": "stream",
     "text": [
      "Средняя оценка качества модели 0.11972904641955069\n"
     ]
    }
   ],
   "source": [
    "# создание и обучение модели\n",
    "model_tree_2 = DecisionTreeRegressor(random_state=12345)\n",
    "model_tree_2.fit(features_train_2, target_train_2)\n",
    "# подсчет smape для конкретной модели\n",
    "print('Средняя ошибка качества модели',\n",
    "      -1 * np.mean(cross_val_score(model_tree_2, features_valid_2, target_valid_2, scoring=smape_scorer, cv=5)))"
   ]
  },
  {
   "cell_type": "code",
   "execution_count": 48,
   "metadata": {},
   "outputs": [
    {
     "name": "stdout",
     "output_type": "stream",
     "text": [
      "Глубина дерева: 1\n",
      "Средняя оценка качества модели: 0.09180506371263633\n",
      "Глубина дерева: 2\n",
      "Средняя оценка качества модели: 0.08887665593335718\n",
      "Глубина дерева: 3\n",
      "Средняя оценка качества модели: 0.0885554216795397\n",
      "Глубина дерева: 4\n",
      "Средняя оценка качества модели: 0.0895999651491367\n",
      "Глубина дерева: 5\n",
      "Средняя оценка качества модели: 0.0933556855370323\n",
      "Глубина дерева: 6\n",
      "Средняя оценка качества модели: 0.09466310176914314\n",
      "Глубина дерева: 7\n",
      "Средняя оценка качества модели: 0.09905970778339791\n",
      "Глубина дерева: 8\n",
      "Средняя оценка качества модели: 0.09957839289173301\n",
      "Глубина дерева: 9\n",
      "Средняя оценка качества модели: 0.10032665310829418\n",
      "Глубина дерева: 10\n",
      "Средняя оценка качества модели: 0.10150860067937888\n"
     ]
    }
   ],
   "source": [
    "for depth in range(1, 11):\n",
    "    # создание и обучение модели\n",
    "    model_tree_2 = DecisionTreeRegressor(random_state=12345, max_depth=depth)\n",
    "    model_tree_2.fit(features_train_2, target_train_2)\n",
    "    print('Глубина дерева:', depth)\n",
    "    # подсчет smape для конкретной модели\n",
    "    print('Средняя оценка качества модели:', \n",
    "          -1 * np.mean(cross_val_score(model_tree_2, features_valid_2, target_valid_2, scoring=smape_scorer, cv=5)))"
   ]
  },
  {
   "cell_type": "markdown",
   "metadata": {},
   "source": [
    "⚠️ <font color='red'><b>Комментарий студентки:</b></font>\n",
    "Не понимаю, почему начали получатся отрицательные значения здесь и ниже. "
   ]
  },
  {
   "cell_type": "markdown",
   "metadata": {},
   "source": [
    "<font color='steelblue'><b>Комментарий ревьюера v2: </b><br>\n",
    "Особенность реализации make_scorer, выше написала, что делать.</font>"
   ]
  },
  {
   "cell_type": "markdown",
   "metadata": {},
   "source": [
    "Меньше всего ошибок допускает модель с глубиной 3"
   ]
  },
  {
   "cell_type": "code",
   "execution_count": 49,
   "metadata": {},
   "outputs": [
    {
     "name": "stdout",
     "output_type": "stream",
     "text": [
      "sMAPE, предсказывающие final: 0.11203259854894085\n"
     ]
    }
   ],
   "source": [
    "# создание и обучение модели\n",
    "model_tree_2 = DecisionTreeRegressor(random_state=12345, max_depth=3)\n",
    "model_tree_2.fit(features_train_2, target_train_2)\n",
    "# предсказания модели\n",
    "predictions_tree = model_tree_2.predict(features_valid_2)\n",
    "smape_f = count_smape(target_valid_2, predictions_tree)\n",
    "print('sMAPE, предсказывающие final:', smape_f)"
   ]
  },
  {
   "cell_type": "markdown",
   "metadata": {},
   "source": [
    "#### Итоговый sMAPE"
   ]
  },
  {
   "cell_type": "code",
   "execution_count": 50,
   "metadata": {
    "scrolled": true
   },
   "outputs": [
    {
     "name": "stdout",
     "output_type": "stream",
     "text": [
      "Итоговый sMAPE регрессионного дерева: 0.11187286010620144\n"
     ]
    }
   ],
   "source": [
    "print('Итоговый sMAPE регрессионного дерева:', count_final_smape(smape_r, smape_f))"
   ]
  },
  {
   "cell_type": "markdown",
   "metadata": {},
   "source": [
    "### Регресcионный лес"
   ]
  },
  {
   "cell_type": "markdown",
   "metadata": {},
   "source": [
    "#### Регрессионный лес, предсказывающий rougher"
   ]
  },
  {
   "cell_type": "code",
   "execution_count": 51,
   "metadata": {},
   "outputs": [
    {
     "name": "stdout",
     "output_type": "stream",
     "text": [
      "Средняя оценка качества модели: 0.046598144697460535\n"
     ]
    }
   ],
   "source": [
    "# создание и обучение модели\n",
    "model_forest = RandomForestRegressor(random_state=12345)\n",
    "model_forest.fit(features_train_1, target_train_1)\n",
    "# предсказания модели\n",
    "predictions_forest = model_forest.predict(features_valid_1)\n",
    "# подсчет smape для конкретной модели\n",
    "print('Средняя ошибка модели:', \n",
    "      -1 * np.mean(cross_val_score(model_forest, features_valid_1, target_valid_1, scoring=smape_scorer, cv=5)))"
   ]
  },
  {
   "cell_type": "code",
   "execution_count": 52,
   "metadata": {},
   "outputs": [
    {
     "name": "stdout",
     "output_type": "stream",
     "text": [
      "Количество деревьев: 10\n",
      "Средняя оценка качества модели: 0.048570118235566506\n",
      "Количество деревьев: 20\n",
      "Средняя оценка качества модели: 0.0478385157818714\n",
      "Количество деревьев: 30\n",
      "Средняя оценка качества модели: 0.04753869367538942\n",
      "Количество деревьев: 40\n",
      "Средняя оценка качества модели: 0.04678944163961519\n",
      "Количество деревьев: 50\n",
      "Средняя оценка качества модели: 0.0466170923941395\n",
      "Количество деревьев: 60\n",
      "Средняя оценка качества модели: 0.04688567349293746\n",
      "Количество деревьев: 70\n",
      "Средняя оценка качества модели: 0.04679459007977077\n",
      "Количество деревьев: 80\n",
      "Средняя оценка качества модели: 0.04664172050810301\n",
      "Количество деревьев: 90\n",
      "Средняя оценка качества модели: 0.04651742766260171\n"
     ]
    }
   ],
   "source": [
    "for i in range(10, 100, 10):\n",
    "    # создание и обучение модели\n",
    "    model_forest = RandomForestRegressor(random_state=12345, n_estimators=i)\n",
    "    model_forest.fit(features_train_1, target_train_1)\n",
    "    print('Количество деревьев:', i)\n",
    "    # подсчет smape для конкретной модели\n",
    "    print('Средняя оценка качества модели:', \n",
    "          -1 * np.mean(cross_val_score(model_forest, features_valid_1, target_valid_1, scoring=smape_scorer, cv=5)))"
   ]
  },
  {
   "cell_type": "markdown",
   "metadata": {},
   "source": [
    "Меньше всего ошибок допускает модель с количеством деревьев 50"
   ]
  },
  {
   "cell_type": "code",
   "execution_count": 63,
   "metadata": {},
   "outputs": [
    {
     "name": "stdout",
     "output_type": "stream",
     "text": [
      "sMAPE, предсказывающие rougher: 0.1322830795139973\n"
     ]
    }
   ],
   "source": [
    "# создание и обучение модели\n",
    "model_forest_1 = RandomForestRegressor(random_state=12345, n_estimators=50)\n",
    "model_forest_1.fit(features_train_1, target_train_1)\n",
    "# предсказания модели\n",
    "predictions_forest = model_forest_1.predict(features_valid_1)\n",
    "# подсчет smape для конкретной модели\n",
    "smape_r = count_smape(target_valid_1, predictions_forest)\n",
    "print('sMAPE, предсказывающие rougher:', smape_r)"
   ]
  },
  {
   "cell_type": "markdown",
   "metadata": {},
   "source": [
    "#### Регрессионный лес, предсказывающий final"
   ]
  },
  {
   "cell_type": "code",
   "execution_count": 54,
   "metadata": {},
   "outputs": [
    {
     "name": "stdout",
     "output_type": "stream",
     "text": [
      "Средняя оценка качества модели: 0.0843790348357689\n"
     ]
    }
   ],
   "source": [
    "# создание и обучение модели\n",
    "model_forest = RandomForestRegressor(random_state=12345)\n",
    "model_forest.fit(features_train_2, target_train_2)\n",
    "# предсказания модели\n",
    "predictions_forest = model_forest.predict(features_valid_2)\n",
    "# подсчет smape для конкретной модели\n",
    "print('Средняя ошибка модели:', \n",
    "      -1 * np.mean(cross_val_score(model_forest, features_valid_2, target_valid_2, scoring=smape_scorer, cv=5)))"
   ]
  },
  {
   "cell_type": "code",
   "execution_count": 55,
   "metadata": {},
   "outputs": [
    {
     "name": "stdout",
     "output_type": "stream",
     "text": [
      "Количество деревьев: 10\n",
      "Средняя оценка качества модели: 0.09183748793276039\n",
      "Количество деревьев: 20\n",
      "Средняя оценка качества модели: 0.08648413192804214\n",
      "Количество деревьев: 30\n",
      "Средняя оценка качества модели: 0.0857057581426286\n",
      "Количество деревьев: 40\n",
      "Средняя оценка качества модели: 0.08536484688269114\n",
      "Количество деревьев: 50\n",
      "Средняя оценка качества модели: 0.08559381141216302\n"
     ]
    }
   ],
   "source": [
    "for i in range(10, 100, 10):\n",
    "    # создание и обучение модели\n",
    "    model_forest = RandomForestRegressor(random_state=12345, n_estimators=i)\n",
    "    model_forest.fit(features_train_2, target_train_2)\n",
    "    print('Количество деревьев:', i)\n",
    "    # подсчет smape для конкретной модели\n",
    "    print('Средняя ошибка модели:', \n",
    "          -1 * np.mean(cross_val_score(model_forest, features_valid_2, target_valid_2, scoring=smape_scorer, cv=5)))"
   ]
  },
  {
   "cell_type": "markdown",
   "metadata": {},
   "source": [
    "Меньше всего ошибок допускает модель с кол-вом деревьев 40"
   ]
  },
  {
   "cell_type": "code",
   "execution_count": 64,
   "metadata": {},
   "outputs": [
    {
     "name": "stdout",
     "output_type": "stream",
     "text": [
      "sMAPE, предсказывающие rougher: 0.12460822775317847\n"
     ]
    }
   ],
   "source": [
    "# создание и обучение модели\n",
    "model_forest_2 = RandomForestRegressor(random_state=12345, n_estimators=40)\n",
    "model_forest_2.fit(features_train_2, target_train_2)\n",
    "# предсказания модели\n",
    "predictions_forest = model_forest_2.predict(features_valid_2)\n",
    "# подсчет smape для конкретной модели\n",
    "smape_f = count_smape(target_valid_2, predictions_forest)\n",
    "print('sMAPE, предсказывающие rougher:', smape_f)"
   ]
  },
  {
   "cell_type": "markdown",
   "metadata": {},
   "source": [
    "#### Итоговый sMAPE"
   ]
  },
  {
   "cell_type": "code",
   "execution_count": 65,
   "metadata": {},
   "outputs": [
    {
     "name": "stdout",
     "output_type": "stream",
     "text": [
      "Итоговый sMAPE регрессионного леса: 0.12652694069338316\n"
     ]
    }
   ],
   "source": [
    "print('Итоговый sMAPE регрессионного леса:', count_final_smape(smape_r, smape_f))"
   ]
  },
  {
   "cell_type": "markdown",
   "metadata": {},
   "source": [
    "### Линейная регрессия"
   ]
  },
  {
   "cell_type": "markdown",
   "metadata": {},
   "source": [
    "#### Линейная регрессия, предсказывающая rougher"
   ]
  },
  {
   "cell_type": "code",
   "execution_count": 58,
   "metadata": {},
   "outputs": [
    {
     "name": "stdout",
     "output_type": "stream",
     "text": [
      "Средняя оценка качества модели: 0.07438059458801297\n",
      "sMAPE, предсказывающие rougher: 0.11842765729504649\n"
     ]
    }
   ],
   "source": [
    "# создание и обучение модели \n",
    "model_lin = LinearRegression()\n",
    "model_lin.fit(features_train_1, target_train_1)\n",
    "# предсказания модели\n",
    "predictions_lin = model_lin.predict(features_valid_1)\n",
    "smape_lin = make_scorer(count_smape, greater_is_better=False)\n",
    "# подсчет smape для конкретной модели\n",
    "rougher_lin = -1 * np.mean(cross_val_score(model_lin, features_valid_1, target_valid_1, scoring=smape_scorer, cv=5))\n",
    "print('Средняя ошибка модели:', rougher_lin)\n",
    "# подсчет smape для конкретной модели\n",
    "smape_r = count_smape(target_valid_1, predictions_lin)\n",
    "print('sMAPE, предсказывающие rougher:', smape_r)"
   ]
  },
  {
   "cell_type": "markdown",
   "metadata": {},
   "source": [
    "#### Линейная регрессия, предсказывающая final"
   ]
  },
  {
   "cell_type": "code",
   "execution_count": 59,
   "metadata": {},
   "outputs": [
    {
     "name": "stdout",
     "output_type": "stream",
     "text": [
      "Средняя оценка качества модели: 0.11074472052168302\n",
      "sMAPE, предсказывающие rougher: 0.13226088007892456\n"
     ]
    }
   ],
   "source": [
    "# создание и обучение модели \n",
    "model_lin_2 = LinearRegression()\n",
    "model_lin_2.fit(features_train_2, target_train_2)\n",
    "# предсказания модели\n",
    "predictions_lin = model_lin_2.predict(features_valid_2)\n",
    "# подсчет smape для конкретной модели\n",
    "final_lin = -1 * np.mean(cross_val_score(model_lin_2, features_valid_2, target_valid_2, scoring=smape_scorer, cv=5))\n",
    "print('Средняя ошибка модели:', final_lin)\n",
    "# подсчет smape для конкретной модели\n",
    "smape_f = count_smape(target_valid_2, predictions_lin)\n",
    "print('sMAPE, предсказывающие rougher:', smape_f)"
   ]
  },
  {
   "cell_type": "markdown",
   "metadata": {},
   "source": [
    "#### Итоговый sMAPE"
   ]
  },
  {
   "cell_type": "code",
   "execution_count": 60,
   "metadata": {},
   "outputs": [
    {
     "name": "stdout",
     "output_type": "stream",
     "text": [
      "Итоговый sMAPE регрессионного леса: 0.12880257438295503\n"
     ]
    }
   ],
   "source": [
    "print('Итоговый sMAPE регрессионного леса:', count_final_smape(smape_r, smape_f))"
   ]
  },
  {
   "cell_type": "markdown",
   "metadata": {},
   "source": [
    "### Лучшая модель"
   ]
  },
  {
   "cell_type": "markdown",
   "metadata": {},
   "source": [
    "У регресионого дерево итоговый sMAPE равен 0.112. У регресионного леса - 0.126. У линейной регресии - 0.129"
   ]
  },
  {
   "cell_type": "markdown",
   "metadata": {},
   "source": [
    "Лучшая модель - регресионное дерево"
   ]
  },
  {
   "cell_type": "code",
   "execution_count": 61,
   "metadata": {
    "scrolled": false
   },
   "outputs": [],
   "source": [
    "# создание выборок\n",
    "data_test = data_test.set_index('date')\n",
    "data_full = data_full.set_index('date')\n",
    "features_f = data_test\n",
    "target_1 = data_full['rougher.output.recovery'].loc[data_test.index]\n",
    "target_2 = data_full['final.output.recovery'].loc[data_test.index]"
   ]
  },
  {
   "cell_type": "markdown",
   "metadata": {},
   "source": [
    "<font color='steelblue'><b>Комментарий ревьюера: </b></font> ❌ <br>\n",
    "<font color='crimson'>features_f и target_1, target_2 имеют разную размерность (длину). Нужно взять только те строки data_full, которые относятся к тестовому датасету, здесь как раз пригодились бы даты, из которых сделали индексы. Далее не подают ошибки только из-за того, что в функции рассчёта smape есть цикл, в котором for i in range(len(predictions)).</font><br>"
   ]
  },
  {
   "cell_type": "markdown",
   "metadata": {},
   "source": [
    "<font color='steelblue'><b>Комментарий студентки:</b></font>\n",
    "Исправила"
   ]
  },
  {
   "cell_type": "markdown",
   "metadata": {},
   "source": [
    "<font color='steelblue'><b>Комментарий ревьюера v2: </b></font> ✔️ <br>\n",
    "<font color='green'>👍🏼</font>"
   ]
  },
  {
   "cell_type": "code",
   "execution_count": 68,
   "metadata": {},
   "outputs": [
    {
     "name": "stdout",
     "output_type": "stream",
     "text": [
      "sMAPE rougher на тестовой выборке: 0.12502005645582592\n",
      "sMAPE final на тестовой выборке: 0.09599819405734776\n",
      "Итоговый sMAPE: 0.1032536596569673\n"
     ]
    }
   ],
   "source": [
    "predictions_tree_rougher = model_tree_1.predict(features_f)\n",
    "# подсчет smape для конкретной модели\n",
    "smape_tree_rougher = count_smape(target_1, predictions_tree_rougher)\n",
    "print('sMAPE rougher на тестовой выборке:', smape_tree_rougher)\n",
    "predictions_tree_final = model_tree_2.predict(features_f)\n",
    "# подсчет smape для конкретной модели\n",
    "smape_tree_final = count_smape(target_2, predictions_tree_final)\n",
    "print('sMAPE final на тестовой выборке:', smape_tree_final)\n",
    "print('Итоговый sMAPE:', count_final_smape(smape_tree_rougher, smape_tree_final))"
   ]
  },
  {
   "cell_type": "markdown",
   "metadata": {},
   "source": [
    "<font color='steelblue'><b>Комментарий ревьюера: </b></font> ⚠️ <br>\n",
    "<font color='darkorange'>Пожалуйста, проверь корректность всех выводов после внесённых изменений.</font>"
   ]
  },
  {
   "cell_type": "markdown",
   "metadata": {},
   "source": [
    "<font color='steelblue'><b>Комментарий студентки:</b></font>\n",
    "Я заметила, что теперь другая модель показывает лучшие результаты. Но мне кажется6 что это может быть неверным, так как там появлялись отрицательные значения, поэтому пока не стала менять эту часть кода. Тем более тут опять отрицательные значения, как такое может быть, если sMAPE считается по модулю. "
   ]
  },
  {
   "cell_type": "markdown",
   "metadata": {},
   "source": [
    "<font color='steelblue'><b>Комментарий студентки:</b></font>\n",
    "Исправила"
   ]
  },
  {
   "cell_type": "markdown",
   "metadata": {},
   "source": [
    "<font color='steelblue'><b>Комментарий ревьюера v4: </b></font> ✔️ <br>\n",
    "<font color='green'>👍🏼</font>"
   ]
  },
  {
   "cell_type": "markdown",
   "metadata": {},
   "source": [
    "## Вывод"
   ]
  },
  {
   "cell_type": "markdown",
   "metadata": {},
   "source": [
    "Мною были изучены данные о технологическом процесса получения золота. Я проверила рассчеты эффективности обогащения, изучила признаки и предобработала данные. \n",
    "\n",
    "Проанализировав концентрации металлов, я выяснила, что концентрация золота на каждом этапе растет, в то время как концентрация остальных металлов падает. Изучила распределения размеров гранул сырья, они распределены нормально. Посчитала суммарную концентрацию металлов, с каждым этапом суммарная концентрация падает. \n",
    "\n",
    "Я обучила три модели: регресионное дерево, регресионый лес и линейную регрессию. Лучше всего представзыкает результаты регресионное дерево. Ее работу я проверила на тестовой выборке. "
   ]
  },
  {
   "cell_type": "markdown",
   "metadata": {},
   "source": [
    "## Чек-лист готовности проекта"
   ]
  },
  {
   "cell_type": "markdown",
   "metadata": {},
   "source": [
    "- [x]  Jupyter Notebook открыт\n",
    "- [x]  Весь код выполняется без ошибок\n",
    "- [x]  Ячейки с кодом расположены в порядке выполнения\n",
    "- [x]  Выполнен шаг 1: данные подготовлены\n",
    "    - [x]  Проверена формула вычисления эффективности обогащения\n",
    "    - [x]  Проанализированы признаки, недоступные в тестовой выборке\n",
    "    - [x]  Проведена предобработка данных\n",
    "- [x]  Выполнен шаг 2: данные проанализированы\n",
    "    - [x]  Исследовано изменение концентрации элементов на каждом этапе\n",
    "    - [x]  Проанализированы распределения размеров гранул на обучающей и тестовой выборках\n",
    "    - [x]  Исследованы суммарные концентрации\n",
    "- [x]  Выполнен шаг 3: построена модель прогнозирования\n",
    "    - [x]  Написана функция для вычисления итогового *sMAPE*\n",
    "    - [x]  Обучено и проверено несколько моделей\n",
    "    - [x]  Выбрана лучшая модель, её качество проверено на тестовой выборке"
   ]
  },
  {
   "cell_type": "markdown",
   "metadata": {},
   "source": [
    "<font color='steelblue'><b>Итоговый комментарий ревьюера</b></font><br>\n",
    "<font color='green'>В твоём проекте много хороших решений, однако есть несколько нюансов.</font>\n",
    "\n",
    "<font color='steelblue'>Что можно сделать лучше:</font>\n",
    "<ul><font color='crimson'>1) Пожалуйста, напиши небольшой вывод о том, что удалось узнать о данных после шага 1.3.</font></ul>\n",
    "<ul><font color='crimson'>2) В шаге 1.4 Обрати внимание, что число в экспоненциальной форме. Действительно ли есть ошибка в рассчётах?</font></ul>\n",
    "<ul><font color='crimson'>3) В шагк 2.3 падает ошибка NameError.</font></ul>\n",
    "<ul><font color='crimson'>4) В шагк 2.3 обрати внимание, что для каждого этапа берешь значения серебра 4 раза.</font></ul>\n",
    "<ul><font color='crimson'>5) В make_scorer по дефолту greater_is_better=True, нужно указать, что greater_is_better=False, мы минимизируем, так как sMAPE — это ошибка.</font></ul>\n",
    "<ul><font color='crimson'>6) В шаге 3  используется валидационная выборка, кросс-валидацию использовать не нужно. Рассчитай smape для предсказания и таргета.</font></ul>\n",
    "<ul><font color='crimson'>7) features_f и target_1, target_2 имеют разную размерность.</font></ul>\n",
    "<ul><font color='darkorange'>8) В шаге 1.5 пять ячеек с ручным вводом можно написать в одну строку.</font></ul>\n",
    "<ul><font color='darkorange'>9) Пропусков немного, пропусков в целевых признаках нет, лучше заполнить их предыдущими значениями используя метод ffill.</font></ul>\n",
    "<ul><font color='darkorange'>10) Пожалуйста, визуализируй данные в шаге 2.1 и 2.3. Без визуализации ты упускаешь кое-что важное.</font></ul>\n",
    "<ul><font color='darkorange'>11) Лучше не удалять date, а сделать колонку индексами.</font></ul>\n",
    "\n",
    "<font color='steelblue'><b>Спасибо, удачи!</b></font><br><br><br>"
   ]
  },
  {
   "cell_type": "markdown",
   "metadata": {},
   "source": [
    "<font color='steelblue'><b>Итоговый комментарий ревьюера v2</b></font><br>\n",
    "<font color='green'>Здорово, что удалось существенно улучшить проект.</font>\n",
    "\n",
    "<font color='steelblue'>Что можно сделать лучше:</font>\n",
    "<ul><font color='crimson'>1) Пожалуйста, визуализируй данные 2.3. В данных есть выбросы, при визуализации только среднего их не заметить.</font></ul>\n",
    "<ul><font color='darkorange'>2) Пожалуйста, пересмотри выбор лучших моделей, после изменения знака в функции smape значения поменялись.</font></ul>\n",
    "<ul><font color='steelblue'>3) Из-за особенностей make_scorer при greater_is_better=False возвращаются отрицательные значения, просто умножь из на -1.</font></ul>\n",
    "\n",
    "<font color='steelblue'><b>Спасибо, удачи!</b></font><br><br><br>"
   ]
  },
  {
   "cell_type": "markdown",
   "metadata": {},
   "source": [
    "<font color='steelblue'><b>Комментарий студентки:</b></font>\n",
    "Вроде все поправила. Спасибо большое за проверку! Ты ответила на все мои вопросы очень подробно и даже скинула ссылочки. Мне до этого такие хорошие ревьюеры не попадались. Так что прям огромное спасибо ❤️"
   ]
  },
  {
   "cell_type": "markdown",
   "metadata": {},
   "source": [
    "<font color='steelblue'><b>Комментарий ревьюера v3: </b><br>\n",
    "Пожалуйста) Спасибо, что ценишь мои старания, очень приятно💖</font>"
   ]
  },
  {
   "cell_type": "markdown",
   "metadata": {},
   "source": [
    "<font color='steelblue'><b>Итоговый комментарий ревьюера v3</b></font><br>\n",
    "<font color='green'>Твой проект почти готов :)</font>\n",
    "\n",
    "<font color='steelblue'>Что можно сделать лучше:</font>\n",
    "<ul><font color='crimson'>sMAPE — это ошибка, и чем она меньше, тем лучше. Пожалуйста, учти это при выборе лучших моделей.</font></ul>\n",
    "<font color='steelblue'><b>Спасибо, удачи!</b></font><br><br><br>"
   ]
  },
  {
   "cell_type": "markdown",
   "metadata": {},
   "source": [
    "<font color='steelblue'><b>Комментарий студентки:</b></font>\n",
    "Надеюсь, теперь все верно 😅"
   ]
  },
  {
   "cell_type": "markdown",
   "metadata": {},
   "source": [
    "<font color='steelblue'><b>Итоговый комментарий ревьюера v4</b></font><br>\n",
    "<font color='green'>Твой проект готов :) Надеюсь, тебе понравился процесс выполнения и результат.</font>\n",
    "\n",
    "<font color='steelblue'><b>Спасибо, удачи в освоении профессии!</b></font><br><br><br>"
   ]
  },
  {
   "cell_type": "code",
   "execution_count": null,
   "metadata": {},
   "outputs": [],
   "source": []
  }
 ],
 "metadata": {
  "ExecuteTimeLog": [
   {
    "duration": 396,
    "start_time": "2022-03-23T18:47:24.164Z"
   },
   {
    "duration": 1359,
    "start_time": "2022-03-23T18:48:18.715Z"
   },
   {
    "duration": 18,
    "start_time": "2022-03-23T18:49:46.531Z"
   },
   {
    "duration": 283,
    "start_time": "2022-03-23T18:50:26.787Z"
   },
   {
    "duration": 5,
    "start_time": "2022-03-23T18:52:22.435Z"
   },
   {
    "duration": 11,
    "start_time": "2022-03-23T18:52:59.354Z"
   },
   {
    "duration": 154,
    "start_time": "2022-03-23T19:09:32.964Z"
   },
   {
    "duration": 14,
    "start_time": "2022-03-23T19:10:05.533Z"
   },
   {
    "duration": 133,
    "start_time": "2022-03-23T19:13:41.445Z"
   },
   {
    "duration": 761,
    "start_time": "2022-03-23T19:13:52.261Z"
   },
   {
    "duration": 7,
    "start_time": "2022-03-23T19:19:07.598Z"
   },
   {
    "duration": 2561,
    "start_time": "2022-03-23T19:27:22.576Z"
   },
   {
    "duration": 12,
    "start_time": "2022-03-23T19:27:49.522Z"
   },
   {
    "duration": 10,
    "start_time": "2022-03-23T19:28:01.197Z"
   },
   {
    "duration": 11,
    "start_time": "2022-03-23T19:36:05.015Z"
   },
   {
    "duration": 822,
    "start_time": "2022-03-23T19:36:11.119Z"
   },
   {
    "duration": 7,
    "start_time": "2022-03-23T19:36:16.593Z"
   },
   {
    "duration": 7,
    "start_time": "2022-03-23T19:37:16.376Z"
   },
   {
    "duration": 132,
    "start_time": "2022-03-24T17:26:12.064Z"
   },
   {
    "duration": 2111,
    "start_time": "2022-03-24T17:26:18.241Z"
   },
   {
    "duration": 574,
    "start_time": "2022-03-24T17:26:20.356Z"
   },
   {
    "duration": 39,
    "start_time": "2022-03-24T17:26:20.943Z"
   },
   {
    "duration": 192,
    "start_time": "2022-03-24T17:26:20.985Z"
   },
   {
    "duration": 31,
    "start_time": "2022-03-24T17:26:21.181Z"
   },
   {
    "duration": 713,
    "start_time": "2022-03-24T17:26:21.215Z"
   },
   {
    "duration": 18,
    "start_time": "2022-03-24T17:26:21.942Z"
   },
   {
    "duration": 45,
    "start_time": "2022-03-24T17:26:21.964Z"
   },
   {
    "duration": 4,
    "start_time": "2022-03-24T17:28:02.485Z"
   },
   {
    "duration": 8,
    "start_time": "2022-03-24T17:28:18.499Z"
   },
   {
    "duration": 14,
    "start_time": "2022-03-24T17:28:43.096Z"
   },
   {
    "duration": 10,
    "start_time": "2022-03-24T17:28:59.280Z"
   },
   {
    "duration": 155,
    "start_time": "2022-03-24T17:29:54.531Z"
   },
   {
    "duration": 4,
    "start_time": "2022-03-24T17:30:02.301Z"
   },
   {
    "duration": 10,
    "start_time": "2022-03-24T17:30:02.881Z"
   },
   {
    "duration": 11,
    "start_time": "2022-03-24T17:30:15.530Z"
   },
   {
    "duration": 12,
    "start_time": "2022-03-24T17:30:24.747Z"
   },
   {
    "duration": 10,
    "start_time": "2022-03-24T17:30:35.945Z"
   },
   {
    "duration": 11,
    "start_time": "2022-03-24T17:30:50.430Z"
   },
   {
    "duration": 5,
    "start_time": "2022-03-24T17:31:17.295Z"
   },
   {
    "duration": 20,
    "start_time": "2022-03-24T17:31:17.746Z"
   },
   {
    "duration": 19,
    "start_time": "2022-03-24T17:31:18.423Z"
   },
   {
    "duration": 10,
    "start_time": "2022-03-24T17:31:32.778Z"
   },
   {
    "duration": 18,
    "start_time": "2022-03-24T17:33:08.262Z"
   },
   {
    "duration": 15,
    "start_time": "2022-03-24T17:33:17.096Z"
   },
   {
    "duration": 22,
    "start_time": "2022-03-24T17:33:33.808Z"
   },
   {
    "duration": 23,
    "start_time": "2022-03-24T17:33:39.316Z"
   },
   {
    "duration": 19,
    "start_time": "2022-03-24T17:33:54.162Z"
   },
   {
    "duration": 23,
    "start_time": "2022-03-24T17:34:01.628Z"
   },
   {
    "duration": 22,
    "start_time": "2022-03-24T17:34:08.928Z"
   },
   {
    "duration": 23,
    "start_time": "2022-03-24T17:34:12.737Z"
   },
   {
    "duration": 22,
    "start_time": "2022-03-24T17:34:17.862Z"
   },
   {
    "duration": 22,
    "start_time": "2022-03-24T17:34:29.678Z"
   },
   {
    "duration": 8,
    "start_time": "2022-03-24T17:39:56.322Z"
   },
   {
    "duration": 1249,
    "start_time": "2022-03-26T11:15:37.929Z"
   },
   {
    "duration": 319,
    "start_time": "2022-03-26T11:15:39.180Z"
   },
   {
    "duration": 34,
    "start_time": "2022-03-26T11:15:39.502Z"
   },
   {
    "duration": 127,
    "start_time": "2022-03-26T11:15:39.539Z"
   },
   {
    "duration": 16,
    "start_time": "2022-03-26T11:15:39.668Z"
   },
   {
    "duration": 466,
    "start_time": "2022-03-26T11:15:39.687Z"
   },
   {
    "duration": 11,
    "start_time": "2022-03-26T11:15:40.156Z"
   },
   {
    "duration": 4,
    "start_time": "2022-03-26T11:15:40.169Z"
   },
   {
    "duration": 8,
    "start_time": "2022-03-26T11:15:40.231Z"
   },
   {
    "duration": 15,
    "start_time": "2022-03-26T11:15:40.242Z"
   },
   {
    "duration": 9,
    "start_time": "2022-03-26T11:15:40.259Z"
   },
   {
    "duration": 65,
    "start_time": "2022-03-26T11:15:40.271Z"
   },
   {
    "duration": 8,
    "start_time": "2022-03-26T11:15:54.330Z"
   },
   {
    "duration": 7,
    "start_time": "2022-03-26T11:16:04.333Z"
   },
   {
    "duration": 7,
    "start_time": "2022-03-26T11:16:19.364Z"
   },
   {
    "duration": 1385,
    "start_time": "2022-03-26T11:16:24.593Z"
   },
   {
    "duration": 340,
    "start_time": "2022-03-26T11:16:25.981Z"
   },
   {
    "duration": 25,
    "start_time": "2022-03-26T11:16:26.323Z"
   },
   {
    "duration": 110,
    "start_time": "2022-03-26T11:16:26.350Z"
   },
   {
    "duration": 14,
    "start_time": "2022-03-26T11:16:26.462Z"
   },
   {
    "duration": 398,
    "start_time": "2022-03-26T11:16:26.477Z"
   },
   {
    "duration": 8,
    "start_time": "2022-03-26T11:16:26.877Z"
   },
   {
    "duration": 8,
    "start_time": "2022-03-26T11:16:26.887Z"
   },
   {
    "duration": 13,
    "start_time": "2022-03-26T11:16:26.897Z"
   },
   {
    "duration": 7,
    "start_time": "2022-03-26T11:16:26.931Z"
   },
   {
    "duration": 16,
    "start_time": "2022-03-26T11:16:26.940Z"
   },
   {
    "duration": 22,
    "start_time": "2022-03-26T11:16:26.958Z"
   },
   {
    "duration": 3,
    "start_time": "2022-03-26T11:16:58.154Z"
   },
   {
    "duration": 1162,
    "start_time": "2022-03-26T11:22:05.958Z"
   },
   {
    "duration": 302,
    "start_time": "2022-03-26T11:22:07.122Z"
   },
   {
    "duration": 22,
    "start_time": "2022-03-26T11:22:07.425Z"
   },
   {
    "duration": 111,
    "start_time": "2022-03-26T11:22:07.449Z"
   },
   {
    "duration": 15,
    "start_time": "2022-03-26T11:22:07.563Z"
   },
   {
    "duration": 389,
    "start_time": "2022-03-26T11:22:07.580Z"
   },
   {
    "duration": 9,
    "start_time": "2022-03-26T11:22:07.971Z"
   },
   {
    "duration": 5,
    "start_time": "2022-03-26T11:22:07.982Z"
   },
   {
    "duration": 10,
    "start_time": "2022-03-26T11:22:07.988Z"
   },
   {
    "duration": 34,
    "start_time": "2022-03-26T11:22:08.001Z"
   },
   {
    "duration": 8,
    "start_time": "2022-03-26T11:22:08.038Z"
   },
   {
    "duration": 6,
    "start_time": "2022-03-26T11:22:08.048Z"
   },
   {
    "duration": 4,
    "start_time": "2022-03-26T11:22:08.055Z"
   },
   {
    "duration": 6,
    "start_time": "2022-03-26T11:22:24.186Z"
   },
   {
    "duration": 124,
    "start_time": "2022-03-26T11:23:06.670Z"
   },
   {
    "duration": 1472,
    "start_time": "2022-03-26T11:23:18.708Z"
   },
   {
    "duration": 1166,
    "start_time": "2022-03-26T11:26:59.542Z"
   },
   {
    "duration": 312,
    "start_time": "2022-03-26T11:27:00.710Z"
   },
   {
    "duration": 20,
    "start_time": "2022-03-26T11:27:01.024Z"
   },
   {
    "duration": 101,
    "start_time": "2022-03-26T11:27:01.046Z"
   },
   {
    "duration": 16,
    "start_time": "2022-03-26T11:27:01.149Z"
   },
   {
    "duration": 440,
    "start_time": "2022-03-26T11:27:01.166Z"
   },
   {
    "duration": 10,
    "start_time": "2022-03-26T11:27:01.608Z"
   },
   {
    "duration": 4,
    "start_time": "2022-03-26T11:27:01.632Z"
   },
   {
    "duration": 15,
    "start_time": "2022-03-26T11:27:01.638Z"
   },
   {
    "duration": 10,
    "start_time": "2022-03-26T11:27:01.656Z"
   },
   {
    "duration": 20,
    "start_time": "2022-03-26T11:27:01.668Z"
   },
   {
    "duration": 11,
    "start_time": "2022-03-26T11:27:01.690Z"
   },
   {
    "duration": 27,
    "start_time": "2022-03-26T11:27:01.732Z"
   },
   {
    "duration": 53,
    "start_time": "2022-03-26T11:27:17.178Z"
   },
   {
    "duration": 10,
    "start_time": "2022-03-26T11:32:19.470Z"
   },
   {
    "duration": 9,
    "start_time": "2022-03-26T11:32:50.936Z"
   },
   {
    "duration": 10,
    "start_time": "2022-03-26T11:33:04.830Z"
   },
   {
    "duration": 6,
    "start_time": "2022-03-26T11:33:32.897Z"
   },
   {
    "duration": 124,
    "start_time": "2022-03-26T11:34:15.269Z"
   },
   {
    "duration": 8,
    "start_time": "2022-03-26T11:36:12.735Z"
   },
   {
    "duration": 22,
    "start_time": "2022-03-26T11:36:37.949Z"
   },
   {
    "duration": 39,
    "start_time": "2022-03-26T11:37:23.075Z"
   },
   {
    "duration": 19,
    "start_time": "2022-03-26T11:39:03.523Z"
   },
   {
    "duration": 135,
    "start_time": "2022-03-26T11:39:12.927Z"
   },
   {
    "duration": 114,
    "start_time": "2022-03-26T11:39:28.682Z"
   },
   {
    "duration": 9,
    "start_time": "2022-03-26T11:40:51.445Z"
   },
   {
    "duration": 122,
    "start_time": "2022-03-26T11:40:57.604Z"
   },
   {
    "duration": 7,
    "start_time": "2022-03-26T11:42:02.063Z"
   },
   {
    "duration": 103,
    "start_time": "2022-03-26T11:42:09.495Z"
   },
   {
    "duration": 23,
    "start_time": "2022-03-26T11:42:42.254Z"
   },
   {
    "duration": 9,
    "start_time": "2022-03-26T11:49:55.945Z"
   },
   {
    "duration": 7,
    "start_time": "2022-03-26T11:50:08.395Z"
   },
   {
    "duration": 2742,
    "start_time": "2022-03-26T11:52:23.148Z"
   },
   {
    "duration": 1438,
    "start_time": "2022-03-26T11:52:44.901Z"
   },
   {
    "duration": 2977,
    "start_time": "2022-03-26T11:53:00.585Z"
   },
   {
    "duration": 173,
    "start_time": "2022-03-26T11:53:24.240Z"
   },
   {
    "duration": 168,
    "start_time": "2022-03-26T11:53:29.051Z"
   },
   {
    "duration": 6,
    "start_time": "2022-03-26T11:53:32.735Z"
   },
   {
    "duration": 2753,
    "start_time": "2022-03-26T11:53:41.808Z"
   },
   {
    "duration": 1305,
    "start_time": "2022-03-26T11:54:13.269Z"
   },
   {
    "duration": 11,
    "start_time": "2022-03-26T11:54:36.640Z"
   },
   {
    "duration": 13,
    "start_time": "2022-03-26T11:55:52.954Z"
   },
   {
    "duration": 12,
    "start_time": "2022-03-26T11:55:54.167Z"
   },
   {
    "duration": 1254,
    "start_time": "2022-03-26T13:16:42.277Z"
   },
   {
    "duration": 286,
    "start_time": "2022-03-26T13:16:43.534Z"
   },
   {
    "duration": 20,
    "start_time": "2022-03-26T13:16:43.824Z"
   },
   {
    "duration": 106,
    "start_time": "2022-03-26T13:16:43.847Z"
   },
   {
    "duration": 13,
    "start_time": "2022-03-26T13:16:43.955Z"
   },
   {
    "duration": 354,
    "start_time": "2022-03-26T13:16:43.970Z"
   },
   {
    "duration": 10,
    "start_time": "2022-03-26T13:16:44.326Z"
   },
   {
    "duration": 3,
    "start_time": "2022-03-26T13:16:44.337Z"
   },
   {
    "duration": 11,
    "start_time": "2022-03-26T13:16:44.342Z"
   },
   {
    "duration": 7,
    "start_time": "2022-03-26T13:16:44.355Z"
   },
   {
    "duration": 41,
    "start_time": "2022-03-26T13:16:44.365Z"
   },
   {
    "duration": 7,
    "start_time": "2022-03-26T13:16:44.408Z"
   },
   {
    "duration": 34,
    "start_time": "2022-03-26T13:16:44.419Z"
   },
   {
    "duration": 47,
    "start_time": "2022-03-26T13:16:44.455Z"
   },
   {
    "duration": 109,
    "start_time": "2022-03-26T13:16:44.504Z"
   },
   {
    "duration": 139,
    "start_time": "2022-03-26T13:16:44.616Z"
   },
   {
    "duration": 8,
    "start_time": "2022-03-26T13:16:44.757Z"
   },
   {
    "duration": 105,
    "start_time": "2022-03-26T13:16:44.768Z"
   },
   {
    "duration": 32,
    "start_time": "2022-03-26T13:16:44.875Z"
   },
   {
    "duration": 13,
    "start_time": "2022-03-26T13:16:44.909Z"
   },
   {
    "duration": 12,
    "start_time": "2022-03-26T13:16:44.925Z"
   },
   {
    "duration": 12,
    "start_time": "2022-03-26T13:16:44.939Z"
   },
   {
    "duration": 701,
    "start_time": "2022-03-26T13:16:44.953Z"
   },
   {
    "duration": 158,
    "start_time": "2022-03-26T13:16:45.656Z"
   },
   {
    "duration": 144,
    "start_time": "2022-03-26T13:16:45.815Z"
   },
   {
    "duration": 143,
    "start_time": "2022-03-26T13:16:45.960Z"
   },
   {
    "duration": 292,
    "start_time": "2022-03-26T13:17:34.647Z"
   },
   {
    "duration": 263,
    "start_time": "2022-03-26T13:17:42.916Z"
   },
   {
    "duration": 149,
    "start_time": "2022-03-26T13:17:47.103Z"
   },
   {
    "duration": 156,
    "start_time": "2022-03-26T13:17:51.132Z"
   },
   {
    "duration": 182,
    "start_time": "2022-03-26T13:18:00.248Z"
   },
   {
    "duration": 140,
    "start_time": "2022-03-26T13:21:31.489Z"
   },
   {
    "duration": 155,
    "start_time": "2022-03-26T13:21:38.445Z"
   },
   {
    "duration": 137,
    "start_time": "2022-03-26T13:24:26.877Z"
   },
   {
    "duration": 5,
    "start_time": "2022-03-26T13:24:38.429Z"
   },
   {
    "duration": 2790,
    "start_time": "2022-03-26T13:24:43.196Z"
   },
   {
    "duration": 214,
    "start_time": "2022-03-26T13:25:07.524Z"
   },
   {
    "duration": 25,
    "start_time": "2022-03-26T13:25:24.798Z"
   },
   {
    "duration": 4,
    "start_time": "2022-03-26T13:34:09.166Z"
   },
   {
    "duration": 49,
    "start_time": "2022-03-28T13:55:22.421Z"
   },
   {
    "duration": 1119,
    "start_time": "2022-03-28T13:55:26.032Z"
   },
   {
    "duration": 524,
    "start_time": "2022-03-28T13:55:27.153Z"
   },
   {
    "duration": 70,
    "start_time": "2022-03-28T13:55:27.678Z"
   },
   {
    "duration": 131,
    "start_time": "2022-03-28T13:55:27.750Z"
   },
   {
    "duration": 66,
    "start_time": "2022-03-28T13:55:27.883Z"
   },
   {
    "duration": 654,
    "start_time": "2022-03-28T13:55:27.950Z"
   },
   {
    "duration": 7,
    "start_time": "2022-03-28T13:55:28.606Z"
   },
   {
    "duration": 5,
    "start_time": "2022-03-28T13:55:28.614Z"
   },
   {
    "duration": 21,
    "start_time": "2022-03-28T13:55:28.620Z"
   },
   {
    "duration": 6,
    "start_time": "2022-03-28T13:55:28.643Z"
   },
   {
    "duration": 10,
    "start_time": "2022-03-28T13:55:28.650Z"
   },
   {
    "duration": 7,
    "start_time": "2022-03-28T13:55:28.661Z"
   },
   {
    "duration": 69,
    "start_time": "2022-03-28T13:55:28.669Z"
   },
   {
    "duration": 9,
    "start_time": "2022-03-28T13:55:28.741Z"
   },
   {
    "duration": 112,
    "start_time": "2022-03-28T13:55:28.752Z"
   },
   {
    "duration": 120,
    "start_time": "2022-03-28T13:55:28.866Z"
   },
   {
    "duration": 7,
    "start_time": "2022-03-28T13:55:28.988Z"
   },
   {
    "duration": 91,
    "start_time": "2022-03-28T13:55:28.996Z"
   },
   {
    "duration": 19,
    "start_time": "2022-03-28T13:55:29.089Z"
   },
   {
    "duration": 11,
    "start_time": "2022-03-28T13:55:29.109Z"
   },
   {
    "duration": 9,
    "start_time": "2022-03-28T13:55:29.138Z"
   },
   {
    "duration": 11,
    "start_time": "2022-03-28T13:55:29.149Z"
   },
   {
    "duration": 587,
    "start_time": "2022-03-28T13:55:29.161Z"
   },
   {
    "duration": 143,
    "start_time": "2022-03-28T13:55:29.750Z"
   },
   {
    "duration": 180,
    "start_time": "2022-03-28T13:55:29.896Z"
   },
   {
    "duration": 133,
    "start_time": "2022-03-28T13:55:30.078Z"
   },
   {
    "duration": 38,
    "start_time": "2022-03-28T13:55:30.212Z"
   },
   {
    "duration": 4,
    "start_time": "2022-03-28T13:55:30.253Z"
   },
   {
    "duration": 153,
    "start_time": "2022-03-28T13:55:30.258Z"
   },
   {
    "duration": 0,
    "start_time": "2022-03-28T13:55:30.413Z"
   },
   {
    "duration": 0,
    "start_time": "2022-03-28T13:55:30.415Z"
   },
   {
    "duration": 0,
    "start_time": "2022-03-28T13:55:30.416Z"
   },
   {
    "duration": 17,
    "start_time": "2022-03-28T13:56:17.279Z"
   },
   {
    "duration": 10,
    "start_time": "2022-03-28T14:06:17.213Z"
   },
   {
    "duration": 22,
    "start_time": "2022-03-28T14:06:20.211Z"
   },
   {
    "duration": 3,
    "start_time": "2022-03-28T14:08:20.308Z"
   },
   {
    "duration": 5,
    "start_time": "2022-03-28T14:13:29.389Z"
   },
   {
    "duration": 11,
    "start_time": "2022-03-28T14:15:20.867Z"
   },
   {
    "duration": 115,
    "start_time": "2022-03-28T14:21:15.588Z"
   },
   {
    "duration": 68,
    "start_time": "2022-03-28T14:21:21.139Z"
   },
   {
    "duration": 1201,
    "start_time": "2022-03-28T14:30:06.203Z"
   },
   {
    "duration": 9,
    "start_time": "2022-03-28T14:30:54.788Z"
   },
   {
    "duration": 49,
    "start_time": "2022-03-28T14:31:22.074Z"
   },
   {
    "duration": 1259,
    "start_time": "2022-03-28T14:44:09.551Z"
   },
   {
    "duration": 301,
    "start_time": "2022-03-28T14:44:10.812Z"
   },
   {
    "duration": 20,
    "start_time": "2022-03-28T14:44:11.115Z"
   },
   {
    "duration": 106,
    "start_time": "2022-03-28T14:44:11.138Z"
   },
   {
    "duration": 15,
    "start_time": "2022-03-28T14:44:11.245Z"
   },
   {
    "duration": 380,
    "start_time": "2022-03-28T14:44:11.262Z"
   },
   {
    "duration": 9,
    "start_time": "2022-03-28T14:44:11.644Z"
   },
   {
    "duration": 3,
    "start_time": "2022-03-28T14:44:11.655Z"
   },
   {
    "duration": 8,
    "start_time": "2022-03-28T14:44:11.660Z"
   },
   {
    "duration": 31,
    "start_time": "2022-03-28T14:44:11.671Z"
   },
   {
    "duration": 6,
    "start_time": "2022-03-28T14:44:11.705Z"
   },
   {
    "duration": 7,
    "start_time": "2022-03-28T14:44:11.713Z"
   },
   {
    "duration": 38,
    "start_time": "2022-03-28T14:44:11.721Z"
   },
   {
    "duration": 44,
    "start_time": "2022-03-28T14:44:11.761Z"
   },
   {
    "duration": 10,
    "start_time": "2022-03-28T14:44:11.807Z"
   },
   {
    "duration": 139,
    "start_time": "2022-03-28T14:44:11.819Z"
   },
   {
    "duration": 128,
    "start_time": "2022-03-28T14:44:11.960Z"
   },
   {
    "duration": 12,
    "start_time": "2022-03-28T14:44:12.090Z"
   },
   {
    "duration": 103,
    "start_time": "2022-03-28T14:44:12.104Z"
   },
   {
    "duration": 22,
    "start_time": "2022-03-28T14:44:12.209Z"
   },
   {
    "duration": 11,
    "start_time": "2022-03-28T14:44:12.233Z"
   },
   {
    "duration": 11,
    "start_time": "2022-03-28T14:44:12.246Z"
   },
   {
    "duration": 42,
    "start_time": "2022-03-28T14:44:12.259Z"
   },
   {
    "duration": 690,
    "start_time": "2022-03-28T14:44:12.304Z"
   },
   {
    "duration": 136,
    "start_time": "2022-03-28T14:44:12.996Z"
   },
   {
    "duration": 161,
    "start_time": "2022-03-28T14:44:13.134Z"
   },
   {
    "duration": 132,
    "start_time": "2022-03-28T14:44:13.300Z"
   },
   {
    "duration": 26,
    "start_time": "2022-03-28T14:44:13.435Z"
   },
   {
    "duration": 3,
    "start_time": "2022-03-28T14:44:13.463Z"
   },
   {
    "duration": 128,
    "start_time": "2022-03-28T14:44:13.468Z"
   },
   {
    "duration": 160,
    "start_time": "2022-03-28T14:44:13.597Z"
   },
   {
    "duration": 0,
    "start_time": "2022-03-28T14:44:13.758Z"
   },
   {
    "duration": 0,
    "start_time": "2022-03-28T14:44:13.760Z"
   },
   {
    "duration": 30,
    "start_time": "2022-03-28T14:46:23.551Z"
   },
   {
    "duration": 67,
    "start_time": "2022-03-28T14:46:24.500Z"
   },
   {
    "duration": 10,
    "start_time": "2022-03-28T14:58:46.843Z"
   },
   {
    "duration": 17,
    "start_time": "2022-03-28T15:01:19.569Z"
   },
   {
    "duration": 54,
    "start_time": "2022-03-28T15:01:26.371Z"
   },
   {
    "duration": 45,
    "start_time": "2022-03-28T15:01:42.082Z"
   },
   {
    "duration": 12,
    "start_time": "2022-03-28T15:15:22.522Z"
   },
   {
    "duration": 4,
    "start_time": "2022-03-28T15:15:42.621Z"
   },
   {
    "duration": 11158,
    "start_time": "2022-03-28T15:15:49.462Z"
   },
   {
    "duration": 4,
    "start_time": "2022-03-28T15:19:22.397Z"
   },
   {
    "duration": 4585,
    "start_time": "2022-03-28T15:19:27.403Z"
   },
   {
    "duration": 2544,
    "start_time": "2022-03-28T15:22:05.903Z"
   },
   {
    "duration": 1322,
    "start_time": "2022-03-28T15:22:37.297Z"
   },
   {
    "duration": 305,
    "start_time": "2022-03-28T15:22:38.622Z"
   },
   {
    "duration": 18,
    "start_time": "2022-03-28T15:22:38.929Z"
   },
   {
    "duration": 106,
    "start_time": "2022-03-28T15:22:38.950Z"
   },
   {
    "duration": 14,
    "start_time": "2022-03-28T15:22:39.058Z"
   },
   {
    "duration": 642,
    "start_time": "2022-03-28T15:22:39.074Z"
   },
   {
    "duration": 10,
    "start_time": "2022-03-28T15:22:39.718Z"
   },
   {
    "duration": 3,
    "start_time": "2022-03-28T15:22:39.730Z"
   },
   {
    "duration": 66,
    "start_time": "2022-03-28T15:22:39.735Z"
   },
   {
    "duration": 9,
    "start_time": "2022-03-28T15:22:39.805Z"
   },
   {
    "duration": 10,
    "start_time": "2022-03-28T15:22:39.816Z"
   },
   {
    "duration": 9,
    "start_time": "2022-03-28T15:22:39.829Z"
   },
   {
    "duration": 96,
    "start_time": "2022-03-28T15:22:39.840Z"
   },
   {
    "duration": 69,
    "start_time": "2022-03-28T15:22:39.938Z"
   },
   {
    "duration": 13,
    "start_time": "2022-03-28T15:22:40.009Z"
   },
   {
    "duration": 307,
    "start_time": "2022-03-28T15:22:40.025Z"
   },
   {
    "duration": 382,
    "start_time": "2022-03-28T15:22:40.334Z"
   },
   {
    "duration": 10,
    "start_time": "2022-03-28T15:22:40.718Z"
   },
   {
    "duration": 282,
    "start_time": "2022-03-28T15:22:40.731Z"
   },
   {
    "duration": 25,
    "start_time": "2022-03-28T15:22:41.015Z"
   },
   {
    "duration": 63,
    "start_time": "2022-03-28T15:22:41.042Z"
   },
   {
    "duration": 15,
    "start_time": "2022-03-28T15:22:41.107Z"
   },
   {
    "duration": 15,
    "start_time": "2022-03-28T15:22:41.125Z"
   },
   {
    "duration": 704,
    "start_time": "2022-03-28T15:22:41.142Z"
   },
   {
    "duration": 146,
    "start_time": "2022-03-28T15:22:41.848Z"
   },
   {
    "duration": 162,
    "start_time": "2022-03-28T15:22:41.996Z"
   },
   {
    "duration": 144,
    "start_time": "2022-03-28T15:22:42.160Z"
   },
   {
    "duration": 27,
    "start_time": "2022-03-28T15:22:42.308Z"
   },
   {
    "duration": 4,
    "start_time": "2022-03-28T15:22:42.337Z"
   },
   {
    "duration": 2670,
    "start_time": "2022-03-28T15:22:42.343Z"
   },
   {
    "duration": 0,
    "start_time": "2022-03-28T15:22:45.015Z"
   },
   {
    "duration": 0,
    "start_time": "2022-03-28T15:22:45.018Z"
   },
   {
    "duration": 0,
    "start_time": "2022-03-28T15:22:45.019Z"
   },
   {
    "duration": 20,
    "start_time": "2022-03-28T15:26:21.946Z"
   },
   {
    "duration": 18,
    "start_time": "2022-03-28T15:26:31.792Z"
   },
   {
    "duration": 23,
    "start_time": "2022-03-28T15:26:35.362Z"
   },
   {
    "duration": 11,
    "start_time": "2022-03-28T15:27:37.222Z"
   },
   {
    "duration": 21,
    "start_time": "2022-03-28T15:27:47.358Z"
   },
   {
    "duration": 4087,
    "start_time": "2022-03-28T15:28:03.427Z"
   },
   {
    "duration": 1708,
    "start_time": "2022-03-28T15:28:21.595Z"
   },
   {
    "duration": 20,
    "start_time": "2022-03-28T15:28:27.227Z"
   },
   {
    "duration": 18,
    "start_time": "2022-03-28T15:33:25.158Z"
   },
   {
    "duration": 10,
    "start_time": "2022-03-28T15:34:25.453Z"
   },
   {
    "duration": 4,
    "start_time": "2022-03-28T15:34:29.925Z"
   },
   {
    "duration": 2926,
    "start_time": "2022-03-28T15:34:34.230Z"
   },
   {
    "duration": 4,
    "start_time": "2022-03-28T15:35:20.459Z"
   },
   {
    "duration": 5679,
    "start_time": "2022-03-28T15:35:23.540Z"
   },
   {
    "duration": 3,
    "start_time": "2022-03-28T15:37:19.435Z"
   },
   {
    "duration": 5504,
    "start_time": "2022-03-28T15:37:23.630Z"
   },
   {
    "duration": 4,
    "start_time": "2022-03-28T15:37:47.056Z"
   },
   {
    "duration": 17,
    "start_time": "2022-03-28T15:37:47.994Z"
   },
   {
    "duration": 5201,
    "start_time": "2022-03-28T15:37:48.966Z"
   },
   {
    "duration": 13,
    "start_time": "2022-03-28T15:38:35.781Z"
   },
   {
    "duration": 4,
    "start_time": "2022-03-28T15:38:55.526Z"
   },
   {
    "duration": 4,
    "start_time": "2022-03-28T15:39:00.698Z"
   },
   {
    "duration": 18,
    "start_time": "2022-03-28T15:39:01.346Z"
   },
   {
    "duration": 5552,
    "start_time": "2022-03-28T15:39:01.892Z"
   },
   {
    "duration": 5,
    "start_time": "2022-03-28T15:40:28.967Z"
   },
   {
    "duration": 5471,
    "start_time": "2022-03-28T15:40:30.851Z"
   },
   {
    "duration": 5613,
    "start_time": "2022-03-28T15:41:29.348Z"
   },
   {
    "duration": 4,
    "start_time": "2022-03-28T15:42:01.908Z"
   },
   {
    "duration": 18,
    "start_time": "2022-03-28T15:42:02.507Z"
   },
   {
    "duration": 5675,
    "start_time": "2022-03-28T15:42:03.128Z"
   },
   {
    "duration": 5233,
    "start_time": "2022-03-28T15:44:41.215Z"
   },
   {
    "duration": 4,
    "start_time": "2022-03-28T15:45:06.769Z"
   },
   {
    "duration": 19,
    "start_time": "2022-03-28T15:45:07.408Z"
   },
   {
    "duration": 3042,
    "start_time": "2022-03-28T15:45:07.970Z"
   },
   {
    "duration": 4,
    "start_time": "2022-03-28T15:45:21.175Z"
   },
   {
    "duration": 17,
    "start_time": "2022-03-28T15:45:21.692Z"
   },
   {
    "duration": 5541,
    "start_time": "2022-03-28T15:45:22.202Z"
   },
   {
    "duration": 2936,
    "start_time": "2022-03-28T15:46:03.354Z"
   },
   {
    "duration": 180,
    "start_time": "2022-03-28T15:48:50.342Z"
   },
   {
    "duration": 11,
    "start_time": "2022-03-28T15:49:06.887Z"
   },
   {
    "duration": 4,
    "start_time": "2022-03-28T15:49:10.242Z"
   },
   {
    "duration": 261,
    "start_time": "2022-03-28T15:49:10.708Z"
   },
   {
    "duration": 12,
    "start_time": "2022-03-28T15:49:11.347Z"
   },
   {
    "duration": 32,
    "start_time": "2022-03-28T15:49:18.252Z"
   },
   {
    "duration": 5777,
    "start_time": "2022-03-28T15:49:19.351Z"
   },
   {
    "duration": 2607,
    "start_time": "2022-03-28T15:49:54.858Z"
   },
   {
    "duration": 2321,
    "start_time": "2022-03-28T15:50:31.997Z"
   },
   {
    "duration": 2450,
    "start_time": "2022-03-28T15:51:59.544Z"
   },
   {
    "duration": 4591,
    "start_time": "2022-03-28T15:52:06.768Z"
   },
   {
    "duration": 71,
    "start_time": "2022-03-29T11:01:59.133Z"
   },
   {
    "duration": 2550,
    "start_time": "2022-03-29T11:02:03.568Z"
   },
   {
    "duration": 1113,
    "start_time": "2022-03-29T11:02:06.176Z"
   },
   {
    "duration": 94,
    "start_time": "2022-03-29T11:02:07.292Z"
   },
   {
    "duration": 226,
    "start_time": "2022-03-29T11:02:07.389Z"
   },
   {
    "duration": 26,
    "start_time": "2022-03-29T11:02:07.618Z"
   },
   {
    "duration": 482,
    "start_time": "2022-03-29T11:02:07.647Z"
   },
   {
    "duration": 34,
    "start_time": "2022-03-29T11:02:08.131Z"
   },
   {
    "duration": 5,
    "start_time": "2022-03-29T11:02:08.168Z"
   },
   {
    "duration": 20,
    "start_time": "2022-03-29T11:02:08.176Z"
   },
   {
    "duration": 13,
    "start_time": "2022-03-29T11:02:08.209Z"
   },
   {
    "duration": 27,
    "start_time": "2022-03-29T11:02:08.225Z"
   },
   {
    "duration": 23,
    "start_time": "2022-03-29T11:02:08.254Z"
   },
   {
    "duration": 52,
    "start_time": "2022-03-29T11:02:08.279Z"
   },
   {
    "duration": 42,
    "start_time": "2022-03-29T11:02:08.334Z"
   },
   {
    "duration": 19,
    "start_time": "2022-03-29T11:02:08.378Z"
   },
   {
    "duration": 229,
    "start_time": "2022-03-29T11:02:08.399Z"
   },
   {
    "duration": 303,
    "start_time": "2022-03-29T11:02:08.630Z"
   },
   {
    "duration": 10,
    "start_time": "2022-03-29T11:02:08.936Z"
   },
   {
    "duration": 227,
    "start_time": "2022-03-29T11:02:08.948Z"
   },
   {
    "duration": 34,
    "start_time": "2022-03-29T11:02:09.178Z"
   },
   {
    "duration": 17,
    "start_time": "2022-03-29T11:02:09.215Z"
   },
   {
    "duration": 53,
    "start_time": "2022-03-29T11:02:09.235Z"
   },
   {
    "duration": 22,
    "start_time": "2022-03-29T11:02:09.291Z"
   },
   {
    "duration": 928,
    "start_time": "2022-03-29T11:02:09.315Z"
   },
   {
    "duration": 235,
    "start_time": "2022-03-29T11:02:10.245Z"
   },
   {
    "duration": 433,
    "start_time": "2022-03-29T11:02:10.483Z"
   },
   {
    "duration": 235,
    "start_time": "2022-03-29T11:02:10.920Z"
   },
   {
    "duration": 40,
    "start_time": "2022-03-29T11:02:11.160Z"
   },
   {
    "duration": 4,
    "start_time": "2022-03-29T11:02:11.203Z"
   },
   {
    "duration": 139,
    "start_time": "2022-03-29T11:02:11.209Z"
   },
   {
    "duration": 4105,
    "start_time": "2022-03-29T11:02:11.351Z"
   },
   {
    "duration": 0,
    "start_time": "2022-03-29T11:02:15.460Z"
   },
   {
    "duration": 0,
    "start_time": "2022-03-29T11:02:15.462Z"
   },
   {
    "duration": 6089,
    "start_time": "2022-03-29T11:02:26.091Z"
   },
   {
    "duration": 2790,
    "start_time": "2022-03-29T11:04:48.662Z"
   },
   {
    "duration": 5366,
    "start_time": "2022-03-29T11:05:00.815Z"
   },
   {
    "duration": 4872,
    "start_time": "2022-03-29T11:06:55.301Z"
   },
   {
    "duration": 5465,
    "start_time": "2022-03-29T11:07:37.503Z"
   },
   {
    "duration": 37,
    "start_time": "2022-03-29T11:14:18.739Z"
   },
   {
    "duration": 4319,
    "start_time": "2022-03-29T11:14:21.854Z"
   },
   {
    "duration": 34,
    "start_time": "2022-03-29T11:15:11.904Z"
   },
   {
    "duration": 38,
    "start_time": "2022-03-29T11:21:34.237Z"
   },
   {
    "duration": 32,
    "start_time": "2022-03-29T11:21:59.773Z"
   },
   {
    "duration": 37,
    "start_time": "2022-03-29T11:22:18.914Z"
   },
   {
    "duration": 92,
    "start_time": "2022-03-29T11:22:37.085Z"
   },
   {
    "duration": 66,
    "start_time": "2022-03-29T11:22:45.296Z"
   },
   {
    "duration": 82,
    "start_time": "2022-03-29T11:23:34.174Z"
   },
   {
    "duration": 49,
    "start_time": "2022-03-29T11:25:00.315Z"
   },
   {
    "duration": 63,
    "start_time": "2022-03-29T11:28:01.308Z"
   },
   {
    "duration": 58,
    "start_time": "2022-03-29T11:28:26.648Z"
   },
   {
    "duration": 31,
    "start_time": "2022-03-29T11:28:47.264Z"
   },
   {
    "duration": 64,
    "start_time": "2022-03-29T11:28:58.189Z"
   },
   {
    "duration": 60,
    "start_time": "2022-03-29T11:29:54.207Z"
   },
   {
    "duration": 4829,
    "start_time": "2022-03-29T11:30:53.993Z"
   },
   {
    "duration": 64,
    "start_time": "2022-03-29T11:31:09.845Z"
   },
   {
    "duration": 31,
    "start_time": "2022-03-29T11:31:19.696Z"
   },
   {
    "duration": 30,
    "start_time": "2022-03-29T11:31:26.721Z"
   },
   {
    "duration": 30,
    "start_time": "2022-03-29T11:32:22.769Z"
   },
   {
    "duration": 3008,
    "start_time": "2022-03-29T11:32:59.990Z"
   },
   {
    "duration": 23,
    "start_time": "2022-03-29T11:33:38.856Z"
   },
   {
    "duration": 6,
    "start_time": "2022-03-29T11:34:03.227Z"
   },
   {
    "duration": 3030,
    "start_time": "2022-03-29T11:34:07.823Z"
   },
   {
    "duration": 1300,
    "start_time": "2022-03-31T10:22:19.702Z"
   },
   {
    "duration": 299,
    "start_time": "2022-03-31T10:22:21.005Z"
   },
   {
    "duration": 18,
    "start_time": "2022-03-31T10:22:21.306Z"
   },
   {
    "duration": 101,
    "start_time": "2022-03-31T10:22:21.327Z"
   },
   {
    "duration": 15,
    "start_time": "2022-03-31T10:22:21.430Z"
   },
   {
    "duration": 384,
    "start_time": "2022-03-31T10:22:21.447Z"
   },
   {
    "duration": 12,
    "start_time": "2022-03-31T10:22:21.833Z"
   },
   {
    "duration": 6,
    "start_time": "2022-03-31T10:22:21.847Z"
   },
   {
    "duration": 12,
    "start_time": "2022-03-31T10:22:21.856Z"
   },
   {
    "duration": 33,
    "start_time": "2022-03-31T10:22:21.871Z"
   },
   {
    "duration": 11,
    "start_time": "2022-03-31T10:22:21.906Z"
   },
   {
    "duration": 8,
    "start_time": "2022-03-31T10:22:21.919Z"
   },
   {
    "duration": 75,
    "start_time": "2022-03-31T10:22:21.929Z"
   },
   {
    "duration": 14,
    "start_time": "2022-03-31T10:22:22.006Z"
   },
   {
    "duration": 17,
    "start_time": "2022-03-31T10:22:22.022Z"
   },
   {
    "duration": 163,
    "start_time": "2022-03-31T10:22:22.041Z"
   },
   {
    "duration": 177,
    "start_time": "2022-03-31T10:22:22.206Z"
   },
   {
    "duration": 18,
    "start_time": "2022-03-31T10:22:22.386Z"
   },
   {
    "duration": 126,
    "start_time": "2022-03-31T10:22:22.406Z"
   },
   {
    "duration": 33,
    "start_time": "2022-03-31T10:22:22.534Z"
   },
   {
    "duration": 33,
    "start_time": "2022-03-31T10:22:22.570Z"
   },
   {
    "duration": 17,
    "start_time": "2022-03-31T10:22:22.605Z"
   },
   {
    "duration": 18,
    "start_time": "2022-03-31T10:22:22.624Z"
   },
   {
    "duration": 739,
    "start_time": "2022-03-31T10:22:22.646Z"
   },
   {
    "duration": 149,
    "start_time": "2022-03-31T10:22:23.387Z"
   },
   {
    "duration": 184,
    "start_time": "2022-03-31T10:22:23.538Z"
   },
   {
    "duration": 139,
    "start_time": "2022-03-31T10:22:23.723Z"
   },
   {
    "duration": 41,
    "start_time": "2022-03-31T10:22:23.865Z"
   },
   {
    "duration": 5,
    "start_time": "2022-03-31T10:22:23.908Z"
   },
   {
    "duration": 116,
    "start_time": "2022-03-31T10:22:23.915Z"
   },
   {
    "duration": 2431,
    "start_time": "2022-03-31T10:22:24.034Z"
   },
   {
    "duration": 127,
    "start_time": "2022-03-31T10:22:26.467Z"
   },
   {
    "duration": 0,
    "start_time": "2022-03-31T10:22:26.601Z"
   },
   {
    "duration": 2423,
    "start_time": "2022-03-31T10:24:11.801Z"
   },
   {
    "duration": 1162,
    "start_time": "2022-03-31T10:25:40.671Z"
   },
   {
    "duration": 1392,
    "start_time": "2022-03-31T10:25:59.727Z"
   },
   {
    "duration": 1192,
    "start_time": "2022-03-31T10:26:46.637Z"
   },
   {
    "duration": 1119,
    "start_time": "2022-03-31T10:27:23.005Z"
   },
   {
    "duration": 1087,
    "start_time": "2022-03-31T10:28:05.222Z"
   },
   {
    "duration": 1124,
    "start_time": "2022-03-31T10:28:26.370Z"
   },
   {
    "duration": 1103,
    "start_time": "2022-03-31T10:30:48.433Z"
   },
   {
    "duration": 140,
    "start_time": "2022-03-31T10:31:11.662Z"
   },
   {
    "duration": 1129,
    "start_time": "2022-03-31T10:31:17.709Z"
   },
   {
    "duration": 1135,
    "start_time": "2022-03-31T10:31:47.101Z"
   },
   {
    "duration": 1149,
    "start_time": "2022-03-31T10:35:17.333Z"
   },
   {
    "duration": 1134,
    "start_time": "2022-03-31T10:35:32.208Z"
   },
   {
    "duration": 1105,
    "start_time": "2022-03-31T10:35:38.862Z"
   },
   {
    "duration": 1137,
    "start_time": "2022-03-31T10:35:59.473Z"
   },
   {
    "duration": 4,
    "start_time": "2022-03-31T10:37:02.513Z"
   },
   {
    "duration": 1143,
    "start_time": "2022-03-31T10:37:05.779Z"
   },
   {
    "duration": 1088,
    "start_time": "2022-03-31T10:38:58.293Z"
   },
   {
    "duration": 1143,
    "start_time": "2022-03-31T10:39:05.091Z"
   },
   {
    "duration": 4,
    "start_time": "2022-03-31T10:39:12.294Z"
   },
   {
    "duration": 22,
    "start_time": "2022-03-31T10:39:13.651Z"
   },
   {
    "duration": 1145,
    "start_time": "2022-03-31T10:39:14.343Z"
   },
   {
    "duration": 1173,
    "start_time": "2022-03-31T10:41:24.501Z"
   },
   {
    "duration": 5219,
    "start_time": "2022-03-31T10:41:48.088Z"
   },
   {
    "duration": 2521,
    "start_time": "2022-03-31T10:43:01.770Z"
   },
   {
    "duration": 1070,
    "start_time": "2022-03-31T10:43:31.683Z"
   },
   {
    "duration": 2314,
    "start_time": "2022-03-31T10:43:39.021Z"
   },
   {
    "duration": 247,
    "start_time": "2022-03-31T10:44:47.170Z"
   },
   {
    "duration": 31652,
    "start_time": "2022-03-31T10:44:53.320Z"
   },
   {
    "duration": 30896,
    "start_time": "2022-03-31T10:46:10.127Z"
   },
   {
    "duration": 268,
    "start_time": "2022-03-31T10:50:16.964Z"
   },
   {
    "duration": 10,
    "start_time": "2022-03-31T10:51:24.149Z"
   },
   {
    "duration": 19,
    "start_time": "2022-03-31T10:51:43.205Z"
   },
   {
    "duration": 18,
    "start_time": "2022-03-31T10:52:32.305Z"
   },
   {
    "duration": 290,
    "start_time": "2022-03-31T10:53:07.712Z"
   },
   {
    "duration": 1737,
    "start_time": "2022-03-31T10:53:18.071Z"
   },
   {
    "duration": 4,
    "start_time": "2022-03-31T11:06:32.648Z"
   },
   {
    "duration": 64550,
    "start_time": "2022-03-31T11:07:56.290Z"
   },
   {
    "duration": 1487,
    "start_time": "2022-03-31T11:09:06.538Z"
   },
   {
    "duration": 288,
    "start_time": "2022-03-31T11:09:08.027Z"
   },
   {
    "duration": 18,
    "start_time": "2022-03-31T11:09:08.317Z"
   },
   {
    "duration": 101,
    "start_time": "2022-03-31T11:09:08.337Z"
   },
   {
    "duration": 13,
    "start_time": "2022-03-31T11:09:08.440Z"
   },
   {
    "duration": 365,
    "start_time": "2022-03-31T11:09:08.455Z"
   },
   {
    "duration": 10,
    "start_time": "2022-03-31T11:09:08.822Z"
   },
   {
    "duration": 3,
    "start_time": "2022-03-31T11:09:08.834Z"
   },
   {
    "duration": 9,
    "start_time": "2022-03-31T11:09:08.838Z"
   },
   {
    "duration": 10,
    "start_time": "2022-03-31T11:09:08.850Z"
   },
   {
    "duration": 39,
    "start_time": "2022-03-31T11:09:08.862Z"
   },
   {
    "duration": 8,
    "start_time": "2022-03-31T11:09:08.903Z"
   },
   {
    "duration": 37,
    "start_time": "2022-03-31T11:09:08.912Z"
   },
   {
    "duration": 12,
    "start_time": "2022-03-31T11:09:08.951Z"
   },
   {
    "duration": 12,
    "start_time": "2022-03-31T11:09:09.002Z"
   },
   {
    "duration": 142,
    "start_time": "2022-03-31T11:09:09.016Z"
   },
   {
    "duration": 125,
    "start_time": "2022-03-31T11:09:09.160Z"
   },
   {
    "duration": 19,
    "start_time": "2022-03-31T11:09:09.288Z"
   },
   {
    "duration": 111,
    "start_time": "2022-03-31T11:09:09.310Z"
   },
   {
    "duration": 24,
    "start_time": "2022-03-31T11:09:09.423Z"
   },
   {
    "duration": 12,
    "start_time": "2022-03-31T11:09:09.449Z"
   },
   {
    "duration": 40,
    "start_time": "2022-03-31T11:09:09.463Z"
   },
   {
    "duration": 14,
    "start_time": "2022-03-31T11:09:09.505Z"
   },
   {
    "duration": 454,
    "start_time": "2022-03-31T11:09:09.521Z"
   },
   {
    "duration": 147,
    "start_time": "2022-03-31T11:09:09.978Z"
   },
   {
    "duration": 170,
    "start_time": "2022-03-31T11:09:10.127Z"
   },
   {
    "duration": 136,
    "start_time": "2022-03-31T11:09:10.298Z"
   },
   {
    "duration": 27,
    "start_time": "2022-03-31T11:09:10.439Z"
   },
   {
    "duration": 5,
    "start_time": "2022-03-31T11:09:10.468Z"
   },
   {
    "duration": 128,
    "start_time": "2022-03-31T11:09:10.475Z"
   },
   {
    "duration": 2335,
    "start_time": "2022-03-31T11:09:10.605Z"
   },
   {
    "duration": 30235,
    "start_time": "2022-03-31T11:09:12.943Z"
   },
   {
    "duration": 285,
    "start_time": "2022-03-31T11:09:43.179Z"
   },
   {
    "duration": 133765,
    "start_time": "2022-03-31T11:09:43.466Z"
   },
   {
    "duration": 1868,
    "start_time": "2022-03-31T11:11:57.233Z"
   },
   {
    "duration": 26635,
    "start_time": "2022-03-31T11:13:42.831Z"
   },
   {
    "duration": 112,
    "start_time": "2022-03-31T11:15:20.307Z"
   },
   {
    "duration": 628030,
    "start_time": "2022-03-31T11:15:29.379Z"
   },
   {
    "duration": 1382,
    "start_time": "2022-03-31T11:25:57.412Z"
   },
   {
    "duration": 1578,
    "start_time": "2022-03-31T11:47:43.136Z"
   },
   {
    "duration": 1731,
    "start_time": "2022-03-31T11:48:20.867Z"
   },
   {
    "duration": 1413,
    "start_time": "2022-03-31T11:48:30.134Z"
   },
   {
    "duration": 37641,
    "start_time": "2022-03-31T11:50:37.335Z"
   },
   {
    "duration": 1949,
    "start_time": "2022-03-31T11:51:55.058Z"
   },
   {
    "duration": 1172,
    "start_time": "2022-03-31T18:59:25.049Z"
   },
   {
    "duration": 325,
    "start_time": "2022-03-31T18:59:26.223Z"
   },
   {
    "duration": 16,
    "start_time": "2022-03-31T18:59:26.550Z"
   },
   {
    "duration": 94,
    "start_time": "2022-03-31T18:59:26.568Z"
   },
   {
    "duration": 13,
    "start_time": "2022-03-31T18:59:26.663Z"
   },
   {
    "duration": 349,
    "start_time": "2022-03-31T18:59:26.678Z"
   },
   {
    "duration": 8,
    "start_time": "2022-03-31T18:59:27.028Z"
   },
   {
    "duration": 3,
    "start_time": "2022-03-31T18:59:27.038Z"
   },
   {
    "duration": 8,
    "start_time": "2022-03-31T18:59:27.042Z"
   },
   {
    "duration": 7,
    "start_time": "2022-03-31T18:59:27.052Z"
   },
   {
    "duration": 7,
    "start_time": "2022-03-31T18:59:27.060Z"
   },
   {
    "duration": 5,
    "start_time": "2022-03-31T18:59:27.068Z"
   },
   {
    "duration": 70,
    "start_time": "2022-03-31T18:59:27.075Z"
   },
   {
    "duration": 9,
    "start_time": "2022-03-31T18:59:27.146Z"
   },
   {
    "duration": 13,
    "start_time": "2022-03-31T18:59:27.156Z"
   },
   {
    "duration": 134,
    "start_time": "2022-03-31T18:59:27.170Z"
   },
   {
    "duration": 125,
    "start_time": "2022-03-31T18:59:27.306Z"
   },
   {
    "duration": 6,
    "start_time": "2022-03-31T18:59:27.433Z"
   },
   {
    "duration": 106,
    "start_time": "2022-03-31T18:59:27.441Z"
   },
   {
    "duration": 20,
    "start_time": "2022-03-31T18:59:27.549Z"
   },
   {
    "duration": 11,
    "start_time": "2022-03-31T18:59:27.571Z"
   },
   {
    "duration": 13,
    "start_time": "2022-03-31T18:59:27.583Z"
   },
   {
    "duration": 35,
    "start_time": "2022-03-31T18:59:27.598Z"
   },
   {
    "duration": 626,
    "start_time": "2022-03-31T18:59:27.634Z"
   },
   {
    "duration": 152,
    "start_time": "2022-03-31T18:59:28.262Z"
   },
   {
    "duration": 336,
    "start_time": "2022-03-31T18:59:28.415Z"
   },
   {
    "duration": 298,
    "start_time": "2022-03-31T18:59:28.753Z"
   },
   {
    "duration": 208,
    "start_time": "2022-03-31T18:59:29.055Z"
   },
   {
    "duration": 4,
    "start_time": "2022-03-31T18:59:29.265Z"
   },
   {
    "duration": 77,
    "start_time": "2022-03-31T18:59:29.270Z"
   },
   {
    "duration": 3456,
    "start_time": "2022-03-31T18:59:29.349Z"
   },
   {
    "duration": 30365,
    "start_time": "2022-03-31T18:59:32.807Z"
   },
   {
    "duration": 279,
    "start_time": "2022-03-31T19:00:03.175Z"
   },
   {
    "duration": 2511,
    "start_time": "2022-03-31T19:00:03.456Z"
   },
   {
    "duration": 45890,
    "start_time": "2022-03-31T19:00:05.969Z"
   },
   {
    "duration": 133267,
    "start_time": "2022-03-31T19:00:51.861Z"
   },
   {
    "duration": 597849,
    "start_time": "2022-03-31T19:03:05.131Z"
   },
   {
    "duration": 1751,
    "start_time": "2022-03-31T19:13:02.982Z"
   },
   {
    "duration": 2099,
    "start_time": "2022-03-31T19:13:04.734Z"
   },
   {
    "duration": 10789,
    "start_time": "2022-03-31T19:13:22.591Z"
   },
   {
    "duration": 269,
    "start_time": "2022-03-31T19:13:35.929Z"
   },
   {
    "duration": 288,
    "start_time": "2022-03-31T19:15:11.513Z"
   },
   {
    "duration": 3,
    "start_time": "2022-03-31T19:15:57.642Z"
   },
   {
    "duration": 13369,
    "start_time": "2022-03-31T19:17:12.587Z"
   },
   {
    "duration": 139363,
    "start_time": "2022-03-31T19:18:55.470Z"
   },
   {
    "duration": 213302,
    "start_time": "2022-03-31T19:27:01.626Z"
   },
   {
    "duration": 3,
    "start_time": "2022-03-31T19:33:54.194Z"
   },
   {
    "duration": 280,
    "start_time": "2022-03-31T19:37:34.662Z"
   },
   {
    "duration": 110,
    "start_time": "2022-03-31T19:37:36.543Z"
   },
   {
    "duration": 289,
    "start_time": "2022-03-31T19:37:42.152Z"
   },
   {
    "duration": 3,
    "start_time": "2022-03-31T19:37:46.227Z"
   },
   {
    "duration": 13087,
    "start_time": "2022-03-31T19:40:15.665Z"
   },
   {
    "duration": 13755,
    "start_time": "2022-03-31T19:41:37.825Z"
   },
   {
    "duration": 4,
    "start_time": "2022-03-31T19:41:56.303Z"
   },
   {
    "duration": 1541,
    "start_time": "2022-03-31T19:44:47.992Z"
   },
   {
    "duration": 1786,
    "start_time": "2022-03-31T19:44:50.451Z"
   },
   {
    "duration": 94,
    "start_time": "2022-03-31T19:44:52.239Z"
   },
   {
    "duration": 4,
    "start_time": "2022-03-31T20:03:03.933Z"
   },
   {
    "duration": 16,
    "start_time": "2022-03-31T20:08:33.550Z"
   },
   {
    "duration": 15,
    "start_time": "2022-03-31T20:08:51.324Z"
   },
   {
    "duration": 4,
    "start_time": "2022-03-31T20:08:56.845Z"
   },
   {
    "duration": 4,
    "start_time": "2022-03-31T20:23:43.367Z"
   },
   {
    "duration": 43,
    "start_time": "2022-03-31T20:23:44.208Z"
   },
   {
    "duration": 21,
    "start_time": "2022-03-31T20:24:01.512Z"
   },
   {
    "duration": 41,
    "start_time": "2022-03-31T20:24:02.270Z"
   },
   {
    "duration": 4,
    "start_time": "2022-03-31T20:24:22.270Z"
   },
   {
    "duration": 15,
    "start_time": "2022-03-31T20:24:24.523Z"
   },
   {
    "duration": 13,
    "start_time": "2022-03-31T20:27:14.691Z"
   },
   {
    "duration": 16,
    "start_time": "2022-03-31T20:27:35.897Z"
   },
   {
    "duration": 1970,
    "start_time": "2022-03-31T20:27:41.587Z"
   },
   {
    "duration": 7621,
    "start_time": "2022-03-31T20:27:43.559Z"
   },
   {
    "duration": 912,
    "start_time": "2022-03-31T20:33:27.775Z"
   },
   {
    "duration": 2139,
    "start_time": "2022-03-31T20:33:31.308Z"
   },
   {
    "duration": 7563,
    "start_time": "2022-03-31T20:33:35.782Z"
   },
   {
    "duration": 896,
    "start_time": "2022-03-31T20:34:08.659Z"
   },
   {
    "duration": 3,
    "start_time": "2022-03-31T20:34:14.146Z"
   },
   {
    "duration": 106009,
    "start_time": "2022-03-31T20:34:19.006Z"
   },
   {
    "duration": 161691,
    "start_time": "2022-03-31T20:36:05.017Z"
   },
   {
    "duration": 10906,
    "start_time": "2022-03-31T20:38:46.710Z"
   },
   {
    "duration": 1132,
    "start_time": "2022-04-02T07:00:27.667Z"
   },
   {
    "duration": 270,
    "start_time": "2022-04-02T07:00:28.801Z"
   },
   {
    "duration": 17,
    "start_time": "2022-04-02T07:00:29.073Z"
   },
   {
    "duration": 96,
    "start_time": "2022-04-02T07:00:29.092Z"
   },
   {
    "duration": 12,
    "start_time": "2022-04-02T07:00:29.190Z"
   },
   {
    "duration": 343,
    "start_time": "2022-04-02T07:00:29.203Z"
   },
   {
    "duration": 7,
    "start_time": "2022-04-02T07:00:29.548Z"
   },
   {
    "duration": 4,
    "start_time": "2022-04-02T07:00:29.557Z"
   },
   {
    "duration": 6,
    "start_time": "2022-04-02T07:00:29.562Z"
   },
   {
    "duration": 10,
    "start_time": "2022-04-02T07:00:29.571Z"
   },
   {
    "duration": 7,
    "start_time": "2022-04-02T07:00:29.582Z"
   },
   {
    "duration": 46,
    "start_time": "2022-04-02T07:00:29.591Z"
   },
   {
    "duration": 6,
    "start_time": "2022-04-02T07:00:29.639Z"
   },
   {
    "duration": 8,
    "start_time": "2022-04-02T07:00:29.646Z"
   },
   {
    "duration": 19,
    "start_time": "2022-04-02T07:00:29.655Z"
   },
   {
    "duration": 9,
    "start_time": "2022-04-02T07:00:29.675Z"
   },
   {
    "duration": 13,
    "start_time": "2022-04-02T07:00:29.685Z"
   },
   {
    "duration": 141,
    "start_time": "2022-04-02T07:00:29.699Z"
   },
   {
    "duration": 121,
    "start_time": "2022-04-02T07:00:29.842Z"
   },
   {
    "duration": 7,
    "start_time": "2022-04-02T07:00:29.965Z"
   },
   {
    "duration": 103,
    "start_time": "2022-04-02T07:00:29.973Z"
   },
   {
    "duration": 21,
    "start_time": "2022-04-02T07:00:30.077Z"
   },
   {
    "duration": 11,
    "start_time": "2022-04-02T07:00:30.099Z"
   },
   {
    "duration": 33,
    "start_time": "2022-04-02T07:00:30.111Z"
   },
   {
    "duration": 19,
    "start_time": "2022-04-02T07:00:30.146Z"
   },
   {
    "duration": 632,
    "start_time": "2022-04-02T07:00:30.166Z"
   },
   {
    "duration": 142,
    "start_time": "2022-04-02T07:00:30.799Z"
   },
   {
    "duration": 163,
    "start_time": "2022-04-02T07:00:30.945Z"
   },
   {
    "duration": 218,
    "start_time": "2022-04-02T07:00:31.110Z"
   },
   {
    "duration": 28,
    "start_time": "2022-04-02T07:00:31.338Z"
   },
   {
    "duration": 4,
    "start_time": "2022-04-02T07:00:31.368Z"
   },
   {
    "duration": 33,
    "start_time": "2022-04-02T07:00:31.373Z"
   },
   {
    "duration": 3,
    "start_time": "2022-04-02T07:00:31.408Z"
   },
   {
    "duration": 1758,
    "start_time": "2022-04-02T07:00:31.412Z"
   },
   {
    "duration": 6866,
    "start_time": "2022-04-02T07:00:33.172Z"
   },
   {
    "duration": 1466,
    "start_time": "2022-04-02T07:00:40.040Z"
   },
   {
    "duration": 3332,
    "start_time": "2022-04-02T07:00:41.507Z"
   },
   {
    "duration": 6871,
    "start_time": "2022-04-02T07:00:44.840Z"
   },
   {
    "duration": 850,
    "start_time": "2022-04-02T07:00:51.713Z"
   },
   {
    "duration": 4,
    "start_time": "2022-04-02T07:00:52.564Z"
   },
   {
    "duration": 96313,
    "start_time": "2022-04-02T07:00:52.569Z"
   },
   {
    "duration": 144041,
    "start_time": "2022-04-02T07:02:28.883Z"
   },
   {
    "duration": 28860,
    "start_time": "2022-04-02T07:04:52.926Z"
   },
   {
    "duration": 107499,
    "start_time": "2022-04-02T07:05:21.787Z"
   },
   {
    "duration": 160462,
    "start_time": "2022-04-02T07:07:09.288Z"
   },
   {
    "duration": 10790,
    "start_time": "2022-04-02T07:09:49.752Z"
   },
   {
    "duration": 4,
    "start_time": "2022-04-02T07:10:00.544Z"
   },
   {
    "duration": 1487,
    "start_time": "2022-04-02T07:10:00.550Z"
   },
   {
    "duration": 1306,
    "start_time": "2022-04-02T07:10:02.039Z"
   },
   {
    "duration": 90,
    "start_time": "2022-04-02T07:10:03.349Z"
   },
   {
    "duration": 9,
    "start_time": "2022-04-02T07:10:03.441Z"
   },
   {
    "duration": 131,
    "start_time": "2022-04-02T07:10:03.451Z"
   },
   {
    "duration": 4,
    "start_time": "2022-04-02T07:19:04.003Z"
   },
   {
    "duration": 7,
    "start_time": "2022-04-02T07:19:05.524Z"
   },
   {
    "duration": 7,
    "start_time": "2022-04-02T07:19:06.422Z"
   },
   {
    "duration": 9,
    "start_time": "2022-04-02T07:19:07.841Z"
   },
   {
    "duration": 6,
    "start_time": "2022-04-02T07:19:08.567Z"
   },
   {
    "duration": 5,
    "start_time": "2022-04-02T07:19:09.537Z"
   },
   {
    "duration": 17,
    "start_time": "2022-04-02T07:19:11.135Z"
   },
   {
    "duration": 3,
    "start_time": "2022-04-02T07:24:16.902Z"
   },
   {
    "duration": 6,
    "start_time": "2022-04-02T07:24:18.168Z"
   },
   {
    "duration": 7,
    "start_time": "2022-04-02T07:24:18.943Z"
   },
   {
    "duration": 7,
    "start_time": "2022-04-02T07:24:19.803Z"
   },
   {
    "duration": 7,
    "start_time": "2022-04-02T07:24:20.426Z"
   },
   {
    "duration": 5,
    "start_time": "2022-04-02T07:24:21.200Z"
   },
   {
    "duration": 14,
    "start_time": "2022-04-02T07:24:22.517Z"
   },
   {
    "duration": 1365,
    "start_time": "2022-04-02T07:24:31.078Z"
   },
   {
    "duration": 1121,
    "start_time": "2022-04-02T07:24:32.827Z"
   },
   {
    "duration": 4,
    "start_time": "2022-04-02T07:24:35.618Z"
   },
   {
    "duration": 4,
    "start_time": "2022-04-02T07:24:43.188Z"
   },
   {
    "duration": 19,
    "start_time": "2022-04-02T07:24:43.601Z"
   },
   {
    "duration": 3,
    "start_time": "2022-04-02T07:24:44.892Z"
   },
   {
    "duration": 1437,
    "start_time": "2022-04-02T07:24:53.111Z"
   },
   {
    "duration": 1471,
    "start_time": "2022-04-02T07:25:08.670Z"
   },
   {
    "duration": 4,
    "start_time": "2022-04-02T07:25:10.144Z"
   },
   {
    "duration": 64,
    "start_time": "2022-04-02T07:34:37.575Z"
   },
   {
    "duration": 16,
    "start_time": "2022-04-02T07:34:51.871Z"
   },
   {
    "duration": 423,
    "start_time": "2022-04-02T07:35:54.874Z"
   },
   {
    "duration": 466,
    "start_time": "2022-04-02T07:36:14.839Z"
   },
   {
    "duration": 5,
    "start_time": "2022-04-02T07:36:33.431Z"
   },
   {
    "duration": 16,
    "start_time": "2022-04-02T07:36:34.525Z"
   },
   {
    "duration": 40,
    "start_time": "2022-04-02T07:37:19.033Z"
   },
   {
    "duration": 26,
    "start_time": "2022-04-02T07:37:30.090Z"
   },
   {
    "duration": 25,
    "start_time": "2022-04-02T07:46:31.380Z"
   },
   {
    "duration": 4,
    "start_time": "2022-04-02T07:47:26.646Z"
   },
   {
    "duration": 26,
    "start_time": "2022-04-02T07:47:27.188Z"
   },
   {
    "duration": 1601,
    "start_time": "2022-04-02T07:47:37.041Z"
   },
   {
    "duration": 1301,
    "start_time": "2022-04-02T07:47:38.647Z"
   },
   {
    "duration": 3,
    "start_time": "2022-04-02T07:47:40.173Z"
   },
   {
    "duration": 28,
    "start_time": "2022-04-02T07:47:44.139Z"
   },
   {
    "duration": 15,
    "start_time": "2022-04-02T07:47:44.895Z"
   },
   {
    "duration": 25,
    "start_time": "2022-04-02T07:48:05.454Z"
   },
   {
    "duration": 14,
    "start_time": "2022-04-02T07:48:18.261Z"
   },
   {
    "duration": 14,
    "start_time": "2022-04-02T07:48:50.172Z"
   },
   {
    "duration": 14,
    "start_time": "2022-04-02T07:48:56.894Z"
   },
   {
    "duration": 20,
    "start_time": "2022-04-02T07:49:06.594Z"
   },
   {
    "duration": 27,
    "start_time": "2022-04-02T07:50:47.875Z"
   },
   {
    "duration": 16,
    "start_time": "2022-04-02T07:51:08.541Z"
   },
   {
    "duration": 23,
    "start_time": "2022-04-02T07:52:20.032Z"
   },
   {
    "duration": 3,
    "start_time": "2022-04-02T07:53:39.765Z"
   },
   {
    "duration": 7,
    "start_time": "2022-04-02T07:53:40.827Z"
   },
   {
    "duration": 7,
    "start_time": "2022-04-02T07:53:41.799Z"
   },
   {
    "duration": 7,
    "start_time": "2022-04-02T07:53:42.615Z"
   },
   {
    "duration": 7,
    "start_time": "2022-04-02T07:53:43.793Z"
   },
   {
    "duration": 4,
    "start_time": "2022-04-02T07:53:44.206Z"
   },
   {
    "duration": 4,
    "start_time": "2022-04-02T07:53:54.463Z"
   },
   {
    "duration": 16,
    "start_time": "2022-04-02T07:53:54.981Z"
   },
   {
    "duration": 2,
    "start_time": "2022-04-02T07:53:55.799Z"
   },
   {
    "duration": 1500,
    "start_time": "2022-04-02T07:54:02.438Z"
   },
   {
    "duration": 1397,
    "start_time": "2022-04-02T07:54:03.941Z"
   },
   {
    "duration": 4,
    "start_time": "2022-04-02T07:54:05.781Z"
   },
   {
    "duration": 4,
    "start_time": "2022-04-02T07:54:11.888Z"
   },
   {
    "duration": 17,
    "start_time": "2022-04-02T07:54:12.855Z"
   },
   {
    "duration": 3,
    "start_time": "2022-04-02T07:55:14.886Z"
   },
   {
    "duration": 7,
    "start_time": "2022-04-02T07:55:15.996Z"
   },
   {
    "duration": 7,
    "start_time": "2022-04-02T07:55:16.729Z"
   },
   {
    "duration": 8,
    "start_time": "2022-04-02T07:55:17.602Z"
   },
   {
    "duration": 7,
    "start_time": "2022-04-02T07:55:18.320Z"
   },
   {
    "duration": 4,
    "start_time": "2022-04-02T07:55:19.002Z"
   },
   {
    "duration": 15,
    "start_time": "2022-04-02T07:55:26.746Z"
   },
   {
    "duration": 1716,
    "start_time": "2022-04-02T07:55:30.223Z"
   },
   {
    "duration": 1503,
    "start_time": "2022-04-02T07:55:31.941Z"
   },
   {
    "duration": 3,
    "start_time": "2022-04-02T07:55:33.446Z"
   },
   {
    "duration": 4,
    "start_time": "2022-04-02T07:55:37.970Z"
   },
   {
    "duration": 14,
    "start_time": "2022-04-02T07:55:38.629Z"
   },
   {
    "duration": 22,
    "start_time": "2022-04-02T07:55:59.552Z"
   },
   {
    "duration": 249,
    "start_time": "2022-04-02T07:58:57.294Z"
   },
   {
    "duration": 16,
    "start_time": "2022-04-02T07:58:58.460Z"
   },
   {
    "duration": 81,
    "start_time": "2022-04-02T07:59:01.751Z"
   },
   {
    "duration": 3,
    "start_time": "2022-04-02T07:59:09.334Z"
   },
   {
    "duration": 7,
    "start_time": "2022-04-02T07:59:10.493Z"
   },
   {
    "duration": 3,
    "start_time": "2022-04-02T07:59:48.143Z"
   },
   {
    "duration": 8,
    "start_time": "2022-04-02T07:59:49.472Z"
   },
   {
    "duration": 8,
    "start_time": "2022-04-02T07:59:49.955Z"
   },
   {
    "duration": 16,
    "start_time": "2022-04-02T07:59:50.605Z"
   },
   {
    "duration": 7,
    "start_time": "2022-04-02T07:59:51.198Z"
   },
   {
    "duration": 5,
    "start_time": "2022-04-02T07:59:51.797Z"
   },
   {
    "duration": 17,
    "start_time": "2022-04-02T07:59:57.191Z"
   },
   {
    "duration": 20,
    "start_time": "2022-04-02T08:01:38.796Z"
   },
   {
    "duration": 14,
    "start_time": "2022-04-02T08:02:48.896Z"
   },
   {
    "duration": 3,
    "start_time": "2022-04-02T08:02:57.092Z"
   },
   {
    "duration": 7,
    "start_time": "2022-04-02T08:02:58.293Z"
   },
   {
    "duration": 5,
    "start_time": "2022-04-02T08:02:58.854Z"
   },
   {
    "duration": 13,
    "start_time": "2022-04-02T08:02:59.426Z"
   },
   {
    "duration": 7,
    "start_time": "2022-04-02T08:02:59.974Z"
   },
   {
    "duration": 4,
    "start_time": "2022-04-02T08:03:00.669Z"
   },
   {
    "duration": 14,
    "start_time": "2022-04-02T08:03:02.486Z"
   },
   {
    "duration": 2,
    "start_time": "2022-04-02T08:03:20.897Z"
   },
   {
    "duration": 7,
    "start_time": "2022-04-02T08:03:21.787Z"
   },
   {
    "duration": 6,
    "start_time": "2022-04-02T08:03:22.260Z"
   },
   {
    "duration": 14,
    "start_time": "2022-04-02T08:03:22.787Z"
   },
   {
    "duration": 6,
    "start_time": "2022-04-02T08:03:23.287Z"
   },
   {
    "duration": 5,
    "start_time": "2022-04-02T08:03:23.760Z"
   },
   {
    "duration": 14,
    "start_time": "2022-04-02T08:03:25.309Z"
   },
   {
    "duration": 13,
    "start_time": "2022-04-02T08:03:27.561Z"
   },
   {
    "duration": 18,
    "start_time": "2022-04-02T08:03:28.226Z"
   },
   {
    "duration": 3,
    "start_time": "2022-04-02T08:05:20.025Z"
   },
   {
    "duration": 7,
    "start_time": "2022-04-02T08:05:20.441Z"
   },
   {
    "duration": 6,
    "start_time": "2022-04-02T08:05:20.711Z"
   },
   {
    "duration": 7,
    "start_time": "2022-04-02T08:05:20.952Z"
   },
   {
    "duration": 6,
    "start_time": "2022-04-02T08:05:21.185Z"
   },
   {
    "duration": 4,
    "start_time": "2022-04-02T08:05:21.558Z"
   },
   {
    "duration": 16,
    "start_time": "2022-04-02T08:05:22.408Z"
   },
   {
    "duration": 12,
    "start_time": "2022-04-02T08:05:24.419Z"
   },
   {
    "duration": 17,
    "start_time": "2022-04-02T08:05:25.033Z"
   },
   {
    "duration": 3,
    "start_time": "2022-04-02T08:05:38.734Z"
   },
   {
    "duration": 15,
    "start_time": "2022-04-02T08:05:39.257Z"
   },
   {
    "duration": 18,
    "start_time": "2022-04-02T08:05:43.966Z"
   },
   {
    "duration": 37,
    "start_time": "2022-04-02T08:06:04.424Z"
   },
   {
    "duration": 3,
    "start_time": "2022-04-02T08:06:18.025Z"
   },
   {
    "duration": 7,
    "start_time": "2022-04-02T08:06:18.423Z"
   },
   {
    "duration": 8,
    "start_time": "2022-04-02T08:06:18.617Z"
   },
   {
    "duration": 8,
    "start_time": "2022-04-02T08:06:18.834Z"
   },
   {
    "duration": 7,
    "start_time": "2022-04-02T08:06:19.034Z"
   },
   {
    "duration": 4,
    "start_time": "2022-04-02T08:06:19.234Z"
   },
   {
    "duration": 17,
    "start_time": "2022-04-02T08:06:19.690Z"
   },
   {
    "duration": 9,
    "start_time": "2022-04-02T08:06:20.739Z"
   },
   {
    "duration": 11,
    "start_time": "2022-04-02T08:06:21.322Z"
   },
   {
    "duration": 96,
    "start_time": "2022-04-02T08:06:21.891Z"
   },
   {
    "duration": 115,
    "start_time": "2022-04-02T08:06:22.756Z"
   },
   {
    "duration": 8,
    "start_time": "2022-04-02T08:06:23.517Z"
   },
   {
    "duration": 80,
    "start_time": "2022-04-02T08:06:26.105Z"
   },
   {
    "duration": 24,
    "start_time": "2022-04-02T08:06:27.234Z"
   },
   {
    "duration": 14,
    "start_time": "2022-04-02T08:06:31.182Z"
   },
   {
    "duration": 11,
    "start_time": "2022-04-02T08:06:31.656Z"
   },
   {
    "duration": 12,
    "start_time": "2022-04-02T08:06:32.173Z"
   },
   {
    "duration": 147,
    "start_time": "2022-04-02T08:06:32.690Z"
   },
   {
    "duration": 129,
    "start_time": "2022-04-02T08:06:33.090Z"
   },
   {
    "duration": 152,
    "start_time": "2022-04-02T08:06:33.265Z"
   },
   {
    "duration": 126,
    "start_time": "2022-04-02T08:06:33.449Z"
   },
   {
    "duration": 22,
    "start_time": "2022-04-02T08:06:33.668Z"
   },
   {
    "duration": 3,
    "start_time": "2022-04-02T08:06:34.108Z"
   },
   {
    "duration": 16,
    "start_time": "2022-04-02T08:06:37.674Z"
   },
   {
    "duration": 1366,
    "start_time": "2022-04-02T08:06:42.773Z"
   },
   {
    "duration": 1596,
    "start_time": "2022-04-02T08:06:44.142Z"
   },
   {
    "duration": 4,
    "start_time": "2022-04-02T08:06:46.001Z"
   },
   {
    "duration": 5,
    "start_time": "2022-04-02T08:06:52.422Z"
   },
   {
    "duration": 22,
    "start_time": "2022-04-02T08:07:03.456Z"
   },
   {
    "duration": 12,
    "start_time": "2022-04-02T08:08:22.255Z"
   },
   {
    "duration": 10,
    "start_time": "2022-04-02T08:08:25.599Z"
   },
   {
    "duration": 21,
    "start_time": "2022-04-02T08:08:43.170Z"
   },
   {
    "duration": 285,
    "start_time": "2022-04-02T08:09:04.130Z"
   },
   {
    "duration": 16,
    "start_time": "2022-04-02T08:09:05.804Z"
   },
   {
    "duration": 82,
    "start_time": "2022-04-02T08:09:09.565Z"
   },
   {
    "duration": 12,
    "start_time": "2022-04-02T08:09:11.098Z"
   },
   {
    "duration": 4,
    "start_time": "2022-04-02T08:09:48.047Z"
   },
   {
    "duration": 8,
    "start_time": "2022-04-02T08:09:52.730Z"
   },
   {
    "duration": 8,
    "start_time": "2022-04-02T08:09:53.296Z"
   },
   {
    "duration": 8,
    "start_time": "2022-04-02T08:09:53.953Z"
   },
   {
    "duration": 7,
    "start_time": "2022-04-02T08:09:54.536Z"
   },
   {
    "duration": 4,
    "start_time": "2022-04-02T08:09:55.146Z"
   },
   {
    "duration": 18,
    "start_time": "2022-04-02T08:09:56.723Z"
   },
   {
    "duration": 14,
    "start_time": "2022-04-02T08:09:58.479Z"
   },
   {
    "duration": 272,
    "start_time": "2022-04-02T08:11:30.365Z"
   },
   {
    "duration": 19,
    "start_time": "2022-04-02T08:11:30.972Z"
   },
   {
    "duration": 82,
    "start_time": "2022-04-02T08:11:32.650Z"
   },
   {
    "duration": 15,
    "start_time": "2022-04-02T08:11:33.217Z"
   },
   {
    "duration": 2,
    "start_time": "2022-04-02T08:11:37.812Z"
   },
   {
    "duration": 6,
    "start_time": "2022-04-02T08:11:38.795Z"
   },
   {
    "duration": 6,
    "start_time": "2022-04-02T08:11:39.417Z"
   },
   {
    "duration": 7,
    "start_time": "2022-04-02T08:11:40.317Z"
   },
   {
    "duration": 6,
    "start_time": "2022-04-02T08:11:40.983Z"
   },
   {
    "duration": 4,
    "start_time": "2022-04-02T08:11:41.683Z"
   },
   {
    "duration": 12,
    "start_time": "2022-04-02T08:11:42.843Z"
   },
   {
    "duration": 4,
    "start_time": "2022-04-02T08:12:24.669Z"
   },
   {
    "duration": 6,
    "start_time": "2022-04-02T08:12:25.633Z"
   },
   {
    "duration": 9,
    "start_time": "2022-04-02T08:12:26.231Z"
   },
   {
    "duration": 9,
    "start_time": "2022-04-02T08:12:26.921Z"
   },
   {
    "duration": 6,
    "start_time": "2022-04-02T08:12:27.560Z"
   },
   {
    "duration": 4,
    "start_time": "2022-04-02T08:12:28.136Z"
   },
   {
    "duration": 15,
    "start_time": "2022-04-02T08:12:29.177Z"
   },
   {
    "duration": 13,
    "start_time": "2022-04-02T08:12:36.167Z"
   },
   {
    "duration": 18,
    "start_time": "2022-04-02T08:12:37.478Z"
   },
   {
    "duration": 14,
    "start_time": "2022-04-02T08:12:45.050Z"
   },
   {
    "duration": 17,
    "start_time": "2022-04-02T08:12:57.560Z"
   },
   {
    "duration": 11,
    "start_time": "2022-04-02T08:13:08.625Z"
   },
   {
    "duration": 11,
    "start_time": "2022-04-02T08:13:09.159Z"
   },
   {
    "duration": 11,
    "start_time": "2022-04-02T08:13:09.627Z"
   },
   {
    "duration": 142,
    "start_time": "2022-04-02T08:13:10.209Z"
   },
   {
    "duration": 123,
    "start_time": "2022-04-02T08:13:10.850Z"
   },
   {
    "duration": 146,
    "start_time": "2022-04-02T08:13:11.475Z"
   },
   {
    "duration": 11,
    "start_time": "2022-04-02T08:13:15.611Z"
   },
   {
    "duration": 9,
    "start_time": "2022-04-02T08:13:16.049Z"
   },
   {
    "duration": 188,
    "start_time": "2022-04-02T08:13:16.517Z"
   },
   {
    "duration": 109,
    "start_time": "2022-04-02T08:13:17.009Z"
   },
   {
    "duration": 6,
    "start_time": "2022-04-02T08:13:17.542Z"
   },
   {
    "duration": 81,
    "start_time": "2022-04-02T08:13:18.108Z"
   },
   {
    "duration": 21,
    "start_time": "2022-04-02T08:13:18.600Z"
   },
   {
    "duration": 14,
    "start_time": "2022-04-02T08:13:25.599Z"
   },
   {
    "duration": 1359,
    "start_time": "2022-04-02T08:13:31.179Z"
   },
   {
    "duration": 1374,
    "start_time": "2022-04-02T08:13:32.867Z"
   },
   {
    "duration": 4,
    "start_time": "2022-04-02T08:13:34.244Z"
   },
   {
    "duration": 23,
    "start_time": "2022-04-02T08:13:35.347Z"
   },
   {
    "duration": 428,
    "start_time": "2022-04-02T08:13:36.025Z"
   },
   {
    "duration": 1119,
    "start_time": "2022-04-02T08:14:08.779Z"
   },
   {
    "duration": 295,
    "start_time": "2022-04-02T08:14:09.900Z"
   },
   {
    "duration": 18,
    "start_time": "2022-04-02T08:14:10.197Z"
   },
   {
    "duration": 98,
    "start_time": "2022-04-02T08:14:10.218Z"
   },
   {
    "duration": 20,
    "start_time": "2022-04-02T08:14:10.318Z"
   },
   {
    "duration": 381,
    "start_time": "2022-04-02T08:14:10.340Z"
   },
   {
    "duration": 26,
    "start_time": "2022-04-02T08:14:10.722Z"
   },
   {
    "duration": 8,
    "start_time": "2022-04-02T08:14:10.749Z"
   },
   {
    "duration": 5,
    "start_time": "2022-04-02T08:14:10.758Z"
   },
   {
    "duration": 6,
    "start_time": "2022-04-02T08:14:10.765Z"
   },
   {
    "duration": 7,
    "start_time": "2022-04-02T08:14:10.773Z"
   },
   {
    "duration": 5,
    "start_time": "2022-04-02T08:14:10.782Z"
   },
   {
    "duration": 7,
    "start_time": "2022-04-02T08:14:10.789Z"
   },
   {
    "duration": 7,
    "start_time": "2022-04-02T08:14:10.837Z"
   },
   {
    "duration": 4,
    "start_time": "2022-04-02T08:14:10.846Z"
   },
   {
    "duration": 18,
    "start_time": "2022-04-02T08:14:10.852Z"
   },
   {
    "duration": 11,
    "start_time": "2022-04-02T08:14:10.871Z"
   },
   {
    "duration": 56,
    "start_time": "2022-04-02T08:14:10.884Z"
   },
   {
    "duration": 9,
    "start_time": "2022-04-02T08:14:10.942Z"
   },
   {
    "duration": 10,
    "start_time": "2022-04-02T08:14:10.953Z"
   },
   {
    "duration": 140,
    "start_time": "2022-04-02T08:14:10.965Z"
   },
   {
    "duration": 131,
    "start_time": "2022-04-02T08:14:11.107Z"
   },
   {
    "duration": 7,
    "start_time": "2022-04-02T08:14:11.240Z"
   },
   {
    "duration": 104,
    "start_time": "2022-04-02T08:14:11.249Z"
   },
   {
    "duration": 20,
    "start_time": "2022-04-02T08:14:11.355Z"
   },
   {
    "duration": 12,
    "start_time": "2022-04-02T08:14:11.378Z"
   },
   {
    "duration": 14,
    "start_time": "2022-04-02T08:14:11.392Z"
   },
   {
    "duration": 38,
    "start_time": "2022-04-02T08:14:11.410Z"
   },
   {
    "duration": 438,
    "start_time": "2022-04-02T08:14:11.450Z"
   },
   {
    "duration": 148,
    "start_time": "2022-04-02T08:14:11.890Z"
   },
   {
    "duration": 162,
    "start_time": "2022-04-02T08:14:12.039Z"
   },
   {
    "duration": 134,
    "start_time": "2022-04-02T08:14:12.203Z"
   },
   {
    "duration": 123,
    "start_time": "2022-04-02T08:14:12.339Z"
   },
   {
    "duration": 4,
    "start_time": "2022-04-02T08:14:12.464Z"
   },
   {
    "duration": 28,
    "start_time": "2022-04-02T08:14:12.469Z"
   },
   {
    "duration": 5,
    "start_time": "2022-04-02T08:14:12.499Z"
   },
   {
    "duration": 1703,
    "start_time": "2022-04-02T08:14:12.506Z"
   },
   {
    "duration": 6488,
    "start_time": "2022-04-02T08:14:14.210Z"
   },
   {
    "duration": 806,
    "start_time": "2022-04-02T08:14:20.699Z"
   },
   {
    "duration": 1823,
    "start_time": "2022-04-02T08:14:21.507Z"
   },
   {
    "duration": 6552,
    "start_time": "2022-04-02T08:14:23.332Z"
   },
   {
    "duration": 812,
    "start_time": "2022-04-02T08:14:29.886Z"
   },
   {
    "duration": 3,
    "start_time": "2022-04-02T08:14:30.700Z"
   },
   {
    "duration": 92649,
    "start_time": "2022-04-02T08:14:30.705Z"
   },
   {
    "duration": 138693,
    "start_time": "2022-04-02T08:16:03.356Z"
   },
   {
    "duration": 27630,
    "start_time": "2022-04-02T08:18:22.051Z"
   },
   {
    "duration": 103179,
    "start_time": "2022-04-02T08:18:49.683Z"
   },
   {
    "duration": 1155,
    "start_time": "2022-04-02T08:55:54.231Z"
   },
   {
    "duration": 298,
    "start_time": "2022-04-02T08:55:55.388Z"
   },
   {
    "duration": 17,
    "start_time": "2022-04-02T08:55:55.687Z"
   },
   {
    "duration": 97,
    "start_time": "2022-04-02T08:55:55.706Z"
   },
   {
    "duration": 13,
    "start_time": "2022-04-02T08:55:55.805Z"
   },
   {
    "duration": 381,
    "start_time": "2022-04-02T08:55:55.820Z"
   },
   {
    "duration": 16,
    "start_time": "2022-04-02T08:55:56.204Z"
   },
   {
    "duration": 20,
    "start_time": "2022-04-02T08:55:56.222Z"
   },
   {
    "duration": 3,
    "start_time": "2022-04-02T08:55:56.244Z"
   },
   {
    "duration": 6,
    "start_time": "2022-04-02T08:55:56.249Z"
   },
   {
    "duration": 10,
    "start_time": "2022-04-02T08:55:56.256Z"
   },
   {
    "duration": 5,
    "start_time": "2022-04-02T08:55:56.268Z"
   },
   {
    "duration": 6,
    "start_time": "2022-04-02T08:55:56.275Z"
   },
   {
    "duration": 8,
    "start_time": "2022-04-02T08:55:56.282Z"
   },
   {
    "duration": 48,
    "start_time": "2022-04-02T08:55:56.291Z"
   },
   {
    "duration": 19,
    "start_time": "2022-04-02T08:55:56.340Z"
   },
   {
    "duration": 8,
    "start_time": "2022-04-02T08:55:56.361Z"
   },
   {
    "duration": 12,
    "start_time": "2022-04-02T08:55:56.371Z"
   },
   {
    "duration": 140,
    "start_time": "2022-04-02T08:55:56.385Z"
   },
   {
    "duration": 123,
    "start_time": "2022-04-02T08:55:56.527Z"
   },
   {
    "duration": 7,
    "start_time": "2022-04-02T08:55:56.652Z"
   },
   {
    "duration": 106,
    "start_time": "2022-04-02T08:55:56.660Z"
   },
   {
    "duration": 21,
    "start_time": "2022-04-02T08:55:56.768Z"
   },
   {
    "duration": 13,
    "start_time": "2022-04-02T08:55:56.790Z"
   },
   {
    "duration": 37,
    "start_time": "2022-04-02T08:55:56.805Z"
   },
   {
    "duration": 17,
    "start_time": "2022-04-02T08:55:56.844Z"
   },
   {
    "duration": 442,
    "start_time": "2022-04-02T08:55:56.863Z"
   },
   {
    "duration": 139,
    "start_time": "2022-04-02T08:55:57.309Z"
   },
   {
    "duration": 169,
    "start_time": "2022-04-02T08:55:57.450Z"
   },
   {
    "duration": 134,
    "start_time": "2022-04-02T08:55:57.621Z"
   },
   {
    "duration": 26,
    "start_time": "2022-04-02T08:55:57.757Z"
   },
   {
    "duration": 3,
    "start_time": "2022-04-02T08:55:57.785Z"
   },
   {
    "duration": 126,
    "start_time": "2022-04-02T08:55:57.789Z"
   },
   {
    "duration": 2,
    "start_time": "2022-04-02T08:55:57.917Z"
   },
   {
    "duration": 1935,
    "start_time": "2022-04-02T08:55:57.921Z"
   },
   {
    "duration": 6964,
    "start_time": "2022-04-02T08:55:59.858Z"
   },
   {
    "duration": 709,
    "start_time": "2022-04-02T08:56:06.823Z"
   },
   {
    "duration": 1772,
    "start_time": "2022-04-02T08:56:07.538Z"
   },
   {
    "duration": 11568,
    "start_time": "2022-04-02T08:56:09.312Z"
   },
   {
    "duration": 821,
    "start_time": "2022-04-02T08:56:20.881Z"
   },
   {
    "duration": 3,
    "start_time": "2022-04-02T08:56:21.704Z"
   },
   {
    "duration": 93313,
    "start_time": "2022-04-02T08:56:21.708Z"
   },
   {
    "duration": 142252,
    "start_time": "2022-04-02T08:57:55.023Z"
   },
   {
    "duration": 28203,
    "start_time": "2022-04-02T09:00:17.278Z"
   },
   {
    "duration": 104525,
    "start_time": "2022-04-02T09:00:45.482Z"
   },
   {
    "duration": 156759,
    "start_time": "2022-04-02T09:02:30.009Z"
   },
   {
    "duration": 10515,
    "start_time": "2022-04-02T09:05:06.769Z"
   },
   {
    "duration": 3,
    "start_time": "2022-04-02T09:05:17.286Z"
   },
   {
    "duration": 1558,
    "start_time": "2022-04-02T09:05:17.291Z"
   },
   {
    "duration": 1592,
    "start_time": "2022-04-02T09:05:18.852Z"
   },
   {
    "duration": 4,
    "start_time": "2022-04-02T09:05:20.446Z"
   },
   {
    "duration": 10,
    "start_time": "2022-04-02T09:05:20.451Z"
   },
   {
    "duration": 133,
    "start_time": "2022-04-02T09:05:20.462Z"
   },
   {
    "duration": 0,
    "start_time": "2022-04-02T09:05:20.600Z"
   },
   {
    "duration": 16,
    "start_time": "2022-04-02T09:07:21.473Z"
   },
   {
    "duration": 16,
    "start_time": "2022-04-02T09:07:55.328Z"
   },
   {
    "duration": 17,
    "start_time": "2022-04-02T09:09:03.876Z"
   },
   {
    "duration": 20,
    "start_time": "2022-04-02T09:09:25.374Z"
   },
   {
    "duration": 20,
    "start_time": "2022-04-02T09:10:27.729Z"
   },
   {
    "duration": 20,
    "start_time": "2022-04-02T09:10:46.607Z"
   },
   {
    "duration": 14,
    "start_time": "2022-04-02T09:11:13.896Z"
   },
   {
    "duration": 21,
    "start_time": "2022-04-02T09:12:02.371Z"
   },
   {
    "duration": 18,
    "start_time": "2022-04-02T09:14:34.035Z"
   },
   {
    "duration": 252,
    "start_time": "2022-04-02T09:22:32.664Z"
   },
   {
    "duration": 7,
    "start_time": "2022-04-02T09:22:41.758Z"
   },
   {
    "duration": 3,
    "start_time": "2022-04-02T09:22:42.771Z"
   },
   {
    "duration": 3,
    "start_time": "2022-04-02T09:22:43.700Z"
   },
   {
    "duration": 6,
    "start_time": "2022-04-02T09:22:44.605Z"
   },
   {
    "duration": 7,
    "start_time": "2022-04-02T09:22:45.028Z"
   },
   {
    "duration": 7,
    "start_time": "2022-04-02T09:22:45.228Z"
   },
   {
    "duration": 5,
    "start_time": "2022-04-02T09:22:45.394Z"
   },
   {
    "duration": 4,
    "start_time": "2022-04-02T09:22:45.595Z"
   },
   {
    "duration": 15,
    "start_time": "2022-04-02T09:22:46.014Z"
   },
   {
    "duration": 9,
    "start_time": "2022-04-02T09:22:47.346Z"
   },
   {
    "duration": 9,
    "start_time": "2022-04-02T09:22:47.916Z"
   },
   {
    "duration": 94,
    "start_time": "2022-04-02T09:22:48.533Z"
   },
   {
    "duration": 109,
    "start_time": "2022-04-02T09:22:48.946Z"
   },
   {
    "duration": 7,
    "start_time": "2022-04-02T09:22:49.468Z"
   },
   {
    "duration": 81,
    "start_time": "2022-04-02T09:22:51.548Z"
   },
   {
    "duration": 20,
    "start_time": "2022-04-02T09:22:52.362Z"
   },
   {
    "duration": 12,
    "start_time": "2022-04-02T09:22:54.543Z"
   },
   {
    "duration": 12,
    "start_time": "2022-04-02T09:22:55.444Z"
   },
   {
    "duration": 11,
    "start_time": "2022-04-02T09:22:56.345Z"
   },
   {
    "duration": 146,
    "start_time": "2022-04-02T09:22:57.768Z"
   },
   {
    "duration": 145,
    "start_time": "2022-04-02T09:22:57.976Z"
   },
   {
    "duration": 125,
    "start_time": "2022-04-02T09:22:58.412Z"
   },
   {
    "duration": 122,
    "start_time": "2022-04-02T09:22:58.645Z"
   },
   {
    "duration": 23,
    "start_time": "2022-04-02T09:23:01.752Z"
   },
   {
    "duration": 4,
    "start_time": "2022-04-02T09:23:03.569Z"
   },
   {
    "duration": 3,
    "start_time": "2022-04-02T09:23:04.094Z"
   },
   {
    "duration": 15,
    "start_time": "2022-04-02T09:23:05.178Z"
   },
   {
    "duration": 1395,
    "start_time": "2022-04-02T09:23:12.649Z"
   },
   {
    "duration": 4,
    "start_time": "2022-04-02T09:23:15.183Z"
   },
   {
    "duration": 5,
    "start_time": "2022-04-02T09:23:16.718Z"
   },
   {
    "duration": 17,
    "start_time": "2022-04-02T09:23:17.578Z"
   },
   {
    "duration": 23,
    "start_time": "2022-04-02T09:24:04.644Z"
   },
   {
    "duration": 18,
    "start_time": "2022-04-02T09:24:17.976Z"
   },
   {
    "duration": 1130,
    "start_time": "2022-04-02T09:26:13.013Z"
   },
   {
    "duration": 1392,
    "start_time": "2022-04-02T09:26:14.147Z"
   },
   {
    "duration": 4,
    "start_time": "2022-04-02T09:26:15.542Z"
   },
   {
    "duration": 22,
    "start_time": "2022-04-02T09:26:16.224Z"
   },
   {
    "duration": 412,
    "start_time": "2022-04-02T09:26:16.840Z"
   },
   {
    "duration": 5,
    "start_time": "2022-04-02T09:27:14.965Z"
   },
   {
    "duration": 1177,
    "start_time": "2022-04-03T06:54:17.381Z"
   },
   {
    "duration": 275,
    "start_time": "2022-04-03T06:54:18.560Z"
   },
   {
    "duration": 15,
    "start_time": "2022-04-03T06:54:18.837Z"
   },
   {
    "duration": 93,
    "start_time": "2022-04-03T06:54:18.855Z"
   },
   {
    "duration": 12,
    "start_time": "2022-04-03T06:54:18.949Z"
   },
   {
    "duration": 353,
    "start_time": "2022-04-03T06:54:18.962Z"
   },
   {
    "duration": 25,
    "start_time": "2022-04-03T06:54:19.317Z"
   },
   {
    "duration": 8,
    "start_time": "2022-04-03T06:54:19.343Z"
   },
   {
    "duration": 3,
    "start_time": "2022-04-03T06:54:19.353Z"
   },
   {
    "duration": 4,
    "start_time": "2022-04-03T06:54:19.358Z"
   },
   {
    "duration": 10,
    "start_time": "2022-04-03T06:54:19.363Z"
   },
   {
    "duration": 6,
    "start_time": "2022-04-03T06:54:19.374Z"
   },
   {
    "duration": 6,
    "start_time": "2022-04-03T06:54:19.382Z"
   },
   {
    "duration": 44,
    "start_time": "2022-04-03T06:54:19.390Z"
   },
   {
    "duration": 4,
    "start_time": "2022-04-03T06:54:19.436Z"
   },
   {
    "duration": 4,
    "start_time": "2022-04-03T06:55:03.397Z"
   },
   {
    "duration": 4,
    "start_time": "2022-04-03T07:30:05.081Z"
   },
   {
    "duration": 280,
    "start_time": "2022-04-03T07:30:05.087Z"
   },
   {
    "duration": 15,
    "start_time": "2022-04-03T07:30:05.368Z"
   },
   {
    "duration": 94,
    "start_time": "2022-04-03T07:30:05.385Z"
   },
   {
    "duration": 13,
    "start_time": "2022-04-03T07:30:05.480Z"
   },
   {
    "duration": 346,
    "start_time": "2022-04-03T07:30:05.495Z"
   },
   {
    "duration": 17,
    "start_time": "2022-04-03T07:30:05.842Z"
   },
   {
    "duration": 7,
    "start_time": "2022-04-03T07:30:05.861Z"
   },
   {
    "duration": 4,
    "start_time": "2022-04-03T07:30:05.870Z"
   },
   {
    "duration": 12,
    "start_time": "2022-04-03T07:30:05.875Z"
   },
   {
    "duration": 22,
    "start_time": "2022-04-03T07:30:05.889Z"
   },
   {
    "duration": 23,
    "start_time": "2022-04-03T07:30:05.913Z"
   },
   {
    "duration": 15,
    "start_time": "2022-04-03T07:30:05.937Z"
   },
   {
    "duration": 8,
    "start_time": "2022-04-03T07:30:05.954Z"
   },
   {
    "duration": 7,
    "start_time": "2022-04-03T07:30:05.964Z"
   },
   {
    "duration": 18,
    "start_time": "2022-04-03T07:30:05.972Z"
   },
   {
    "duration": 9,
    "start_time": "2022-04-03T07:30:05.991Z"
   },
   {
    "duration": 35,
    "start_time": "2022-04-03T07:30:06.002Z"
   },
   {
    "duration": 119,
    "start_time": "2022-04-03T07:30:06.038Z"
   },
   {
    "duration": 113,
    "start_time": "2022-04-03T07:30:06.159Z"
   },
   {
    "duration": 7,
    "start_time": "2022-04-03T07:30:06.274Z"
   },
   {
    "duration": 103,
    "start_time": "2022-04-03T07:30:06.282Z"
   },
   {
    "duration": 21,
    "start_time": "2022-04-03T07:30:06.387Z"
   },
   {
    "duration": 26,
    "start_time": "2022-04-03T07:30:06.411Z"
   },
   {
    "duration": 13,
    "start_time": "2022-04-03T07:30:06.439Z"
   },
   {
    "duration": 11,
    "start_time": "2022-04-03T07:30:06.454Z"
   },
   {
    "duration": 1531,
    "start_time": "2022-04-03T07:30:06.467Z"
   },
   {
    "duration": 167,
    "start_time": "2022-04-03T07:30:08.000Z"
   },
   {
    "duration": 139,
    "start_time": "2022-04-03T07:30:08.169Z"
   },
   {
    "duration": 197,
    "start_time": "2022-04-03T07:30:08.310Z"
   },
   {
    "duration": 116,
    "start_time": "2022-04-03T07:30:08.509Z"
   },
   {
    "duration": 0,
    "start_time": "2022-04-03T07:30:08.627Z"
   },
   {
    "duration": 0,
    "start_time": "2022-04-03T07:30:08.628Z"
   },
   {
    "duration": 0,
    "start_time": "2022-04-03T07:30:08.633Z"
   },
   {
    "duration": 11,
    "start_time": "2022-04-03T07:32:00.074Z"
   },
   {
    "duration": 12,
    "start_time": "2022-04-03T07:32:37.420Z"
   },
   {
    "duration": 19,
    "start_time": "2022-04-03T07:32:46.554Z"
   },
   {
    "duration": 1138,
    "start_time": "2022-04-03T07:33:02.698Z"
   },
   {
    "duration": 269,
    "start_time": "2022-04-03T07:33:03.838Z"
   },
   {
    "duration": 25,
    "start_time": "2022-04-03T07:33:04.109Z"
   },
   {
    "duration": 81,
    "start_time": "2022-04-03T07:33:04.136Z"
   },
   {
    "duration": 17,
    "start_time": "2022-04-03T07:33:04.219Z"
   },
   {
    "duration": 342,
    "start_time": "2022-04-03T07:33:04.237Z"
   },
   {
    "duration": 18,
    "start_time": "2022-04-03T07:33:04.580Z"
   },
   {
    "duration": 7,
    "start_time": "2022-04-03T07:33:04.600Z"
   },
   {
    "duration": 4,
    "start_time": "2022-04-03T07:33:04.608Z"
   },
   {
    "duration": 3,
    "start_time": "2022-04-03T07:33:04.634Z"
   },
   {
    "duration": 9,
    "start_time": "2022-04-03T07:33:04.639Z"
   },
   {
    "duration": 7,
    "start_time": "2022-04-03T07:33:04.650Z"
   },
   {
    "duration": 7,
    "start_time": "2022-04-03T07:33:04.658Z"
   },
   {
    "duration": 10,
    "start_time": "2022-04-03T07:33:04.666Z"
   },
   {
    "duration": 8,
    "start_time": "2022-04-03T07:33:04.678Z"
   },
   {
    "duration": 47,
    "start_time": "2022-04-03T07:33:04.688Z"
   },
   {
    "duration": 10,
    "start_time": "2022-04-03T07:33:04.736Z"
   },
   {
    "duration": 11,
    "start_time": "2022-04-03T07:33:04.747Z"
   },
   {
    "duration": 131,
    "start_time": "2022-04-03T07:33:04.760Z"
   },
   {
    "duration": 118,
    "start_time": "2022-04-03T07:33:04.893Z"
   },
   {
    "duration": 20,
    "start_time": "2022-04-03T07:33:05.013Z"
   },
   {
    "duration": 78,
    "start_time": "2022-04-03T07:33:05.035Z"
   },
   {
    "duration": 34,
    "start_time": "2022-04-03T07:33:05.115Z"
   },
   {
    "duration": 10,
    "start_time": "2022-04-03T07:33:05.151Z"
   },
   {
    "duration": 12,
    "start_time": "2022-04-03T07:33:05.162Z"
   },
   {
    "duration": 11,
    "start_time": "2022-04-03T07:33:05.175Z"
   },
   {
    "duration": 488,
    "start_time": "2022-04-03T07:33:05.187Z"
   },
   {
    "duration": 161,
    "start_time": "2022-04-03T07:33:05.678Z"
   },
   {
    "duration": 130,
    "start_time": "2022-04-03T07:33:05.841Z"
   },
   {
    "duration": 121,
    "start_time": "2022-04-03T07:33:05.973Z"
   },
   {
    "duration": 112,
    "start_time": "2022-04-03T07:33:06.096Z"
   },
   {
    "duration": 3,
    "start_time": "2022-04-03T07:34:38.040Z"
   },
   {
    "duration": 3,
    "start_time": "2022-04-03T07:34:39.369Z"
   },
   {
    "duration": 20,
    "start_time": "2022-04-03T07:34:45.674Z"
   },
   {
    "duration": 11,
    "start_time": "2022-04-03T07:35:40.005Z"
   },
   {
    "duration": 11,
    "start_time": "2022-04-03T07:35:56.266Z"
   },
   {
    "duration": 25,
    "start_time": "2022-04-03T07:36:08.269Z"
   },
   {
    "duration": 6,
    "start_time": "2022-04-03T07:36:23.485Z"
   },
   {
    "duration": 103,
    "start_time": "2022-04-03T07:36:24.354Z"
   },
   {
    "duration": 30,
    "start_time": "2022-04-03T07:36:28.505Z"
   },
   {
    "duration": 18,
    "start_time": "2022-04-03T07:36:37.517Z"
   },
   {
    "duration": 10,
    "start_time": "2022-04-03T07:36:38.533Z"
   },
   {
    "duration": 25,
    "start_time": "2022-04-03T07:38:06.353Z"
   },
   {
    "duration": 5,
    "start_time": "2022-04-03T07:38:23.745Z"
   },
   {
    "duration": 22,
    "start_time": "2022-04-03T07:40:35.465Z"
   },
   {
    "duration": 12,
    "start_time": "2022-04-03T07:40:58.989Z"
   },
   {
    "duration": 8,
    "start_time": "2022-04-03T07:41:09.579Z"
   },
   {
    "duration": 1123,
    "start_time": "2022-04-03T07:55:56.690Z"
   },
   {
    "duration": 275,
    "start_time": "2022-04-03T07:55:57.815Z"
   },
   {
    "duration": 17,
    "start_time": "2022-04-03T07:55:58.092Z"
   },
   {
    "duration": 98,
    "start_time": "2022-04-03T07:55:58.111Z"
   },
   {
    "duration": 22,
    "start_time": "2022-04-03T07:55:58.210Z"
   },
   {
    "duration": 340,
    "start_time": "2022-04-03T07:55:58.234Z"
   },
   {
    "duration": 17,
    "start_time": "2022-04-03T07:55:58.575Z"
   },
   {
    "duration": 7,
    "start_time": "2022-04-03T07:55:58.593Z"
   },
   {
    "duration": 3,
    "start_time": "2022-04-03T07:55:58.601Z"
   },
   {
    "duration": 5,
    "start_time": "2022-04-03T07:55:58.606Z"
   },
   {
    "duration": 25,
    "start_time": "2022-04-03T07:55:58.612Z"
   },
   {
    "duration": 8,
    "start_time": "2022-04-03T07:55:58.638Z"
   },
   {
    "duration": 7,
    "start_time": "2022-04-03T07:55:58.647Z"
   },
   {
    "duration": 5,
    "start_time": "2022-04-03T07:55:58.656Z"
   },
   {
    "duration": 5,
    "start_time": "2022-04-03T07:55:58.663Z"
   },
   {
    "duration": 15,
    "start_time": "2022-04-03T07:55:58.670Z"
   },
   {
    "duration": 47,
    "start_time": "2022-04-03T07:55:58.687Z"
   },
   {
    "duration": 9,
    "start_time": "2022-04-03T07:55:58.735Z"
   },
   {
    "duration": 117,
    "start_time": "2022-04-03T07:55:58.745Z"
   },
   {
    "duration": 117,
    "start_time": "2022-04-03T07:55:58.864Z"
   },
   {
    "duration": 6,
    "start_time": "2022-04-03T07:55:58.983Z"
   },
   {
    "duration": 99,
    "start_time": "2022-04-03T07:55:58.991Z"
   },
   {
    "duration": 20,
    "start_time": "2022-04-03T07:55:59.091Z"
   },
   {
    "duration": 23,
    "start_time": "2022-04-03T07:55:59.112Z"
   },
   {
    "duration": 11,
    "start_time": "2022-04-03T07:55:59.136Z"
   },
   {
    "duration": 11,
    "start_time": "2022-04-03T07:55:59.149Z"
   },
   {
    "duration": 449,
    "start_time": "2022-04-03T07:55:59.162Z"
   },
   {
    "duration": 154,
    "start_time": "2022-04-03T07:55:59.615Z"
   },
   {
    "duration": 134,
    "start_time": "2022-04-03T07:55:59.770Z"
   },
   {
    "duration": 121,
    "start_time": "2022-04-03T07:55:59.906Z"
   },
   {
    "duration": 112,
    "start_time": "2022-04-03T07:56:00.032Z"
   },
   {
    "duration": 0,
    "start_time": "2022-04-03T07:56:00.146Z"
   },
   {
    "duration": 0,
    "start_time": "2022-04-03T07:56:00.147Z"
   },
   {
    "duration": 0,
    "start_time": "2022-04-03T07:56:00.149Z"
   },
   {
    "duration": 0,
    "start_time": "2022-04-03T07:56:00.150Z"
   },
   {
    "duration": 0,
    "start_time": "2022-04-03T07:56:00.151Z"
   },
   {
    "duration": 0,
    "start_time": "2022-04-03T07:56:00.152Z"
   },
   {
    "duration": 0,
    "start_time": "2022-04-03T07:56:00.153Z"
   },
   {
    "duration": 0,
    "start_time": "2022-04-03T07:56:00.154Z"
   },
   {
    "duration": 0,
    "start_time": "2022-04-03T07:56:00.155Z"
   },
   {
    "duration": 0,
    "start_time": "2022-04-03T07:56:00.156Z"
   },
   {
    "duration": 0,
    "start_time": "2022-04-03T07:56:00.157Z"
   },
   {
    "duration": 0,
    "start_time": "2022-04-03T07:56:00.158Z"
   },
   {
    "duration": 0,
    "start_time": "2022-04-03T07:56:00.159Z"
   },
   {
    "duration": 0,
    "start_time": "2022-04-03T07:56:00.161Z"
   },
   {
    "duration": 0,
    "start_time": "2022-04-03T07:56:00.162Z"
   },
   {
    "duration": 0,
    "start_time": "2022-04-03T07:56:00.269Z"
   },
   {
    "duration": 0,
    "start_time": "2022-04-03T07:56:00.270Z"
   },
   {
    "duration": 0,
    "start_time": "2022-04-03T07:56:00.272Z"
   },
   {
    "duration": 0,
    "start_time": "2022-04-03T07:56:00.273Z"
   },
   {
    "duration": 0,
    "start_time": "2022-04-03T07:56:00.274Z"
   },
   {
    "duration": 0,
    "start_time": "2022-04-03T07:56:00.275Z"
   },
   {
    "duration": 0,
    "start_time": "2022-04-03T07:56:00.276Z"
   },
   {
    "duration": 4,
    "start_time": "2022-04-03T07:56:08.822Z"
   },
   {
    "duration": 3,
    "start_time": "2022-04-03T07:56:08.830Z"
   },
   {
    "duration": 20,
    "start_time": "2022-04-03T07:56:08.834Z"
   },
   {
    "duration": 1780,
    "start_time": "2022-04-03T07:56:08.856Z"
   },
   {
    "duration": 6262,
    "start_time": "2022-04-03T07:56:10.638Z"
   },
   {
    "duration": 804,
    "start_time": "2022-04-03T07:56:16.902Z"
   },
   {
    "duration": 1778,
    "start_time": "2022-04-03T07:56:17.707Z"
   },
   {
    "duration": 18122,
    "start_time": "2022-04-03T07:56:19.487Z"
   },
   {
    "duration": 775,
    "start_time": "2022-04-03T07:56:37.610Z"
   },
   {
    "duration": 3,
    "start_time": "2022-04-03T07:56:38.387Z"
   },
   {
    "duration": 99460,
    "start_time": "2022-04-03T07:56:38.391Z"
   },
   {
    "duration": 148770,
    "start_time": "2022-04-03T07:58:17.854Z"
   },
   {
    "duration": 30080,
    "start_time": "2022-04-03T08:00:46.625Z"
   },
   {
    "duration": 103595,
    "start_time": "2022-04-03T08:01:16.707Z"
   },
   {
    "duration": 154248,
    "start_time": "2022-04-03T08:03:00.304Z"
   },
   {
    "duration": 10472,
    "start_time": "2022-04-03T08:05:34.553Z"
   },
   {
    "duration": 3,
    "start_time": "2022-04-03T08:05:45.033Z"
   },
   {
    "duration": 1398,
    "start_time": "2022-04-03T08:05:45.039Z"
   },
   {
    "duration": 1593,
    "start_time": "2022-04-03T08:05:46.440Z"
   },
   {
    "duration": 4,
    "start_time": "2022-04-03T08:05:48.036Z"
   },
   {
    "duration": 9,
    "start_time": "2022-04-03T08:05:48.042Z"
   },
   {
    "duration": 396,
    "start_time": "2022-04-03T08:05:48.053Z"
   },
   {
    "duration": 4,
    "start_time": "2022-04-03T08:06:33.346Z"
   },
   {
    "duration": 9,
    "start_time": "2022-04-03T08:06:44.843Z"
   },
   {
    "duration": 4,
    "start_time": "2022-04-03T08:06:49.062Z"
   },
   {
    "duration": 1566,
    "start_time": "2022-04-06T07:38:52.055Z"
   },
   {
    "duration": 336,
    "start_time": "2022-04-06T07:38:55.904Z"
   },
   {
    "duration": 25,
    "start_time": "2022-04-06T07:38:56.327Z"
   },
   {
    "duration": 106,
    "start_time": "2022-04-06T07:38:57.153Z"
   },
   {
    "duration": 19,
    "start_time": "2022-04-06T07:38:57.619Z"
   },
   {
    "duration": 409,
    "start_time": "2022-04-06T07:38:58.687Z"
   },
   {
    "duration": 25,
    "start_time": "2022-04-06T07:38:59.254Z"
   },
   {
    "duration": 12,
    "start_time": "2022-04-06T07:39:01.735Z"
   },
   {
    "duration": 4,
    "start_time": "2022-04-06T07:39:03.314Z"
   },
   {
    "duration": 5,
    "start_time": "2022-04-06T07:39:04.168Z"
   },
   {
    "duration": 9,
    "start_time": "2022-04-06T07:39:06.237Z"
   },
   {
    "duration": 9,
    "start_time": "2022-04-06T07:39:06.262Z"
   },
   {
    "duration": 9,
    "start_time": "2022-04-06T07:39:06.274Z"
   },
   {
    "duration": 8,
    "start_time": "2022-04-06T07:39:06.285Z"
   },
   {
    "duration": 6,
    "start_time": "2022-04-06T07:39:06.294Z"
   },
   {
    "duration": 19,
    "start_time": "2022-04-06T07:39:07.501Z"
   },
   {
    "duration": 12,
    "start_time": "2022-04-06T07:39:09.463Z"
   },
   {
    "duration": 4,
    "start_time": "2022-04-06T07:44:45.049Z"
   },
   {
    "duration": 20,
    "start_time": "2022-04-06T07:44:51.764Z"
   },
   {
    "duration": 4,
    "start_time": "2022-04-06T07:45:18.320Z"
   },
   {
    "duration": 9,
    "start_time": "2022-04-06T07:45:19.291Z"
   },
   {
    "duration": 10,
    "start_time": "2022-04-06T07:45:19.488Z"
   },
   {
    "duration": 11,
    "start_time": "2022-04-06T07:45:19.723Z"
   },
   {
    "duration": 8,
    "start_time": "2022-04-06T07:45:19.939Z"
   },
   {
    "duration": 6,
    "start_time": "2022-04-06T07:45:20.270Z"
   },
   {
    "duration": 20,
    "start_time": "2022-04-06T07:45:22.195Z"
   },
   {
    "duration": 18,
    "start_time": "2022-04-06T07:46:32.138Z"
   },
   {
    "duration": 12,
    "start_time": "2022-04-06T07:47:48.642Z"
   },
   {
    "duration": 20,
    "start_time": "2022-04-06T07:48:14.173Z"
   },
   {
    "duration": 139,
    "start_time": "2022-04-06T07:49:40.445Z"
   },
   {
    "duration": 14,
    "start_time": "2022-04-06T07:49:52.932Z"
   },
   {
    "duration": 17,
    "start_time": "2022-04-06T07:50:46.635Z"
   },
   {
    "duration": 13,
    "start_time": "2022-04-06T07:51:51.455Z"
   },
   {
    "duration": 94,
    "start_time": "2022-04-06T07:52:21.596Z"
   },
   {
    "duration": 14,
    "start_time": "2022-04-06T07:52:27.599Z"
   },
   {
    "duration": 12,
    "start_time": "2022-04-06T07:54:50.920Z"
   },
   {
    "duration": 14,
    "start_time": "2022-04-06T07:54:55.281Z"
   },
   {
    "duration": 5,
    "start_time": "2022-04-06T07:55:13.986Z"
   },
   {
    "duration": 13,
    "start_time": "2022-04-06T07:56:04.151Z"
   },
   {
    "duration": 672,
    "start_time": "2022-04-06T07:56:16.647Z"
   },
   {
    "duration": 38,
    "start_time": "2022-04-06T07:59:36.076Z"
   },
   {
    "duration": 92,
    "start_time": "2022-04-06T08:00:09.048Z"
   },
   {
    "duration": 23,
    "start_time": "2022-04-06T08:01:03.546Z"
   },
   {
    "duration": 22,
    "start_time": "2022-04-06T08:01:40.279Z"
   },
   {
    "duration": 21,
    "start_time": "2022-04-06T08:02:22.559Z"
   },
   {
    "duration": 21,
    "start_time": "2022-04-06T08:02:59.964Z"
   },
   {
    "duration": 23,
    "start_time": "2022-04-06T08:03:19.339Z"
   },
   {
    "duration": 174,
    "start_time": "2022-04-06T08:04:23.274Z"
   },
   {
    "duration": 175,
    "start_time": "2022-04-06T08:04:40.709Z"
   },
   {
    "duration": 169,
    "start_time": "2022-04-06T08:04:46.808Z"
   },
   {
    "duration": 144,
    "start_time": "2022-04-06T08:04:57.742Z"
   },
   {
    "duration": 229,
    "start_time": "2022-04-06T08:05:17.351Z"
   },
   {
    "duration": 154,
    "start_time": "2022-04-06T08:05:21.594Z"
   },
   {
    "duration": 145,
    "start_time": "2022-04-06T08:05:49.486Z"
   },
   {
    "duration": 142,
    "start_time": "2022-04-06T08:06:27.646Z"
   },
   {
    "duration": 139,
    "start_time": "2022-04-06T08:06:48.839Z"
   },
   {
    "duration": 16,
    "start_time": "2022-04-06T08:07:41.900Z"
   },
   {
    "duration": 28,
    "start_time": "2022-04-06T08:07:54.888Z"
   },
   {
    "duration": 134,
    "start_time": "2022-04-06T08:09:15.110Z"
   },
   {
    "duration": 204,
    "start_time": "2022-04-06T08:10:14.889Z"
   },
   {
    "duration": 184,
    "start_time": "2022-04-06T08:10:39.286Z"
   },
   {
    "duration": 209,
    "start_time": "2022-04-06T08:10:50.569Z"
   },
   {
    "duration": 234,
    "start_time": "2022-04-06T08:11:24.845Z"
   },
   {
    "duration": 14,
    "start_time": "2022-04-06T08:16:12.421Z"
   },
   {
    "duration": 5,
    "start_time": "2022-04-06T08:16:23.531Z"
   },
   {
    "duration": 4,
    "start_time": "2022-04-06T08:16:24.450Z"
   },
   {
    "duration": 34,
    "start_time": "2022-04-06T08:16:25.314Z"
   },
   {
    "duration": 438,
    "start_time": "2022-04-06T08:16:34.464Z"
   },
   {
    "duration": 2211,
    "start_time": "2022-04-06T08:16:39.928Z"
   },
   {
    "duration": 997,
    "start_time": "2022-04-06T08:16:48.156Z"
   },
   {
    "duration": 448,
    "start_time": "2022-04-06T08:17:37.779Z"
   },
   {
    "duration": 464,
    "start_time": "2022-04-06T08:18:29.113Z"
   },
   {
    "duration": 472,
    "start_time": "2022-04-06T08:18:44.312Z"
   },
   {
    "duration": 14,
    "start_time": "2022-04-06T08:18:56.095Z"
   },
   {
    "duration": 460,
    "start_time": "2022-04-06T08:19:59.822Z"
   },
   {
    "duration": 5,
    "start_time": "2022-04-06T08:20:01.176Z"
   },
   {
    "duration": 126105,
    "start_time": "2022-04-06T08:20:56.108Z"
   },
   {
    "duration": 21149,
    "start_time": "2022-04-06T08:23:06.339Z"
   },
   {
    "duration": 5,
    "start_time": "2022-04-06T08:25:03.688Z"
   },
   {
    "duration": 2252,
    "start_time": "2022-04-06T08:25:08.002Z"
   },
   {
    "duration": 127211,
    "start_time": "2022-04-06T08:25:16.338Z"
   },
   {
    "duration": 1331,
    "start_time": "2022-04-06T08:29:13.146Z"
   },
   {
    "duration": 1246,
    "start_time": "2022-04-06T08:36:42.928Z"
   },
   {
    "duration": 270,
    "start_time": "2022-04-06T08:36:47.810Z"
   },
   {
    "duration": 99,
    "start_time": "2022-04-06T08:37:27.878Z"
   },
   {
    "duration": 454,
    "start_time": "2022-04-06T08:38:30.985Z"
   },
   {
    "duration": 449,
    "start_time": "2022-04-06T08:38:36.866Z"
   },
   {
    "duration": 1721,
    "start_time": "2022-04-06T08:39:05.656Z"
   },
   {
    "duration": 1768,
    "start_time": "2022-04-06T08:39:36.506Z"
   },
   {
    "duration": 1584,
    "start_time": "2022-04-06T08:41:44.853Z"
   },
   {
    "duration": 338,
    "start_time": "2022-04-06T08:41:46.440Z"
   },
   {
    "duration": 25,
    "start_time": "2022-04-06T08:41:46.780Z"
   },
   {
    "duration": 120,
    "start_time": "2022-04-06T08:41:46.808Z"
   },
   {
    "duration": 19,
    "start_time": "2022-04-06T08:41:46.930Z"
   },
   {
    "duration": 425,
    "start_time": "2022-04-06T08:41:46.967Z"
   },
   {
    "duration": 27,
    "start_time": "2022-04-06T08:41:47.394Z"
   },
   {
    "duration": 12,
    "start_time": "2022-04-06T08:41:47.423Z"
   },
   {
    "duration": 31,
    "start_time": "2022-04-06T08:41:47.437Z"
   },
   {
    "duration": 4,
    "start_time": "2022-04-06T08:41:47.472Z"
   },
   {
    "duration": 8,
    "start_time": "2022-04-06T08:41:47.479Z"
   },
   {
    "duration": 21,
    "start_time": "2022-04-06T08:41:47.489Z"
   },
   {
    "duration": 12,
    "start_time": "2022-04-06T08:41:47.512Z"
   },
   {
    "duration": 46,
    "start_time": "2022-04-06T08:41:47.526Z"
   },
   {
    "duration": 20,
    "start_time": "2022-04-06T08:41:47.574Z"
   },
   {
    "duration": 209,
    "start_time": "2022-04-06T08:41:47.596Z"
   },
   {
    "duration": 9,
    "start_time": "2022-04-06T08:41:47.807Z"
   },
   {
    "duration": 204,
    "start_time": "2022-04-06T08:41:47.818Z"
   },
   {
    "duration": 46,
    "start_time": "2022-04-06T08:41:48.025Z"
   },
   {
    "duration": 16,
    "start_time": "2022-04-06T08:41:48.073Z"
   },
   {
    "duration": 438,
    "start_time": "2022-04-06T08:41:48.092Z"
   },
   {
    "duration": 17,
    "start_time": "2022-04-06T08:41:48.533Z"
   },
   {
    "duration": 165,
    "start_time": "2022-04-06T08:41:48.569Z"
   },
   {
    "duration": 17,
    "start_time": "2022-04-06T08:41:48.736Z"
   },
   {
    "duration": 148,
    "start_time": "2022-04-06T08:41:48.767Z"
   },
   {
    "duration": 259,
    "start_time": "2022-04-06T08:41:48.919Z"
   },
   {
    "duration": 262,
    "start_time": "2022-04-06T08:41:49.180Z"
   },
   {
    "duration": 276,
    "start_time": "2022-04-06T08:41:49.448Z"
   },
   {
    "duration": 219,
    "start_time": "2022-04-06T08:41:49.727Z"
   },
   {
    "duration": 38,
    "start_time": "2022-04-06T08:41:49.948Z"
   },
   {
    "duration": 154,
    "start_time": "2022-04-06T08:41:49.988Z"
   },
   {
    "duration": 5,
    "start_time": "2022-04-06T08:41:50.144Z"
   },
   {
    "duration": 18,
    "start_time": "2022-04-06T08:41:50.151Z"
   },
   {
    "duration": 26,
    "start_time": "2022-04-06T08:41:50.171Z"
   },
   {
    "duration": 2126,
    "start_time": "2022-04-06T08:41:50.200Z"
   },
   {
    "duration": 7893,
    "start_time": "2022-04-06T08:41:52.328Z"
   },
   {
    "duration": 446,
    "start_time": "2022-04-06T08:42:00.223Z"
   },
   {
    "duration": 2280,
    "start_time": "2022-04-06T08:42:00.671Z"
   },
   {
    "duration": 24381,
    "start_time": "2022-04-06T08:42:02.953Z"
   },
   {
    "duration": 918,
    "start_time": "2022-04-06T08:42:27.338Z"
   },
   {
    "duration": 0,
    "start_time": "2022-04-06T08:42:28.260Z"
   },
   {
    "duration": 0,
    "start_time": "2022-04-06T08:42:28.268Z"
   },
   {
    "duration": 0,
    "start_time": "2022-04-06T08:42:28.270Z"
   },
   {
    "duration": 0,
    "start_time": "2022-04-06T08:42:28.272Z"
   },
   {
    "duration": 0,
    "start_time": "2022-04-06T08:42:28.275Z"
   },
   {
    "duration": 0,
    "start_time": "2022-04-06T08:42:28.277Z"
   },
   {
    "duration": 0,
    "start_time": "2022-04-06T08:42:28.280Z"
   },
   {
    "duration": 0,
    "start_time": "2022-04-06T08:42:28.282Z"
   },
   {
    "duration": 0,
    "start_time": "2022-04-06T08:42:28.284Z"
   },
   {
    "duration": 0,
    "start_time": "2022-04-06T08:42:28.287Z"
   },
   {
    "duration": 0,
    "start_time": "2022-04-06T08:42:28.289Z"
   },
   {
    "duration": 0,
    "start_time": "2022-04-06T08:42:28.291Z"
   },
   {
    "duration": 1,
    "start_time": "2022-04-06T08:42:28.293Z"
   },
   {
    "duration": 478,
    "start_time": "2022-04-06T08:43:16.917Z"
   },
   {
    "duration": 5,
    "start_time": "2022-04-06T08:43:21.320Z"
   },
   {
    "duration": 130614,
    "start_time": "2022-04-06T08:43:22.619Z"
   },
   {
    "duration": 191977,
    "start_time": "2022-04-06T08:45:33.235Z"
   },
   {
    "duration": 20627,
    "start_time": "2022-04-06T08:48:45.215Z"
   },
   {
    "duration": 131342,
    "start_time": "2022-04-06T08:49:05.846Z"
   },
   {
    "duration": 196442,
    "start_time": "2022-04-06T08:51:17.191Z"
   },
   {
    "duration": 6515,
    "start_time": "2022-04-06T08:54:33.636Z"
   },
   {
    "duration": 4,
    "start_time": "2022-04-06T08:54:40.153Z"
   },
   {
    "duration": 1201,
    "start_time": "2022-04-06T08:54:40.168Z"
   },
   {
    "duration": 1597,
    "start_time": "2022-04-06T08:54:41.373Z"
   },
   {
    "duration": 5,
    "start_time": "2022-04-06T08:54:42.973Z"
   },
   {
    "duration": 89,
    "start_time": "2022-04-06T08:54:42.981Z"
   },
   {
    "duration": 208,
    "start_time": "2022-04-06T08:54:43.072Z"
   },
   {
    "duration": 162,
    "start_time": "2022-04-06T08:54:59.808Z"
   },
   {
    "duration": 2338,
    "start_time": "2022-04-06T09:16:58.360Z"
   },
   {
    "duration": 868,
    "start_time": "2022-04-06T09:23:14.479Z"
   },
   {
    "duration": 6,
    "start_time": "2022-04-06T09:23:20.646Z"
   },
   {
    "duration": 21,
    "start_time": "2022-04-06T09:29:33.025Z"
   },
   {
    "duration": 91,
    "start_time": "2022-04-06T09:31:58.251Z"
   },
   {
    "duration": 99,
    "start_time": "2022-04-06T09:32:05.467Z"
   },
   {
    "duration": 108,
    "start_time": "2022-04-06T09:32:16.055Z"
   },
   {
    "duration": 100,
    "start_time": "2022-04-06T09:32:21.449Z"
   },
   {
    "duration": 27,
    "start_time": "2022-04-06T09:40:23.089Z"
   },
   {
    "duration": 19,
    "start_time": "2022-04-06T09:40:43.521Z"
   },
   {
    "duration": 26,
    "start_time": "2022-04-06T09:41:15.859Z"
   },
   {
    "duration": 12,
    "start_time": "2022-04-06T09:43:32.958Z"
   },
   {
    "duration": 19,
    "start_time": "2022-04-06T09:43:40.403Z"
   },
   {
    "duration": 24,
    "start_time": "2022-04-06T09:44:00.720Z"
   },
   {
    "duration": 10,
    "start_time": "2022-04-06T09:45:29.271Z"
   },
   {
    "duration": 22,
    "start_time": "2022-04-06T09:45:32.504Z"
   },
   {
    "duration": 12,
    "start_time": "2022-04-06T09:47:19.868Z"
   },
   {
    "duration": 24,
    "start_time": "2022-04-06T09:48:00.661Z"
   },
   {
    "duration": 6,
    "start_time": "2022-04-06T09:48:15.408Z"
   },
   {
    "duration": 323,
    "start_time": "2022-04-06T09:48:17.014Z"
   },
   {
    "duration": 38,
    "start_time": "2022-04-06T09:48:17.339Z"
   },
   {
    "duration": 99,
    "start_time": "2022-04-06T09:48:17.784Z"
   },
   {
    "duration": 19,
    "start_time": "2022-04-06T09:48:18.551Z"
   },
   {
    "duration": 405,
    "start_time": "2022-04-06T09:48:19.634Z"
   },
   {
    "duration": 27,
    "start_time": "2022-04-06T09:48:20.067Z"
   },
   {
    "duration": 9,
    "start_time": "2022-04-06T09:48:23.434Z"
   },
   {
    "duration": 4,
    "start_time": "2022-04-06T09:48:24.784Z"
   },
   {
    "duration": 5,
    "start_time": "2022-04-06T09:48:26.467Z"
   },
   {
    "duration": 6,
    "start_time": "2022-04-06T09:48:26.783Z"
   },
   {
    "duration": 19,
    "start_time": "2022-04-06T09:48:28.251Z"
   },
   {
    "duration": 19,
    "start_time": "2022-04-06T09:48:29.569Z"
   },
   {
    "duration": 14,
    "start_time": "2022-04-06T09:48:30.741Z"
   },
   {
    "duration": 21,
    "start_time": "2022-04-06T09:48:30.759Z"
   },
   {
    "duration": 179,
    "start_time": "2022-04-06T09:48:32.250Z"
   },
   {
    "duration": 9,
    "start_time": "2022-04-06T09:48:32.719Z"
   },
   {
    "duration": 12,
    "start_time": "2022-04-06T09:48:33.284Z"
   },
   {
    "duration": 37,
    "start_time": "2022-04-06T09:48:33.827Z"
   },
   {
    "duration": 13,
    "start_time": "2022-04-06T09:48:34.417Z"
   },
   {
    "duration": 25,
    "start_time": "2022-04-06T09:48:35.016Z"
   },
   {
    "duration": 18,
    "start_time": "2022-04-06T09:48:42.567Z"
   },
   {
    "duration": 22,
    "start_time": "2022-04-06T09:48:44.396Z"
   },
   {
    "duration": 14,
    "start_time": "2022-04-06T09:50:37.293Z"
   },
   {
    "duration": 9,
    "start_time": "2022-04-06T09:50:44.350Z"
   },
   {
    "duration": 40,
    "start_time": "2022-04-06T09:50:47.134Z"
   },
   {
    "duration": 24,
    "start_time": "2022-04-06T09:56:15.719Z"
   },
   {
    "duration": 158,
    "start_time": "2022-04-06T09:56:18.520Z"
   },
   {
    "duration": 213,
    "start_time": "2022-04-06T14:43:47.009Z"
   },
   {
    "duration": 13,
    "start_time": "2022-04-06T14:47:02.658Z"
   },
   {
    "duration": 5,
    "start_time": "2022-04-06T14:47:07.919Z"
   },
   {
    "duration": 5,
    "start_time": "2022-04-06T14:47:19.156Z"
   },
   {
    "duration": 4,
    "start_time": "2022-04-06T14:47:24.705Z"
   },
   {
    "duration": 6,
    "start_time": "2022-04-06T14:47:49.481Z"
   },
   {
    "duration": 1776,
    "start_time": "2022-04-06T15:07:10.462Z"
   },
   {
    "duration": 340,
    "start_time": "2022-04-06T15:07:12.240Z"
   },
   {
    "duration": 26,
    "start_time": "2022-04-06T15:07:12.583Z"
   },
   {
    "duration": 123,
    "start_time": "2022-04-06T15:07:12.613Z"
   },
   {
    "duration": 21,
    "start_time": "2022-04-06T15:07:12.742Z"
   },
   {
    "duration": 432,
    "start_time": "2022-04-06T15:07:12.766Z"
   },
   {
    "duration": 47,
    "start_time": "2022-04-06T15:07:13.201Z"
   },
   {
    "duration": 17,
    "start_time": "2022-04-06T15:07:13.251Z"
   },
   {
    "duration": 4,
    "start_time": "2022-04-06T15:07:13.271Z"
   },
   {
    "duration": 19,
    "start_time": "2022-04-06T15:07:13.279Z"
   },
   {
    "duration": 10,
    "start_time": "2022-04-06T15:07:13.301Z"
   },
   {
    "duration": 50,
    "start_time": "2022-04-06T15:07:13.314Z"
   },
   {
    "duration": 34,
    "start_time": "2022-04-06T15:07:13.367Z"
   },
   {
    "duration": 41,
    "start_time": "2022-04-06T15:07:13.404Z"
   },
   {
    "duration": 21,
    "start_time": "2022-04-06T15:07:13.447Z"
   },
   {
    "duration": 208,
    "start_time": "2022-04-06T15:07:13.471Z"
   },
   {
    "duration": 10,
    "start_time": "2022-04-06T15:07:13.681Z"
   },
   {
    "duration": 18,
    "start_time": "2022-04-06T15:07:13.693Z"
   },
   {
    "duration": 60,
    "start_time": "2022-04-06T15:07:13.714Z"
   },
   {
    "duration": 15,
    "start_time": "2022-04-06T15:07:13.777Z"
   },
   {
    "duration": 56,
    "start_time": "2022-04-06T15:07:13.794Z"
   },
   {
    "duration": 16,
    "start_time": "2022-04-06T15:07:13.852Z"
   },
   {
    "duration": 426,
    "start_time": "2022-04-06T15:07:13.871Z"
   },
   {
    "duration": 16,
    "start_time": "2022-04-06T15:07:14.300Z"
   },
   {
    "duration": 164,
    "start_time": "2022-04-06T15:07:14.319Z"
   },
   {
    "duration": 15,
    "start_time": "2022-04-06T15:07:14.486Z"
   },
   {
    "duration": 155,
    "start_time": "2022-04-06T15:07:14.504Z"
   },
   {
    "duration": 262,
    "start_time": "2022-04-06T15:07:14.666Z"
   },
   {
    "duration": 268,
    "start_time": "2022-04-06T15:07:14.931Z"
   },
   {
    "duration": 297,
    "start_time": "2022-04-06T15:07:15.201Z"
   },
   {
    "duration": 203,
    "start_time": "2022-04-06T15:07:15.500Z"
   },
   {
    "duration": 24,
    "start_time": "2022-04-06T15:07:15.705Z"
   },
   {
    "duration": 184,
    "start_time": "2022-04-06T15:07:15.731Z"
   },
   {
    "duration": 4,
    "start_time": "2022-04-06T15:07:15.917Z"
   },
   {
    "duration": 19,
    "start_time": "2022-04-06T15:07:15.924Z"
   },
   {
    "duration": 38,
    "start_time": "2022-04-06T15:07:15.946Z"
   },
   {
    "duration": 69,
    "start_time": "2022-04-06T15:07:24.835Z"
   },
   {
    "duration": 8,
    "start_time": "2022-04-06T15:07:36.559Z"
   },
   {
    "duration": 1681,
    "start_time": "2022-04-06T15:19:56.935Z"
   },
   {
    "duration": 335,
    "start_time": "2022-04-06T15:19:58.618Z"
   },
   {
    "duration": 26,
    "start_time": "2022-04-06T15:19:58.955Z"
   },
   {
    "duration": 123,
    "start_time": "2022-04-06T15:19:58.984Z"
   },
   {
    "duration": 35,
    "start_time": "2022-04-06T15:19:59.109Z"
   },
   {
    "duration": 417,
    "start_time": "2022-04-06T15:19:59.146Z"
   },
   {
    "duration": 24,
    "start_time": "2022-04-06T15:19:59.565Z"
   },
   {
    "duration": 13,
    "start_time": "2022-04-06T15:19:59.591Z"
   },
   {
    "duration": 4,
    "start_time": "2022-04-06T15:19:59.606Z"
   },
   {
    "duration": 31,
    "start_time": "2022-04-06T15:19:59.614Z"
   },
   {
    "duration": 9,
    "start_time": "2022-04-06T15:19:59.647Z"
   },
   {
    "duration": 24,
    "start_time": "2022-04-06T15:19:59.658Z"
   },
   {
    "duration": 20,
    "start_time": "2022-04-06T15:19:59.685Z"
   },
   {
    "duration": 44,
    "start_time": "2022-04-06T15:19:59.707Z"
   },
   {
    "duration": 21,
    "start_time": "2022-04-06T15:19:59.753Z"
   },
   {
    "duration": 216,
    "start_time": "2022-04-06T15:19:59.776Z"
   },
   {
    "duration": 10,
    "start_time": "2022-04-06T15:19:59.994Z"
   },
   {
    "duration": 37,
    "start_time": "2022-04-06T15:20:00.006Z"
   },
   {
    "duration": 40,
    "start_time": "2022-04-06T15:20:00.045Z"
   },
   {
    "duration": 15,
    "start_time": "2022-04-06T15:20:00.088Z"
   },
   {
    "duration": 59,
    "start_time": "2022-04-06T15:20:00.105Z"
   },
   {
    "duration": 14,
    "start_time": "2022-04-06T15:20:00.167Z"
   },
   {
    "duration": 422,
    "start_time": "2022-04-06T15:20:00.184Z"
   },
   {
    "duration": 16,
    "start_time": "2022-04-06T15:20:00.609Z"
   },
   {
    "duration": 147,
    "start_time": "2022-04-06T15:20:00.643Z"
   },
   {
    "duration": 16,
    "start_time": "2022-04-06T15:20:00.792Z"
   },
   {
    "duration": 154,
    "start_time": "2022-04-06T15:20:00.810Z"
   },
   {
    "duration": 256,
    "start_time": "2022-04-06T15:20:00.970Z"
   },
   {
    "duration": 380,
    "start_time": "2022-04-06T15:20:01.229Z"
   },
   {
    "duration": 314,
    "start_time": "2022-04-06T15:20:01.612Z"
   },
   {
    "duration": 202,
    "start_time": "2022-04-06T15:20:01.928Z"
   },
   {
    "duration": 31,
    "start_time": "2022-04-06T15:20:02.132Z"
   },
   {
    "duration": 163,
    "start_time": "2022-04-06T15:20:02.165Z"
   },
   {
    "duration": 13,
    "start_time": "2022-04-06T15:20:02.330Z"
   },
   {
    "duration": 25,
    "start_time": "2022-04-06T15:20:02.345Z"
   },
   {
    "duration": 48,
    "start_time": "2022-04-06T15:20:02.372Z"
   },
   {
    "duration": 2213,
    "start_time": "2022-04-06T15:20:02.422Z"
   },
   {
    "duration": 8147,
    "start_time": "2022-04-06T15:20:04.637Z"
   },
   {
    "duration": 451,
    "start_time": "2022-04-06T15:20:12.786Z"
   },
   {
    "duration": 2300,
    "start_time": "2022-04-06T15:20:13.243Z"
   },
   {
    "duration": 22732,
    "start_time": "2022-04-06T15:20:15.545Z"
   },
   {
    "duration": 835,
    "start_time": "2022-04-06T15:20:38.280Z"
   },
   {
    "duration": 4,
    "start_time": "2022-04-06T15:20:39.118Z"
   },
   {
    "duration": 126403,
    "start_time": "2022-04-06T15:20:39.142Z"
   },
   {
    "duration": 72607,
    "start_time": "2022-04-06T15:22:45.547Z"
   },
   {
    "duration": 0,
    "start_time": "2022-04-06T15:23:58.157Z"
   },
   {
    "duration": 1,
    "start_time": "2022-04-06T15:23:58.158Z"
   },
   {
    "duration": 0,
    "start_time": "2022-04-06T15:23:58.160Z"
   },
   {
    "duration": 0,
    "start_time": "2022-04-06T15:23:58.161Z"
   },
   {
    "duration": 1,
    "start_time": "2022-04-06T15:23:58.162Z"
   },
   {
    "duration": 0,
    "start_time": "2022-04-06T15:23:58.164Z"
   },
   {
    "duration": 0,
    "start_time": "2022-04-06T15:23:58.165Z"
   },
   {
    "duration": 0,
    "start_time": "2022-04-06T15:23:58.166Z"
   },
   {
    "duration": 0,
    "start_time": "2022-04-06T15:23:58.167Z"
   },
   {
    "duration": 0,
    "start_time": "2022-04-06T15:23:58.168Z"
   },
   {
    "duration": 1873,
    "start_time": "2022-04-06T15:25:02.404Z"
   },
   {
    "duration": 343,
    "start_time": "2022-04-06T15:25:04.279Z"
   },
   {
    "duration": 37,
    "start_time": "2022-04-06T15:25:04.624Z"
   },
   {
    "duration": 113,
    "start_time": "2022-04-06T15:25:04.664Z"
   },
   {
    "duration": 19,
    "start_time": "2022-04-06T15:25:04.779Z"
   },
   {
    "duration": 443,
    "start_time": "2022-04-06T15:25:04.800Z"
   },
   {
    "duration": 25,
    "start_time": "2022-04-06T15:25:05.245Z"
   },
   {
    "duration": 12,
    "start_time": "2022-04-06T15:25:05.272Z"
   },
   {
    "duration": 13,
    "start_time": "2022-04-06T15:25:05.286Z"
   },
   {
    "duration": 15,
    "start_time": "2022-04-06T15:25:05.303Z"
   },
   {
    "duration": 25,
    "start_time": "2022-04-06T15:25:05.320Z"
   },
   {
    "duration": 26,
    "start_time": "2022-04-06T15:25:05.348Z"
   },
   {
    "duration": 22,
    "start_time": "2022-04-06T15:25:05.376Z"
   },
   {
    "duration": 50,
    "start_time": "2022-04-06T15:25:05.400Z"
   },
   {
    "duration": 22,
    "start_time": "2022-04-06T15:25:05.452Z"
   },
   {
    "duration": 201,
    "start_time": "2022-04-06T15:25:05.476Z"
   },
   {
    "duration": 10,
    "start_time": "2022-04-06T15:25:05.679Z"
   },
   {
    "duration": 18,
    "start_time": "2022-04-06T15:25:05.691Z"
   },
   {
    "duration": 63,
    "start_time": "2022-04-06T15:25:05.711Z"
   },
   {
    "duration": 13,
    "start_time": "2022-04-06T15:25:05.776Z"
   },
   {
    "duration": 52,
    "start_time": "2022-04-06T15:25:05.792Z"
   },
   {
    "duration": 17,
    "start_time": "2022-04-06T15:25:05.846Z"
   },
   {
    "duration": 431,
    "start_time": "2022-04-06T15:25:05.865Z"
   },
   {
    "duration": 16,
    "start_time": "2022-04-06T15:25:06.298Z"
   },
   {
    "duration": 159,
    "start_time": "2022-04-06T15:25:06.316Z"
   },
   {
    "duration": 15,
    "start_time": "2022-04-06T15:25:06.477Z"
   },
   {
    "duration": 151,
    "start_time": "2022-04-06T15:25:06.494Z"
   },
   {
    "duration": 266,
    "start_time": "2022-04-06T15:25:06.650Z"
   },
   {
    "duration": 264,
    "start_time": "2022-04-06T15:25:06.919Z"
   },
   {
    "duration": 300,
    "start_time": "2022-04-06T15:25:07.185Z"
   },
   {
    "duration": 197,
    "start_time": "2022-04-06T15:25:07.487Z"
   },
   {
    "duration": 24,
    "start_time": "2022-04-06T15:25:07.686Z"
   },
   {
    "duration": 175,
    "start_time": "2022-04-06T15:25:07.712Z"
   },
   {
    "duration": 5,
    "start_time": "2022-04-06T15:25:07.889Z"
   },
   {
    "duration": 7,
    "start_time": "2022-04-06T15:25:07.896Z"
   },
   {
    "duration": 53,
    "start_time": "2022-04-06T15:25:07.905Z"
   },
   {
    "duration": 2197,
    "start_time": "2022-04-06T15:25:07.960Z"
   },
   {
    "duration": 7948,
    "start_time": "2022-04-06T15:25:10.160Z"
   },
   {
    "duration": 452,
    "start_time": "2022-04-06T15:25:18.110Z"
   },
   {
    "duration": 2263,
    "start_time": "2022-04-06T15:25:18.564Z"
   },
   {
    "duration": 23365,
    "start_time": "2022-04-06T15:25:20.829Z"
   },
   {
    "duration": 934,
    "start_time": "2022-04-06T15:25:44.197Z"
   },
   {
    "duration": 11,
    "start_time": "2022-04-06T15:25:45.133Z"
   },
   {
    "duration": 127988,
    "start_time": "2022-04-06T15:25:45.146Z"
   },
   {
    "duration": 93495,
    "start_time": "2022-04-06T15:27:53.136Z"
   },
   {
    "duration": 0,
    "start_time": "2022-04-06T15:29:26.634Z"
   },
   {
    "duration": 0,
    "start_time": "2022-04-06T15:29:26.642Z"
   },
   {
    "duration": 0,
    "start_time": "2022-04-06T15:29:26.644Z"
   },
   {
    "duration": 0,
    "start_time": "2022-04-06T15:29:26.646Z"
   },
   {
    "duration": 0,
    "start_time": "2022-04-06T15:29:26.648Z"
   },
   {
    "duration": 0,
    "start_time": "2022-04-06T15:29:26.650Z"
   },
   {
    "duration": 0,
    "start_time": "2022-04-06T15:29:26.653Z"
   },
   {
    "duration": 0,
    "start_time": "2022-04-06T15:29:26.655Z"
   },
   {
    "duration": 0,
    "start_time": "2022-04-06T15:29:26.657Z"
   },
   {
    "duration": 0,
    "start_time": "2022-04-06T15:29:26.659Z"
   },
   {
    "duration": 213,
    "start_time": "2022-04-06T15:29:28.596Z"
   },
   {
    "duration": 5,
    "start_time": "2022-04-06T15:29:41.891Z"
   },
   {
    "duration": 371,
    "start_time": "2022-04-06T15:29:41.902Z"
   },
   {
    "duration": 25,
    "start_time": "2022-04-06T15:29:42.275Z"
   },
   {
    "duration": 119,
    "start_time": "2022-04-06T15:29:42.302Z"
   },
   {
    "duration": 29,
    "start_time": "2022-04-06T15:29:42.424Z"
   },
   {
    "duration": 406,
    "start_time": "2022-04-06T15:29:42.455Z"
   },
   {
    "duration": 26,
    "start_time": "2022-04-06T15:29:42.863Z"
   },
   {
    "duration": 8,
    "start_time": "2022-04-06T15:29:42.891Z"
   },
   {
    "duration": 6,
    "start_time": "2022-04-06T15:29:42.901Z"
   },
   {
    "duration": 40,
    "start_time": "2022-04-06T15:29:42.910Z"
   },
   {
    "duration": 17,
    "start_time": "2022-04-06T15:29:42.954Z"
   },
   {
    "duration": 22,
    "start_time": "2022-04-06T15:29:42.973Z"
   },
   {
    "duration": 21,
    "start_time": "2022-04-06T15:29:42.998Z"
   },
   {
    "duration": 31,
    "start_time": "2022-04-06T15:29:43.021Z"
   },
   {
    "duration": 21,
    "start_time": "2022-04-06T15:29:43.055Z"
   },
   {
    "duration": 218,
    "start_time": "2022-04-06T15:29:43.078Z"
   },
   {
    "duration": 11,
    "start_time": "2022-04-06T15:29:43.300Z"
   },
   {
    "duration": 37,
    "start_time": "2022-04-06T15:29:43.314Z"
   },
   {
    "duration": 41,
    "start_time": "2022-04-06T15:29:43.354Z"
   },
   {
    "duration": 45,
    "start_time": "2022-04-06T15:29:43.398Z"
   },
   {
    "duration": 23,
    "start_time": "2022-04-06T15:29:43.445Z"
   },
   {
    "duration": 16,
    "start_time": "2022-04-06T15:29:43.471Z"
   },
   {
    "duration": 195,
    "start_time": "2022-04-06T15:29:43.489Z"
   },
   {
    "duration": 16,
    "start_time": "2022-04-06T15:29:43.686Z"
   },
   {
    "duration": 163,
    "start_time": "2022-04-06T15:29:43.704Z"
   },
   {
    "duration": 15,
    "start_time": "2022-04-06T15:29:43.869Z"
   },
   {
    "duration": 157,
    "start_time": "2022-04-06T15:29:43.886Z"
   },
   {
    "duration": 262,
    "start_time": "2022-04-06T15:29:44.045Z"
   },
   {
    "duration": 262,
    "start_time": "2022-04-06T15:29:44.312Z"
   },
   {
    "duration": 219,
    "start_time": "2022-04-06T15:29:44.576Z"
   },
   {
    "duration": 207,
    "start_time": "2022-04-06T15:29:44.798Z"
   },
   {
    "duration": 42,
    "start_time": "2022-04-06T15:29:45.008Z"
   },
   {
    "duration": 265,
    "start_time": "2022-04-06T15:29:45.053Z"
   },
   {
    "duration": 6,
    "start_time": "2022-04-06T15:29:45.321Z"
   },
   {
    "duration": 7,
    "start_time": "2022-04-06T15:29:45.342Z"
   },
   {
    "duration": 33,
    "start_time": "2022-04-06T15:29:45.351Z"
   },
   {
    "duration": 2178,
    "start_time": "2022-04-06T15:29:45.387Z"
   },
   {
    "duration": 229,
    "start_time": "2022-04-06T15:29:47.568Z"
   },
   {
    "duration": 7789,
    "start_time": "2022-04-06T15:29:56.268Z"
   },
   {
    "duration": 7870,
    "start_time": "2022-04-06T15:30:07.124Z"
   },
   {
    "duration": 1775,
    "start_time": "2022-04-06T15:30:44.479Z"
   },
   {
    "duration": 332,
    "start_time": "2022-04-06T15:30:46.257Z"
   },
   {
    "duration": 25,
    "start_time": "2022-04-06T15:30:46.592Z"
   },
   {
    "duration": 118,
    "start_time": "2022-04-06T15:30:46.620Z"
   },
   {
    "duration": 19,
    "start_time": "2022-04-06T15:30:46.743Z"
   },
   {
    "duration": 423,
    "start_time": "2022-04-06T15:30:46.765Z"
   },
   {
    "duration": 25,
    "start_time": "2022-04-06T15:30:47.190Z"
   },
   {
    "duration": 34,
    "start_time": "2022-04-06T15:30:47.217Z"
   },
   {
    "duration": 4,
    "start_time": "2022-04-06T15:30:47.253Z"
   },
   {
    "duration": 4,
    "start_time": "2022-04-06T15:30:47.261Z"
   },
   {
    "duration": 12,
    "start_time": "2022-04-06T15:30:47.268Z"
   },
   {
    "duration": 22,
    "start_time": "2022-04-06T15:30:47.283Z"
   },
   {
    "duration": 49,
    "start_time": "2022-04-06T15:30:47.307Z"
   },
   {
    "duration": 14,
    "start_time": "2022-04-06T15:30:47.358Z"
   },
   {
    "duration": 21,
    "start_time": "2022-04-06T15:30:47.375Z"
   },
   {
    "duration": 226,
    "start_time": "2022-04-06T15:30:47.398Z"
   },
   {
    "duration": 18,
    "start_time": "2022-04-06T15:30:47.626Z"
   },
   {
    "duration": 11,
    "start_time": "2022-04-06T15:30:47.646Z"
   },
   {
    "duration": 41,
    "start_time": "2022-04-06T15:30:47.659Z"
   },
   {
    "duration": 49,
    "start_time": "2022-04-06T15:30:47.702Z"
   },
   {
    "duration": 25,
    "start_time": "2022-04-06T15:30:47.754Z"
   },
   {
    "duration": 16,
    "start_time": "2022-04-06T15:30:47.781Z"
   },
   {
    "duration": 433,
    "start_time": "2022-04-06T15:30:47.799Z"
   },
   {
    "duration": 20,
    "start_time": "2022-04-06T15:30:48.234Z"
   },
   {
    "duration": 163,
    "start_time": "2022-04-06T15:30:48.256Z"
   },
   {
    "duration": 29,
    "start_time": "2022-04-06T15:30:48.421Z"
   },
   {
    "duration": 146,
    "start_time": "2022-04-06T15:30:48.452Z"
   },
   {
    "duration": 260,
    "start_time": "2022-04-06T15:30:48.604Z"
   },
   {
    "duration": 255,
    "start_time": "2022-04-06T15:30:48.866Z"
   },
   {
    "duration": 289,
    "start_time": "2022-04-06T15:30:49.123Z"
   },
   {
    "duration": 207,
    "start_time": "2022-04-06T15:30:49.414Z"
   },
   {
    "duration": 26,
    "start_time": "2022-04-06T15:30:49.624Z"
   },
   {
    "duration": 166,
    "start_time": "2022-04-06T15:30:49.652Z"
   },
   {
    "duration": 5,
    "start_time": "2022-04-06T15:30:49.820Z"
   },
   {
    "duration": 17,
    "start_time": "2022-04-06T15:30:49.827Z"
   },
   {
    "duration": 33,
    "start_time": "2022-04-06T15:30:49.847Z"
   },
   {
    "duration": 2166,
    "start_time": "2022-04-06T15:30:49.882Z"
   },
   {
    "duration": 7808,
    "start_time": "2022-04-06T15:30:52.050Z"
   },
   {
    "duration": 448,
    "start_time": "2022-04-06T15:30:59.860Z"
   },
   {
    "duration": 2310,
    "start_time": "2022-04-06T15:31:00.310Z"
   },
   {
    "duration": 1663,
    "start_time": "2022-04-06T15:31:14.049Z"
   },
   {
    "duration": 338,
    "start_time": "2022-04-06T15:31:15.715Z"
   },
   {
    "duration": 26,
    "start_time": "2022-04-06T15:31:16.055Z"
   },
   {
    "duration": 127,
    "start_time": "2022-04-06T15:31:16.085Z"
   },
   {
    "duration": 31,
    "start_time": "2022-04-06T15:31:16.215Z"
   },
   {
    "duration": 448,
    "start_time": "2022-04-06T15:31:16.249Z"
   },
   {
    "duration": 50,
    "start_time": "2022-04-06T15:31:16.700Z"
   },
   {
    "duration": 12,
    "start_time": "2022-04-06T15:31:16.752Z"
   },
   {
    "duration": 4,
    "start_time": "2022-04-06T15:31:16.766Z"
   },
   {
    "duration": 5,
    "start_time": "2022-04-06T15:31:16.774Z"
   },
   {
    "duration": 17,
    "start_time": "2022-04-06T15:31:16.781Z"
   },
   {
    "duration": 45,
    "start_time": "2022-04-06T15:31:16.800Z"
   },
   {
    "duration": 22,
    "start_time": "2022-04-06T15:31:16.848Z"
   },
   {
    "duration": 15,
    "start_time": "2022-04-06T15:31:16.874Z"
   },
   {
    "duration": 52,
    "start_time": "2022-04-06T15:31:16.892Z"
   },
   {
    "duration": 211,
    "start_time": "2022-04-06T15:31:16.946Z"
   },
   {
    "duration": 10,
    "start_time": "2022-04-06T15:31:17.159Z"
   },
   {
    "duration": 16,
    "start_time": "2022-04-06T15:31:17.171Z"
   },
   {
    "duration": 63,
    "start_time": "2022-04-06T15:31:17.190Z"
   },
   {
    "duration": 15,
    "start_time": "2022-04-06T15:31:17.255Z"
   },
   {
    "duration": 27,
    "start_time": "2022-04-06T15:31:17.273Z"
   },
   {
    "duration": 48,
    "start_time": "2022-04-06T15:31:17.302Z"
   },
   {
    "duration": 449,
    "start_time": "2022-04-06T15:31:17.353Z"
   },
   {
    "duration": 15,
    "start_time": "2022-04-06T15:31:17.804Z"
   },
   {
    "duration": 162,
    "start_time": "2022-04-06T15:31:17.822Z"
   },
   {
    "duration": 15,
    "start_time": "2022-04-06T15:31:17.986Z"
   },
   {
    "duration": 182,
    "start_time": "2022-04-06T15:31:18.004Z"
   },
   {
    "duration": 272,
    "start_time": "2022-04-06T15:31:18.192Z"
   },
   {
    "duration": 253,
    "start_time": "2022-04-06T15:31:18.466Z"
   },
   {
    "duration": 305,
    "start_time": "2022-04-06T15:31:18.721Z"
   },
   {
    "duration": 209,
    "start_time": "2022-04-06T15:31:19.029Z"
   },
   {
    "duration": 23,
    "start_time": "2022-04-06T15:31:19.241Z"
   },
   {
    "duration": 181,
    "start_time": "2022-04-06T15:31:19.266Z"
   },
   {
    "duration": 4,
    "start_time": "2022-04-06T15:31:19.449Z"
   },
   {
    "duration": 18,
    "start_time": "2022-04-06T15:31:19.455Z"
   },
   {
    "duration": 49,
    "start_time": "2022-04-06T15:31:19.475Z"
   },
   {
    "duration": 2245,
    "start_time": "2022-04-06T15:31:19.526Z"
   },
   {
    "duration": 7898,
    "start_time": "2022-04-06T15:31:21.773Z"
   },
   {
    "duration": 448,
    "start_time": "2022-04-06T15:31:29.673Z"
   },
   {
    "duration": 2297,
    "start_time": "2022-04-06T15:31:30.123Z"
   },
   {
    "duration": 23028,
    "start_time": "2022-04-06T15:31:32.422Z"
   },
   {
    "duration": 883,
    "start_time": "2022-04-06T15:31:55.453Z"
   },
   {
    "duration": 5,
    "start_time": "2022-04-06T15:31:56.342Z"
   },
   {
    "duration": 132602,
    "start_time": "2022-04-06T15:31:56.349Z"
   },
   {
    "duration": 192189,
    "start_time": "2022-04-06T15:34:08.954Z"
   },
   {
    "duration": 20619,
    "start_time": "2022-04-06T15:37:21.145Z"
   },
   {
    "duration": 130909,
    "start_time": "2022-04-06T15:37:41.767Z"
   },
   {
    "duration": 196792,
    "start_time": "2022-04-06T15:39:52.678Z"
   },
   {
    "duration": 6708,
    "start_time": "2022-04-06T15:43:09.473Z"
   },
   {
    "duration": 5,
    "start_time": "2022-04-06T15:43:16.184Z"
   },
   {
    "duration": 1555,
    "start_time": "2022-04-06T15:43:16.192Z"
   },
   {
    "duration": 1494,
    "start_time": "2022-04-06T15:43:17.750Z"
   },
   {
    "duration": 5,
    "start_time": "2022-04-06T15:43:19.247Z"
   },
   {
    "duration": 93,
    "start_time": "2022-04-06T15:43:19.254Z"
   },
   {
    "duration": 95,
    "start_time": "2022-04-06T15:43:19.349Z"
   },
   {
    "duration": 70,
    "start_time": "2022-04-06T16:14:21.302Z"
   },
   {
    "duration": 2108,
    "start_time": "2022-04-06T16:14:24.865Z"
   },
   {
    "duration": 343,
    "start_time": "2022-04-06T16:14:27.001Z"
   },
   {
    "duration": 38,
    "start_time": "2022-04-06T16:14:27.751Z"
   },
   {
    "duration": 107,
    "start_time": "2022-04-06T16:14:28.823Z"
   },
   {
    "duration": 18,
    "start_time": "2022-04-06T16:14:29.365Z"
   },
   {
    "duration": 427,
    "start_time": "2022-04-06T16:14:30.350Z"
   },
   {
    "duration": 27,
    "start_time": "2022-04-06T16:14:30.967Z"
   },
   {
    "duration": 14,
    "start_time": "2022-04-06T16:14:33.021Z"
   },
   {
    "duration": 3,
    "start_time": "2022-04-06T16:14:34.164Z"
   },
   {
    "duration": 5,
    "start_time": "2022-04-06T16:14:34.587Z"
   },
   {
    "duration": 6,
    "start_time": "2022-04-06T16:14:34.816Z"
   },
   {
    "duration": 21,
    "start_time": "2022-04-06T16:14:35.981Z"
   },
   {
    "duration": 21,
    "start_time": "2022-04-06T16:14:36.637Z"
   },
   {
    "duration": 12,
    "start_time": "2022-04-06T16:14:36.867Z"
   },
   {
    "duration": 21,
    "start_time": "2022-04-06T16:14:37.100Z"
   },
   {
    "duration": 192,
    "start_time": "2022-04-06T16:14:38.218Z"
   },
   {
    "duration": 11,
    "start_time": "2022-04-06T16:14:38.513Z"
   },
   {
    "duration": 12,
    "start_time": "2022-04-06T16:14:38.766Z"
   },
   {
    "duration": 39,
    "start_time": "2022-04-06T16:14:39.049Z"
   },
   {
    "duration": 14,
    "start_time": "2022-04-06T16:14:39.316Z"
   },
   {
    "duration": 25,
    "start_time": "2022-04-06T16:14:39.565Z"
   },
   {
    "duration": 15,
    "start_time": "2022-04-06T16:14:40.889Z"
   },
   {
    "duration": 706,
    "start_time": "2022-04-06T16:14:41.466Z"
   },
   {
    "duration": 16,
    "start_time": "2022-04-06T16:15:03.657Z"
   },
   {
    "duration": 150,
    "start_time": "2022-04-06T16:15:04.076Z"
   },
   {
    "duration": 15,
    "start_time": "2022-04-06T16:15:05.151Z"
   },
   {
    "duration": 140,
    "start_time": "2022-04-06T16:15:05.789Z"
   },
   {
    "duration": 234,
    "start_time": "2022-04-06T16:15:10.749Z"
   },
   {
    "duration": 241,
    "start_time": "2022-04-06T16:15:11.280Z"
   },
   {
    "duration": 299,
    "start_time": "2022-04-06T16:15:12.479Z"
   },
   {
    "duration": 187,
    "start_time": "2022-04-06T16:15:12.997Z"
   },
   {
    "duration": 24,
    "start_time": "2022-04-06T16:15:19.205Z"
   },
   {
    "duration": 190,
    "start_time": "2022-04-06T16:15:22.391Z"
   },
   {
    "duration": 208,
    "start_time": "2022-04-06T16:15:50.400Z"
   },
   {
    "duration": 207,
    "start_time": "2022-04-06T16:15:51.347Z"
   },
   {
    "duration": 6,
    "start_time": "2022-04-06T16:18:01.427Z"
   },
   {
    "duration": 209,
    "start_time": "2022-04-06T16:18:07.118Z"
   },
   {
    "duration": 7,
    "start_time": "2022-04-06T16:18:44.283Z"
   },
   {
    "duration": 206,
    "start_time": "2022-04-06T16:18:45.016Z"
   },
   {
    "duration": 107,
    "start_time": "2022-04-06T16:19:35.617Z"
   },
   {
    "duration": 104,
    "start_time": "2022-04-06T16:29:52.356Z"
   },
   {
    "duration": 5,
    "start_time": "2022-04-06T16:30:03.537Z"
   },
   {
    "duration": 4,
    "start_time": "2022-04-06T16:30:05.800Z"
   },
   {
    "duration": 29,
    "start_time": "2022-04-06T16:30:06.939Z"
   },
   {
    "duration": 4,
    "start_time": "2022-04-06T16:30:09.246Z"
   },
   {
    "duration": 1671,
    "start_time": "2022-04-06T16:31:38.540Z"
   },
   {
    "duration": 330,
    "start_time": "2022-04-06T16:31:40.214Z"
   },
   {
    "duration": 38,
    "start_time": "2022-04-06T16:31:40.547Z"
   },
   {
    "duration": 110,
    "start_time": "2022-04-06T16:31:40.588Z"
   },
   {
    "duration": 19,
    "start_time": "2022-04-06T16:31:40.700Z"
   },
   {
    "duration": 434,
    "start_time": "2022-04-06T16:31:40.721Z"
   },
   {
    "duration": 32,
    "start_time": "2022-04-06T16:31:41.157Z"
   },
   {
    "duration": 13,
    "start_time": "2022-04-06T16:31:41.192Z"
   },
   {
    "duration": 4,
    "start_time": "2022-04-06T16:31:41.207Z"
   },
   {
    "duration": 4,
    "start_time": "2022-04-06T16:31:41.215Z"
   },
   {
    "duration": 10,
    "start_time": "2022-04-06T16:31:41.221Z"
   },
   {
    "duration": 54,
    "start_time": "2022-04-06T16:31:41.233Z"
   },
   {
    "duration": 22,
    "start_time": "2022-04-06T16:31:41.289Z"
   },
   {
    "duration": 12,
    "start_time": "2022-04-06T16:31:41.313Z"
   },
   {
    "duration": 56,
    "start_time": "2022-04-06T16:31:41.328Z"
   },
   {
    "duration": 200,
    "start_time": "2022-04-06T16:31:41.387Z"
   },
   {
    "duration": 10,
    "start_time": "2022-04-06T16:31:41.589Z"
   },
   {
    "duration": 13,
    "start_time": "2022-04-06T16:31:41.601Z"
   },
   {
    "duration": 67,
    "start_time": "2022-04-06T16:31:41.616Z"
   },
   {
    "duration": 13,
    "start_time": "2022-04-06T16:31:41.686Z"
   },
   {
    "duration": 26,
    "start_time": "2022-04-06T16:31:41.701Z"
   },
   {
    "duration": 45,
    "start_time": "2022-04-06T16:31:41.729Z"
   },
   {
    "duration": 421,
    "start_time": "2022-04-06T16:31:41.776Z"
   },
   {
    "duration": 16,
    "start_time": "2022-04-06T16:31:42.200Z"
   },
   {
    "duration": 167,
    "start_time": "2022-04-06T16:31:42.219Z"
   },
   {
    "duration": 17,
    "start_time": "2022-04-06T16:31:42.388Z"
   },
   {
    "duration": 166,
    "start_time": "2022-04-06T16:31:42.408Z"
   },
   {
    "duration": 309,
    "start_time": "2022-04-06T16:31:42.582Z"
   },
   {
    "duration": 299,
    "start_time": "2022-04-06T16:31:42.894Z"
   },
   {
    "duration": 303,
    "start_time": "2022-04-06T16:31:43.195Z"
   },
   {
    "duration": 220,
    "start_time": "2022-04-06T16:31:43.501Z"
   },
   {
    "duration": 26,
    "start_time": "2022-04-06T16:31:43.724Z"
   },
   {
    "duration": 192,
    "start_time": "2022-04-06T16:31:43.774Z"
   },
   {
    "duration": 9,
    "start_time": "2022-04-06T16:31:43.973Z"
   },
   {
    "duration": 233,
    "start_time": "2022-04-06T16:31:43.985Z"
   },
   {
    "duration": 229,
    "start_time": "2022-04-06T16:31:44.221Z"
   },
   {
    "duration": 7,
    "start_time": "2022-04-06T16:31:44.453Z"
   },
   {
    "duration": 221,
    "start_time": "2022-04-06T16:31:44.474Z"
   },
   {
    "duration": 219,
    "start_time": "2022-04-06T16:31:44.698Z"
   },
   {
    "duration": 5,
    "start_time": "2022-04-06T16:31:44.920Z"
   },
   {
    "duration": 6,
    "start_time": "2022-04-06T16:31:44.928Z"
   },
   {
    "duration": 51,
    "start_time": "2022-04-06T16:31:44.936Z"
   },
   {
    "duration": 3,
    "start_time": "2022-04-06T16:31:44.990Z"
   },
   {
    "duration": 2261,
    "start_time": "2022-04-06T16:31:44.995Z"
   },
   {
    "duration": 7982,
    "start_time": "2022-04-06T16:31:47.258Z"
   },
   {
    "duration": 455,
    "start_time": "2022-04-06T16:31:55.242Z"
   },
   {
    "duration": 2313,
    "start_time": "2022-04-06T16:31:55.700Z"
   },
   {
    "duration": 23559,
    "start_time": "2022-04-06T16:31:58.015Z"
   },
   {
    "duration": 878,
    "start_time": "2022-04-06T16:32:21.576Z"
   },
   {
    "duration": 5,
    "start_time": "2022-04-06T16:32:22.456Z"
   },
   {
    "duration": 132853,
    "start_time": "2022-04-06T16:32:22.474Z"
   },
   {
    "duration": 1174,
    "start_time": "2022-04-06T17:43:31.997Z"
   },
   {
    "duration": 264,
    "start_time": "2022-04-06T17:43:33.173Z"
   },
   {
    "duration": 15,
    "start_time": "2022-04-06T17:43:33.439Z"
   },
   {
    "duration": 82,
    "start_time": "2022-04-06T17:43:33.456Z"
   },
   {
    "duration": 11,
    "start_time": "2022-04-06T17:43:33.540Z"
   },
   {
    "duration": 328,
    "start_time": "2022-04-06T17:43:33.553Z"
   },
   {
    "duration": 16,
    "start_time": "2022-04-06T17:43:33.883Z"
   },
   {
    "duration": 6,
    "start_time": "2022-04-06T17:43:33.901Z"
   },
   {
    "duration": 5,
    "start_time": "2022-04-06T17:43:33.909Z"
   },
   {
    "duration": 26,
    "start_time": "2022-04-06T17:43:33.916Z"
   },
   {
    "duration": 7,
    "start_time": "2022-04-06T17:43:33.944Z"
   },
   {
    "duration": 15,
    "start_time": "2022-04-06T17:43:33.952Z"
   },
   {
    "duration": 13,
    "start_time": "2022-04-06T17:43:33.968Z"
   },
   {
    "duration": 16,
    "start_time": "2022-04-06T17:43:33.984Z"
   },
   {
    "duration": 17,
    "start_time": "2022-04-06T17:43:34.001Z"
   },
   {
    "duration": 121,
    "start_time": "2022-04-06T17:43:34.038Z"
   },
   {
    "duration": 7,
    "start_time": "2022-04-06T17:43:34.160Z"
   },
   {
    "duration": 10,
    "start_time": "2022-04-06T17:43:34.168Z"
   },
   {
    "duration": 21,
    "start_time": "2022-04-06T17:43:34.179Z"
   },
   {
    "duration": 9,
    "start_time": "2022-04-06T17:43:34.202Z"
   },
   {
    "duration": 21,
    "start_time": "2022-04-06T17:43:34.237Z"
   },
   {
    "duration": 10,
    "start_time": "2022-04-06T17:43:34.260Z"
   },
   {
    "duration": 444,
    "start_time": "2022-04-06T17:43:34.272Z"
   },
   {
    "duration": 11,
    "start_time": "2022-04-06T17:43:34.717Z"
   },
   {
    "duration": 83,
    "start_time": "2022-04-06T17:43:34.738Z"
   },
   {
    "duration": 24,
    "start_time": "2022-04-06T17:43:34.823Z"
   },
   {
    "duration": 80,
    "start_time": "2022-04-06T17:43:34.848Z"
   },
   {
    "duration": 148,
    "start_time": "2022-04-06T17:43:34.938Z"
   },
   {
    "duration": 152,
    "start_time": "2022-04-06T17:43:35.088Z"
   },
   {
    "duration": 212,
    "start_time": "2022-04-06T17:43:35.242Z"
   },
   {
    "duration": 115,
    "start_time": "2022-04-06T17:43:35.456Z"
   },
   {
    "duration": 15,
    "start_time": "2022-04-06T17:43:35.572Z"
   },
   {
    "duration": 119,
    "start_time": "2022-04-06T17:43:35.589Z"
   },
   {
    "duration": 5,
    "start_time": "2022-04-06T17:43:35.709Z"
   },
   {
    "duration": 129,
    "start_time": "2022-04-06T17:43:35.715Z"
   },
   {
    "duration": 128,
    "start_time": "2022-04-06T17:43:35.845Z"
   },
   {
    "duration": 5,
    "start_time": "2022-04-06T17:43:35.974Z"
   },
   {
    "duration": 133,
    "start_time": "2022-04-06T17:43:35.980Z"
   },
   {
    "duration": 129,
    "start_time": "2022-04-06T17:43:36.115Z"
   },
   {
    "duration": 3,
    "start_time": "2022-04-06T17:43:36.245Z"
   },
   {
    "duration": 5,
    "start_time": "2022-04-06T17:43:36.252Z"
   },
   {
    "duration": 23,
    "start_time": "2022-04-06T17:43:36.259Z"
   },
   {
    "duration": 3,
    "start_time": "2022-04-06T17:43:36.284Z"
   },
   {
    "duration": 1645,
    "start_time": "2022-04-06T17:43:36.288Z"
   },
   {
    "duration": 5950,
    "start_time": "2022-04-06T17:43:37.937Z"
   },
   {
    "duration": 341,
    "start_time": "2022-04-06T17:43:43.888Z"
   },
   {
    "duration": 1680,
    "start_time": "2022-04-06T17:43:44.230Z"
   },
   {
    "duration": 17150,
    "start_time": "2022-04-06T17:43:45.912Z"
   },
   {
    "duration": 637,
    "start_time": "2022-04-06T17:44:03.064Z"
   },
   {
    "duration": 4,
    "start_time": "2022-04-06T17:44:03.703Z"
   },
   {
    "duration": 96650,
    "start_time": "2022-04-06T17:44:03.709Z"
   },
   {
    "duration": 148549,
    "start_time": "2022-04-06T17:45:40.361Z"
   },
   {
    "duration": 16025,
    "start_time": "2022-04-06T17:48:08.912Z"
   },
   {
    "duration": 99915,
    "start_time": "2022-04-06T17:48:24.938Z"
   },
   {
    "duration": 1126,
    "start_time": "2022-04-07T07:28:41.881Z"
   },
   {
    "duration": 239,
    "start_time": "2022-04-07T07:28:43.008Z"
   },
   {
    "duration": 15,
    "start_time": "2022-04-07T07:28:43.249Z"
   },
   {
    "duration": 80,
    "start_time": "2022-04-07T07:28:43.266Z"
   },
   {
    "duration": 11,
    "start_time": "2022-04-07T07:28:43.348Z"
   },
   {
    "duration": 303,
    "start_time": "2022-04-07T07:28:43.361Z"
   },
   {
    "duration": 15,
    "start_time": "2022-04-07T07:28:43.666Z"
   },
   {
    "duration": 8,
    "start_time": "2022-04-07T07:28:43.683Z"
   },
   {
    "duration": 3,
    "start_time": "2022-04-07T07:28:43.693Z"
   },
   {
    "duration": 4,
    "start_time": "2022-04-07T07:28:43.699Z"
   },
   {
    "duration": 10,
    "start_time": "2022-04-07T07:28:43.729Z"
   },
   {
    "duration": 14,
    "start_time": "2022-04-07T07:28:43.741Z"
   },
   {
    "duration": 14,
    "start_time": "2022-04-07T07:28:43.757Z"
   },
   {
    "duration": 9,
    "start_time": "2022-04-07T07:28:43.773Z"
   },
   {
    "duration": 16,
    "start_time": "2022-04-07T07:28:43.783Z"
   },
   {
    "duration": 140,
    "start_time": "2022-04-07T07:28:43.800Z"
   },
   {
    "duration": 6,
    "start_time": "2022-04-07T07:28:43.941Z"
   },
   {
    "duration": 9,
    "start_time": "2022-04-07T07:28:43.948Z"
   },
   {
    "duration": 20,
    "start_time": "2022-04-07T07:28:43.958Z"
   },
   {
    "duration": 8,
    "start_time": "2022-04-07T07:28:43.979Z"
   },
   {
    "duration": 47,
    "start_time": "2022-04-07T07:28:43.989Z"
   },
   {
    "duration": 9,
    "start_time": "2022-04-07T07:28:44.037Z"
   },
   {
    "duration": 403,
    "start_time": "2022-04-07T07:28:44.048Z"
   },
   {
    "duration": 10,
    "start_time": "2022-04-07T07:28:44.452Z"
   },
   {
    "duration": 81,
    "start_time": "2022-04-07T07:28:44.464Z"
   },
   {
    "duration": 10,
    "start_time": "2022-04-07T07:28:44.547Z"
   },
   {
    "duration": 86,
    "start_time": "2022-04-07T07:28:44.558Z"
   },
   {
    "duration": 134,
    "start_time": "2022-04-07T07:28:44.648Z"
   },
   {
    "duration": 211,
    "start_time": "2022-04-07T07:28:44.784Z"
   },
   {
    "duration": 116,
    "start_time": "2022-04-07T07:28:44.996Z"
   },
   {
    "duration": 118,
    "start_time": "2022-04-07T07:28:45.113Z"
   },
   {
    "duration": 15,
    "start_time": "2022-04-07T07:28:45.232Z"
   },
   {
    "duration": 113,
    "start_time": "2022-04-07T07:28:45.249Z"
   },
   {
    "duration": 5,
    "start_time": "2022-04-07T07:28:45.364Z"
   },
   {
    "duration": 121,
    "start_time": "2022-04-07T07:28:45.370Z"
   },
   {
    "duration": 117,
    "start_time": "2022-04-07T07:28:45.493Z"
   },
   {
    "duration": 4,
    "start_time": "2022-04-07T07:28:45.612Z"
   },
   {
    "duration": 109,
    "start_time": "2022-04-07T07:28:45.629Z"
   },
   {
    "duration": 120,
    "start_time": "2022-04-07T07:28:45.740Z"
   },
   {
    "duration": 3,
    "start_time": "2022-04-07T07:28:45.862Z"
   },
   {
    "duration": 5,
    "start_time": "2022-04-07T07:28:45.867Z"
   },
   {
    "duration": 18,
    "start_time": "2022-04-07T07:28:45.874Z"
   },
   {
    "duration": 2,
    "start_time": "2022-04-07T07:28:45.894Z"
   },
   {
    "duration": 1537,
    "start_time": "2022-04-07T07:28:45.897Z"
   },
   {
    "duration": 5441,
    "start_time": "2022-04-07T07:28:47.435Z"
   },
   {
    "duration": 341,
    "start_time": "2022-04-07T07:28:52.878Z"
   },
   {
    "duration": 1559,
    "start_time": "2022-04-07T07:28:53.221Z"
   },
   {
    "duration": 30319,
    "start_time": "2022-04-07T07:28:54.782Z"
   },
   {
    "duration": 591,
    "start_time": "2022-04-07T07:29:25.103Z"
   },
   {
    "duration": 4,
    "start_time": "2022-04-07T07:29:25.696Z"
   },
   {
    "duration": 90225,
    "start_time": "2022-04-07T07:29:25.701Z"
   },
   {
    "duration": 140457,
    "start_time": "2022-04-07T07:30:55.930Z"
   },
   {
    "duration": 5247,
    "start_time": "2022-04-07T07:33:16.388Z"
   },
   {
    "duration": 90886,
    "start_time": "2022-04-07T07:33:21.637Z"
   },
   {
    "duration": 133761,
    "start_time": "2022-04-07T07:34:52.529Z"
   },
   {
    "duration": 4501,
    "start_time": "2022-04-07T07:37:06.291Z"
   },
   {
    "duration": 3,
    "start_time": "2022-04-07T07:37:10.794Z"
   },
   {
    "duration": 1138,
    "start_time": "2022-04-07T07:37:10.798Z"
   },
   {
    "duration": 702,
    "start_time": "2022-04-07T07:37:11.937Z"
   },
   {
    "duration": 3,
    "start_time": "2022-04-07T07:37:12.731Z"
   },
   {
    "duration": 107,
    "start_time": "2022-04-07T07:37:12.736Z"
   },
   {
    "duration": 10,
    "start_time": "2022-04-07T07:37:12.845Z"
   },
   {
    "duration": 816,
    "start_time": "2022-04-07T07:37:12.859Z"
   },
   {
    "duration": 3,
    "start_time": "2022-04-07T07:37:13.676Z"
   },
   {
    "duration": 4849,
    "start_time": "2022-04-07T07:42:57.418Z"
   },
   {
    "duration": 5419,
    "start_time": "2022-04-07T07:43:19.307Z"
   },
   {
    "duration": 26,
    "start_time": "2022-04-07T07:44:19.563Z"
   },
   {
    "duration": 49,
    "start_time": "2022-04-07T11:11:01.932Z"
   },
   {
    "duration": 1267,
    "start_time": "2022-04-07T11:11:40.217Z"
   },
   {
    "duration": 261,
    "start_time": "2022-04-07T11:11:41.486Z"
   },
   {
    "duration": 23,
    "start_time": "2022-04-07T11:11:41.749Z"
   },
   {
    "duration": 79,
    "start_time": "2022-04-07T11:11:41.774Z"
   },
   {
    "duration": 17,
    "start_time": "2022-04-07T11:11:41.855Z"
   },
   {
    "duration": 315,
    "start_time": "2022-04-07T11:11:41.874Z"
   },
   {
    "duration": 15,
    "start_time": "2022-04-07T11:11:42.191Z"
   },
   {
    "duration": 10,
    "start_time": "2022-04-07T11:11:42.207Z"
   },
   {
    "duration": 39,
    "start_time": "2022-04-07T11:11:42.219Z"
   },
   {
    "duration": 31,
    "start_time": "2022-04-07T11:11:42.260Z"
   },
   {
    "duration": 15,
    "start_time": "2022-04-07T11:11:42.292Z"
   },
   {
    "duration": 39,
    "start_time": "2022-04-07T11:11:42.308Z"
   },
   {
    "duration": 25,
    "start_time": "2022-04-07T11:11:42.349Z"
   },
   {
    "duration": 37,
    "start_time": "2022-04-07T11:11:42.376Z"
   },
   {
    "duration": 39,
    "start_time": "2022-04-07T11:11:42.415Z"
   },
   {
    "duration": 119,
    "start_time": "2022-04-07T11:11:42.456Z"
   },
   {
    "duration": 6,
    "start_time": "2022-04-07T11:11:42.577Z"
   },
   {
    "duration": 23,
    "start_time": "2022-04-07T11:11:42.585Z"
   },
   {
    "duration": 40,
    "start_time": "2022-04-07T11:11:42.609Z"
   },
   {
    "duration": 24,
    "start_time": "2022-04-07T11:11:42.651Z"
   },
   {
    "duration": 52,
    "start_time": "2022-04-07T11:11:42.676Z"
   },
   {
    "duration": 19,
    "start_time": "2022-04-07T11:11:42.729Z"
   },
   {
    "duration": 433,
    "start_time": "2022-04-07T11:11:42.749Z"
   },
   {
    "duration": 14,
    "start_time": "2022-04-07T11:11:43.184Z"
   },
   {
    "duration": 118,
    "start_time": "2022-04-07T11:11:43.200Z"
   },
   {
    "duration": 10,
    "start_time": "2022-04-07T11:11:43.319Z"
   },
   {
    "duration": 89,
    "start_time": "2022-04-07T11:11:43.331Z"
   },
   {
    "duration": 154,
    "start_time": "2022-04-07T11:11:43.424Z"
   },
   {
    "duration": 234,
    "start_time": "2022-04-07T11:11:43.579Z"
   },
   {
    "duration": 124,
    "start_time": "2022-04-07T11:11:43.815Z"
   },
   {
    "duration": 111,
    "start_time": "2022-04-07T11:11:43.941Z"
   },
   {
    "duration": 25,
    "start_time": "2022-04-07T11:11:44.053Z"
   },
   {
    "duration": 116,
    "start_time": "2022-04-07T11:11:44.079Z"
   },
   {
    "duration": 5,
    "start_time": "2022-04-07T11:11:44.196Z"
   },
   {
    "duration": 129,
    "start_time": "2022-04-07T11:11:44.203Z"
   },
   {
    "duration": 129,
    "start_time": "2022-04-07T11:11:44.333Z"
   },
   {
    "duration": 6,
    "start_time": "2022-04-07T11:11:44.464Z"
   },
   {
    "duration": 119,
    "start_time": "2022-04-07T11:11:44.471Z"
   },
   {
    "duration": 122,
    "start_time": "2022-04-07T11:11:44.592Z"
   },
   {
    "duration": 4,
    "start_time": "2022-04-07T11:11:44.716Z"
   },
   {
    "duration": 7,
    "start_time": "2022-04-07T11:11:44.721Z"
   },
   {
    "duration": 24,
    "start_time": "2022-04-07T11:11:44.729Z"
   },
   {
    "duration": 3,
    "start_time": "2022-04-07T11:11:44.762Z"
   },
   {
    "duration": 1682,
    "start_time": "2022-04-07T11:11:44.766Z"
   },
   {
    "duration": 5982,
    "start_time": "2022-04-07T11:11:46.449Z"
   },
   {
    "duration": 70,
    "start_time": "2022-04-07T11:11:52.433Z"
   },
   {
    "duration": 1827,
    "start_time": "2022-04-07T11:11:52.504Z"
   },
   {
    "duration": 5988,
    "start_time": "2022-04-07T11:11:54.333Z"
   },
   {
    "duration": 168,
    "start_time": "2022-04-07T11:12:00.322Z"
   },
   {
    "duration": 3,
    "start_time": "2022-04-07T11:12:00.492Z"
   },
   {
    "duration": 98493,
    "start_time": "2022-04-07T11:12:00.497Z"
   },
   {
    "duration": 466001,
    "start_time": "2022-04-07T11:13:38.992Z"
   },
   {
    "duration": 5420,
    "start_time": "2022-04-07T11:21:24.995Z"
   },
   {
    "duration": 102980,
    "start_time": "2022-04-07T11:21:30.417Z"
   },
   {
    "duration": 151343,
    "start_time": "2022-04-07T11:23:13.399Z"
   },
   {
    "duration": 5154,
    "start_time": "2022-04-07T11:25:44.744Z"
   },
   {
    "duration": 3,
    "start_time": "2022-04-07T11:25:49.900Z"
   },
   {
    "duration": 864,
    "start_time": "2022-04-07T11:25:49.905Z"
   },
   {
    "duration": 1892,
    "start_time": "2022-04-07T11:25:50.771Z"
   },
   {
    "duration": 4,
    "start_time": "2022-04-07T11:25:52.665Z"
   },
   {
    "duration": 96,
    "start_time": "2022-04-07T11:25:52.671Z"
   },
   {
    "duration": 135,
    "start_time": "2022-04-07T11:25:52.769Z"
   },
   {
    "duration": 27203,
    "start_time": "2022-04-07T11:29:54.089Z"
   },
   {
    "duration": 21429,
    "start_time": "2022-04-07T11:30:21.294Z"
   },
   {
    "duration": 4,
    "start_time": "2022-04-07T11:30:42.725Z"
   },
   {
    "duration": 17,
    "start_time": "2022-04-07T11:32:48.537Z"
   },
   {
    "duration": 19,
    "start_time": "2022-04-07T11:33:05.958Z"
   },
   {
    "duration": 12,
    "start_time": "2022-04-07T11:33:28.794Z"
   }
  ],
  "kernelspec": {
   "display_name": "Python 3 (ipykernel)",
   "language": "python",
   "name": "python3"
  },
  "language_info": {
   "codemirror_mode": {
    "name": "ipython",
    "version": 3
   },
   "file_extension": ".py",
   "mimetype": "text/x-python",
   "name": "python",
   "nbconvert_exporter": "python",
   "pygments_lexer": "ipython3",
   "version": "3.9.5"
  },
  "toc": {
   "base_numbering": 1,
   "nav_menu": {},
   "number_sections": true,
   "sideBar": true,
   "skip_h1_title": true,
   "title_cell": "Содержание",
   "title_sidebar": "Contents",
   "toc_cell": true,
   "toc_position": {
    "height": "calc(100% - 180px)",
    "left": "10px",
    "top": "150px",
    "width": "318.391px"
   },
   "toc_section_display": true,
   "toc_window_display": true
  }
 },
 "nbformat": 4,
 "nbformat_minor": 2
}
