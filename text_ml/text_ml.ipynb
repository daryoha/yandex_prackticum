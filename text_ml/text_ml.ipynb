{
 "cells": [
  {
   "cell_type": "markdown",
   "metadata": {},
   "source": [
    "Привет, меня зовут Артем Хуршудов. Сегодня я проверю твой проект.\n",
    "<br> Дальнейшее общение будет происходить на \"ты\" если это не вызывает никаких проблем.\n",
    "<br> Желательно реагировать на каждый мой комментарий ('исправил', 'не понятно как исправить ошибку', ...)\n",
    "<br> Пожалуйста, не удаляй комментарии ревьюера, так как они повышают качество повторного ревью.\n",
    "\n",
    "Комментарии будут в <font color='green'>зеленой</font>, <font color='blue'>синей</font> или <font color='red'>красной</font> рамках:\n",
    "\n",
    "<div class=\"alert alert-block alert-success\">\n",
    "<b>Успех:</b> Если все сделано отлично\n",
    "</div>\n",
    "\n",
    "<div class=\"alert alert-block alert-info\">\n",
    "<b>Совет: </b> Если можно немного улучшить\n",
    "</div>\n",
    "\n",
    "<div class=\"alert alert-block alert-danger\">\n",
    "<b>Ошибка:</b> Если требуются исправления. Работа не может быть принята с красными комментариями.\n",
    "</div>\n",
    "\n",
    "-------------------\n",
    "\n",
    "Будет очень хорошо, если ты будешь помечать свои действия следующим образом:\n",
    "<div class=\"alert alert-block alert-warning\">\n",
    "<b>Комментарий студента:</b> ...\n",
    "</div>\n",
    "\n",
    "<div class=\"alert alert-block alert-warning\">\n",
    "<b>Изменения:</b> Были внесены следующие изменения ...\n",
    "</div>\n",
    "\n",
    "<font color='green'><b>Полезные (и просто интересные) материалы:</b></font> \\\n",
    "Для работы с текстами используют и другие подходы. Например, сейчас активно используются RNN (LSTM) и трансформеры (BERT и другие с улицы Сезам, например, ELMO). НО! Они не являются панацеей, не всегда они нужны, так как и TF-IDF или Word2Vec + модели из классического ML тоже могут справляться. \\\n",
    "BERT тяжелый, существует много его вариаций для разных задач, есть готовые модели, есть надстройки над библиотекой transformers. Если, обучать BERT на GPU (можно в Google Colab или Kaggle), то должно быть побыстрее.\\\n",
    "https://huggingface.co/transformers/model_doc/bert.html \\\n",
    "https://t.me/renat_alimbekov \\\n",
    "https://colah.github.io/posts/2015-08-Understanding-LSTMs/ - Про LSTM \\\n",
    "https://web.stanford.edu/~jurafsky/slp3/10.pdf - про энкодер-декодер модели, этеншены\\\n",
    "https://pytorch.org/tutorials/beginner/transformer_tutorial.html - официальный гайд\n",
    "по трансформеру от создателей pytorch\\\n",
    "https://transformer.huggingface.co/ - поболтать с трансформером \\\n",
    "Библиотеки: allennlp, fairseq, transformers, tensorflow-text — множествореализованных\n",
    "методов для трансформеров методов NLP \\\n",
    "Word2Vec https://radimrehurek.com/gensim/models/word2vec.html \n",
    "\n",
    "<font color='green'>Пример BERT с GPU:\n",
    "```python\n",
    "%%time\n",
    "from tqdm import notebook\n",
    "batch_size = 2 # для примера возьмем такой батч, где будет всего две строки датасета\n",
    "embeddings = [] \n",
    "for i in notebook.tqdm(range(input_ids.shape[0] // batch_size)):\n",
    "        batch = torch.LongTensor(input_ids[batch_size*i:batch_size*(i+1)]).cuda() # закидываем тензор на GPU\n",
    "        attention_mask_batch = torch.LongTensor(attention_mask[batch_size*i:batch_size*(i+1)]).cuda()\n",
    "        \n",
    "        with torch.no_grad():\n",
    "            model.cuda()\n",
    "            batch_embeddings = model(batch, attention_mask=attention_mask_batch)\n",
    "        \n",
    "        embeddings.append(batch_embeddings[0][:,0,:].cpu().numpy()) # перевод обратно на проц, чтобы в нумпай кинуть\n",
    "        del batch\n",
    "        del attention_mask_batch\n",
    "        del batch_embeddings\n",
    "        \n",
    "features = np.concatenate(embeddings) \n",
    "```\n",
    "Можно сделать предварительную проверку на наличие GPU.\\\n",
    "Например, так: ```device = torch.device(\"cuda:0\") if torch.cuda.is_available() else torch.device(\"cpu\")```\\\n",
    "Тогда вместо .cuda() нужно писать .to(device)\n",
    "\n",
    "Если понравилась работа с текстами, то можешь посмотреть очень интересный (но очень-очень сложный) курс лекций: https://github.com/yandexdataschool/nlp_course .\n",
    "</font>\n",
    "\n",
    "### <font color='orange'>Общее впечатление</font>\n",
    "* Большое спасибо за проделанную работу. Видно, что приложено много усилий.\n",
    "* Радует, что ноутбук хорошо структурирован. Приятно проверять такие работы.\n",
    "* Отлично, что стоп-слова были исключены при векторизации!\n",
    "* Над этим проектом нужно будет еще немного поработать. Однако, изменения не должны занять много времени.\n",
    "* В работе я оставил несколько советов. Буду рад, если ты учтешь их.\n",
    "* С радостью отвечу на твои вопросы, если они есть. Лучше всего их собрать в следующей ячейке. Жду новую версию проекта."
   ]
  },
  {
   "cell_type": "markdown",
   "metadata": {},
   "source": [
    "### <font color='orange'>Общее впечатление (ревью 2)</font>\n",
    "* После исправлений проект улучшился и теперь он может быть зачтен.\n",
    "* Для удобства все новые комментарии обозначены фразой \"ревью 2\".\n",
    "* Удачи в дальнейшем обучении и следующих работах!"
   ]
  },
  {
   "cell_type": "markdown",
   "metadata": {
    "toc": true
   },
   "source": [
    "<h1>Содержание<span class=\"tocSkip\"></span></h1>\n",
    "<div class=\"toc\"><ul class=\"toc-item\"><li><ul class=\"toc-item\"><li><span><a href=\"#Общее-впечатление\" data-toc-modified-id=\"Общее-впечатление-0.1\"><span class=\"toc-item-num\">0.1&nbsp;&nbsp;</span><font color=\"orange\">Общее впечатление</font></a></span></li><li><span><a href=\"#Общее-впечатление-(ревью-2)\" data-toc-modified-id=\"Общее-впечатление-(ревью-2)-0.2\"><span class=\"toc-item-num\">0.2&nbsp;&nbsp;</span><font color=\"orange\">Общее впечатление (ревью 2)</font></a></span></li></ul></li><li><span><a href=\"#Подготовка\" data-toc-modified-id=\"Подготовка-1\"><span class=\"toc-item-num\">1&nbsp;&nbsp;</span>Подготовка</a></span></li><li><span><a href=\"#Обучение\" data-toc-modified-id=\"Обучение-2\"><span class=\"toc-item-num\">2&nbsp;&nbsp;</span>Обучение</a></span><ul class=\"toc-item\"><li><span><a href=\"#Подготовка-признаков\" data-toc-modified-id=\"Подготовка-признаков-2.1\"><span class=\"toc-item-num\">2.1&nbsp;&nbsp;</span>Подготовка признаков</a></span></li><li><span><a href=\"#Дерево-решений\" data-toc-modified-id=\"Дерево-решений-2.2\"><span class=\"toc-item-num\">2.2&nbsp;&nbsp;</span>Дерево решений</a></span></li><li><span><a href=\"#Лес-решений\" data-toc-modified-id=\"Лес-решений-2.3\"><span class=\"toc-item-num\">2.3&nbsp;&nbsp;</span>Лес решений</a></span></li><li><span><a href=\"#Логистическая-регрессия\" data-toc-modified-id=\"Логистическая-регрессия-2.4\"><span class=\"toc-item-num\">2.4&nbsp;&nbsp;</span>Логистическая регрессия</a></span></li><li><span><a href=\"#Выбор-лучшей-модели\" data-toc-modified-id=\"Выбор-лучшей-модели-2.5\"><span class=\"toc-item-num\">2.5&nbsp;&nbsp;</span>Выбор лучшей модели</a></span></li></ul></li><li><span><a href=\"#Выводы\" data-toc-modified-id=\"Выводы-3\"><span class=\"toc-item-num\">3&nbsp;&nbsp;</span>Выводы</a></span></li><li><span><a href=\"#Чек-лист-проверки\" data-toc-modified-id=\"Чек-лист-проверки-4\"><span class=\"toc-item-num\">4&nbsp;&nbsp;</span>Чек-лист проверки</a></span></li></ul></div>"
   ]
  },
  {
   "cell_type": "markdown",
   "metadata": {},
   "source": [
    "# Проект для «Викишоп»"
   ]
  },
  {
   "cell_type": "markdown",
   "metadata": {},
   "source": [
    "Интернет-магазин «Викишоп» запускает новый сервис. Теперь пользователи могут редактировать и дополнять описания товаров, как в вики-сообществах. То есть клиенты предлагают свои правки и комментируют изменения других. Магазину нужен инструмент, который будет искать токсичные комментарии и отправлять их на модерацию. \n",
    "\n",
    "Обучите модель классифицировать комментарии на позитивные и негативные. В вашем распоряжении набор данных с разметкой о токсичности правок.\n",
    "\n",
    "Постройте модель со значением метрики качества *F1* не меньше 0.75. \n",
    "\n",
    "**Инструкция по выполнению проекта**\n",
    "\n",
    "1. Загрузите и подготовьте данные.\n",
    "2. Обучите разные модели. \n",
    "3. Сделайте выводы.\n",
    "\n",
    "Для выполнения проекта применять *BERT* необязательно, но вы можете попробовать.\n",
    "\n",
    "**Описание данных**\n",
    "\n",
    "Данные находятся в файле `toxic_comments.csv`. Столбец *text* в нём содержит текст комментария, а *toxic* — целевой признак."
   ]
  },
  {
   "cell_type": "markdown",
   "metadata": {},
   "source": [
    "## Подготовка"
   ]
  },
  {
   "cell_type": "code",
   "execution_count": 1,
   "metadata": {},
   "outputs": [],
   "source": [
    "# импортирование библиотек\n",
    "import pandas as pd\n",
    "from sklearn.model_selection import train_test_split\n",
    "from nltk.corpus import stopwords as nltk_stopwords\n",
    "from sklearn.feature_extraction.text import TfidfVectorizer\n",
    "from sklearn.tree import DecisionTreeClassifier\n",
    "from nltk.stem import WordNetLemmatizer\n",
    "import re\n",
    "from sklearn.metrics import f1_score\n",
    "from sklearn.ensemble import RandomForestClassifier\n",
    "from sklearn.linear_model import LogisticRegression\n",
    "#from lightgbm import LGBMModel\n",
    "from sklearn.pipeline import Pipeline\n",
    "import sklearn.feature_extraction.text \n",
    "from sklearn.model_selection import GridSearchCV"
   ]
  },
  {
   "cell_type": "markdown",
   "metadata": {},
   "source": [
    "<div class=\"alert alert-block alert-success\">\n",
    "<b>Успех:</b> Отлично, что все импорты собраны в первой ячейке ноутбука! Если у того, кто будет запускать твой ноутбук будут отсутствовать некоторые библиотеки, то он это увидит сразу, а не в процессе!\n",
    "</div>"
   ]
  },
  {
   "cell_type": "code",
   "execution_count": 2,
   "metadata": {},
   "outputs": [
    {
     "data": {
      "text/html": [
       "<div>\n",
       "<style scoped>\n",
       "    .dataframe tbody tr th:only-of-type {\n",
       "        vertical-align: middle;\n",
       "    }\n",
       "\n",
       "    .dataframe tbody tr th {\n",
       "        vertical-align: top;\n",
       "    }\n",
       "\n",
       "    .dataframe thead th {\n",
       "        text-align: right;\n",
       "    }\n",
       "</style>\n",
       "<table border=\"1\" class=\"dataframe\">\n",
       "  <thead>\n",
       "    <tr style=\"text-align: right;\">\n",
       "      <th></th>\n",
       "      <th>text</th>\n",
       "      <th>toxic</th>\n",
       "    </tr>\n",
       "  </thead>\n",
       "  <tbody>\n",
       "    <tr>\n",
       "      <th>0</th>\n",
       "      <td>Explanation\\nWhy the edits made under my usern...</td>\n",
       "      <td>0</td>\n",
       "    </tr>\n",
       "    <tr>\n",
       "      <th>1</th>\n",
       "      <td>D'aww! He matches this background colour I'm s...</td>\n",
       "      <td>0</td>\n",
       "    </tr>\n",
       "    <tr>\n",
       "      <th>2</th>\n",
       "      <td>Hey man, I'm really not trying to edit war. It...</td>\n",
       "      <td>0</td>\n",
       "    </tr>\n",
       "    <tr>\n",
       "      <th>3</th>\n",
       "      <td>\"\\nMore\\nI can't make any real suggestions on ...</td>\n",
       "      <td>0</td>\n",
       "    </tr>\n",
       "    <tr>\n",
       "      <th>4</th>\n",
       "      <td>You, sir, are my hero. Any chance you remember...</td>\n",
       "      <td>0</td>\n",
       "    </tr>\n",
       "    <tr>\n",
       "      <th>5</th>\n",
       "      <td>\"\\n\\nCongratulations from me as well, use the ...</td>\n",
       "      <td>0</td>\n",
       "    </tr>\n",
       "    <tr>\n",
       "      <th>6</th>\n",
       "      <td>COCKSUCKER BEFORE YOU PISS AROUND ON MY WORK</td>\n",
       "      <td>1</td>\n",
       "    </tr>\n",
       "    <tr>\n",
       "      <th>7</th>\n",
       "      <td>Your vandalism to the Matt Shirvington article...</td>\n",
       "      <td>0</td>\n",
       "    </tr>\n",
       "    <tr>\n",
       "      <th>8</th>\n",
       "      <td>Sorry if the word 'nonsense' was offensive to ...</td>\n",
       "      <td>0</td>\n",
       "    </tr>\n",
       "    <tr>\n",
       "      <th>9</th>\n",
       "      <td>alignment on this subject and which are contra...</td>\n",
       "      <td>0</td>\n",
       "    </tr>\n",
       "  </tbody>\n",
       "</table>\n",
       "</div>"
      ],
      "text/plain": [
       "                                                text  toxic\n",
       "0  Explanation\\nWhy the edits made under my usern...      0\n",
       "1  D'aww! He matches this background colour I'm s...      0\n",
       "2  Hey man, I'm really not trying to edit war. It...      0\n",
       "3  \"\\nMore\\nI can't make any real suggestions on ...      0\n",
       "4  You, sir, are my hero. Any chance you remember...      0\n",
       "5  \"\\n\\nCongratulations from me as well, use the ...      0\n",
       "6       COCKSUCKER BEFORE YOU PISS AROUND ON MY WORK      1\n",
       "7  Your vandalism to the Matt Shirvington article...      0\n",
       "8  Sorry if the word 'nonsense' was offensive to ...      0\n",
       "9  alignment on this subject and which are contra...      0"
      ]
     },
     "execution_count": 2,
     "metadata": {},
     "output_type": "execute_result"
    }
   ],
   "source": [
    "# чтение данных из файла\n",
    "data = pd.read_csv('toxic_comments.csv')\n",
    "# просмотр первых десяти строчек в датафрейме \n",
    "data.head(10)"
   ]
  },
  {
   "cell_type": "markdown",
   "metadata": {},
   "source": [
    "В датафрейме всего два столбца с исчерпывающими названиями."
   ]
  },
  {
   "cell_type": "code",
   "execution_count": 3,
   "metadata": {},
   "outputs": [
    {
     "name": "stdout",
     "output_type": "stream",
     "text": [
      "<class 'pandas.core.frame.DataFrame'>\n",
      "RangeIndex: 159571 entries, 0 to 159570\n",
      "Data columns (total 2 columns):\n",
      " #   Column  Non-Null Count   Dtype \n",
      "---  ------  --------------   ----- \n",
      " 0   text    159571 non-null  object\n",
      " 1   toxic   159571 non-null  int64 \n",
      "dtypes: int64(1), object(1)\n",
      "memory usage: 2.4+ MB\n"
     ]
    }
   ],
   "source": [
    "# вывод информации о датафрейме\n",
    "data.info()"
   ]
  },
  {
   "cell_type": "markdown",
   "metadata": {},
   "source": [
    "Пропусков в данных нет. Типы приведены верно."
   ]
  },
  {
   "cell_type": "code",
   "execution_count": 4,
   "metadata": {},
   "outputs": [
    {
     "name": "stdout",
     "output_type": "stream",
     "text": [
      "0\n"
     ]
    }
   ],
   "source": [
    "# подсчёт явных дубликатов\n",
    "print(data.duplicated().sum())"
   ]
  },
  {
   "cell_type": "markdown",
   "metadata": {},
   "source": [
    "Явных дубликатов тоже нет."
   ]
  },
  {
   "cell_type": "markdown",
   "metadata": {},
   "source": [
    "<div class=\"alert alert-block alert-success\">\n",
    "<b>Успех:</b> Данные загружены корреткно. \n",
    "</div>"
   ]
  },
  {
   "cell_type": "markdown",
   "metadata": {},
   "source": [
    "## Обучение"
   ]
  },
  {
   "cell_type": "markdown",
   "metadata": {},
   "source": [
    "### Подготовка признаков"
   ]
  },
  {
   "cell_type": "code",
   "execution_count": 5,
   "metadata": {},
   "outputs": [],
   "source": [
    "# функция 'очистки' текста от ненужных символов\n",
    "def clear_text(row):\n",
    "    row = re.sub(r'[^a-zA-Z]', ' ', row)\n",
    "    return ' '.join(row.split())"
   ]
  },
  {
   "cell_type": "code",
   "execution_count": 6,
   "metadata": {},
   "outputs": [],
   "source": [
    "# функция разбиения на леммы\n",
    "lemmanizer = WordNetLemmatizer()\n",
    "def lemmatize(row):\n",
    "    return ''.join(lemmanizer.lemmatize(row))"
   ]
  },
  {
   "cell_type": "code",
   "execution_count": 7,
   "metadata": {},
   "outputs": [],
   "source": [
    "# применение функций лемматизации и очистки к столбцу с текстом\n",
    "data['text'] = data['text'].apply(clear_text).apply(lemmatize)"
   ]
  },
  {
   "cell_type": "markdown",
   "metadata": {},
   "source": [
    "<div class=\"alert alert-block alert-success\">\n",
    "<b>Успех:</b> Очистка и лемматизация были сделаны верно.\n",
    "</div>"
   ]
  },
  {
   "cell_type": "code",
   "execution_count": 8,
   "metadata": {},
   "outputs": [],
   "source": [
    "# деление выборки на тренировачную, валидационную и тестовую\n",
    "#data_train, data_valid =  train_test_split(data, test_size=0.2, random_state=12345, shuffle=False)\n",
    "#data_train, data_test =  train_test_split(data_train, test_size=0.125, random_state=12345, shuffle=False)"
   ]
  },
  {
   "cell_type": "code",
   "execution_count": 9,
   "metadata": {},
   "outputs": [],
   "source": [
    "# создание корпусов\n",
    "#corpus_train = data_train['text'].values.astype('U')\n",
    "#corpus_valid = data_valid['text'].values.astype('U')\n",
    "#corpus_test = data_test['text'].values.astype('U')"
   ]
  },
  {
   "cell_type": "code",
   "execution_count": 10,
   "metadata": {},
   "outputs": [],
   "source": [
    "# создание стоп-слов\n",
    "#stopwords = set(nltk_stopwords.words('english'))"
   ]
  },
  {
   "cell_type": "markdown",
   "metadata": {},
   "source": [
    "<div class=\"alert alert-block alert-info\">\n",
    "<b>Совет: </b> Русские стоп-слова в английских текстах?\n",
    "</div>"
   ]
  },
  {
   "cell_type": "markdown",
   "metadata": {},
   "source": [
    "<div class=\"alert alert-block alert-warning\">\n",
    "<b>Комментарий студентки: </b> Ой, и правда, что ж я так. Исправила. \n",
    "</div>"
   ]
  },
  {
   "cell_type": "code",
   "execution_count": 11,
   "metadata": {},
   "outputs": [],
   "source": [
    "# создание счетчика\n",
    "#count_tf_idf = TfidfVectorizer(stop_words=stopwords)\n",
    "#tf_idf = count_tf_idf.fit(corpus_train)"
   ]
  },
  {
   "cell_type": "code",
   "execution_count": 12,
   "metadata": {},
   "outputs": [],
   "source": [
    "# выделение признаков\n",
    "#features_train = tf_idf.transform(corpus_train)\n",
    "#target_train = data_train['toxic']\n",
    "#features_valid = tf_idf.transform(corpus_valid)\n",
    "#target_valid = data_valid['toxic']\n",
    "#features_test = tf_idf.transform(corpus_test)\n",
    "#target_test = data_test['toxic']"
   ]
  },
  {
   "cell_type": "code",
   "execution_count": 13,
   "metadata": {},
   "outputs": [],
   "source": [
    "name_array = []\n",
    "f1_array = []"
   ]
  },
  {
   "cell_type": "markdown",
   "metadata": {},
   "source": [
    "<div class=\"alert alert-block alert-success\">\n",
    "<b>Успех:</b> Разбиение было сделано правильно. Отлично, что векторизатор был обучен только на тренировочной части данных.\n",
    "</div>\n",
    "\n",
    "<div class=\"alert alert-block alert-info\">\n",
    "<b>Совет: </b> Приводить тексты к юникоду не имеет смысла, так как они все на английском.\n",
    "</div>"
   ]
  },
  {
   "cell_type": "markdown",
   "metadata": {},
   "source": [
    "<div class=\"alert alert-block alert-warning\">\n",
    "<b>Изменения: </b> Я закомментила ненужные строки и добавила новое деление признаков ниже.\n",
    "</div>"
   ]
  },
  {
   "cell_type": "code",
   "execution_count": 14,
   "metadata": {},
   "outputs": [],
   "source": [
    "features_train, features_valid, target_train, target_valid = train_test_split(data['text'], \n",
    "                                                         data.drop('text', axis=1), \n",
    "                                                         test_size=0.2, \n",
    "                                                         random_state=12345)"
   ]
  },
  {
   "cell_type": "markdown",
   "metadata": {},
   "source": [
    "### Дерево решений"
   ]
  },
  {
   "cell_type": "code",
   "execution_count": 15,
   "metadata": {},
   "outputs": [],
   "source": [
    "pipe_dt = Pipeline([('vect', sklearn.feature_extraction.text.CountVectorizer()),\n",
    "                    ('tfidf', sklearn.feature_extraction.text.TfidfTransformer()),\n",
    "                    ('model', DecisionTreeClassifier(random_state=12345))])"
   ]
  },
  {
   "cell_type": "code",
   "execution_count": 16,
   "metadata": {},
   "outputs": [],
   "source": [
    "grid_params_dt = [{'model__criterion': ['gini', 'entropy'],\n",
    "        'model__max_depth': range (10, 60, 25)}]\n",
    "\n",
    "DT = GridSearchCV(estimator=pipe_dt,\n",
    "            param_grid= grid_params_dt,\n",
    "            scoring='f1',\n",
    "            cv= 10, \n",
    "            n_jobs= -1)"
   ]
  },
  {
   "cell_type": "code",
   "execution_count": 17,
   "metadata": {
    "scrolled": false
   },
   "outputs": [
    {
     "name": "stdout",
     "output_type": "stream",
     "text": [
      "Лучшие параметры {'model__criterion': 'gini', 'model__max_depth': 35}\n",
      "Метрика F1 0.677813263197445\n",
      "CPU times: user 49.5 s, sys: 2.73 s, total: 52.3 s\n",
      "Wall time: 4min 4s\n"
     ]
    }
   ],
   "source": [
    "%%time\n",
    "DT.fit(features_train, target_train)\n",
    "predictions = DT.predict(features_valid)\n",
    "f1 = f1_score(target_valid, predictions)\n",
    "print('Лучшие параметры', DT.best_params_)\n",
    "print('Метрика F1', f1)"
   ]
  },
  {
   "cell_type": "code",
   "execution_count": 18,
   "metadata": {},
   "outputs": [],
   "source": [
    "# best_depth = 10\n",
    "# best_f1 = f1\n",
    "# for depth in (20, 100, 20):\n",
    "#     pipe_dt = Pipeline([('vect', sklearn.feature_extraction.text.CountVectorizer()),\n",
    "#                  ('tfidf', sklearn.feature_extraction.text.TfidfTransformer()),\n",
    "#                  ('model', DecisionTreeClassifier(random_state=12345, max))])\n",
    "#     model_tree.fit(features_train, target_train)\n",
    "#     predictions = model_tree.predict(features_valid)\n",
    "#     f1 = f1_score(target_valid, predictions)\n",
    "#     if best_f1 < f1:\n",
    "#         best_f1 = f1\n",
    "#         best_depth = depth\n",
    "# print('Метрика F1 у дерева с глубиной {0}:'.format(best_depth), best_f1)"
   ]
  },
  {
   "cell_type": "markdown",
   "metadata": {},
   "source": [
    "<div class=\"alert alert-block alert-info\">\n",
    "<b>Совет: </b> Можно было использовать кросс-валидацию для подбора параметров. Напомню, что внутри кросс-валидации происходит разбиение выборки на треин и валидацию. Однако, в таком случае векторизатор обучен на всей выборке, а это не совсем корректно. Для избежания такого эффекта можно использовать <a href=\"https://scikit-learn.org/stable/modules/generated/sklearn.pipeline.Pipeline.html\">пайплайн</a>. <a href=\"https://medium.com/analytics-vidhya/ml-pipelines-using-scikit-learn-and-gridsearchcv-fe605a7f9e05\">Тут</a> есть пример.\n",
    "</div>"
   ]
  },
  {
   "cell_type": "markdown",
   "metadata": {},
   "source": [
    "<div class=\"alert alert-block alert-warning\">\n",
    "<b>Изменения: </b>  Закомментила ненужное и добавила пайплайны.\n",
    "</div>"
   ]
  },
  {
   "cell_type": "code",
   "execution_count": 19,
   "metadata": {},
   "outputs": [],
   "source": [
    "# %%time\n",
    "# model_tree = DecisionTreeClassifier(random_state=12345, max_depth=best_depth)\n",
    "# model_tree.fit(features_train, target_train)\n",
    "# predictions = model_tree.predict(features_valid)\n",
    "# f1 = f1_score(target_valid, predictions)\n",
    "# print('Метрика F1:', f1)"
   ]
  },
  {
   "cell_type": "code",
   "execution_count": 20,
   "metadata": {},
   "outputs": [],
   "source": [
    "name_array.append('DecisionTreeClassifier')\n",
    "f1_array.append(f1)"
   ]
  },
  {
   "cell_type": "markdown",
   "metadata": {},
   "source": [
    "<div class=\"alert alert-block alert-success\">\n",
    "<b>Успех (ревью 2):</b> Отлично, молодец! Все исправления корректны.\n",
    "</div>"
   ]
  },
  {
   "cell_type": "markdown",
   "metadata": {},
   "source": [
    "### Лес решений"
   ]
  },
  {
   "cell_type": "code",
   "execution_count": 21,
   "metadata": {},
   "outputs": [],
   "source": [
    "pipe_rf = Pipeline([('vect', sklearn.feature_extraction.text.CountVectorizer()),\n",
    "                    ('tfidf', sklearn.feature_extraction.text.TfidfTransformer()),\n",
    "                    ('model', RandomForestClassifier(random_state=12345))])"
   ]
  },
  {
   "cell_type": "code",
   "execution_count": 29,
   "metadata": {},
   "outputs": [],
   "source": [
    "grid_params_rf = [{'model__criterion': ['gini', 'entropy'],\n",
    "                   'model__max_depth': range (10, 60, 25)}]\n",
    "\n",
    "RF = GridSearchCV(estimator= pipe_rf,\n",
    "            param_grid= grid_params_rf,\n",
    "            scoring='f1',\n",
    "            cv= 10, \n",
    "            n_jobs= -1)"
   ]
  },
  {
   "cell_type": "code",
   "execution_count": 30,
   "metadata": {
    "scrolled": false
   },
   "outputs": [
    {
     "name": "stderr",
     "output_type": "stream",
     "text": [
      "/Users/darastrelkova/opt/anaconda3/lib/python3.9/site-packages/sklearn/pipeline.py:394: DataConversionWarning: A column-vector y was passed when a 1d array was expected. Please change the shape of y to (n_samples,), for example using ravel().\n",
      "  self._final_estimator.fit(Xt, y, **fit_params_last_step)\n",
      "/Users/darastrelkova/opt/anaconda3/lib/python3.9/site-packages/sklearn/pipeline.py:394: DataConversionWarning: A column-vector y was passed when a 1d array was expected. Please change the shape of y to (n_samples,), for example using ravel().\n",
      "  self._final_estimator.fit(Xt, y, **fit_params_last_step)\n",
      "/Users/darastrelkova/opt/anaconda3/lib/python3.9/site-packages/sklearn/pipeline.py:394: DataConversionWarning: A column-vector y was passed when a 1d array was expected. Please change the shape of y to (n_samples,), for example using ravel().\n",
      "  self._final_estimator.fit(Xt, y, **fit_params_last_step)\n",
      "/Users/darastrelkova/opt/anaconda3/lib/python3.9/site-packages/sklearn/pipeline.py:394: DataConversionWarning: A column-vector y was passed when a 1d array was expected. Please change the shape of y to (n_samples,), for example using ravel().\n",
      "  self._final_estimator.fit(Xt, y, **fit_params_last_step)\n",
      "/Users/darastrelkova/opt/anaconda3/lib/python3.9/site-packages/sklearn/pipeline.py:394: DataConversionWarning: A column-vector y was passed when a 1d array was expected. Please change the shape of y to (n_samples,), for example using ravel().\n",
      "  self._final_estimator.fit(Xt, y, **fit_params_last_step)\n",
      "/Users/darastrelkova/opt/anaconda3/lib/python3.9/site-packages/sklearn/pipeline.py:394: DataConversionWarning: A column-vector y was passed when a 1d array was expected. Please change the shape of y to (n_samples,), for example using ravel().\n",
      "  self._final_estimator.fit(Xt, y, **fit_params_last_step)\n",
      "/Users/darastrelkova/opt/anaconda3/lib/python3.9/site-packages/sklearn/pipeline.py:394: DataConversionWarning: A column-vector y was passed when a 1d array was expected. Please change the shape of y to (n_samples,), for example using ravel().\n",
      "  self._final_estimator.fit(Xt, y, **fit_params_last_step)\n",
      "/Users/darastrelkova/opt/anaconda3/lib/python3.9/site-packages/sklearn/pipeline.py:394: DataConversionWarning: A column-vector y was passed when a 1d array was expected. Please change the shape of y to (n_samples,), for example using ravel().\n",
      "  self._final_estimator.fit(Xt, y, **fit_params_last_step)\n",
      "/Users/darastrelkova/opt/anaconda3/lib/python3.9/site-packages/sklearn/pipeline.py:394: DataConversionWarning: A column-vector y was passed when a 1d array was expected. Please change the shape of y to (n_samples,), for example using ravel().\n",
      "  self._final_estimator.fit(Xt, y, **fit_params_last_step)\n",
      "/Users/darastrelkova/opt/anaconda3/lib/python3.9/site-packages/sklearn/pipeline.py:394: DataConversionWarning: A column-vector y was passed when a 1d array was expected. Please change the shape of y to (n_samples,), for example using ravel().\n",
      "  self._final_estimator.fit(Xt, y, **fit_params_last_step)\n",
      "/Users/darastrelkova/opt/anaconda3/lib/python3.9/site-packages/sklearn/pipeline.py:394: DataConversionWarning: A column-vector y was passed when a 1d array was expected. Please change the shape of y to (n_samples,), for example using ravel().\n",
      "  self._final_estimator.fit(Xt, y, **fit_params_last_step)\n",
      "/Users/darastrelkova/opt/anaconda3/lib/python3.9/site-packages/sklearn/pipeline.py:394: DataConversionWarning: A column-vector y was passed when a 1d array was expected. Please change the shape of y to (n_samples,), for example using ravel().\n",
      "  self._final_estimator.fit(Xt, y, **fit_params_last_step)\n",
      "/Users/darastrelkova/opt/anaconda3/lib/python3.9/site-packages/sklearn/pipeline.py:394: DataConversionWarning: A column-vector y was passed when a 1d array was expected. Please change the shape of y to (n_samples,), for example using ravel().\n",
      "  self._final_estimator.fit(Xt, y, **fit_params_last_step)\n",
      "/Users/darastrelkova/opt/anaconda3/lib/python3.9/site-packages/sklearn/pipeline.py:394: DataConversionWarning: A column-vector y was passed when a 1d array was expected. Please change the shape of y to (n_samples,), for example using ravel().\n",
      "  self._final_estimator.fit(Xt, y, **fit_params_last_step)\n",
      "/Users/darastrelkova/opt/anaconda3/lib/python3.9/site-packages/sklearn/pipeline.py:394: DataConversionWarning: A column-vector y was passed when a 1d array was expected. Please change the shape of y to (n_samples,), for example using ravel().\n",
      "  self._final_estimator.fit(Xt, y, **fit_params_last_step)\n",
      "/Users/darastrelkova/opt/anaconda3/lib/python3.9/site-packages/sklearn/pipeline.py:394: DataConversionWarning: A column-vector y was passed when a 1d array was expected. Please change the shape of y to (n_samples,), for example using ravel().\n",
      "  self._final_estimator.fit(Xt, y, **fit_params_last_step)\n",
      "/Users/darastrelkova/opt/anaconda3/lib/python3.9/site-packages/sklearn/pipeline.py:394: DataConversionWarning: A column-vector y was passed when a 1d array was expected. Please change the shape of y to (n_samples,), for example using ravel().\n",
      "  self._final_estimator.fit(Xt, y, **fit_params_last_step)\n",
      "/Users/darastrelkova/opt/anaconda3/lib/python3.9/site-packages/sklearn/pipeline.py:394: DataConversionWarning: A column-vector y was passed when a 1d array was expected. Please change the shape of y to (n_samples,), for example using ravel().\n",
      "  self._final_estimator.fit(Xt, y, **fit_params_last_step)\n",
      "/Users/darastrelkova/opt/anaconda3/lib/python3.9/site-packages/sklearn/pipeline.py:394: DataConversionWarning: A column-vector y was passed when a 1d array was expected. Please change the shape of y to (n_samples,), for example using ravel().\n",
      "  self._final_estimator.fit(Xt, y, **fit_params_last_step)\n",
      "/Users/darastrelkova/opt/anaconda3/lib/python3.9/site-packages/sklearn/pipeline.py:394: DataConversionWarning: A column-vector y was passed when a 1d array was expected. Please change the shape of y to (n_samples,), for example using ravel().\n",
      "  self._final_estimator.fit(Xt, y, **fit_params_last_step)\n",
      "/Users/darastrelkova/opt/anaconda3/lib/python3.9/site-packages/sklearn/pipeline.py:394: DataConversionWarning: A column-vector y was passed when a 1d array was expected. Please change the shape of y to (n_samples,), for example using ravel().\n",
      "  self._final_estimator.fit(Xt, y, **fit_params_last_step)\n",
      "/Users/darastrelkova/opt/anaconda3/lib/python3.9/site-packages/sklearn/pipeline.py:394: DataConversionWarning: A column-vector y was passed when a 1d array was expected. Please change the shape of y to (n_samples,), for example using ravel().\n",
      "  self._final_estimator.fit(Xt, y, **fit_params_last_step)\n",
      "/Users/darastrelkova/opt/anaconda3/lib/python3.9/site-packages/sklearn/pipeline.py:394: DataConversionWarning: A column-vector y was passed when a 1d array was expected. Please change the shape of y to (n_samples,), for example using ravel().\n",
      "  self._final_estimator.fit(Xt, y, **fit_params_last_step)\n",
      "/Users/darastrelkova/opt/anaconda3/lib/python3.9/site-packages/sklearn/pipeline.py:394: DataConversionWarning: A column-vector y was passed when a 1d array was expected. Please change the shape of y to (n_samples,), for example using ravel().\n",
      "  self._final_estimator.fit(Xt, y, **fit_params_last_step)\n",
      "/Users/darastrelkova/opt/anaconda3/lib/python3.9/site-packages/sklearn/pipeline.py:394: DataConversionWarning: A column-vector y was passed when a 1d array was expected. Please change the shape of y to (n_samples,), for example using ravel().\n",
      "  self._final_estimator.fit(Xt, y, **fit_params_last_step)\n",
      "/Users/darastrelkova/opt/anaconda3/lib/python3.9/site-packages/sklearn/pipeline.py:394: DataConversionWarning: A column-vector y was passed when a 1d array was expected. Please change the shape of y to (n_samples,), for example using ravel().\n",
      "  self._final_estimator.fit(Xt, y, **fit_params_last_step)\n",
      "/Users/darastrelkova/opt/anaconda3/lib/python3.9/site-packages/sklearn/pipeline.py:394: DataConversionWarning: A column-vector y was passed when a 1d array was expected. Please change the shape of y to (n_samples,), for example using ravel().\n",
      "  self._final_estimator.fit(Xt, y, **fit_params_last_step)\n",
      "/Users/darastrelkova/opt/anaconda3/lib/python3.9/site-packages/sklearn/pipeline.py:394: DataConversionWarning: A column-vector y was passed when a 1d array was expected. Please change the shape of y to (n_samples,), for example using ravel().\n",
      "  self._final_estimator.fit(Xt, y, **fit_params_last_step)\n",
      "/Users/darastrelkova/opt/anaconda3/lib/python3.9/site-packages/sklearn/pipeline.py:394: DataConversionWarning: A column-vector y was passed when a 1d array was expected. Please change the shape of y to (n_samples,), for example using ravel().\n",
      "  self._final_estimator.fit(Xt, y, **fit_params_last_step)\n",
      "/Users/darastrelkova/opt/anaconda3/lib/python3.9/site-packages/sklearn/pipeline.py:394: DataConversionWarning: A column-vector y was passed when a 1d array was expected. Please change the shape of y to (n_samples,), for example using ravel().\n",
      "  self._final_estimator.fit(Xt, y, **fit_params_last_step)\n",
      "/Users/darastrelkova/opt/anaconda3/lib/python3.9/site-packages/sklearn/pipeline.py:394: DataConversionWarning: A column-vector y was passed when a 1d array was expected. Please change the shape of y to (n_samples,), for example using ravel().\n",
      "  self._final_estimator.fit(Xt, y, **fit_params_last_step)\n",
      "/Users/darastrelkova/opt/anaconda3/lib/python3.9/site-packages/sklearn/pipeline.py:394: DataConversionWarning: A column-vector y was passed when a 1d array was expected. Please change the shape of y to (n_samples,), for example using ravel().\n",
      "  self._final_estimator.fit(Xt, y, **fit_params_last_step)\n",
      "/Users/darastrelkova/opt/anaconda3/lib/python3.9/site-packages/sklearn/pipeline.py:394: DataConversionWarning: A column-vector y was passed when a 1d array was expected. Please change the shape of y to (n_samples,), for example using ravel().\n",
      "  self._final_estimator.fit(Xt, y, **fit_params_last_step)\n",
      "/Users/darastrelkova/opt/anaconda3/lib/python3.9/site-packages/sklearn/pipeline.py:394: DataConversionWarning: A column-vector y was passed when a 1d array was expected. Please change the shape of y to (n_samples,), for example using ravel().\n",
      "  self._final_estimator.fit(Xt, y, **fit_params_last_step)\n",
      "/Users/darastrelkova/opt/anaconda3/lib/python3.9/site-packages/sklearn/pipeline.py:394: DataConversionWarning: A column-vector y was passed when a 1d array was expected. Please change the shape of y to (n_samples,), for example using ravel().\n",
      "  self._final_estimator.fit(Xt, y, **fit_params_last_step)\n",
      "/Users/darastrelkova/opt/anaconda3/lib/python3.9/site-packages/sklearn/pipeline.py:394: DataConversionWarning: A column-vector y was passed when a 1d array was expected. Please change the shape of y to (n_samples,), for example using ravel().\n",
      "  self._final_estimator.fit(Xt, y, **fit_params_last_step)\n",
      "/Users/darastrelkova/opt/anaconda3/lib/python3.9/site-packages/sklearn/pipeline.py:394: DataConversionWarning: A column-vector y was passed when a 1d array was expected. Please change the shape of y to (n_samples,), for example using ravel().\n",
      "  self._final_estimator.fit(Xt, y, **fit_params_last_step)\n",
      "/Users/darastrelkova/opt/anaconda3/lib/python3.9/site-packages/sklearn/pipeline.py:394: DataConversionWarning: A column-vector y was passed when a 1d array was expected. Please change the shape of y to (n_samples,), for example using ravel().\n",
      "  self._final_estimator.fit(Xt, y, **fit_params_last_step)\n",
      "/Users/darastrelkova/opt/anaconda3/lib/python3.9/site-packages/sklearn/pipeline.py:394: DataConversionWarning: A column-vector y was passed when a 1d array was expected. Please change the shape of y to (n_samples,), for example using ravel().\n",
      "  self._final_estimator.fit(Xt, y, **fit_params_last_step)\n",
      "/Users/darastrelkova/opt/anaconda3/lib/python3.9/site-packages/sklearn/pipeline.py:394: DataConversionWarning: A column-vector y was passed when a 1d array was expected. Please change the shape of y to (n_samples,), for example using ravel().\n",
      "  self._final_estimator.fit(Xt, y, **fit_params_last_step)\n",
      "/Users/darastrelkova/opt/anaconda3/lib/python3.9/site-packages/sklearn/pipeline.py:394: DataConversionWarning: A column-vector y was passed when a 1d array was expected. Please change the shape of y to (n_samples,), for example using ravel().\n",
      "  self._final_estimator.fit(Xt, y, **fit_params_last_step)\n"
     ]
    },
    {
     "name": "stdout",
     "output_type": "stream",
     "text": [
      "Лучшие параметры: {'model__criterion': 'entropy', 'model__max_depth': 35}\n",
      "Метрика F1: 0.01349279362158847\n",
      "CPU times: user 31.9 s, sys: 2.67 s, total: 34.6 s\n",
      "Wall time: 3min 18s\n"
     ]
    }
   ],
   "source": [
    "%%time\n",
    "RF.fit(features_train, target_train)\n",
    "predictions = RF.predict(features_valid)\n",
    "print('Лучшие параметры:', RF.best_params_)\n",
    "f1 = f1_score(target_valid, predictions)\n",
    "print('Метрика F1:', f1)"
   ]
  },
  {
   "cell_type": "code",
   "execution_count": 31,
   "metadata": {},
   "outputs": [],
   "source": [
    "name_array.append('RandomForestClassifier')\n",
    "f1_array.append(f1)"
   ]
  },
  {
   "cell_type": "markdown",
   "metadata": {},
   "source": [
    "В данном случае лес решений обучается слишком долго, я не вижу смысла в дальнейшей подборке гиперпараметров."
   ]
  },
  {
   "cell_type": "markdown",
   "metadata": {},
   "source": [
    "### Логистическая регрессия"
   ]
  },
  {
   "cell_type": "code",
   "execution_count": 32,
   "metadata": {},
   "outputs": [],
   "source": [
    "pipe_lr = Pipeline([('vect', sklearn.feature_extraction.text.CountVectorizer()),\n",
    "                    ('tfidf', sklearn.feature_extraction.text.TfidfTransformer()),\n",
    "                    ('model', LogisticRegression())])"
   ]
  },
  {
   "cell_type": "code",
   "execution_count": 34,
   "metadata": {},
   "outputs": [],
   "source": [
    "grid_params_lr = [{'model__penalty': ['l1', 'l2'],\n",
    "                   'model__C': [1.0, 0.5],\n",
    "                   'model__solver': ['liblinear']}]\n",
    "\n",
    "LR = GridSearchCV(estimator= pipe_lr,\n",
    "            param_grid= grid_params_lr,\n",
    "            scoring='f1',\n",
    "            cv= 10)"
   ]
  },
  {
   "cell_type": "code",
   "execution_count": 35,
   "metadata": {
    "scrolled": false
   },
   "outputs": [
    {
     "name": "stderr",
     "output_type": "stream",
     "text": [
      "/Users/darastrelkova/opt/anaconda3/lib/python3.9/site-packages/sklearn/utils/validation.py:993: DataConversionWarning: A column-vector y was passed when a 1d array was expected. Please change the shape of y to (n_samples, ), for example using ravel().\n",
      "  y = column_or_1d(y, warn=True)\n",
      "/Users/darastrelkova/opt/anaconda3/lib/python3.9/site-packages/sklearn/utils/validation.py:993: DataConversionWarning: A column-vector y was passed when a 1d array was expected. Please change the shape of y to (n_samples, ), for example using ravel().\n",
      "  y = column_or_1d(y, warn=True)\n",
      "/Users/darastrelkova/opt/anaconda3/lib/python3.9/site-packages/sklearn/utils/validation.py:993: DataConversionWarning: A column-vector y was passed when a 1d array was expected. Please change the shape of y to (n_samples, ), for example using ravel().\n",
      "  y = column_or_1d(y, warn=True)\n",
      "/Users/darastrelkova/opt/anaconda3/lib/python3.9/site-packages/sklearn/utils/validation.py:993: DataConversionWarning: A column-vector y was passed when a 1d array was expected. Please change the shape of y to (n_samples, ), for example using ravel().\n",
      "  y = column_or_1d(y, warn=True)\n",
      "/Users/darastrelkova/opt/anaconda3/lib/python3.9/site-packages/sklearn/utils/validation.py:993: DataConversionWarning: A column-vector y was passed when a 1d array was expected. Please change the shape of y to (n_samples, ), for example using ravel().\n",
      "  y = column_or_1d(y, warn=True)\n",
      "/Users/darastrelkova/opt/anaconda3/lib/python3.9/site-packages/sklearn/utils/validation.py:993: DataConversionWarning: A column-vector y was passed when a 1d array was expected. Please change the shape of y to (n_samples, ), for example using ravel().\n",
      "  y = column_or_1d(y, warn=True)\n",
      "/Users/darastrelkova/opt/anaconda3/lib/python3.9/site-packages/sklearn/utils/validation.py:993: DataConversionWarning: A column-vector y was passed when a 1d array was expected. Please change the shape of y to (n_samples, ), for example using ravel().\n",
      "  y = column_or_1d(y, warn=True)\n",
      "/Users/darastrelkova/opt/anaconda3/lib/python3.9/site-packages/sklearn/utils/validation.py:993: DataConversionWarning: A column-vector y was passed when a 1d array was expected. Please change the shape of y to (n_samples, ), for example using ravel().\n",
      "  y = column_or_1d(y, warn=True)\n",
      "/Users/darastrelkova/opt/anaconda3/lib/python3.9/site-packages/sklearn/utils/validation.py:993: DataConversionWarning: A column-vector y was passed when a 1d array was expected. Please change the shape of y to (n_samples, ), for example using ravel().\n",
      "  y = column_or_1d(y, warn=True)\n",
      "/Users/darastrelkova/opt/anaconda3/lib/python3.9/site-packages/sklearn/utils/validation.py:993: DataConversionWarning: A column-vector y was passed when a 1d array was expected. Please change the shape of y to (n_samples, ), for example using ravel().\n",
      "  y = column_or_1d(y, warn=True)\n",
      "/Users/darastrelkova/opt/anaconda3/lib/python3.9/site-packages/sklearn/utils/validation.py:993: DataConversionWarning: A column-vector y was passed when a 1d array was expected. Please change the shape of y to (n_samples, ), for example using ravel().\n",
      "  y = column_or_1d(y, warn=True)\n",
      "/Users/darastrelkova/opt/anaconda3/lib/python3.9/site-packages/sklearn/utils/validation.py:993: DataConversionWarning: A column-vector y was passed when a 1d array was expected. Please change the shape of y to (n_samples, ), for example using ravel().\n",
      "  y = column_or_1d(y, warn=True)\n",
      "/Users/darastrelkova/opt/anaconda3/lib/python3.9/site-packages/sklearn/utils/validation.py:993: DataConversionWarning: A column-vector y was passed when a 1d array was expected. Please change the shape of y to (n_samples, ), for example using ravel().\n",
      "  y = column_or_1d(y, warn=True)\n",
      "/Users/darastrelkova/opt/anaconda3/lib/python3.9/site-packages/sklearn/utils/validation.py:993: DataConversionWarning: A column-vector y was passed when a 1d array was expected. Please change the shape of y to (n_samples, ), for example using ravel().\n",
      "  y = column_or_1d(y, warn=True)\n",
      "/Users/darastrelkova/opt/anaconda3/lib/python3.9/site-packages/sklearn/utils/validation.py:993: DataConversionWarning: A column-vector y was passed when a 1d array was expected. Please change the shape of y to (n_samples, ), for example using ravel().\n",
      "  y = column_or_1d(y, warn=True)\n",
      "/Users/darastrelkova/opt/anaconda3/lib/python3.9/site-packages/sklearn/utils/validation.py:993: DataConversionWarning: A column-vector y was passed when a 1d array was expected. Please change the shape of y to (n_samples, ), for example using ravel().\n",
      "  y = column_or_1d(y, warn=True)\n",
      "/Users/darastrelkova/opt/anaconda3/lib/python3.9/site-packages/sklearn/utils/validation.py:993: DataConversionWarning: A column-vector y was passed when a 1d array was expected. Please change the shape of y to (n_samples, ), for example using ravel().\n",
      "  y = column_or_1d(y, warn=True)\n",
      "/Users/darastrelkova/opt/anaconda3/lib/python3.9/site-packages/sklearn/utils/validation.py:993: DataConversionWarning: A column-vector y was passed when a 1d array was expected. Please change the shape of y to (n_samples, ), for example using ravel().\n",
      "  y = column_or_1d(y, warn=True)\n",
      "/Users/darastrelkova/opt/anaconda3/lib/python3.9/site-packages/sklearn/utils/validation.py:993: DataConversionWarning: A column-vector y was passed when a 1d array was expected. Please change the shape of y to (n_samples, ), for example using ravel().\n",
      "  y = column_or_1d(y, warn=True)\n",
      "/Users/darastrelkova/opt/anaconda3/lib/python3.9/site-packages/sklearn/utils/validation.py:993: DataConversionWarning: A column-vector y was passed when a 1d array was expected. Please change the shape of y to (n_samples, ), for example using ravel().\n",
      "  y = column_or_1d(y, warn=True)\n",
      "/Users/darastrelkova/opt/anaconda3/lib/python3.9/site-packages/sklearn/utils/validation.py:993: DataConversionWarning: A column-vector y was passed when a 1d array was expected. Please change the shape of y to (n_samples, ), for example using ravel().\n",
      "  y = column_or_1d(y, warn=True)\n",
      "/Users/darastrelkova/opt/anaconda3/lib/python3.9/site-packages/sklearn/utils/validation.py:993: DataConversionWarning: A column-vector y was passed when a 1d array was expected. Please change the shape of y to (n_samples, ), for example using ravel().\n",
      "  y = column_or_1d(y, warn=True)\n",
      "/Users/darastrelkova/opt/anaconda3/lib/python3.9/site-packages/sklearn/utils/validation.py:993: DataConversionWarning: A column-vector y was passed when a 1d array was expected. Please change the shape of y to (n_samples, ), for example using ravel().\n",
      "  y = column_or_1d(y, warn=True)\n",
      "/Users/darastrelkova/opt/anaconda3/lib/python3.9/site-packages/sklearn/utils/validation.py:993: DataConversionWarning: A column-vector y was passed when a 1d array was expected. Please change the shape of y to (n_samples, ), for example using ravel().\n",
      "  y = column_or_1d(y, warn=True)\n",
      "/Users/darastrelkova/opt/anaconda3/lib/python3.9/site-packages/sklearn/utils/validation.py:993: DataConversionWarning: A column-vector y was passed when a 1d array was expected. Please change the shape of y to (n_samples, ), for example using ravel().\n",
      "  y = column_or_1d(y, warn=True)\n",
      "/Users/darastrelkova/opt/anaconda3/lib/python3.9/site-packages/sklearn/utils/validation.py:993: DataConversionWarning: A column-vector y was passed when a 1d array was expected. Please change the shape of y to (n_samples, ), for example using ravel().\n",
      "  y = column_or_1d(y, warn=True)\n",
      "/Users/darastrelkova/opt/anaconda3/lib/python3.9/site-packages/sklearn/utils/validation.py:993: DataConversionWarning: A column-vector y was passed when a 1d array was expected. Please change the shape of y to (n_samples, ), for example using ravel().\n",
      "  y = column_or_1d(y, warn=True)\n",
      "/Users/darastrelkova/opt/anaconda3/lib/python3.9/site-packages/sklearn/utils/validation.py:993: DataConversionWarning: A column-vector y was passed when a 1d array was expected. Please change the shape of y to (n_samples, ), for example using ravel().\n",
      "  y = column_or_1d(y, warn=True)\n",
      "/Users/darastrelkova/opt/anaconda3/lib/python3.9/site-packages/sklearn/utils/validation.py:993: DataConversionWarning: A column-vector y was passed when a 1d array was expected. Please change the shape of y to (n_samples, ), for example using ravel().\n",
      "  y = column_or_1d(y, warn=True)\n",
      "/Users/darastrelkova/opt/anaconda3/lib/python3.9/site-packages/sklearn/utils/validation.py:993: DataConversionWarning: A column-vector y was passed when a 1d array was expected. Please change the shape of y to (n_samples, ), for example using ravel().\n",
      "  y = column_or_1d(y, warn=True)\n",
      "/Users/darastrelkova/opt/anaconda3/lib/python3.9/site-packages/sklearn/utils/validation.py:993: DataConversionWarning: A column-vector y was passed when a 1d array was expected. Please change the shape of y to (n_samples, ), for example using ravel().\n",
      "  y = column_or_1d(y, warn=True)\n",
      "/Users/darastrelkova/opt/anaconda3/lib/python3.9/site-packages/sklearn/utils/validation.py:993: DataConversionWarning: A column-vector y was passed when a 1d array was expected. Please change the shape of y to (n_samples, ), for example using ravel().\n",
      "  y = column_or_1d(y, warn=True)\n",
      "/Users/darastrelkova/opt/anaconda3/lib/python3.9/site-packages/sklearn/utils/validation.py:993: DataConversionWarning: A column-vector y was passed when a 1d array was expected. Please change the shape of y to (n_samples, ), for example using ravel().\n",
      "  y = column_or_1d(y, warn=True)\n",
      "/Users/darastrelkova/opt/anaconda3/lib/python3.9/site-packages/sklearn/utils/validation.py:993: DataConversionWarning: A column-vector y was passed when a 1d array was expected. Please change the shape of y to (n_samples, ), for example using ravel().\n",
      "  y = column_or_1d(y, warn=True)\n",
      "/Users/darastrelkova/opt/anaconda3/lib/python3.9/site-packages/sklearn/utils/validation.py:993: DataConversionWarning: A column-vector y was passed when a 1d array was expected. Please change the shape of y to (n_samples, ), for example using ravel().\n",
      "  y = column_or_1d(y, warn=True)\n",
      "/Users/darastrelkova/opt/anaconda3/lib/python3.9/site-packages/sklearn/utils/validation.py:993: DataConversionWarning: A column-vector y was passed when a 1d array was expected. Please change the shape of y to (n_samples, ), for example using ravel().\n",
      "  y = column_or_1d(y, warn=True)\n",
      "/Users/darastrelkova/opt/anaconda3/lib/python3.9/site-packages/sklearn/utils/validation.py:993: DataConversionWarning: A column-vector y was passed when a 1d array was expected. Please change the shape of y to (n_samples, ), for example using ravel().\n",
      "  y = column_or_1d(y, warn=True)\n",
      "/Users/darastrelkova/opt/anaconda3/lib/python3.9/site-packages/sklearn/utils/validation.py:993: DataConversionWarning: A column-vector y was passed when a 1d array was expected. Please change the shape of y to (n_samples, ), for example using ravel().\n",
      "  y = column_or_1d(y, warn=True)\n",
      "/Users/darastrelkova/opt/anaconda3/lib/python3.9/site-packages/sklearn/utils/validation.py:993: DataConversionWarning: A column-vector y was passed when a 1d array was expected. Please change the shape of y to (n_samples, ), for example using ravel().\n",
      "  y = column_or_1d(y, warn=True)\n",
      "/Users/darastrelkova/opt/anaconda3/lib/python3.9/site-packages/sklearn/utils/validation.py:993: DataConversionWarning: A column-vector y was passed when a 1d array was expected. Please change the shape of y to (n_samples, ), for example using ravel().\n",
      "  y = column_or_1d(y, warn=True)\n",
      "/Users/darastrelkova/opt/anaconda3/lib/python3.9/site-packages/sklearn/utils/validation.py:993: DataConversionWarning: A column-vector y was passed when a 1d array was expected. Please change the shape of y to (n_samples, ), for example using ravel().\n",
      "  y = column_or_1d(y, warn=True)\n"
     ]
    },
    {
     "name": "stdout",
     "output_type": "stream",
     "text": [
      "Лучшие параметры: {'model__C': 1.0, 'model__penalty': 'l1', 'model__solver': 'liblinear'}\n",
      "Метрика F1: 0.7863604732080723\n",
      "CPU times: user 6min 55s, sys: 7.69 s, total: 7min 3s\n",
      "Wall time: 4min 14s\n"
     ]
    }
   ],
   "source": [
    "%%time\n",
    "LR.fit(features_train, target_train)\n",
    "predictions = LR.predict(features_valid)\n",
    "print('Лучшие параметры:', LR.best_params_)\n",
    "f1 = f1_score(target_valid, predictions)\n",
    "print('Метрика F1:', f1)"
   ]
  },
  {
   "cell_type": "code",
   "execution_count": 36,
   "metadata": {},
   "outputs": [],
   "source": [
    "name_array.append('LogisticRegression')\n",
    "f1_array.append(f1)"
   ]
  },
  {
   "cell_type": "markdown",
   "metadata": {},
   "source": [
    "<div class=\"alert alert-block alert-info\">\n",
    "<b>Совет: </b> Можно было подобрать параметр С к этой модели.\n",
    "</div>"
   ]
  },
  {
   "cell_type": "markdown",
   "metadata": {},
   "source": [
    "<div class=\"alert alert-block alert-warning\">\n",
    "<b>Комментарий студентки: </b> Подобрала.\n",
    "</div>"
   ]
  },
  {
   "cell_type": "markdown",
   "metadata": {},
   "source": [
    "<div class=\"alert alert-block alert-success\">\n",
    "<b>Успех (ревью 2):</b> ОК.\n",
    "</div>"
   ]
  },
  {
   "cell_type": "markdown",
   "metadata": {},
   "source": [
    "Код ниже падает, я не понимаю, почему"
   ]
  },
  {
   "cell_type": "code",
   "execution_count": null,
   "metadata": {},
   "outputs": [],
   "source": [
    "%%time\n",
    "#model_lgbm = LGBMModel(objective='binary', n_estimators=200, learning_rate=(0.2), max_depth=10)\n",
    "#model_lgbm.fit(features_train, target_train)\n",
    "#predictions = model_lgbm.predict(features_valid)\n",
    "#f1 = f1_score(target_valid, predictions)\n",
    "#print('Метрика F1:', f1)"
   ]
  },
  {
   "cell_type": "markdown",
   "metadata": {},
   "source": [
    "<div class=\"alert alert-block alert-info\">\n",
    "<b>Совет: </b> Ниже чем что, не очень понял этот комментарий.\n",
    "</div>"
   ]
  },
  {
   "cell_type": "markdown",
   "metadata": {},
   "source": [
    "<div class=\"alert alert-block alert-warning\">\n",
    "<b>Комментарий студентки: </b> Ээ, код в ячейке, который находится ниже моей фрзы (и выше твоего совета).\n",
    "</div>"
   ]
  },
  {
   "cell_type": "markdown",
   "metadata": {},
   "source": [
    "<div class=\"alert alert-block alert-info\">\n",
    "\n",
    "<b>Совет (ревью 2): </b> Нужно использовать `lightgbm.LGBMClassifier`  и на забудь импортировать этот класс.\n",
    "</div>"
   ]
  },
  {
   "cell_type": "markdown",
   "metadata": {},
   "source": [
    "### Выбор лучшей модели"
   ]
  },
  {
   "cell_type": "code",
   "execution_count": 37,
   "metadata": {},
   "outputs": [],
   "source": [
    "comparison_df = pd.DataFrame({\"Type\":pd.Series(name_array), \n",
    "                              \"F1\":pd.Series(f1_array)})"
   ]
  },
  {
   "cell_type": "code",
   "execution_count": 38,
   "metadata": {},
   "outputs": [
    {
     "data": {
      "text/html": [
       "<div>\n",
       "<style scoped>\n",
       "    .dataframe tbody tr th:only-of-type {\n",
       "        vertical-align: middle;\n",
       "    }\n",
       "\n",
       "    .dataframe tbody tr th {\n",
       "        vertical-align: top;\n",
       "    }\n",
       "\n",
       "    .dataframe thead th {\n",
       "        text-align: right;\n",
       "    }\n",
       "</style>\n",
       "<table border=\"1\" class=\"dataframe\">\n",
       "  <thead>\n",
       "    <tr style=\"text-align: right;\">\n",
       "      <th></th>\n",
       "      <th>Type</th>\n",
       "      <th>F1</th>\n",
       "    </tr>\n",
       "  </thead>\n",
       "  <tbody>\n",
       "    <tr>\n",
       "      <th>2</th>\n",
       "      <td>RandomForestClassifier</td>\n",
       "      <td>0.013493</td>\n",
       "    </tr>\n",
       "    <tr>\n",
       "      <th>0</th>\n",
       "      <td>DecisionTreeClassifier</td>\n",
       "      <td>0.677813</td>\n",
       "    </tr>\n",
       "    <tr>\n",
       "      <th>1</th>\n",
       "      <td>RandomForestClassifier</td>\n",
       "      <td>0.677813</td>\n",
       "    </tr>\n",
       "    <tr>\n",
       "      <th>3</th>\n",
       "      <td>LogisticRegression</td>\n",
       "      <td>0.786360</td>\n",
       "    </tr>\n",
       "  </tbody>\n",
       "</table>\n",
       "</div>"
      ],
      "text/plain": [
       "                     Type        F1\n",
       "2  RandomForestClassifier  0.013493\n",
       "0  DecisionTreeClassifier  0.677813\n",
       "1  RandomForestClassifier  0.677813\n",
       "3      LogisticRegression  0.786360"
      ]
     },
     "execution_count": 38,
     "metadata": {},
     "output_type": "execute_result"
    }
   ],
   "source": [
    "comparison_df.sort_values(by='F1')"
   ]
  },
  {
   "cell_type": "markdown",
   "metadata": {},
   "source": [
    "## Выводы"
   ]
  },
  {
   "cell_type": "markdown",
   "metadata": {},
   "source": [
    "В ходе проекта я предобработала признаки, на которых будет обучаться модель: проверила наличие пропусков и дубликатов, очистила тексты от ненужных символов, разбила на леммы. Обучила три разных модели: дерево решений, лес решений и логистическую регрессию. Для подбора параметров использовала пайплайны. Лучший результат показала логистическая регрессия. "
   ]
  },
  {
   "cell_type": "markdown",
   "metadata": {},
   "source": [
    "<div class=\"alert alert-block alert-info\">\n",
    "<b>Совет: </b> Достаточно подобрать параметр С к логистической регрессии.\n",
    "</div>"
   ]
  },
  {
   "cell_type": "markdown",
   "metadata": {},
   "source": [
    "<div class=\"alert alert-block alert-warning\">\n",
    "<b>Комментарий студентки: </b> Переписала вывод. Спасибо за проверку!\n",
    "</div>"
   ]
  },
  {
   "cell_type": "markdown",
   "metadata": {},
   "source": [
    "<div class=\"alert alert-block alert-success\">\n",
    "<b>Успех (ревью 2):</b> Отлично!\n",
    "</div>"
   ]
  },
  {
   "cell_type": "markdown",
   "metadata": {},
   "source": [
    "## Чек-лист проверки"
   ]
  },
  {
   "cell_type": "markdown",
   "metadata": {},
   "source": [
    "- [x]  Jupyter Notebook открыт\n",
    "- [ ]  Весь код выполняется без ошибок\n",
    "- [ ]  Ячейки с кодом расположены в порядке исполнения\n",
    "- [ ]  Данные загружены и подготовлены\n",
    "- [ ]  Модели обучены\n",
    "- [ ]  Значение метрики *F1* не меньше 0.75\n",
    "- [ ]  Выводы написаны"
   ]
  }
 ],
 "metadata": {
  "ExecuteTimeLog": [
   {
    "duration": 674,
    "start_time": "2022-05-27T18:15:39.002Z"
   },
   {
    "duration": 3749,
    "start_time": "2022-05-27T18:15:40.525Z"
   },
   {
    "duration": 33,
    "start_time": "2022-05-27T18:16:38.666Z"
   },
   {
    "duration": 221,
    "start_time": "2022-05-27T18:18:08.783Z"
   },
   {
    "duration": 454,
    "start_time": "2022-05-27T18:23:09.918Z"
   },
   {
    "duration": 55,
    "start_time": "2022-05-27T18:26:11.109Z"
   },
   {
    "duration": 1533,
    "start_time": "2022-05-27T18:30:29.006Z"
   },
   {
    "duration": 1413,
    "start_time": "2022-05-27T18:30:30.541Z"
   },
   {
    "duration": 88,
    "start_time": "2022-05-27T18:30:31.962Z"
   },
   {
    "duration": 613,
    "start_time": "2022-05-27T18:30:32.052Z"
   },
   {
    "duration": 78,
    "start_time": "2022-05-27T18:30:32.667Z"
   },
   {
    "duration": 1264,
    "start_time": "2022-05-27T18:31:00.200Z"
   },
   {
    "duration": 4332,
    "start_time": "2022-05-27T18:31:01.869Z"
   },
   {
    "duration": 28,
    "start_time": "2022-05-27T18:31:06.203Z"
   },
   {
    "duration": 240,
    "start_time": "2022-05-27T18:31:06.233Z"
   },
   {
    "duration": 37,
    "start_time": "2022-05-27T18:31:11.372Z"
   },
   {
    "duration": 209,
    "start_time": "2022-05-27T18:31:12.768Z"
   },
   {
    "duration": 24,
    "start_time": "2022-05-27T18:31:15.985Z"
   },
   {
    "duration": 79,
    "start_time": "2022-05-27T18:31:48.904Z"
   },
   {
    "duration": 1299,
    "start_time": "2022-05-27T18:31:57.281Z"
   },
   {
    "duration": 4238,
    "start_time": "2022-05-27T18:31:58.582Z"
   },
   {
    "duration": 43,
    "start_time": "2022-05-27T18:32:02.822Z"
   },
   {
    "duration": 221,
    "start_time": "2022-05-27T18:32:02.869Z"
   },
   {
    "duration": 32,
    "start_time": "2022-05-27T18:32:03.092Z"
   },
   {
    "duration": 2028,
    "start_time": "2022-05-27T18:32:03.126Z"
   },
   {
    "duration": 134,
    "start_time": "2022-05-27T18:32:05.156Z"
   },
   {
    "duration": 5,
    "start_time": "2022-05-27T18:32:43.559Z"
   },
   {
    "duration": 5,
    "start_time": "2022-05-27T18:32:47.178Z"
   },
   {
    "duration": 9,
    "start_time": "2022-05-27T18:35:36.371Z"
   },
   {
    "duration": 3,
    "start_time": "2022-05-27T18:35:53.975Z"
   },
   {
    "duration": 8796,
    "start_time": "2022-05-27T18:35:57.681Z"
   },
   {
    "duration": 11889,
    "start_time": "2022-05-27T18:36:06.479Z"
   },
   {
    "duration": 20,
    "start_time": "2022-05-27T18:37:08.972Z"
   },
   {
    "duration": 4,
    "start_time": "2022-05-27T18:44:43.476Z"
   },
   {
    "duration": 1902,
    "start_time": "2022-05-27T18:44:48.200Z"
   },
   {
    "duration": 14,
    "start_time": "2022-05-27T18:44:57.389Z"
   },
   {
    "duration": 4,
    "start_time": "2022-05-27T18:45:45.521Z"
   },
   {
    "duration": 3,
    "start_time": "2022-05-27T18:45:49.121Z"
   },
   {
    "duration": 21,
    "start_time": "2022-05-27T18:46:56.796Z"
   },
   {
    "duration": 6,
    "start_time": "2022-05-27T18:47:31.770Z"
   },
   {
    "duration": 3,
    "start_time": "2022-05-27T19:09:55.776Z"
   },
   {
    "duration": 2,
    "start_time": "2022-05-27T19:09:56.524Z"
   },
   {
    "duration": 135,
    "start_time": "2022-05-27T19:09:57.763Z"
   },
   {
    "duration": 4,
    "start_time": "2022-05-27T19:10:15.486Z"
   },
   {
    "duration": 220,
    "start_time": "2022-05-27T19:10:19.712Z"
   },
   {
    "duration": 2322,
    "start_time": "2022-05-27T19:10:30.159Z"
   },
   {
    "duration": 3808,
    "start_time": "2022-05-27T19:10:32.484Z"
   },
   {
    "duration": 29,
    "start_time": "2022-05-27T19:10:36.294Z"
   },
   {
    "duration": 240,
    "start_time": "2022-05-27T19:10:36.324Z"
   },
   {
    "duration": 4,
    "start_time": "2022-05-27T19:10:36.566Z"
   },
   {
    "duration": 9,
    "start_time": "2022-05-27T19:10:36.572Z"
   },
   {
    "duration": 173,
    "start_time": "2022-05-27T19:10:36.592Z"
   },
   {
    "duration": 0,
    "start_time": "2022-05-27T19:10:36.767Z"
   },
   {
    "duration": 0,
    "start_time": "2022-05-27T19:10:36.769Z"
   },
   {
    "duration": 0,
    "start_time": "2022-05-27T19:10:36.770Z"
   },
   {
    "duration": 0,
    "start_time": "2022-05-27T19:10:36.770Z"
   },
   {
    "duration": 0,
    "start_time": "2022-05-27T19:10:36.771Z"
   },
   {
    "duration": 0,
    "start_time": "2022-05-27T19:10:36.772Z"
   },
   {
    "duration": 3,
    "start_time": "2022-05-27T19:11:14.884Z"
   },
   {
    "duration": 4,
    "start_time": "2022-05-27T19:11:15.576Z"
   },
   {
    "duration": 10194,
    "start_time": "2022-05-27T19:11:16.114Z"
   },
   {
    "duration": 10,
    "start_time": "2022-05-27T19:11:40.296Z"
   },
   {
    "duration": 1749,
    "start_time": "2022-05-27T19:12:01.038Z"
   },
   {
    "duration": 2285,
    "start_time": "2022-05-27T19:12:02.789Z"
   },
   {
    "duration": 43,
    "start_time": "2022-05-27T19:12:05.076Z"
   },
   {
    "duration": 311,
    "start_time": "2022-05-27T19:12:05.122Z"
   },
   {
    "duration": 8,
    "start_time": "2022-05-27T19:12:05.436Z"
   },
   {
    "duration": 22,
    "start_time": "2022-05-27T19:12:05.448Z"
   },
   {
    "duration": 191,
    "start_time": "2022-05-27T19:12:05.473Z"
   },
   {
    "duration": 0,
    "start_time": "2022-05-27T19:12:05.672Z"
   },
   {
    "duration": 0,
    "start_time": "2022-05-27T19:12:05.673Z"
   },
   {
    "duration": 0,
    "start_time": "2022-05-27T19:12:05.677Z"
   },
   {
    "duration": 0,
    "start_time": "2022-05-27T19:12:05.679Z"
   },
   {
    "duration": 0,
    "start_time": "2022-05-27T19:12:05.680Z"
   },
   {
    "duration": 0,
    "start_time": "2022-05-27T19:12:05.681Z"
   },
   {
    "duration": 0,
    "start_time": "2022-05-27T19:12:05.683Z"
   },
   {
    "duration": 3,
    "start_time": "2022-05-27T19:12:26.593Z"
   },
   {
    "duration": 3,
    "start_time": "2022-05-27T19:12:27.081Z"
   },
   {
    "duration": 8646,
    "start_time": "2022-05-27T19:12:27.621Z"
   },
   {
    "duration": 4,
    "start_time": "2022-05-27T19:13:39.408Z"
   },
   {
    "duration": 3,
    "start_time": "2022-05-27T19:13:39.880Z"
   },
   {
    "duration": 1944,
    "start_time": "2022-05-27T19:13:40.362Z"
   },
   {
    "duration": 1124,
    "start_time": "2022-05-27T19:13:47.105Z"
   },
   {
    "duration": 1639,
    "start_time": "2022-05-27T19:13:48.231Z"
   },
   {
    "duration": 86,
    "start_time": "2022-05-27T19:13:49.873Z"
   },
   {
    "duration": 495,
    "start_time": "2022-05-27T19:13:49.962Z"
   },
   {
    "duration": 3,
    "start_time": "2022-05-27T19:13:50.462Z"
   },
   {
    "duration": 10,
    "start_time": "2022-05-27T19:13:50.467Z"
   },
   {
    "duration": 7491,
    "start_time": "2022-05-27T19:13:50.479Z"
   },
   {
    "duration": 9,
    "start_time": "2022-05-27T19:13:57.971Z"
   },
   {
    "duration": 31,
    "start_time": "2022-05-27T19:13:57.982Z"
   },
   {
    "duration": 1797,
    "start_time": "2022-05-27T19:15:19.998Z"
   },
   {
    "duration": 3682,
    "start_time": "2022-05-27T19:15:21.797Z"
   },
   {
    "duration": 29,
    "start_time": "2022-05-27T19:15:25.481Z"
   },
   {
    "duration": 242,
    "start_time": "2022-05-27T19:15:25.512Z"
   },
   {
    "duration": 3,
    "start_time": "2022-05-27T19:15:25.756Z"
   },
   {
    "duration": 12,
    "start_time": "2022-05-27T19:15:25.760Z"
   },
   {
    "duration": 4278,
    "start_time": "2022-05-27T19:15:25.774Z"
   },
   {
    "duration": 11,
    "start_time": "2022-05-27T19:15:30.053Z"
   },
   {
    "duration": 4,
    "start_time": "2022-05-27T19:16:06.327Z"
   },
   {
    "duration": 876,
    "start_time": "2022-05-27T19:16:06.357Z"
   },
   {
    "duration": 42,
    "start_time": "2022-05-27T19:16:07.243Z"
   },
   {
    "duration": 250,
    "start_time": "2022-05-27T19:16:07.287Z"
   },
   {
    "duration": 13,
    "start_time": "2022-05-27T19:16:07.538Z"
   },
   {
    "duration": 3,
    "start_time": "2022-05-27T19:16:07.553Z"
   },
   {
    "duration": 7027,
    "start_time": "2022-05-27T19:16:07.558Z"
   },
   {
    "duration": 9,
    "start_time": "2022-05-27T19:16:14.587Z"
   },
   {
    "duration": 23,
    "start_time": "2022-05-27T19:16:36.108Z"
   },
   {
    "duration": 2048,
    "start_time": "2022-05-27T19:16:36.895Z"
   },
   {
    "duration": 5,
    "start_time": "2022-05-27T19:16:41.663Z"
   },
   {
    "duration": 7754,
    "start_time": "2022-05-27T19:16:42.373Z"
   },
   {
    "duration": 10625,
    "start_time": "2022-05-27T19:16:51.992Z"
   },
   {
    "duration": 286367,
    "start_time": "2022-05-27T19:19:43.204Z"
   },
   {
    "duration": 4,
    "start_time": "2022-05-27T19:31:42.527Z"
   },
   {
    "duration": 5,
    "start_time": "2022-05-27T19:31:55.579Z"
   },
   {
    "duration": 123,
    "start_time": "2022-05-27T19:35:02.382Z"
   },
   {
    "duration": 4,
    "start_time": "2022-05-27T19:35:06.877Z"
   },
   {
    "duration": 17,
    "start_time": "2022-05-27T19:35:11.737Z"
   },
   {
    "duration": 11,
    "start_time": "2022-05-27T19:38:18.779Z"
   },
   {
    "duration": 15,
    "start_time": "2022-05-27T19:38:44.787Z"
   },
   {
    "duration": 69262,
    "start_time": "2022-05-27T19:38:45.911Z"
   },
   {
    "duration": 4,
    "start_time": "2022-05-27T19:47:12.218Z"
   },
   {
    "duration": 4,
    "start_time": "2022-05-27T19:47:29.656Z"
   },
   {
    "duration": 295980,
    "start_time": "2022-05-27T19:48:13.694Z"
   },
   {
    "duration": 1523,
    "start_time": "2022-05-27T19:53:19.054Z"
   },
   {
    "duration": 929,
    "start_time": "2022-05-27T19:53:20.580Z"
   },
   {
    "duration": 45,
    "start_time": "2022-05-27T19:53:21.511Z"
   },
   {
    "duration": 225,
    "start_time": "2022-05-27T19:53:21.559Z"
   },
   {
    "duration": 3,
    "start_time": "2022-05-27T19:53:21.786Z"
   },
   {
    "duration": 4,
    "start_time": "2022-05-27T19:53:21.790Z"
   },
   {
    "duration": 7056,
    "start_time": "2022-05-27T19:53:21.796Z"
   },
   {
    "duration": 23,
    "start_time": "2022-05-27T19:53:28.854Z"
   },
   {
    "duration": 2031,
    "start_time": "2022-05-27T19:53:28.878Z"
   },
   {
    "duration": 5,
    "start_time": "2022-05-27T19:53:30.911Z"
   },
   {
    "duration": 7212,
    "start_time": "2022-05-27T19:53:30.918Z"
   },
   {
    "duration": 10107,
    "start_time": "2022-05-27T19:53:38.131Z"
   },
   {
    "duration": 311679,
    "start_time": "2022-05-27T19:53:48.241Z"
   },
   {
    "duration": 28,
    "start_time": "2022-05-27T19:58:59.923Z"
   },
   {
    "duration": 15454,
    "start_time": "2022-05-27T19:58:59.955Z"
   },
   {
    "duration": 0,
    "start_time": "2022-05-27T19:59:15.410Z"
   },
   {
    "duration": 9087,
    "start_time": "2022-05-27T20:00:24.476Z"
   },
   {
    "duration": 51095,
    "start_time": "2022-05-27T20:01:47.895Z"
   },
   {
    "duration": 8767,
    "start_time": "2022-05-27T20:09:02.683Z"
   },
   {
    "duration": 25938,
    "start_time": "2022-05-27T20:09:11.452Z"
   },
   {
    "duration": 25637,
    "start_time": "2022-05-27T20:10:10.875Z"
   },
   {
    "duration": 126991,
    "start_time": "2022-05-27T20:10:56.125Z"
   },
   {
    "duration": 268567,
    "start_time": "2022-05-27T20:13:49.060Z"
   },
   {
    "duration": 98504,
    "start_time": "2022-05-27T20:19:01.965Z"
   },
   {
    "duration": 63,
    "start_time": "2022-05-27T20:22:03.982Z"
   },
   {
    "duration": 14,
    "start_time": "2022-05-27T20:22:07.868Z"
   },
   {
    "duration": 14013,
    "start_time": "2022-05-27T20:22:11.879Z"
   },
   {
    "duration": 4760,
    "start_time": "2022-05-27T20:25:00.684Z"
   },
   {
    "duration": 29119,
    "start_time": "2022-05-27T20:25:15.482Z"
   },
   {
    "duration": 38667,
    "start_time": "2022-05-27T20:26:03.693Z"
   },
   {
    "duration": 42454,
    "start_time": "2022-05-27T20:27:04.469Z"
   },
   {
    "duration": 49660,
    "start_time": "2022-05-27T20:28:47.688Z"
   },
   {
    "duration": 958957,
    "start_time": "2022-05-27T20:30:14.226Z"
   },
   {
    "duration": 469884,
    "start_time": "2022-05-27T20:46:39.046Z"
   },
   {
    "duration": 97237,
    "start_time": "2022-05-27T20:54:41.569Z"
   },
   {
    "duration": 45767,
    "start_time": "2022-05-27T20:57:24.934Z"
   },
   {
    "duration": 104,
    "start_time": "2022-05-27T21:28:03.198Z"
   },
   {
    "duration": 1939,
    "start_time": "2022-05-27T21:28:10.459Z"
   },
   {
    "duration": 4066,
    "start_time": "2022-05-27T21:28:13.032Z"
   },
   {
    "duration": 4,
    "start_time": "2022-05-27T21:28:18.270Z"
   },
   {
    "duration": 4,
    "start_time": "2022-05-27T21:28:18.723Z"
   },
   {
    "duration": 7873,
    "start_time": "2022-05-27T21:28:19.257Z"
   },
   {
    "duration": 45,
    "start_time": "2022-05-27T21:28:27.133Z"
   },
   {
    "duration": 2091,
    "start_time": "2022-05-27T21:28:27.181Z"
   },
   {
    "duration": 6,
    "start_time": "2022-05-27T21:28:29.274Z"
   },
   {
    "duration": 8236,
    "start_time": "2022-05-27T21:28:29.282Z"
   },
   {
    "duration": 11643,
    "start_time": "2022-05-27T21:28:37.520Z"
   },
   {
    "duration": 7,
    "start_time": "2022-05-27T21:28:49.164Z"
   },
   {
    "duration": 52533,
    "start_time": "2022-05-27T21:28:49.176Z"
   },
   {
    "duration": 102808,
    "start_time": "2022-05-27T21:30:18.879Z"
   },
   {
    "duration": 155791,
    "start_time": "2022-05-27T21:32:15.373Z"
   },
   {
    "duration": 56647,
    "start_time": "2022-05-27T21:35:09.696Z"
   },
   {
    "duration": 99,
    "start_time": "2022-05-27T21:36:18.513Z"
   },
   {
    "duration": 302,
    "start_time": "2022-05-27T21:36:37.089Z"
   },
   {
    "duration": 1126,
    "start_time": "2022-05-28T20:37:55.631Z"
   },
   {
    "duration": 2530,
    "start_time": "2022-05-28T20:37:56.759Z"
   },
   {
    "duration": 30,
    "start_time": "2022-05-28T20:37:59.291Z"
   },
   {
    "duration": 230,
    "start_time": "2022-05-28T20:37:59.323Z"
   },
   {
    "duration": 3,
    "start_time": "2022-05-28T20:37:59.554Z"
   },
   {
    "duration": 9,
    "start_time": "2022-05-28T20:37:59.558Z"
   },
   {
    "duration": 7534,
    "start_time": "2022-05-28T20:37:59.569Z"
   },
   {
    "duration": 27,
    "start_time": "2022-05-28T20:38:07.104Z"
   },
   {
    "duration": 1963,
    "start_time": "2022-05-28T20:38:07.132Z"
   },
   {
    "duration": 8,
    "start_time": "2022-05-28T20:38:09.098Z"
   },
   {
    "duration": 7073,
    "start_time": "2022-05-28T20:38:09.107Z"
   },
   {
    "duration": 9385,
    "start_time": "2022-05-28T20:38:16.182Z"
   },
   {
    "duration": 2,
    "start_time": "2022-05-28T20:38:25.569Z"
   },
   {
    "duration": 7458,
    "start_time": "2022-05-28T20:38:25.573Z"
   },
   {
    "duration": 120329,
    "start_time": "2022-05-28T20:38:33.033Z"
   },
   {
    "duration": 79297,
    "start_time": "2022-05-28T20:40:33.364Z"
   },
   {
    "duration": 3,
    "start_time": "2022-05-28T20:41:52.662Z"
   },
   {
    "duration": 131,
    "start_time": "2022-05-28T20:41:52.666Z"
   },
   {
    "duration": 0,
    "start_time": "2022-05-28T20:41:52.799Z"
   },
   {
    "duration": 0,
    "start_time": "2022-05-28T20:41:52.800Z"
   },
   {
    "duration": 0,
    "start_time": "2022-05-28T20:41:52.801Z"
   },
   {
    "duration": 0,
    "start_time": "2022-05-28T20:41:52.802Z"
   },
   {
    "duration": 1,
    "start_time": "2022-05-28T20:41:52.803Z"
   },
   {
    "duration": 0,
    "start_time": "2022-05-28T20:41:52.805Z"
   },
   {
    "duration": 0,
    "start_time": "2022-05-28T20:41:52.806Z"
   },
   {
    "duration": 0,
    "start_time": "2022-05-28T20:41:52.807Z"
   },
   {
    "duration": 0,
    "start_time": "2022-05-28T20:41:52.809Z"
   },
   {
    "duration": 0,
    "start_time": "2022-05-28T20:41:52.826Z"
   },
   {
    "duration": 0,
    "start_time": "2022-05-28T20:41:52.828Z"
   },
   {
    "duration": 0,
    "start_time": "2022-05-28T20:41:52.829Z"
   },
   {
    "duration": 1183,
    "start_time": "2022-05-29T00:21:13.971Z"
   },
   {
    "duration": 2317,
    "start_time": "2022-05-29T00:21:15.156Z"
   },
   {
    "duration": 27,
    "start_time": "2022-05-29T00:21:17.474Z"
   },
   {
    "duration": 215,
    "start_time": "2022-05-29T00:21:17.502Z"
   },
   {
    "duration": 8,
    "start_time": "2022-05-29T00:21:17.719Z"
   },
   {
    "duration": 5,
    "start_time": "2022-05-29T00:21:17.729Z"
   },
   {
    "duration": 6600,
    "start_time": "2022-05-29T00:21:17.735Z"
   },
   {
    "duration": 19,
    "start_time": "2022-05-29T00:21:24.337Z"
   },
   {
    "duration": 1981,
    "start_time": "2022-05-29T00:21:24.358Z"
   },
   {
    "duration": 3,
    "start_time": "2022-05-29T00:21:26.341Z"
   },
   {
    "duration": 6687,
    "start_time": "2022-05-29T00:21:26.345Z"
   },
   {
    "duration": 9012,
    "start_time": "2022-05-29T00:21:33.034Z"
   },
   {
    "duration": 2,
    "start_time": "2022-05-29T00:21:42.047Z"
   },
   {
    "duration": 7081,
    "start_time": "2022-05-29T00:21:42.051Z"
   },
   {
    "duration": 117386,
    "start_time": "2022-05-29T00:21:49.133Z"
   },
   {
    "duration": 78673,
    "start_time": "2022-05-29T00:23:46.521Z"
   },
   {
    "duration": 2,
    "start_time": "2022-05-29T00:25:05.196Z"
   },
   {
    "duration": 124245,
    "start_time": "2022-05-29T00:25:05.200Z"
   },
   {
    "duration": 407194,
    "start_time": "2022-05-29T00:27:09.447Z"
   },
   {
    "duration": 3,
    "start_time": "2022-05-29T00:33:56.642Z"
   },
   {
    "duration": 1265,
    "start_time": "2022-05-29T18:28:46.127Z"
   },
   {
    "duration": 2620,
    "start_time": "2022-05-29T18:28:47.394Z"
   },
   {
    "duration": 34,
    "start_time": "2022-05-29T18:28:50.016Z"
   },
   {
    "duration": 237,
    "start_time": "2022-05-29T18:28:50.051Z"
   },
   {
    "duration": 3,
    "start_time": "2022-05-29T18:28:50.290Z"
   },
   {
    "duration": 8,
    "start_time": "2022-05-29T18:28:50.295Z"
   },
   {
    "duration": 7406,
    "start_time": "2022-05-29T18:28:50.304Z"
   },
   {
    "duration": 27,
    "start_time": "2022-05-29T18:28:57.712Z"
   },
   {
    "duration": 2051,
    "start_time": "2022-05-29T18:28:57.740Z"
   },
   {
    "duration": 4,
    "start_time": "2022-05-29T18:28:59.792Z"
   },
   {
    "duration": 7375,
    "start_time": "2022-05-29T18:28:59.797Z"
   },
   {
    "duration": 10120,
    "start_time": "2022-05-29T18:29:07.174Z"
   },
   {
    "duration": 2,
    "start_time": "2022-05-29T18:29:17.296Z"
   },
   {
    "duration": 7905,
    "start_time": "2022-05-29T18:29:17.300Z"
   },
   {
    "duration": 132674,
    "start_time": "2022-05-29T18:29:25.207Z"
   },
   {
    "duration": 95240,
    "start_time": "2022-05-29T18:31:37.882Z"
   },
   {
    "duration": 6,
    "start_time": "2022-05-29T18:33:13.123Z"
   },
   {
    "duration": 134772,
    "start_time": "2022-05-29T18:33:13.133Z"
   },
   {
    "duration": 448208,
    "start_time": "2022-05-29T18:35:27.907Z"
   },
   {
    "duration": 2,
    "start_time": "2022-05-29T18:42:56.117Z"
   },
   {
    "duration": 51220,
    "start_time": "2022-05-29T18:42:56.133Z"
   },
   {
    "duration": 3,
    "start_time": "2022-05-29T18:43:47.356Z"
   },
   {
    "duration": 9,
    "start_time": "2022-05-29T18:43:47.361Z"
   },
   {
    "duration": 77,
    "start_time": "2022-05-29T18:43:47.371Z"
   },
   {
    "duration": 6,
    "start_time": "2022-05-29T18:43:47.450Z"
   },
   {
    "duration": 17,
    "start_time": "2022-05-29T18:43:47.458Z"
   },
   {
    "duration": 4,
    "start_time": "2022-05-29T19:12:46.866Z"
   },
   {
    "duration": 54,
    "start_time": "2022-05-29T19:28:39.758Z"
   },
   {
    "duration": 1178,
    "start_time": "2022-05-29T19:30:14.620Z"
   },
   {
    "duration": 2553,
    "start_time": "2022-05-29T19:30:15.800Z"
   },
   {
    "duration": 38,
    "start_time": "2022-05-29T19:30:18.354Z"
   },
   {
    "duration": 232,
    "start_time": "2022-05-29T19:30:18.394Z"
   },
   {
    "duration": 12,
    "start_time": "2022-05-29T19:30:18.635Z"
   },
   {
    "duration": 7,
    "start_time": "2022-05-29T19:30:18.649Z"
   },
   {
    "duration": 7084,
    "start_time": "2022-05-29T19:30:18.657Z"
   },
   {
    "duration": 24,
    "start_time": "2022-05-29T19:30:25.743Z"
   },
   {
    "duration": 2010,
    "start_time": "2022-05-29T19:30:25.768Z"
   },
   {
    "duration": 4,
    "start_time": "2022-05-29T19:30:27.781Z"
   },
   {
    "duration": 7190,
    "start_time": "2022-05-29T19:30:27.786Z"
   },
   {
    "duration": 9888,
    "start_time": "2022-05-29T19:30:34.978Z"
   },
   {
    "duration": 3,
    "start_time": "2022-05-29T19:30:44.867Z"
   },
   {
    "duration": 7741,
    "start_time": "2022-05-29T19:30:44.871Z"
   },
   {
    "duration": 125685,
    "start_time": "2022-05-29T19:30:52.613Z"
   },
   {
    "duration": 93162,
    "start_time": "2022-05-29T19:32:58.299Z"
   },
   {
    "duration": 3,
    "start_time": "2022-05-29T19:34:31.463Z"
   },
   {
    "duration": 424485,
    "start_time": "2022-05-29T19:34:31.468Z"
   },
   {
    "duration": 9286,
    "start_time": "2022-05-29T19:41:35.954Z"
   },
   {
    "duration": 29438,
    "start_time": "2022-05-29T19:41:45.242Z"
   },
   {
    "duration": 3,
    "start_time": "2022-05-29T19:42:14.681Z"
   },
   {
    "duration": 48749,
    "start_time": "2022-05-29T19:42:14.685Z"
   },
   {
    "duration": 3,
    "start_time": "2022-05-29T19:43:03.442Z"
   },
   {
    "duration": 12,
    "start_time": "2022-05-29T19:43:03.447Z"
   },
   {
    "duration": 78,
    "start_time": "2022-05-29T19:43:03.461Z"
   },
   {
    "duration": 128196,
    "start_time": "2022-05-29T19:49:41.906Z"
   },
   {
    "duration": 171949,
    "start_time": "2022-05-29T19:53:14.742Z"
   },
   {
    "duration": 205871,
    "start_time": "2022-05-29T19:58:05.262Z"
   },
   {
    "duration": 358242,
    "start_time": "2022-05-29T20:01:47.441Z"
   },
   {
    "duration": 3,
    "start_time": "2022-05-29T20:14:40.775Z"
   },
   {
    "duration": 27,
    "start_time": "2022-05-29T20:14:45.963Z"
   },
   {
    "duration": 1131,
    "start_time": "2022-06-08T09:01:13.341Z"
   },
   {
    "duration": 2417,
    "start_time": "2022-06-08T09:01:14.474Z"
   },
   {
    "duration": 27,
    "start_time": "2022-06-08T09:01:16.893Z"
   },
   {
    "duration": 207,
    "start_time": "2022-06-08T09:01:16.922Z"
   },
   {
    "duration": 3,
    "start_time": "2022-06-08T09:01:17.131Z"
   },
   {
    "duration": 9,
    "start_time": "2022-06-08T09:01:17.135Z"
   },
   {
    "duration": 7568,
    "start_time": "2022-06-08T09:01:17.145Z"
   },
   {
    "duration": 26,
    "start_time": "2022-06-08T09:01:24.715Z"
   },
   {
    "duration": 1968,
    "start_time": "2022-06-08T09:01:24.742Z"
   },
   {
    "duration": 3,
    "start_time": "2022-06-08T09:01:26.713Z"
   },
   {
    "duration": 5853,
    "start_time": "2022-06-08T09:01:26.717Z"
   },
   {
    "duration": 7894,
    "start_time": "2022-06-08T09:01:32.572Z"
   },
   {
    "duration": 3,
    "start_time": "2022-06-08T09:01:40.469Z"
   },
   {
    "duration": 4560,
    "start_time": "2022-06-08T09:01:40.473Z"
   },
   {
    "duration": 132021,
    "start_time": "2022-06-08T09:01:45.036Z"
   },
   {
    "duration": 115053,
    "start_time": "2022-06-08T09:03:57.059Z"
   },
   {
    "duration": 2,
    "start_time": "2022-06-08T09:05:52.114Z"
   },
   {
    "duration": 130531,
    "start_time": "2022-06-08T09:05:52.118Z"
   },
   {
    "duration": 3,
    "start_time": "2022-06-08T09:08:02.650Z"
   },
   {
    "duration": 43875,
    "start_time": "2022-06-08T09:08:02.655Z"
   },
   {
    "duration": 2,
    "start_time": "2022-06-08T09:08:46.532Z"
   },
   {
    "duration": 15,
    "start_time": "2022-06-08T09:08:46.535Z"
   },
   {
    "duration": 9,
    "start_time": "2022-06-08T09:08:46.551Z"
   },
   {
    "duration": 15,
    "start_time": "2022-06-08T09:08:46.562Z"
   },
   {
    "duration": 27,
    "start_time": "2022-06-08T09:08:46.579Z"
   },
   {
    "duration": 10,
    "start_time": "2022-06-08T09:18:22.233Z"
   },
   {
    "duration": 4,
    "start_time": "2022-06-08T09:18:58.321Z"
   },
   {
    "duration": 10,
    "start_time": "2022-06-08T09:19:02.058Z"
   },
   {
    "duration": 4,
    "start_time": "2022-06-08T09:21:22.218Z"
   },
   {
    "duration": 11,
    "start_time": "2022-06-08T09:21:29.401Z"
   },
   {
    "duration": 10,
    "start_time": "2022-06-08T09:22:04.684Z"
   },
   {
    "duration": 3,
    "start_time": "2022-06-08T09:22:13.167Z"
   },
   {
    "duration": 51,
    "start_time": "2022-06-08T09:22:15.358Z"
   },
   {
    "duration": 2,
    "start_time": "2022-06-08T09:22:30.400Z"
   },
   {
    "duration": 38,
    "start_time": "2022-06-08T09:22:31.519Z"
   },
   {
    "duration": 1192,
    "start_time": "2022-06-08T09:26:52.868Z"
   },
   {
    "duration": 2396,
    "start_time": "2022-06-08T09:26:54.062Z"
   },
   {
    "duration": 29,
    "start_time": "2022-06-08T09:26:56.460Z"
   },
   {
    "duration": 209,
    "start_time": "2022-06-08T09:26:56.490Z"
   },
   {
    "duration": 3,
    "start_time": "2022-06-08T09:26:56.702Z"
   },
   {
    "duration": 5,
    "start_time": "2022-06-08T09:26:56.707Z"
   },
   {
    "duration": 6682,
    "start_time": "2022-06-08T09:26:56.713Z"
   },
   {
    "duration": 16,
    "start_time": "2022-06-08T09:27:03.396Z"
   },
   {
    "duration": 1913,
    "start_time": "2022-06-08T09:27:03.414Z"
   },
   {
    "duration": 4,
    "start_time": "2022-06-08T09:27:05.328Z"
   },
   {
    "duration": 5675,
    "start_time": "2022-06-08T09:27:05.333Z"
   },
   {
    "duration": 7901,
    "start_time": "2022-06-08T09:27:11.010Z"
   },
   {
    "duration": 3,
    "start_time": "2022-06-08T09:27:18.912Z"
   },
   {
    "duration": 10,
    "start_time": "2022-06-08T09:27:18.917Z"
   },
   {
    "duration": 142,
    "start_time": "2022-06-08T09:27:22.348Z"
   },
   {
    "duration": 3829,
    "start_time": "2022-06-08T09:28:02.805Z"
   },
   {
    "duration": 4,
    "start_time": "2022-06-08T09:28:56.144Z"
   },
   {
    "duration": 124,
    "start_time": "2022-06-08T09:29:25.010Z"
   },
   {
    "duration": 11,
    "start_time": "2022-06-08T09:29:40.765Z"
   },
   {
    "duration": 3,
    "start_time": "2022-06-08T09:29:45.667Z"
   },
   {
    "duration": 36,
    "start_time": "2022-06-08T09:29:47.034Z"
   },
   {
    "duration": 4,
    "start_time": "2022-06-08T09:34:29.819Z"
   },
   {
    "duration": 857,
    "start_time": "2022-06-08T09:34:29.826Z"
   },
   {
    "duration": 49,
    "start_time": "2022-06-08T09:34:30.685Z"
   },
   {
    "duration": 228,
    "start_time": "2022-06-08T09:34:30.736Z"
   },
   {
    "duration": 4,
    "start_time": "2022-06-08T09:34:30.967Z"
   },
   {
    "duration": 15,
    "start_time": "2022-06-08T09:34:30.973Z"
   },
   {
    "duration": 5648,
    "start_time": "2022-06-08T09:34:30.990Z"
   },
   {
    "duration": 5,
    "start_time": "2022-06-08T09:34:36.640Z"
   },
   {
    "duration": 23,
    "start_time": "2022-06-08T09:34:36.646Z"
   },
   {
    "duration": 6,
    "start_time": "2022-06-08T09:34:36.671Z"
   },
   {
    "duration": 5,
    "start_time": "2022-06-08T09:34:36.680Z"
   },
   {
    "duration": 4,
    "start_time": "2022-06-08T09:34:36.687Z"
   },
   {
    "duration": 6,
    "start_time": "2022-06-08T09:34:36.693Z"
   },
   {
    "duration": 4,
    "start_time": "2022-06-08T09:34:41.483Z"
   },
   {
    "duration": 31,
    "start_time": "2022-06-08T09:34:52.688Z"
   },
   {
    "duration": 4,
    "start_time": "2022-06-08T09:34:55.588Z"
   },
   {
    "duration": 354874,
    "start_time": "2022-06-08T09:35:06.513Z"
   },
   {
    "duration": 46,
    "start_time": "2022-06-08T09:48:42.974Z"
   },
   {
    "duration": 10,
    "start_time": "2022-06-08T10:03:50.306Z"
   },
   {
    "duration": 3,
    "start_time": "2022-06-08T10:04:10.843Z"
   },
   {
    "duration": 10,
    "start_time": "2022-06-08T10:04:16.342Z"
   },
   {
    "duration": 4,
    "start_time": "2022-06-08T10:04:44.955Z"
   },
   {
    "duration": 48,
    "start_time": "2022-06-08T10:04:47.258Z"
   },
   {
    "duration": 3,
    "start_time": "2022-06-08T10:05:40.241Z"
   },
   {
    "duration": 61,
    "start_time": "2022-06-08T10:05:42.505Z"
   },
   {
    "duration": 3,
    "start_time": "2022-06-08T10:09:00.450Z"
   },
   {
    "duration": 69,
    "start_time": "2022-06-08T10:09:01.191Z"
   },
   {
    "duration": 12,
    "start_time": "2022-06-08T10:11:11.479Z"
   },
   {
    "duration": 4,
    "start_time": "2022-06-08T10:11:20.813Z"
   },
   {
    "duration": 3,
    "start_time": "2022-06-08T10:12:04.217Z"
   },
   {
    "duration": 3,
    "start_time": "2022-06-08T10:12:05.651Z"
   },
   {
    "duration": 4,
    "start_time": "2022-06-08T10:12:06.200Z"
   },
   {
    "duration": 66,
    "start_time": "2022-06-08T10:12:07.642Z"
   },
   {
    "duration": 4,
    "start_time": "2022-06-08T10:12:24.441Z"
   },
   {
    "duration": 3,
    "start_time": "2022-06-08T10:13:25.252Z"
   },
   {
    "duration": 65,
    "start_time": "2022-06-08T10:13:27.818Z"
   },
   {
    "duration": 3,
    "start_time": "2022-06-08T10:14:33.927Z"
   },
   {
    "duration": 325231,
    "start_time": "2022-06-08T10:14:36.203Z"
   },
   {
    "duration": 3,
    "start_time": "2022-06-08T10:20:10.295Z"
   },
   {
    "duration": 312943,
    "start_time": "2022-06-08T10:20:13.164Z"
   },
   {
    "duration": 3,
    "start_time": "2022-06-08T10:29:34.219Z"
   },
   {
    "duration": 15,
    "start_time": "2022-06-08T10:30:26.282Z"
   },
   {
    "duration": 1969,
    "start_time": "2022-06-08T13:20:27.116Z"
   },
   {
    "duration": 2451,
    "start_time": "2022-06-08T13:20:29.087Z"
   },
   {
    "duration": 34,
    "start_time": "2022-06-08T13:20:31.540Z"
   },
   {
    "duration": 259,
    "start_time": "2022-06-08T13:20:31.576Z"
   },
   {
    "duration": 2,
    "start_time": "2022-06-08T13:20:31.838Z"
   },
   {
    "duration": 32,
    "start_time": "2022-06-08T13:20:31.842Z"
   },
   {
    "duration": 6864,
    "start_time": "2022-06-08T13:20:31.876Z"
   },
   {
    "duration": 3,
    "start_time": "2022-06-08T13:20:38.742Z"
   },
   {
    "duration": 11,
    "start_time": "2022-06-08T13:20:38.746Z"
   },
   {
    "duration": 10,
    "start_time": "2022-06-08T13:20:38.759Z"
   },
   {
    "duration": 4,
    "start_time": "2022-06-08T13:20:38.771Z"
   },
   {
    "duration": 10,
    "start_time": "2022-06-08T13:20:38.777Z"
   },
   {
    "duration": 5,
    "start_time": "2022-06-08T13:20:38.788Z"
   },
   {
    "duration": 32,
    "start_time": "2022-06-08T13:20:38.795Z"
   },
   {
    "duration": 3,
    "start_time": "2022-06-08T13:20:38.829Z"
   },
   {
    "duration": 16,
    "start_time": "2022-06-08T13:20:38.834Z"
   },
   {
    "duration": 605709,
    "start_time": "2022-06-08T13:20:38.852Z"
   },
   {
    "duration": 4,
    "start_time": "2022-06-08T13:31:42.158Z"
   },
   {
    "duration": 1303434,
    "start_time": "2022-06-08T13:31:47.596Z"
   },
   {
    "duration": 3,
    "start_time": "2022-06-08T14:26:27.316Z"
   },
   {
    "duration": 3661,
    "start_time": "2022-06-08T14:26:28.456Z"
   },
   {
    "duration": 3,
    "start_time": "2022-06-08T14:27:12.206Z"
   },
   {
    "duration": 35,
    "start_time": "2022-06-08T14:27:17.483Z"
   },
   {
    "duration": 3,
    "start_time": "2022-06-08T14:27:26.517Z"
   },
   {
    "duration": 53,
    "start_time": "2022-06-09T06:21:45.815Z"
   },
   {
    "duration": 1451,
    "start_time": "2022-06-09T06:21:50.350Z"
   },
   {
    "duration": 3258,
    "start_time": "2022-06-09T06:21:51.803Z"
   },
   {
    "duration": 38,
    "start_time": "2022-06-09T06:21:55.064Z"
   },
   {
    "duration": 298,
    "start_time": "2022-06-09T06:21:55.106Z"
   },
   {
    "duration": 5,
    "start_time": "2022-06-09T06:21:55.406Z"
   },
   {
    "duration": 30,
    "start_time": "2022-06-09T06:21:55.413Z"
   },
   {
    "duration": 11002,
    "start_time": "2022-06-09T06:21:55.446Z"
   },
   {
    "duration": 3,
    "start_time": "2022-06-09T06:22:06.450Z"
   },
   {
    "duration": 15,
    "start_time": "2022-06-09T06:22:06.456Z"
   },
   {
    "duration": 25,
    "start_time": "2022-06-09T06:22:06.475Z"
   },
   {
    "duration": 25,
    "start_time": "2022-06-09T06:22:06.502Z"
   },
   {
    "duration": 32,
    "start_time": "2022-06-09T06:22:06.529Z"
   },
   {
    "duration": 16,
    "start_time": "2022-06-09T06:22:06.564Z"
   },
   {
    "duration": 86,
    "start_time": "2022-06-09T06:22:06.582Z"
   },
   {
    "duration": 7,
    "start_time": "2022-06-09T06:22:06.671Z"
   },
   {
    "duration": 43,
    "start_time": "2022-06-09T06:22:06.684Z"
   }
  ],
  "kernelspec": {
   "display_name": "Python 3 (ipykernel)",
   "language": "python",
   "name": "python3"
  },
  "language_info": {
   "codemirror_mode": {
    "name": "ipython",
    "version": 3
   },
   "file_extension": ".py",
   "mimetype": "text/x-python",
   "name": "python",
   "nbconvert_exporter": "python",
   "pygments_lexer": "ipython3",
   "version": "3.9.5"
  },
  "toc": {
   "base_numbering": 1,
   "nav_menu": {},
   "number_sections": true,
   "sideBar": true,
   "skip_h1_title": true,
   "title_cell": "Содержание",
   "title_sidebar": "Contents",
   "toc_cell": true,
   "toc_position": {
    "height": "calc(100% - 180px)",
    "left": "10px",
    "top": "150px",
    "width": "302.391px"
   },
   "toc_section_display": true,
   "toc_window_display": false
  }
 },
 "nbformat": 4,
 "nbformat_minor": 2
}
