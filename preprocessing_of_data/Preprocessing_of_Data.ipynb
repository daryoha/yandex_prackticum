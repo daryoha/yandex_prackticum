{
 "cells": [
  {
   "cell_type": "markdown",
   "metadata": {},
   "source": [
    "Привет! Меня зовут Александр Арасланов, я провожу ревью твоей работы. Предалагю общаться на «ты», если не против.\n",
    "\n",
    "В работе ты увидишь комментарии, помеченные разным цветом.\n",
    "\n",
    "<div class=\"alert alert-danger\">\n",
    "Красным цветом помечены моменты, которые необходимо доработать, чтобы проект был принят. Уверен, что у тебя все получится. Буду ждать твою работу на повторное ревью. \n",
    "</div>\n",
    "\n",
    "<div class=\"alert alert-success\">\n",
    "Зеленым цветом помечены оброзцовые решения. Которые можно использовать в дальнейшем.\n",
    "</div>\n",
    "\n",
    "<div class=\"alert alert-warning\">\n",
    "Желтым цветом отмечено то, что ты можешь улучшить или доработать. Можешь учесть это при выполнении следующих работ или доработать проект сейчас, но это не обязательно.\n",
    "</div>\n",
    "\n",
    "\n",
    "Будет комфортнее работать над проектом вместе, если ты будешь **писать об изменениях** в проекте по моим рекомендациям. Для этого выбери для своих комментариев \n",
    "\n",
    "<div class=\"alert alert-block alert-info\">заметный цвет</div>\n",
    "\n",
    "Пожалуйста, **не перемещай, не изменяй и не удаляй мои комментарии**. Всё это поможет выполнить повторную проверку твоего проекта оперативнее.\n",
    "\n",
    "Дарья, вижу, что старалсь. Хорошо справилась с большинством моментов, не хватило внимательности в некторых расчтеах. Пока не могу принять проект, внеси доработки и присылай его на повторную проверку.\n",
    "\n",
    "___"
   ]
  },
  {
   "cell_type": "markdown",
   "metadata": {},
   "source": [
    "# Исследование надёжности заёмщиков\n",
    "\n",
    "Заказчик — кредитный отдел банка. Нужно разобраться, влияет ли семейное положение и количество детей клиента на факт погашения кредита в срок. Входные данные от банка — статистика о платёжеспособности клиентов.\n",
    "\n",
    "Результаты исследования будут учтены при построении модели **кредитного скоринга** — специальной системы, которая оценивает способность потенциального заёмщика вернуть кредит банку."
   ]
  },
  {
   "cell_type": "markdown",
   "metadata": {},
   "source": [
    "## Шаг 1. Откройте файл с данными и изучите общую информацию"
   ]
  },
  {
   "cell_type": "code",
   "execution_count": 1,
   "metadata": {},
   "outputs": [
    {
     "data": {
      "text/html": [
       "<div>\n",
       "<style scoped>\n",
       "    .dataframe tbody tr th:only-of-type {\n",
       "        vertical-align: middle;\n",
       "    }\n",
       "\n",
       "    .dataframe tbody tr th {\n",
       "        vertical-align: top;\n",
       "    }\n",
       "\n",
       "    .dataframe thead th {\n",
       "        text-align: right;\n",
       "    }\n",
       "</style>\n",
       "<table border=\"1\" class=\"dataframe\">\n",
       "  <thead>\n",
       "    <tr style=\"text-align: right;\">\n",
       "      <th></th>\n",
       "      <th>children</th>\n",
       "      <th>days_employed</th>\n",
       "      <th>dob_years</th>\n",
       "      <th>education</th>\n",
       "      <th>education_id</th>\n",
       "      <th>family_status</th>\n",
       "      <th>family_status_id</th>\n",
       "      <th>gender</th>\n",
       "      <th>income_type</th>\n",
       "      <th>debt</th>\n",
       "      <th>total_income</th>\n",
       "      <th>purpose</th>\n",
       "    </tr>\n",
       "  </thead>\n",
       "  <tbody>\n",
       "    <tr>\n",
       "      <td>0</td>\n",
       "      <td>1</td>\n",
       "      <td>-8437.673028</td>\n",
       "      <td>42</td>\n",
       "      <td>высшее</td>\n",
       "      <td>0</td>\n",
       "      <td>женат / замужем</td>\n",
       "      <td>0</td>\n",
       "      <td>F</td>\n",
       "      <td>сотрудник</td>\n",
       "      <td>0</td>\n",
       "      <td>253875.639453</td>\n",
       "      <td>покупка жилья</td>\n",
       "    </tr>\n",
       "    <tr>\n",
       "      <td>1</td>\n",
       "      <td>1</td>\n",
       "      <td>-4024.803754</td>\n",
       "      <td>36</td>\n",
       "      <td>среднее</td>\n",
       "      <td>1</td>\n",
       "      <td>женат / замужем</td>\n",
       "      <td>0</td>\n",
       "      <td>F</td>\n",
       "      <td>сотрудник</td>\n",
       "      <td>0</td>\n",
       "      <td>112080.014102</td>\n",
       "      <td>приобретение автомобиля</td>\n",
       "    </tr>\n",
       "    <tr>\n",
       "      <td>2</td>\n",
       "      <td>0</td>\n",
       "      <td>-5623.422610</td>\n",
       "      <td>33</td>\n",
       "      <td>Среднее</td>\n",
       "      <td>1</td>\n",
       "      <td>женат / замужем</td>\n",
       "      <td>0</td>\n",
       "      <td>M</td>\n",
       "      <td>сотрудник</td>\n",
       "      <td>0</td>\n",
       "      <td>145885.952297</td>\n",
       "      <td>покупка жилья</td>\n",
       "    </tr>\n",
       "    <tr>\n",
       "      <td>3</td>\n",
       "      <td>3</td>\n",
       "      <td>-4124.747207</td>\n",
       "      <td>32</td>\n",
       "      <td>среднее</td>\n",
       "      <td>1</td>\n",
       "      <td>женат / замужем</td>\n",
       "      <td>0</td>\n",
       "      <td>M</td>\n",
       "      <td>сотрудник</td>\n",
       "      <td>0</td>\n",
       "      <td>267628.550329</td>\n",
       "      <td>дополнительное образование</td>\n",
       "    </tr>\n",
       "    <tr>\n",
       "      <td>4</td>\n",
       "      <td>0</td>\n",
       "      <td>340266.072047</td>\n",
       "      <td>53</td>\n",
       "      <td>среднее</td>\n",
       "      <td>1</td>\n",
       "      <td>гражданский брак</td>\n",
       "      <td>1</td>\n",
       "      <td>F</td>\n",
       "      <td>пенсионер</td>\n",
       "      <td>0</td>\n",
       "      <td>158616.077870</td>\n",
       "      <td>сыграть свадьбу</td>\n",
       "    </tr>\n",
       "    <tr>\n",
       "      <td>5</td>\n",
       "      <td>0</td>\n",
       "      <td>-926.185831</td>\n",
       "      <td>27</td>\n",
       "      <td>высшее</td>\n",
       "      <td>0</td>\n",
       "      <td>гражданский брак</td>\n",
       "      <td>1</td>\n",
       "      <td>M</td>\n",
       "      <td>компаньон</td>\n",
       "      <td>0</td>\n",
       "      <td>255763.565419</td>\n",
       "      <td>покупка жилья</td>\n",
       "    </tr>\n",
       "    <tr>\n",
       "      <td>6</td>\n",
       "      <td>0</td>\n",
       "      <td>-2879.202052</td>\n",
       "      <td>43</td>\n",
       "      <td>высшее</td>\n",
       "      <td>0</td>\n",
       "      <td>женат / замужем</td>\n",
       "      <td>0</td>\n",
       "      <td>F</td>\n",
       "      <td>компаньон</td>\n",
       "      <td>0</td>\n",
       "      <td>240525.971920</td>\n",
       "      <td>операции с жильем</td>\n",
       "    </tr>\n",
       "    <tr>\n",
       "      <td>7</td>\n",
       "      <td>0</td>\n",
       "      <td>-152.779569</td>\n",
       "      <td>50</td>\n",
       "      <td>СРЕДНЕЕ</td>\n",
       "      <td>1</td>\n",
       "      <td>женат / замужем</td>\n",
       "      <td>0</td>\n",
       "      <td>M</td>\n",
       "      <td>сотрудник</td>\n",
       "      <td>0</td>\n",
       "      <td>135823.934197</td>\n",
       "      <td>образование</td>\n",
       "    </tr>\n",
       "    <tr>\n",
       "      <td>8</td>\n",
       "      <td>2</td>\n",
       "      <td>-6929.865299</td>\n",
       "      <td>35</td>\n",
       "      <td>ВЫСШЕЕ</td>\n",
       "      <td>0</td>\n",
       "      <td>гражданский брак</td>\n",
       "      <td>1</td>\n",
       "      <td>F</td>\n",
       "      <td>сотрудник</td>\n",
       "      <td>0</td>\n",
       "      <td>95856.832424</td>\n",
       "      <td>на проведение свадьбы</td>\n",
       "    </tr>\n",
       "    <tr>\n",
       "      <td>9</td>\n",
       "      <td>0</td>\n",
       "      <td>-2188.756445</td>\n",
       "      <td>41</td>\n",
       "      <td>среднее</td>\n",
       "      <td>1</td>\n",
       "      <td>женат / замужем</td>\n",
       "      <td>0</td>\n",
       "      <td>M</td>\n",
       "      <td>сотрудник</td>\n",
       "      <td>0</td>\n",
       "      <td>144425.938277</td>\n",
       "      <td>покупка жилья для семьи</td>\n",
       "    </tr>\n",
       "  </tbody>\n",
       "</table>\n",
       "</div>"
      ],
      "text/plain": [
       "   children  days_employed  dob_years education  education_id  \\\n",
       "0         1   -8437.673028         42    высшее             0   \n",
       "1         1   -4024.803754         36   среднее             1   \n",
       "2         0   -5623.422610         33   Среднее             1   \n",
       "3         3   -4124.747207         32   среднее             1   \n",
       "4         0  340266.072047         53   среднее             1   \n",
       "5         0    -926.185831         27    высшее             0   \n",
       "6         0   -2879.202052         43    высшее             0   \n",
       "7         0    -152.779569         50   СРЕДНЕЕ             1   \n",
       "8         2   -6929.865299         35    ВЫСШЕЕ             0   \n",
       "9         0   -2188.756445         41   среднее             1   \n",
       "\n",
       "      family_status  family_status_id gender income_type  debt   total_income  \\\n",
       "0   женат / замужем                 0      F   сотрудник     0  253875.639453   \n",
       "1   женат / замужем                 0      F   сотрудник     0  112080.014102   \n",
       "2   женат / замужем                 0      M   сотрудник     0  145885.952297   \n",
       "3   женат / замужем                 0      M   сотрудник     0  267628.550329   \n",
       "4  гражданский брак                 1      F   пенсионер     0  158616.077870   \n",
       "5  гражданский брак                 1      M   компаньон     0  255763.565419   \n",
       "6   женат / замужем                 0      F   компаньон     0  240525.971920   \n",
       "7   женат / замужем                 0      M   сотрудник     0  135823.934197   \n",
       "8  гражданский брак                 1      F   сотрудник     0   95856.832424   \n",
       "9   женат / замужем                 0      M   сотрудник     0  144425.938277   \n",
       "\n",
       "                      purpose  \n",
       "0               покупка жилья  \n",
       "1     приобретение автомобиля  \n",
       "2               покупка жилья  \n",
       "3  дополнительное образование  \n",
       "4             сыграть свадьбу  \n",
       "5               покупка жилья  \n",
       "6           операции с жильем  \n",
       "7                 образование  \n",
       "8       на проведение свадьбы  \n",
       "9     покупка жилья для семьи  "
      ]
     },
     "metadata": {},
     "output_type": "display_data"
    }
   ],
   "source": [
    "import pandas as pd\n",
    "data = pd.read_csv('/datasets/data.csv')\n",
    "# просмотр первых десяти строчек в таблице data\n",
    "display(data.head(10))"
   ]
  },
  {
   "cell_type": "code",
   "execution_count": 2,
   "metadata": {},
   "outputs": [
    {
     "name": "stdout",
     "output_type": "stream",
     "text": [
      "<class 'pandas.core.frame.DataFrame'>\n",
      "RangeIndex: 21525 entries, 0 to 21524\n",
      "Data columns (total 12 columns):\n",
      "children            21525 non-null int64\n",
      "days_employed       19351 non-null float64\n",
      "dob_years           21525 non-null int64\n",
      "education           21525 non-null object\n",
      "education_id        21525 non-null int64\n",
      "family_status       21525 non-null object\n",
      "family_status_id    21525 non-null int64\n",
      "gender              21525 non-null object\n",
      "income_type         21525 non-null object\n",
      "debt                21525 non-null int64\n",
      "total_income        19351 non-null float64\n",
      "purpose             21525 non-null object\n",
      "dtypes: float64(2), int64(5), object(5)\n",
      "memory usage: 2.0+ MB\n"
     ]
    }
   ],
   "source": [
    "# получение общей информации о данных в таблице data\n",
    "data.info()"
   ]
  },
  {
   "cell_type": "code",
   "execution_count": 3,
   "metadata": {},
   "outputs": [
    {
     "data": {
      "text/plain": [
       "['children',\n",
       " 'days_employed',\n",
       " 'dob_years',\n",
       " 'education',\n",
       " 'education_id',\n",
       " 'family_status',\n",
       " 'family_status_id',\n",
       " 'gender',\n",
       " 'income_type',\n",
       " 'debt',\n",
       " 'total_income',\n",
       " 'purpose']"
      ]
     },
     "metadata": {},
     "output_type": "display_data"
    }
   ],
   "source": [
    "# проверим правильно ли записаны названия столбцов таблицы data\n",
    "display(data.columns.to_list())"
   ]
  },
  {
   "cell_type": "markdown",
   "metadata": {},
   "source": [
    "**Вывод**"
   ]
  },
  {
   "cell_type": "markdown",
   "metadata": {},
   "source": [
    "Мной были обнаружены ошибки в данных: 1) в days_employed, отвечающий за общий трудовой стаж в днях, встречаются отрицательные значения, отрицательный стаж невозможен 2) в education встречаются дубликаты, например, высшее и ВЫСШЕЕ\n",
    "\n",
    "В days_employed и total_income есть пропуски в данных. Вряд ли клиенты не заполнили эти данные, ведь без данных о доходе и постоянной работы не получить кредит. Скорее всего есть какая-то ошибка в записи данных.\n",
    "\n",
    "В названии столбцов проблем нет"
   ]
  },
  {
   "cell_type": "markdown",
   "metadata": {},
   "source": [
    "## Шаг 2. Предобработка данных"
   ]
  },
  {
   "cell_type": "markdown",
   "metadata": {},
   "source": [
    "### Обработка отрицательных значений"
   ]
  },
  {
   "cell_type": "code",
   "execution_count": 29,
   "metadata": {},
   "outputs": [
    {
     "data": {
      "text/html": [
       "<div>\n",
       "<style scoped>\n",
       "    .dataframe tbody tr th:only-of-type {\n",
       "        vertical-align: middle;\n",
       "    }\n",
       "\n",
       "    .dataframe tbody tr th {\n",
       "        vertical-align: top;\n",
       "    }\n",
       "\n",
       "    .dataframe thead th {\n",
       "        text-align: right;\n",
       "    }\n",
       "</style>\n",
       "<table border=\"1\" class=\"dataframe\">\n",
       "  <thead>\n",
       "    <tr style=\"text-align: right;\">\n",
       "      <th></th>\n",
       "      <th>children</th>\n",
       "      <th>days_employed</th>\n",
       "      <th>dob_years</th>\n",
       "      <th>education</th>\n",
       "      <th>education_id</th>\n",
       "      <th>family_status</th>\n",
       "      <th>family_status_id</th>\n",
       "      <th>gender</th>\n",
       "      <th>income_type</th>\n",
       "      <th>debt</th>\n",
       "      <th>total_income</th>\n",
       "      <th>purpose</th>\n",
       "      <th>category</th>\n",
       "      <th>income_group</th>\n",
       "    </tr>\n",
       "  </thead>\n",
       "  <tbody>\n",
       "    <tr>\n",
       "      <td>0</td>\n",
       "      <td>1</td>\n",
       "      <td>8437</td>\n",
       "      <td>42</td>\n",
       "      <td>высшее</td>\n",
       "      <td>0</td>\n",
       "      <td>женат / замужем</td>\n",
       "      <td>0</td>\n",
       "      <td>F</td>\n",
       "      <td>сотрудник</td>\n",
       "      <td>0</td>\n",
       "      <td>253875</td>\n",
       "      <td>покупка жилья</td>\n",
       "      <td>недвижимость</td>\n",
       "      <td>высокий</td>\n",
       "    </tr>\n",
       "    <tr>\n",
       "      <td>1</td>\n",
       "      <td>1</td>\n",
       "      <td>4024</td>\n",
       "      <td>36</td>\n",
       "      <td>среднее</td>\n",
       "      <td>1</td>\n",
       "      <td>женат / замужем</td>\n",
       "      <td>0</td>\n",
       "      <td>F</td>\n",
       "      <td>сотрудник</td>\n",
       "      <td>0</td>\n",
       "      <td>112080</td>\n",
       "      <td>приобретение автомобиля</td>\n",
       "      <td>автомобиль</td>\n",
       "      <td>средний</td>\n",
       "    </tr>\n",
       "    <tr>\n",
       "      <td>2</td>\n",
       "      <td>0</td>\n",
       "      <td>5623</td>\n",
       "      <td>33</td>\n",
       "      <td>среднее</td>\n",
       "      <td>1</td>\n",
       "      <td>женат / замужем</td>\n",
       "      <td>0</td>\n",
       "      <td>M</td>\n",
       "      <td>сотрудник</td>\n",
       "      <td>0</td>\n",
       "      <td>145885</td>\n",
       "      <td>покупка жилья</td>\n",
       "      <td>недвижимость</td>\n",
       "      <td>средний</td>\n",
       "    </tr>\n",
       "    <tr>\n",
       "      <td>3</td>\n",
       "      <td>3</td>\n",
       "      <td>4124</td>\n",
       "      <td>32</td>\n",
       "      <td>среднее</td>\n",
       "      <td>1</td>\n",
       "      <td>женат / замужем</td>\n",
       "      <td>0</td>\n",
       "      <td>M</td>\n",
       "      <td>сотрудник</td>\n",
       "      <td>0</td>\n",
       "      <td>267628</td>\n",
       "      <td>дополнительное образование</td>\n",
       "      <td>образование</td>\n",
       "      <td>высокий</td>\n",
       "    </tr>\n",
       "    <tr>\n",
       "      <td>4</td>\n",
       "      <td>0</td>\n",
       "      <td>340266</td>\n",
       "      <td>53</td>\n",
       "      <td>среднее</td>\n",
       "      <td>1</td>\n",
       "      <td>гражданский брак</td>\n",
       "      <td>1</td>\n",
       "      <td>F</td>\n",
       "      <td>пенсионер</td>\n",
       "      <td>0</td>\n",
       "      <td>158616</td>\n",
       "      <td>сыграть свадьбу</td>\n",
       "      <td>свадьба</td>\n",
       "      <td>средний</td>\n",
       "    </tr>\n",
       "    <tr>\n",
       "      <td>5</td>\n",
       "      <td>0</td>\n",
       "      <td>926</td>\n",
       "      <td>27</td>\n",
       "      <td>высшее</td>\n",
       "      <td>0</td>\n",
       "      <td>гражданский брак</td>\n",
       "      <td>1</td>\n",
       "      <td>M</td>\n",
       "      <td>компаньон</td>\n",
       "      <td>0</td>\n",
       "      <td>255763</td>\n",
       "      <td>покупка жилья</td>\n",
       "      <td>недвижимость</td>\n",
       "      <td>высокий</td>\n",
       "    </tr>\n",
       "    <tr>\n",
       "      <td>6</td>\n",
       "      <td>0</td>\n",
       "      <td>2879</td>\n",
       "      <td>43</td>\n",
       "      <td>высшее</td>\n",
       "      <td>0</td>\n",
       "      <td>женат / замужем</td>\n",
       "      <td>0</td>\n",
       "      <td>F</td>\n",
       "      <td>компаньон</td>\n",
       "      <td>0</td>\n",
       "      <td>240525</td>\n",
       "      <td>операции с жильем</td>\n",
       "      <td>недвижимость</td>\n",
       "      <td>высокий</td>\n",
       "    </tr>\n",
       "    <tr>\n",
       "      <td>7</td>\n",
       "      <td>0</td>\n",
       "      <td>152</td>\n",
       "      <td>50</td>\n",
       "      <td>среднее</td>\n",
       "      <td>1</td>\n",
       "      <td>женат / замужем</td>\n",
       "      <td>0</td>\n",
       "      <td>M</td>\n",
       "      <td>сотрудник</td>\n",
       "      <td>0</td>\n",
       "      <td>135823</td>\n",
       "      <td>образование</td>\n",
       "      <td>образование</td>\n",
       "      <td>средний</td>\n",
       "    </tr>\n",
       "    <tr>\n",
       "      <td>8</td>\n",
       "      <td>2</td>\n",
       "      <td>6929</td>\n",
       "      <td>35</td>\n",
       "      <td>высшее</td>\n",
       "      <td>0</td>\n",
       "      <td>гражданский брак</td>\n",
       "      <td>1</td>\n",
       "      <td>F</td>\n",
       "      <td>сотрудник</td>\n",
       "      <td>0</td>\n",
       "      <td>95856</td>\n",
       "      <td>на проведение свадьбы</td>\n",
       "      <td>свадьба</td>\n",
       "      <td>средний</td>\n",
       "    </tr>\n",
       "    <tr>\n",
       "      <td>9</td>\n",
       "      <td>0</td>\n",
       "      <td>2188</td>\n",
       "      <td>41</td>\n",
       "      <td>среднее</td>\n",
       "      <td>1</td>\n",
       "      <td>женат / замужем</td>\n",
       "      <td>0</td>\n",
       "      <td>M</td>\n",
       "      <td>сотрудник</td>\n",
       "      <td>0</td>\n",
       "      <td>144425</td>\n",
       "      <td>покупка жилья для семьи</td>\n",
       "      <td>недвижимость</td>\n",
       "      <td>средний</td>\n",
       "    </tr>\n",
       "  </tbody>\n",
       "</table>\n",
       "</div>"
      ],
      "text/plain": [
       "   children  days_employed  dob_years education  education_id  \\\n",
       "0         1           8437         42    высшее             0   \n",
       "1         1           4024         36   среднее             1   \n",
       "2         0           5623         33   среднее             1   \n",
       "3         3           4124         32   среднее             1   \n",
       "4         0         340266         53   среднее             1   \n",
       "5         0            926         27    высшее             0   \n",
       "6         0           2879         43    высшее             0   \n",
       "7         0            152         50   среднее             1   \n",
       "8         2           6929         35    высшее             0   \n",
       "9         0           2188         41   среднее             1   \n",
       "\n",
       "      family_status  family_status_id gender income_type  debt  total_income  \\\n",
       "0   женат / замужем                 0      F   сотрудник     0        253875   \n",
       "1   женат / замужем                 0      F   сотрудник     0        112080   \n",
       "2   женат / замужем                 0      M   сотрудник     0        145885   \n",
       "3   женат / замужем                 0      M   сотрудник     0        267628   \n",
       "4  гражданский брак                 1      F   пенсионер     0        158616   \n",
       "5  гражданский брак                 1      M   компаньон     0        255763   \n",
       "6   женат / замужем                 0      F   компаньон     0        240525   \n",
       "7   женат / замужем                 0      M   сотрудник     0        135823   \n",
       "8  гражданский брак                 1      F   сотрудник     0         95856   \n",
       "9   женат / замужем                 0      M   сотрудник     0        144425   \n",
       "\n",
       "                      purpose      category income_group  \n",
       "0               покупка жилья  недвижимость      высокий  \n",
       "1     приобретение автомобиля    автомобиль      средний  \n",
       "2               покупка жилья  недвижимость      средний  \n",
       "3  дополнительное образование   образование      высокий  \n",
       "4             сыграть свадьбу       свадьба      средний  \n",
       "5               покупка жилья  недвижимость      высокий  \n",
       "6           операции с жильем  недвижимость      высокий  \n",
       "7                 образование   образование      средний  \n",
       "8       на проведение свадьбы       свадьба      средний  \n",
       "9     покупка жилья для семьи  недвижимость      средний  "
      ]
     },
     "metadata": {},
     "output_type": "display_data"
    }
   ],
   "source": [
    "# возьмем те же значения но по модулю\n",
    "data['days_employed'] = abs(data['days_employed'])\n",
    "data['children'] = abs(data['children'])\n",
    "# проверка выводом первых 10 строк\n",
    "display(data.head(10))"
   ]
  },
  {
   "cell_type": "markdown",
   "metadata": {},
   "source": [
    "**Вывод**"
   ]
  },
  {
   "cell_type": "markdown",
   "metadata": {},
   "source": [
    "Так как у нас нет возможности узнать, почему встречаются отрицательные значения в таком большом количестве, просто возьмем эти значения по модулю."
   ]
  },
  {
   "cell_type": "markdown",
   "metadata": {},
   "source": [
    "### Обработка пропусков"
   ]
  },
  {
   "cell_type": "code",
   "execution_count": 5,
   "metadata": {},
   "outputs": [
    {
     "data": {
      "text/plain": [
       "children               0\n",
       "days_employed       2174\n",
       "dob_years              0\n",
       "education              0\n",
       "education_id           0\n",
       "family_status          0\n",
       "family_status_id       0\n",
       "gender                 0\n",
       "income_type            0\n",
       "debt                   0\n",
       "total_income        2174\n",
       "purpose                0\n",
       "dtype: int64"
      ]
     },
     "metadata": {},
     "output_type": "display_data"
    }
   ],
   "source": [
    "# подсчёт пропусков\n",
    "display(data.isna().sum())"
   ]
  },
  {
   "cell_type": "code",
   "execution_count": 6,
   "metadata": {},
   "outputs": [],
   "source": [
    "# замена всех пропусков\n",
    "data = data.dropna(subset = ['days_employed'])\n",
    "average_income = data['total_income'].mean()\n",
    "data = data.fillna(average_income)"
   ]
  },
  {
   "cell_type": "markdown",
   "metadata": {},
   "source": [
    "<div class=\"alert alert-warning\">\n",
    "\n",
    "**Комментарий ревьюера**\n",
    "\n",
    "Доход лучше было бы заменить на среднее значение</div>"
   ]
  },
  {
   "cell_type": "markdown",
   "metadata": {},
   "source": [
    "<div class=\"alert alert-warning\" style=\"background:#ffdbf1;color:#2e00ab\">\n",
    "\n",
    "**Комментарий студента**\n",
    "    \n",
    "Да, согласна, что так логичней, не догадалась, исправила</div>"
   ]
  },
  {
   "cell_type": "code",
   "execution_count": 7,
   "metadata": {},
   "outputs": [
    {
     "data": {
      "text/plain": [
       "children            0\n",
       "days_employed       0\n",
       "dob_years           0\n",
       "education           0\n",
       "education_id        0\n",
       "family_status       0\n",
       "family_status_id    0\n",
       "gender              0\n",
       "income_type         0\n",
       "debt                0\n",
       "total_income        0\n",
       "purpose             0\n",
       "dtype: int64"
      ]
     },
     "metadata": {},
     "output_type": "display_data"
    }
   ],
   "source": [
    "# повторный подсчёт пропусков\n",
    "display(data.isna().sum())"
   ]
  },
  {
   "cell_type": "markdown",
   "metadata": {},
   "source": [
    "**Вывод**"
   ]
  },
  {
   "cell_type": "markdown",
   "metadata": {},
   "source": [
    "Пропуски были в days_employed и total_income. Как я уже сказала выше, надо сообщить об этом. Данные из столбца days_employed вообще не нужны для решения поставленного вопроса, поэтому я решила убрать пропуски из этого столбца, а данные из стобца total_income нужны, поэтому я заменила их на 0"
   ]
  },
  {
   "cell_type": "markdown",
   "metadata": {},
   "source": [
    "### Замена типа данных"
   ]
  },
  {
   "cell_type": "code",
   "execution_count": 8,
   "metadata": {},
   "outputs": [],
   "source": [
    "# столбцы, значения которых нужно перевести в int64\n",
    "columns = ['days_employed', 'total_income']\n",
    "# перевод значений в int64\n",
    "for column in columns:\n",
    "    data[column] = data[column].astype('int')"
   ]
  },
  {
   "cell_type": "code",
   "execution_count": 9,
   "metadata": {},
   "outputs": [
    {
     "name": "stdout",
     "output_type": "stream",
     "text": [
      "<class 'pandas.core.frame.DataFrame'>\n",
      "Int64Index: 19351 entries, 0 to 21524\n",
      "Data columns (total 12 columns):\n",
      "children            19351 non-null int64\n",
      "days_employed       19351 non-null int64\n",
      "dob_years           19351 non-null int64\n",
      "education           19351 non-null object\n",
      "education_id        19351 non-null int64\n",
      "family_status       19351 non-null object\n",
      "family_status_id    19351 non-null int64\n",
      "gender              19351 non-null object\n",
      "income_type         19351 non-null object\n",
      "debt                19351 non-null int64\n",
      "total_income        19351 non-null int64\n",
      "purpose             19351 non-null object\n",
      "dtypes: int64(7), object(5)\n",
      "memory usage: 1.9+ MB\n"
     ]
    }
   ],
   "source": [
    "# поверим успешность перевода\n",
    "data.info()"
   ]
  },
  {
   "cell_type": "markdown",
   "metadata": {},
   "source": [
    "**Вывод**"
   ]
  },
  {
   "cell_type": "markdown",
   "metadata": {},
   "source": [
    "У нас есть два знакомых инструмента для перевода одного типа данных в другой: to_numeric и astype. to_numeric переводит строку в вещественное или целое число, но так как нам нужно было перевести вещественные числа в целые, этот вариант нам не подходит. astype переводит из любого типа данных в указанный нами в скобках, поэтому я выбрала его."
   ]
  },
  {
   "cell_type": "markdown",
   "metadata": {},
   "source": [
    "### Обработка дубликатов"
   ]
  },
  {
   "cell_type": "code",
   "execution_count": 10,
   "metadata": {},
   "outputs": [
    {
     "name": "stdout",
     "output_type": "stream",
     "text": [
      "0\n"
     ]
    }
   ],
   "source": [
    "# дубликаты могут быть явными и неявными, начнем, с явных\n",
    "# подсчёт явных дубликатов\n",
    "print(data.duplicated().sum())"
   ]
  },
  {
   "cell_type": "code",
   "execution_count": 11,
   "metadata": {},
   "outputs": [
    {
     "data": {
      "text/plain": [
       "array(['Не женат / не замужем', 'в разводе', 'вдовец / вдова',\n",
       "       'гражданский брак', 'женат / замужем'], dtype=object)"
      ]
     },
     "metadata": {},
     "output_type": "display_data"
    }
   ],
   "source": [
    "# теперь неявные\n",
    "# просмотр уникальных названий столбца с данными о семейном статусе\n",
    "family_status_column = data['family_status']\n",
    "family_status_column = family_status_column.sort_values()\n",
    "display(family_status_column.unique())"
   ]
  },
  {
   "cell_type": "code",
   "execution_count": 12,
   "metadata": {},
   "outputs": [
    {
     "data": {
      "text/plain": [
       "array(['безработный', 'в декрете', 'госслужащий', 'компаньон',\n",
       "       'пенсионер', 'предприниматель', 'сотрудник', 'студент'],\n",
       "      dtype=object)"
      ]
     },
     "metadata": {},
     "output_type": "display_data"
    }
   ],
   "source": [
    "# просмотр уникальных названий столбца с данными о должности\n",
    "income_type_column = data['income_type']\n",
    "income_type_column = income_type_column.sort_values()\n",
    "display(income_type_column.unique())"
   ]
  },
  {
   "cell_type": "code",
   "execution_count": 13,
   "metadata": {},
   "outputs": [
    {
     "data": {
      "text/plain": [
       "array(['ВЫСШЕЕ', 'Высшее', 'НАЧАЛЬНОЕ', 'НЕОКОНЧЕННОЕ ВЫСШЕЕ',\n",
       "       'Начальное', 'Неоконченное высшее', 'СРЕДНЕЕ', 'Среднее',\n",
       "       'УЧЕНАЯ СТЕПЕНЬ', 'Ученая степень', 'высшее', 'начальное',\n",
       "       'неоконченное высшее', 'среднее', 'ученая степень'], dtype=object)"
      ]
     },
     "metadata": {},
     "output_type": "display_data"
    }
   ],
   "source": [
    "# просмотр уникальных названий столбца с данными об образовании\n",
    "education_column = data['education']\n",
    "education_column = education_column.sort_values()\n",
    "display(education_column.unique())"
   ]
  },
  {
   "cell_type": "code",
   "execution_count": 14,
   "metadata": {},
   "outputs": [],
   "source": [
    "# все буквы становятся строчными\n",
    "data['education'] = data['education'].str.lower()"
   ]
  },
  {
   "cell_type": "code",
   "execution_count": 15,
   "metadata": {},
   "outputs": [
    {
     "data": {
      "text/plain": [
       "array(['высшее', 'начальное', 'неоконченное высшее', 'среднее',\n",
       "       'ученая степень'], dtype=object)"
      ]
     },
     "metadata": {},
     "output_type": "display_data"
    }
   ],
   "source": [
    "# проверка, что все успешно\n",
    "education_column_lowercase = data['education']\n",
    "education_column_lowercase = education_column_lowercase.sort_values()\n",
    "display(education_column_lowercase.unique())"
   ]
  },
  {
   "cell_type": "markdown",
   "metadata": {},
   "source": [
    "<div class=\"alert alert-warning\">\n",
    "\n",
    "**Комментарий ревьюера**\n",
    "\n",
    "После обработки неявных дубликатов обязательно проверяй на появление полных дубликатов, потому что они могут появиться</div>"
   ]
  },
  {
   "cell_type": "markdown",
   "metadata": {},
   "source": [
    "<div class=\"alert alert-warning\" style=\"background:#ffdbf1;color:#2e00ab\">\n",
    "\n",
    "**Комментарий студента**\n",
    "    \n",
    "Не знала об этом</div>"
   ]
  },
  {
   "cell_type": "code",
   "execution_count": 16,
   "metadata": {},
   "outputs": [
    {
     "name": "stdout",
     "output_type": "stream",
     "text": [
      "0\n"
     ]
    }
   ],
   "source": [
    "# повторная проверка на неявные дубликаты\n",
    "print(data.duplicated().sum())"
   ]
  },
  {
   "cell_type": "code",
   "execution_count": 17,
   "metadata": {},
   "outputs": [
    {
     "data": {
      "text/plain": [
       "array(['автомобили', 'автомобиль', 'высшее образование',\n",
       "       'дополнительное образование', 'жилье',\n",
       "       'заняться высшим образованием', 'заняться образованием',\n",
       "       'на покупку автомобиля', 'на покупку подержанного автомобиля',\n",
       "       'на покупку своего автомобиля', 'на проведение свадьбы',\n",
       "       'недвижимость', 'образование', 'операции с жильем',\n",
       "       'операции с коммерческой недвижимостью',\n",
       "       'операции с недвижимостью', 'операции со своей недвижимостью',\n",
       "       'покупка жилой недвижимости', 'покупка жилья',\n",
       "       'покупка жилья для сдачи', 'покупка жилья для семьи',\n",
       "       'покупка коммерческой недвижимости', 'покупка недвижимости',\n",
       "       'покупка своего жилья', 'получение высшего образования',\n",
       "       'получение дополнительного образования', 'получение образования',\n",
       "       'приобретение автомобиля', 'профильное образование',\n",
       "       'ремонт жилью', 'свадьба', 'свой автомобиль',\n",
       "       'сделка с автомобилем', 'сделка с подержанным автомобилем',\n",
       "       'строительство жилой недвижимости', 'строительство недвижимости',\n",
       "       'строительство собственной недвижимости', 'сыграть свадьбу'],\n",
       "      dtype=object)"
      ]
     },
     "metadata": {},
     "output_type": "display_data"
    }
   ],
   "source": [
    "# просмотр уникальных названий столбца с данными о цели кредита\n",
    "purpose_column = data['purpose']\n",
    "purpose_column = purpose_column.sort_values()\n",
    "display(purpose_column.unique())"
   ]
  },
  {
   "cell_type": "markdown",
   "metadata": {},
   "source": [
    "**Вывод**"
   ]
  },
  {
   "cell_type": "markdown",
   "metadata": {},
   "source": [
    "Явных дубликатов не оказалось. В столбцам с данными о семейном статусе и о должности неявных дубликатов не было обнаружено. В столбце с данными об образовании были неявные дубликаты в связи с разным регистром в записи одинаковых слов, полагаю, это случилось из-за человеческой ошибки, но ошибки были успешно исправлены с помощью str.lower. В столбце с данными о цели кредита много неявных дубликатов, их исправим с помощью лемматизации."
   ]
  },
  {
   "cell_type": "markdown",
   "metadata": {},
   "source": [
    "### Лемматизация"
   ]
  },
  {
   "cell_type": "code",
   "execution_count": 18,
   "metadata": {},
   "outputs": [
    {
     "name": "stdout",
     "output_type": "stream",
     "text": [
      "['автомобиль', '\\n']\n",
      "['автомобиль', '\\n']\n",
      "['высокий', ' ', 'образование', '\\n']\n",
      "['дополнительный', ' ', 'образование', '\\n']\n",
      "['жилье', '\\n']\n",
      "['заниматься', ' ', 'высокий', ' ', 'образование', '\\n']\n",
      "['заниматься', ' ', 'образование', '\\n']\n",
      "['на', ' ', 'покупка', ' ', 'автомобиль', '\\n']\n",
      "['на', ' ', 'покупка', ' ', 'подержать', ' ', 'автомобиль', '\\n']\n",
      "['на', ' ', 'покупка', ' ', 'свой', ' ', 'автомобиль', '\\n']\n",
      "['на', ' ', 'проведение', ' ', 'свадьба', '\\n']\n",
      "['недвижимость', '\\n']\n",
      "['образование', '\\n']\n",
      "['операция', ' ', 'с', ' ', 'жилье', '\\n']\n",
      "['операция', ' ', 'с', ' ', 'коммерческий', ' ', 'недвижимость', '\\n']\n",
      "['операция', ' ', 'с', ' ', 'недвижимость', '\\n']\n",
      "['операция', ' ', 'со', ' ', 'свой', ' ', 'недвижимость', '\\n']\n",
      "['покупка', ' ', 'жилой', ' ', 'недвижимость', '\\n']\n",
      "['покупка', ' ', 'жилье', '\\n']\n",
      "['покупка', ' ', 'жилье', ' ', 'для', ' ', 'сдача', '\\n']\n",
      "['покупка', ' ', 'жилье', ' ', 'для', ' ', 'семья', '\\n']\n",
      "['покупка', ' ', 'коммерческий', ' ', 'недвижимость', '\\n']\n",
      "['покупка', ' ', 'недвижимость', '\\n']\n",
      "['покупка', ' ', 'свой', ' ', 'жилье', '\\n']\n",
      "['получение', ' ', 'высокий', ' ', 'образование', '\\n']\n",
      "['получение', ' ', 'дополнительный', ' ', 'образование', '\\n']\n",
      "['получение', ' ', 'образование', '\\n']\n",
      "['приобретение', ' ', 'автомобиль', '\\n']\n",
      "['профильный', ' ', 'образование', '\\n']\n",
      "['ремонт', ' ', 'жилье', '\\n']\n",
      "['свадьба', '\\n']\n",
      "['свой', ' ', 'автомобиль', '\\n']\n",
      "['сделка', ' ', 'с', ' ', 'автомобиль', '\\n']\n",
      "['сделка', ' ', 'с', ' ', 'подержанный', ' ', 'автомобиль', '\\n']\n",
      "['строительство', ' ', 'жилой', ' ', 'недвижимость', '\\n']\n",
      "['строительство', ' ', 'недвижимость', '\\n']\n",
      "['строительство', ' ', 'собственный', ' ', 'недвижимость', '\\n']\n",
      "['сыграть', ' ', 'свадьба', '\\n']\n"
     ]
    }
   ],
   "source": [
    "# подключение библиотеки для лемматизации\n",
    "from pymystem3 import Mystem\n",
    "m = Mystem()\n",
    "# строка с уникальными значениями из столбца purpose\n",
    "unique_purpose = purpose_column.unique()\n",
    "# вывод лемм\n",
    "for purpose in unique_purpose:\n",
    "    print(m.lemmatize(purpose))"
   ]
  },
  {
   "cell_type": "code",
   "execution_count": 19,
   "metadata": {},
   "outputs": [],
   "source": [
    "# функция для создания \"новых\" целей по леммам\n",
    "def make_category(purpose):\n",
    "    lemmas = m.lemmatize(purpose)\n",
    "    if 'автомобиль' in lemmas:\n",
    "        return 'автомобиль'\n",
    "    elif 'свадьба' in lemmas:\n",
    "        return 'свадьба'\n",
    "    elif 'образование' in lemmas:\n",
    "        return 'образование'\n",
    "    elif 'недвижимость' in lemmas or 'жилье' in lemmas:\n",
    "        return 'недвижимость'"
   ]
  },
  {
   "cell_type": "code",
   "execution_count": 20,
   "metadata": {},
   "outputs": [
    {
     "data": {
      "text/html": [
       "<div>\n",
       "<style scoped>\n",
       "    .dataframe tbody tr th:only-of-type {\n",
       "        vertical-align: middle;\n",
       "    }\n",
       "\n",
       "    .dataframe tbody tr th {\n",
       "        vertical-align: top;\n",
       "    }\n",
       "\n",
       "    .dataframe thead th {\n",
       "        text-align: right;\n",
       "    }\n",
       "</style>\n",
       "<table border=\"1\" class=\"dataframe\">\n",
       "  <thead>\n",
       "    <tr style=\"text-align: right;\">\n",
       "      <th></th>\n",
       "      <th>children</th>\n",
       "      <th>days_employed</th>\n",
       "      <th>dob_years</th>\n",
       "      <th>education</th>\n",
       "      <th>education_id</th>\n",
       "      <th>family_status</th>\n",
       "      <th>family_status_id</th>\n",
       "      <th>gender</th>\n",
       "      <th>income_type</th>\n",
       "      <th>debt</th>\n",
       "      <th>total_income</th>\n",
       "      <th>purpose</th>\n",
       "      <th>category</th>\n",
       "    </tr>\n",
       "  </thead>\n",
       "  <tbody>\n",
       "    <tr>\n",
       "      <td>0</td>\n",
       "      <td>1</td>\n",
       "      <td>8437</td>\n",
       "      <td>42</td>\n",
       "      <td>высшее</td>\n",
       "      <td>0</td>\n",
       "      <td>женат / замужем</td>\n",
       "      <td>0</td>\n",
       "      <td>F</td>\n",
       "      <td>сотрудник</td>\n",
       "      <td>0</td>\n",
       "      <td>253875</td>\n",
       "      <td>покупка жилья</td>\n",
       "      <td>недвижимость</td>\n",
       "    </tr>\n",
       "    <tr>\n",
       "      <td>1</td>\n",
       "      <td>1</td>\n",
       "      <td>4024</td>\n",
       "      <td>36</td>\n",
       "      <td>среднее</td>\n",
       "      <td>1</td>\n",
       "      <td>женат / замужем</td>\n",
       "      <td>0</td>\n",
       "      <td>F</td>\n",
       "      <td>сотрудник</td>\n",
       "      <td>0</td>\n",
       "      <td>112080</td>\n",
       "      <td>приобретение автомобиля</td>\n",
       "      <td>автомобиль</td>\n",
       "    </tr>\n",
       "    <tr>\n",
       "      <td>2</td>\n",
       "      <td>0</td>\n",
       "      <td>5623</td>\n",
       "      <td>33</td>\n",
       "      <td>среднее</td>\n",
       "      <td>1</td>\n",
       "      <td>женат / замужем</td>\n",
       "      <td>0</td>\n",
       "      <td>M</td>\n",
       "      <td>сотрудник</td>\n",
       "      <td>0</td>\n",
       "      <td>145885</td>\n",
       "      <td>покупка жилья</td>\n",
       "      <td>недвижимость</td>\n",
       "    </tr>\n",
       "    <tr>\n",
       "      <td>3</td>\n",
       "      <td>3</td>\n",
       "      <td>4124</td>\n",
       "      <td>32</td>\n",
       "      <td>среднее</td>\n",
       "      <td>1</td>\n",
       "      <td>женат / замужем</td>\n",
       "      <td>0</td>\n",
       "      <td>M</td>\n",
       "      <td>сотрудник</td>\n",
       "      <td>0</td>\n",
       "      <td>267628</td>\n",
       "      <td>дополнительное образование</td>\n",
       "      <td>образование</td>\n",
       "    </tr>\n",
       "    <tr>\n",
       "      <td>4</td>\n",
       "      <td>0</td>\n",
       "      <td>340266</td>\n",
       "      <td>53</td>\n",
       "      <td>среднее</td>\n",
       "      <td>1</td>\n",
       "      <td>гражданский брак</td>\n",
       "      <td>1</td>\n",
       "      <td>F</td>\n",
       "      <td>пенсионер</td>\n",
       "      <td>0</td>\n",
       "      <td>158616</td>\n",
       "      <td>сыграть свадьбу</td>\n",
       "      <td>свадьба</td>\n",
       "    </tr>\n",
       "    <tr>\n",
       "      <td>5</td>\n",
       "      <td>0</td>\n",
       "      <td>926</td>\n",
       "      <td>27</td>\n",
       "      <td>высшее</td>\n",
       "      <td>0</td>\n",
       "      <td>гражданский брак</td>\n",
       "      <td>1</td>\n",
       "      <td>M</td>\n",
       "      <td>компаньон</td>\n",
       "      <td>0</td>\n",
       "      <td>255763</td>\n",
       "      <td>покупка жилья</td>\n",
       "      <td>недвижимость</td>\n",
       "    </tr>\n",
       "    <tr>\n",
       "      <td>6</td>\n",
       "      <td>0</td>\n",
       "      <td>2879</td>\n",
       "      <td>43</td>\n",
       "      <td>высшее</td>\n",
       "      <td>0</td>\n",
       "      <td>женат / замужем</td>\n",
       "      <td>0</td>\n",
       "      <td>F</td>\n",
       "      <td>компаньон</td>\n",
       "      <td>0</td>\n",
       "      <td>240525</td>\n",
       "      <td>операции с жильем</td>\n",
       "      <td>недвижимость</td>\n",
       "    </tr>\n",
       "    <tr>\n",
       "      <td>7</td>\n",
       "      <td>0</td>\n",
       "      <td>152</td>\n",
       "      <td>50</td>\n",
       "      <td>среднее</td>\n",
       "      <td>1</td>\n",
       "      <td>женат / замужем</td>\n",
       "      <td>0</td>\n",
       "      <td>M</td>\n",
       "      <td>сотрудник</td>\n",
       "      <td>0</td>\n",
       "      <td>135823</td>\n",
       "      <td>образование</td>\n",
       "      <td>образование</td>\n",
       "    </tr>\n",
       "    <tr>\n",
       "      <td>8</td>\n",
       "      <td>2</td>\n",
       "      <td>6929</td>\n",
       "      <td>35</td>\n",
       "      <td>высшее</td>\n",
       "      <td>0</td>\n",
       "      <td>гражданский брак</td>\n",
       "      <td>1</td>\n",
       "      <td>F</td>\n",
       "      <td>сотрудник</td>\n",
       "      <td>0</td>\n",
       "      <td>95856</td>\n",
       "      <td>на проведение свадьбы</td>\n",
       "      <td>свадьба</td>\n",
       "    </tr>\n",
       "    <tr>\n",
       "      <td>9</td>\n",
       "      <td>0</td>\n",
       "      <td>2188</td>\n",
       "      <td>41</td>\n",
       "      <td>среднее</td>\n",
       "      <td>1</td>\n",
       "      <td>женат / замужем</td>\n",
       "      <td>0</td>\n",
       "      <td>M</td>\n",
       "      <td>сотрудник</td>\n",
       "      <td>0</td>\n",
       "      <td>144425</td>\n",
       "      <td>покупка жилья для семьи</td>\n",
       "      <td>недвижимость</td>\n",
       "    </tr>\n",
       "  </tbody>\n",
       "</table>\n",
       "</div>"
      ],
      "text/plain": [
       "   children  days_employed  dob_years education  education_id  \\\n",
       "0         1           8437         42    высшее             0   \n",
       "1         1           4024         36   среднее             1   \n",
       "2         0           5623         33   среднее             1   \n",
       "3         3           4124         32   среднее             1   \n",
       "4         0         340266         53   среднее             1   \n",
       "5         0            926         27    высшее             0   \n",
       "6         0           2879         43    высшее             0   \n",
       "7         0            152         50   среднее             1   \n",
       "8         2           6929         35    высшее             0   \n",
       "9         0           2188         41   среднее             1   \n",
       "\n",
       "      family_status  family_status_id gender income_type  debt  total_income  \\\n",
       "0   женат / замужем                 0      F   сотрудник     0        253875   \n",
       "1   женат / замужем                 0      F   сотрудник     0        112080   \n",
       "2   женат / замужем                 0      M   сотрудник     0        145885   \n",
       "3   женат / замужем                 0      M   сотрудник     0        267628   \n",
       "4  гражданский брак                 1      F   пенсионер     0        158616   \n",
       "5  гражданский брак                 1      M   компаньон     0        255763   \n",
       "6   женат / замужем                 0      F   компаньон     0        240525   \n",
       "7   женат / замужем                 0      M   сотрудник     0        135823   \n",
       "8  гражданский брак                 1      F   сотрудник     0         95856   \n",
       "9   женат / замужем                 0      M   сотрудник     0        144425   \n",
       "\n",
       "                      purpose      category  \n",
       "0               покупка жилья  недвижимость  \n",
       "1     приобретение автомобиля    автомобиль  \n",
       "2               покупка жилья  недвижимость  \n",
       "3  дополнительное образование   образование  \n",
       "4             сыграть свадьбу       свадьба  \n",
       "5               покупка жилья  недвижимость  \n",
       "6           операции с жильем  недвижимость  \n",
       "7                 образование   образование  \n",
       "8       на проведение свадьбы       свадьба  \n",
       "9     покупка жилья для семьи  недвижимость  "
      ]
     },
     "metadata": {},
     "output_type": "display_data"
    }
   ],
   "source": [
    "# применение функции к всем значениям столбца purpose и запись столбца category\n",
    "data['category'] = data['purpose'].apply(make_category)\n",
    "# вывод первых десяти строк для проверки\n",
    "display(data.head(10))"
   ]
  },
  {
   "cell_type": "markdown",
   "metadata": {},
   "source": [
    "**Вывод**"
   ]
  },
  {
   "cell_type": "markdown",
   "metadata": {},
   "source": [
    "Разделив все на леммы с помощью библиотеки Mystem, я заметила, что в каждой строке встречается либо \"автомобиль\", либо \"образование\", либо \"свадьба\", либо \"недвижимость\", либо \"жилье\". Именно по этим словам я потом создавала целы"
   ]
  },
  {
   "cell_type": "markdown",
   "metadata": {},
   "source": [
    "### Категоризация данных"
   ]
  },
  {
   "cell_type": "code",
   "execution_count": 21,
   "metadata": {},
   "outputs": [],
   "source": [
    "# функция для категоризации по доходу\n",
    "def income_group(income):\n",
    "    if income < 60000:\n",
    "        return 'низкий'\n",
    "    elif income < 200000:\n",
    "        return 'средний'\n",
    "    elif income > 200000:\n",
    "        return 'высокий'"
   ]
  },
  {
   "cell_type": "code",
   "execution_count": 28,
   "metadata": {},
   "outputs": [],
   "source": [
    "# применение функции ко всем значениям в столбце total_income\n",
    "data['income_group'] = data['total_income'].apply(income_group)"
   ]
  },
  {
   "cell_type": "markdown",
   "metadata": {},
   "source": [
    "<div class=\"alert alert-danger\">\n",
    "\n",
    "**Комментарий ревьюера**\n",
    "\n",
    "Нужно было выделит категории например по доходу, т.е разделить все данные на низкий/средний/высокий. Также можешь выделить категории наличия одного, нескольких или их отсутсвия </div>"
   ]
  },
  {
   "cell_type": "markdown",
   "metadata": {},
   "source": [
    "<div class=\"alert alert-warning\" style=\"background:#ffdbf1;color:#2e00ab\">\n",
    "\n",
    "**Комментарий студента**\n",
    "    \n",
    "А, поняла</div>"
   ]
  },
  {
   "cell_type": "markdown",
   "metadata": {},
   "source": [
    "<div class=\"alert alert-success\">\n",
    "\n",
    "**Комментарий ревьюераV2**\n",
    "\n",
    "Все отлично!</div>"
   ]
  },
  {
   "cell_type": "markdown",
   "metadata": {},
   "source": [
    "**Вывод**"
   ]
  },
  {
   "cell_type": "markdown",
   "metadata": {},
   "source": [
    "Я разделила на категории по доходу - низкий, средний и высокий. Низкий - это меньше 60 тысяч, средний - от 60 до 200 тысяч, высокий - больше 200 тысяч."
   ]
  },
  {
   "cell_type": "markdown",
   "metadata": {},
   "source": [
    "## Шаг 3. Ответьте на вопросы"
   ]
  },
  {
   "cell_type": "markdown",
   "metadata": {},
   "source": [
    "- Есть ли зависимость между наличием детей и возвратом кредита в срок?"
   ]
  },
  {
   "cell_type": "markdown",
   "metadata": {},
   "source": [
    "<div class=\"alert alert-danger\">\n",
    "\n",
    "**Комментарий ревьюера**\n",
    "\n",
    "Дарья, здесь ошибка в выборе столбца, правльно будет использовать столбец, отвечающий за наличие детей.</div>"
   ]
  },
  {
   "cell_type": "markdown",
   "metadata": {},
   "source": [
    "<div class=\"alert alert-warning\" style=\"background:#ffdbf1;color:#2e00ab\">\n",
    "\n",
    "**Комментарий студента**\n",
    "    \n",
    "Перепутала столбцы</div>"
   ]
  },
  {
   "cell_type": "markdown",
   "metadata": {},
   "source": [
    "<div class=\"alert alert-success\">\n",
    "\n",
    "**Комментарий ревьюераV2**\n",
    "\n",
    "Исправления приняты</div>"
   ]
  },
  {
   "cell_type": "code",
   "execution_count": 30,
   "metadata": {
    "scrolled": false
   },
   "outputs": [
    {
     "data": {
      "text/plain": [
       "children\n",
       "0     0.074902\n",
       "1     0.093230\n",
       "2     0.095624\n",
       "3     0.074830\n",
       "4     0.088235\n",
       "5     0.000000\n",
       "20    0.119403\n",
       "Name: debt, dtype: float64"
      ]
     },
     "metadata": {},
     "output_type": "display_data"
    }
   ],
   "source": [
    "display(data.groupby('children')['debt'].mean())"
   ]
  },
  {
   "cell_type": "markdown",
   "metadata": {},
   "source": [
    "**Вывод**"
   ]
  },
  {
   "cell_type": "markdown",
   "metadata": {},
   "source": [
    "Из таблицы мы видим, что хуже всех выплачивают кредит люди с двумя детьми или одним ребенком, лучше всех - с 3 детьми и вообще без детей. Никакой зависимости нет."
   ]
  },
  {
   "cell_type": "markdown",
   "metadata": {},
   "source": [
    "- Есть ли зависимость между семейным положением и возвратом кредита в срок?"
   ]
  },
  {
   "cell_type": "code",
   "execution_count": 25,
   "metadata": {},
   "outputs": [
    {
     "data": {
      "text/plain": [
       "family_status\n",
       "Не женат / не замужем    0.100594\n",
       "в разводе                0.070175\n",
       "вдовец / вдова           0.064740\n",
       "гражданский брак         0.090763\n",
       "женат / замужем          0.075922\n",
       "Name: debt, dtype: float64"
      ]
     },
     "metadata": {},
     "output_type": "display_data"
    }
   ],
   "source": [
    "display(data.groupby('family_status')['debt'].mean())"
   ]
  },
  {
   "cell_type": "markdown",
   "metadata": {},
   "source": [
    "<div class=\"alert alert-success\">\n",
    "\n",
    "**Комментарий ревьюера**\n",
    "\n",
    "Молодец, здесь все сделано верно. </div>"
   ]
  },
  {
   "cell_type": "markdown",
   "metadata": {},
   "source": [
    "**Вывод**"
   ]
  },
  {
   "cell_type": "markdown",
   "metadata": {},
   "source": [
    "Обнаружена зависимость, что лучше всех выплачивают задолженность люди, бывшие в браке (в разводе и вдовы/вдовцы), немного хуже выплачивают люди в браке (женат/замужем и гражданский брак), а хуже всех - не женат/не замужем."
   ]
  },
  {
   "cell_type": "markdown",
   "metadata": {},
   "source": [
    "- Есть ли зависимость между уровнем дохода и возвратом кредита в срок?"
   ]
  },
  {
   "cell_type": "code",
   "execution_count": 26,
   "metadata": {},
   "outputs": [
    {
     "data": {
      "text/plain": [
       "income_group\n",
       "высокий    0.070667\n",
       "низкий     0.060794\n",
       "средний    0.086357\n",
       "Name: debt, dtype: float64"
      ]
     },
     "metadata": {},
     "output_type": "display_data"
    }
   ],
   "source": [
    "display(data.groupby('income_group')['debt'].mean())"
   ]
  },
  {
   "cell_type": "markdown",
   "metadata": {},
   "source": [
    "<div class=\"alert alert-danger\">\n",
    "\n",
    "**Комментарий ревьюера**\n",
    "\n",
    "Во время категоризации необходимо было выделить категории дохода (выский/средний/низкий), сгруппировать по ним и найти долю должников </div>"
   ]
  },
  {
   "cell_type": "markdown",
   "metadata": {},
   "source": [
    "<div class=\"alert alert-warning\" style=\"background:#ffdbf1;color:#2e00ab\">\n",
    "\n",
    "**Комментарий студента**\n",
    "    \n",
    "Поправила</div>"
   ]
  },
  {
   "cell_type": "markdown",
   "metadata": {},
   "source": [
    "<div class=\"alert alert-success\">\n",
    "\n",
    "**Комментарий ревьюераV2**\n",
    "\n",
    "Исправления приняты</div>"
   ]
  },
  {
   "cell_type": "markdown",
   "metadata": {},
   "source": [
    "**Вывод**"
   ]
  },
  {
   "cell_type": "markdown",
   "metadata": {},
   "source": [
    "Интуитивно, казалось, что чем выше доход, тем лучше человек должен выплачивать долг. Но оказалось, что самый надежный клиент - со средним доходом, а самый ненадежный - с низким."
   ]
  },
  {
   "cell_type": "markdown",
   "metadata": {},
   "source": [
    "- Как разные цели кредита влияют на его возврат в срок?"
   ]
  },
  {
   "cell_type": "code",
   "execution_count": 27,
   "metadata": {},
   "outputs": [
    {
     "data": {
      "text/plain": [
       "category\n",
       "автомобиль      0.094175\n",
       "недвижимость    0.073273\n",
       "образование     0.092021\n",
       "свадьба         0.075274\n",
       "Name: debt, dtype: float64"
      ]
     },
     "metadata": {},
     "output_type": "display_data"
    }
   ],
   "source": [
    "display(data.groupby('category')['debt'].mean())"
   ]
  },
  {
   "cell_type": "markdown",
   "metadata": {},
   "source": [
    "<div class=\"alert alert-success\">\n",
    "\n",
    "**Комментарий ревьюера**\n",
    "\n",
    "Все верно👍</div>"
   ]
  },
  {
   "cell_type": "markdown",
   "metadata": {},
   "source": [
    "**Вывод**"
   ]
  },
  {
   "cell_type": "markdown",
   "metadata": {},
   "source": [
    "Из таблицы видно, что лучше всего выплачивают задолженности на недвижимость и свадьбу, а хуже всего на автомобиль и  образование."
   ]
  },
  {
   "cell_type": "markdown",
   "metadata": {},
   "source": [
    "## Шаг 4. Общий вывод"
   ]
  },
  {
   "cell_type": "markdown",
   "metadata": {},
   "source": [
    "На выплачивание кредитов вовремя влиет семейное положение, доход и цели кредита. Люди, бывшие в браке (в разводе и вдовы/вдовцы), и люди, находящиеся в браке (женат/замужем и гражданский брак), более надежны для банка, чем не замужние и не женатые люди. Однако, количество детей не влияет на выплачивание долгов. Доход был разделен на три категории: низкий, средний и высокий. Люди со средним доходом показывют самую большую надежность для банка, после идут люди с высоким доходом, а самые ненадежные - люди с низким доходом. Люди берут кредит по 4 причинам: автомобиль, свадьба, недвижимость, образование. Лучше всего выплачивают задолженности на недвижимость и свадьбу, а хуже всего на автомобиль и образование."
   ]
  },
  {
   "cell_type": "markdown",
   "metadata": {},
   "source": [
    "<div class=\"alert alert-danger\">\n",
    "\n",
    "**Комментарий ревьюера**\n",
    "\n",
    "Молодец, хорошо справилась с проектом. Есть структура, хорошая подготовка данных. Но нсть ошибки в расчетах. Не забудь пересмотреть выводы, промежуточный и общий. Рекомендую сделать общий вывод более детальным, например, расскажи про то, какие категории удалось выделить в причинах выдачи кредита или уровня дохода</div>"
   ]
  },
  {
   "cell_type": "markdown",
   "metadata": {},
   "source": [
    "<div class=\"alert alert-warning\" style=\"background:#ffdbf1;color:#2e00ab\">\n",
    "\n",
    "**Комментарий студента**\n",
    "    \n",
    "Спасибо, исправила</div>"
   ]
  },
  {
   "cell_type": "markdown",
   "metadata": {},
   "source": [
    "<div class=\"alert alert-success\">\n",
    "\n",
    "**Комментарий ревьюераV2**\n",
    "\n",
    "Испрвыления принял. Молодец👍 Успехов в дальнейшей учебе!</div>"
   ]
  },
  {
   "cell_type": "markdown",
   "metadata": {},
   "source": [
    "## Чек-лист готовности проекта\n",
    "\n",
    "Поставьте 'x' в выполненных пунктах. Далее нажмите Shift+Enter."
   ]
  },
  {
   "cell_type": "markdown",
   "metadata": {},
   "source": [
    "- [x]  открыт файл;\n",
    "- [x]  файл изучен;\n",
    "- [x]  определены пропущенные значения;\n",
    "- [x]  заполнены пропущенные значения;\n",
    "- [x]  есть пояснение, какие пропущенные значения обнаружены;\n",
    "- [x]  описаны возможные причины появления пропусков в данных;\n",
    "- [x]  объяснено, по какому принципу заполнены пропуски;\n",
    "- [x]  заменен вещественный тип данных на целочисленный;\n",
    "- [x]  есть пояснение, какой метод используется для изменения типа данных и почему;\n",
    "- [x]  удалены дубликаты;\n",
    "- [x]  есть пояснение, какой метод используется для поиска и удаления дубликатов;\n",
    "- [x]  описаны возможные причины появления дубликатов в данных;\n",
    "- [x]  выделены леммы в значениях столбца с целями получения кредита;\n",
    "- [x]  описан процесс лемматизации;\n",
    "- [x]  данные категоризированы;\n",
    "- [x]  есть объяснение принципа категоризации данных;\n",
    "- [x]  есть ответ на вопрос: \"Есть ли зависимость между наличием детей и возвратом кредита в срок?\";\n",
    "- [x]  есть ответ на вопрос: \"Есть ли зависимость между семейным положением и возвратом кредита в срок?\";\n",
    "- [x]  есть ответ на вопрос: \"Есть ли зависимость между уровнем дохода и возвратом кредита в срок?\";\n",
    "- [x]  есть ответ на вопрос: \"Как разные цели кредита влияют на его возврат в срок?\";\n",
    "- [x]  в каждом этапе есть выводы;\n",
    "- [x]  есть общий вывод."
   ]
  }
 ],
 "metadata": {
  "ExecuteTimeLog": [
   {
    "duration": 574,
    "start_time": "2021-11-01T07:38:19.857Z"
   },
   {
    "duration": 54,
    "start_time": "2021-11-01T07:38:35.447Z"
   },
   {
    "duration": 54,
    "start_time": "2021-11-01T07:43:38.113Z"
   },
   {
    "duration": 67,
    "start_time": "2021-11-01T07:43:46.929Z"
   },
   {
    "duration": 55,
    "start_time": "2021-11-01T07:44:57.778Z"
   },
   {
    "duration": 56,
    "start_time": "2021-11-01T07:46:06.008Z"
   },
   {
    "duration": 10,
    "start_time": "2021-11-01T07:46:06.785Z"
   },
   {
    "duration": 393,
    "start_time": "2021-11-01T07:46:57.470Z"
   },
   {
    "duration": 4,
    "start_time": "2021-11-01T07:47:06.343Z"
   },
   {
    "duration": 9,
    "start_time": "2021-11-01T07:53:08.753Z"
   },
   {
    "duration": 16,
    "start_time": "2021-11-01T07:54:38.529Z"
   },
   {
    "duration": 839,
    "start_time": "2021-11-03T12:44:36.685Z"
   },
   {
    "duration": 81,
    "start_time": "2021-11-03T12:44:44.552Z"
   },
   {
    "duration": 22,
    "start_time": "2021-11-03T12:45:14.347Z"
   },
   {
    "duration": 15,
    "start_time": "2021-11-03T12:46:11.055Z"
   },
   {
    "duration": 13,
    "start_time": "2021-11-03T12:46:11.555Z"
   },
   {
    "duration": 2170,
    "start_time": "2021-11-03T12:58:34.061Z"
   },
   {
    "duration": 3,
    "start_time": "2021-11-03T13:07:09.123Z"
   },
   {
    "duration": 389,
    "start_time": "2021-11-03T13:07:10.311Z"
   },
   {
    "duration": 398,
    "start_time": "2021-11-03T13:07:19.947Z"
   },
   {
    "duration": 97,
    "start_time": "2021-11-03T13:07:26.019Z"
   },
   {
    "duration": 17,
    "start_time": "2021-11-03T13:07:26.885Z"
   },
   {
    "duration": 6,
    "start_time": "2021-11-03T13:07:27.911Z"
   },
   {
    "duration": 15,
    "start_time": "2021-11-03T13:07:30.892Z"
   },
   {
    "duration": 16,
    "start_time": "2021-11-03T13:07:32.317Z"
   },
   {
    "duration": 12,
    "start_time": "2021-11-03T13:07:32.972Z"
   },
   {
    "duration": 14,
    "start_time": "2021-11-03T13:20:23.613Z"
   },
   {
    "duration": 12,
    "start_time": "2021-11-03T13:20:24.139Z"
   },
   {
    "duration": 7,
    "start_time": "2021-11-03T13:22:31.598Z"
   },
   {
    "duration": 15,
    "start_time": "2021-11-03T13:23:04.958Z"
   },
   {
    "duration": 20,
    "start_time": "2021-11-03T13:24:11.100Z"
   },
   {
    "duration": 21,
    "start_time": "2021-11-03T13:27:52.377Z"
   },
   {
    "duration": 20,
    "start_time": "2021-11-03T13:28:40.636Z"
   },
   {
    "duration": 18,
    "start_time": "2021-11-03T13:29:37.010Z"
   },
   {
    "duration": 22,
    "start_time": "2021-11-03T13:30:22.782Z"
   },
   {
    "duration": 19,
    "start_time": "2021-11-03T13:30:55.673Z"
   },
   {
    "duration": 24,
    "start_time": "2021-11-03T13:30:56.918Z"
   },
   {
    "duration": 375,
    "start_time": "2021-11-03T13:33:29.586Z"
   },
   {
    "duration": 29,
    "start_time": "2021-11-03T13:35:14.187Z"
   },
   {
    "duration": 31,
    "start_time": "2021-11-03T13:35:24.565Z"
   },
   {
    "duration": 40,
    "start_time": "2021-11-03T13:36:37.060Z"
   },
   {
    "duration": 16,
    "start_time": "2021-11-03T13:36:48.362Z"
   },
   {
    "duration": 27,
    "start_time": "2021-11-03T13:37:07.648Z"
   },
   {
    "duration": 997,
    "start_time": "2021-11-03T14:05:06.866Z"
   },
   {
    "duration": 512,
    "start_time": "2021-11-03T14:14:42.342Z"
   },
   {
    "duration": 4,
    "start_time": "2021-11-03T14:14:46.962Z"
   },
   {
    "duration": 3614,
    "start_time": "2021-11-03T14:14:47.779Z"
   },
   {
    "duration": 3436,
    "start_time": "2021-11-03T14:15:18.307Z"
   },
   {
    "duration": 3274,
    "start_time": "2021-11-03T14:15:48.826Z"
   },
   {
    "duration": 980,
    "start_time": "2021-11-03T14:16:37.927Z"
   },
   {
    "duration": 17,
    "start_time": "2021-11-03T14:16:39.628Z"
   },
   {
    "duration": 6,
    "start_time": "2021-11-03T14:16:40.928Z"
   },
   {
    "duration": 17,
    "start_time": "2021-11-03T14:16:43.993Z"
   },
   {
    "duration": 20,
    "start_time": "2021-11-03T14:16:44.688Z"
   },
   {
    "duration": 12,
    "start_time": "2021-11-03T14:16:45.306Z"
   },
   {
    "duration": 6,
    "start_time": "2021-11-03T14:16:47.285Z"
   },
   {
    "duration": 14,
    "start_time": "2021-11-03T14:16:48.193Z"
   },
   {
    "duration": 20,
    "start_time": "2021-11-03T14:16:50.242Z"
   },
   {
    "duration": 21,
    "start_time": "2021-11-03T14:16:50.885Z"
   },
   {
    "duration": 33,
    "start_time": "2021-11-03T14:16:51.587Z"
   },
   {
    "duration": 20,
    "start_time": "2021-11-03T14:16:52.217Z"
   },
   {
    "duration": 15,
    "start_time": "2021-11-03T14:16:52.903Z"
   },
   {
    "duration": 30,
    "start_time": "2021-11-03T14:16:53.528Z"
   },
   {
    "duration": 26,
    "start_time": "2021-11-03T14:16:54.171Z"
   },
   {
    "duration": 905,
    "start_time": "2021-11-03T14:16:56.803Z"
   },
   {
    "duration": 5,
    "start_time": "2021-11-03T14:17:01.069Z"
   },
   {
    "duration": 3806,
    "start_time": "2021-11-03T14:17:01.819Z"
   },
   {
    "duration": 5,
    "start_time": "2021-11-03T14:34:20.131Z"
   },
   {
    "duration": 21,
    "start_time": "2021-11-03T14:34:32.500Z"
   },
   {
    "duration": 1935,
    "start_time": "2021-11-03T14:38:24.694Z"
   },
   {
    "duration": 1003,
    "start_time": "2021-11-03T14:40:39.537Z"
   },
   {
    "duration": 24,
    "start_time": "2021-11-03T14:40:40.542Z"
   },
   {
    "duration": 5,
    "start_time": "2021-11-03T14:40:40.967Z"
   },
   {
    "duration": 20,
    "start_time": "2021-11-03T14:40:43.261Z"
   },
   {
    "duration": 13,
    "start_time": "2021-11-03T14:40:44.177Z"
   },
   {
    "duration": 20,
    "start_time": "2021-11-03T14:40:44.356Z"
   },
   {
    "duration": 13,
    "start_time": "2021-11-03T14:40:44.512Z"
   },
   {
    "duration": 8,
    "start_time": "2021-11-03T14:40:45.264Z"
   },
   {
    "duration": 16,
    "start_time": "2021-11-03T14:40:45.469Z"
   },
   {
    "duration": 20,
    "start_time": "2021-11-03T14:40:46.302Z"
   },
   {
    "duration": 20,
    "start_time": "2021-11-03T14:40:46.504Z"
   },
   {
    "duration": 20,
    "start_time": "2021-11-03T14:40:46.692Z"
   },
   {
    "duration": 20,
    "start_time": "2021-11-03T14:40:46.908Z"
   },
   {
    "duration": 14,
    "start_time": "2021-11-03T14:40:47.138Z"
   },
   {
    "duration": 29,
    "start_time": "2021-11-03T14:40:47.339Z"
   },
   {
    "duration": 22,
    "start_time": "2021-11-03T14:40:47.550Z"
   },
   {
    "duration": 912,
    "start_time": "2021-11-03T14:40:48.398Z"
   },
   {
    "duration": 5,
    "start_time": "2021-11-03T14:40:49.313Z"
   },
   {
    "duration": 3619,
    "start_time": "2021-11-03T14:40:49.320Z"
   },
   {
    "duration": 475,
    "start_time": "2021-11-03T15:06:14.747Z"
   },
   {
    "duration": 16,
    "start_time": "2021-11-03T15:06:21.261Z"
   },
   {
    "duration": 24,
    "start_time": "2021-11-03T15:13:44.290Z"
   },
   {
    "duration": 13,
    "start_time": "2021-11-03T15:20:08.687Z"
   },
   {
    "duration": 12,
    "start_time": "2021-11-03T15:20:17.933Z"
   },
   {
    "duration": 14,
    "start_time": "2021-11-03T15:20:26.314Z"
   },
   {
    "duration": 384,
    "start_time": "2021-11-03T15:23:05.620Z"
   },
   {
    "duration": 6,
    "start_time": "2021-11-03T15:24:31.929Z"
   },
   {
    "duration": 12,
    "start_time": "2021-11-03T15:28:53.112Z"
   },
   {
    "duration": 13,
    "start_time": "2021-11-03T15:29:08.647Z"
   },
   {
    "duration": 10033,
    "start_time": "2021-11-03T15:36:16.065Z"
   },
   {
    "duration": 12,
    "start_time": "2021-11-03T15:36:36.230Z"
   },
   {
    "duration": 14,
    "start_time": "2021-11-03T15:36:45.556Z"
   },
   {
    "duration": 7,
    "start_time": "2021-11-03T15:38:26.092Z"
   },
   {
    "duration": 6,
    "start_time": "2021-11-03T15:38:33.282Z"
   },
   {
    "duration": 423,
    "start_time": "2021-11-03T15:39:45.475Z"
   },
   {
    "duration": 551,
    "start_time": "2021-11-03T15:39:52.786Z"
   },
   {
    "duration": 384,
    "start_time": "2021-11-03T15:40:20.776Z"
   },
   {
    "duration": 397,
    "start_time": "2021-11-03T15:40:29.147Z"
   },
   {
    "duration": 6,
    "start_time": "2021-11-03T15:43:23.776Z"
   },
   {
    "duration": 10,
    "start_time": "2021-11-03T15:46:28.123Z"
   },
   {
    "duration": 9,
    "start_time": "2021-11-03T15:46:47.044Z"
   },
   {
    "duration": 11,
    "start_time": "2021-11-03T15:50:07.388Z"
   },
   {
    "duration": 14,
    "start_time": "2021-11-03T15:51:49.156Z"
   },
   {
    "duration": 8,
    "start_time": "2021-11-03T15:52:03.553Z"
   },
   {
    "duration": 7,
    "start_time": "2021-11-03T15:55:44.436Z"
   },
   {
    "duration": 8,
    "start_time": "2021-11-03T15:56:07.051Z"
   },
   {
    "duration": 11,
    "start_time": "2021-11-03T15:56:35.098Z"
   },
   {
    "duration": 10,
    "start_time": "2021-11-03T15:56:47.107Z"
   },
   {
    "duration": 12,
    "start_time": "2021-11-03T15:57:16.303Z"
   },
   {
    "duration": 19,
    "start_time": "2021-11-03T15:57:49.319Z"
   },
   {
    "duration": 9,
    "start_time": "2021-11-03T15:58:08.697Z"
   },
   {
    "duration": 9,
    "start_time": "2021-11-03T16:00:06.952Z"
   },
   {
    "duration": 10,
    "start_time": "2021-11-03T16:12:59.986Z"
   },
   {
    "duration": 11,
    "start_time": "2021-11-03T16:13:05.848Z"
   },
   {
    "duration": 138,
    "start_time": "2021-11-04T09:59:59.104Z"
   },
   {
    "duration": 128,
    "start_time": "2021-11-04T10:23:36.456Z"
   },
   {
    "duration": 546,
    "start_time": "2021-11-04T10:36:17.410Z"
   },
   {
    "duration": 815,
    "start_time": "2021-11-04T10:36:35.015Z"
   },
   {
    "duration": 16,
    "start_time": "2021-11-04T10:36:36.637Z"
   },
   {
    "duration": 6,
    "start_time": "2021-11-04T10:36:38.512Z"
   },
   {
    "duration": 21,
    "start_time": "2021-11-04T10:36:41.423Z"
   },
   {
    "duration": 13,
    "start_time": "2021-11-04T10:36:43.182Z"
   },
   {
    "duration": 20,
    "start_time": "2021-11-04T10:36:43.702Z"
   },
   {
    "duration": 121,
    "start_time": "2021-11-04T10:41:01.825Z"
   },
   {
    "duration": 23,
    "start_time": "2021-11-04T10:41:30.442Z"
   },
   {
    "duration": 26,
    "start_time": "2021-11-04T10:41:57.884Z"
   },
   {
    "duration": 22,
    "start_time": "2021-11-04T10:41:58.902Z"
   },
   {
    "duration": 10,
    "start_time": "2021-11-04T10:45:14.752Z"
   },
   {
    "duration": 4,
    "start_time": "2021-11-04T10:49:10.328Z"
   },
   {
    "duration": 9134,
    "start_time": "2021-11-04T10:49:11.384Z"
   },
   {
    "duration": 14,
    "start_time": "2021-11-04T10:49:35.972Z"
   },
   {
    "duration": 21,
    "start_time": "2021-11-04T10:50:16.940Z"
   },
   {
    "duration": 4,
    "start_time": "2021-11-04T10:50:44.841Z"
   },
   {
    "duration": 12,
    "start_time": "2021-11-04T10:50:45.367Z"
   },
   {
    "duration": 21,
    "start_time": "2021-11-04T10:50:46.055Z"
   },
   {
    "duration": 12,
    "start_time": "2021-11-04T10:53:09.189Z"
   },
   {
    "duration": 9,
    "start_time": "2021-11-04T10:53:15.148Z"
   },
   {
    "duration": 841,
    "start_time": "2021-11-04T10:53:37.559Z"
   },
   {
    "duration": 15,
    "start_time": "2021-11-04T10:53:38.402Z"
   },
   {
    "duration": 6,
    "start_time": "2021-11-04T10:53:39.354Z"
   },
   {
    "duration": 29,
    "start_time": "2021-11-04T10:53:41.088Z"
   },
   {
    "duration": 13,
    "start_time": "2021-11-04T10:53:42.317Z"
   },
   {
    "duration": 22,
    "start_time": "2021-11-04T10:53:42.540Z"
   },
   {
    "duration": 12,
    "start_time": "2021-11-04T10:53:43.268Z"
   },
   {
    "duration": 7,
    "start_time": "2021-11-04T10:53:44.187Z"
   },
   {
    "duration": 14,
    "start_time": "2021-11-04T10:53:44.400Z"
   },
   {
    "duration": 19,
    "start_time": "2021-11-04T10:53:45.321Z"
   },
   {
    "duration": 19,
    "start_time": "2021-11-04T10:53:45.522Z"
   },
   {
    "duration": 19,
    "start_time": "2021-11-04T10:53:45.762Z"
   },
   {
    "duration": 26,
    "start_time": "2021-11-04T10:53:46.029Z"
   },
   {
    "duration": 19,
    "start_time": "2021-11-04T10:53:46.199Z"
   },
   {
    "duration": 32,
    "start_time": "2021-11-04T10:53:46.417Z"
   },
   {
    "duration": 21,
    "start_time": "2021-11-04T10:53:47.074Z"
   },
   {
    "duration": 23,
    "start_time": "2021-11-04T10:53:47.273Z"
   },
   {
    "duration": 914,
    "start_time": "2021-11-04T10:53:48.195Z"
   },
   {
    "duration": 6,
    "start_time": "2021-11-04T10:53:49.112Z"
   },
   {
    "duration": 3467,
    "start_time": "2021-11-04T10:53:49.121Z"
   },
   {
    "duration": 4,
    "start_time": "2021-11-04T10:53:52.591Z"
   },
   {
    "duration": 15,
    "start_time": "2021-11-04T10:53:52.598Z"
   },
   {
    "duration": 44,
    "start_time": "2021-11-04T10:53:52.615Z"
   },
   {
    "duration": 13,
    "start_time": "2021-11-04T10:53:52.662Z"
   },
   {
    "duration": 10,
    "start_time": "2021-11-04T10:53:54.708Z"
   },
   {
    "duration": 10,
    "start_time": "2021-11-04T10:53:56.825Z"
   },
   {
    "duration": 10,
    "start_time": "2021-11-04T10:53:58.900Z"
   },
   {
    "duration": 12,
    "start_time": "2021-11-04T11:05:18.570Z"
   },
   {
    "duration": 23,
    "start_time": "2021-11-04T11:10:17.528Z"
   },
   {
    "duration": 10,
    "start_time": "2021-11-04T11:10:25.263Z"
   }
  ],
  "kernelspec": {
   "display_name": "Python 3 (ipykernel)",
   "language": "python",
   "name": "python3"
  },
  "language_info": {
   "codemirror_mode": {
    "name": "ipython",
    "version": 3
   },
   "file_extension": ".py",
   "mimetype": "text/x-python",
   "name": "python",
   "nbconvert_exporter": "python",
   "pygments_lexer": "ipython3",
   "version": "3.9.5"
  },
  "toc": {
   "base_numbering": 1,
   "nav_menu": {},
   "number_sections": true,
   "sideBar": true,
   "skip_h1_title": true,
   "title_cell": "Table of Contents",
   "title_sidebar": "Contents",
   "toc_cell": false,
   "toc_position": {},
   "toc_section_display": true,
   "toc_window_display": false
  }
 },
 "nbformat": 4,
 "nbformat_minor": 2
}
