{
 "cells": [
  {
   "cell_type": "markdown",
   "metadata": {},
   "source": [
    "<div class=\"alert alert-success\">\n",
    "<font size=\"5\"><b>Комментарий ревьюера 3</b></font>\n",
    "\n",
    "Привет. Да, теперь формулировки гипотез корректны. Здорово, что ты разобралась. По поводу boxplot. Их не надо объединять в один график. Наоборот, по заданию мы строим такой график по всем рассматриваемым платформам. Привожу ссылку на примеры схожих графиков, построенных в одних осях - https://seaborn.pydata.org/generated/seaborn.boxplot.html. \n",
    "    \n",
    "Все помарки исправлены, и теперь работа выполнена хорошо. Ты здорово поработала, молодец. Поздравляю со сданным проектом. Надеюсь, он был интересен и познавателен. Успехов в дальнейшем пути :)\n",
    "\n",
    "</div>"
   ]
  },
  {
   "cell_type": "markdown",
   "metadata": {},
   "source": [
    "<div class=\"alert alert-info\">\n",
    "<font size=\"5\"><b>Комментарий ревьюера 2</b></font>\n",
    "\n",
    "Привет еще раз. Спасибо, что доделала работу. Оформление комментариев по работе сохраняется. Только обозначим, что это вторая итерация. \n",
    "\n",
    "</div>"
   ]
  },
  {
   "cell_type": "markdown",
   "metadata": {},
   "source": [
    "<div class=\"alert alert-info\">\n",
    "<font size=\"5\"><b>Комментарий ревьюера</b></font>\n",
    "\n",
    "Привет, Дарья! Спасибо, что прислала задание:) Поздравляю с приближением к концу первого модуля! Меня зовут Слепцов Артем и я буду проверять твой проект) Ты проделала большую работу над проектом. Он выполнен уже на достойном уровне. Однако есть моменты, которые еще можно улучшить. Будет здорово, если ты, надеюсь, не против, если я буду на ты, будешь отвечать на комментарии и участвовать в диалоге. Если обращение на ты неприемлемо, то прошу сообщить. \n",
    "\n",
    "Мои комментарии обозначены пометкой **Комментарий ревьюера**. Далее в файле ты сможешь найти их в похожих ячейках:\n",
    "    \n",
    "<div class=\"alert alert-success\">Успех: Если фон комментария зелёный - всё сделано правильно. Рекомендации укажу таким же цветом;</div>\n",
    "        \n",
    "<div class=\"alert alert-warning\">Совет: Оранжевый - некритичные замечания;</div>\n",
    "        \n",
    "<div class=\"alert alert-danger\">Ошибка: Красный - нужно переделать. </div>\n",
    "        \n",
    "Не удаляй эти комментарии и постарайся учесть их в ходе выполнения данного проекта. Свои же комментарии ты можешь обозначать любым заметным способом. \n",
    "\n",
    "</div>"
   ]
  },
  {
   "cell_type": "markdown",
   "metadata": {},
   "source": [
    "# Сборный проект"
   ]
  },
  {
   "cell_type": "markdown",
   "metadata": {},
   "source": [
    "Из открытых источников доступны исторические данные о продажах игр, оценки пользователей и экспертов, жанры и платформы. Необходимо выявить определяющие успешность игры закономерности, что позволит сделать ставку на потенциально популярный продукт и спланировать рекламные кампании."
   ]
  },
  {
   "cell_type": "markdown",
   "metadata": {},
   "source": [
    "# Описание данных"
   ]
  },
  {
   "cell_type": "markdown",
   "metadata": {},
   "source": [
    "Name — название игры\n",
    "\n",
    "Platform — платформа\n",
    "\n",
    "Year_of_Release — год выпуска\n",
    "\n",
    "Genre — жанр игры\n",
    "\n",
    "NA_sales — продажи в Северной Америке (миллионы проданных копий)\n",
    "\n",
    "EU_sales — продажи в Европе (миллионы проданных копий)\n",
    "\n",
    "JP_sales — продажи в Японии (миллионы проданных копий)\n",
    "\n",
    "Other_sales — продажи в других странах (миллионы проданных копий)\n",
    "\n",
    "Critic_Score — оценка критиков (максимум 100)\n",
    "\n",
    "User_Score — оценка пользователей (максимум 10)\n",
    "\n",
    "Rating — рейтинг от организации ESRB (англ. Entertainment Software Rating Board). Эта ассоциация определяет рейтинг компьютерных игр и присваивает им подходящую возрастную категорию"
   ]
  },
  {
   "cell_type": "markdown",
   "metadata": {},
   "source": [
    "<div class=\"alert alert-danger\">\n",
    "<font size=\"5\"><b>Комментарий ревьюера</b></font>\n",
    "\n",
    "Ошибка: Стоит делать краткое вступление в работу, описание того, что надо делать. В работе необходимо приводить информацию о входных данных: какие столбцы есть в таблице, их названия и какую информацию они несут. Также название работы лучше отображать в отдельной ячейке и делать крупный шрифт (заголовок). Так работа выглядит презентабельно. Подробнее смотри методичку по оформлению проектов. Она располагается в Notion в разделе \"Как оформлять проект\".\n",
    "\n",
    "</div>"
   ]
  },
  {
   "cell_type": "markdown",
   "metadata": {},
   "source": [
    "<div class=\"alert alert-info\"> <b>Комментарий студентки:</b> Исправила</div>"
   ]
  },
  {
   "cell_type": "markdown",
   "metadata": {},
   "source": [
    "<div class=\"alert alert-success\">\n",
    "<font size=\"5\"><b>Комментарий ревьюера 2</b></font>\n",
    "\n",
    "Успех: Вступление в работу очень важно. Так ты поясняешь то, чему она посвящена. Здорово, что каждому пункту вводной информации ты уделила внимание. \n",
    "\n",
    "</div>"
   ]
  },
  {
   "cell_type": "markdown",
   "metadata": {},
   "source": [
    "## Изучение данных из файла"
   ]
  },
  {
   "cell_type": "code",
   "execution_count": 1,
   "metadata": {},
   "outputs": [],
   "source": [
    "# импортирование библиотек\n",
    "import pandas as pd\n",
    "import numpy as np\n",
    "from scipy import stats as st\n",
    "from matplotlib import pyplot as plt"
   ]
  },
  {
   "cell_type": "markdown",
   "metadata": {},
   "source": [
    "<div class=\"alert alert-success\">\n",
    "<font size=\"5\"><b>Комментарий ревьюера</b></font>\n",
    "\n",
    "Успех: Правильно, что весь импорт ты проводишь в первой ячейке работы. Так твой коллега, запускающий работу, будет в курсе используемых в ней библиотек и сможет при необходимости быстро настроить окружение. \n",
    "\n",
    "</div>"
   ]
  },
  {
   "cell_type": "code",
   "execution_count": 2,
   "metadata": {},
   "outputs": [
    {
     "data": {
      "text/html": [
       "<div>\n",
       "<style scoped>\n",
       "    .dataframe tbody tr th:only-of-type {\n",
       "        vertical-align: middle;\n",
       "    }\n",
       "\n",
       "    .dataframe tbody tr th {\n",
       "        vertical-align: top;\n",
       "    }\n",
       "\n",
       "    .dataframe thead th {\n",
       "        text-align: right;\n",
       "    }\n",
       "</style>\n",
       "<table border=\"1\" class=\"dataframe\">\n",
       "  <thead>\n",
       "    <tr style=\"text-align: right;\">\n",
       "      <th></th>\n",
       "      <th>Name</th>\n",
       "      <th>Platform</th>\n",
       "      <th>Year_of_Release</th>\n",
       "      <th>Genre</th>\n",
       "      <th>NA_sales</th>\n",
       "      <th>EU_sales</th>\n",
       "      <th>JP_sales</th>\n",
       "      <th>Other_sales</th>\n",
       "      <th>Critic_Score</th>\n",
       "      <th>User_Score</th>\n",
       "      <th>Rating</th>\n",
       "    </tr>\n",
       "  </thead>\n",
       "  <tbody>\n",
       "    <tr>\n",
       "      <td>0</td>\n",
       "      <td>Wii Sports</td>\n",
       "      <td>Wii</td>\n",
       "      <td>2006.0</td>\n",
       "      <td>Sports</td>\n",
       "      <td>41.36</td>\n",
       "      <td>28.96</td>\n",
       "      <td>3.77</td>\n",
       "      <td>8.45</td>\n",
       "      <td>76.0</td>\n",
       "      <td>8</td>\n",
       "      <td>E</td>\n",
       "    </tr>\n",
       "    <tr>\n",
       "      <td>1</td>\n",
       "      <td>Super Mario Bros.</td>\n",
       "      <td>NES</td>\n",
       "      <td>1985.0</td>\n",
       "      <td>Platform</td>\n",
       "      <td>29.08</td>\n",
       "      <td>3.58</td>\n",
       "      <td>6.81</td>\n",
       "      <td>0.77</td>\n",
       "      <td>NaN</td>\n",
       "      <td>NaN</td>\n",
       "      <td>NaN</td>\n",
       "    </tr>\n",
       "    <tr>\n",
       "      <td>2</td>\n",
       "      <td>Mario Kart Wii</td>\n",
       "      <td>Wii</td>\n",
       "      <td>2008.0</td>\n",
       "      <td>Racing</td>\n",
       "      <td>15.68</td>\n",
       "      <td>12.76</td>\n",
       "      <td>3.79</td>\n",
       "      <td>3.29</td>\n",
       "      <td>82.0</td>\n",
       "      <td>8.3</td>\n",
       "      <td>E</td>\n",
       "    </tr>\n",
       "    <tr>\n",
       "      <td>3</td>\n",
       "      <td>Wii Sports Resort</td>\n",
       "      <td>Wii</td>\n",
       "      <td>2009.0</td>\n",
       "      <td>Sports</td>\n",
       "      <td>15.61</td>\n",
       "      <td>10.93</td>\n",
       "      <td>3.28</td>\n",
       "      <td>2.95</td>\n",
       "      <td>80.0</td>\n",
       "      <td>8</td>\n",
       "      <td>E</td>\n",
       "    </tr>\n",
       "    <tr>\n",
       "      <td>4</td>\n",
       "      <td>Pokemon Red/Pokemon Blue</td>\n",
       "      <td>GB</td>\n",
       "      <td>1996.0</td>\n",
       "      <td>Role-Playing</td>\n",
       "      <td>11.27</td>\n",
       "      <td>8.89</td>\n",
       "      <td>10.22</td>\n",
       "      <td>1.00</td>\n",
       "      <td>NaN</td>\n",
       "      <td>NaN</td>\n",
       "      <td>NaN</td>\n",
       "    </tr>\n",
       "    <tr>\n",
       "      <td>5</td>\n",
       "      <td>Tetris</td>\n",
       "      <td>GB</td>\n",
       "      <td>1989.0</td>\n",
       "      <td>Puzzle</td>\n",
       "      <td>23.20</td>\n",
       "      <td>2.26</td>\n",
       "      <td>4.22</td>\n",
       "      <td>0.58</td>\n",
       "      <td>NaN</td>\n",
       "      <td>NaN</td>\n",
       "      <td>NaN</td>\n",
       "    </tr>\n",
       "    <tr>\n",
       "      <td>6</td>\n",
       "      <td>New Super Mario Bros.</td>\n",
       "      <td>DS</td>\n",
       "      <td>2006.0</td>\n",
       "      <td>Platform</td>\n",
       "      <td>11.28</td>\n",
       "      <td>9.14</td>\n",
       "      <td>6.50</td>\n",
       "      <td>2.88</td>\n",
       "      <td>89.0</td>\n",
       "      <td>8.5</td>\n",
       "      <td>E</td>\n",
       "    </tr>\n",
       "    <tr>\n",
       "      <td>7</td>\n",
       "      <td>Wii Play</td>\n",
       "      <td>Wii</td>\n",
       "      <td>2006.0</td>\n",
       "      <td>Misc</td>\n",
       "      <td>13.96</td>\n",
       "      <td>9.18</td>\n",
       "      <td>2.93</td>\n",
       "      <td>2.84</td>\n",
       "      <td>58.0</td>\n",
       "      <td>6.6</td>\n",
       "      <td>E</td>\n",
       "    </tr>\n",
       "    <tr>\n",
       "      <td>8</td>\n",
       "      <td>New Super Mario Bros. Wii</td>\n",
       "      <td>Wii</td>\n",
       "      <td>2009.0</td>\n",
       "      <td>Platform</td>\n",
       "      <td>14.44</td>\n",
       "      <td>6.94</td>\n",
       "      <td>4.70</td>\n",
       "      <td>2.24</td>\n",
       "      <td>87.0</td>\n",
       "      <td>8.4</td>\n",
       "      <td>E</td>\n",
       "    </tr>\n",
       "    <tr>\n",
       "      <td>9</td>\n",
       "      <td>Duck Hunt</td>\n",
       "      <td>NES</td>\n",
       "      <td>1984.0</td>\n",
       "      <td>Shooter</td>\n",
       "      <td>26.93</td>\n",
       "      <td>0.63</td>\n",
       "      <td>0.28</td>\n",
       "      <td>0.47</td>\n",
       "      <td>NaN</td>\n",
       "      <td>NaN</td>\n",
       "      <td>NaN</td>\n",
       "    </tr>\n",
       "  </tbody>\n",
       "</table>\n",
       "</div>"
      ],
      "text/plain": [
       "                        Name Platform  Year_of_Release         Genre  \\\n",
       "0                 Wii Sports      Wii           2006.0        Sports   \n",
       "1          Super Mario Bros.      NES           1985.0      Platform   \n",
       "2             Mario Kart Wii      Wii           2008.0        Racing   \n",
       "3          Wii Sports Resort      Wii           2009.0        Sports   \n",
       "4   Pokemon Red/Pokemon Blue       GB           1996.0  Role-Playing   \n",
       "5                     Tetris       GB           1989.0        Puzzle   \n",
       "6      New Super Mario Bros.       DS           2006.0      Platform   \n",
       "7                   Wii Play      Wii           2006.0          Misc   \n",
       "8  New Super Mario Bros. Wii      Wii           2009.0      Platform   \n",
       "9                  Duck Hunt      NES           1984.0       Shooter   \n",
       "\n",
       "   NA_sales  EU_sales  JP_sales  Other_sales  Critic_Score User_Score Rating  \n",
       "0     41.36     28.96      3.77         8.45          76.0          8      E  \n",
       "1     29.08      3.58      6.81         0.77           NaN        NaN    NaN  \n",
       "2     15.68     12.76      3.79         3.29          82.0        8.3      E  \n",
       "3     15.61     10.93      3.28         2.95          80.0          8      E  \n",
       "4     11.27      8.89     10.22         1.00           NaN        NaN    NaN  \n",
       "5     23.20      2.26      4.22         0.58           NaN        NaN    NaN  \n",
       "6     11.28      9.14      6.50         2.88          89.0        8.5      E  \n",
       "7     13.96      9.18      2.93         2.84          58.0        6.6      E  \n",
       "8     14.44      6.94      4.70         2.24          87.0        8.4      E  \n",
       "9     26.93      0.63      0.28         0.47           NaN        NaN    NaN  "
      ]
     },
     "metadata": {},
     "output_type": "display_data"
    },
    {
     "data": {
      "text/html": [
       "<div>\n",
       "<style scoped>\n",
       "    .dataframe tbody tr th:only-of-type {\n",
       "        vertical-align: middle;\n",
       "    }\n",
       "\n",
       "    .dataframe tbody tr th {\n",
       "        vertical-align: top;\n",
       "    }\n",
       "\n",
       "    .dataframe thead th {\n",
       "        text-align: right;\n",
       "    }\n",
       "</style>\n",
       "<table border=\"1\" class=\"dataframe\">\n",
       "  <thead>\n",
       "    <tr style=\"text-align: right;\">\n",
       "      <th></th>\n",
       "      <th>Name</th>\n",
       "      <th>Platform</th>\n",
       "      <th>Year_of_Release</th>\n",
       "      <th>Genre</th>\n",
       "      <th>NA_sales</th>\n",
       "      <th>EU_sales</th>\n",
       "      <th>JP_sales</th>\n",
       "      <th>Other_sales</th>\n",
       "      <th>Critic_Score</th>\n",
       "      <th>User_Score</th>\n",
       "      <th>Rating</th>\n",
       "    </tr>\n",
       "  </thead>\n",
       "  <tbody>\n",
       "    <tr>\n",
       "      <td>16705</td>\n",
       "      <td>15 Days</td>\n",
       "      <td>PC</td>\n",
       "      <td>2009.0</td>\n",
       "      <td>Adventure</td>\n",
       "      <td>0.00</td>\n",
       "      <td>0.01</td>\n",
       "      <td>0.00</td>\n",
       "      <td>0.0</td>\n",
       "      <td>63.0</td>\n",
       "      <td>5.8</td>\n",
       "      <td>NaN</td>\n",
       "    </tr>\n",
       "    <tr>\n",
       "      <td>16706</td>\n",
       "      <td>Men in Black II: Alien Escape</td>\n",
       "      <td>GC</td>\n",
       "      <td>2003.0</td>\n",
       "      <td>Shooter</td>\n",
       "      <td>0.01</td>\n",
       "      <td>0.00</td>\n",
       "      <td>0.00</td>\n",
       "      <td>0.0</td>\n",
       "      <td>NaN</td>\n",
       "      <td>tbd</td>\n",
       "      <td>T</td>\n",
       "    </tr>\n",
       "    <tr>\n",
       "      <td>16707</td>\n",
       "      <td>Aiyoku no Eustia</td>\n",
       "      <td>PSV</td>\n",
       "      <td>2014.0</td>\n",
       "      <td>Misc</td>\n",
       "      <td>0.00</td>\n",
       "      <td>0.00</td>\n",
       "      <td>0.01</td>\n",
       "      <td>0.0</td>\n",
       "      <td>NaN</td>\n",
       "      <td>NaN</td>\n",
       "      <td>NaN</td>\n",
       "    </tr>\n",
       "    <tr>\n",
       "      <td>16708</td>\n",
       "      <td>Woody Woodpecker in Crazy Castle 5</td>\n",
       "      <td>GBA</td>\n",
       "      <td>2002.0</td>\n",
       "      <td>Platform</td>\n",
       "      <td>0.01</td>\n",
       "      <td>0.00</td>\n",
       "      <td>0.00</td>\n",
       "      <td>0.0</td>\n",
       "      <td>NaN</td>\n",
       "      <td>NaN</td>\n",
       "      <td>NaN</td>\n",
       "    </tr>\n",
       "    <tr>\n",
       "      <td>16709</td>\n",
       "      <td>SCORE International Baja 1000: The Official Game</td>\n",
       "      <td>PS2</td>\n",
       "      <td>2008.0</td>\n",
       "      <td>Racing</td>\n",
       "      <td>0.00</td>\n",
       "      <td>0.00</td>\n",
       "      <td>0.00</td>\n",
       "      <td>0.0</td>\n",
       "      <td>NaN</td>\n",
       "      <td>NaN</td>\n",
       "      <td>NaN</td>\n",
       "    </tr>\n",
       "    <tr>\n",
       "      <td>16710</td>\n",
       "      <td>Samurai Warriors: Sanada Maru</td>\n",
       "      <td>PS3</td>\n",
       "      <td>2016.0</td>\n",
       "      <td>Action</td>\n",
       "      <td>0.00</td>\n",
       "      <td>0.00</td>\n",
       "      <td>0.01</td>\n",
       "      <td>0.0</td>\n",
       "      <td>NaN</td>\n",
       "      <td>NaN</td>\n",
       "      <td>NaN</td>\n",
       "    </tr>\n",
       "    <tr>\n",
       "      <td>16711</td>\n",
       "      <td>LMA Manager 2007</td>\n",
       "      <td>X360</td>\n",
       "      <td>2006.0</td>\n",
       "      <td>Sports</td>\n",
       "      <td>0.00</td>\n",
       "      <td>0.01</td>\n",
       "      <td>0.00</td>\n",
       "      <td>0.0</td>\n",
       "      <td>NaN</td>\n",
       "      <td>NaN</td>\n",
       "      <td>NaN</td>\n",
       "    </tr>\n",
       "    <tr>\n",
       "      <td>16712</td>\n",
       "      <td>Haitaka no Psychedelica</td>\n",
       "      <td>PSV</td>\n",
       "      <td>2016.0</td>\n",
       "      <td>Adventure</td>\n",
       "      <td>0.00</td>\n",
       "      <td>0.00</td>\n",
       "      <td>0.01</td>\n",
       "      <td>0.0</td>\n",
       "      <td>NaN</td>\n",
       "      <td>NaN</td>\n",
       "      <td>NaN</td>\n",
       "    </tr>\n",
       "    <tr>\n",
       "      <td>16713</td>\n",
       "      <td>Spirits &amp; Spells</td>\n",
       "      <td>GBA</td>\n",
       "      <td>2003.0</td>\n",
       "      <td>Platform</td>\n",
       "      <td>0.01</td>\n",
       "      <td>0.00</td>\n",
       "      <td>0.00</td>\n",
       "      <td>0.0</td>\n",
       "      <td>NaN</td>\n",
       "      <td>NaN</td>\n",
       "      <td>NaN</td>\n",
       "    </tr>\n",
       "    <tr>\n",
       "      <td>16714</td>\n",
       "      <td>Winning Post 8 2016</td>\n",
       "      <td>PSV</td>\n",
       "      <td>2016.0</td>\n",
       "      <td>Simulation</td>\n",
       "      <td>0.00</td>\n",
       "      <td>0.00</td>\n",
       "      <td>0.01</td>\n",
       "      <td>0.0</td>\n",
       "      <td>NaN</td>\n",
       "      <td>NaN</td>\n",
       "      <td>NaN</td>\n",
       "    </tr>\n",
       "  </tbody>\n",
       "</table>\n",
       "</div>"
      ],
      "text/plain": [
       "                                                   Name Platform  \\\n",
       "16705                                           15 Days       PC   \n",
       "16706                     Men in Black II: Alien Escape       GC   \n",
       "16707                                  Aiyoku no Eustia      PSV   \n",
       "16708                Woody Woodpecker in Crazy Castle 5      GBA   \n",
       "16709  SCORE International Baja 1000: The Official Game      PS2   \n",
       "16710                     Samurai Warriors: Sanada Maru      PS3   \n",
       "16711                                  LMA Manager 2007     X360   \n",
       "16712                           Haitaka no Psychedelica      PSV   \n",
       "16713                                  Spirits & Spells      GBA   \n",
       "16714                               Winning Post 8 2016      PSV   \n",
       "\n",
       "       Year_of_Release       Genre  NA_sales  EU_sales  JP_sales  Other_sales  \\\n",
       "16705           2009.0   Adventure      0.00      0.01      0.00          0.0   \n",
       "16706           2003.0     Shooter      0.01      0.00      0.00          0.0   \n",
       "16707           2014.0        Misc      0.00      0.00      0.01          0.0   \n",
       "16708           2002.0    Platform      0.01      0.00      0.00          0.0   \n",
       "16709           2008.0      Racing      0.00      0.00      0.00          0.0   \n",
       "16710           2016.0      Action      0.00      0.00      0.01          0.0   \n",
       "16711           2006.0      Sports      0.00      0.01      0.00          0.0   \n",
       "16712           2016.0   Adventure      0.00      0.00      0.01          0.0   \n",
       "16713           2003.0    Platform      0.01      0.00      0.00          0.0   \n",
       "16714           2016.0  Simulation      0.00      0.00      0.01          0.0   \n",
       "\n",
       "       Critic_Score User_Score Rating  \n",
       "16705          63.0        5.8    NaN  \n",
       "16706           NaN        tbd      T  \n",
       "16707           NaN        NaN    NaN  \n",
       "16708           NaN        NaN    NaN  \n",
       "16709           NaN        NaN    NaN  \n",
       "16710           NaN        NaN    NaN  \n",
       "16711           NaN        NaN    NaN  \n",
       "16712           NaN        NaN    NaN  \n",
       "16713           NaN        NaN    NaN  \n",
       "16714           NaN        NaN    NaN  "
      ]
     },
     "metadata": {},
     "output_type": "display_data"
    }
   ],
   "source": [
    "data = pd.read_csv('/datasets/games.csv')\n",
    "# просмотр первых и последних десяти строчек в таблице \n",
    "display(data.head(10))\n",
    "display(data.tail(10))"
   ]
  },
  {
   "cell_type": "code",
   "execution_count": 3,
   "metadata": {
    "scrolled": false
   },
   "outputs": [
    {
     "name": "stdout",
     "output_type": "stream",
     "text": [
      "<class 'pandas.core.frame.DataFrame'>\n",
      "RangeIndex: 16715 entries, 0 to 16714\n",
      "Data columns (total 11 columns):\n",
      "Name               16713 non-null object\n",
      "Platform           16715 non-null object\n",
      "Year_of_Release    16446 non-null float64\n",
      "Genre              16713 non-null object\n",
      "NA_sales           16715 non-null float64\n",
      "EU_sales           16715 non-null float64\n",
      "JP_sales           16715 non-null float64\n",
      "Other_sales        16715 non-null float64\n",
      "Critic_Score       8137 non-null float64\n",
      "User_Score         10014 non-null object\n",
      "Rating             9949 non-null object\n",
      "dtypes: float64(6), object(5)\n",
      "memory usage: 1.4+ MB\n"
     ]
    }
   ],
   "source": [
    "# вывод информации о data\n",
    "data.info()"
   ]
  },
  {
   "cell_type": "code",
   "execution_count": 4,
   "metadata": {
    "scrolled": false
   },
   "outputs": [
    {
     "data": {
      "text/plain": [
       "['Name',\n",
       " 'Platform',\n",
       " 'Year_of_Release',\n",
       " 'Genre',\n",
       " 'NA_sales',\n",
       " 'EU_sales',\n",
       " 'JP_sales',\n",
       " 'Other_sales',\n",
       " 'Critic_Score',\n",
       " 'User_Score',\n",
       " 'Rating']"
      ]
     },
     "metadata": {},
     "output_type": "display_data"
    }
   ],
   "source": [
    "# проверим правильно ли записаны названия столбцов таблицы data\n",
    "display(data.columns.to_list())"
   ]
  },
  {
   "cell_type": "markdown",
   "metadata": {},
   "source": [
    "Столбцы названы с большой буквы, нужно исправить на маленькие буквы. Обнаружены пропуски в данных в столбцах Name, Year, Genre, Critic_Score, User_Score, Rating."
   ]
  },
  {
   "cell_type": "markdown",
   "metadata": {},
   "source": [
    "<div class=\"alert alert-success\">\n",
    "<font size=\"5\"><b>Комментарий ревьюера</b></font>\n",
    "\n",
    "Успех: Подумай также о возможных причинах появления пропусков, а также о том, являются ли они случайными или нет. Можно высказать предварительные варианты их обработки. \n",
    "\n",
    "Первый взгляд на таблицу выполнен.\n",
    "\n",
    "</div>"
   ]
  },
  {
   "cell_type": "markdown",
   "metadata": {},
   "source": [
    "## Подготовка данных"
   ]
  },
  {
   "cell_type": "markdown",
   "metadata": {},
   "source": [
    "### Названия столбцов"
   ]
  },
  {
   "cell_type": "code",
   "execution_count": 5,
   "metadata": {
    "scrolled": false
   },
   "outputs": [
    {
     "data": {
      "text/plain": [
       "['name',\n",
       " 'platform',\n",
       " 'year_of_release',\n",
       " 'genre',\n",
       " 'na_sales',\n",
       " 'eu_sales',\n",
       " 'jp_sales',\n",
       " 'other_sales',\n",
       " 'critic_score',\n",
       " 'user_score',\n",
       " 'rating']"
      ]
     },
     "metadata": {},
     "output_type": "display_data"
    }
   ],
   "source": [
    "# сделаем названия столбцов с маленькой буквы\n",
    "data.columns = data.columns.str.lower()\n",
    "# проверим правильно ли записаны названия столбцов таблицы data\n",
    "display(data.columns.to_list())"
   ]
  },
  {
   "cell_type": "markdown",
   "metadata": {},
   "source": [
    "<div class=\"alert alert-success\">\n",
    "<font size=\"5\"><b>Комментарий ревьюера</b></font>\n",
    "\n",
    "Успех: Данный метод позволяет нам автоматизировать процесс приведения названий столбцов к нижнему регистру. Так исключается вероятность опечаток. \n",
    "\n",
    "</div>"
   ]
  },
  {
   "cell_type": "markdown",
   "metadata": {},
   "source": [
    "### Пропуски в данных"
   ]
  },
  {
   "cell_type": "code",
   "execution_count": 6,
   "metadata": {
    "scrolled": false
   },
   "outputs": [
    {
     "data": {
      "text/plain": [
       "name                  2\n",
       "platform              0\n",
       "year_of_release     269\n",
       "genre                 2\n",
       "na_sales              0\n",
       "eu_sales              0\n",
       "jp_sales              0\n",
       "other_sales           0\n",
       "critic_score       8578\n",
       "user_score         6701\n",
       "rating             6766\n",
       "dtype: int64"
      ]
     },
     "metadata": {},
     "output_type": "display_data"
    }
   ],
   "source": [
    "# подсчёт пропусков\n",
    "display(data.isna().sum())"
   ]
  },
  {
   "cell_type": "markdown",
   "metadata": {},
   "source": [
    "Пропуски данных в столбце name и genre можно заменить на 'Unknown', так как название нам не известно. Тоже самое в столбцом rating, так как рейтинг нам тоже неизвестен."
   ]
  },
  {
   "cell_type": "code",
   "execution_count": 7,
   "metadata": {},
   "outputs": [],
   "source": [
    "data['name'] = data['name'].fillna('Unknown')\n",
    "data['genre'] = data['genre'].fillna('Unknown')\n",
    "data['rating'] = data['rating'].fillna('Unknown')"
   ]
  },
  {
   "cell_type": "markdown",
   "metadata": {},
   "source": [
    "Данные столбца year_of_release могут понадобиться нам для обраюотки, поэтому пропуски в этом столбце можно заменить медианным значением.  "
   ]
  },
  {
   "cell_type": "code",
   "execution_count": 8,
   "metadata": {},
   "outputs": [],
   "source": [
    "data['year_of_release'] = data['year_of_release'].fillna(data['year_of_release'].mean());"
   ]
  },
  {
   "cell_type": "markdown",
   "metadata": {},
   "source": [
    "А вот рейтинговые данные из столбцов critic_score и user_score понадобятся нам для анализа, поэтому пропуски надо заменить на медианные значения. Но в столбце user_score обнаружен мусор - строковые значения, когда там должны быть значения от 0 до 10. Заменим значения этих строк на Nan."
   ]
  },
  {
   "cell_type": "code",
   "execution_count": 9,
   "metadata": {
    "scrolled": false
   },
   "outputs": [
    {
     "data": {
      "text/plain": [
       "array(['8', nan, '8.3', '8.5', '6.6', '8.4', '8.6', '7.7', '6.3', '7.4',\n",
       "       '8.2', '9', '7.9', '8.1', '8.7', '7.1', '3.4', '5.3', '4.8', '3.2',\n",
       "       '8.9', '6.4', '7.8', '7.5', '2.6', '7.2', '9.2', '7', '7.3', '4.3',\n",
       "       '7.6', '5.7', '5', '9.1', '6.5', 'tbd', '8.8', '6.9', '9.4', '6.8',\n",
       "       '6.1', '6.7', '5.4', '4', '4.9', '4.5', '9.3', '6.2', '4.2', '6',\n",
       "       '3.7', '4.1', '5.8', '5.6', '5.5', '4.4', '4.6', '5.9', '3.9',\n",
       "       '3.1', '2.9', '5.2', '3.3', '4.7', '5.1', '3.5', '2.5', '1.9', '3',\n",
       "       '2.7', '2.2', '2', '9.5', '2.1', '3.6', '2.8', '1.8', '3.8', '0',\n",
       "       '1.6', '9.6', '2.4', '1.7', '1.1', '0.3', '1.5', '0.7', '1.2',\n",
       "       '2.3', '0.5', '1.3', '0.2', '0.6', '1.4', '0.9', '1', '9.7'],\n",
       "      dtype=object)"
      ]
     },
     "metadata": {},
     "output_type": "display_data"
    }
   ],
   "source": [
    "# посмоторим какие значения встречаются в столбце user_score\n",
    "display(data['user_score'].unique())\n",
    "# лишнее значение - tbd, запишем его в отдельный список\n",
    "lst = ['tbd']\n",
    "# заменим на NaN\n",
    "data['user_score']= np.where(data['user_score'].isin(lst), np.nan, data['user_score'])\n",
    "# приведем к численному виду столбец\n",
    "data['user_score'] = pd.to_numeric(data['user_score'], errors='ignore')"
   ]
  },
  {
   "cell_type": "markdown",
   "metadata": {},
   "source": [
    "<div class=\"alert alert-success\">\n",
    "<font size=\"5\"><b>Комментарий ревьюера</b></font>\n",
    "\n",
    "Успех: Верно, по своей сути tbd и является Nan. Отлично, что определяешь неявные пропущенные значения.\n",
    "\n",
    "</div>"
   ]
  },
  {
   "cell_type": "markdown",
   "metadata": {},
   "source": [
    "<div class=\"alert alert-danger\">\n",
    "<font size=\"5\"><b>Комментарий ревьюера</b></font>\n",
    "\n",
    "Ошибка: Заполнение такого числа пропусков в отзывах критиков и пользователей одним значением может сильно исказить структуры данных столбцов. Данных для того, чтобы восстановить эти пропуски, у нас недостаточно. Также мы видим, что пропуски в столбцах часто встречаются вместе, т.е. нет данных по одним и тем же играм. Это с большой долей вероятности связано с тем, что эти данные просто не были загружены в таблицу. Попробуй оставить пропуски и посмотреть на результаты без их заполнения. \n",
    "\n",
    "</div>"
   ]
  },
  {
   "cell_type": "markdown",
   "metadata": {},
   "source": [
    "<div class=\"alert alert-info\"> <b>Комментарий студентки:</b> Исправила</div>"
   ]
  },
  {
   "cell_type": "markdown",
   "metadata": {},
   "source": [
    "<div class=\"alert alert-success\">\n",
    "<font size=\"5\"><b>Комментарий ревьюера 2</b></font>\n",
    "\n",
    "Успех: Оставить исходные данные - верное решение. Обработать такое количество пропусков в достаточно субъективных параметрах мы не можем. \n",
    "\n",
    "</div>"
   ]
  },
  {
   "cell_type": "code",
   "execution_count": 10,
   "metadata": {
    "scrolled": false
   },
   "outputs": [
    {
     "data": {
      "text/plain": [
       "name                  0\n",
       "platform              0\n",
       "year_of_release       0\n",
       "genre                 0\n",
       "na_sales              0\n",
       "eu_sales              0\n",
       "jp_sales              0\n",
       "other_sales           0\n",
       "critic_score       8578\n",
       "user_score         9125\n",
       "rating                0\n",
       "dtype: int64"
      ]
     },
     "metadata": {},
     "output_type": "display_data"
    }
   ],
   "source": [
    "# подсчёт пропусков\n",
    "display(data.isna().sum())"
   ]
  },
  {
   "cell_type": "markdown",
   "metadata": {},
   "source": [
    "### Типы данных"
   ]
  },
  {
   "cell_type": "code",
   "execution_count": 11,
   "metadata": {
    "scrolled": false
   },
   "outputs": [
    {
     "name": "stdout",
     "output_type": "stream",
     "text": [
      "<class 'pandas.core.frame.DataFrame'>\n",
      "RangeIndex: 16715 entries, 0 to 16714\n",
      "Data columns (total 11 columns):\n",
      "name               16715 non-null object\n",
      "platform           16715 non-null object\n",
      "year_of_release    16715 non-null float64\n",
      "genre              16715 non-null object\n",
      "na_sales           16715 non-null float64\n",
      "eu_sales           16715 non-null float64\n",
      "jp_sales           16715 non-null float64\n",
      "other_sales        16715 non-null float64\n",
      "critic_score       8137 non-null float64\n",
      "user_score         7590 non-null float64\n",
      "rating             16715 non-null object\n",
      "dtypes: float64(7), object(4)\n",
      "memory usage: 1.4+ MB\n"
     ]
    }
   ],
   "source": [
    "# вывод информации о data\n",
    "data.info()"
   ]
  },
  {
   "cell_type": "markdown",
   "metadata": {},
   "source": [
    "В столбце year_of_release, отвечающий за год, данные имеют тип float, но года - это целые, а не действительные числа. Заменим тип данных в этом столбце на int."
   ]
  },
  {
   "cell_type": "code",
   "execution_count": 12,
   "metadata": {
    "scrolled": false
   },
   "outputs": [],
   "source": [
    "data['year_of_release'] = data['year_of_release'].astype('int')"
   ]
  },
  {
   "cell_type": "markdown",
   "metadata": {},
   "source": [
    "### Подсчет продаж во всех регионах"
   ]
  },
  {
   "cell_type": "code",
   "execution_count": 13,
   "metadata": {},
   "outputs": [],
   "source": [
    "# создание столбца с общими продажами\n",
    "data['sales'] = data['na_sales'] + data['eu_sales'] + data['jp_sales']"
   ]
  },
  {
   "cell_type": "markdown",
   "metadata": {},
   "source": [
    "<div class=\"alert alert-success\">\n",
    "<font size=\"5\"><b>Комментарий ревьюера</b></font>\n",
    "\n",
    "Успех: Восстановить пропущенные значения мы не можем. Данных для этого недостаточно. Лучше работать с меньшим количеством данных хорошего качества.\n",
    "    \n",
    "Ошибки в данных устранены. Данные подготовлены к дальнейшему анализу. \n",
    "\n",
    "</div>"
   ]
  },
  {
   "cell_type": "markdown",
   "metadata": {},
   "source": [
    "## Исследовательский анализ данных"
   ]
  },
  {
   "cell_type": "markdown",
   "metadata": {},
   "source": [
    "### Выпуск игр за разные периоды"
   ]
  },
  {
   "cell_type": "code",
   "execution_count": 14,
   "metadata": {},
   "outputs": [
    {
     "data": {
      "text/plain": [
       "2008    1427\n",
       "2009    1426\n",
       "2006    1275\n",
       "2010    1255\n",
       "2007    1197\n",
       "2011    1136\n",
       "2005     939\n",
       "2002     829\n",
       "2003     775\n",
       "2004     762\n",
       "2012     653\n",
       "2015     606\n",
       "2014     581\n",
       "2013     544\n",
       "2016     502\n",
       "2001     482\n",
       "1998     379\n",
       "2000     350\n",
       "1999     338\n",
       "1997     289\n",
       "1996     263\n",
       "1995     219\n",
       "1994     121\n",
       "1993      62\n",
       "1981      46\n",
       "1992      43\n",
       "1991      41\n",
       "1982      36\n",
       "1986      21\n",
       "1983      17\n",
       "1989      17\n",
       "1987      16\n",
       "1990      16\n",
       "1988      15\n",
       "1984      14\n",
       "1985      14\n",
       "1980       9\n",
       "Name: year_of_release, dtype: int64"
      ]
     },
     "execution_count": 14,
     "metadata": {},
     "output_type": "execute_result"
    }
   ],
   "source": [
    "# сколько игр было выпущено в каждый год\n",
    "data['year_of_release'].value_counts()"
   ]
  },
  {
   "cell_type": "markdown",
   "metadata": {},
   "source": [
    "Чем больше год, тем больше игр выпускалось. Это неудивительно, ведь с каждый годом все больше происходила компьютерзация. Думаю, для прогнозов важны лишь данные последних лет, так как рынок менялся очень сильно за эти года."
   ]
  },
  {
   "cell_type": "markdown",
   "metadata": {},
   "source": [
    "<div class=\"alert alert-success\">\n",
    "<font size=\"5\"><b>Комментарий ревьюера</b></font>\n",
    "\n",
    "Успех: Как думаешь, с чем связан спад в индустрии последних лет?\n",
    "\n",
    "</div>"
   ]
  },
  {
   "cell_type": "markdown",
   "metadata": {},
   "source": [
    "<div class=\"alert alert-info\"> <b>Комментарий студентки:</b> Полагаю, это связано с тем, что требования к качеству игр сильно возрасло, поэтому на разработку игры уходит намного больше времени, и как следствие меньше игр выходит</div>"
   ]
  },
  {
   "cell_type": "markdown",
   "metadata": {},
   "source": [
    "<div class=\"alert alert-success\">\n",
    "<font size=\"5\"><b>Комментарий ревьюера 2</b></font>\n",
    "\n",
    "Успех: Также свое влияние оказал и выход мобильных игр, которые забрали часть рынка на себя. \n",
    "\n",
    "</div>"
   ]
  },
  {
   "cell_type": "markdown",
   "metadata": {},
   "source": [
    "### Продажи по платформам"
   ]
  },
  {
   "cell_type": "code",
   "execution_count": 15,
   "metadata": {},
   "outputs": [
    {
     "data": {
      "text/plain": [
       "PS2     2161\n",
       "DS      2151\n",
       "PS3     1331\n",
       "Wii     1320\n",
       "X360    1262\n",
       "PSP     1209\n",
       "PS      1197\n",
       "PC       974\n",
       "XB       824\n",
       "GBA      822\n",
       "GC       556\n",
       "3DS      520\n",
       "PSV      430\n",
       "PS4      392\n",
       "N64      319\n",
       "XOne     247\n",
       "SNES     239\n",
       "SAT      173\n",
       "WiiU     147\n",
       "2600     133\n",
       "GB        98\n",
       "NES       98\n",
       "DC        52\n",
       "GEN       29\n",
       "NG        12\n",
       "WS         6\n",
       "SCD        6\n",
       "3DO        3\n",
       "TG16       2\n",
       "PCFX       1\n",
       "GG         1\n",
       "Name: platform, dtype: int64"
      ]
     },
     "execution_count": 15,
     "metadata": {},
     "output_type": "execute_result"
    }
   ],
   "source": [
    "# сколько игр на каждой платформе\n",
    "data['platform'].value_counts()"
   ]
  },
  {
   "cell_type": "code",
   "execution_count": 16,
   "metadata": {
    "scrolled": true
   },
   "outputs": [
    {
     "data": {
      "text/html": [
       "<div>\n",
       "<style scoped>\n",
       "    .dataframe tbody tr th:only-of-type {\n",
       "        vertical-align: middle;\n",
       "    }\n",
       "\n",
       "    .dataframe tbody tr th {\n",
       "        vertical-align: top;\n",
       "    }\n",
       "\n",
       "    .dataframe thead th {\n",
       "        text-align: right;\n",
       "    }\n",
       "</style>\n",
       "<table border=\"1\" class=\"dataframe\">\n",
       "  <thead>\n",
       "    <tr style=\"text-align: right;\">\n",
       "      <th></th>\n",
       "      <th>sales</th>\n",
       "    </tr>\n",
       "    <tr>\n",
       "      <th>platform</th>\n",
       "      <th></th>\n",
       "    </tr>\n",
       "  </thead>\n",
       "  <tbody>\n",
       "    <tr>\n",
       "      <td>2600</td>\n",
       "      <td>96.07</td>\n",
       "    </tr>\n",
       "    <tr>\n",
       "      <td>3DO</td>\n",
       "      <td>0.10</td>\n",
       "    </tr>\n",
       "    <tr>\n",
       "      <td>3DS</td>\n",
       "      <td>245.64</td>\n",
       "    </tr>\n",
       "    <tr>\n",
       "      <td>DC</td>\n",
       "      <td>15.68</td>\n",
       "    </tr>\n",
       "    <tr>\n",
       "      <td>DS</td>\n",
       "      <td>746.86</td>\n",
       "    </tr>\n",
       "    <tr>\n",
       "      <td>GB</td>\n",
       "      <td>247.26</td>\n",
       "    </tr>\n",
       "    <tr>\n",
       "      <td>GBA</td>\n",
       "      <td>310.12</td>\n",
       "    </tr>\n",
       "    <tr>\n",
       "      <td>GC</td>\n",
       "      <td>193.75</td>\n",
       "    </tr>\n",
       "    <tr>\n",
       "      <td>GEN</td>\n",
       "      <td>29.80</td>\n",
       "    </tr>\n",
       "    <tr>\n",
       "      <td>GG</td>\n",
       "      <td>0.04</td>\n",
       "    </tr>\n",
       "    <tr>\n",
       "      <td>N64</td>\n",
       "      <td>214.30</td>\n",
       "    </tr>\n",
       "    <tr>\n",
       "      <td>NES</td>\n",
       "      <td>245.74</td>\n",
       "    </tr>\n",
       "    <tr>\n",
       "      <td>NG</td>\n",
       "      <td>1.44</td>\n",
       "    </tr>\n",
       "    <tr>\n",
       "      <td>PC</td>\n",
       "      <td>237.14</td>\n",
       "    </tr>\n",
       "    <tr>\n",
       "      <td>PCFX</td>\n",
       "      <td>0.03</td>\n",
       "    </tr>\n",
       "    <tr>\n",
       "      <td>PS</td>\n",
       "      <td>689.95</td>\n",
       "    </tr>\n",
       "    <tr>\n",
       "      <td>PS2</td>\n",
       "      <td>1062.33</td>\n",
       "    </tr>\n",
       "    <tr>\n",
       "      <td>PS3</td>\n",
       "      <td>803.97</td>\n",
       "    </tr>\n",
       "    <tr>\n",
       "      <td>PS4</td>\n",
       "      <td>265.79</td>\n",
       "    </tr>\n",
       "    <tr>\n",
       "      <td>PSP</td>\n",
       "      <td>252.63</td>\n",
       "    </tr>\n",
       "    <tr>\n",
       "      <td>PSV</td>\n",
       "      <td>47.61</td>\n",
       "    </tr>\n",
       "    <tr>\n",
       "      <td>SAT</td>\n",
       "      <td>33.52</td>\n",
       "    </tr>\n",
       "    <tr>\n",
       "      <td>SCD</td>\n",
       "      <td>1.81</td>\n",
       "    </tr>\n",
       "    <tr>\n",
       "      <td>SNES</td>\n",
       "      <td>196.82</td>\n",
       "    </tr>\n",
       "    <tr>\n",
       "      <td>TG16</td>\n",
       "      <td>0.16</td>\n",
       "    </tr>\n",
       "    <tr>\n",
       "      <td>WS</td>\n",
       "      <td>1.42</td>\n",
       "    </tr>\n",
       "    <tr>\n",
       "      <td>Wii</td>\n",
       "      <td>828.44</td>\n",
       "    </tr>\n",
       "    <tr>\n",
       "      <td>WiiU</td>\n",
       "      <td>76.24</td>\n",
       "    </tr>\n",
       "    <tr>\n",
       "      <td>X360</td>\n",
       "      <td>885.66</td>\n",
       "    </tr>\n",
       "    <tr>\n",
       "      <td>XB</td>\n",
       "      <td>249.02</td>\n",
       "    </tr>\n",
       "    <tr>\n",
       "      <td>XOne</td>\n",
       "      <td>145.05</td>\n",
       "    </tr>\n",
       "  </tbody>\n",
       "</table>\n",
       "</div>"
      ],
      "text/plain": [
       "            sales\n",
       "platform         \n",
       "2600        96.07\n",
       "3DO          0.10\n",
       "3DS        245.64\n",
       "DC          15.68\n",
       "DS         746.86\n",
       "GB         247.26\n",
       "GBA        310.12\n",
       "GC         193.75\n",
       "GEN         29.80\n",
       "GG           0.04\n",
       "N64        214.30\n",
       "NES        245.74\n",
       "NG           1.44\n",
       "PC         237.14\n",
       "PCFX         0.03\n",
       "PS         689.95\n",
       "PS2       1062.33\n",
       "PS3        803.97\n",
       "PS4        265.79\n",
       "PSP        252.63\n",
       "PSV         47.61\n",
       "SAT         33.52\n",
       "SCD          1.81\n",
       "SNES       196.82\n",
       "TG16         0.16\n",
       "WS           1.42\n",
       "Wii        828.44\n",
       "WiiU        76.24\n",
       "X360       885.66\n",
       "XB         249.02\n",
       "XOne       145.05"
      ]
     },
     "execution_count": 16,
     "metadata": {},
     "output_type": "execute_result"
    }
   ],
   "source": [
    "# продажи на каждой платформе\n",
    "data_sales_per_platform = data.groupby('platform')['sales'].sum()\n",
    "data_sales_per_platform.sort_values()\n",
    "data_sales_per_platform.to_frame()"
   ]
  },
  {
   "cell_type": "code",
   "execution_count": 17,
   "metadata": {},
   "outputs": [
    {
     "data": {
      "image/png": "[encoded data removed]",
      "text/plain": [
       "<Figure size 432x288 with 1 Axes>"
      ]
     },
     "metadata": {
      "needs_background": "light"
     },
     "output_type": "display_data"
    }
   ],
   "source": [
    "data.loc[data['platform'] == 'PS2'].plot(\n",
    "    kind='hist', y='year_of_release', bins=30, grid=True, label='кол-во игр по годам'\n",
    ");"
   ]
  },
  {
   "cell_type": "code",
   "execution_count": 18,
   "metadata": {},
   "outputs": [
    {
     "name": "stdout",
     "output_type": "stream",
     "text": [
      "Первое появление игры на платформе PS2: 2000\n",
      "Последнее появление игры на платформе PS2: 2011\n"
     ]
    }
   ],
   "source": [
    "print('Первое появление игры на платформе PS2:', data.loc[data['platform'] == 'PS2']['year_of_release'].min())\n",
    "print('Последнее появление игры на платформе PS2:', data.loc[data['platform'] == 'PS2']['year_of_release'].max())"
   ]
  },
  {
   "cell_type": "code",
   "execution_count": 19,
   "metadata": {},
   "outputs": [
    {
     "data": {
      "image/png": "[encoded data removed]",
      "text/plain": [
       "<Figure size 432x288 with 1 Axes>"
      ]
     },
     "metadata": {
      "needs_background": "light"
     },
     "output_type": "display_data"
    }
   ],
   "source": [
    "data.loc[data['platform'] == 'X360'].plot(\n",
    "    kind='hist', y='year_of_release', bins=30, grid=True, label='кол-во игр по годам'\n",
    ");"
   ]
  },
  {
   "cell_type": "code",
   "execution_count": 20,
   "metadata": {},
   "outputs": [
    {
     "name": "stdout",
     "output_type": "stream",
     "text": [
      "Первое появление игры на платформе X360: 2005\n",
      "Последнее появление игры на платформе X360: 2016\n"
     ]
    }
   ],
   "source": [
    "print('Первое появление игры на платформе X360:', data.loc[data['platform'] == 'X360']['year_of_release'].min())\n",
    "print('Последнее появление игры на платформе X360:', data.loc[data['platform'] == 'X360']['year_of_release'].max())"
   ]
  },
  {
   "cell_type": "code",
   "execution_count": 21,
   "metadata": {},
   "outputs": [
    {
     "data": {
      "image/png": "[encoded data removed]",
      "text/plain": [
       "<Figure size 432x288 with 1 Axes>"
      ]
     },
     "metadata": {
      "needs_background": "light"
     },
     "output_type": "display_data"
    }
   ],
   "source": [
    "data.loc[data['platform'] == 'Wii'].plot(\n",
    "    kind='hist', y='year_of_release', bins=30, grid=True, label='кол-во игр по годам'\n",
    ");"
   ]
  },
  {
   "cell_type": "code",
   "execution_count": 22,
   "metadata": {},
   "outputs": [
    {
     "name": "stdout",
     "output_type": "stream",
     "text": [
      "Первое появление игры на платформе Wii: 2006\n",
      "Последнее появление игры на платформе Wii: 2016\n"
     ]
    }
   ],
   "source": [
    "print('Первое появление игры на платформе Wii:', data.loc[data['platform'] == 'Wii']['year_of_release'].min())\n",
    "print('Последнее появление игры на платформе Wii:', data.loc[data['platform'] == 'Wii']['year_of_release'].max())"
   ]
  },
  {
   "cell_type": "code",
   "execution_count": 23,
   "metadata": {},
   "outputs": [
    {
     "data": {
      "image/png": "[encoded data removed]",
      "text/plain": [
       "<Figure size 432x288 with 1 Axes>"
      ]
     },
     "metadata": {
      "needs_background": "light"
     },
     "output_type": "display_data"
    }
   ],
   "source": [
    "data.loc[data['platform'] == 'PS3'].plot(\n",
    "    kind='hist', y='year_of_release', bins=30, grid=True, label='кол-во игр по годам'\n",
    ");"
   ]
  },
  {
   "cell_type": "code",
   "execution_count": 24,
   "metadata": {},
   "outputs": [
    {
     "name": "stdout",
     "output_type": "stream",
     "text": [
      "Первое появление игры на платформе PS3: 2006\n",
      "Последнее появление игры на платформе PS3: 2016\n"
     ]
    }
   ],
   "source": [
    "print('Первое появление игры на платформе PS3:', data.loc[data['platform'] == 'PS3']['year_of_release'].min())\n",
    "print('Последнее появление игры на платформе PS3:', data.loc[data['platform'] == 'PS3']['year_of_release'].max())"
   ]
  },
  {
   "cell_type": "markdown",
   "metadata": {},
   "source": [
    "Примерно за 10 лет появляются новые платформы. "
   ]
  },
  {
   "cell_type": "markdown",
   "metadata": {},
   "source": [
    "<div class=\"alert alert-warning\">\n",
    "<font size=\"5\"><b>Комментарий ревьюера</b></font>\n",
    "\n",
    "Совет: Значение средней продолжительности существования платформы приведено. Однако выводы ты делаешь по графикам. Стоит также привести расчет данного значения. Подумай, стоит ли включать в расчет все платформы. Будут ли выбросы по продолжительности существования платформ?\n",
    "\n",
    "</div>"
   ]
  },
  {
   "cell_type": "markdown",
   "metadata": {},
   "source": [
    "<div class=\"alert alert-info\"> <b>Комментарий студентки:</b> Исправила</div>"
   ]
  },
  {
   "cell_type": "markdown",
   "metadata": {},
   "source": [
    "<div class=\"alert alert-success\">\n",
    "<font size=\"5\"><b>Комментарий ревьюера 2</b></font>\n",
    "\n",
    "Успех: 👍 \n",
    "\n",
    "</div>"
   ]
  },
  {
   "cell_type": "markdown",
   "metadata": {},
   "source": [
    "Пик развития индустрии приходится на 2008-2009 года, за ним следует спад, полагаю, что актуальным периодом будет 2010-2016 года"
   ]
  },
  {
   "cell_type": "code",
   "execution_count": 25,
   "metadata": {},
   "outputs": [
    {
     "data": {
      "text/html": [
       "<div>\n",
       "<style scoped>\n",
       "    .dataframe tbody tr th:only-of-type {\n",
       "        vertical-align: middle;\n",
       "    }\n",
       "\n",
       "    .dataframe tbody tr th {\n",
       "        vertical-align: top;\n",
       "    }\n",
       "\n",
       "    .dataframe thead th {\n",
       "        text-align: right;\n",
       "    }\n",
       "</style>\n",
       "<table border=\"1\" class=\"dataframe\">\n",
       "  <thead>\n",
       "    <tr style=\"text-align: right;\">\n",
       "      <th></th>\n",
       "      <th>name</th>\n",
       "      <th>platform</th>\n",
       "      <th>year_of_release</th>\n",
       "      <th>genre</th>\n",
       "      <th>na_sales</th>\n",
       "      <th>eu_sales</th>\n",
       "      <th>jp_sales</th>\n",
       "      <th>other_sales</th>\n",
       "      <th>critic_score</th>\n",
       "      <th>user_score</th>\n",
       "      <th>rating</th>\n",
       "      <th>sales</th>\n",
       "    </tr>\n",
       "  </thead>\n",
       "  <tbody>\n",
       "    <tr>\n",
       "      <td>14</td>\n",
       "      <td>Kinect Adventures!</td>\n",
       "      <td>X360</td>\n",
       "      <td>2010</td>\n",
       "      <td>Misc</td>\n",
       "      <td>15.00</td>\n",
       "      <td>4.89</td>\n",
       "      <td>0.24</td>\n",
       "      <td>1.69</td>\n",
       "      <td>61.0</td>\n",
       "      <td>6.3</td>\n",
       "      <td>E</td>\n",
       "      <td>20.13</td>\n",
       "    </tr>\n",
       "    <tr>\n",
       "      <td>16</td>\n",
       "      <td>Grand Theft Auto V</td>\n",
       "      <td>PS3</td>\n",
       "      <td>2013</td>\n",
       "      <td>Action</td>\n",
       "      <td>7.02</td>\n",
       "      <td>9.09</td>\n",
       "      <td>0.98</td>\n",
       "      <td>3.96</td>\n",
       "      <td>97.0</td>\n",
       "      <td>8.2</td>\n",
       "      <td>M</td>\n",
       "      <td>17.09</td>\n",
       "    </tr>\n",
       "    <tr>\n",
       "      <td>23</td>\n",
       "      <td>Grand Theft Auto V</td>\n",
       "      <td>X360</td>\n",
       "      <td>2013</td>\n",
       "      <td>Action</td>\n",
       "      <td>9.66</td>\n",
       "      <td>5.14</td>\n",
       "      <td>0.06</td>\n",
       "      <td>1.41</td>\n",
       "      <td>97.0</td>\n",
       "      <td>8.1</td>\n",
       "      <td>M</td>\n",
       "      <td>14.86</td>\n",
       "    </tr>\n",
       "    <tr>\n",
       "      <td>27</td>\n",
       "      <td>Pokemon Black/Pokemon White</td>\n",
       "      <td>DS</td>\n",
       "      <td>2010</td>\n",
       "      <td>Role-Playing</td>\n",
       "      <td>5.51</td>\n",
       "      <td>3.17</td>\n",
       "      <td>5.65</td>\n",
       "      <td>0.80</td>\n",
       "      <td>NaN</td>\n",
       "      <td>NaN</td>\n",
       "      <td>Unknown</td>\n",
       "      <td>14.33</td>\n",
       "    </tr>\n",
       "    <tr>\n",
       "      <td>29</td>\n",
       "      <td>Call of Duty: Modern Warfare 3</td>\n",
       "      <td>X360</td>\n",
       "      <td>2011</td>\n",
       "      <td>Shooter</td>\n",
       "      <td>9.04</td>\n",
       "      <td>4.24</td>\n",
       "      <td>0.13</td>\n",
       "      <td>1.32</td>\n",
       "      <td>88.0</td>\n",
       "      <td>3.4</td>\n",
       "      <td>M</td>\n",
       "      <td>13.41</td>\n",
       "    </tr>\n",
       "    <tr>\n",
       "      <td>...</td>\n",
       "      <td>...</td>\n",
       "      <td>...</td>\n",
       "      <td>...</td>\n",
       "      <td>...</td>\n",
       "      <td>...</td>\n",
       "      <td>...</td>\n",
       "      <td>...</td>\n",
       "      <td>...</td>\n",
       "      <td>...</td>\n",
       "      <td>...</td>\n",
       "      <td>...</td>\n",
       "      <td>...</td>\n",
       "    </tr>\n",
       "    <tr>\n",
       "      <td>16703</td>\n",
       "      <td>Strawberry Nauts</td>\n",
       "      <td>PSV</td>\n",
       "      <td>2016</td>\n",
       "      <td>Adventure</td>\n",
       "      <td>0.00</td>\n",
       "      <td>0.00</td>\n",
       "      <td>0.01</td>\n",
       "      <td>0.00</td>\n",
       "      <td>NaN</td>\n",
       "      <td>NaN</td>\n",
       "      <td>Unknown</td>\n",
       "      <td>0.01</td>\n",
       "    </tr>\n",
       "    <tr>\n",
       "      <td>16707</td>\n",
       "      <td>Aiyoku no Eustia</td>\n",
       "      <td>PSV</td>\n",
       "      <td>2014</td>\n",
       "      <td>Misc</td>\n",
       "      <td>0.00</td>\n",
       "      <td>0.00</td>\n",
       "      <td>0.01</td>\n",
       "      <td>0.00</td>\n",
       "      <td>NaN</td>\n",
       "      <td>NaN</td>\n",
       "      <td>Unknown</td>\n",
       "      <td>0.01</td>\n",
       "    </tr>\n",
       "    <tr>\n",
       "      <td>16710</td>\n",
       "      <td>Samurai Warriors: Sanada Maru</td>\n",
       "      <td>PS3</td>\n",
       "      <td>2016</td>\n",
       "      <td>Action</td>\n",
       "      <td>0.00</td>\n",
       "      <td>0.00</td>\n",
       "      <td>0.01</td>\n",
       "      <td>0.00</td>\n",
       "      <td>NaN</td>\n",
       "      <td>NaN</td>\n",
       "      <td>Unknown</td>\n",
       "      <td>0.01</td>\n",
       "    </tr>\n",
       "    <tr>\n",
       "      <td>16712</td>\n",
       "      <td>Haitaka no Psychedelica</td>\n",
       "      <td>PSV</td>\n",
       "      <td>2016</td>\n",
       "      <td>Adventure</td>\n",
       "      <td>0.00</td>\n",
       "      <td>0.00</td>\n",
       "      <td>0.01</td>\n",
       "      <td>0.00</td>\n",
       "      <td>NaN</td>\n",
       "      <td>NaN</td>\n",
       "      <td>Unknown</td>\n",
       "      <td>0.01</td>\n",
       "    </tr>\n",
       "    <tr>\n",
       "      <td>16714</td>\n",
       "      <td>Winning Post 8 2016</td>\n",
       "      <td>PSV</td>\n",
       "      <td>2016</td>\n",
       "      <td>Simulation</td>\n",
       "      <td>0.00</td>\n",
       "      <td>0.00</td>\n",
       "      <td>0.01</td>\n",
       "      <td>0.00</td>\n",
       "      <td>NaN</td>\n",
       "      <td>NaN</td>\n",
       "      <td>Unknown</td>\n",
       "      <td>0.01</td>\n",
       "    </tr>\n",
       "  </tbody>\n",
       "</table>\n",
       "<p>5277 rows × 12 columns</p>\n",
       "</div>"
      ],
      "text/plain": [
       "                                 name platform  year_of_release         genre  \\\n",
       "14                 Kinect Adventures!     X360             2010          Misc   \n",
       "16                 Grand Theft Auto V      PS3             2013        Action   \n",
       "23                 Grand Theft Auto V     X360             2013        Action   \n",
       "27        Pokemon Black/Pokemon White       DS             2010  Role-Playing   \n",
       "29     Call of Duty: Modern Warfare 3     X360             2011       Shooter   \n",
       "...                               ...      ...              ...           ...   \n",
       "16703                Strawberry Nauts      PSV             2016     Adventure   \n",
       "16707                Aiyoku no Eustia      PSV             2014          Misc   \n",
       "16710   Samurai Warriors: Sanada Maru      PS3             2016        Action   \n",
       "16712         Haitaka no Psychedelica      PSV             2016     Adventure   \n",
       "16714             Winning Post 8 2016      PSV             2016    Simulation   \n",
       "\n",
       "       na_sales  eu_sales  jp_sales  other_sales  critic_score  user_score  \\\n",
       "14        15.00      4.89      0.24         1.69          61.0         6.3   \n",
       "16         7.02      9.09      0.98         3.96          97.0         8.2   \n",
       "23         9.66      5.14      0.06         1.41          97.0         8.1   \n",
       "27         5.51      3.17      5.65         0.80           NaN         NaN   \n",
       "29         9.04      4.24      0.13         1.32          88.0         3.4   \n",
       "...         ...       ...       ...          ...           ...         ...   \n",
       "16703      0.00      0.00      0.01         0.00           NaN         NaN   \n",
       "16707      0.00      0.00      0.01         0.00           NaN         NaN   \n",
       "16710      0.00      0.00      0.01         0.00           NaN         NaN   \n",
       "16712      0.00      0.00      0.01         0.00           NaN         NaN   \n",
       "16714      0.00      0.00      0.01         0.00           NaN         NaN   \n",
       "\n",
       "        rating  sales  \n",
       "14           E  20.13  \n",
       "16           M  17.09  \n",
       "23           M  14.86  \n",
       "27     Unknown  14.33  \n",
       "29           M  13.41  \n",
       "...        ...    ...  \n",
       "16703  Unknown   0.01  \n",
       "16707  Unknown   0.01  \n",
       "16710  Unknown   0.01  \n",
       "16712  Unknown   0.01  \n",
       "16714  Unknown   0.01  \n",
       "\n",
       "[5277 rows x 12 columns]"
      ]
     },
     "execution_count": 25,
     "metadata": {},
     "output_type": "execute_result"
    }
   ],
   "source": [
    "# срез по году выпуска\n",
    "new_data = data.query('year_of_release < 2017 & year_of_release > 2009')\n",
    "new_data"
   ]
  },
  {
   "cell_type": "markdown",
   "metadata": {},
   "source": [
    "<div class=\"alert alert-danger\">\n",
    "<font size=\"5\"><b>Комментарий ревьюера</b></font>\n",
    "\n",
    "Ошибка: Актуальный период назван. Лучше его уменьшить. Сейчас у тебя в периоде содержится 3 этапа развития индустрии: рост до 2008 года, пик 2008 и 2009 годов, а также сокращение рынка последних годов. Также большей части платформ уже нет в 2016 году, в построении прогноза на 2017 год они нам не помогут. При уменьшении периода в рассмотрение попадут только последние поколения платформ, а также будем рассматривать только конечный на данный момент интервал развития игровой индустрии. \n",
    "\n",
    "</div>"
   ]
  },
  {
   "cell_type": "markdown",
   "metadata": {},
   "source": [
    "<div class=\"alert alert-info\"> <b>Комментарий студентки:</b> Исправила</div>"
   ]
  },
  {
   "cell_type": "markdown",
   "metadata": {},
   "source": [
    "<div class=\"alert alert-success\">\n",
    "<font size=\"5\"><b>Комментарий ревьюера 2</b></font>\n",
    "\n",
    "Успех: 2009 год также лучше убрать из анализа. Все же он относится к иному периоду развития. Но такой выбор уже заметно лучше. Он позволит нам увеличить точность и качество дальнейшего анализа. \n",
    "</div>"
   ]
  },
  {
   "cell_type": "code",
   "execution_count": 26,
   "metadata": {
    "scrolled": false
   },
   "outputs": [
    {
     "data": {
      "text/plain": [
       "platform\n",
       "PS2       4.79\n",
       "PSV      47.38\n",
       "PSP      59.44\n",
       "WiiU     76.24\n",
       "PC      107.89\n",
       "DS      115.62\n",
       "XOne    145.05\n",
       "Wii     204.86\n",
       "3DS     244.54\n",
       "PS4     265.79\n",
       "PS3     502.11\n",
       "X360    503.05\n",
       "Name: sales, dtype: float64"
      ]
     },
     "execution_count": 26,
     "metadata": {},
     "output_type": "execute_result"
    }
   ],
   "source": [
    "new_data_sales_per_platform = new_data.groupby('platform')['sales'].sum()\n",
    "new_data_sales_per_platform.sort_values()"
   ]
  },
  {
   "cell_type": "markdown",
   "metadata": {},
   "source": [
    "По продажам лидируют X360, Wii, PS3 и DS. "
   ]
  },
  {
   "cell_type": "code",
   "execution_count": 27,
   "metadata": {},
   "outputs": [
    {
     "data": {
      "image/png": "[encoded data removed]",
      "text/plain": [
       "<Figure size 432x288 with 1 Axes>"
      ]
     },
     "metadata": {
      "needs_background": "light"
     },
     "output_type": "display_data"
    }
   ],
   "source": [
    "new_data.loc[new_data['platform'] == 'X360'].plot(\n",
    "    kind='hist', y='year_of_release', bins=30, grid=True, label='кол-во игр по годам'\n",
    ");"
   ]
  },
  {
   "cell_type": "markdown",
   "metadata": {},
   "source": [
    "Не смотря на то, что в целом за актуальных период X360 лидирует по продажам, за последние два три года продажи сильно упали."
   ]
  },
  {
   "cell_type": "code",
   "execution_count": 28,
   "metadata": {},
   "outputs": [
    {
     "data": {
      "image/png": "[encoded data removed]",
      "text/plain": [
       "<Figure size 432x288 with 1 Axes>"
      ]
     },
     "metadata": {
      "needs_background": "light"
     },
     "output_type": "display_data"
    }
   ],
   "source": [
    "new_data.loc[new_data['platform'] == 'Wii'].plot(\n",
    "    kind='hist', y='year_of_release', bins=30, grid=True, label='кол-во игр по годам'\n",
    ");"
   ]
  },
  {
   "cell_type": "markdown",
   "metadata": {},
   "source": [
    "Та же самая картина и с Wii, хотя эта платформа имеет большие продажи в целом за период, но за послдние 4 года продажи значительно упали. "
   ]
  },
  {
   "cell_type": "code",
   "execution_count": 29,
   "metadata": {},
   "outputs": [
    {
     "data": {
      "image/png": "[encoded data removed]",
      "text/plain": [
       "<Figure size 432x288 with 1 Axes>"
      ]
     },
     "metadata": {
      "needs_background": "light"
     },
     "output_type": "display_data"
    }
   ],
   "source": [
    "new_data.loc[new_data['platform'] == 'PS3'].plot(\n",
    "    kind='hist', y='year_of_release', bins=30, grid=True, label='кол-во игр по годам'\n",
    ");"
   ]
  },
  {
   "cell_type": "markdown",
   "metadata": {},
   "source": [
    "Та же самая картина и с PS3, хотя эта платформа имеет большие продажи в целом за период, но за послдние 4 года продажи постепенно падали. "
   ]
  },
  {
   "cell_type": "code",
   "execution_count": 30,
   "metadata": {},
   "outputs": [
    {
     "data": {
      "image/png": "[encoded data removed]",
      "text/plain": [
       "<Figure size 432x288 with 1 Axes>"
      ]
     },
     "metadata": {
      "needs_background": "light"
     },
     "output_type": "display_data"
    }
   ],
   "source": [
    "new_data.loc[new_data['platform'] == 'DS'].plot(\n",
    "    kind='hist', y='year_of_release', bins=30, grid=True, label='кол-во игр по годам'\n",
    ");"
   ]
  },
  {
   "cell_type": "markdown",
   "metadata": {},
   "source": [
    "Хотя в 2008 году продажи на DS были большими, продажи падали постепенно и в 2017 году близки к 10. "
   ]
  },
  {
   "cell_type": "code",
   "execution_count": 31,
   "metadata": {},
   "outputs": [
    {
     "data": {
      "image/png": "[encoded data removed]",
      "text/plain": [
       "<Figure size 432x288 with 1 Axes>"
      ]
     },
     "metadata": {
      "needs_background": "light"
     },
     "output_type": "display_data"
    }
   ],
   "source": [
    "new_data.loc[new_data['platform'] == 'PS4'].plot(\n",
    "    kind='hist', y='year_of_release', bins=30, grid=True, label='кол-во игр по годам'\n",
    ");"
   ]
  },
  {
   "cell_type": "markdown",
   "metadata": {},
   "source": [
    "Продажи начались только в 2013 году, полагаю, это связано с тем, что только в 2013 году она вышла. Ее продажи постепенно растут и в 2016 году достигают отметки в 170. "
   ]
  },
  {
   "cell_type": "code",
   "execution_count": 32,
   "metadata": {},
   "outputs": [
    {
     "data": {
      "image/png": "[encoded data removed]",
      "text/plain": [
       "<Figure size 432x288 with 1 Axes>"
      ]
     },
     "metadata": {
      "needs_background": "light"
     },
     "output_type": "display_data"
    }
   ],
   "source": [
    "new_data.loc[new_data['platform'] == 'PC'].plot(\n",
    "    kind='hist', y='year_of_release', bins=30, grid=True, label='кол-во игр по годам'\n",
    ");"
   ]
  },
  {
   "cell_type": "markdown",
   "metadata": {},
   "source": [
    "Продажи на PC имели всегда большие значения, что неудивительно, ведь компьютер крайне распространенная платформа для игр. Но за последние несколько лет она сильно упали, но в 2014 году вновь начали расти, хотя все еще имеют сильно меньше продаж по сравнению с 2011. "
   ]
  },
  {
   "cell_type": "code",
   "execution_count": 33,
   "metadata": {},
   "outputs": [
    {
     "data": {
      "image/png": "[encoded data removed]",
      "text/plain": [
       "<Figure size 432x288 with 1 Axes>"
      ]
     },
     "metadata": {
      "needs_background": "light"
     },
     "output_type": "display_data"
    }
   ],
   "source": [
    "new_data.loc[new_data['platform'] == '3DS'].plot(\n",
    "    kind='hist', y='year_of_release', bins=30, grid=True, label='кол-во игр по годам'\n",
    ");"
   ]
  },
  {
   "cell_type": "markdown",
   "metadata": {},
   "source": [
    "Продажи на 3DS были достаточно велики в 2011, но к 2016 году они упали почти в два раза. "
   ]
  },
  {
   "cell_type": "code",
   "execution_count": 34,
   "metadata": {},
   "outputs": [
    {
     "data": {
      "image/png": "[encoded data removed]",
      "text/plain": [
       "<Figure size 432x288 with 1 Axes>"
      ]
     },
     "metadata": {
      "needs_background": "light"
     },
     "output_type": "display_data"
    }
   ],
   "source": [
    "new_data.loc[new_data['platform'] == 'XOne'].plot(\n",
    "    kind='hist', y='year_of_release', bins=30, grid=True, label='кол-во игр по годам'\n",
    ");"
   ]
  },
  {
   "cell_type": "markdown",
   "metadata": {},
   "source": [
    "Продажи на XOne сильно растут, что, предположительно. связано с новизной платформы. "
   ]
  },
  {
   "cell_type": "code",
   "execution_count": 35,
   "metadata": {},
   "outputs": [
    {
     "data": {
      "image/png": "[encoded data removed]",
      "text/plain": [
       "<Figure size 432x288 with 1 Axes>"
      ]
     },
     "metadata": {
      "needs_background": "light"
     },
     "output_type": "display_data"
    }
   ],
   "source": [
    "new_data.loc[new_data['platform'] == 'PSV'].plot(\n",
    "    kind='hist', y='year_of_release', bins=30, grid=True, label='кол-во игр по годам'\n",
    ");"
   ]
  },
  {
   "cell_type": "markdown",
   "metadata": {},
   "source": [
    "В промежутке с 2011 до 2015 годов продажи расли, но в 2016 году пошли на убыль. "
   ]
  },
  {
   "cell_type": "code",
   "execution_count": 36,
   "metadata": {},
   "outputs": [
    {
     "data": {
      "image/png": "[encoded data removed]",
      "text/plain": [
       "<Figure size 432x288 with 1 Axes>"
      ]
     },
     "metadata": {
      "needs_background": "light"
     },
     "output_type": "display_data"
    }
   ],
   "source": [
    "new_data.loc[new_data['platform'] == 'PSP'].plot(\n",
    "    kind='hist', y='year_of_release', bins=30, grid=True, label='кол-во игр по годам'\n",
    ");"
   ]
  },
  {
   "cell_type": "markdown",
   "metadata": {},
   "source": [
    "В 2006 и 2010 года продажи были достаточно большими, но с 2010 продажи сильно упали и в 2015 году близки к нулю. "
   ]
  },
  {
   "cell_type": "code",
   "execution_count": 37,
   "metadata": {},
   "outputs": [
    {
     "data": {
      "image/png": "[encoded data removed]",
      "text/plain": [
       "<Figure size 432x288 with 1 Axes>"
      ]
     },
     "metadata": {
      "needs_background": "light"
     },
     "output_type": "display_data"
    }
   ],
   "source": [
    "new_data.loc[new_data['platform'] == 'WiiU'].plot(\n",
    "    kind='hist', y='year_of_release', bins=30, grid=True, label='кол-во игр по годам'\n",
    ");"
   ]
  },
  {
   "cell_type": "markdown",
   "metadata": {},
   "source": [
    "В 2013 году продажи достигали отметки в 45, но с того времени они сильно упали. "
   ]
  },
  {
   "cell_type": "markdown",
   "metadata": {},
   "source": [
    "Потенциально прибыльными платформами являются XOne и PS4."
   ]
  },
  {
   "cell_type": "markdown",
   "metadata": {},
   "source": [
    "<div class=\"alert alert-success\">\n",
    "<font size=\"5\"><b>Комментарий ревьюера</b></font>\n",
    "\n",
    "Успех: Да, именно эти платформы мы и можем назвать перспективными на 2017 год. \n",
    "\n",
    "</div>"
   ]
  },
  {
   "cell_type": "markdown",
   "metadata": {},
   "source": [
    "### Диаграммы размаха для платформ"
   ]
  },
  {
   "cell_type": "code",
   "execution_count": 38,
   "metadata": {},
   "outputs": [
    {
     "data": {
      "text/plain": [
       "(0, 7)"
      ]
     },
     "execution_count": 38,
     "metadata": {},
     "output_type": "execute_result"
    },
    {
     "data": {
      "image/png": "[encoded data removed]",
      "text/plain": [
       "<Figure size 432x288 with 1 Axes>"
      ]
     },
     "metadata": {
      "needs_background": "light"
     },
     "output_type": "display_data"
    }
   ],
   "source": [
    "plt.boxplot(new_data[new_data['platform'] == 'PS4']['sales'])\n",
    "plt.ylim(0,7)"
   ]
  },
  {
   "cell_type": "markdown",
   "metadata": {},
   "source": [
    "Распределены нормально, хотя есть выбросы"
   ]
  },
  {
   "cell_type": "code",
   "execution_count": 39,
   "metadata": {},
   "outputs": [
    {
     "data": {
      "text/plain": [
       "(0, 5)"
      ]
     },
     "execution_count": 39,
     "metadata": {},
     "output_type": "execute_result"
    },
    {
     "data": {
      "image/png": "[encoded data removed]",
      "text/plain": [
       "<Figure size 432x288 with 1 Axes>"
      ]
     },
     "metadata": {
      "needs_background": "light"
     },
     "output_type": "display_data"
    }
   ],
   "source": [
    "plt.boxplot(new_data[new_data['platform'] == 'XOne']['sales'])\n",
    "plt.ylim(0,5)"
   ]
  },
  {
   "cell_type": "markdown",
   "metadata": {},
   "source": [
    "Распределены нормально, есть выбросы"
   ]
  },
  {
   "cell_type": "code",
   "execution_count": 40,
   "metadata": {},
   "outputs": [
    {
     "data": {
      "text/plain": [
       "(0, 5)"
      ]
     },
     "execution_count": 40,
     "metadata": {},
     "output_type": "execute_result"
    },
    {
     "data": {
      "image/png": "[encoded data removed]",
      "text/plain": [
       "<Figure size 432x288 with 1 Axes>"
      ]
     },
     "metadata": {
      "needs_background": "light"
     },
     "output_type": "display_data"
    }
   ],
   "source": [
    "plt.boxplot(new_data[new_data['platform'] == 'PSP']['sales'])\n",
    "plt.ylim(0,5)"
   ]
  },
  {
   "cell_type": "markdown",
   "metadata": {},
   "source": [
    "Распределены нормально, есть выбросы"
   ]
  },
  {
   "cell_type": "code",
   "execution_count": 41,
   "metadata": {},
   "outputs": [
    {
     "data": {
      "text/plain": [
       "(0, 3)"
      ]
     },
     "execution_count": 41,
     "metadata": {},
     "output_type": "execute_result"
    },
    {
     "data": {
      "image/png": "[encoded data removed]",
      "text/plain": [
       "<Figure size 432x288 with 1 Axes>"
      ]
     },
     "metadata": {
      "needs_background": "light"
     },
     "output_type": "display_data"
    }
   ],
   "source": [
    "plt.boxplot(new_data[new_data['platform'] == 'WiiU']['sales'])\n",
    "plt.ylim(0,3)"
   ]
  },
  {
   "cell_type": "markdown",
   "metadata": {},
   "source": [
    "Распределены нормально, есть выбросы"
   ]
  },
  {
   "cell_type": "code",
   "execution_count": 42,
   "metadata": {},
   "outputs": [
    {
     "data": {
      "text/plain": [
       "(0, 5)"
      ]
     },
     "execution_count": 42,
     "metadata": {},
     "output_type": "execute_result"
    },
    {
     "data": {
      "image/png": "[encoded data removed]",
      "text/plain": [
       "<Figure size 432x288 with 1 Axes>"
      ]
     },
     "metadata": {
      "needs_background": "light"
     },
     "output_type": "display_data"
    }
   ],
   "source": [
    "plt.boxplot(new_data[new_data['platform'] == 'Wii']['sales'])\n",
    "plt.ylim(0,5)"
   ]
  },
  {
   "cell_type": "markdown",
   "metadata": {},
   "source": [
    "Распределены нормально, есть выбросы"
   ]
  },
  {
   "cell_type": "code",
   "execution_count": 43,
   "metadata": {},
   "outputs": [
    {
     "data": {
      "text/plain": [
       "(0, 5)"
      ]
     },
     "execution_count": 43,
     "metadata": {},
     "output_type": "execute_result"
    },
    {
     "data": {
      "image/png": "[encoded data removed]",
      "text/plain": [
       "<Figure size 432x288 with 1 Axes>"
      ]
     },
     "metadata": {
      "needs_background": "light"
     },
     "output_type": "display_data"
    }
   ],
   "source": [
    "plt.boxplot(new_data[new_data['platform'] == 'PS2']['sales'])\n",
    "plt.ylim(0,5)"
   ]
  },
  {
   "cell_type": "markdown",
   "metadata": {},
   "source": [
    "Распределены нормально, есть выбросы"
   ]
  },
  {
   "cell_type": "code",
   "execution_count": 44,
   "metadata": {},
   "outputs": [
    {
     "data": {
      "text/plain": [
       "(0, 7)"
      ]
     },
     "execution_count": 44,
     "metadata": {},
     "output_type": "execute_result"
    },
    {
     "data": {
      "image/png": "[encoded data removed]",
      "text/plain": [
       "<Figure size 432x288 with 1 Axes>"
      ]
     },
     "metadata": {
      "needs_background": "light"
     },
     "output_type": "display_data"
    }
   ],
   "source": [
    "plt.boxplot(new_data[new_data['platform'] == 'X360']['sales'])\n",
    "plt.ylim(0,7)"
   ]
  },
  {
   "cell_type": "markdown",
   "metadata": {},
   "source": [
    "Распределены нормально, есть выбросы"
   ]
  },
  {
   "cell_type": "code",
   "execution_count": 45,
   "metadata": {},
   "outputs": [
    {
     "data": {
      "text/plain": [
       "(0, 4)"
      ]
     },
     "execution_count": 45,
     "metadata": {},
     "output_type": "execute_result"
    },
    {
     "data": {
      "image/png": "[encoded data removed]",
      "text/plain": [
       "<Figure size 432x288 with 1 Axes>"
      ]
     },
     "metadata": {
      "needs_background": "light"
     },
     "output_type": "display_data"
    }
   ],
   "source": [
    "plt.boxplot(new_data[new_data['platform'] == 'PC']['sales'])\n",
    "plt.ylim(0,4)"
   ]
  },
  {
   "cell_type": "markdown",
   "metadata": {},
   "source": [
    "Распределены нормально, есть выбросы"
   ]
  },
  {
   "cell_type": "markdown",
   "metadata": {},
   "source": [
    "<div class=\"alert alert-warning\">\n",
    "<font size=\"5\"><b>Комментарий ревьюера</b></font>\n",
    " \n",
    "Совет: Подумай, из-за чего формируется разница между платформами. Старайся не только описывать результат, но и трактовать его. \n",
    "\n",
    "</div>"
   ]
  },
  {
   "cell_type": "markdown",
   "metadata": {},
   "source": [
    "<div class=\"alert alert-info\"> <b>Комментарий студентки:</b> Я понимаю, что надо трактовать результат, но проблема в том, что я не особо понимаю, как его трактовать с этими графиками, буду рада подсказке или ссылке, где это объясняется</div>"
   ]
  },
  {
   "cell_type": "markdown",
   "metadata": {},
   "source": [
    "<div class=\"alert alert-success\">\n",
    "<font size=\"5\"><b>Комментарий ревьюера 2</b></font>\n",
    "\n",
    "Успех: Ссылок тут не найти. Хорошо бы построить графики в одних осях, на одной диаграмме. Это позволит нам детальнее сравнить платформы между собой. Далее мы можем определить наиболее и наименее успешные платформы. После этого уже мы можем выделить наиболее успешных производителей платформ. Уже по производителям мы можем делать выводы, что они больше вкладываются в продвижение самих платформ, а также игр на них. \n",
    "\n",
    "</div>"
   ]
  },
  {
   "cell_type": "markdown",
   "metadata": {},
   "source": [
    "<div class=\"alert alert-info\"> <b>Комментарий студентки:</b> То есть вот эти графики просто объединить во один? Или как?</div>"
   ]
  },
  {
   "cell_type": "markdown",
   "metadata": {},
   "source": [
    "### Влияние отзывов"
   ]
  },
  {
   "cell_type": "code",
   "execution_count": 46,
   "metadata": {},
   "outputs": [
    {
     "name": "stdout",
     "output_type": "stream",
     "text": [
      "0.41720638309101765\n"
     ]
    },
    {
     "data": {
      "image/png": "[encoded data removed]",
      "text/plain": [
       "<Figure size 432x288 with 1 Axes>"
      ]
     },
     "metadata": {
      "needs_background": "light"
     },
     "output_type": "display_data"
    }
   ],
   "source": [
    "print(new_data.loc[new_data['platform'] == 'XOne']['sales'].corr(new_data['critic_score']))\n",
    "new_data.loc[new_data['platform'] == 'XOne'].plot(x='critic_score', y='sales', kind='scatter');"
   ]
  },
  {
   "cell_type": "markdown",
   "metadata": {},
   "source": [
    "Прямой зависимости между оценкой критиков и продажами нет, так как у многих игр с высокой оценкой от критиков маленькие продажи, однако большие продажи только у игр с высокой оценкой от критиков"
   ]
  },
  {
   "cell_type": "code",
   "execution_count": 47,
   "metadata": {},
   "outputs": [
    {
     "name": "stdout",
     "output_type": "stream",
     "text": [
      "-0.06880394425598693\n"
     ]
    },
    {
     "data": {
      "image/png": "[encoded data removed]",
      "text/plain": [
       "<Figure size 432x288 with 1 Axes>"
      ]
     },
     "metadata": {
      "needs_background": "light"
     },
     "output_type": "display_data"
    }
   ],
   "source": [
    "print(new_data.loc[new_data['platform'] == 'XOne']['sales'].corr(new_data['user_score']))\n",
    "new_data.loc[new_data['platform'] == 'XOne'].plot(x='user_score', y='sales', kind='scatter');"
   ]
  },
  {
   "cell_type": "markdown",
   "metadata": {},
   "source": [
    "Прямой зависимости нет"
   ]
  },
  {
   "cell_type": "code",
   "execution_count": 48,
   "metadata": {},
   "outputs": [
    {
     "name": "stdout",
     "output_type": "stream",
     "text": [
      "0.40588677465201267\n"
     ]
    },
    {
     "data": {
      "image/png": "[encoded data removed]",
      "text/plain": [
       "<Figure size 432x288 with 1 Axes>"
      ]
     },
     "metadata": {
      "needs_background": "light"
     },
     "output_type": "display_data"
    }
   ],
   "source": [
    "print(new_data.loc[new_data['platform'] == 'PS4']['sales'].corr(new_data['critic_score']))\n",
    "new_data.loc[new_data['platform'] == 'PS4'].plot(x='critic_score', y='sales', kind='scatter');"
   ]
  },
  {
   "cell_type": "markdown",
   "metadata": {},
   "source": [
    "Прямой зависимости между оценкой критиков и продажами нет, так как у многих игр с высокой оценкой от критиков маленькие продажи, однако большие продажи только у игр с высокой оценкой от критиков"
   ]
  },
  {
   "cell_type": "code",
   "execution_count": 49,
   "metadata": {},
   "outputs": [
    {
     "name": "stdout",
     "output_type": "stream",
     "text": [
      "-0.03126053686666918\n"
     ]
    },
    {
     "data": {
      "image/png": "[encoded data removed]",
      "text/plain": [
       "<Figure size 432x288 with 1 Axes>"
      ]
     },
     "metadata": {
      "needs_background": "light"
     },
     "output_type": "display_data"
    }
   ],
   "source": [
    "print(new_data.loc[new_data['platform'] == 'PS4']['sales'].corr(new_data['user_score']))\n",
    "new_data.loc[new_data['platform'] == 'PS4'].plot(x='user_score', y='sales', kind='scatter');"
   ]
  },
  {
   "cell_type": "markdown",
   "metadata": {},
   "source": [
    "Прямой зависимости нет"
   ]
  },
  {
   "cell_type": "markdown",
   "metadata": {},
   "source": [
    "<div class=\"alert alert-success\">\n",
    "<font size=\"5\"><b>Комментарий ревьюера</b></font>\n",
    "\n",
    "Успех: Результат получен. Подумай, чем он вызван. Здорово, что рассмотрены несколько платформ. \n",
    "\n",
    "</div>"
   ]
  },
  {
   "cell_type": "markdown",
   "metadata": {},
   "source": [
    "### Продажи по жанрам"
   ]
  },
  {
   "cell_type": "code",
   "execution_count": 50,
   "metadata": {},
   "outputs": [
    {
     "data": {
      "text/plain": [
       "Action          3369\n",
       "Sports          2348\n",
       "Misc            1750\n",
       "Role-Playing    1498\n",
       "Shooter         1323\n",
       "Adventure       1303\n",
       "Racing          1249\n",
       "Platform         888\n",
       "Simulation       873\n",
       "Fighting         849\n",
       "Strategy         683\n",
       "Puzzle           580\n",
       "Unknown            2\n",
       "Name: genre, dtype: int64"
      ]
     },
     "execution_count": 50,
     "metadata": {},
     "output_type": "execute_result"
    }
   ],
   "source": [
    "data['genre'].value_counts()"
   ]
  },
  {
   "cell_type": "code",
   "execution_count": 51,
   "metadata": {},
   "outputs": [
    {
     "data": {
      "text/plain": [
       "genre\n",
       "Unknown            2.34\n",
       "Strategy         163.38\n",
       "Adventure        221.10\n",
       "Puzzle           230.19\n",
       "Simulation       359.24\n",
       "Fighting         411.17\n",
       "Racing           652.57\n",
       "Misc             728.12\n",
       "Platform         776.68\n",
       "Role-Playing     874.93\n",
       "Shooter          948.34\n",
       "Sports          1196.76\n",
       "Action          1559.57\n",
       "Name: sales, dtype: float64"
      ]
     },
     "execution_count": 51,
     "metadata": {},
     "output_type": "execute_result"
    }
   ],
   "source": [
    "data_sales_per_genre = data.groupby('genre')['sales'].sum()\n",
    "data_sales_per_genre.sort_values()"
   ]
  },
  {
   "cell_type": "markdown",
   "metadata": {},
   "source": [
    "Самый популярный жанр Action и Sports. У них же самые высокие продажи. Самые непопулярные жанры - Puzzle и Strategy. А самые низкие продажи у Strategy и Adventure. "
   ]
  },
  {
   "cell_type": "markdown",
   "metadata": {},
   "source": [
    "<div class=\"alert alert-success\">\n",
    "<font size=\"5\"><b>Комментарий ревьюера</b></font>\n",
    "\n",
    "Успех: Анализ популярности жанров проведен. Однако не стоит забывать, что производство игр в жанрах Action или Shooter обходится сильно дороже, чем производство Puzzle-игр. \n",
    "\n",
    "</div>"
   ]
  },
  {
   "cell_type": "markdown",
   "metadata": {},
   "source": [
    "## Портрет пользователей"
   ]
  },
  {
   "cell_type": "markdown",
   "metadata": {},
   "source": [
    "### Самые популярные платформы"
   ]
  },
  {
   "cell_type": "code",
   "execution_count": 52,
   "metadata": {},
   "outputs": [
    {
     "data": {
      "text/html": [
       "<div>\n",
       "<style scoped>\n",
       "    .dataframe tbody tr th:only-of-type {\n",
       "        vertical-align: middle;\n",
       "    }\n",
       "\n",
       "    .dataframe tbody tr th {\n",
       "        vertical-align: top;\n",
       "    }\n",
       "\n",
       "    .dataframe thead th {\n",
       "        text-align: right;\n",
       "    }\n",
       "</style>\n",
       "<table border=\"1\" class=\"dataframe\">\n",
       "  <thead>\n",
       "    <tr style=\"text-align: right;\">\n",
       "      <th></th>\n",
       "      <th>na_sales</th>\n",
       "      <th>sales</th>\n",
       "      <th>share</th>\n",
       "    </tr>\n",
       "    <tr>\n",
       "      <th>platform</th>\n",
       "      <th></th>\n",
       "      <th></th>\n",
       "      <th></th>\n",
       "    </tr>\n",
       "  </thead>\n",
       "  <tbody>\n",
       "    <tr>\n",
       "      <td>PS2</td>\n",
       "      <td>2.32</td>\n",
       "      <td>1062.33</td>\n",
       "      <td>0.002184</td>\n",
       "    </tr>\n",
       "    <tr>\n",
       "      <td>PSP</td>\n",
       "      <td>9.65</td>\n",
       "      <td>252.63</td>\n",
       "      <td>0.038198</td>\n",
       "    </tr>\n",
       "    <tr>\n",
       "      <td>DS</td>\n",
       "      <td>59.66</td>\n",
       "      <td>746.86</td>\n",
       "      <td>0.079881</td>\n",
       "    </tr>\n",
       "    <tr>\n",
       "      <td>Wii</td>\n",
       "      <td>121.20</td>\n",
       "      <td>828.44</td>\n",
       "      <td>0.146299</td>\n",
       "    </tr>\n",
       "    <tr>\n",
       "      <td>PC</td>\n",
       "      <td>39.07</td>\n",
       "      <td>237.14</td>\n",
       "      <td>0.164755</td>\n",
       "    </tr>\n",
       "    <tr>\n",
       "      <td>PSV</td>\n",
       "      <td>12.47</td>\n",
       "      <td>47.61</td>\n",
       "      <td>0.261920</td>\n",
       "    </tr>\n",
       "    <tr>\n",
       "      <td>PS3</td>\n",
       "      <td>229.25</td>\n",
       "      <td>803.97</td>\n",
       "      <td>0.285147</td>\n",
       "    </tr>\n",
       "    <tr>\n",
       "      <td>3DS</td>\n",
       "      <td>82.65</td>\n",
       "      <td>245.64</td>\n",
       "      <td>0.336468</td>\n",
       "    </tr>\n",
       "    <tr>\n",
       "      <td>X360</td>\n",
       "      <td>334.18</td>\n",
       "      <td>885.66</td>\n",
       "      <td>0.377323</td>\n",
       "    </tr>\n",
       "    <tr>\n",
       "      <td>PS4</td>\n",
       "      <td>108.74</td>\n",
       "      <td>265.79</td>\n",
       "      <td>0.409120</td>\n",
       "    </tr>\n",
       "    <tr>\n",
       "      <td>WiiU</td>\n",
       "      <td>38.10</td>\n",
       "      <td>76.24</td>\n",
       "      <td>0.499738</td>\n",
       "    </tr>\n",
       "    <tr>\n",
       "      <td>XOne</td>\n",
       "      <td>93.12</td>\n",
       "      <td>145.05</td>\n",
       "      <td>0.641986</td>\n",
       "    </tr>\n",
       "  </tbody>\n",
       "</table>\n",
       "</div>"
      ],
      "text/plain": [
       "          na_sales    sales     share\n",
       "platform                             \n",
       "PS2           2.32  1062.33  0.002184\n",
       "PSP           9.65   252.63  0.038198\n",
       "DS           59.66   746.86  0.079881\n",
       "Wii         121.20   828.44  0.146299\n",
       "PC           39.07   237.14  0.164755\n",
       "PSV          12.47    47.61  0.261920\n",
       "PS3         229.25   803.97  0.285147\n",
       "3DS          82.65   245.64  0.336468\n",
       "X360        334.18   885.66  0.377323\n",
       "PS4         108.74   265.79  0.409120\n",
       "WiiU         38.10    76.24  0.499738\n",
       "XOne         93.12   145.05  0.641986"
      ]
     },
     "metadata": {},
     "output_type": "display_data"
    },
    {
     "data": {
      "text/html": [
       "<div>\n",
       "<style scoped>\n",
       "    .dataframe tbody tr th:only-of-type {\n",
       "        vertical-align: middle;\n",
       "    }\n",
       "\n",
       "    .dataframe tbody tr th {\n",
       "        vertical-align: top;\n",
       "    }\n",
       "\n",
       "    .dataframe thead th {\n",
       "        text-align: right;\n",
       "    }\n",
       "</style>\n",
       "<table border=\"1\" class=\"dataframe\">\n",
       "  <thead>\n",
       "    <tr style=\"text-align: right;\">\n",
       "      <th></th>\n",
       "      <th>na_sales</th>\n",
       "      <th>sales</th>\n",
       "      <th>share</th>\n",
       "    </tr>\n",
       "    <tr>\n",
       "      <th>platform</th>\n",
       "      <th></th>\n",
       "      <th></th>\n",
       "      <th></th>\n",
       "    </tr>\n",
       "  </thead>\n",
       "  <tbody>\n",
       "    <tr>\n",
       "      <td>PS4</td>\n",
       "      <td>108.74</td>\n",
       "      <td>265.79</td>\n",
       "      <td>0.409120</td>\n",
       "    </tr>\n",
       "    <tr>\n",
       "      <td>WiiU</td>\n",
       "      <td>38.10</td>\n",
       "      <td>76.24</td>\n",
       "      <td>0.499738</td>\n",
       "    </tr>\n",
       "    <tr>\n",
       "      <td>X360</td>\n",
       "      <td>334.18</td>\n",
       "      <td>885.66</td>\n",
       "      <td>0.377323</td>\n",
       "    </tr>\n",
       "    <tr>\n",
       "      <td>XOne</td>\n",
       "      <td>93.12</td>\n",
       "      <td>145.05</td>\n",
       "      <td>0.641986</td>\n",
       "    </tr>\n",
       "  </tbody>\n",
       "</table>\n",
       "</div>"
      ],
      "text/plain": [
       "          na_sales   sales     share\n",
       "platform                            \n",
       "PS4         108.74  265.79  0.409120\n",
       "WiiU         38.10   76.24  0.499738\n",
       "X360        334.18  885.66  0.377323\n",
       "XOne         93.12  145.05  0.641986"
      ]
     },
     "execution_count": 52,
     "metadata": {},
     "output_type": "execute_result"
    }
   ],
   "source": [
    "# сгруппируем данные по платформе и сложим их продажи в северной америке\n",
    "data_na_sales_per_platform = new_data.groupby('platform')['na_sales'].sum()\n",
    "# отсортируем\n",
    "data_na_sales_per_platform.sort_values()\n",
    "# приведем к типу датафрейм\n",
    "data_na_sales_per_platform = data_na_sales_per_platform.to_frame()\n",
    "\n",
    "# сгруппируем данные по платформе и сложим их продажи\n",
    "new_data_sales_per_platform = new_data.groupby('platform')['sales'].sum()\n",
    "# отсортируем\n",
    "new_data_sales_per_platform.sort_values()\n",
    "# приведем к типу датафрейм\n",
    "new_data_sales_per_platform = data_sales_per_platform.to_frame()\n",
    "# соединим с общими продажами\n",
    "data_na_sales_per_platform = data_na_sales_per_platform.merge(\n",
    "    new_data_sales_per_platform, on='platform', how='left'\n",
    ")\n",
    "# найдем доли\n",
    "data_na_sales_per_platform['share'] = data_na_sales_per_platform['na_sales'] / data_na_sales_per_platform['sales']\n",
    "display(data_na_sales_per_platform.sort_values(by = 'share'))\n",
    "# составим топ-5\n",
    "top = data_na_sales_per_platform.loc[data_na_sales_per_platform['share'] > 0.336469]\n",
    "top"
   ]
  },
  {
   "cell_type": "code",
   "execution_count": 53,
   "metadata": {},
   "outputs": [
    {
     "data": {
      "image/png": "[encoded data removed]",
      "text/plain": [
       "<Figure size 432x288 with 1 Axes>"
      ]
     },
     "metadata": {
      "needs_background": "light"
     },
     "output_type": "display_data"
    }
   ],
   "source": [
    "top.plot(y='share', kind='bar');"
   ]
  },
  {
   "cell_type": "markdown",
   "metadata": {},
   "source": [
    "<div class=\"alert alert-warning\">\n",
    "<font size=\"5\"><b>Комментарий ревьюера</b></font>\n",
    " \n",
    "Совет: Не следует использовать пироговые диаграммы (pie-charts). Такая диаграмма затрудняет понимание, особенно если сегментов будет больше 4х. Также, на этом типе диаграмм сложно визуально увидеть разницу между сегментами. Рекомендую использовать обычные столбчатые диаграммы вместо пироговых диаграмм. \n",
    "\n",
    "</div>"
   ]
  },
  {
   "cell_type": "markdown",
   "metadata": {},
   "source": [
    "<div class=\"alert alert-info\"> <b>Комментарий студентки:</b> Исправила</div>"
   ]
  },
  {
   "cell_type": "markdown",
   "metadata": {},
   "source": [
    "<div class=\"alert alert-success\">\n",
    "<font size=\"5\"><b>Комментарий ревьюера 2</b></font>\n",
    "\n",
    "Успех: Отлично!\n",
    "\n",
    "</div>"
   ]
  },
  {
   "cell_type": "markdown",
   "metadata": {},
   "source": [
    "В Северной Америке топ-5 популярных платформ X360, PS3, WiiU, PS3, DS. "
   ]
  },
  {
   "cell_type": "code",
   "execution_count": 54,
   "metadata": {},
   "outputs": [
    {
     "data": {
      "text/html": [
       "<div>\n",
       "<style scoped>\n",
       "    .dataframe tbody tr th:only-of-type {\n",
       "        vertical-align: middle;\n",
       "    }\n",
       "\n",
       "    .dataframe tbody tr th {\n",
       "        vertical-align: top;\n",
       "    }\n",
       "\n",
       "    .dataframe thead th {\n",
       "        text-align: right;\n",
       "    }\n",
       "</style>\n",
       "<table border=\"1\" class=\"dataframe\">\n",
       "  <thead>\n",
       "    <tr style=\"text-align: right;\">\n",
       "      <th></th>\n",
       "      <th>eu_sales</th>\n",
       "      <th>sales</th>\n",
       "      <th>share</th>\n",
       "    </tr>\n",
       "    <tr>\n",
       "      <th>platform</th>\n",
       "      <th></th>\n",
       "      <th></th>\n",
       "      <th></th>\n",
       "    </tr>\n",
       "  </thead>\n",
       "  <tbody>\n",
       "    <tr>\n",
       "      <td>PS2</td>\n",
       "      <td>1.67</td>\n",
       "      <td>1062.33</td>\n",
       "      <td>0.001572</td>\n",
       "    </tr>\n",
       "    <tr>\n",
       "      <td>PSP</td>\n",
       "      <td>7.59</td>\n",
       "      <td>252.63</td>\n",
       "      <td>0.030044</td>\n",
       "    </tr>\n",
       "    <tr>\n",
       "      <td>DS</td>\n",
       "      <td>28.06</td>\n",
       "      <td>746.86</td>\n",
       "      <td>0.037571</td>\n",
       "    </tr>\n",
       "    <tr>\n",
       "      <td>Wii</td>\n",
       "      <td>65.91</td>\n",
       "      <td>828.44</td>\n",
       "      <td>0.079559</td>\n",
       "    </tr>\n",
       "    <tr>\n",
       "      <td>X360</td>\n",
       "      <td>163.41</td>\n",
       "      <td>885.66</td>\n",
       "      <td>0.184506</td>\n",
       "    </tr>\n",
       "    <tr>\n",
       "      <td>3DS</td>\n",
       "      <td>61.27</td>\n",
       "      <td>245.64</td>\n",
       "      <td>0.249430</td>\n",
       "    </tr>\n",
       "    <tr>\n",
       "      <td>PS3</td>\n",
       "      <td>213.60</td>\n",
       "      <td>803.97</td>\n",
       "      <td>0.265682</td>\n",
       "    </tr>\n",
       "    <tr>\n",
       "      <td>PSV</td>\n",
       "      <td>13.07</td>\n",
       "      <td>47.61</td>\n",
       "      <td>0.274522</td>\n",
       "    </tr>\n",
       "    <tr>\n",
       "      <td>PC</td>\n",
       "      <td>68.82</td>\n",
       "      <td>237.14</td>\n",
       "      <td>0.290208</td>\n",
       "    </tr>\n",
       "    <tr>\n",
       "      <td>WiiU</td>\n",
       "      <td>25.13</td>\n",
       "      <td>76.24</td>\n",
       "      <td>0.329617</td>\n",
       "    </tr>\n",
       "    <tr>\n",
       "      <td>XOne</td>\n",
       "      <td>51.59</td>\n",
       "      <td>145.05</td>\n",
       "      <td>0.355670</td>\n",
       "    </tr>\n",
       "    <tr>\n",
       "      <td>PS4</td>\n",
       "      <td>141.09</td>\n",
       "      <td>265.79</td>\n",
       "      <td>0.530833</td>\n",
       "    </tr>\n",
       "  </tbody>\n",
       "</table>\n",
       "</div>"
      ],
      "text/plain": [
       "          eu_sales    sales     share\n",
       "platform                             \n",
       "PS2           1.67  1062.33  0.001572\n",
       "PSP           7.59   252.63  0.030044\n",
       "DS           28.06   746.86  0.037571\n",
       "Wii          65.91   828.44  0.079559\n",
       "X360        163.41   885.66  0.184506\n",
       "3DS          61.27   245.64  0.249430\n",
       "PS3         213.60   803.97  0.265682\n",
       "PSV          13.07    47.61  0.274522\n",
       "PC           68.82   237.14  0.290208\n",
       "WiiU         25.13    76.24  0.329617\n",
       "XOne         51.59   145.05  0.355670\n",
       "PS4         141.09   265.79  0.530833"
      ]
     },
     "metadata": {},
     "output_type": "display_data"
    },
    {
     "data": {
      "text/html": [
       "<div>\n",
       "<style scoped>\n",
       "    .dataframe tbody tr th:only-of-type {\n",
       "        vertical-align: middle;\n",
       "    }\n",
       "\n",
       "    .dataframe tbody tr th {\n",
       "        vertical-align: top;\n",
       "    }\n",
       "\n",
       "    .dataframe thead th {\n",
       "        text-align: right;\n",
       "    }\n",
       "</style>\n",
       "<table border=\"1\" class=\"dataframe\">\n",
       "  <thead>\n",
       "    <tr style=\"text-align: right;\">\n",
       "      <th></th>\n",
       "      <th>eu_sales</th>\n",
       "      <th>sales</th>\n",
       "      <th>share</th>\n",
       "    </tr>\n",
       "    <tr>\n",
       "      <th>platform</th>\n",
       "      <th></th>\n",
       "      <th></th>\n",
       "      <th></th>\n",
       "    </tr>\n",
       "  </thead>\n",
       "  <tbody>\n",
       "    <tr>\n",
       "      <td>PC</td>\n",
       "      <td>68.82</td>\n",
       "      <td>237.14</td>\n",
       "      <td>0.290208</td>\n",
       "    </tr>\n",
       "    <tr>\n",
       "      <td>PS4</td>\n",
       "      <td>141.09</td>\n",
       "      <td>265.79</td>\n",
       "      <td>0.530833</td>\n",
       "    </tr>\n",
       "    <tr>\n",
       "      <td>WiiU</td>\n",
       "      <td>25.13</td>\n",
       "      <td>76.24</td>\n",
       "      <td>0.329617</td>\n",
       "    </tr>\n",
       "    <tr>\n",
       "      <td>XOne</td>\n",
       "      <td>51.59</td>\n",
       "      <td>145.05</td>\n",
       "      <td>0.355670</td>\n",
       "    </tr>\n",
       "  </tbody>\n",
       "</table>\n",
       "</div>"
      ],
      "text/plain": [
       "          eu_sales   sales     share\n",
       "platform                            \n",
       "PC           68.82  237.14  0.290208\n",
       "PS4         141.09  265.79  0.530833\n",
       "WiiU         25.13   76.24  0.329617\n",
       "XOne         51.59  145.05  0.355670"
      ]
     },
     "execution_count": 54,
     "metadata": {},
     "output_type": "execute_result"
    }
   ],
   "source": [
    "# сгруппируем данные по платформе и сложим их продажи в европе\n",
    "data_eu_sales_per_platform = new_data.groupby('platform')['eu_sales'].sum()\n",
    "# отсортируем\n",
    "data_eu_sales_per_platform.sort_values()\n",
    "# приведем к типу датафрейм\n",
    "data_eu_sales_per_platform = data_eu_sales_per_platform.to_frame()\n",
    "# соединим с общими продажами\n",
    "data_eu_sales_per_platform = data_eu_sales_per_platform.merge(\n",
    "    new_data_sales_per_platform, on='platform', how='left'\n",
    ")\n",
    "# найдем доли\n",
    "data_eu_sales_per_platform['share'] = data_eu_sales_per_platform['eu_sales'] / data_eu_sales_per_platform['sales']\n",
    "display(data_eu_sales_per_platform.sort_values(by = 'share'))\n",
    "# составим топ-5\n",
    "top = data_eu_sales_per_platform.loc[data_eu_sales_per_platform['share'] > 0.274523]\n",
    "top"
   ]
  },
  {
   "cell_type": "code",
   "execution_count": 55,
   "metadata": {},
   "outputs": [
    {
     "data": {
      "image/png": "[encoded data removed]",
      "text/plain": [
       "<Figure size 432x288 with 1 Axes>"
      ]
     },
     "metadata": {
      "needs_background": "light"
     },
     "output_type": "display_data"
    }
   ],
   "source": [
    "top.plot(y='share', kind='bar');"
   ]
  },
  {
   "cell_type": "markdown",
   "metadata": {},
   "source": [
    "В Европе топ-5 состоит из PC, PS3, PS4, WiiU, XOne."
   ]
  },
  {
   "cell_type": "code",
   "execution_count": 56,
   "metadata": {},
   "outputs": [
    {
     "data": {
      "text/html": [
       "<div>\n",
       "<style scoped>\n",
       "    .dataframe tbody tr th:only-of-type {\n",
       "        vertical-align: middle;\n",
       "    }\n",
       "\n",
       "    .dataframe tbody tr th {\n",
       "        vertical-align: top;\n",
       "    }\n",
       "\n",
       "    .dataframe thead th {\n",
       "        text-align: right;\n",
       "    }\n",
       "</style>\n",
       "<table border=\"1\" class=\"dataframe\">\n",
       "  <thead>\n",
       "    <tr style=\"text-align: right;\">\n",
       "      <th></th>\n",
       "      <th>jp_sales</th>\n",
       "      <th>sales</th>\n",
       "      <th>share</th>\n",
       "    </tr>\n",
       "    <tr>\n",
       "      <th>platform</th>\n",
       "      <th></th>\n",
       "      <th></th>\n",
       "      <th></th>\n",
       "    </tr>\n",
       "  </thead>\n",
       "  <tbody>\n",
       "    <tr>\n",
       "      <td>PC</td>\n",
       "      <td>0.00</td>\n",
       "      <td>237.14</td>\n",
       "      <td>0.000000</td>\n",
       "    </tr>\n",
       "    <tr>\n",
       "      <td>PS2</td>\n",
       "      <td>0.80</td>\n",
       "      <td>1062.33</td>\n",
       "      <td>0.000753</td>\n",
       "    </tr>\n",
       "    <tr>\n",
       "      <td>XOne</td>\n",
       "      <td>0.34</td>\n",
       "      <td>145.05</td>\n",
       "      <td>0.002344</td>\n",
       "    </tr>\n",
       "    <tr>\n",
       "      <td>X360</td>\n",
       "      <td>5.46</td>\n",
       "      <td>885.66</td>\n",
       "      <td>0.006165</td>\n",
       "    </tr>\n",
       "    <tr>\n",
       "      <td>Wii</td>\n",
       "      <td>17.75</td>\n",
       "      <td>828.44</td>\n",
       "      <td>0.021426</td>\n",
       "    </tr>\n",
       "    <tr>\n",
       "      <td>DS</td>\n",
       "      <td>27.90</td>\n",
       "      <td>746.86</td>\n",
       "      <td>0.037356</td>\n",
       "    </tr>\n",
       "    <tr>\n",
       "      <td>PS4</td>\n",
       "      <td>15.96</td>\n",
       "      <td>265.79</td>\n",
       "      <td>0.060047</td>\n",
       "    </tr>\n",
       "    <tr>\n",
       "      <td>PS3</td>\n",
       "      <td>59.26</td>\n",
       "      <td>803.97</td>\n",
       "      <td>0.073709</td>\n",
       "    </tr>\n",
       "    <tr>\n",
       "      <td>PSP</td>\n",
       "      <td>42.20</td>\n",
       "      <td>252.63</td>\n",
       "      <td>0.167043</td>\n",
       "    </tr>\n",
       "    <tr>\n",
       "      <td>WiiU</td>\n",
       "      <td>13.01</td>\n",
       "      <td>76.24</td>\n",
       "      <td>0.170645</td>\n",
       "    </tr>\n",
       "    <tr>\n",
       "      <td>3DS</td>\n",
       "      <td>100.62</td>\n",
       "      <td>245.64</td>\n",
       "      <td>0.409624</td>\n",
       "    </tr>\n",
       "    <tr>\n",
       "      <td>PSV</td>\n",
       "      <td>21.84</td>\n",
       "      <td>47.61</td>\n",
       "      <td>0.458727</td>\n",
       "    </tr>\n",
       "  </tbody>\n",
       "</table>\n",
       "</div>"
      ],
      "text/plain": [
       "          jp_sales    sales     share\n",
       "platform                             \n",
       "PC            0.00   237.14  0.000000\n",
       "PS2           0.80  1062.33  0.000753\n",
       "XOne          0.34   145.05  0.002344\n",
       "X360          5.46   885.66  0.006165\n",
       "Wii          17.75   828.44  0.021426\n",
       "DS           27.90   746.86  0.037356\n",
       "PS4          15.96   265.79  0.060047\n",
       "PS3          59.26   803.97  0.073709\n",
       "PSP          42.20   252.63  0.167043\n",
       "WiiU         13.01    76.24  0.170645\n",
       "3DS         100.62   245.64  0.409624\n",
       "PSV          21.84    47.61  0.458727"
      ]
     },
     "metadata": {},
     "output_type": "display_data"
    },
    {
     "data": {
      "text/html": [
       "<div>\n",
       "<style scoped>\n",
       "    .dataframe tbody tr th:only-of-type {\n",
       "        vertical-align: middle;\n",
       "    }\n",
       "\n",
       "    .dataframe tbody tr th {\n",
       "        vertical-align: top;\n",
       "    }\n",
       "\n",
       "    .dataframe thead th {\n",
       "        text-align: right;\n",
       "    }\n",
       "</style>\n",
       "<table border=\"1\" class=\"dataframe\">\n",
       "  <thead>\n",
       "    <tr style=\"text-align: right;\">\n",
       "      <th></th>\n",
       "      <th>jp_sales</th>\n",
       "      <th>sales</th>\n",
       "      <th>share</th>\n",
       "    </tr>\n",
       "    <tr>\n",
       "      <th>platform</th>\n",
       "      <th></th>\n",
       "      <th></th>\n",
       "      <th></th>\n",
       "    </tr>\n",
       "  </thead>\n",
       "  <tbody>\n",
       "    <tr>\n",
       "      <td>3DS</td>\n",
       "      <td>100.62</td>\n",
       "      <td>245.64</td>\n",
       "      <td>0.409624</td>\n",
       "    </tr>\n",
       "    <tr>\n",
       "      <td>PS3</td>\n",
       "      <td>59.26</td>\n",
       "      <td>803.97</td>\n",
       "      <td>0.073709</td>\n",
       "    </tr>\n",
       "    <tr>\n",
       "      <td>PSP</td>\n",
       "      <td>42.20</td>\n",
       "      <td>252.63</td>\n",
       "      <td>0.167043</td>\n",
       "    </tr>\n",
       "    <tr>\n",
       "      <td>PSV</td>\n",
       "      <td>21.84</td>\n",
       "      <td>47.61</td>\n",
       "      <td>0.458727</td>\n",
       "    </tr>\n",
       "    <tr>\n",
       "      <td>WiiU</td>\n",
       "      <td>13.01</td>\n",
       "      <td>76.24</td>\n",
       "      <td>0.170645</td>\n",
       "    </tr>\n",
       "  </tbody>\n",
       "</table>\n",
       "</div>"
      ],
      "text/plain": [
       "          jp_sales   sales     share\n",
       "platform                            \n",
       "3DS         100.62  245.64  0.409624\n",
       "PS3          59.26  803.97  0.073709\n",
       "PSP          42.20  252.63  0.167043\n",
       "PSV          21.84   47.61  0.458727\n",
       "WiiU         13.01   76.24  0.170645"
      ]
     },
     "execution_count": 56,
     "metadata": {},
     "output_type": "execute_result"
    }
   ],
   "source": [
    "# сгруппируем данные по платформе и сложим их продажи в японии\n",
    "data_jp_sales_per_platform = new_data.groupby('platform')['jp_sales'].sum()\n",
    "# отсортируем\n",
    "data_jp_sales_per_platform.sort_values()\n",
    "# приведем к типу датафрейм\n",
    "data_jp_sales_per_platform = data_jp_sales_per_platform.to_frame()\n",
    "# соединим с общими продажами\n",
    "data_jp_sales_per_platform = data_jp_sales_per_platform.merge(\n",
    "    new_data_sales_per_platform, on='platform', how='left'\n",
    ")\n",
    "# найдем доли\n",
    "data_jp_sales_per_platform['share'] = data_jp_sales_per_platform['jp_sales'] / data_jp_sales_per_platform['sales']\n",
    "display(data_jp_sales_per_platform.sort_values(by = 'share'))\n",
    "# составим топ-5\n",
    "top = data_jp_sales_per_platform.loc[data_jp_sales_per_platform['share'] > 0.069773]\n",
    "top"
   ]
  },
  {
   "cell_type": "code",
   "execution_count": 57,
   "metadata": {},
   "outputs": [
    {
     "data": {
      "image/png": "[encoded data removed]",
      "text/plain": [
       "<Figure size 432x288 with 1 Axes>"
      ]
     },
     "metadata": {
      "needs_background": "light"
     },
     "output_type": "display_data"
    }
   ],
   "source": [
    "top.plot(y='share', kind='bar');"
   ]
  },
  {
   "cell_type": "markdown",
   "metadata": {},
   "source": [
    "В Японии топ-5 составляют 3DS, DS, PSP, PSV, WiiU"
   ]
  },
  {
   "cell_type": "markdown",
   "metadata": {},
   "source": [
    "### Самые популярные жанры"
   ]
  },
  {
   "cell_type": "code",
   "execution_count": 58,
   "metadata": {},
   "outputs": [
    {
     "data": {
      "text/plain": [
       "genre\n",
       "Puzzle            9.10\n",
       "Strategy         13.25\n",
       "Adventure        20.84\n",
       "Simulation       26.39\n",
       "Fighting         39.05\n",
       "Racing           46.11\n",
       "Platform         54.90\n",
       "Role-Playing    112.05\n",
       "Misc            123.80\n",
       "Sports          156.81\n",
       "Shooter         237.47\n",
       "Action          290.64\n",
       "Name: na_sales, dtype: float64"
      ]
     },
     "execution_count": 58,
     "metadata": {},
     "output_type": "execute_result"
    }
   ],
   "source": [
    "data_na_sales_per_genre = new_data.groupby('genre')['na_sales'].sum()\n",
    "data_na_sales_per_genre.sort_values()"
   ]
  },
  {
   "cell_type": "markdown",
   "metadata": {},
   "source": [
    "В Северной Америке самые популярные жанры - Action, Sports, Shooter, Shooter и Role-Playing."
   ]
  },
  {
   "cell_type": "code",
   "execution_count": 59,
   "metadata": {},
   "outputs": [
    {
     "data": {
      "text/plain": [
       "genre\n",
       "Puzzle            6.58\n",
       "Strategy         12.49\n",
       "Adventure        18.88\n",
       "Fighting         20.33\n",
       "Simulation       26.39\n",
       "Platform         38.30\n",
       "Racing           54.75\n",
       "Misc             66.09\n",
       "Role-Playing     75.48\n",
       "Sports          116.84\n",
       "Shooter         171.45\n",
       "Action          233.63\n",
       "Name: eu_sales, dtype: float64"
      ]
     },
     "execution_count": 59,
     "metadata": {},
     "output_type": "execute_result"
    }
   ],
   "source": [
    "data_eu_sales_per_genre = new_data.groupby('genre')['eu_sales'].sum()\n",
    "data_eu_sales_per_genre.sort_values()"
   ]
  },
  {
   "cell_type": "markdown",
   "metadata": {},
   "source": [
    "В Европе самые популярные жанры - Action, Sports, Shooter, Misc, Racing"
   ]
  },
  {
   "cell_type": "code",
   "execution_count": 60,
   "metadata": {},
   "outputs": [
    {
     "data": {
      "text/plain": [
       "genre\n",
       "Puzzle            3.40\n",
       "Racing            6.68\n",
       "Strategy          6.80\n",
       "Simulation       13.30\n",
       "Fighting         13.90\n",
       "Shooter          14.04\n",
       "Sports           15.51\n",
       "Adventure        15.67\n",
       "Platform         15.81\n",
       "Misc             24.29\n",
       "Action           72.20\n",
       "Role-Playing    103.54\n",
       "Name: jp_sales, dtype: float64"
      ]
     },
     "execution_count": 60,
     "metadata": {},
     "output_type": "execute_result"
    }
   ],
   "source": [
    "data_jp_sales_per_genre = new_data.groupby('genre')['jp_sales'].sum()\n",
    "data_jp_sales_per_genre.sort_values()"
   ]
  },
  {
   "cell_type": "markdown",
   "metadata": {},
   "source": [
    "В Японии самые популярные жанры - Role-Playing, Action, Misc, Sports и Platform."
   ]
  },
  {
   "cell_type": "markdown",
   "metadata": {},
   "source": [
    "<div class=\"alert alert-success\">\n",
    "<font size=\"5\"><b>Комментарий ревьюера</b></font>\n",
    " \n",
    "Совет: Из-за чего японский рынок игр так сильно отличается от других? \n",
    "\n",
    "</div>"
   ]
  },
  {
   "cell_type": "markdown",
   "metadata": {},
   "source": [
    "### Рейтинг ESRB"
   ]
  },
  {
   "cell_type": "code",
   "execution_count": 61,
   "metadata": {},
   "outputs": [
    {
     "data": {
      "text/plain": [
       "rating\n",
       "RP         0.000000\n",
       "Unknown    0.071959\n",
       "T          0.189858\n",
       "EC         0.226000\n",
       "E10+       0.264312\n",
       "E          0.289072\n",
       "M          0.531599\n",
       "Name: na_sales, dtype: float64"
      ]
     },
     "execution_count": 61,
     "metadata": {},
     "output_type": "execute_result"
    }
   ],
   "source": [
    "data_for_plot = new_data.groupby('rating')['na_sales'].mean().sort_values()\n",
    "data_for_plot"
   ]
  },
  {
   "cell_type": "code",
   "execution_count": 62,
   "metadata": {},
   "outputs": [
    {
     "data": {
      "image/png": "[encoded data removed]",
      "text/plain": [
       "<Figure size 432x288 with 1 Axes>"
      ]
     },
     "metadata": {
      "needs_background": "light"
     },
     "output_type": "display_data"
    }
   ],
   "source": [
    "data_for_plot.plot(y='na_sales', kind='bar');"
   ]
  },
  {
   "cell_type": "markdown",
   "metadata": {},
   "source": [
    "Лучше всего продаются игры, подходящие для взрослых и для всех"
   ]
  },
  {
   "cell_type": "code",
   "execution_count": 63,
   "metadata": {},
   "outputs": [
    {
     "data": {
      "text/plain": [
       "rating\n",
       "EC         0.000000\n",
       "RP         0.030000\n",
       "Unknown    0.064436\n",
       "T          0.133506\n",
       "E10+       0.164643\n",
       "E          0.210384\n",
       "M          0.406175\n",
       "Name: eu_sales, dtype: float64"
      ]
     },
     "execution_count": 63,
     "metadata": {},
     "output_type": "execute_result"
    }
   ],
   "source": [
    "data_for_plot = new_data.groupby('rating')['eu_sales'].mean().sort_values()\n",
    "data_for_plot"
   ]
  },
  {
   "cell_type": "code",
   "execution_count": 64,
   "metadata": {},
   "outputs": [
    {
     "data": {
      "image/png": "[encoded data removed]",
      "text/plain": [
       "<Figure size 432x288 with 1 Axes>"
      ]
     },
     "metadata": {
      "needs_background": "light"
     },
     "output_type": "display_data"
    }
   ],
   "source": [
    "data_for_plot.plot(y='eu_sales', kind='bar');"
   ]
  },
  {
   "cell_type": "markdown",
   "metadata": {},
   "source": [
    "Лучше всего продаются игры, подходящие для взрослых и для всех"
   ]
  },
  {
   "cell_type": "code",
   "execution_count": 65,
   "metadata": {
    "scrolled": true
   },
   "outputs": [
    {
     "data": {
      "text/plain": [
       "rating\n",
       "EC         0.000000\n",
       "RP         0.000000\n",
       "E10+       0.021924\n",
       "M          0.042350\n",
       "T          0.049717\n",
       "E          0.051034\n",
       "Unknown    0.079247\n",
       "Name: jp_sales, dtype: float64"
      ]
     },
     "execution_count": 65,
     "metadata": {},
     "output_type": "execute_result"
    }
   ],
   "source": [
    "data_for_plot = new_data.groupby('rating')['jp_sales'].mean().sort_values()\n",
    "data_for_plot"
   ]
  },
  {
   "cell_type": "code",
   "execution_count": 66,
   "metadata": {},
   "outputs": [
    {
     "data": {
      "image/png": "[encoded data removed]",
      "text/plain": [
       "<Figure size 432x288 with 1 Axes>"
      ]
     },
     "metadata": {
      "needs_background": "light"
     },
     "output_type": "display_data"
    }
   ],
   "source": [
    "data_for_plot.plot(y='jp_sales', kind='bar');"
   ]
  },
  {
   "cell_type": "markdown",
   "metadata": {},
   "source": [
    "Лучше всего продаются игры, подходящие без рейтинга, для подростков и для всех"
   ]
  },
  {
   "cell_type": "code",
   "execution_count": 67,
   "metadata": {
    "scrolled": false
   },
   "outputs": [
    {
     "data": {
      "text/plain": [
       "rating\n",
       "RP         0.030000\n",
       "Unknown    0.215642\n",
       "EC         0.226000\n",
       "T          0.373081\n",
       "E10+       0.450879\n",
       "E          0.550490\n",
       "M          0.980125\n",
       "Name: sales, dtype: float64"
      ]
     },
     "execution_count": 67,
     "metadata": {},
     "output_type": "execute_result"
    }
   ],
   "source": [
    "data_for_plot = new_data.groupby('rating')['sales'].mean().sort_values()\n",
    "data_for_plot"
   ]
  },
  {
   "cell_type": "code",
   "execution_count": 68,
   "metadata": {},
   "outputs": [
    {
     "data": {
      "image/png": "[encoded data removed]",
      "text/plain": [
       "<Figure size 432x288 with 1 Axes>"
      ]
     },
     "metadata": {
      "needs_background": "light"
     },
     "output_type": "display_data"
    }
   ],
   "source": [
    "data_for_plot.plot(y='sales', kind='bar');"
   ]
  },
  {
   "cell_type": "markdown",
   "metadata": {},
   "source": [
    "Лучше всего продаются игры, подходящие для взрослых и для всех"
   ]
  },
  {
   "cell_type": "markdown",
   "metadata": {},
   "source": [
    "<div class=\"alert alert-danger\">\n",
    "<font size=\"5\"><b>Комментарий ревьюера</b></font>\n",
    "\n",
    "Ошибка: Почему по платформам и жанрам ты рассматриваешь суммарные значения, а по рейтингам средние? Этот момент стоит скорректировать. Тут также стоит рассмотреть суммарный уровень продаж. Только так мы можем определить наиболее распространенные рейтинги. \n",
    "\n",
    "</div>"
   ]
  },
  {
   "cell_type": "markdown",
   "metadata": {},
   "source": [
    "<div class=\"alert alert-danger\">\n",
    "<font size=\"5\"><b>Комментарий ревьюера</b></font>\n",
    "\n",
    "Ошибка: Портрет типичного пользователя каждого из регионов получен. Стоит визуализировать все полученные таблицы. Крайне не хватает графиков в данном разделе работы. \n",
    "\n",
    "</div>"
   ]
  },
  {
   "cell_type": "markdown",
   "metadata": {},
   "source": [
    "<div class=\"alert alert-info\"> <b>Комментарий студентки:</b> Исправила</div>"
   ]
  },
  {
   "cell_type": "markdown",
   "metadata": {},
   "source": [
    "<div class=\"alert alert-success\">\n",
    "<font size=\"5\"><b>Комментарий ревьюера 2</b></font>\n",
    "\n",
    "Успех: Круто, ты заметила важную особенность данных - большая часть игр японского региона не имеет рейтинга. Как думаешь, почему мы получаем такой нетривиальный результат? В чем особенности данного региона? \n",
    "\n",
    "</div>"
   ]
  },
  {
   "cell_type": "markdown",
   "metadata": {},
   "source": [
    "<div class=\"alert alert-info\"> <b>Комментарий студентки:</b> Могу предположить, что в Японии наиболее распространены местные \"аниме\" игры, может поэтому у них и нет рейтинга</div>"
   ]
  },
  {
   "cell_type": "markdown",
   "metadata": {},
   "source": [
    "## Гипотезы"
   ]
  },
  {
   "cell_type": "markdown",
   "metadata": {},
   "source": [
    "### Первая гипотеза"
   ]
  },
  {
   "cell_type": "markdown",
   "metadata": {},
   "source": [
    "Сформируем нулевую гипотезу: средние пользовательские рейтинги платформ Xbox One и PC одинаковые. Альтернативная гипотеза: средние пользовательские рейтинги платформ Xbox One и PC разные."
   ]
  },
  {
   "cell_type": "code",
   "execution_count": 82,
   "metadata": {},
   "outputs": [],
   "source": [
    "data_for_hyposis = new_data.loc[new_data['user_score'].isna()==False]"
   ]
  },
  {
   "cell_type": "code",
   "execution_count": 83,
   "metadata": {},
   "outputs": [
    {
     "name": "stdout",
     "output_type": "stream",
     "text": [
      "p-значение: 0.980998110649032\n",
      "Не получилось отвергнуть нулевую гипотезу\n"
     ]
    }
   ],
   "source": [
    "# уровень значимости \n",
    "alpha = 0.01\n",
    "# проверка гипотезу о равенстве среднего двух генеральных совокупностей \n",
    "results = st.ttest_ind(data_for_hyposis.loc[new_data['platform']=='XOne']['user_score'], \n",
    "                       data_for_hyposis.loc[new_data['platform']=='PC']['user_score'])\n",
    "print('p-значение:', results.pvalue)\n",
    "if results.pvalue < alpha:\n",
    "    print('Отвергаем нулевую гипотезу')\n",
    "else:\n",
    "    print('Не получилось отвергнуть нулевую гипотезу') "
   ]
  },
  {
   "cell_type": "markdown",
   "metadata": {},
   "source": [
    "Значит, средние пользовательские рейтинги платформ Xbox One и PC одинаковые."
   ]
  },
  {
   "cell_type": "markdown",
   "metadata": {},
   "source": [
    "<div class=\"alert alert-success\">\n",
    "<font size=\"5\"><b>Комментарий ревьюера</b></font>\n",
    "\n",
    "Успех: Гипотезы сформулированы и проверены верно.\n",
    "\n",
    "</div>"
   ]
  },
  {
   "cell_type": "markdown",
   "metadata": {},
   "source": [
    "### Вторая гипотеза"
   ]
  },
  {
   "cell_type": "markdown",
   "metadata": {},
   "source": [
    "Сформируем нулевую гипотезу: средние пользовательские рейтинги жанров Action (англ. «действие», экшен-игры) и Sports (англ. «спортивные соревнования») одинаковые. Альтернативная гипотеза: средние пользовательские рейтинги жанров Action (англ. «действие», экшен-игры) и Sports (англ. «спортивные соревнования») разные."
   ]
  },
  {
   "cell_type": "code",
   "execution_count": 84,
   "metadata": {},
   "outputs": [
    {
     "name": "stdout",
     "output_type": "stream",
     "text": [
      "p-значение: 7.839124224330309e-19\n",
      "Отвергаем нулевую гипотезу\n"
     ]
    }
   ],
   "source": [
    "# уровень значимости \n",
    "alpha = 0.01\n",
    "# проверка гипотезу о равенстве среднего двух генеральных совокупностей \n",
    "results = st.ttest_ind(data_for_hyposis.loc[new_data['genre']=='Action']['user_score'], \n",
    "                       data_for_hyposis.loc[new_data['genre']=='Sports']['user_score'])\n",
    "print('p-значение:', results.pvalue)\n",
    "if results.pvalue < alpha:\n",
    "    print('Отвергаем нулевую гипотезу')\n",
    "else:\n",
    "    print('Не получилось отвергнуть нулевую гипотезу') "
   ]
  },
  {
   "cell_type": "markdown",
   "metadata": {},
   "source": [
    "Следовательно, средние пользовательские рейтинги жанров Action и Sports разные"
   ]
  },
  {
   "cell_type": "markdown",
   "metadata": {},
   "source": [
    "<div class=\"alert alert-danger\">\n",
    "<font size=\"5\"><b>Комментарий ревьюера</b></font>\n",
    "\n",
    "Ошибка: Нулевая гипотеза всегда формулируется с учетом знака равенства. При получении pvalue меньше alpha, мы отклоняем нулевую гипотезу в пользу альтернативной. Исправь данную неточность. \n",
    "\n",
    "</div>"
   ]
  },
  {
   "cell_type": "markdown",
   "metadata": {},
   "source": [
    "<div class=\"alert alert-info\"> <b>Комментарий студентки:</b> Исправила</div>"
   ]
  },
  {
   "cell_type": "markdown",
   "metadata": {},
   "source": [
    "<div class=\"alert alert-danger\">\n",
    "<font size=\"5\"><b>Комментарий ревьюера 2</b></font>\n",
    "\n",
    "Ошибка: Формулировки первой гипотезы корректны. Но во второй пока нет. У тебя приведены две противоречащих формулировки альтернативной гипотезы. Исправь эту неточность. Сделай по аналогии с первой гипотезой: нулевая гипотеза формулируется с учетом равенства, а альтернативная, наоборот, гласит о неравенстве. \n",
    "    \n",
    "Также nan при проверке гипотез получаться не должен. Это значит, что в выборках содержатся пропуски, а стат. тесты к ним неустойчивы. Исправь это, отфильтруй пропуски из данных и посмотри на получаемые результаты. \n",
    "\n",
    "</div>"
   ]
  },
  {
   "cell_type": "markdown",
   "metadata": {},
   "source": [
    "<div class=\"alert alert-info\"> <b>Комментарий студентки:</b> Исправила</div>"
   ]
  },
  {
   "cell_type": "markdown",
   "metadata": {},
   "source": [
    "## Вывод"
   ]
  },
  {
   "cell_type": "markdown",
   "metadata": {},
   "source": [
    "Мною был проанализирован рынок видеоигр. Оказалось, чтобы сделать прогноз на 2017 год, необходимо смотреть на продажи за последние 10 лет, так как примерно за это время платформа начинает стареть и на замену ей приходит другая. С 2006 по 2016 год по количеству продаж лидировали X360, Wii, PS3 и DS. Однако за последние пару лет их продажи сильно упали. За последние пару лет продажи сильно выросли у XOne и PS4, что делает эти две платформы потенциально прибыльными. \n",
    "\n",
    "Высокие оценки критиков являются второстепенным фактором больших продаж. А вот оценки пользователей чаще всего не влияют на продажи. \n",
    "\n",
    "У игр самый популярный жанр Action и Sports. У них же самые высокие продажи. Самые непопулярные жанры - Puzzle и Strategy. А самые низкие продажи у Strategy и Adventure.\n",
    "\n",
    "В Северной Америке чаще всего люди играют на платформах X360, PS3, WiiU, PS3, DS в игры жанра Action, Sports, Shooter, Shooter и Role-Playing, имеющие рейтинг ля взрослых или для всех.\n",
    "В Европе чаще всего люди играют на платформах PC, PS3, PS4, WiiU, XOne в игры жанра Action, Sports, Shooter, Misc, Racing рейтинга для взрослых или для всех.\n",
    "В Японии чаще всего люди играют на платформах 3DS, DS, PSP, PSV, WiiU в игры жанра Role-Playing, Action, Misc, Sports и Platform рейтинга для подростков или для всех.\n",
    "Есть координальное отличие между Америко-европейским и японским рынками. \n",
    "\n",
    "Также было выяснено, что средние пользовательские рейтинги платформ Xbox One и PC одинаковые, и что средние пользовательские рейтинги жанров Action и Sports одинаковые."
   ]
  },
  {
   "cell_type": "markdown",
   "metadata": {},
   "source": [
    "<div class=\"alert alert-success\">\n",
    "<font size=\"5\"><b>Комментарий ревьюера</b></font>\n",
    "\n",
    "Успех: Выводы описаны грамотно. Приведены ответы на главные вопросы проекта. В выводах можно приводить полученные ранее значения. Также можно расписать все, что было сделано в ходе проведения работы. Еще лучше будет, если приведешь рекомендации для компании по дальнейшим действиям. \n",
    "\n",
    "</div>"
   ]
  },
  {
   "cell_type": "markdown",
   "metadata": {},
   "source": [
    "<div class=\"alert alert-info\">\n",
    "<font size=\"5\"><b>Комментарий ревьюера</b></font>\n",
    "\n",
    "Если тебе нравится тема визуализации, то можешь изучить и методы библиотеки seaborn. Она позволяет строить довольно презентабельные графики. Рекомендую ресурс https://www.python-graph-gallery.com/. В нем содержится большая библиотека графиков с готовым кодом, который можно использовать при работе.\n",
    "\n",
    "Ты проделала большую работу, молодец! Ты овладела важными на данном этапе обучения инструментами, а также довольно качественно их используешь. Критических замечаний немного. Однако их важно исправить. Думаю, сделать это тебе не составит труда. Жду твою работу :)\n",
    "\n",
    "</div>"
   ]
  },
  {
   "cell_type": "markdown",
   "metadata": {},
   "source": [
    "<div class=\"alert alert-info\">\n",
    "<font size=\"5\"><b>Комментарий ревьюера 2</b></font>\n",
    "\n",
    "Почти все помарки исправлены. Отличная работа! Осталось совсем немного. Как исправишь неточности при проведении стат. тестов, присылай проект снова. Постараюсь допроверить твой проект как можно быстрее :)\n",
    "\n",
    "</div>"
   ]
  }
 ],
 "metadata": {
  "ExecuteTimeLog": [
   {
    "duration": 564,
    "start_time": "2021-12-15T17:06:10.375Z"
   },
   {
    "duration": 83,
    "start_time": "2021-12-15T17:06:39.412Z"
   },
   {
    "duration": 57,
    "start_time": "2021-12-15T17:09:54.660Z"
   },
   {
    "duration": 14,
    "start_time": "2021-12-15T17:10:08.161Z"
   },
   {
    "duration": 45,
    "start_time": "2021-12-15T17:11:13.815Z"
   },
   {
    "duration": 2,
    "start_time": "2021-12-15T17:14:19.872Z"
   },
   {
    "duration": 4,
    "start_time": "2021-12-15T17:14:40.109Z"
   },
   {
    "duration": 790,
    "start_time": "2021-12-15T17:14:58.804Z"
   },
   {
    "duration": 376,
    "start_time": "2021-12-15T17:17:24.015Z"
   },
   {
    "duration": 3,
    "start_time": "2021-12-15T17:19:13.300Z"
   },
   {
    "duration": 4,
    "start_time": "2021-12-15T17:19:41.260Z"
   },
   {
    "duration": 274,
    "start_time": "2021-12-15T17:25:42.393Z"
   },
   {
    "duration": 9,
    "start_time": "2021-12-15T17:28:42.397Z"
   },
   {
    "duration": 7,
    "start_time": "2021-12-15T17:34:55.906Z"
   },
   {
    "duration": 6,
    "start_time": "2021-12-15T17:35:09.216Z"
   },
   {
    "duration": 4,
    "start_time": "2021-12-15T17:35:21.012Z"
   },
   {
    "duration": 4,
    "start_time": "2021-12-15T17:35:25.451Z"
   },
   {
    "duration": 311,
    "start_time": "2021-12-15T17:37:27.997Z"
   },
   {
    "duration": 291,
    "start_time": "2021-12-15T17:38:28.814Z"
   },
   {
    "duration": 279,
    "start_time": "2021-12-15T17:39:12.383Z"
   },
   {
    "duration": 4,
    "start_time": "2021-12-15T17:39:17.614Z"
   },
   {
    "duration": 6,
    "start_time": "2021-12-15T17:40:29.785Z"
   },
   {
    "duration": 281,
    "start_time": "2021-12-15T17:41:13.517Z"
   },
   {
    "duration": 61,
    "start_time": "2021-12-15T17:42:00.864Z"
   },
   {
    "duration": -55,
    "start_time": "2021-12-15T18:00:42.243Z"
   },
   {
    "duration": 6723,
    "start_time": "2021-12-15T18:00:45.767Z"
   },
   {
    "duration": 589,
    "start_time": "2021-12-15T18:01:16.796Z"
   },
   {
    "duration": 384,
    "start_time": "2021-12-15T18:01:39.122Z"
   },
   {
    "duration": 6813,
    "start_time": "2021-12-15T18:01:43.833Z"
   },
   {
    "duration": -131,
    "start_time": "2021-12-15T18:01:50.779Z"
   },
   {
    "duration": 7305,
    "start_time": "2021-12-15T18:01:58.222Z"
   },
   {
    "duration": 7979,
    "start_time": "2021-12-15T18:03:54.293Z"
   },
   {
    "duration": 105,
    "start_time": "2021-12-15T18:11:40.265Z"
   },
   {
    "duration": 394,
    "start_time": "2021-12-15T18:11:52.887Z"
   },
   {
    "duration": 7906,
    "start_time": "2021-12-15T18:12:44.272Z"
   },
   {
    "duration": 1003,
    "start_time": "2021-12-15T18:12:59.035Z"
   },
   {
    "duration": 76,
    "start_time": "2021-12-15T18:13:00.040Z"
   },
   {
    "duration": 10,
    "start_time": "2021-12-15T18:13:00.118Z"
   },
   {
    "duration": 28,
    "start_time": "2021-12-15T18:13:00.130Z"
   },
   {
    "duration": 15,
    "start_time": "2021-12-15T18:13:00.161Z"
   },
   {
    "duration": 19,
    "start_time": "2021-12-15T18:13:00.178Z"
   },
   {
    "duration": 5,
    "start_time": "2021-12-15T18:13:00.199Z"
   },
   {
    "duration": 9,
    "start_time": "2021-12-15T18:13:00.206Z"
   },
   {
    "duration": 376,
    "start_time": "2021-12-15T18:13:00.217Z"
   },
   {
    "duration": -71,
    "start_time": "2021-12-15T18:13:00.666Z"
   },
   {
    "duration": 849,
    "start_time": "2021-12-15T18:13:55.850Z"
   },
   {
    "duration": 283,
    "start_time": "2021-12-15T18:16:06.075Z"
   },
   {
    "duration": 288,
    "start_time": "2021-12-15T18:16:31.754Z"
   },
   {
    "duration": 350,
    "start_time": "2021-12-15T18:17:32.389Z"
   },
   {
    "duration": 273,
    "start_time": "2021-12-15T18:18:43.546Z"
   },
   {
    "duration": 27,
    "start_time": "2021-12-15T18:18:51.341Z"
   },
   {
    "duration": 12,
    "start_time": "2021-12-15T18:19:13.355Z"
   },
   {
    "duration": 966,
    "start_time": "2021-12-15T18:19:36.773Z"
   },
   {
    "duration": 64,
    "start_time": "2021-12-15T18:19:37.741Z"
   },
   {
    "duration": 10,
    "start_time": "2021-12-15T18:19:37.807Z"
   },
   {
    "duration": 3,
    "start_time": "2021-12-15T18:19:37.819Z"
   },
   {
    "duration": 24,
    "start_time": "2021-12-15T18:19:37.824Z"
   },
   {
    "duration": 15,
    "start_time": "2021-12-15T18:19:37.849Z"
   },
   {
    "duration": 4,
    "start_time": "2021-12-15T18:19:37.866Z"
   },
   {
    "duration": 5,
    "start_time": "2021-12-15T18:19:37.872Z"
   },
   {
    "duration": 339,
    "start_time": "2021-12-15T18:19:37.879Z"
   },
   {
    "duration": -85,
    "start_time": "2021-12-15T18:19:38.305Z"
   },
   {
    "duration": 20,
    "start_time": "2021-12-15T18:20:25.497Z"
   },
   {
    "duration": 17,
    "start_time": "2021-12-15T18:20:41.868Z"
   },
   {
    "duration": 17,
    "start_time": "2021-12-15T18:21:00.111Z"
   },
   {
    "duration": 272,
    "start_time": "2021-12-15T18:21:22.310Z"
   },
   {
    "duration": 25,
    "start_time": "2021-12-15T18:21:27.843Z"
   },
   {
    "duration": 21,
    "start_time": "2021-12-15T18:21:53.374Z"
   },
   {
    "duration": 992,
    "start_time": "2021-12-15T18:22:03.404Z"
   },
   {
    "duration": 73,
    "start_time": "2021-12-15T18:22:04.400Z"
   },
   {
    "duration": 11,
    "start_time": "2021-12-15T18:22:04.475Z"
   },
   {
    "duration": 37,
    "start_time": "2021-12-15T18:22:04.488Z"
   },
   {
    "duration": 31,
    "start_time": "2021-12-15T18:22:04.527Z"
   },
   {
    "duration": 65,
    "start_time": "2021-12-15T18:22:04.560Z"
   },
   {
    "duration": 25,
    "start_time": "2021-12-15T18:22:04.627Z"
   },
   {
    "duration": 8,
    "start_time": "2021-12-15T18:22:04.655Z"
   },
   {
    "duration": 18,
    "start_time": "2021-12-15T18:22:04.665Z"
   },
   {
    "duration": 601,
    "start_time": "2021-12-15T18:22:04.685Z"
   },
   {
    "duration": 26,
    "start_time": "2021-12-15T18:23:21.439Z"
   },
   {
    "duration": 891,
    "start_time": "2021-12-15T18:23:36.794Z"
   },
   {
    "duration": 60,
    "start_time": "2021-12-15T18:23:37.687Z"
   },
   {
    "duration": 12,
    "start_time": "2021-12-15T18:23:37.749Z"
   },
   {
    "duration": 5,
    "start_time": "2021-12-15T18:23:37.764Z"
   },
   {
    "duration": 10,
    "start_time": "2021-12-15T18:23:37.770Z"
   },
   {
    "duration": 9,
    "start_time": "2021-12-15T18:23:37.782Z"
   },
   {
    "duration": 4,
    "start_time": "2021-12-15T18:23:37.792Z"
   },
   {
    "duration": 5,
    "start_time": "2021-12-15T18:23:37.798Z"
   },
   {
    "duration": 59,
    "start_time": "2021-12-15T18:23:37.804Z"
   },
   {
    "duration": 337,
    "start_time": "2021-12-15T18:23:37.865Z"
   },
   {
    "duration": 20,
    "start_time": "2021-12-15T18:24:24.053Z"
   },
   {
    "duration": 886,
    "start_time": "2021-12-15T18:24:36.703Z"
   },
   {
    "duration": 64,
    "start_time": "2021-12-15T18:24:37.591Z"
   },
   {
    "duration": 13,
    "start_time": "2021-12-15T18:24:37.659Z"
   },
   {
    "duration": 25,
    "start_time": "2021-12-15T18:24:37.674Z"
   },
   {
    "duration": 36,
    "start_time": "2021-12-15T18:24:37.701Z"
   },
   {
    "duration": 24,
    "start_time": "2021-12-15T18:24:37.739Z"
   },
   {
    "duration": 27,
    "start_time": "2021-12-15T18:24:37.764Z"
   },
   {
    "duration": 27,
    "start_time": "2021-12-15T18:24:37.793Z"
   },
   {
    "duration": 46,
    "start_time": "2021-12-15T18:24:37.822Z"
   },
   {
    "duration": 428,
    "start_time": "2021-12-15T18:24:37.870Z"
   },
   {
    "duration": 298,
    "start_time": "2021-12-15T18:24:53.940Z"
   },
   {
    "duration": 284,
    "start_time": "2021-12-15T18:25:10.939Z"
   },
   {
    "duration": 446,
    "start_time": "2021-12-15T18:25:58.934Z"
   },
   {
    "duration": 969,
    "start_time": "2021-12-15T18:26:06.139Z"
   },
   {
    "duration": 66,
    "start_time": "2021-12-15T18:26:07.110Z"
   },
   {
    "duration": 9,
    "start_time": "2021-12-15T18:26:07.181Z"
   },
   {
    "duration": 4,
    "start_time": "2021-12-15T18:26:07.193Z"
   },
   {
    "duration": 5,
    "start_time": "2021-12-15T18:26:07.198Z"
   },
   {
    "duration": 44,
    "start_time": "2021-12-15T18:26:07.205Z"
   },
   {
    "duration": 5,
    "start_time": "2021-12-15T18:26:07.252Z"
   },
   {
    "duration": 4,
    "start_time": "2021-12-15T18:26:07.260Z"
   },
   {
    "duration": 399,
    "start_time": "2021-12-15T18:26:07.266Z"
   },
   {
    "duration": -75,
    "start_time": "2021-12-15T18:26:07.742Z"
   },
   {
    "duration": 978,
    "start_time": "2021-12-15T18:26:32.613Z"
   },
   {
    "duration": 67,
    "start_time": "2021-12-15T18:26:33.595Z"
   },
   {
    "duration": 10,
    "start_time": "2021-12-15T18:26:33.666Z"
   },
   {
    "duration": 34,
    "start_time": "2021-12-15T18:26:33.678Z"
   },
   {
    "duration": 41,
    "start_time": "2021-12-15T18:26:33.714Z"
   },
   {
    "duration": 37,
    "start_time": "2021-12-15T18:26:33.757Z"
   },
   {
    "duration": 29,
    "start_time": "2021-12-15T18:26:33.796Z"
   },
   {
    "duration": 32,
    "start_time": "2021-12-15T18:26:33.827Z"
   },
   {
    "duration": 43,
    "start_time": "2021-12-15T18:26:33.861Z"
   },
   {
    "duration": 366,
    "start_time": "2021-12-15T18:26:33.906Z"
   },
   {
    "duration": 290,
    "start_time": "2021-12-15T18:27:08.022Z"
   },
   {
    "duration": 1018,
    "start_time": "2021-12-15T18:27:19.542Z"
   },
   {
    "duration": 61,
    "start_time": "2021-12-15T18:27:20.563Z"
   },
   {
    "duration": 19,
    "start_time": "2021-12-15T18:27:20.626Z"
   },
   {
    "duration": 5,
    "start_time": "2021-12-15T18:27:20.648Z"
   },
   {
    "duration": 9,
    "start_time": "2021-12-15T18:27:20.655Z"
   },
   {
    "duration": 9,
    "start_time": "2021-12-15T18:27:20.666Z"
   },
   {
    "duration": 4,
    "start_time": "2021-12-15T18:27:20.677Z"
   },
   {
    "duration": 5,
    "start_time": "2021-12-15T18:27:20.683Z"
   },
   {
    "duration": 56,
    "start_time": "2021-12-15T18:27:20.690Z"
   },
   {
    "duration": 352,
    "start_time": "2021-12-15T18:27:20.748Z"
   },
   {
    "duration": 23,
    "start_time": "2021-12-15T18:27:31.892Z"
   },
   {
    "duration": 1568,
    "start_time": "2021-12-15T18:28:40.491Z"
   },
   {
    "duration": 2229,
    "start_time": "2021-12-15T18:28:57.591Z"
   },
   {
    "duration": 65,
    "start_time": "2021-12-15T18:28:59.822Z"
   },
   {
    "duration": 14,
    "start_time": "2021-12-15T18:28:59.889Z"
   },
   {
    "duration": 4,
    "start_time": "2021-12-15T18:28:59.906Z"
   },
   {
    "duration": 6,
    "start_time": "2021-12-15T18:28:59.944Z"
   },
   {
    "duration": 12,
    "start_time": "2021-12-15T18:28:59.952Z"
   },
   {
    "duration": 5,
    "start_time": "2021-12-15T18:28:59.966Z"
   },
   {
    "duration": 5,
    "start_time": "2021-12-15T18:28:59.974Z"
   },
   {
    "duration": 1179,
    "start_time": "2021-12-15T18:28:59.981Z"
   },
   {
    "duration": -183,
    "start_time": "2021-12-15T18:29:01.345Z"
   },
   {
    "duration": 269,
    "start_time": "2021-12-15T18:31:00.838Z"
   },
   {
    "duration": 280,
    "start_time": "2021-12-15T18:31:18.791Z"
   },
   {
    "duration": 24,
    "start_time": "2021-12-15T18:31:42.711Z"
   },
   {
    "duration": 27,
    "start_time": "2021-12-15T18:33:32.455Z"
   },
   {
    "duration": 21,
    "start_time": "2021-12-15T18:33:44.063Z"
   },
   {
    "duration": 21,
    "start_time": "2021-12-15T18:34:11.259Z"
   },
   {
    "duration": 926,
    "start_time": "2021-12-15T18:34:31.549Z"
   },
   {
    "duration": 62,
    "start_time": "2021-12-15T18:34:32.477Z"
   },
   {
    "duration": 9,
    "start_time": "2021-12-15T18:34:32.541Z"
   },
   {
    "duration": 25,
    "start_time": "2021-12-15T18:34:32.552Z"
   },
   {
    "duration": 31,
    "start_time": "2021-12-15T18:34:32.579Z"
   },
   {
    "duration": 11,
    "start_time": "2021-12-15T18:34:32.612Z"
   },
   {
    "duration": 16,
    "start_time": "2021-12-15T18:34:32.625Z"
   },
   {
    "duration": 23,
    "start_time": "2021-12-15T18:34:32.643Z"
   },
   {
    "duration": 48,
    "start_time": "2021-12-15T18:34:32.668Z"
   },
   {
    "duration": 3,
    "start_time": "2021-12-15T18:34:32.718Z"
   },
   {
    "duration": 20,
    "start_time": "2021-12-15T18:35:05.740Z"
   },
   {
    "duration": 927,
    "start_time": "2021-12-15T18:35:14.861Z"
   },
   {
    "duration": 63,
    "start_time": "2021-12-15T18:35:15.790Z"
   },
   {
    "duration": 10,
    "start_time": "2021-12-15T18:35:15.855Z"
   },
   {
    "duration": 4,
    "start_time": "2021-12-15T18:35:15.867Z"
   },
   {
    "duration": 5,
    "start_time": "2021-12-15T18:35:15.873Z"
   },
   {
    "duration": 9,
    "start_time": "2021-12-15T18:35:15.880Z"
   },
   {
    "duration": 5,
    "start_time": "2021-12-15T18:35:15.891Z"
   },
   {
    "duration": 5,
    "start_time": "2021-12-15T18:35:15.898Z"
   },
   {
    "duration": 61,
    "start_time": "2021-12-15T18:35:15.905Z"
   },
   {
    "duration": 4,
    "start_time": "2021-12-15T18:35:15.968Z"
   },
   {
    "duration": 952,
    "start_time": "2021-12-15T18:38:20.723Z"
   },
   {
    "duration": 63,
    "start_time": "2021-12-15T18:38:21.677Z"
   },
   {
    "duration": 13,
    "start_time": "2021-12-15T18:38:21.743Z"
   },
   {
    "duration": 6,
    "start_time": "2021-12-15T18:38:21.758Z"
   },
   {
    "duration": 7,
    "start_time": "2021-12-15T18:38:21.766Z"
   },
   {
    "duration": 11,
    "start_time": "2021-12-15T18:38:21.775Z"
   },
   {
    "duration": 6,
    "start_time": "2021-12-15T18:38:21.788Z"
   },
   {
    "duration": 49,
    "start_time": "2021-12-15T18:38:21.796Z"
   },
   {
    "duration": 18,
    "start_time": "2021-12-15T18:38:21.847Z"
   },
   {
    "duration": 4,
    "start_time": "2021-12-15T18:38:21.866Z"
   },
   {
    "duration": 8,
    "start_time": "2021-12-15T18:38:46.298Z"
   },
   {
    "duration": 15,
    "start_time": "2021-12-15T18:39:54.782Z"
   },
   {
    "duration": 9,
    "start_time": "2021-12-15T18:44:07.336Z"
   },
   {
    "duration": 4,
    "start_time": "2021-12-15T18:45:45.614Z"
   },
   {
    "duration": 11,
    "start_time": "2021-12-15T18:49:41.554Z"
   },
   {
    "duration": 22,
    "start_time": "2021-12-15T18:49:53.898Z"
   },
   {
    "duration": 8,
    "start_time": "2021-12-15T18:53:29.385Z"
   },
   {
    "duration": 993,
    "start_time": "2021-12-15T18:55:02.315Z"
   },
   {
    "duration": 62,
    "start_time": "2021-12-15T18:55:03.310Z"
   },
   {
    "duration": 9,
    "start_time": "2021-12-15T18:55:03.374Z"
   },
   {
    "duration": 6,
    "start_time": "2021-12-15T18:55:03.386Z"
   },
   {
    "duration": 6,
    "start_time": "2021-12-15T18:55:03.394Z"
   },
   {
    "duration": 11,
    "start_time": "2021-12-15T18:55:03.401Z"
   },
   {
    "duration": 10,
    "start_time": "2021-12-15T18:55:03.445Z"
   },
   {
    "duration": 7,
    "start_time": "2021-12-15T18:55:03.459Z"
   },
   {
    "duration": 20,
    "start_time": "2021-12-15T18:55:03.469Z"
   },
   {
    "duration": 8,
    "start_time": "2021-12-15T18:55:03.491Z"
   },
   {
    "duration": 53,
    "start_time": "2021-12-15T18:55:03.501Z"
   },
   {
    "duration": 7,
    "start_time": "2021-12-15T18:55:03.556Z"
   },
   {
    "duration": 6,
    "start_time": "2021-12-15T18:55:03.565Z"
   },
   {
    "duration": 11,
    "start_time": "2021-12-15T18:55:03.575Z"
   },
   {
    "duration": 8,
    "start_time": "2021-12-15T18:55:03.588Z"
   },
   {
    "duration": 8,
    "start_time": "2021-12-15T19:02:17.732Z"
   },
   {
    "duration": 344,
    "start_time": "2021-12-15T19:02:54.839Z"
   },
   {
    "duration": 6,
    "start_time": "2021-12-15T19:03:02.269Z"
   },
   {
    "duration": 7,
    "start_time": "2021-12-15T19:03:08.705Z"
   },
   {
    "duration": 7,
    "start_time": "2021-12-15T19:03:43.189Z"
   },
   {
    "duration": 323,
    "start_time": "2021-12-15T19:09:20.262Z"
   },
   {
    "duration": 3,
    "start_time": "2021-12-15T19:10:51.393Z"
   },
   {
    "duration": 280,
    "start_time": "2021-12-15T19:10:56.890Z"
   },
   {
    "duration": 118,
    "start_time": "2021-12-15T19:12:35.953Z"
   },
   {
    "duration": 134,
    "start_time": "2021-12-15T19:12:39.591Z"
   },
   {
    "duration": 138,
    "start_time": "2021-12-15T19:13:25.940Z"
   },
   {
    "duration": 131,
    "start_time": "2021-12-15T19:14:07.124Z"
   },
   {
    "duration": 130,
    "start_time": "2021-12-15T19:14:13.091Z"
   },
   {
    "duration": 133,
    "start_time": "2021-12-15T19:14:23.549Z"
   },
   {
    "duration": 134,
    "start_time": "2021-12-15T19:14:39.582Z"
   },
   {
    "duration": 131,
    "start_time": "2021-12-15T19:14:48.674Z"
   },
   {
    "duration": 448,
    "start_time": "2021-12-15T19:21:41.542Z"
   },
   {
    "duration": 21113,
    "start_time": "2021-12-15T19:21:56.848Z"
   },
   {
    "duration": 11,
    "start_time": "2021-12-15T19:44:02.252Z"
   },
   {
    "duration": 22,
    "start_time": "2021-12-15T19:46:24.620Z"
   },
   {
    "duration": 25680,
    "start_time": "2021-12-15T20:20:06.522Z"
   },
   {
    "duration": 21946,
    "start_time": "2021-12-15T20:21:00.793Z"
   },
   {
    "duration": 12335,
    "start_time": "2021-12-15T20:23:04.620Z"
   },
   {
    "duration": 339,
    "start_time": "2021-12-15T20:23:30.627Z"
   },
   {
    "duration": 252,
    "start_time": "2021-12-15T20:25:06.635Z"
   },
   {
    "duration": 253,
    "start_time": "2021-12-15T20:25:19.713Z"
   },
   {
    "duration": 234,
    "start_time": "2021-12-15T20:25:31.713Z"
   },
   {
    "duration": 307,
    "start_time": "2021-12-15T20:25:53.558Z"
   },
   {
    "duration": 260,
    "start_time": "2021-12-15T20:26:12.859Z"
   },
   {
    "duration": 264,
    "start_time": "2021-12-15T20:26:58.193Z"
   },
   {
    "duration": 265,
    "start_time": "2021-12-15T20:31:08.820Z"
   },
   {
    "duration": 775,
    "start_time": "2021-12-15T20:31:26.077Z"
   },
   {
    "duration": 607,
    "start_time": "2021-12-15T20:31:48.115Z"
   },
   {
    "duration": 273,
    "start_time": "2021-12-15T20:32:44.298Z"
   },
   {
    "duration": 280,
    "start_time": "2021-12-15T20:33:06.508Z"
   },
   {
    "duration": 263,
    "start_time": "2021-12-15T20:34:16.820Z"
   },
   {
    "duration": 33,
    "start_time": "2021-12-15T20:34:45.043Z"
   },
   {
    "duration": 8,
    "start_time": "2021-12-15T20:36:03.332Z"
   },
   {
    "duration": 234,
    "start_time": "2021-12-15T20:40:22.122Z"
   },
   {
    "duration": 237,
    "start_time": "2021-12-15T20:40:32.016Z"
   },
   {
    "duration": 234,
    "start_time": "2021-12-15T20:40:45.653Z"
   },
   {
    "duration": 222,
    "start_time": "2021-12-15T20:40:58.191Z"
   },
   {
    "duration": 710,
    "start_time": "2021-12-15T20:41:19.792Z"
   },
   {
    "duration": 236,
    "start_time": "2021-12-15T20:41:44.750Z"
   },
   {
    "duration": 228,
    "start_time": "2021-12-15T20:42:02.951Z"
   },
   {
    "duration": 230,
    "start_time": "2021-12-15T20:42:28.063Z"
   },
   {
    "duration": 223,
    "start_time": "2021-12-15T20:43:35.408Z"
   },
   {
    "duration": 267,
    "start_time": "2021-12-15T20:43:59.899Z"
   },
   {
    "duration": 254,
    "start_time": "2021-12-15T20:44:55.984Z"
   },
   {
    "duration": 295,
    "start_time": "2021-12-16T04:04:35.033Z"
   },
   {
    "duration": 1096,
    "start_time": "2021-12-16T04:04:44.202Z"
   },
   {
    "duration": 66,
    "start_time": "2021-12-16T04:04:45.300Z"
   },
   {
    "duration": 11,
    "start_time": "2021-12-16T04:04:45.368Z"
   },
   {
    "duration": 4,
    "start_time": "2021-12-16T04:04:45.381Z"
   },
   {
    "duration": 6,
    "start_time": "2021-12-16T04:04:45.387Z"
   },
   {
    "duration": 14,
    "start_time": "2021-12-16T04:04:45.395Z"
   },
   {
    "duration": 57,
    "start_time": "2021-12-16T04:04:45.411Z"
   },
   {
    "duration": 5,
    "start_time": "2021-12-16T04:04:45.719Z"
   },
   {
    "duration": 16,
    "start_time": "2021-12-16T04:04:45.726Z"
   },
   {
    "duration": 14,
    "start_time": "2021-12-16T04:04:45.744Z"
   },
   {
    "duration": 14,
    "start_time": "2021-12-16T04:04:45.761Z"
   },
   {
    "duration": 6,
    "start_time": "2021-12-16T04:04:45.778Z"
   },
   {
    "duration": 5,
    "start_time": "2021-12-16T04:04:50.680Z"
   },
   {
    "duration": 28,
    "start_time": "2021-12-16T04:04:50.688Z"
   },
   {
    "duration": 19,
    "start_time": "2021-12-16T04:04:50.718Z"
   },
   {
    "duration": 18,
    "start_time": "2021-12-16T04:04:50.739Z"
   },
   {
    "duration": 29,
    "start_time": "2021-12-16T04:04:50.759Z"
   },
   {
    "duration": 245,
    "start_time": "2021-12-16T04:04:50.790Z"
   },
   {
    "duration": 251,
    "start_time": "2021-12-16T04:04:51.037Z"
   },
   {
    "duration": 240,
    "start_time": "2021-12-16T04:04:51.290Z"
   },
   {
    "duration": 233,
    "start_time": "2021-12-16T04:04:51.532Z"
   },
   {
    "duration": 27,
    "start_time": "2021-12-16T04:04:51.768Z"
   },
   {
    "duration": 9,
    "start_time": "2021-12-16T04:04:51.797Z"
   },
   {
    "duration": 266,
    "start_time": "2021-12-16T04:04:51.807Z"
   },
   {
    "duration": 239,
    "start_time": "2021-12-16T04:04:52.075Z"
   },
   {
    "duration": 232,
    "start_time": "2021-12-16T04:04:52.315Z"
   },
   {
    "duration": 229,
    "start_time": "2021-12-16T04:04:52.549Z"
   },
   {
    "duration": 338,
    "start_time": "2021-12-16T04:04:52.780Z"
   },
   {
    "duration": 239,
    "start_time": "2021-12-16T04:04:53.120Z"
   },
   {
    "duration": 223,
    "start_time": "2021-12-16T04:04:53.361Z"
   },
   {
    "duration": 226,
    "start_time": "2021-12-16T04:04:53.586Z"
   },
   {
    "duration": 231,
    "start_time": "2021-12-16T04:04:53.814Z"
   },
   {
    "duration": 237,
    "start_time": "2021-12-16T04:04:54.047Z"
   },
   {
    "duration": 257,
    "start_time": "2021-12-16T04:04:54.286Z"
   },
   {
    "duration": 220,
    "start_time": "2021-12-16T04:05:57.111Z"
   },
   {
    "duration": 215,
    "start_time": "2021-12-16T04:06:02.275Z"
   },
   {
    "duration": 226,
    "start_time": "2021-12-16T04:06:10.757Z"
   },
   {
    "duration": 233,
    "start_time": "2021-12-16T04:06:16.035Z"
   },
   {
    "duration": 335,
    "start_time": "2021-12-16T04:06:21.301Z"
   },
   {
    "duration": 218,
    "start_time": "2021-12-16T04:06:28.782Z"
   },
   {
    "duration": 220,
    "start_time": "2021-12-16T04:06:33.361Z"
   },
   {
    "duration": 213,
    "start_time": "2021-12-16T04:06:37.717Z"
   },
   {
    "duration": 223,
    "start_time": "2021-12-16T04:06:43.832Z"
   },
   {
    "duration": 233,
    "start_time": "2021-12-16T04:06:48.279Z"
   },
   {
    "duration": 87,
    "start_time": "2021-12-16T04:31:15.076Z"
   },
   {
    "duration": 116,
    "start_time": "2021-12-16T04:33:04.136Z"
   },
   {
    "duration": 114,
    "start_time": "2021-12-16T04:34:08.636Z"
   },
   {
    "duration": 185,
    "start_time": "2021-12-16T04:37:10.348Z"
   },
   {
    "duration": 186,
    "start_time": "2021-12-16T04:37:26.975Z"
   },
   {
    "duration": 115,
    "start_time": "2021-12-16T04:45:19.352Z"
   },
   {
    "duration": 205,
    "start_time": "2021-12-16T04:48:29.039Z"
   },
   {
    "duration": 135,
    "start_time": "2021-12-16T04:48:44.479Z"
   },
   {
    "duration": 120,
    "start_time": "2021-12-16T04:49:05.529Z"
   },
   {
    "duration": 118,
    "start_time": "2021-12-16T04:49:14.872Z"
   },
   {
    "duration": 114,
    "start_time": "2021-12-16T04:49:21.992Z"
   },
   {
    "duration": 115,
    "start_time": "2021-12-16T04:49:50.809Z"
   },
   {
    "duration": 125,
    "start_time": "2021-12-16T04:50:21.869Z"
   },
   {
    "duration": 121,
    "start_time": "2021-12-16T04:50:27.312Z"
   },
   {
    "duration": 119,
    "start_time": "2021-12-16T04:50:58.472Z"
   },
   {
    "duration": 122,
    "start_time": "2021-12-16T04:51:05.279Z"
   },
   {
    "duration": 134,
    "start_time": "2021-12-16T04:54:03.267Z"
   },
   {
    "duration": 112,
    "start_time": "2021-12-16T04:54:11.808Z"
   },
   {
    "duration": 393,
    "start_time": "2021-12-16T05:00:46.953Z"
   },
   {
    "duration": 295,
    "start_time": "2021-12-16T05:01:05.475Z"
   },
   {
    "duration": 302,
    "start_time": "2021-12-16T05:01:35.639Z"
   },
   {
    "duration": 271,
    "start_time": "2021-12-16T05:02:13.192Z"
   },
   {
    "duration": 272,
    "start_time": "2021-12-16T05:02:25.120Z"
   },
   {
    "duration": 8,
    "start_time": "2021-12-16T05:19:03.321Z"
   },
   {
    "duration": 9,
    "start_time": "2021-12-16T05:19:47.032Z"
   },
   {
    "duration": 218,
    "start_time": "2021-12-16T05:22:45.359Z"
   },
   {
    "duration": 221,
    "start_time": "2021-12-16T05:23:21.666Z"
   },
   {
    "duration": 219,
    "start_time": "2021-12-16T05:25:26.600Z"
   },
   {
    "duration": 118,
    "start_time": "2021-12-16T05:27:01.167Z"
   },
   {
    "duration": 7193,
    "start_time": "2021-12-16T05:27:12.087Z"
   },
   {
    "duration": 278,
    "start_time": "2021-12-16T05:28:09.947Z"
   },
   {
    "duration": 789,
    "start_time": "2021-12-16T05:28:16.887Z"
   },
   {
    "duration": 87,
    "start_time": "2021-12-16T05:28:55.568Z"
   },
   {
    "duration": 85,
    "start_time": "2021-12-16T05:29:00.947Z"
   },
   {
    "duration": 95,
    "start_time": "2021-12-16T05:29:39.493Z"
   },
   {
    "duration": 1016,
    "start_time": "2021-12-16T05:29:47.996Z"
   },
   {
    "duration": 335,
    "start_time": "2021-12-16T05:30:18.637Z"
   },
   {
    "duration": 293,
    "start_time": "2021-12-16T05:30:39.806Z"
   },
   {
    "duration": 315,
    "start_time": "2021-12-16T05:31:22.326Z"
   },
   {
    "duration": 391,
    "start_time": "2021-12-16T05:31:59.088Z"
   },
   {
    "duration": 8,
    "start_time": "2021-12-16T06:32:58.142Z"
   },
   {
    "duration": 9,
    "start_time": "2021-12-16T06:33:47.868Z"
   },
   {
    "duration": 9,
    "start_time": "2021-12-16T06:33:51.942Z"
   },
   {
    "duration": 135,
    "start_time": "2021-12-16T06:43:01.322Z"
   },
   {
    "duration": 321,
    "start_time": "2021-12-16T11:37:06.714Z"
   },
   {
    "duration": 1408,
    "start_time": "2021-12-16T11:37:16.644Z"
   },
   {
    "duration": 262,
    "start_time": "2021-12-16T11:37:18.055Z"
   },
   {
    "duration": 14,
    "start_time": "2021-12-16T11:37:18.320Z"
   },
   {
    "duration": 35,
    "start_time": "2021-12-16T11:37:18.336Z"
   },
   {
    "duration": 10,
    "start_time": "2021-12-16T11:37:18.374Z"
   },
   {
    "duration": 12,
    "start_time": "2021-12-16T11:37:18.388Z"
   },
   {
    "duration": 10,
    "start_time": "2021-12-16T11:37:18.403Z"
   },
   {
    "duration": 10,
    "start_time": "2021-12-16T11:37:18.417Z"
   },
   {
    "duration": 61,
    "start_time": "2021-12-16T11:37:18.431Z"
   },
   {
    "duration": 11,
    "start_time": "2021-12-16T11:37:18.495Z"
   },
   {
    "duration": 12,
    "start_time": "2021-12-16T11:37:18.509Z"
   },
   {
    "duration": 5,
    "start_time": "2021-12-16T11:37:18.523Z"
   },
   {
    "duration": 40,
    "start_time": "2021-12-16T11:37:18.530Z"
   },
   {
    "duration": 12,
    "start_time": "2021-12-16T11:37:18.573Z"
   },
   {
    "duration": 11,
    "start_time": "2021-12-16T11:37:18.588Z"
   },
   {
    "duration": 9,
    "start_time": "2021-12-16T11:37:18.602Z"
   },
   {
    "duration": 54,
    "start_time": "2021-12-16T11:37:18.614Z"
   },
   {
    "duration": 422,
    "start_time": "2021-12-16T11:37:18.671Z"
   },
   {
    "duration": 432,
    "start_time": "2021-12-16T11:37:19.095Z"
   },
   {
    "duration": 476,
    "start_time": "2021-12-16T11:37:19.530Z"
   },
   {
    "duration": 413,
    "start_time": "2021-12-16T11:37:20.009Z"
   },
   {
    "duration": 51,
    "start_time": "2021-12-16T11:37:20.424Z"
   },
   {
    "duration": 12,
    "start_time": "2021-12-16T11:37:20.478Z"
   },
   {
    "duration": 436,
    "start_time": "2021-12-16T11:37:20.492Z"
   },
   {
    "duration": 413,
    "start_time": "2021-12-16T11:37:20.931Z"
   },
   {
    "duration": 412,
    "start_time": "2021-12-16T11:37:21.347Z"
   },
   {
    "duration": 421,
    "start_time": "2021-12-16T11:37:21.769Z"
   },
   {
    "duration": 516,
    "start_time": "2021-12-16T11:37:22.193Z"
   },
   {
    "duration": 417,
    "start_time": "2021-12-16T11:37:22.712Z"
   },
   {
    "duration": 419,
    "start_time": "2021-12-16T11:37:23.132Z"
   },
   {
    "duration": 410,
    "start_time": "2021-12-16T11:37:23.553Z"
   },
   {
    "duration": 403,
    "start_time": "2021-12-16T11:37:23.967Z"
   },
   {
    "duration": 408,
    "start_time": "2021-12-16T11:37:24.372Z"
   },
   {
    "duration": 455,
    "start_time": "2021-12-16T11:37:24.783Z"
   },
   {
    "duration": 239,
    "start_time": "2021-12-16T11:37:25.241Z"
   },
   {
    "duration": 221,
    "start_time": "2021-12-16T11:37:25.483Z"
   },
   {
    "duration": 227,
    "start_time": "2021-12-16T11:37:25.708Z"
   },
   {
    "duration": 233,
    "start_time": "2021-12-16T11:37:25.937Z"
   },
   {
    "duration": 299,
    "start_time": "2021-12-16T11:37:26.175Z"
   },
   {
    "duration": 227,
    "start_time": "2021-12-16T11:37:26.476Z"
   },
   {
    "duration": 224,
    "start_time": "2021-12-16T11:37:26.706Z"
   },
   {
    "duration": 250,
    "start_time": "2021-12-16T11:37:26.933Z"
   },
   {
    "duration": 237,
    "start_time": "2021-12-16T11:37:27.186Z"
   },
   {
    "duration": 456,
    "start_time": "2021-12-16T11:37:27.425Z"
   },
   {
    "duration": 448,
    "start_time": "2021-12-16T11:37:27.885Z"
   },
   {
    "duration": 462,
    "start_time": "2021-12-16T11:37:28.335Z"
   },
   {
    "duration": 416,
    "start_time": "2021-12-16T11:37:28.799Z"
   },
   {
    "duration": 10,
    "start_time": "2021-12-16T11:37:29.218Z"
   },
   {
    "duration": 16,
    "start_time": "2021-12-16T11:37:29.230Z"
   },
   {
    "duration": 422,
    "start_time": "2021-12-16T11:37:29.268Z"
   },
   {
    "duration": -82,
    "start_time": "2021-12-16T11:37:29.774Z"
   },
   {
    "duration": -150,
    "start_time": "2021-12-16T11:37:29.843Z"
   },
   {
    "duration": -150,
    "start_time": "2021-12-16T11:37:29.845Z"
   },
   {
    "duration": 271,
    "start_time": "2021-12-16T11:38:56.625Z"
   },
   {
    "duration": 13,
    "start_time": "2021-12-16T11:39:26.594Z"
   },
   {
    "duration": 15,
    "start_time": "2021-12-16T11:39:46.969Z"
   },
   {
    "duration": 11,
    "start_time": "2021-12-16T11:41:11.603Z"
   },
   {
    "duration": 12,
    "start_time": "2021-12-16T11:41:21.983Z"
   },
   {
    "duration": 13,
    "start_time": "2021-12-16T11:42:36.473Z"
   },
   {
    "duration": 1346,
    "start_time": "2021-12-16T11:42:50.616Z"
   },
   {
    "duration": 89,
    "start_time": "2021-12-16T11:42:51.967Z"
   },
   {
    "duration": 23,
    "start_time": "2021-12-16T11:42:52.059Z"
   },
   {
    "duration": 5,
    "start_time": "2021-12-16T11:42:52.085Z"
   },
   {
    "duration": 8,
    "start_time": "2021-12-16T11:42:52.092Z"
   },
   {
    "duration": 20,
    "start_time": "2021-12-16T11:42:52.102Z"
   },
   {
    "duration": 43,
    "start_time": "2021-12-16T11:42:52.125Z"
   },
   {
    "duration": 8,
    "start_time": "2021-12-16T11:42:52.176Z"
   },
   {
    "duration": 20,
    "start_time": "2021-12-16T11:42:52.189Z"
   },
   {
    "duration": 13,
    "start_time": "2021-12-16T11:42:52.213Z"
   },
   {
    "duration": 49,
    "start_time": "2021-12-16T11:42:52.228Z"
   },
   {
    "duration": 8,
    "start_time": "2021-12-16T11:42:52.280Z"
   },
   {
    "duration": 6,
    "start_time": "2021-12-16T11:42:52.291Z"
   },
   {
    "duration": 12,
    "start_time": "2021-12-16T11:42:52.299Z"
   },
   {
    "duration": 9,
    "start_time": "2021-12-16T11:42:52.314Z"
   },
   {
    "duration": 52,
    "start_time": "2021-12-16T11:42:52.325Z"
   },
   {
    "duration": 20,
    "start_time": "2021-12-16T11:42:52.380Z"
   },
   {
    "duration": 438,
    "start_time": "2021-12-16T11:42:52.402Z"
   },
   {
    "duration": 451,
    "start_time": "2021-12-16T11:42:52.843Z"
   },
   {
    "duration": 412,
    "start_time": "2021-12-16T11:42:53.297Z"
   },
   {
    "duration": 402,
    "start_time": "2021-12-16T11:42:53.711Z"
   },
   {
    "duration": 55,
    "start_time": "2021-12-16T11:42:54.116Z"
   },
   {
    "duration": 14,
    "start_time": "2021-12-16T11:42:54.173Z"
   },
   {
    "duration": 450,
    "start_time": "2021-12-16T11:42:54.190Z"
   },
   {
    "duration": 419,
    "start_time": "2021-12-16T11:42:54.642Z"
   },
   {
    "duration": 404,
    "start_time": "2021-12-16T11:42:55.063Z"
   },
   {
    "duration": 436,
    "start_time": "2021-12-16T11:42:55.475Z"
   },
   {
    "duration": 524,
    "start_time": "2021-12-16T11:42:55.914Z"
   },
   {
    "duration": 418,
    "start_time": "2021-12-16T11:42:56.441Z"
   },
   {
    "duration": 406,
    "start_time": "2021-12-16T11:42:56.861Z"
   },
   {
    "duration": 413,
    "start_time": "2021-12-16T11:42:57.269Z"
   },
   {
    "duration": 420,
    "start_time": "2021-12-16T11:42:57.685Z"
   },
   {
    "duration": 416,
    "start_time": "2021-12-16T11:42:58.108Z"
   },
   {
    "duration": 461,
    "start_time": "2021-12-16T11:42:58.526Z"
   },
   {
    "duration": 243,
    "start_time": "2021-12-16T11:42:58.989Z"
   },
   {
    "duration": 220,
    "start_time": "2021-12-16T11:42:59.235Z"
   },
   {
    "duration": 229,
    "start_time": "2021-12-16T11:42:59.457Z"
   },
   {
    "duration": 236,
    "start_time": "2021-12-16T11:42:59.688Z"
   },
   {
    "duration": 313,
    "start_time": "2021-12-16T11:42:59.926Z"
   },
   {
    "duration": 221,
    "start_time": "2021-12-16T11:43:00.242Z"
   },
   {
    "duration": 217,
    "start_time": "2021-12-16T11:43:00.475Z"
   },
   {
    "duration": 243,
    "start_time": "2021-12-16T11:43:00.694Z"
   },
   {
    "duration": 231,
    "start_time": "2021-12-16T11:43:00.940Z"
   },
   {
    "duration": 440,
    "start_time": "2021-12-16T11:43:01.174Z"
   },
   {
    "duration": 468,
    "start_time": "2021-12-16T11:43:01.617Z"
   },
   {
    "duration": 412,
    "start_time": "2021-12-16T11:43:02.088Z"
   },
   {
    "duration": 423,
    "start_time": "2021-12-16T11:43:02.503Z"
   },
   {
    "duration": 10,
    "start_time": "2021-12-16T11:43:02.929Z"
   },
   {
    "duration": 50,
    "start_time": "2021-12-16T11:43:02.942Z"
   },
   {
    "duration": 48,
    "start_time": "2021-12-16T11:43:02.995Z"
   },
   {
    "duration": 187,
    "start_time": "2021-12-16T11:43:03.045Z"
   },
   {
    "duration": 10,
    "start_time": "2021-12-16T11:43:03.235Z"
   },
   {
    "duration": 14,
    "start_time": "2021-12-16T11:43:03.273Z"
   },
   {
    "duration": 464,
    "start_time": "2021-12-16T11:43:56.389Z"
   },
   {
    "duration": 290,
    "start_time": "2021-12-16T11:44:16.148Z"
   },
   {
    "duration": 1331,
    "start_time": "2021-12-16T11:44:22.215Z"
   },
   {
    "duration": 87,
    "start_time": "2021-12-16T11:44:23.549Z"
   },
   {
    "duration": 32,
    "start_time": "2021-12-16T11:44:23.639Z"
   },
   {
    "duration": 7,
    "start_time": "2021-12-16T11:44:23.673Z"
   },
   {
    "duration": 13,
    "start_time": "2021-12-16T11:44:23.682Z"
   },
   {
    "duration": 16,
    "start_time": "2021-12-16T11:44:23.697Z"
   },
   {
    "duration": 10,
    "start_time": "2021-12-16T11:44:23.716Z"
   },
   {
    "duration": 37,
    "start_time": "2021-12-16T11:44:23.731Z"
   },
   {
    "duration": 23,
    "start_time": "2021-12-16T11:44:23.774Z"
   },
   {
    "duration": 11,
    "start_time": "2021-12-16T11:44:23.800Z"
   },
   {
    "duration": 13,
    "start_time": "2021-12-16T11:44:23.813Z"
   },
   {
    "duration": 10,
    "start_time": "2021-12-16T11:44:23.868Z"
   },
   {
    "duration": 5,
    "start_time": "2021-12-16T11:44:23.881Z"
   },
   {
    "duration": 7,
    "start_time": "2021-12-16T11:44:23.889Z"
   },
   {
    "duration": 9,
    "start_time": "2021-12-16T11:44:23.899Z"
   },
   {
    "duration": 15,
    "start_time": "2021-12-16T11:44:23.911Z"
   },
   {
    "duration": 62,
    "start_time": "2021-12-16T11:44:23.929Z"
   },
   {
    "duration": 432,
    "start_time": "2021-12-16T11:44:23.993Z"
   },
   {
    "duration": 424,
    "start_time": "2021-12-16T11:44:24.427Z"
   },
   {
    "duration": 429,
    "start_time": "2021-12-16T11:44:24.853Z"
   },
   {
    "duration": 405,
    "start_time": "2021-12-16T11:44:25.286Z"
   },
   {
    "duration": 39,
    "start_time": "2021-12-16T11:44:25.694Z"
   },
   {
    "duration": 41,
    "start_time": "2021-12-16T11:44:25.735Z"
   },
   {
    "duration": 427,
    "start_time": "2021-12-16T11:44:25.779Z"
   },
   {
    "duration": 413,
    "start_time": "2021-12-16T11:44:26.209Z"
   },
   {
    "duration": 407,
    "start_time": "2021-12-16T11:44:26.628Z"
   },
   {
    "duration": 436,
    "start_time": "2021-12-16T11:44:27.038Z"
   },
   {
    "duration": 507,
    "start_time": "2021-12-16T11:44:27.477Z"
   },
   {
    "duration": 448,
    "start_time": "2021-12-16T11:44:27.987Z"
   },
   {
    "duration": 489,
    "start_time": "2021-12-16T11:44:28.438Z"
   },
   {
    "duration": 457,
    "start_time": "2021-12-16T11:44:28.930Z"
   },
   {
    "duration": 437,
    "start_time": "2021-12-16T11:44:29.389Z"
   },
   {
    "duration": 470,
    "start_time": "2021-12-16T11:44:29.829Z"
   },
   {
    "duration": 477,
    "start_time": "2021-12-16T11:44:30.302Z"
   },
   {
    "duration": 282,
    "start_time": "2021-12-16T11:44:30.782Z"
   },
   {
    "duration": 240,
    "start_time": "2021-12-16T11:44:31.068Z"
   },
   {
    "duration": 218,
    "start_time": "2021-12-16T11:44:31.311Z"
   },
   {
    "duration": 290,
    "start_time": "2021-12-16T11:44:31.532Z"
   },
   {
    "duration": 366,
    "start_time": "2021-12-16T11:44:31.825Z"
   },
   {
    "duration": 251,
    "start_time": "2021-12-16T11:44:32.194Z"
   },
   {
    "duration": 262,
    "start_time": "2021-12-16T11:44:32.448Z"
   },
   {
    "duration": 235,
    "start_time": "2021-12-16T11:44:32.713Z"
   },
   {
    "duration": 230,
    "start_time": "2021-12-16T11:44:32.950Z"
   },
   {
    "duration": 439,
    "start_time": "2021-12-16T11:44:33.182Z"
   },
   {
    "duration": 585,
    "start_time": "2021-12-16T11:44:33.624Z"
   },
   {
    "duration": 445,
    "start_time": "2021-12-16T11:44:34.211Z"
   },
   {
    "duration": 440,
    "start_time": "2021-12-16T11:44:34.659Z"
   },
   {
    "duration": 10,
    "start_time": "2021-12-16T11:44:35.102Z"
   },
   {
    "duration": 13,
    "start_time": "2021-12-16T11:44:35.115Z"
   },
   {
    "duration": 436,
    "start_time": "2021-12-16T11:44:35.131Z"
   },
   {
    "duration": -304,
    "start_time": "2021-12-16T11:44:35.874Z"
   },
   {
    "duration": -305,
    "start_time": "2021-12-16T11:44:35.876Z"
   },
   {
    "duration": -306,
    "start_time": "2021-12-16T11:44:35.878Z"
   },
   {
    "duration": 291,
    "start_time": "2021-12-16T11:44:51.760Z"
   },
   {
    "duration": 26,
    "start_time": "2021-12-16T11:45:14.060Z"
   },
   {
    "duration": 27,
    "start_time": "2021-12-16T11:47:46.180Z"
   },
   {
    "duration": 28,
    "start_time": "2021-12-16T11:48:02.251Z"
   },
   {
    "duration": 17,
    "start_time": "2021-12-16T12:02:49.246Z"
   },
   {
    "duration": 28,
    "start_time": "2021-12-16T12:02:56.086Z"
   },
   {
    "duration": 320,
    "start_time": "2021-12-16T12:03:16.180Z"
   },
   {
    "duration": 394,
    "start_time": "2021-12-16T12:03:34.526Z"
   },
   {
    "duration": 294,
    "start_time": "2021-12-16T12:04:56.276Z"
   },
   {
    "duration": 30,
    "start_time": "2021-12-16T12:05:11.776Z"
   },
   {
    "duration": 110,
    "start_time": "2021-12-16T12:06:52.786Z"
   },
   {
    "duration": 30,
    "start_time": "2021-12-16T12:07:03.311Z"
   },
   {
    "duration": 30,
    "start_time": "2021-12-16T12:07:21.511Z"
   },
   {
    "duration": 28,
    "start_time": "2021-12-16T12:07:45.590Z"
   },
   {
    "duration": 34,
    "start_time": "2021-12-16T12:08:01.951Z"
   },
   {
    "duration": 29,
    "start_time": "2021-12-16T12:08:18.035Z"
   },
   {
    "duration": 36,
    "start_time": "2021-12-16T12:08:46.020Z"
   },
   {
    "duration": 38,
    "start_time": "2021-12-16T12:08:53.831Z"
   },
   {
    "duration": 44,
    "start_time": "2021-12-16T12:09:06.546Z"
   },
   {
    "duration": 165,
    "start_time": "2021-12-16T12:09:21.891Z"
   },
   {
    "duration": 287,
    "start_time": "2021-12-16T12:11:36.681Z"
   },
   {
    "duration": 288,
    "start_time": "2021-12-16T12:11:45.871Z"
   },
   {
    "duration": 285,
    "start_time": "2021-12-16T12:12:03.211Z"
   },
   {
    "duration": 7160,
    "start_time": "2021-12-16T12:12:19.221Z"
   },
   {
    "duration": 24,
    "start_time": "2021-12-16T12:12:37.721Z"
   },
   {
    "duration": 34,
    "start_time": "2021-12-16T12:13:12.416Z"
   },
   {
    "duration": 173,
    "start_time": "2021-12-16T12:13:28.261Z"
   },
   {
    "duration": 39,
    "start_time": "2021-12-16T12:15:35.026Z"
   },
   {
    "duration": 37,
    "start_time": "2021-12-16T12:15:49.091Z"
   },
   {
    "duration": 170,
    "start_time": "2021-12-16T12:15:59.210Z"
   },
   {
    "duration": 94,
    "start_time": "2021-12-16T12:16:36.665Z"
   },
   {
    "duration": 10,
    "start_time": "2021-12-16T12:18:32.311Z"
   },
   {
    "duration": 10,
    "start_time": "2021-12-16T12:19:05.463Z"
   },
   {
    "duration": 11,
    "start_time": "2021-12-16T12:21:36.010Z"
   },
   {
    "duration": 328,
    "start_time": "2021-12-16T12:30:37.541Z"
   },
   {
    "duration": 13,
    "start_time": "2021-12-16T12:37:16.036Z"
   },
   {
    "duration": 16,
    "start_time": "2021-12-16T12:39:12.865Z"
   },
   {
    "duration": 13,
    "start_time": "2021-12-16T12:39:50.921Z"
   },
   {
    "duration": 224,
    "start_time": "2021-12-16T20:15:20.968Z"
   },
   {
    "duration": 1100,
    "start_time": "2021-12-16T20:15:28.906Z"
   },
   {
    "duration": 67,
    "start_time": "2021-12-16T20:15:30.008Z"
   },
   {
    "duration": 14,
    "start_time": "2021-12-16T20:15:30.077Z"
   },
   {
    "duration": 9,
    "start_time": "2021-12-16T20:15:30.093Z"
   },
   {
    "duration": 6,
    "start_time": "2021-12-16T20:15:30.104Z"
   },
   {
    "duration": 15,
    "start_time": "2021-12-16T20:15:30.112Z"
   },
   {
    "duration": 12,
    "start_time": "2021-12-16T20:15:30.129Z"
   },
   {
    "duration": 29,
    "start_time": "2021-12-16T20:15:30.144Z"
   },
   {
    "duration": 15,
    "start_time": "2021-12-16T20:15:30.176Z"
   },
   {
    "duration": 27,
    "start_time": "2021-12-16T20:15:30.192Z"
   },
   {
    "duration": 24,
    "start_time": "2021-12-16T20:15:30.220Z"
   },
   {
    "duration": 36,
    "start_time": "2021-12-16T20:15:30.245Z"
   },
   {
    "duration": 17,
    "start_time": "2021-12-16T20:15:30.283Z"
   },
   {
    "duration": 18,
    "start_time": "2021-12-16T20:15:30.302Z"
   },
   {
    "duration": 20,
    "start_time": "2021-12-16T20:15:30.322Z"
   },
   {
    "duration": 17,
    "start_time": "2021-12-16T20:15:30.343Z"
   },
   {
    "duration": 26,
    "start_time": "2021-12-16T20:15:30.361Z"
   },
   {
    "duration": 280,
    "start_time": "2021-12-16T20:15:30.389Z"
   },
   {
    "duration": 271,
    "start_time": "2021-12-16T20:15:30.671Z"
   },
   {
    "duration": 263,
    "start_time": "2021-12-16T20:15:30.944Z"
   },
   {
    "duration": 263,
    "start_time": "2021-12-16T20:15:31.208Z"
   },
   {
    "duration": 30,
    "start_time": "2021-12-16T20:15:31.473Z"
   },
   {
    "duration": 9,
    "start_time": "2021-12-16T20:15:31.507Z"
   },
   {
    "duration": 286,
    "start_time": "2021-12-16T20:15:31.518Z"
   },
   {
    "duration": 256,
    "start_time": "2021-12-16T20:15:31.806Z"
   },
   {
    "duration": 251,
    "start_time": "2021-12-16T20:15:32.064Z"
   },
   {
    "duration": 269,
    "start_time": "2021-12-16T20:15:32.317Z"
   },
   {
    "duration": 336,
    "start_time": "2021-12-16T20:15:32.592Z"
   },
   {
    "duration": 293,
    "start_time": "2021-12-16T20:15:32.930Z"
   },
   {
    "duration": 256,
    "start_time": "2021-12-16T20:15:33.225Z"
   },
   {
    "duration": 248,
    "start_time": "2021-12-16T20:15:33.483Z"
   },
   {
    "duration": 250,
    "start_time": "2021-12-16T20:15:33.733Z"
   },
   {
    "duration": 263,
    "start_time": "2021-12-16T20:15:33.984Z"
   },
   {
    "duration": 289,
    "start_time": "2021-12-16T20:15:34.249Z"
   },
   {
    "duration": 152,
    "start_time": "2021-12-16T20:15:34.539Z"
   },
   {
    "duration": 144,
    "start_time": "2021-12-16T20:15:34.693Z"
   },
   {
    "duration": 139,
    "start_time": "2021-12-16T20:15:34.839Z"
   },
   {
    "duration": 150,
    "start_time": "2021-12-16T20:15:34.980Z"
   },
   {
    "duration": 224,
    "start_time": "2021-12-16T20:15:35.132Z"
   },
   {
    "duration": 139,
    "start_time": "2021-12-16T20:15:35.357Z"
   },
   {
    "duration": 145,
    "start_time": "2021-12-16T20:15:35.498Z"
   },
   {
    "duration": 151,
    "start_time": "2021-12-16T20:15:35.644Z"
   },
   {
    "duration": 140,
    "start_time": "2021-12-16T20:15:35.796Z"
   },
   {
    "duration": 305,
    "start_time": "2021-12-16T20:15:35.938Z"
   },
   {
    "duration": 302,
    "start_time": "2021-12-16T20:15:36.245Z"
   },
   {
    "duration": 302,
    "start_time": "2021-12-16T20:15:36.548Z"
   },
   {
    "duration": 342,
    "start_time": "2021-12-16T20:15:36.851Z"
   },
   {
    "duration": 7,
    "start_time": "2021-12-16T20:15:37.195Z"
   },
   {
    "duration": 10,
    "start_time": "2021-12-16T20:15:37.203Z"
   },
   {
    "duration": 25,
    "start_time": "2021-12-16T20:15:37.215Z"
   },
   {
    "duration": 130,
    "start_time": "2021-12-16T20:15:37.242Z"
   },
   {
    "duration": 34,
    "start_time": "2021-12-16T20:15:37.374Z"
   },
   {
    "duration": 116,
    "start_time": "2021-12-16T20:15:37.410Z"
   },
   {
    "duration": 24,
    "start_time": "2021-12-16T20:15:37.528Z"
   },
   {
    "duration": 191,
    "start_time": "2021-12-16T20:15:37.553Z"
   },
   {
    "duration": 7,
    "start_time": "2021-12-16T20:15:37.745Z"
   },
   {
    "duration": 7,
    "start_time": "2021-12-16T20:15:37.754Z"
   },
   {
    "duration": 31,
    "start_time": "2021-12-16T20:15:37.762Z"
   },
   {
    "duration": 9,
    "start_time": "2021-12-16T20:15:37.794Z"
   },
   {
    "duration": 9,
    "start_time": "2021-12-16T20:15:37.804Z"
   },
   {
    "duration": 5,
    "start_time": "2021-12-16T20:20:33.971Z"
   },
   {
    "duration": 7,
    "start_time": "2021-12-16T20:22:08.745Z"
   },
   {
    "duration": 7,
    "start_time": "2021-12-16T20:22:23.242Z"
   },
   {
    "duration": 8,
    "start_time": "2021-12-16T20:23:05.293Z"
   },
   {
    "duration": 8,
    "start_time": "2021-12-16T20:23:21.588Z"
   },
   {
    "duration": 23,
    "start_time": "2021-12-16T20:42:48.467Z"
   },
   {
    "duration": 1533,
    "start_time": "2021-12-17T14:10:21.983Z"
   },
   {
    "duration": 89,
    "start_time": "2021-12-17T14:10:23.518Z"
   },
   {
    "duration": 21,
    "start_time": "2021-12-17T14:10:23.611Z"
   },
   {
    "duration": 24,
    "start_time": "2021-12-17T14:10:23.635Z"
   },
   {
    "duration": 20,
    "start_time": "2021-12-17T14:10:23.662Z"
   },
   {
    "duration": 22,
    "start_time": "2021-12-17T14:10:23.684Z"
   },
   {
    "duration": 36,
    "start_time": "2021-12-17T14:10:23.709Z"
   },
   {
    "duration": 14,
    "start_time": "2021-12-17T14:10:23.749Z"
   },
   {
    "duration": 21,
    "start_time": "2021-12-17T14:10:23.766Z"
   },
   {
    "duration": 19,
    "start_time": "2021-12-17T14:10:23.789Z"
   },
   {
    "duration": 22,
    "start_time": "2021-12-17T14:10:23.811Z"
   },
   {
    "duration": 12,
    "start_time": "2021-12-17T14:10:23.842Z"
   },
   {
    "duration": 27,
    "start_time": "2021-12-17T14:10:23.857Z"
   },
   {
    "duration": 24,
    "start_time": "2021-12-17T14:10:23.887Z"
   },
   {
    "duration": 27,
    "start_time": "2021-12-17T14:10:23.913Z"
   },
   {
    "duration": 17,
    "start_time": "2021-12-17T14:10:23.944Z"
   },
   {
    "duration": 18,
    "start_time": "2021-12-17T14:10:23.964Z"
   },
   {
    "duration": 438,
    "start_time": "2021-12-17T14:10:23.985Z"
   },
   {
    "duration": 425,
    "start_time": "2021-12-17T14:10:24.426Z"
   },
   {
    "duration": 491,
    "start_time": "2021-12-17T14:10:24.855Z"
   },
   {
    "duration": 422,
    "start_time": "2021-12-17T14:10:25.349Z"
   },
   {
    "duration": 53,
    "start_time": "2021-12-17T14:10:25.774Z"
   },
   {
    "duration": 11,
    "start_time": "2021-12-17T14:10:25.835Z"
   },
   {
    "duration": 411,
    "start_time": "2021-12-17T14:10:25.849Z"
   },
   {
    "duration": 387,
    "start_time": "2021-12-17T14:10:26.264Z"
   },
   {
    "duration": 376,
    "start_time": "2021-12-17T14:10:26.654Z"
   },
   {
    "duration": 376,
    "start_time": "2021-12-17T14:10:27.037Z"
   },
   {
    "duration": 484,
    "start_time": "2021-12-17T14:10:27.416Z"
   },
   {
    "duration": 445,
    "start_time": "2021-12-17T14:10:27.902Z"
   },
   {
    "duration": 411,
    "start_time": "2021-12-17T14:10:28.350Z"
   },
   {
    "duration": 410,
    "start_time": "2021-12-17T14:10:28.764Z"
   },
   {
    "duration": 397,
    "start_time": "2021-12-17T14:10:29.176Z"
   },
   {
    "duration": 380,
    "start_time": "2021-12-17T14:10:29.576Z"
   },
   {
    "duration": 436,
    "start_time": "2021-12-17T14:10:29.959Z"
   },
   {
    "duration": 217,
    "start_time": "2021-12-17T14:10:30.398Z"
   },
   {
    "duration": 209,
    "start_time": "2021-12-17T14:10:30.617Z"
   },
   {
    "duration": 214,
    "start_time": "2021-12-17T14:10:30.828Z"
   },
   {
    "duration": 237,
    "start_time": "2021-12-17T14:10:31.044Z"
   },
   {
    "duration": 294,
    "start_time": "2021-12-17T14:10:31.283Z"
   },
   {
    "duration": 213,
    "start_time": "2021-12-17T14:10:31.579Z"
   },
   {
    "duration": 222,
    "start_time": "2021-12-17T14:10:31.794Z"
   },
   {
    "duration": 230,
    "start_time": "2021-12-17T14:10:32.023Z"
   },
   {
    "duration": 419,
    "start_time": "2021-12-17T14:10:32.256Z"
   },
   {
    "duration": 463,
    "start_time": "2021-12-17T14:10:32.677Z"
   },
   {
    "duration": 452,
    "start_time": "2021-12-17T14:10:33.145Z"
   },
   {
    "duration": 440,
    "start_time": "2021-12-17T14:10:33.600Z"
   },
   {
    "duration": 10,
    "start_time": "2021-12-17T14:10:34.043Z"
   },
   {
    "duration": 42,
    "start_time": "2021-12-17T14:10:34.055Z"
   },
   {
    "duration": 67,
    "start_time": "2021-12-17T14:10:34.101Z"
   },
   {
    "duration": 155,
    "start_time": "2021-12-17T14:10:34.171Z"
   },
   {
    "duration": 35,
    "start_time": "2021-12-17T14:10:34.328Z"
   },
   {
    "duration": 188,
    "start_time": "2021-12-17T14:10:34.365Z"
   },
   {
    "duration": 33,
    "start_time": "2021-12-17T14:10:34.555Z"
   },
   {
    "duration": 177,
    "start_time": "2021-12-17T14:10:34.590Z"
   },
   {
    "duration": 10,
    "start_time": "2021-12-17T14:10:34.770Z"
   },
   {
    "duration": 24,
    "start_time": "2021-12-17T14:10:34.782Z"
   },
   {
    "duration": 38,
    "start_time": "2021-12-17T14:10:34.808Z"
   },
   {
    "duration": 17,
    "start_time": "2021-12-17T14:10:34.849Z"
   },
   {
    "duration": 26,
    "start_time": "2021-12-17T14:10:34.868Z"
   },
   {
    "duration": 17,
    "start_time": "2021-12-17T14:10:34.896Z"
   },
   {
    "duration": 80,
    "start_time": "2021-12-17T14:10:34.915Z"
   },
   {
    "duration": 37,
    "start_time": "2021-12-17T14:10:34.998Z"
   },
   {
    "duration": 369,
    "start_time": "2021-12-29T11:03:21.549Z"
   },
   {
    "duration": 1051,
    "start_time": "2021-12-29T11:03:28.211Z"
   },
   {
    "duration": 55,
    "start_time": "2021-12-29T11:03:29.264Z"
   },
   {
    "duration": 9,
    "start_time": "2021-12-29T11:03:29.321Z"
   },
   {
    "duration": 4,
    "start_time": "2021-12-29T11:03:29.331Z"
   },
   {
    "duration": 5,
    "start_time": "2021-12-29T11:03:29.337Z"
   },
   {
    "duration": 9,
    "start_time": "2021-12-29T11:03:29.344Z"
   },
   {
    "duration": 8,
    "start_time": "2021-12-29T11:03:29.354Z"
   },
   {
    "duration": 4,
    "start_time": "2021-12-29T11:03:29.365Z"
   },
   {
    "duration": 13,
    "start_time": "2021-12-29T11:03:29.371Z"
   },
   {
    "duration": 46,
    "start_time": "2021-12-29T11:03:29.385Z"
   },
   {
    "duration": 9,
    "start_time": "2021-12-29T11:03:29.432Z"
   },
   {
    "duration": 3,
    "start_time": "2021-12-29T11:03:29.443Z"
   },
   {
    "duration": 400,
    "start_time": "2021-12-29T11:03:29.448Z"
   },
   {
    "duration": -45,
    "start_time": "2021-12-29T11:03:29.895Z"
   },
   {
    "duration": -46,
    "start_time": "2021-12-29T11:03:29.897Z"
   },
   {
    "duration": -48,
    "start_time": "2021-12-29T11:03:29.900Z"
   },
   {
    "duration": -50,
    "start_time": "2021-12-29T11:03:29.903Z"
   },
   {
    "duration": -52,
    "start_time": "2021-12-29T11:03:29.905Z"
   },
   {
    "duration": -53,
    "start_time": "2021-12-29T11:03:29.907Z"
   },
   {
    "duration": -54,
    "start_time": "2021-12-29T11:03:29.909Z"
   },
   {
    "duration": -85,
    "start_time": "2021-12-29T11:03:29.940Z"
   },
   {
    "duration": -87,
    "start_time": "2021-12-29T11:03:29.943Z"
   },
   {
    "duration": -88,
    "start_time": "2021-12-29T11:03:29.945Z"
   },
   {
    "duration": -90,
    "start_time": "2021-12-29T11:03:29.947Z"
   },
   {
    "duration": -91,
    "start_time": "2021-12-29T11:03:29.949Z"
   },
   {
    "duration": -93,
    "start_time": "2021-12-29T11:03:29.951Z"
   },
   {
    "duration": -94,
    "start_time": "2021-12-29T11:03:29.953Z"
   },
   {
    "duration": -96,
    "start_time": "2021-12-29T11:03:29.955Z"
   },
   {
    "duration": -97,
    "start_time": "2021-12-29T11:03:29.957Z"
   },
   {
    "duration": -98,
    "start_time": "2021-12-29T11:03:29.959Z"
   },
   {
    "duration": -100,
    "start_time": "2021-12-29T11:03:29.961Z"
   },
   {
    "duration": -101,
    "start_time": "2021-12-29T11:03:29.963Z"
   },
   {
    "duration": -103,
    "start_time": "2021-12-29T11:03:29.966Z"
   },
   {
    "duration": -105,
    "start_time": "2021-12-29T11:03:29.969Z"
   },
   {
    "duration": -109,
    "start_time": "2021-12-29T11:03:29.974Z"
   },
   {
    "duration": -111,
    "start_time": "2021-12-29T11:03:29.977Z"
   },
   {
    "duration": -112,
    "start_time": "2021-12-29T11:03:29.980Z"
   },
   {
    "duration": -115,
    "start_time": "2021-12-29T11:03:29.983Z"
   },
   {
    "duration": -116,
    "start_time": "2021-12-29T11:03:29.985Z"
   },
   {
    "duration": -118,
    "start_time": "2021-12-29T11:03:29.988Z"
   },
   {
    "duration": -119,
    "start_time": "2021-12-29T11:03:29.990Z"
   },
   {
    "duration": -121,
    "start_time": "2021-12-29T11:03:29.993Z"
   },
   {
    "duration": -122,
    "start_time": "2021-12-29T11:03:29.995Z"
   },
   {
    "duration": -123,
    "start_time": "2021-12-29T11:03:29.997Z"
   },
   {
    "duration": -125,
    "start_time": "2021-12-29T11:03:30.000Z"
   },
   {
    "duration": -126,
    "start_time": "2021-12-29T11:03:30.002Z"
   },
   {
    "duration": -126,
    "start_time": "2021-12-29T11:03:30.004Z"
   },
   {
    "duration": -127,
    "start_time": "2021-12-29T11:03:30.005Z"
   },
   {
    "duration": -128,
    "start_time": "2021-12-29T11:03:30.007Z"
   },
   {
    "duration": -128,
    "start_time": "2021-12-29T11:03:30.009Z"
   },
   {
    "duration": -129,
    "start_time": "2021-12-29T11:03:30.011Z"
   },
   {
    "duration": -130,
    "start_time": "2021-12-29T11:03:30.013Z"
   },
   {
    "duration": -131,
    "start_time": "2021-12-29T11:03:30.015Z"
   },
   {
    "duration": -132,
    "start_time": "2021-12-29T11:03:30.017Z"
   },
   {
    "duration": -133,
    "start_time": "2021-12-29T11:03:30.019Z"
   },
   {
    "duration": -95,
    "start_time": "2021-12-29T11:03:30.021Z"
   },
   {
    "duration": -96,
    "start_time": "2021-12-29T11:03:30.023Z"
   },
   {
    "duration": -96,
    "start_time": "2021-12-29T11:03:30.024Z"
   },
   {
    "duration": -97,
    "start_time": "2021-12-29T11:03:30.026Z"
   },
   {
    "duration": -124,
    "start_time": "2021-12-29T11:03:30.054Z"
   },
   {
    "duration": -125,
    "start_time": "2021-12-29T11:03:30.056Z"
   },
   {
    "duration": -133,
    "start_time": "2021-12-29T11:03:30.065Z"
   },
   {
    "duration": -134,
    "start_time": "2021-12-29T11:03:30.067Z"
   },
   {
    "duration": 1079,
    "start_time": "2021-12-29T11:04:29.862Z"
   },
   {
    "duration": 57,
    "start_time": "2021-12-29T11:04:30.943Z"
   },
   {
    "duration": 9,
    "start_time": "2021-12-29T11:04:31.002Z"
   },
   {
    "duration": 14,
    "start_time": "2021-12-29T11:04:31.013Z"
   },
   {
    "duration": 7,
    "start_time": "2021-12-29T11:04:31.029Z"
   },
   {
    "duration": 9,
    "start_time": "2021-12-29T11:04:31.038Z"
   },
   {
    "duration": 10,
    "start_time": "2021-12-29T11:04:31.049Z"
   },
   {
    "duration": 10,
    "start_time": "2021-12-29T11:04:31.061Z"
   },
   {
    "duration": 11,
    "start_time": "2021-12-29T11:04:31.073Z"
   },
   {
    "duration": 22,
    "start_time": "2021-12-29T11:04:31.085Z"
   },
   {
    "duration": 25,
    "start_time": "2021-12-29T11:04:31.109Z"
   },
   {
    "duration": 4,
    "start_time": "2021-12-29T11:04:31.136Z"
   },
   {
    "duration": 15,
    "start_time": "2021-12-29T11:04:31.141Z"
   },
   {
    "duration": 8,
    "start_time": "2021-12-29T11:04:31.158Z"
   },
   {
    "duration": 14,
    "start_time": "2021-12-29T11:04:31.167Z"
   },
   {
    "duration": 12,
    "start_time": "2021-12-29T11:04:31.182Z"
   },
   {
    "duration": 226,
    "start_time": "2021-12-29T11:04:31.195Z"
   },
   {
    "duration": 6,
    "start_time": "2021-12-29T11:04:31.427Z"
   },
   {
    "duration": 225,
    "start_time": "2021-12-29T11:04:31.435Z"
   },
   {
    "duration": 221,
    "start_time": "2021-12-29T11:04:31.662Z"
   },
   {
    "duration": 214,
    "start_time": "2021-12-29T11:04:31.884Z"
   },
   {
    "duration": 28,
    "start_time": "2021-12-29T11:04:32.100Z"
   },
   {
    "duration": 6,
    "start_time": "2021-12-29T11:04:32.131Z"
   },
   {
    "duration": 232,
    "start_time": "2021-12-29T11:04:32.140Z"
   },
   {
    "duration": 210,
    "start_time": "2021-12-29T11:04:32.374Z"
   },
   {
    "duration": 209,
    "start_time": "2021-12-29T11:04:32.585Z"
   },
   {
    "duration": 232,
    "start_time": "2021-12-29T11:04:32.795Z"
   },
   {
    "duration": 294,
    "start_time": "2021-12-29T11:04:33.029Z"
   },
   {
    "duration": 211,
    "start_time": "2021-12-29T11:04:33.325Z"
   },
   {
    "duration": 215,
    "start_time": "2021-12-29T11:04:33.537Z"
   },
   {
    "duration": 216,
    "start_time": "2021-12-29T11:04:33.754Z"
   },
   {
    "duration": 214,
    "start_time": "2021-12-29T11:04:33.972Z"
   },
   {
    "duration": 223,
    "start_time": "2021-12-29T11:04:34.188Z"
   },
   {
    "duration": 240,
    "start_time": "2021-12-29T11:04:34.413Z"
   },
   {
    "duration": 127,
    "start_time": "2021-12-29T11:04:34.655Z"
   },
   {
    "duration": 116,
    "start_time": "2021-12-29T11:04:34.783Z"
   },
   {
    "duration": 111,
    "start_time": "2021-12-29T11:04:34.900Z"
   },
   {
    "duration": 126,
    "start_time": "2021-12-29T11:04:35.013Z"
   },
   {
    "duration": 187,
    "start_time": "2021-12-29T11:04:35.141Z"
   },
   {
    "duration": 116,
    "start_time": "2021-12-29T11:04:35.330Z"
   },
   {
    "duration": 131,
    "start_time": "2021-12-29T11:04:35.448Z"
   },
   {
    "duration": 126,
    "start_time": "2021-12-29T11:04:35.581Z"
   },
   {
    "duration": 299,
    "start_time": "2021-12-29T11:04:35.709Z"
   },
   {
    "duration": 287,
    "start_time": "2021-12-29T11:04:36.009Z"
   },
   {
    "duration": 330,
    "start_time": "2021-12-29T11:04:36.297Z"
   },
   {
    "duration": 303,
    "start_time": "2021-12-29T11:04:36.629Z"
   },
   {
    "duration": 6,
    "start_time": "2021-12-29T11:04:36.934Z"
   },
   {
    "duration": 8,
    "start_time": "2021-12-29T11:04:36.942Z"
   },
   {
    "duration": 24,
    "start_time": "2021-12-29T11:04:36.952Z"
   },
   {
    "duration": 118,
    "start_time": "2021-12-29T11:04:36.977Z"
   },
   {
    "duration": 30,
    "start_time": "2021-12-29T11:04:37.097Z"
   },
   {
    "duration": 84,
    "start_time": "2021-12-29T11:04:37.128Z"
   },
   {
    "duration": 28,
    "start_time": "2021-12-29T11:04:37.214Z"
   },
   {
    "duration": 106,
    "start_time": "2021-12-29T11:04:37.244Z"
   },
   {
    "duration": 7,
    "start_time": "2021-12-29T11:04:37.351Z"
   },
   {
    "duration": 9,
    "start_time": "2021-12-29T11:04:37.359Z"
   },
   {
    "duration": 10,
    "start_time": "2021-12-29T11:04:37.369Z"
   },
   {
    "duration": 6,
    "start_time": "2021-12-29T11:04:37.380Z"
   },
   {
    "duration": 7,
    "start_time": "2021-12-29T11:04:37.387Z"
   },
   {
    "duration": 35,
    "start_time": "2021-12-29T11:04:37.395Z"
   },
   {
    "duration": 67,
    "start_time": "2021-12-29T11:04:37.431Z"
   },
   {
    "duration": 9,
    "start_time": "2021-12-29T11:04:37.499Z"
   },
   {
    "duration": 9,
    "start_time": "2021-12-29T11:05:30.484Z"
   },
   {
    "duration": 8,
    "start_time": "2021-12-29T11:05:39.722Z"
   },
   {
    "duration": 10,
    "start_time": "2021-12-29T11:06:00.201Z"
   },
   {
    "duration": 9,
    "start_time": "2021-12-29T11:06:33.398Z"
   },
   {
    "duration": 11,
    "start_time": "2021-12-29T11:06:57.650Z"
   },
   {
    "duration": 9,
    "start_time": "2021-12-29T11:07:17.244Z"
   },
   {
    "duration": 127,
    "start_time": "2021-12-29T11:26:28.235Z"
   },
   {
    "duration": 132,
    "start_time": "2021-12-29T11:26:49.559Z"
   },
   {
    "duration": 133,
    "start_time": "2021-12-29T11:26:55.178Z"
   },
   {
    "duration": 1069,
    "start_time": "2021-12-29T11:28:53.988Z"
   },
   {
    "duration": 60,
    "start_time": "2021-12-29T11:28:55.059Z"
   },
   {
    "duration": 13,
    "start_time": "2021-12-29T11:28:55.121Z"
   },
   {
    "duration": 3,
    "start_time": "2021-12-29T11:28:55.137Z"
   },
   {
    "duration": 7,
    "start_time": "2021-12-29T11:28:55.142Z"
   },
   {
    "duration": 16,
    "start_time": "2021-12-29T11:28:55.151Z"
   },
   {
    "duration": 6,
    "start_time": "2021-12-29T11:28:55.168Z"
   },
   {
    "duration": 3,
    "start_time": "2021-12-29T11:28:55.177Z"
   },
   {
    "duration": 11,
    "start_time": "2021-12-29T11:28:55.182Z"
   },
   {
    "duration": 45,
    "start_time": "2021-12-29T11:28:55.194Z"
   },
   {
    "duration": 10,
    "start_time": "2021-12-29T11:28:55.240Z"
   },
   {
    "duration": 3,
    "start_time": "2021-12-29T11:28:55.252Z"
   },
   {
    "duration": 11,
    "start_time": "2021-12-29T11:28:55.257Z"
   },
   {
    "duration": 5,
    "start_time": "2021-12-29T11:28:55.269Z"
   },
   {
    "duration": 8,
    "start_time": "2021-12-29T11:28:55.276Z"
   },
   {
    "duration": 42,
    "start_time": "2021-12-29T11:28:55.285Z"
   },
   {
    "duration": 219,
    "start_time": "2021-12-29T11:28:55.328Z"
   },
   {
    "duration": 9,
    "start_time": "2021-12-29T11:28:55.549Z"
   },
   {
    "duration": 223,
    "start_time": "2021-12-29T11:28:55.559Z"
   },
   {
    "duration": 8,
    "start_time": "2021-12-29T11:28:55.784Z"
   },
   {
    "duration": 226,
    "start_time": "2021-12-29T11:28:55.793Z"
   },
   {
    "duration": 12,
    "start_time": "2021-12-29T11:28:56.021Z"
   },
   {
    "duration": 207,
    "start_time": "2021-12-29T11:28:56.037Z"
   },
   {
    "duration": 9,
    "start_time": "2021-12-29T11:28:56.246Z"
   },
   {
    "duration": 22,
    "start_time": "2021-12-29T11:28:56.256Z"
   },
   {
    "duration": 6,
    "start_time": "2021-12-29T11:28:56.280Z"
   },
   {
    "duration": 247,
    "start_time": "2021-12-29T11:28:56.287Z"
   },
   {
    "duration": 223,
    "start_time": "2021-12-29T11:28:56.536Z"
   },
   {
    "duration": 224,
    "start_time": "2021-12-29T11:28:56.761Z"
   },
   {
    "duration": 240,
    "start_time": "2021-12-29T11:28:56.987Z"
   },
   {
    "duration": 294,
    "start_time": "2021-12-29T11:28:57.228Z"
   },
   {
    "duration": 225,
    "start_time": "2021-12-29T11:28:57.526Z"
   },
   {
    "duration": 214,
    "start_time": "2021-12-29T11:28:57.752Z"
   },
   {
    "duration": 218,
    "start_time": "2021-12-29T11:28:57.968Z"
   },
   {
    "duration": 209,
    "start_time": "2021-12-29T11:28:58.188Z"
   },
   {
    "duration": 217,
    "start_time": "2021-12-29T11:28:58.399Z"
   },
   {
    "duration": 234,
    "start_time": "2021-12-29T11:28:58.618Z"
   },
   {
    "duration": 124,
    "start_time": "2021-12-29T11:28:58.853Z"
   },
   {
    "duration": 119,
    "start_time": "2021-12-29T11:28:58.979Z"
   },
   {
    "duration": 116,
    "start_time": "2021-12-29T11:28:59.100Z"
   },
   {
    "duration": 125,
    "start_time": "2021-12-29T11:28:59.218Z"
   },
   {
    "duration": 186,
    "start_time": "2021-12-29T11:28:59.344Z"
   },
   {
    "duration": 129,
    "start_time": "2021-12-29T11:28:59.531Z"
   },
   {
    "duration": 119,
    "start_time": "2021-12-29T11:28:59.662Z"
   },
   {
    "duration": 127,
    "start_time": "2021-12-29T11:28:59.782Z"
   },
   {
    "duration": 326,
    "start_time": "2021-12-29T11:28:59.911Z"
   },
   {
    "duration": 292,
    "start_time": "2021-12-29T11:29:00.239Z"
   },
   {
    "duration": 301,
    "start_time": "2021-12-29T11:29:00.533Z"
   },
   {
    "duration": 296,
    "start_time": "2021-12-29T11:29:00.836Z"
   },
   {
    "duration": 7,
    "start_time": "2021-12-29T11:29:01.134Z"
   },
   {
    "duration": 11,
    "start_time": "2021-12-29T11:29:01.142Z"
   },
   {
    "duration": 24,
    "start_time": "2021-12-29T11:29:01.154Z"
   },
   {
    "duration": 153,
    "start_time": "2021-12-29T11:29:01.179Z"
   },
   {
    "duration": 20,
    "start_time": "2021-12-29T11:29:01.333Z"
   },
   {
    "duration": 146,
    "start_time": "2021-12-29T11:29:01.354Z"
   },
   {
    "duration": 29,
    "start_time": "2021-12-29T11:29:01.501Z"
   },
   {
    "duration": 141,
    "start_time": "2021-12-29T11:29:01.532Z"
   },
   {
    "duration": 6,
    "start_time": "2021-12-29T11:29:01.674Z"
   },
   {
    "duration": 5,
    "start_time": "2021-12-29T11:29:01.682Z"
   },
   {
    "duration": 14,
    "start_time": "2021-12-29T11:29:01.689Z"
   },
   {
    "duration": 23,
    "start_time": "2021-12-29T11:29:01.705Z"
   },
   {
    "duration": 8,
    "start_time": "2021-12-29T11:29:01.729Z"
   },
   {
    "duration": 8,
    "start_time": "2021-12-29T11:29:01.738Z"
   },
   {
    "duration": 87,
    "start_time": "2021-12-29T11:29:01.747Z"
   },
   {
    "duration": 24,
    "start_time": "2021-12-29T11:29:01.835Z"
   },
   {
    "duration": 1015,
    "start_time": "2021-12-29T11:29:48.940Z"
   },
   {
    "duration": 56,
    "start_time": "2021-12-29T11:29:49.957Z"
   },
   {
    "duration": 9,
    "start_time": "2021-12-29T11:29:50.015Z"
   },
   {
    "duration": 4,
    "start_time": "2021-12-29T11:29:50.026Z"
   },
   {
    "duration": 9,
    "start_time": "2021-12-29T11:29:50.031Z"
   },
   {
    "duration": 9,
    "start_time": "2021-12-29T11:29:50.042Z"
   },
   {
    "duration": 7,
    "start_time": "2021-12-29T11:29:50.053Z"
   },
   {
    "duration": 7,
    "start_time": "2021-12-29T11:29:50.062Z"
   },
   {
    "duration": 10,
    "start_time": "2021-12-29T11:29:50.071Z"
   },
   {
    "duration": 8,
    "start_time": "2021-12-29T11:29:50.082Z"
   },
   {
    "duration": 38,
    "start_time": "2021-12-29T11:29:50.092Z"
   },
   {
    "duration": 5,
    "start_time": "2021-12-29T11:29:50.132Z"
   },
   {
    "duration": 13,
    "start_time": "2021-12-29T11:29:50.138Z"
   },
   {
    "duration": 5,
    "start_time": "2021-12-29T11:29:50.153Z"
   },
   {
    "duration": 8,
    "start_time": "2021-12-29T11:29:50.160Z"
   },
   {
    "duration": 13,
    "start_time": "2021-12-29T11:29:50.169Z"
   },
   {
    "duration": 231,
    "start_time": "2021-12-29T11:29:50.184Z"
   },
   {
    "duration": 13,
    "start_time": "2021-12-29T11:29:50.417Z"
   },
   {
    "duration": 216,
    "start_time": "2021-12-29T11:29:50.432Z"
   },
   {
    "duration": 8,
    "start_time": "2021-12-29T11:29:50.650Z"
   },
   {
    "duration": 221,
    "start_time": "2021-12-29T11:29:50.660Z"
   },
   {
    "duration": 9,
    "start_time": "2021-12-29T11:29:50.883Z"
   },
   {
    "duration": 213,
    "start_time": "2021-12-29T11:29:50.896Z"
   },
   {
    "duration": 17,
    "start_time": "2021-12-29T11:29:51.111Z"
   },
   {
    "duration": 21,
    "start_time": "2021-12-29T11:29:51.130Z"
   },
   {
    "duration": 7,
    "start_time": "2021-12-29T11:29:51.152Z"
   },
   {
    "duration": 242,
    "start_time": "2021-12-29T11:29:51.160Z"
   },
   {
    "duration": 226,
    "start_time": "2021-12-29T11:29:51.403Z"
   },
   {
    "duration": 218,
    "start_time": "2021-12-29T11:29:51.630Z"
   },
   {
    "duration": 231,
    "start_time": "2021-12-29T11:29:51.850Z"
   },
   {
    "duration": 302,
    "start_time": "2021-12-29T11:29:52.082Z"
   },
   {
    "duration": 223,
    "start_time": "2021-12-29T11:29:52.386Z"
   },
   {
    "duration": 217,
    "start_time": "2021-12-29T11:29:52.610Z"
   },
   {
    "duration": 210,
    "start_time": "2021-12-29T11:29:52.829Z"
   },
   {
    "duration": 212,
    "start_time": "2021-12-29T11:29:53.041Z"
   },
   {
    "duration": 216,
    "start_time": "2021-12-29T11:29:53.255Z"
   },
   {
    "duration": 236,
    "start_time": "2021-12-29T11:29:53.473Z"
   },
   {
    "duration": 126,
    "start_time": "2021-12-29T11:29:53.711Z"
   },
   {
    "duration": 117,
    "start_time": "2021-12-29T11:29:53.838Z"
   },
   {
    "duration": 118,
    "start_time": "2021-12-29T11:29:53.957Z"
   },
   {
    "duration": 125,
    "start_time": "2021-12-29T11:29:54.076Z"
   },
   {
    "duration": 191,
    "start_time": "2021-12-29T11:29:54.202Z"
   },
   {
    "duration": 119,
    "start_time": "2021-12-29T11:29:54.395Z"
   },
   {
    "duration": 126,
    "start_time": "2021-12-29T11:29:54.515Z"
   },
   {
    "duration": 126,
    "start_time": "2021-12-29T11:29:54.643Z"
   },
   {
    "duration": 268,
    "start_time": "2021-12-29T11:29:54.771Z"
   },
   {
    "duration": 268,
    "start_time": "2021-12-29T11:29:55.041Z"
   },
   {
    "duration": 295,
    "start_time": "2021-12-29T11:29:55.311Z"
   },
   {
    "duration": 290,
    "start_time": "2021-12-29T11:29:55.607Z"
   },
   {
    "duration": 7,
    "start_time": "2021-12-29T11:29:55.899Z"
   },
   {
    "duration": 25,
    "start_time": "2021-12-29T11:29:55.907Z"
   },
   {
    "duration": 124,
    "start_time": "2021-12-29T11:29:55.934Z"
   },
   {
    "duration": -54,
    "start_time": "2021-12-29T11:29:56.114Z"
   },
   {
    "duration": -55,
    "start_time": "2021-12-29T11:29:56.116Z"
   },
   {
    "duration": -57,
    "start_time": "2021-12-29T11:29:56.119Z"
   },
   {
    "duration": -57,
    "start_time": "2021-12-29T11:29:56.120Z"
   },
   {
    "duration": -58,
    "start_time": "2021-12-29T11:29:56.122Z"
   },
   {
    "duration": -60,
    "start_time": "2021-12-29T11:29:56.124Z"
   },
   {
    "duration": -61,
    "start_time": "2021-12-29T11:29:56.126Z"
   },
   {
    "duration": -62,
    "start_time": "2021-12-29T11:29:56.128Z"
   },
   {
    "duration": -63,
    "start_time": "2021-12-29T11:29:56.130Z"
   },
   {
    "duration": -64,
    "start_time": "2021-12-29T11:29:56.132Z"
   },
   {
    "duration": -64,
    "start_time": "2021-12-29T11:29:56.133Z"
   },
   {
    "duration": -81,
    "start_time": "2021-12-29T11:29:56.151Z"
   },
   {
    "duration": -84,
    "start_time": "2021-12-29T11:29:56.154Z"
   },
   {
    "duration": 1362,
    "start_time": "2022-01-09T11:02:52.523Z"
   },
   {
    "duration": 83,
    "start_time": "2022-01-09T11:02:53.888Z"
   },
   {
    "duration": 14,
    "start_time": "2022-01-09T11:02:53.974Z"
   },
   {
    "duration": 21,
    "start_time": "2022-01-09T11:02:53.991Z"
   },
   {
    "duration": 11,
    "start_time": "2022-01-09T11:02:54.022Z"
   },
   {
    "duration": 14,
    "start_time": "2022-01-09T11:02:54.035Z"
   },
   {
    "duration": 11,
    "start_time": "2022-01-09T11:02:54.052Z"
   },
   {
    "duration": 10,
    "start_time": "2022-01-09T11:02:54.066Z"
   },
   {
    "duration": 15,
    "start_time": "2022-01-09T11:02:54.079Z"
   },
   {
    "duration": 36,
    "start_time": "2022-01-09T11:02:54.096Z"
   },
   {
    "duration": 12,
    "start_time": "2022-01-09T11:02:54.134Z"
   },
   {
    "duration": 4,
    "start_time": "2022-01-09T11:02:54.148Z"
   },
   {
    "duration": 7,
    "start_time": "2022-01-09T11:02:54.155Z"
   },
   {
    "duration": 8,
    "start_time": "2022-01-09T11:02:54.165Z"
   },
   {
    "duration": 51,
    "start_time": "2022-01-09T11:02:54.175Z"
   },
   {
    "duration": 15,
    "start_time": "2022-01-09T11:02:54.229Z"
   },
   {
    "duration": 393,
    "start_time": "2022-01-09T11:02:54.246Z"
   },
   {
    "duration": 13,
    "start_time": "2022-01-09T11:02:54.642Z"
   },
   {
    "duration": 405,
    "start_time": "2022-01-09T11:02:54.657Z"
   },
   {
    "duration": 12,
    "start_time": "2022-01-09T11:02:55.064Z"
   },
   {
    "duration": 392,
    "start_time": "2022-01-09T11:02:55.079Z"
   },
   {
    "duration": 13,
    "start_time": "2022-01-09T11:02:55.473Z"
   },
   {
    "duration": 396,
    "start_time": "2022-01-09T11:02:55.492Z"
   },
   {
    "duration": 13,
    "start_time": "2022-01-09T11:02:55.891Z"
   },
   {
    "duration": 51,
    "start_time": "2022-01-09T11:02:55.906Z"
   },
   {
    "duration": 10,
    "start_time": "2022-01-09T11:02:55.959Z"
   },
   {
    "duration": 440,
    "start_time": "2022-01-09T11:02:55.971Z"
   },
   {
    "duration": 404,
    "start_time": "2022-01-09T11:02:56.414Z"
   },
   {
    "duration": 383,
    "start_time": "2022-01-09T11:02:56.824Z"
   },
   {
    "duration": 428,
    "start_time": "2022-01-09T11:02:57.210Z"
   },
   {
    "duration": 475,
    "start_time": "2022-01-09T11:02:57.641Z"
   },
   {
    "duration": 431,
    "start_time": "2022-01-09T11:02:58.119Z"
   },
   {
    "duration": 379,
    "start_time": "2022-01-09T11:02:58.552Z"
   },
   {
    "duration": 401,
    "start_time": "2022-01-09T11:02:58.933Z"
   },
   {
    "duration": 365,
    "start_time": "2022-01-09T11:02:59.337Z"
   },
   {
    "duration": 380,
    "start_time": "2022-01-09T11:02:59.704Z"
   },
   {
    "duration": 396,
    "start_time": "2022-01-09T11:03:00.087Z"
   },
   {
    "duration": 219,
    "start_time": "2022-01-09T11:03:00.486Z"
   },
   {
    "duration": 206,
    "start_time": "2022-01-09T11:03:00.707Z"
   },
   {
    "duration": 220,
    "start_time": "2022-01-09T11:03:00.916Z"
   },
   {
    "duration": 209,
    "start_time": "2022-01-09T11:03:01.139Z"
   },
   {
    "duration": 284,
    "start_time": "2022-01-09T11:03:01.350Z"
   },
   {
    "duration": 214,
    "start_time": "2022-01-09T11:03:01.636Z"
   },
   {
    "duration": 225,
    "start_time": "2022-01-09T11:03:01.853Z"
   },
   {
    "duration": 228,
    "start_time": "2022-01-09T11:03:02.080Z"
   },
   {
    "duration": 414,
    "start_time": "2022-01-09T11:03:02.311Z"
   },
   {
    "duration": 400,
    "start_time": "2022-01-09T11:03:02.728Z"
   },
   {
    "duration": 413,
    "start_time": "2022-01-09T11:03:03.131Z"
   },
   {
    "duration": 372,
    "start_time": "2022-01-09T11:03:03.546Z"
   },
   {
    "duration": 10,
    "start_time": "2022-01-09T11:03:03.923Z"
   },
   {
    "duration": 11,
    "start_time": "2022-01-09T11:03:03.935Z"
   },
   {
    "duration": 95,
    "start_time": "2022-01-09T11:03:03.949Z"
   },
   {
    "duration": -101,
    "start_time": "2022-01-09T11:03:04.147Z"
   },
   {
    "duration": -103,
    "start_time": "2022-01-09T11:03:04.150Z"
   },
   {
    "duration": -104,
    "start_time": "2022-01-09T11:03:04.153Z"
   },
   {
    "duration": -106,
    "start_time": "2022-01-09T11:03:04.156Z"
   },
   {
    "duration": -108,
    "start_time": "2022-01-09T11:03:04.159Z"
   },
   {
    "duration": -108,
    "start_time": "2022-01-09T11:03:04.161Z"
   },
   {
    "duration": -109,
    "start_time": "2022-01-09T11:03:04.163Z"
   },
   {
    "duration": -111,
    "start_time": "2022-01-09T11:03:04.166Z"
   },
   {
    "duration": -112,
    "start_time": "2022-01-09T11:03:04.168Z"
   },
   {
    "duration": -113,
    "start_time": "2022-01-09T11:03:04.171Z"
   },
   {
    "duration": -115,
    "start_time": "2022-01-09T11:03:04.174Z"
   },
   {
    "duration": -117,
    "start_time": "2022-01-09T11:03:04.177Z"
   },
   {
    "duration": -117,
    "start_time": "2022-01-09T11:03:04.179Z"
   },
   {
    "duration": 36,
    "start_time": "2022-01-09T11:04:46.673Z"
   },
   {
    "duration": 246,
    "start_time": "2022-01-09T11:04:50.343Z"
   },
   {
    "duration": 29,
    "start_time": "2022-01-09T11:04:58.748Z"
   },
   {
    "duration": 245,
    "start_time": "2022-01-09T11:04:59.894Z"
   },
   {
    "duration": 32,
    "start_time": "2022-01-09T11:05:02.869Z"
   },
   {
    "duration": 239,
    "start_time": "2022-01-09T11:05:03.384Z"
   },
   {
    "duration": 32,
    "start_time": "2022-01-09T11:05:34.032Z"
   },
   {
    "duration": 291,
    "start_time": "2022-01-09T11:05:37.401Z"
   },
   {
    "duration": 32,
    "start_time": "2022-01-09T11:05:50.661Z"
   },
   {
    "duration": 248,
    "start_time": "2022-01-09T11:05:52.909Z"
   },
   {
    "duration": 10,
    "start_time": "2022-01-09T11:05:59.334Z"
   },
   {
    "duration": 10,
    "start_time": "2022-01-09T11:06:01.033Z"
   },
   {
    "duration": 11,
    "start_time": "2022-01-09T11:06:04.053Z"
   },
   {
    "duration": 10,
    "start_time": "2022-01-09T11:06:46.563Z"
   },
   {
    "duration": 14,
    "start_time": "2022-01-09T11:06:48.193Z"
   },
   {
    "duration": 12,
    "start_time": "2022-01-09T11:06:49.396Z"
   },
   {
    "duration": 13,
    "start_time": "2022-01-09T11:08:02.547Z"
   },
   {
    "duration": 507,
    "start_time": "2022-01-09T11:11:32.944Z"
   },
   {
    "duration": 6,
    "start_time": "2022-01-09T11:11:37.469Z"
   },
   {
    "duration": 232,
    "start_time": "2022-01-09T11:11:39.913Z"
   },
   {
    "duration": 12,
    "start_time": "2022-01-09T11:11:47.251Z"
   },
   {
    "duration": 7,
    "start_time": "2022-01-09T11:12:21.030Z"
   },
   {
    "duration": 12,
    "start_time": "2022-01-09T11:12:28.263Z"
   },
   {
    "duration": 240,
    "start_time": "2022-01-09T11:12:29.088Z"
   },
   {
    "duration": 7,
    "start_time": "2022-01-09T11:12:45.861Z"
   },
   {
    "duration": 258,
    "start_time": "2022-01-09T11:12:56.805Z"
   },
   {
    "duration": 10,
    "start_time": "2022-01-09T11:13:08.781Z"
   },
   {
    "duration": 10,
    "start_time": "2022-01-09T11:13:24.993Z"
   },
   {
    "duration": 217,
    "start_time": "2022-01-09T11:13:36.392Z"
   },
   {
    "duration": 10,
    "start_time": "2022-01-09T11:15:24.903Z"
   },
   {
    "duration": 11,
    "start_time": "2022-01-09T11:15:28.590Z"
   },
   {
    "duration": 362,
    "start_time": "2022-01-11T08:34:58.976Z"
   },
   {
    "duration": 1472,
    "start_time": "2022-01-11T08:35:06.827Z"
   },
   {
    "duration": 85,
    "start_time": "2022-01-11T08:35:08.303Z"
   },
   {
    "duration": 31,
    "start_time": "2022-01-11T08:35:08.390Z"
   },
   {
    "duration": 5,
    "start_time": "2022-01-11T08:35:08.424Z"
   },
   {
    "duration": 10,
    "start_time": "2022-01-11T08:35:08.431Z"
   },
   {
    "duration": 12,
    "start_time": "2022-01-11T08:35:08.443Z"
   },
   {
    "duration": 11,
    "start_time": "2022-01-11T08:35:08.457Z"
   },
   {
    "duration": 47,
    "start_time": "2022-01-11T08:35:08.472Z"
   },
   {
    "duration": 16,
    "start_time": "2022-01-11T08:35:08.522Z"
   },
   {
    "duration": 10,
    "start_time": "2022-01-11T08:35:08.541Z"
   },
   {
    "duration": 11,
    "start_time": "2022-01-11T08:35:08.554Z"
   },
   {
    "duration": 5,
    "start_time": "2022-01-11T08:35:08.568Z"
   },
   {
    "duration": 9,
    "start_time": "2022-01-11T08:35:08.617Z"
   },
   {
    "duration": 10,
    "start_time": "2022-01-11T08:35:08.629Z"
   },
   {
    "duration": 10,
    "start_time": "2022-01-11T08:35:08.642Z"
   },
   {
    "duration": 64,
    "start_time": "2022-01-11T08:35:08.655Z"
   },
   {
    "duration": 397,
    "start_time": "2022-01-11T08:35:08.722Z"
   },
   {
    "duration": 15,
    "start_time": "2022-01-11T08:35:09.122Z"
   },
   {
    "duration": 425,
    "start_time": "2022-01-11T08:35:09.140Z"
   },
   {
    "duration": 13,
    "start_time": "2022-01-11T08:35:09.568Z"
   },
   {
    "duration": 398,
    "start_time": "2022-01-11T08:35:09.584Z"
   },
   {
    "duration": 12,
    "start_time": "2022-01-11T08:35:09.985Z"
   },
   {
    "duration": 400,
    "start_time": "2022-01-11T08:35:10.016Z"
   },
   {
    "duration": 13,
    "start_time": "2022-01-11T08:35:10.420Z"
   },
   {
    "duration": 36,
    "start_time": "2022-01-11T08:35:10.435Z"
   },
   {
    "duration": 44,
    "start_time": "2022-01-11T08:35:10.473Z"
   },
   {
    "duration": 456,
    "start_time": "2022-01-11T08:35:10.519Z"
   },
   {
    "duration": 403,
    "start_time": "2022-01-11T08:35:10.977Z"
   },
   {
    "duration": 395,
    "start_time": "2022-01-11T08:35:11.383Z"
   },
   {
    "duration": 400,
    "start_time": "2022-01-11T08:35:11.781Z"
   },
   {
    "duration": 507,
    "start_time": "2022-01-11T08:35:12.183Z"
   },
   {
    "duration": 407,
    "start_time": "2022-01-11T08:35:12.692Z"
   },
   {
    "duration": 377,
    "start_time": "2022-01-11T08:35:13.102Z"
   },
   {
    "duration": 400,
    "start_time": "2022-01-11T08:35:13.482Z"
   },
   {
    "duration": 391,
    "start_time": "2022-01-11T08:35:13.884Z"
   },
   {
    "duration": 396,
    "start_time": "2022-01-11T08:35:14.277Z"
   },
   {
    "duration": 434,
    "start_time": "2022-01-11T08:35:14.675Z"
   },
   {
    "duration": 222,
    "start_time": "2022-01-11T08:35:15.111Z"
   },
   {
    "duration": 209,
    "start_time": "2022-01-11T08:35:15.335Z"
   },
   {
    "duration": 212,
    "start_time": "2022-01-11T08:35:15.546Z"
   },
   {
    "duration": 236,
    "start_time": "2022-01-11T08:35:15.761Z"
   },
   {
    "duration": 306,
    "start_time": "2022-01-11T08:35:15.999Z"
   },
   {
    "duration": 233,
    "start_time": "2022-01-11T08:35:16.308Z"
   },
   {
    "duration": 230,
    "start_time": "2022-01-11T08:35:16.543Z"
   },
   {
    "duration": 238,
    "start_time": "2022-01-11T08:35:16.776Z"
   },
   {
    "duration": 403,
    "start_time": "2022-01-11T08:35:17.018Z"
   },
   {
    "duration": 395,
    "start_time": "2022-01-11T08:35:17.424Z"
   },
   {
    "duration": 408,
    "start_time": "2022-01-11T08:35:17.821Z"
   },
   {
    "duration": 394,
    "start_time": "2022-01-11T08:35:18.231Z"
   },
   {
    "duration": 10,
    "start_time": "2022-01-11T08:35:18.628Z"
   },
   {
    "duration": 15,
    "start_time": "2022-01-11T08:35:18.640Z"
   },
   {
    "duration": 68,
    "start_time": "2022-01-11T08:35:18.658Z"
   },
   {
    "duration": 259,
    "start_time": "2022-01-11T08:35:18.729Z"
   },
   {
    "duration": 47,
    "start_time": "2022-01-11T08:35:18.991Z"
   },
   {
    "duration": 250,
    "start_time": "2022-01-11T08:35:19.040Z"
   },
   {
    "duration": 44,
    "start_time": "2022-01-11T08:35:19.293Z"
   },
   {
    "duration": 250,
    "start_time": "2022-01-11T08:35:19.340Z"
   },
   {
    "duration": 9,
    "start_time": "2022-01-11T08:35:19.592Z"
   },
   {
    "duration": 23,
    "start_time": "2022-01-11T08:35:19.604Z"
   },
   {
    "duration": 12,
    "start_time": "2022-01-11T08:35:19.630Z"
   },
   {
    "duration": 12,
    "start_time": "2022-01-11T08:35:19.645Z"
   },
   {
    "duration": 371,
    "start_time": "2022-01-11T08:35:19.660Z"
   },
   {
    "duration": 12,
    "start_time": "2022-01-11T08:35:20.034Z"
   },
   {
    "duration": 279,
    "start_time": "2022-01-11T08:35:20.048Z"
   },
   {
    "duration": 12,
    "start_time": "2022-01-11T08:35:20.330Z"
   },
   {
    "duration": 284,
    "start_time": "2022-01-11T08:35:20.345Z"
   },
   {
    "duration": 10,
    "start_time": "2022-01-11T08:35:20.632Z"
   },
   {
    "duration": 264,
    "start_time": "2022-01-11T08:35:20.649Z"
   },
   {
    "duration": 13,
    "start_time": "2022-01-11T08:35:20.917Z"
   },
   {
    "duration": 24,
    "start_time": "2022-01-11T08:35:20.932Z"
   },
   {
    "duration": 469,
    "start_time": "2022-01-11T08:38:06.063Z"
   },
   {
    "duration": 351,
    "start_time": "2022-01-11T08:40:56.491Z"
   },
   {
    "duration": 999,
    "start_time": "2022-01-11T08:41:17.775Z"
   },
   {
    "duration": 255,
    "start_time": "2022-01-11T08:41:36.577Z"
   },
   {
    "duration": 251,
    "start_time": "2022-01-11T08:42:08.963Z"
   },
   {
    "duration": 243,
    "start_time": "2022-01-11T08:42:17.007Z"
   },
   {
    "duration": 252,
    "start_time": "2022-01-11T08:42:24.651Z"
   },
   {
    "duration": 266,
    "start_time": "2022-01-11T08:42:57.154Z"
   },
   {
    "duration": 1142,
    "start_time": "2022-01-11T08:43:08.285Z"
   },
   {
    "duration": 1993,
    "start_time": "2022-01-11T08:44:03.511Z"
   },
   {
    "duration": 7,
    "start_time": "2022-01-11T08:46:55.817Z"
   },
   {
    "duration": 7,
    "start_time": "2022-01-11T08:47:45.945Z"
   },
   {
    "duration": 12,
    "start_time": "2022-01-11T08:47:46.680Z"
   },
   {
    "duration": 12,
    "start_time": "2022-01-11T08:47:58.601Z"
   }
  ],
  "kernelspec": {
   "display_name": "Python 3 (ipykernel)",
   "language": "python",
   "name": "python3"
  },
  "language_info": {
   "codemirror_mode": {
    "name": "ipython",
    "version": 3
   },
   "file_extension": ".py",
   "mimetype": "text/x-python",
   "name": "python",
   "nbconvert_exporter": "python",
   "pygments_lexer": "ipython3",
   "version": "3.9.5"
  },
  "toc": {
   "base_numbering": 1,
   "nav_menu": {},
   "number_sections": true,
   "sideBar": true,
   "skip_h1_title": true,
   "title_cell": "Table of Contents",
   "title_sidebar": "Contents",
   "toc_cell": false,
   "toc_position": {
    "height": "calc(100% - 180px)",
    "left": "10px",
    "top": "150px",
    "width": "316.796875px"
   },
   "toc_section_display": true,
   "toc_window_display": false
  }
 },
 "nbformat": 4,
 "nbformat_minor": 2
}
