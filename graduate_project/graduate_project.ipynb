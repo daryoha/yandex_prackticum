{
 "cells": [
  {
   "cell_type": "markdown",
   "id": "6ad715d0",
   "metadata": {},
   "source": [
    "<div style=\"border:solid Chocolate 2px; padding: 40px\">\n",
    "\n",
    "<b>Дарья, привет!👋</b>\n",
    "\n",
    "Меня зовут Оля Оглезнева, я буду ревьюером финальной части твоего проекта. Ты можешь обращаться ко мне на \"ты\"😏 Надеюсь, тебя также не смутит, если я буду обращаться к тебе на \"ты\", но если это неудобно, обязательно скажи об этом!\n",
    "\n",
    "Пожалуйста, не удаляй мои комментарии, они будут особенно полезны для нашей работы в случае повторной проверки проекта. \n",
    "\n",
    "Ты можешь найти мои комментарии, обозначенные <font color='green'>зеленым</font>, <font color='gold'>желтым</font> и <font color='red'>красным</font> цветами, например:\n",
    "\n",
    "<br/>\n",
    "\n",
    "<div class=\"alert alert-success\">\n",
    "<h2> Комментарий ревьюера <a class=\"tocSkip\"> </h2>\n",
    "\n",
    "<b>Все отлично!👍:</b> В случае, если решение на отдельном шаге является полностью правильным.\n",
    "</div>\n",
    "\n",
    "<br/>\n",
    "\n",
    "<div class=\"alert alert-warning\">\n",
    "    <h2> Комментарий ревьюера <a class=\"tocSkip\"> </h2>\n",
    "    \n",
    "<b>Некоторые замечания и рекомендации💡:</b> В случае, когда решение на отдельном шаге станет еще лучше, если внести небольшие коррективы.\n",
    "</div>\n",
    "\n",
    "\n",
    "<br/>\n",
    "<div class=\"alert alert-block alert-danger\">\n",
    "<h2> Комментарий ревьюера <a class=\"tocSkip\"></h2>\n",
    "\n",
    "    \n",
    "<b>На доработку🤔:</b>\n",
    " В случае, когда решение на отдельном шаге требует существенной переработки и внесения правок. Напоминаю, что проект не может быть принят с первого раза, если ревью содержит комментарии, рекомендующие доработать шаги.\n",
    "</div>"
   ]
  },
  {
   "cell_type": "markdown",
   "id": "1abd04eb",
   "metadata": {},
   "source": [
    "<h1> Комментарий тимлида </h1>\n",
    "\n",
    "Привет, Дарья, рада с тобой познакомиться!\n",
    "Меня зовут Виктория Ильина, и я буду проверять твою работу.\n",
    "\n",
    " Я буду использовать различные цвета, чтобы было легче воспринимать мои комментарии:\n",
    "\n",
    "<div class=\"alert alert-block alert-danger\">\n",
    "<b>Комментарий тимлида❌:</b> Так выделены самые важные замечания. Без их отработки план не будет принят.\n",
    "</div>\n",
    "\n",
    "<div class=\"alert alert-block alert-warning\">\n",
    "<b>Комментарий тимлида🤔:</b> Так выделены небольшие замечания. Одно-два таких замечания допустимы, но если их будет больше - тебе будет необходимо внести исправления. \n",
    "</div>\n",
    "    \n",
    "<div class=\"alert alert-block alert-success\">\n",
    "<b>Комментарий тимлида👍:</b> Так я выделю все остальные комментарии.\n",
    "</div>\n",
    "\n",
    "Давай посмотрим, что получилось!"
   ]
  },
  {
   "cell_type": "markdown",
   "id": "e75c1150",
   "metadata": {},
   "source": [
    "# Финальный проект"
   ]
  },
  {
   "cell_type": "markdown",
   "id": "028d1e2a",
   "metadata": {},
   "source": [
    "Оператор связи «Ниединогоразрыва.ком» хочет научиться прогнозировать отток клиентов. Если выяснится, что пользователь планирует уйти, ему будут предложены промокоды и специальные условия. Команда оператора собрала персональные данные о некоторых клиентах, информацию об их тарифах и договорах."
   ]
  },
  {
   "cell_type": "markdown",
   "id": "5b783927",
   "metadata": {},
   "source": [
    "<br/>\n",
    "<div class=\"alert alert-block alert-danger\">\n",
    "<h2> Комментарий ревьюера <a class=\"tocSkip\"></h2>\n",
    "\n",
    "    \n",
    "<b>На доработку🤔:</b>\n",
    "Мб у тебя вставлена не та версия первой части работы (до плана), не вижу пред.комментариев тимлида + не исправлены локальные пути до файла, хотя вижу, что ты в пред.раз поправила. \n",
    "    \n",
    "Проверь пожалуйста и верни нужную версию - с комментариями</div>"
   ]
  },
  {
   "cell_type": "markdown",
   "id": "acec71c3",
   "metadata": {},
   "source": [
    "<div class=\"alert alert-block alert-info\">\n",
    "<b>Комментарий студентки: </b> Исправила\n",
    "</div>"
   ]
  },
  {
   "cell_type": "markdown",
   "id": "7e3dd630",
   "metadata": {},
   "source": [
    "<div class=\"alert alert-success\">\n",
    "<h2> Комментарий ревьюера v.2<a class=\"tocSkip\"> </h2>\n",
    "\n",
    "<b>Все отлично!👍:</b> отлично"
   ]
  },
  {
   "cell_type": "markdown",
   "id": "2539f8f3",
   "metadata": {
    "toc": true
   },
   "source": [
    "<h1>Оглавление<span class=\"tocSkip\"></span></h1>\n",
    "<div class=\"toc\"><ul class=\"toc-item\"><li><span><a href=\"#Анализ-данных\" data-toc-modified-id=\"Анализ-данных-1\"><span class=\"toc-item-num\">1&nbsp;&nbsp;</span>Анализ данных</a></span><ul class=\"toc-item\"><li><span><a href=\"#Данные-Contract\" data-toc-modified-id=\"Данные-Contract-1.1\"><span class=\"toc-item-num\">1.1&nbsp;&nbsp;</span>Данные Contract</a></span></li><li><span><a href=\"#Данные-Internet\" data-toc-modified-id=\"Данные-Internet-1.2\"><span class=\"toc-item-num\">1.2&nbsp;&nbsp;</span>Данные Internet</a></span></li><li><span><a href=\"#Данные-Personal\" data-toc-modified-id=\"Данные-Personal-1.3\"><span class=\"toc-item-num\">1.3&nbsp;&nbsp;</span>Данные Personal</a></span></li><li><span><a href=\"#Данные-Phone\" data-toc-modified-id=\"Данные-Phone-1.4\"><span class=\"toc-item-num\">1.4&nbsp;&nbsp;</span>Данные Phone</a></span></li><li><span><a href=\"#Общий-анализ\" data-toc-modified-id=\"Общий-анализ-1.5\"><span class=\"toc-item-num\">1.5&nbsp;&nbsp;</span>Общий анализ</a></span></li></ul></li><li><span><a href=\"#План-работы\" data-toc-modified-id=\"План-работы-2\"><span class=\"toc-item-num\">2&nbsp;&nbsp;</span>План работы</a></span></li><li><span><a href=\"#Подготовка-данных\" data-toc-modified-id=\"Подготовка-данных-3\"><span class=\"toc-item-num\">3&nbsp;&nbsp;</span>Подготовка данных</a></span></li><li><span><a href=\"#Обучение-моделей\" data-toc-modified-id=\"Обучение-моделей-4\"><span class=\"toc-item-num\">4&nbsp;&nbsp;</span>Обучение моделей</a></span><ul class=\"toc-item\"><li><span><a href=\"#DecisionTreeClassifier\" data-toc-modified-id=\"DecisionTreeClassifier-4.1\"><span class=\"toc-item-num\">4.1&nbsp;&nbsp;</span>DecisionTreeClassifier</a></span></li><li><span><a href=\"#RandomForestClassifier\" data-toc-modified-id=\"RandomForestClassifier-4.2\"><span class=\"toc-item-num\">4.2&nbsp;&nbsp;</span>RandomForestClassifier</a></span></li><li><span><a href=\"#LogisticRegression\" data-toc-modified-id=\"LogisticRegression-4.3\"><span class=\"toc-item-num\">4.3&nbsp;&nbsp;</span>LogisticRegression</a></span></li><li><span><a href=\"#CatBoostClassifier\" data-toc-modified-id=\"CatBoostClassifier-4.4\"><span class=\"toc-item-num\">4.4&nbsp;&nbsp;</span>CatBoostClassifier</a></span></li><li><span><a href=\"#Сравнение-моделей\" data-toc-modified-id=\"Сравнение-моделей-4.5\"><span class=\"toc-item-num\">4.5&nbsp;&nbsp;</span>Сравнение моделей</a></span></li></ul></li><li><span><a href=\"#Тестирование-лучшей-модели-на-тестовой-выборке\" data-toc-modified-id=\"Тестирование-лучшей-модели-на-тестовой-выборке-5\"><span class=\"toc-item-num\">5&nbsp;&nbsp;</span>Тестирование лучшей модели на тестовой выборке</a></span></li><li><span><a href=\"#Отчет\" data-toc-modified-id=\"Отчет-6\"><span class=\"toc-item-num\">6&nbsp;&nbsp;</span>Отчет</a></span></li></ul></div>"
   ]
  },
  {
   "cell_type": "code",
   "execution_count": 1,
   "id": "e5b4d058",
   "metadata": {},
   "outputs": [
    {
     "name": "stdout",
     "output_type": "stream",
     "text": [
      "Requirement already satisfied: phik in /opt/conda/lib/python3.9/site-packages (0.12.2)\n",
      "Requirement already satisfied: scipy>=1.5.2 in /opt/conda/lib/python3.9/site-packages (from phik) (1.9.1)\n",
      "Requirement already satisfied: matplotlib>=2.2.3 in /opt/conda/lib/python3.9/site-packages (from phik) (3.3.4)\n",
      "Requirement already satisfied: numpy>=1.18.0 in /opt/conda/lib/python3.9/site-packages (from phik) (1.21.1)\n",
      "Requirement already satisfied: pandas>=0.25.1 in /opt/conda/lib/python3.9/site-packages (from phik) (1.2.4)\n",
      "Requirement already satisfied: joblib>=0.14.1 in /opt/conda/lib/python3.9/site-packages (from phik) (1.1.0)\n",
      "Requirement already satisfied: pyparsing!=2.0.4,!=2.1.2,!=2.1.6,>=2.0.3 in /opt/conda/lib/python3.9/site-packages (from matplotlib>=2.2.3->phik) (2.4.7)\n",
      "Requirement already satisfied: python-dateutil>=2.1 in /opt/conda/lib/python3.9/site-packages (from matplotlib>=2.2.3->phik) (2.8.1)\n",
      "Requirement already satisfied: cycler>=0.10 in /opt/conda/lib/python3.9/site-packages (from matplotlib>=2.2.3->phik) (0.11.0)\n",
      "Requirement already satisfied: pillow>=6.2.0 in /opt/conda/lib/python3.9/site-packages (from matplotlib>=2.2.3->phik) (8.4.0)\n",
      "Requirement already satisfied: kiwisolver>=1.0.1 in /opt/conda/lib/python3.9/site-packages (from matplotlib>=2.2.3->phik) (1.4.4)\n",
      "Requirement already satisfied: pytz>=2017.3 in /opt/conda/lib/python3.9/site-packages (from pandas>=0.25.1->phik) (2021.1)\n",
      "Requirement already satisfied: six>=1.5 in /opt/conda/lib/python3.9/site-packages (from python-dateutil>=2.1->matplotlib>=2.2.3->phik) (1.16.0)\n"
     ]
    }
   ],
   "source": [
    "!pip install phik"
   ]
  },
  {
   "cell_type": "code",
   "execution_count": 55,
   "id": "4e83b27b",
   "metadata": {},
   "outputs": [],
   "source": [
    "# импорт библиотек\n",
    "import datetime\n",
    "import numpy as np\n",
    "import pandas as pd\n",
    "import phik\n",
    "from matplotlib import pyplot as plt\n",
    "\n",
    "from catboost import CatBoostClassifier\n",
    "from sklearn.model_selection import GridSearchCV\n",
    "from sklearn.ensemble import RandomForestClassifier\n",
    "from sklearn.linear_model import LogisticRegression\n",
    "from sklearn.tree import DecisionTreeClassifier\n",
    "\n",
    "from phik.report import plot_correlation_matrix\n",
    "from sklearn.model_selection import train_test_split\n",
    "from sklearn.metrics import roc_auc_score\n",
    "from sklearn.metrics import accuracy_score\n",
    "from sklearn.metrics import f1_score\n",
    "from sklearn.metrics import precision_score\n",
    "from sklearn.metrics import recall_score\n",
    "\n",
    "from sklearn.preprocessing import MinMaxScaler"
   ]
  },
  {
   "cell_type": "markdown",
   "id": "b71e2f95",
   "metadata": {},
   "source": [
    "## Анализ данных"
   ]
  },
  {
   "cell_type": "markdown",
   "id": "a30b3e1c",
   "metadata": {},
   "source": [
    "### Данные Contract"
   ]
  },
  {
   "cell_type": "code",
   "execution_count": 3,
   "id": "a6d864df",
   "metadata": {},
   "outputs": [
    {
     "data": {
      "text/html": [
       "<div>\n",
       "<style scoped>\n",
       "    .dataframe tbody tr th:only-of-type {\n",
       "        vertical-align: middle;\n",
       "    }\n",
       "\n",
       "    .dataframe tbody tr th {\n",
       "        vertical-align: top;\n",
       "    }\n",
       "\n",
       "    .dataframe thead th {\n",
       "        text-align: right;\n",
       "    }\n",
       "</style>\n",
       "<table border=\"1\" class=\"dataframe\">\n",
       "  <thead>\n",
       "    <tr style=\"text-align: right;\">\n",
       "      <th></th>\n",
       "      <th>customerID</th>\n",
       "      <th>BeginDate</th>\n",
       "      <th>EndDate</th>\n",
       "      <th>Type</th>\n",
       "      <th>PaperlessBilling</th>\n",
       "      <th>PaymentMethod</th>\n",
       "      <th>MonthlyCharges</th>\n",
       "      <th>TotalCharges</th>\n",
       "    </tr>\n",
       "  </thead>\n",
       "  <tbody>\n",
       "    <tr>\n",
       "      <th>0</th>\n",
       "      <td>7590-VHVEG</td>\n",
       "      <td>2020-01-01</td>\n",
       "      <td>No</td>\n",
       "      <td>Month-to-month</td>\n",
       "      <td>Yes</td>\n",
       "      <td>Electronic check</td>\n",
       "      <td>29.85</td>\n",
       "      <td>29.85</td>\n",
       "    </tr>\n",
       "    <tr>\n",
       "      <th>1</th>\n",
       "      <td>5575-GNVDE</td>\n",
       "      <td>2017-04-01</td>\n",
       "      <td>No</td>\n",
       "      <td>One year</td>\n",
       "      <td>No</td>\n",
       "      <td>Mailed check</td>\n",
       "      <td>56.95</td>\n",
       "      <td>1889.5</td>\n",
       "    </tr>\n",
       "    <tr>\n",
       "      <th>2</th>\n",
       "      <td>3668-QPYBK</td>\n",
       "      <td>2019-10-01</td>\n",
       "      <td>2019-12-01 00:00:00</td>\n",
       "      <td>Month-to-month</td>\n",
       "      <td>Yes</td>\n",
       "      <td>Mailed check</td>\n",
       "      <td>53.85</td>\n",
       "      <td>108.15</td>\n",
       "    </tr>\n",
       "    <tr>\n",
       "      <th>3</th>\n",
       "      <td>7795-CFOCW</td>\n",
       "      <td>2016-05-01</td>\n",
       "      <td>No</td>\n",
       "      <td>One year</td>\n",
       "      <td>No</td>\n",
       "      <td>Bank transfer (automatic)</td>\n",
       "      <td>42.30</td>\n",
       "      <td>1840.75</td>\n",
       "    </tr>\n",
       "    <tr>\n",
       "      <th>4</th>\n",
       "      <td>9237-HQITU</td>\n",
       "      <td>2019-09-01</td>\n",
       "      <td>2019-11-01 00:00:00</td>\n",
       "      <td>Month-to-month</td>\n",
       "      <td>Yes</td>\n",
       "      <td>Electronic check</td>\n",
       "      <td>70.70</td>\n",
       "      <td>151.65</td>\n",
       "    </tr>\n",
       "    <tr>\n",
       "      <th>5</th>\n",
       "      <td>9305-CDSKC</td>\n",
       "      <td>2019-03-01</td>\n",
       "      <td>2019-11-01 00:00:00</td>\n",
       "      <td>Month-to-month</td>\n",
       "      <td>Yes</td>\n",
       "      <td>Electronic check</td>\n",
       "      <td>99.65</td>\n",
       "      <td>820.5</td>\n",
       "    </tr>\n",
       "    <tr>\n",
       "      <th>6</th>\n",
       "      <td>1452-KIOVK</td>\n",
       "      <td>2018-04-01</td>\n",
       "      <td>No</td>\n",
       "      <td>Month-to-month</td>\n",
       "      <td>Yes</td>\n",
       "      <td>Credit card (automatic)</td>\n",
       "      <td>89.10</td>\n",
       "      <td>1949.4</td>\n",
       "    </tr>\n",
       "    <tr>\n",
       "      <th>7</th>\n",
       "      <td>6713-OKOMC</td>\n",
       "      <td>2019-04-01</td>\n",
       "      <td>No</td>\n",
       "      <td>Month-to-month</td>\n",
       "      <td>No</td>\n",
       "      <td>Mailed check</td>\n",
       "      <td>29.75</td>\n",
       "      <td>301.9</td>\n",
       "    </tr>\n",
       "    <tr>\n",
       "      <th>8</th>\n",
       "      <td>7892-POOKP</td>\n",
       "      <td>2017-07-01</td>\n",
       "      <td>2019-11-01 00:00:00</td>\n",
       "      <td>Month-to-month</td>\n",
       "      <td>Yes</td>\n",
       "      <td>Electronic check</td>\n",
       "      <td>104.80</td>\n",
       "      <td>3046.05</td>\n",
       "    </tr>\n",
       "    <tr>\n",
       "      <th>9</th>\n",
       "      <td>6388-TABGU</td>\n",
       "      <td>2014-12-01</td>\n",
       "      <td>No</td>\n",
       "      <td>One year</td>\n",
       "      <td>No</td>\n",
       "      <td>Bank transfer (automatic)</td>\n",
       "      <td>56.15</td>\n",
       "      <td>3487.95</td>\n",
       "    </tr>\n",
       "  </tbody>\n",
       "</table>\n",
       "</div>"
      ],
      "text/plain": [
       "   customerID   BeginDate              EndDate            Type  \\\n",
       "0  7590-VHVEG  2020-01-01                   No  Month-to-month   \n",
       "1  5575-GNVDE  2017-04-01                   No        One year   \n",
       "2  3668-QPYBK  2019-10-01  2019-12-01 00:00:00  Month-to-month   \n",
       "3  7795-CFOCW  2016-05-01                   No        One year   \n",
       "4  9237-HQITU  2019-09-01  2019-11-01 00:00:00  Month-to-month   \n",
       "5  9305-CDSKC  2019-03-01  2019-11-01 00:00:00  Month-to-month   \n",
       "6  1452-KIOVK  2018-04-01                   No  Month-to-month   \n",
       "7  6713-OKOMC  2019-04-01                   No  Month-to-month   \n",
       "8  7892-POOKP  2017-07-01  2019-11-01 00:00:00  Month-to-month   \n",
       "9  6388-TABGU  2014-12-01                   No        One year   \n",
       "\n",
       "  PaperlessBilling              PaymentMethod  MonthlyCharges TotalCharges  \n",
       "0              Yes           Electronic check           29.85        29.85  \n",
       "1               No               Mailed check           56.95       1889.5  \n",
       "2              Yes               Mailed check           53.85       108.15  \n",
       "3               No  Bank transfer (automatic)           42.30      1840.75  \n",
       "4              Yes           Electronic check           70.70       151.65  \n",
       "5              Yes           Electronic check           99.65        820.5  \n",
       "6              Yes    Credit card (automatic)           89.10       1949.4  \n",
       "7               No               Mailed check           29.75        301.9  \n",
       "8              Yes           Electronic check          104.80      3046.05  \n",
       "9               No  Bank transfer (automatic)           56.15      3487.95  "
      ]
     },
     "metadata": {},
     "output_type": "display_data"
    }
   ],
   "source": [
    "# чтение данных из файла\n",
    "data_contract = pd.read_csv('/datasets/final_provider/contract.csv')\n",
    "# просмотр первых десяти строчек в таблице \n",
    "display(data_contract.head(10))"
   ]
  },
  {
   "cell_type": "markdown",
   "id": "41c80e4b",
   "metadata": {},
   "source": [
    "<div class=\"alert alert-block alert-danger\">\n",
    "<b>Комментарий тимлида❌:</b> У тебя указан локальный путь к файлу\n",
    "</div>"
   ]
  },
  {
   "cell_type": "markdown",
   "id": "419f1b0d",
   "metadata": {},
   "source": [
    "<div class=\"alert alert-block alert-info\">\n",
    "<b>Комментарий студентки: </b> Исправила\n",
    "</div>"
   ]
  },
  {
   "cell_type": "markdown",
   "id": "546ab035",
   "metadata": {},
   "source": [
    "<div class=\"alert alert-block alert-success\">\n",
    "<b>Комментарий тимлида V.2👍:</b> Хорошо =)\n",
    "</div>"
   ]
  },
  {
   "cell_type": "code",
   "execution_count": 4,
   "id": "9bd9074c",
   "metadata": {},
   "outputs": [
    {
     "data": {
      "text/plain": [
       "Month-to-month    3875\n",
       "Two year          1695\n",
       "One year          1473\n",
       "Name: Type, dtype: int64"
      ]
     },
     "execution_count": 4,
     "metadata": {},
     "output_type": "execute_result"
    }
   ],
   "source": [
    "data_contract['Type'].value_counts()"
   ]
  },
  {
   "cell_type": "markdown",
   "id": "f30c5336",
   "metadata": {},
   "source": [
    "Самый популярный тип оплаты - это ежемесячный платеж. "
   ]
  },
  {
   "cell_type": "code",
   "execution_count": 5,
   "id": "8a6ddfe1",
   "metadata": {},
   "outputs": [
    {
     "data": {
      "text/plain": [
       "Electronic check             2365\n",
       "Mailed check                 1612\n",
       "Bank transfer (automatic)    1544\n",
       "Credit card (automatic)      1522\n",
       "Name: PaymentMethod, dtype: int64"
      ]
     },
     "execution_count": 5,
     "metadata": {},
     "output_type": "execute_result"
    }
   ],
   "source": [
    "data_contract['PaymentMethod'].value_counts()"
   ]
  },
  {
   "cell_type": "markdown",
   "id": "261653e5",
   "metadata": {},
   "source": [
    "Самый популярный способ оплаты - это электронный чек. "
   ]
  },
  {
   "cell_type": "markdown",
   "id": "9378611b",
   "metadata": {},
   "source": [
    "В этом файле хранятся данные о контрактах, заключенных компанией с клиенатами. \n",
    "\n",
    "customerID - индификатор клиента  \n",
    "BeginDate - дата заключения контракта  \n",
    "EndDate - дата истечения/расторжения контракта (если стоит No значит сотрудничество еще не закончено)   \n",
    "Type - тип договора (3 вида: ежемесячно, раз в год, раз в два года)   \n",
    "PaperlessBilling - выставление электронного (не бумажного) счета  (да или нет)\n",
    "PaymentMethod - метод оплаты (4 вида: электронный чек, чек по почте, банковский перевод, кредитная карта)  \n",
    "MonthlyCharges - ежемесячная плата  \n",
    "TotalCharges - плата за весь период  "
   ]
  },
  {
   "cell_type": "markdown",
   "id": "f99516e2",
   "metadata": {},
   "source": [
    "<div class=\"alert alert-block alert-danger\">\n",
    "<b>Комментарий тимлида❌:</b> Type - это тип договора, не оплаты\n",
    "</div>"
   ]
  },
  {
   "cell_type": "markdown",
   "id": "2b474ecc",
   "metadata": {},
   "source": [
    "<div class=\"alert alert-block alert-info\">\n",
    "<b>Комментарий студентки: </b> Исправила\n",
    "</div>"
   ]
  },
  {
   "cell_type": "markdown",
   "id": "193fbd4a",
   "metadata": {},
   "source": [
    "<div class=\"alert alert-block alert-success\">\n",
    "<b>Комментарий тимлида V.2👍:</b> Хорошо =)\n",
    "</div>"
   ]
  },
  {
   "cell_type": "code",
   "execution_count": 6,
   "id": "f0c31faf",
   "metadata": {},
   "outputs": [
    {
     "name": "stdout",
     "output_type": "stream",
     "text": [
      "<class 'pandas.core.frame.DataFrame'>\n",
      "RangeIndex: 7043 entries, 0 to 7042\n",
      "Data columns (total 8 columns):\n",
      " #   Column            Non-Null Count  Dtype  \n",
      "---  ------            --------------  -----  \n",
      " 0   customerID        7043 non-null   object \n",
      " 1   BeginDate         7043 non-null   object \n",
      " 2   EndDate           7043 non-null   object \n",
      " 3   Type              7043 non-null   object \n",
      " 4   PaperlessBilling  7043 non-null   object \n",
      " 5   PaymentMethod     7043 non-null   object \n",
      " 6   MonthlyCharges    7043 non-null   float64\n",
      " 7   TotalCharges      7043 non-null   object \n",
      "dtypes: float64(1), object(7)\n",
      "memory usage: 440.3+ KB\n"
     ]
    }
   ],
   "source": [
    "data_contract.info()"
   ]
  },
  {
   "cell_type": "markdown",
   "id": "a6acb08e",
   "metadata": {},
   "source": [
    "Пропусков в данных нет. Тип столбца TotalCharges, EndDate неверный. "
   ]
  },
  {
   "cell_type": "code",
   "execution_count": 7,
   "id": "11d725c3",
   "metadata": {},
   "outputs": [],
   "source": [
    "data_contract['BeginDate'] = pd.to_datetime(data_contract['BeginDate'], format='%Y-%m-%dT%H:%M:%S')"
   ]
  },
  {
   "cell_type": "raw",
   "id": "c0519d65",
   "metadata": {},
   "source": [
    "data_contract['TotalCharges'] = data_contract['TotalCharges'].astype(float)"
   ]
  },
  {
   "cell_type": "markdown",
   "id": "1069e0ab",
   "metadata": {},
   "source": [
    "Сначала я хотела просто изменить тип данных, но мне вывело ошибку: ValueError: could not convert string to float: ''. Посмотрим, что это за пустые строки. "
   ]
  },
  {
   "cell_type": "code",
   "execution_count": 8,
   "id": "005100cd",
   "metadata": {},
   "outputs": [
    {
     "data": {
      "text/html": [
       "<div>\n",
       "<style scoped>\n",
       "    .dataframe tbody tr th:only-of-type {\n",
       "        vertical-align: middle;\n",
       "    }\n",
       "\n",
       "    .dataframe tbody tr th {\n",
       "        vertical-align: top;\n",
       "    }\n",
       "\n",
       "    .dataframe thead th {\n",
       "        text-align: right;\n",
       "    }\n",
       "</style>\n",
       "<table border=\"1\" class=\"dataframe\">\n",
       "  <thead>\n",
       "    <tr style=\"text-align: right;\">\n",
       "      <th></th>\n",
       "      <th>customerID</th>\n",
       "      <th>BeginDate</th>\n",
       "      <th>EndDate</th>\n",
       "      <th>Type</th>\n",
       "      <th>PaperlessBilling</th>\n",
       "      <th>PaymentMethod</th>\n",
       "      <th>MonthlyCharges</th>\n",
       "      <th>TotalCharges</th>\n",
       "    </tr>\n",
       "  </thead>\n",
       "  <tbody>\n",
       "    <tr>\n",
       "      <th>488</th>\n",
       "      <td>4472-LVYGI</td>\n",
       "      <td>2020-02-01</td>\n",
       "      <td>No</td>\n",
       "      <td>Two year</td>\n",
       "      <td>Yes</td>\n",
       "      <td>Bank transfer (automatic)</td>\n",
       "      <td>52.55</td>\n",
       "      <td></td>\n",
       "    </tr>\n",
       "    <tr>\n",
       "      <th>753</th>\n",
       "      <td>3115-CZMZD</td>\n",
       "      <td>2020-02-01</td>\n",
       "      <td>No</td>\n",
       "      <td>Two year</td>\n",
       "      <td>No</td>\n",
       "      <td>Mailed check</td>\n",
       "      <td>20.25</td>\n",
       "      <td></td>\n",
       "    </tr>\n",
       "    <tr>\n",
       "      <th>936</th>\n",
       "      <td>5709-LVOEQ</td>\n",
       "      <td>2020-02-01</td>\n",
       "      <td>No</td>\n",
       "      <td>Two year</td>\n",
       "      <td>No</td>\n",
       "      <td>Mailed check</td>\n",
       "      <td>80.85</td>\n",
       "      <td></td>\n",
       "    </tr>\n",
       "    <tr>\n",
       "      <th>1082</th>\n",
       "      <td>4367-NUYAO</td>\n",
       "      <td>2020-02-01</td>\n",
       "      <td>No</td>\n",
       "      <td>Two year</td>\n",
       "      <td>No</td>\n",
       "      <td>Mailed check</td>\n",
       "      <td>25.75</td>\n",
       "      <td></td>\n",
       "    </tr>\n",
       "    <tr>\n",
       "      <th>1340</th>\n",
       "      <td>1371-DWPAZ</td>\n",
       "      <td>2020-02-01</td>\n",
       "      <td>No</td>\n",
       "      <td>Two year</td>\n",
       "      <td>No</td>\n",
       "      <td>Credit card (automatic)</td>\n",
       "      <td>56.05</td>\n",
       "      <td></td>\n",
       "    </tr>\n",
       "    <tr>\n",
       "      <th>3331</th>\n",
       "      <td>7644-OMVMY</td>\n",
       "      <td>2020-02-01</td>\n",
       "      <td>No</td>\n",
       "      <td>Two year</td>\n",
       "      <td>No</td>\n",
       "      <td>Mailed check</td>\n",
       "      <td>19.85</td>\n",
       "      <td></td>\n",
       "    </tr>\n",
       "    <tr>\n",
       "      <th>3826</th>\n",
       "      <td>3213-VVOLG</td>\n",
       "      <td>2020-02-01</td>\n",
       "      <td>No</td>\n",
       "      <td>Two year</td>\n",
       "      <td>No</td>\n",
       "      <td>Mailed check</td>\n",
       "      <td>25.35</td>\n",
       "      <td></td>\n",
       "    </tr>\n",
       "    <tr>\n",
       "      <th>4380</th>\n",
       "      <td>2520-SGTTA</td>\n",
       "      <td>2020-02-01</td>\n",
       "      <td>No</td>\n",
       "      <td>Two year</td>\n",
       "      <td>No</td>\n",
       "      <td>Mailed check</td>\n",
       "      <td>20.00</td>\n",
       "      <td></td>\n",
       "    </tr>\n",
       "    <tr>\n",
       "      <th>5218</th>\n",
       "      <td>2923-ARZLG</td>\n",
       "      <td>2020-02-01</td>\n",
       "      <td>No</td>\n",
       "      <td>One year</td>\n",
       "      <td>Yes</td>\n",
       "      <td>Mailed check</td>\n",
       "      <td>19.70</td>\n",
       "      <td></td>\n",
       "    </tr>\n",
       "    <tr>\n",
       "      <th>6670</th>\n",
       "      <td>4075-WKNIU</td>\n",
       "      <td>2020-02-01</td>\n",
       "      <td>No</td>\n",
       "      <td>Two year</td>\n",
       "      <td>No</td>\n",
       "      <td>Mailed check</td>\n",
       "      <td>73.35</td>\n",
       "      <td></td>\n",
       "    </tr>\n",
       "    <tr>\n",
       "      <th>6754</th>\n",
       "      <td>2775-SEFEE</td>\n",
       "      <td>2020-02-01</td>\n",
       "      <td>No</td>\n",
       "      <td>Two year</td>\n",
       "      <td>Yes</td>\n",
       "      <td>Bank transfer (automatic)</td>\n",
       "      <td>61.90</td>\n",
       "      <td></td>\n",
       "    </tr>\n",
       "  </tbody>\n",
       "</table>\n",
       "</div>"
      ],
      "text/plain": [
       "      customerID  BeginDate EndDate      Type PaperlessBilling  \\\n",
       "488   4472-LVYGI 2020-02-01      No  Two year              Yes   \n",
       "753   3115-CZMZD 2020-02-01      No  Two year               No   \n",
       "936   5709-LVOEQ 2020-02-01      No  Two year               No   \n",
       "1082  4367-NUYAO 2020-02-01      No  Two year               No   \n",
       "1340  1371-DWPAZ 2020-02-01      No  Two year               No   \n",
       "3331  7644-OMVMY 2020-02-01      No  Two year               No   \n",
       "3826  3213-VVOLG 2020-02-01      No  Two year               No   \n",
       "4380  2520-SGTTA 2020-02-01      No  Two year               No   \n",
       "5218  2923-ARZLG 2020-02-01      No  One year              Yes   \n",
       "6670  4075-WKNIU 2020-02-01      No  Two year               No   \n",
       "6754  2775-SEFEE 2020-02-01      No  Two year              Yes   \n",
       "\n",
       "                  PaymentMethod  MonthlyCharges TotalCharges  \n",
       "488   Bank transfer (automatic)           52.55               \n",
       "753                Mailed check           20.25               \n",
       "936                Mailed check           80.85               \n",
       "1082               Mailed check           25.75               \n",
       "1340    Credit card (automatic)           56.05               \n",
       "3331               Mailed check           19.85               \n",
       "3826               Mailed check           25.35               \n",
       "4380               Mailed check           20.00               \n",
       "5218               Mailed check           19.70               \n",
       "6670               Mailed check           73.35               \n",
       "6754  Bank transfer (automatic)           61.90               "
      ]
     },
     "metadata": {},
     "output_type": "display_data"
    }
   ],
   "source": [
    "display(data_contract[data_contract['TotalCharges'] == ' '])"
   ]
  },
  {
   "cell_type": "markdown",
   "id": "cc7933c8",
   "metadata": {},
   "source": [
    "В этих строках не посчитаны значения. Посмотрев на дату заключения договора, мы можем понять, что клиенты еще не внесли плату. Предлагаю, записать эти значения как ноль"
   ]
  },
  {
   "cell_type": "code",
   "execution_count": 9,
   "id": "ceeb53e1",
   "metadata": {},
   "outputs": [],
   "source": [
    "data_contract.loc[data_contract['TotalCharges'] == ' ','TotalCharges'] = 0"
   ]
  },
  {
   "cell_type": "code",
   "execution_count": 10,
   "id": "c6cbf084",
   "metadata": {},
   "outputs": [],
   "source": [
    "data_contract['TotalCharges'] = data_contract['TotalCharges'].astype(float)"
   ]
  },
  {
   "cell_type": "code",
   "execution_count": 11,
   "id": "73486b04",
   "metadata": {},
   "outputs": [
    {
     "data": {
      "text/html": [
       "<div>\n",
       "<style scoped>\n",
       "    .dataframe tbody tr th:only-of-type {\n",
       "        vertical-align: middle;\n",
       "    }\n",
       "\n",
       "    .dataframe tbody tr th {\n",
       "        vertical-align: top;\n",
       "    }\n",
       "\n",
       "    .dataframe thead th {\n",
       "        text-align: right;\n",
       "    }\n",
       "</style>\n",
       "<table border=\"1\" class=\"dataframe\">\n",
       "  <thead>\n",
       "    <tr style=\"text-align: right;\">\n",
       "      <th></th>\n",
       "      <th>MonthlyCharges</th>\n",
       "      <th>TotalCharges</th>\n",
       "    </tr>\n",
       "  </thead>\n",
       "  <tbody>\n",
       "    <tr>\n",
       "      <th>count</th>\n",
       "      <td>7043.000000</td>\n",
       "      <td>7043.000000</td>\n",
       "    </tr>\n",
       "    <tr>\n",
       "      <th>mean</th>\n",
       "      <td>64.761692</td>\n",
       "      <td>2279.734304</td>\n",
       "    </tr>\n",
       "    <tr>\n",
       "      <th>std</th>\n",
       "      <td>30.090047</td>\n",
       "      <td>2266.794470</td>\n",
       "    </tr>\n",
       "    <tr>\n",
       "      <th>min</th>\n",
       "      <td>18.250000</td>\n",
       "      <td>0.000000</td>\n",
       "    </tr>\n",
       "    <tr>\n",
       "      <th>25%</th>\n",
       "      <td>35.500000</td>\n",
       "      <td>398.550000</td>\n",
       "    </tr>\n",
       "    <tr>\n",
       "      <th>50%</th>\n",
       "      <td>70.350000</td>\n",
       "      <td>1394.550000</td>\n",
       "    </tr>\n",
       "    <tr>\n",
       "      <th>75%</th>\n",
       "      <td>89.850000</td>\n",
       "      <td>3786.600000</td>\n",
       "    </tr>\n",
       "    <tr>\n",
       "      <th>max</th>\n",
       "      <td>118.750000</td>\n",
       "      <td>8684.800000</td>\n",
       "    </tr>\n",
       "  </tbody>\n",
       "</table>\n",
       "</div>"
      ],
      "text/plain": [
       "       MonthlyCharges  TotalCharges\n",
       "count     7043.000000   7043.000000\n",
       "mean        64.761692   2279.734304\n",
       "std         30.090047   2266.794470\n",
       "min         18.250000      0.000000\n",
       "25%         35.500000    398.550000\n",
       "50%         70.350000   1394.550000\n",
       "75%         89.850000   3786.600000\n",
       "max        118.750000   8684.800000"
      ]
     },
     "execution_count": 11,
     "metadata": {},
     "output_type": "execute_result"
    }
   ],
   "source": [
    "data_contract.describe()"
   ]
  },
  {
   "cell_type": "code",
   "execution_count": 12,
   "id": "3dfe5232",
   "metadata": {},
   "outputs": [
    {
     "data": {
      "image/png": "[encoded data removed]",
      "text/plain": [
       "<Figure size 432x288 with 1 Axes>"
      ]
     },
     "metadata": {
      "needs_background": "light"
     },
     "output_type": "display_data"
    }
   ],
   "source": [
    "data_contract.plot(kind='hist', y='MonthlyCharges', bins=30, grid=True, label='Оплата в месяц');"
   ]
  },
  {
   "cell_type": "markdown",
   "id": "ce0a7560",
   "metadata": {},
   "source": [
    "У большой части клиентов клиентов дешевые тарифы. Однако хотя имеющих тарифную плату около 30$ значительно меньше чем 20$, с ростом цены количество людей не падает, во многих местах даже растет. Второй по популярности ценой является 80$."
   ]
  },
  {
   "cell_type": "code",
   "execution_count": 13,
   "id": "5f1da3b6",
   "metadata": {},
   "outputs": [
    {
     "data": {
      "image/png": "[encoded data removed]",
      "text/plain": [
       "<Figure size 432x288 with 1 Axes>"
      ]
     },
     "metadata": {
      "needs_background": "light"
     },
     "output_type": "display_data"
    }
   ],
   "source": [
    "data_contract.plot(kind='hist', y='TotalCharges', bins=30, grid=True, label='Общая сумма');"
   ]
  },
  {
   "cell_type": "markdown",
   "id": "632308c5",
   "metadata": {},
   "source": [
    "Договоры большинства клиентов не приносят крупных сумм, что ожидаемо, так как большинство людей выбрали тип оплаты ежемесячно. "
   ]
  },
  {
   "cell_type": "markdown",
   "id": "6540ae8e",
   "metadata": {},
   "source": [
    "### Данные Internet"
   ]
  },
  {
   "cell_type": "code",
   "execution_count": 14,
   "id": "738d2379",
   "metadata": {},
   "outputs": [
    {
     "data": {
      "text/html": [
       "<div>\n",
       "<style scoped>\n",
       "    .dataframe tbody tr th:only-of-type {\n",
       "        vertical-align: middle;\n",
       "    }\n",
       "\n",
       "    .dataframe tbody tr th {\n",
       "        vertical-align: top;\n",
       "    }\n",
       "\n",
       "    .dataframe thead th {\n",
       "        text-align: right;\n",
       "    }\n",
       "</style>\n",
       "<table border=\"1\" class=\"dataframe\">\n",
       "  <thead>\n",
       "    <tr style=\"text-align: right;\">\n",
       "      <th></th>\n",
       "      <th>customerID</th>\n",
       "      <th>InternetService</th>\n",
       "      <th>OnlineSecurity</th>\n",
       "      <th>OnlineBackup</th>\n",
       "      <th>DeviceProtection</th>\n",
       "      <th>TechSupport</th>\n",
       "      <th>StreamingTV</th>\n",
       "      <th>StreamingMovies</th>\n",
       "    </tr>\n",
       "  </thead>\n",
       "  <tbody>\n",
       "    <tr>\n",
       "      <th>0</th>\n",
       "      <td>7590-VHVEG</td>\n",
       "      <td>DSL</td>\n",
       "      <td>No</td>\n",
       "      <td>Yes</td>\n",
       "      <td>No</td>\n",
       "      <td>No</td>\n",
       "      <td>No</td>\n",
       "      <td>No</td>\n",
       "    </tr>\n",
       "    <tr>\n",
       "      <th>1</th>\n",
       "      <td>5575-GNVDE</td>\n",
       "      <td>DSL</td>\n",
       "      <td>Yes</td>\n",
       "      <td>No</td>\n",
       "      <td>Yes</td>\n",
       "      <td>No</td>\n",
       "      <td>No</td>\n",
       "      <td>No</td>\n",
       "    </tr>\n",
       "    <tr>\n",
       "      <th>2</th>\n",
       "      <td>3668-QPYBK</td>\n",
       "      <td>DSL</td>\n",
       "      <td>Yes</td>\n",
       "      <td>Yes</td>\n",
       "      <td>No</td>\n",
       "      <td>No</td>\n",
       "      <td>No</td>\n",
       "      <td>No</td>\n",
       "    </tr>\n",
       "    <tr>\n",
       "      <th>3</th>\n",
       "      <td>7795-CFOCW</td>\n",
       "      <td>DSL</td>\n",
       "      <td>Yes</td>\n",
       "      <td>No</td>\n",
       "      <td>Yes</td>\n",
       "      <td>Yes</td>\n",
       "      <td>No</td>\n",
       "      <td>No</td>\n",
       "    </tr>\n",
       "    <tr>\n",
       "      <th>4</th>\n",
       "      <td>9237-HQITU</td>\n",
       "      <td>Fiber optic</td>\n",
       "      <td>No</td>\n",
       "      <td>No</td>\n",
       "      <td>No</td>\n",
       "      <td>No</td>\n",
       "      <td>No</td>\n",
       "      <td>No</td>\n",
       "    </tr>\n",
       "    <tr>\n",
       "      <th>5</th>\n",
       "      <td>9305-CDSKC</td>\n",
       "      <td>Fiber optic</td>\n",
       "      <td>No</td>\n",
       "      <td>No</td>\n",
       "      <td>Yes</td>\n",
       "      <td>No</td>\n",
       "      <td>Yes</td>\n",
       "      <td>Yes</td>\n",
       "    </tr>\n",
       "    <tr>\n",
       "      <th>6</th>\n",
       "      <td>1452-KIOVK</td>\n",
       "      <td>Fiber optic</td>\n",
       "      <td>No</td>\n",
       "      <td>Yes</td>\n",
       "      <td>No</td>\n",
       "      <td>No</td>\n",
       "      <td>Yes</td>\n",
       "      <td>No</td>\n",
       "    </tr>\n",
       "    <tr>\n",
       "      <th>7</th>\n",
       "      <td>6713-OKOMC</td>\n",
       "      <td>DSL</td>\n",
       "      <td>Yes</td>\n",
       "      <td>No</td>\n",
       "      <td>No</td>\n",
       "      <td>No</td>\n",
       "      <td>No</td>\n",
       "      <td>No</td>\n",
       "    </tr>\n",
       "    <tr>\n",
       "      <th>8</th>\n",
       "      <td>7892-POOKP</td>\n",
       "      <td>Fiber optic</td>\n",
       "      <td>No</td>\n",
       "      <td>No</td>\n",
       "      <td>Yes</td>\n",
       "      <td>Yes</td>\n",
       "      <td>Yes</td>\n",
       "      <td>Yes</td>\n",
       "    </tr>\n",
       "    <tr>\n",
       "      <th>9</th>\n",
       "      <td>6388-TABGU</td>\n",
       "      <td>DSL</td>\n",
       "      <td>Yes</td>\n",
       "      <td>Yes</td>\n",
       "      <td>No</td>\n",
       "      <td>No</td>\n",
       "      <td>No</td>\n",
       "      <td>No</td>\n",
       "    </tr>\n",
       "  </tbody>\n",
       "</table>\n",
       "</div>"
      ],
      "text/plain": [
       "   customerID InternetService OnlineSecurity OnlineBackup DeviceProtection  \\\n",
       "0  7590-VHVEG             DSL             No          Yes               No   \n",
       "1  5575-GNVDE             DSL            Yes           No              Yes   \n",
       "2  3668-QPYBK             DSL            Yes          Yes               No   \n",
       "3  7795-CFOCW             DSL            Yes           No              Yes   \n",
       "4  9237-HQITU     Fiber optic             No           No               No   \n",
       "5  9305-CDSKC     Fiber optic             No           No              Yes   \n",
       "6  1452-KIOVK     Fiber optic             No          Yes               No   \n",
       "7  6713-OKOMC             DSL            Yes           No               No   \n",
       "8  7892-POOKP     Fiber optic             No           No              Yes   \n",
       "9  6388-TABGU             DSL            Yes          Yes               No   \n",
       "\n",
       "  TechSupport StreamingTV StreamingMovies  \n",
       "0          No          No              No  \n",
       "1          No          No              No  \n",
       "2          No          No              No  \n",
       "3         Yes          No              No  \n",
       "4          No          No              No  \n",
       "5          No         Yes             Yes  \n",
       "6          No         Yes              No  \n",
       "7          No          No              No  \n",
       "8         Yes         Yes             Yes  \n",
       "9          No          No              No  "
      ]
     },
     "metadata": {},
     "output_type": "display_data"
    }
   ],
   "source": [
    "# чтение данных из файла\n",
    "data_internet = pd.read_csv('/datasets/final_provider/internet.csv')\n",
    "# просмотр первых десяти строчек в таблице \n",
    "display(data_internet.head(10))"
   ]
  },
  {
   "cell_type": "code",
   "execution_count": 15,
   "id": "e33f7c53",
   "metadata": {},
   "outputs": [
    {
     "data": {
      "text/plain": [
       "Fiber optic    3096\n",
       "DSL            2421\n",
       "Name: InternetService, dtype: int64"
      ]
     },
     "execution_count": 15,
     "metadata": {},
     "output_type": "execute_result"
    }
   ],
   "source": [
    "data_internet['InternetService'].value_counts()"
   ]
  },
  {
   "cell_type": "markdown",
   "id": "a8f8b396",
   "metadata": {},
   "source": [
    "В этом файле хранятся данные о пакетах интернета у клиентов.  \n",
    "  \n",
    "customerID - индификатор клиента  \n",
    "InternetService - название сервиса, предоставляющего интернет (Fiber optic или DSL)  \n",
    "OnlineSecurity - онлайн защита/безопастноть от вредоностных программ, сайтов и прочего  \n",
    "OnlineBackup - онлайн резервная копия устройств  \n",
    "DeviceProtection - защита устройств  \n",
    "TechSupport - обращался ли клиент в техническую поддержку  \n",
    "StreamingTV - стриминговый сервис телевидиния  \n",
    "StreamingMovies - стриминговая платформа для фильмов, сериалов и прочего  "
   ]
  },
  {
   "cell_type": "code",
   "execution_count": 16,
   "id": "ffa4d6ff",
   "metadata": {},
   "outputs": [
    {
     "name": "stdout",
     "output_type": "stream",
     "text": [
      "<class 'pandas.core.frame.DataFrame'>\n",
      "RangeIndex: 5517 entries, 0 to 5516\n",
      "Data columns (total 8 columns):\n",
      " #   Column            Non-Null Count  Dtype \n",
      "---  ------            --------------  ----- \n",
      " 0   customerID        5517 non-null   object\n",
      " 1   InternetService   5517 non-null   object\n",
      " 2   OnlineSecurity    5517 non-null   object\n",
      " 3   OnlineBackup      5517 non-null   object\n",
      " 4   DeviceProtection  5517 non-null   object\n",
      " 5   TechSupport       5517 non-null   object\n",
      " 6   StreamingTV       5517 non-null   object\n",
      " 7   StreamingMovies   5517 non-null   object\n",
      "dtypes: object(8)\n",
      "memory usage: 344.9+ KB\n"
     ]
    }
   ],
   "source": [
    "data_internet.info()"
   ]
  },
  {
   "cell_type": "markdown",
   "id": "27071eb6",
   "metadata": {},
   "source": [
    "Пропусков в данных нет. Типы приведены верно."
   ]
  },
  {
   "cell_type": "markdown",
   "id": "f962009c",
   "metadata": {},
   "source": [
    "### Данные Personal"
   ]
  },
  {
   "cell_type": "code",
   "execution_count": 17,
   "id": "0cc1f8a8",
   "metadata": {},
   "outputs": [
    {
     "data": {
      "text/html": [
       "<div>\n",
       "<style scoped>\n",
       "    .dataframe tbody tr th:only-of-type {\n",
       "        vertical-align: middle;\n",
       "    }\n",
       "\n",
       "    .dataframe tbody tr th {\n",
       "        vertical-align: top;\n",
       "    }\n",
       "\n",
       "    .dataframe thead th {\n",
       "        text-align: right;\n",
       "    }\n",
       "</style>\n",
       "<table border=\"1\" class=\"dataframe\">\n",
       "  <thead>\n",
       "    <tr style=\"text-align: right;\">\n",
       "      <th></th>\n",
       "      <th>customerID</th>\n",
       "      <th>gender</th>\n",
       "      <th>SeniorCitizen</th>\n",
       "      <th>Partner</th>\n",
       "      <th>Dependents</th>\n",
       "    </tr>\n",
       "  </thead>\n",
       "  <tbody>\n",
       "    <tr>\n",
       "      <th>0</th>\n",
       "      <td>7590-VHVEG</td>\n",
       "      <td>Female</td>\n",
       "      <td>0</td>\n",
       "      <td>Yes</td>\n",
       "      <td>No</td>\n",
       "    </tr>\n",
       "    <tr>\n",
       "      <th>1</th>\n",
       "      <td>5575-GNVDE</td>\n",
       "      <td>Male</td>\n",
       "      <td>0</td>\n",
       "      <td>No</td>\n",
       "      <td>No</td>\n",
       "    </tr>\n",
       "    <tr>\n",
       "      <th>2</th>\n",
       "      <td>3668-QPYBK</td>\n",
       "      <td>Male</td>\n",
       "      <td>0</td>\n",
       "      <td>No</td>\n",
       "      <td>No</td>\n",
       "    </tr>\n",
       "    <tr>\n",
       "      <th>3</th>\n",
       "      <td>7795-CFOCW</td>\n",
       "      <td>Male</td>\n",
       "      <td>0</td>\n",
       "      <td>No</td>\n",
       "      <td>No</td>\n",
       "    </tr>\n",
       "    <tr>\n",
       "      <th>4</th>\n",
       "      <td>9237-HQITU</td>\n",
       "      <td>Female</td>\n",
       "      <td>0</td>\n",
       "      <td>No</td>\n",
       "      <td>No</td>\n",
       "    </tr>\n",
       "    <tr>\n",
       "      <th>5</th>\n",
       "      <td>9305-CDSKC</td>\n",
       "      <td>Female</td>\n",
       "      <td>0</td>\n",
       "      <td>No</td>\n",
       "      <td>No</td>\n",
       "    </tr>\n",
       "    <tr>\n",
       "      <th>6</th>\n",
       "      <td>1452-KIOVK</td>\n",
       "      <td>Male</td>\n",
       "      <td>0</td>\n",
       "      <td>No</td>\n",
       "      <td>Yes</td>\n",
       "    </tr>\n",
       "    <tr>\n",
       "      <th>7</th>\n",
       "      <td>6713-OKOMC</td>\n",
       "      <td>Female</td>\n",
       "      <td>0</td>\n",
       "      <td>No</td>\n",
       "      <td>No</td>\n",
       "    </tr>\n",
       "    <tr>\n",
       "      <th>8</th>\n",
       "      <td>7892-POOKP</td>\n",
       "      <td>Female</td>\n",
       "      <td>0</td>\n",
       "      <td>Yes</td>\n",
       "      <td>No</td>\n",
       "    </tr>\n",
       "    <tr>\n",
       "      <th>9</th>\n",
       "      <td>6388-TABGU</td>\n",
       "      <td>Male</td>\n",
       "      <td>0</td>\n",
       "      <td>No</td>\n",
       "      <td>Yes</td>\n",
       "    </tr>\n",
       "  </tbody>\n",
       "</table>\n",
       "</div>"
      ],
      "text/plain": [
       "   customerID  gender  SeniorCitizen Partner Dependents\n",
       "0  7590-VHVEG  Female              0     Yes         No\n",
       "1  5575-GNVDE    Male              0      No         No\n",
       "2  3668-QPYBK    Male              0      No         No\n",
       "3  7795-CFOCW    Male              0      No         No\n",
       "4  9237-HQITU  Female              0      No         No\n",
       "5  9305-CDSKC  Female              0      No         No\n",
       "6  1452-KIOVK    Male              0      No        Yes\n",
       "7  6713-OKOMC  Female              0      No         No\n",
       "8  7892-POOKP  Female              0     Yes         No\n",
       "9  6388-TABGU    Male              0      No        Yes"
      ]
     },
     "metadata": {},
     "output_type": "display_data"
    }
   ],
   "source": [
    "# чтение данных из файла\n",
    "data_personal = pd.read_csv('/datasets/final_provider/personal.csv')\n",
    "# просмотр первых десяти строчек в таблице \n",
    "display(data_personal.head(10))"
   ]
  },
  {
   "cell_type": "markdown",
   "id": "bb29e31b",
   "metadata": {},
   "source": [
    "Заметила, что в Senior Citizen одни нули. Проверим какие значения там могут быть и выведем количество уникальных значений. "
   ]
  },
  {
   "cell_type": "code",
   "execution_count": 18,
   "id": "79fea677",
   "metadata": {},
   "outputs": [
    {
     "data": {
      "text/plain": [
       "0    5901\n",
       "1    1142\n",
       "Name: SeniorCitizen, dtype: int64"
      ]
     },
     "execution_count": 18,
     "metadata": {},
     "output_type": "execute_result"
    }
   ],
   "source": [
    "data_personal['SeniorCitizen'].value_counts()"
   ]
  },
  {
   "cell_type": "code",
   "execution_count": 19,
   "id": "4ccbb51e",
   "metadata": {},
   "outputs": [
    {
     "data": {
      "text/plain": [
       "Male      3555\n",
       "Female    3488\n",
       "Name: gender, dtype: int64"
      ]
     },
     "execution_count": 19,
     "metadata": {},
     "output_type": "execute_result"
    }
   ],
   "source": [
    "data_personal['gender'].value_counts()"
   ]
  },
  {
   "cell_type": "markdown",
   "id": "86792ba3",
   "metadata": {},
   "source": [
    "В этом файле хранятся данные о клиентах.  \n",
    "  \n",
    "customerID - индификатор клиента  \n",
    "gender - гендер (мужчина или женщина)  \n",
    "SeniorCitizen - является ли клиент пенсионером (1 - да, 0 - нет)  \n",
    "Partner - имеется ли партнер  \n",
    "Dependents - имеются ли на попечительстве иждивенцы (дети, пожилые, инвалиды и прочее)  "
   ]
  },
  {
   "cell_type": "code",
   "execution_count": 20,
   "id": "c308d5ae",
   "metadata": {},
   "outputs": [
    {
     "name": "stdout",
     "output_type": "stream",
     "text": [
      "<class 'pandas.core.frame.DataFrame'>\n",
      "RangeIndex: 7043 entries, 0 to 7042\n",
      "Data columns (total 5 columns):\n",
      " #   Column         Non-Null Count  Dtype \n",
      "---  ------         --------------  ----- \n",
      " 0   customerID     7043 non-null   object\n",
      " 1   gender         7043 non-null   object\n",
      " 2   SeniorCitizen  7043 non-null   int64 \n",
      " 3   Partner        7043 non-null   object\n",
      " 4   Dependents     7043 non-null   object\n",
      "dtypes: int64(1), object(4)\n",
      "memory usage: 275.2+ KB\n"
     ]
    }
   ],
   "source": [
    "data_personal.info()"
   ]
  },
  {
   "cell_type": "markdown",
   "id": "846501d3",
   "metadata": {},
   "source": [
    "Пропусков в данных нет. Типы приведены верно."
   ]
  },
  {
   "cell_type": "markdown",
   "id": "dd9d3e0d",
   "metadata": {},
   "source": [
    "### Данные Phone"
   ]
  },
  {
   "cell_type": "code",
   "execution_count": 21,
   "id": "6850d06c",
   "metadata": {},
   "outputs": [
    {
     "data": {
      "text/html": [
       "<div>\n",
       "<style scoped>\n",
       "    .dataframe tbody tr th:only-of-type {\n",
       "        vertical-align: middle;\n",
       "    }\n",
       "\n",
       "    .dataframe tbody tr th {\n",
       "        vertical-align: top;\n",
       "    }\n",
       "\n",
       "    .dataframe thead th {\n",
       "        text-align: right;\n",
       "    }\n",
       "</style>\n",
       "<table border=\"1\" class=\"dataframe\">\n",
       "  <thead>\n",
       "    <tr style=\"text-align: right;\">\n",
       "      <th></th>\n",
       "      <th>customerID</th>\n",
       "      <th>MultipleLines</th>\n",
       "    </tr>\n",
       "  </thead>\n",
       "  <tbody>\n",
       "    <tr>\n",
       "      <th>0</th>\n",
       "      <td>5575-GNVDE</td>\n",
       "      <td>No</td>\n",
       "    </tr>\n",
       "    <tr>\n",
       "      <th>1</th>\n",
       "      <td>3668-QPYBK</td>\n",
       "      <td>No</td>\n",
       "    </tr>\n",
       "    <tr>\n",
       "      <th>2</th>\n",
       "      <td>9237-HQITU</td>\n",
       "      <td>No</td>\n",
       "    </tr>\n",
       "    <tr>\n",
       "      <th>3</th>\n",
       "      <td>9305-CDSKC</td>\n",
       "      <td>Yes</td>\n",
       "    </tr>\n",
       "    <tr>\n",
       "      <th>4</th>\n",
       "      <td>1452-KIOVK</td>\n",
       "      <td>Yes</td>\n",
       "    </tr>\n",
       "    <tr>\n",
       "      <th>5</th>\n",
       "      <td>7892-POOKP</td>\n",
       "      <td>Yes</td>\n",
       "    </tr>\n",
       "    <tr>\n",
       "      <th>6</th>\n",
       "      <td>6388-TABGU</td>\n",
       "      <td>No</td>\n",
       "    </tr>\n",
       "    <tr>\n",
       "      <th>7</th>\n",
       "      <td>9763-GRSKD</td>\n",
       "      <td>No</td>\n",
       "    </tr>\n",
       "    <tr>\n",
       "      <th>8</th>\n",
       "      <td>7469-LKBCI</td>\n",
       "      <td>No</td>\n",
       "    </tr>\n",
       "    <tr>\n",
       "      <th>9</th>\n",
       "      <td>8091-TTVAX</td>\n",
       "      <td>Yes</td>\n",
       "    </tr>\n",
       "  </tbody>\n",
       "</table>\n",
       "</div>"
      ],
      "text/plain": [
       "   customerID MultipleLines\n",
       "0  5575-GNVDE            No\n",
       "1  3668-QPYBK            No\n",
       "2  9237-HQITU            No\n",
       "3  9305-CDSKC           Yes\n",
       "4  1452-KIOVK           Yes\n",
       "5  7892-POOKP           Yes\n",
       "6  6388-TABGU            No\n",
       "7  9763-GRSKD            No\n",
       "8  7469-LKBCI            No\n",
       "9  8091-TTVAX           Yes"
      ]
     },
     "metadata": {},
     "output_type": "display_data"
    }
   ],
   "source": [
    "# чтение данных из файла\n",
    "data_phone = pd.read_csv('/datasets/final_provider/phone.csv')\n",
    "# просмотр первых десяти строчек в таблице \n",
    "display(data_phone.head(10))"
   ]
  },
  {
   "cell_type": "markdown",
   "id": "a0c2b71a",
   "metadata": {},
   "source": [
    "В этом файле хранятся данные о телефонной связи.  \n",
    "\n",
    "customerID - индификатор пользователя  \n",
    "MultipleLines - возможность ставить звонок на удержание"
   ]
  },
  {
   "cell_type": "code",
   "execution_count": 22,
   "id": "36292402",
   "metadata": {},
   "outputs": [
    {
     "name": "stdout",
     "output_type": "stream",
     "text": [
      "<class 'pandas.core.frame.DataFrame'>\n",
      "RangeIndex: 6361 entries, 0 to 6360\n",
      "Data columns (total 2 columns):\n",
      " #   Column         Non-Null Count  Dtype \n",
      "---  ------         --------------  ----- \n",
      " 0   customerID     6361 non-null   object\n",
      " 1   MultipleLines  6361 non-null   object\n",
      "dtypes: object(2)\n",
      "memory usage: 99.5+ KB\n"
     ]
    }
   ],
   "source": [
    "data_phone.info()"
   ]
  },
  {
   "cell_type": "markdown",
   "id": "30ffd4f8",
   "metadata": {},
   "source": [
    "Пропусков в данных нет. Типы приведены верно."
   ]
  },
  {
   "cell_type": "markdown",
   "id": "fef84681",
   "metadata": {},
   "source": [
    "### Общий анализ"
   ]
  },
  {
   "cell_type": "code",
   "execution_count": 23,
   "id": "905b0b0a",
   "metadata": {},
   "outputs": [
    {
     "name": "stdout",
     "output_type": "stream",
     "text": [
      "Размер датафрейма с контрактами: 7043\n",
      "Размер датафрейма с интернетом: 5517\n",
      "Размер датафрейма с клиентами: 7043\n",
      "Размер датафрейма с сотовой связью: 6361\n"
     ]
    }
   ],
   "source": [
    "print('Размер датафрейма с контрактами:', data_contract['customerID'].count())\n",
    "print('Размер датафрейма с интернетом:', data_internet['customerID'].count())\n",
    "print('Размер датафрейма с клиентами:', data_personal['customerID'].count())\n",
    "print('Размер датафрейма с сотовой связью:', data_phone['customerID'].count())"
   ]
  },
  {
   "cell_type": "markdown",
   "id": "539d47f5",
   "metadata": {},
   "source": [
    "Как мы видим, количество id клиентов равно лишь в двух датафреймах - в Contract и Personal. Из этого следует, что существуют клиенты, которые заключили контракт только на интернет и только на сотовую связь. "
   ]
  },
  {
   "cell_type": "markdown",
   "id": "4ac0362f",
   "metadata": {},
   "source": [
    "## План работы"
   ]
  },
  {
   "cell_type": "markdown",
   "id": "8df5f56f",
   "metadata": {},
   "source": [
    "1. Соединить таблицы методом outer merge. \n",
    "2. Разделение выборки на тренировочную и тестовую в отношениие 75/25.\n",
    "3. Выделить целевой признак (столбец EndDate)\n",
    "4. Эта задача - классификации. Значит, нам подойдут модели: дерево решений, лес решений, логистическая регрессия. \n",
    "5. Обучить модели на выборке с метрикой AUC-ROC. \n",
    "6. Выбрать лучший показатель. \n",
    "7. Протестировать модель на тестовой выборке. \n",
    "8. Написать заключение. "
   ]
  },
  {
   "cell_type": "markdown",
   "id": "04567867",
   "metadata": {},
   "source": [
    "<div class=\"alert alert-block alert-danger\">\n",
    "<b>Комментарий тимлида❌:</b> \n",
    "    \n",
    "Мы делим данные на 2 выборки обучающая и тестовая в пропорции 75/25, валидационную выь=борку мы не используем, так как выбираем модель на кросс-валидации\n",
    " \n",
    "</div>"
   ]
  },
  {
   "cell_type": "markdown",
   "id": "ed68ce85",
   "metadata": {},
   "source": [
    "<div class=\"alert alert-block alert-info\">\n",
    "<b>Комментарий студентки: </b> Исправила\n",
    "</div>"
   ]
  },
  {
   "cell_type": "markdown",
   "id": "07ddc4f3",
   "metadata": {},
   "source": [
    "    \n",
    "<div class=\"alert alert-block alert-success\">\n",
    "<b>Комментарий тимлида V.2👍:</b> Хорошо =)\n",
    "</div>"
   ]
  },
  {
   "cell_type": "markdown",
   "id": "dce99760",
   "metadata": {},
   "source": [
    "## Подготовка данных"
   ]
  },
  {
   "cell_type": "code",
   "execution_count": 24,
   "id": "3a272ea2",
   "metadata": {
    "scrolled": true
   },
   "outputs": [
    {
     "name": "stdout",
     "output_type": "stream",
     "text": [
      "<class 'pandas.core.frame.DataFrame'>\n",
      "RangeIndex: 7043 entries, 0 to 7042\n",
      "Data columns (total 9 columns):\n",
      " #   Column            Non-Null Count  Dtype         \n",
      "---  ------            --------------  -----         \n",
      " 0   customerID        7043 non-null   object        \n",
      " 1   BeginDate         7043 non-null   datetime64[ns]\n",
      " 2   EndDate           7043 non-null   object        \n",
      " 3   Type              7043 non-null   object        \n",
      " 4   PaperlessBilling  7043 non-null   object        \n",
      " 5   PaymentMethod     7043 non-null   object        \n",
      " 6   MonthlyCharges    7043 non-null   float64       \n",
      " 7   TotalCharges      7043 non-null   float64       \n",
      " 8   Target            7043 non-null   int64         \n",
      "dtypes: datetime64[ns](1), float64(2), int64(1), object(5)\n",
      "memory usage: 495.3+ KB\n"
     ]
    }
   ],
   "source": [
    "# Сгенерируем целевой признак\n",
    "data_contract['Target'] = np.where(data_contract['EndDate']=='No', 0, 1)\n",
    "data_contract.info()"
   ]
  },
  {
   "cell_type": "markdown",
   "id": "e31b54b9",
   "metadata": {},
   "source": [
    "<div class=\"alert alert-success\">\n",
    "<h2> Комментарий ревьюера <a class=\"tocSkip\"> </h2>\n",
    "\n",
    "<b>Все отлично!👍:</b> ЦФ есть, идем дальше"
   ]
  },
  {
   "cell_type": "markdown",
   "id": "55385446",
   "metadata": {},
   "source": [
    "\n",
    "<div class=\"alert alert-warning\">\n",
    "    <h2> Комментарий ревьюера <a class=\"tocSkip\"> </h2>\n",
    "    \n",
    "<b>Некоторые замечания и рекомендации💡:</b> хорошо бы было проанализировать этот таргет, посмотреть есть ли дисбаланс классов."
   ]
  },
  {
   "cell_type": "markdown",
   "id": "fa9f2eb6",
   "metadata": {},
   "source": [
    "<div class=\"alert alert-block alert-info\">\n",
    "<b>Комментарий студентки: </b> Исправила\n",
    "</div>"
   ]
  },
  {
   "cell_type": "code",
   "execution_count": 25,
   "id": "a0dfc928",
   "metadata": {},
   "outputs": [
    {
     "data": {
      "text/plain": [
       "0    5174\n",
       "1    1869\n",
       "Name: Target, dtype: int64"
      ]
     },
     "execution_count": 25,
     "metadata": {},
     "output_type": "execute_result"
    }
   ],
   "source": [
    "data_contract['Target'].value_counts()"
   ]
  },
  {
   "cell_type": "markdown",
   "id": "fca88344",
   "metadata": {},
   "source": [
    "Определенно есть дисбаланс классов. Большинство значений таргета относится к категории \"Нет\""
   ]
  },
  {
   "cell_type": "markdown",
   "id": "d1966c64",
   "metadata": {},
   "source": [
    "<div class=\"alert alert-success\">\n",
    "<h2> Комментарий ревьюера v.2<a class=\"tocSkip\"> </h2>\n",
    "\n",
    "<b>Все отлично!👍:</b> ок"
   ]
  },
  {
   "cell_type": "code",
   "execution_count": 26,
   "id": "9a334dbd",
   "metadata": {},
   "outputs": [
    {
     "data": {
      "text/html": [
       "<div>\n",
       "<style scoped>\n",
       "    .dataframe tbody tr th:only-of-type {\n",
       "        vertical-align: middle;\n",
       "    }\n",
       "\n",
       "    .dataframe tbody tr th {\n",
       "        vertical-align: top;\n",
       "    }\n",
       "\n",
       "    .dataframe thead th {\n",
       "        text-align: right;\n",
       "    }\n",
       "</style>\n",
       "<table border=\"1\" class=\"dataframe\">\n",
       "  <thead>\n",
       "    <tr style=\"text-align: right;\">\n",
       "      <th></th>\n",
       "      <th>customerID</th>\n",
       "      <th>BeginDate</th>\n",
       "      <th>EndDate</th>\n",
       "      <th>Type</th>\n",
       "      <th>PaperlessBilling</th>\n",
       "      <th>PaymentMethod</th>\n",
       "      <th>MonthlyCharges</th>\n",
       "      <th>TotalCharges</th>\n",
       "      <th>Target</th>\n",
       "      <th>Duration</th>\n",
       "    </tr>\n",
       "  </thead>\n",
       "  <tbody>\n",
       "    <tr>\n",
       "      <th>0</th>\n",
       "      <td>7590-VHVEG</td>\n",
       "      <td>2020-01-01</td>\n",
       "      <td>2020-02-01</td>\n",
       "      <td>Month-to-month</td>\n",
       "      <td>Yes</td>\n",
       "      <td>Electronic check</td>\n",
       "      <td>29.85</td>\n",
       "      <td>29.85</td>\n",
       "      <td>0</td>\n",
       "      <td>31 days</td>\n",
       "    </tr>\n",
       "    <tr>\n",
       "      <th>1</th>\n",
       "      <td>5575-GNVDE</td>\n",
       "      <td>2017-04-01</td>\n",
       "      <td>2020-02-01</td>\n",
       "      <td>One year</td>\n",
       "      <td>No</td>\n",
       "      <td>Mailed check</td>\n",
       "      <td>56.95</td>\n",
       "      <td>1889.50</td>\n",
       "      <td>0</td>\n",
       "      <td>1036 days</td>\n",
       "    </tr>\n",
       "    <tr>\n",
       "      <th>2</th>\n",
       "      <td>3668-QPYBK</td>\n",
       "      <td>2019-10-01</td>\n",
       "      <td>2019-12-01</td>\n",
       "      <td>Month-to-month</td>\n",
       "      <td>Yes</td>\n",
       "      <td>Mailed check</td>\n",
       "      <td>53.85</td>\n",
       "      <td>108.15</td>\n",
       "      <td>1</td>\n",
       "      <td>61 days</td>\n",
       "    </tr>\n",
       "    <tr>\n",
       "      <th>3</th>\n",
       "      <td>7795-CFOCW</td>\n",
       "      <td>2016-05-01</td>\n",
       "      <td>2020-02-01</td>\n",
       "      <td>One year</td>\n",
       "      <td>No</td>\n",
       "      <td>Bank transfer (automatic)</td>\n",
       "      <td>42.30</td>\n",
       "      <td>1840.75</td>\n",
       "      <td>0</td>\n",
       "      <td>1371 days</td>\n",
       "    </tr>\n",
       "    <tr>\n",
       "      <th>4</th>\n",
       "      <td>9237-HQITU</td>\n",
       "      <td>2019-09-01</td>\n",
       "      <td>2019-11-01</td>\n",
       "      <td>Month-to-month</td>\n",
       "      <td>Yes</td>\n",
       "      <td>Electronic check</td>\n",
       "      <td>70.70</td>\n",
       "      <td>151.65</td>\n",
       "      <td>1</td>\n",
       "      <td>61 days</td>\n",
       "    </tr>\n",
       "    <tr>\n",
       "      <th>...</th>\n",
       "      <td>...</td>\n",
       "      <td>...</td>\n",
       "      <td>...</td>\n",
       "      <td>...</td>\n",
       "      <td>...</td>\n",
       "      <td>...</td>\n",
       "      <td>...</td>\n",
       "      <td>...</td>\n",
       "      <td>...</td>\n",
       "      <td>...</td>\n",
       "    </tr>\n",
       "    <tr>\n",
       "      <th>7038</th>\n",
       "      <td>6840-RESVB</td>\n",
       "      <td>2018-02-01</td>\n",
       "      <td>2020-02-01</td>\n",
       "      <td>One year</td>\n",
       "      <td>Yes</td>\n",
       "      <td>Mailed check</td>\n",
       "      <td>84.80</td>\n",
       "      <td>1990.50</td>\n",
       "      <td>0</td>\n",
       "      <td>730 days</td>\n",
       "    </tr>\n",
       "    <tr>\n",
       "      <th>7039</th>\n",
       "      <td>2234-XADUH</td>\n",
       "      <td>2014-02-01</td>\n",
       "      <td>2020-02-01</td>\n",
       "      <td>One year</td>\n",
       "      <td>Yes</td>\n",
       "      <td>Credit card (automatic)</td>\n",
       "      <td>103.20</td>\n",
       "      <td>7362.90</td>\n",
       "      <td>0</td>\n",
       "      <td>2191 days</td>\n",
       "    </tr>\n",
       "    <tr>\n",
       "      <th>7040</th>\n",
       "      <td>4801-JZAZL</td>\n",
       "      <td>2019-03-01</td>\n",
       "      <td>2020-02-01</td>\n",
       "      <td>Month-to-month</td>\n",
       "      <td>Yes</td>\n",
       "      <td>Electronic check</td>\n",
       "      <td>29.60</td>\n",
       "      <td>346.45</td>\n",
       "      <td>0</td>\n",
       "      <td>337 days</td>\n",
       "    </tr>\n",
       "    <tr>\n",
       "      <th>7041</th>\n",
       "      <td>8361-LTMKD</td>\n",
       "      <td>2019-07-01</td>\n",
       "      <td>2019-11-01</td>\n",
       "      <td>Month-to-month</td>\n",
       "      <td>Yes</td>\n",
       "      <td>Mailed check</td>\n",
       "      <td>74.40</td>\n",
       "      <td>306.60</td>\n",
       "      <td>1</td>\n",
       "      <td>123 days</td>\n",
       "    </tr>\n",
       "    <tr>\n",
       "      <th>7042</th>\n",
       "      <td>3186-AJIEK</td>\n",
       "      <td>2014-08-01</td>\n",
       "      <td>2020-02-01</td>\n",
       "      <td>Two year</td>\n",
       "      <td>Yes</td>\n",
       "      <td>Bank transfer (automatic)</td>\n",
       "      <td>105.65</td>\n",
       "      <td>6844.50</td>\n",
       "      <td>0</td>\n",
       "      <td>2010 days</td>\n",
       "    </tr>\n",
       "  </tbody>\n",
       "</table>\n",
       "<p>7043 rows × 10 columns</p>\n",
       "</div>"
      ],
      "text/plain": [
       "      customerID  BeginDate    EndDate            Type PaperlessBilling  \\\n",
       "0     7590-VHVEG 2020-01-01 2020-02-01  Month-to-month              Yes   \n",
       "1     5575-GNVDE 2017-04-01 2020-02-01        One year               No   \n",
       "2     3668-QPYBK 2019-10-01 2019-12-01  Month-to-month              Yes   \n",
       "3     7795-CFOCW 2016-05-01 2020-02-01        One year               No   \n",
       "4     9237-HQITU 2019-09-01 2019-11-01  Month-to-month              Yes   \n",
       "...          ...        ...        ...             ...              ...   \n",
       "7038  6840-RESVB 2018-02-01 2020-02-01        One year              Yes   \n",
       "7039  2234-XADUH 2014-02-01 2020-02-01        One year              Yes   \n",
       "7040  4801-JZAZL 2019-03-01 2020-02-01  Month-to-month              Yes   \n",
       "7041  8361-LTMKD 2019-07-01 2019-11-01  Month-to-month              Yes   \n",
       "7042  3186-AJIEK 2014-08-01 2020-02-01        Two year              Yes   \n",
       "\n",
       "                  PaymentMethod  MonthlyCharges  TotalCharges  Target  \\\n",
       "0              Electronic check           29.85         29.85       0   \n",
       "1                  Mailed check           56.95       1889.50       0   \n",
       "2                  Mailed check           53.85        108.15       1   \n",
       "3     Bank transfer (automatic)           42.30       1840.75       0   \n",
       "4              Electronic check           70.70        151.65       1   \n",
       "...                         ...             ...           ...     ...   \n",
       "7038               Mailed check           84.80       1990.50       0   \n",
       "7039    Credit card (automatic)          103.20       7362.90       0   \n",
       "7040           Electronic check           29.60        346.45       0   \n",
       "7041               Mailed check           74.40        306.60       1   \n",
       "7042  Bank transfer (automatic)          105.65       6844.50       0   \n",
       "\n",
       "      Duration  \n",
       "0      31 days  \n",
       "1    1036 days  \n",
       "2      61 days  \n",
       "3    1371 days  \n",
       "4      61 days  \n",
       "...        ...  \n",
       "7038  730 days  \n",
       "7039 2191 days  \n",
       "7040  337 days  \n",
       "7041  123 days  \n",
       "7042 2010 days  \n",
       "\n",
       "[7043 rows x 10 columns]"
      ]
     },
     "execution_count": 26,
     "metadata": {},
     "output_type": "execute_result"
    }
   ],
   "source": [
    "# Посчитаем количество дней, в течении которых компания работала с клиентом\n",
    "# Для этого из даты конца действия договора или из актуальной для датасета даты вычтем дату заключения договора\n",
    "current_date = '2020-02-01 00:00:00'\n",
    "data_contract['EndDate'] = np.where(data_contract['EndDate']=='No', current_date, data_contract['EndDate'])\n",
    "data_contract['EndDate'] = pd.to_datetime(data_contract['EndDate'], format='%Y-%m-%dT%H:%M:%S')\n",
    "data_contract['Duration'] = data_contract['EndDate'] - data_contract['BeginDate']\n",
    "data_contract"
   ]
  },
  {
   "cell_type": "markdown",
   "id": "ccd083b8",
   "metadata": {},
   "source": [
    "<div class=\"alert alert-success\">\n",
    "<h2> Комментарий ревьюера <a class=\"tocSkip\"> </h2>\n",
    "\n",
    "<b>Все отлично!👍:</b> есть новый полезный признак"
   ]
  },
  {
   "cell_type": "code",
   "execution_count": 27,
   "id": "9bc1588c",
   "metadata": {},
   "outputs": [],
   "source": [
    "# объединим таблицы\n",
    "data_full = data_contract.merge(data_internet, on='customerID', how='outer')\n",
    "data_full = data_full.merge(data_personal, on='customerID', how='outer')\n",
    "data_full = data_full.merge(data_phone, on='customerID', how='outer')\n",
    "data_full = data_full.drop(['EndDate', 'BeginDate'], axis=1)\n",
    "# обозначим индексами столбец customerID\n",
    "data_full = data_full.set_index('customerID')\n",
    "# заполним пропуски, образовавшиеся из-за объединения таблиц\n",
    "data_full[['InternetService', 'OnlineSecurity', 'OnlineBackup', 'DeviceProtection', 'TechSupport', \n",
    "           'StreamingTV', 'StreamingMovies', 'MultipleLines']] = data_full[['InternetService', \n",
    "                                                                            'OnlineSecurity', 'OnlineBackup', \n",
    "                                                                            'DeviceProtection', 'TechSupport', \n",
    "                                                                            'StreamingTV', 'StreamingMovies', \n",
    "                                                                            'MultipleLines']].fillna('No')"
   ]
  },
  {
   "cell_type": "markdown",
   "id": "c033b3ed",
   "metadata": {},
   "source": [
    "<br/>\n",
    "<div class=\"alert alert-block alert-danger\">\n",
    "<h2> Комментарий ревьюера <a class=\"tocSkip\"></h2>\n",
    "\n",
    "    \n",
    "<b>На доработку🤔:</b> заполнить все пропуски '-' не корректно. К примеру столбец `OnlineSecurity` у него 2 значения Yes и No, а заполнив '-' мы введем 3е значение, хотя логично предположить, что таких услуг нет, то есть заполнить 'No'. Такая же логика должны быть у других столбцов с пропусками. "
   ]
  },
  {
   "cell_type": "markdown",
   "id": "72cdfac0",
   "metadata": {},
   "source": [
    "<div class=\"alert alert-block alert-info\">\n",
    "<b>Комментарий студентки: </b> Логично. Исправила.\n",
    "</div>"
   ]
  },
  {
   "cell_type": "markdown",
   "id": "cf4c581d",
   "metadata": {},
   "source": [
    "<div class=\"alert alert-success\">\n",
    "<h2> Комментарий ревьюера v.2<a class=\"tocSkip\"> </h2>\n",
    "\n",
    "<b>Все отлично!👍:</b> супер"
   ]
  },
  {
   "cell_type": "code",
   "execution_count": 28,
   "id": "d914412e",
   "metadata": {},
   "outputs": [],
   "source": [
    "# создадим столбец с длительностью работы с клиентом\n",
    "data_full['Duration'] = data_full['Duration'] / np.timedelta64(1, 'D')\n",
    "data_full['Duration'] = data_full['Duration'].astype(int)"
   ]
  },
  {
   "cell_type": "code",
   "execution_count": 29,
   "id": "c45f07f1",
   "metadata": {
    "scrolled": false
   },
   "outputs": [
    {
     "data": {
      "text/html": [
       "<div>\n",
       "<style scoped>\n",
       "    .dataframe tbody tr th:only-of-type {\n",
       "        vertical-align: middle;\n",
       "    }\n",
       "\n",
       "    .dataframe tbody tr th {\n",
       "        vertical-align: top;\n",
       "    }\n",
       "\n",
       "    .dataframe thead th {\n",
       "        text-align: right;\n",
       "    }\n",
       "</style>\n",
       "<table border=\"1\" class=\"dataframe\">\n",
       "  <thead>\n",
       "    <tr style=\"text-align: right;\">\n",
       "      <th></th>\n",
       "      <th>Type</th>\n",
       "      <th>PaperlessBilling</th>\n",
       "      <th>PaymentMethod</th>\n",
       "      <th>MonthlyCharges</th>\n",
       "      <th>TotalCharges</th>\n",
       "      <th>Target</th>\n",
       "      <th>Duration</th>\n",
       "      <th>InternetService</th>\n",
       "      <th>OnlineSecurity</th>\n",
       "      <th>OnlineBackup</th>\n",
       "      <th>DeviceProtection</th>\n",
       "      <th>TechSupport</th>\n",
       "      <th>StreamingTV</th>\n",
       "      <th>StreamingMovies</th>\n",
       "      <th>gender</th>\n",
       "      <th>SeniorCitizen</th>\n",
       "      <th>Partner</th>\n",
       "      <th>Dependents</th>\n",
       "      <th>MultipleLines</th>\n",
       "    </tr>\n",
       "    <tr>\n",
       "      <th>customerID</th>\n",
       "      <th></th>\n",
       "      <th></th>\n",
       "      <th></th>\n",
       "      <th></th>\n",
       "      <th></th>\n",
       "      <th></th>\n",
       "      <th></th>\n",
       "      <th></th>\n",
       "      <th></th>\n",
       "      <th></th>\n",
       "      <th></th>\n",
       "      <th></th>\n",
       "      <th></th>\n",
       "      <th></th>\n",
       "      <th></th>\n",
       "      <th></th>\n",
       "      <th></th>\n",
       "      <th></th>\n",
       "      <th></th>\n",
       "    </tr>\n",
       "  </thead>\n",
       "  <tbody>\n",
       "    <tr>\n",
       "      <th>7590-VHVEG</th>\n",
       "      <td>Month-to-month</td>\n",
       "      <td>Yes</td>\n",
       "      <td>Electronic check</td>\n",
       "      <td>29.85</td>\n",
       "      <td>29.85</td>\n",
       "      <td>0</td>\n",
       "      <td>31</td>\n",
       "      <td>DSL</td>\n",
       "      <td>No</td>\n",
       "      <td>Yes</td>\n",
       "      <td>No</td>\n",
       "      <td>No</td>\n",
       "      <td>No</td>\n",
       "      <td>No</td>\n",
       "      <td>Female</td>\n",
       "      <td>0</td>\n",
       "      <td>Yes</td>\n",
       "      <td>No</td>\n",
       "      <td>No</td>\n",
       "    </tr>\n",
       "    <tr>\n",
       "      <th>5575-GNVDE</th>\n",
       "      <td>One year</td>\n",
       "      <td>No</td>\n",
       "      <td>Mailed check</td>\n",
       "      <td>56.95</td>\n",
       "      <td>1889.50</td>\n",
       "      <td>0</td>\n",
       "      <td>1036</td>\n",
       "      <td>DSL</td>\n",
       "      <td>Yes</td>\n",
       "      <td>No</td>\n",
       "      <td>Yes</td>\n",
       "      <td>No</td>\n",
       "      <td>No</td>\n",
       "      <td>No</td>\n",
       "      <td>Male</td>\n",
       "      <td>0</td>\n",
       "      <td>No</td>\n",
       "      <td>No</td>\n",
       "      <td>No</td>\n",
       "    </tr>\n",
       "    <tr>\n",
       "      <th>3668-QPYBK</th>\n",
       "      <td>Month-to-month</td>\n",
       "      <td>Yes</td>\n",
       "      <td>Mailed check</td>\n",
       "      <td>53.85</td>\n",
       "      <td>108.15</td>\n",
       "      <td>1</td>\n",
       "      <td>61</td>\n",
       "      <td>DSL</td>\n",
       "      <td>Yes</td>\n",
       "      <td>Yes</td>\n",
       "      <td>No</td>\n",
       "      <td>No</td>\n",
       "      <td>No</td>\n",
       "      <td>No</td>\n",
       "      <td>Male</td>\n",
       "      <td>0</td>\n",
       "      <td>No</td>\n",
       "      <td>No</td>\n",
       "      <td>No</td>\n",
       "    </tr>\n",
       "    <tr>\n",
       "      <th>7795-CFOCW</th>\n",
       "      <td>One year</td>\n",
       "      <td>No</td>\n",
       "      <td>Bank transfer (automatic)</td>\n",
       "      <td>42.30</td>\n",
       "      <td>1840.75</td>\n",
       "      <td>0</td>\n",
       "      <td>1371</td>\n",
       "      <td>DSL</td>\n",
       "      <td>Yes</td>\n",
       "      <td>No</td>\n",
       "      <td>Yes</td>\n",
       "      <td>Yes</td>\n",
       "      <td>No</td>\n",
       "      <td>No</td>\n",
       "      <td>Male</td>\n",
       "      <td>0</td>\n",
       "      <td>No</td>\n",
       "      <td>No</td>\n",
       "      <td>No</td>\n",
       "    </tr>\n",
       "    <tr>\n",
       "      <th>9237-HQITU</th>\n",
       "      <td>Month-to-month</td>\n",
       "      <td>Yes</td>\n",
       "      <td>Electronic check</td>\n",
       "      <td>70.70</td>\n",
       "      <td>151.65</td>\n",
       "      <td>1</td>\n",
       "      <td>61</td>\n",
       "      <td>Fiber optic</td>\n",
       "      <td>No</td>\n",
       "      <td>No</td>\n",
       "      <td>No</td>\n",
       "      <td>No</td>\n",
       "      <td>No</td>\n",
       "      <td>No</td>\n",
       "      <td>Female</td>\n",
       "      <td>0</td>\n",
       "      <td>No</td>\n",
       "      <td>No</td>\n",
       "      <td>No</td>\n",
       "    </tr>\n",
       "    <tr>\n",
       "      <th>...</th>\n",
       "      <td>...</td>\n",
       "      <td>...</td>\n",
       "      <td>...</td>\n",
       "      <td>...</td>\n",
       "      <td>...</td>\n",
       "      <td>...</td>\n",
       "      <td>...</td>\n",
       "      <td>...</td>\n",
       "      <td>...</td>\n",
       "      <td>...</td>\n",
       "      <td>...</td>\n",
       "      <td>...</td>\n",
       "      <td>...</td>\n",
       "      <td>...</td>\n",
       "      <td>...</td>\n",
       "      <td>...</td>\n",
       "      <td>...</td>\n",
       "      <td>...</td>\n",
       "      <td>...</td>\n",
       "    </tr>\n",
       "    <tr>\n",
       "      <th>6840-RESVB</th>\n",
       "      <td>One year</td>\n",
       "      <td>Yes</td>\n",
       "      <td>Mailed check</td>\n",
       "      <td>84.80</td>\n",
       "      <td>1990.50</td>\n",
       "      <td>0</td>\n",
       "      <td>730</td>\n",
       "      <td>DSL</td>\n",
       "      <td>Yes</td>\n",
       "      <td>No</td>\n",
       "      <td>Yes</td>\n",
       "      <td>Yes</td>\n",
       "      <td>Yes</td>\n",
       "      <td>Yes</td>\n",
       "      <td>Male</td>\n",
       "      <td>0</td>\n",
       "      <td>Yes</td>\n",
       "      <td>Yes</td>\n",
       "      <td>Yes</td>\n",
       "    </tr>\n",
       "    <tr>\n",
       "      <th>2234-XADUH</th>\n",
       "      <td>One year</td>\n",
       "      <td>Yes</td>\n",
       "      <td>Credit card (automatic)</td>\n",
       "      <td>103.20</td>\n",
       "      <td>7362.90</td>\n",
       "      <td>0</td>\n",
       "      <td>2191</td>\n",
       "      <td>Fiber optic</td>\n",
       "      <td>No</td>\n",
       "      <td>Yes</td>\n",
       "      <td>Yes</td>\n",
       "      <td>No</td>\n",
       "      <td>Yes</td>\n",
       "      <td>Yes</td>\n",
       "      <td>Female</td>\n",
       "      <td>0</td>\n",
       "      <td>Yes</td>\n",
       "      <td>Yes</td>\n",
       "      <td>Yes</td>\n",
       "    </tr>\n",
       "    <tr>\n",
       "      <th>4801-JZAZL</th>\n",
       "      <td>Month-to-month</td>\n",
       "      <td>Yes</td>\n",
       "      <td>Electronic check</td>\n",
       "      <td>29.60</td>\n",
       "      <td>346.45</td>\n",
       "      <td>0</td>\n",
       "      <td>337</td>\n",
       "      <td>DSL</td>\n",
       "      <td>Yes</td>\n",
       "      <td>No</td>\n",
       "      <td>No</td>\n",
       "      <td>No</td>\n",
       "      <td>No</td>\n",
       "      <td>No</td>\n",
       "      <td>Female</td>\n",
       "      <td>0</td>\n",
       "      <td>Yes</td>\n",
       "      <td>Yes</td>\n",
       "      <td>No</td>\n",
       "    </tr>\n",
       "    <tr>\n",
       "      <th>8361-LTMKD</th>\n",
       "      <td>Month-to-month</td>\n",
       "      <td>Yes</td>\n",
       "      <td>Mailed check</td>\n",
       "      <td>74.40</td>\n",
       "      <td>306.60</td>\n",
       "      <td>1</td>\n",
       "      <td>123</td>\n",
       "      <td>Fiber optic</td>\n",
       "      <td>No</td>\n",
       "      <td>No</td>\n",
       "      <td>No</td>\n",
       "      <td>No</td>\n",
       "      <td>No</td>\n",
       "      <td>No</td>\n",
       "      <td>Male</td>\n",
       "      <td>1</td>\n",
       "      <td>Yes</td>\n",
       "      <td>No</td>\n",
       "      <td>Yes</td>\n",
       "    </tr>\n",
       "    <tr>\n",
       "      <th>3186-AJIEK</th>\n",
       "      <td>Two year</td>\n",
       "      <td>Yes</td>\n",
       "      <td>Bank transfer (automatic)</td>\n",
       "      <td>105.65</td>\n",
       "      <td>6844.50</td>\n",
       "      <td>0</td>\n",
       "      <td>2010</td>\n",
       "      <td>Fiber optic</td>\n",
       "      <td>Yes</td>\n",
       "      <td>No</td>\n",
       "      <td>Yes</td>\n",
       "      <td>Yes</td>\n",
       "      <td>Yes</td>\n",
       "      <td>Yes</td>\n",
       "      <td>Male</td>\n",
       "      <td>0</td>\n",
       "      <td>No</td>\n",
       "      <td>No</td>\n",
       "      <td>No</td>\n",
       "    </tr>\n",
       "  </tbody>\n",
       "</table>\n",
       "<p>7043 rows × 19 columns</p>\n",
       "</div>"
      ],
      "text/plain": [
       "                      Type PaperlessBilling              PaymentMethod  \\\n",
       "customerID                                                               \n",
       "7590-VHVEG  Month-to-month              Yes           Electronic check   \n",
       "5575-GNVDE        One year               No               Mailed check   \n",
       "3668-QPYBK  Month-to-month              Yes               Mailed check   \n",
       "7795-CFOCW        One year               No  Bank transfer (automatic)   \n",
       "9237-HQITU  Month-to-month              Yes           Electronic check   \n",
       "...                    ...              ...                        ...   \n",
       "6840-RESVB        One year              Yes               Mailed check   \n",
       "2234-XADUH        One year              Yes    Credit card (automatic)   \n",
       "4801-JZAZL  Month-to-month              Yes           Electronic check   \n",
       "8361-LTMKD  Month-to-month              Yes               Mailed check   \n",
       "3186-AJIEK        Two year              Yes  Bank transfer (automatic)   \n",
       "\n",
       "            MonthlyCharges  TotalCharges  Target  Duration InternetService  \\\n",
       "customerID                                                                   \n",
       "7590-VHVEG           29.85         29.85       0        31             DSL   \n",
       "5575-GNVDE           56.95       1889.50       0      1036             DSL   \n",
       "3668-QPYBK           53.85        108.15       1        61             DSL   \n",
       "7795-CFOCW           42.30       1840.75       0      1371             DSL   \n",
       "9237-HQITU           70.70        151.65       1        61     Fiber optic   \n",
       "...                    ...           ...     ...       ...             ...   \n",
       "6840-RESVB           84.80       1990.50       0       730             DSL   \n",
       "2234-XADUH          103.20       7362.90       0      2191     Fiber optic   \n",
       "4801-JZAZL           29.60        346.45       0       337             DSL   \n",
       "8361-LTMKD           74.40        306.60       1       123     Fiber optic   \n",
       "3186-AJIEK          105.65       6844.50       0      2010     Fiber optic   \n",
       "\n",
       "           OnlineSecurity OnlineBackup DeviceProtection TechSupport  \\\n",
       "customerID                                                            \n",
       "7590-VHVEG             No          Yes               No          No   \n",
       "5575-GNVDE            Yes           No              Yes          No   \n",
       "3668-QPYBK            Yes          Yes               No          No   \n",
       "7795-CFOCW            Yes           No              Yes         Yes   \n",
       "9237-HQITU             No           No               No          No   \n",
       "...                   ...          ...              ...         ...   \n",
       "6840-RESVB            Yes           No              Yes         Yes   \n",
       "2234-XADUH             No          Yes              Yes          No   \n",
       "4801-JZAZL            Yes           No               No          No   \n",
       "8361-LTMKD             No           No               No          No   \n",
       "3186-AJIEK            Yes           No              Yes         Yes   \n",
       "\n",
       "           StreamingTV StreamingMovies  gender  SeniorCitizen Partner  \\\n",
       "customerID                                                              \n",
       "7590-VHVEG          No              No  Female              0     Yes   \n",
       "5575-GNVDE          No              No    Male              0      No   \n",
       "3668-QPYBK          No              No    Male              0      No   \n",
       "7795-CFOCW          No              No    Male              0      No   \n",
       "9237-HQITU          No              No  Female              0      No   \n",
       "...                ...             ...     ...            ...     ...   \n",
       "6840-RESVB         Yes             Yes    Male              0     Yes   \n",
       "2234-XADUH         Yes             Yes  Female              0     Yes   \n",
       "4801-JZAZL          No              No  Female              0     Yes   \n",
       "8361-LTMKD          No              No    Male              1     Yes   \n",
       "3186-AJIEK         Yes             Yes    Male              0      No   \n",
       "\n",
       "           Dependents MultipleLines  \n",
       "customerID                           \n",
       "7590-VHVEG         No            No  \n",
       "5575-GNVDE         No            No  \n",
       "3668-QPYBK         No            No  \n",
       "7795-CFOCW         No            No  \n",
       "9237-HQITU         No            No  \n",
       "...               ...           ...  \n",
       "6840-RESVB        Yes           Yes  \n",
       "2234-XADUH        Yes           Yes  \n",
       "4801-JZAZL        Yes            No  \n",
       "8361-LTMKD         No           Yes  \n",
       "3186-AJIEK         No            No  \n",
       "\n",
       "[7043 rows x 19 columns]"
      ]
     },
     "execution_count": 29,
     "metadata": {},
     "output_type": "execute_result"
    }
   ],
   "source": [
    "data_full"
   ]
  },
  {
   "cell_type": "markdown",
   "id": "2975a059",
   "metadata": {},
   "source": [
    "В датафрейме большинство признаков категориальные, но представлены в строковом виде. Закодируем эти строки. "
   ]
  },
  {
   "cell_type": "markdown",
   "id": "23736280",
   "metadata": {},
   "source": [
    "\n",
    "<div class=\"alert alert-warning\">\n",
    "    <h2> Комментарий ревьюера <a class=\"tocSkip\"> </h2>\n",
    "    \n",
    "<b>Некоторые замечания и рекомендации💡:</b>\n",
    "Кодирование происходит до разбиения на выборки и вручную — возможное, но не лучшее решение. Стоит кодировать после разбиения на выборки (чтобы избежать утечки) и использовать OneHotEncoder ( что, если придут новые тестовые данные? Как будем кодировать? А если в них новое значение какого-то признака? А если другое количество уникальных значений признака? \n",
    "        \n",
    "+ вручную конечно хорошо для понимания, но есть специальные методы - тот же OneHotEncoder или get_dummies, они гораздо удобней и сокращается риск допустить ошибку"
   ]
  },
  {
   "cell_type": "markdown",
   "id": "2a25784c",
   "metadata": {},
   "source": [
    "<div class=\"alert alert-block alert-info\">\n",
    "<b>Комментарий студентки: </b> Я, к сожалению, подзабыла про это. Учту на будщее, сейчас не особо время осталось до дедлайна, чтобв я сидела вспоминала и изменяла этот момент. \n",
    "</div>"
   ]
  },
  {
   "cell_type": "markdown",
   "id": "4b10c8c5",
   "metadata": {},
   "source": [
    "<div class=\"alert alert-success\">\n",
    "<h2> Комментарий ревьюера v.2<a class=\"tocSkip\"> </h2>\n",
    "\n",
    "<b>Все отлично!👍:</b> хорошо"
   ]
  },
  {
   "cell_type": "code",
   "execution_count": 30,
   "id": "2f42a9c5",
   "metadata": {},
   "outputs": [],
   "source": [
    "name_of_columns = ['PaperlessBilling', 'OnlineSecurity', 'OnlineBackup', 'DeviceProtection', \n",
    "                   'TechSupport', 'StreamingTV', 'StreamingMovies', 'Partner', 'Dependents', 'MultipleLines']\n",
    "for i in name_of_columns:\n",
    "    data_full[i] = np.where(data_full[i]=='No', 0, \n",
    "                            np.where(data_full[i]=='-', 2, 1))"
   ]
  },
  {
   "cell_type": "code",
   "execution_count": 31,
   "id": "768ac61f",
   "metadata": {},
   "outputs": [
    {
     "data": {
      "text/plain": [
       "array(['Electronic check', 'Mailed check', 'Bank transfer (automatic)',\n",
       "       'Credit card (automatic)'], dtype=object)"
      ]
     },
     "execution_count": 31,
     "metadata": {},
     "output_type": "execute_result"
    }
   ],
   "source": [
    "data_full['PaymentMethod'].unique()"
   ]
  },
  {
   "cell_type": "code",
   "execution_count": 32,
   "id": "ce9dff48",
   "metadata": {},
   "outputs": [],
   "source": [
    "data_full['PaymentMethod'] = np.where(data_full['PaymentMethod']=='Electronic check', 0, \n",
    "                                      np.where(data_full['PaymentMethod']=='Mailed check', 1, \n",
    "                                               np.where(data_full['PaymentMethod']=='Bank transfer (automatic)', 2, 3)))"
   ]
  },
  {
   "cell_type": "code",
   "execution_count": 33,
   "id": "79815f42",
   "metadata": {},
   "outputs": [
    {
     "data": {
      "text/plain": [
       "array(['DSL', 'Fiber optic', 'No'], dtype=object)"
      ]
     },
     "execution_count": 33,
     "metadata": {},
     "output_type": "execute_result"
    }
   ],
   "source": [
    "data_full['InternetService'].unique()"
   ]
  },
  {
   "cell_type": "code",
   "execution_count": 34,
   "id": "6344e54b",
   "metadata": {},
   "outputs": [],
   "source": [
    "data_full['InternetService'] = np.where(data_full['InternetService']=='DSL', 0, \n",
    "                            np.where(data_full['InternetService']=='Fiber optic', 1, 2))"
   ]
  },
  {
   "cell_type": "code",
   "execution_count": 35,
   "id": "0fa585f0",
   "metadata": {},
   "outputs": [
    {
     "data": {
      "text/plain": [
       "array(['Female', 'Male'], dtype=object)"
      ]
     },
     "execution_count": 35,
     "metadata": {},
     "output_type": "execute_result"
    }
   ],
   "source": [
    "data_full['gender'].unique()"
   ]
  },
  {
   "cell_type": "code",
   "execution_count": 36,
   "id": "a128d943",
   "metadata": {},
   "outputs": [],
   "source": [
    "data_full['gender'] = np.where(data_full['gender']=='Male', 0, 1)"
   ]
  },
  {
   "cell_type": "code",
   "execution_count": 37,
   "id": "03bf6735",
   "metadata": {},
   "outputs": [
    {
     "data": {
      "text/plain": [
       "array(['Month-to-month', 'One year', 'Two year'], dtype=object)"
      ]
     },
     "execution_count": 37,
     "metadata": {},
     "output_type": "execute_result"
    }
   ],
   "source": [
    "data_full['Type'].unique()"
   ]
  },
  {
   "cell_type": "code",
   "execution_count": 38,
   "id": "067d2aa6",
   "metadata": {},
   "outputs": [],
   "source": [
    "data_full['Type'] = np.where(data_full['Type']=='Month-to-month', 0, \n",
    "                            np.where(data_full['Type']=='One year', 1, 2))"
   ]
  },
  {
   "cell_type": "code",
   "execution_count": 39,
   "id": "68970b67",
   "metadata": {},
   "outputs": [
    {
     "data": {
      "text/html": [
       "<div>\n",
       "<style scoped>\n",
       "    .dataframe tbody tr th:only-of-type {\n",
       "        vertical-align: middle;\n",
       "    }\n",
       "\n",
       "    .dataframe tbody tr th {\n",
       "        vertical-align: top;\n",
       "    }\n",
       "\n",
       "    .dataframe thead th {\n",
       "        text-align: right;\n",
       "    }\n",
       "</style>\n",
       "<table border=\"1\" class=\"dataframe\">\n",
       "  <thead>\n",
       "    <tr style=\"text-align: right;\">\n",
       "      <th></th>\n",
       "      <th>Type</th>\n",
       "      <th>PaperlessBilling</th>\n",
       "      <th>PaymentMethod</th>\n",
       "      <th>MonthlyCharges</th>\n",
       "      <th>TotalCharges</th>\n",
       "      <th>Target</th>\n",
       "      <th>Duration</th>\n",
       "      <th>InternetService</th>\n",
       "      <th>OnlineSecurity</th>\n",
       "      <th>OnlineBackup</th>\n",
       "      <th>DeviceProtection</th>\n",
       "      <th>TechSupport</th>\n",
       "      <th>StreamingTV</th>\n",
       "      <th>StreamingMovies</th>\n",
       "      <th>gender</th>\n",
       "      <th>SeniorCitizen</th>\n",
       "      <th>Partner</th>\n",
       "      <th>Dependents</th>\n",
       "      <th>MultipleLines</th>\n",
       "    </tr>\n",
       "    <tr>\n",
       "      <th>customerID</th>\n",
       "      <th></th>\n",
       "      <th></th>\n",
       "      <th></th>\n",
       "      <th></th>\n",
       "      <th></th>\n",
       "      <th></th>\n",
       "      <th></th>\n",
       "      <th></th>\n",
       "      <th></th>\n",
       "      <th></th>\n",
       "      <th></th>\n",
       "      <th></th>\n",
       "      <th></th>\n",
       "      <th></th>\n",
       "      <th></th>\n",
       "      <th></th>\n",
       "      <th></th>\n",
       "      <th></th>\n",
       "      <th></th>\n",
       "    </tr>\n",
       "  </thead>\n",
       "  <tbody>\n",
       "    <tr>\n",
       "      <th>7590-VHVEG</th>\n",
       "      <td>0</td>\n",
       "      <td>1</td>\n",
       "      <td>0</td>\n",
       "      <td>29.85</td>\n",
       "      <td>29.85</td>\n",
       "      <td>0</td>\n",
       "      <td>31</td>\n",
       "      <td>0</td>\n",
       "      <td>0</td>\n",
       "      <td>1</td>\n",
       "      <td>0</td>\n",
       "      <td>0</td>\n",
       "      <td>0</td>\n",
       "      <td>0</td>\n",
       "      <td>1</td>\n",
       "      <td>0</td>\n",
       "      <td>1</td>\n",
       "      <td>0</td>\n",
       "      <td>0</td>\n",
       "    </tr>\n",
       "    <tr>\n",
       "      <th>5575-GNVDE</th>\n",
       "      <td>1</td>\n",
       "      <td>0</td>\n",
       "      <td>1</td>\n",
       "      <td>56.95</td>\n",
       "      <td>1889.50</td>\n",
       "      <td>0</td>\n",
       "      <td>1036</td>\n",
       "      <td>0</td>\n",
       "      <td>1</td>\n",
       "      <td>0</td>\n",
       "      <td>1</td>\n",
       "      <td>0</td>\n",
       "      <td>0</td>\n",
       "      <td>0</td>\n",
       "      <td>0</td>\n",
       "      <td>0</td>\n",
       "      <td>0</td>\n",
       "      <td>0</td>\n",
       "      <td>0</td>\n",
       "    </tr>\n",
       "    <tr>\n",
       "      <th>3668-QPYBK</th>\n",
       "      <td>0</td>\n",
       "      <td>1</td>\n",
       "      <td>1</td>\n",
       "      <td>53.85</td>\n",
       "      <td>108.15</td>\n",
       "      <td>1</td>\n",
       "      <td>61</td>\n",
       "      <td>0</td>\n",
       "      <td>1</td>\n",
       "      <td>1</td>\n",
       "      <td>0</td>\n",
       "      <td>0</td>\n",
       "      <td>0</td>\n",
       "      <td>0</td>\n",
       "      <td>0</td>\n",
       "      <td>0</td>\n",
       "      <td>0</td>\n",
       "      <td>0</td>\n",
       "      <td>0</td>\n",
       "    </tr>\n",
       "    <tr>\n",
       "      <th>7795-CFOCW</th>\n",
       "      <td>1</td>\n",
       "      <td>0</td>\n",
       "      <td>2</td>\n",
       "      <td>42.30</td>\n",
       "      <td>1840.75</td>\n",
       "      <td>0</td>\n",
       "      <td>1371</td>\n",
       "      <td>0</td>\n",
       "      <td>1</td>\n",
       "      <td>0</td>\n",
       "      <td>1</td>\n",
       "      <td>1</td>\n",
       "      <td>0</td>\n",
       "      <td>0</td>\n",
       "      <td>0</td>\n",
       "      <td>0</td>\n",
       "      <td>0</td>\n",
       "      <td>0</td>\n",
       "      <td>0</td>\n",
       "    </tr>\n",
       "    <tr>\n",
       "      <th>9237-HQITU</th>\n",
       "      <td>0</td>\n",
       "      <td>1</td>\n",
       "      <td>0</td>\n",
       "      <td>70.70</td>\n",
       "      <td>151.65</td>\n",
       "      <td>1</td>\n",
       "      <td>61</td>\n",
       "      <td>1</td>\n",
       "      <td>0</td>\n",
       "      <td>0</td>\n",
       "      <td>0</td>\n",
       "      <td>0</td>\n",
       "      <td>0</td>\n",
       "      <td>0</td>\n",
       "      <td>1</td>\n",
       "      <td>0</td>\n",
       "      <td>0</td>\n",
       "      <td>0</td>\n",
       "      <td>0</td>\n",
       "    </tr>\n",
       "    <tr>\n",
       "      <th>...</th>\n",
       "      <td>...</td>\n",
       "      <td>...</td>\n",
       "      <td>...</td>\n",
       "      <td>...</td>\n",
       "      <td>...</td>\n",
       "      <td>...</td>\n",
       "      <td>...</td>\n",
       "      <td>...</td>\n",
       "      <td>...</td>\n",
       "      <td>...</td>\n",
       "      <td>...</td>\n",
       "      <td>...</td>\n",
       "      <td>...</td>\n",
       "      <td>...</td>\n",
       "      <td>...</td>\n",
       "      <td>...</td>\n",
       "      <td>...</td>\n",
       "      <td>...</td>\n",
       "      <td>...</td>\n",
       "    </tr>\n",
       "    <tr>\n",
       "      <th>6840-RESVB</th>\n",
       "      <td>1</td>\n",
       "      <td>1</td>\n",
       "      <td>1</td>\n",
       "      <td>84.80</td>\n",
       "      <td>1990.50</td>\n",
       "      <td>0</td>\n",
       "      <td>730</td>\n",
       "      <td>0</td>\n",
       "      <td>1</td>\n",
       "      <td>0</td>\n",
       "      <td>1</td>\n",
       "      <td>1</td>\n",
       "      <td>1</td>\n",
       "      <td>1</td>\n",
       "      <td>0</td>\n",
       "      <td>0</td>\n",
       "      <td>1</td>\n",
       "      <td>1</td>\n",
       "      <td>1</td>\n",
       "    </tr>\n",
       "    <tr>\n",
       "      <th>2234-XADUH</th>\n",
       "      <td>1</td>\n",
       "      <td>1</td>\n",
       "      <td>3</td>\n",
       "      <td>103.20</td>\n",
       "      <td>7362.90</td>\n",
       "      <td>0</td>\n",
       "      <td>2191</td>\n",
       "      <td>1</td>\n",
       "      <td>0</td>\n",
       "      <td>1</td>\n",
       "      <td>1</td>\n",
       "      <td>0</td>\n",
       "      <td>1</td>\n",
       "      <td>1</td>\n",
       "      <td>1</td>\n",
       "      <td>0</td>\n",
       "      <td>1</td>\n",
       "      <td>1</td>\n",
       "      <td>1</td>\n",
       "    </tr>\n",
       "    <tr>\n",
       "      <th>4801-JZAZL</th>\n",
       "      <td>0</td>\n",
       "      <td>1</td>\n",
       "      <td>0</td>\n",
       "      <td>29.60</td>\n",
       "      <td>346.45</td>\n",
       "      <td>0</td>\n",
       "      <td>337</td>\n",
       "      <td>0</td>\n",
       "      <td>1</td>\n",
       "      <td>0</td>\n",
       "      <td>0</td>\n",
       "      <td>0</td>\n",
       "      <td>0</td>\n",
       "      <td>0</td>\n",
       "      <td>1</td>\n",
       "      <td>0</td>\n",
       "      <td>1</td>\n",
       "      <td>1</td>\n",
       "      <td>0</td>\n",
       "    </tr>\n",
       "    <tr>\n",
       "      <th>8361-LTMKD</th>\n",
       "      <td>0</td>\n",
       "      <td>1</td>\n",
       "      <td>1</td>\n",
       "      <td>74.40</td>\n",
       "      <td>306.60</td>\n",
       "      <td>1</td>\n",
       "      <td>123</td>\n",
       "      <td>1</td>\n",
       "      <td>0</td>\n",
       "      <td>0</td>\n",
       "      <td>0</td>\n",
       "      <td>0</td>\n",
       "      <td>0</td>\n",
       "      <td>0</td>\n",
       "      <td>0</td>\n",
       "      <td>1</td>\n",
       "      <td>1</td>\n",
       "      <td>0</td>\n",
       "      <td>1</td>\n",
       "    </tr>\n",
       "    <tr>\n",
       "      <th>3186-AJIEK</th>\n",
       "      <td>2</td>\n",
       "      <td>1</td>\n",
       "      <td>2</td>\n",
       "      <td>105.65</td>\n",
       "      <td>6844.50</td>\n",
       "      <td>0</td>\n",
       "      <td>2010</td>\n",
       "      <td>1</td>\n",
       "      <td>1</td>\n",
       "      <td>0</td>\n",
       "      <td>1</td>\n",
       "      <td>1</td>\n",
       "      <td>1</td>\n",
       "      <td>1</td>\n",
       "      <td>0</td>\n",
       "      <td>0</td>\n",
       "      <td>0</td>\n",
       "      <td>0</td>\n",
       "      <td>0</td>\n",
       "    </tr>\n",
       "  </tbody>\n",
       "</table>\n",
       "<p>7043 rows × 19 columns</p>\n",
       "</div>"
      ],
      "text/plain": [
       "            Type  PaperlessBilling  PaymentMethod  MonthlyCharges  \\\n",
       "customerID                                                          \n",
       "7590-VHVEG     0                 1              0           29.85   \n",
       "5575-GNVDE     1                 0              1           56.95   \n",
       "3668-QPYBK     0                 1              1           53.85   \n",
       "7795-CFOCW     1                 0              2           42.30   \n",
       "9237-HQITU     0                 1              0           70.70   \n",
       "...          ...               ...            ...             ...   \n",
       "6840-RESVB     1                 1              1           84.80   \n",
       "2234-XADUH     1                 1              3          103.20   \n",
       "4801-JZAZL     0                 1              0           29.60   \n",
       "8361-LTMKD     0                 1              1           74.40   \n",
       "3186-AJIEK     2                 1              2          105.65   \n",
       "\n",
       "            TotalCharges  Target  Duration  InternetService  OnlineSecurity  \\\n",
       "customerID                                                                    \n",
       "7590-VHVEG         29.85       0        31                0               0   \n",
       "5575-GNVDE       1889.50       0      1036                0               1   \n",
       "3668-QPYBK        108.15       1        61                0               1   \n",
       "7795-CFOCW       1840.75       0      1371                0               1   \n",
       "9237-HQITU        151.65       1        61                1               0   \n",
       "...                  ...     ...       ...              ...             ...   \n",
       "6840-RESVB       1990.50       0       730                0               1   \n",
       "2234-XADUH       7362.90       0      2191                1               0   \n",
       "4801-JZAZL        346.45       0       337                0               1   \n",
       "8361-LTMKD        306.60       1       123                1               0   \n",
       "3186-AJIEK       6844.50       0      2010                1               1   \n",
       "\n",
       "            OnlineBackup  DeviceProtection  TechSupport  StreamingTV  \\\n",
       "customerID                                                             \n",
       "7590-VHVEG             1                 0            0            0   \n",
       "5575-GNVDE             0                 1            0            0   \n",
       "3668-QPYBK             1                 0            0            0   \n",
       "7795-CFOCW             0                 1            1            0   \n",
       "9237-HQITU             0                 0            0            0   \n",
       "...                  ...               ...          ...          ...   \n",
       "6840-RESVB             0                 1            1            1   \n",
       "2234-XADUH             1                 1            0            1   \n",
       "4801-JZAZL             0                 0            0            0   \n",
       "8361-LTMKD             0                 0            0            0   \n",
       "3186-AJIEK             0                 1            1            1   \n",
       "\n",
       "            StreamingMovies  gender  SeniorCitizen  Partner  Dependents  \\\n",
       "customerID                                                                \n",
       "7590-VHVEG                0       1              0        1           0   \n",
       "5575-GNVDE                0       0              0        0           0   \n",
       "3668-QPYBK                0       0              0        0           0   \n",
       "7795-CFOCW                0       0              0        0           0   \n",
       "9237-HQITU                0       1              0        0           0   \n",
       "...                     ...     ...            ...      ...         ...   \n",
       "6840-RESVB                1       0              0        1           1   \n",
       "2234-XADUH                1       1              0        1           1   \n",
       "4801-JZAZL                0       1              0        1           1   \n",
       "8361-LTMKD                0       0              1        1           0   \n",
       "3186-AJIEK                1       0              0        0           0   \n",
       "\n",
       "            MultipleLines  \n",
       "customerID                 \n",
       "7590-VHVEG              0  \n",
       "5575-GNVDE              0  \n",
       "3668-QPYBK              0  \n",
       "7795-CFOCW              0  \n",
       "9237-HQITU              0  \n",
       "...                   ...  \n",
       "6840-RESVB              1  \n",
       "2234-XADUH              1  \n",
       "4801-JZAZL              0  \n",
       "8361-LTMKD              1  \n",
       "3186-AJIEK              0  \n",
       "\n",
       "[7043 rows x 19 columns]"
      ]
     },
     "execution_count": 39,
     "metadata": {},
     "output_type": "execute_result"
    }
   ],
   "source": [
    "data_full"
   ]
  },
  {
   "cell_type": "markdown",
   "id": "c7ede117",
   "metadata": {},
   "source": [
    "Необходимо определить, какие признаки нам понадобятся для обучения модели. Для этого построим зависимости между отдельными признакми и целевым признаком. "
   ]
  },
  {
   "cell_type": "code",
   "execution_count": 40,
   "id": "3ffed2d8",
   "metadata": {
    "scrolled": false
   },
   "outputs": [
    {
     "name": "stdout",
     "output_type": "stream",
     "text": [
      "interval columns not set, guessing: ['Type', 'PaperlessBilling', 'PaymentMethod', 'MonthlyCharges', 'TotalCharges', 'Target', 'Duration', 'InternetService', 'OnlineSecurity', 'OnlineBackup', 'DeviceProtection', 'TechSupport', 'StreamingTV', 'StreamingMovies', 'gender', 'SeniorCitizen', 'Partner', 'Dependents', 'MultipleLines']\n"
     ]
    },
    {
     "data": {
      "text/plain": [
       "Type                0.251639\n",
       "PaperlessBilling    0.295754\n",
       "PaymentMethod       0.449125\n",
       "MonthlyCharges      0.360050\n",
       "TotalCharges        0.278498\n",
       "Target              1.000000\n",
       "Duration            0.474001\n",
       "InternetService     0.196202\n",
       "OnlineSecurity      0.264580\n",
       "OnlineBackup        0.126973\n",
       "DeviceProtection    0.101516\n",
       "TechSupport         0.254615\n",
       "StreamingTV         0.096865\n",
       "StreamingMovies     0.093923\n",
       "gender              0.000000\n",
       "SeniorCitizen       0.233432\n",
       "Partner             0.232930\n",
       "Dependents          0.253936\n",
       "MultipleLines       0.059581\n",
       "Name: Target, dtype: float64"
      ]
     },
     "execution_count": 40,
     "metadata": {},
     "output_type": "execute_result"
    }
   ],
   "source": [
    "phik_overview = data_full.phik_matrix()\n",
    "phik_overview['Target']"
   ]
  },
  {
   "cell_type": "markdown",
   "id": "e9dc8bd7",
   "metadata": {},
   "source": [
    "Зависимости нет только в столбце gender. Оставим все кроме него в таблице. "
   ]
  },
  {
   "cell_type": "markdown",
   "id": "a929b09a",
   "metadata": {},
   "source": [
    "<div class=\"alert alert-success\">\n",
    "<h2> Комментарий ревьюера <a class=\"tocSkip\"> </h2>\n",
    "\n",
    "<b>Все отлично!👍:</b> хорошо, согласна"
   ]
  },
  {
   "cell_type": "code",
   "execution_count": 41,
   "id": "d59594f4",
   "metadata": {
    "scrolled": true
   },
   "outputs": [
    {
     "data": {
      "text/html": [
       "<div>\n",
       "<style scoped>\n",
       "    .dataframe tbody tr th:only-of-type {\n",
       "        vertical-align: middle;\n",
       "    }\n",
       "\n",
       "    .dataframe tbody tr th {\n",
       "        vertical-align: top;\n",
       "    }\n",
       "\n",
       "    .dataframe thead th {\n",
       "        text-align: right;\n",
       "    }\n",
       "</style>\n",
       "<table border=\"1\" class=\"dataframe\">\n",
       "  <thead>\n",
       "    <tr style=\"text-align: right;\">\n",
       "      <th></th>\n",
       "      <th>Type</th>\n",
       "      <th>PaperlessBilling</th>\n",
       "      <th>PaymentMethod</th>\n",
       "      <th>MonthlyCharges</th>\n",
       "      <th>TotalCharges</th>\n",
       "      <th>Target</th>\n",
       "      <th>Duration</th>\n",
       "      <th>InternetService</th>\n",
       "      <th>OnlineSecurity</th>\n",
       "      <th>OnlineBackup</th>\n",
       "      <th>DeviceProtection</th>\n",
       "      <th>TechSupport</th>\n",
       "      <th>StreamingTV</th>\n",
       "      <th>StreamingMovies</th>\n",
       "      <th>SeniorCitizen</th>\n",
       "      <th>Partner</th>\n",
       "      <th>Dependents</th>\n",
       "      <th>MultipleLines</th>\n",
       "    </tr>\n",
       "    <tr>\n",
       "      <th>customerID</th>\n",
       "      <th></th>\n",
       "      <th></th>\n",
       "      <th></th>\n",
       "      <th></th>\n",
       "      <th></th>\n",
       "      <th></th>\n",
       "      <th></th>\n",
       "      <th></th>\n",
       "      <th></th>\n",
       "      <th></th>\n",
       "      <th></th>\n",
       "      <th></th>\n",
       "      <th></th>\n",
       "      <th></th>\n",
       "      <th></th>\n",
       "      <th></th>\n",
       "      <th></th>\n",
       "      <th></th>\n",
       "    </tr>\n",
       "  </thead>\n",
       "  <tbody>\n",
       "    <tr>\n",
       "      <th>7590-VHVEG</th>\n",
       "      <td>0</td>\n",
       "      <td>1</td>\n",
       "      <td>0</td>\n",
       "      <td>29.85</td>\n",
       "      <td>29.85</td>\n",
       "      <td>0</td>\n",
       "      <td>31</td>\n",
       "      <td>0</td>\n",
       "      <td>0</td>\n",
       "      <td>1</td>\n",
       "      <td>0</td>\n",
       "      <td>0</td>\n",
       "      <td>0</td>\n",
       "      <td>0</td>\n",
       "      <td>0</td>\n",
       "      <td>1</td>\n",
       "      <td>0</td>\n",
       "      <td>0</td>\n",
       "    </tr>\n",
       "    <tr>\n",
       "      <th>5575-GNVDE</th>\n",
       "      <td>1</td>\n",
       "      <td>0</td>\n",
       "      <td>1</td>\n",
       "      <td>56.95</td>\n",
       "      <td>1889.50</td>\n",
       "      <td>0</td>\n",
       "      <td>1036</td>\n",
       "      <td>0</td>\n",
       "      <td>1</td>\n",
       "      <td>0</td>\n",
       "      <td>1</td>\n",
       "      <td>0</td>\n",
       "      <td>0</td>\n",
       "      <td>0</td>\n",
       "      <td>0</td>\n",
       "      <td>0</td>\n",
       "      <td>0</td>\n",
       "      <td>0</td>\n",
       "    </tr>\n",
       "    <tr>\n",
       "      <th>3668-QPYBK</th>\n",
       "      <td>0</td>\n",
       "      <td>1</td>\n",
       "      <td>1</td>\n",
       "      <td>53.85</td>\n",
       "      <td>108.15</td>\n",
       "      <td>1</td>\n",
       "      <td>61</td>\n",
       "      <td>0</td>\n",
       "      <td>1</td>\n",
       "      <td>1</td>\n",
       "      <td>0</td>\n",
       "      <td>0</td>\n",
       "      <td>0</td>\n",
       "      <td>0</td>\n",
       "      <td>0</td>\n",
       "      <td>0</td>\n",
       "      <td>0</td>\n",
       "      <td>0</td>\n",
       "    </tr>\n",
       "    <tr>\n",
       "      <th>7795-CFOCW</th>\n",
       "      <td>1</td>\n",
       "      <td>0</td>\n",
       "      <td>2</td>\n",
       "      <td>42.30</td>\n",
       "      <td>1840.75</td>\n",
       "      <td>0</td>\n",
       "      <td>1371</td>\n",
       "      <td>0</td>\n",
       "      <td>1</td>\n",
       "      <td>0</td>\n",
       "      <td>1</td>\n",
       "      <td>1</td>\n",
       "      <td>0</td>\n",
       "      <td>0</td>\n",
       "      <td>0</td>\n",
       "      <td>0</td>\n",
       "      <td>0</td>\n",
       "      <td>0</td>\n",
       "    </tr>\n",
       "    <tr>\n",
       "      <th>9237-HQITU</th>\n",
       "      <td>0</td>\n",
       "      <td>1</td>\n",
       "      <td>0</td>\n",
       "      <td>70.70</td>\n",
       "      <td>151.65</td>\n",
       "      <td>1</td>\n",
       "      <td>61</td>\n",
       "      <td>1</td>\n",
       "      <td>0</td>\n",
       "      <td>0</td>\n",
       "      <td>0</td>\n",
       "      <td>0</td>\n",
       "      <td>0</td>\n",
       "      <td>0</td>\n",
       "      <td>0</td>\n",
       "      <td>0</td>\n",
       "      <td>0</td>\n",
       "      <td>0</td>\n",
       "    </tr>\n",
       "    <tr>\n",
       "      <th>...</th>\n",
       "      <td>...</td>\n",
       "      <td>...</td>\n",
       "      <td>...</td>\n",
       "      <td>...</td>\n",
       "      <td>...</td>\n",
       "      <td>...</td>\n",
       "      <td>...</td>\n",
       "      <td>...</td>\n",
       "      <td>...</td>\n",
       "      <td>...</td>\n",
       "      <td>...</td>\n",
       "      <td>...</td>\n",
       "      <td>...</td>\n",
       "      <td>...</td>\n",
       "      <td>...</td>\n",
       "      <td>...</td>\n",
       "      <td>...</td>\n",
       "      <td>...</td>\n",
       "    </tr>\n",
       "    <tr>\n",
       "      <th>6840-RESVB</th>\n",
       "      <td>1</td>\n",
       "      <td>1</td>\n",
       "      <td>1</td>\n",
       "      <td>84.80</td>\n",
       "      <td>1990.50</td>\n",
       "      <td>0</td>\n",
       "      <td>730</td>\n",
       "      <td>0</td>\n",
       "      <td>1</td>\n",
       "      <td>0</td>\n",
       "      <td>1</td>\n",
       "      <td>1</td>\n",
       "      <td>1</td>\n",
       "      <td>1</td>\n",
       "      <td>0</td>\n",
       "      <td>1</td>\n",
       "      <td>1</td>\n",
       "      <td>1</td>\n",
       "    </tr>\n",
       "    <tr>\n",
       "      <th>2234-XADUH</th>\n",
       "      <td>1</td>\n",
       "      <td>1</td>\n",
       "      <td>3</td>\n",
       "      <td>103.20</td>\n",
       "      <td>7362.90</td>\n",
       "      <td>0</td>\n",
       "      <td>2191</td>\n",
       "      <td>1</td>\n",
       "      <td>0</td>\n",
       "      <td>1</td>\n",
       "      <td>1</td>\n",
       "      <td>0</td>\n",
       "      <td>1</td>\n",
       "      <td>1</td>\n",
       "      <td>0</td>\n",
       "      <td>1</td>\n",
       "      <td>1</td>\n",
       "      <td>1</td>\n",
       "    </tr>\n",
       "    <tr>\n",
       "      <th>4801-JZAZL</th>\n",
       "      <td>0</td>\n",
       "      <td>1</td>\n",
       "      <td>0</td>\n",
       "      <td>29.60</td>\n",
       "      <td>346.45</td>\n",
       "      <td>0</td>\n",
       "      <td>337</td>\n",
       "      <td>0</td>\n",
       "      <td>1</td>\n",
       "      <td>0</td>\n",
       "      <td>0</td>\n",
       "      <td>0</td>\n",
       "      <td>0</td>\n",
       "      <td>0</td>\n",
       "      <td>0</td>\n",
       "      <td>1</td>\n",
       "      <td>1</td>\n",
       "      <td>0</td>\n",
       "    </tr>\n",
       "    <tr>\n",
       "      <th>8361-LTMKD</th>\n",
       "      <td>0</td>\n",
       "      <td>1</td>\n",
       "      <td>1</td>\n",
       "      <td>74.40</td>\n",
       "      <td>306.60</td>\n",
       "      <td>1</td>\n",
       "      <td>123</td>\n",
       "      <td>1</td>\n",
       "      <td>0</td>\n",
       "      <td>0</td>\n",
       "      <td>0</td>\n",
       "      <td>0</td>\n",
       "      <td>0</td>\n",
       "      <td>0</td>\n",
       "      <td>1</td>\n",
       "      <td>1</td>\n",
       "      <td>0</td>\n",
       "      <td>1</td>\n",
       "    </tr>\n",
       "    <tr>\n",
       "      <th>3186-AJIEK</th>\n",
       "      <td>2</td>\n",
       "      <td>1</td>\n",
       "      <td>2</td>\n",
       "      <td>105.65</td>\n",
       "      <td>6844.50</td>\n",
       "      <td>0</td>\n",
       "      <td>2010</td>\n",
       "      <td>1</td>\n",
       "      <td>1</td>\n",
       "      <td>0</td>\n",
       "      <td>1</td>\n",
       "      <td>1</td>\n",
       "      <td>1</td>\n",
       "      <td>1</td>\n",
       "      <td>0</td>\n",
       "      <td>0</td>\n",
       "      <td>0</td>\n",
       "      <td>0</td>\n",
       "    </tr>\n",
       "  </tbody>\n",
       "</table>\n",
       "<p>7043 rows × 18 columns</p>\n",
       "</div>"
      ],
      "text/plain": [
       "            Type  PaperlessBilling  PaymentMethod  MonthlyCharges  \\\n",
       "customerID                                                          \n",
       "7590-VHVEG     0                 1              0           29.85   \n",
       "5575-GNVDE     1                 0              1           56.95   \n",
       "3668-QPYBK     0                 1              1           53.85   \n",
       "7795-CFOCW     1                 0              2           42.30   \n",
       "9237-HQITU     0                 1              0           70.70   \n",
       "...          ...               ...            ...             ...   \n",
       "6840-RESVB     1                 1              1           84.80   \n",
       "2234-XADUH     1                 1              3          103.20   \n",
       "4801-JZAZL     0                 1              0           29.60   \n",
       "8361-LTMKD     0                 1              1           74.40   \n",
       "3186-AJIEK     2                 1              2          105.65   \n",
       "\n",
       "            TotalCharges  Target  Duration  InternetService  OnlineSecurity  \\\n",
       "customerID                                                                    \n",
       "7590-VHVEG         29.85       0        31                0               0   \n",
       "5575-GNVDE       1889.50       0      1036                0               1   \n",
       "3668-QPYBK        108.15       1        61                0               1   \n",
       "7795-CFOCW       1840.75       0      1371                0               1   \n",
       "9237-HQITU        151.65       1        61                1               0   \n",
       "...                  ...     ...       ...              ...             ...   \n",
       "6840-RESVB       1990.50       0       730                0               1   \n",
       "2234-XADUH       7362.90       0      2191                1               0   \n",
       "4801-JZAZL        346.45       0       337                0               1   \n",
       "8361-LTMKD        306.60       1       123                1               0   \n",
       "3186-AJIEK       6844.50       0      2010                1               1   \n",
       "\n",
       "            OnlineBackup  DeviceProtection  TechSupport  StreamingTV  \\\n",
       "customerID                                                             \n",
       "7590-VHVEG             1                 0            0            0   \n",
       "5575-GNVDE             0                 1            0            0   \n",
       "3668-QPYBK             1                 0            0            0   \n",
       "7795-CFOCW             0                 1            1            0   \n",
       "9237-HQITU             0                 0            0            0   \n",
       "...                  ...               ...          ...          ...   \n",
       "6840-RESVB             0                 1            1            1   \n",
       "2234-XADUH             1                 1            0            1   \n",
       "4801-JZAZL             0                 0            0            0   \n",
       "8361-LTMKD             0                 0            0            0   \n",
       "3186-AJIEK             0                 1            1            1   \n",
       "\n",
       "            StreamingMovies  SeniorCitizen  Partner  Dependents  MultipleLines  \n",
       "customerID                                                                      \n",
       "7590-VHVEG                0              0        1           0              0  \n",
       "5575-GNVDE                0              0        0           0              0  \n",
       "3668-QPYBK                0              0        0           0              0  \n",
       "7795-CFOCW                0              0        0           0              0  \n",
       "9237-HQITU                0              0        0           0              0  \n",
       "...                     ...            ...      ...         ...            ...  \n",
       "6840-RESVB                1              0        1           1              1  \n",
       "2234-XADUH                1              0        1           1              1  \n",
       "4801-JZAZL                0              0        1           1              0  \n",
       "8361-LTMKD                0              1        1           0              1  \n",
       "3186-AJIEK                1              0        0           0              0  \n",
       "\n",
       "[7043 rows x 18 columns]"
      ]
     },
     "execution_count": 41,
     "metadata": {},
     "output_type": "execute_result"
    }
   ],
   "source": [
    "data = data_full.drop('gender', axis=1)\n",
    "data"
   ]
  },
  {
   "cell_type": "code",
   "execution_count": 42,
   "id": "02901661",
   "metadata": {},
   "outputs": [],
   "source": [
    "label = data['Target']\n",
    "data = data.drop(['Target'], axis=1)\n",
    "categorical_features = ['PaperlessBilling', 'OnlineSecurity', 'OnlineBackup', 'DeviceProtection', \n",
    "                        'TechSupport', 'StreamingTV', 'StreamingMovies', 'Partner', 'Dependents', \n",
    "                        'MultipleLines', 'PaymentMethod', 'Type', 'InternetService']\n",
    "# изменим тип столбцов на категории, чтобы модель правильно их интерпритировала\n",
    "data[categorical_features] = data[categorical_features].astype('category')\n",
    "# необходимо смаштабировать признаки\n",
    "continuous_features = set(data.columns) - set(categorical_features)\n",
    "scaler = MinMaxScaler()\n",
    "data_norm = data.copy()\n",
    "data_norm[list(continuous_features)] = scaler.fit_transform(data[list(continuous_features)])"
   ]
  },
  {
   "cell_type": "markdown",
   "id": "60429073",
   "metadata": {},
   "source": [
    "<div class=\"alert alert-success\">\n",
    "<h2> Комментарий ревьюера <a class=\"tocSkip\"> </h2>\n",
    "\n",
    "<b>Все отлично!👍:</b> верно - если маштабируем, то только числовые признаки"
   ]
  },
  {
   "cell_type": "code",
   "execution_count": null,
   "id": "1e3f6862",
   "metadata": {},
   "outputs": [],
   "source": [
    "# отберем признаки с использованием случайного леса\n",
    "clf = RandomForestClassifier()\n",
    "clf.fit(data_norm, label)\n",
    "plt.figure(figsize=(12,12))\n",
    "plt.barh(data_norm.columns, clf.feature_importances_)"
   ]
  },
  {
   "cell_type": "markdown",
   "id": "c7fb14cd",
   "metadata": {},
   "source": [
    "Как мы видим самые большие показатели у стобцов 'TotalCharges' и 'Duration'."
   ]
  },
  {
   "cell_type": "markdown",
   "id": "b2ce244d",
   "metadata": {},
   "source": [
    "<div class=\"alert alert-warning\">\n",
    "    <h2> Комментарий ревьюера <a class=\"tocSkip\"> </h2>\n",
    "    \n",
    "<b>Некоторые замечания и рекомендации💡:</b>\n",
    "        \n",
    "В принципе, звучит логично, но для других моделей, той же логистической регрессии и бустингов - я бы составила свой список признаков - все-таки алгоритм другой, может так случиться, что другие признаки (или в другом соотношении) взлетят) </h16>"
   ]
  },
  {
   "cell_type": "markdown",
   "id": "c0c01a5e",
   "metadata": {},
   "source": [
    "<div class=\"alert alert-block alert-info\">\n",
    "<b>Комментарий студентки: </b> Таким же образом делать и для них?\n",
    "</div>"
   ]
  },
  {
   "cell_type": "markdown",
   "id": "dcc95993",
   "metadata": {},
   "source": [
    "<div class=\"alert alert-success\">\n",
    "<h2> Комментарий ревьюера v.2 <a class=\"tocSkip\"> </h2>\n",
    "\n",
    "<b>Все отлично!👍:</b> \n",
    "    \n",
    "Проверка важности признаков по модели это только один из способов (корреляция в том числе). Используют также аналитические методы проверки гипотез. \n",
    "\n",
    "Есть несколько инструментов для отбора признаков, подробнее можно посмотреть в данной статье (Отбор признаков в задачах машинного обучения): https://habr.com/ru/post/550978/\n",
    "\n",
    "В библиотеке sklearn есть методы mutual_info_regression и mutual_info_classif соответственно для регрессии и классификации.\n",
    "https://scikit-learn.org/stable/modules/generated/sklearn.feature_selection.mutual_info_classif.html#sklearn.feature_selection.mutual_info_classif"
   ]
  },
  {
   "cell_type": "code",
   "execution_count": 44,
   "id": "92b528b2",
   "metadata": {
    "scrolled": true
   },
   "outputs": [],
   "source": [
    "# создание выборок\n",
    "features = data[['TotalCharges', 'Duration']]\n",
    "target = label\n",
    "\n",
    "features_train, features_test, target_train, target_test = train_test_split(\n",
    "    features, target, test_size=0.25, random_state=290822, shuffle=False)"
   ]
  },
  {
   "cell_type": "markdown",
   "id": "ac8db143",
   "metadata": {},
   "source": [
    "## Обучение моделей"
   ]
  },
  {
   "cell_type": "markdown",
   "id": "fc3d4da2",
   "metadata": {},
   "source": [
    "### DecisionTreeClassifier"
   ]
  },
  {
   "cell_type": "code",
   "execution_count": 45,
   "id": "e9c7d267",
   "metadata": {},
   "outputs": [
    {
     "name": "stdout",
     "output_type": "stream",
     "text": [
      "Лучший результат: 0.8539671028713173\n"
     ]
    }
   ],
   "source": [
    "# подбор параметров DecisionTreeClassifier с использованием GridSearchCV\n",
    "parameters = {'criterion': ['gini', 'entropy'], 'max_depth':[1, 10, 15, 20, 25, 30], 'class_weight':['balanced']}\n",
    "model = DecisionTreeClassifier()\n",
    "grid = GridSearchCV(model, parameters, scoring=['roc_auc', 'accuracy', 'f1'], refit='roc_auc')\n",
    "grid.fit(features_train, target_train)\n",
    "print('Лучший результат:', grid.best_score_)"
   ]
  },
  {
   "cell_type": "code",
   "execution_count": 46,
   "id": "1765c8cc",
   "metadata": {},
   "outputs": [],
   "source": [
    "# добавим показатели в таблицу для удобства сравнения\n",
    "comparison = [['DecisionTreeClassifier', grid.best_params_, grid.best_score_]]"
   ]
  },
  {
   "cell_type": "markdown",
   "id": "6f3df815",
   "metadata": {},
   "source": [
    "### RandomForestClassifier"
   ]
  },
  {
   "cell_type": "code",
   "execution_count": 47,
   "id": "845958e7",
   "metadata": {},
   "outputs": [
    {
     "name": "stdout",
     "output_type": "stream",
     "text": [
      "Лучший результат: 0.8748072579812103\n"
     ]
    }
   ],
   "source": [
    "# подбор параметров RandomForestClassifier с использованием GridSearchCV\n",
    "parameters = {'criterion': ['gini', 'entropy'], 'n_estimators':[100, 150, 200], \n",
    "              'max_depth':[10, 20], 'class_weight':['balanced']}\n",
    "model = RandomForestClassifier()\n",
    "grid = GridSearchCV(model, parameters, scoring=['roc_auc', 'accuracy', 'f1'], refit='roc_auc')\n",
    "grid.fit(features_train, target_train)\n",
    "print('Лучший результат:', grid.best_score_)"
   ]
  },
  {
   "cell_type": "code",
   "execution_count": 48,
   "id": "29dbcd0a",
   "metadata": {},
   "outputs": [],
   "source": [
    "# добавим показатели в таблицу\n",
    "comparison.append(['RandomForestClassifier', grid.best_params_, grid.best_score_])"
   ]
  },
  {
   "cell_type": "markdown",
   "id": "b07e682d",
   "metadata": {},
   "source": [
    "### LogisticRegression"
   ]
  },
  {
   "cell_type": "code",
   "execution_count": 49,
   "id": "01ce73be",
   "metadata": {
    "scrolled": false
   },
   "outputs": [
    {
     "name": "stdout",
     "output_type": "stream",
     "text": [
      "Лучший результат: 0.7818433671135366\n"
     ]
    }
   ],
   "source": [
    "# подбор параметров LogisticRegression с использованием GridSearchCV\n",
    "parameters = {'penalty': ['l2'], 'C':[0.01, 0.1, 1], 'max_iter':[500], 'class_weight':['balanced']}\n",
    "model = LogisticRegression()\n",
    "grid = GridSearchCV(model, parameters, scoring=['roc_auc', 'accuracy', 'f1'], refit='roc_auc')\n",
    "grid.fit(features_train, target_train)\n",
    "print('Лучший результат:', grid.best_score_)"
   ]
  },
  {
   "cell_type": "code",
   "execution_count": 50,
   "id": "b8da0cde",
   "metadata": {},
   "outputs": [],
   "source": [
    "# добавим показатели в таблицу\n",
    "comparison.append(['LogisticRegression', grid.best_params_, grid.best_score_])"
   ]
  },
  {
   "cell_type": "markdown",
   "id": "b90eccd1",
   "metadata": {},
   "source": [
    "### CatBoostClassifier"
   ]
  },
  {
   "cell_type": "code",
   "execution_count": 51,
   "id": "0a30fb1e",
   "metadata": {},
   "outputs": [
    {
     "name": "stdout",
     "output_type": "stream",
     "text": [
      "Лучший результат: 0.9193295038817719\n"
     ]
    }
   ],
   "source": [
    "# подбор параметров CatBoostClassifier с использованием GridSearchCV\n",
    "parameters = {'iterations':[2000], 'learning_rate':[0.01, 0.1, 1], 'depth': [4, 6], \n",
    "              'verbose': [False], 'auto_class_weights':['Balanced']}\n",
    "model = CatBoostClassifier()\n",
    "grid = GridSearchCV(model, parameters, scoring=['roc_auc', 'accuracy', 'f1'], refit='roc_auc')\n",
    "grid.fit(features_train, target_train)\n",
    "print('Лучший результат:', grid.best_score_)"
   ]
  },
  {
   "cell_type": "code",
   "execution_count": 52,
   "id": "510c39bc",
   "metadata": {},
   "outputs": [],
   "source": [
    "# добавим показатели в таблицу\n",
    "comparison.append(['CatBoostClassifier', grid.best_params_, grid.best_score_])"
   ]
  },
  {
   "cell_type": "markdown",
   "id": "b6cc0f14",
   "metadata": {},
   "source": [
    "### Сравнение моделей"
   ]
  },
  {
   "cell_type": "code",
   "execution_count": 53,
   "id": "6b37fdd7",
   "metadata": {
    "scrolled": true
   },
   "outputs": [
    {
     "data": {
      "text/html": [
       "<div>\n",
       "<style scoped>\n",
       "    .dataframe tbody tr th:only-of-type {\n",
       "        vertical-align: middle;\n",
       "    }\n",
       "\n",
       "    .dataframe tbody tr th {\n",
       "        vertical-align: top;\n",
       "    }\n",
       "\n",
       "    .dataframe thead th {\n",
       "        text-align: right;\n",
       "    }\n",
       "</style>\n",
       "<table border=\"1\" class=\"dataframe\">\n",
       "  <thead>\n",
       "    <tr style=\"text-align: right;\">\n",
       "      <th></th>\n",
       "      <th>Name</th>\n",
       "      <th>Parameters</th>\n",
       "      <th>Score</th>\n",
       "    </tr>\n",
       "  </thead>\n",
       "  <tbody>\n",
       "    <tr>\n",
       "      <th>0</th>\n",
       "      <td>DecisionTreeClassifier</td>\n",
       "      <td>{'class_weight': 'balanced', 'criterion': 'ent...</td>\n",
       "      <td>0.853967</td>\n",
       "    </tr>\n",
       "    <tr>\n",
       "      <th>1</th>\n",
       "      <td>RandomForestClassifier</td>\n",
       "      <td>{'class_weight': 'balanced', 'criterion': 'gin...</td>\n",
       "      <td>0.874807</td>\n",
       "    </tr>\n",
       "    <tr>\n",
       "      <th>2</th>\n",
       "      <td>LogisticRegression</td>\n",
       "      <td>{'C': 0.01, 'class_weight': 'balanced', 'max_i...</td>\n",
       "      <td>0.781843</td>\n",
       "    </tr>\n",
       "    <tr>\n",
       "      <th>3</th>\n",
       "      <td>CatBoostClassifier</td>\n",
       "      <td>{'auto_class_weights': 'Balanced', 'depth': 4,...</td>\n",
       "      <td>0.91933</td>\n",
       "    </tr>\n",
       "  </tbody>\n",
       "</table>\n",
       "</div>"
      ],
      "text/plain": [
       "                     Name                                         Parameters  \\\n",
       "0  DecisionTreeClassifier  {'class_weight': 'balanced', 'criterion': 'ent...   \n",
       "1  RandomForestClassifier  {'class_weight': 'balanced', 'criterion': 'gin...   \n",
       "2      LogisticRegression  {'C': 0.01, 'class_weight': 'balanced', 'max_i...   \n",
       "3      CatBoostClassifier  {'auto_class_weights': 'Balanced', 'depth': 4,...   \n",
       "\n",
       "      Score  \n",
       "0  0.853967  \n",
       "1  0.874807  \n",
       "2  0.781843  \n",
       "3   0.91933  "
      ]
     },
     "execution_count": 53,
     "metadata": {},
     "output_type": "execute_result"
    }
   ],
   "source": [
    "# выведем таблицу\n",
    "results = pd.DataFrame(data=np.array(comparison), columns=['Name', 'Parameters', 'Score'])\n",
    "results"
   ]
  },
  {
   "cell_type": "markdown",
   "id": "20c98379",
   "metadata": {},
   "source": [
    "Лучший результат у модели CatBoostClassifier. "
   ]
  },
  {
   "cell_type": "markdown",
   "id": "76abd520",
   "metadata": {},
   "source": [
    "## Тестирование лучшей модели на тестовой выборке"
   ]
  },
  {
   "cell_type": "code",
   "execution_count": 57,
   "id": "c8998c37",
   "metadata": {},
   "outputs": [
    {
     "name": "stdout",
     "output_type": "stream",
     "text": [
      "Auc-Roc: 0.9294321108636158\n",
      "Accuracy: 0.8591709256104486\n",
      "F1: 0.7582846003898636\n",
      "Precision: 0.7217068645640075\n",
      "Recall: 0.7987679671457906\n"
     ]
    }
   ],
   "source": [
    "model = CatBoostClassifier(depth=4, iterations=2000, learning_rate=0.1,\n",
    "                           verbose=False, auto_class_weights= 'Balanced')\n",
    "model.fit(features_train, target_train)\n",
    "predictions_proba = model.predict_proba(features_test)\n",
    "predictions = model.predict(features_test)\n",
    "print('Auc-Roc:', roc_auc_score(target_test, predictions_proba[:, 1]))\n",
    "print('Accuracy:', accuracy_score(target_test, predictions))\n",
    "print('F1:', f1_score(target_test, predictions))\n",
    "print('Precision:', precision_score(target_test, predictions))\n",
    "print('Recall:', recall_score(target_test, predictions))"
   ]
  },
  {
   "cell_type": "markdown",
   "id": "4de2727f",
   "metadata": {},
   "source": [
    "<div class=\"alert alert-success\">\n",
    "<h2> Комментарий ревьюера <a class=\"tocSkip\"> </h2>\n",
    "\n",
    "<b>Все отлично!👍:</b> Высокое качество модели - прям на зависть!)\n",
    "    \n",
    "Если бы был полный набор признаков, то после выбора лучшей модели желательно построить диаграмму важности признаков для лучшей модели.\n",
    "    \n",
    "Так мы сможем увидеть, какие признаки слабо влияют на отток. \n",
    "\n",
    "</div>"
   ]
  },
  {
   "cell_type": "markdown",
   "id": "ba68370c",
   "metadata": {},
   "source": [
    "\n",
    "\n",
    "<h2>✔️ Заключение ревьюера: <a class=\"tocSkip\"> </h2> \n",
    "    \n",
    "<b>Дарья</b>, было приятно проверять твою работу, в целом она практически готова! \n",
    "    \n",
    "Данные из разных таблиц собраны в один датафрейм, удалены аномалии, заполнены пропуски, получены новые признаки, а ненужные признаки удалены). Рассмотрено несколько моделей и сделан перебор параметров. Могу отметить самостоятельность и аналитический подход в выполнении проекта!\n",
    "   \n",
    "Положительные моменты: \n",
    "    \n",
    "- грамотное и понятное оформление кода;\n",
    "    \n",
    "- аналитический подход — при удалении признаков и формировании новых написано соответствующее обоснование;\n",
    "    \n",
    "- новые признаки сгенерированы правильно;\n",
    "    \n",
    "- рассмотрена модель с разным набором признаков, удалось достичь высокого значения метрики ROC-AUC.\n",
    "    \n",
    "На данном есть несколько замечаний:\n",
    "    \n",
    "- в этом проекте хорошо бы было обратить внимание на дисбаланс классов, это важно для любой задачи;\n",
    "    \n",
    "- нужно правильно заполнить пропуски;\n",
    "\n",
    "- вернуть комментарии тимлида и пред.правки проекта;\n",
    "    \n",
    "Также я отметила некоторые рекомендации. \n",
    "    \n",
    "- F1, accuracy и AUC - отличные метрики, но нужно держать в голове, что это лишь обобщённые характеристики. А в реальной практике бизнесу часто важно знать детали самой ошибки - из каких ошибок/успехов она складывается. И в этом случае очень кстати будут меры полноты и точности. Рассмотри возможность их использования для своих проектов. Только через них можно выйти на финансовые возможности модели. Ведь перед запуском её в бой, будет сравнение стоимости создания и поддержки модели со стомостью \"оставить как есть\" \n",
    "    \n",
    "<font color=\"grey\" size=\"2\">\n",
    "P.S. Вот небольшие статьи по метрикам в машинном обучении, может, пригодится:\n",
    "    \n",
    "https://habr.com/ru/company/ods/blog/328372/    \n",
    "https://habr.com/ru/company/jetinfosystems/blog/420261/ </font>\n",
    "    \n",
    "Если есть какие-то трудности, или нужны пояснения по проекту — смело пиши! Я постараюсь тебе помочь 😊\n",
    "\n",
    "Жду твоего ответа!\n",
    "    \n",
    "</font>"
   ]
  },
  {
   "cell_type": "markdown",
   "id": "d09f1cab",
   "metadata": {},
   "source": [
    "<div class=\"alert alert-block alert-info\">\n",
    "<b>Комментарий студентки: </b> Спасибо за проверку!\n",
    "</div>"
   ]
  },
  {
   "cell_type": "markdown",
   "id": "c34c26d4",
   "metadata": {},
   "source": [
    "\n",
    "<h2>✔️ Заключение ревьюера v.2: <a class=\"tocSkip\"> </h2> \n",
    "    \n",
    "<b>Дарья</b>,  поздравляю с выполнением основной части проекта! Метрика ROC_AUC > 0.88, значит по работе ты получаешь максимальный балл =)\n",
    "    \n",
    "Ты можешь потом, для портфолио работа также поработать над рекомендациями.\n",
    "    \n",
    "Можно приступать к отчету)"
   ]
  },
  {
   "cell_type": "markdown",
   "id": "296b3df5",
   "metadata": {},
   "source": [
    "## Отчет"
   ]
  },
  {
   "cell_type": "markdown",
   "id": "98e7b4f6",
   "metadata": {},
   "source": [
    "Все пункты плана были выполнены.  \n",
    "\n",
    "Единственная трудность была по выделению важных признаков. До проекта я никогда не использовала этот способ. Пришлось читать статьи и справшивать у одногруппников, но в итоге я разобралась и успешно применила.  \n",
    "\n",
    "Данную задачу я бы разделила на несколько ключевых моментов:  \n",
    "- Подготовка данных (скачивание датасетов, устранение пропусков, изменения типов, создание дополнительных признаков, объединение таблиц, масштабирование)  \n",
    "- Выбор важных признаков, на которых будет учиться модель  \n",
    "- Создание и обучение разных моделей с подбором гиперпараметров  \n",
    "- Сравнение моделей и выбор лучшей  \n",
    "- Тестирование лучшей модели и проверка ее на адекватность  \n",
    "  \n",
    "Моя итоговая модель - CatBoostClassifier с параметрами depth=4, iterations=2000, learning_rate=0.1, verbose=False, auto_class_weights='Balanced', random_state=290822. Auc-Roc: 0.93 Accuracy: 0.86 F1: 0.76 Precision: 0.72 Recall: 0.8. "
   ]
  },
  {
   "cell_type": "markdown",
   "id": "6a50967b",
   "metadata": {},
   "source": [
    "<div class=\"alert alert-success\">\n",
    "<b>Комментарий тимлида</b> \n",
    "    \n",
    "Поздравляю тебя с завершением проекта🥳  \n",
    "\n",
    "Я предлагаю тебе подумать что тебе было бы интересно почитать/изучить после окончания курса, ты можешь написать мне в личные сообщения до завтра и я сделаю подборку.\n",
    "    \n",
    "Eщё раз поздравляю и до встречи на финальном вебинаре!\n",
    "    \n",
    "</div>"
   ]
  },
  {
   "cell_type": "code",
   "execution_count": null,
   "id": "a2c4f911",
   "metadata": {},
   "outputs": [],
   "source": []
  }
 ],
 "metadata": {
  "ExecuteTimeLog": [
   {
    "duration": 464,
    "start_time": "2022-09-09T12:51:13.606Z"
   },
   {
    "duration": 43,
    "start_time": "2022-09-09T12:51:14.179Z"
   },
   {
    "duration": 0,
    "start_time": "2022-09-09T12:51:14.223Z"
   },
   {
    "duration": 7,
    "start_time": "2022-09-09T12:51:14.283Z"
   },
   {
    "duration": 2922,
    "start_time": "2022-09-09T12:51:37.966Z"
   },
   {
    "duration": 1131,
    "start_time": "2022-09-09T12:51:44.229Z"
   },
   {
    "duration": 80,
    "start_time": "2022-09-09T12:51:47.984Z"
   },
   {
    "duration": 129,
    "start_time": "2022-09-09T13:03:36.124Z"
   },
   {
    "duration": 6,
    "start_time": "2022-09-09T13:03:39.624Z"
   },
   {
    "duration": 5,
    "start_time": "2022-09-09T13:03:41.912Z"
   },
   {
    "duration": 6,
    "start_time": "2022-09-09T13:13:42.113Z"
   },
   {
    "duration": 58,
    "start_time": "2022-09-09T13:13:42.677Z"
   },
   {
    "duration": 6,
    "start_time": "2022-09-09T13:13:42.737Z"
   },
   {
    "duration": 6,
    "start_time": "2022-09-09T13:13:42.787Z"
   },
   {
    "duration": 12,
    "start_time": "2022-09-09T13:13:42.876Z"
   },
   {
    "duration": 7,
    "start_time": "2022-09-09T13:13:44.089Z"
   },
   {
    "duration": 12,
    "start_time": "2022-09-09T13:13:44.232Z"
   },
   {
    "duration": 3,
    "start_time": "2022-09-09T13:13:44.298Z"
   },
   {
    "duration": 6,
    "start_time": "2022-09-09T13:13:45.204Z"
   },
   {
    "duration": 17,
    "start_time": "2022-09-09T13:13:45.708Z"
   },
   {
    "duration": 175,
    "start_time": "2022-09-09T13:13:45.748Z"
   },
   {
    "duration": 169,
    "start_time": "2022-09-09T13:13:45.925Z"
   },
   {
    "duration": 80,
    "start_time": "2022-09-09T13:13:46.096Z"
   },
   {
    "duration": 6,
    "start_time": "2022-09-09T13:13:46.179Z"
   },
   {
    "duration": 16,
    "start_time": "2022-09-09T13:13:46.186Z"
   },
   {
    "duration": 137,
    "start_time": "2022-09-09T13:13:48.203Z"
   },
   {
    "duration": 7,
    "start_time": "2022-09-09T13:13:48.929Z"
   },
   {
    "duration": 6,
    "start_time": "2022-09-09T13:13:49.332Z"
   },
   {
    "duration": 13,
    "start_time": "2022-09-09T13:13:50.622Z"
   },
   {
    "duration": 102,
    "start_time": "2022-09-09T13:13:52.706Z"
   },
   {
    "duration": 12,
    "start_time": "2022-09-09T13:13:54.246Z"
   },
   {
    "duration": 7,
    "start_time": "2022-09-09T13:13:56.347Z"
   },
   {
    "duration": 14,
    "start_time": "2022-09-09T13:14:04.888Z"
   },
   {
    "duration": 12,
    "start_time": "2022-09-09T13:15:49.651Z"
   },
   {
    "duration": 22,
    "start_time": "2022-09-09T13:16:07.230Z"
   },
   {
    "duration": 35,
    "start_time": "2022-09-09T13:22:04.709Z"
   },
   {
    "duration": 24,
    "start_time": "2022-09-09T13:22:10.481Z"
   },
   {
    "duration": 17,
    "start_time": "2022-09-09T13:22:44.249Z"
   },
   {
    "duration": 54,
    "start_time": "2022-09-09T13:22:54.461Z"
   },
   {
    "duration": 27,
    "start_time": "2022-09-09T13:23:06.762Z"
   },
   {
    "duration": 13,
    "start_time": "2022-09-09T13:23:07.569Z"
   },
   {
    "duration": 22,
    "start_time": "2022-09-09T13:23:26.159Z"
   },
   {
    "duration": 36,
    "start_time": "2022-09-09T13:26:53.922Z"
   },
   {
    "duration": 18,
    "start_time": "2022-09-09T13:50:30.934Z"
   },
   {
    "duration": 4,
    "start_time": "2022-09-09T13:50:31.251Z"
   },
   {
    "duration": 6,
    "start_time": "2022-09-09T13:50:31.577Z"
   },
   {
    "duration": 4,
    "start_time": "2022-09-09T13:50:31.934Z"
   },
   {
    "duration": 4,
    "start_time": "2022-09-09T13:50:32.206Z"
   },
   {
    "duration": 5,
    "start_time": "2022-09-09T13:50:32.533Z"
   },
   {
    "duration": 4,
    "start_time": "2022-09-09T13:50:32.834Z"
   },
   {
    "duration": 6,
    "start_time": "2022-09-09T13:50:33.098Z"
   },
   {
    "duration": 4,
    "start_time": "2022-09-09T13:50:33.430Z"
   },
   {
    "duration": 19,
    "start_time": "2022-09-09T13:50:34.284Z"
   },
   {
    "duration": 55,
    "start_time": "2022-09-09T13:50:38.096Z"
   },
   {
    "duration": 37,
    "start_time": "2022-09-09T13:50:53.595Z"
   },
   {
    "duration": 6,
    "start_time": "2022-09-09T13:50:54.178Z"
   },
   {
    "duration": 35,
    "start_time": "2022-09-09T13:50:54.450Z"
   },
   {
    "duration": 19,
    "start_time": "2022-09-09T13:50:55.334Z"
   },
   {
    "duration": 4,
    "start_time": "2022-09-09T13:50:55.634Z"
   },
   {
    "duration": 5,
    "start_time": "2022-09-09T13:50:55.945Z"
   },
   {
    "duration": 5,
    "start_time": "2022-09-09T13:50:56.231Z"
   },
   {
    "duration": 5,
    "start_time": "2022-09-09T13:50:56.495Z"
   },
   {
    "duration": 5,
    "start_time": "2022-09-09T13:50:56.814Z"
   },
   {
    "duration": 4,
    "start_time": "2022-09-09T13:50:57.073Z"
   },
   {
    "duration": 5,
    "start_time": "2022-09-09T13:50:57.333Z"
   },
   {
    "duration": 4,
    "start_time": "2022-09-09T13:50:57.561Z"
   },
   {
    "duration": 18,
    "start_time": "2022-09-09T13:50:57.840Z"
   },
   {
    "duration": 964,
    "start_time": "2022-09-09T13:50:59.174Z"
   },
   {
    "duration": 10,
    "start_time": "2022-09-09T13:54:39.697Z"
   },
   {
    "duration": 10,
    "start_time": "2022-09-09T13:54:45.652Z"
   },
   {
    "duration": 16,
    "start_time": "2022-09-09T13:54:50.966Z"
   },
   {
    "duration": 25,
    "start_time": "2022-09-09T13:54:52.354Z"
   },
   {
    "duration": 929,
    "start_time": "2022-09-09T13:54:53.444Z"
   },
   {
    "duration": 7,
    "start_time": "2022-09-09T13:55:02.630Z"
   },
   {
    "duration": 50,
    "start_time": "2022-09-09T13:57:09.024Z"
   },
   {
    "duration": 77,
    "start_time": "2022-09-09T19:32:15.687Z"
   },
   {
    "duration": 3280,
    "start_time": "2022-09-09T19:39:13.642Z"
   },
   {
    "duration": 1619,
    "start_time": "2022-09-09T19:39:16.924Z"
   },
   {
    "duration": 175,
    "start_time": "2022-09-09T19:39:18.545Z"
   },
   {
    "duration": 0,
    "start_time": "2022-09-09T19:39:18.723Z"
   },
   {
    "duration": 0,
    "start_time": "2022-09-09T19:39:18.724Z"
   },
   {
    "duration": 0,
    "start_time": "2022-09-09T19:39:18.725Z"
   },
   {
    "duration": 0,
    "start_time": "2022-09-09T19:39:18.726Z"
   },
   {
    "duration": 0,
    "start_time": "2022-09-09T19:39:18.728Z"
   },
   {
    "duration": 0,
    "start_time": "2022-09-09T19:39:18.729Z"
   },
   {
    "duration": 0,
    "start_time": "2022-09-09T19:39:18.730Z"
   },
   {
    "duration": 0,
    "start_time": "2022-09-09T19:39:18.731Z"
   },
   {
    "duration": 0,
    "start_time": "2022-09-09T19:39:18.733Z"
   },
   {
    "duration": 0,
    "start_time": "2022-09-09T19:39:18.734Z"
   },
   {
    "duration": 0,
    "start_time": "2022-09-09T19:39:18.735Z"
   },
   {
    "duration": 0,
    "start_time": "2022-09-09T19:39:18.736Z"
   },
   {
    "duration": 0,
    "start_time": "2022-09-09T19:39:18.738Z"
   },
   {
    "duration": 0,
    "start_time": "2022-09-09T19:39:18.738Z"
   },
   {
    "duration": 0,
    "start_time": "2022-09-09T19:39:18.740Z"
   },
   {
    "duration": 0,
    "start_time": "2022-09-09T19:39:18.741Z"
   },
   {
    "duration": 0,
    "start_time": "2022-09-09T19:39:18.742Z"
   },
   {
    "duration": 0,
    "start_time": "2022-09-09T19:39:18.743Z"
   },
   {
    "duration": 0,
    "start_time": "2022-09-09T19:39:18.772Z"
   },
   {
    "duration": 0,
    "start_time": "2022-09-09T19:39:18.773Z"
   },
   {
    "duration": 0,
    "start_time": "2022-09-09T19:39:18.780Z"
   },
   {
    "duration": 0,
    "start_time": "2022-09-09T19:39:18.781Z"
   },
   {
    "duration": 0,
    "start_time": "2022-09-09T19:39:18.781Z"
   },
   {
    "duration": 0,
    "start_time": "2022-09-09T19:39:18.782Z"
   },
   {
    "duration": 0,
    "start_time": "2022-09-09T19:39:18.783Z"
   },
   {
    "duration": 0,
    "start_time": "2022-09-09T19:39:18.785Z"
   },
   {
    "duration": 0,
    "start_time": "2022-09-09T19:39:18.786Z"
   },
   {
    "duration": 0,
    "start_time": "2022-09-09T19:39:18.787Z"
   },
   {
    "duration": 0,
    "start_time": "2022-09-09T19:39:18.788Z"
   },
   {
    "duration": 0,
    "start_time": "2022-09-09T19:39:18.789Z"
   },
   {
    "duration": 0,
    "start_time": "2022-09-09T19:39:18.790Z"
   },
   {
    "duration": 0,
    "start_time": "2022-09-09T19:39:18.791Z"
   },
   {
    "duration": 0,
    "start_time": "2022-09-09T19:39:18.792Z"
   },
   {
    "duration": 0,
    "start_time": "2022-09-09T19:39:18.793Z"
   },
   {
    "duration": 0,
    "start_time": "2022-09-09T19:39:18.794Z"
   },
   {
    "duration": 0,
    "start_time": "2022-09-09T19:39:18.795Z"
   },
   {
    "duration": 0,
    "start_time": "2022-09-09T19:39:18.796Z"
   },
   {
    "duration": 0,
    "start_time": "2022-09-09T19:39:18.797Z"
   },
   {
    "duration": 0,
    "start_time": "2022-09-09T19:39:18.798Z"
   },
   {
    "duration": 0,
    "start_time": "2022-09-09T19:39:18.800Z"
   },
   {
    "duration": 2140,
    "start_time": "2022-09-09T19:41:13.083Z"
   },
   {
    "duration": 2393,
    "start_time": "2022-09-09T19:41:15.226Z"
   },
   {
    "duration": 172,
    "start_time": "2022-09-09T19:41:17.621Z"
   },
   {
    "duration": 6,
    "start_time": "2022-09-09T19:41:17.795Z"
   },
   {
    "duration": 8,
    "start_time": "2022-09-09T19:41:17.803Z"
   },
   {
    "duration": 15,
    "start_time": "2022-09-09T19:41:17.812Z"
   },
   {
    "duration": 6,
    "start_time": "2022-09-09T19:41:17.829Z"
   },
   {
    "duration": 31,
    "start_time": "2022-09-09T19:41:17.837Z"
   },
   {
    "duration": 8,
    "start_time": "2022-09-09T19:41:17.875Z"
   },
   {
    "duration": 7,
    "start_time": "2022-09-09T19:41:17.885Z"
   },
   {
    "duration": 17,
    "start_time": "2022-09-09T19:41:17.893Z"
   },
   {
    "duration": 214,
    "start_time": "2022-09-09T19:41:17.912Z"
   },
   {
    "duration": 194,
    "start_time": "2022-09-09T19:41:18.129Z"
   },
   {
    "duration": 118,
    "start_time": "2022-09-09T19:41:18.325Z"
   },
   {
    "duration": 6,
    "start_time": "2022-09-09T19:41:18.444Z"
   },
   {
    "duration": 12,
    "start_time": "2022-09-09T19:41:18.452Z"
   },
   {
    "duration": 71,
    "start_time": "2022-09-09T19:41:18.466Z"
   },
   {
    "duration": 6,
    "start_time": "2022-09-09T19:41:18.538Z"
   },
   {
    "duration": 7,
    "start_time": "2022-09-09T19:41:18.545Z"
   },
   {
    "duration": 11,
    "start_time": "2022-09-09T19:41:18.554Z"
   },
   {
    "duration": 60,
    "start_time": "2022-09-09T19:41:18.567Z"
   },
   {
    "duration": 10,
    "start_time": "2022-09-09T19:41:18.628Z"
   },
   {
    "duration": 9,
    "start_time": "2022-09-09T19:41:18.639Z"
   },
   {
    "duration": 13,
    "start_time": "2022-09-09T19:41:18.649Z"
   },
   {
    "duration": 29,
    "start_time": "2022-09-09T19:41:18.664Z"
   },
   {
    "duration": 34,
    "start_time": "2022-09-09T19:41:18.695Z"
   },
   {
    "duration": 4,
    "start_time": "2022-09-09T19:41:18.731Z"
   },
   {
    "duration": 47,
    "start_time": "2022-09-09T19:41:18.738Z"
   },
   {
    "duration": 19,
    "start_time": "2022-09-09T19:41:18.787Z"
   },
   {
    "duration": 5,
    "start_time": "2022-09-09T19:41:18.807Z"
   },
   {
    "duration": 7,
    "start_time": "2022-09-09T19:41:18.814Z"
   },
   {
    "duration": 6,
    "start_time": "2022-09-09T19:41:18.822Z"
   },
   {
    "duration": 6,
    "start_time": "2022-09-09T19:41:18.830Z"
   },
   {
    "duration": 6,
    "start_time": "2022-09-09T19:41:18.838Z"
   },
   {
    "duration": 30,
    "start_time": "2022-09-09T19:41:18.845Z"
   },
   {
    "duration": 20,
    "start_time": "2022-09-09T19:41:18.877Z"
   },
   {
    "duration": 5,
    "start_time": "2022-09-09T19:41:18.898Z"
   },
   {
    "duration": 24,
    "start_time": "2022-09-09T19:41:18.905Z"
   },
   {
    "duration": 1049,
    "start_time": "2022-09-09T19:41:18.931Z"
   },
   {
    "duration": 17,
    "start_time": "2022-09-09T19:41:19.981Z"
   },
   {
    "duration": 25,
    "start_time": "2022-09-09T19:41:19.999Z"
   },
   {
    "duration": 964,
    "start_time": "2022-09-09T19:41:20.025Z"
   },
   {
    "duration": 1285,
    "start_time": "2022-09-09T19:41:20.991Z"
   },
   {
    "duration": 0,
    "start_time": "2022-09-09T19:41:22.280Z"
   },
   {
    "duration": 0,
    "start_time": "2022-09-09T19:41:22.282Z"
   },
   {
    "duration": 1,
    "start_time": "2022-09-09T19:41:22.282Z"
   },
   {
    "duration": 0,
    "start_time": "2022-09-09T19:41:22.284Z"
   },
   {
    "duration": 0,
    "start_time": "2022-09-09T19:41:22.285Z"
   },
   {
    "duration": 0,
    "start_time": "2022-09-09T19:41:22.286Z"
   },
   {
    "duration": 0,
    "start_time": "2022-09-09T19:41:22.287Z"
   },
   {
    "duration": 0,
    "start_time": "2022-09-09T19:41:22.288Z"
   },
   {
    "duration": 0,
    "start_time": "2022-09-09T19:41:22.289Z"
   },
   {
    "duration": 0,
    "start_time": "2022-09-09T19:41:22.290Z"
   },
   {
    "duration": 0,
    "start_time": "2022-09-09T19:41:22.291Z"
   },
   {
    "duration": 2197,
    "start_time": "2022-09-09T19:42:06.966Z"
   },
   {
    "duration": 2503,
    "start_time": "2022-09-09T19:42:09.166Z"
   },
   {
    "duration": 65,
    "start_time": "2022-09-09T19:42:11.676Z"
   },
   {
    "duration": 6,
    "start_time": "2022-09-09T19:42:11.743Z"
   },
   {
    "duration": 8,
    "start_time": "2022-09-09T19:42:11.750Z"
   },
   {
    "duration": 20,
    "start_time": "2022-09-09T19:42:11.759Z"
   },
   {
    "duration": 9,
    "start_time": "2022-09-09T19:42:11.781Z"
   },
   {
    "duration": 14,
    "start_time": "2022-09-09T19:42:11.792Z"
   },
   {
    "duration": 5,
    "start_time": "2022-09-09T19:42:11.808Z"
   },
   {
    "duration": 5,
    "start_time": "2022-09-09T19:42:11.815Z"
   },
   {
    "duration": 16,
    "start_time": "2022-09-09T19:42:11.821Z"
   },
   {
    "duration": 212,
    "start_time": "2022-09-09T19:42:11.838Z"
   },
   {
    "duration": 203,
    "start_time": "2022-09-09T19:42:12.051Z"
   },
   {
    "duration": 40,
    "start_time": "2022-09-09T19:42:12.257Z"
   },
   {
    "duration": 6,
    "start_time": "2022-09-09T19:42:12.299Z"
   },
   {
    "duration": 14,
    "start_time": "2022-09-09T19:42:12.306Z"
   },
   {
    "duration": 30,
    "start_time": "2022-09-09T19:42:12.322Z"
   },
   {
    "duration": 6,
    "start_time": "2022-09-09T19:42:12.353Z"
   },
   {
    "duration": 11,
    "start_time": "2022-09-09T19:42:12.360Z"
   },
   {
    "duration": 18,
    "start_time": "2022-09-09T19:42:12.374Z"
   },
   {
    "duration": 27,
    "start_time": "2022-09-09T19:42:12.393Z"
   },
   {
    "duration": 10,
    "start_time": "2022-09-09T19:42:12.422Z"
   },
   {
    "duration": 7,
    "start_time": "2022-09-09T19:42:12.434Z"
   },
   {
    "duration": 38,
    "start_time": "2022-09-09T19:42:12.442Z"
   },
   {
    "duration": 26,
    "start_time": "2022-09-09T19:42:12.481Z"
   },
   {
    "duration": 38,
    "start_time": "2022-09-09T19:42:12.509Z"
   },
   {
    "duration": 5,
    "start_time": "2022-09-09T19:42:12.549Z"
   },
   {
    "duration": 31,
    "start_time": "2022-09-09T19:42:12.570Z"
   },
   {
    "duration": 18,
    "start_time": "2022-09-09T19:42:12.603Z"
   },
   {
    "duration": 4,
    "start_time": "2022-09-09T19:42:12.622Z"
   },
   {
    "duration": 7,
    "start_time": "2022-09-09T19:42:12.628Z"
   },
   {
    "duration": 34,
    "start_time": "2022-09-09T19:42:12.637Z"
   },
   {
    "duration": 5,
    "start_time": "2022-09-09T19:42:12.672Z"
   },
   {
    "duration": 8,
    "start_time": "2022-09-09T19:42:12.681Z"
   },
   {
    "duration": 6,
    "start_time": "2022-09-09T19:42:12.691Z"
   },
   {
    "duration": 6,
    "start_time": "2022-09-09T19:42:12.699Z"
   },
   {
    "duration": 6,
    "start_time": "2022-09-09T19:42:12.706Z"
   },
   {
    "duration": 19,
    "start_time": "2022-09-09T19:42:12.713Z"
   },
   {
    "duration": 1091,
    "start_time": "2022-09-09T19:42:12.734Z"
   },
   {
    "duration": 18,
    "start_time": "2022-09-09T19:42:13.826Z"
   },
   {
    "duration": 41,
    "start_time": "2022-09-09T19:42:13.845Z"
   },
   {
    "duration": 967,
    "start_time": "2022-09-09T19:42:13.888Z"
   },
   {
    "duration": 6,
    "start_time": "2022-09-09T19:42:14.857Z"
   },
   {
    "duration": 968,
    "start_time": "2022-09-09T19:42:14.867Z"
   },
   {
    "duration": 2,
    "start_time": "2022-09-09T19:42:15.837Z"
   },
   {
    "duration": 42222,
    "start_time": "2022-09-09T19:42:15.840Z"
   },
   {
    "duration": 4,
    "start_time": "2022-09-09T19:42:58.064Z"
   },
   {
    "duration": 1099,
    "start_time": "2022-09-09T19:42:58.075Z"
   },
   {
    "duration": 4,
    "start_time": "2022-09-09T19:42:59.180Z"
   },
   {
    "duration": 128580,
    "start_time": "2022-09-09T19:42:59.185Z"
   },
   {
    "duration": 14,
    "start_time": "2022-09-09T19:45:07.766Z"
   },
   {
    "duration": 14,
    "start_time": "2022-09-09T19:45:07.782Z"
   },
   {
    "duration": 4277,
    "start_time": "2022-09-09T19:45:07.798Z"
   },
   {
    "duration": 90,
    "start_time": "2022-09-09T19:45:12.082Z"
   },
   {
    "duration": 6,
    "start_time": "2022-09-09T19:48:23.218Z"
   },
   {
    "duration": 2178,
    "start_time": "2022-09-09T19:52:11.113Z"
   },
   {
    "duration": 1536,
    "start_time": "2022-09-09T19:52:13.294Z"
   },
   {
    "duration": 74,
    "start_time": "2022-09-09T19:52:14.832Z"
   },
   {
    "duration": 8,
    "start_time": "2022-09-09T19:52:14.907Z"
   },
   {
    "duration": 7,
    "start_time": "2022-09-09T19:52:14.918Z"
   },
   {
    "duration": 16,
    "start_time": "2022-09-09T19:52:14.927Z"
   },
   {
    "duration": 36,
    "start_time": "2022-09-09T19:52:14.945Z"
   },
   {
    "duration": 25,
    "start_time": "2022-09-09T19:52:14.983Z"
   },
   {
    "duration": 25,
    "start_time": "2022-09-09T19:52:15.010Z"
   },
   {
    "duration": 7,
    "start_time": "2022-09-09T19:52:15.037Z"
   },
   {
    "duration": 19,
    "start_time": "2022-09-09T19:52:15.046Z"
   },
   {
    "duration": 231,
    "start_time": "2022-09-09T19:52:15.066Z"
   },
   {
    "duration": 198,
    "start_time": "2022-09-09T19:52:15.299Z"
   },
   {
    "duration": 31,
    "start_time": "2022-09-09T19:52:15.501Z"
   },
   {
    "duration": 7,
    "start_time": "2022-09-09T19:52:15.534Z"
   },
   {
    "duration": 29,
    "start_time": "2022-09-09T19:52:15.542Z"
   },
   {
    "duration": 35,
    "start_time": "2022-09-09T19:52:15.575Z"
   },
   {
    "duration": 5,
    "start_time": "2022-09-09T19:52:15.612Z"
   },
   {
    "duration": 9,
    "start_time": "2022-09-09T19:52:15.619Z"
   },
   {
    "duration": 15,
    "start_time": "2022-09-09T19:52:15.630Z"
   },
   {
    "duration": 36,
    "start_time": "2022-09-09T19:52:15.646Z"
   },
   {
    "duration": 14,
    "start_time": "2022-09-09T19:52:15.684Z"
   },
   {
    "duration": 8,
    "start_time": "2022-09-09T19:52:15.700Z"
   },
   {
    "duration": 18,
    "start_time": "2022-09-09T19:52:15.710Z"
   },
   {
    "duration": 5,
    "start_time": "2022-09-09T19:52:15.729Z"
   },
   {
    "duration": 54,
    "start_time": "2022-09-09T19:52:15.736Z"
   },
   {
    "duration": 43,
    "start_time": "2022-09-09T19:52:15.793Z"
   },
   {
    "duration": 5,
    "start_time": "2022-09-09T19:52:15.838Z"
   },
   {
    "duration": 49,
    "start_time": "2022-09-09T19:52:15.845Z"
   },
   {
    "duration": 18,
    "start_time": "2022-09-09T19:52:15.896Z"
   },
   {
    "duration": 4,
    "start_time": "2022-09-09T19:52:15.916Z"
   },
   {
    "duration": 10,
    "start_time": "2022-09-09T19:52:15.922Z"
   },
   {
    "duration": 11,
    "start_time": "2022-09-09T19:52:15.934Z"
   },
   {
    "duration": 31,
    "start_time": "2022-09-09T19:52:15.947Z"
   },
   {
    "duration": 4,
    "start_time": "2022-09-09T19:52:15.980Z"
   },
   {
    "duration": 5,
    "start_time": "2022-09-09T19:52:15.986Z"
   },
   {
    "duration": 6,
    "start_time": "2022-09-09T19:52:15.993Z"
   },
   {
    "duration": 8,
    "start_time": "2022-09-09T19:52:16.001Z"
   },
   {
    "duration": 23,
    "start_time": "2022-09-09T19:52:16.010Z"
   },
   {
    "duration": 1194,
    "start_time": "2022-09-09T19:52:16.034Z"
   },
   {
    "duration": 19,
    "start_time": "2022-09-09T19:52:17.232Z"
   },
   {
    "duration": 54,
    "start_time": "2022-09-09T19:52:17.252Z"
   },
   {
    "duration": 1013,
    "start_time": "2022-09-09T19:52:17.308Z"
   },
   {
    "duration": 7,
    "start_time": "2022-09-09T19:52:18.322Z"
   },
   {
    "duration": 973,
    "start_time": "2022-09-09T19:52:18.330Z"
   },
   {
    "duration": 3,
    "start_time": "2022-09-09T19:52:19.305Z"
   },
   {
    "duration": 42399,
    "start_time": "2022-09-09T19:52:19.309Z"
   },
   {
    "duration": 2,
    "start_time": "2022-09-09T19:53:01.710Z"
   },
   {
    "duration": 1824,
    "start_time": "2022-09-09T19:53:01.767Z"
   },
   {
    "duration": 4,
    "start_time": "2022-09-09T19:53:03.668Z"
   },
   {
    "duration": 127904,
    "start_time": "2022-09-09T19:53:03.674Z"
   },
   {
    "duration": 3,
    "start_time": "2022-09-09T19:55:11.582Z"
   },
   {
    "duration": 15,
    "start_time": "2022-09-09T19:55:11.587Z"
   },
   {
    "duration": 4182,
    "start_time": "2022-09-09T19:55:11.604Z"
   },
   {
    "duration": 5,
    "start_time": "2022-09-09T20:00:46.597Z"
   },
   {
    "duration": 4149,
    "start_time": "2022-09-09T20:01:14.813Z"
   },
   {
    "duration": 4347,
    "start_time": "2022-09-09T20:01:43.629Z"
   },
   {
    "duration": 78,
    "start_time": "2022-09-09T20:06:13.404Z"
   }
  ],
  "kernelspec": {
   "display_name": "Python 3 (ipykernel)",
   "language": "python",
   "name": "python3"
  },
  "language_info": {
   "codemirror_mode": {
    "name": "ipython",
    "version": 3
   },
   "file_extension": ".py",
   "mimetype": "text/x-python",
   "name": "python",
   "nbconvert_exporter": "python",
   "pygments_lexer": "ipython3",
   "version": "3.9.5"
  },
  "toc": {
   "base_numbering": 1,
   "nav_menu": {},
   "number_sections": true,
   "sideBar": true,
   "skip_h1_title": true,
   "title_cell": "Оглавление",
   "title_sidebar": "Contents",
   "toc_cell": true,
   "toc_position": {
    "height": "calc(100% - 180px)",
    "left": "10px",
    "top": "150px",
    "width": "345px"
   },
   "toc_section_display": true,
   "toc_window_display": true
  }
 },
 "nbformat": 4,
 "nbformat_minor": 5
}
