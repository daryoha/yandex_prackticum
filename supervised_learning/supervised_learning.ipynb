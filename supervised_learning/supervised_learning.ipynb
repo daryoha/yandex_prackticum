{
 "cells": [
  {
   "cell_type": "markdown",
   "metadata": {},
   "source": [
    "<div style=\"background: #cceeaa; padding: 5px; border: 1px solid green; border-radius: 5px;\">\n",
    "    <font color='green'> <b><u>КОММЕНТАРИЙ РЕВЬЮЕРА</u></b>\n",
    "\n",
    "Дарья, доброго дня! рад приветствовать тебя) <br />\n",
    "<br />\n",
    "Меня зовут Николай Шавлюго. <br />И на этом этапе твоего движения к новой профессии от меня будут комментарии по написанному коду. <br />Чтобы меньше \"мусорить эфир\" и чтобы максимально наглядно отделяться от основного кода, есть предложение условиться в некоторых обозначениях:<br /> <br />\n",
    "<u><b>ТАКОЙ ШРИФТ</b></u> - всегда начало комментария <br />\n",
    "<font color='green'>такой шрифт</font> - комментарии о том, что всё ОК <br/>\n",
    "<font color='orange'>такой шрифт</font> - комментарии о том, что всё ОК по результату,<br> однако есть на что обратить внимание в плане применения техник, или есть способы сделать более короткий или быстрый код <br/>\n",
    "<font color='red'>такой шрифт</font> - комментарии о том, что есть критичный момент, влияющий на бизнес-результат проекта.<br/>\n",
    "</font><br /><br />\n",
    "<font color='green'>Моей целью является не \"уличить\" в не знании, а просто высказать сверху твоих знаний - свой опыт, что бы ты мог использовать его для своего дальнейшего успеха) И очень здорово будет, если тебе удастся задавать вопросы, да и вообще - всячески доставать меня, если я по каким-то причинам не приму проект:) При этом, из своего опыта скажу, хорошо и важно, когда переписка ревьюера и студента - сохраняется на следующие проекты и даже на будущую практическую деятельность.<br>\n",
    "<br> Я сразу же начал общаться на ты:) но если это не очень удобно, то дай знать)) <BR> В ПУТЬ!<br>"
   ]
  },
  {
   "cell_type": "markdown",
   "metadata": {
    "toc": true
   },
   "source": [
    "<h1>Содержание<span class=\"tocSkip\"></span></h1>\n",
    "<div class=\"toc\"><ul class=\"toc-item\"><li><span><a href=\"#Подготовка-данных\" data-toc-modified-id=\"Подготовка-данных-1\"><span class=\"toc-item-num\">1&nbsp;&nbsp;</span>Подготовка данных</a></span></li><li><span><a href=\"#Исследование-задачи\" data-toc-modified-id=\"Исследование-задачи-2\"><span class=\"toc-item-num\">2&nbsp;&nbsp;</span>Исследование задачи</a></span></li><li><span><a href=\"#Борьба-с-дисбалансом\" data-toc-modified-id=\"Борьба-с-дисбалансом-3\"><span class=\"toc-item-num\">3&nbsp;&nbsp;</span>Борьба с дисбалансом</a></span><ul class=\"toc-item\"><li><span><a href=\"#Увеличение-выборки\" data-toc-modified-id=\"Увеличение-выборки-3.1\"><span class=\"toc-item-num\">3.1&nbsp;&nbsp;</span>Увеличение выборки</a></span></li><li><span><a href=\"#Уменьшение-выборки\" data-toc-modified-id=\"Уменьшение-выборки-3.2\"><span class=\"toc-item-num\">3.2&nbsp;&nbsp;</span>Уменьшение выборки</a></span></li><li><span><a href=\"#Дерево-решений\" data-toc-modified-id=\"Дерево-решений-3.3\"><span class=\"toc-item-num\">3.3&nbsp;&nbsp;</span>Дерево решений</a></span></li><li><span><a href=\"#Случайный-лес\" data-toc-modified-id=\"Случайный-лес-3.4\"><span class=\"toc-item-num\">3.4&nbsp;&nbsp;</span>Случайный лес</a></span></li><li><span><a href=\"#Логистическая-регрессия\" data-toc-modified-id=\"Логистическая-регрессия-3.5\"><span class=\"toc-item-num\">3.5&nbsp;&nbsp;</span>Логистическая регрессия</a></span></li></ul></li><li><span><a href=\"#Тестирование-модели\" data-toc-modified-id=\"Тестирование-модели-4\"><span class=\"toc-item-num\">4&nbsp;&nbsp;</span>Тестирование модели</a></span></li><li><span><a href=\"#Вывод\" data-toc-modified-id=\"Вывод-5\"><span class=\"toc-item-num\">5&nbsp;&nbsp;</span>Вывод</a></span></li><li><span><a href=\"#Чек-лист-готовности-проекта\" data-toc-modified-id=\"Чек-лист-готовности-проекта-6\"><span class=\"toc-item-num\">6&nbsp;&nbsp;</span>Чек-лист готовности проекта</a></span></li></ul></div>"
   ]
  },
  {
   "cell_type": "markdown",
   "metadata": {},
   "source": [
    "# Отток клиентов"
   ]
  },
  {
   "cell_type": "markdown",
   "metadata": {},
   "source": [
    "Из «Бета-Банка» стали уходить клиенты. Каждый месяц. Немного, но заметно. Банковские маркетологи посчитали: сохранять текущих клиентов дешевле, чем привлекать новых.\n",
    "\n",
    "Нужно спрогнозировать, уйдёт клиент из банка в ближайшее время или нет. Вам предоставлены исторические данные о поведении клиентов и расторжении договоров с банком. \n",
    "\n",
    "Постройте модель с предельно большим значением *F1*-меры. Чтобы сдать проект успешно, нужно довести метрику до 0.59. Проверьте *F1*-меру на тестовой выборке самостоятельно.\n",
    "\n",
    "Дополнительно измеряйте *AUC-ROC*, сравнивайте её значение с *F1*-мерой.\n",
    "\n",
    "Источник данных: [https://www.kaggle.com/barelydedicated/bank-customer-churn-modeling](https://www.kaggle.com/barelydedicated/bank-customer-churn-modeling)"
   ]
  },
  {
   "cell_type": "markdown",
   "metadata": {},
   "source": [
    "## Подготовка данных"
   ]
  },
  {
   "cell_type": "code",
   "execution_count": 1,
   "metadata": {},
   "outputs": [],
   "source": [
    "# импортирование библиотек\n",
    "import pandas as pd\n",
    "from sklearn.model_selection import train_test_split\n",
    "\n",
    "from sklearn.tree import DecisionTreeClassifier\n",
    "from sklearn.ensemble import RandomForestClassifier\n",
    "from sklearn.linear_model import LogisticRegression\n",
    "from sklearn.preprocessing import StandardScaler\n",
    "\n",
    "from sklearn.metrics import f1_score\n",
    "from sklearn.metrics import r2_score\n",
    "from sklearn.metrics import roc_auc_score\n",
    "from sklearn.utils import shuffle\n",
    "from sklearn.metrics import mean_absolute_error\n",
    "\n",
    "import warnings"
   ]
  },
  {
   "cell_type": "code",
   "execution_count": 2,
   "metadata": {},
   "outputs": [
    {
     "data": {
      "text/html": [
       "<div>\n",
       "<style scoped>\n",
       "    .dataframe tbody tr th:only-of-type {\n",
       "        vertical-align: middle;\n",
       "    }\n",
       "\n",
       "    .dataframe tbody tr th {\n",
       "        vertical-align: top;\n",
       "    }\n",
       "\n",
       "    .dataframe thead th {\n",
       "        text-align: right;\n",
       "    }\n",
       "</style>\n",
       "<table border=\"1\" class=\"dataframe\">\n",
       "  <thead>\n",
       "    <tr style=\"text-align: right;\">\n",
       "      <th></th>\n",
       "      <th>RowNumber</th>\n",
       "      <th>CustomerId</th>\n",
       "      <th>Surname</th>\n",
       "      <th>CreditScore</th>\n",
       "      <th>Geography</th>\n",
       "      <th>Gender</th>\n",
       "      <th>Age</th>\n",
       "      <th>Tenure</th>\n",
       "      <th>Balance</th>\n",
       "      <th>NumOfProducts</th>\n",
       "      <th>HasCrCard</th>\n",
       "      <th>IsActiveMember</th>\n",
       "      <th>EstimatedSalary</th>\n",
       "      <th>Exited</th>\n",
       "    </tr>\n",
       "  </thead>\n",
       "  <tbody>\n",
       "    <tr>\n",
       "      <td>0</td>\n",
       "      <td>1</td>\n",
       "      <td>15634602</td>\n",
       "      <td>Hargrave</td>\n",
       "      <td>619</td>\n",
       "      <td>France</td>\n",
       "      <td>Female</td>\n",
       "      <td>42</td>\n",
       "      <td>2.0</td>\n",
       "      <td>0.00</td>\n",
       "      <td>1</td>\n",
       "      <td>1</td>\n",
       "      <td>1</td>\n",
       "      <td>101348.88</td>\n",
       "      <td>1</td>\n",
       "    </tr>\n",
       "    <tr>\n",
       "      <td>1</td>\n",
       "      <td>2</td>\n",
       "      <td>15647311</td>\n",
       "      <td>Hill</td>\n",
       "      <td>608</td>\n",
       "      <td>Spain</td>\n",
       "      <td>Female</td>\n",
       "      <td>41</td>\n",
       "      <td>1.0</td>\n",
       "      <td>83807.86</td>\n",
       "      <td>1</td>\n",
       "      <td>0</td>\n",
       "      <td>1</td>\n",
       "      <td>112542.58</td>\n",
       "      <td>0</td>\n",
       "    </tr>\n",
       "    <tr>\n",
       "      <td>2</td>\n",
       "      <td>3</td>\n",
       "      <td>15619304</td>\n",
       "      <td>Onio</td>\n",
       "      <td>502</td>\n",
       "      <td>France</td>\n",
       "      <td>Female</td>\n",
       "      <td>42</td>\n",
       "      <td>8.0</td>\n",
       "      <td>159660.80</td>\n",
       "      <td>3</td>\n",
       "      <td>1</td>\n",
       "      <td>0</td>\n",
       "      <td>113931.57</td>\n",
       "      <td>1</td>\n",
       "    </tr>\n",
       "    <tr>\n",
       "      <td>3</td>\n",
       "      <td>4</td>\n",
       "      <td>15701354</td>\n",
       "      <td>Boni</td>\n",
       "      <td>699</td>\n",
       "      <td>France</td>\n",
       "      <td>Female</td>\n",
       "      <td>39</td>\n",
       "      <td>1.0</td>\n",
       "      <td>0.00</td>\n",
       "      <td>2</td>\n",
       "      <td>0</td>\n",
       "      <td>0</td>\n",
       "      <td>93826.63</td>\n",
       "      <td>0</td>\n",
       "    </tr>\n",
       "    <tr>\n",
       "      <td>4</td>\n",
       "      <td>5</td>\n",
       "      <td>15737888</td>\n",
       "      <td>Mitchell</td>\n",
       "      <td>850</td>\n",
       "      <td>Spain</td>\n",
       "      <td>Female</td>\n",
       "      <td>43</td>\n",
       "      <td>2.0</td>\n",
       "      <td>125510.82</td>\n",
       "      <td>1</td>\n",
       "      <td>1</td>\n",
       "      <td>1</td>\n",
       "      <td>79084.10</td>\n",
       "      <td>0</td>\n",
       "    </tr>\n",
       "    <tr>\n",
       "      <td>5</td>\n",
       "      <td>6</td>\n",
       "      <td>15574012</td>\n",
       "      <td>Chu</td>\n",
       "      <td>645</td>\n",
       "      <td>Spain</td>\n",
       "      <td>Male</td>\n",
       "      <td>44</td>\n",
       "      <td>8.0</td>\n",
       "      <td>113755.78</td>\n",
       "      <td>2</td>\n",
       "      <td>1</td>\n",
       "      <td>0</td>\n",
       "      <td>149756.71</td>\n",
       "      <td>1</td>\n",
       "    </tr>\n",
       "    <tr>\n",
       "      <td>6</td>\n",
       "      <td>7</td>\n",
       "      <td>15592531</td>\n",
       "      <td>Bartlett</td>\n",
       "      <td>822</td>\n",
       "      <td>France</td>\n",
       "      <td>Male</td>\n",
       "      <td>50</td>\n",
       "      <td>7.0</td>\n",
       "      <td>0.00</td>\n",
       "      <td>2</td>\n",
       "      <td>1</td>\n",
       "      <td>1</td>\n",
       "      <td>10062.80</td>\n",
       "      <td>0</td>\n",
       "    </tr>\n",
       "    <tr>\n",
       "      <td>7</td>\n",
       "      <td>8</td>\n",
       "      <td>15656148</td>\n",
       "      <td>Obinna</td>\n",
       "      <td>376</td>\n",
       "      <td>Germany</td>\n",
       "      <td>Female</td>\n",
       "      <td>29</td>\n",
       "      <td>4.0</td>\n",
       "      <td>115046.74</td>\n",
       "      <td>4</td>\n",
       "      <td>1</td>\n",
       "      <td>0</td>\n",
       "      <td>119346.88</td>\n",
       "      <td>1</td>\n",
       "    </tr>\n",
       "    <tr>\n",
       "      <td>8</td>\n",
       "      <td>9</td>\n",
       "      <td>15792365</td>\n",
       "      <td>He</td>\n",
       "      <td>501</td>\n",
       "      <td>France</td>\n",
       "      <td>Male</td>\n",
       "      <td>44</td>\n",
       "      <td>4.0</td>\n",
       "      <td>142051.07</td>\n",
       "      <td>2</td>\n",
       "      <td>0</td>\n",
       "      <td>1</td>\n",
       "      <td>74940.50</td>\n",
       "      <td>0</td>\n",
       "    </tr>\n",
       "    <tr>\n",
       "      <td>9</td>\n",
       "      <td>10</td>\n",
       "      <td>15592389</td>\n",
       "      <td>H?</td>\n",
       "      <td>684</td>\n",
       "      <td>France</td>\n",
       "      <td>Male</td>\n",
       "      <td>27</td>\n",
       "      <td>2.0</td>\n",
       "      <td>134603.88</td>\n",
       "      <td>1</td>\n",
       "      <td>1</td>\n",
       "      <td>1</td>\n",
       "      <td>71725.73</td>\n",
       "      <td>0</td>\n",
       "    </tr>\n",
       "  </tbody>\n",
       "</table>\n",
       "</div>"
      ],
      "text/plain": [
       "   RowNumber  CustomerId   Surname  CreditScore Geography  Gender  Age  \\\n",
       "0          1    15634602  Hargrave          619    France  Female   42   \n",
       "1          2    15647311      Hill          608     Spain  Female   41   \n",
       "2          3    15619304      Onio          502    France  Female   42   \n",
       "3          4    15701354      Boni          699    France  Female   39   \n",
       "4          5    15737888  Mitchell          850     Spain  Female   43   \n",
       "5          6    15574012       Chu          645     Spain    Male   44   \n",
       "6          7    15592531  Bartlett          822    France    Male   50   \n",
       "7          8    15656148    Obinna          376   Germany  Female   29   \n",
       "8          9    15792365        He          501    France    Male   44   \n",
       "9         10    15592389        H?          684    France    Male   27   \n",
       "\n",
       "   Tenure    Balance  NumOfProducts  HasCrCard  IsActiveMember  \\\n",
       "0     2.0       0.00              1          1               1   \n",
       "1     1.0   83807.86              1          0               1   \n",
       "2     8.0  159660.80              3          1               0   \n",
       "3     1.0       0.00              2          0               0   \n",
       "4     2.0  125510.82              1          1               1   \n",
       "5     8.0  113755.78              2          1               0   \n",
       "6     7.0       0.00              2          1               1   \n",
       "7     4.0  115046.74              4          1               0   \n",
       "8     4.0  142051.07              2          0               1   \n",
       "9     2.0  134603.88              1          1               1   \n",
       "\n",
       "   EstimatedSalary  Exited  \n",
       "0        101348.88       1  \n",
       "1        112542.58       0  \n",
       "2        113931.57       1  \n",
       "3         93826.63       0  \n",
       "4         79084.10       0  \n",
       "5        149756.71       1  \n",
       "6         10062.80       0  \n",
       "7        119346.88       1  \n",
       "8         74940.50       0  \n",
       "9         71725.73       0  "
      ]
     },
     "metadata": {},
     "output_type": "display_data"
    },
    {
     "data": {
      "text/html": [
       "<div>\n",
       "<style scoped>\n",
       "    .dataframe tbody tr th:only-of-type {\n",
       "        vertical-align: middle;\n",
       "    }\n",
       "\n",
       "    .dataframe tbody tr th {\n",
       "        vertical-align: top;\n",
       "    }\n",
       "\n",
       "    .dataframe thead th {\n",
       "        text-align: right;\n",
       "    }\n",
       "</style>\n",
       "<table border=\"1\" class=\"dataframe\">\n",
       "  <thead>\n",
       "    <tr style=\"text-align: right;\">\n",
       "      <th></th>\n",
       "      <th>RowNumber</th>\n",
       "      <th>CustomerId</th>\n",
       "      <th>Surname</th>\n",
       "      <th>CreditScore</th>\n",
       "      <th>Geography</th>\n",
       "      <th>Gender</th>\n",
       "      <th>Age</th>\n",
       "      <th>Tenure</th>\n",
       "      <th>Balance</th>\n",
       "      <th>NumOfProducts</th>\n",
       "      <th>HasCrCard</th>\n",
       "      <th>IsActiveMember</th>\n",
       "      <th>EstimatedSalary</th>\n",
       "      <th>Exited</th>\n",
       "    </tr>\n",
       "  </thead>\n",
       "  <tbody>\n",
       "    <tr>\n",
       "      <td>9990</td>\n",
       "      <td>9991</td>\n",
       "      <td>15798964</td>\n",
       "      <td>Nkemakonam</td>\n",
       "      <td>714</td>\n",
       "      <td>Germany</td>\n",
       "      <td>Male</td>\n",
       "      <td>33</td>\n",
       "      <td>3.0</td>\n",
       "      <td>35016.60</td>\n",
       "      <td>1</td>\n",
       "      <td>1</td>\n",
       "      <td>0</td>\n",
       "      <td>53667.08</td>\n",
       "      <td>0</td>\n",
       "    </tr>\n",
       "    <tr>\n",
       "      <td>9991</td>\n",
       "      <td>9992</td>\n",
       "      <td>15769959</td>\n",
       "      <td>Ajuluchukwu</td>\n",
       "      <td>597</td>\n",
       "      <td>France</td>\n",
       "      <td>Female</td>\n",
       "      <td>53</td>\n",
       "      <td>4.0</td>\n",
       "      <td>88381.21</td>\n",
       "      <td>1</td>\n",
       "      <td>1</td>\n",
       "      <td>0</td>\n",
       "      <td>69384.71</td>\n",
       "      <td>1</td>\n",
       "    </tr>\n",
       "    <tr>\n",
       "      <td>9992</td>\n",
       "      <td>9993</td>\n",
       "      <td>15657105</td>\n",
       "      <td>Chukwualuka</td>\n",
       "      <td>726</td>\n",
       "      <td>Spain</td>\n",
       "      <td>Male</td>\n",
       "      <td>36</td>\n",
       "      <td>2.0</td>\n",
       "      <td>0.00</td>\n",
       "      <td>1</td>\n",
       "      <td>1</td>\n",
       "      <td>0</td>\n",
       "      <td>195192.40</td>\n",
       "      <td>0</td>\n",
       "    </tr>\n",
       "    <tr>\n",
       "      <td>9993</td>\n",
       "      <td>9994</td>\n",
       "      <td>15569266</td>\n",
       "      <td>Rahman</td>\n",
       "      <td>644</td>\n",
       "      <td>France</td>\n",
       "      <td>Male</td>\n",
       "      <td>28</td>\n",
       "      <td>7.0</td>\n",
       "      <td>155060.41</td>\n",
       "      <td>1</td>\n",
       "      <td>1</td>\n",
       "      <td>0</td>\n",
       "      <td>29179.52</td>\n",
       "      <td>0</td>\n",
       "    </tr>\n",
       "    <tr>\n",
       "      <td>9994</td>\n",
       "      <td>9995</td>\n",
       "      <td>15719294</td>\n",
       "      <td>Wood</td>\n",
       "      <td>800</td>\n",
       "      <td>France</td>\n",
       "      <td>Female</td>\n",
       "      <td>29</td>\n",
       "      <td>2.0</td>\n",
       "      <td>0.00</td>\n",
       "      <td>2</td>\n",
       "      <td>0</td>\n",
       "      <td>0</td>\n",
       "      <td>167773.55</td>\n",
       "      <td>0</td>\n",
       "    </tr>\n",
       "    <tr>\n",
       "      <td>9995</td>\n",
       "      <td>9996</td>\n",
       "      <td>15606229</td>\n",
       "      <td>Obijiaku</td>\n",
       "      <td>771</td>\n",
       "      <td>France</td>\n",
       "      <td>Male</td>\n",
       "      <td>39</td>\n",
       "      <td>5.0</td>\n",
       "      <td>0.00</td>\n",
       "      <td>2</td>\n",
       "      <td>1</td>\n",
       "      <td>0</td>\n",
       "      <td>96270.64</td>\n",
       "      <td>0</td>\n",
       "    </tr>\n",
       "    <tr>\n",
       "      <td>9996</td>\n",
       "      <td>9997</td>\n",
       "      <td>15569892</td>\n",
       "      <td>Johnstone</td>\n",
       "      <td>516</td>\n",
       "      <td>France</td>\n",
       "      <td>Male</td>\n",
       "      <td>35</td>\n",
       "      <td>10.0</td>\n",
       "      <td>57369.61</td>\n",
       "      <td>1</td>\n",
       "      <td>1</td>\n",
       "      <td>1</td>\n",
       "      <td>101699.77</td>\n",
       "      <td>0</td>\n",
       "    </tr>\n",
       "    <tr>\n",
       "      <td>9997</td>\n",
       "      <td>9998</td>\n",
       "      <td>15584532</td>\n",
       "      <td>Liu</td>\n",
       "      <td>709</td>\n",
       "      <td>France</td>\n",
       "      <td>Female</td>\n",
       "      <td>36</td>\n",
       "      <td>7.0</td>\n",
       "      <td>0.00</td>\n",
       "      <td>1</td>\n",
       "      <td>0</td>\n",
       "      <td>1</td>\n",
       "      <td>42085.58</td>\n",
       "      <td>1</td>\n",
       "    </tr>\n",
       "    <tr>\n",
       "      <td>9998</td>\n",
       "      <td>9999</td>\n",
       "      <td>15682355</td>\n",
       "      <td>Sabbatini</td>\n",
       "      <td>772</td>\n",
       "      <td>Germany</td>\n",
       "      <td>Male</td>\n",
       "      <td>42</td>\n",
       "      <td>3.0</td>\n",
       "      <td>75075.31</td>\n",
       "      <td>2</td>\n",
       "      <td>1</td>\n",
       "      <td>0</td>\n",
       "      <td>92888.52</td>\n",
       "      <td>1</td>\n",
       "    </tr>\n",
       "    <tr>\n",
       "      <td>9999</td>\n",
       "      <td>10000</td>\n",
       "      <td>15628319</td>\n",
       "      <td>Walker</td>\n",
       "      <td>792</td>\n",
       "      <td>France</td>\n",
       "      <td>Female</td>\n",
       "      <td>28</td>\n",
       "      <td>NaN</td>\n",
       "      <td>130142.79</td>\n",
       "      <td>1</td>\n",
       "      <td>1</td>\n",
       "      <td>0</td>\n",
       "      <td>38190.78</td>\n",
       "      <td>0</td>\n",
       "    </tr>\n",
       "  </tbody>\n",
       "</table>\n",
       "</div>"
      ],
      "text/plain": [
       "      RowNumber  CustomerId      Surname  CreditScore Geography  Gender  Age  \\\n",
       "9990       9991    15798964   Nkemakonam          714   Germany    Male   33   \n",
       "9991       9992    15769959  Ajuluchukwu          597    France  Female   53   \n",
       "9992       9993    15657105  Chukwualuka          726     Spain    Male   36   \n",
       "9993       9994    15569266       Rahman          644    France    Male   28   \n",
       "9994       9995    15719294         Wood          800    France  Female   29   \n",
       "9995       9996    15606229     Obijiaku          771    France    Male   39   \n",
       "9996       9997    15569892    Johnstone          516    France    Male   35   \n",
       "9997       9998    15584532          Liu          709    France  Female   36   \n",
       "9998       9999    15682355    Sabbatini          772   Germany    Male   42   \n",
       "9999      10000    15628319       Walker          792    France  Female   28   \n",
       "\n",
       "      Tenure    Balance  NumOfProducts  HasCrCard  IsActiveMember  \\\n",
       "9990     3.0   35016.60              1          1               0   \n",
       "9991     4.0   88381.21              1          1               0   \n",
       "9992     2.0       0.00              1          1               0   \n",
       "9993     7.0  155060.41              1          1               0   \n",
       "9994     2.0       0.00              2          0               0   \n",
       "9995     5.0       0.00              2          1               0   \n",
       "9996    10.0   57369.61              1          1               1   \n",
       "9997     7.0       0.00              1          0               1   \n",
       "9998     3.0   75075.31              2          1               0   \n",
       "9999     NaN  130142.79              1          1               0   \n",
       "\n",
       "      EstimatedSalary  Exited  \n",
       "9990         53667.08       0  \n",
       "9991         69384.71       1  \n",
       "9992        195192.40       0  \n",
       "9993         29179.52       0  \n",
       "9994        167773.55       0  \n",
       "9995         96270.64       0  \n",
       "9996        101699.77       0  \n",
       "9997         42085.58       1  \n",
       "9998         92888.52       1  \n",
       "9999         38190.78       0  "
      ]
     },
     "metadata": {},
     "output_type": "display_data"
    }
   ],
   "source": [
    "data = pd.read_csv('/datasets/Churn.csv')\n",
    "# просмотр первых и последних десяти строчек в таблице \n",
    "display(data.head(10))\n",
    "display(data.tail(10))"
   ]
  },
  {
   "cell_type": "code",
   "execution_count": 3,
   "metadata": {},
   "outputs": [
    {
     "data": {
      "text/plain": [
       "['RowNumber',\n",
       " 'CustomerId',\n",
       " 'Surname',\n",
       " 'CreditScore',\n",
       " 'Geography',\n",
       " 'Gender',\n",
       " 'Age',\n",
       " 'Tenure',\n",
       " 'Balance',\n",
       " 'NumOfProducts',\n",
       " 'HasCrCard',\n",
       " 'IsActiveMember',\n",
       " 'EstimatedSalary',\n",
       " 'Exited']"
      ]
     },
     "metadata": {},
     "output_type": "display_data"
    }
   ],
   "source": [
    "# проверим правильно ли записаны названия столбцов таблицы data\n",
    "list_of_columns = display(data.columns.to_list())"
   ]
  },
  {
   "cell_type": "code",
   "execution_count": 4,
   "metadata": {
    "scrolled": true
   },
   "outputs": [
    {
     "name": "stdout",
     "output_type": "stream",
     "text": [
      "<class 'pandas.core.frame.DataFrame'>\n",
      "RangeIndex: 10000 entries, 0 to 9999\n",
      "Data columns (total 14 columns):\n",
      "RowNumber          10000 non-null int64\n",
      "CustomerId         10000 non-null int64\n",
      "Surname            10000 non-null object\n",
      "CreditScore        10000 non-null int64\n",
      "Geography          10000 non-null object\n",
      "Gender             10000 non-null object\n",
      "Age                10000 non-null int64\n",
      "Tenure             9091 non-null float64\n",
      "Balance            10000 non-null float64\n",
      "NumOfProducts      10000 non-null int64\n",
      "HasCrCard          10000 non-null int64\n",
      "IsActiveMember     10000 non-null int64\n",
      "EstimatedSalary    10000 non-null float64\n",
      "Exited             10000 non-null int64\n",
      "dtypes: float64(3), int64(8), object(3)\n",
      "memory usage: 1.1+ MB\n"
     ]
    }
   ],
   "source": [
    "# вывод информации о data\n",
    "data.info()"
   ]
  },
  {
   "cell_type": "markdown",
   "metadata": {},
   "source": [
    "В данных есть пропуски в столбце Tenure, так как этот столбец отвечает за то, сколько лет человек является клиентом банка, то можно заполнить пропуски медианным значением"
   ]
  },
  {
   "cell_type": "markdown",
   "metadata": {},
   "source": [
    "<div style=\"background: #cceeaa; padding: 5px; border: 1px solid green; border-radius: 5px;\">\n",
    "<font color='green'><u><b>КОММЕНТАРИЙ РЕВЬЮЕРА</b></u>\n",
    "<font color='green'><br>ОК, данные на базе. И есть первичный аналитиче кий осмотр)"
   ]
  },
  {
   "cell_type": "code",
   "execution_count": 5,
   "metadata": {},
   "outputs": [],
   "source": [
    "#data['Tenure'] = data['Tenure'].fillna(data['Tenure'].median())"
   ]
  },
  {
   "cell_type": "code",
   "execution_count": 6,
   "metadata": {
    "scrolled": true
   },
   "outputs": [],
   "source": [
    "data = data.dropna()"
   ]
  },
  {
   "cell_type": "markdown",
   "metadata": {},
   "source": [
    "<div style=\"background: #cceeaa; padding: 5px; border: 1px solid green; border-radius: 5px;\">\n",
    "<font color='green'><u><b>КОММЕНТАРИЙ РЕВЬЮЕРА</b></u>\n",
    "<font color='green'><br>\n",
    "решение понятно, но обоснования ему нет, кроме предположения(  <br>\n",
    "<br> Возможно, что групповая (например по географии) медиана также не принесла бы большой ошибки. А может взять и удалить, чтобы не \"искушаться\"..Тут понятно, что однозначного решения нет, как и алгоритма. Правило только одно (как в медицине) - НЕ нарведи. Т.е. принимаемое решение должно соотноситься с возможным ущербом на конечный результат. В нашем случае ущерб от медианного заполнения ниже от ущерба удалить данные?. Причём выше/ниже - это только на чуйке/жизенном опыте смого аналитика.<br>\n",
    "Интересная это работа - быть DS-аналитиком)<br><br>\n",
    "    \n",
    "В данном случае, спарведливости ради, если построить распределение ДО и ПОСЛЕ заполнения пропусков, то увидим, что оно изменится. Т.е. данный подход несколько исказит инфо, а значит и результат моделирования будет уже не очень.<br> Тут лучшим способом будет - заполнение случайным числом.<br>\n",
    "    \n",
    "Ещё вараинт:<br> удалить пропущенные строки. А по окнчании построения модели, вывести важность факторов самой модели. И если фактор tenure окажется не значим, то как в принципе удалить его из моделирования, а первоначально удалённые строки - вернуть."
   ]
  },
  {
   "cell_type": "markdown",
   "metadata": {},
   "source": [
    "<div class=\"alert alert-block alert-warning\">\n",
    "<b>Комментарий студентки:</b> Можно поподробней про распределение? Я не очень понимаю, как его посмтроить\n",
    "</div>"
   ]
  },
  {
   "cell_type": "markdown",
   "metadata": {},
   "source": [
    "<div style=\"background: #cceeaa; padding: 5px; border: 1px solid green; border-radius: 5px;\">\n",
    "<font color='green'><u><b>КОММЕНТАРИЙ РЕВЬЮЕРА 2</b></u>\n",
    "<font color='green'><br>Тут гистограму построить и посмотреть можно. Вот как ниже. "
   ]
  },
  {
   "attachments": {
    "image.png": {
     "image/png": "[encoded data removed]"
    }
   },
   "cell_type": "markdown",
   "metadata": {},
   "source": [
    "![image.png](attachment:image.png)"
   ]
  },
  {
   "cell_type": "code",
   "execution_count": 7,
   "metadata": {},
   "outputs": [
    {
     "name": "stdout",
     "output_type": "stream",
     "text": [
      "<class 'pandas.core.frame.DataFrame'>\n",
      "Int64Index: 9091 entries, 0 to 9998\n",
      "Data columns (total 14 columns):\n",
      "RowNumber          9091 non-null int64\n",
      "CustomerId         9091 non-null int64\n",
      "Surname            9091 non-null object\n",
      "CreditScore        9091 non-null int64\n",
      "Geography          9091 non-null object\n",
      "Gender             9091 non-null object\n",
      "Age                9091 non-null int64\n",
      "Tenure             9091 non-null float64\n",
      "Balance            9091 non-null float64\n",
      "NumOfProducts      9091 non-null int64\n",
      "HasCrCard          9091 non-null int64\n",
      "IsActiveMember     9091 non-null int64\n",
      "EstimatedSalary    9091 non-null float64\n",
      "Exited             9091 non-null int64\n",
      "dtypes: float64(3), int64(8), object(3)\n",
      "memory usage: 1.0+ MB\n"
     ]
    }
   ],
   "source": [
    "# вывод информации о data\n",
    "data.info()"
   ]
  },
  {
   "cell_type": "code",
   "execution_count": 8,
   "metadata": {
    "scrolled": false
   },
   "outputs": [
    {
     "name": "stdout",
     "output_type": "stream",
     "text": [
      "Обучающая выборка:\n",
      "<class 'pandas.core.frame.DataFrame'>\n",
      "Int64Index: 5454 entries, 637 to 663\n",
      "Data columns (total 16 columns):\n",
      "RowNumber            5454 non-null int64\n",
      "CustomerId           5454 non-null int64\n",
      "Surname              5454 non-null object\n",
      "CreditScore          5454 non-null int64\n",
      "Geography            5454 non-null object\n",
      "Gender               5454 non-null object\n",
      "Age                  5454 non-null int64\n",
      "Tenure               5454 non-null float64\n",
      "Balance              5454 non-null float64\n",
      "NumOfProducts        5454 non-null int64\n",
      "HasCrCard            5454 non-null int64\n",
      "IsActiveMember       5454 non-null int64\n",
      "EstimatedSalary      5454 non-null float64\n",
      "Geography_Germany    5454 non-null uint8\n",
      "Geography_Spain      5454 non-null uint8\n",
      "Gender_Male          5454 non-null uint8\n",
      "dtypes: float64(3), int64(7), object(3), uint8(3)\n",
      "memory usage: 612.5+ KB\n",
      "5454\n",
      "\n",
      "Валидационная выборка:\n",
      "<class 'pandas.core.frame.DataFrame'>\n",
      "Int64Index: 2273 entries, 769 to 8686\n",
      "Data columns (total 16 columns):\n",
      "RowNumber            2273 non-null int64\n",
      "CustomerId           2273 non-null int64\n",
      "Surname              2273 non-null object\n",
      "CreditScore          2273 non-null int64\n",
      "Geography            2273 non-null object\n",
      "Gender               2273 non-null object\n",
      "Age                  2273 non-null int64\n",
      "Tenure               2273 non-null float64\n",
      "Balance              2273 non-null float64\n",
      "NumOfProducts        2273 non-null int64\n",
      "HasCrCard            2273 non-null int64\n",
      "IsActiveMember       2273 non-null int64\n",
      "EstimatedSalary      2273 non-null float64\n",
      "Geography_Germany    2273 non-null uint8\n",
      "Geography_Spain      2273 non-null uint8\n",
      "Gender_Male          2273 non-null uint8\n",
      "dtypes: float64(3), int64(7), object(3), uint8(3)\n",
      "memory usage: 255.3+ KB\n",
      "2273\n",
      "\n",
      "Тестовая выборка:\n",
      "<class 'pandas.core.frame.DataFrame'>\n",
      "Int64Index: 1364 entries, 8501 to 4942\n",
      "Data columns (total 16 columns):\n",
      "RowNumber            1364 non-null int64\n",
      "CustomerId           1364 non-null int64\n",
      "Surname              1364 non-null object\n",
      "CreditScore          1364 non-null int64\n",
      "Geography            1364 non-null object\n",
      "Gender               1364 non-null object\n",
      "Age                  1364 non-null int64\n",
      "Tenure               1364 non-null float64\n",
      "Balance              1364 non-null float64\n",
      "NumOfProducts        1364 non-null int64\n",
      "HasCrCard            1364 non-null int64\n",
      "IsActiveMember       1364 non-null int64\n",
      "EstimatedSalary      1364 non-null float64\n",
      "Geography_Germany    1364 non-null uint8\n",
      "Geography_Spain      1364 non-null uint8\n",
      "Gender_Male          1364 non-null uint8\n",
      "dtypes: float64(3), int64(7), object(3), uint8(3)\n",
      "memory usage: 153.2+ KB\n",
      "1364\n",
      "\n"
     ]
    }
   ],
   "source": [
    "# OHE \n",
    "data = data.merge(pd.get_dummies(data.drop(['Surname', 'CustomerId', 'RowNumber','Tenure'], axis=1), drop_first=True))\n",
    "\n",
    "# создание выборок\n",
    "features = data.drop(['Exited'], axis=1)\n",
    "target = data['Exited']\n",
    "\n",
    "features_train, features_valid, target_train, target_valid = train_test_split(\n",
    "    features, target, test_size=0.25, random_state=12345\n",
    ")\n",
    "\n",
    "features_train, features_test, target_train, target_test = train_test_split(\n",
    "    features_train, target_train, test_size=0.2, random_state=12345\n",
    ")\n",
    "\n",
    "print('Обучающая выборка:')\n",
    "features_train.info()\n",
    "print(target_train.size)\n",
    "print()\n",
    "\n",
    "print('Валидационная выборка:')\n",
    "features_valid.info()\n",
    "print(target_valid.size)\n",
    "print()\n",
    "\n",
    "print('Тестовая выборка:')\n",
    "features_test.info()\n",
    "print(target_test.size)\n",
    "print()"
   ]
  },
  {
   "cell_type": "code",
   "execution_count": 9,
   "metadata": {},
   "outputs": [],
   "source": [
    "# масштабирование данных\n",
    "warnings.filterwarnings('ignore')\n",
    "numeric = ['CreditScore', 'Age', 'Balance', 'NumOfProducts', 'EstimatedSalary']\n",
    "scaler = StandardScaler()\n",
    "scaler.fit(features[numeric])\n",
    "features_train[numeric] = scaler.transform(features_train[numeric])\n",
    "features_valid[numeric] = scaler.transform(features_valid[numeric])\n",
    "features_test[numeric] = scaler.transform(features_test[numeric])"
   ]
  },
  {
   "cell_type": "code",
   "execution_count": 10,
   "metadata": {},
   "outputs": [],
   "source": [
    "features_train = features_train.drop(['Gender', 'RowNumber', 'CustomerId', 'Surname', 'Geography'], axis=1)\n",
    "features_valid = features_valid.drop(['Gender', 'RowNumber', 'CustomerId', 'Surname', 'Geography'], axis=1)\n",
    "features_test = features_test.drop(['Gender', 'RowNumber', 'CustomerId', 'Surname', 'Geography'], axis=1)"
   ]
  },
  {
   "cell_type": "markdown",
   "metadata": {},
   "source": [
    "<div style=\"background: #cceeaa; padding: 5px; border: 1px solid green; border-radius: 5px;\">\n",
    "<font color='green'><u><b>КОММЕНТАРИЙ РЕВЬЮЕРА</b></u>\n",
    "<font color='green'><br>\n",
    "ОК, согласен и с дропом и с категоризацией.<br>\n",
    "<font color='red'>    \n",
    "И есть вопрос с масштабированием:<br>\n",
    "Его рекомендут делать на трайн и тест выборках раздельно. Посомтри этот момент ещё раз, пожалуйста."
   ]
  },
  {
   "cell_type": "markdown",
   "metadata": {},
   "source": [
    "<div class=\"alert alert-block alert-warning\">\n",
    "<b>Комментарий студентки:</b> Исправила, но он теперь на что-то ругается\n",
    "</div>"
   ]
  },
  {
   "cell_type": "markdown",
   "metadata": {},
   "source": [
    "<div style=\"background: #cceeaa; padding: 5px; border: 1px solid green; border-radius: 5px;\">\n",
    "<font color='green'><u><b>КОММЕНТАРИЙ РЕВЬЮЕРА 2</b></u>\n",
    "<font color='green'><br>это связано с обновлением библиотек. ЭТУ КОМАНДУ МОЖНО ИСПОЛЬЗОВАТЬ ДЛЯ ФИЛЬТРА ПРЕДУПРЕЖДЕНИЙ.<br>\n",
    "import warnings<br>\n",
    "warnings.filterwarnings('ignore') <br>"
   ]
  },
  {
   "cell_type": "markdown",
   "metadata": {},
   "source": [
    "## Исследование задачи"
   ]
  },
  {
   "cell_type": "markdown",
   "metadata": {},
   "source": [
    "Исследуем дисбаланс классов"
   ]
  },
  {
   "cell_type": "code",
   "execution_count": 11,
   "metadata": {},
   "outputs": [
    {
     "data": {
      "text/plain": [
       "0    0.796062\n",
       "1    0.203938\n",
       "Name: Exited, dtype: float64"
      ]
     },
     "execution_count": 11,
     "metadata": {},
     "output_type": "execute_result"
    }
   ],
   "source": [
    "data['Exited'].value_counts(normalize=True)"
   ]
  },
  {
   "cell_type": "code",
   "execution_count": 12,
   "metadata": {},
   "outputs": [
    {
     "data": {
      "text/plain": [
       "850    0.02310\n",
       "678    0.00660\n",
       "655    0.00561\n",
       "705    0.00528\n",
       "683    0.00517\n",
       "        ...   \n",
       "363    0.00011\n",
       "442    0.00011\n",
       "386    0.00011\n",
       "441    0.00011\n",
       "376    0.00011\n",
       "Name: CreditScore, Length: 458, dtype: float64"
      ]
     },
     "execution_count": 12,
     "metadata": {},
     "output_type": "execute_result"
    }
   ],
   "source": [
    "data['CreditScore'].value_counts(normalize=True)"
   ]
  },
  {
   "cell_type": "code",
   "execution_count": 13,
   "metadata": {},
   "outputs": [
    {
     "data": {
      "text/plain": [
       "37    0.04785\n",
       "35    0.04741\n",
       "38    0.04664\n",
       "34    0.04532\n",
       "33    0.04433\n",
       "       ...   \n",
       "88    0.00011\n",
       "82    0.00011\n",
       "92    0.00011\n",
       "85    0.00011\n",
       "83    0.00011\n",
       "Name: Age, Length: 70, dtype: float64"
      ]
     },
     "execution_count": 13,
     "metadata": {},
     "output_type": "execute_result"
    }
   ],
   "source": [
    "data['Age'].value_counts(normalize=True)"
   ]
  },
  {
   "cell_type": "code",
   "execution_count": 14,
   "metadata": {},
   "outputs": [
    {
     "data": {
      "text/plain": [
       "1.0     0.104719\n",
       "2.0     0.104499\n",
       "8.0     0.102629\n",
       "3.0     0.102079\n",
       "5.0     0.101969\n",
       "7.0     0.101749\n",
       "4.0     0.097349\n",
       "9.0     0.097019\n",
       "6.0     0.096909\n",
       "10.0    0.049060\n",
       "0.0     0.042020\n",
       "Name: Tenure, dtype: float64"
      ]
     },
     "execution_count": 14,
     "metadata": {},
     "output_type": "execute_result"
    }
   ],
   "source": [
    "data['Tenure'].value_counts(normalize=True)"
   ]
  },
  {
   "cell_type": "code",
   "execution_count": 15,
   "metadata": {},
   "outputs": [
    {
     "data": {
      "text/plain": [
       "0.00         0.361126\n",
       "105473.74    0.000220\n",
       "130170.82    0.000220\n",
       "122506.38    0.000110\n",
       "127450.14    0.000110\n",
       "               ...   \n",
       "137648.41    0.000110\n",
       "112689.95    0.000110\n",
       "82697.28     0.000110\n",
       "147386.72    0.000110\n",
       "74298.43     0.000110\n",
       "Name: Balance, Length: 5807, dtype: float64"
      ]
     },
     "execution_count": 15,
     "metadata": {},
     "output_type": "execute_result"
    }
   ],
   "source": [
    "data['Balance'].value_counts(normalize=True)"
   ]
  },
  {
   "cell_type": "code",
   "execution_count": 16,
   "metadata": {
    "scrolled": true
   },
   "outputs": [
    {
     "data": {
      "text/plain": [
       "1    0.507865\n",
       "2    0.460235\n",
       "3    0.025740\n",
       "4    0.006160\n",
       "Name: NumOfProducts, dtype: float64"
      ]
     },
     "execution_count": 16,
     "metadata": {},
     "output_type": "execute_result"
    }
   ],
   "source": [
    "data['NumOfProducts'].value_counts(normalize=True)"
   ]
  },
  {
   "cell_type": "code",
   "execution_count": 17,
   "metadata": {},
   "outputs": [
    {
     "data": {
      "text/plain": [
       "1    0.704983\n",
       "0    0.295017\n",
       "Name: HasCrCard, dtype: float64"
      ]
     },
     "execution_count": 17,
     "metadata": {},
     "output_type": "execute_result"
    }
   ],
   "source": [
    "data['HasCrCard'].value_counts(normalize=True)"
   ]
  },
  {
   "cell_type": "code",
   "execution_count": 18,
   "metadata": {},
   "outputs": [
    {
     "data": {
      "text/plain": [
       "1    0.515565\n",
       "0    0.484435\n",
       "Name: IsActiveMember, dtype: float64"
      ]
     },
     "execution_count": 18,
     "metadata": {},
     "output_type": "execute_result"
    }
   ],
   "source": [
    "data['IsActiveMember'].value_counts(normalize=True)"
   ]
  },
  {
   "cell_type": "code",
   "execution_count": 19,
   "metadata": {},
   "outputs": [
    {
     "data": {
      "text/plain": [
       "24924.92     0.00022\n",
       "181964.60    0.00011\n",
       "653.58       0.00011\n",
       "92727.42     0.00011\n",
       "162087.82    0.00011\n",
       "              ...   \n",
       "40421.87     0.00011\n",
       "93874.87     0.00011\n",
       "14121.61     0.00011\n",
       "9574.83      0.00011\n",
       "104181.78    0.00011\n",
       "Name: EstimatedSalary, Length: 9090, dtype: float64"
      ]
     },
     "execution_count": 19,
     "metadata": {},
     "output_type": "execute_result"
    }
   ],
   "source": [
    "data['EstimatedSalary'].value_counts(normalize=True)"
   ]
  },
  {
   "cell_type": "code",
   "execution_count": 20,
   "metadata": {},
   "outputs": [
    {
     "data": {
      "text/plain": [
       "0    0.747773\n",
       "1    0.252227\n",
       "Name: Geography_Germany, dtype: float64"
      ]
     },
     "execution_count": 20,
     "metadata": {},
     "output_type": "execute_result"
    }
   ],
   "source": [
    "data['Geography_Germany'].value_counts(normalize=True)"
   ]
  },
  {
   "cell_type": "code",
   "execution_count": 21,
   "metadata": {},
   "outputs": [
    {
     "data": {
      "text/plain": [
       "0    0.752722\n",
       "1    0.247278\n",
       "Name: Geography_Spain, dtype: float64"
      ]
     },
     "execution_count": 21,
     "metadata": {},
     "output_type": "execute_result"
    }
   ],
   "source": [
    "data['Geography_Spain'].value_counts(normalize=True)"
   ]
  },
  {
   "cell_type": "code",
   "execution_count": 22,
   "metadata": {},
   "outputs": [
    {
     "data": {
      "text/plain": [
       "1    0.547135\n",
       "0    0.452865\n",
       "Name: Gender_Male, dtype: float64"
      ]
     },
     "execution_count": 22,
     "metadata": {},
     "output_type": "execute_result"
    }
   ],
   "source": [
    "data['Gender_Male'].value_counts(normalize=True)"
   ]
  },
  {
   "cell_type": "markdown",
   "metadata": {},
   "source": [
    "Создадим модель несмотря на дисбаланс классов"
   ]
  },
  {
   "cell_type": "code",
   "execution_count": 23,
   "metadata": {},
   "outputs": [
    {
     "name": "stdout",
     "output_type": "stream",
     "text": [
      "Метрика F1:  0.4529100529100529\n",
      "Площадь под ROC-кривой:  0.6604119154653276\n"
     ]
    }
   ],
   "source": [
    "model_tree = DecisionTreeClassifier(random_state=12345)\n",
    "model_tree.fit(features_train, target_train)\n",
    "\n",
    "predictions_valid = model_tree.predict(features_valid)\n",
    "\n",
    "print('Метрика F1: ', f1_score(target_valid, predictions_valid))\n",
    "\n",
    "probabilities = model_tree.predict_proba(features_valid)\n",
    "probabilities_one = probabilities[:, 1]\n",
    "print('Площадь под ROC-кривой: ', roc_auc_score(target_valid, probabilities_one))"
   ]
  },
  {
   "cell_type": "markdown",
   "metadata": {},
   "source": [
    "Метрика F1 равна 0.5, значит модель определенно требует улучшения. Площадь под ROC-кривой показала нам, что данная модель работает лучше чем случайная. "
   ]
  },
  {
   "cell_type": "markdown",
   "metadata": {},
   "source": [
    "<div style=\"background: #cceeaa; padding: 5px; border: 1px solid green; border-radius: 5px;\">\n",
    "<font color='green'><u><b>КОММЕНТАРИЙ РЕВЬЮЕРА</b></u>\n",
    "<font color='green'><br>Метрика у данной модели. Может случайный лес, скажем, выдал бы иную метрику) Но ок, двигаемся дальше."
   ]
  },
  {
   "cell_type": "markdown",
   "metadata": {},
   "source": [
    "## Борьба с дисбалансом"
   ]
  },
  {
   "cell_type": "markdown",
   "metadata": {},
   "source": [
    "### Увеличение выборки"
   ]
  },
  {
   "cell_type": "code",
   "execution_count": 24,
   "metadata": {},
   "outputs": [],
   "source": [
    "def upsample(features, target, repeat):\n",
    "    features_zeros = features[target == 0]\n",
    "    features_ones = features[target == 1]\n",
    "    target_zeros = target[target == 0]\n",
    "    target_ones = target[target == 1]\n",
    "\n",
    "    features_upsampled = pd.concat([features_zeros] + [features_ones] * repeat)\n",
    "    target_upsampled = pd.concat([target_zeros] + [target_ones] * repeat)\n",
    "    \n",
    "    features_upsampled, target_upsampled = shuffle(\n",
    "        features_upsampled, target_upsampled, random_state=12345)\n",
    "    \n",
    "    return features_upsampled, target_upsampled\n",
    "\n",
    "features_upsampled, target_upsampled = upsample(features_train, target_train, 4)"
   ]
  },
  {
   "cell_type": "markdown",
   "metadata": {},
   "source": [
    "<div style=\"background: #cceeaa; padding: 5px; border: 1px solid green; border-radius: 5px;\">\n",
    "<font color='green'><u><b>КОММЕНТАРИЙ РЕВЬЮЕРА</b></u>\n",
    "<font color='green'><br>ОК, балансировка только трайна! А зачем 10? У нас баланс 1 к 4. Тут 4-х хватило бы)"
   ]
  },
  {
   "cell_type": "markdown",
   "metadata": {},
   "source": [
    "<div class=\"alert alert-block alert-warning\">\n",
    "<b>Комментарий студентки:</b> А почему 4? Как понять про баланс?\n",
    "</div>"
   ]
  },
  {
   "cell_type": "markdown",
   "metadata": {},
   "source": [
    "<div style=\"background: #cceeaa; padding: 5px; border: 1px solid green; border-radius: 5px;\">\n",
    "<font color='green'><u><b>КОММЕНТАРИЙ РЕВЬЮЕРА 2</b></u>\n",
    "<font color='green'><br>Если посмотреть какое соотношение 0 и 1 в текущих данных, то увидим 1 к 4 примерно. Поэтому можно на эти 4 и увеличивать)"
   ]
  },
  {
   "cell_type": "code",
   "execution_count": 25,
   "metadata": {},
   "outputs": [
    {
     "data": {
      "text/plain": [
       "1    0.507865\n",
       "2    0.460235\n",
       "3    0.025740\n",
       "4    0.006160\n",
       "Name: NumOfProducts, dtype: float64"
      ]
     },
     "metadata": {},
     "output_type": "display_data"
    },
    {
     "data": {
      "text/plain": [
       "-0.912601    0.577785\n",
       " 0.808655    0.351656\n",
       " 2.529911    0.053716\n",
       " 4.251167    0.016843\n",
       "Name: NumOfProducts, dtype: float64"
      ]
     },
     "execution_count": 25,
     "metadata": {},
     "output_type": "execute_result"
    }
   ],
   "source": [
    "display(data['NumOfProducts'].value_counts(normalize=True))\n",
    "features_upsampled['NumOfProducts'].value_counts(normalize=True)"
   ]
  },
  {
   "cell_type": "code",
   "execution_count": 26,
   "metadata": {},
   "outputs": [
    {
     "data": {
      "text/plain": [
       "1    0.704983\n",
       "0    0.295017\n",
       "Name: HasCrCard, dtype: float64"
      ]
     },
     "metadata": {},
     "output_type": "display_data"
    },
    {
     "data": {
      "text/plain": [
       "1    0.702629\n",
       "0    0.297371\n",
       "Name: HasCrCard, dtype: float64"
      ]
     },
     "execution_count": 26,
     "metadata": {},
     "output_type": "execute_result"
    }
   ],
   "source": [
    "display(data['HasCrCard'].value_counts(normalize=True))\n",
    "features_upsampled['HasCrCard'].value_counts(normalize=True)"
   ]
  },
  {
   "cell_type": "code",
   "execution_count": 27,
   "metadata": {},
   "outputs": [
    {
     "data": {
      "text/plain": [
       "1    0.515565\n",
       "0    0.484435\n",
       "Name: IsActiveMember, dtype: float64"
      ]
     },
     "metadata": {},
     "output_type": "display_data"
    },
    {
     "data": {
      "text/plain": [
       "0    0.540116\n",
       "1    0.459884\n",
       "Name: IsActiveMember, dtype: float64"
      ]
     },
     "execution_count": 27,
     "metadata": {},
     "output_type": "execute_result"
    }
   ],
   "source": [
    "display(data['IsActiveMember'].value_counts(normalize=True))\n",
    "features_upsampled['IsActiveMember'].value_counts(normalize=True)"
   ]
  },
  {
   "cell_type": "code",
   "execution_count": 28,
   "metadata": {},
   "outputs": [
    {
     "data": {
      "text/plain": [
       "0    0.747773\n",
       "1    0.252227\n",
       "Name: Geography_Germany, dtype: float64"
      ]
     },
     "metadata": {},
     "output_type": "display_data"
    },
    {
     "data": {
      "text/plain": [
       "0    0.69637\n",
       "1    0.30363\n",
       "Name: Geography_Germany, dtype: float64"
      ]
     },
     "execution_count": 28,
     "metadata": {},
     "output_type": "execute_result"
    }
   ],
   "source": [
    "display(data['Geography_Germany'].value_counts(normalize=True))\n",
    "features_upsampled['Geography_Germany'].value_counts(normalize=True)"
   ]
  },
  {
   "cell_type": "code",
   "execution_count": 29,
   "metadata": {},
   "outputs": [
    {
     "data": {
      "text/plain": [
       "0    0.752722\n",
       "1    0.247278\n",
       "Name: Geography_Spain, dtype: float64"
      ]
     },
     "metadata": {},
     "output_type": "display_data"
    },
    {
     "data": {
      "text/plain": [
       "0    0.766701\n",
       "1    0.233299\n",
       "Name: Geography_Spain, dtype: float64"
      ]
     },
     "execution_count": 29,
     "metadata": {},
     "output_type": "execute_result"
    }
   ],
   "source": [
    "display(data['Geography_Spain'].value_counts(normalize=True))\n",
    "features_upsampled['Geography_Spain'].value_counts(normalize=True)"
   ]
  },
  {
   "cell_type": "code",
   "execution_count": 30,
   "metadata": {},
   "outputs": [
    {
     "data": {
      "text/plain": [
       "1    0.547135\n",
       "0    0.452865\n",
       "Name: Gender_Male, dtype: float64"
      ]
     },
     "metadata": {},
     "output_type": "display_data"
    },
    {
     "data": {
      "text/plain": [
       "1    0.505975\n",
       "0    0.494025\n",
       "Name: Gender_Male, dtype: float64"
      ]
     },
     "execution_count": 30,
     "metadata": {},
     "output_type": "execute_result"
    }
   ],
   "source": [
    "display(data['Gender_Male'].value_counts(normalize=True))\n",
    "features_upsampled['Gender_Male'].value_counts(normalize=True)"
   ]
  },
  {
   "cell_type": "markdown",
   "metadata": {},
   "source": [
    "### Уменьшение выборки"
   ]
  },
  {
   "cell_type": "code",
   "execution_count": 31,
   "metadata": {},
   "outputs": [],
   "source": [
    "def downsample(features, target, fraction):\n",
    "    features_zeros = features[target == 0]\n",
    "    features_ones = features[target == 1]\n",
    "    target_zeros = target[target == 0]\n",
    "    target_ones = target[target == 1]\n",
    "\n",
    "    features_downsampled = pd.concat(\n",
    "        [features_zeros.sample(frac=fraction, random_state=12345)] + [features_ones])\n",
    "    target_downsampled = pd.concat(\n",
    "        [target_zeros.sample(frac=fraction, random_state=12345)] + [target_ones])\n",
    "    \n",
    "    features_downsampled, target_downsampled = shuffle(\n",
    "        features_downsampled, target_downsampled, random_state=12345)\n",
    "    \n",
    "    return features_downsampled, target_downsampled\n",
    "\n",
    "features_downsampled, target_downsampled = downsample(features_train, target_train, 0.1)"
   ]
  },
  {
   "cell_type": "code",
   "execution_count": 32,
   "metadata": {},
   "outputs": [
    {
     "data": {
      "text/plain": [
       "['RowNumber',\n",
       " 'CustomerId',\n",
       " 'Surname',\n",
       " 'CreditScore',\n",
       " 'Geography',\n",
       " 'Gender',\n",
       " 'Age',\n",
       " 'Tenure',\n",
       " 'Balance',\n",
       " 'NumOfProducts',\n",
       " 'HasCrCard',\n",
       " 'IsActiveMember',\n",
       " 'EstimatedSalary',\n",
       " 'Exited',\n",
       " 'Geography_Germany',\n",
       " 'Geography_Spain',\n",
       " 'Gender_Male']"
      ]
     },
     "metadata": {},
     "output_type": "display_data"
    }
   ],
   "source": [
    "list_of_columns = display(data.columns.to_list())"
   ]
  },
  {
   "cell_type": "code",
   "execution_count": 33,
   "metadata": {},
   "outputs": [
    {
     "data": {
      "text/plain": [
       "1    0.507865\n",
       "2    0.460235\n",
       "3    0.025740\n",
       "4    0.006160\n",
       "Name: NumOfProducts, dtype: float64"
      ]
     },
     "metadata": {},
     "output_type": "display_data"
    },
    {
     "data": {
      "text/plain": [
       "-0.912601    0.627832\n",
       " 0.808655    0.275081\n",
       " 2.529911    0.073139\n",
       " 4.251167    0.023948\n",
       "Name: NumOfProducts, dtype: float64"
      ]
     },
     "execution_count": 33,
     "metadata": {},
     "output_type": "execute_result"
    }
   ],
   "source": [
    "display(data['NumOfProducts'].value_counts(normalize=True))\n",
    "features_downsampled['NumOfProducts'].value_counts(normalize=True)"
   ]
  },
  {
   "cell_type": "code",
   "execution_count": 34,
   "metadata": {},
   "outputs": [
    {
     "data": {
      "text/plain": [
       "1    0.704983\n",
       "0    0.295017\n",
       "Name: HasCrCard, dtype: float64"
      ]
     },
     "metadata": {},
     "output_type": "display_data"
    },
    {
     "data": {
      "text/plain": [
       "1    0.699029\n",
       "0    0.300971\n",
       "Name: HasCrCard, dtype: float64"
      ]
     },
     "execution_count": 34,
     "metadata": {},
     "output_type": "execute_result"
    }
   ],
   "source": [
    "display(data['HasCrCard'].value_counts(normalize=True))\n",
    "features_downsampled['HasCrCard'].value_counts(normalize=True)"
   ]
  },
  {
   "cell_type": "code",
   "execution_count": 35,
   "metadata": {},
   "outputs": [
    {
     "data": {
      "text/plain": [
       "1    0.515565\n",
       "0    0.484435\n",
       "Name: IsActiveMember, dtype: float64"
      ]
     },
     "metadata": {},
     "output_type": "display_data"
    },
    {
     "data": {
      "text/plain": [
       "0    0.575405\n",
       "1    0.424595\n",
       "Name: IsActiveMember, dtype: float64"
      ]
     },
     "execution_count": 35,
     "metadata": {},
     "output_type": "execute_result"
    }
   ],
   "source": [
    "display(data['IsActiveMember'].value_counts(normalize=True))\n",
    "features_downsampled['IsActiveMember'].value_counts(normalize=True)"
   ]
  },
  {
   "cell_type": "code",
   "execution_count": 36,
   "metadata": {},
   "outputs": [
    {
     "data": {
      "text/plain": [
       "0    0.747773\n",
       "1    0.252227\n",
       "Name: Geography_Germany, dtype: float64"
      ]
     },
     "metadata": {},
     "output_type": "display_data"
    },
    {
     "data": {
      "text/plain": [
       "0    0.653722\n",
       "1    0.346278\n",
       "Name: Geography_Germany, dtype: float64"
      ]
     },
     "execution_count": 36,
     "metadata": {},
     "output_type": "execute_result"
    }
   ],
   "source": [
    "display(data['Geography_Germany'].value_counts(normalize=True))\n",
    "features_downsampled['Geography_Germany'].value_counts(normalize=True)"
   ]
  },
  {
   "cell_type": "code",
   "execution_count": 37,
   "metadata": {},
   "outputs": [
    {
     "data": {
      "text/plain": [
       "0    0.752722\n",
       "1    0.247278\n",
       "Name: Geography_Spain, dtype: float64"
      ]
     },
     "metadata": {},
     "output_type": "display_data"
    },
    {
     "data": {
      "text/plain": [
       "0    0.78123\n",
       "1    0.21877\n",
       "Name: Geography_Spain, dtype: float64"
      ]
     },
     "execution_count": 37,
     "metadata": {},
     "output_type": "execute_result"
    }
   ],
   "source": [
    "display(data['Geography_Spain'].value_counts(normalize=True))\n",
    "features_downsampled['Geography_Spain'].value_counts(normalize=True)"
   ]
  },
  {
   "cell_type": "code",
   "execution_count": 38,
   "metadata": {
    "scrolled": true
   },
   "outputs": [
    {
     "data": {
      "text/plain": [
       "1    0.547135\n",
       "0    0.452865\n",
       "Name: Gender_Male, dtype: float64"
      ]
     },
     "metadata": {},
     "output_type": "display_data"
    },
    {
     "data": {
      "text/plain": [
       "0    0.518447\n",
       "1    0.481553\n",
       "Name: Gender_Male, dtype: float64"
      ]
     },
     "execution_count": 38,
     "metadata": {},
     "output_type": "execute_result"
    }
   ],
   "source": [
    "display(data['Gender_Male'].value_counts(normalize=True))\n",
    "features_downsampled['Gender_Male'].value_counts(normalize=True)"
   ]
  },
  {
   "cell_type": "markdown",
   "metadata": {},
   "source": [
    "Промежуточный вывод: Если проводить только upsampling, то многие данные сохраняют дисбаланс. И то же самое, если проводить только downsampling. "
   ]
  },
  {
   "cell_type": "markdown",
   "metadata": {},
   "source": [
    "<div style=\"background: #cceeaa; padding: 5px; border: 1px solid green; border-radius: 5px;\">\n",
    "<font color='green'><u><b>КОММЕНТАРИЙ РЕВЬЮЕРА</b></u>\n",
    "<font color='green'><br>возможно, как варинт."
   ]
  },
  {
   "cell_type": "markdown",
   "metadata": {},
   "source": [
    "<div style=\"background: #ffeeaa; padding: 5px; border: 1px solid green; border-radius: 5px;\">\n",
    "<font color='green'><u><b>КОММЕНТАРИЙ РЕВЬЮЕРА</b></u>\n",
    "<font color='green'><br>Тут так рекомендуют: раз был посыл, что дисбаланс сохранялся ина до было применить что-то особенное и это особенное применили, то ожидается некий вывод - а сработало ли? Нужен вывод после таких манипуляций)"
   ]
  },
  {
   "cell_type": "markdown",
   "metadata": {},
   "source": [
    "<div class=\"alert alert-block alert-warning\">\n",
    "<b>Комментарий студентки:</b> Как понять что нужно выбрать upsampling?\n",
    "</div>"
   ]
  },
  {
   "cell_type": "markdown",
   "metadata": {},
   "source": [
    "<div style=\"background: #cceeaa; padding: 5px; border: 1px solid green; border-radius: 5px;\">\n",
    "<font color='green'><u><b>КОММЕНТАРИЙ РЕВЬЮЕРА 2</b></u>\n",
    "<font color='green'><br>апсемплинг или даунсемплинг или баласировка в парамтерах модели (есть параметр balanced) - что лучше? это можно узнать только перебором вараинтов. Т.е. сделать расчёт всех варинантов."
   ]
  },
  {
   "cell_type": "markdown",
   "metadata": {},
   "source": [
    "### Дерево решений"
   ]
  },
  {
   "cell_type": "code",
   "execution_count": 39,
   "metadata": {
    "scrolled": true
   },
   "outputs": [
    {
     "name": "stdout",
     "output_type": "stream",
     "text": [
      "Метрика F1:  0.4839067702552719\n",
      "Площадь под ROC-кривой:  0.6780188433557821\n"
     ]
    }
   ],
   "source": [
    "model_tree = DecisionTreeClassifier(random_state=12345)\n",
    "model_tree.fit(features_upsampled, target_upsampled)\n",
    "\n",
    "predictions_valid = model_tree.predict(features_valid)\n",
    "\n",
    "print('Метрика F1: ', f1_score(target_valid, predictions_valid))\n",
    "\n",
    "probabilities = model_tree.predict_proba(features_valid)\n",
    "probabilities_one = probabilities[:, 1]\n",
    "print('Площадь под ROC-кривой: ', roc_auc_score(target_valid, probabilities_one))"
   ]
  },
  {
   "cell_type": "code",
   "execution_count": 40,
   "metadata": {},
   "outputs": [
    {
     "name": "stdout",
     "output_type": "stream",
     "text": [
      "Метрика F1:  0.5564168819982774 Глубина дерева: 8\n"
     ]
    }
   ],
   "source": [
    "best_f1_score = 0\n",
    "best_depth = 0\n",
    "for i in range(1,11):\n",
    "    model_tree = DecisionTreeClassifier(random_state=12345, max_depth=i)\n",
    "    model_tree.fit(features_upsampled, target_upsampled)\n",
    "\n",
    "    predictions_valid = model_tree.predict(features_valid)\n",
    "    f1_score_valid = f1_score(target_valid, predictions_valid)\n",
    "    \n",
    "    if f1_score_valid > best_f1_score:\n",
    "        best_f1_score = f1_score_valid\n",
    "        best_depth = i\n",
    "        \n",
    "print(\"Метрика F1: \", best_f1_score, \"Глубина дерева:\", best_depth)"
   ]
  },
  {
   "cell_type": "code",
   "execution_count": 41,
   "metadata": {},
   "outputs": [
    {
     "name": "stdout",
     "output_type": "stream",
     "text": [
      "Метрика F1:  0.5349544072948328 Минимальное число объектов в узле дерева: 2\n"
     ]
    }
   ],
   "source": [
    "best_f1_score = 0\n",
    "best_samples = 0.0\n",
    "for i in range(2, 10):\n",
    "    model_tree = DecisionTreeClassifier(random_state=12345, max_depth=5, min_samples_split=i)\n",
    "    model_tree.fit(features_upsampled, target_upsampled)\n",
    "\n",
    "    predictions_valid = model_tree.predict(features_valid)\n",
    "    f1_score_valid = f1_score(target_valid, predictions_valid)\n",
    "    \n",
    "    if f1_score_valid > best_f1_score:\n",
    "        best_f1_score = f1_score_valid\n",
    "        best_samples = i\n",
    "        \n",
    "print(\"Метрика F1: \", best_f1_score, \"Минимальное число объектов в узле дерева:\", best_samples)"
   ]
  },
  {
   "cell_type": "code",
   "execution_count": 42,
   "metadata": {
    "scrolled": true
   },
   "outputs": [
    {
     "name": "stdout",
     "output_type": "stream",
     "text": [
      "Метрика F1:  0.5360668185269553 Минимальное число объектов в последнем узле дерева: 4\n"
     ]
    }
   ],
   "source": [
    "best_model = None\n",
    "best_f1_score = 0\n",
    "best_samples = 0.0\n",
    "for i in range(2, 20):\n",
    "    model_tree = DecisionTreeClassifier(random_state=12345, max_depth=5, min_samples_split=2, min_samples_leaf=i)\n",
    "    model_tree.fit(features_upsampled, target_upsampled)\n",
    "\n",
    "    predictions_valid = model_tree.predict(features_valid)\n",
    "    f1_score_valid = f1_score(target_valid, predictions_valid)\n",
    "    \n",
    "    if f1_score_valid > best_f1_score:\n",
    "        best_f1_score = f1_score_valid\n",
    "        best_samples = i\n",
    "        \n",
    "print(\"Метрика F1: \", best_f1_score, \n",
    "      \"Минимальное число объектов в последнем узле дерева:\", best_samples)"
   ]
  },
  {
   "cell_type": "markdown",
   "metadata": {},
   "source": [
    "Лучшее дерево решений:"
   ]
  },
  {
   "cell_type": "code",
   "execution_count": 43,
   "metadata": {},
   "outputs": [
    {
     "name": "stdout",
     "output_type": "stream",
     "text": [
      "Метрика F1:  0.5338403041825095\n",
      "Площадь под ROC-кривой:  0.8357711002017714\n"
     ]
    }
   ],
   "source": [
    "model_tree = DecisionTreeClassifier(random_state=12345, max_depth=5, min_samples_split=2, min_samples_leaf=3)\n",
    "model_tree.fit(features_upsampled, target_upsampled)\n",
    "\n",
    "predictions_valid = model_tree.predict(features_valid)\n",
    "\n",
    "print('Метрика F1: ', f1_score(target_valid, predictions_valid))\n",
    "\n",
    "probabilities = model_tree.predict_proba(features_valid)\n",
    "probabilities_one = probabilities[:, 1]\n",
    "print('Площадь под ROC-кривой: ', roc_auc_score(target_valid, probabilities_one))"
   ]
  },
  {
   "cell_type": "markdown",
   "metadata": {},
   "source": [
    "### Случайный лес"
   ]
  },
  {
   "cell_type": "code",
   "execution_count": 44,
   "metadata": {},
   "outputs": [
    {
     "name": "stdout",
     "output_type": "stream",
     "text": [
      "Метрика F1:  0.505795574288725\n",
      "Площадь под ROC-кривой:  0.7546743302479428\n"
     ]
    }
   ],
   "source": [
    "model_forest = RandomForestClassifier(random_state=12345, n_estimators=3)\n",
    "model_forest.fit(features_upsampled, target_upsampled)\n",
    "\n",
    "predictions_valid = model_forest.predict(features_valid)\n",
    "\n",
    "print('Метрика F1: ', f1_score(target_valid, predictions_valid))\n",
    "\n",
    "probabilities = model_forest.predict_proba(features_valid)\n",
    "probabilities_one = probabilities[:, 1]\n",
    "print('Площадь под ROC-кривой: ', roc_auc_score(target_valid, probabilities_one))"
   ]
  },
  {
   "cell_type": "code",
   "execution_count": 45,
   "metadata": {},
   "outputs": [
    {
     "name": "stdout",
     "output_type": "stream",
     "text": [
      "Метрика F1:  0.5849056603773586 Кол-во деревьев 27\n"
     ]
    }
   ],
   "source": [
    "best_f1_score = 0\n",
    "best_estimators = 1\n",
    "for i in range(1,30):\n",
    "    model_forest = RandomForestClassifier(random_state=12345, n_estimators=i)\n",
    "    model_forest.fit(features_upsampled, target_upsampled)\n",
    "    \n",
    "    predictions_valid = model_forest.predict(features_valid)\n",
    "    score_valid = f1_score(target_valid, predictions_valid)\n",
    "    if score_valid > best_f1_score:\n",
    "        best_f1_score = score_valid\n",
    "        best_estimators = i\n",
    "    \n",
    "print('Метрика F1: ', best_f1_score, 'Кол-во деревьев', best_estimators)"
   ]
  },
  {
   "cell_type": "code",
   "execution_count": 46,
   "metadata": {},
   "outputs": [
    {
     "name": "stdout",
     "output_type": "stream",
     "text": [
      "Метрика F1:  0.599609375 Глубина деревьев: 12\n"
     ]
    }
   ],
   "source": [
    "best_f1_score = 0\n",
    "best_depth = 0\n",
    "for i in range(1,50):\n",
    "    model_forest = RandomForestClassifier(random_state=12345, n_estimators=9, max_depth=i)\n",
    "    model_forest.fit(features_upsampled, target_upsampled)\n",
    "\n",
    "    predictions_valid = model_forest.predict(features_valid)\n",
    "    f1_score_valid = f1_score(target_valid, predictions_valid)\n",
    "    \n",
    "    if f1_score_valid > best_f1_score:\n",
    "        best_f1_score = f1_score_valid\n",
    "        best_depth = i\n",
    "        \n",
    "print(\"Метрика F1: \", best_f1_score, \"Глубина деревьев:\", best_depth)"
   ]
  },
  {
   "cell_type": "markdown",
   "metadata": {},
   "source": [
    "Лучший случаный лес:"
   ]
  },
  {
   "cell_type": "code",
   "execution_count": 47,
   "metadata": {},
   "outputs": [
    {
     "name": "stdout",
     "output_type": "stream",
     "text": [
      "Метрика F1:  0.5510907003444316\n",
      "Площадь под ROC-кривой:  0.8049340287834572\n"
     ]
    }
   ],
   "source": [
    "model_forest = RandomForestClassifier(random_state=12345, n_estimators=9, max_depth=27)\n",
    "model_forest.fit(features_upsampled, target_upsampled)\n",
    "\n",
    "predictions_valid = model_forest.predict(features_valid)\n",
    "\n",
    "print('Метрика F1: ', f1_score(target_valid, predictions_valid))\n",
    "\n",
    "probabilities = model_forest.predict_proba(features_valid)\n",
    "probabilities_one = probabilities[:, 1]\n",
    "print('Площадь под ROC-кривой: ', roc_auc_score(target_valid, probabilities_one))       "
   ]
  },
  {
   "cell_type": "markdown",
   "metadata": {},
   "source": [
    "### Логистическая регрессия"
   ]
  },
  {
   "cell_type": "code",
   "execution_count": 50,
   "metadata": {},
   "outputs": [
    {
     "name": "stdout",
     "output_type": "stream",
     "text": [
      "Метрика F1:  0.5136186770428015\n",
      "Площадь под ROC-кривой:  0.8357711002017714\n"
     ]
    }
   ],
   "source": [
    "model_reg = LogisticRegression(random_state=12345, solver='liblinear')\n",
    "model_reg.fit(features_upsampled, target_upsampled)\n",
    "\n",
    "predictions_valid = model_reg.predict(features_valid)\n",
    "\n",
    "print('Метрика F1: ', f1_score(target_valid, predictions_valid))\n",
    "\n",
    "probabilities = model_tree.predict_proba(features_valid)\n",
    "probabilities_one = probabilities[:, 1]\n",
    "print('Площадь под ROC-кривой: ', roc_auc_score(target_valid, probabilities_one))"
   ]
  },
  {
   "cell_type": "markdown",
   "metadata": {},
   "source": [
    "Лучшая логистическая регрессия"
   ]
  },
  {
   "cell_type": "code",
   "execution_count": 52,
   "metadata": {},
   "outputs": [
    {
     "name": "stdout",
     "output_type": "stream",
     "text": [
      "Метрика F1:  0.5136186770428015\n",
      "Площадь под ROC-кривой:  0.8357711002017714\n"
     ]
    }
   ],
   "source": [
    "model_reg = LogisticRegression(random_state=12345, solver='saga')\n",
    "model_reg.fit(features_upsampled, target_upsampled)\n",
    "\n",
    "predictions_valid = model_reg.predict(features_valid)\n",
    "\n",
    "print('Метрика F1: ', f1_score(target_valid, predictions_valid))\n",
    "\n",
    "probabilities = model_tree.predict_proba(features_valid)\n",
    "probabilities_one = probabilities[:, 1]\n",
    "print('Площадь под ROC-кривой: ', roc_auc_score(target_valid, probabilities_one))"
   ]
  },
  {
   "cell_type": "markdown",
   "metadata": {},
   "source": [
    "## Тестирование модели"
   ]
  },
  {
   "cell_type": "code",
   "execution_count": 54,
   "metadata": {},
   "outputs": [
    {
     "name": "stdout",
     "output_type": "stream",
     "text": [
      "Метрика F1:  0.5285412262156448\n",
      "Площадь под ROC-кривой:  0.8122156767532203\n"
     ]
    }
   ],
   "source": [
    "model_forest = RandomForestClassifier(random_state=12345, n_estimators=9, max_depth=27)\n",
    "model_forest.fit(features_upsampled, target_upsampled)\n",
    "model_forest.fit(features_valid, target_valid)\n",
    "\n",
    "predictions_test = model_forest.predict(features_test)\n",
    "\n",
    "print('Метрика F1: ', f1_score(target_test, predictions_test))\n",
    "\n",
    "probabilities = model_forest.predict_proba(features_test)\n",
    "probabilities_one = probabilities[:, 1]\n",
    "print('Площадь под ROC-кривой: ', roc_auc_score(target_test, probabilities_one))"
   ]
  },
  {
   "cell_type": "markdown",
   "metadata": {},
   "source": [
    "## Вывод"
   ]
  },
  {
   "cell_type": "markdown",
   "metadata": {},
   "source": []
  },
  {
   "cell_type": "markdown",
   "metadata": {},
   "source": [
    "<div style=\"background: #cceeaa; padding: 5px; border: 1px solid green; border-radius: 5px;\">\n",
    "<font color='green'><u><b>КОММЕНТАРИЙ РЕВЬЮЕРА</b></u>\n",
    "<font color='green'><br>\n",
    "<br/> ОК, Дарья, добротная работа на самом деле! <br>\n",
    "Подготовка данных, разносторонняя работа с диссбалансом и исследование моделей и поиск парамтров для них - ничего не забыто <br>\n",
    "И видно, что проделана рабочая аналитическая работа: результативно и с выводами.<br>  \n",
    "\n",
    "<font color='green'>\n",
    "Если говорить, что можно ещё улучшить в подобных проектах, то я бы выделили такие моменты:<br>\n",
    "1) После подбора параметров модели, когда уже настаёт этап тестировани. Можно обучить на обобщённой выборке (трайн + валидация) ну и тестировать потом. Это может ещё прибавить точности.(если не использовать кросс-валидации)<br>\n",
    "    \n",
    "2) Для понимания, а какие в итоге факторы важны при моделировании, можно выводить их важность, использую feature_importances_, ну и график заодно. Это будет смотреться очнь здорово: результативная метрика и график важности факторов)))<br> Очень ВАЖНАЯ для аналитики штука. Ведь нам не просто модель с метрикой нужна, а ещё и причины понять высокой/низкой метрики. Т.е. понять с какой силой сами факторы влияют на целевую.<br>\n",
    "    \n",
    "3) Наверняка знаешь, поэтому просто акцетрирую ещё раз: F1 и AUC - отличные метрики, но нужно держать в голове, что это лишь бобщённые характеристики. А в реальной практике бизнесу часто важно знать детали самой ошибки - из каких ошибок/успехов она складывается. И в этом случае очень кстати будут меры полноты и точности. Рассмотри возможность их использования для своих проектов. Только через них можно выйти на финансовые возможности модели. Ведь перед запуском её в бой, будет сравнение стоимости создания и поддержки модели со стомостью \"оставить как есть\" <br>   \n",
    "\n",
    "А по поводу метрики:<br>\n",
    "1) балансировка 10 - многовато)<br>\n",
    "2) манипуляция: снача up, а потом down - сомнительная, вся-таки. Вот ниже сделал твой же код но только upsample - и уже неплохо получается.<br>\n",
    "    \n",
    "Попробуй ещё раз поэкспериментировать с балансировкой)\n",
    "Буду ждать!"
   ]
  },
  {
   "cell_type": "markdown",
   "metadata": {},
   "source": [
    "<div class=\"alert alert-block alert-warning\">\n",
    "<b>Комментарий студентки:</b> \n",
    "    1)У меня получается, что если добавить валидоционную выборку, то результат уменьшается\n",
    "    2)Что за features_importances?\n",
    "</div>"
   ]
  },
  {
   "cell_type": "markdown",
   "metadata": {},
   "source": [
    "<div style=\"background: #cceeaa; padding: 5px; border: 1px solid green; border-radius: 5px;\">\n",
    "<font color='green'><u><b>КОММЕНТАРИЙ РЕВЬЮЕРА 2</b></u>\n",
    "<font color='green'><br>\n",
    "1) не занчительно. Зато сами расчёты коэффициентов моедли - более точны, т.к. выборка для расчётов больше. <br>\n",
    "2) Это анализ важности факторов. Если ввести такой запрос в инете - features_importances, то выдастся много статей)) Ниже оставлю вааринт использования (не самый лучший, но с ними можно уже поработать)<br>\n",
    "    \n",
    "ОК, Дарья, постарался ответить на твои вопросы.<br>\n",
    "Посмотри, может что-то пропустил или остались ещё?"
   ]
  },
  {
   "cell_type": "markdown",
   "metadata": {},
   "source": [
    "<div class=\"alert alert-block alert-warning\">\n",
    "<b>Комментарий студентки:</b> \n",
    "    Спасибо за проверку и ответы на вопросы! Последний вопрос: ты говоришь, что если добавить в конце обучение на features_valid, то так лучше, но ведь показатели падают и я подумала, что это переобучение уже, как тогда вообще понимать когда лучше расширить выборку, а когда уже слишком много и это переобучение?\n",
    "</div>"
   ]
  },
  {
   "cell_type": "markdown",
   "metadata": {},
   "source": [
    "<div style=\"background: #cceeaa; padding: 5px; border: 1px solid green; border-radius: 5px;\">\n",
    "<font color='green'> \n",
    "    <b><u>КОММЕНТАРИЙ РЕВЬЮЕРА 2</u></b>\n",
    "<font color='green'><br> Привет, Дарья. Ты спрашиваешь про объединение трайн+валид? Верно. особой точности и недолжно было прибавиться. НО..:<br>\n",
    "Известен тот эффект, что чем больше мы возьмём выборку данных, тем точнее будет средняя величина к своему истинному значению (например: в городе живёт 1000 человек. Измерили рост всех жителей. Истинное среднее составило 175 см. Если взять выборку в 700 человек, получим среденн 174, скажем. 800 человек замерили - 177, например. Ну а всех сможем обмерить - 17, истинное занчени). Так и в моделировании: чем больше данных, тем точнее к истинным значениям могут быть вычислены коэффициенты самой моедли.<br>\n",
    "\n",
    "Т.е. модель более устойчива будет вести себя по жизни. А если говорить о переобучении, то ты права: когда расхождение  большое между метрикой на обучении и метрикой на тесте, то однозначно надо искать другую модель. Что значит большое. Обычно на глаз смотрят. Но можно подойти так (на примере регрессионных моделей): у трайна и теста есть средняя ошибка модели и есть разброс этой ошибки. И вот (как при проверке гипотез) сравнить средние ошибки с учётом разброса. Если расхождение - значимо отличаются, то переобучение 100%. Если не значимо - значит наблюдаемое расхождение - случайное. Но так делают редко. Чаще, всё-таки смотрят на глаз) Если плюс/минус 5-7% отличия - считается норм.<br>\n",
    "    \n",
    "Что ж, тогда всё ок.<br>\n",
    "Спасибо за проект и за вопросы. (в данном обучении - оооочень важно именно активность студента!)<br>\n",
    "УСПЕШНОГО ДАЛЬНЕЙШЕГО ОБУЧЕНИЯ!"
   ]
  },
  {
   "cell_type": "markdown",
   "metadata": {},
   "source": []
  },
  {
   "attachments": {
    "image.png": {
     "image/png": "[encoded data removed]"
    }
   },
   "cell_type": "raw",
   "metadata": {},
   "source": [
    "import seaborn as sns\n",
    "def chart_feature_imp(model):\n",
    "    feature_imp = pd.Series(model.feature_importances_, index=features_valid.columns).sort_values(ascending=False)\n",
    "\n",
    "    ax = sns.barplot(x=feature_imp, y=feature_imp.index)\n",
    "    _ = ax.set(xlabel='Оценка важности признаков', ylabel='Признаки')\n",
    "    _ = ax.set_title('Визуализация важности признаков')\n",
    "\n",
    "chart_feature_imp(decision_tree_model)\n",
    "![image.png](attachment:image.png)"
   ]
  },
  {
   "cell_type": "code",
   "execution_count": null,
   "metadata": {},
   "outputs": [],
   "source": []
  },
  {
   "cell_type": "code",
   "execution_count": null,
   "metadata": {},
   "outputs": [],
   "source": [
    "best_f1_score = 0\n",
    "best_sample = 0\n",
    "for i in range(2,20):\n",
    "    model_forest = RandomForestClassifier(random_state=12345, n_estimators=4, max_depth=17, min_samples_split=i)\n",
    "    model_forest.fit(features_upsampled, target_upsampled)\n",
    "\n",
    "    predictions_valid = model_forest.predict(features_valid)\n",
    "    f1_score_valid = f1_score(target_valid, predictions_valid)\n",
    "    \n",
    "    if f1_score_valid > best_f1_score:\n",
    "        best_f1_score = f1_score_valid\n",
    "        best_sample = i\n",
    "        \n",
    "print(\"Метрика F1: \", best_f1_score, \"Минимальное кол-во ветвлений:\", best_sample)"
   ]
  },
  {
   "cell_type": "code",
   "execution_count": null,
   "metadata": {},
   "outputs": [],
   "source": []
  },
  {
   "cell_type": "markdown",
   "metadata": {},
   "source": [
    "## Чек-лист готовности проекта"
   ]
  },
  {
   "cell_type": "markdown",
   "metadata": {},
   "source": [
    "Поставьте 'x' в выполненных пунктах. Далее нажмите Shift+Enter."
   ]
  },
  {
   "cell_type": "markdown",
   "metadata": {},
   "source": [
    "- [x]  Jupyter Notebook открыт\n",
    "- [ ]  Весь код выполняется без ошибок\n",
    "- [ ]  Ячейки с кодом расположены в порядке исполнения\n",
    "- [ ]  Выполнен шаг 1: данные подготовлены\n",
    "- [ ]  Выполнен шаг 2: задача исследована\n",
    "    - [ ]  Исследован баланс классов\n",
    "    - [ ]  Изучены модели без учёта дисбаланса\n",
    "    - [ ]  Написаны выводы по результатам исследования\n",
    "- [ ]  Выполнен шаг 3: учтён дисбаланс\n",
    "    - [ ]  Применено несколько способов борьбы с дисбалансом\n",
    "    - [ ]  Написаны выводы по результатам исследования\n",
    "- [ ]  Выполнен шаг 4: проведено тестирование\n",
    "- [ ]  Удалось достичь *F1*-меры не менее 0.59\n",
    "- [ ]  Исследована метрика *AUC-ROC*"
   ]
  },
  {
   "cell_type": "code",
   "execution_count": null,
   "metadata": {},
   "outputs": [],
   "source": []
  }
 ],
 "metadata": {
  "ExecuteTimeLog": [
   {
    "duration": 1365,
    "start_time": "2022-02-06T11:42:23.725Z"
   },
   {
    "duration": 75,
    "start_time": "2022-02-06T11:42:25.870Z"
   },
   {
    "duration": 12,
    "start_time": "2022-02-06T11:42:47.259Z"
   },
   {
    "duration": 6,
    "start_time": "2022-02-06T11:43:07.543Z"
   },
   {
    "duration": 575,
    "start_time": "2022-02-06T11:43:39.593Z"
   },
   {
    "duration": 535,
    "start_time": "2022-02-06T11:44:00.967Z"
   },
   {
    "duration": 362,
    "start_time": "2022-02-06T11:44:50.119Z"
   },
   {
    "duration": 355,
    "start_time": "2022-02-06T11:45:39.790Z"
   },
   {
    "duration": 365,
    "start_time": "2022-02-06T11:46:45.810Z"
   },
   {
    "duration": 350,
    "start_time": "2022-02-06T11:46:59.415Z"
   },
   {
    "duration": 355,
    "start_time": "2022-02-06T11:47:12.029Z"
   },
   {
    "duration": 932,
    "start_time": "2022-02-06T11:47:38.266Z"
   },
   {
    "duration": 342,
    "start_time": "2022-02-06T11:47:49.845Z"
   },
   {
    "duration": 4,
    "start_time": "2022-02-06T11:49:26.931Z"
   },
   {
    "duration": 5,
    "start_time": "2022-02-06T11:49:35.482Z"
   },
   {
    "duration": 9245,
    "start_time": "2022-02-06T12:08:18.850Z"
   },
   {
    "duration": 1431,
    "start_time": "2022-02-06T12:09:34.847Z"
   },
   {
    "duration": 82,
    "start_time": "2022-02-06T12:09:36.281Z"
   },
   {
    "duration": 5,
    "start_time": "2022-02-06T12:09:36.366Z"
   },
   {
    "duration": 19,
    "start_time": "2022-02-06T12:09:36.374Z"
   },
   {
    "duration": 896,
    "start_time": "2022-02-06T12:09:36.396Z"
   },
   {
    "duration": 6,
    "start_time": "2022-02-06T12:10:04.132Z"
   },
   {
    "duration": 12,
    "start_time": "2022-02-06T12:10:14.254Z"
   },
   {
    "duration": 27,
    "start_time": "2022-02-06T12:19:59.193Z"
   },
   {
    "duration": 366,
    "start_time": "2022-02-06T12:21:15.066Z"
   },
   {
    "duration": 2576,
    "start_time": "2022-02-06T12:35:03.902Z"
   },
   {
    "duration": 141,
    "start_time": "2022-02-06T12:39:17.210Z"
   },
   {
    "duration": 28,
    "start_time": "2022-02-06T12:41:50.526Z"
   },
   {
    "duration": 28,
    "start_time": "2022-02-06T12:42:23.570Z"
   },
   {
    "duration": 28,
    "start_time": "2022-02-06T12:42:37.971Z"
   },
   {
    "duration": 364,
    "start_time": "2022-02-06T12:42:45.584Z"
   },
   {
    "duration": 1349,
    "start_time": "2022-02-06T12:42:53.644Z"
   },
   {
    "duration": 80,
    "start_time": "2022-02-06T12:42:54.996Z"
   },
   {
    "duration": 5,
    "start_time": "2022-02-06T12:42:55.079Z"
   },
   {
    "duration": 13,
    "start_time": "2022-02-06T12:42:55.087Z"
   },
   {
    "duration": 6,
    "start_time": "2022-02-06T12:42:55.102Z"
   },
   {
    "duration": 54,
    "start_time": "2022-02-06T12:42:55.111Z"
   },
   {
    "duration": 30,
    "start_time": "2022-02-06T12:42:55.168Z"
   },
   {
    "duration": 525,
    "start_time": "2022-02-06T12:42:55.201Z"
   },
   {
    "duration": 4,
    "start_time": "2022-02-06T12:45:02.160Z"
   },
   {
    "duration": 83,
    "start_time": "2022-02-06T12:45:38.553Z"
   },
   {
    "duration": 622,
    "start_time": "2022-02-06T12:49:45.815Z"
   },
   {
    "duration": 485,
    "start_time": "2022-02-06T12:49:57.583Z"
   },
   {
    "duration": 85,
    "start_time": "2022-02-06T12:50:07.777Z"
   },
   {
    "duration": 90,
    "start_time": "2022-02-06T12:50:31.829Z"
   },
   {
    "duration": 87,
    "start_time": "2022-02-06T12:50:55.181Z"
   },
   {
    "duration": 93,
    "start_time": "2022-02-06T12:50:59.552Z"
   },
   {
    "duration": 455,
    "start_time": "2022-02-06T12:55:52.036Z"
   },
   {
    "duration": 1545,
    "start_time": "2022-02-06T12:55:58.957Z"
   },
   {
    "duration": 86,
    "start_time": "2022-02-06T12:56:00.504Z"
   },
   {
    "duration": 6,
    "start_time": "2022-02-06T12:56:00.593Z"
   },
   {
    "duration": 16,
    "start_time": "2022-02-06T12:56:00.601Z"
   },
   {
    "duration": 41,
    "start_time": "2022-02-06T12:56:00.619Z"
   },
   {
    "duration": 25,
    "start_time": "2022-02-06T12:56:00.662Z"
   },
   {
    "duration": 31,
    "start_time": "2022-02-06T12:56:00.689Z"
   },
   {
    "duration": 3,
    "start_time": "2022-02-06T12:56:00.724Z"
   },
   {
    "duration": 110,
    "start_time": "2022-02-06T12:56:00.759Z"
   },
   {
    "duration": 691,
    "start_time": "2022-02-06T12:58:04.283Z"
   },
   {
    "duration": 4,
    "start_time": "2022-02-06T12:58:20.972Z"
   },
   {
    "duration": 90,
    "start_time": "2022-02-06T12:58:25.773Z"
   },
   {
    "duration": 89,
    "start_time": "2022-02-06T12:59:30.512Z"
   },
   {
    "duration": 300,
    "start_time": "2022-02-06T13:09:00.438Z"
   },
   {
    "duration": 1866,
    "start_time": "2022-02-06T13:09:05.545Z"
   },
   {
    "duration": 399,
    "start_time": "2022-02-06T13:09:39.681Z"
   },
   {
    "duration": 1363,
    "start_time": "2022-02-06T13:11:10.812Z"
   },
   {
    "duration": 78,
    "start_time": "2022-02-06T13:11:12.177Z"
   },
   {
    "duration": 6,
    "start_time": "2022-02-06T13:11:12.258Z"
   },
   {
    "duration": 23,
    "start_time": "2022-02-06T13:11:12.268Z"
   },
   {
    "duration": 6,
    "start_time": "2022-02-06T13:11:12.293Z"
   },
   {
    "duration": 11,
    "start_time": "2022-02-06T13:11:12.301Z"
   },
   {
    "duration": 72,
    "start_time": "2022-02-06T13:11:12.314Z"
   },
   {
    "duration": 337,
    "start_time": "2022-02-06T13:11:12.389Z"
   },
   {
    "duration": 555,
    "start_time": "2022-02-06T13:11:12.730Z"
   },
   {
    "duration": 468,
    "start_time": "2022-02-06T13:11:26.592Z"
   },
   {
    "duration": 1381,
    "start_time": "2022-02-06T13:11:45.033Z"
   },
   {
    "duration": 82,
    "start_time": "2022-02-06T13:11:46.417Z"
   },
   {
    "duration": 7,
    "start_time": "2022-02-06T13:11:46.503Z"
   },
   {
    "duration": 13,
    "start_time": "2022-02-06T13:11:46.512Z"
   },
   {
    "duration": 31,
    "start_time": "2022-02-06T13:11:46.528Z"
   },
   {
    "duration": 16,
    "start_time": "2022-02-06T13:11:46.562Z"
   },
   {
    "duration": 29,
    "start_time": "2022-02-06T13:11:46.581Z"
   },
   {
    "duration": 386,
    "start_time": "2022-02-06T13:11:46.612Z"
   },
   {
    "duration": 574,
    "start_time": "2022-02-06T13:11:47.002Z"
   },
   {
    "duration": 2882,
    "start_time": "2022-02-06T13:13:11.699Z"
   },
   {
    "duration": 366,
    "start_time": "2022-02-06T13:13:55.477Z"
   },
   {
    "duration": 509,
    "start_time": "2022-02-06T13:14:01.679Z"
   },
   {
    "duration": 1476,
    "start_time": "2022-02-06T13:14:11.946Z"
   },
   {
    "duration": 82,
    "start_time": "2022-02-06T13:14:13.425Z"
   },
   {
    "duration": 5,
    "start_time": "2022-02-06T13:14:13.513Z"
   },
   {
    "duration": 12,
    "start_time": "2022-02-06T13:14:13.520Z"
   },
   {
    "duration": 29,
    "start_time": "2022-02-06T13:14:13.534Z"
   },
   {
    "duration": 21,
    "start_time": "2022-02-06T13:14:13.565Z"
   },
   {
    "duration": 44,
    "start_time": "2022-02-06T13:14:13.590Z"
   },
   {
    "duration": 106,
    "start_time": "2022-02-06T13:14:13.663Z"
   },
   {
    "duration": 95,
    "start_time": "2022-02-06T13:18:42.572Z"
   },
   {
    "duration": 94,
    "start_time": "2022-02-06T13:18:54.778Z"
   },
   {
    "duration": 83,
    "start_time": "2022-02-06T13:25:24.426Z"
   },
   {
    "duration": 481,
    "start_time": "2022-02-06T13:27:52.514Z"
   },
   {
    "duration": 6,
    "start_time": "2022-02-06T13:27:57.489Z"
   },
   {
    "duration": 816,
    "start_time": "2022-02-06T13:27:58.079Z"
   },
   {
    "duration": 5,
    "start_time": "2022-02-06T13:28:19.668Z"
   },
   {
    "duration": 6,
    "start_time": "2022-02-06T13:28:25.836Z"
   },
   {
    "duration": 386,
    "start_time": "2022-02-06T13:28:26.355Z"
   },
   {
    "duration": 184,
    "start_time": "2022-02-06T13:28:34.177Z"
   },
   {
    "duration": 445,
    "start_time": "2022-02-06T13:29:53.735Z"
   },
   {
    "duration": 8,
    "start_time": "2022-02-06T13:29:57.700Z"
   },
   {
    "duration": 67,
    "start_time": "2022-02-06T13:29:58.153Z"
   },
   {
    "duration": 417,
    "start_time": "2022-02-06T13:38:39.681Z"
   },
   {
    "duration": 480,
    "start_time": "2022-02-06T13:38:53.231Z"
   },
   {
    "duration": 10,
    "start_time": "2022-02-06T13:38:57.870Z"
   },
   {
    "duration": 45,
    "start_time": "2022-02-06T13:39:02.434Z"
   },
   {
    "duration": 127,
    "start_time": "2022-02-06T13:43:41.852Z"
   },
   {
    "duration": 191,
    "start_time": "2022-02-06T13:44:00.243Z"
   },
   {
    "duration": 45,
    "start_time": "2022-02-06T13:44:08.240Z"
   },
   {
    "duration": 5,
    "start_time": "2022-02-06T13:46:50.807Z"
   },
   {
    "duration": 751,
    "start_time": "2022-02-06T13:48:14.814Z"
   },
   {
    "duration": 1331,
    "start_time": "2022-02-06T13:48:21.847Z"
   },
   {
    "duration": 78,
    "start_time": "2022-02-06T13:48:23.180Z"
   },
   {
    "duration": 5,
    "start_time": "2022-02-06T13:48:23.260Z"
   },
   {
    "duration": 16,
    "start_time": "2022-02-06T13:48:23.267Z"
   },
   {
    "duration": 6,
    "start_time": "2022-02-06T13:48:23.285Z"
   },
   {
    "duration": 10,
    "start_time": "2022-02-06T13:48:23.294Z"
   },
   {
    "duration": 87,
    "start_time": "2022-02-06T13:48:23.307Z"
   },
   {
    "duration": 11,
    "start_time": "2022-02-06T13:48:23.397Z"
   },
   {
    "duration": 89,
    "start_time": "2022-02-06T13:48:23.411Z"
   },
   {
    "duration": 67,
    "start_time": "2022-02-06T13:48:23.503Z"
   },
   {
    "duration": 6,
    "start_time": "2022-02-06T13:48:23.660Z"
   },
   {
    "duration": 833,
    "start_time": "2022-02-06T13:48:23.668Z"
   },
   {
    "duration": -129,
    "start_time": "2022-02-06T13:48:24.632Z"
   },
   {
    "duration": -130,
    "start_time": "2022-02-06T13:48:24.634Z"
   },
   {
    "duration": 5,
    "start_time": "2022-02-06T13:49:25.916Z"
   },
   {
    "duration": 840,
    "start_time": "2022-02-06T13:49:28.540Z"
   },
   {
    "duration": 6,
    "start_time": "2022-02-06T13:52:22.245Z"
   },
   {
    "duration": 774,
    "start_time": "2022-02-06T13:52:23.547Z"
   },
   {
    "duration": 10,
    "start_time": "2022-02-06T13:55:39.782Z"
   },
   {
    "duration": 1282,
    "start_time": "2022-02-06T13:55:40.319Z"
   },
   {
    "duration": 9,
    "start_time": "2022-02-06T13:58:52.464Z"
   },
   {
    "duration": 10,
    "start_time": "2022-02-06T13:59:06.219Z"
   },
   {
    "duration": 6,
    "start_time": "2022-02-06T13:59:18.905Z"
   },
   {
    "duration": 726,
    "start_time": "2022-02-06T13:59:19.535Z"
   },
   {
    "duration": 376,
    "start_time": "2022-02-06T13:59:51.396Z"
   },
   {
    "duration": 1431,
    "start_time": "2022-02-06T13:59:57.973Z"
   },
   {
    "duration": 193,
    "start_time": "2022-02-06T13:59:59.406Z"
   },
   {
    "duration": 5,
    "start_time": "2022-02-06T13:59:59.602Z"
   },
   {
    "duration": 16,
    "start_time": "2022-02-06T13:59:59.610Z"
   },
   {
    "duration": 34,
    "start_time": "2022-02-06T13:59:59.629Z"
   },
   {
    "duration": 15,
    "start_time": "2022-02-06T13:59:59.666Z"
   },
   {
    "duration": 90,
    "start_time": "2022-02-06T13:59:59.684Z"
   },
   {
    "duration": 14,
    "start_time": "2022-02-06T13:59:59.778Z"
   },
   {
    "duration": 90,
    "start_time": "2022-02-06T13:59:59.795Z"
   },
   {
    "duration": 91,
    "start_time": "2022-02-06T13:59:59.888Z"
   },
   {
    "duration": 7,
    "start_time": "2022-02-06T14:00:00.061Z"
   },
   {
    "duration": 968,
    "start_time": "2022-02-06T14:00:00.071Z"
   },
   {
    "duration": -105,
    "start_time": "2022-02-06T14:00:01.148Z"
   },
   {
    "duration": -104,
    "start_time": "2022-02-06T14:00:01.149Z"
   },
   {
    "duration": 379,
    "start_time": "2022-02-06T14:00:15.487Z"
   },
   {
    "duration": 1395,
    "start_time": "2022-02-06T14:00:21.043Z"
   },
   {
    "duration": 120,
    "start_time": "2022-02-06T14:00:22.441Z"
   },
   {
    "duration": 8,
    "start_time": "2022-02-06T14:00:22.569Z"
   },
   {
    "duration": 20,
    "start_time": "2022-02-06T14:00:22.580Z"
   },
   {
    "duration": 7,
    "start_time": "2022-02-06T14:00:22.608Z"
   },
   {
    "duration": 54,
    "start_time": "2022-02-06T14:00:22.618Z"
   },
   {
    "duration": 85,
    "start_time": "2022-02-06T14:00:22.675Z"
   },
   {
    "duration": 14,
    "start_time": "2022-02-06T14:00:22.763Z"
   },
   {
    "duration": 87,
    "start_time": "2022-02-06T14:00:22.780Z"
   },
   {
    "duration": 189,
    "start_time": "2022-02-06T14:00:22.869Z"
   },
   {
    "duration": 8,
    "start_time": "2022-02-06T14:00:23.062Z"
   },
   {
    "duration": 1062,
    "start_time": "2022-02-06T14:00:23.073Z"
   },
   {
    "duration": -55,
    "start_time": "2022-02-06T14:00:24.193Z"
   },
   {
    "duration": -54,
    "start_time": "2022-02-06T14:00:24.194Z"
   },
   {
    "duration": 33,
    "start_time": "2022-02-06T14:01:09.277Z"
   },
   {
    "duration": 482,
    "start_time": "2022-02-06T14:13:03.883Z"
   },
   {
    "duration": 5,
    "start_time": "2022-02-06T14:13:10.319Z"
   },
   {
    "duration": 10,
    "start_time": "2022-02-06T14:13:10.867Z"
   },
   {
    "duration": 5,
    "start_time": "2022-02-06T14:13:11.865Z"
   },
   {
    "duration": 10,
    "start_time": "2022-02-06T14:13:12.104Z"
   },
   {
    "duration": 381,
    "start_time": "2022-02-06T14:13:12.345Z"
   },
   {
    "duration": -32,
    "start_time": "2022-02-06T14:13:12.762Z"
   },
   {
    "duration": 1745,
    "start_time": "2022-02-06T14:13:22.532Z"
   },
   {
    "duration": 113,
    "start_time": "2022-02-06T14:13:24.280Z"
   },
   {
    "duration": 5,
    "start_time": "2022-02-06T14:13:24.397Z"
   },
   {
    "duration": 12,
    "start_time": "2022-02-06T14:13:24.405Z"
   },
   {
    "duration": 5,
    "start_time": "2022-02-06T14:13:24.419Z"
   },
   {
    "duration": 11,
    "start_time": "2022-02-06T14:13:24.460Z"
   },
   {
    "duration": 52,
    "start_time": "2022-02-06T14:13:24.473Z"
   },
   {
    "duration": 62,
    "start_time": "2022-02-06T14:13:24.528Z"
   },
   {
    "duration": 84,
    "start_time": "2022-02-06T14:13:24.593Z"
   },
   {
    "duration": 79,
    "start_time": "2022-02-06T14:13:24.680Z"
   },
   {
    "duration": 9,
    "start_time": "2022-02-06T14:13:24.763Z"
   },
   {
    "duration": 831,
    "start_time": "2022-02-06T14:13:24.860Z"
   },
   {
    "duration": -44,
    "start_time": "2022-02-06T14:13:25.738Z"
   },
   {
    "duration": -43,
    "start_time": "2022-02-06T14:13:25.739Z"
   },
   {
    "duration": 1338,
    "start_time": "2022-02-06T14:17:22.683Z"
   },
   {
    "duration": 118,
    "start_time": "2022-02-06T14:17:24.024Z"
   },
   {
    "duration": 15,
    "start_time": "2022-02-06T14:17:24.146Z"
   },
   {
    "duration": 19,
    "start_time": "2022-02-06T14:17:24.165Z"
   },
   {
    "duration": 8,
    "start_time": "2022-02-06T14:17:24.187Z"
   },
   {
    "duration": 14,
    "start_time": "2022-02-06T14:17:24.197Z"
   },
   {
    "duration": 95,
    "start_time": "2022-02-06T14:17:24.214Z"
   },
   {
    "duration": 13,
    "start_time": "2022-02-06T14:17:24.313Z"
   },
   {
    "duration": 78,
    "start_time": "2022-02-06T14:17:24.329Z"
   },
   {
    "duration": 153,
    "start_time": "2022-02-06T14:17:24.409Z"
   },
   {
    "duration": 6,
    "start_time": "2022-02-06T14:17:24.565Z"
   },
   {
    "duration": 1062,
    "start_time": "2022-02-06T14:17:24.573Z"
   },
   {
    "duration": -50,
    "start_time": "2022-02-06T14:17:25.687Z"
   },
   {
    "duration": -51,
    "start_time": "2022-02-06T14:17:25.689Z"
   },
   {
    "duration": 1647,
    "start_time": "2022-02-06T14:18:11.642Z"
   },
   {
    "duration": 119,
    "start_time": "2022-02-06T14:18:13.291Z"
   },
   {
    "duration": 7,
    "start_time": "2022-02-06T14:18:13.414Z"
   },
   {
    "duration": 37,
    "start_time": "2022-02-06T14:18:13.424Z"
   },
   {
    "duration": 7,
    "start_time": "2022-02-06T14:18:13.463Z"
   },
   {
    "duration": 11,
    "start_time": "2022-02-06T14:18:13.472Z"
   },
   {
    "duration": 84,
    "start_time": "2022-02-06T14:18:13.485Z"
   },
   {
    "duration": 664,
    "start_time": "2022-02-06T14:18:13.573Z"
   },
   {
    "duration": -34,
    "start_time": "2022-02-06T14:18:14.275Z"
   },
   {
    "duration": -34,
    "start_time": "2022-02-06T14:18:14.276Z"
   },
   {
    "duration": -43,
    "start_time": "2022-02-06T14:18:14.286Z"
   },
   {
    "duration": -42,
    "start_time": "2022-02-06T14:18:14.287Z"
   },
   {
    "duration": -42,
    "start_time": "2022-02-06T14:18:14.288Z"
   },
   {
    "duration": -41,
    "start_time": "2022-02-06T14:18:14.289Z"
   },
   {
    "duration": 39,
    "start_time": "2022-02-06T14:18:22.651Z"
   },
   {
    "duration": 1704,
    "start_time": "2022-02-06T14:18:29.735Z"
   },
   {
    "duration": 87,
    "start_time": "2022-02-06T14:18:31.442Z"
   },
   {
    "duration": 5,
    "start_time": "2022-02-06T14:18:31.531Z"
   },
   {
    "duration": 31,
    "start_time": "2022-02-06T14:18:31.539Z"
   },
   {
    "duration": 6,
    "start_time": "2022-02-06T14:18:31.572Z"
   },
   {
    "duration": 16,
    "start_time": "2022-02-06T14:18:31.580Z"
   },
   {
    "duration": 90,
    "start_time": "2022-02-06T14:18:31.599Z"
   },
   {
    "duration": 41,
    "start_time": "2022-02-06T14:18:31.692Z"
   },
   {
    "duration": 781,
    "start_time": "2022-02-06T14:18:31.736Z"
   },
   {
    "duration": -385,
    "start_time": "2022-02-06T14:18:32.905Z"
   },
   {
    "duration": -385,
    "start_time": "2022-02-06T14:18:32.906Z"
   },
   {
    "duration": -383,
    "start_time": "2022-02-06T14:18:32.907Z"
   },
   {
    "duration": -382,
    "start_time": "2022-02-06T14:18:32.908Z"
   },
   {
    "duration": -381,
    "start_time": "2022-02-06T14:18:32.909Z"
   },
   {
    "duration": 1674,
    "start_time": "2022-02-06T14:19:05.703Z"
   },
   {
    "duration": 118,
    "start_time": "2022-02-06T14:19:07.381Z"
   },
   {
    "duration": 6,
    "start_time": "2022-02-06T14:19:07.503Z"
   },
   {
    "duration": 12,
    "start_time": "2022-02-06T14:19:07.512Z"
   },
   {
    "duration": 35,
    "start_time": "2022-02-06T14:19:07.527Z"
   },
   {
    "duration": 14,
    "start_time": "2022-02-06T14:19:07.565Z"
   },
   {
    "duration": 77,
    "start_time": "2022-02-06T14:19:07.582Z"
   },
   {
    "duration": 36,
    "start_time": "2022-02-06T14:19:07.663Z"
   },
   {
    "duration": 77,
    "start_time": "2022-02-06T14:19:07.702Z"
   },
   {
    "duration": 85,
    "start_time": "2022-02-06T14:19:07.782Z"
   },
   {
    "duration": 90,
    "start_time": "2022-02-06T14:19:07.870Z"
   },
   {
    "duration": 167,
    "start_time": "2022-02-06T14:19:07.963Z"
   },
   {
    "duration": 6,
    "start_time": "2022-02-06T14:19:08.132Z"
   },
   {
    "duration": 50,
    "start_time": "2022-02-06T14:19:08.140Z"
   },
   {
    "duration": 55,
    "start_time": "2022-02-06T14:19:54.263Z"
   },
   {
    "duration": 514,
    "start_time": "2022-02-06T14:22:29.953Z"
   },
   {
    "duration": 5,
    "start_time": "2022-02-06T14:22:39.801Z"
   },
   {
    "duration": 68,
    "start_time": "2022-02-06T14:22:40.424Z"
   },
   {
    "duration": 6,
    "start_time": "2022-02-06T14:22:41.211Z"
   },
   {
    "duration": 14,
    "start_time": "2022-02-06T14:22:41.876Z"
   },
   {
    "duration": 6,
    "start_time": "2022-02-06T14:22:43.176Z"
   },
   {
    "duration": 13,
    "start_time": "2022-02-06T14:22:43.752Z"
   },
   {
    "duration": 58,
    "start_time": "2022-02-06T14:22:48.513Z"
   },
   {
    "duration": 42,
    "start_time": "2022-02-06T14:23:21.535Z"
   },
   {
    "duration": 57,
    "start_time": "2022-02-06T14:23:39.411Z"
   },
   {
    "duration": 44,
    "start_time": "2022-02-06T14:23:40.917Z"
   },
   {
    "duration": 6,
    "start_time": "2022-02-06T14:23:43.910Z"
   },
   {
    "duration": 111,
    "start_time": "2022-02-06T14:23:45.607Z"
   },
   {
    "duration": 5,
    "start_time": "2022-02-06T14:23:47.841Z"
   },
   {
    "duration": 34,
    "start_time": "2022-02-06T14:23:48.608Z"
   },
   {
    "duration": 1369,
    "start_time": "2022-02-06T14:24:15.842Z"
   },
   {
    "duration": 80,
    "start_time": "2022-02-06T14:24:17.214Z"
   },
   {
    "duration": 7,
    "start_time": "2022-02-06T14:24:17.298Z"
   },
   {
    "duration": 18,
    "start_time": "2022-02-06T14:24:17.308Z"
   },
   {
    "duration": 8,
    "start_time": "2022-02-06T14:24:17.360Z"
   },
   {
    "duration": 16,
    "start_time": "2022-02-06T14:24:17.372Z"
   },
   {
    "duration": 126,
    "start_time": "2022-02-06T14:24:17.392Z"
   },
   {
    "duration": 71,
    "start_time": "2022-02-06T14:24:17.524Z"
   },
   {
    "duration": 98,
    "start_time": "2022-02-06T14:24:17.599Z"
   },
   {
    "duration": 72,
    "start_time": "2022-02-06T14:24:17.700Z"
   },
   {
    "duration": 96,
    "start_time": "2022-02-06T14:24:17.775Z"
   },
   {
    "duration": 188,
    "start_time": "2022-02-06T14:24:17.874Z"
   },
   {
    "duration": 6,
    "start_time": "2022-02-06T14:24:18.065Z"
   },
   {
    "duration": 39,
    "start_time": "2022-02-06T14:24:18.074Z"
   },
   {
    "duration": 23,
    "start_time": "2022-02-06T14:26:41.282Z"
   },
   {
    "duration": 89,
    "start_time": "2022-02-06T14:26:42.015Z"
   },
   {
    "duration": 71,
    "start_time": "2022-02-06T14:26:42.900Z"
   },
   {
    "duration": 18,
    "start_time": "2022-02-06T14:30:54.158Z"
   },
   {
    "duration": 25,
    "start_time": "2022-02-06T14:30:54.631Z"
   },
   {
    "duration": 22,
    "start_time": "2022-02-06T14:30:55.298Z"
   },
   {
    "duration": 25,
    "start_time": "2022-02-06T14:32:49.746Z"
   },
   {
    "duration": 104,
    "start_time": "2022-02-06T14:33:10.797Z"
   },
   {
    "duration": 81,
    "start_time": "2022-02-06T14:33:22.580Z"
   },
   {
    "duration": 52,
    "start_time": "2022-02-06T14:33:33.009Z"
   },
   {
    "duration": 1409,
    "start_time": "2022-02-06T14:33:59.700Z"
   },
   {
    "duration": 79,
    "start_time": "2022-02-06T14:34:01.112Z"
   },
   {
    "duration": 5,
    "start_time": "2022-02-06T14:34:01.194Z"
   },
   {
    "duration": 15,
    "start_time": "2022-02-06T14:34:01.201Z"
   },
   {
    "duration": 6,
    "start_time": "2022-02-06T14:34:01.219Z"
   },
   {
    "duration": 41,
    "start_time": "2022-02-06T14:34:01.228Z"
   },
   {
    "duration": 88,
    "start_time": "2022-02-06T14:34:01.271Z"
   },
   {
    "duration": 38,
    "start_time": "2022-02-06T14:34:01.363Z"
   },
   {
    "duration": 77,
    "start_time": "2022-02-06T14:34:01.404Z"
   },
   {
    "duration": 81,
    "start_time": "2022-02-06T14:34:01.483Z"
   },
   {
    "duration": 109,
    "start_time": "2022-02-06T14:34:01.567Z"
   },
   {
    "duration": 110,
    "start_time": "2022-02-06T14:34:01.678Z"
   },
   {
    "duration": 88,
    "start_time": "2022-02-06T14:34:01.790Z"
   },
   {
    "duration": 108,
    "start_time": "2022-02-06T14:34:01.961Z"
   },
   {
    "duration": 26,
    "start_time": "2022-02-06T14:34:02.072Z"
   },
   {
    "duration": 161,
    "start_time": "2022-02-06T14:34:02.100Z"
   },
   {
    "duration": 496,
    "start_time": "2022-02-06T14:37:57.002Z"
   },
   {
    "duration": 422,
    "start_time": "2022-02-06T14:38:09.273Z"
   },
   {
    "duration": 209,
    "start_time": "2022-02-06T14:41:20.747Z"
   },
   {
    "duration": 584,
    "start_time": "2022-02-06T14:42:27.861Z"
   },
   {
    "duration": 95,
    "start_time": "2022-02-06T14:46:05.923Z"
   },
   {
    "duration": 2298,
    "start_time": "2022-02-06T14:50:00.461Z"
   },
   {
    "duration": 2825,
    "start_time": "2022-02-06T14:50:11.857Z"
   },
   {
    "duration": 2086,
    "start_time": "2022-02-06T14:50:34.047Z"
   },
   {
    "duration": 95,
    "start_time": "2022-02-06T14:53:54.636Z"
   },
   {
    "duration": 5361,
    "start_time": "2022-02-06T14:53:55.759Z"
   },
   {
    "duration": 6268,
    "start_time": "2022-02-06T14:54:06.095Z"
   },
   {
    "duration": 7175,
    "start_time": "2022-02-06T14:54:40.272Z"
   },
   {
    "duration": 64,
    "start_time": "2022-02-06T14:57:14.357Z"
   },
   {
    "duration": 370,
    "start_time": "2022-02-06T14:58:50.953Z"
   },
   {
    "duration": 466,
    "start_time": "2022-02-06T15:00:08.421Z"
   },
   {
    "duration": 2363,
    "start_time": "2022-02-06T15:01:06.223Z"
   },
   {
    "duration": 6791,
    "start_time": "2022-02-06T15:01:21.639Z"
   },
   {
    "duration": 400,
    "start_time": "2022-02-07T15:21:11.175Z"
   },
   {
    "duration": 993,
    "start_time": "2022-02-07T15:21:16.848Z"
   },
   {
    "duration": 155,
    "start_time": "2022-02-07T15:21:17.843Z"
   },
   {
    "duration": 3,
    "start_time": "2022-02-07T15:21:18.000Z"
   },
   {
    "duration": 11,
    "start_time": "2022-02-07T15:21:18.005Z"
   },
   {
    "duration": 4,
    "start_time": "2022-02-07T15:21:18.017Z"
   },
   {
    "duration": 7,
    "start_time": "2022-02-07T15:21:18.022Z"
   },
   {
    "duration": 29,
    "start_time": "2022-02-07T15:21:18.031Z"
   },
   {
    "duration": 21,
    "start_time": "2022-02-07T15:21:18.062Z"
   },
   {
    "duration": 13,
    "start_time": "2022-02-07T15:21:18.085Z"
   },
   {
    "duration": 53,
    "start_time": "2022-02-07T15:21:18.100Z"
   },
   {
    "duration": 14,
    "start_time": "2022-02-07T15:21:18.154Z"
   },
   {
    "duration": 65,
    "start_time": "2022-02-07T15:21:18.169Z"
   },
   {
    "duration": 255,
    "start_time": "2022-02-07T15:21:18.236Z"
   },
   {
    "duration": 252,
    "start_time": "2022-02-07T15:21:18.493Z"
   },
   {
    "duration": 319,
    "start_time": "2022-02-07T15:21:18.747Z"
   },
   {
    "duration": 59,
    "start_time": "2022-02-07T15:21:19.068Z"
   },
   {
    "duration": 2792,
    "start_time": "2022-02-07T15:21:19.129Z"
   },
   {
    "duration": 3538,
    "start_time": "2022-02-07T15:21:21.927Z"
   },
   {
    "duration": 4167,
    "start_time": "2022-02-07T15:21:25.466Z"
   },
   {
    "duration": 4284,
    "start_time": "2022-02-07T15:21:29.634Z"
   },
   {
    "duration": 104,
    "start_time": "2022-02-07T15:21:33.927Z"
   },
   {
    "duration": 103,
    "start_time": "2022-02-07T15:21:34.033Z"
   },
   {
    "duration": 15,
    "start_time": "2022-02-07T15:21:34.139Z"
   },
   {
    "duration": 85,
    "start_time": "2022-02-07T15:21:34.156Z"
   },
   {
    "duration": 974,
    "start_time": "2022-02-07T15:22:12.268Z"
   },
   {
    "duration": 48,
    "start_time": "2022-02-07T15:22:13.243Z"
   },
   {
    "duration": 3,
    "start_time": "2022-02-07T15:22:13.293Z"
   },
   {
    "duration": 8,
    "start_time": "2022-02-07T15:22:13.298Z"
   },
   {
    "duration": 4,
    "start_time": "2022-02-07T15:22:13.307Z"
   },
   {
    "duration": 18,
    "start_time": "2022-02-07T15:22:13.312Z"
   },
   {
    "duration": 28,
    "start_time": "2022-02-07T15:22:13.331Z"
   },
   {
    "duration": 2,
    "start_time": "2022-02-07T15:22:13.361Z"
   },
   {
    "duration": 18,
    "start_time": "2022-02-07T15:22:13.365Z"
   },
   {
    "duration": 57,
    "start_time": "2022-02-07T15:22:13.385Z"
   },
   {
    "duration": 15,
    "start_time": "2022-02-07T15:22:13.444Z"
   },
   {
    "duration": 52,
    "start_time": "2022-02-07T15:22:13.461Z"
   },
   {
    "duration": 255,
    "start_time": "2022-02-07T15:22:13.526Z"
   },
   {
    "duration": 252,
    "start_time": "2022-02-07T15:22:13.782Z"
   },
   {
    "duration": 304,
    "start_time": "2022-02-07T15:22:14.035Z"
   },
   {
    "duration": 48,
    "start_time": "2022-02-07T15:22:14.341Z"
   },
   {
    "duration": 2767,
    "start_time": "2022-02-07T15:22:14.390Z"
   },
   {
    "duration": 3423,
    "start_time": "2022-02-07T15:22:17.158Z"
   },
   {
    "duration": 3945,
    "start_time": "2022-02-07T15:22:20.583Z"
   },
   {
    "duration": 3890,
    "start_time": "2022-02-07T15:22:24.530Z"
   },
   {
    "duration": 14,
    "start_time": "2022-02-07T15:22:28.422Z"
   },
   {
    "duration": 15,
    "start_time": "2022-02-07T15:22:28.438Z"
   },
   {
    "duration": 75,
    "start_time": "2022-02-07T15:22:28.456Z"
   },
   {
    "duration": 1041,
    "start_time": "2022-02-07T15:26:13.916Z"
   },
   {
    "duration": 67,
    "start_time": "2022-02-07T15:26:14.958Z"
   },
   {
    "duration": 4,
    "start_time": "2022-02-07T15:26:15.027Z"
   },
   {
    "duration": 17,
    "start_time": "2022-02-07T15:26:15.033Z"
   },
   {
    "duration": 5,
    "start_time": "2022-02-07T15:26:15.052Z"
   },
   {
    "duration": 9,
    "start_time": "2022-02-07T15:26:15.059Z"
   },
   {
    "duration": 23,
    "start_time": "2022-02-07T15:26:15.069Z"
   },
   {
    "duration": 42,
    "start_time": "2022-02-07T15:26:15.095Z"
   },
   {
    "duration": 19,
    "start_time": "2022-02-07T15:26:15.140Z"
   },
   {
    "duration": 45,
    "start_time": "2022-02-07T15:26:15.161Z"
   },
   {
    "duration": 23,
    "start_time": "2022-02-07T15:26:15.208Z"
   },
   {
    "duration": 79,
    "start_time": "2022-02-07T15:26:15.232Z"
   },
   {
    "duration": 376,
    "start_time": "2022-02-07T15:26:15.313Z"
   },
   {
    "duration": 372,
    "start_time": "2022-02-07T15:26:15.691Z"
   },
   {
    "duration": 432,
    "start_time": "2022-02-07T15:26:16.065Z"
   },
   {
    "duration": 78,
    "start_time": "2022-02-07T15:26:16.499Z"
   },
   {
    "duration": 3063,
    "start_time": "2022-02-07T15:26:16.579Z"
   },
   {
    "duration": 3724,
    "start_time": "2022-02-07T15:26:19.643Z"
   },
   {
    "duration": 4367,
    "start_time": "2022-02-07T15:26:23.369Z"
   },
   {
    "duration": 3624,
    "start_time": "2022-02-07T15:26:27.737Z"
   },
   {
    "duration": 10,
    "start_time": "2022-02-07T15:26:31.362Z"
   },
   {
    "duration": 15,
    "start_time": "2022-02-07T15:26:31.374Z"
   },
   {
    "duration": 136,
    "start_time": "2022-02-07T15:26:31.392Z"
   },
   {
    "duration": 9,
    "start_time": "2022-02-07T15:28:23.770Z"
   },
   {
    "duration": 7,
    "start_time": "2022-02-07T15:28:48.096Z"
   },
   {
    "duration": 6,
    "start_time": "2022-02-07T15:29:07.360Z"
   },
   {
    "duration": 7,
    "start_time": "2022-02-07T15:29:25.398Z"
   },
   {
    "duration": 7,
    "start_time": "2022-02-07T15:31:47.205Z"
   },
   {
    "duration": 9,
    "start_time": "2022-02-07T15:31:55.034Z"
   },
   {
    "duration": 6,
    "start_time": "2022-02-07T15:35:39.938Z"
   },
   {
    "duration": 6,
    "start_time": "2022-02-07T15:35:43.031Z"
   },
   {
    "duration": 6,
    "start_time": "2022-02-07T15:36:03.247Z"
   },
   {
    "duration": 7,
    "start_time": "2022-02-07T15:36:26.062Z"
   },
   {
    "duration": 6,
    "start_time": "2022-02-07T15:36:35.877Z"
   },
   {
    "duration": 7,
    "start_time": "2022-02-07T15:37:19.257Z"
   },
   {
    "duration": 6,
    "start_time": "2022-02-07T15:37:20.190Z"
   },
   {
    "duration": 5,
    "start_time": "2022-02-07T15:37:21.024Z"
   },
   {
    "duration": 2,
    "start_time": "2022-02-07T15:44:38.449Z"
   },
   {
    "duration": 36,
    "start_time": "2022-02-07T15:44:40.227Z"
   },
   {
    "duration": 553,
    "start_time": "2022-02-07T15:47:29.704Z"
   },
   {
    "duration": 496,
    "start_time": "2022-02-07T15:49:30.484Z"
   },
   {
    "duration": 11,
    "start_time": "2022-02-07T15:49:30.993Z"
   },
   {
    "duration": 1181,
    "start_time": "2022-02-07T15:49:45.333Z"
   },
   {
    "duration": 49,
    "start_time": "2022-02-07T15:49:46.516Z"
   },
   {
    "duration": 3,
    "start_time": "2022-02-07T15:49:46.567Z"
   },
   {
    "duration": 7,
    "start_time": "2022-02-07T15:49:46.572Z"
   },
   {
    "duration": 3,
    "start_time": "2022-02-07T15:49:46.581Z"
   },
   {
    "duration": 7,
    "start_time": "2022-02-07T15:49:46.586Z"
   },
   {
    "duration": 40,
    "start_time": "2022-02-07T15:49:46.595Z"
   },
   {
    "duration": 31,
    "start_time": "2022-02-07T15:49:46.636Z"
   },
   {
    "duration": 24,
    "start_time": "2022-02-07T15:49:46.670Z"
   },
   {
    "duration": 9,
    "start_time": "2022-02-07T15:49:46.696Z"
   },
   {
    "duration": 21,
    "start_time": "2022-02-07T15:49:46.707Z"
   },
   {
    "duration": 7,
    "start_time": "2022-02-07T15:49:46.729Z"
   },
   {
    "duration": 9,
    "start_time": "2022-02-07T15:49:46.738Z"
   },
   {
    "duration": 7,
    "start_time": "2022-02-07T15:49:46.748Z"
   },
   {
    "duration": 7,
    "start_time": "2022-02-07T15:49:46.756Z"
   },
   {
    "duration": 7,
    "start_time": "2022-02-07T15:49:46.765Z"
   },
   {
    "duration": 5,
    "start_time": "2022-02-07T15:49:46.774Z"
   },
   {
    "duration": 7,
    "start_time": "2022-02-07T15:49:46.780Z"
   },
   {
    "duration": 5,
    "start_time": "2022-02-07T15:49:46.789Z"
   },
   {
    "duration": 6,
    "start_time": "2022-02-07T15:49:46.827Z"
   },
   {
    "duration": 8,
    "start_time": "2022-02-07T15:49:46.835Z"
   },
   {
    "duration": 10,
    "start_time": "2022-02-07T15:49:46.845Z"
   },
   {
    "duration": 53,
    "start_time": "2022-02-07T15:49:46.857Z"
   },
   {
    "duration": 587,
    "start_time": "2022-02-07T15:49:46.912Z"
   },
   {
    "duration": -52,
    "start_time": "2022-02-07T15:49:47.553Z"
   },
   {
    "duration": -53,
    "start_time": "2022-02-07T15:49:47.555Z"
   },
   {
    "duration": -53,
    "start_time": "2022-02-07T15:49:47.556Z"
   },
   {
    "duration": -54,
    "start_time": "2022-02-07T15:49:47.558Z"
   },
   {
    "duration": -54,
    "start_time": "2022-02-07T15:49:47.559Z"
   },
   {
    "duration": -55,
    "start_time": "2022-02-07T15:49:47.561Z"
   },
   {
    "duration": -55,
    "start_time": "2022-02-07T15:49:47.562Z"
   },
   {
    "duration": -57,
    "start_time": "2022-02-07T15:49:47.564Z"
   },
   {
    "duration": -58,
    "start_time": "2022-02-07T15:49:47.566Z"
   },
   {
    "duration": -63,
    "start_time": "2022-02-07T15:49:47.572Z"
   },
   {
    "duration": -63,
    "start_time": "2022-02-07T15:49:47.573Z"
   },
   {
    "duration": -64,
    "start_time": "2022-02-07T15:49:47.575Z"
   },
   {
    "duration": 2,
    "start_time": "2022-02-07T15:50:41.085Z"
   },
   {
    "duration": 10,
    "start_time": "2022-02-07T15:50:55.389Z"
   },
   {
    "duration": 10,
    "start_time": "2022-02-07T15:50:57.560Z"
   },
   {
    "duration": 15,
    "start_time": "2022-02-07T15:51:04.186Z"
   },
   {
    "duration": 359,
    "start_time": "2022-02-07T15:52:18.112Z"
   },
   {
    "duration": 359,
    "start_time": "2022-02-07T15:53:09.766Z"
   },
   {
    "duration": 313,
    "start_time": "2022-02-07T15:54:51.781Z"
   },
   {
    "duration": 8732,
    "start_time": "2022-02-07T15:55:21.684Z"
   },
   {
    "duration": 10255,
    "start_time": "2022-02-07T15:55:41.774Z"
   },
   {
    "duration": 958,
    "start_time": "2022-02-07T15:55:54.981Z"
   },
   {
    "duration": 49,
    "start_time": "2022-02-07T15:55:55.940Z"
   },
   {
    "duration": 3,
    "start_time": "2022-02-07T15:55:55.991Z"
   },
   {
    "duration": 9,
    "start_time": "2022-02-07T15:55:55.996Z"
   },
   {
    "duration": 4,
    "start_time": "2022-02-07T15:55:56.006Z"
   },
   {
    "duration": 16,
    "start_time": "2022-02-07T15:55:56.011Z"
   },
   {
    "duration": 16,
    "start_time": "2022-02-07T15:55:56.029Z"
   },
   {
    "duration": 28,
    "start_time": "2022-02-07T15:55:56.048Z"
   },
   {
    "duration": 13,
    "start_time": "2022-02-07T15:55:56.078Z"
   },
   {
    "duration": 41,
    "start_time": "2022-02-07T15:55:56.093Z"
   },
   {
    "duration": 7,
    "start_time": "2022-02-07T15:55:56.136Z"
   },
   {
    "duration": 7,
    "start_time": "2022-02-07T15:55:56.144Z"
   },
   {
    "duration": 5,
    "start_time": "2022-02-07T15:55:56.152Z"
   },
   {
    "duration": 5,
    "start_time": "2022-02-07T15:55:56.159Z"
   },
   {
    "duration": 6,
    "start_time": "2022-02-07T15:55:56.166Z"
   },
   {
    "duration": 6,
    "start_time": "2022-02-07T15:55:56.174Z"
   },
   {
    "duration": 47,
    "start_time": "2022-02-07T15:55:56.181Z"
   },
   {
    "duration": 7,
    "start_time": "2022-02-07T15:55:56.229Z"
   },
   {
    "duration": 6,
    "start_time": "2022-02-07T15:55:56.238Z"
   },
   {
    "duration": 5,
    "start_time": "2022-02-07T15:55:56.246Z"
   },
   {
    "duration": 5,
    "start_time": "2022-02-07T15:55:56.252Z"
   },
   {
    "duration": 2,
    "start_time": "2022-02-07T15:55:56.258Z"
   },
   {
    "duration": 78,
    "start_time": "2022-02-07T15:55:56.263Z"
   },
   {
    "duration": 9,
    "start_time": "2022-02-07T15:55:56.343Z"
   },
   {
    "duration": 10,
    "start_time": "2022-02-07T15:55:56.354Z"
   },
   {
    "duration": 521,
    "start_time": "2022-02-07T15:55:56.365Z"
   },
   {
    "duration": -26,
    "start_time": "2022-02-07T15:55:56.914Z"
   },
   {
    "duration": -26,
    "start_time": "2022-02-07T15:55:56.915Z"
   },
   {
    "duration": -27,
    "start_time": "2022-02-07T15:55:56.917Z"
   },
   {
    "duration": -26,
    "start_time": "2022-02-07T15:55:56.918Z"
   },
   {
    "duration": -27,
    "start_time": "2022-02-07T15:55:56.920Z"
   },
   {
    "duration": -27,
    "start_time": "2022-02-07T15:55:56.921Z"
   },
   {
    "duration": -27,
    "start_time": "2022-02-07T15:55:56.922Z"
   },
   {
    "duration": -28,
    "start_time": "2022-02-07T15:55:56.924Z"
   },
   {
    "duration": -28,
    "start_time": "2022-02-07T15:55:56.925Z"
   },
   {
    "duration": -29,
    "start_time": "2022-02-07T15:55:56.927Z"
   },
   {
    "duration": 600,
    "start_time": "2022-02-07T16:00:15.970Z"
   },
   {
    "duration": 994,
    "start_time": "2022-02-07T16:00:41.285Z"
   },
   {
    "duration": 53,
    "start_time": "2022-02-07T16:00:42.281Z"
   },
   {
    "duration": 3,
    "start_time": "2022-02-07T16:00:42.336Z"
   },
   {
    "duration": 11,
    "start_time": "2022-02-07T16:00:42.340Z"
   },
   {
    "duration": 4,
    "start_time": "2022-02-07T16:00:42.353Z"
   },
   {
    "duration": 8,
    "start_time": "2022-02-07T16:00:42.359Z"
   },
   {
    "duration": 17,
    "start_time": "2022-02-07T16:00:42.369Z"
   },
   {
    "duration": 52,
    "start_time": "2022-02-07T16:00:42.388Z"
   },
   {
    "duration": 13,
    "start_time": "2022-02-07T16:00:42.442Z"
   },
   {
    "duration": 7,
    "start_time": "2022-02-07T16:00:42.456Z"
   },
   {
    "duration": 5,
    "start_time": "2022-02-07T16:00:42.464Z"
   },
   {
    "duration": 6,
    "start_time": "2022-02-07T16:00:42.471Z"
   },
   {
    "duration": 5,
    "start_time": "2022-02-07T16:00:42.478Z"
   },
   {
    "duration": 8,
    "start_time": "2022-02-07T16:00:42.484Z"
   },
   {
    "duration": 37,
    "start_time": "2022-02-07T16:00:42.493Z"
   },
   {
    "duration": 8,
    "start_time": "2022-02-07T16:00:42.531Z"
   },
   {
    "duration": 9,
    "start_time": "2022-02-07T16:00:42.541Z"
   },
   {
    "duration": 7,
    "start_time": "2022-02-07T16:00:42.552Z"
   },
   {
    "duration": 14,
    "start_time": "2022-02-07T16:00:42.561Z"
   },
   {
    "duration": 6,
    "start_time": "2022-02-07T16:00:42.577Z"
   },
   {
    "duration": 6,
    "start_time": "2022-02-07T16:00:42.585Z"
   },
   {
    "duration": 2,
    "start_time": "2022-02-07T16:00:42.593Z"
   },
   {
    "duration": 59,
    "start_time": "2022-02-07T16:00:42.599Z"
   },
   {
    "duration": 9,
    "start_time": "2022-02-07T16:00:42.660Z"
   },
   {
    "duration": 434,
    "start_time": "2022-02-07T16:00:42.671Z"
   },
   {
    "duration": -124,
    "start_time": "2022-02-07T16:00:43.231Z"
   },
   {
    "duration": -125,
    "start_time": "2022-02-07T16:00:43.233Z"
   },
   {
    "duration": -126,
    "start_time": "2022-02-07T16:00:43.235Z"
   },
   {
    "duration": -127,
    "start_time": "2022-02-07T16:00:43.236Z"
   },
   {
    "duration": -132,
    "start_time": "2022-02-07T16:00:43.242Z"
   },
   {
    "duration": -133,
    "start_time": "2022-02-07T16:00:43.244Z"
   },
   {
    "duration": -133,
    "start_time": "2022-02-07T16:00:43.245Z"
   },
   {
    "duration": -134,
    "start_time": "2022-02-07T16:00:43.247Z"
   },
   {
    "duration": -134,
    "start_time": "2022-02-07T16:00:43.248Z"
   },
   {
    "duration": -135,
    "start_time": "2022-02-07T16:00:43.249Z"
   },
   {
    "duration": -135,
    "start_time": "2022-02-07T16:00:43.250Z"
   },
   {
    "duration": 7769,
    "start_time": "2022-02-07T16:01:32.424Z"
   },
   {
    "duration": 1087,
    "start_time": "2022-02-07T16:01:50.155Z"
   },
   {
    "duration": 49,
    "start_time": "2022-02-07T16:01:51.244Z"
   },
   {
    "duration": 3,
    "start_time": "2022-02-07T16:01:51.295Z"
   },
   {
    "duration": 12,
    "start_time": "2022-02-07T16:01:51.300Z"
   },
   {
    "duration": 13,
    "start_time": "2022-02-07T16:01:51.314Z"
   },
   {
    "duration": 7,
    "start_time": "2022-02-07T16:01:51.329Z"
   },
   {
    "duration": 16,
    "start_time": "2022-02-07T16:01:51.338Z"
   },
   {
    "duration": 30,
    "start_time": "2022-02-07T16:01:51.357Z"
   },
   {
    "duration": 38,
    "start_time": "2022-02-07T16:01:51.390Z"
   },
   {
    "duration": 6,
    "start_time": "2022-02-07T16:01:51.430Z"
   },
   {
    "duration": 9,
    "start_time": "2022-02-07T16:01:51.438Z"
   },
   {
    "duration": 6,
    "start_time": "2022-02-07T16:01:51.449Z"
   },
   {
    "duration": 13,
    "start_time": "2022-02-07T16:01:51.456Z"
   },
   {
    "duration": 8,
    "start_time": "2022-02-07T16:01:51.471Z"
   },
   {
    "duration": 16,
    "start_time": "2022-02-07T16:01:51.481Z"
   },
   {
    "duration": 19,
    "start_time": "2022-02-07T16:01:51.498Z"
   },
   {
    "duration": 10,
    "start_time": "2022-02-07T16:01:51.519Z"
   },
   {
    "duration": 19,
    "start_time": "2022-02-07T16:01:51.531Z"
   },
   {
    "duration": 6,
    "start_time": "2022-02-07T16:01:51.552Z"
   },
   {
    "duration": 10,
    "start_time": "2022-02-07T16:01:51.559Z"
   },
   {
    "duration": 15,
    "start_time": "2022-02-07T16:01:51.571Z"
   },
   {
    "duration": 5,
    "start_time": "2022-02-07T16:01:51.587Z"
   },
   {
    "duration": 38,
    "start_time": "2022-02-07T16:01:51.596Z"
   },
   {
    "duration": 9,
    "start_time": "2022-02-07T16:01:51.636Z"
   },
   {
    "duration": 385,
    "start_time": "2022-02-07T16:01:51.647Z"
   },
   {
    "duration": -37,
    "start_time": "2022-02-07T16:01:52.071Z"
   },
   {
    "duration": -141,
    "start_time": "2022-02-07T16:01:52.176Z"
   },
   {
    "duration": -142,
    "start_time": "2022-02-07T16:01:52.178Z"
   },
   {
    "duration": -143,
    "start_time": "2022-02-07T16:01:52.180Z"
   },
   {
    "duration": -143,
    "start_time": "2022-02-07T16:01:52.181Z"
   },
   {
    "duration": -144,
    "start_time": "2022-02-07T16:01:52.183Z"
   },
   {
    "duration": -145,
    "start_time": "2022-02-07T16:01:52.185Z"
   },
   {
    "duration": -146,
    "start_time": "2022-02-07T16:01:52.187Z"
   },
   {
    "duration": -146,
    "start_time": "2022-02-07T16:01:52.188Z"
   },
   {
    "duration": -147,
    "start_time": "2022-02-07T16:01:52.190Z"
   },
   {
    "duration": -147,
    "start_time": "2022-02-07T16:01:52.191Z"
   },
   {
    "duration": 11,
    "start_time": "2022-02-07T16:13:20.702Z"
   },
   {
    "duration": 995,
    "start_time": "2022-02-07T16:13:25.746Z"
   },
   {
    "duration": 179,
    "start_time": "2022-02-07T16:13:26.743Z"
   },
   {
    "duration": 3,
    "start_time": "2022-02-07T16:13:26.924Z"
   },
   {
    "duration": 10,
    "start_time": "2022-02-07T16:13:26.929Z"
   },
   {
    "duration": 4,
    "start_time": "2022-02-07T16:13:26.940Z"
   },
   {
    "duration": 8,
    "start_time": "2022-02-07T16:13:26.946Z"
   },
   {
    "duration": 14,
    "start_time": "2022-02-07T16:13:26.955Z"
   },
   {
    "duration": 26,
    "start_time": "2022-02-07T16:13:26.971Z"
   },
   {
    "duration": 33,
    "start_time": "2022-02-07T16:13:27.000Z"
   },
   {
    "duration": 9,
    "start_time": "2022-02-07T16:13:27.035Z"
   },
   {
    "duration": 6,
    "start_time": "2022-02-07T16:13:27.045Z"
   },
   {
    "duration": 5,
    "start_time": "2022-02-07T16:13:27.052Z"
   },
   {
    "duration": 5,
    "start_time": "2022-02-07T16:13:27.059Z"
   },
   {
    "duration": 5,
    "start_time": "2022-02-07T16:13:27.065Z"
   },
   {
    "duration": 5,
    "start_time": "2022-02-07T16:13:27.072Z"
   },
   {
    "duration": 4,
    "start_time": "2022-02-07T16:13:27.078Z"
   },
   {
    "duration": 45,
    "start_time": "2022-02-07T16:13:27.084Z"
   },
   {
    "duration": 7,
    "start_time": "2022-02-07T16:13:27.130Z"
   },
   {
    "duration": 7,
    "start_time": "2022-02-07T16:13:27.138Z"
   },
   {
    "duration": 6,
    "start_time": "2022-02-07T16:13:27.146Z"
   },
   {
    "duration": 6,
    "start_time": "2022-02-07T16:13:27.154Z"
   },
   {
    "duration": 65,
    "start_time": "2022-02-07T16:13:27.162Z"
   },
   {
    "duration": 10,
    "start_time": "2022-02-07T16:13:27.229Z"
   },
   {
    "duration": 13,
    "start_time": "2022-02-07T16:13:27.240Z"
   },
   {
    "duration": 53,
    "start_time": "2022-02-07T16:13:27.254Z"
   },
   {
    "duration": 270,
    "start_time": "2022-02-07T16:13:27.308Z"
   },
   {
    "duration": 252,
    "start_time": "2022-02-07T16:13:27.581Z"
   },
   {
    "duration": 301,
    "start_time": "2022-02-07T16:13:27.835Z"
   },
   {
    "duration": 50,
    "start_time": "2022-02-07T16:13:28.137Z"
   },
   {
    "duration": 2485,
    "start_time": "2022-02-07T16:13:28.188Z"
   },
   {
    "duration": 4169,
    "start_time": "2022-02-07T16:13:30.674Z"
   },
   {
    "duration": 4233,
    "start_time": "2022-02-07T16:13:34.844Z"
   },
   {
    "duration": 3690,
    "start_time": "2022-02-07T16:13:39.079Z"
   },
   {
    "duration": 15,
    "start_time": "2022-02-07T16:13:42.771Z"
   },
   {
    "duration": 140,
    "start_time": "2022-02-07T16:13:42.788Z"
   },
   {
    "duration": 6,
    "start_time": "2022-02-07T16:15:31.656Z"
   },
   {
    "duration": 4,
    "start_time": "2022-02-07T16:15:59.031Z"
   },
   {
    "duration": 9,
    "start_time": "2022-02-07T16:17:06.225Z"
   },
   {
    "duration": 9,
    "start_time": "2022-02-07T16:19:53.870Z"
   },
   {
    "duration": 9,
    "start_time": "2022-02-07T16:19:54.835Z"
   },
   {
    "duration": 11,
    "start_time": "2022-02-07T16:20:01.031Z"
   },
   {
    "duration": 8,
    "start_time": "2022-02-07T16:20:04.437Z"
   },
   {
    "duration": 8,
    "start_time": "2022-02-07T16:20:05.661Z"
   },
   {
    "duration": 4,
    "start_time": "2022-02-07T16:21:02.294Z"
   },
   {
    "duration": 14,
    "start_time": "2022-02-07T16:21:48.478Z"
   },
   {
    "duration": 4,
    "start_time": "2022-02-07T16:21:49.795Z"
   },
   {
    "duration": 9,
    "start_time": "2022-02-07T16:21:50.491Z"
   },
   {
    "duration": 9,
    "start_time": "2022-02-07T16:21:55.447Z"
   },
   {
    "duration": 9,
    "start_time": "2022-02-07T16:22:01.371Z"
   },
   {
    "duration": 8,
    "start_time": "2022-02-07T16:22:03.532Z"
   },
   {
    "duration": 8,
    "start_time": "2022-02-07T16:22:05.695Z"
   },
   {
    "duration": 10,
    "start_time": "2022-02-07T16:22:06.643Z"
   },
   {
    "duration": 20,
    "start_time": "2022-02-07T16:25:27.563Z"
   },
   {
    "duration": 9,
    "start_time": "2022-02-07T16:25:28.859Z"
   },
   {
    "duration": 8,
    "start_time": "2022-02-07T16:26:17.500Z"
   },
   {
    "duration": 9,
    "start_time": "2022-02-07T16:27:20.265Z"
   },
   {
    "duration": 9,
    "start_time": "2022-02-07T16:27:29.268Z"
   },
   {
    "duration": 18,
    "start_time": "2022-02-07T16:27:36.947Z"
   },
   {
    "duration": 9,
    "start_time": "2022-02-07T16:27:40.698Z"
   },
   {
    "duration": 8,
    "start_time": "2022-02-07T16:27:43.983Z"
   },
   {
    "duration": 10,
    "start_time": "2022-02-07T16:39:13.777Z"
   },
   {
    "duration": 9,
    "start_time": "2022-02-07T16:39:14.514Z"
   },
   {
    "duration": 8,
    "start_time": "2022-02-07T16:39:24.481Z"
   },
   {
    "duration": 9,
    "start_time": "2022-02-07T16:39:28.126Z"
   },
   {
    "duration": 33,
    "start_time": "2022-02-07T16:41:02.941Z"
   },
   {
    "duration": 159,
    "start_time": "2022-02-07T16:41:05.839Z"
   },
   {
    "duration": 183,
    "start_time": "2022-02-07T16:41:12.914Z"
   },
   {
    "duration": 389,
    "start_time": "2022-02-07T16:41:22.508Z"
   },
   {
    "duration": 29,
    "start_time": "2022-02-07T16:41:58.570Z"
   },
   {
    "duration": 36,
    "start_time": "2022-02-07T16:44:34.367Z"
   },
   {
    "duration": 1553,
    "start_time": "2022-02-07T16:46:02.297Z"
   },
   {
    "duration": 574,
    "start_time": "2022-02-07T16:46:22.084Z"
   },
   {
    "duration": 574,
    "start_time": "2022-02-07T16:46:48.918Z"
   },
   {
    "duration": 2345,
    "start_time": "2022-02-07T16:47:05.975Z"
   },
   {
    "duration": 2143,
    "start_time": "2022-02-07T16:47:36.329Z"
   },
   {
    "duration": 139,
    "start_time": "2022-02-07T16:48:40.577Z"
   },
   {
    "duration": 527,
    "start_time": "2022-02-07T16:49:31.305Z"
   },
   {
    "duration": 587,
    "start_time": "2022-02-07T16:50:04.692Z"
   },
   {
    "duration": 41,
    "start_time": "2022-02-07T16:50:45.276Z"
   },
   {
    "duration": 407,
    "start_time": "2022-02-07T16:52:57.996Z"
   },
   {
    "duration": 613,
    "start_time": "2022-02-07T16:53:19.359Z"
   },
   {
    "duration": 526,
    "start_time": "2022-02-07T16:54:11.177Z"
   },
   {
    "duration": 38,
    "start_time": "2022-02-07T16:54:26.843Z"
   },
   {
    "duration": 94,
    "start_time": "2022-02-07T16:54:57.536Z"
   },
   {
    "duration": 37,
    "start_time": "2022-02-07T16:59:51.870Z"
   },
   {
    "duration": 981,
    "start_time": "2022-02-07T17:02:41.654Z"
   },
   {
    "duration": 388,
    "start_time": "2022-02-07T17:02:42.637Z"
   },
   {
    "duration": 4,
    "start_time": "2022-02-07T17:02:43.028Z"
   },
   {
    "duration": 8,
    "start_time": "2022-02-07T17:02:43.034Z"
   },
   {
    "duration": 5,
    "start_time": "2022-02-07T17:02:43.043Z"
   },
   {
    "duration": 8,
    "start_time": "2022-02-07T17:02:43.049Z"
   },
   {
    "duration": 16,
    "start_time": "2022-02-07T17:02:43.059Z"
   },
   {
    "duration": 56,
    "start_time": "2022-02-07T17:02:43.078Z"
   },
   {
    "duration": 13,
    "start_time": "2022-02-07T17:02:43.136Z"
   },
   {
    "duration": 10,
    "start_time": "2022-02-07T17:02:43.150Z"
   },
   {
    "duration": 6,
    "start_time": "2022-02-07T17:02:43.161Z"
   },
   {
    "duration": 6,
    "start_time": "2022-02-07T17:02:43.168Z"
   },
   {
    "duration": 5,
    "start_time": "2022-02-07T17:02:43.176Z"
   },
   {
    "duration": 5,
    "start_time": "2022-02-07T17:02:43.182Z"
   },
   {
    "duration": 5,
    "start_time": "2022-02-07T17:02:43.188Z"
   },
   {
    "duration": 5,
    "start_time": "2022-02-07T17:02:43.227Z"
   },
   {
    "duration": 5,
    "start_time": "2022-02-07T17:02:43.234Z"
   },
   {
    "duration": 6,
    "start_time": "2022-02-07T17:02:43.240Z"
   },
   {
    "duration": 5,
    "start_time": "2022-02-07T17:02:43.247Z"
   },
   {
    "duration": 5,
    "start_time": "2022-02-07T17:02:43.253Z"
   },
   {
    "duration": 7,
    "start_time": "2022-02-07T17:02:43.260Z"
   },
   {
    "duration": 64,
    "start_time": "2022-02-07T17:02:43.268Z"
   },
   {
    "duration": 14,
    "start_time": "2022-02-07T17:02:43.335Z"
   },
   {
    "duration": 7,
    "start_time": "2022-02-07T17:02:43.351Z"
   },
   {
    "duration": 10,
    "start_time": "2022-02-07T17:02:43.360Z"
   },
   {
    "duration": 7,
    "start_time": "2022-02-07T17:02:43.371Z"
   },
   {
    "duration": 7,
    "start_time": "2022-02-07T17:02:43.380Z"
   },
   {
    "duration": 42,
    "start_time": "2022-02-07T17:02:43.388Z"
   },
   {
    "duration": 8,
    "start_time": "2022-02-07T17:02:43.432Z"
   },
   {
    "duration": 11,
    "start_time": "2022-02-07T17:02:43.441Z"
   },
   {
    "duration": 4,
    "start_time": "2022-02-07T17:02:43.453Z"
   },
   {
    "duration": 10,
    "start_time": "2022-02-07T17:02:43.458Z"
   },
   {
    "duration": 8,
    "start_time": "2022-02-07T17:02:43.469Z"
   },
   {
    "duration": 8,
    "start_time": "2022-02-07T17:02:43.478Z"
   },
   {
    "duration": 46,
    "start_time": "2022-02-07T17:02:43.487Z"
   },
   {
    "duration": 8,
    "start_time": "2022-02-07T17:02:43.534Z"
   },
   {
    "duration": 7,
    "start_time": "2022-02-07T17:02:43.543Z"
   },
   {
    "duration": 23,
    "start_time": "2022-02-07T17:02:43.552Z"
   },
   {
    "duration": 8,
    "start_time": "2022-02-07T17:02:43.576Z"
   },
   {
    "duration": 10,
    "start_time": "2022-02-07T17:02:43.586Z"
   },
   {
    "duration": 7,
    "start_time": "2022-02-07T17:02:43.628Z"
   },
   {
    "duration": 6,
    "start_time": "2022-02-07T17:02:43.637Z"
   },
   {
    "duration": 7,
    "start_time": "2022-02-07T17:02:43.645Z"
   },
   {
    "duration": 7,
    "start_time": "2022-02-07T17:02:43.654Z"
   },
   {
    "duration": 64,
    "start_time": "2022-02-07T17:02:43.663Z"
   },
   {
    "duration": 168,
    "start_time": "2022-02-07T17:02:43.728Z"
   },
   {
    "duration": 199,
    "start_time": "2022-02-07T17:02:43.897Z"
   },
   {
    "duration": 387,
    "start_time": "2022-02-07T17:02:44.097Z"
   },
   {
    "duration": 28,
    "start_time": "2022-02-07T17:02:44.485Z"
   },
   {
    "duration": 45,
    "start_time": "2022-02-07T17:02:44.514Z"
   },
   {
    "duration": 1494,
    "start_time": "2022-02-07T17:02:44.560Z"
   },
   {
    "duration": 580,
    "start_time": "2022-02-07T17:02:46.055Z"
   },
   {
    "duration": 554,
    "start_time": "2022-02-07T17:02:46.637Z"
   },
   {
    "duration": 515,
    "start_time": "2022-02-07T17:02:47.192Z"
   },
   {
    "duration": 51,
    "start_time": "2022-02-07T17:02:47.709Z"
   },
   {
    "duration": 70,
    "start_time": "2022-02-07T17:02:47.762Z"
   },
   {
    "duration": 135,
    "start_time": "2022-02-07T17:02:47.834Z"
   },
   {
    "duration": 34,
    "start_time": "2022-02-07T17:05:49.671Z"
   },
   {
    "duration": 35,
    "start_time": "2022-02-07T17:06:10.474Z"
   },
   {
    "duration": 160,
    "start_time": "2022-02-07T17:06:14.433Z"
   },
   {
    "duration": 1029,
    "start_time": "2022-02-07T17:06:23.518Z"
   },
   {
    "duration": 57,
    "start_time": "2022-02-07T17:06:24.549Z"
   },
   {
    "duration": 3,
    "start_time": "2022-02-07T17:06:24.610Z"
   },
   {
    "duration": 12,
    "start_time": "2022-02-07T17:06:24.614Z"
   },
   {
    "duration": 14,
    "start_time": "2022-02-07T17:06:24.627Z"
   },
   {
    "duration": 20,
    "start_time": "2022-02-07T17:06:24.643Z"
   },
   {
    "duration": 15,
    "start_time": "2022-02-07T17:06:24.665Z"
   },
   {
    "duration": 28,
    "start_time": "2022-02-07T17:06:24.682Z"
   },
   {
    "duration": 8,
    "start_time": "2022-02-07T17:06:24.712Z"
   },
   {
    "duration": 11,
    "start_time": "2022-02-07T17:06:24.722Z"
   },
   {
    "duration": 10,
    "start_time": "2022-02-07T17:06:24.734Z"
   },
   {
    "duration": 13,
    "start_time": "2022-02-07T17:06:24.745Z"
   },
   {
    "duration": 13,
    "start_time": "2022-02-07T17:06:24.759Z"
   },
   {
    "duration": 7,
    "start_time": "2022-02-07T17:06:24.773Z"
   },
   {
    "duration": 5,
    "start_time": "2022-02-07T17:06:24.781Z"
   },
   {
    "duration": 8,
    "start_time": "2022-02-07T17:06:24.788Z"
   },
   {
    "duration": 7,
    "start_time": "2022-02-07T17:06:24.797Z"
   },
   {
    "duration": 4,
    "start_time": "2022-02-07T17:06:24.806Z"
   },
   {
    "duration": 18,
    "start_time": "2022-02-07T17:06:24.812Z"
   },
   {
    "duration": 5,
    "start_time": "2022-02-07T17:06:24.831Z"
   },
   {
    "duration": 33,
    "start_time": "2022-02-07T17:06:24.838Z"
   },
   {
    "duration": 13,
    "start_time": "2022-02-07T17:06:24.875Z"
   },
   {
    "duration": 38,
    "start_time": "2022-02-07T17:06:24.890Z"
   },
   {
    "duration": 7,
    "start_time": "2022-02-07T17:06:24.929Z"
   },
   {
    "duration": 7,
    "start_time": "2022-02-07T17:06:24.938Z"
   },
   {
    "duration": 11,
    "start_time": "2022-02-07T17:06:24.946Z"
   },
   {
    "duration": 8,
    "start_time": "2022-02-07T17:06:24.958Z"
   },
   {
    "duration": 7,
    "start_time": "2022-02-07T17:06:24.967Z"
   },
   {
    "duration": 12,
    "start_time": "2022-02-07T17:06:24.976Z"
   },
   {
    "duration": 4,
    "start_time": "2022-02-07T17:06:25.028Z"
   },
   {
    "duration": 10,
    "start_time": "2022-02-07T17:06:25.034Z"
   },
   {
    "duration": 9,
    "start_time": "2022-02-07T17:06:25.046Z"
   },
   {
    "duration": 10,
    "start_time": "2022-02-07T17:06:25.056Z"
   },
   {
    "duration": 7,
    "start_time": "2022-02-07T17:06:25.067Z"
   },
   {
    "duration": 52,
    "start_time": "2022-02-07T17:06:25.075Z"
   },
   {
    "duration": 8,
    "start_time": "2022-02-07T17:06:25.129Z"
   },
   {
    "duration": 30,
    "start_time": "2022-02-07T17:06:25.138Z"
   },
   {
    "duration": 10,
    "start_time": "2022-02-07T17:06:25.169Z"
   },
   {
    "duration": 23,
    "start_time": "2022-02-07T17:06:25.180Z"
   },
   {
    "duration": 28,
    "start_time": "2022-02-07T17:06:25.205Z"
   },
   {
    "duration": 18,
    "start_time": "2022-02-07T17:06:25.235Z"
   },
   {
    "duration": 15,
    "start_time": "2022-02-07T17:06:25.254Z"
   },
   {
    "duration": 30,
    "start_time": "2022-02-07T17:06:25.270Z"
   },
   {
    "duration": 51,
    "start_time": "2022-02-07T17:06:25.302Z"
   },
   {
    "duration": 161,
    "start_time": "2022-02-07T17:06:25.354Z"
   },
   {
    "duration": 199,
    "start_time": "2022-02-07T17:06:25.516Z"
   },
   {
    "duration": 382,
    "start_time": "2022-02-07T17:06:25.717Z"
   },
   {
    "duration": 33,
    "start_time": "2022-02-07T17:06:26.100Z"
   },
   {
    "duration": 33,
    "start_time": "2022-02-07T17:06:26.134Z"
   },
   {
    "duration": 1576,
    "start_time": "2022-02-07T17:06:26.169Z"
   },
   {
    "duration": 811,
    "start_time": "2022-02-07T17:06:27.747Z"
   },
   {
    "duration": 567,
    "start_time": "2022-02-07T17:06:28.560Z"
   },
   {
    "duration": 536,
    "start_time": "2022-02-07T17:06:29.128Z"
   },
   {
    "duration": 37,
    "start_time": "2022-02-07T17:06:29.665Z"
   },
   {
    "duration": 49,
    "start_time": "2022-02-07T17:06:29.703Z"
   },
   {
    "duration": 200,
    "start_time": "2022-02-07T17:06:29.754Z"
   },
   {
    "duration": 187,
    "start_time": "2022-02-07T17:06:35.558Z"
   },
   {
    "duration": 360,
    "start_time": "2022-02-07T17:06:41.951Z"
   },
   {
    "duration": 543,
    "start_time": "2022-02-07T17:07:31.881Z"
   },
   {
    "duration": 508,
    "start_time": "2022-02-07T17:07:40.549Z"
   },
   {
    "duration": 38,
    "start_time": "2022-02-07T17:07:52.594Z"
   },
   {
    "duration": 538,
    "start_time": "2022-02-07T17:08:11.142Z"
   },
   {
    "duration": 609,
    "start_time": "2022-02-07T17:08:12.868Z"
   },
   {
    "duration": 39,
    "start_time": "2022-02-07T17:08:29.717Z"
   },
   {
    "duration": 37,
    "start_time": "2022-02-07T17:08:52.171Z"
   },
   {
    "duration": 76,
    "start_time": "2022-02-07T17:26:57.952Z"
   },
   {
    "duration": 19888,
    "start_time": "2022-02-07T17:30:16.870Z"
   },
   {
    "duration": 86,
    "start_time": "2022-02-07T17:32:01.545Z"
   },
   {
    "duration": 61,
    "start_time": "2022-02-07T17:32:16.677Z"
   },
   {
    "duration": 1034,
    "start_time": "2022-02-08T06:25:22.153Z"
   },
   {
    "duration": 56,
    "start_time": "2022-02-08T06:25:23.189Z"
   },
   {
    "duration": 4,
    "start_time": "2022-02-08T06:26:09.664Z"
   },
   {
    "duration": 9,
    "start_time": "2022-02-08T06:26:10.261Z"
   },
   {
    "duration": 7,
    "start_time": "2022-02-08T06:26:51.403Z"
   },
   {
    "duration": 4,
    "start_time": "2022-02-08T06:26:55.655Z"
   },
   {
    "duration": 8,
    "start_time": "2022-02-08T06:26:57.638Z"
   },
   {
    "duration": 18,
    "start_time": "2022-02-08T06:27:01.503Z"
   },
   {
    "duration": 36,
    "start_time": "2022-02-08T06:27:04.627Z"
   },
   {
    "duration": 8,
    "start_time": "2022-02-08T06:28:54.115Z"
   },
   {
    "duration": 7,
    "start_time": "2022-02-08T06:28:55.029Z"
   },
   {
    "duration": 7,
    "start_time": "2022-02-08T06:28:55.536Z"
   },
   {
    "duration": 7,
    "start_time": "2022-02-08T06:28:56.119Z"
   },
   {
    "duration": 7,
    "start_time": "2022-02-08T06:28:56.725Z"
   },
   {
    "duration": 6,
    "start_time": "2022-02-08T06:28:57.303Z"
   },
   {
    "duration": 7,
    "start_time": "2022-02-08T06:28:57.969Z"
   },
   {
    "duration": 6,
    "start_time": "2022-02-08T06:28:58.628Z"
   },
   {
    "duration": 8,
    "start_time": "2022-02-08T06:28:59.284Z"
   },
   {
    "duration": 6,
    "start_time": "2022-02-08T06:28:59.780Z"
   },
   {
    "duration": 6,
    "start_time": "2022-02-08T06:29:00.727Z"
   },
   {
    "duration": 6,
    "start_time": "2022-02-08T06:29:00.957Z"
   },
   {
    "duration": 34,
    "start_time": "2022-02-08T06:29:12.387Z"
   },
   {
    "duration": 15,
    "start_time": "2022-02-08T06:30:58.320Z"
   },
   {
    "duration": 9,
    "start_time": "2022-02-08T06:31:18.659Z"
   },
   {
    "duration": 9,
    "start_time": "2022-02-08T06:31:19.331Z"
   },
   {
    "duration": 9,
    "start_time": "2022-02-08T06:31:19.739Z"
   },
   {
    "duration": 9,
    "start_time": "2022-02-08T06:31:19.938Z"
   },
   {
    "duration": 9,
    "start_time": "2022-02-08T06:31:20.536Z"
   },
   {
    "duration": 10,
    "start_time": "2022-02-08T06:31:21.120Z"
   },
   {
    "duration": 13,
    "start_time": "2022-02-08T06:31:25.113Z"
   },
   {
    "duration": 4,
    "start_time": "2022-02-08T06:31:26.205Z"
   },
   {
    "duration": 10,
    "start_time": "2022-02-08T06:31:26.775Z"
   },
   {
    "duration": 10,
    "start_time": "2022-02-08T06:31:27.466Z"
   },
   {
    "duration": 10,
    "start_time": "2022-02-08T06:31:28.244Z"
   },
   {
    "duration": 11,
    "start_time": "2022-02-08T06:31:28.786Z"
   },
   {
    "duration": 9,
    "start_time": "2022-02-08T06:31:29.374Z"
   },
   {
    "duration": 10,
    "start_time": "2022-02-08T06:31:30.035Z"
   },
   {
    "duration": 21,
    "start_time": "2022-02-08T06:32:54.543Z"
   },
   {
    "duration": 9,
    "start_time": "2022-02-08T06:32:54.796Z"
   },
   {
    "duration": 10,
    "start_time": "2022-02-08T06:32:55.003Z"
   },
   {
    "duration": 8,
    "start_time": "2022-02-08T06:32:55.176Z"
   },
   {
    "duration": 9,
    "start_time": "2022-02-08T06:32:55.348Z"
   },
   {
    "duration": 9,
    "start_time": "2022-02-08T06:32:55.547Z"
   },
   {
    "duration": 9,
    "start_time": "2022-02-08T06:32:55.747Z"
   },
   {
    "duration": 36,
    "start_time": "2022-02-08T06:34:55.433Z"
   },
   {
    "duration": 165,
    "start_time": "2022-02-08T06:34:57.599Z"
   },
   {
    "duration": 181,
    "start_time": "2022-02-08T06:34:58.564Z"
   },
   {
    "duration": 404,
    "start_time": "2022-02-08T06:35:00.760Z"
   },
   {
    "duration": 29,
    "start_time": "2022-02-08T06:35:03.591Z"
   },
   {
    "duration": 36,
    "start_time": "2022-02-08T06:35:07.685Z"
   },
   {
    "duration": 1585,
    "start_time": "2022-02-08T06:35:08.637Z"
   },
   {
    "duration": 591,
    "start_time": "2022-02-08T06:35:10.224Z"
   },
   {
    "duration": 591,
    "start_time": "2022-02-08T06:35:10.817Z"
   },
   {
    "duration": 41,
    "start_time": "2022-02-08T06:35:12.077Z"
   },
   {
    "duration": 129,
    "start_time": "2022-02-08T06:35:18.230Z"
   },
   {
    "duration": 52,
    "start_time": "2022-02-08T06:35:19.514Z"
   },
   {
    "duration": 42,
    "start_time": "2022-02-08T06:35:22.070Z"
   },
   {
    "duration": 15,
    "start_time": "2022-02-08T06:35:58.385Z"
   },
   {
    "duration": 568,
    "start_time": "2022-02-08T06:39:36.351Z"
   },
   {
    "duration": 384,
    "start_time": "2022-02-08T06:42:05.964Z"
   },
   {
    "duration": 4633,
    "start_time": "2022-02-08T06:42:24.233Z"
   },
   {
    "duration": 20,
    "start_time": "2022-02-08T06:44:19.627Z"
   },
   {
    "duration": 17,
    "start_time": "2022-02-08T06:44:28.715Z"
   },
   {
    "duration": 13,
    "start_time": "2022-02-08T06:44:41.179Z"
   },
   {
    "duration": 15,
    "start_time": "2022-02-08T06:44:41.885Z"
   },
   {
    "duration": 39,
    "start_time": "2022-02-08T06:44:59.234Z"
   },
   {
    "duration": 179,
    "start_time": "2022-02-08T06:45:00.859Z"
   },
   {
    "duration": 39,
    "start_time": "2022-02-08T06:45:10.215Z"
   },
   {
    "duration": 565,
    "start_time": "2022-02-08T06:45:13.640Z"
   },
   {
    "duration": 39,
    "start_time": "2022-02-08T06:45:26.855Z"
   },
   {
    "duration": 263,
    "start_time": "2022-02-08T07:20:34.085Z"
   },
   {
    "duration": 731,
    "start_time": "2022-02-08T07:20:59.252Z"
   },
   {
    "duration": 237,
    "start_time": "2022-02-08T07:21:17.628Z"
   },
   {
    "duration": 781,
    "start_time": "2022-02-08T07:21:32.280Z"
   },
   {
    "duration": 16,
    "start_time": "2022-02-08T07:22:36.977Z"
   },
   {
    "duration": 15,
    "start_time": "2022-02-08T07:22:37.660Z"
   },
   {
    "duration": 4,
    "start_time": "2022-02-08T07:27:46.860Z"
   },
   {
    "duration": 4,
    "start_time": "2022-02-08T07:28:58.537Z"
   },
   {
    "duration": 334,
    "start_time": "2022-02-08T07:28:59.404Z"
   },
   {
    "duration": 7,
    "start_time": "2022-02-08T07:30:04.369Z"
   },
   {
    "duration": 443,
    "start_time": "2022-02-08T07:30:04.992Z"
   },
   {
    "duration": 4,
    "start_time": "2022-02-08T07:30:38.842Z"
   },
   {
    "duration": 456,
    "start_time": "2022-02-08T07:30:39.554Z"
   },
   {
    "duration": 7,
    "start_time": "2022-02-08T07:30:53.196Z"
   },
   {
    "duration": 449,
    "start_time": "2022-02-08T07:30:55.000Z"
   },
   {
    "duration": 5,
    "start_time": "2022-02-08T07:31:18.187Z"
   },
   {
    "duration": 21538,
    "start_time": "2022-02-08T07:31:19.140Z"
   },
   {
    "duration": 46,
    "start_time": "2022-02-08T07:37:13.574Z"
   },
   {
    "duration": 4,
    "start_time": "2022-02-08T07:37:16.261Z"
   },
   {
    "duration": 9,
    "start_time": "2022-02-08T07:37:16.887Z"
   },
   {
    "duration": 5,
    "start_time": "2022-02-08T07:37:19.567Z"
   },
   {
    "duration": 8,
    "start_time": "2022-02-08T07:37:23.493Z"
   },
   {
    "duration": 17,
    "start_time": "2022-02-08T07:37:24.102Z"
   },
   {
    "duration": 48,
    "start_time": "2022-02-08T07:37:31.795Z"
   },
   {
    "duration": 4,
    "start_time": "2022-02-08T07:37:32.698Z"
   },
   {
    "duration": 7,
    "start_time": "2022-02-08T07:37:32.883Z"
   },
   {
    "duration": 4,
    "start_time": "2022-02-08T07:37:33.749Z"
   },
   {
    "duration": 7,
    "start_time": "2022-02-08T07:37:35.116Z"
   },
   {
    "duration": 35,
    "start_time": "2022-02-08T07:37:39.259Z"
   },
   {
    "duration": 6,
    "start_time": "2022-02-08T07:37:41.140Z"
   },
   {
    "duration": 6,
    "start_time": "2022-02-08T07:37:45.162Z"
   },
   {
    "duration": 7,
    "start_time": "2022-02-08T07:37:45.747Z"
   },
   {
    "duration": 7,
    "start_time": "2022-02-08T07:37:46.362Z"
   },
   {
    "duration": 7,
    "start_time": "2022-02-08T07:37:47.010Z"
   },
   {
    "duration": 6,
    "start_time": "2022-02-08T07:37:47.674Z"
   },
   {
    "duration": 7,
    "start_time": "2022-02-08T07:37:47.895Z"
   },
   {
    "duration": 6,
    "start_time": "2022-02-08T07:37:48.094Z"
   },
   {
    "duration": 7,
    "start_time": "2022-02-08T07:37:48.719Z"
   },
   {
    "duration": 6,
    "start_time": "2022-02-08T07:37:49.234Z"
   },
   {
    "duration": 7,
    "start_time": "2022-02-08T07:37:49.800Z"
   },
   {
    "duration": 7,
    "start_time": "2022-02-08T07:37:50.321Z"
   },
   {
    "duration": 35,
    "start_time": "2022-02-08T07:37:52.476Z"
   },
   {
    "duration": 17,
    "start_time": "2022-02-08T07:37:58.494Z"
   },
   {
    "duration": 11,
    "start_time": "2022-02-08T07:38:01.624Z"
   },
   {
    "duration": 9,
    "start_time": "2022-02-08T07:38:02.320Z"
   },
   {
    "duration": 9,
    "start_time": "2022-02-08T07:38:02.518Z"
   },
   {
    "duration": 11,
    "start_time": "2022-02-08T07:38:02.928Z"
   },
   {
    "duration": 10,
    "start_time": "2022-02-08T07:38:03.122Z"
   },
   {
    "duration": 9,
    "start_time": "2022-02-08T07:38:03.568Z"
   },
   {
    "duration": 13,
    "start_time": "2022-02-08T07:38:04.651Z"
   },
   {
    "duration": 4,
    "start_time": "2022-02-08T07:38:05.204Z"
   },
   {
    "duration": 10,
    "start_time": "2022-02-08T07:38:05.506Z"
   },
   {
    "duration": 10,
    "start_time": "2022-02-08T07:38:05.744Z"
   },
   {
    "duration": 10,
    "start_time": "2022-02-08T07:38:06.277Z"
   },
   {
    "duration": 10,
    "start_time": "2022-02-08T07:38:06.987Z"
   },
   {
    "duration": 9,
    "start_time": "2022-02-08T07:38:07.570Z"
   },
   {
    "duration": 10,
    "start_time": "2022-02-08T07:38:08.137Z"
   },
   {
    "duration": 27,
    "start_time": "2022-02-08T07:38:09.332Z"
   },
   {
    "duration": 10,
    "start_time": "2022-02-08T07:38:10.122Z"
   },
   {
    "duration": 10,
    "start_time": "2022-02-08T07:38:10.588Z"
   },
   {
    "duration": 9,
    "start_time": "2022-02-08T07:38:10.852Z"
   },
   {
    "duration": 9,
    "start_time": "2022-02-08T07:38:11.301Z"
   },
   {
    "duration": 9,
    "start_time": "2022-02-08T07:38:11.800Z"
   },
   {
    "duration": 9,
    "start_time": "2022-02-08T07:38:12.035Z"
   },
   {
    "duration": 35,
    "start_time": "2022-02-08T07:38:13.229Z"
   },
   {
    "duration": 169,
    "start_time": "2022-02-08T07:38:13.704Z"
   },
   {
    "duration": 188,
    "start_time": "2022-02-08T07:38:20.968Z"
   },
   {
    "duration": 383,
    "start_time": "2022-02-08T07:38:23.330Z"
   },
   {
    "duration": 31,
    "start_time": "2022-02-08T07:38:26.743Z"
   },
   {
    "duration": 37,
    "start_time": "2022-02-08T07:38:32.087Z"
   },
   {
    "duration": 562,
    "start_time": "2022-02-08T07:38:33.361Z"
   },
   {
    "duration": 574,
    "start_time": "2022-02-08T07:38:34.088Z"
   },
   {
    "duration": 41,
    "start_time": "2022-02-08T07:38:36.502Z"
   },
   {
    "duration": 45,
    "start_time": "2022-02-08T07:39:47.426Z"
   },
   {
    "duration": 31,
    "start_time": "2022-02-08T07:39:56.935Z"
   },
   {
    "duration": 34,
    "start_time": "2022-02-08T07:40:05.147Z"
   },
   {
    "duration": 1152,
    "start_time": "2022-02-08T07:40:20.669Z"
   },
   {
    "duration": 17,
    "start_time": "2022-02-08T07:40:45.031Z"
   },
   {
    "duration": 12,
    "start_time": "2022-02-08T07:40:46.118Z"
   },
   {
    "duration": 11,
    "start_time": "2022-02-08T07:40:46.328Z"
   },
   {
    "duration": 9,
    "start_time": "2022-02-08T07:40:46.532Z"
   },
   {
    "duration": 9,
    "start_time": "2022-02-08T07:40:46.707Z"
   },
   {
    "duration": 10,
    "start_time": "2022-02-08T07:40:46.879Z"
   },
   {
    "duration": 9,
    "start_time": "2022-02-08T07:40:47.053Z"
   },
   {
    "duration": 13,
    "start_time": "2022-02-08T07:40:47.393Z"
   },
   {
    "duration": 4,
    "start_time": "2022-02-08T07:40:47.557Z"
   },
   {
    "duration": 10,
    "start_time": "2022-02-08T07:40:47.778Z"
   },
   {
    "duration": 11,
    "start_time": "2022-02-08T07:40:48.200Z"
   },
   {
    "duration": 10,
    "start_time": "2022-02-08T07:40:48.398Z"
   },
   {
    "duration": 11,
    "start_time": "2022-02-08T07:40:48.637Z"
   },
   {
    "duration": 11,
    "start_time": "2022-02-08T07:40:49.277Z"
   },
   {
    "duration": 10,
    "start_time": "2022-02-08T07:40:49.498Z"
   },
   {
    "duration": 26,
    "start_time": "2022-02-08T07:40:51.246Z"
   },
   {
    "duration": 10,
    "start_time": "2022-02-08T07:40:51.990Z"
   },
   {
    "duration": 9,
    "start_time": "2022-02-08T07:40:52.574Z"
   },
   {
    "duration": 10,
    "start_time": "2022-02-08T07:40:53.404Z"
   },
   {
    "duration": 9,
    "start_time": "2022-02-08T07:40:53.888Z"
   },
   {
    "duration": 10,
    "start_time": "2022-02-08T07:40:54.060Z"
   },
   {
    "duration": 9,
    "start_time": "2022-02-08T07:40:54.387Z"
   },
   {
    "duration": 34,
    "start_time": "2022-02-08T07:40:57.608Z"
   },
   {
    "duration": 154,
    "start_time": "2022-02-08T07:40:59.597Z"
   },
   {
    "duration": 171,
    "start_time": "2022-02-08T07:41:04.149Z"
   },
   {
    "duration": 386,
    "start_time": "2022-02-08T07:41:06.598Z"
   },
   {
    "duration": 28,
    "start_time": "2022-02-08T07:41:09.082Z"
   },
   {
    "duration": 35,
    "start_time": "2022-02-08T07:41:13.349Z"
   },
   {
    "duration": 531,
    "start_time": "2022-02-08T07:41:17.189Z"
   },
   {
    "duration": 567,
    "start_time": "2022-02-08T07:41:19.840Z"
   },
   {
    "duration": 40,
    "start_time": "2022-02-08T07:41:24.225Z"
   },
   {
    "duration": 5,
    "start_time": "2022-02-08T07:41:26.675Z"
   },
   {
    "duration": 21384,
    "start_time": "2022-02-08T07:41:27.712Z"
   },
   {
    "duration": 41,
    "start_time": "2022-02-08T07:42:11.438Z"
   },
   {
    "duration": 731,
    "start_time": "2022-02-08T07:52:55.676Z"
   },
   {
    "duration": 618,
    "start_time": "2022-02-08T07:53:37.073Z"
   },
   {
    "duration": 24,
    "start_time": "2022-02-08T08:30:26.297Z"
   },
   {
    "duration": 49,
    "start_time": "2022-02-08T08:30:51.136Z"
   },
   {
    "duration": 5,
    "start_time": "2022-02-08T08:30:52.404Z"
   },
   {
    "duration": 9,
    "start_time": "2022-02-08T08:30:52.940Z"
   },
   {
    "duration": 33,
    "start_time": "2022-02-08T08:31:04.203Z"
   },
   {
    "duration": 194,
    "start_time": "2022-02-08T08:31:40.921Z"
   },
   {
    "duration": 45,
    "start_time": "2022-02-08T08:31:52.557Z"
   },
   {
    "duration": 34,
    "start_time": "2022-02-08T08:31:59.313Z"
   },
   {
    "duration": 34,
    "start_time": "2022-02-08T08:32:07.820Z"
   },
   {
    "duration": 5,
    "start_time": "2022-02-08T08:34:22.447Z"
   },
   {
    "duration": 18,
    "start_time": "2022-02-08T08:34:48.509Z"
   },
   {
    "duration": 25,
    "start_time": "2022-02-08T08:35:11.940Z"
   },
   {
    "duration": 245,
    "start_time": "2022-02-08T08:36:53.335Z"
   },
   {
    "duration": 17,
    "start_time": "2022-02-08T08:37:18.088Z"
   },
   {
    "duration": 944,
    "start_time": "2022-02-08T08:37:31.154Z"
   },
   {
    "duration": 17,
    "start_time": "2022-02-08T08:38:42.716Z"
   },
   {
    "duration": 1076,
    "start_time": "2022-02-08T08:38:58.935Z"
   },
   {
    "duration": 917,
    "start_time": "2022-02-08T08:39:11.893Z"
   },
   {
    "duration": 13,
    "start_time": "2022-02-08T08:39:33.207Z"
   },
   {
    "duration": 705,
    "start_time": "2022-02-08T08:39:45.836Z"
   },
   {
    "duration": 699,
    "start_time": "2022-02-08T08:42:35.749Z"
   },
   {
    "duration": 325,
    "start_time": "2022-02-09T08:08:14.576Z"
   },
   {
    "duration": 1348,
    "start_time": "2022-02-09T08:08:21.793Z"
   },
   {
    "duration": 106,
    "start_time": "2022-02-09T08:08:23.144Z"
   },
   {
    "duration": 5,
    "start_time": "2022-02-09T08:08:23.254Z"
   },
   {
    "duration": 20,
    "start_time": "2022-02-09T08:08:23.263Z"
   },
   {
    "duration": 4,
    "start_time": "2022-02-09T08:08:23.286Z"
   },
   {
    "duration": 34,
    "start_time": "2022-02-09T08:08:23.293Z"
   },
   {
    "duration": 11,
    "start_time": "2022-02-09T08:08:23.330Z"
   },
   {
    "duration": 26,
    "start_time": "2022-02-09T08:08:23.345Z"
   },
   {
    "duration": 88,
    "start_time": "2022-02-09T08:08:23.374Z"
   },
   {
    "duration": 11,
    "start_time": "2022-02-09T08:08:23.465Z"
   },
   {
    "duration": 11,
    "start_time": "2022-02-09T08:08:23.479Z"
   },
   {
    "duration": 41,
    "start_time": "2022-02-09T08:08:23.493Z"
   },
   {
    "duration": 7575,
    "start_time": "2022-02-09T08:08:23.537Z"
   },
   {
    "duration": -143,
    "start_time": "2022-02-09T08:08:31.258Z"
   },
   {
    "duration": -143,
    "start_time": "2022-02-09T08:08:31.260Z"
   },
   {
    "duration": -143,
    "start_time": "2022-02-09T08:08:31.262Z"
   },
   {
    "duration": -144,
    "start_time": "2022-02-09T08:08:31.264Z"
   },
   {
    "duration": -145,
    "start_time": "2022-02-09T08:08:31.266Z"
   },
   {
    "duration": -145,
    "start_time": "2022-02-09T08:08:31.268Z"
   },
   {
    "duration": -151,
    "start_time": "2022-02-09T08:08:31.275Z"
   },
   {
    "duration": -151,
    "start_time": "2022-02-09T08:08:31.277Z"
   },
   {
    "duration": -151,
    "start_time": "2022-02-09T08:08:31.279Z"
   },
   {
    "duration": -152,
    "start_time": "2022-02-09T08:08:31.281Z"
   },
   {
    "duration": -152,
    "start_time": "2022-02-09T08:08:31.282Z"
   },
   {
    "duration": -153,
    "start_time": "2022-02-09T08:08:31.284Z"
   },
   {
    "duration": -153,
    "start_time": "2022-02-09T08:08:31.286Z"
   },
   {
    "duration": -160,
    "start_time": "2022-02-09T08:08:31.294Z"
   },
   {
    "duration": -160,
    "start_time": "2022-02-09T08:08:31.296Z"
   },
   {
    "duration": -161,
    "start_time": "2022-02-09T08:08:31.298Z"
   },
   {
    "duration": -160,
    "start_time": "2022-02-09T08:08:31.299Z"
   },
   {
    "duration": -161,
    "start_time": "2022-02-09T08:08:31.301Z"
   },
   {
    "duration": -167,
    "start_time": "2022-02-09T08:08:31.308Z"
   },
   {
    "duration": -168,
    "start_time": "2022-02-09T08:08:31.310Z"
   },
   {
    "duration": -168,
    "start_time": "2022-02-09T08:08:31.312Z"
   },
   {
    "duration": -169,
    "start_time": "2022-02-09T08:08:31.314Z"
   },
   {
    "duration": -170,
    "start_time": "2022-02-09T08:08:31.316Z"
   },
   {
    "duration": -170,
    "start_time": "2022-02-09T08:08:31.318Z"
   },
   {
    "duration": -175,
    "start_time": "2022-02-09T08:08:31.325Z"
   },
   {
    "duration": -176,
    "start_time": "2022-02-09T08:08:31.327Z"
   },
   {
    "duration": -177,
    "start_time": "2022-02-09T08:08:31.329Z"
   },
   {
    "duration": -178,
    "start_time": "2022-02-09T08:08:31.331Z"
   },
   {
    "duration": -177,
    "start_time": "2022-02-09T08:08:31.332Z"
   },
   {
    "duration": -178,
    "start_time": "2022-02-09T08:08:31.334Z"
   },
   {
    "duration": -179,
    "start_time": "2022-02-09T08:08:31.336Z"
   },
   {
    "duration": -185,
    "start_time": "2022-02-09T08:08:31.343Z"
   },
   {
    "duration": -186,
    "start_time": "2022-02-09T08:08:31.345Z"
   },
   {
    "duration": -185,
    "start_time": "2022-02-09T08:08:31.346Z"
   },
   {
    "duration": -186,
    "start_time": "2022-02-09T08:08:31.348Z"
   },
   {
    "duration": -187,
    "start_time": "2022-02-09T08:08:31.350Z"
   },
   {
    "duration": -192,
    "start_time": "2022-02-09T08:08:31.357Z"
   },
   {
    "duration": -136,
    "start_time": "2022-02-09T08:08:31.359Z"
   },
   {
    "duration": -136,
    "start_time": "2022-02-09T08:08:31.361Z"
   },
   {
    "duration": -137,
    "start_time": "2022-02-09T08:08:31.363Z"
   },
   {
    "duration": -137,
    "start_time": "2022-02-09T08:08:31.364Z"
   },
   {
    "duration": -137,
    "start_time": "2022-02-09T08:08:31.366Z"
   },
   {
    "duration": -138,
    "start_time": "2022-02-09T08:08:31.368Z"
   },
   {
    "duration": 1348,
    "start_time": "2022-02-09T08:12:54.174Z"
   },
   {
    "duration": 78,
    "start_time": "2022-02-09T08:12:55.525Z"
   },
   {
    "duration": 5,
    "start_time": "2022-02-09T08:12:55.606Z"
   },
   {
    "duration": 12,
    "start_time": "2022-02-09T08:12:55.624Z"
   },
   {
    "duration": 3,
    "start_time": "2022-02-09T08:12:55.638Z"
   },
   {
    "duration": 5,
    "start_time": "2022-02-09T08:12:55.644Z"
   },
   {
    "duration": 11,
    "start_time": "2022-02-09T08:12:55.652Z"
   },
   {
    "duration": 94,
    "start_time": "2022-02-09T08:12:55.667Z"
   },
   {
    "duration": 411,
    "start_time": "2022-02-09T08:12:55.764Z"
   },
   {
    "duration": -163,
    "start_time": "2022-02-09T08:12:56.343Z"
   },
   {
    "duration": -163,
    "start_time": "2022-02-09T08:12:56.345Z"
   },
   {
    "duration": -165,
    "start_time": "2022-02-09T08:12:56.348Z"
   },
   {
    "duration": -165,
    "start_time": "2022-02-09T08:12:56.350Z"
   },
   {
    "duration": -166,
    "start_time": "2022-02-09T08:12:56.352Z"
   },
   {
    "duration": -167,
    "start_time": "2022-02-09T08:12:56.354Z"
   },
   {
    "duration": -167,
    "start_time": "2022-02-09T08:12:56.356Z"
   },
   {
    "duration": -167,
    "start_time": "2022-02-09T08:12:56.358Z"
   },
   {
    "duration": -168,
    "start_time": "2022-02-09T08:12:56.360Z"
   },
   {
    "duration": -168,
    "start_time": "2022-02-09T08:12:56.362Z"
   },
   {
    "duration": -169,
    "start_time": "2022-02-09T08:12:56.364Z"
   },
   {
    "duration": -170,
    "start_time": "2022-02-09T08:12:56.366Z"
   },
   {
    "duration": -170,
    "start_time": "2022-02-09T08:12:56.368Z"
   },
   {
    "duration": -170,
    "start_time": "2022-02-09T08:12:56.369Z"
   },
   {
    "duration": -170,
    "start_time": "2022-02-09T08:12:56.371Z"
   },
   {
    "duration": -171,
    "start_time": "2022-02-09T08:12:56.373Z"
   },
   {
    "duration": -171,
    "start_time": "2022-02-09T08:12:56.375Z"
   },
   {
    "duration": -177,
    "start_time": "2022-02-09T08:12:56.382Z"
   },
   {
    "duration": -178,
    "start_time": "2022-02-09T08:12:56.384Z"
   },
   {
    "duration": -178,
    "start_time": "2022-02-09T08:12:56.386Z"
   },
   {
    "duration": -179,
    "start_time": "2022-02-09T08:12:56.388Z"
   },
   {
    "duration": -180,
    "start_time": "2022-02-09T08:12:56.390Z"
   },
   {
    "duration": -180,
    "start_time": "2022-02-09T08:12:56.391Z"
   },
   {
    "duration": -180,
    "start_time": "2022-02-09T08:12:56.393Z"
   },
   {
    "duration": -171,
    "start_time": "2022-02-09T08:12:56.395Z"
   },
   {
    "duration": -172,
    "start_time": "2022-02-09T08:12:56.397Z"
   },
   {
    "duration": -172,
    "start_time": "2022-02-09T08:12:56.399Z"
   },
   {
    "duration": -172,
    "start_time": "2022-02-09T08:12:56.400Z"
   },
   {
    "duration": -173,
    "start_time": "2022-02-09T08:12:56.402Z"
   },
   {
    "duration": -173,
    "start_time": "2022-02-09T08:12:56.404Z"
   },
   {
    "duration": -173,
    "start_time": "2022-02-09T08:12:56.405Z"
   },
   {
    "duration": -174,
    "start_time": "2022-02-09T08:12:56.407Z"
   },
   {
    "duration": -174,
    "start_time": "2022-02-09T08:12:56.409Z"
   },
   {
    "duration": -174,
    "start_time": "2022-02-09T08:12:56.410Z"
   },
   {
    "duration": -174,
    "start_time": "2022-02-09T08:12:56.412Z"
   },
   {
    "duration": -174,
    "start_time": "2022-02-09T08:12:56.413Z"
   },
   {
    "duration": -174,
    "start_time": "2022-02-09T08:12:56.415Z"
   },
   {
    "duration": -173,
    "start_time": "2022-02-09T08:12:56.416Z"
   },
   {
    "duration": -174,
    "start_time": "2022-02-09T08:12:56.418Z"
   },
   {
    "duration": -174,
    "start_time": "2022-02-09T08:12:56.420Z"
   },
   {
    "duration": -174,
    "start_time": "2022-02-09T08:12:56.421Z"
   },
   {
    "duration": -174,
    "start_time": "2022-02-09T08:12:56.423Z"
   },
   {
    "duration": -174,
    "start_time": "2022-02-09T08:12:56.424Z"
   },
   {
    "duration": -174,
    "start_time": "2022-02-09T08:12:56.426Z"
   },
   {
    "duration": -175,
    "start_time": "2022-02-09T08:12:56.428Z"
   },
   {
    "duration": -174,
    "start_time": "2022-02-09T08:12:56.429Z"
   },
   {
    "duration": -175,
    "start_time": "2022-02-09T08:12:56.431Z"
   },
   {
    "duration": 1381,
    "start_time": "2022-02-09T08:13:30.054Z"
   },
   {
    "duration": 73,
    "start_time": "2022-02-09T08:13:31.437Z"
   },
   {
    "duration": 5,
    "start_time": "2022-02-09T08:13:31.525Z"
   },
   {
    "duration": 17,
    "start_time": "2022-02-09T08:13:31.533Z"
   },
   {
    "duration": 3,
    "start_time": "2022-02-09T08:13:31.553Z"
   },
   {
    "duration": 7,
    "start_time": "2022-02-09T08:13:31.558Z"
   },
   {
    "duration": 10,
    "start_time": "2022-02-09T08:13:31.568Z"
   },
   {
    "duration": 55,
    "start_time": "2022-02-09T08:13:31.623Z"
   },
   {
    "duration": 469,
    "start_time": "2022-02-09T08:13:31.681Z"
   },
   {
    "duration": -464,
    "start_time": "2022-02-09T08:13:32.618Z"
   },
   {
    "duration": -464,
    "start_time": "2022-02-09T08:13:32.619Z"
   },
   {
    "duration": -464,
    "start_time": "2022-02-09T08:13:32.621Z"
   },
   {
    "duration": -465,
    "start_time": "2022-02-09T08:13:32.623Z"
   },
   {
    "duration": -466,
    "start_time": "2022-02-09T08:13:32.625Z"
   },
   {
    "duration": -465,
    "start_time": "2022-02-09T08:13:32.626Z"
   },
   {
    "duration": -466,
    "start_time": "2022-02-09T08:13:32.628Z"
   },
   {
    "duration": -467,
    "start_time": "2022-02-09T08:13:32.630Z"
   },
   {
    "duration": -468,
    "start_time": "2022-02-09T08:13:32.632Z"
   },
   {
    "duration": -468,
    "start_time": "2022-02-09T08:13:32.634Z"
   },
   {
    "duration": -468,
    "start_time": "2022-02-09T08:13:32.635Z"
   },
   {
    "duration": -469,
    "start_time": "2022-02-09T08:13:32.637Z"
   },
   {
    "duration": -470,
    "start_time": "2022-02-09T08:13:32.639Z"
   },
   {
    "duration": -469,
    "start_time": "2022-02-09T08:13:32.640Z"
   },
   {
    "duration": -470,
    "start_time": "2022-02-09T08:13:32.642Z"
   },
   {
    "duration": -470,
    "start_time": "2022-02-09T08:13:32.643Z"
   },
   {
    "duration": -471,
    "start_time": "2022-02-09T08:13:32.645Z"
   },
   {
    "duration": -423,
    "start_time": "2022-02-09T08:13:32.646Z"
   },
   {
    "duration": -423,
    "start_time": "2022-02-09T08:13:32.648Z"
   },
   {
    "duration": -423,
    "start_time": "2022-02-09T08:13:32.649Z"
   },
   {
    "duration": -424,
    "start_time": "2022-02-09T08:13:32.651Z"
   },
   {
    "duration": -423,
    "start_time": "2022-02-09T08:13:32.652Z"
   },
   {
    "duration": -424,
    "start_time": "2022-02-09T08:13:32.654Z"
   },
   {
    "duration": -431,
    "start_time": "2022-02-09T08:13:32.663Z"
   },
   {
    "duration": -431,
    "start_time": "2022-02-09T08:13:32.664Z"
   },
   {
    "duration": -431,
    "start_time": "2022-02-09T08:13:32.666Z"
   },
   {
    "duration": -432,
    "start_time": "2022-02-09T08:13:32.668Z"
   },
   {
    "duration": -432,
    "start_time": "2022-02-09T08:13:32.669Z"
   },
   {
    "duration": -432,
    "start_time": "2022-02-09T08:13:32.671Z"
   },
   {
    "duration": -432,
    "start_time": "2022-02-09T08:13:32.672Z"
   },
   {
    "duration": -433,
    "start_time": "2022-02-09T08:13:32.674Z"
   },
   {
    "duration": -432,
    "start_time": "2022-02-09T08:13:32.675Z"
   },
   {
    "duration": -432,
    "start_time": "2022-02-09T08:13:32.677Z"
   },
   {
    "duration": -431,
    "start_time": "2022-02-09T08:13:32.678Z"
   },
   {
    "duration": -431,
    "start_time": "2022-02-09T08:13:32.680Z"
   },
   {
    "duration": -430,
    "start_time": "2022-02-09T08:13:32.681Z"
   },
   {
    "duration": -430,
    "start_time": "2022-02-09T08:13:32.683Z"
   },
   {
    "duration": -436,
    "start_time": "2022-02-09T08:13:32.690Z"
   },
   {
    "duration": -436,
    "start_time": "2022-02-09T08:13:32.692Z"
   },
   {
    "duration": -437,
    "start_time": "2022-02-09T08:13:32.694Z"
   },
   {
    "duration": -437,
    "start_time": "2022-02-09T08:13:32.695Z"
   },
   {
    "duration": -437,
    "start_time": "2022-02-09T08:13:32.697Z"
   },
   {
    "duration": -375,
    "start_time": "2022-02-09T08:13:32.698Z"
   },
   {
    "duration": -375,
    "start_time": "2022-02-09T08:13:32.700Z"
   },
   {
    "duration": -375,
    "start_time": "2022-02-09T08:13:32.701Z"
   },
   {
    "duration": -375,
    "start_time": "2022-02-09T08:13:32.703Z"
   },
   {
    "duration": -376,
    "start_time": "2022-02-09T08:13:32.705Z"
   },
   {
    "duration": 332,
    "start_time": "2022-02-09T08:14:30.358Z"
   },
   {
    "duration": 376,
    "start_time": "2022-02-09T08:14:50.233Z"
   },
   {
    "duration": 1520,
    "start_time": "2022-02-09T08:15:06.349Z"
   },
   {
    "duration": 73,
    "start_time": "2022-02-09T08:15:07.871Z"
   },
   {
    "duration": 5,
    "start_time": "2022-02-09T08:15:07.947Z"
   },
   {
    "duration": 13,
    "start_time": "2022-02-09T08:15:07.955Z"
   },
   {
    "duration": 4,
    "start_time": "2022-02-09T08:15:07.971Z"
   },
   {
    "duration": 49,
    "start_time": "2022-02-09T08:15:07.978Z"
   },
   {
    "duration": 12,
    "start_time": "2022-02-09T08:15:08.030Z"
   },
   {
    "duration": 79,
    "start_time": "2022-02-09T08:15:08.046Z"
   },
   {
    "duration": 35,
    "start_time": "2022-02-09T08:15:08.129Z"
   },
   {
    "duration": 10,
    "start_time": "2022-02-09T08:15:08.166Z"
   },
   {
    "duration": 46,
    "start_time": "2022-02-09T08:15:08.179Z"
   },
   {
    "duration": 20,
    "start_time": "2022-02-09T08:15:08.228Z"
   },
   {
    "duration": 8961,
    "start_time": "2022-02-09T08:15:08.251Z"
   },
   {
    "duration": -124,
    "start_time": "2022-02-09T08:15:17.341Z"
   },
   {
    "duration": -125,
    "start_time": "2022-02-09T08:15:17.343Z"
   },
   {
    "duration": -126,
    "start_time": "2022-02-09T08:15:17.346Z"
   },
   {
    "duration": -128,
    "start_time": "2022-02-09T08:15:17.349Z"
   },
   {
    "duration": -129,
    "start_time": "2022-02-09T08:15:17.351Z"
   },
   {
    "duration": -129,
    "start_time": "2022-02-09T08:15:17.353Z"
   },
   {
    "duration": -129,
    "start_time": "2022-02-09T08:15:17.355Z"
   },
   {
    "duration": -130,
    "start_time": "2022-02-09T08:15:17.358Z"
   },
   {
    "duration": -130,
    "start_time": "2022-02-09T08:15:17.360Z"
   },
   {
    "duration": -131,
    "start_time": "2022-02-09T08:15:17.363Z"
   },
   {
    "duration": -131,
    "start_time": "2022-02-09T08:15:17.365Z"
   },
   {
    "duration": -131,
    "start_time": "2022-02-09T08:15:17.367Z"
   },
   {
    "duration": -131,
    "start_time": "2022-02-09T08:15:17.369Z"
   },
   {
    "duration": -131,
    "start_time": "2022-02-09T08:15:17.372Z"
   },
   {
    "duration": -131,
    "start_time": "2022-02-09T08:15:17.374Z"
   },
   {
    "duration": -131,
    "start_time": "2022-02-09T08:15:17.376Z"
   },
   {
    "duration": -131,
    "start_time": "2022-02-09T08:15:17.378Z"
   },
   {
    "duration": -131,
    "start_time": "2022-02-09T08:15:17.380Z"
   },
   {
    "duration": -131,
    "start_time": "2022-02-09T08:15:17.382Z"
   },
   {
    "duration": -131,
    "start_time": "2022-02-09T08:15:17.384Z"
   },
   {
    "duration": -144,
    "start_time": "2022-02-09T08:15:17.399Z"
   },
   {
    "duration": -145,
    "start_time": "2022-02-09T08:15:17.402Z"
   },
   {
    "duration": -145,
    "start_time": "2022-02-09T08:15:17.404Z"
   },
   {
    "duration": -146,
    "start_time": "2022-02-09T08:15:17.407Z"
   },
   {
    "duration": -87,
    "start_time": "2022-02-09T08:15:17.409Z"
   },
   {
    "duration": -87,
    "start_time": "2022-02-09T08:15:17.411Z"
   },
   {
    "duration": -86,
    "start_time": "2022-02-09T08:15:17.413Z"
   },
   {
    "duration": -86,
    "start_time": "2022-02-09T08:15:17.415Z"
   },
   {
    "duration": -86,
    "start_time": "2022-02-09T08:15:17.417Z"
   },
   {
    "duration": -86,
    "start_time": "2022-02-09T08:15:17.419Z"
   },
   {
    "duration": -87,
    "start_time": "2022-02-09T08:15:17.421Z"
   },
   {
    "duration": -87,
    "start_time": "2022-02-09T08:15:17.423Z"
   },
   {
    "duration": -87,
    "start_time": "2022-02-09T08:15:17.425Z"
   },
   {
    "duration": -87,
    "start_time": "2022-02-09T08:15:17.427Z"
   },
   {
    "duration": -86,
    "start_time": "2022-02-09T08:15:17.429Z"
   },
   {
    "duration": -86,
    "start_time": "2022-02-09T08:15:17.431Z"
   },
   {
    "duration": -87,
    "start_time": "2022-02-09T08:15:17.433Z"
   },
   {
    "duration": -87,
    "start_time": "2022-02-09T08:15:17.435Z"
   },
   {
    "duration": -87,
    "start_time": "2022-02-09T08:15:17.437Z"
   },
   {
    "duration": -87,
    "start_time": "2022-02-09T08:15:17.439Z"
   },
   {
    "duration": -92,
    "start_time": "2022-02-09T08:15:17.446Z"
   },
   {
    "duration": -92,
    "start_time": "2022-02-09T08:15:17.448Z"
   },
   {
    "duration": -101,
    "start_time": "2022-02-09T08:15:17.459Z"
   },
   {
    "duration": 329,
    "start_time": "2022-02-09T08:16:35.313Z"
   },
   {
    "duration": 2413,
    "start_time": "2022-02-09T08:16:41.005Z"
   },
   {
    "duration": 109,
    "start_time": "2022-02-09T08:16:43.424Z"
   },
   {
    "duration": 7,
    "start_time": "2022-02-09T08:16:43.537Z"
   },
   {
    "duration": 17,
    "start_time": "2022-02-09T08:16:43.547Z"
   },
   {
    "duration": 4,
    "start_time": "2022-02-09T08:16:43.567Z"
   },
   {
    "duration": 48,
    "start_time": "2022-02-09T08:16:43.575Z"
   },
   {
    "duration": 14,
    "start_time": "2022-02-09T08:16:43.626Z"
   },
   {
    "duration": 98,
    "start_time": "2022-02-09T08:16:43.645Z"
   },
   {
    "duration": 33,
    "start_time": "2022-02-09T08:16:43.746Z"
   },
   {
    "duration": 18,
    "start_time": "2022-02-09T08:16:43.782Z"
   },
   {
    "duration": 31,
    "start_time": "2022-02-09T08:16:43.802Z"
   },
   {
    "duration": 12,
    "start_time": "2022-02-09T08:16:43.836Z"
   },
   {
    "duration": 9572,
    "start_time": "2022-02-09T08:16:43.851Z"
   },
   {
    "duration": -79,
    "start_time": "2022-02-09T08:16:53.507Z"
   },
   {
    "duration": -78,
    "start_time": "2022-02-09T08:16:53.508Z"
   },
   {
    "duration": -79,
    "start_time": "2022-02-09T08:16:53.511Z"
   },
   {
    "duration": -79,
    "start_time": "2022-02-09T08:16:53.513Z"
   },
   {
    "duration": -78,
    "start_time": "2022-02-09T08:16:53.515Z"
   },
   {
    "duration": -78,
    "start_time": "2022-02-09T08:16:53.517Z"
   },
   {
    "duration": -78,
    "start_time": "2022-02-09T08:16:53.519Z"
   },
   {
    "duration": -78,
    "start_time": "2022-02-09T08:16:53.521Z"
   },
   {
    "duration": -76,
    "start_time": "2022-02-09T08:16:53.522Z"
   },
   {
    "duration": -75,
    "start_time": "2022-02-09T08:16:53.524Z"
   },
   {
    "duration": -75,
    "start_time": "2022-02-09T08:16:53.526Z"
   },
   {
    "duration": -75,
    "start_time": "2022-02-09T08:16:53.528Z"
   },
   {
    "duration": -75,
    "start_time": "2022-02-09T08:16:53.530Z"
   },
   {
    "duration": -92,
    "start_time": "2022-02-09T08:16:53.549Z"
   },
   {
    "duration": -93,
    "start_time": "2022-02-09T08:16:53.552Z"
   },
   {
    "duration": -99,
    "start_time": "2022-02-09T08:16:53.560Z"
   },
   {
    "duration": -99,
    "start_time": "2022-02-09T08:16:53.562Z"
   },
   {
    "duration": -98,
    "start_time": "2022-02-09T08:16:53.564Z"
   },
   {
    "duration": -99,
    "start_time": "2022-02-09T08:16:53.567Z"
   },
   {
    "duration": -100,
    "start_time": "2022-02-09T08:16:53.570Z"
   },
   {
    "duration": -54,
    "start_time": "2022-02-09T08:16:53.577Z"
   },
   {
    "duration": -54,
    "start_time": "2022-02-09T08:16:53.579Z"
   },
   {
    "duration": -54,
    "start_time": "2022-02-09T08:16:53.582Z"
   },
   {
    "duration": -58,
    "start_time": "2022-02-09T08:16:53.588Z"
   },
   {
    "duration": -61,
    "start_time": "2022-02-09T08:16:53.593Z"
   },
   {
    "duration": -61,
    "start_time": "2022-02-09T08:16:53.595Z"
   },
   {
    "duration": -173,
    "start_time": "2022-02-09T08:16:53.709Z"
   },
   {
    "duration": -224,
    "start_time": "2022-02-09T08:16:53.762Z"
   },
   {
    "duration": -223,
    "start_time": "2022-02-09T08:16:53.763Z"
   },
   {
    "duration": -223,
    "start_time": "2022-02-09T08:16:53.765Z"
   },
   {
    "duration": -222,
    "start_time": "2022-02-09T08:16:53.766Z"
   },
   {
    "duration": -222,
    "start_time": "2022-02-09T08:16:53.768Z"
   },
   {
    "duration": -220,
    "start_time": "2022-02-09T08:16:53.769Z"
   },
   {
    "duration": -220,
    "start_time": "2022-02-09T08:16:53.771Z"
   },
   {
    "duration": -219,
    "start_time": "2022-02-09T08:16:53.772Z"
   },
   {
    "duration": -218,
    "start_time": "2022-02-09T08:16:53.774Z"
   },
   {
    "duration": -216,
    "start_time": "2022-02-09T08:16:53.775Z"
   },
   {
    "duration": -215,
    "start_time": "2022-02-09T08:16:53.776Z"
   },
   {
    "duration": -215,
    "start_time": "2022-02-09T08:16:53.778Z"
   },
   {
    "duration": -157,
    "start_time": "2022-02-09T08:16:53.779Z"
   },
   {
    "duration": -156,
    "start_time": "2022-02-09T08:16:53.780Z"
   },
   {
    "duration": -155,
    "start_time": "2022-02-09T08:16:53.782Z"
   },
   {
    "duration": -154,
    "start_time": "2022-02-09T08:16:53.783Z"
   },
   {
    "duration": 341,
    "start_time": "2022-02-09T08:19:36.614Z"
   },
   {
    "duration": 2389,
    "start_time": "2022-02-09T08:19:44.561Z"
   },
   {
    "duration": 77,
    "start_time": "2022-02-09T08:19:46.953Z"
   },
   {
    "duration": 404,
    "start_time": "2022-02-09T08:19:47.039Z"
   },
   {
    "duration": 1546,
    "start_time": "2022-02-09T08:19:47.446Z"
   },
   {
    "duration": 4,
    "start_time": "2022-02-09T08:19:48.995Z"
   },
   {
    "duration": 10,
    "start_time": "2022-02-09T08:19:49.002Z"
   },
   {
    "duration": 16,
    "start_time": "2022-02-09T08:19:49.017Z"
   },
   {
    "duration": 95,
    "start_time": "2022-02-09T08:19:49.037Z"
   },
   {
    "duration": 33,
    "start_time": "2022-02-09T08:19:49.135Z"
   },
   {
    "duration": 16,
    "start_time": "2022-02-09T08:19:49.171Z"
   },
   {
    "duration": 52,
    "start_time": "2022-02-09T08:19:49.190Z"
   },
   {
    "duration": 11,
    "start_time": "2022-02-09T08:19:49.245Z"
   },
   {
    "duration": 11,
    "start_time": "2022-02-09T08:19:49.259Z"
   },
   {
    "duration": 9,
    "start_time": "2022-02-09T08:19:49.272Z"
   },
   {
    "duration": 46,
    "start_time": "2022-02-09T08:19:49.284Z"
   },
   {
    "duration": 10,
    "start_time": "2022-02-09T08:19:49.332Z"
   },
   {
    "duration": 9,
    "start_time": "2022-02-09T08:19:49.345Z"
   },
   {
    "duration": 11,
    "start_time": "2022-02-09T08:19:49.356Z"
   },
   {
    "duration": 8,
    "start_time": "2022-02-09T08:19:49.370Z"
   },
   {
    "duration": 9,
    "start_time": "2022-02-09T08:19:49.424Z"
   },
   {
    "duration": 11,
    "start_time": "2022-02-09T08:19:49.437Z"
   },
   {
    "duration": 556,
    "start_time": "2022-02-09T08:19:49.457Z"
   },
   {
    "duration": -129,
    "start_time": "2022-02-09T08:19:50.147Z"
   },
   {
    "duration": -129,
    "start_time": "2022-02-09T08:19:50.149Z"
   },
   {
    "duration": -130,
    "start_time": "2022-02-09T08:19:50.151Z"
   },
   {
    "duration": -130,
    "start_time": "2022-02-09T08:19:50.153Z"
   },
   {
    "duration": -129,
    "start_time": "2022-02-09T08:19:50.155Z"
   },
   {
    "duration": -129,
    "start_time": "2022-02-09T08:19:50.157Z"
   },
   {
    "duration": -133,
    "start_time": "2022-02-09T08:19:50.163Z"
   },
   {
    "duration": -132,
    "start_time": "2022-02-09T08:19:50.164Z"
   },
   {
    "duration": -132,
    "start_time": "2022-02-09T08:19:50.166Z"
   },
   {
    "duration": -135,
    "start_time": "2022-02-09T08:19:50.172Z"
   },
   {
    "duration": -135,
    "start_time": "2022-02-09T08:19:50.174Z"
   },
   {
    "duration": -135,
    "start_time": "2022-02-09T08:19:50.176Z"
   },
   {
    "duration": -135,
    "start_time": "2022-02-09T08:19:50.178Z"
   },
   {
    "duration": -134,
    "start_time": "2022-02-09T08:19:50.179Z"
   },
   {
    "duration": -134,
    "start_time": "2022-02-09T08:19:50.181Z"
   },
   {
    "duration": -134,
    "start_time": "2022-02-09T08:19:50.183Z"
   },
   {
    "duration": -138,
    "start_time": "2022-02-09T08:19:50.189Z"
   },
   {
    "duration": -138,
    "start_time": "2022-02-09T08:19:50.191Z"
   },
   {
    "duration": -137,
    "start_time": "2022-02-09T08:19:50.192Z"
   },
   {
    "duration": -136,
    "start_time": "2022-02-09T08:19:50.194Z"
   },
   {
    "duration": -136,
    "start_time": "2022-02-09T08:19:50.196Z"
   },
   {
    "duration": -75,
    "start_time": "2022-02-09T08:19:50.197Z"
   },
   {
    "duration": -74,
    "start_time": "2022-02-09T08:19:50.199Z"
   },
   {
    "duration": -78,
    "start_time": "2022-02-09T08:19:50.205Z"
   },
   {
    "duration": -78,
    "start_time": "2022-02-09T08:19:50.207Z"
   },
   {
    "duration": -78,
    "start_time": "2022-02-09T08:19:50.209Z"
   },
   {
    "duration": -101,
    "start_time": "2022-02-09T08:19:50.234Z"
   },
   {
    "duration": -101,
    "start_time": "2022-02-09T08:19:50.236Z"
   },
   {
    "duration": -101,
    "start_time": "2022-02-09T08:19:50.238Z"
   },
   {
    "duration": -100,
    "start_time": "2022-02-09T08:19:50.239Z"
   },
   {
    "duration": -101,
    "start_time": "2022-02-09T08:19:50.241Z"
   },
   {
    "duration": -101,
    "start_time": "2022-02-09T08:19:50.243Z"
   },
   {
    "duration": -101,
    "start_time": "2022-02-09T08:19:50.244Z"
   },
   {
    "duration": -101,
    "start_time": "2022-02-09T08:19:50.246Z"
   },
   {
    "duration": 358,
    "start_time": "2022-02-09T08:20:16.682Z"
   },
   {
    "duration": 1701,
    "start_time": "2022-02-09T08:20:32.871Z"
   },
   {
    "duration": 119,
    "start_time": "2022-02-09T08:20:34.627Z"
   },
   {
    "duration": 6,
    "start_time": "2022-02-09T08:20:34.748Z"
   },
   {
    "duration": 66,
    "start_time": "2022-02-09T08:20:34.757Z"
   },
   {
    "duration": 4,
    "start_time": "2022-02-09T08:20:34.826Z"
   },
   {
    "duration": 9,
    "start_time": "2022-02-09T08:20:34.832Z"
   },
   {
    "duration": 12,
    "start_time": "2022-02-09T08:20:34.844Z"
   },
   {
    "duration": 167,
    "start_time": "2022-02-09T08:20:34.861Z"
   },
   {
    "duration": 34,
    "start_time": "2022-02-09T08:20:35.031Z"
   },
   {
    "duration": 17,
    "start_time": "2022-02-09T08:20:35.068Z"
   },
   {
    "duration": 39,
    "start_time": "2022-02-09T08:20:35.087Z"
   },
   {
    "duration": 12,
    "start_time": "2022-02-09T08:20:35.129Z"
   },
   {
    "duration": 11,
    "start_time": "2022-02-09T08:20:35.144Z"
   },
   {
    "duration": 14,
    "start_time": "2022-02-09T08:20:35.157Z"
   },
   {
    "duration": 52,
    "start_time": "2022-02-09T08:20:35.173Z"
   },
   {
    "duration": 11,
    "start_time": "2022-02-09T08:20:35.228Z"
   },
   {
    "duration": 13,
    "start_time": "2022-02-09T08:20:35.241Z"
   },
   {
    "duration": 12,
    "start_time": "2022-02-09T08:20:35.258Z"
   },
   {
    "duration": 58,
    "start_time": "2022-02-09T08:20:35.273Z"
   },
   {
    "duration": 13,
    "start_time": "2022-02-09T08:20:35.333Z"
   },
   {
    "duration": 19,
    "start_time": "2022-02-09T08:20:35.349Z"
   },
   {
    "duration": 566,
    "start_time": "2022-02-09T08:20:35.370Z"
   },
   {
    "duration": -63,
    "start_time": "2022-02-09T08:20:36.003Z"
   },
   {
    "duration": -64,
    "start_time": "2022-02-09T08:20:36.005Z"
   },
   {
    "duration": -64,
    "start_time": "2022-02-09T08:20:36.007Z"
   },
   {
    "duration": -64,
    "start_time": "2022-02-09T08:20:36.009Z"
   },
   {
    "duration": -63,
    "start_time": "2022-02-09T08:20:36.010Z"
   },
   {
    "duration": -63,
    "start_time": "2022-02-09T08:20:36.012Z"
   },
   {
    "duration": -64,
    "start_time": "2022-02-09T08:20:36.014Z"
   },
   {
    "duration": -64,
    "start_time": "2022-02-09T08:20:36.016Z"
   },
   {
    "duration": -64,
    "start_time": "2022-02-09T08:20:36.017Z"
   },
   {
    "duration": -66,
    "start_time": "2022-02-09T08:20:36.020Z"
   },
   {
    "duration": -65,
    "start_time": "2022-02-09T08:20:36.021Z"
   },
   {
    "duration": -102,
    "start_time": "2022-02-09T08:20:36.059Z"
   },
   {
    "duration": -102,
    "start_time": "2022-02-09T08:20:36.061Z"
   },
   {
    "duration": -103,
    "start_time": "2022-02-09T08:20:36.063Z"
   },
   {
    "duration": -104,
    "start_time": "2022-02-09T08:20:36.065Z"
   },
   {
    "duration": -110,
    "start_time": "2022-02-09T08:20:36.073Z"
   },
   {
    "duration": -110,
    "start_time": "2022-02-09T08:20:36.074Z"
   },
   {
    "duration": -110,
    "start_time": "2022-02-09T08:20:36.076Z"
   },
   {
    "duration": -112,
    "start_time": "2022-02-09T08:20:36.079Z"
   },
   {
    "duration": -113,
    "start_time": "2022-02-09T08:20:36.082Z"
   },
   {
    "duration": -119,
    "start_time": "2022-02-09T08:20:36.089Z"
   },
   {
    "duration": -120,
    "start_time": "2022-02-09T08:20:36.091Z"
   },
   {
    "duration": -120,
    "start_time": "2022-02-09T08:20:36.093Z"
   },
   {
    "duration": -120,
    "start_time": "2022-02-09T08:20:36.094Z"
   },
   {
    "duration": -119,
    "start_time": "2022-02-09T08:20:36.096Z"
   },
   {
    "duration": -120,
    "start_time": "2022-02-09T08:20:36.098Z"
   },
   {
    "duration": -87,
    "start_time": "2022-02-09T08:20:36.110Z"
   },
   {
    "duration": -99,
    "start_time": "2022-02-09T08:20:36.124Z"
   },
   {
    "duration": -100,
    "start_time": "2022-02-09T08:20:36.126Z"
   },
   {
    "duration": -100,
    "start_time": "2022-02-09T08:20:36.128Z"
   },
   {
    "duration": -114,
    "start_time": "2022-02-09T08:20:36.143Z"
   },
   {
    "duration": -117,
    "start_time": "2022-02-09T08:20:36.147Z"
   },
   {
    "duration": -117,
    "start_time": "2022-02-09T08:20:36.148Z"
   },
   {
    "duration": -133,
    "start_time": "2022-02-09T08:20:36.166Z"
   },
   {
    "duration": 1377,
    "start_time": "2022-02-09T08:23:29.374Z"
   },
   {
    "duration": 76,
    "start_time": "2022-02-09T08:23:30.754Z"
   },
   {
    "duration": 5,
    "start_time": "2022-02-09T08:23:30.833Z"
   },
   {
    "duration": 14,
    "start_time": "2022-02-09T08:23:30.841Z"
   },
   {
    "duration": 7,
    "start_time": "2022-02-09T08:23:30.857Z"
   },
   {
    "duration": 16,
    "start_time": "2022-02-09T08:23:30.866Z"
   },
   {
    "duration": 40,
    "start_time": "2022-02-09T08:23:30.884Z"
   },
   {
    "duration": 128,
    "start_time": "2022-02-09T08:23:30.929Z"
   },
   {
    "duration": 34,
    "start_time": "2022-02-09T08:23:31.060Z"
   },
   {
    "duration": 477,
    "start_time": "2022-02-09T08:23:31.096Z"
   },
   {
    "duration": -501,
    "start_time": "2022-02-09T08:23:32.078Z"
   },
   {
    "duration": -501,
    "start_time": "2022-02-09T08:23:32.080Z"
   },
   {
    "duration": -508,
    "start_time": "2022-02-09T08:23:32.088Z"
   },
   {
    "duration": -508,
    "start_time": "2022-02-09T08:23:32.089Z"
   },
   {
    "duration": -509,
    "start_time": "2022-02-09T08:23:32.092Z"
   },
   {
    "duration": -510,
    "start_time": "2022-02-09T08:23:32.094Z"
   },
   {
    "duration": -509,
    "start_time": "2022-02-09T08:23:32.096Z"
   },
   {
    "duration": -509,
    "start_time": "2022-02-09T08:23:32.097Z"
   },
   {
    "duration": -510,
    "start_time": "2022-02-09T08:23:32.099Z"
   },
   {
    "duration": -511,
    "start_time": "2022-02-09T08:23:32.101Z"
   },
   {
    "duration": -480,
    "start_time": "2022-02-09T08:23:32.103Z"
   },
   {
    "duration": -481,
    "start_time": "2022-02-09T08:23:32.105Z"
   },
   {
    "duration": -480,
    "start_time": "2022-02-09T08:23:32.106Z"
   },
   {
    "duration": -480,
    "start_time": "2022-02-09T08:23:32.108Z"
   },
   {
    "duration": -481,
    "start_time": "2022-02-09T08:23:32.110Z"
   },
   {
    "duration": -488,
    "start_time": "2022-02-09T08:23:32.119Z"
   },
   {
    "duration": -489,
    "start_time": "2022-02-09T08:23:32.121Z"
   },
   {
    "duration": -489,
    "start_time": "2022-02-09T08:23:32.123Z"
   },
   {
    "duration": -490,
    "start_time": "2022-02-09T08:23:32.125Z"
   },
   {
    "duration": -489,
    "start_time": "2022-02-09T08:23:32.126Z"
   },
   {
    "duration": -490,
    "start_time": "2022-02-09T08:23:32.128Z"
   },
   {
    "duration": -491,
    "start_time": "2022-02-09T08:23:32.130Z"
   },
   {
    "duration": -492,
    "start_time": "2022-02-09T08:23:32.132Z"
   },
   {
    "duration": -491,
    "start_time": "2022-02-09T08:23:32.133Z"
   },
   {
    "duration": -492,
    "start_time": "2022-02-09T08:23:32.135Z"
   },
   {
    "duration": -493,
    "start_time": "2022-02-09T08:23:32.137Z"
   },
   {
    "duration": -494,
    "start_time": "2022-02-09T08:23:32.139Z"
   },
   {
    "duration": -494,
    "start_time": "2022-02-09T08:23:32.141Z"
   },
   {
    "duration": -494,
    "start_time": "2022-02-09T08:23:32.142Z"
   },
   {
    "duration": -495,
    "start_time": "2022-02-09T08:23:32.144Z"
   },
   {
    "duration": -496,
    "start_time": "2022-02-09T08:23:32.146Z"
   },
   {
    "duration": -496,
    "start_time": "2022-02-09T08:23:32.148Z"
   },
   {
    "duration": -497,
    "start_time": "2022-02-09T08:23:32.150Z"
   },
   {
    "duration": -497,
    "start_time": "2022-02-09T08:23:32.151Z"
   },
   {
    "duration": -498,
    "start_time": "2022-02-09T08:23:32.153Z"
   },
   {
    "duration": -498,
    "start_time": "2022-02-09T08:23:32.155Z"
   },
   {
    "duration": -499,
    "start_time": "2022-02-09T08:23:32.157Z"
   },
   {
    "duration": -499,
    "start_time": "2022-02-09T08:23:32.158Z"
   },
   {
    "duration": -499,
    "start_time": "2022-02-09T08:23:32.160Z"
   },
   {
    "duration": -436,
    "start_time": "2022-02-09T08:23:32.161Z"
   },
   {
    "duration": -436,
    "start_time": "2022-02-09T08:23:32.163Z"
   },
   {
    "duration": -435,
    "start_time": "2022-02-09T08:23:32.164Z"
   },
   {
    "duration": -437,
    "start_time": "2022-02-09T08:23:32.167Z"
   },
   {
    "duration": -436,
    "start_time": "2022-02-09T08:23:32.168Z"
   },
   {
    "duration": -437,
    "start_time": "2022-02-09T08:23:32.170Z"
   },
   {
    "duration": -436,
    "start_time": "2022-02-09T08:23:32.171Z"
   },
   {
    "duration": -437,
    "start_time": "2022-02-09T08:23:32.173Z"
   },
   {
    "duration": 1331,
    "start_time": "2022-02-09T08:23:46.917Z"
   },
   {
    "duration": 75,
    "start_time": "2022-02-09T08:23:48.251Z"
   },
   {
    "duration": 5,
    "start_time": "2022-02-09T08:23:48.328Z"
   },
   {
    "duration": 16,
    "start_time": "2022-02-09T08:23:48.336Z"
   },
   {
    "duration": 2,
    "start_time": "2022-02-09T08:23:48.355Z"
   },
   {
    "duration": 6,
    "start_time": "2022-02-09T08:23:48.361Z"
   },
   {
    "duration": 11,
    "start_time": "2022-02-09T08:23:48.369Z"
   },
   {
    "duration": 113,
    "start_time": "2022-02-09T08:23:48.424Z"
   },
   {
    "duration": 31,
    "start_time": "2022-02-09T08:23:48.540Z"
   },
   {
    "duration": 5,
    "start_time": "2022-02-09T08:23:48.574Z"
   },
   {
    "duration": 43,
    "start_time": "2022-02-09T08:23:48.581Z"
   },
   {
    "duration": 10,
    "start_time": "2022-02-09T08:23:48.626Z"
   },
   {
    "duration": 9,
    "start_time": "2022-02-09T08:23:48.638Z"
   },
   {
    "duration": 11,
    "start_time": "2022-02-09T08:23:48.649Z"
   },
   {
    "duration": 9,
    "start_time": "2022-02-09T08:23:48.662Z"
   },
   {
    "duration": 52,
    "start_time": "2022-02-09T08:23:48.673Z"
   },
   {
    "duration": 9,
    "start_time": "2022-02-09T08:23:48.727Z"
   },
   {
    "duration": 19,
    "start_time": "2022-02-09T08:23:48.738Z"
   },
   {
    "duration": 9,
    "start_time": "2022-02-09T08:23:48.760Z"
   },
   {
    "duration": 8,
    "start_time": "2022-02-09T08:23:48.771Z"
   },
   {
    "duration": 43,
    "start_time": "2022-02-09T08:23:48.782Z"
   },
   {
    "duration": 10,
    "start_time": "2022-02-09T08:23:48.828Z"
   },
   {
    "duration": 425,
    "start_time": "2022-02-09T08:23:48.844Z"
   },
   {
    "duration": -175,
    "start_time": "2022-02-09T08:23:49.447Z"
   },
   {
    "duration": -175,
    "start_time": "2022-02-09T08:23:49.449Z"
   },
   {
    "duration": -196,
    "start_time": "2022-02-09T08:23:49.471Z"
   },
   {
    "duration": -197,
    "start_time": "2022-02-09T08:23:49.473Z"
   },
   {
    "duration": -197,
    "start_time": "2022-02-09T08:23:49.475Z"
   },
   {
    "duration": -198,
    "start_time": "2022-02-09T08:23:49.477Z"
   },
   {
    "duration": -199,
    "start_time": "2022-02-09T08:23:49.479Z"
   },
   {
    "duration": -200,
    "start_time": "2022-02-09T08:23:49.481Z"
   },
   {
    "duration": -200,
    "start_time": "2022-02-09T08:23:49.483Z"
   },
   {
    "duration": -201,
    "start_time": "2022-02-09T08:23:49.485Z"
   },
   {
    "duration": -201,
    "start_time": "2022-02-09T08:23:49.487Z"
   },
   {
    "duration": -201,
    "start_time": "2022-02-09T08:23:49.488Z"
   },
   {
    "duration": -201,
    "start_time": "2022-02-09T08:23:49.490Z"
   },
   {
    "duration": -202,
    "start_time": "2022-02-09T08:23:49.492Z"
   },
   {
    "duration": -202,
    "start_time": "2022-02-09T08:23:49.494Z"
   },
   {
    "duration": -203,
    "start_time": "2022-02-09T08:23:49.496Z"
   },
   {
    "duration": -204,
    "start_time": "2022-02-09T08:23:49.498Z"
   },
   {
    "duration": -204,
    "start_time": "2022-02-09T08:23:49.500Z"
   },
   {
    "duration": -205,
    "start_time": "2022-02-09T08:23:49.502Z"
   },
   {
    "duration": -205,
    "start_time": "2022-02-09T08:23:49.504Z"
   },
   {
    "duration": -206,
    "start_time": "2022-02-09T08:23:49.506Z"
   },
   {
    "duration": -206,
    "start_time": "2022-02-09T08:23:49.507Z"
   },
   {
    "duration": -207,
    "start_time": "2022-02-09T08:23:49.510Z"
   },
   {
    "duration": -206,
    "start_time": "2022-02-09T08:23:49.511Z"
   },
   {
    "duration": -190,
    "start_time": "2022-02-09T08:23:49.513Z"
   },
   {
    "duration": -191,
    "start_time": "2022-02-09T08:23:49.515Z"
   },
   {
    "duration": -191,
    "start_time": "2022-02-09T08:23:49.517Z"
   },
   {
    "duration": -192,
    "start_time": "2022-02-09T08:23:49.519Z"
   },
   {
    "duration": -192,
    "start_time": "2022-02-09T08:23:49.521Z"
   },
   {
    "duration": -193,
    "start_time": "2022-02-09T08:23:49.523Z"
   },
   {
    "duration": -193,
    "start_time": "2022-02-09T08:23:49.524Z"
   },
   {
    "duration": -193,
    "start_time": "2022-02-09T08:23:49.526Z"
   },
   {
    "duration": -194,
    "start_time": "2022-02-09T08:23:49.528Z"
   },
   {
    "duration": -193,
    "start_time": "2022-02-09T08:23:49.529Z"
   },
   {
    "duration": 295,
    "start_time": "2022-02-09T08:24:15.826Z"
   },
   {
    "duration": 1825,
    "start_time": "2022-02-09T08:24:22.418Z"
   },
   {
    "duration": 77,
    "start_time": "2022-02-09T08:24:24.246Z"
   },
   {
    "duration": 5,
    "start_time": "2022-02-09T08:24:24.326Z"
   },
   {
    "duration": 11,
    "start_time": "2022-02-09T08:24:24.333Z"
   },
   {
    "duration": 4,
    "start_time": "2022-02-09T08:24:24.346Z"
   },
   {
    "duration": 10,
    "start_time": "2022-02-09T08:24:24.352Z"
   },
   {
    "duration": 10,
    "start_time": "2022-02-09T08:24:24.364Z"
   },
   {
    "duration": 247,
    "start_time": "2022-02-09T08:24:24.378Z"
   },
   {
    "duration": 35,
    "start_time": "2022-02-09T08:24:24.628Z"
   },
   {
    "duration": 92,
    "start_time": "2022-02-09T08:24:24.665Z"
   },
   {
    "duration": 68,
    "start_time": "2022-02-09T08:24:24.759Z"
   },
   {
    "duration": 10,
    "start_time": "2022-02-09T08:24:24.829Z"
   },
   {
    "duration": 11,
    "start_time": "2022-02-09T08:24:24.841Z"
   },
   {
    "duration": 8,
    "start_time": "2022-02-09T08:24:24.854Z"
   },
   {
    "duration": 62,
    "start_time": "2022-02-09T08:24:24.864Z"
   },
   {
    "duration": 8,
    "start_time": "2022-02-09T08:24:24.928Z"
   },
   {
    "duration": 7,
    "start_time": "2022-02-09T08:24:24.938Z"
   },
   {
    "duration": 7,
    "start_time": "2022-02-09T08:24:24.948Z"
   },
   {
    "duration": 65,
    "start_time": "2022-02-09T08:24:24.958Z"
   },
   {
    "duration": 9,
    "start_time": "2022-02-09T08:24:25.026Z"
   },
   {
    "duration": 8,
    "start_time": "2022-02-09T08:24:25.037Z"
   },
   {
    "duration": 9,
    "start_time": "2022-02-09T08:24:25.048Z"
   },
   {
    "duration": 573,
    "start_time": "2022-02-09T08:24:25.062Z"
   },
   {
    "duration": -72,
    "start_time": "2022-02-09T08:24:25.711Z"
   },
   {
    "duration": -73,
    "start_time": "2022-02-09T08:24:25.713Z"
   },
   {
    "duration": -74,
    "start_time": "2022-02-09T08:24:25.715Z"
   },
   {
    "duration": -74,
    "start_time": "2022-02-09T08:24:25.717Z"
   },
   {
    "duration": -73,
    "start_time": "2022-02-09T08:24:25.718Z"
   },
   {
    "duration": -74,
    "start_time": "2022-02-09T08:24:25.720Z"
   },
   {
    "duration": -74,
    "start_time": "2022-02-09T08:24:25.722Z"
   },
   {
    "duration": -75,
    "start_time": "2022-02-09T08:24:25.724Z"
   },
   {
    "duration": -75,
    "start_time": "2022-02-09T08:24:25.726Z"
   },
   {
    "duration": -79,
    "start_time": "2022-02-09T08:24:25.731Z"
   },
   {
    "duration": -78,
    "start_time": "2022-02-09T08:24:25.732Z"
   },
   {
    "duration": -79,
    "start_time": "2022-02-09T08:24:25.734Z"
   },
   {
    "duration": -79,
    "start_time": "2022-02-09T08:24:25.736Z"
   },
   {
    "duration": -80,
    "start_time": "2022-02-09T08:24:25.738Z"
   },
   {
    "duration": -101,
    "start_time": "2022-02-09T08:24:25.760Z"
   },
   {
    "duration": -105,
    "start_time": "2022-02-09T08:24:25.766Z"
   },
   {
    "duration": -107,
    "start_time": "2022-02-09T08:24:25.769Z"
   },
   {
    "duration": -107,
    "start_time": "2022-02-09T08:24:25.771Z"
   },
   {
    "duration": -107,
    "start_time": "2022-02-09T08:24:25.772Z"
   },
   {
    "duration": -108,
    "start_time": "2022-02-09T08:24:25.774Z"
   },
   {
    "duration": -108,
    "start_time": "2022-02-09T08:24:25.776Z"
   },
   {
    "duration": -113,
    "start_time": "2022-02-09T08:24:25.782Z"
   },
   {
    "duration": -112,
    "start_time": "2022-02-09T08:24:25.783Z"
   },
   {
    "duration": -113,
    "start_time": "2022-02-09T08:24:25.785Z"
   },
   {
    "duration": -113,
    "start_time": "2022-02-09T08:24:25.787Z"
   },
   {
    "duration": -114,
    "start_time": "2022-02-09T08:24:25.789Z"
   },
   {
    "duration": -68,
    "start_time": "2022-02-09T08:24:25.791Z"
   },
   {
    "duration": -73,
    "start_time": "2022-02-09T08:24:25.797Z"
   },
   {
    "duration": -72,
    "start_time": "2022-02-09T08:24:25.798Z"
   },
   {
    "duration": -72,
    "start_time": "2022-02-09T08:24:25.800Z"
   },
   {
    "duration": -73,
    "start_time": "2022-02-09T08:24:25.802Z"
   },
   {
    "duration": -74,
    "start_time": "2022-02-09T08:24:25.804Z"
   },
   {
    "duration": -74,
    "start_time": "2022-02-09T08:24:25.806Z"
   },
   {
    "duration": -74,
    "start_time": "2022-02-09T08:24:25.807Z"
   },
   {
    "duration": 308,
    "start_time": "2022-02-09T08:25:18.537Z"
   },
   {
    "duration": 1298,
    "start_time": "2022-02-09T08:25:34.735Z"
   },
   {
    "duration": 71,
    "start_time": "2022-02-09T08:25:36.035Z"
   },
   {
    "duration": 17,
    "start_time": "2022-02-09T08:25:36.109Z"
   },
   {
    "duration": 14,
    "start_time": "2022-02-09T08:25:36.129Z"
   },
   {
    "duration": 3,
    "start_time": "2022-02-09T08:25:36.145Z"
   },
   {
    "duration": 7,
    "start_time": "2022-02-09T08:25:36.150Z"
   },
   {
    "duration": 12,
    "start_time": "2022-02-09T08:25:36.159Z"
   },
   {
    "duration": 149,
    "start_time": "2022-02-09T08:25:36.174Z"
   },
   {
    "duration": 36,
    "start_time": "2022-02-09T08:25:36.326Z"
   },
   {
    "duration": 11,
    "start_time": "2022-02-09T08:25:36.364Z"
   },
   {
    "duration": 9,
    "start_time": "2022-02-09T08:25:36.378Z"
   },
   {
    "duration": 41,
    "start_time": "2022-02-09T08:25:36.389Z"
   },
   {
    "duration": 17,
    "start_time": "2022-02-09T08:25:36.432Z"
   },
   {
    "duration": 9,
    "start_time": "2022-02-09T08:25:36.452Z"
   },
   {
    "duration": 10,
    "start_time": "2022-02-09T08:25:36.463Z"
   },
   {
    "duration": 48,
    "start_time": "2022-02-09T08:25:36.475Z"
   },
   {
    "duration": 9,
    "start_time": "2022-02-09T08:25:36.525Z"
   },
   {
    "duration": 10,
    "start_time": "2022-02-09T08:25:36.536Z"
   },
   {
    "duration": 10,
    "start_time": "2022-02-09T08:25:36.549Z"
   },
   {
    "duration": 8,
    "start_time": "2022-02-09T08:25:36.561Z"
   },
   {
    "duration": 52,
    "start_time": "2022-02-09T08:25:36.571Z"
   },
   {
    "duration": 9,
    "start_time": "2022-02-09T08:25:36.625Z"
   },
   {
    "duration": 591,
    "start_time": "2022-02-09T08:25:36.641Z"
   },
   {
    "duration": -146,
    "start_time": "2022-02-09T08:25:37.381Z"
   },
   {
    "duration": -147,
    "start_time": "2022-02-09T08:25:37.384Z"
   },
   {
    "duration": -151,
    "start_time": "2022-02-09T08:25:37.389Z"
   },
   {
    "duration": -150,
    "start_time": "2022-02-09T08:25:37.390Z"
   },
   {
    "duration": -155,
    "start_time": "2022-02-09T08:25:37.396Z"
   },
   {
    "duration": -155,
    "start_time": "2022-02-09T08:25:37.398Z"
   },
   {
    "duration": -156,
    "start_time": "2022-02-09T08:25:37.400Z"
   },
   {
    "duration": -157,
    "start_time": "2022-02-09T08:25:37.402Z"
   },
   {
    "duration": -157,
    "start_time": "2022-02-09T08:25:37.404Z"
   },
   {
    "duration": -158,
    "start_time": "2022-02-09T08:25:37.406Z"
   },
   {
    "duration": -158,
    "start_time": "2022-02-09T08:25:37.408Z"
   },
   {
    "duration": -163,
    "start_time": "2022-02-09T08:25:37.414Z"
   },
   {
    "duration": -163,
    "start_time": "2022-02-09T08:25:37.416Z"
   },
   {
    "duration": -164,
    "start_time": "2022-02-09T08:25:37.418Z"
   },
   {
    "duration": -164,
    "start_time": "2022-02-09T08:25:37.420Z"
   },
   {
    "duration": -165,
    "start_time": "2022-02-09T08:25:37.422Z"
   },
   {
    "duration": -165,
    "start_time": "2022-02-09T08:25:37.424Z"
   },
   {
    "duration": -168,
    "start_time": "2022-02-09T08:25:37.429Z"
   },
   {
    "duration": -168,
    "start_time": "2022-02-09T08:25:37.431Z"
   },
   {
    "duration": -168,
    "start_time": "2022-02-09T08:25:37.433Z"
   },
   {
    "duration": -169,
    "start_time": "2022-02-09T08:25:37.435Z"
   },
   {
    "duration": -170,
    "start_time": "2022-02-09T08:25:37.437Z"
   },
   {
    "duration": -170,
    "start_time": "2022-02-09T08:25:37.439Z"
   },
   {
    "duration": -115,
    "start_time": "2022-02-09T08:25:37.440Z"
   },
   {
    "duration": -120,
    "start_time": "2022-02-09T08:25:37.447Z"
   },
   {
    "duration": -120,
    "start_time": "2022-02-09T08:25:37.449Z"
   },
   {
    "duration": -120,
    "start_time": "2022-02-09T08:25:37.450Z"
   },
   {
    "duration": -120,
    "start_time": "2022-02-09T08:25:37.452Z"
   },
   {
    "duration": -121,
    "start_time": "2022-02-09T08:25:37.454Z"
   },
   {
    "duration": -121,
    "start_time": "2022-02-09T08:25:37.456Z"
   },
   {
    "duration": -122,
    "start_time": "2022-02-09T08:25:37.458Z"
   },
   {
    "duration": -126,
    "start_time": "2022-02-09T08:25:37.464Z"
   },
   {
    "duration": -127,
    "start_time": "2022-02-09T08:25:37.466Z"
   },
   {
    "duration": -127,
    "start_time": "2022-02-09T08:25:37.468Z"
   },
   {
    "duration": 1578,
    "start_time": "2022-02-09T08:26:57.449Z"
   },
   {
    "duration": 80,
    "start_time": "2022-02-09T08:26:59.030Z"
   },
   {
    "duration": 6,
    "start_time": "2022-02-09T08:26:59.124Z"
   },
   {
    "duration": 14,
    "start_time": "2022-02-09T08:26:59.133Z"
   },
   {
    "duration": 5,
    "start_time": "2022-02-09T08:26:59.149Z"
   },
   {
    "duration": 14,
    "start_time": "2022-02-09T08:26:59.156Z"
   },
   {
    "duration": 11,
    "start_time": "2022-02-09T08:26:59.172Z"
   },
   {
    "duration": 83,
    "start_time": "2022-02-09T08:26:59.226Z"
   },
   {
    "duration": 34,
    "start_time": "2022-02-09T08:26:59.324Z"
   },
   {
    "duration": 12,
    "start_time": "2022-02-09T08:26:59.361Z"
   },
   {
    "duration": 16,
    "start_time": "2022-02-09T08:26:59.377Z"
   },
   {
    "duration": 39,
    "start_time": "2022-02-09T08:26:59.396Z"
   },
   {
    "duration": 13,
    "start_time": "2022-02-09T08:26:59.437Z"
   },
   {
    "duration": 10,
    "start_time": "2022-02-09T08:26:59.454Z"
   },
   {
    "duration": 8,
    "start_time": "2022-02-09T08:26:59.467Z"
   },
   {
    "duration": 56,
    "start_time": "2022-02-09T08:26:59.477Z"
   },
   {
    "duration": 11,
    "start_time": "2022-02-09T08:26:59.536Z"
   },
   {
    "duration": 11,
    "start_time": "2022-02-09T08:26:59.550Z"
   },
   {
    "duration": 14,
    "start_time": "2022-02-09T08:26:59.564Z"
   },
   {
    "duration": 10,
    "start_time": "2022-02-09T08:26:59.625Z"
   },
   {
    "duration": 15,
    "start_time": "2022-02-09T08:26:59.638Z"
   },
   {
    "duration": 12,
    "start_time": "2022-02-09T08:26:59.655Z"
   },
   {
    "duration": 91,
    "start_time": "2022-02-09T08:26:59.670Z"
   },
   {
    "duration": 23,
    "start_time": "2022-02-09T08:26:59.763Z"
   },
   {
    "duration": 38,
    "start_time": "2022-02-09T08:26:59.789Z"
   },
   {
    "duration": 13,
    "start_time": "2022-02-09T08:26:59.830Z"
   },
   {
    "duration": 22,
    "start_time": "2022-02-09T08:26:59.851Z"
   },
   {
    "duration": 49,
    "start_time": "2022-02-09T08:26:59.876Z"
   },
   {
    "duration": 13,
    "start_time": "2022-02-09T08:26:59.928Z"
   },
   {
    "duration": 14,
    "start_time": "2022-02-09T08:26:59.943Z"
   },
   {
    "duration": 18,
    "start_time": "2022-02-09T08:26:59.960Z"
   },
   {
    "duration": 46,
    "start_time": "2022-02-09T08:26:59.981Z"
   },
   {
    "duration": 15,
    "start_time": "2022-02-09T08:27:00.029Z"
   },
   {
    "duration": 15,
    "start_time": "2022-02-09T08:27:00.047Z"
   },
   {
    "duration": 64,
    "start_time": "2022-02-09T08:27:00.064Z"
   },
   {
    "duration": 13,
    "start_time": "2022-02-09T08:27:00.130Z"
   },
   {
    "duration": 20,
    "start_time": "2022-02-09T08:27:00.146Z"
   },
   {
    "duration": 57,
    "start_time": "2022-02-09T08:27:00.170Z"
   },
   {
    "duration": 34,
    "start_time": "2022-02-09T08:27:00.229Z"
   },
   {
    "duration": 15,
    "start_time": "2022-02-09T08:27:00.265Z"
   },
   {
    "duration": 46,
    "start_time": "2022-02-09T08:27:00.282Z"
   },
   {
    "duration": 19,
    "start_time": "2022-02-09T08:27:00.331Z"
   },
   {
    "duration": 15,
    "start_time": "2022-02-09T08:27:00.353Z"
   },
   {
    "duration": 14,
    "start_time": "2022-02-09T08:27:00.371Z"
   },
   {
    "duration": 15,
    "start_time": "2022-02-09T08:27:00.425Z"
   },
   {
    "duration": 106,
    "start_time": "2022-02-09T08:27:00.443Z"
   },
   {
    "duration": 487,
    "start_time": "2022-02-09T08:27:00.552Z"
   },
   {
    "duration": 577,
    "start_time": "2022-02-09T08:27:01.041Z"
   },
   {
    "duration": 936,
    "start_time": "2022-02-09T08:27:01.624Z"
   },
   {
    "duration": 99,
    "start_time": "2022-02-09T08:27:02.563Z"
   },
   {
    "duration": 165,
    "start_time": "2022-02-09T08:27:02.665Z"
   },
   {
    "duration": 1372,
    "start_time": "2022-02-09T08:27:02.833Z"
   },
   {
    "duration": 1098,
    "start_time": "2022-02-09T08:27:04.207Z"
   },
   {
    "duration": 123,
    "start_time": "2022-02-09T08:27:05.308Z"
   },
   {
    "duration": 193,
    "start_time": "2022-02-09T08:27:05.434Z"
   },
   {
    "duration": 253,
    "start_time": "2022-02-09T08:27:05.630Z"
   },
   {
    "duration": 1745,
    "start_time": "2022-02-09T08:27:05.886Z"
   },
   {
    "duration": 84,
    "start_time": "2022-02-09T08:36:34.026Z"
   },
   {
    "duration": 95,
    "start_time": "2022-02-09T08:37:35.965Z"
   },
   {
    "duration": 389,
    "start_time": "2022-02-09T08:37:43.411Z"
   },
   {
    "duration": 466,
    "start_time": "2022-02-09T08:38:00.368Z"
   },
   {
    "duration": 335,
    "start_time": "2022-02-09T08:38:09.925Z"
   },
   {
    "duration": 687,
    "start_time": "2022-02-09T08:38:20.740Z"
   },
   {
    "duration": 70,
    "start_time": "2022-02-09T08:38:30.969Z"
   },
   {
    "duration": 65,
    "start_time": "2022-02-09T08:38:41.966Z"
   },
   {
    "duration": 49,
    "start_time": "2022-02-09T08:38:50.209Z"
   },
   {
    "duration": 23,
    "start_time": "2022-02-09T08:39:52.320Z"
   },
   {
    "duration": 84,
    "start_time": "2022-02-09T08:40:12.411Z"
   },
   {
    "duration": 1355,
    "start_time": "2022-02-09T08:40:22.952Z"
   },
   {
    "duration": 1344,
    "start_time": "2022-02-09T08:43:10.261Z"
   },
   {
    "duration": 8417,
    "start_time": "2022-02-09T08:43:50.056Z"
   },
   {
    "duration": 8470,
    "start_time": "2022-02-09T08:44:37.975Z"
   },
   {
    "duration": 8782,
    "start_time": "2022-02-09T08:45:18.214Z"
   },
   {
    "duration": 2684,
    "start_time": "2022-02-09T08:45:34.056Z"
   },
   {
    "duration": 8286,
    "start_time": "2022-02-09T08:45:52.495Z"
   },
   {
    "duration": 1103,
    "start_time": "2022-02-09T08:46:24.953Z"
   },
   {
    "duration": 2504,
    "start_time": "2022-02-09T08:46:31.929Z"
   },
   {
    "duration": 5394,
    "start_time": "2022-02-09T08:46:44.741Z"
   },
   {
    "duration": 207,
    "start_time": "2022-02-09T08:47:48.281Z"
   },
   {
    "duration": 189,
    "start_time": "2022-02-09T08:48:12.869Z"
   },
   {
    "duration": 98,
    "start_time": "2022-02-09T08:52:15.693Z"
   },
   {
    "duration": 238,
    "start_time": "2022-02-09T08:54:16.128Z"
   },
   {
    "duration": 252,
    "start_time": "2022-02-09T08:54:39.597Z"
   },
   {
    "duration": 192,
    "start_time": "2022-02-09T08:54:45.358Z"
   },
   {
    "duration": 221,
    "start_time": "2022-02-14T14:17:13.414Z"
   },
   {
    "duration": 1003,
    "start_time": "2022-02-14T14:17:19.647Z"
   },
   {
    "duration": 55,
    "start_time": "2022-02-14T14:17:20.652Z"
   },
   {
    "duration": 4,
    "start_time": "2022-02-14T14:17:20.709Z"
   },
   {
    "duration": 9,
    "start_time": "2022-02-14T14:17:20.715Z"
   },
   {
    "duration": 3,
    "start_time": "2022-02-14T14:17:20.725Z"
   },
   {
    "duration": 10,
    "start_time": "2022-02-14T14:17:20.729Z"
   },
   {
    "duration": 7,
    "start_time": "2022-02-14T14:17:20.741Z"
   },
   {
    "duration": 77,
    "start_time": "2022-02-14T14:17:20.750Z"
   },
   {
    "duration": 25,
    "start_time": "2022-02-14T14:17:20.829Z"
   },
   {
    "duration": 7,
    "start_time": "2022-02-14T14:17:20.855Z"
   },
   {
    "duration": 8,
    "start_time": "2022-02-14T14:17:20.864Z"
   },
   {
    "duration": 6,
    "start_time": "2022-02-14T14:17:20.873Z"
   },
   {
    "duration": 36,
    "start_time": "2022-02-14T14:17:20.881Z"
   },
   {
    "duration": 9,
    "start_time": "2022-02-14T14:17:20.919Z"
   },
   {
    "duration": 8,
    "start_time": "2022-02-14T14:17:20.929Z"
   },
   {
    "duration": 6,
    "start_time": "2022-02-14T14:17:20.938Z"
   },
   {
    "duration": 7,
    "start_time": "2022-02-14T14:17:20.945Z"
   },
   {
    "duration": 16,
    "start_time": "2022-02-14T14:17:20.953Z"
   },
   {
    "duration": 7,
    "start_time": "2022-02-14T14:17:20.971Z"
   },
   {
    "duration": 37,
    "start_time": "2022-02-14T14:17:20.979Z"
   },
   {
    "duration": 6,
    "start_time": "2022-02-14T14:17:21.018Z"
   },
   {
    "duration": 7,
    "start_time": "2022-02-14T14:17:21.026Z"
   },
   {
    "duration": 35,
    "start_time": "2022-02-14T14:17:21.037Z"
   },
   {
    "duration": 37,
    "start_time": "2022-02-14T14:17:21.075Z"
   },
   {
    "duration": 10,
    "start_time": "2022-02-14T14:17:21.114Z"
   },
   {
    "duration": 9,
    "start_time": "2022-02-14T14:17:21.126Z"
   },
   {
    "duration": 8,
    "start_time": "2022-02-14T14:17:21.136Z"
   },
   {
    "duration": 8,
    "start_time": "2022-02-14T14:17:21.146Z"
   },
   {
    "duration": 8,
    "start_time": "2022-02-14T14:17:21.156Z"
   },
   {
    "duration": 56,
    "start_time": "2022-02-14T14:17:21.165Z"
   },
   {
    "duration": 13,
    "start_time": "2022-02-14T14:17:21.223Z"
   },
   {
    "duration": 4,
    "start_time": "2022-02-14T14:17:21.237Z"
   },
   {
    "duration": 11,
    "start_time": "2022-02-14T14:17:21.243Z"
   },
   {
    "duration": 8,
    "start_time": "2022-02-14T14:17:21.255Z"
   },
   {
    "duration": 50,
    "start_time": "2022-02-14T14:17:21.265Z"
   },
   {
    "duration": 11,
    "start_time": "2022-02-14T14:17:21.317Z"
   },
   {
    "duration": 10,
    "start_time": "2022-02-14T14:17:21.330Z"
   },
   {
    "duration": 8,
    "start_time": "2022-02-14T14:17:21.342Z"
   },
   {
    "duration": 78,
    "start_time": "2022-02-14T14:17:21.352Z"
   },
   {
    "duration": 203,
    "start_time": "2022-02-14T14:17:21.432Z"
   },
   {
    "duration": 162,
    "start_time": "2022-02-14T14:17:21.636Z"
   },
   {
    "duration": 332,
    "start_time": "2022-02-14T14:17:21.800Z"
   },
   {
    "duration": 26,
    "start_time": "2022-02-14T14:17:22.134Z"
   },
   {
    "duration": 63,
    "start_time": "2022-02-14T14:17:22.162Z"
   },
   {
    "duration": 3833,
    "start_time": "2022-02-14T14:17:22.226Z"
   },
   {
    "duration": 3740,
    "start_time": "2022-02-14T14:17:26.060Z"
   },
   {
    "duration": 93,
    "start_time": "2022-02-14T14:17:29.802Z"
   },
   {
    "duration": 739,
    "start_time": "2022-02-14T14:17:29.897Z"
   },
   {
    "duration": -83,
    "start_time": "2022-02-14T14:17:30.721Z"
   },
   {
    "duration": -85,
    "start_time": "2022-02-14T14:17:30.724Z"
   },
   {
    "duration": -86,
    "start_time": "2022-02-14T14:17:30.726Z"
   },
   {
    "duration": 21,
    "start_time": "2022-02-14T14:22:24.339Z"
   },
   {
    "duration": 4,
    "start_time": "2022-02-14T14:22:51.939Z"
   },
   {
    "duration": 1005,
    "start_time": "2022-02-14T14:23:08.141Z"
   },
   {
    "duration": 56,
    "start_time": "2022-02-14T14:23:09.148Z"
   },
   {
    "duration": 6,
    "start_time": "2022-02-14T14:23:09.207Z"
   },
   {
    "duration": 9,
    "start_time": "2022-02-14T14:23:09.215Z"
   },
   {
    "duration": 3,
    "start_time": "2022-02-14T14:23:09.226Z"
   },
   {
    "duration": 8,
    "start_time": "2022-02-14T14:23:09.231Z"
   },
   {
    "duration": 9,
    "start_time": "2022-02-14T14:23:09.240Z"
   },
   {
    "duration": 82,
    "start_time": "2022-02-14T14:23:09.252Z"
   },
   {
    "duration": 22,
    "start_time": "2022-02-14T14:23:09.336Z"
   },
   {
    "duration": 8,
    "start_time": "2022-02-14T14:23:09.359Z"
   },
   {
    "duration": 7,
    "start_time": "2022-02-14T14:23:09.368Z"
   },
   {
    "duration": 36,
    "start_time": "2022-02-14T14:23:09.377Z"
   },
   {
    "duration": 6,
    "start_time": "2022-02-14T14:23:09.415Z"
   },
   {
    "duration": 7,
    "start_time": "2022-02-14T14:23:09.423Z"
   },
   {
    "duration": 7,
    "start_time": "2022-02-14T14:23:09.432Z"
   },
   {
    "duration": 6,
    "start_time": "2022-02-14T14:23:09.440Z"
   },
   {
    "duration": 7,
    "start_time": "2022-02-14T14:23:09.447Z"
   },
   {
    "duration": 6,
    "start_time": "2022-02-14T14:23:09.455Z"
   },
   {
    "duration": 7,
    "start_time": "2022-02-14T14:23:09.463Z"
   },
   {
    "duration": 45,
    "start_time": "2022-02-14T14:23:09.471Z"
   },
   {
    "duration": 8,
    "start_time": "2022-02-14T14:23:09.517Z"
   },
   {
    "duration": 7,
    "start_time": "2022-02-14T14:23:09.526Z"
   },
   {
    "duration": 34,
    "start_time": "2022-02-14T14:23:09.537Z"
   },
   {
    "duration": 39,
    "start_time": "2022-02-14T14:23:09.574Z"
   },
   {
    "duration": 10,
    "start_time": "2022-02-14T14:23:09.615Z"
   },
   {
    "duration": 9,
    "start_time": "2022-02-14T14:23:09.627Z"
   },
   {
    "duration": 9,
    "start_time": "2022-02-14T14:23:09.637Z"
   },
   {
    "duration": 9,
    "start_time": "2022-02-14T14:23:09.647Z"
   },
   {
    "duration": 10,
    "start_time": "2022-02-14T14:23:09.658Z"
   },
   {
    "duration": 50,
    "start_time": "2022-02-14T14:23:09.670Z"
   },
   {
    "duration": 12,
    "start_time": "2022-02-14T14:23:09.722Z"
   },
   {
    "duration": 3,
    "start_time": "2022-02-14T14:23:09.736Z"
   },
   {
    "duration": 25,
    "start_time": "2022-02-14T14:23:09.741Z"
   },
   {
    "duration": 13,
    "start_time": "2022-02-14T14:23:09.768Z"
   },
   {
    "duration": 15,
    "start_time": "2022-02-14T14:23:09.782Z"
   },
   {
    "duration": 21,
    "start_time": "2022-02-14T14:23:09.799Z"
   },
   {
    "duration": 8,
    "start_time": "2022-02-14T14:23:09.822Z"
   },
   {
    "duration": 7,
    "start_time": "2022-02-14T14:23:09.832Z"
   },
   {
    "duration": 74,
    "start_time": "2022-02-14T14:23:09.841Z"
   },
   {
    "duration": 199,
    "start_time": "2022-02-14T14:23:09.917Z"
   },
   {
    "duration": 162,
    "start_time": "2022-02-14T14:23:10.117Z"
   },
   {
    "duration": 458,
    "start_time": "2022-02-14T14:23:10.280Z"
   },
   {
    "duration": 76,
    "start_time": "2022-02-14T14:23:10.740Z"
   },
   {
    "duration": 41,
    "start_time": "2022-02-14T14:23:10.817Z"
   },
   {
    "duration": 3832,
    "start_time": "2022-02-14T14:23:10.913Z"
   },
   {
    "duration": 3566,
    "start_time": "2022-02-14T14:23:14.746Z"
   },
   {
    "duration": 100,
    "start_time": "2022-02-14T14:23:18.314Z"
   },
   {
    "duration": 292,
    "start_time": "2022-02-14T14:23:18.416Z"
   },
   {
    "duration": -113,
    "start_time": "2022-02-14T14:23:18.823Z"
   },
   {
    "duration": -114,
    "start_time": "2022-02-14T14:23:18.825Z"
   },
   {
    "duration": -114,
    "start_time": "2022-02-14T14:23:18.827Z"
   },
   {
    "duration": 1001,
    "start_time": "2022-02-14T14:23:50.674Z"
   },
   {
    "duration": 49,
    "start_time": "2022-02-14T14:23:51.677Z"
   },
   {
    "duration": 3,
    "start_time": "2022-02-14T14:23:51.728Z"
   },
   {
    "duration": 10,
    "start_time": "2022-02-14T14:23:51.733Z"
   },
   {
    "duration": 2,
    "start_time": "2022-02-14T14:23:51.745Z"
   },
   {
    "duration": 8,
    "start_time": "2022-02-14T14:23:51.749Z"
   },
   {
    "duration": 7,
    "start_time": "2022-02-14T14:23:51.759Z"
   },
   {
    "duration": 82,
    "start_time": "2022-02-14T14:23:51.769Z"
   },
   {
    "duration": 19,
    "start_time": "2022-02-14T14:23:51.853Z"
   },
   {
    "duration": 7,
    "start_time": "2022-02-14T14:23:51.873Z"
   },
   {
    "duration": 30,
    "start_time": "2022-02-14T14:23:51.882Z"
   },
   {
    "duration": 7,
    "start_time": "2022-02-14T14:23:51.914Z"
   },
   {
    "duration": 7,
    "start_time": "2022-02-14T14:23:51.922Z"
   },
   {
    "duration": 6,
    "start_time": "2022-02-14T14:23:51.930Z"
   },
   {
    "duration": 6,
    "start_time": "2022-02-14T14:23:51.938Z"
   },
   {
    "duration": 5,
    "start_time": "2022-02-14T14:23:51.946Z"
   },
   {
    "duration": 7,
    "start_time": "2022-02-14T14:23:51.953Z"
   },
   {
    "duration": 52,
    "start_time": "2022-02-14T14:23:51.962Z"
   },
   {
    "duration": 7,
    "start_time": "2022-02-14T14:23:52.016Z"
   },
   {
    "duration": 6,
    "start_time": "2022-02-14T14:23:52.024Z"
   },
   {
    "duration": 6,
    "start_time": "2022-02-14T14:23:52.031Z"
   },
   {
    "duration": 7,
    "start_time": "2022-02-14T14:23:52.038Z"
   },
   {
    "duration": 78,
    "start_time": "2022-02-14T14:23:52.048Z"
   },
   {
    "duration": 13,
    "start_time": "2022-02-14T14:23:52.128Z"
   },
   {
    "duration": 9,
    "start_time": "2022-02-14T14:23:52.142Z"
   },
   {
    "duration": 9,
    "start_time": "2022-02-14T14:23:52.152Z"
   },
   {
    "duration": 9,
    "start_time": "2022-02-14T14:23:52.162Z"
   },
   {
    "duration": 47,
    "start_time": "2022-02-14T14:23:52.173Z"
   },
   {
    "duration": 7,
    "start_time": "2022-02-14T14:23:52.222Z"
   },
   {
    "duration": 7,
    "start_time": "2022-02-14T14:23:52.231Z"
   },
   {
    "duration": 11,
    "start_time": "2022-02-14T14:23:52.240Z"
   },
   {
    "duration": 3,
    "start_time": "2022-02-14T14:23:52.253Z"
   },
   {
    "duration": 9,
    "start_time": "2022-02-14T14:23:52.258Z"
   },
   {
    "duration": 49,
    "start_time": "2022-02-14T14:23:52.268Z"
   },
   {
    "duration": 11,
    "start_time": "2022-02-14T14:23:52.319Z"
   },
   {
    "duration": 10,
    "start_time": "2022-02-14T14:23:52.332Z"
   },
   {
    "duration": 11,
    "start_time": "2022-02-14T14:23:52.344Z"
   },
   {
    "duration": 57,
    "start_time": "2022-02-14T14:23:52.356Z"
   },
   {
    "duration": 44,
    "start_time": "2022-02-14T14:23:52.415Z"
   },
   {
    "duration": 205,
    "start_time": "2022-02-14T14:23:52.461Z"
   },
   {
    "duration": 171,
    "start_time": "2022-02-14T14:23:52.668Z"
   },
   {
    "duration": 330,
    "start_time": "2022-02-14T14:23:52.840Z"
   },
   {
    "duration": 64,
    "start_time": "2022-02-14T14:23:53.172Z"
   },
   {
    "duration": 96,
    "start_time": "2022-02-14T14:23:53.238Z"
   },
   {
    "duration": 4675,
    "start_time": "2022-02-14T14:23:53.336Z"
   },
   {
    "duration": 4375,
    "start_time": "2022-02-14T14:23:58.013Z"
   },
   {
    "duration": 106,
    "start_time": "2022-02-14T14:24:02.390Z"
   },
   {
    "duration": 274,
    "start_time": "2022-02-14T14:24:02.498Z"
   },
   {
    "duration": -31,
    "start_time": "2022-02-14T14:24:02.804Z"
   },
   {
    "duration": -32,
    "start_time": "2022-02-14T14:24:02.806Z"
   },
   {
    "duration": -34,
    "start_time": "2022-02-14T14:24:02.809Z"
   },
   {
    "duration": 1039,
    "start_time": "2022-02-14T14:24:38.522Z"
   },
   {
    "duration": 30,
    "start_time": "2022-02-14T14:24:48.887Z"
   },
   {
    "duration": 182,
    "start_time": "2022-02-14T14:24:52.039Z"
   },
   {
    "duration": 64,
    "start_time": "2022-02-14T14:25:01.953Z"
   },
   {
    "duration": 93,
    "start_time": "2022-02-14T14:25:05.273Z"
   },
   {
    "duration": 112,
    "start_time": "2022-02-14T14:25:54.191Z"
   }
  ],
  "kernelspec": {
   "display_name": "Python 3 (ipykernel)",
   "language": "python",
   "name": "python3"
  },
  "language_info": {
   "codemirror_mode": {
    "name": "ipython",
    "version": 3
   },
   "file_extension": ".py",
   "mimetype": "text/x-python",
   "name": "python",
   "nbconvert_exporter": "python",
   "pygments_lexer": "ipython3",
   "version": "3.9.5"
  },
  "toc": {
   "base_numbering": 1,
   "nav_menu": {},
   "number_sections": true,
   "sideBar": true,
   "skip_h1_title": true,
   "title_cell": "Содержание",
   "title_sidebar": "Contents",
   "toc_cell": true,
   "toc_position": {
    "height": "calc(100% - 180px)",
    "left": "10px",
    "top": "150px",
    "width": "305.594px"
   },
   "toc_section_display": true,
   "toc_window_display": true
  }
 },
 "nbformat": 4,
 "nbformat_minor": 2
}
