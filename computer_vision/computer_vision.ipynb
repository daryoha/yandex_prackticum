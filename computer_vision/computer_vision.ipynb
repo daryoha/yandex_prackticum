{
 "cells": [
  {
   "cell_type": "markdown",
   "metadata": {},
   "source": [
    "Привет еще раз, меня зовут Аблаев Люман. Сегодня я проверю твой проект.\n",
    "<br> Дальнейшее общение будет происходить на \"ты\" если это не вызывает никаких проблем.\n",
    "<br> Желательно реагировать на каждый мой комментарий ('исправил', 'не понятно как исправить ошибку', ...)\n",
    "<br> Пожалуйста, не удаляй комментарии ревьюера, так как они повышают качество повторного ревью.\n",
    "\n",
    "Комментарии будут в <font color='green'>зеленой</font>, <font color='blue'>синей</font> или <font color='red'>красной</font> рамках:\n",
    "\n",
    "<div class=\"alert alert-block alert-success\">\n",
    "<b>Успех:</b> Если все сделано отлично\n",
    "</div>\n",
    "\n",
    "<div class=\"alert alert-block alert-info\">\n",
    "<b>Совет: </b> Если можно немного улучшить\n",
    "</div>\n",
    "\n",
    "<div class=\"alert alert-block alert-danger\">\n",
    "<b>Ошибка:</b> Если требуются исправления. Работа не может быть принята с красными комментариями.\n",
    "</div>\n",
    "\n",
    "<font color='orange' style='font-size:24px; font-weight:bold'>Полезные ссылки:</font>\n",
    "* Могу предложить обратить внимание на вот этот курс: https://vk.com/dlschool_mipt\n",
    "\n",
    "<font color='orange' style='font-size:24px; font-weight:bold'>Общее впечатление</font>\n",
    "* Большое спасибо за проделанную работу.\n",
    "* Радует, что проект хорошо структурирован. Приятно проверять такие работы.\n",
    "* Есть небольшие недочеты с анализом и выводами, думаю ты легко их поправишь.\n",
    "- Жду твой обновленный проект =)\n"
   ]
  },
  {
   "cell_type": "markdown",
   "metadata": {},
   "source": [
    "<font color='orange' style='font-size:24px; font-weight:bold'>Общее впечатление[2]</font>\n",
    "* Спасибо за оперативность\n",
    "- Приятно видеть фидбек на комментарии.\n",
    "- Недочеты исправлены - работа полностью корректна\n",
    "- Рад был быть полезен. Удачи в дальнейшем обучении!"
   ]
  },
  {
   "cell_type": "markdown",
   "metadata": {},
   "source": [
    "# Определение возраста покупателей"
   ]
  },
  {
   "cell_type": "markdown",
   "metadata": {},
   "source": [
    "<div class=\"alert alert-block alert-info\">\n",
    "<b>Совет: </b> Не забывай про описание проекта\n",
    "</div>"
   ]
  },
  {
   "cell_type": "markdown",
   "metadata": {},
   "source": [
    "<div class=\"alert alert-warning\"> \n",
    "<b> Комментарий студентки: </b> \n",
    "    Добавила\n",
    "</div>"
   ]
  },
  {
   "cell_type": "markdown",
   "metadata": {},
   "source": [
    "Сетевой супермаркет «Хлеб-Соль» внедряет систему компьютерного зрения для обработки фотографий покупателей. Фотофиксация в прикассовой зоне поможет определять возраст клиентов, чтобы:\n",
    "\n",
    "- Анализировать покупки и предлагать товары, которые могут заинтересовать покупателей этой возрастной группы;\n",
    "- Контролировать добросовестность кассиров при продаже алкоголя.\n",
    "\n",
    "Постройте модель, которая по фотографии определит приблизительный возраст человека. В вашем распоряжении набор фотографий людей с указанием возраста."
   ]
  },
  {
   "cell_type": "markdown",
   "metadata": {},
   "source": [
    "## Исследовательский анализ данных"
   ]
  },
  {
   "cell_type": "code",
   "execution_count": 1,
   "metadata": {},
   "outputs": [],
   "source": [
    "# импорт необходимых библиотек\n",
    "import pandas as pd\n",
    "from tensorflow.keras.preprocessing.image import ImageDataGenerator\n",
    "import numpy as np\n",
    "import matplotlib.pyplot as plt"
   ]
  },
  {
   "cell_type": "code",
   "execution_count": 2,
   "metadata": {},
   "outputs": [
    {
     "data": {
      "text/plain": [
       "(7591, 2)"
      ]
     },
     "metadata": {},
     "output_type": "display_data"
    }
   ],
   "source": [
    "# создание датафрейма\n",
    "labels = pd.read_csv('/datasets/faces/labels.csv')\n",
    "# вывод его размеров\n",
    "display(labels.shape)"
   ]
  },
  {
   "cell_type": "code",
   "execution_count": 3,
   "metadata": {},
   "outputs": [
    {
     "data": {
      "text/html": [
       "<div>\n",
       "<style scoped>\n",
       "    .dataframe tbody tr th:only-of-type {\n",
       "        vertical-align: middle;\n",
       "    }\n",
       "\n",
       "    .dataframe tbody tr th {\n",
       "        vertical-align: top;\n",
       "    }\n",
       "\n",
       "    .dataframe thead th {\n",
       "        text-align: right;\n",
       "    }\n",
       "</style>\n",
       "<table border=\"1\" class=\"dataframe\">\n",
       "  <thead>\n",
       "    <tr style=\"text-align: right;\">\n",
       "      <th></th>\n",
       "      <th>file_name</th>\n",
       "      <th>real_age</th>\n",
       "    </tr>\n",
       "  </thead>\n",
       "  <tbody>\n",
       "    <tr>\n",
       "      <th>0</th>\n",
       "      <td>000000.jpg</td>\n",
       "      <td>4</td>\n",
       "    </tr>\n",
       "    <tr>\n",
       "      <th>1</th>\n",
       "      <td>000001.jpg</td>\n",
       "      <td>18</td>\n",
       "    </tr>\n",
       "    <tr>\n",
       "      <th>2</th>\n",
       "      <td>000002.jpg</td>\n",
       "      <td>80</td>\n",
       "    </tr>\n",
       "    <tr>\n",
       "      <th>3</th>\n",
       "      <td>000003.jpg</td>\n",
       "      <td>50</td>\n",
       "    </tr>\n",
       "    <tr>\n",
       "      <th>4</th>\n",
       "      <td>000004.jpg</td>\n",
       "      <td>17</td>\n",
       "    </tr>\n",
       "  </tbody>\n",
       "</table>\n",
       "</div>"
      ],
      "text/plain": [
       "    file_name  real_age\n",
       "0  000000.jpg         4\n",
       "1  000001.jpg        18\n",
       "2  000002.jpg        80\n",
       "3  000003.jpg        50\n",
       "4  000004.jpg        17"
      ]
     },
     "metadata": {},
     "output_type": "display_data"
    }
   ],
   "source": [
    "display(labels.head(5))"
   ]
  },
  {
   "cell_type": "code",
   "execution_count": 4,
   "metadata": {},
   "outputs": [
    {
     "name": "stdout",
     "output_type": "stream",
     "text": [
      "<class 'pandas.core.frame.DataFrame'>\n",
      "RangeIndex: 7591 entries, 0 to 7590\n",
      "Data columns (total 2 columns):\n",
      " #   Column     Non-Null Count  Dtype \n",
      "---  ------     --------------  ----- \n",
      " 0   file_name  7591 non-null   object\n",
      " 1   real_age   7591 non-null   int64 \n",
      "dtypes: int64(1), object(1)\n",
      "memory usage: 118.7+ KB\n"
     ]
    }
   ],
   "source": [
    "# информация о датафрейме\n",
    "labels.info()"
   ]
  },
  {
   "cell_type": "markdown",
   "metadata": {},
   "source": [
    "Пропусков в данных нет. Типы столбцоы корректны. "
   ]
  },
  {
   "cell_type": "code",
   "execution_count": 5,
   "metadata": {},
   "outputs": [
    {
     "data": {
      "text/plain": [
       "count    7591.000000\n",
       "mean       31.201159\n",
       "std        17.145060\n",
       "min         1.000000\n",
       "25%        20.000000\n",
       "50%        29.000000\n",
       "75%        41.000000\n",
       "max       100.000000\n",
       "Name: real_age, dtype: float64"
      ]
     },
     "execution_count": 5,
     "metadata": {},
     "output_type": "execute_result"
    }
   ],
   "source": [
    "# описание значений в столбце с возрастом\n",
    "labels['real_age'].describe()"
   ]
  },
  {
   "cell_type": "code",
   "execution_count": 8,
   "metadata": {
    "scrolled": true
   },
   "outputs": [
    {
     "data": {
      "text/plain": [
       "<AxesSubplot:>"
      ]
     },
     "execution_count": 8,
     "metadata": {},
     "output_type": "execute_result"
    },
    {
     "data": {
      "image/png": "[encoded data removed]",
      "text/plain": [
       "<Figure size 432x288 with 1 Axes>"
      ]
     },
     "metadata": {
      "needs_background": "light"
     },
     "output_type": "display_data"
    }
   ],
   "source": [
    "# построение распределения\n",
    "labels['real_age'].hist(bins=100);"
   ]
  },
  {
   "cell_type": "markdown",
   "metadata": {},
   "source": [
    "Больше всего данных в диапозоне от 15 до 30 лет. Полагаю, что это связано с тем, что в эти годы люди наиболее активно пользуются социальными сетями, где как раз-таки и выкладывают фотографии. После 30 и до 100 лет количество фотографий заметно падает, что связано с тем, что чем страше люди, тем меньше вероятность, что они являются активными пользователями интернета, а также мало людей доживают до такого приклонного возраста. Есть несколько пиков в юбилейные даты - 20б 25б 30, 40, 50, 60 и так далее, полагаю, это связано с тем, что на днях рождениях чаще всего люди фотографируются и зачастую выкладывают. "
   ]
  },
  {
   "cell_type": "markdown",
   "metadata": {},
   "source": [
    "\n",
    "\n",
    "<div class=\"alert alert-block alert-info\">\n",
    "<b>Совет:</b> Выбрано не лучшее кол-во количество корзин - попробуй 100.  Такое количество позволяют увидеть все основные особенности: пики, выбросы, вид распределения. Важно обратить внимание на пики и выдвинуть предположение откуда они могли появиться.  \n",
    "      "
   ]
  },
  {
   "cell_type": "markdown",
   "metadata": {},
   "source": [
    "<div class=\"alert alert-warning\"> \n",
    "<b> Комментарий студентки: </b> \n",
    "    Дописала\n",
    "</div>"
   ]
  },
  {
   "cell_type": "markdown",
   "metadata": {},
   "source": [
    "\n",
    "\n",
    "<div class=\"alert alert-block alert-success\">\n",
    "<b>Успех[2]:</b> Есть  контакт\n",
    "</div>\n",
    "\n"
   ]
  },
  {
   "cell_type": "code",
   "execution_count": null,
   "metadata": {},
   "outputs": [],
   "source": [
    "train_datagen = ImageDataGenerator(rescale=1./255)\n",
    "train_gen_flow = train_datagen.flow_from_dataframe(\n",
    "        dataframe=labels,\n",
    "        directory='/datasets/faces/final_files/',\n",
    "        x_col='file_name',\n",
    "        y_col='real_age',\n",
    "        target_size=(224, 224),\n",
    "        batch_size=32,\n",
    "        class_mode='raw',\n",
    "        seed=12345)"
   ]
  },
  {
   "cell_type": "code",
   "execution_count": null,
   "metadata": {},
   "outputs": [],
   "source": [
    "features, target = next(train_gen_flow)\n",
    "fig = plt.figure(figsize=(10,10))\n",
    "for i in range(15):\n",
    "    fig.add_subplot(4, 4, i+1)\n",
    "    plt.imshow(features[i])\n",
    "    plt.xticks([])\n",
    "    plt.yticks([])\n",
    "    plt.tight_layout()"
   ]
  },
  {
   "cell_type": "markdown",
   "metadata": {},
   "source": [
    "Данные распределны нормально и пропусков нет, модель явно не получит неверные значения для обучения. Датасет достаточного размера для обучения. Все фотографии разичны: разный свет и цвет, положение, повороты и прочее, то есть аугментацию можно и не делать, модель все равно будет достаточно полной. "
   ]
  },
  {
   "cell_type": "markdown",
   "metadata": {},
   "source": [
    "<div class=\"alert alert-block alert-success\">\n",
    "<b>Успех:</b> Отлично, что фотографии выведены в несколько рядов (можно еще сверху указать  возраст). \n",
    "</div>\n"
   ]
  },
  {
   "cell_type": "markdown",
   "metadata": {},
   "source": [
    "<div class=\"alert alert-danger\">\n",
    "<b>Ошибка</b>\n",
    "\n",
    "По результатам анализа датасета, гистограммы и фото необходимы выводы:\n",
    "\n",
    "1 Пояснения по размеру выборки (большая, маленькая, достаточная) и предложения по работе с датасетом такого размера.\n",
    "\n",
    "2 Выводы по гистограмме. Обратить внимание на выбросы, пики в круглые даты и выдвинуть предположения почему они могли появиться.\n",
    "    \n",
    "~~3. По фото. Описать особенности увиденные на фото: цветность, качество, размер лиц, угол поворота и т.п.~~"
   ]
  },
  {
   "cell_type": "markdown",
   "metadata": {},
   "source": [
    "<div class=\"alert alert-warning\"> \n",
    "<b> Комментарий студентки: </b> \n",
    "    Дописала\n",
    "</div>"
   ]
  },
  {
   "cell_type": "markdown",
   "metadata": {},
   "source": [
    "\n",
    "\n",
    "<div class=\"alert alert-block alert-success\">\n",
    "<b>Успех[2]:</b> Анализ проведен \n",
    "</div>\n",
    "\n"
   ]
  },
  {
   "cell_type": "markdown",
   "metadata": {},
   "source": [
    "## Обучение модели"
   ]
  },
  {
   "cell_type": "markdown",
   "metadata": {},
   "source": [
    "Перенесите сюда код обучения модели и её результат вывода на экран.\n",
    "\n",
    "\n",
    "(Код в этом разделе запускается в отдельном GPU-тренажёре, поэтому оформлен не как ячейка с кодом, а как код в текстовой ячейке)"
   ]
  },
  {
   "cell_type": "markdown",
   "metadata": {},
   "source": [
    "```python\n",
    "\n",
    "from tensorflow import keras\n",
    "import numpy as np\n",
    "from tensorflow.keras.applications.resnet import ResNet50\n",
    "import pandas as pd\n",
    "\n",
    "def load_train(path):\n",
    "    dataframe = pd.read_csv(path + 'labels.csv')\n",
    "    train_datagen = keras.preprocessing.image.ImageDataGenerator(rescale=1./255, \n",
    "        validation_split=0.25)\n",
    "    train_gen_flow = train_datagen.flow_from_dataframe(\n",
    "        dataframe=dataframe,\n",
    "        directory=path + 'final_files/',\n",
    "        x_col='file_name',\n",
    "        y_col='real_age',\n",
    "        target_size=(224, 224),\n",
    "        batch_size=16,\n",
    "        class_mode='raw',\n",
    "        subset='training')\n",
    "\n",
    "    return train_gen_flow\n",
    "\n",
    "def load_test(path):\n",
    "    dataframe = pd.read_csv(path + 'labels.csv')\n",
    "    test_datagen = keras.preprocessing.image.ImageDataGenerator(rescale=1./255, \n",
    "        validation_split=0.25)\n",
    "    test_gen_flow = test_datagen.flow_from_dataframe(\n",
    "        dataframe=dataframe,\n",
    "        directory=path + 'final_files/',\n",
    "        x_col='file_name',\n",
    "        y_col='real_age',\n",
    "        target_size=(224, 224),\n",
    "        batch_size=16,\n",
    "        class_mode='raw',\n",
    "        subset='validation')\n",
    "\n",
    "    return test_gen_flow\n",
    "\n",
    "def create_model(input_shape):\n",
    "    backbone = ResNet50(input_shape=input_shape,\n",
    "                    weights='imagenet', \n",
    "                    include_top=False)\n",
    "\n",
    "    model = keras.models.Sequential()\n",
    "    optimizer = keras.optimizers.Adam(lr=0.0001)\n",
    "\n",
    "    model.add(backbone)\n",
    "    model.add(keras.layers.GlobalAveragePooling2D())\n",
    "\n",
    "    model.add(keras.layers.Dense(units=1, activation='relu'))\n",
    "\n",
    "    model.compile(loss='mse', optimizer=optimizer, \n",
    "    metrics=['mae'])\n",
    "    return model\n",
    "\n",
    "def train_model(model, train_data, test_data, batch_size=None, epochs=10,\n",
    "steps_per_epoch=None, validation_steps=None):\n",
    "    model.fit(train_data, \n",
    "              validation_data=(test_data),\n",
    "              batch_size=batch_size, epochs=epochs,\n",
    "              steps_per_epoch=steps_per_epoch,\n",
    "              validation_steps=validation_steps,\n",
    "              verbose=2, shuffle=True)\n",
    "\n",
    "    return model \n",
    "\n",
    "```"
   ]
  },
  {
   "cell_type": "markdown",
   "metadata": {},
   "source": [
    "```\n",
    "\n",
    "Epoch 1/10\n",
    "356/356 - 63s - loss: 210.6648 - mae: 10.6899 - val_loss: 889.0694 - val_mae: 25.0286\n",
    "Epoch 2/10\n",
    "356/356 - 56s - loss: 67.4312 - mae: 6.2622 - val_loss: 125.0278 - val_mae: 8.3381\n",
    "Epoch 3/10\n",
    "356/356 - 49s - loss: 36.8597 - mae: 4.6818 - val_loss: 90.5838 - val_mae: 7.0282\n",
    "Epoch 4/10\n",
    "356/356 - 48s - loss: 23.3239 - mae: 3.7652 - val_loss: 74.5376 - val_mae: 6.4957\n",
    "Epoch 5/10\n",
    "356/356 - 56s - loss: 18.0730 - mae: 3.2495 - val_loss: 83.0221 - val_mae: 6.8712\n",
    "Epoch 6/10\n",
    "356/356 - 54s - loss: 16.4980 - mae: 3.0708 - val_loss: 80.9700 - val_mae: 6.7607\n",
    "Epoch 7/10\n",
    "356/356 - 45s - loss: 12.9675 - mae: 2.7322 - val_loss: 72.8797 - val_mae: 6.4467\n",
    "Epoch 8/10\n",
    "356/356 - 55s - loss: 10.8663 - mae: 2.5204 - val_loss: 67.9351 - val_mae: 6.2799\n",
    "Epoch 9/10\n",
    "356/356 - 55s - loss: 9.7794 - mae: 2.3571 - val_loss: 71.6046 - val_mae: 6.5102\n",
    "Epoch 10/10\n",
    "356/356 - 49s - loss: 9.5164 - mae: 2.3242 - val_loss: 69.3710 - val_mae: 6.1851\n",
    "\n",
    "119/119 - 11s - loss: 69.3710 - mae: 6.1851\n",
    "Test MAE: 6.1851\n",
    "\n",
    "```"
   ]
  },
  {
   "cell_type": "markdown",
   "metadata": {},
   "source": [
    "## Анализ обученной модели"
   ]
  },
  {
   "cell_type": "markdown",
   "metadata": {},
   "source": [
    "Передо мной стояла задача создать инструмент, который по фотографии определит приблизительный возраст человека. Мною была создаана и обучена нейронная сеть на основе ResNet50 с метрикой MAE и функцией потерь MSE с одним нейроном с активацией ReLu на последним слоем. Так как модель в результате должна предсказывать число, это задача регрессии. Предварительно, для данных был создан генератор для извлечения из файла и податчик батчами размером 16 для того, чтобы не перегружать оперативную память компьютера. Модель обучалась в течении 10 эпох, где значение ошибки упало с 25 до 6.1, что является хорошим результатом. Каждая эпоха по времени длилась 1 минуту, а общее время обучения составило 10 минут, что тоже крайне хороший результат.  "
   ]
  },
  {
   "cell_type": "markdown",
   "metadata": {},
   "source": [
    "<div class=\"alert alert-danger\">\n",
    "<b>Ошибка</b> Отсутствует анализ обученной модели"
   ]
  },
  {
   "cell_type": "markdown",
   "metadata": {},
   "source": [
    "<div class=\"alert alert-warning\"> \n",
    "<b> Комментарий студентки: </b> \n",
    "    Прикол, конечно, но у меня был вывод... Напишу еще раз\n",
    "</div>"
   ]
  },
  {
   "cell_type": "markdown",
   "metadata": {},
   "source": [
    "\n",
    "\n",
    "<div class=\"alert alert-block alert-success\">\n",
    "<b>Успех[2]:</b> Видимо косяк платформы, сорри за это. У самого такое иногда случается во время проверки, если не убедиться, что блокетон сохранился. С технической точки зрения анализ проведен корректно\n",
    "</div>\n",
    "\n"
   ]
  },
  {
   "cell_type": "markdown",
   "metadata": {},
   "source": [
    "<div class=\"alert alert-block alert-info\">\n",
    "<b>Совет[2]: </b> Неплохо  было  бы сказать пару слов о запросах заказчика - насколько хорошо полученная модель позволяет решить поставленные бизнесом задачи.\n",
    "</div>"
   ]
  },
  {
   "cell_type": "markdown",
   "metadata": {},
   "source": [
    "## Чек-лист"
   ]
  },
  {
   "cell_type": "markdown",
   "metadata": {},
   "source": [
    "- [x]  Jupyter Notebook открыт\n",
    "- [x]  Весь код выполняется без ошибок\n",
    "- [x]  Ячейки с кодом расположены в порядке исполнения\n",
    "- [x]  Исследовательский анализ данных выполнен\n",
    "- [x]  Результаты исследовательского анализа данных перенесены в финальную тетрадь\n",
    "- [x]  MAE модели не больше 8\n",
    "- [x]  Код обучения модели скопирован в финальную тетрадь\n",
    "- [x]  Результат вывода модели на экран перенесён в финальную тетрадь\n",
    "- [x]  По итогам обучения модели сделаны выводы"
   ]
  },
  {
   "cell_type": "code",
   "execution_count": null,
   "metadata": {},
   "outputs": [],
   "source": []
  }
 ],
 "metadata": {
  "ExecuteTimeLog": [
   {
    "duration": 47283,
    "start_time": "2022-08-20T12:28:27.809Z"
   },
   {
    "duration": 45,
    "start_time": "2022-08-20T12:29:15.093Z"
   },
   {
    "duration": 10,
    "start_time": "2022-08-20T12:29:15.139Z"
   },
   {
    "duration": 9,
    "start_time": "2022-08-20T12:29:15.150Z"
   },
   {
    "duration": 8,
    "start_time": "2022-08-20T12:29:15.161Z"
   },
   {
    "duration": 144,
    "start_time": "2022-08-20T12:29:15.171Z"
   },
   {
    "duration": 89412,
    "start_time": "2022-08-20T12:29:15.317Z"
   },
   {
    "duration": 1828,
    "start_time": "2022-08-20T12:30:44.731Z"
   },
   {
    "duration": 53,
    "start_time": "2022-08-21T10:47:10.814Z"
   },
   {
    "duration": 73313,
    "start_time": "2022-08-21T10:47:15.433Z"
   },
   {
    "duration": 117,
    "start_time": "2022-08-21T10:48:28.748Z"
   },
   {
    "duration": 12,
    "start_time": "2022-08-21T10:48:28.867Z"
   },
   {
    "duration": 20,
    "start_time": "2022-08-21T10:48:28.880Z"
   },
   {
    "duration": 13,
    "start_time": "2022-08-21T10:48:28.902Z"
   },
   {
    "duration": 429,
    "start_time": "2022-08-21T10:48:28.917Z"
   },
   {
    "duration": 0,
    "start_time": "2022-08-21T10:48:29.348Z"
   },
   {
    "duration": 0,
    "start_time": "2022-08-21T10:48:29.350Z"
   },
   {
    "duration": 79,
    "start_time": "2022-08-21T10:54:03.902Z"
   },
   {
    "duration": 275,
    "start_time": "2022-08-21T10:54:18.168Z"
   }
  ],
  "kernelspec": {
   "display_name": "Python 3 (ipykernel)",
   "language": "python",
   "name": "python3"
  },
  "language_info": {
   "codemirror_mode": {
    "name": "ipython",
    "version": 3
   },
   "file_extension": ".py",
   "mimetype": "text/x-python",
   "name": "python",
   "nbconvert_exporter": "python",
   "pygments_lexer": "ipython3",
   "version": "3.9.5"
  },
  "toc": {
   "base_numbering": 1,
   "nav_menu": {},
   "number_sections": true,
   "sideBar": true,
   "skip_h1_title": true,
   "title_cell": "Table of Contents",
   "title_sidebar": "Contents",
   "toc_cell": false,
   "toc_position": {},
   "toc_section_display": true,
   "toc_window_display": true
  }
 },
 "nbformat": 4,
 "nbformat_minor": 2
}
