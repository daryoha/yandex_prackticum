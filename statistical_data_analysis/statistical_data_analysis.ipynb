{
 "cells": [
  {
   "cell_type": "markdown",
   "metadata": {},
   "source": [
    "<div style=\"border:solid green 2px; padding: 20px\"> <h1 style=\"color:green; margin-bottom:20px\">Комментарий ревьюера v1</h1>\n",
    "\n",
    "Дарья привет! Меня зовут Дмитрий Пышненко, и я буду проверять твой проект. Предлагаю общаться на «ты» если ты не против 😊 Но если нет, то дай знать, и мы перейдем на \"вы\". \n",
    "    \n",
    "Для своих комментариев я буду использовать цветовую разметку:\n",
    "\n",
    "<div class=\"alert alert-success\">\n",
    "    <b>Успех:</b> все сделано правильно.\n",
    "</div>\n",
    "<div class=\"alert alert-warning\">\n",
    "    <b>Есть замечания:</b> так выделены небольшие замечания которые не критичны, но было бы здорово исправить. Если таких замечаний немного, то такой проект может быть принят.\n",
    "</div>\n",
    "<div class=\"alert alert-danger\">\n",
    "    <b>Нужно переделать:</b> есть замечания которые необходимо исправить или доделать для сдачи проекта.\n",
    "</div>\n",
    "    \n",
    "Я буду поддерживать версионность комментариев, и при следующих итерациях я буду оставлять ячейки с новой версией v2 (v3 и.т.д.)\"\n",
    "    \n",
    "Если у тебя есть вопросы, замечания или отвечаешь на комментарии — пиши об этом. Мне будет легче отследить изменения, если ты выделишь свои комментарии: \n",
    "<div class=\"alert alert-info\"> <b>Комментарий студента:</b> Например, вот так.</div>"
   ]
  },
  {
   "cell_type": "markdown",
   "metadata": {},
   "source": [
    "<div style=\"border:solid green 2px; padding: 20px\">\n",
    "<b>Комментарий ревьюера v1:</b>\n",
    "    \n",
    "<b>Общее впечатление:</b> \n",
    "    \n",
    "- У тебя получилась отличная работа, поздравляю! Очень чистый код и структурированный подход к решению задачи. \n",
    "- Осталось исправить совсем чуть-чуть для сдачи проекта (буду также рад исправлениям желтых:):\n",
    "    - Поправить округление звонков.\n",
    "    - Поправить объединение таблиц.\n",
    "    - Поправить формулировку гипотез.\n",
    "    - Чуть расширить общие выводы.\n",
    "    \n",
    "Буду ждать новую версию на повторную проверку. Успехов!\n",
    "    \n",
    "</div>"
   ]
  },
  {
   "cell_type": "markdown",
   "metadata": {},
   "source": [
    "<div style=\"border:solid green 2px; padding: 20px\">\n",
    "<b>Комментарий ревьюера v2:</b>\n",
    "    \n",
    "- Здорово, что внесла исправления в проект. \n",
    "- Из комментариев осталось:\n",
    "    - Поправить объединение таблиц.\n",
    "    - Поправить формулировку гипотез.\n",
    "    \n",
    "Буду ждать новую версию на повторную проверку. Успехов!\n",
    "    \n",
    "</div>"
   ]
  },
  {
   "cell_type": "markdown",
   "metadata": {},
   "source": [
    "<div style=\"border:solid green 2px; padding: 20px\">\n",
    "<b>Комментарий ревьюера v3:</b>\n",
    "    \n",
    "Спасибо, что оперативно внесла исправления! \n",
    "    \n",
    "Было интересно проверять твой проект и желаю успехов на следующих спринтах 🔥\n",
    " \n",
    "    \n",
    "PS: Если наскучит ~~нетфликс~~ кинопоискHD, то могу порекомендовать крутые лекции по стат анализу тут: - https://www.youtube.com/watch?v=enpPFqcIFj8&list=PLlb7e2G7aSpRb95_Wi7lZ-zA6fOjV3_l7\n",
    "</div>"
   ]
  },
  {
   "cell_type": "markdown",
   "metadata": {},
   "source": [
    "# Определение перспективного тарифа для телеком-компании"
   ]
  },
  {
   "cell_type": "markdown",
   "metadata": {},
   "source": [
    "<div class=\"alert alert-warning\">\n",
    "<b>Комментарий ревьюера v1:</b>\n",
    "    \n",
    "Будет совсем хорошо также выделить основные шаги проекта отдельным абзацем и добавить оглавление.\n",
    "\n",
    "При создании портфолио на гитхабе данная информация может выступать в качестве Readme файла. Прочитать про создание README можно, например, тут [https://medium.com/nuances-of-programming/как-написать-хороший-readme-краткий-курс-79aede120702](https://medium.com/nuances-of-programming/%D0%BA%D0%B0%D0%BA-%D0%BD%D0%B0%D0%BF%D0%B8%D1%81%D0%B0%D1%82%D1%8C-%D1%85%D0%BE%D1%80%D0%BE%D1%88%D0%B8%D0%B9-readme-%D0%BA%D1%80%D0%B0%D1%82%D0%BA%D0%B8%D0%B9-%D0%BA%D1%83%D1%80%D1%81-79aede120702)"
   ]
  },
  {
   "cell_type": "markdown",
   "metadata": {},
   "source": [
    "## Изучение данных из файла"
   ]
  },
  {
   "cell_type": "code",
   "execution_count": 1,
   "metadata": {},
   "outputs": [],
   "source": [
    "# импортирование библиотек\n",
    "import pandas as pd\n",
    "import numpy as np\n",
    "from scipy import stats as st"
   ]
  },
  {
   "cell_type": "markdown",
   "metadata": {},
   "source": [
    "### Информация о звонках"
   ]
  },
  {
   "cell_type": "code",
   "execution_count": 2,
   "metadata": {},
   "outputs": [
    {
     "data": {
      "text/html": [
       "<div>\n",
       "<style scoped>\n",
       "    .dataframe tbody tr th:only-of-type {\n",
       "        vertical-align: middle;\n",
       "    }\n",
       "\n",
       "    .dataframe tbody tr th {\n",
       "        vertical-align: top;\n",
       "    }\n",
       "\n",
       "    .dataframe thead th {\n",
       "        text-align: right;\n",
       "    }\n",
       "</style>\n",
       "<table border=\"1\" class=\"dataframe\">\n",
       "  <thead>\n",
       "    <tr style=\"text-align: right;\">\n",
       "      <th></th>\n",
       "      <th>id</th>\n",
       "      <th>call_date</th>\n",
       "      <th>duration</th>\n",
       "      <th>user_id</th>\n",
       "    </tr>\n",
       "  </thead>\n",
       "  <tbody>\n",
       "    <tr>\n",
       "      <td>0</td>\n",
       "      <td>1000_0</td>\n",
       "      <td>2018-07-25</td>\n",
       "      <td>0.00</td>\n",
       "      <td>1000</td>\n",
       "    </tr>\n",
       "    <tr>\n",
       "      <td>1</td>\n",
       "      <td>1000_1</td>\n",
       "      <td>2018-08-17</td>\n",
       "      <td>0.00</td>\n",
       "      <td>1000</td>\n",
       "    </tr>\n",
       "    <tr>\n",
       "      <td>2</td>\n",
       "      <td>1000_2</td>\n",
       "      <td>2018-06-11</td>\n",
       "      <td>2.85</td>\n",
       "      <td>1000</td>\n",
       "    </tr>\n",
       "    <tr>\n",
       "      <td>3</td>\n",
       "      <td>1000_3</td>\n",
       "      <td>2018-09-21</td>\n",
       "      <td>13.80</td>\n",
       "      <td>1000</td>\n",
       "    </tr>\n",
       "    <tr>\n",
       "      <td>4</td>\n",
       "      <td>1000_4</td>\n",
       "      <td>2018-12-15</td>\n",
       "      <td>5.18</td>\n",
       "      <td>1000</td>\n",
       "    </tr>\n",
       "    <tr>\n",
       "      <td>5</td>\n",
       "      <td>1000_5</td>\n",
       "      <td>2018-11-02</td>\n",
       "      <td>0.00</td>\n",
       "      <td>1000</td>\n",
       "    </tr>\n",
       "    <tr>\n",
       "      <td>6</td>\n",
       "      <td>1000_6</td>\n",
       "      <td>2018-10-18</td>\n",
       "      <td>0.00</td>\n",
       "      <td>1000</td>\n",
       "    </tr>\n",
       "    <tr>\n",
       "      <td>7</td>\n",
       "      <td>1000_7</td>\n",
       "      <td>2018-08-22</td>\n",
       "      <td>18.31</td>\n",
       "      <td>1000</td>\n",
       "    </tr>\n",
       "    <tr>\n",
       "      <td>8</td>\n",
       "      <td>1000_8</td>\n",
       "      <td>2018-09-15</td>\n",
       "      <td>18.44</td>\n",
       "      <td>1000</td>\n",
       "    </tr>\n",
       "    <tr>\n",
       "      <td>9</td>\n",
       "      <td>1000_9</td>\n",
       "      <td>2018-08-15</td>\n",
       "      <td>0.00</td>\n",
       "      <td>1000</td>\n",
       "    </tr>\n",
       "  </tbody>\n",
       "</table>\n",
       "</div>"
      ],
      "text/plain": [
       "       id   call_date  duration  user_id\n",
       "0  1000_0  2018-07-25      0.00     1000\n",
       "1  1000_1  2018-08-17      0.00     1000\n",
       "2  1000_2  2018-06-11      2.85     1000\n",
       "3  1000_3  2018-09-21     13.80     1000\n",
       "4  1000_4  2018-12-15      5.18     1000\n",
       "5  1000_5  2018-11-02      0.00     1000\n",
       "6  1000_6  2018-10-18      0.00     1000\n",
       "7  1000_7  2018-08-22     18.31     1000\n",
       "8  1000_8  2018-09-15     18.44     1000\n",
       "9  1000_9  2018-08-15      0.00     1000"
      ]
     },
     "metadata": {},
     "output_type": "display_data"
    },
    {
     "data": {
      "text/html": [
       "<div>\n",
       "<style scoped>\n",
       "    .dataframe tbody tr th:only-of-type {\n",
       "        vertical-align: middle;\n",
       "    }\n",
       "\n",
       "    .dataframe tbody tr th {\n",
       "        vertical-align: top;\n",
       "    }\n",
       "\n",
       "    .dataframe thead th {\n",
       "        text-align: right;\n",
       "    }\n",
       "</style>\n",
       "<table border=\"1\" class=\"dataframe\">\n",
       "  <thead>\n",
       "    <tr style=\"text-align: right;\">\n",
       "      <th></th>\n",
       "      <th>id</th>\n",
       "      <th>call_date</th>\n",
       "      <th>duration</th>\n",
       "      <th>user_id</th>\n",
       "    </tr>\n",
       "  </thead>\n",
       "  <tbody>\n",
       "    <tr>\n",
       "      <td>202597</td>\n",
       "      <td>1499_210</td>\n",
       "      <td>2018-10-02</td>\n",
       "      <td>8.86</td>\n",
       "      <td>1499</td>\n",
       "    </tr>\n",
       "    <tr>\n",
       "      <td>202598</td>\n",
       "      <td>1499_211</td>\n",
       "      <td>2018-12-29</td>\n",
       "      <td>4.58</td>\n",
       "      <td>1499</td>\n",
       "    </tr>\n",
       "    <tr>\n",
       "      <td>202599</td>\n",
       "      <td>1499_212</td>\n",
       "      <td>2018-12-30</td>\n",
       "      <td>1.35</td>\n",
       "      <td>1499</td>\n",
       "    </tr>\n",
       "    <tr>\n",
       "      <td>202600</td>\n",
       "      <td>1499_213</td>\n",
       "      <td>2018-10-17</td>\n",
       "      <td>10.77</td>\n",
       "      <td>1499</td>\n",
       "    </tr>\n",
       "    <tr>\n",
       "      <td>202601</td>\n",
       "      <td>1499_214</td>\n",
       "      <td>2018-12-05</td>\n",
       "      <td>2.42</td>\n",
       "      <td>1499</td>\n",
       "    </tr>\n",
       "    <tr>\n",
       "      <td>202602</td>\n",
       "      <td>1499_215</td>\n",
       "      <td>2018-12-26</td>\n",
       "      <td>0.76</td>\n",
       "      <td>1499</td>\n",
       "    </tr>\n",
       "    <tr>\n",
       "      <td>202603</td>\n",
       "      <td>1499_216</td>\n",
       "      <td>2018-10-18</td>\n",
       "      <td>18.83</td>\n",
       "      <td>1499</td>\n",
       "    </tr>\n",
       "    <tr>\n",
       "      <td>202604</td>\n",
       "      <td>1499_217</td>\n",
       "      <td>2018-11-10</td>\n",
       "      <td>10.81</td>\n",
       "      <td>1499</td>\n",
       "    </tr>\n",
       "    <tr>\n",
       "      <td>202605</td>\n",
       "      <td>1499_218</td>\n",
       "      <td>2018-10-06</td>\n",
       "      <td>4.27</td>\n",
       "      <td>1499</td>\n",
       "    </tr>\n",
       "    <tr>\n",
       "      <td>202606</td>\n",
       "      <td>1499_219</td>\n",
       "      <td>2018-12-14</td>\n",
       "      <td>19.62</td>\n",
       "      <td>1499</td>\n",
       "    </tr>\n",
       "  </tbody>\n",
       "</table>\n",
       "</div>"
      ],
      "text/plain": [
       "              id   call_date  duration  user_id\n",
       "202597  1499_210  2018-10-02      8.86     1499\n",
       "202598  1499_211  2018-12-29      4.58     1499\n",
       "202599  1499_212  2018-12-30      1.35     1499\n",
       "202600  1499_213  2018-10-17     10.77     1499\n",
       "202601  1499_214  2018-12-05      2.42     1499\n",
       "202602  1499_215  2018-12-26      0.76     1499\n",
       "202603  1499_216  2018-10-18     18.83     1499\n",
       "202604  1499_217  2018-11-10     10.81     1499\n",
       "202605  1499_218  2018-10-06      4.27     1499\n",
       "202606  1499_219  2018-12-14     19.62     1499"
      ]
     },
     "metadata": {},
     "output_type": "display_data"
    }
   ],
   "source": [
    "data_calls = pd.read_csv('/datasets/calls.csv')\n",
    "# просмотр первых и последних десяти строчек в таблице data_calls\n",
    "display(data_calls.head(10))\n",
    "display(data_calls.tail(10))"
   ]
  },
  {
   "cell_type": "code",
   "execution_count": 3,
   "metadata": {},
   "outputs": [
    {
     "name": "stdout",
     "output_type": "stream",
     "text": [
      "<class 'pandas.core.frame.DataFrame'>\n",
      "RangeIndex: 202607 entries, 0 to 202606\n",
      "Data columns (total 4 columns):\n",
      "id           202607 non-null object\n",
      "call_date    202607 non-null object\n",
      "duration     202607 non-null float64\n",
      "user_id      202607 non-null int64\n",
      "dtypes: float64(1), int64(1), object(2)\n",
      "memory usage: 6.2+ MB\n"
     ]
    }
   ],
   "source": [
    "# получение общей информации о данных в таблице data_calls\n",
    "data_calls.info()"
   ]
  },
  {
   "cell_type": "markdown",
   "metadata": {},
   "source": [
    "Столбцы названы корректно. Пропусков данных нет. Заметила, что в столбце duration, отвечающий за длительность звонка, есть нулевые значения. С одной стороны такого не может быть, ведь даже самый короткий звонок длится сколько-то секунд, но с другой стороны, предположу, что это те звонки, где человек, которому звонили, не взял трубку, но лучше уточнить у коллег. "
   ]
  },
  {
   "cell_type": "markdown",
   "metadata": {},
   "source": [
    "### Информация об интернете"
   ]
  },
  {
   "cell_type": "code",
   "execution_count": 4,
   "metadata": {},
   "outputs": [
    {
     "data": {
      "text/html": [
       "<div>\n",
       "<style scoped>\n",
       "    .dataframe tbody tr th:only-of-type {\n",
       "        vertical-align: middle;\n",
       "    }\n",
       "\n",
       "    .dataframe tbody tr th {\n",
       "        vertical-align: top;\n",
       "    }\n",
       "\n",
       "    .dataframe thead th {\n",
       "        text-align: right;\n",
       "    }\n",
       "</style>\n",
       "<table border=\"1\" class=\"dataframe\">\n",
       "  <thead>\n",
       "    <tr style=\"text-align: right;\">\n",
       "      <th></th>\n",
       "      <th>Unnamed: 0</th>\n",
       "      <th>id</th>\n",
       "      <th>mb_used</th>\n",
       "      <th>session_date</th>\n",
       "      <th>user_id</th>\n",
       "    </tr>\n",
       "  </thead>\n",
       "  <tbody>\n",
       "    <tr>\n",
       "      <td>0</td>\n",
       "      <td>0</td>\n",
       "      <td>1000_0</td>\n",
       "      <td>112.95</td>\n",
       "      <td>2018-11-25</td>\n",
       "      <td>1000</td>\n",
       "    </tr>\n",
       "    <tr>\n",
       "      <td>1</td>\n",
       "      <td>1</td>\n",
       "      <td>1000_1</td>\n",
       "      <td>1052.81</td>\n",
       "      <td>2018-09-07</td>\n",
       "      <td>1000</td>\n",
       "    </tr>\n",
       "    <tr>\n",
       "      <td>2</td>\n",
       "      <td>2</td>\n",
       "      <td>1000_2</td>\n",
       "      <td>1197.26</td>\n",
       "      <td>2018-06-25</td>\n",
       "      <td>1000</td>\n",
       "    </tr>\n",
       "    <tr>\n",
       "      <td>3</td>\n",
       "      <td>3</td>\n",
       "      <td>1000_3</td>\n",
       "      <td>550.27</td>\n",
       "      <td>2018-08-22</td>\n",
       "      <td>1000</td>\n",
       "    </tr>\n",
       "    <tr>\n",
       "      <td>4</td>\n",
       "      <td>4</td>\n",
       "      <td>1000_4</td>\n",
       "      <td>302.56</td>\n",
       "      <td>2018-09-24</td>\n",
       "      <td>1000</td>\n",
       "    </tr>\n",
       "    <tr>\n",
       "      <td>5</td>\n",
       "      <td>5</td>\n",
       "      <td>1000_5</td>\n",
       "      <td>399.97</td>\n",
       "      <td>2018-10-02</td>\n",
       "      <td>1000</td>\n",
       "    </tr>\n",
       "    <tr>\n",
       "      <td>6</td>\n",
       "      <td>6</td>\n",
       "      <td>1000_6</td>\n",
       "      <td>540.08</td>\n",
       "      <td>2018-09-07</td>\n",
       "      <td>1000</td>\n",
       "    </tr>\n",
       "    <tr>\n",
       "      <td>7</td>\n",
       "      <td>7</td>\n",
       "      <td>1000_7</td>\n",
       "      <td>415.70</td>\n",
       "      <td>2018-07-11</td>\n",
       "      <td>1000</td>\n",
       "    </tr>\n",
       "    <tr>\n",
       "      <td>8</td>\n",
       "      <td>8</td>\n",
       "      <td>1000_8</td>\n",
       "      <td>505.40</td>\n",
       "      <td>2018-10-08</td>\n",
       "      <td>1000</td>\n",
       "    </tr>\n",
       "    <tr>\n",
       "      <td>9</td>\n",
       "      <td>9</td>\n",
       "      <td>1000_9</td>\n",
       "      <td>345.54</td>\n",
       "      <td>2018-09-03</td>\n",
       "      <td>1000</td>\n",
       "    </tr>\n",
       "  </tbody>\n",
       "</table>\n",
       "</div>"
      ],
      "text/plain": [
       "   Unnamed: 0      id  mb_used session_date  user_id\n",
       "0           0  1000_0   112.95   2018-11-25     1000\n",
       "1           1  1000_1  1052.81   2018-09-07     1000\n",
       "2           2  1000_2  1197.26   2018-06-25     1000\n",
       "3           3  1000_3   550.27   2018-08-22     1000\n",
       "4           4  1000_4   302.56   2018-09-24     1000\n",
       "5           5  1000_5   399.97   2018-10-02     1000\n",
       "6           6  1000_6   540.08   2018-09-07     1000\n",
       "7           7  1000_7   415.70   2018-07-11     1000\n",
       "8           8  1000_8   505.40   2018-10-08     1000\n",
       "9           9  1000_9   345.54   2018-09-03     1000"
      ]
     },
     "metadata": {},
     "output_type": "display_data"
    },
    {
     "data": {
      "text/html": [
       "<div>\n",
       "<style scoped>\n",
       "    .dataframe tbody tr th:only-of-type {\n",
       "        vertical-align: middle;\n",
       "    }\n",
       "\n",
       "    .dataframe tbody tr th {\n",
       "        vertical-align: top;\n",
       "    }\n",
       "\n",
       "    .dataframe thead th {\n",
       "        text-align: right;\n",
       "    }\n",
       "</style>\n",
       "<table border=\"1\" class=\"dataframe\">\n",
       "  <thead>\n",
       "    <tr style=\"text-align: right;\">\n",
       "      <th></th>\n",
       "      <th>Unnamed: 0</th>\n",
       "      <th>id</th>\n",
       "      <th>mb_used</th>\n",
       "      <th>session_date</th>\n",
       "      <th>user_id</th>\n",
       "    </tr>\n",
       "  </thead>\n",
       "  <tbody>\n",
       "    <tr>\n",
       "      <td>149386</td>\n",
       "      <td>149386</td>\n",
       "      <td>1499_147</td>\n",
       "      <td>0.00</td>\n",
       "      <td>2018-10-21</td>\n",
       "      <td>1499</td>\n",
       "    </tr>\n",
       "    <tr>\n",
       "      <td>149387</td>\n",
       "      <td>149387</td>\n",
       "      <td>1499_148</td>\n",
       "      <td>268.19</td>\n",
       "      <td>2018-11-13</td>\n",
       "      <td>1499</td>\n",
       "    </tr>\n",
       "    <tr>\n",
       "      <td>149388</td>\n",
       "      <td>149388</td>\n",
       "      <td>1499_149</td>\n",
       "      <td>778.68</td>\n",
       "      <td>2018-11-24</td>\n",
       "      <td>1499</td>\n",
       "    </tr>\n",
       "    <tr>\n",
       "      <td>149389</td>\n",
       "      <td>149389</td>\n",
       "      <td>1499_150</td>\n",
       "      <td>273.98</td>\n",
       "      <td>2018-11-20</td>\n",
       "      <td>1499</td>\n",
       "    </tr>\n",
       "    <tr>\n",
       "      <td>149390</td>\n",
       "      <td>149390</td>\n",
       "      <td>1499_151</td>\n",
       "      <td>752.72</td>\n",
       "      <td>2018-10-11</td>\n",
       "      <td>1499</td>\n",
       "    </tr>\n",
       "    <tr>\n",
       "      <td>149391</td>\n",
       "      <td>149391</td>\n",
       "      <td>1499_152</td>\n",
       "      <td>318.90</td>\n",
       "      <td>2018-10-03</td>\n",
       "      <td>1499</td>\n",
       "    </tr>\n",
       "    <tr>\n",
       "      <td>149392</td>\n",
       "      <td>149392</td>\n",
       "      <td>1499_153</td>\n",
       "      <td>490.13</td>\n",
       "      <td>2018-12-14</td>\n",
       "      <td>1499</td>\n",
       "    </tr>\n",
       "    <tr>\n",
       "      <td>149393</td>\n",
       "      <td>149393</td>\n",
       "      <td>1499_154</td>\n",
       "      <td>0.00</td>\n",
       "      <td>2018-10-27</td>\n",
       "      <td>1499</td>\n",
       "    </tr>\n",
       "    <tr>\n",
       "      <td>149394</td>\n",
       "      <td>149394</td>\n",
       "      <td>1499_155</td>\n",
       "      <td>1246.32</td>\n",
       "      <td>2018-11-26</td>\n",
       "      <td>1499</td>\n",
       "    </tr>\n",
       "    <tr>\n",
       "      <td>149395</td>\n",
       "      <td>149395</td>\n",
       "      <td>1499_156</td>\n",
       "      <td>544.37</td>\n",
       "      <td>2018-10-26</td>\n",
       "      <td>1499</td>\n",
       "    </tr>\n",
       "  </tbody>\n",
       "</table>\n",
       "</div>"
      ],
      "text/plain": [
       "        Unnamed: 0        id  mb_used session_date  user_id\n",
       "149386      149386  1499_147     0.00   2018-10-21     1499\n",
       "149387      149387  1499_148   268.19   2018-11-13     1499\n",
       "149388      149388  1499_149   778.68   2018-11-24     1499\n",
       "149389      149389  1499_150   273.98   2018-11-20     1499\n",
       "149390      149390  1499_151   752.72   2018-10-11     1499\n",
       "149391      149391  1499_152   318.90   2018-10-03     1499\n",
       "149392      149392  1499_153   490.13   2018-12-14     1499\n",
       "149393      149393  1499_154     0.00   2018-10-27     1499\n",
       "149394      149394  1499_155  1246.32   2018-11-26     1499\n",
       "149395      149395  1499_156   544.37   2018-10-26     1499"
      ]
     },
     "metadata": {},
     "output_type": "display_data"
    }
   ],
   "source": [
    "data_internet = pd.read_csv('/datasets/internet.csv')\n",
    "# просмотр первых и последних десяти строчек в таблице data_internet\n",
    "display(data_internet.head(10))\n",
    "display(data_internet.tail(10))"
   ]
  },
  {
   "cell_type": "code",
   "execution_count": 5,
   "metadata": {},
   "outputs": [
    {
     "name": "stdout",
     "output_type": "stream",
     "text": [
      "<class 'pandas.core.frame.DataFrame'>\n",
      "RangeIndex: 149396 entries, 0 to 149395\n",
      "Data columns (total 5 columns):\n",
      "Unnamed: 0      149396 non-null int64\n",
      "id              149396 non-null object\n",
      "mb_used         149396 non-null float64\n",
      "session_date    149396 non-null object\n",
      "user_id         149396 non-null int64\n",
      "dtypes: float64(1), int64(2), object(2)\n",
      "memory usage: 5.7+ MB\n"
     ]
    }
   ],
   "source": [
    "# получение общей информации о данных в таблице data_internet\n",
    "data_internet.info()"
   ]
  },
  {
   "cell_type": "markdown",
   "metadata": {},
   "source": [
    "Столбцы названы корректно. Пропусков в данных нет. Есть столбец 'Unnamed: 0' полностью повторяющий номера строк, он не нужен, поэтому я его удалю"
   ]
  },
  {
   "cell_type": "markdown",
   "metadata": {},
   "source": [
    "<div class=\"alert alert-success\">\n",
    "<b>Комментарий ревьюера v1:</b>\n",
    "    \n",
    "Unnamed: 0 возникает, когда данные сохраняют с указанием индекса pd.DataFrame().to_csv(..., index=column). Если при чтении указать этот столбец pd.read_csv(..., index_col=0) - данные сразу прочитаются корректно. Index_col =0 означает, что первый столбец выбирается как индексy."
   ]
  },
  {
   "cell_type": "code",
   "execution_count": 6,
   "metadata": {},
   "outputs": [
    {
     "data": {
      "text/html": [
       "<div>\n",
       "<style scoped>\n",
       "    .dataframe tbody tr th:only-of-type {\n",
       "        vertical-align: middle;\n",
       "    }\n",
       "\n",
       "    .dataframe tbody tr th {\n",
       "        vertical-align: top;\n",
       "    }\n",
       "\n",
       "    .dataframe thead th {\n",
       "        text-align: right;\n",
       "    }\n",
       "</style>\n",
       "<table border=\"1\" class=\"dataframe\">\n",
       "  <thead>\n",
       "    <tr style=\"text-align: right;\">\n",
       "      <th></th>\n",
       "      <th>id</th>\n",
       "      <th>mb_used</th>\n",
       "      <th>session_date</th>\n",
       "      <th>user_id</th>\n",
       "    </tr>\n",
       "  </thead>\n",
       "  <tbody>\n",
       "    <tr>\n",
       "      <td>0</td>\n",
       "      <td>1000_0</td>\n",
       "      <td>112.95</td>\n",
       "      <td>2018-11-25</td>\n",
       "      <td>1000</td>\n",
       "    </tr>\n",
       "    <tr>\n",
       "      <td>1</td>\n",
       "      <td>1000_1</td>\n",
       "      <td>1052.81</td>\n",
       "      <td>2018-09-07</td>\n",
       "      <td>1000</td>\n",
       "    </tr>\n",
       "    <tr>\n",
       "      <td>2</td>\n",
       "      <td>1000_2</td>\n",
       "      <td>1197.26</td>\n",
       "      <td>2018-06-25</td>\n",
       "      <td>1000</td>\n",
       "    </tr>\n",
       "    <tr>\n",
       "      <td>3</td>\n",
       "      <td>1000_3</td>\n",
       "      <td>550.27</td>\n",
       "      <td>2018-08-22</td>\n",
       "      <td>1000</td>\n",
       "    </tr>\n",
       "    <tr>\n",
       "      <td>4</td>\n",
       "      <td>1000_4</td>\n",
       "      <td>302.56</td>\n",
       "      <td>2018-09-24</td>\n",
       "      <td>1000</td>\n",
       "    </tr>\n",
       "    <tr>\n",
       "      <td>5</td>\n",
       "      <td>1000_5</td>\n",
       "      <td>399.97</td>\n",
       "      <td>2018-10-02</td>\n",
       "      <td>1000</td>\n",
       "    </tr>\n",
       "    <tr>\n",
       "      <td>6</td>\n",
       "      <td>1000_6</td>\n",
       "      <td>540.08</td>\n",
       "      <td>2018-09-07</td>\n",
       "      <td>1000</td>\n",
       "    </tr>\n",
       "    <tr>\n",
       "      <td>7</td>\n",
       "      <td>1000_7</td>\n",
       "      <td>415.70</td>\n",
       "      <td>2018-07-11</td>\n",
       "      <td>1000</td>\n",
       "    </tr>\n",
       "    <tr>\n",
       "      <td>8</td>\n",
       "      <td>1000_8</td>\n",
       "      <td>505.40</td>\n",
       "      <td>2018-10-08</td>\n",
       "      <td>1000</td>\n",
       "    </tr>\n",
       "    <tr>\n",
       "      <td>9</td>\n",
       "      <td>1000_9</td>\n",
       "      <td>345.54</td>\n",
       "      <td>2018-09-03</td>\n",
       "      <td>1000</td>\n",
       "    </tr>\n",
       "  </tbody>\n",
       "</table>\n",
       "</div>"
      ],
      "text/plain": [
       "       id  mb_used session_date  user_id\n",
       "0  1000_0   112.95   2018-11-25     1000\n",
       "1  1000_1  1052.81   2018-09-07     1000\n",
       "2  1000_2  1197.26   2018-06-25     1000\n",
       "3  1000_3   550.27   2018-08-22     1000\n",
       "4  1000_4   302.56   2018-09-24     1000\n",
       "5  1000_5   399.97   2018-10-02     1000\n",
       "6  1000_6   540.08   2018-09-07     1000\n",
       "7  1000_7   415.70   2018-07-11     1000\n",
       "8  1000_8   505.40   2018-10-08     1000\n",
       "9  1000_9   345.54   2018-09-03     1000"
      ]
     },
     "metadata": {},
     "output_type": "display_data"
    }
   ],
   "source": [
    "# удаление\n",
    "data_internet = data_internet.drop('Unnamed: 0', 1)\n",
    "display(data_internet.head(10))"
   ]
  },
  {
   "cell_type": "markdown",
   "metadata": {},
   "source": [
    "<div class=\"alert alert-warning\">\n",
    "<b>Комментарий ревьюера v1:</b>\n",
    "\n",
    "Дополнительно было бы полезно перепроверить данные для трафика - есть ли в них какие либо аномалии (нулевые значения, например). Очень полезно всегда проверять численные данные на их адекватность. Иногда это бывает сложно из-за большого количества данных, но после у нас есть представление о том с чем придется работать или какие проблемы есть в данных.  Проверить эти данные можно легко - построить гистрограммы, например.\n"
   ]
  },
  {
   "cell_type": "markdown",
   "metadata": {},
   "source": [
    "### Информация о сообщениях"
   ]
  },
  {
   "cell_type": "code",
   "execution_count": 7,
   "metadata": {
    "scrolled": false
   },
   "outputs": [
    {
     "data": {
      "text/html": [
       "<div>\n",
       "<style scoped>\n",
       "    .dataframe tbody tr th:only-of-type {\n",
       "        vertical-align: middle;\n",
       "    }\n",
       "\n",
       "    .dataframe tbody tr th {\n",
       "        vertical-align: top;\n",
       "    }\n",
       "\n",
       "    .dataframe thead th {\n",
       "        text-align: right;\n",
       "    }\n",
       "</style>\n",
       "<table border=\"1\" class=\"dataframe\">\n",
       "  <thead>\n",
       "    <tr style=\"text-align: right;\">\n",
       "      <th></th>\n",
       "      <th>id</th>\n",
       "      <th>message_date</th>\n",
       "      <th>user_id</th>\n",
       "    </tr>\n",
       "  </thead>\n",
       "  <tbody>\n",
       "    <tr>\n",
       "      <td>0</td>\n",
       "      <td>1000_0</td>\n",
       "      <td>2018-06-27</td>\n",
       "      <td>1000</td>\n",
       "    </tr>\n",
       "    <tr>\n",
       "      <td>1</td>\n",
       "      <td>1000_1</td>\n",
       "      <td>2018-10-08</td>\n",
       "      <td>1000</td>\n",
       "    </tr>\n",
       "    <tr>\n",
       "      <td>2</td>\n",
       "      <td>1000_2</td>\n",
       "      <td>2018-08-04</td>\n",
       "      <td>1000</td>\n",
       "    </tr>\n",
       "    <tr>\n",
       "      <td>3</td>\n",
       "      <td>1000_3</td>\n",
       "      <td>2018-06-16</td>\n",
       "      <td>1000</td>\n",
       "    </tr>\n",
       "    <tr>\n",
       "      <td>4</td>\n",
       "      <td>1000_4</td>\n",
       "      <td>2018-12-05</td>\n",
       "      <td>1000</td>\n",
       "    </tr>\n",
       "    <tr>\n",
       "      <td>5</td>\n",
       "      <td>1000_5</td>\n",
       "      <td>2018-06-20</td>\n",
       "      <td>1000</td>\n",
       "    </tr>\n",
       "    <tr>\n",
       "      <td>6</td>\n",
       "      <td>1000_6</td>\n",
       "      <td>2018-11-19</td>\n",
       "      <td>1000</td>\n",
       "    </tr>\n",
       "    <tr>\n",
       "      <td>7</td>\n",
       "      <td>1000_7</td>\n",
       "      <td>2018-10-29</td>\n",
       "      <td>1000</td>\n",
       "    </tr>\n",
       "    <tr>\n",
       "      <td>8</td>\n",
       "      <td>1000_8</td>\n",
       "      <td>2018-06-25</td>\n",
       "      <td>1000</td>\n",
       "    </tr>\n",
       "    <tr>\n",
       "      <td>9</td>\n",
       "      <td>1000_9</td>\n",
       "      <td>2018-12-18</td>\n",
       "      <td>1000</td>\n",
       "    </tr>\n",
       "  </tbody>\n",
       "</table>\n",
       "</div>"
      ],
      "text/plain": [
       "       id message_date  user_id\n",
       "0  1000_0   2018-06-27     1000\n",
       "1  1000_1   2018-10-08     1000\n",
       "2  1000_2   2018-08-04     1000\n",
       "3  1000_3   2018-06-16     1000\n",
       "4  1000_4   2018-12-05     1000\n",
       "5  1000_5   2018-06-20     1000\n",
       "6  1000_6   2018-11-19     1000\n",
       "7  1000_7   2018-10-29     1000\n",
       "8  1000_8   2018-06-25     1000\n",
       "9  1000_9   2018-12-18     1000"
      ]
     },
     "metadata": {},
     "output_type": "display_data"
    },
    {
     "data": {
      "text/html": [
       "<div>\n",
       "<style scoped>\n",
       "    .dataframe tbody tr th:only-of-type {\n",
       "        vertical-align: middle;\n",
       "    }\n",
       "\n",
       "    .dataframe tbody tr th {\n",
       "        vertical-align: top;\n",
       "    }\n",
       "\n",
       "    .dataframe thead th {\n",
       "        text-align: right;\n",
       "    }\n",
       "</style>\n",
       "<table border=\"1\" class=\"dataframe\">\n",
       "  <thead>\n",
       "    <tr style=\"text-align: right;\">\n",
       "      <th></th>\n",
       "      <th>id</th>\n",
       "      <th>message_date</th>\n",
       "      <th>user_id</th>\n",
       "    </tr>\n",
       "  </thead>\n",
       "  <tbody>\n",
       "    <tr>\n",
       "      <td>123026</td>\n",
       "      <td>1499_174</td>\n",
       "      <td>2018-12-14</td>\n",
       "      <td>1499</td>\n",
       "    </tr>\n",
       "    <tr>\n",
       "      <td>123027</td>\n",
       "      <td>1499_175</td>\n",
       "      <td>2018-10-09</td>\n",
       "      <td>1499</td>\n",
       "    </tr>\n",
       "    <tr>\n",
       "      <td>123028</td>\n",
       "      <td>1499_176</td>\n",
       "      <td>2018-12-17</td>\n",
       "      <td>1499</td>\n",
       "    </tr>\n",
       "    <tr>\n",
       "      <td>123029</td>\n",
       "      <td>1499_177</td>\n",
       "      <td>2018-12-30</td>\n",
       "      <td>1499</td>\n",
       "    </tr>\n",
       "    <tr>\n",
       "      <td>123030</td>\n",
       "      <td>1499_178</td>\n",
       "      <td>2018-10-25</td>\n",
       "      <td>1499</td>\n",
       "    </tr>\n",
       "    <tr>\n",
       "      <td>123031</td>\n",
       "      <td>1499_179</td>\n",
       "      <td>2018-12-12</td>\n",
       "      <td>1499</td>\n",
       "    </tr>\n",
       "    <tr>\n",
       "      <td>123032</td>\n",
       "      <td>1499_180</td>\n",
       "      <td>2018-09-28</td>\n",
       "      <td>1499</td>\n",
       "    </tr>\n",
       "    <tr>\n",
       "      <td>123033</td>\n",
       "      <td>1499_181</td>\n",
       "      <td>2018-09-27</td>\n",
       "      <td>1499</td>\n",
       "    </tr>\n",
       "    <tr>\n",
       "      <td>123034</td>\n",
       "      <td>1499_182</td>\n",
       "      <td>2018-11-15</td>\n",
       "      <td>1499</td>\n",
       "    </tr>\n",
       "    <tr>\n",
       "      <td>123035</td>\n",
       "      <td>1499_183</td>\n",
       "      <td>2018-11-16</td>\n",
       "      <td>1499</td>\n",
       "    </tr>\n",
       "  </tbody>\n",
       "</table>\n",
       "</div>"
      ],
      "text/plain": [
       "              id message_date  user_id\n",
       "123026  1499_174   2018-12-14     1499\n",
       "123027  1499_175   2018-10-09     1499\n",
       "123028  1499_176   2018-12-17     1499\n",
       "123029  1499_177   2018-12-30     1499\n",
       "123030  1499_178   2018-10-25     1499\n",
       "123031  1499_179   2018-12-12     1499\n",
       "123032  1499_180   2018-09-28     1499\n",
       "123033  1499_181   2018-09-27     1499\n",
       "123034  1499_182   2018-11-15     1499\n",
       "123035  1499_183   2018-11-16     1499"
      ]
     },
     "metadata": {},
     "output_type": "display_data"
    }
   ],
   "source": [
    "data_messages = pd.read_csv('/datasets/messages.csv')\n",
    "# просмотр первых и последних десяти строчек в таблице data_messages\n",
    "display(data_messages.head(10))\n",
    "display(data_messages.tail(10))"
   ]
  },
  {
   "cell_type": "code",
   "execution_count": 8,
   "metadata": {},
   "outputs": [
    {
     "name": "stdout",
     "output_type": "stream",
     "text": [
      "<class 'pandas.core.frame.DataFrame'>\n",
      "RangeIndex: 123036 entries, 0 to 123035\n",
      "Data columns (total 3 columns):\n",
      "id              123036 non-null object\n",
      "message_date    123036 non-null object\n",
      "user_id         123036 non-null int64\n",
      "dtypes: int64(1), object(2)\n",
      "memory usage: 2.8+ MB\n"
     ]
    }
   ],
   "source": [
    "# получение общей информации о данных в таблице data_messages\n",
    "data_messages.info()"
   ]
  },
  {
   "cell_type": "markdown",
   "metadata": {},
   "source": [
    "Столбцы названы корректно. Пропусков в данных нет."
   ]
  },
  {
   "cell_type": "markdown",
   "metadata": {},
   "source": [
    "### Информация о тарифах"
   ]
  },
  {
   "cell_type": "code",
   "execution_count": 9,
   "metadata": {},
   "outputs": [
    {
     "data": {
      "text/html": [
       "<div>\n",
       "<style scoped>\n",
       "    .dataframe tbody tr th:only-of-type {\n",
       "        vertical-align: middle;\n",
       "    }\n",
       "\n",
       "    .dataframe tbody tr th {\n",
       "        vertical-align: top;\n",
       "    }\n",
       "\n",
       "    .dataframe thead th {\n",
       "        text-align: right;\n",
       "    }\n",
       "</style>\n",
       "<table border=\"1\" class=\"dataframe\">\n",
       "  <thead>\n",
       "    <tr style=\"text-align: right;\">\n",
       "      <th></th>\n",
       "      <th>messages_included</th>\n",
       "      <th>mb_per_month_included</th>\n",
       "      <th>minutes_included</th>\n",
       "      <th>rub_monthly_fee</th>\n",
       "      <th>rub_per_gb</th>\n",
       "      <th>rub_per_message</th>\n",
       "      <th>rub_per_minute</th>\n",
       "      <th>tariff_name</th>\n",
       "    </tr>\n",
       "  </thead>\n",
       "  <tbody>\n",
       "    <tr>\n",
       "      <td>0</td>\n",
       "      <td>50</td>\n",
       "      <td>15360</td>\n",
       "      <td>500</td>\n",
       "      <td>550</td>\n",
       "      <td>200</td>\n",
       "      <td>3</td>\n",
       "      <td>3</td>\n",
       "      <td>smart</td>\n",
       "    </tr>\n",
       "    <tr>\n",
       "      <td>1</td>\n",
       "      <td>1000</td>\n",
       "      <td>30720</td>\n",
       "      <td>3000</td>\n",
       "      <td>1950</td>\n",
       "      <td>150</td>\n",
       "      <td>1</td>\n",
       "      <td>1</td>\n",
       "      <td>ultra</td>\n",
       "    </tr>\n",
       "  </tbody>\n",
       "</table>\n",
       "</div>"
      ],
      "text/plain": [
       "   messages_included  mb_per_month_included  minutes_included  \\\n",
       "0                 50                  15360               500   \n",
       "1               1000                  30720              3000   \n",
       "\n",
       "   rub_monthly_fee  rub_per_gb  rub_per_message  rub_per_minute tariff_name  \n",
       "0              550         200                3               3       smart  \n",
       "1             1950         150                1               1       ultra  "
      ]
     },
     "metadata": {},
     "output_type": "display_data"
    }
   ],
   "source": [
    "data_tariffs = pd.read_csv('/datasets/tariffs.csv')\n",
    "# просмотр таблицы data_tariffs\n",
    "display(data_tariffs)"
   ]
  },
  {
   "cell_type": "code",
   "execution_count": 10,
   "metadata": {},
   "outputs": [
    {
     "name": "stdout",
     "output_type": "stream",
     "text": [
      "<class 'pandas.core.frame.DataFrame'>\n",
      "RangeIndex: 2 entries, 0 to 1\n",
      "Data columns (total 8 columns):\n",
      "messages_included        2 non-null int64\n",
      "mb_per_month_included    2 non-null int64\n",
      "minutes_included         2 non-null int64\n",
      "rub_monthly_fee          2 non-null int64\n",
      "rub_per_gb               2 non-null int64\n",
      "rub_per_message          2 non-null int64\n",
      "rub_per_minute           2 non-null int64\n",
      "tariff_name              2 non-null object\n",
      "dtypes: int64(7), object(1)\n",
      "memory usage: 256.0+ bytes\n"
     ]
    }
   ],
   "source": [
    "# получение общей информации о данных в таблице data_tariffs\n",
    "data_tariffs.info()"
   ]
  },
  {
   "cell_type": "markdown",
   "metadata": {},
   "source": [
    "Столбцы названы корректно. Пропусков в данных нет."
   ]
  },
  {
   "cell_type": "markdown",
   "metadata": {},
   "source": [
    "### Информация о пользователях"
   ]
  },
  {
   "cell_type": "code",
   "execution_count": 11,
   "metadata": {},
   "outputs": [
    {
     "data": {
      "text/html": [
       "<div>\n",
       "<style scoped>\n",
       "    .dataframe tbody tr th:only-of-type {\n",
       "        vertical-align: middle;\n",
       "    }\n",
       "\n",
       "    .dataframe tbody tr th {\n",
       "        vertical-align: top;\n",
       "    }\n",
       "\n",
       "    .dataframe thead th {\n",
       "        text-align: right;\n",
       "    }\n",
       "</style>\n",
       "<table border=\"1\" class=\"dataframe\">\n",
       "  <thead>\n",
       "    <tr style=\"text-align: right;\">\n",
       "      <th></th>\n",
       "      <th>user_id</th>\n",
       "      <th>age</th>\n",
       "      <th>churn_date</th>\n",
       "      <th>city</th>\n",
       "      <th>first_name</th>\n",
       "      <th>last_name</th>\n",
       "      <th>reg_date</th>\n",
       "      <th>tariff</th>\n",
       "    </tr>\n",
       "  </thead>\n",
       "  <tbody>\n",
       "    <tr>\n",
       "      <td>0</td>\n",
       "      <td>1000</td>\n",
       "      <td>52</td>\n",
       "      <td>NaN</td>\n",
       "      <td>Краснодар</td>\n",
       "      <td>Рафаил</td>\n",
       "      <td>Верещагин</td>\n",
       "      <td>2018-05-25</td>\n",
       "      <td>ultra</td>\n",
       "    </tr>\n",
       "    <tr>\n",
       "      <td>1</td>\n",
       "      <td>1001</td>\n",
       "      <td>41</td>\n",
       "      <td>NaN</td>\n",
       "      <td>Москва</td>\n",
       "      <td>Иван</td>\n",
       "      <td>Ежов</td>\n",
       "      <td>2018-11-01</td>\n",
       "      <td>smart</td>\n",
       "    </tr>\n",
       "    <tr>\n",
       "      <td>2</td>\n",
       "      <td>1002</td>\n",
       "      <td>59</td>\n",
       "      <td>NaN</td>\n",
       "      <td>Стерлитамак</td>\n",
       "      <td>Евгений</td>\n",
       "      <td>Абрамович</td>\n",
       "      <td>2018-06-17</td>\n",
       "      <td>smart</td>\n",
       "    </tr>\n",
       "    <tr>\n",
       "      <td>3</td>\n",
       "      <td>1003</td>\n",
       "      <td>23</td>\n",
       "      <td>NaN</td>\n",
       "      <td>Москва</td>\n",
       "      <td>Белла</td>\n",
       "      <td>Белякова</td>\n",
       "      <td>2018-08-17</td>\n",
       "      <td>ultra</td>\n",
       "    </tr>\n",
       "    <tr>\n",
       "      <td>4</td>\n",
       "      <td>1004</td>\n",
       "      <td>68</td>\n",
       "      <td>NaN</td>\n",
       "      <td>Новокузнецк</td>\n",
       "      <td>Татьяна</td>\n",
       "      <td>Авдеенко</td>\n",
       "      <td>2018-05-14</td>\n",
       "      <td>ultra</td>\n",
       "    </tr>\n",
       "    <tr>\n",
       "      <td>5</td>\n",
       "      <td>1005</td>\n",
       "      <td>67</td>\n",
       "      <td>NaN</td>\n",
       "      <td>Набережные Челны</td>\n",
       "      <td>Афанасий</td>\n",
       "      <td>Горлов</td>\n",
       "      <td>2018-01-25</td>\n",
       "      <td>smart</td>\n",
       "    </tr>\n",
       "    <tr>\n",
       "      <td>6</td>\n",
       "      <td>1006</td>\n",
       "      <td>21</td>\n",
       "      <td>NaN</td>\n",
       "      <td>Ульяновск</td>\n",
       "      <td>Леонид</td>\n",
       "      <td>Ермолаев</td>\n",
       "      <td>2018-02-26</td>\n",
       "      <td>smart</td>\n",
       "    </tr>\n",
       "    <tr>\n",
       "      <td>7</td>\n",
       "      <td>1007</td>\n",
       "      <td>65</td>\n",
       "      <td>NaN</td>\n",
       "      <td>Москва</td>\n",
       "      <td>Юна</td>\n",
       "      <td>Березина</td>\n",
       "      <td>2018-04-19</td>\n",
       "      <td>smart</td>\n",
       "    </tr>\n",
       "    <tr>\n",
       "      <td>8</td>\n",
       "      <td>1008</td>\n",
       "      <td>63</td>\n",
       "      <td>NaN</td>\n",
       "      <td>Челябинск</td>\n",
       "      <td>Рустэм</td>\n",
       "      <td>Пономарёв</td>\n",
       "      <td>2018-12-19</td>\n",
       "      <td>smart</td>\n",
       "    </tr>\n",
       "    <tr>\n",
       "      <td>9</td>\n",
       "      <td>1009</td>\n",
       "      <td>24</td>\n",
       "      <td>NaN</td>\n",
       "      <td>Пермь</td>\n",
       "      <td>Василиса</td>\n",
       "      <td>Блинова</td>\n",
       "      <td>2018-03-22</td>\n",
       "      <td>smart</td>\n",
       "    </tr>\n",
       "  </tbody>\n",
       "</table>\n",
       "</div>"
      ],
      "text/plain": [
       "   user_id  age churn_date              city first_name  last_name  \\\n",
       "0     1000   52        NaN         Краснодар     Рафаил  Верещагин   \n",
       "1     1001   41        NaN            Москва       Иван       Ежов   \n",
       "2     1002   59        NaN       Стерлитамак    Евгений  Абрамович   \n",
       "3     1003   23        NaN            Москва      Белла   Белякова   \n",
       "4     1004   68        NaN       Новокузнецк    Татьяна   Авдеенко   \n",
       "5     1005   67        NaN  Набережные Челны   Афанасий     Горлов   \n",
       "6     1006   21        NaN         Ульяновск     Леонид   Ермолаев   \n",
       "7     1007   65        NaN            Москва        Юна   Березина   \n",
       "8     1008   63        NaN         Челябинск     Рустэм  Пономарёв   \n",
       "9     1009   24        NaN             Пермь   Василиса    Блинова   \n",
       "\n",
       "     reg_date tariff  \n",
       "0  2018-05-25  ultra  \n",
       "1  2018-11-01  smart  \n",
       "2  2018-06-17  smart  \n",
       "3  2018-08-17  ultra  \n",
       "4  2018-05-14  ultra  \n",
       "5  2018-01-25  smart  \n",
       "6  2018-02-26  smart  \n",
       "7  2018-04-19  smart  \n",
       "8  2018-12-19  smart  \n",
       "9  2018-03-22  smart  "
      ]
     },
     "metadata": {},
     "output_type": "display_data"
    },
    {
     "data": {
      "text/html": [
       "<div>\n",
       "<style scoped>\n",
       "    .dataframe tbody tr th:only-of-type {\n",
       "        vertical-align: middle;\n",
       "    }\n",
       "\n",
       "    .dataframe tbody tr th {\n",
       "        vertical-align: top;\n",
       "    }\n",
       "\n",
       "    .dataframe thead th {\n",
       "        text-align: right;\n",
       "    }\n",
       "</style>\n",
       "<table border=\"1\" class=\"dataframe\">\n",
       "  <thead>\n",
       "    <tr style=\"text-align: right;\">\n",
       "      <th></th>\n",
       "      <th>user_id</th>\n",
       "      <th>age</th>\n",
       "      <th>churn_date</th>\n",
       "      <th>city</th>\n",
       "      <th>first_name</th>\n",
       "      <th>last_name</th>\n",
       "      <th>reg_date</th>\n",
       "      <th>tariff</th>\n",
       "    </tr>\n",
       "  </thead>\n",
       "  <tbody>\n",
       "    <tr>\n",
       "      <td>490</td>\n",
       "      <td>1490</td>\n",
       "      <td>30</td>\n",
       "      <td>NaN</td>\n",
       "      <td>Москва</td>\n",
       "      <td>Радомир</td>\n",
       "      <td>Алесин</td>\n",
       "      <td>2018-04-03</td>\n",
       "      <td>smart</td>\n",
       "    </tr>\n",
       "    <tr>\n",
       "      <td>491</td>\n",
       "      <td>1491</td>\n",
       "      <td>56</td>\n",
       "      <td>NaN</td>\n",
       "      <td>Челябинск</td>\n",
       "      <td>Радислав</td>\n",
       "      <td>Андрейкин</td>\n",
       "      <td>2018-04-25</td>\n",
       "      <td>ultra</td>\n",
       "    </tr>\n",
       "    <tr>\n",
       "      <td>492</td>\n",
       "      <td>1492</td>\n",
       "      <td>63</td>\n",
       "      <td>NaN</td>\n",
       "      <td>Санкт-Петербург</td>\n",
       "      <td>Руслана</td>\n",
       "      <td>Артёменко</td>\n",
       "      <td>2018-06-26</td>\n",
       "      <td>smart</td>\n",
       "    </tr>\n",
       "    <tr>\n",
       "      <td>493</td>\n",
       "      <td>1493</td>\n",
       "      <td>71</td>\n",
       "      <td>NaN</td>\n",
       "      <td>Красноярск</td>\n",
       "      <td>Таисия</td>\n",
       "      <td>Ахматулина</td>\n",
       "      <td>2018-11-24</td>\n",
       "      <td>ultra</td>\n",
       "    </tr>\n",
       "    <tr>\n",
       "      <td>494</td>\n",
       "      <td>1494</td>\n",
       "      <td>62</td>\n",
       "      <td>NaN</td>\n",
       "      <td>Омск</td>\n",
       "      <td>Ренат</td>\n",
       "      <td>Андропов</td>\n",
       "      <td>2018-08-17</td>\n",
       "      <td>smart</td>\n",
       "    </tr>\n",
       "    <tr>\n",
       "      <td>495</td>\n",
       "      <td>1495</td>\n",
       "      <td>65</td>\n",
       "      <td>NaN</td>\n",
       "      <td>Иркутск</td>\n",
       "      <td>Авксентий</td>\n",
       "      <td>Фокин</td>\n",
       "      <td>2018-08-28</td>\n",
       "      <td>ultra</td>\n",
       "    </tr>\n",
       "    <tr>\n",
       "      <td>496</td>\n",
       "      <td>1496</td>\n",
       "      <td>36</td>\n",
       "      <td>NaN</td>\n",
       "      <td>Вологда</td>\n",
       "      <td>Трифон</td>\n",
       "      <td>Блохин</td>\n",
       "      <td>2018-01-27</td>\n",
       "      <td>smart</td>\n",
       "    </tr>\n",
       "    <tr>\n",
       "      <td>497</td>\n",
       "      <td>1497</td>\n",
       "      <td>32</td>\n",
       "      <td>NaN</td>\n",
       "      <td>Челябинск</td>\n",
       "      <td>Каролина</td>\n",
       "      <td>Агеева</td>\n",
       "      <td>2018-10-09</td>\n",
       "      <td>smart</td>\n",
       "    </tr>\n",
       "    <tr>\n",
       "      <td>498</td>\n",
       "      <td>1498</td>\n",
       "      <td>68</td>\n",
       "      <td>2018-10-25</td>\n",
       "      <td>Владикавказ</td>\n",
       "      <td>Всеволод</td>\n",
       "      <td>Акимчин</td>\n",
       "      <td>2018-07-19</td>\n",
       "      <td>smart</td>\n",
       "    </tr>\n",
       "    <tr>\n",
       "      <td>499</td>\n",
       "      <td>1499</td>\n",
       "      <td>35</td>\n",
       "      <td>NaN</td>\n",
       "      <td>Пермь</td>\n",
       "      <td>Гектор</td>\n",
       "      <td>Корнилов</td>\n",
       "      <td>2018-09-27</td>\n",
       "      <td>smart</td>\n",
       "    </tr>\n",
       "  </tbody>\n",
       "</table>\n",
       "</div>"
      ],
      "text/plain": [
       "     user_id  age  churn_date             city first_name   last_name  \\\n",
       "490     1490   30         NaN           Москва    Радомир      Алесин   \n",
       "491     1491   56         NaN        Челябинск   Радислав   Андрейкин   \n",
       "492     1492   63         NaN  Санкт-Петербург    Руслана   Артёменко   \n",
       "493     1493   71         NaN       Красноярск     Таисия  Ахматулина   \n",
       "494     1494   62         NaN             Омск      Ренат    Андропов   \n",
       "495     1495   65         NaN          Иркутск  Авксентий       Фокин   \n",
       "496     1496   36         NaN          Вологда     Трифон      Блохин   \n",
       "497     1497   32         NaN        Челябинск   Каролина      Агеева   \n",
       "498     1498   68  2018-10-25      Владикавказ   Всеволод     Акимчин   \n",
       "499     1499   35         NaN            Пермь     Гектор    Корнилов   \n",
       "\n",
       "       reg_date tariff  \n",
       "490  2018-04-03  smart  \n",
       "491  2018-04-25  ultra  \n",
       "492  2018-06-26  smart  \n",
       "493  2018-11-24  ultra  \n",
       "494  2018-08-17  smart  \n",
       "495  2018-08-28  ultra  \n",
       "496  2018-01-27  smart  \n",
       "497  2018-10-09  smart  \n",
       "498  2018-07-19  smart  \n",
       "499  2018-09-27  smart  "
      ]
     },
     "metadata": {},
     "output_type": "display_data"
    }
   ],
   "source": [
    "data_users = pd.read_csv('/datasets/users.csv')\n",
    "# просмотр первых десяти строчек в таблице data_users\n",
    "display(data_users.head(10))\n",
    "display(data_users.tail(10))"
   ]
  },
  {
   "cell_type": "code",
   "execution_count": 12,
   "metadata": {},
   "outputs": [
    {
     "name": "stdout",
     "output_type": "stream",
     "text": [
      "<class 'pandas.core.frame.DataFrame'>\n",
      "RangeIndex: 500 entries, 0 to 499\n",
      "Data columns (total 8 columns):\n",
      "user_id       500 non-null int64\n",
      "age           500 non-null int64\n",
      "churn_date    38 non-null object\n",
      "city          500 non-null object\n",
      "first_name    500 non-null object\n",
      "last_name     500 non-null object\n",
      "reg_date      500 non-null object\n",
      "tariff        500 non-null object\n",
      "dtypes: int64(2), object(6)\n",
      "memory usage: 31.4+ KB\n"
     ]
    }
   ],
   "source": [
    "# получение общей информации о данных в таблице data_users\n",
    "data_users.info()"
   ]
  },
  {
   "cell_type": "markdown",
   "metadata": {},
   "source": [
    "Столбцы названы корректно. Обнаружены пропуски в столбце churn_date, это случилось из-за того, что пользователи не прекратили пользоваться тарифом."
   ]
  },
  {
   "cell_type": "markdown",
   "metadata": {},
   "source": [
    "<div class=\"alert alert-success\">\n",
    "<b>Комментарий ревьюера v1:</b>\n",
    "    \n",
    "Отлично! Первый взгляд на данные есть, предварительный анализ выполнен."
   ]
  },
  {
   "cell_type": "markdown",
   "metadata": {},
   "source": [
    "## Подготовка данных"
   ]
  },
  {
   "cell_type": "markdown",
   "metadata": {},
   "source": [
    "### Пропуски в данных"
   ]
  },
  {
   "cell_type": "code",
   "execution_count": 13,
   "metadata": {},
   "outputs": [],
   "source": [
    "# заполнение пропусков нулями\n",
    "data_users = data_users.fillna(0)"
   ]
  },
  {
   "cell_type": "markdown",
   "metadata": {},
   "source": [
    "### Изменение типов данных"
   ]
  },
  {
   "cell_type": "code",
   "execution_count": 14,
   "metadata": {
    "scrolled": true
   },
   "outputs": [],
   "source": [
    "# изменение типа данных на datetime\n",
    "data_calls['call_date'] = pd.to_datetime(data_calls['call_date'], format='%Y-%m-%d')\n",
    "data_internet['session_date'] = pd.to_datetime(data_internet['session_date'], format='%Y-%m-%d')\n",
    "data_messages['message_date'] = pd.to_datetime(data_messages['message_date'], format='%Y-%m-%d')\n",
    "data_users['reg_date'] = pd.to_datetime(data_users['reg_date'], format='%Y-%m-%d')"
   ]
  },
  {
   "cell_type": "markdown",
   "metadata": {},
   "source": [
    "### Расчет количества сделанных звонков и израсходованных минут разговора по месяцам"
   ]
  },
  {
   "cell_type": "code",
   "execution_count": 15,
   "metadata": {},
   "outputs": [
    {
     "data": {
      "text/html": [
       "<div>\n",
       "<style scoped>\n",
       "    .dataframe tbody tr th:only-of-type {\n",
       "        vertical-align: middle;\n",
       "    }\n",
       "\n",
       "    .dataframe tbody tr th {\n",
       "        vertical-align: top;\n",
       "    }\n",
       "\n",
       "    .dataframe thead th {\n",
       "        text-align: right;\n",
       "    }\n",
       "</style>\n",
       "<table border=\"1\" class=\"dataframe\">\n",
       "  <thead>\n",
       "    <tr style=\"text-align: right;\">\n",
       "      <th></th>\n",
       "      <th></th>\n",
       "      <th>duration</th>\n",
       "    </tr>\n",
       "    <tr>\n",
       "      <th>user_id</th>\n",
       "      <th>month</th>\n",
       "      <th></th>\n",
       "    </tr>\n",
       "  </thead>\n",
       "  <tbody>\n",
       "    <tr>\n",
       "      <td rowspan=\"5\" valign=\"top\">1000</td>\n",
       "      <td>5</td>\n",
       "      <td>150.06</td>\n",
       "    </tr>\n",
       "    <tr>\n",
       "      <td>6</td>\n",
       "      <td>158.90</td>\n",
       "    </tr>\n",
       "    <tr>\n",
       "      <td>7</td>\n",
       "      <td>318.80</td>\n",
       "    </tr>\n",
       "    <tr>\n",
       "      <td>8</td>\n",
       "      <td>389.87</td>\n",
       "    </tr>\n",
       "    <tr>\n",
       "      <td>9</td>\n",
       "      <td>440.14</td>\n",
       "    </tr>\n",
       "    <tr>\n",
       "      <td>...</td>\n",
       "      <td>...</td>\n",
       "      <td>...</td>\n",
       "    </tr>\n",
       "    <tr>\n",
       "      <td>1498</td>\n",
       "      <td>10</td>\n",
       "      <td>232.63</td>\n",
       "    </tr>\n",
       "    <tr>\n",
       "      <td rowspan=\"4\" valign=\"top\">1499</td>\n",
       "      <td>9</td>\n",
       "      <td>64.65</td>\n",
       "    </tr>\n",
       "    <tr>\n",
       "      <td>10</td>\n",
       "      <td>429.91</td>\n",
       "    </tr>\n",
       "    <tr>\n",
       "      <td>11</td>\n",
       "      <td>576.50</td>\n",
       "    </tr>\n",
       "    <tr>\n",
       "      <td>12</td>\n",
       "      <td>465.16</td>\n",
       "    </tr>\n",
       "  </tbody>\n",
       "</table>\n",
       "<p>3174 rows × 1 columns</p>\n",
       "</div>"
      ],
      "text/plain": [
       "               duration\n",
       "user_id month          \n",
       "1000    5        150.06\n",
       "        6        158.90\n",
       "        7        318.80\n",
       "        8        389.87\n",
       "        9        440.14\n",
       "...                 ...\n",
       "1498    10       232.63\n",
       "1499    9         64.65\n",
       "        10       429.91\n",
       "        11       576.50\n",
       "        12       465.16\n",
       "\n",
       "[3174 rows x 1 columns]"
      ]
     },
     "execution_count": 15,
     "metadata": {},
     "output_type": "execute_result"
    }
   ],
   "source": [
    "# создание отдельного столбца с номером месяца\n",
    "data_calls['month'] = data_calls['call_date'].dt.month\n",
    "# группировка данных по айди пользоватаеля и месяцу и создание нового столбца с общим количеством минут звонков\n",
    "data_duration_per_month = data_calls.groupby(['user_id', 'month'])['duration'].sum()\n",
    "# преобразование Series в Dataframe, это понадобится позже для объединения с таблицей\n",
    "data_duration_per_month = data_duration_per_month.to_frame()\n",
    "data_duration_per_month"
   ]
  },
  {
   "cell_type": "code",
   "execution_count": 16,
   "metadata": {},
   "outputs": [
    {
     "data": {
      "text/html": [
       "<div>\n",
       "<style scoped>\n",
       "    .dataframe tbody tr th:only-of-type {\n",
       "        vertical-align: middle;\n",
       "    }\n",
       "\n",
       "    .dataframe tbody tr th {\n",
       "        vertical-align: top;\n",
       "    }\n",
       "\n",
       "    .dataframe thead th {\n",
       "        text-align: right;\n",
       "    }\n",
       "</style>\n",
       "<table border=\"1\" class=\"dataframe\">\n",
       "  <thead>\n",
       "    <tr style=\"text-align: right;\">\n",
       "      <th></th>\n",
       "      <th></th>\n",
       "      <th>duration</th>\n",
       "    </tr>\n",
       "    <tr>\n",
       "      <th>user_id</th>\n",
       "      <th>month</th>\n",
       "      <th></th>\n",
       "    </tr>\n",
       "  </thead>\n",
       "  <tbody>\n",
       "    <tr>\n",
       "      <td rowspan=\"5\" valign=\"top\">1000</td>\n",
       "      <td>5</td>\n",
       "      <td>151</td>\n",
       "    </tr>\n",
       "    <tr>\n",
       "      <td>6</td>\n",
       "      <td>159</td>\n",
       "    </tr>\n",
       "    <tr>\n",
       "      <td>7</td>\n",
       "      <td>319</td>\n",
       "    </tr>\n",
       "    <tr>\n",
       "      <td>8</td>\n",
       "      <td>390</td>\n",
       "    </tr>\n",
       "    <tr>\n",
       "      <td>9</td>\n",
       "      <td>441</td>\n",
       "    </tr>\n",
       "    <tr>\n",
       "      <td>...</td>\n",
       "      <td>...</td>\n",
       "      <td>...</td>\n",
       "    </tr>\n",
       "    <tr>\n",
       "      <td>1498</td>\n",
       "      <td>10</td>\n",
       "      <td>233</td>\n",
       "    </tr>\n",
       "    <tr>\n",
       "      <td rowspan=\"4\" valign=\"top\">1499</td>\n",
       "      <td>9</td>\n",
       "      <td>65</td>\n",
       "    </tr>\n",
       "    <tr>\n",
       "      <td>10</td>\n",
       "      <td>430</td>\n",
       "    </tr>\n",
       "    <tr>\n",
       "      <td>11</td>\n",
       "      <td>577</td>\n",
       "    </tr>\n",
       "    <tr>\n",
       "      <td>12</td>\n",
       "      <td>466</td>\n",
       "    </tr>\n",
       "  </tbody>\n",
       "</table>\n",
       "<p>3174 rows × 1 columns</p>\n",
       "</div>"
      ],
      "text/plain": [
       "               duration\n",
       "user_id month          \n",
       "1000    5           151\n",
       "        6           159\n",
       "        7           319\n",
       "        8           390\n",
       "        9           441\n",
       "...                 ...\n",
       "1498    10          233\n",
       "1499    9            65\n",
       "        10          430\n",
       "        11          577\n",
       "        12          466\n",
       "\n",
       "[3174 rows x 1 columns]"
      ]
     },
     "execution_count": 16,
     "metadata": {},
     "output_type": "execute_result"
    }
   ],
   "source": [
    "# функция округления\n",
    "def ceil_duration(row):\n",
    "    if row['duration'] - int(row['duration']) > 0:\n",
    "        return int(row['duration']) + 1\n",
    "    return row['duration']\n",
    "                   \n",
    "# округление столбца duration\n",
    "data_duration_per_month['duration'] = data_duration_per_month.apply(ceil_duration, axis=1)\n",
    "data_duration_per_month['duration'] = data_duration_per_month['duration'].astype(int)\n",
    "data_duration_per_month"
   ]
  },
  {
   "cell_type": "markdown",
   "metadata": {},
   "source": [
    "<div class=\"alert alert-danger\">\n",
    "<b>Комментарий ревьюера v1:</b>\n",
    "\n",
    "Обрати,  внимание, что оператор округляет все значения минут и трафика в большую сторону.\n",
    "\n",
    "```\n",
    "Из задания:\n",
    "«Мегалайн» всегда округляет секунды до минут, а мегабайты — до гигабайт. Каждый звонок округляется отдельно: даже если он длился всего 1 секунду, будет засчитан как 1 минута.\n",
    "Для веб-трафика отдельные сессии не считаются. Вместо этого общая сумма за месяц округляется в бо́льшую сторону. Если абонент использует 1025 мегабайт в этом месяце, с него возьмут плату за 2 гигабайта.\n",
    "```\n",
    "\n",
    "Добавь, пожалуйста, округление звонков перед группировкой данных."
   ]
  },
  {
   "cell_type": "markdown",
   "metadata": {},
   "source": [
    "<div class=\"alert alert-info\"> <b>Комментарий студентки:</b> \n",
    "    Я просто сделала это после группировки данных. Переместила теперь до</div>"
   ]
  },
  {
   "cell_type": "markdown",
   "metadata": {},
   "source": [
    "<div class=\"alert alert-success\">\n",
    "<b>Комментарий ревьюера v2:</b>\n",
    "    \n",
    "Отлично, теперь логика верная.\n",
    "    \n",
    "Здесь можно также использовать функцию np.ceil(). Она работает без apply (короче код/быстрее).\n",
    "\n",
    "```\n",
    "calls['duration'] = np.ceil(calls['duration'])\n",
    "```"
   ]
  },
  {
   "cell_type": "code",
   "execution_count": 17,
   "metadata": {},
   "outputs": [
    {
     "data": {
      "text/html": [
       "<div>\n",
       "<style scoped>\n",
       "    .dataframe tbody tr th:only-of-type {\n",
       "        vertical-align: middle;\n",
       "    }\n",
       "\n",
       "    .dataframe tbody tr th {\n",
       "        vertical-align: top;\n",
       "    }\n",
       "\n",
       "    .dataframe thead th {\n",
       "        text-align: right;\n",
       "    }\n",
       "</style>\n",
       "<table border=\"1\" class=\"dataframe\">\n",
       "  <thead>\n",
       "    <tr style=\"text-align: right;\">\n",
       "      <th></th>\n",
       "      <th></th>\n",
       "      <th>calls</th>\n",
       "    </tr>\n",
       "    <tr>\n",
       "      <th>user_id</th>\n",
       "      <th>month</th>\n",
       "      <th></th>\n",
       "    </tr>\n",
       "  </thead>\n",
       "  <tbody>\n",
       "    <tr>\n",
       "      <td rowspan=\"5\" valign=\"top\">1000</td>\n",
       "      <td>5</td>\n",
       "      <td>22</td>\n",
       "    </tr>\n",
       "    <tr>\n",
       "      <td>6</td>\n",
       "      <td>43</td>\n",
       "    </tr>\n",
       "    <tr>\n",
       "      <td>7</td>\n",
       "      <td>47</td>\n",
       "    </tr>\n",
       "    <tr>\n",
       "      <td>8</td>\n",
       "      <td>52</td>\n",
       "    </tr>\n",
       "    <tr>\n",
       "      <td>9</td>\n",
       "      <td>58</td>\n",
       "    </tr>\n",
       "    <tr>\n",
       "      <td>...</td>\n",
       "      <td>...</td>\n",
       "      <td>...</td>\n",
       "    </tr>\n",
       "    <tr>\n",
       "      <td>1498</td>\n",
       "      <td>10</td>\n",
       "      <td>41</td>\n",
       "    </tr>\n",
       "    <tr>\n",
       "      <td rowspan=\"4\" valign=\"top\">1499</td>\n",
       "      <td>9</td>\n",
       "      <td>9</td>\n",
       "    </tr>\n",
       "    <tr>\n",
       "      <td>10</td>\n",
       "      <td>68</td>\n",
       "    </tr>\n",
       "    <tr>\n",
       "      <td>11</td>\n",
       "      <td>74</td>\n",
       "    </tr>\n",
       "    <tr>\n",
       "      <td>12</td>\n",
       "      <td>69</td>\n",
       "    </tr>\n",
       "  </tbody>\n",
       "</table>\n",
       "<p>3174 rows × 1 columns</p>\n",
       "</div>"
      ],
      "text/plain": [
       "               calls\n",
       "user_id month       \n",
       "1000    5         22\n",
       "        6         43\n",
       "        7         47\n",
       "        8         52\n",
       "        9         58\n",
       "...              ...\n",
       "1498    10        41\n",
       "1499    9          9\n",
       "        10        68\n",
       "        11        74\n",
       "        12        69\n",
       "\n",
       "[3174 rows x 1 columns]"
      ]
     },
     "execution_count": 17,
     "metadata": {},
     "output_type": "execute_result"
    }
   ],
   "source": [
    "# группировка данных по айди пользоватаеля и месяцу и создание нового столбца с общим количеством звонков\n",
    "data_calls_per_month = data_calls.groupby(['user_id', 'month'])['id'].count()\n",
    "# преобразование Series в Dataframe, это понадобится позже для объединения с таблицей\n",
    "data_calls_per_month = data_calls_per_month.to_frame()\n",
    "data_calls_per_month = data_calls_per_month.rename(columns={'id':'calls'})\n",
    "data_calls_per_month"
   ]
  },
  {
   "cell_type": "markdown",
   "metadata": {},
   "source": [
    "### Расчет количества отправленных сообщений по месяцам"
   ]
  },
  {
   "cell_type": "code",
   "execution_count": 18,
   "metadata": {},
   "outputs": [
    {
     "data": {
      "text/html": [
       "<div>\n",
       "<style scoped>\n",
       "    .dataframe tbody tr th:only-of-type {\n",
       "        vertical-align: middle;\n",
       "    }\n",
       "\n",
       "    .dataframe tbody tr th {\n",
       "        vertical-align: top;\n",
       "    }\n",
       "\n",
       "    .dataframe thead th {\n",
       "        text-align: right;\n",
       "    }\n",
       "</style>\n",
       "<table border=\"1\" class=\"dataframe\">\n",
       "  <thead>\n",
       "    <tr style=\"text-align: right;\">\n",
       "      <th></th>\n",
       "      <th></th>\n",
       "      <th>messages</th>\n",
       "    </tr>\n",
       "    <tr>\n",
       "      <th>user_id</th>\n",
       "      <th>month</th>\n",
       "      <th></th>\n",
       "    </tr>\n",
       "  </thead>\n",
       "  <tbody>\n",
       "    <tr>\n",
       "      <td rowspan=\"5\" valign=\"top\">1000</td>\n",
       "      <td>5</td>\n",
       "      <td>22</td>\n",
       "    </tr>\n",
       "    <tr>\n",
       "      <td>6</td>\n",
       "      <td>60</td>\n",
       "    </tr>\n",
       "    <tr>\n",
       "      <td>7</td>\n",
       "      <td>75</td>\n",
       "    </tr>\n",
       "    <tr>\n",
       "      <td>8</td>\n",
       "      <td>81</td>\n",
       "    </tr>\n",
       "    <tr>\n",
       "      <td>9</td>\n",
       "      <td>57</td>\n",
       "    </tr>\n",
       "    <tr>\n",
       "      <td>...</td>\n",
       "      <td>...</td>\n",
       "      <td>...</td>\n",
       "    </tr>\n",
       "    <tr>\n",
       "      <td>1498</td>\n",
       "      <td>10</td>\n",
       "      <td>42</td>\n",
       "    </tr>\n",
       "    <tr>\n",
       "      <td rowspan=\"4\" valign=\"top\">1499</td>\n",
       "      <td>9</td>\n",
       "      <td>11</td>\n",
       "    </tr>\n",
       "    <tr>\n",
       "      <td>10</td>\n",
       "      <td>48</td>\n",
       "    </tr>\n",
       "    <tr>\n",
       "      <td>11</td>\n",
       "      <td>59</td>\n",
       "    </tr>\n",
       "    <tr>\n",
       "      <td>12</td>\n",
       "      <td>66</td>\n",
       "    </tr>\n",
       "  </tbody>\n",
       "</table>\n",
       "<p>2717 rows × 1 columns</p>\n",
       "</div>"
      ],
      "text/plain": [
       "               messages\n",
       "user_id month          \n",
       "1000    5            22\n",
       "        6            60\n",
       "        7            75\n",
       "        8            81\n",
       "        9            57\n",
       "...                 ...\n",
       "1498    10           42\n",
       "1499    9            11\n",
       "        10           48\n",
       "        11           59\n",
       "        12           66\n",
       "\n",
       "[2717 rows x 1 columns]"
      ]
     },
     "execution_count": 18,
     "metadata": {},
     "output_type": "execute_result"
    }
   ],
   "source": [
    "# создание отдельного столбца с номером месяца\n",
    "data_messages['month'] = data_messages['message_date'].dt.month\n",
    "# группировка данных по айди пользоватаеля и месяцу и создание нового столбца с общим количеством смс\n",
    "data_messages_per_month = data_messages.groupby(['user_id', 'month'])['id'].count()\n",
    "# преобразование Series в Dataframe, это понадобится позже для объединения с таблицей\n",
    "data_messages_per_month = data_messages_per_month.to_frame()\n",
    "# переименования столбца, чтобы было понятно что в нем хранится\n",
    "data_messages_per_month = data_messages_per_month.rename(columns={'id':'messages'})\n",
    "data_messages_per_month"
   ]
  },
  {
   "cell_type": "markdown",
   "metadata": {},
   "source": [
    "<div class=\"alert alert-warning\">\n",
    "<b>Комментарий ревьюера v1:</b>\n",
    "\n",
    "В данном случае у нас данные только за год и метод «month» отлично справляется с задачей. Но для других датасетов это может привести к ошибке: например, апрhель 2019 и апрель 2021 могут стать одним месяцем. Чтобы вывести всю информацию можно использовать метод astype('datetime64[M]'). Он приводит дату к формату первое число - месяц – год\n"
   ]
  },
  {
   "cell_type": "markdown",
   "metadata": {},
   "source": [
    "<div class=\"alert alert-info\"> <b>Комментарий студентки:</b> \n",
    "    На будущее учту</div>"
   ]
  },
  {
   "cell_type": "markdown",
   "metadata": {},
   "source": [
    "### Расчет объема израсходованного интернет-трафика по месяцам"
   ]
  },
  {
   "cell_type": "code",
   "execution_count": 19,
   "metadata": {},
   "outputs": [
    {
     "data": {
      "text/html": [
       "<div>\n",
       "<style scoped>\n",
       "    .dataframe tbody tr th:only-of-type {\n",
       "        vertical-align: middle;\n",
       "    }\n",
       "\n",
       "    .dataframe tbody tr th {\n",
       "        vertical-align: top;\n",
       "    }\n",
       "\n",
       "    .dataframe thead th {\n",
       "        text-align: right;\n",
       "    }\n",
       "</style>\n",
       "<table border=\"1\" class=\"dataframe\">\n",
       "  <thead>\n",
       "    <tr style=\"text-align: right;\">\n",
       "      <th></th>\n",
       "      <th></th>\n",
       "      <th>mb_used</th>\n",
       "    </tr>\n",
       "    <tr>\n",
       "      <th>user_id</th>\n",
       "      <th>month</th>\n",
       "      <th></th>\n",
       "    </tr>\n",
       "  </thead>\n",
       "  <tbody>\n",
       "    <tr>\n",
       "      <td rowspan=\"5\" valign=\"top\">1000</td>\n",
       "      <td>5</td>\n",
       "      <td>2253.49</td>\n",
       "    </tr>\n",
       "    <tr>\n",
       "      <td>6</td>\n",
       "      <td>23233.77</td>\n",
       "    </tr>\n",
       "    <tr>\n",
       "      <td>7</td>\n",
       "      <td>14003.64</td>\n",
       "    </tr>\n",
       "    <tr>\n",
       "      <td>8</td>\n",
       "      <td>14055.93</td>\n",
       "    </tr>\n",
       "    <tr>\n",
       "      <td>9</td>\n",
       "      <td>14568.91</td>\n",
       "    </tr>\n",
       "    <tr>\n",
       "      <td>...</td>\n",
       "      <td>...</td>\n",
       "      <td>...</td>\n",
       "    </tr>\n",
       "    <tr>\n",
       "      <td>1498</td>\n",
       "      <td>10</td>\n",
       "      <td>20579.36</td>\n",
       "    </tr>\n",
       "    <tr>\n",
       "      <td rowspan=\"4\" valign=\"top\">1499</td>\n",
       "      <td>9</td>\n",
       "      <td>1845.75</td>\n",
       "    </tr>\n",
       "    <tr>\n",
       "      <td>10</td>\n",
       "      <td>17788.51</td>\n",
       "    </tr>\n",
       "    <tr>\n",
       "      <td>11</td>\n",
       "      <td>17963.31</td>\n",
       "    </tr>\n",
       "    <tr>\n",
       "      <td>12</td>\n",
       "      <td>13055.58</td>\n",
       "    </tr>\n",
       "  </tbody>\n",
       "</table>\n",
       "<p>3203 rows × 1 columns</p>\n",
       "</div>"
      ],
      "text/plain": [
       "                mb_used\n",
       "user_id month          \n",
       "1000    5       2253.49\n",
       "        6      23233.77\n",
       "        7      14003.64\n",
       "        8      14055.93\n",
       "        9      14568.91\n",
       "...                 ...\n",
       "1498    10     20579.36\n",
       "1499    9       1845.75\n",
       "        10     17788.51\n",
       "        11     17963.31\n",
       "        12     13055.58\n",
       "\n",
       "[3203 rows x 1 columns]"
      ]
     },
     "execution_count": 19,
     "metadata": {},
     "output_type": "execute_result"
    }
   ],
   "source": [
    "# создание отдельного столбца с номером месяца\n",
    "data_internet['month'] = data_internet['session_date'].dt.month\n",
    "# группировка данных по айди пользоватаеля и месяцу и создание нового столбца с общим количеством  мегабайт\n",
    "data_internet_per_month = data_internet.groupby(['user_id', 'month'])['mb_used'].sum()\n",
    "# преобразование Series в Dataframe, это понадобится позже для объединения с таблицей\n",
    "data_internet_per_month = data_internet_per_month.to_frame()\n",
    "data_internet_per_month"
   ]
  },
  {
   "cell_type": "markdown",
   "metadata": {},
   "source": [
    "### Расчет помесячной выручки с каждого пользователя"
   ]
  },
  {
   "cell_type": "code",
   "execution_count": 20,
   "metadata": {},
   "outputs": [
    {
     "data": {
      "text/html": [
       "<div>\n",
       "<style scoped>\n",
       "    .dataframe tbody tr th:only-of-type {\n",
       "        vertical-align: middle;\n",
       "    }\n",
       "\n",
       "    .dataframe tbody tr th {\n",
       "        vertical-align: top;\n",
       "    }\n",
       "\n",
       "    .dataframe thead th {\n",
       "        text-align: right;\n",
       "    }\n",
       "</style>\n",
       "<table border=\"1\" class=\"dataframe\">\n",
       "  <thead>\n",
       "    <tr style=\"text-align: right;\">\n",
       "      <th></th>\n",
       "      <th>user_id</th>\n",
       "      <th>month</th>\n",
       "      <th>duration</th>\n",
       "      <th>messages</th>\n",
       "      <th>calls</th>\n",
       "      <th>mb_used</th>\n",
       "    </tr>\n",
       "  </thead>\n",
       "  <tbody>\n",
       "    <tr>\n",
       "      <td>0</td>\n",
       "      <td>1000</td>\n",
       "      <td>5</td>\n",
       "      <td>151.0</td>\n",
       "      <td>22</td>\n",
       "      <td>22</td>\n",
       "      <td>2253.49</td>\n",
       "    </tr>\n",
       "    <tr>\n",
       "      <td>1</td>\n",
       "      <td>1000</td>\n",
       "      <td>6</td>\n",
       "      <td>159.0</td>\n",
       "      <td>60</td>\n",
       "      <td>43</td>\n",
       "      <td>23233.77</td>\n",
       "    </tr>\n",
       "    <tr>\n",
       "      <td>2</td>\n",
       "      <td>1000</td>\n",
       "      <td>7</td>\n",
       "      <td>319.0</td>\n",
       "      <td>75</td>\n",
       "      <td>47</td>\n",
       "      <td>14003.64</td>\n",
       "    </tr>\n",
       "    <tr>\n",
       "      <td>3</td>\n",
       "      <td>1000</td>\n",
       "      <td>8</td>\n",
       "      <td>390.0</td>\n",
       "      <td>81</td>\n",
       "      <td>52</td>\n",
       "      <td>14055.93</td>\n",
       "    </tr>\n",
       "    <tr>\n",
       "      <td>4</td>\n",
       "      <td>1000</td>\n",
       "      <td>9</td>\n",
       "      <td>441.0</td>\n",
       "      <td>57</td>\n",
       "      <td>58</td>\n",
       "      <td>14568.91</td>\n",
       "    </tr>\n",
       "    <tr>\n",
       "      <td>...</td>\n",
       "      <td>...</td>\n",
       "      <td>...</td>\n",
       "      <td>...</td>\n",
       "      <td>...</td>\n",
       "      <td>...</td>\n",
       "      <td>...</td>\n",
       "    </tr>\n",
       "    <tr>\n",
       "      <td>3209</td>\n",
       "      <td>1489</td>\n",
       "      <td>9</td>\n",
       "      <td>0.0</td>\n",
       "      <td>32</td>\n",
       "      <td>0</td>\n",
       "      <td>17206.30</td>\n",
       "    </tr>\n",
       "    <tr>\n",
       "      <td>3210</td>\n",
       "      <td>1489</td>\n",
       "      <td>10</td>\n",
       "      <td>0.0</td>\n",
       "      <td>21</td>\n",
       "      <td>0</td>\n",
       "      <td>19559.44</td>\n",
       "    </tr>\n",
       "    <tr>\n",
       "      <td>3211</td>\n",
       "      <td>1489</td>\n",
       "      <td>11</td>\n",
       "      <td>0.0</td>\n",
       "      <td>20</td>\n",
       "      <td>0</td>\n",
       "      <td>17491.56</td>\n",
       "    </tr>\n",
       "    <tr>\n",
       "      <td>3212</td>\n",
       "      <td>1489</td>\n",
       "      <td>12</td>\n",
       "      <td>0.0</td>\n",
       "      <td>35</td>\n",
       "      <td>0</td>\n",
       "      <td>17322.51</td>\n",
       "    </tr>\n",
       "    <tr>\n",
       "      <td>3213</td>\n",
       "      <td>1476</td>\n",
       "      <td>4</td>\n",
       "      <td>0.0</td>\n",
       "      <td>0</td>\n",
       "      <td>0</td>\n",
       "      <td>530.78</td>\n",
       "    </tr>\n",
       "  </tbody>\n",
       "</table>\n",
       "<p>3214 rows × 6 columns</p>\n",
       "</div>"
      ],
      "text/plain": [
       "      user_id  month  duration  messages  calls   mb_used\n",
       "0        1000      5     151.0        22     22   2253.49\n",
       "1        1000      6     159.0        60     43  23233.77\n",
       "2        1000      7     319.0        75     47  14003.64\n",
       "3        1000      8     390.0        81     52  14055.93\n",
       "4        1000      9     441.0        57     58  14568.91\n",
       "...       ...    ...       ...       ...    ...       ...\n",
       "3209     1489      9       0.0        32      0  17206.30\n",
       "3210     1489     10       0.0        21      0  19559.44\n",
       "3211     1489     11       0.0        20      0  17491.56\n",
       "3212     1489     12       0.0        35      0  17322.51\n",
       "3213     1476      4       0.0         0      0    530.78\n",
       "\n",
       "[3214 rows x 6 columns]"
      ]
     },
     "execution_count": 20,
     "metadata": {},
     "output_type": "execute_result"
    }
   ],
   "source": [
    "# соединение четырех таблиц\n",
    "counted_data = data_duration_per_month.merge(data_messages_per_month, on=['user_id', 'month'], how='outer')\n",
    "counted_data = counted_data.merge(data_calls_per_month, on=['user_id', 'month'], how='outer')\n",
    "counted_data = counted_data.merge(data_internet_per_month, on=['user_id', 'month'], how='outer')\n",
    "counted_data = counted_data.reset_index()\n",
    "# заполнение пропусков\n",
    "counted_data = counted_data.fillna(0)\n",
    "# преобразование типов к int\n",
    "counted_data['messages'] = counted_data['messages'].astype('int')\n",
    "counted_data['calls'] = counted_data['calls'].astype('int')\n",
    "counted_data"
   ]
  },
  {
   "cell_type": "markdown",
   "metadata": {},
   "source": [
    "<div class=\"alert alert-danger\">\n",
    "<b>Комментарий ревьюера v1:</b>\n",
    "\n",
    "Здесь, при объединении таблиц некоторые наблюдения были потеряны. Например, некоторые пользователи только звонили в каком-то месяце, нам важно сохранить их в общей таблице. Кстати, можно сгруппировать 3 таблицы одновременно с помощью reduce. Почитать можно тут:\n",
    "https://www.codegrepper.com/code-examples/python/merge+more+than+2+dataframes+in+pandas"
   ]
  },
  {
   "cell_type": "markdown",
   "metadata": {},
   "source": [
    "<div class=\"alert alert-info\"> <b>Комментарий студентки:</b> \n",
    "    Не очень поняла, почему они были потеряны? Я ведь наоборот их оставляю, так как соединяню по правой таблице, в общей таблицн даже нули появляются, если, например, человек не звонил, но зато использовал интернет</div>"
   ]
  },
  {
   "attachments": {
    "image.png": {
     "image/png": "[encoded data removed]"
    }
   },
   "cell_type": "markdown",
   "metadata": {},
   "source": [
    "<div class=\"alert alert-danger\">\n",
    "<b>Комментарий ревьюера v2:</b>\n",
    "\n",
    "В данном случае нужно использовать how='outer', чтобы взять все данных с левой и правой стороны, ведь человек мог звонить, но не использовать интернет.\n",
    "\n",
    "![image.png](attachment:image.png)"
   ]
  },
  {
   "cell_type": "markdown",
   "metadata": {},
   "source": [
    "<div class=\"alert alert-info\"> <b>Комментарий студентки:</b> \n",
    "    Теперь поняла, исправила</div>"
   ]
  },
  {
   "cell_type": "markdown",
   "metadata": {},
   "source": [
    "<div class=\"alert alert-success\">\n",
    "<b>Комментарий ревьюера v3:</b>\n",
    "    \n",
    "🙌"
   ]
  },
  {
   "cell_type": "code",
   "execution_count": 21,
   "metadata": {},
   "outputs": [
    {
     "data": {
      "text/html": [
       "<div>\n",
       "<style scoped>\n",
       "    .dataframe tbody tr th:only-of-type {\n",
       "        vertical-align: middle;\n",
       "    }\n",
       "\n",
       "    .dataframe tbody tr th {\n",
       "        vertical-align: top;\n",
       "    }\n",
       "\n",
       "    .dataframe thead th {\n",
       "        text-align: right;\n",
       "    }\n",
       "</style>\n",
       "<table border=\"1\" class=\"dataframe\">\n",
       "  <thead>\n",
       "    <tr style=\"text-align: right;\">\n",
       "      <th></th>\n",
       "      <th>user_id</th>\n",
       "      <th>month</th>\n",
       "      <th>duration</th>\n",
       "      <th>messages</th>\n",
       "      <th>calls</th>\n",
       "      <th>mb_used</th>\n",
       "      <th>gb_used</th>\n",
       "    </tr>\n",
       "  </thead>\n",
       "  <tbody>\n",
       "    <tr>\n",
       "      <td>0</td>\n",
       "      <td>1000</td>\n",
       "      <td>5</td>\n",
       "      <td>151.0</td>\n",
       "      <td>22</td>\n",
       "      <td>22</td>\n",
       "      <td>2253.49</td>\n",
       "      <td>3</td>\n",
       "    </tr>\n",
       "    <tr>\n",
       "      <td>1</td>\n",
       "      <td>1000</td>\n",
       "      <td>6</td>\n",
       "      <td>159.0</td>\n",
       "      <td>60</td>\n",
       "      <td>43</td>\n",
       "      <td>23233.77</td>\n",
       "      <td>23</td>\n",
       "    </tr>\n",
       "    <tr>\n",
       "      <td>2</td>\n",
       "      <td>1000</td>\n",
       "      <td>7</td>\n",
       "      <td>319.0</td>\n",
       "      <td>75</td>\n",
       "      <td>47</td>\n",
       "      <td>14003.64</td>\n",
       "      <td>14</td>\n",
       "    </tr>\n",
       "    <tr>\n",
       "      <td>3</td>\n",
       "      <td>1000</td>\n",
       "      <td>8</td>\n",
       "      <td>390.0</td>\n",
       "      <td>81</td>\n",
       "      <td>52</td>\n",
       "      <td>14055.93</td>\n",
       "      <td>14</td>\n",
       "    </tr>\n",
       "    <tr>\n",
       "      <td>4</td>\n",
       "      <td>1000</td>\n",
       "      <td>9</td>\n",
       "      <td>441.0</td>\n",
       "      <td>57</td>\n",
       "      <td>58</td>\n",
       "      <td>14568.91</td>\n",
       "      <td>15</td>\n",
       "    </tr>\n",
       "    <tr>\n",
       "      <td>...</td>\n",
       "      <td>...</td>\n",
       "      <td>...</td>\n",
       "      <td>...</td>\n",
       "      <td>...</td>\n",
       "      <td>...</td>\n",
       "      <td>...</td>\n",
       "      <td>...</td>\n",
       "    </tr>\n",
       "    <tr>\n",
       "      <td>3209</td>\n",
       "      <td>1489</td>\n",
       "      <td>9</td>\n",
       "      <td>0.0</td>\n",
       "      <td>32</td>\n",
       "      <td>0</td>\n",
       "      <td>17206.30</td>\n",
       "      <td>17</td>\n",
       "    </tr>\n",
       "    <tr>\n",
       "      <td>3210</td>\n",
       "      <td>1489</td>\n",
       "      <td>10</td>\n",
       "      <td>0.0</td>\n",
       "      <td>21</td>\n",
       "      <td>0</td>\n",
       "      <td>19559.44</td>\n",
       "      <td>20</td>\n",
       "    </tr>\n",
       "    <tr>\n",
       "      <td>3211</td>\n",
       "      <td>1489</td>\n",
       "      <td>11</td>\n",
       "      <td>0.0</td>\n",
       "      <td>20</td>\n",
       "      <td>0</td>\n",
       "      <td>17491.56</td>\n",
       "      <td>18</td>\n",
       "    </tr>\n",
       "    <tr>\n",
       "      <td>3212</td>\n",
       "      <td>1489</td>\n",
       "      <td>12</td>\n",
       "      <td>0.0</td>\n",
       "      <td>35</td>\n",
       "      <td>0</td>\n",
       "      <td>17322.51</td>\n",
       "      <td>17</td>\n",
       "    </tr>\n",
       "    <tr>\n",
       "      <td>3213</td>\n",
       "      <td>1476</td>\n",
       "      <td>4</td>\n",
       "      <td>0.0</td>\n",
       "      <td>0</td>\n",
       "      <td>0</td>\n",
       "      <td>530.78</td>\n",
       "      <td>1</td>\n",
       "    </tr>\n",
       "  </tbody>\n",
       "</table>\n",
       "<p>3214 rows × 7 columns</p>\n",
       "</div>"
      ],
      "text/plain": [
       "      user_id  month  duration  messages  calls   mb_used  gb_used\n",
       "0        1000      5     151.0        22     22   2253.49        3\n",
       "1        1000      6     159.0        60     43  23233.77       23\n",
       "2        1000      7     319.0        75     47  14003.64       14\n",
       "3        1000      8     390.0        81     52  14055.93       14\n",
       "4        1000      9     441.0        57     58  14568.91       15\n",
       "...       ...    ...       ...       ...    ...       ...      ...\n",
       "3209     1489      9       0.0        32      0  17206.30       17\n",
       "3210     1489     10       0.0        21      0  19559.44       20\n",
       "3211     1489     11       0.0        20      0  17491.56       18\n",
       "3212     1489     12       0.0        35      0  17322.51       17\n",
       "3213     1476      4       0.0         0      0    530.78        1\n",
       "\n",
       "[3214 rows x 7 columns]"
      ]
     },
     "execution_count": 21,
     "metadata": {},
     "output_type": "execute_result"
    }
   ],
   "source": [
    "# создание нового столбца с гигабайтами\n",
    "counted_data['gb_used'] = counted_data['mb_used'] / 1024\n",
    "# функция округления\n",
    "def ceil_duration(row):\n",
    "    if row['gb_used'] - int(row['gb_used']) > 0:\n",
    "        return int(row['gb_used']) + 1\n",
    "    return row['gb_used']\n",
    "       \n",
    "# округление столбца gb_used\n",
    "counted_data['gb_used'] = counted_data.apply(ceil_duration, axis=1)\n",
    "counted_data['gb_used'] = counted_data['gb_used'].astype(int)\n",
    "counted_data"
   ]
  },
  {
   "cell_type": "code",
   "execution_count": 22,
   "metadata": {},
   "outputs": [
    {
     "data": {
      "text/html": [
       "<div>\n",
       "<style scoped>\n",
       "    .dataframe tbody tr th:only-of-type {\n",
       "        vertical-align: middle;\n",
       "    }\n",
       "\n",
       "    .dataframe tbody tr th {\n",
       "        vertical-align: top;\n",
       "    }\n",
       "\n",
       "    .dataframe thead th {\n",
       "        text-align: right;\n",
       "    }\n",
       "</style>\n",
       "<table border=\"1\" class=\"dataframe\">\n",
       "  <thead>\n",
       "    <tr style=\"text-align: right;\">\n",
       "      <th></th>\n",
       "      <th>user_id</th>\n",
       "      <th>age</th>\n",
       "      <th>churn_date</th>\n",
       "      <th>city</th>\n",
       "      <th>first_name</th>\n",
       "      <th>last_name</th>\n",
       "      <th>reg_date</th>\n",
       "      <th>tariff</th>\n",
       "      <th>month</th>\n",
       "      <th>duration</th>\n",
       "      <th>messages</th>\n",
       "      <th>calls</th>\n",
       "      <th>mb_used</th>\n",
       "      <th>gb_used</th>\n",
       "    </tr>\n",
       "  </thead>\n",
       "  <tbody>\n",
       "    <tr>\n",
       "      <td>0</td>\n",
       "      <td>1000</td>\n",
       "      <td>52</td>\n",
       "      <td>0</td>\n",
       "      <td>Краснодар</td>\n",
       "      <td>Рафаил</td>\n",
       "      <td>Верещагин</td>\n",
       "      <td>2018-05-25</td>\n",
       "      <td>ultra</td>\n",
       "      <td>5</td>\n",
       "      <td>151.0</td>\n",
       "      <td>22</td>\n",
       "      <td>22</td>\n",
       "      <td>2253.49</td>\n",
       "      <td>3</td>\n",
       "    </tr>\n",
       "    <tr>\n",
       "      <td>1</td>\n",
       "      <td>1000</td>\n",
       "      <td>52</td>\n",
       "      <td>0</td>\n",
       "      <td>Краснодар</td>\n",
       "      <td>Рафаил</td>\n",
       "      <td>Верещагин</td>\n",
       "      <td>2018-05-25</td>\n",
       "      <td>ultra</td>\n",
       "      <td>6</td>\n",
       "      <td>159.0</td>\n",
       "      <td>60</td>\n",
       "      <td>43</td>\n",
       "      <td>23233.77</td>\n",
       "      <td>23</td>\n",
       "    </tr>\n",
       "    <tr>\n",
       "      <td>2</td>\n",
       "      <td>1000</td>\n",
       "      <td>52</td>\n",
       "      <td>0</td>\n",
       "      <td>Краснодар</td>\n",
       "      <td>Рафаил</td>\n",
       "      <td>Верещагин</td>\n",
       "      <td>2018-05-25</td>\n",
       "      <td>ultra</td>\n",
       "      <td>7</td>\n",
       "      <td>319.0</td>\n",
       "      <td>75</td>\n",
       "      <td>47</td>\n",
       "      <td>14003.64</td>\n",
       "      <td>14</td>\n",
       "    </tr>\n",
       "    <tr>\n",
       "      <td>3</td>\n",
       "      <td>1000</td>\n",
       "      <td>52</td>\n",
       "      <td>0</td>\n",
       "      <td>Краснодар</td>\n",
       "      <td>Рафаил</td>\n",
       "      <td>Верещагин</td>\n",
       "      <td>2018-05-25</td>\n",
       "      <td>ultra</td>\n",
       "      <td>8</td>\n",
       "      <td>390.0</td>\n",
       "      <td>81</td>\n",
       "      <td>52</td>\n",
       "      <td>14055.93</td>\n",
       "      <td>14</td>\n",
       "    </tr>\n",
       "    <tr>\n",
       "      <td>4</td>\n",
       "      <td>1000</td>\n",
       "      <td>52</td>\n",
       "      <td>0</td>\n",
       "      <td>Краснодар</td>\n",
       "      <td>Рафаил</td>\n",
       "      <td>Верещагин</td>\n",
       "      <td>2018-05-25</td>\n",
       "      <td>ultra</td>\n",
       "      <td>9</td>\n",
       "      <td>441.0</td>\n",
       "      <td>57</td>\n",
       "      <td>58</td>\n",
       "      <td>14568.91</td>\n",
       "      <td>15</td>\n",
       "    </tr>\n",
       "    <tr>\n",
       "      <td>...</td>\n",
       "      <td>...</td>\n",
       "      <td>...</td>\n",
       "      <td>...</td>\n",
       "      <td>...</td>\n",
       "      <td>...</td>\n",
       "      <td>...</td>\n",
       "      <td>...</td>\n",
       "      <td>...</td>\n",
       "      <td>...</td>\n",
       "      <td>...</td>\n",
       "      <td>...</td>\n",
       "      <td>...</td>\n",
       "      <td>...</td>\n",
       "      <td>...</td>\n",
       "    </tr>\n",
       "    <tr>\n",
       "      <td>3209</td>\n",
       "      <td>1498</td>\n",
       "      <td>68</td>\n",
       "      <td>2018-10-25</td>\n",
       "      <td>Владикавказ</td>\n",
       "      <td>Всеволод</td>\n",
       "      <td>Акимчин</td>\n",
       "      <td>2018-07-19</td>\n",
       "      <td>smart</td>\n",
       "      <td>10</td>\n",
       "      <td>233.0</td>\n",
       "      <td>42</td>\n",
       "      <td>41</td>\n",
       "      <td>20579.36</td>\n",
       "      <td>21</td>\n",
       "    </tr>\n",
       "    <tr>\n",
       "      <td>3210</td>\n",
       "      <td>1499</td>\n",
       "      <td>35</td>\n",
       "      <td>0</td>\n",
       "      <td>Пермь</td>\n",
       "      <td>Гектор</td>\n",
       "      <td>Корнилов</td>\n",
       "      <td>2018-09-27</td>\n",
       "      <td>smart</td>\n",
       "      <td>9</td>\n",
       "      <td>65.0</td>\n",
       "      <td>11</td>\n",
       "      <td>9</td>\n",
       "      <td>1845.75</td>\n",
       "      <td>2</td>\n",
       "    </tr>\n",
       "    <tr>\n",
       "      <td>3211</td>\n",
       "      <td>1499</td>\n",
       "      <td>35</td>\n",
       "      <td>0</td>\n",
       "      <td>Пермь</td>\n",
       "      <td>Гектор</td>\n",
       "      <td>Корнилов</td>\n",
       "      <td>2018-09-27</td>\n",
       "      <td>smart</td>\n",
       "      <td>10</td>\n",
       "      <td>430.0</td>\n",
       "      <td>48</td>\n",
       "      <td>68</td>\n",
       "      <td>17788.51</td>\n",
       "      <td>18</td>\n",
       "    </tr>\n",
       "    <tr>\n",
       "      <td>3212</td>\n",
       "      <td>1499</td>\n",
       "      <td>35</td>\n",
       "      <td>0</td>\n",
       "      <td>Пермь</td>\n",
       "      <td>Гектор</td>\n",
       "      <td>Корнилов</td>\n",
       "      <td>2018-09-27</td>\n",
       "      <td>smart</td>\n",
       "      <td>11</td>\n",
       "      <td>577.0</td>\n",
       "      <td>59</td>\n",
       "      <td>74</td>\n",
       "      <td>17963.31</td>\n",
       "      <td>18</td>\n",
       "    </tr>\n",
       "    <tr>\n",
       "      <td>3213</td>\n",
       "      <td>1499</td>\n",
       "      <td>35</td>\n",
       "      <td>0</td>\n",
       "      <td>Пермь</td>\n",
       "      <td>Гектор</td>\n",
       "      <td>Корнилов</td>\n",
       "      <td>2018-09-27</td>\n",
       "      <td>smart</td>\n",
       "      <td>12</td>\n",
       "      <td>466.0</td>\n",
       "      <td>66</td>\n",
       "      <td>69</td>\n",
       "      <td>13055.58</td>\n",
       "      <td>13</td>\n",
       "    </tr>\n",
       "  </tbody>\n",
       "</table>\n",
       "<p>3214 rows × 14 columns</p>\n",
       "</div>"
      ],
      "text/plain": [
       "      user_id  age  churn_date         city first_name  last_name   reg_date  \\\n",
       "0        1000   52           0    Краснодар     Рафаил  Верещагин 2018-05-25   \n",
       "1        1000   52           0    Краснодар     Рафаил  Верещагин 2018-05-25   \n",
       "2        1000   52           0    Краснодар     Рафаил  Верещагин 2018-05-25   \n",
       "3        1000   52           0    Краснодар     Рафаил  Верещагин 2018-05-25   \n",
       "4        1000   52           0    Краснодар     Рафаил  Верещагин 2018-05-25   \n",
       "...       ...  ...         ...          ...        ...        ...        ...   \n",
       "3209     1498   68  2018-10-25  Владикавказ   Всеволод    Акимчин 2018-07-19   \n",
       "3210     1499   35           0        Пермь     Гектор   Корнилов 2018-09-27   \n",
       "3211     1499   35           0        Пермь     Гектор   Корнилов 2018-09-27   \n",
       "3212     1499   35           0        Пермь     Гектор   Корнилов 2018-09-27   \n",
       "3213     1499   35           0        Пермь     Гектор   Корнилов 2018-09-27   \n",
       "\n",
       "     tariff  month  duration  messages  calls   mb_used  gb_used  \n",
       "0     ultra      5     151.0        22     22   2253.49        3  \n",
       "1     ultra      6     159.0        60     43  23233.77       23  \n",
       "2     ultra      7     319.0        75     47  14003.64       14  \n",
       "3     ultra      8     390.0        81     52  14055.93       14  \n",
       "4     ultra      9     441.0        57     58  14568.91       15  \n",
       "...     ...    ...       ...       ...    ...       ...      ...  \n",
       "3209  smart     10     233.0        42     41  20579.36       21  \n",
       "3210  smart      9      65.0        11      9   1845.75        2  \n",
       "3211  smart     10     430.0        48     68  17788.51       18  \n",
       "3212  smart     11     577.0        59     74  17963.31       18  \n",
       "3213  smart     12     466.0        66     69  13055.58       13  \n",
       "\n",
       "[3214 rows x 14 columns]"
      ]
     },
     "execution_count": 22,
     "metadata": {},
     "output_type": "execute_result"
    }
   ],
   "source": [
    "# соединение таблицы с посчитанными даннами и таблицы с информацией о пользователях\n",
    "data_users = data_users.merge(counted_data, on='user_id', how='right')\n",
    "data_users"
   ]
  },
  {
   "cell_type": "code",
   "execution_count": 23,
   "metadata": {},
   "outputs": [
    {
     "data": {
      "text/html": [
       "<div>\n",
       "<style scoped>\n",
       "    .dataframe tbody tr th:only-of-type {\n",
       "        vertical-align: middle;\n",
       "    }\n",
       "\n",
       "    .dataframe tbody tr th {\n",
       "        vertical-align: top;\n",
       "    }\n",
       "\n",
       "    .dataframe thead th {\n",
       "        text-align: right;\n",
       "    }\n",
       "</style>\n",
       "<table border=\"1\" class=\"dataframe\">\n",
       "  <thead>\n",
       "    <tr style=\"text-align: right;\">\n",
       "      <th></th>\n",
       "      <th>user_id</th>\n",
       "      <th>age</th>\n",
       "      <th>churn_date</th>\n",
       "      <th>city</th>\n",
       "      <th>first_name</th>\n",
       "      <th>last_name</th>\n",
       "      <th>reg_date</th>\n",
       "      <th>tariff</th>\n",
       "      <th>month</th>\n",
       "      <th>duration</th>\n",
       "      <th>messages</th>\n",
       "      <th>calls</th>\n",
       "      <th>mb_used</th>\n",
       "      <th>gb_used</th>\n",
       "      <th>bill</th>\n",
       "    </tr>\n",
       "  </thead>\n",
       "  <tbody>\n",
       "    <tr>\n",
       "      <td>0</td>\n",
       "      <td>1000</td>\n",
       "      <td>52</td>\n",
       "      <td>0</td>\n",
       "      <td>Краснодар</td>\n",
       "      <td>Рафаил</td>\n",
       "      <td>Верещагин</td>\n",
       "      <td>2018-05-25</td>\n",
       "      <td>ultra</td>\n",
       "      <td>5</td>\n",
       "      <td>151.0</td>\n",
       "      <td>22</td>\n",
       "      <td>22</td>\n",
       "      <td>2253.49</td>\n",
       "      <td>3</td>\n",
       "      <td>1950.0</td>\n",
       "    </tr>\n",
       "    <tr>\n",
       "      <td>1</td>\n",
       "      <td>1000</td>\n",
       "      <td>52</td>\n",
       "      <td>0</td>\n",
       "      <td>Краснодар</td>\n",
       "      <td>Рафаил</td>\n",
       "      <td>Верещагин</td>\n",
       "      <td>2018-05-25</td>\n",
       "      <td>ultra</td>\n",
       "      <td>6</td>\n",
       "      <td>159.0</td>\n",
       "      <td>60</td>\n",
       "      <td>43</td>\n",
       "      <td>23233.77</td>\n",
       "      <td>23</td>\n",
       "      <td>1950.0</td>\n",
       "    </tr>\n",
       "    <tr>\n",
       "      <td>2</td>\n",
       "      <td>1000</td>\n",
       "      <td>52</td>\n",
       "      <td>0</td>\n",
       "      <td>Краснодар</td>\n",
       "      <td>Рафаил</td>\n",
       "      <td>Верещагин</td>\n",
       "      <td>2018-05-25</td>\n",
       "      <td>ultra</td>\n",
       "      <td>7</td>\n",
       "      <td>319.0</td>\n",
       "      <td>75</td>\n",
       "      <td>47</td>\n",
       "      <td>14003.64</td>\n",
       "      <td>14</td>\n",
       "      <td>1950.0</td>\n",
       "    </tr>\n",
       "    <tr>\n",
       "      <td>3</td>\n",
       "      <td>1000</td>\n",
       "      <td>52</td>\n",
       "      <td>0</td>\n",
       "      <td>Краснодар</td>\n",
       "      <td>Рафаил</td>\n",
       "      <td>Верещагин</td>\n",
       "      <td>2018-05-25</td>\n",
       "      <td>ultra</td>\n",
       "      <td>8</td>\n",
       "      <td>390.0</td>\n",
       "      <td>81</td>\n",
       "      <td>52</td>\n",
       "      <td>14055.93</td>\n",
       "      <td>14</td>\n",
       "      <td>1950.0</td>\n",
       "    </tr>\n",
       "    <tr>\n",
       "      <td>4</td>\n",
       "      <td>1000</td>\n",
       "      <td>52</td>\n",
       "      <td>0</td>\n",
       "      <td>Краснодар</td>\n",
       "      <td>Рафаил</td>\n",
       "      <td>Верещагин</td>\n",
       "      <td>2018-05-25</td>\n",
       "      <td>ultra</td>\n",
       "      <td>9</td>\n",
       "      <td>441.0</td>\n",
       "      <td>57</td>\n",
       "      <td>58</td>\n",
       "      <td>14568.91</td>\n",
       "      <td>15</td>\n",
       "      <td>1950.0</td>\n",
       "    </tr>\n",
       "    <tr>\n",
       "      <td>...</td>\n",
       "      <td>...</td>\n",
       "      <td>...</td>\n",
       "      <td>...</td>\n",
       "      <td>...</td>\n",
       "      <td>...</td>\n",
       "      <td>...</td>\n",
       "      <td>...</td>\n",
       "      <td>...</td>\n",
       "      <td>...</td>\n",
       "      <td>...</td>\n",
       "      <td>...</td>\n",
       "      <td>...</td>\n",
       "      <td>...</td>\n",
       "      <td>...</td>\n",
       "      <td>...</td>\n",
       "    </tr>\n",
       "    <tr>\n",
       "      <td>3209</td>\n",
       "      <td>1498</td>\n",
       "      <td>68</td>\n",
       "      <td>2018-10-25</td>\n",
       "      <td>Владикавказ</td>\n",
       "      <td>Всеволод</td>\n",
       "      <td>Акимчин</td>\n",
       "      <td>2018-07-19</td>\n",
       "      <td>smart</td>\n",
       "      <td>10</td>\n",
       "      <td>233.0</td>\n",
       "      <td>42</td>\n",
       "      <td>41</td>\n",
       "      <td>20579.36</td>\n",
       "      <td>21</td>\n",
       "      <td>1750.0</td>\n",
       "    </tr>\n",
       "    <tr>\n",
       "      <td>3210</td>\n",
       "      <td>1499</td>\n",
       "      <td>35</td>\n",
       "      <td>0</td>\n",
       "      <td>Пермь</td>\n",
       "      <td>Гектор</td>\n",
       "      <td>Корнилов</td>\n",
       "      <td>2018-09-27</td>\n",
       "      <td>smart</td>\n",
       "      <td>9</td>\n",
       "      <td>65.0</td>\n",
       "      <td>11</td>\n",
       "      <td>9</td>\n",
       "      <td>1845.75</td>\n",
       "      <td>2</td>\n",
       "      <td>550.0</td>\n",
       "    </tr>\n",
       "    <tr>\n",
       "      <td>3211</td>\n",
       "      <td>1499</td>\n",
       "      <td>35</td>\n",
       "      <td>0</td>\n",
       "      <td>Пермь</td>\n",
       "      <td>Гектор</td>\n",
       "      <td>Корнилов</td>\n",
       "      <td>2018-09-27</td>\n",
       "      <td>smart</td>\n",
       "      <td>10</td>\n",
       "      <td>430.0</td>\n",
       "      <td>48</td>\n",
       "      <td>68</td>\n",
       "      <td>17788.51</td>\n",
       "      <td>18</td>\n",
       "      <td>1150.0</td>\n",
       "    </tr>\n",
       "    <tr>\n",
       "      <td>3212</td>\n",
       "      <td>1499</td>\n",
       "      <td>35</td>\n",
       "      <td>0</td>\n",
       "      <td>Пермь</td>\n",
       "      <td>Гектор</td>\n",
       "      <td>Корнилов</td>\n",
       "      <td>2018-09-27</td>\n",
       "      <td>smart</td>\n",
       "      <td>11</td>\n",
       "      <td>577.0</td>\n",
       "      <td>59</td>\n",
       "      <td>74</td>\n",
       "      <td>17963.31</td>\n",
       "      <td>18</td>\n",
       "      <td>1408.0</td>\n",
       "    </tr>\n",
       "    <tr>\n",
       "      <td>3213</td>\n",
       "      <td>1499</td>\n",
       "      <td>35</td>\n",
       "      <td>0</td>\n",
       "      <td>Пермь</td>\n",
       "      <td>Гектор</td>\n",
       "      <td>Корнилов</td>\n",
       "      <td>2018-09-27</td>\n",
       "      <td>smart</td>\n",
       "      <td>12</td>\n",
       "      <td>466.0</td>\n",
       "      <td>66</td>\n",
       "      <td>69</td>\n",
       "      <td>13055.58</td>\n",
       "      <td>13</td>\n",
       "      <td>598.0</td>\n",
       "    </tr>\n",
       "  </tbody>\n",
       "</table>\n",
       "<p>3214 rows × 15 columns</p>\n",
       "</div>"
      ],
      "text/plain": [
       "      user_id  age  churn_date         city first_name  last_name   reg_date  \\\n",
       "0        1000   52           0    Краснодар     Рафаил  Верещагин 2018-05-25   \n",
       "1        1000   52           0    Краснодар     Рафаил  Верещагин 2018-05-25   \n",
       "2        1000   52           0    Краснодар     Рафаил  Верещагин 2018-05-25   \n",
       "3        1000   52           0    Краснодар     Рафаил  Верещагин 2018-05-25   \n",
       "4        1000   52           0    Краснодар     Рафаил  Верещагин 2018-05-25   \n",
       "...       ...  ...         ...          ...        ...        ...        ...   \n",
       "3209     1498   68  2018-10-25  Владикавказ   Всеволод    Акимчин 2018-07-19   \n",
       "3210     1499   35           0        Пермь     Гектор   Корнилов 2018-09-27   \n",
       "3211     1499   35           0        Пермь     Гектор   Корнилов 2018-09-27   \n",
       "3212     1499   35           0        Пермь     Гектор   Корнилов 2018-09-27   \n",
       "3213     1499   35           0        Пермь     Гектор   Корнилов 2018-09-27   \n",
       "\n",
       "     tariff  month  duration  messages  calls   mb_used  gb_used    bill  \n",
       "0     ultra      5     151.0        22     22   2253.49        3  1950.0  \n",
       "1     ultra      6     159.0        60     43  23233.77       23  1950.0  \n",
       "2     ultra      7     319.0        75     47  14003.64       14  1950.0  \n",
       "3     ultra      8     390.0        81     52  14055.93       14  1950.0  \n",
       "4     ultra      9     441.0        57     58  14568.91       15  1950.0  \n",
       "...     ...    ...       ...       ...    ...       ...      ...     ...  \n",
       "3209  smart     10     233.0        42     41  20579.36       21  1750.0  \n",
       "3210  smart      9      65.0        11      9   1845.75        2   550.0  \n",
       "3211  smart     10     430.0        48     68  17788.51       18  1150.0  \n",
       "3212  smart     11     577.0        59     74  17963.31       18  1408.0  \n",
       "3213  smart     12     466.0        66     69  13055.58       13   598.0  \n",
       "\n",
       "[3214 rows x 15 columns]"
      ]
     },
     "execution_count": 23,
     "metadata": {},
     "output_type": "execute_result"
    }
   ],
   "source": [
    "# функция подсчета абонентской платы\n",
    "def bill(row):\n",
    "    sum = 0\n",
    "    if row['tariff'] == 'smart':\n",
    "        minutes = row['duration'] - 500\n",
    "        messages = row['messages'] - 50\n",
    "        gb_used = row['gb_used'] - 15\n",
    "        if(minutes > 0):\n",
    "            sum+= minutes * 3\n",
    "        if(messages > 0):\n",
    "            sum+= messages * 3\n",
    "        if(gb_used > 0):\n",
    "            sum+= gb_used * 200\n",
    "        sum+= 550\n",
    "    elif row['tariff'] == 'ultra':\n",
    "        minutes = row['duration'] - 3000 \n",
    "        messages = row['messages'] - 1000\n",
    "        gb_used = row['gb_used'] - 30\n",
    "        if(minutes > 0):\n",
    "            sum+= minutes * 1\n",
    "        if(messages > 0):\n",
    "            sum+= messages * 1\n",
    "        if(gb_used > 0):\n",
    "            sum+= gb_used * 150\n",
    "        sum+= 1950\n",
    "    return sum\n",
    "\n",
    "# создания столбца для абонентской платый и его заполнение\n",
    "data_users['bill'] = data_users.apply(bill, axis=1)\n",
    "data_users"
   ]
  },
  {
   "cell_type": "code",
   "execution_count": 24,
   "metadata": {},
   "outputs": [
    {
     "ename": "SyntaxError",
     "evalue": "invalid syntax (<ipython-input-24-2b82b5dc3f16>, line 5)",
     "output_type": "error",
     "traceback": [
      "\u001b[0;36m  File \u001b[0;32m\"<ipython-input-24-2b82b5dc3f16>\"\u001b[0;36m, line \u001b[0;32m5\u001b[0m\n\u001b[0;31m    np.where(row['duration'] - 500 > 0, sum+= (row['duration'] - 500) * 3)\u001b[0m\n\u001b[0m                                            ^\u001b[0m\n\u001b[0;31mSyntaxError\u001b[0m\u001b[0;31m:\u001b[0m invalid syntax\n"
     ]
    }
   ],
   "source": [
    "# функция подсчета абонентской платы\n",
    "def bill(row):\n",
    "    sum = 0\n",
    "    if row['tariff'] == 'smart':\n",
    "        np.where(row['duration'] - 500 > 0, sum+= (row['duration'] - 500) * 3)\n",
    "        np.where(row['messages'] - 50 > 0, sum+= (row['messages'] - 50) * 3)\n",
    "        np.where(row['gb_used'] - 15 > 0, sum+= (row['gb_used'] - 15) * 200)\n",
    "        sum+= 550\n",
    "    elif row['tariff'] == 'ultra':\n",
    "        np.where(row['duration'] - 3000 > 0, sum+= (row['duration'] - 500) * 1)\n",
    "        np.where(row['messages'] - 1000 > 0, sum+= (row['messages'] - 50) * 1)\n",
    "        np.where(row['gb_used'] - 30 > 0, sum+= (row['gb_used'] - 15) * 150)\n",
    "        sum+= 1950\n",
    "    return sum\n",
    "\n",
    "# создания столбца для абонентской платый и его заполнение\n",
    "data_users['bill'] = data_users.apply(bill, axis=1)\n",
    "data_users"
   ]
  },
  {
   "cell_type": "markdown",
   "metadata": {},
   "source": [
    "<div class=\"alert alert-success\">\n",
    "<b>Комментарий ревьюера v1:</b>\n",
    " \n",
    "Отлично, расчет выручки выполнен и здорово, что через функцию, но результаты чуть поменяются после округления звонков.\n",
    "\n",
    "У тебя полностью верное решение, но можно также сделать расчет с помощью np.where ([https://numpy.org/doc/stable/reference/generated/numpy.where.html](https://numpy.org/doc/stable/reference/generated/numpy.where.html)):\n",
    "\n",
    "    ```\n",
    "    np.where('условие: если перерасход выполняем второй аргумент','перерасход умножаем на цену', '0')\n",
    "    ```    \n",
    "Было бы совсем здорово не хардкодить данные тарифа в коде, так как они могут часто меняться, что приведет к ошибкам или опечаткам. Лучше ссылаться на данные в таблице tariffs (присоединить данные через join) или создать отдельный справочник данных и ссылаться на него. Примеры тут: https://pythonru.com/osnovy/python-dict"
   ]
  },
  {
   "cell_type": "markdown",
   "metadata": {},
   "source": [
    "<div class=\"alert alert-info\"> <b>Комментарий студентки:</b> \n",
    "    Не очень понимаю, как это сделать</div>"
   ]
  },
  {
   "cell_type": "markdown",
   "metadata": {},
   "source": [
    "<div class=\"alert alert-success\">\n",
    "<b>Комментарий ревьюера v2:</b>\n",
    " \n",
    "Оставил более подробный пример:\n",
    "    \n",
    "    data['internet_over'] = data_users['duration'] - 500\n",
    "    data['internet_price'] = np.where(data['internet_over'] > 0, data['internet_over'] * data['rub_per_gb'], 0)"
   ]
  },
  {
   "cell_type": "markdown",
   "metadata": {},
   "source": [
    "## Исследовательский анализ данных"
   ]
  },
  {
   "cell_type": "markdown",
   "metadata": {},
   "source": [
    "### Тариф Smart"
   ]
  },
  {
   "cell_type": "markdown",
   "metadata": {},
   "source": [
    "#### Среднее, дисперсия и стандартное отклонение"
   ]
  },
  {
   "cell_type": "code",
   "execution_count": null,
   "metadata": {},
   "outputs": [],
   "source": [
    "print('Среднее время звонков:', data_users.loc[data_users['tariff']=='smart']['duration'].mean())\n",
    "print('Среднее количество сообщений:', data_users.loc[data_users['tariff']=='smart']['messages'].mean())\n",
    "print('Среднее количество использованных гигабайт:', data_users.loc[data_users['tariff']=='smart']\n",
    "      ['gb_used'].mean())"
   ]
  },
  {
   "cell_type": "code",
   "execution_count": null,
   "metadata": {
    "scrolled": true
   },
   "outputs": [],
   "source": [
    "print('Дисперсия времени звонков',np.var(data_users.loc[data_users['tariff']=='smart']['duration']))\n",
    "print('Дисперсия количества сообщений',np.var(data_users.loc[data_users['tariff']=='smart']['messages']))\n",
    "print('Дисперсия количества использованных гигабайт',np.var(data_users.loc[data_users['tariff']=='smart']\n",
    "                                                            ['gb_used']))"
   ]
  },
  {
   "cell_type": "code",
   "execution_count": null,
   "metadata": {
    "scrolled": true
   },
   "outputs": [],
   "source": [
    "print('Стандартное отклонение времени звонков', np.std(data_users.loc[data_users['tariff']=='smart']['duration']))\n",
    "print('Стандартное отклонение количества сообщений', np.std(data_users.loc[data_users['tariff']=='smart']['messages']))\n",
    "print('Стандартное количества использованных гигабайт', np.std(data_users.loc[data_users['tariff']=='smart']['gb_used']))"
   ]
  },
  {
   "cell_type": "markdown",
   "metadata": {},
   "source": [
    "#### Гистограмма для времени звонков"
   ]
  },
  {
   "cell_type": "code",
   "execution_count": null,
   "metadata": {
    "scrolled": true
   },
   "outputs": [],
   "source": [
    "data_users.loc[data_users['tariff']=='smart'].plot(kind='hist', y='duration', bins=40, grid=True, label='время звонков');"
   ]
  },
  {
   "cell_type": "markdown",
   "metadata": {},
   "source": [
    "<div class=\"alert alert-warning\">\n",
    "<b>Комментарий ревьюера v1:</b>\n",
    " \n",
    "Для того, чтобы не показывать технические выводы python вроде \"matplotlib.axes._subplots.AxesSubplot at 0x7f5feaf7fc90', можно в конце строки добавить точку с запятой или plt.show() "
   ]
  },
  {
   "cell_type": "markdown",
   "metadata": {},
   "source": [
    "<div class=\"alert alert-info\"> <b>Комментарий студентки:</b> \n",
    "    Спасибо, что сказал</div>"
   ]
  },
  {
   "cell_type": "markdown",
   "metadata": {},
   "source": [
    "Самая частая общая продолжительность звонков в месяц от 0 до 25 минут. После по популярности - 425 минут."
   ]
  },
  {
   "cell_type": "markdown",
   "metadata": {},
   "source": [
    "#### Гистограмма для сообщений"
   ]
  },
  {
   "cell_type": "code",
   "execution_count": null,
   "metadata": {},
   "outputs": [],
   "source": [
    "data_users.loc[data_users['tariff']=='smart'].plot(kind='hist', y='messages', bins=30, grid=True, label='кол-во сообщений');"
   ]
  },
  {
   "cell_type": "markdown",
   "metadata": {},
   "source": [
    "Чаще всего абонент отправляет от нуля до 4 сообщений в месяц. Количество пользователей с увеличением числа сообщений уменьшается."
   ]
  },
  {
   "cell_type": "markdown",
   "metadata": {},
   "source": [
    "#### Гистограмма для гигабайтов"
   ]
  },
  {
   "cell_type": "code",
   "execution_count": null,
   "metadata": {
    "scrolled": true
   },
   "outputs": [],
   "source": [
    "data_users.loc[data_users['tariff']=='smart'].plot(kind='hist', y='gb_used', bins=30, grid=True, label='кол-во гигабайт');"
   ]
  },
  {
   "cell_type": "markdown",
   "metadata": {},
   "source": [
    "Чаще всего абоненты используют 20 гб в месяц. Примечательно, что большая часть пользователей расположена в промежутке от 10 до 23 гб."
   ]
  },
  {
   "cell_type": "markdown",
   "metadata": {},
   "source": [
    "### Тариф Ultra"
   ]
  },
  {
   "cell_type": "markdown",
   "metadata": {},
   "source": [
    "#### Среднее, дисперсия и стандартное отклонение"
   ]
  },
  {
   "cell_type": "code",
   "execution_count": null,
   "metadata": {},
   "outputs": [],
   "source": [
    "print('Среднее время звонков:', data_users.loc[data_users['tariff']=='ultra']['duration'].mean())\n",
    "print('Среднее количество сообщений:', data_users.loc[data_users['tariff']=='ultra']['messages'].mean())\n",
    "print('Среднее количество использованных гигабайт:', data_users.loc[data_users['tariff']=='ultra']\n",
    "      ['gb_used'].mean())"
   ]
  },
  {
   "cell_type": "code",
   "execution_count": null,
   "metadata": {},
   "outputs": [],
   "source": [
    "print('Дисперсия времени звонков',np.var(data_users.loc[data_users['tariff']=='ultra']['duration']))\n",
    "print('Дисперсия количества сообщений',np.var(data_users.loc[data_users['tariff']=='ultra']['messages']))\n",
    "print('Дисперсия количества использованных гигабайт',np.var(data_users.loc[data_users['tariff']=='ultra']\n",
    "                                                            ['gb_used']))"
   ]
  },
  {
   "cell_type": "code",
   "execution_count": null,
   "metadata": {},
   "outputs": [],
   "source": [
    "print('Стандартное отклонение времени звонков', np.std(data_users.loc[data_users['tariff']=='ultra']['duration']))\n",
    "print('Стандартное отклонение количества сообщений', np.std(data_users.loc[data_users['tariff']=='ultra']['messages']))\n",
    "print('Стандартное количества использованных гигабайт', np.std(data_users.loc[data_users['tariff']=='ultra']['gb_used']))"
   ]
  },
  {
   "cell_type": "markdown",
   "metadata": {},
   "source": [
    "#### Гистограмма для времени звонков"
   ]
  },
  {
   "cell_type": "code",
   "execution_count": null,
   "metadata": {},
   "outputs": [],
   "source": [
    "data_users.loc[data_users['tariff']=='ultra'].plot(kind='hist', y='duration', bins=40, grid=True, label='время звонков');"
   ]
  },
  {
   "cell_type": "markdown",
   "metadata": {},
   "source": [
    "Больше всего людей тратит от 0 до 25 минут на звонки. Примечательно, что все остальные значения почти равномерно распределились. "
   ]
  },
  {
   "cell_type": "markdown",
   "metadata": {},
   "source": [
    "#### Гистограмма для сообщений"
   ]
  },
  {
   "cell_type": "code",
   "execution_count": null,
   "metadata": {},
   "outputs": [],
   "source": [
    "data_users.loc[data_users['tariff']=='ultra'].plot(kind='hist', y='messages', bins=30, grid=True, label='кол-во сообщений');"
   ]
  },
  {
   "cell_type": "markdown",
   "metadata": {},
   "source": [
    "Чаще всего абонент отправляет от нуля до 7 сообщений в месяц. Количество пользователей с увеличением числа сообщений уменьшается."
   ]
  },
  {
   "cell_type": "markdown",
   "metadata": {},
   "source": [
    "#### Гистограмма для гигабайтов"
   ]
  },
  {
   "cell_type": "code",
   "execution_count": null,
   "metadata": {},
   "outputs": [],
   "source": [
    "data_users.loc[data_users['tariff']=='ultra'].plot(kind='hist', y='gb_used', bins=50, grid=True, label='кол-во гигабайт');"
   ]
  },
  {
   "cell_type": "markdown",
   "metadata": {},
   "source": [
    "Больше всего людей используют 20 гб. Примечательно, что значения как будто прыгают. "
   ]
  },
  {
   "cell_type": "markdown",
   "metadata": {},
   "source": [
    "<div class=\"alert alert-success\">\n",
    "<b>Комментарий ревьюера v1:</b>\n",
    "\n",
    "В целом отличная аналитика, выводы и предположения. Наглядная и аккуратная визуализация данных. \n",
    "\n",
    "Было бы круто наложить два тарифа на один график, для более наглядного сравнения.\n",
    "\n",
    "Если бы у нас было 3 и более тарифов для сравнения, то проще было бы использовать диаграмму размаха для анализа данных (разброс, средние значения и т.д.) в дополнение к гистограмме распределения. Но если есть время и желание попрактиковаться, то можно вывести два графика (гистограмму и диаграмму размаха) с помощью сабплота в две колонки.\n",
    "    \n",
    "    # Создадим одну строку с двумя колонками\n",
    "    fig, axes = plt.subplots(1, 2, figsize=(16, 5))\n",
    "    \n",
    "    sns.distplot(...)\n",
    "    ...\n",
    "    sns.boxplot(...)\n",
    "    \n",
    "    ...\n",
    "\n",
    "\n",
    "</div>"
   ]
  },
  {
   "cell_type": "markdown",
   "metadata": {},
   "source": [
    "<div class=\"alert alert-info\"> <b>Комментарий студентки:</b> \n",
    "    Добавила</div>"
   ]
  },
  {
   "cell_type": "markdown",
   "metadata": {},
   "source": [
    "### Общие графики"
   ]
  },
  {
   "cell_type": "markdown",
   "metadata": {},
   "source": [
    "#### Наложение графиков для времени звонков "
   ]
  },
  {
   "cell_type": "code",
   "execution_count": null,
   "metadata": {},
   "outputs": [],
   "source": [
    "ax = data_users.loc[data_users['tariff']=='smart'].plot(\n",
    "    kind='hist', y='duration', bins=40, grid=True, label='время звонков'\n",
    ")\n",
    "\n",
    "data_users.loc[data_users['tariff']=='ultra'].plot(\n",
    "    kind='hist', y='duration', bins=40, grid=True, ax=ax, label='время звонков', alpha=0.7\n",
    ");"
   ]
  },
  {
   "cell_type": "markdown",
   "metadata": {},
   "source": [
    "В целом паттерны пользователей на обоих тарифах похожи: оба графика имеют высокие показатели близко к нулю, затем резкое падение и плавный рост, за которым следует плавное убывание. Частота значений гистограммы тарифа Смарт выше, но это из-за того, что в принципе пользователей этого тарифа больше. Однако разброс значений на графике тарифа Ультра больше. "
   ]
  },
  {
   "cell_type": "markdown",
   "metadata": {},
   "source": [
    "#### Наложение графиков для сообщений"
   ]
  },
  {
   "cell_type": "code",
   "execution_count": null,
   "metadata": {
    "scrolled": true
   },
   "outputs": [],
   "source": [
    "ax = data_users.loc[data_users['tariff']=='smart'].plot(\n",
    "    kind='hist', y='messages', bins=30, grid=True, label='кол-во сообщений'\n",
    ")\n",
    "data_users.loc[data_users['tariff']=='ultra'].plot(\n",
    "    kind='hist', y='messages', bins=30, grid=True, label='кол-во сообщений', ax=ax, alpha=0.7\n",
    ");"
   ]
  },
  {
   "cell_type": "markdown",
   "metadata": {},
   "source": [
    "Повторяется схожая картина, как и на предидущем графике. Паттерны графиков схожи: оба графика имеют высокие показатели близко к нулю, затем резкое падение, затем следует плавная убыль. Частота значений тарифа Смарт опять больше, но полагаю, это случилось из-за того, что пользователей тарифа Смарт больше. Также опять разброс значений тарифа Ультра больше. "
   ]
  },
  {
   "cell_type": "markdown",
   "metadata": {},
   "source": [
    "#### Наложение графиков для гигабайтов"
   ]
  },
  {
   "cell_type": "code",
   "execution_count": null,
   "metadata": {},
   "outputs": [],
   "source": [
    "ax=data_users.loc[data_users['tariff']=='smart'].plot(\n",
    "    kind='hist', y='gb_used', bins=30, grid=True, label='кол-во гигабайт'\n",
    ")\n",
    "data_users.loc[data_users['tariff']=='ultra'].plot(\n",
    "    kind='hist', y='gb_used', bins=50, grid=True, label='кол-во гигабайт', ax=ax, alpha=0.7\n",
    ");"
   ]
  },
  {
   "cell_type": "markdown",
   "metadata": {},
   "source": [
    "Паттерны двух графиков различны. График тарифа Смарт имеет сначала плавный рост, сменяющейся резкими скачками вверх и вниз, затем следует спад. График тарифа Ультра имеет крайне маленький рост и находится везде примерно на одной высоте."
   ]
  },
  {
   "cell_type": "markdown",
   "metadata": {},
   "source": [
    "## Проверка гипотез"
   ]
  },
  {
   "cell_type": "markdown",
   "metadata": {},
   "source": [
    "### Первая гипотеза"
   ]
  },
  {
   "cell_type": "markdown",
   "metadata": {},
   "source": [
    "Гипотеза: средняя выручка пользователей тарифов «Ультра» и «Смарт» различаются. Сформируем нулевую гипотезу: Средняя выручка пользователей тарифов «Ультра» и «Смарт» одинаковая. Алтернативная гипотеза: Средняя выручка пользователей тарифов «Ультра» и «Смарт» разная."
   ]
  },
  {
   "cell_type": "code",
   "execution_count": null,
   "metadata": {},
   "outputs": [],
   "source": [
    "# уровень значимости \n",
    "alpha = 0.01\n",
    "# проверка гипотезу о равенстве среднего двух генеральных совокупностей \n",
    "results = st.ttest_ind(data_users.loc[data_users['tariff']=='smart']['bill'], \n",
    "                       data_users.loc[data_users['tariff']=='ultra']['bill'])\n",
    "print('p-значение:', results.pvalue)\n",
    "if results.pvalue < alpha:\n",
    "    print('Отвергаем нулевую гипотезу')\n",
    "else:\n",
    "    print('Не получилось отвергнуть нулевую гипотезу') "
   ]
  },
  {
   "cell_type": "markdown",
   "metadata": {},
   "source": [
    "Получается, что выручки с двух тарифов одинаковая."
   ]
  },
  {
   "cell_type": "markdown",
   "metadata": {},
   "source": [
    "<div class=\"alert alert-danger\">\n",
    "<b>Комментарий ревьюера v1:</b>\n",
    "    \n",
    "Здесь, к сожалению, в формулировку гипотез затесалась ошибка. Мы здесь проверяем по умолчанию только одностороннюю гипотезу, где нулевая всегда проверяет равенство двух выборок, а альтернативная отрицает нулевую.\n",
    "    \n",
    "Примеры формулировок можно найти в тренажере **формулирование двусторонних гипотез**.\n",
    "\n",
    "Поправишь, пожалуйста?"
   ]
  },
  {
   "cell_type": "markdown",
   "metadata": {},
   "source": [
    "<div class=\"alert alert-info\"> <b>Комментарий студентки:</b> \n",
    "    Поправила</div>"
   ]
  },
  {
   "cell_type": "markdown",
   "metadata": {},
   "source": [
    "<div class=\"alert alert-danger\">\n",
    "<b>Комментарий ревьюера v2:</b>\n",
    "    \n",
    "К сожалению, формулировка и выводы по-прежнему перепутаны. \n",
    "\n",
    "В данном случае формулировка для первого вопроса следующая и выводы соответственно отличаются.\n",
    "\n",
    "**Нулевая гипотеза:** Средняя выручка пользователей тарифов «Ультра» и «Смарт» одинаковая.\\\n",
    "**Альтернативная гипотеза:** Средняя выручка пользователей тарифов «Ультра» и «Смарт» различаются.\n",
    "    \n",
    "Поправишь, пожалуйста?"
   ]
  },
  {
   "cell_type": "markdown",
   "metadata": {},
   "source": [
    "<div class=\"alert alert-info\"> <b>Комментарий студентки:</b> \n",
    "    Поправила</div>"
   ]
  },
  {
   "cell_type": "markdown",
   "metadata": {},
   "source": [
    "### Вторая гипотеза"
   ]
  },
  {
   "cell_type": "markdown",
   "metadata": {},
   "source": [
    "Гипотеза: средняя выручка пользователей из Москвы отличается от выручки пользователей из других регионов. Сформируем нулевую гипотезу: выручка пользователей из Москвы не равна выручке пользователей из других регионов. Алтернативная гипотеза: выручка пользователей из Москвы равна выручке пользователей из других регионов."
   ]
  },
  {
   "cell_type": "code",
   "execution_count": null,
   "metadata": {},
   "outputs": [],
   "source": [
    "# уровень значимости \n",
    "alpha = 0.01\n",
    "# проверка гипотезу о равенстве среднего двух генеральных совокупностей \n",
    "results = st.ttest_ind(data_users.loc[data_users['city']=='Москва']['bill'], \n",
    "                       data_users.loc[data_users['city']!='Москва']['bill'])\n",
    "print('p-значение:', results.pvalue)\n",
    "if results.pvalue < alpha:\n",
    "    print('Отвергаем нулевую гипотезу')\n",
    "else:\n",
    "    print('Не получилось отвергнуть нулевую гипотезу') "
   ]
  },
  {
   "cell_type": "markdown",
   "metadata": {},
   "source": [
    "Получается, что выручка пользователей из Москвы отличается от выручки пользователей из других регионов. "
   ]
  },
  {
   "cell_type": "markdown",
   "metadata": {},
   "source": [
    "## Вывод"
   ]
  },
  {
   "cell_type": "markdown",
   "metadata": {},
   "source": [
    "Было исследуемо два тарифа: Смарт и Ультра. У тарифа Смарт определенно больше пользователей, однако оба тарифа приносят одинаковую выручку. Большая часть звонков на обоих тарифах происходит от 0 до 20 минут. На тарифе Смарт пользователи очень часто расходуют свой лимит по времени звонков полностью. А пользователи тарифа Ультра никогда не используют свое время на звонки полностью. Пользователи тарифа Смарт отправляют от 0 до 5 сообщений в месяц, а пользователи тарифа Ультра - от 0 до 10 сообщений в месяц. Пользователи тарифа Смарт редко выходят за предел по сообщениям в месяц. Пользователи тарифа Ультра никогда не выходят за лимит сообщений. Большая часть пользователей тарифа Смарт используют 15 или 20 гб в месяц.  Пользователи тарифа Смарт почти всегда выходят за лимит по интернету. Про то, сколько используют в месяц интернета пользователи тарифа Ультра сказать сложно, так как значения распределились равномерно от 10 до 30. И пользователи этого тарифа почти никогда не выходят за лимит по интернету. \n",
    "\n",
    "Также был найден самый прибыльный регион в России - Москва"
   ]
  },
  {
   "cell_type": "markdown",
   "metadata": {},
   "source": [
    "<div class=\"alert alert-danger\">\n",
    "<b>Комментарий ревьюера v1:</b>\n",
    "    \n",
    "Ты провела отличное исследование: чистый код, крутые графики, правильные промежуточные выводы. \n",
    "Но общие выводы в данном случае это мини-презентация всей работы перед бизнес-заказчиком. На реальном проекте это, возможно, единственное, что бизнес будет читать. Поэтому необходимо структурировано указывать развернутые комментарии ко всем выводам, которые ты получила по каждому пункту работы. Стоит также подумать, что будет интересно со стороны бизнеса (детальное описание пользователя для каждого тарифа, что нам показывают выбросы, кто приносит больше дополнительной выручки, кто приносит больше в общем объеме)."
   ]
  },
  {
   "cell_type": "markdown",
   "metadata": {},
   "source": [
    "<div class=\"alert alert-info\"> <b>Комментарий студентки:</b> \n",
    "    Переделала</div>"
   ]
  },
  {
   "cell_type": "markdown",
   "metadata": {},
   "source": [
    "<div class=\"alert alert-success\">\n",
    "<b>Комментарий ревьюера v2:</b>\n",
    "    \n",
    "Здорово, что расширила общие выводы и ответила на главный вопрос заказчика."
   ]
  },
  {
   "cell_type": "code",
   "execution_count": null,
   "metadata": {},
   "outputs": [],
   "source": []
  }
 ],
 "metadata": {
  "ExecuteTimeLog": [
   {
    "duration": 934,
    "start_time": "2021-12-12T10:24:36.944Z"
   },
   {
    "duration": 3,
    "start_time": "2021-12-12T10:24:47.585Z"
   },
   {
    "duration": 202,
    "start_time": "2021-12-12T10:24:51.178Z"
   },
   {
    "duration": 189,
    "start_time": "2021-12-12T10:25:28.837Z"
   },
   {
    "duration": 114,
    "start_time": "2021-12-12T10:27:11.650Z"
   },
   {
    "duration": 240,
    "start_time": "2021-12-12T10:28:01.968Z"
   },
   {
    "duration": 61,
    "start_time": "2021-12-12T10:28:56.899Z"
   },
   {
    "duration": 64,
    "start_time": "2021-12-12T10:29:19.014Z"
   },
   {
    "duration": 113,
    "start_time": "2021-12-12T10:29:45.536Z"
   },
   {
    "duration": 186,
    "start_time": "2021-12-12T10:30:37.519Z"
   },
   {
    "duration": 175,
    "start_time": "2021-12-12T10:30:41.519Z"
   },
   {
    "duration": 25,
    "start_time": "2021-12-12T10:31:41.444Z"
   },
   {
    "duration": 21,
    "start_time": "2021-12-12T10:36:24.613Z"
   },
   {
    "duration": 11,
    "start_time": "2021-12-12T10:42:00.957Z"
   },
   {
    "duration": 1151,
    "start_time": "2021-12-12T10:42:16.578Z"
   },
   {
    "duration": 172,
    "start_time": "2021-12-12T10:42:37.203Z"
   },
   {
    "duration": 22,
    "start_time": "2021-12-12T10:42:38.226Z"
   },
   {
    "duration": 19,
    "start_time": "2021-12-12T10:42:39.756Z"
   },
   {
    "duration": 123,
    "start_time": "2021-12-12T10:42:46.747Z"
   },
   {
    "duration": 18,
    "start_time": "2021-12-12T10:43:24.036Z"
   },
   {
    "duration": 9,
    "start_time": "2021-12-12T10:44:17.530Z"
   },
   {
    "duration": 24,
    "start_time": "2021-12-12T10:44:36.674Z"
   },
   {
    "duration": 100,
    "start_time": "2021-12-12T10:44:41.089Z"
   },
   {
    "duration": 8,
    "start_time": "2021-12-12T10:45:57.712Z"
   },
   {
    "duration": 6113,
    "start_time": "2021-12-12T10:52:10.081Z"
   },
   {
    "duration": 42,
    "start_time": "2021-12-12T10:54:37.567Z"
   },
   {
    "duration": 26,
    "start_time": "2021-12-12T10:54:56.393Z"
   },
   {
    "duration": 36,
    "start_time": "2021-12-12T10:56:59.051Z"
   },
   {
    "duration": 6,
    "start_time": "2021-12-12T11:06:03.753Z"
   },
   {
    "duration": 9,
    "start_time": "2021-12-12T11:06:16.032Z"
   },
   {
    "duration": 105,
    "start_time": "2021-12-12T11:57:31.715Z"
   },
   {
    "duration": 7,
    "start_time": "2021-12-12T11:57:38.104Z"
   },
   {
    "duration": 2855,
    "start_time": "2021-12-12T11:58:50.886Z"
   },
   {
    "duration": 88,
    "start_time": "2021-12-12T11:59:34.474Z"
   },
   {
    "duration": 43,
    "start_time": "2021-12-12T12:40:41.002Z"
   },
   {
    "duration": 295,
    "start_time": "2021-12-12T12:43:38.590Z"
   },
   {
    "duration": 372,
    "start_time": "2021-12-12T12:43:48.463Z"
   },
   {
    "duration": 297,
    "start_time": "2021-12-12T12:43:59.425Z"
   },
   {
    "duration": 37,
    "start_time": "2021-12-12T12:45:14.128Z"
   },
   {
    "duration": 427,
    "start_time": "2021-12-12T12:45:27.529Z"
   },
   {
    "duration": 200,
    "start_time": "2021-12-12T12:45:39.761Z"
   },
   {
    "duration": 304,
    "start_time": "2021-12-12T12:45:43.516Z"
   },
   {
    "duration": 72,
    "start_time": "2021-12-12T12:45:53.728Z"
   },
   {
    "duration": 37,
    "start_time": "2021-12-12T12:45:54.770Z"
   },
   {
    "duration": 321,
    "start_time": "2021-12-12T12:46:06.814Z"
   },
   {
    "duration": 821,
    "start_time": "2021-12-12T12:46:12.622Z"
   },
   {
    "duration": 182,
    "start_time": "2021-12-12T12:46:16.822Z"
   },
   {
    "duration": 48,
    "start_time": "2021-12-12T12:46:23.164Z"
   },
   {
    "duration": 41,
    "start_time": "2021-12-12T12:46:24.578Z"
   },
   {
    "duration": 49,
    "start_time": "2021-12-12T13:11:50.093Z"
   },
   {
    "duration": 48,
    "start_time": "2021-12-12T13:12:26.609Z"
   },
   {
    "duration": 58,
    "start_time": "2021-12-12T13:13:22.006Z"
   },
   {
    "duration": 64,
    "start_time": "2021-12-12T13:13:34.756Z"
   },
   {
    "duration": 694,
    "start_time": "2021-12-12T13:16:16.180Z"
   },
   {
    "duration": 667,
    "start_time": "2021-12-12T13:16:22.492Z"
   },
   {
    "duration": 64,
    "start_time": "2021-12-12T13:16:48.983Z"
   },
   {
    "duration": 54,
    "start_time": "2021-12-12T13:20:59.380Z"
   },
   {
    "duration": 59,
    "start_time": "2021-12-12T13:21:06.875Z"
   },
   {
    "duration": 7621,
    "start_time": "2021-12-12T13:22:27.737Z"
   },
   {
    "duration": 8256,
    "start_time": "2021-12-12T13:22:37.712Z"
   },
   {
    "duration": 41,
    "start_time": "2021-12-12T13:23:07.250Z"
   },
   {
    "duration": 42,
    "start_time": "2021-12-12T13:25:07.489Z"
   },
   {
    "duration": 29,
    "start_time": "2021-12-12T13:32:10.245Z"
   },
   {
    "duration": 47,
    "start_time": "2021-12-12T13:32:13.277Z"
   },
   {
    "duration": 285,
    "start_time": "2021-12-12T13:47:49.653Z"
   },
   {
    "duration": 26,
    "start_time": "2021-12-12T13:48:37.188Z"
   },
   {
    "duration": 29,
    "start_time": "2021-12-12T13:50:04.829Z"
   },
   {
    "duration": 35,
    "start_time": "2021-12-12T13:50:58.912Z"
   },
   {
    "duration": 290,
    "start_time": "2021-12-12T13:56:26.795Z"
   },
   {
    "duration": 287,
    "start_time": "2021-12-12T13:56:38.745Z"
   },
   {
    "duration": 1343,
    "start_time": "2021-12-12T13:59:13.514Z"
   },
   {
    "duration": 38,
    "start_time": "2021-12-12T14:01:34.273Z"
   },
   {
    "duration": 7315,
    "start_time": "2021-12-12T14:01:47.905Z"
   },
   {
    "duration": 209,
    "start_time": "2021-12-12T14:02:04.213Z"
   },
   {
    "duration": 25,
    "start_time": "2021-12-12T14:02:04.963Z"
   },
   {
    "duration": 187,
    "start_time": "2021-12-12T14:02:06.464Z"
   },
   {
    "duration": 22,
    "start_time": "2021-12-12T14:02:07.044Z"
   },
   {
    "duration": 20,
    "start_time": "2021-12-12T14:02:07.757Z"
   },
   {
    "duration": 120,
    "start_time": "2021-12-12T14:02:09.504Z"
   },
   {
    "duration": 310,
    "start_time": "2021-12-12T14:02:19.839Z"
   },
   {
    "duration": 724,
    "start_time": "2021-12-12T14:02:41.269Z"
   },
   {
    "duration": 222,
    "start_time": "2021-12-12T14:02:42.832Z"
   },
   {
    "duration": 32,
    "start_time": "2021-12-12T14:02:43.175Z"
   },
   {
    "duration": 181,
    "start_time": "2021-12-12T14:02:43.741Z"
   },
   {
    "duration": 22,
    "start_time": "2021-12-12T14:02:43.930Z"
   },
   {
    "duration": 21,
    "start_time": "2021-12-12T14:02:44.363Z"
   },
   {
    "duration": 166,
    "start_time": "2021-12-12T14:02:44.767Z"
   },
   {
    "duration": 28,
    "start_time": "2021-12-12T14:02:45.055Z"
   },
   {
    "duration": 29,
    "start_time": "2021-12-12T14:02:45.659Z"
   },
   {
    "duration": 12,
    "start_time": "2021-12-12T14:02:45.865Z"
   },
   {
    "duration": 57,
    "start_time": "2021-12-12T14:02:46.608Z"
   },
   {
    "duration": 9,
    "start_time": "2021-12-12T14:02:46.860Z"
   },
   {
    "duration": 6,
    "start_time": "2021-12-12T14:02:47.792Z"
   },
   {
    "duration": 96,
    "start_time": "2021-12-12T14:02:48.629Z"
   },
   {
    "duration": 57,
    "start_time": "2021-12-12T14:02:49.489Z"
   },
   {
    "duration": 33,
    "start_time": "2021-12-12T14:02:50.035Z"
   },
   {
    "duration": 462,
    "start_time": "2021-12-12T14:02:50.936Z"
   },
   {
    "duration": 7079,
    "start_time": "2021-12-12T14:06:18.593Z"
   },
   {
    "duration": 721,
    "start_time": "2021-12-12T14:06:45.115Z"
   },
   {
    "duration": 206,
    "start_time": "2021-12-12T14:06:51.556Z"
   },
   {
    "duration": 25,
    "start_time": "2021-12-12T14:06:51.867Z"
   },
   {
    "duration": 173,
    "start_time": "2021-12-12T14:06:52.411Z"
   },
   {
    "duration": 26,
    "start_time": "2021-12-12T14:06:52.714Z"
   },
   {
    "duration": 21,
    "start_time": "2021-12-12T14:06:53.421Z"
   },
   {
    "duration": 112,
    "start_time": "2021-12-12T14:06:54.072Z"
   },
   {
    "duration": 20,
    "start_time": "2021-12-12T14:06:54.345Z"
   },
   {
    "duration": 23,
    "start_time": "2021-12-12T14:06:55.202Z"
   },
   {
    "duration": 8,
    "start_time": "2021-12-12T14:06:55.455Z"
   },
   {
    "duration": 56,
    "start_time": "2021-12-12T14:06:56.337Z"
   },
   {
    "duration": 9,
    "start_time": "2021-12-12T14:06:56.586Z"
   },
   {
    "duration": 7,
    "start_time": "2021-12-12T14:06:58.000Z"
   },
   {
    "duration": 96,
    "start_time": "2021-12-12T14:06:59.440Z"
   },
   {
    "duration": 59,
    "start_time": "2021-12-12T14:07:00.622Z"
   },
   {
    "duration": 29,
    "start_time": "2021-12-12T14:07:08.881Z"
   },
   {
    "duration": 1253,
    "start_time": "2021-12-12T14:07:10.833Z"
   },
   {
    "duration": 40,
    "start_time": "2021-12-12T14:07:33.943Z"
   },
   {
    "duration": 48,
    "start_time": "2021-12-12T14:09:25.908Z"
   },
   {
    "duration": 601,
    "start_time": "2021-12-12T14:09:36.895Z"
   },
   {
    "duration": 51,
    "start_time": "2021-12-12T14:09:44.436Z"
   },
   {
    "duration": 41,
    "start_time": "2021-12-12T14:09:49.113Z"
   },
   {
    "duration": 63,
    "start_time": "2021-12-12T14:09:53.168Z"
   },
   {
    "duration": 293,
    "start_time": "2021-12-12T14:12:24.893Z"
   },
   {
    "duration": 33,
    "start_time": "2021-12-12T14:12:42.305Z"
   },
   {
    "duration": 48,
    "start_time": "2021-12-12T14:12:58.702Z"
   },
   {
    "duration": 31,
    "start_time": "2021-12-12T14:12:59.524Z"
   },
   {
    "duration": 37,
    "start_time": "2021-12-12T14:13:01.452Z"
   },
   {
    "duration": 41,
    "start_time": "2021-12-12T14:13:02.515Z"
   },
   {
    "duration": 20,
    "start_time": "2021-12-12T14:13:03.725Z"
   },
   {
    "duration": 61,
    "start_time": "2021-12-12T14:13:36.884Z"
   },
   {
    "duration": 41,
    "start_time": "2021-12-12T14:13:39.463Z"
   },
   {
    "duration": 47,
    "start_time": "2021-12-12T14:13:56.015Z"
   },
   {
    "duration": 53,
    "start_time": "2021-12-12T14:14:01.947Z"
   },
   {
    "duration": 104,
    "start_time": "2021-12-12T14:15:32.329Z"
   },
   {
    "duration": 35,
    "start_time": "2021-12-12T14:15:46.909Z"
   },
   {
    "duration": 47,
    "start_time": "2021-12-12T14:15:52.223Z"
   },
   {
    "duration": 60,
    "start_time": "2021-12-12T14:16:43.921Z"
   },
   {
    "duration": 47,
    "start_time": "2021-12-12T14:16:44.677Z"
   },
   {
    "duration": 47,
    "start_time": "2021-12-12T14:16:46.112Z"
   },
   {
    "duration": 50,
    "start_time": "2021-12-12T14:16:47.444Z"
   },
   {
    "duration": 19,
    "start_time": "2021-12-12T14:16:48.823Z"
   },
   {
    "duration": 35,
    "start_time": "2021-12-12T14:17:25.609Z"
   },
   {
    "duration": 45,
    "start_time": "2021-12-12T14:17:38.576Z"
   },
   {
    "duration": 29,
    "start_time": "2021-12-12T14:18:11.628Z"
   },
   {
    "duration": 40,
    "start_time": "2021-12-12T14:18:23.766Z"
   },
   {
    "duration": 33,
    "start_time": "2021-12-12T14:18:43.544Z"
   },
   {
    "duration": 303,
    "start_time": "2021-12-12T14:19:04.013Z"
   },
   {
    "duration": 39,
    "start_time": "2021-12-12T14:19:56.098Z"
   },
   {
    "duration": 34,
    "start_time": "2021-12-12T14:20:02.817Z"
   },
   {
    "duration": 39,
    "start_time": "2021-12-12T14:38:34.443Z"
   },
   {
    "duration": 33,
    "start_time": "2021-12-12T14:39:58.984Z"
   },
   {
    "duration": 127,
    "start_time": "2021-12-12T14:40:07.918Z"
   },
   {
    "duration": 44,
    "start_time": "2021-12-12T14:40:12.422Z"
   },
   {
    "duration": 4,
    "start_time": "2021-12-12T14:43:56.587Z"
   },
   {
    "duration": 315,
    "start_time": "2021-12-12T14:44:15.127Z"
   },
   {
    "duration": 346,
    "start_time": "2021-12-12T14:46:23.663Z"
   },
   {
    "duration": 322,
    "start_time": "2021-12-12T14:46:29.889Z"
   },
   {
    "duration": 43,
    "start_time": "2021-12-12T14:51:07.044Z"
   },
   {
    "duration": 94,
    "start_time": "2021-12-12T14:56:50.213Z"
   },
   {
    "duration": 89,
    "start_time": "2021-12-12T14:57:27.588Z"
   },
   {
    "duration": 319,
    "start_time": "2021-12-12T14:57:43.873Z"
   },
   {
    "duration": 91,
    "start_time": "2021-12-12T14:57:55.100Z"
   },
   {
    "duration": 619,
    "start_time": "2021-12-12T14:58:01.266Z"
   },
   {
    "duration": 1460,
    "start_time": "2021-12-12T14:58:31.969Z"
   },
   {
    "duration": 1285,
    "start_time": "2021-12-12T14:58:54.431Z"
   },
   {
    "duration": 1345,
    "start_time": "2021-12-12T14:59:32.822Z"
   },
   {
    "duration": 3995,
    "start_time": "2021-12-12T14:59:44.633Z"
   },
   {
    "duration": 139,
    "start_time": "2021-12-12T15:00:19.551Z"
   },
   {
    "duration": 155,
    "start_time": "2021-12-12T15:00:44.521Z"
   },
   {
    "duration": 24,
    "start_time": "2021-12-12T15:02:06.718Z"
   },
   {
    "duration": 147,
    "start_time": "2021-12-12T15:02:34.311Z"
   },
   {
    "duration": 33,
    "start_time": "2021-12-12T15:03:06.214Z"
   },
   {
    "duration": 9709,
    "start_time": "2021-12-12T15:14:21.873Z"
   },
   {
    "duration": 35,
    "start_time": "2021-12-12T15:46:43.685Z"
   },
   {
    "duration": 490,
    "start_time": "2021-12-12T15:46:45.164Z"
   },
   {
    "duration": 4408,
    "start_time": "2021-12-12T15:48:23.747Z"
   },
   {
    "duration": 709,
    "start_time": "2021-12-12T15:50:36.623Z"
   },
   {
    "duration": 227,
    "start_time": "2021-12-12T15:50:37.335Z"
   },
   {
    "duration": 57,
    "start_time": "2021-12-12T15:50:37.566Z"
   },
   {
    "duration": 190,
    "start_time": "2021-12-12T15:50:37.627Z"
   },
   {
    "duration": 33,
    "start_time": "2021-12-12T15:50:37.825Z"
   },
   {
    "duration": 23,
    "start_time": "2021-12-12T15:50:37.862Z"
   },
   {
    "duration": 162,
    "start_time": "2021-12-12T15:50:37.887Z"
   },
   {
    "duration": 23,
    "start_time": "2021-12-12T15:50:38.055Z"
   },
   {
    "duration": 51,
    "start_time": "2021-12-12T15:50:38.082Z"
   },
   {
    "duration": 11,
    "start_time": "2021-12-12T15:50:38.136Z"
   },
   {
    "duration": 75,
    "start_time": "2021-12-12T15:50:38.150Z"
   },
   {
    "duration": 9,
    "start_time": "2021-12-12T15:50:38.228Z"
   },
   {
    "duration": 7,
    "start_time": "2021-12-12T15:50:38.240Z"
   },
   {
    "duration": 124,
    "start_time": "2021-12-12T15:50:38.250Z"
   },
   {
    "duration": 77,
    "start_time": "2021-12-12T15:50:38.377Z"
   },
   {
    "duration": 37,
    "start_time": "2021-12-12T15:50:38.456Z"
   },
   {
    "duration": 70,
    "start_time": "2021-12-12T15:50:38.495Z"
   },
   {
    "duration": 67,
    "start_time": "2021-12-12T15:50:38.568Z"
   },
   {
    "duration": 41,
    "start_time": "2021-12-12T15:50:38.637Z"
   },
   {
    "duration": 171,
    "start_time": "2021-12-12T15:50:38.680Z"
   },
   {
    "duration": 162,
    "start_time": "2021-12-12T15:50:38.854Z"
   },
   {
    "duration": 38,
    "start_time": "2021-12-12T15:50:39.019Z"
   },
   {
    "duration": 563,
    "start_time": "2021-12-12T15:50:39.061Z"
   },
   {
    "duration": 819,
    "start_time": "2021-12-12T15:59:05.936Z"
   },
   {
    "duration": 505,
    "start_time": "2021-12-12T15:59:58.254Z"
   },
   {
    "duration": 223,
    "start_time": "2021-12-12T16:00:52.084Z"
   },
   {
    "duration": 68,
    "start_time": "2021-12-12T16:04:34.252Z"
   },
   {
    "duration": 10,
    "start_time": "2021-12-12T16:04:59.210Z"
   },
   {
    "duration": 24,
    "start_time": "2021-12-12T16:05:39.119Z"
   },
   {
    "duration": 23,
    "start_time": "2021-12-12T16:05:50.057Z"
   },
   {
    "duration": 18,
    "start_time": "2021-12-12T16:07:27.922Z"
   },
   {
    "duration": 14,
    "start_time": "2021-12-12T16:08:40.102Z"
   },
   {
    "duration": 360,
    "start_time": "2021-12-12T16:09:32.634Z"
   },
   {
    "duration": 4,
    "start_time": "2021-12-12T16:09:38.848Z"
   },
   {
    "duration": 9,
    "start_time": "2021-12-12T16:09:43.521Z"
   },
   {
    "duration": 14,
    "start_time": "2021-12-12T16:12:16.830Z"
   },
   {
    "duration": 9,
    "start_time": "2021-12-12T16:12:51.561Z"
   },
   {
    "duration": 16,
    "start_time": "2021-12-12T16:13:56.679Z"
   },
   {
    "duration": 284,
    "start_time": "2021-12-12T16:15:23.938Z"
   },
   {
    "duration": 491,
    "start_time": "2021-12-12T16:15:32.319Z"
   },
   {
    "duration": 384,
    "start_time": "2021-12-12T16:17:22.852Z"
   },
   {
    "duration": 368,
    "start_time": "2021-12-12T16:17:24.520Z"
   },
   {
    "duration": 379,
    "start_time": "2021-12-12T16:19:25.629Z"
   },
   {
    "duration": 348,
    "start_time": "2021-12-12T16:19:43.538Z"
   },
   {
    "duration": 395,
    "start_time": "2021-12-12T16:21:34.021Z"
   },
   {
    "duration": 449,
    "start_time": "2021-12-12T16:21:44.615Z"
   },
   {
    "duration": 379,
    "start_time": "2021-12-12T16:21:55.871Z"
   },
   {
    "duration": 314,
    "start_time": "2021-12-12T16:22:03.137Z"
   },
   {
    "duration": 367,
    "start_time": "2021-12-12T16:22:12.980Z"
   },
   {
    "duration": 300,
    "start_time": "2021-12-12T16:23:29.109Z"
   },
   {
    "duration": 658,
    "start_time": "2021-12-12T16:23:36.451Z"
   },
   {
    "duration": 446,
    "start_time": "2021-12-12T16:23:50.214Z"
   },
   {
    "duration": 482,
    "start_time": "2021-12-12T16:24:00.165Z"
   },
   {
    "duration": 430,
    "start_time": "2021-12-12T16:26:27.309Z"
   },
   {
    "duration": 426,
    "start_time": "2021-12-12T16:26:45.697Z"
   },
   {
    "duration": 429,
    "start_time": "2021-12-12T16:28:52.728Z"
   },
   {
    "duration": 501,
    "start_time": "2021-12-12T16:29:04.953Z"
   },
   {
    "duration": 14,
    "start_time": "2021-12-12T16:37:01.182Z"
   },
   {
    "duration": 16,
    "start_time": "2021-12-12T16:37:18.205Z"
   },
   {
    "duration": 14,
    "start_time": "2021-12-12T16:37:43.598Z"
   },
   {
    "duration": 415,
    "start_time": "2021-12-12T16:38:22.093Z"
   },
   {
    "duration": 375,
    "start_time": "2021-12-12T16:38:47.880Z"
   },
   {
    "duration": 413,
    "start_time": "2021-12-12T16:39:13.820Z"
   },
   {
    "duration": 521,
    "start_time": "2021-12-12T16:47:22.130Z"
   },
   {
    "duration": 305,
    "start_time": "2021-12-12T16:59:58.078Z"
   },
   {
    "duration": 435,
    "start_time": "2021-12-12T17:00:05.203Z"
   },
   {
    "duration": 13,
    "start_time": "2021-12-12T17:00:11.247Z"
   },
   {
    "duration": 15,
    "start_time": "2021-12-12T17:00:39.903Z"
   },
   {
    "duration": 15,
    "start_time": "2021-12-12T17:03:14.268Z"
   },
   {
    "duration": 14,
    "start_time": "2021-12-12T17:03:18.074Z"
   },
   {
    "duration": 12,
    "start_time": "2021-12-12T17:03:22.533Z"
   },
   {
    "duration": 15,
    "start_time": "2021-12-12T17:03:49.550Z"
   },
   {
    "duration": 12,
    "start_time": "2021-12-12T17:04:25.969Z"
   },
   {
    "duration": 13,
    "start_time": "2021-12-12T17:06:43.128Z"
   },
   {
    "duration": 13,
    "start_time": "2021-12-12T17:07:19.093Z"
   },
   {
    "duration": 1626,
    "start_time": "2021-12-12T17:15:52.303Z"
   },
   {
    "duration": 339,
    "start_time": "2021-12-12T17:15:53.933Z"
   },
   {
    "duration": 60,
    "start_time": "2021-12-12T17:15:54.276Z"
   },
   {
    "duration": 205,
    "start_time": "2021-12-12T17:15:54.339Z"
   },
   {
    "duration": 22,
    "start_time": "2021-12-12T17:15:54.547Z"
   },
   {
    "duration": 54,
    "start_time": "2021-12-12T17:15:54.571Z"
   },
   {
    "duration": 133,
    "start_time": "2021-12-12T17:15:54.629Z"
   },
   {
    "duration": 22,
    "start_time": "2021-12-12T17:15:54.767Z"
   },
   {
    "duration": 53,
    "start_time": "2021-12-12T17:15:54.793Z"
   },
   {
    "duration": 19,
    "start_time": "2021-12-12T17:15:54.849Z"
   },
   {
    "duration": 70,
    "start_time": "2021-12-12T17:15:54.871Z"
   },
   {
    "duration": 13,
    "start_time": "2021-12-12T17:15:54.945Z"
   },
   {
    "duration": 28,
    "start_time": "2021-12-12T17:15:54.961Z"
   },
   {
    "duration": 127,
    "start_time": "2021-12-12T17:15:54.991Z"
   },
   {
    "duration": 67,
    "start_time": "2021-12-12T17:15:55.120Z"
   },
   {
    "duration": 62,
    "start_time": "2021-12-12T17:15:55.189Z"
   },
   {
    "duration": 77,
    "start_time": "2021-12-12T17:15:55.253Z"
   },
   {
    "duration": 51,
    "start_time": "2021-12-12T17:15:55.333Z"
   },
   {
    "duration": 72,
    "start_time": "2021-12-12T17:15:55.386Z"
   },
   {
    "duration": 176,
    "start_time": "2021-12-12T17:15:55.461Z"
   },
   {
    "duration": 170,
    "start_time": "2021-12-12T17:15:55.639Z"
   },
   {
    "duration": 44,
    "start_time": "2021-12-12T17:15:55.814Z"
   },
   {
    "duration": 248,
    "start_time": "2021-12-12T17:15:55.861Z"
   },
   {
    "duration": 23,
    "start_time": "2021-12-12T17:15:56.111Z"
   },
   {
    "duration": 20,
    "start_time": "2021-12-12T17:15:56.137Z"
   },
   {
    "duration": 63,
    "start_time": "2021-12-12T17:15:56.160Z"
   },
   {
    "duration": 607,
    "start_time": "2021-12-12T17:15:56.227Z"
   },
   {
    "duration": 445,
    "start_time": "2021-12-12T17:15:56.836Z"
   },
   {
    "duration": 634,
    "start_time": "2021-12-12T17:15:57.284Z"
   },
   {
    "duration": 20,
    "start_time": "2021-12-12T17:15:57.925Z"
   },
   {
    "duration": 16,
    "start_time": "2021-12-12T17:15:57.947Z"
   },
   {
    "duration": 59,
    "start_time": "2021-12-12T17:15:57.966Z"
   },
   {
    "duration": 445,
    "start_time": "2021-12-12T17:15:58.027Z"
   },
   {
    "duration": 385,
    "start_time": "2021-12-12T17:15:58.474Z"
   },
   {
    "duration": 758,
    "start_time": "2021-12-12T17:15:58.861Z"
   },
   {
    "duration": 16,
    "start_time": "2021-12-12T17:15:59.623Z"
   },
   {
    "duration": 13,
    "start_time": "2021-12-12T17:15:59.642Z"
   },
   {
    "duration": 53,
    "start_time": "2021-12-12T17:22:25.518Z"
   },
   {
    "duration": 1296,
    "start_time": "2021-12-13T13:08:37.446Z"
   },
   {
    "duration": 256,
    "start_time": "2021-12-13T13:08:38.744Z"
   },
   {
    "duration": 56,
    "start_time": "2021-12-13T13:08:39.004Z"
   },
   {
    "duration": 256,
    "start_time": "2021-12-13T13:08:39.064Z"
   },
   {
    "duration": 42,
    "start_time": "2021-12-13T13:08:39.322Z"
   },
   {
    "duration": 23,
    "start_time": "2021-12-13T13:08:39.366Z"
   },
   {
    "duration": 149,
    "start_time": "2021-12-13T13:08:39.392Z"
   },
   {
    "duration": 27,
    "start_time": "2021-12-13T13:08:39.545Z"
   },
   {
    "duration": 30,
    "start_time": "2021-12-13T13:08:39.575Z"
   },
   {
    "duration": 9,
    "start_time": "2021-12-13T13:08:39.609Z"
   },
   {
    "duration": 63,
    "start_time": "2021-12-13T13:08:39.621Z"
   },
   {
    "duration": 10,
    "start_time": "2021-12-13T13:08:39.687Z"
   },
   {
    "duration": 9,
    "start_time": "2021-12-13T13:08:39.700Z"
   },
   {
    "duration": 136,
    "start_time": "2021-12-13T13:08:39.712Z"
   },
   {
    "duration": 84,
    "start_time": "2021-12-13T13:08:39.851Z"
   },
   {
    "duration": 61,
    "start_time": "2021-12-13T13:08:39.938Z"
   },
   {
    "duration": 77,
    "start_time": "2021-12-13T13:08:40.001Z"
   },
   {
    "duration": 53,
    "start_time": "2021-12-13T13:08:40.081Z"
   },
   {
    "duration": 78,
    "start_time": "2021-12-13T13:08:40.137Z"
   },
   {
    "duration": 164,
    "start_time": "2021-12-13T13:08:40.217Z"
   },
   {
    "duration": 165,
    "start_time": "2021-12-13T13:08:40.384Z"
   },
   {
    "duration": 38,
    "start_time": "2021-12-13T13:08:40.552Z"
   },
   {
    "duration": 261,
    "start_time": "2021-12-13T13:08:40.594Z"
   },
   {
    "duration": 21,
    "start_time": "2021-12-13T13:08:40.861Z"
   },
   {
    "duration": 14,
    "start_time": "2021-12-13T13:08:40.884Z"
   },
   {
    "duration": 13,
    "start_time": "2021-12-13T13:08:40.901Z"
   },
   {
    "duration": 694,
    "start_time": "2021-12-13T13:08:40.917Z"
   },
   {
    "duration": 446,
    "start_time": "2021-12-13T13:08:41.613Z"
   },
   {
    "duration": 429,
    "start_time": "2021-12-13T13:08:42.063Z"
   },
   {
    "duration": 18,
    "start_time": "2021-12-13T13:08:42.495Z"
   },
   {
    "duration": 47,
    "start_time": "2021-12-13T13:08:42.516Z"
   },
   {
    "duration": 16,
    "start_time": "2021-12-13T13:08:42.567Z"
   },
   {
    "duration": 601,
    "start_time": "2021-12-13T13:08:42.585Z"
   },
   {
    "duration": 625,
    "start_time": "2021-12-13T13:08:43.189Z"
   },
   {
    "duration": 724,
    "start_time": "2021-12-13T13:08:43.817Z"
   },
   {
    "duration": 23,
    "start_time": "2021-12-13T13:08:44.544Z"
   },
   {
    "duration": 12,
    "start_time": "2021-12-13T13:08:44.569Z"
   },
   {
    "duration": 19,
    "start_time": "2021-12-13T13:13:14.110Z"
   },
   {
    "duration": 18,
    "start_time": "2021-12-13T13:13:20.902Z"
   },
   {
    "duration": 19,
    "start_time": "2021-12-13T13:13:29.877Z"
   },
   {
    "duration": 20,
    "start_time": "2021-12-13T13:13:38.419Z"
   },
   {
    "duration": 29,
    "start_time": "2021-12-13T13:13:46.232Z"
   },
   {
    "duration": 55,
    "start_time": "2021-12-13T13:14:22.328Z"
   },
   {
    "duration": 21,
    "start_time": "2021-12-13T13:15:03.120Z"
   },
   {
    "duration": 1218,
    "start_time": "2021-12-14T09:43:35.356Z"
   },
   {
    "duration": 245,
    "start_time": "2021-12-14T09:43:36.577Z"
   },
   {
    "duration": 43,
    "start_time": "2021-12-14T09:43:36.824Z"
   },
   {
    "duration": 202,
    "start_time": "2021-12-14T09:43:36.870Z"
   },
   {
    "duration": 20,
    "start_time": "2021-12-14T09:43:37.074Z"
   },
   {
    "duration": 18,
    "start_time": "2021-12-14T09:43:37.096Z"
   },
   {
    "duration": 125,
    "start_time": "2021-12-14T09:43:37.116Z"
   },
   {
    "duration": 25,
    "start_time": "2021-12-14T09:43:37.245Z"
   },
   {
    "duration": 22,
    "start_time": "2021-12-14T09:43:37.272Z"
   },
   {
    "duration": 8,
    "start_time": "2021-12-14T09:43:37.296Z"
   },
   {
    "duration": 48,
    "start_time": "2021-12-14T09:43:37.306Z"
   },
   {
    "duration": 6,
    "start_time": "2021-12-14T09:43:37.356Z"
   },
   {
    "duration": 7,
    "start_time": "2021-12-14T09:43:37.364Z"
   },
   {
    "duration": 73,
    "start_time": "2021-12-14T09:43:37.373Z"
   },
   {
    "duration": 56,
    "start_time": "2021-12-14T09:43:37.448Z"
   },
   {
    "duration": 212,
    "start_time": "2021-12-14T09:43:37.506Z"
   },
   {
    "duration": 31,
    "start_time": "2021-12-14T09:43:37.720Z"
   },
   {
    "duration": 36,
    "start_time": "2021-12-14T09:43:37.764Z"
   },
   {
    "duration": 35,
    "start_time": "2021-12-14T09:43:37.802Z"
   },
   {
    "duration": 57,
    "start_time": "2021-12-14T09:43:37.839Z"
   },
   {
    "duration": 142,
    "start_time": "2021-12-14T09:43:37.898Z"
   },
   {
    "duration": 44,
    "start_time": "2021-12-14T09:43:38.042Z"
   },
   {
    "duration": 261,
    "start_time": "2021-12-14T09:43:38.091Z"
   },
   {
    "duration": 17,
    "start_time": "2021-12-14T09:43:38.355Z"
   },
   {
    "duration": 11,
    "start_time": "2021-12-14T09:43:38.373Z"
   },
   {
    "duration": 17,
    "start_time": "2021-12-14T09:43:38.385Z"
   },
   {
    "duration": 359,
    "start_time": "2021-12-14T09:43:38.404Z"
   },
   {
    "duration": 250,
    "start_time": "2021-12-14T09:43:38.764Z"
   },
   {
    "duration": 250,
    "start_time": "2021-12-14T09:43:39.016Z"
   },
   {
    "duration": 12,
    "start_time": "2021-12-14T09:43:39.268Z"
   },
   {
    "duration": 11,
    "start_time": "2021-12-14T09:43:39.281Z"
   },
   {
    "duration": 11,
    "start_time": "2021-12-14T09:43:39.294Z"
   },
   {
    "duration": 290,
    "start_time": "2021-12-14T09:43:39.307Z"
   },
   {
    "duration": 236,
    "start_time": "2021-12-14T09:43:39.599Z"
   },
   {
    "duration": 276,
    "start_time": "2021-12-14T09:43:39.837Z"
   },
   {
    "duration": 9,
    "start_time": "2021-12-14T09:43:40.115Z"
   },
   {
    "duration": 9,
    "start_time": "2021-12-14T09:43:40.125Z"
   },
   {
    "duration": 53,
    "start_time": "2021-12-14T09:46:08.478Z"
   },
   {
    "duration": 56,
    "start_time": "2021-12-14T09:46:30.195Z"
   },
   {
    "duration": 909,
    "start_time": "2021-12-14T10:00:27.995Z"
   },
   {
    "duration": 179,
    "start_time": "2021-12-14T10:00:28.906Z"
   },
   {
    "duration": 21,
    "start_time": "2021-12-14T10:00:29.090Z"
   },
   {
    "duration": 163,
    "start_time": "2021-12-14T10:00:29.113Z"
   },
   {
    "duration": 18,
    "start_time": "2021-12-14T10:00:29.278Z"
   },
   {
    "duration": 16,
    "start_time": "2021-12-14T10:00:29.297Z"
   },
   {
    "duration": 124,
    "start_time": "2021-12-14T10:00:29.316Z"
   },
   {
    "duration": 23,
    "start_time": "2021-12-14T10:00:29.442Z"
   },
   {
    "duration": 22,
    "start_time": "2021-12-14T10:00:29.467Z"
   },
   {
    "duration": 9,
    "start_time": "2021-12-14T10:00:29.491Z"
   },
   {
    "duration": 47,
    "start_time": "2021-12-14T10:00:29.501Z"
   },
   {
    "duration": 13,
    "start_time": "2021-12-14T10:00:29.550Z"
   },
   {
    "duration": 8,
    "start_time": "2021-12-14T10:00:29.565Z"
   },
   {
    "duration": 89,
    "start_time": "2021-12-14T10:00:29.576Z"
   },
   {
    "duration": 70,
    "start_time": "2021-12-14T10:00:29.667Z"
   },
   {
    "duration": 417,
    "start_time": "2021-12-14T10:00:29.739Z"
   },
   {
    "duration": 49,
    "start_time": "2021-12-14T10:00:30.159Z"
   },
   {
    "duration": 74,
    "start_time": "2021-12-14T10:00:30.210Z"
   },
   {
    "duration": 55,
    "start_time": "2021-12-14T10:00:30.287Z"
   },
   {
    "duration": 75,
    "start_time": "2021-12-14T10:00:30.345Z"
   },
   {
    "duration": 174,
    "start_time": "2021-12-14T10:00:30.422Z"
   },
   {
    "duration": 44,
    "start_time": "2021-12-14T10:00:30.601Z"
   },
   {
    "duration": 18,
    "start_time": "2021-12-14T10:00:30.648Z"
   },
   {
    "duration": 136,
    "start_time": "2021-12-14T10:00:30.669Z"
   },
   {
    "duration": -37,
    "start_time": "2021-12-14T10:00:30.843Z"
   },
   {
    "duration": -39,
    "start_time": "2021-12-14T10:00:30.847Z"
   },
   {
    "duration": -42,
    "start_time": "2021-12-14T10:00:30.851Z"
   },
   {
    "duration": -44,
    "start_time": "2021-12-14T10:00:30.854Z"
   },
   {
    "duration": -45,
    "start_time": "2021-12-14T10:00:30.856Z"
   },
   {
    "duration": -46,
    "start_time": "2021-12-14T10:00:30.858Z"
   },
   {
    "duration": -47,
    "start_time": "2021-12-14T10:00:30.860Z"
   },
   {
    "duration": -63,
    "start_time": "2021-12-14T10:00:30.877Z"
   },
   {
    "duration": -65,
    "start_time": "2021-12-14T10:00:30.880Z"
   },
   {
    "duration": -66,
    "start_time": "2021-12-14T10:00:30.882Z"
   },
   {
    "duration": -67,
    "start_time": "2021-12-14T10:00:30.884Z"
   },
   {
    "duration": -68,
    "start_time": "2021-12-14T10:00:30.886Z"
   },
   {
    "duration": -69,
    "start_time": "2021-12-14T10:00:30.888Z"
   },
   {
    "duration": -70,
    "start_time": "2021-12-14T10:00:30.890Z"
   },
   {
    "duration": 647,
    "start_time": "2021-12-14T10:01:57.910Z"
   },
   {
    "duration": 262,
    "start_time": "2021-12-14T10:02:17.776Z"
   },
   {
    "duration": 928,
    "start_time": "2021-12-14T10:02:38.764Z"
   },
   {
    "duration": 245,
    "start_time": "2021-12-14T10:02:39.695Z"
   },
   {
    "duration": 40,
    "start_time": "2021-12-14T10:02:39.943Z"
   },
   {
    "duration": 161,
    "start_time": "2021-12-14T10:02:39.985Z"
   },
   {
    "duration": 35,
    "start_time": "2021-12-14T10:02:40.148Z"
   },
   {
    "duration": 22,
    "start_time": "2021-12-14T10:02:40.185Z"
   },
   {
    "duration": 109,
    "start_time": "2021-12-14T10:02:40.209Z"
   },
   {
    "duration": 14,
    "start_time": "2021-12-14T10:02:40.321Z"
   },
   {
    "duration": 32,
    "start_time": "2021-12-14T10:02:40.337Z"
   },
   {
    "duration": 6,
    "start_time": "2021-12-14T10:02:40.371Z"
   },
   {
    "duration": 59,
    "start_time": "2021-12-14T10:02:40.379Z"
   },
   {
    "duration": 9,
    "start_time": "2021-12-14T10:02:40.441Z"
   },
   {
    "duration": 12,
    "start_time": "2021-12-14T10:02:40.452Z"
   },
   {
    "duration": 73,
    "start_time": "2021-12-14T10:02:40.466Z"
   },
   {
    "duration": 72,
    "start_time": "2021-12-14T10:02:40.541Z"
   },
   {
    "duration": 335,
    "start_time": "2021-12-14T10:02:40.615Z"
   },
   {
    "duration": 51,
    "start_time": "2021-12-14T10:02:40.953Z"
   },
   {
    "duration": 57,
    "start_time": "2021-12-14T10:02:41.007Z"
   },
   {
    "duration": 46,
    "start_time": "2021-12-14T10:02:41.067Z"
   },
   {
    "duration": 69,
    "start_time": "2021-12-14T10:02:41.116Z"
   },
   {
    "duration": 102,
    "start_time": "2021-12-14T10:02:41.188Z"
   },
   {
    "duration": 28,
    "start_time": "2021-12-14T10:02:41.292Z"
   },
   {
    "duration": 203,
    "start_time": "2021-12-14T10:02:41.323Z"
   },
   {
    "duration": 99,
    "start_time": "2021-12-14T10:02:41.528Z"
   },
   {
    "duration": -36,
    "start_time": "2021-12-14T10:02:41.665Z"
   },
   {
    "duration": -39,
    "start_time": "2021-12-14T10:02:41.669Z"
   },
   {
    "duration": -39,
    "start_time": "2021-12-14T10:02:41.671Z"
   },
   {
    "duration": -39,
    "start_time": "2021-12-14T10:02:41.673Z"
   },
   {
    "duration": -40,
    "start_time": "2021-12-14T10:02:41.675Z"
   },
   {
    "duration": -39,
    "start_time": "2021-12-14T10:02:41.676Z"
   },
   {
    "duration": -40,
    "start_time": "2021-12-14T10:02:41.678Z"
   },
   {
    "duration": -41,
    "start_time": "2021-12-14T10:02:41.681Z"
   },
   {
    "duration": -43,
    "start_time": "2021-12-14T10:02:41.684Z"
   },
   {
    "duration": -44,
    "start_time": "2021-12-14T10:02:41.687Z"
   },
   {
    "duration": -53,
    "start_time": "2021-12-14T10:02:41.698Z"
   },
   {
    "duration": -54,
    "start_time": "2021-12-14T10:02:41.700Z"
   },
   {
    "duration": -55,
    "start_time": "2021-12-14T10:02:41.702Z"
   },
   {
    "duration": -56,
    "start_time": "2021-12-14T10:02:41.704Z"
   },
   {
    "duration": 309,
    "start_time": "2021-12-14T10:03:24.977Z"
   },
   {
    "duration": 241,
    "start_time": "2021-12-14T10:03:26.885Z"
   },
   {
    "duration": 9,
    "start_time": "2021-12-14T10:03:32.535Z"
   },
   {
    "duration": 10,
    "start_time": "2021-12-14T10:03:33.033Z"
   },
   {
    "duration": 11,
    "start_time": "2021-12-14T10:03:33.625Z"
   },
   {
    "duration": 251,
    "start_time": "2021-12-14T10:03:52.857Z"
   },
   {
    "duration": 223,
    "start_time": "2021-12-14T10:03:54.342Z"
   },
   {
    "duration": 438,
    "start_time": "2021-12-14T10:03:56.325Z"
   },
   {
    "duration": 507,
    "start_time": "2021-12-14T10:05:54.948Z"
   },
   {
    "duration": 78,
    "start_time": "2021-12-14T10:16:53.803Z"
   },
   {
    "duration": 456,
    "start_time": "2021-12-14T10:17:12.343Z"
   },
   {
    "duration": 338,
    "start_time": "2021-12-14T10:17:19.304Z"
   },
   {
    "duration": 485,
    "start_time": "2021-12-14T10:18:48.019Z"
   },
   {
    "duration": 461,
    "start_time": "2021-12-14T10:19:09.309Z"
   },
   {
    "duration": 610,
    "start_time": "2021-12-14T10:19:27.030Z"
   },
   {
    "duration": 417,
    "start_time": "2021-12-14T10:20:39.467Z"
   },
   {
    "duration": 84,
    "start_time": "2021-12-14T10:38:40.910Z"
   },
   {
    "duration": 88,
    "start_time": "2021-12-14T10:58:15.749Z"
   },
   {
    "duration": 334,
    "start_time": "2021-12-15T07:53:58.760Z"
   },
   {
    "duration": 1214,
    "start_time": "2021-12-15T07:54:06.908Z"
   },
   {
    "duration": 260,
    "start_time": "2021-12-15T07:54:08.124Z"
   },
   {
    "duration": 30,
    "start_time": "2021-12-15T07:54:08.388Z"
   },
   {
    "duration": 234,
    "start_time": "2021-12-15T07:54:08.421Z"
   },
   {
    "duration": 40,
    "start_time": "2021-12-15T07:54:08.657Z"
   },
   {
    "duration": 23,
    "start_time": "2021-12-15T07:54:08.699Z"
   },
   {
    "duration": 170,
    "start_time": "2021-12-15T07:54:08.725Z"
   },
   {
    "duration": 19,
    "start_time": "2021-12-15T07:54:08.899Z"
   },
   {
    "duration": 24,
    "start_time": "2021-12-15T07:54:08.921Z"
   },
   {
    "duration": 33,
    "start_time": "2021-12-15T07:54:08.948Z"
   },
   {
    "duration": 53,
    "start_time": "2021-12-15T07:54:08.984Z"
   },
   {
    "duration": 9,
    "start_time": "2021-12-15T07:54:09.039Z"
   },
   {
    "duration": 23,
    "start_time": "2021-12-15T07:54:09.050Z"
   },
   {
    "duration": 121,
    "start_time": "2021-12-15T07:54:09.075Z"
   },
   {
    "duration": 83,
    "start_time": "2021-12-15T07:54:09.198Z"
   },
   {
    "duration": 435,
    "start_time": "2021-12-15T07:54:09.284Z"
   },
   {
    "duration": 54,
    "start_time": "2021-12-15T07:54:09.721Z"
   },
   {
    "duration": 54,
    "start_time": "2021-12-15T07:54:09.777Z"
   },
   {
    "duration": 77,
    "start_time": "2021-12-15T07:54:09.834Z"
   },
   {
    "duration": 70,
    "start_time": "2021-12-15T07:54:09.913Z"
   },
   {
    "duration": 182,
    "start_time": "2021-12-15T07:54:09.986Z"
   },
   {
    "duration": 46,
    "start_time": "2021-12-15T07:54:10.171Z"
   },
   {
    "duration": 309,
    "start_time": "2021-12-15T07:54:10.222Z"
   },
   {
    "duration": 89,
    "start_time": "2021-12-15T07:54:10.534Z"
   },
   {
    "duration": -72,
    "start_time": "2021-12-15T07:54:10.698Z"
   },
   {
    "duration": -71,
    "start_time": "2021-12-15T07:54:10.700Z"
   },
   {
    "duration": -71,
    "start_time": "2021-12-15T07:54:10.702Z"
   },
   {
    "duration": -71,
    "start_time": "2021-12-15T07:54:10.704Z"
   },
   {
    "duration": -71,
    "start_time": "2021-12-15T07:54:10.707Z"
   },
   {
    "duration": -70,
    "start_time": "2021-12-15T07:54:10.708Z"
   },
   {
    "duration": -71,
    "start_time": "2021-12-15T07:54:10.711Z"
   },
   {
    "duration": -72,
    "start_time": "2021-12-15T07:54:10.714Z"
   },
   {
    "duration": -74,
    "start_time": "2021-12-15T07:54:10.718Z"
   },
   {
    "duration": -75,
    "start_time": "2021-12-15T07:54:10.721Z"
   },
   {
    "duration": -76,
    "start_time": "2021-12-15T07:54:10.724Z"
   },
   {
    "duration": -77,
    "start_time": "2021-12-15T07:54:10.727Z"
   },
   {
    "duration": -77,
    "start_time": "2021-12-15T07:54:10.729Z"
   },
   {
    "duration": -77,
    "start_time": "2021-12-15T07:54:10.731Z"
   },
   {
    "duration": -78,
    "start_time": "2021-12-15T07:54:10.734Z"
   },
   {
    "duration": -78,
    "start_time": "2021-12-15T07:54:10.736Z"
   },
   {
    "duration": -78,
    "start_time": "2021-12-15T07:54:10.738Z"
   },
   {
    "duration": 131,
    "start_time": "2021-12-15T15:57:33.242Z"
   }
  ],
  "kernelspec": {
   "display_name": "Python 3 (ipykernel)",
   "language": "python",
   "name": "python3"
  },
  "language_info": {
   "codemirror_mode": {
    "name": "ipython",
    "version": 3
   },
   "file_extension": ".py",
   "mimetype": "text/x-python",
   "name": "python",
   "nbconvert_exporter": "python",
   "pygments_lexer": "ipython3",
   "version": "3.9.5"
  },
  "toc": {
   "base_numbering": 1,
   "nav_menu": {},
   "number_sections": true,
   "sideBar": true,
   "skip_h1_title": true,
   "title_cell": "Table of Contents",
   "title_sidebar": "Contents",
   "toc_cell": false,
   "toc_position": {
    "height": "calc(100% - 180px)",
    "left": "10px",
    "top": "150px",
    "width": "316.797px"
   },
   "toc_section_display": true,
   "toc_window_display": true
  }
 },
 "nbformat": 4,
 "nbformat_minor": 2
}
